{
 "cells": [
  {
   "cell_type": "markdown",
   "metadata": {},
   "source": [
    "# Lesson 1\n",
    "\n",
    "* Lisp datatypes\n",
    "* Lisp function concepts\n",
    "* Arithmetic and list-access functions\n",
    "* Defining basic lisp functions"
   ]
  },
  {
   "cell_type": "markdown",
   "metadata": {},
   "source": [
    "## Datatypes\n",
    "\n",
    "The original lisp datatypes were atoms and lists. Atoms consist of symbolic atoms and numbers."
   ]
  },
  {
   "cell_type": "markdown",
   "metadata": {},
   "source": [
    "### Atoms\n",
    "\n",
    "Atoms are elementary lisp expressions. All atoms have a name and os are viewed as similar to words in a language. They are separated form other expressions by blanks, parenthesis or line feeds.\n",
    "\n",
    "Examples of atoms are:\n",
    "\n",
    "BREAD\n",
    "jenny\n",
    "12ab\n",
    "5\n",
    "0.3\n",
    "x?\n",
    "!y"
   ]
  },
  {
   "cell_type": "code",
   "execution_count": null,
   "metadata": {},
   "outputs": [],
   "source": []
  }
 ],
 "metadata": {
  "@webio": {
   "lastCommId": null,
   "lastKernelId": null
  },
  "kernelspec": {
   "display_name": "Common Lisp",
   "language": "common-lisp",
   "name": "common-lisp"
  },
  "language_info": {
   "codemirror_mode": "text/x-common-lisp",
   "file_extension": ".lisp",
   "mimetype": "text/x-common-lisp",
   "name": "common-lisp",
   "pygments_lexer": "common-lisp",
   "version": "1.4.5.debian"
  }
 },
 "nbformat": 4,
 "nbformat_minor": 2
}
