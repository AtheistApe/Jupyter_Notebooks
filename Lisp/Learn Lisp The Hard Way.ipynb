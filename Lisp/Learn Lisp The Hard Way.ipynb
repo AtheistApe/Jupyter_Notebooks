{
 "cells": [
  {
   "cell_type": "markdown",
   "metadata": {},
   "source": [
    "# Grokking Lisp"
   ]
  },
  {
   "cell_type": "markdown",
   "metadata": {},
   "source": [
    "## Common Lisp Bootcamp"
   ]
  },
  {
   "cell_type": "markdown",
   "metadata": {
    "heading_collapsed": true
   },
   "source": [
    "### Syntax Overview\n",
    "\n",
    "Everything in Lisp is an object--and all objects are represented by S-Expressions. All objects in Lisp have a return value when evaluated.\n",
    "\n",
    "An S-Expression is either an atom or a list.\n",
    "\n",
    "In Lisp, lists of one or more elements are implemented as Cons-Cells. Atoms are any object which is not a cons."
   ]
  },
  {
   "cell_type": "markdown",
   "metadata": {
    "heading_collapsed": true,
    "hidden": true
   },
   "source": [
    "#### Examples of atoms"
   ]
  },
  {
   "cell_type": "code",
   "execution_count": 1,
   "metadata": {
    "hidden": true
   },
   "outputs": [
    {
     "data": {
      "text/plain": [
       "94"
      ]
     },
     "execution_count": 1,
     "metadata": {},
     "output_type": "execute_result"
    }
   ],
   "source": [
    "94 ; Numbers"
   ]
  },
  {
   "cell_type": "code",
   "execution_count": 2,
   "metadata": {
    "hidden": true
   },
   "outputs": [
    {
     "data": {
      "text/plain": [
       "A-QUOTED-SYMBOL"
      ]
     },
     "execution_count": 2,
     "metadata": {},
     "output_type": "execute_result"
    }
   ],
   "source": [
    "#||\n",
    "Quoted symbols. The quote symbol ' suppresses evaluation of\n",
    "the quoted symbol; It switches an expression from code to\n",
    "data. The quote symbol ' is a short form for a full quote\n",
    "expression.\n",
    "||#\n",
    "\n",
    "'a-quoted-symbol"
   ]
  },
  {
   "cell_type": "code",
   "execution_count": 3,
   "metadata": {
    "hidden": true
   },
   "outputs": [
    {
     "data": {
      "text/plain": [
       "#\\GREEK_SMALL_LETTER_LAMDA"
      ]
     },
     "execution_count": 3,
     "metadata": {},
     "output_type": "execute_result"
    }
   ],
   "source": [
    "#\\greek_small_letter_lamda ; Character literals"
   ]
  },
  {
   "cell_type": "code",
   "execution_count": 4,
   "metadata": {
    "hidden": true
   },
   "outputs": [
    {
     "data": {
      "text/plain": [
       "\"This is a string\""
      ]
     },
     "execution_count": 4,
     "metadata": {},
     "output_type": "execute_result"
    }
   ],
   "source": [
    "\"This is a string\" ; Strings"
   ]
  },
  {
   "cell_type": "code",
   "execution_count": 5,
   "metadata": {
    "hidden": true
   },
   "outputs": [
    {
     "data": {
      "text/plain": [
       "NIL"
      ]
     },
     "execution_count": 5,
     "metadata": {},
     "output_type": "execute_result"
    }
   ],
   "source": [
    "nil ; The empty list -- logical falsity"
   ]
  },
  {
   "cell_type": "code",
   "execution_count": 6,
   "metadata": {
    "hidden": true
   },
   "outputs": [
    {
     "data": {
      "text/plain": [
       "NIL"
      ]
     },
     "execution_count": 6,
     "metadata": {},
     "output_type": "execute_result"
    }
   ],
   "source": [
    "'() ; The empty list -- logical falsity"
   ]
  },
  {
   "cell_type": "code",
   "execution_count": 7,
   "metadata": {
    "hidden": true
   },
   "outputs": [
    {
     "data": {
      "text/plain": [
       "NIL"
      ]
     },
     "execution_count": 7,
     "metadata": {},
     "output_type": "execute_result"
    }
   ],
   "source": [
    "() ; The empty list -- logical falsity"
   ]
  },
  {
   "cell_type": "code",
   "execution_count": 8,
   "metadata": {
    "hidden": true
   },
   "outputs": [
    {
     "data": {
      "text/plain": [
       "T"
      ]
     },
     "execution_count": 8,
     "metadata": {},
     "output_type": "execute_result"
    }
   ],
   "source": [
    "t ; logical truth -- ANYTHING other than nil is truthy"
   ]
  },
  {
   "cell_type": "code",
   "execution_count": 11,
   "metadata": {
    "hidden": true
   },
   "outputs": [
    {
     "data": {
      "text/plain": [
       "(THIS IS A LIST OF SYMBOLS)"
      ]
     },
     "execution_count": 11,
     "metadata": {},
     "output_type": "execute_result"
    }
   ],
   "source": [
    "'(this is a list of symbols)"
   ]
  },
  {
   "cell_type": "code",
   "execution_count": 12,
   "metadata": {
    "hidden": true,
    "run_control": {
     "marked": false
    }
   },
   "outputs": [
    {
     "data": {
      "text/plain": [
       "(THIS IS ANOTHER LIST OF SYMBOLS)"
      ]
     },
     "execution_count": 12,
     "metadata": {},
     "output_type": "execute_result"
    }
   ],
   "source": [
    ";; Long quote form. This could be also written as:\n",
    ";; '(this is another list of symbols)\n",
    "\n",
    "(quote (this is another list of symbols))"
   ]
  },
  {
   "cell_type": "code",
   "execution_count": 13,
   "metadata": {
    "hidden": true
   },
   "outputs": [
    {
     "data": {
      "text/plain": [
       "ANOTHER-QUOTED-SYMBOL"
      ]
     },
     "execution_count": 13,
     "metadata": {},
     "output_type": "execute_result"
    }
   ],
   "source": [
    "'another-quoted-symbol"
   ]
  },
  {
   "cell_type": "markdown",
   "metadata": {
    "heading_collapsed": true,
    "hidden": true
   },
   "source": [
    "#### Lists\n",
    "\n",
    "Lists in lisp are enclosed in parenthesis (, ). Each nested object inside a list is a full S-Expression. Non quoted lists are treated as code by Lisp when evaluated; These are called \"list forms.\"\n",
    "\n",
    "Notice that:\n",
    "\n",
    "* A form starts off with a function, macro or special operator, typically represented by a symbol.\n",
    "\n",
    "* The rest of the form is made up of parameters passed to that function, macro or special operator.\n",
    "\n",
    "* You can have other forms as parameters, and the innermost seem to get evaluated first; their *results* are then used as parameters to the form the next level up the hierarchy. This syntax is called \"Polish prefix notation\"---the operator comes first."
   ]
  },
  {
   "cell_type": "code",
   "execution_count": 14,
   "metadata": {
    "hidden": true
   },
   "outputs": [
    {
     "data": {
      "text/plain": [
       "90"
      ]
     },
     "execution_count": 14,
     "metadata": {},
     "output_type": "execute_result"
    }
   ],
   "source": [
    "(+ 10 20 (* 30 2))"
   ]
  },
  {
   "cell_type": "code",
   "execution_count": 15,
   "metadata": {
    "hidden": true
   },
   "outputs": [
    {
     "name": "stdout",
     "output_type": "stream",
     "text": [
      "Hello, from Lisp!"
     ]
    },
    {
     "data": {
      "text/plain": [
       "\"Hello, from Lisp!\""
      ]
     },
     "execution_count": 15,
     "metadata": {},
     "output_type": "execute_result"
    }
   ],
   "source": [
    "(princ \"Hello, from Lisp!\")"
   ]
  },
  {
   "cell_type": "code",
   "execution_count": 16,
   "metadata": {
    "hidden": true
   },
   "outputs": [
    {
     "name": "stdout",
     "output_type": "stream",
     "text": [
      "This List Will Get Printed In Titlecase "
     ]
    },
    {
     "data": {
      "text/plain": [
       "NIL"
      ]
     },
     "execution_count": 16,
     "metadata": {},
     "output_type": "execute_result"
    }
   ],
   "source": [
    "(loop for item in '(this list will get printed in titlecase) do (format t \"~@(~A~) \" item))"
   ]
  },
  {
   "cell_type": "code",
   "execution_count": 19,
   "metadata": {
    "hidden": true
   },
   "outputs": [
    {
     "name": "stdout",
     "output_type": "stream",
     "text": [
      "14 84 49 259 966 35 651 "
     ]
    },
    {
     "data": {
      "text/plain": [
       "NIL"
      ]
     },
     "execution_count": 19,
     "metadata": {},
     "output_type": "execute_result"
    }
   ],
   "source": [
    "(loop for item in '(2 12 7 37 138 5 93)\n",
    "      do (format t \"~a \" (* item 7)))"
   ]
  },
  {
   "cell_type": "code",
   "execution_count": 20,
   "metadata": {
    "hidden": true
   },
   "outputs": [
    {
     "data": {
      "text/plain": [
       "2"
      ]
     },
     "execution_count": 20,
     "metadata": {},
     "output_type": "execute_result"
    }
   ],
   "source": [
    "(+ 1 1)"
   ]
  },
  {
   "cell_type": "code",
   "execution_count": 21,
   "metadata": {
    "hidden": true
   },
   "outputs": [
    {
     "data": {
      "text/plain": [
       "21"
      ]
     },
     "execution_count": 21,
     "metadata": {},
     "output_type": "execute_result"
    }
   ],
   "source": [
    "(apply #'+ 1 2 3 4 '(5 6))"
   ]
  },
  {
   "cell_type": "markdown",
   "metadata": {},
   "source": [
    "### Expressions, Parenthesis and Return Values\n",
    "\n",
    "If the Lisp implementation can't read what you've entered as a valid S-Expression, you will normally be dropped into the Lisp debugger, the same way that it would if it tried and failed to evaluate. Destructive, in-place operations are by convention named with a prepended \"N\", to make it obvious that they have side-effects."
   ]
  },
  {
   "cell_type": "code",
   "execution_count": 22,
   "metadata": {},
   "outputs": [
    {
     "data": {
      "text/plain": [
       "(1 2 3 D E F)"
      ]
     },
     "execution_count": 22,
     "metadata": {},
     "output_type": "execute_result"
    }
   ],
   "source": [
    ";; first define a couple of variables\n",
    "(defvar *test-list-a* (list 1 2 3))\n",
    "(defvar *test-list-b* (list 'd 'e 'f))\n",
    "\n",
    ";; append returns a new list from its arguments\n",
    "(append *test-list-a* *test-list-b*)"
   ]
  },
  {
   "cell_type": "code",
   "execution_count": 24,
   "metadata": {},
   "outputs": [
    {
     "data": {
      "text/plain": [
       "(1 2 3)"
      ]
     },
     "execution_count": 24,
     "metadata": {},
     "output_type": "execute_result"
    }
   ],
   "source": [
    ";; you can see that the original lists haven't changed\n",
    "*test-list-a*"
   ]
  },
  {
   "cell_type": "code",
   "execution_count": 25,
   "metadata": {},
   "outputs": [
    {
     "data": {
      "text/plain": [
       "(D E F)"
      ]
     },
     "execution_count": 25,
     "metadata": {},
     "output_type": "execute_result"
    }
   ],
   "source": [
    "*test-list-b*"
   ]
  },
  {
   "cell_type": "code",
   "execution_count": 26,
   "metadata": {},
   "outputs": [
    {
     "data": {
      "text/plain": [
       "(1 2 3 D E F)"
      ]
     },
     "execution_count": 26,
     "metadata": {},
     "output_type": "execute_result"
    }
   ],
   "source": [
    "#||\n",
    "now let's do a destructive operation, NCONC (i.e., in-place list concatenation). This will change one of the original lists passed to the NCONC function.\n",
    "||#\n",
    "\n",
    "(nconc *test-list-a* *test-list-b*)"
   ]
  },
  {
   "cell_type": "code",
   "execution_count": 27,
   "metadata": {},
   "outputs": [
    {
     "data": {
      "text/plain": [
       "(1 2 3 D E F)"
      ]
     },
     "execution_count": 27,
     "metadata": {},
     "output_type": "execute_result"
    }
   ],
   "source": [
    ";; The variable *test-list-a* in the first argument to NCONC\n",
    ";; is changed by appending the value stored in the second\n",
    ";; argument *test-list-b* to it. The value in *test-list-b*\n",
    ";; is unchanged.\n",
    "\n",
    "*test-list-a*"
   ]
  },
  {
   "cell_type": "code",
   "execution_count": 28,
   "metadata": {},
   "outputs": [
    {
     "data": {
      "text/plain": [
       "(D E F)"
      ]
     },
     "execution_count": 28,
     "metadata": {},
     "output_type": "execute_result"
    }
   ],
   "source": [
    "*test-list-b*"
   ]
  },
  {
   "cell_type": "markdown",
   "metadata": {},
   "source": [
    "#### Return values of S-Expressions\n",
    "\n",
    "S-Expressions in Common Lisp always return a value.\n",
    "\n",
    "A function call returns the value of the last form in its body as the value of the entire function."
   ]
  },
  {
   "cell_type": "code",
   "execution_count": 29,
   "metadata": {},
   "outputs": [
    {
     "data": {
      "text/plain": [
       "4"
      ]
     },
     "execution_count": 29,
     "metadata": {},
     "output_type": "execute_result"
    }
   ],
   "source": [
    ";; This is a typical anonymous function call; The last form\n",
    ";; in its body is (+ x x), so the function call returns\n",
    ";; (+ 2 2) => 4\n",
    "\n",
    "((lambda (x) (+ x x)) 2)"
   ]
  },
  {
   "cell_type": "code",
   "execution_count": 30,
   "metadata": {},
   "outputs": [
    {
     "data": {
      "text/plain": [
       "100"
      ]
     },
     "execution_count": 30,
     "metadata": {},
     "output_type": "execute_result"
    }
   ],
   "source": [
    ";; In this function, the return result of (+ x x) is not\n",
    ";; assigned, so it is essentially lost; The function body\n",
    ";; moves on to the next form, (* x x), which is the last\n",
    ";; form of this function body. Therefore, the function call\n",
    ";; only returns (* 10 10) => 100\n",
    "\n",
    "((lambda (x) (+ x x) (* x x)) 10)"
   ]
  },
  {
   "cell_type": "code",
   "execution_count": 32,
   "metadata": {},
   "outputs": [
    {
     "data": {
      "text/plain": [
       "20"
      ]
     },
     "execution_count": 32,
     "metadata": {},
     "output_type": "execute_result"
    }
   ],
   "source": [
    ";; In this function, we capture the return values of both\n",
    ";; (+ x x) and (* x x), as the lexical variables SUM and\n",
    ";; PRODUCT. Using VALUES, we can return multiple values \n",
    ";; from a form instead of just one.\n",
    "\n",
    "((lambda (x)\n",
    "         (let (\n",
    "               (sum (+ x x)) \n",
    "               (product (* x x))) \n",
    "              (values sum product))) 10)\n",
    "\n",
    ";; In the lisp REPL this returns:\n",
    ";; 20\n",
    ";; 100\n",
    "\n",
    ";; But for some reason, we only see the '20' being returned\n",
    ";; in this notebook REPL interface."
   ]
  },
  {
   "cell_type": "code",
   "execution_count": 6,
   "metadata": {},
   "outputs": [
    {
     "data": {
      "text/plain": [
       "NIL"
      ]
     },
     "execution_count": 6,
     "metadata": {},
     "output_type": "execute_result"
    }
   ],
   "source": [
    ";; Calling VALUES without anything gives us an expression\n",
    ";; with no return result\n",
    "\n",
    "(values)"
   ]
  },
  {
   "cell_type": "markdown",
   "metadata": {
    "heading_collapsed": true
   },
   "source": [
    "##### Self-evaluating objects\n",
    "\n",
    "A subset of Atoms are called \"self-evaluating objects\". These objects return themselves as their value."
   ]
  },
  {
   "cell_type": "code",
   "execution_count": 7,
   "metadata": {
    "hidden": true
   },
   "outputs": [
    {
     "data": {
      "text/plain": [
       "\"a string\""
      ]
     },
     "execution_count": 7,
     "metadata": {},
     "output_type": "execute_result"
    }
   ],
   "source": [
    "\"a string\" ; Strings are self-evaluating"
   ]
  },
  {
   "cell_type": "code",
   "execution_count": 8,
   "metadata": {
    "hidden": true
   },
   "outputs": [
    {
     "data": {
      "text/plain": [
       "#\\GREEK_SMALL_LETTER_LAMDA"
      ]
     },
     "execution_count": 8,
     "metadata": {},
     "output_type": "execute_result"
    }
   ],
   "source": [
    "#\\greek_small_letter_lamda ; Characters self-evaluate"
   ]
  },
  {
   "cell_type": "code",
   "execution_count": 9,
   "metadata": {
    "hidden": true
   },
   "outputs": [
    {
     "data": {
      "text/plain": [
       "421"
      ]
     },
     "execution_count": 9,
     "metadata": {},
     "output_type": "execute_result"
    }
   ],
   "source": [
    "421 ; Numbers are self-evaluating"
   ]
  },
  {
   "cell_type": "code",
   "execution_count": 10,
   "metadata": {
    "hidden": true
   },
   "outputs": [
    {
     "data": {
      "text/plain": [
       "42"
      ]
     },
     "execution_count": 10,
     "metadata": {},
     "output_type": "execute_result"
    }
   ],
   "source": [
    "#x2A ; Even Hex-value numbers self-evaluate"
   ]
  },
  {
   "cell_type": "code",
   "execution_count": 11,
   "metadata": {
    "hidden": true
   },
   "outputs": [
    {
     "data": {
      "text/plain": [
       "#*1001"
      ]
     },
     "execution_count": 11,
     "metadata": {},
     "output_type": "execute_result"
    }
   ],
   "source": [
    "#*1001 ; Bit-vectors also self-evaluate"
   ]
  },
  {
   "cell_type": "markdown",
   "metadata": {},
   "source": [
    "##### Cons cells\n",
    "\n",
    "Non-empty lists (ordered collections of S-Expressions, surrounded by parenthesis) are read as cons-cells. Be careful to distinguish the representation from the implementation."
   ]
  },
  {
   "cell_type": "code",
   "execution_count": 12,
   "metadata": {},
   "outputs": [
    {
     "data": {
      "text/plain": [
       "(A B C)"
      ]
     },
     "execution_count": 12,
     "metadata": {},
     "output_type": "execute_result"
    }
   ],
   "source": [
    ";; this:\n",
    "'(a b c)\n",
    "\n",
    ";; is the same as this:\n",
    "'(a\n",
    "  b\n",
    "  c)\n",
    "\n",
    ";; and this:\n",
    "(list 'a 'b 'c)"
   ]
  },
  {
   "cell_type": "markdown",
   "metadata": {},
   "source": [
    "## Lists, Cons-Cells, and Memory\n",
    "\n",
    "In Common Lisp, S-Expressions are defined by their implementation and their representation is only treated as an interface to the underlying objects.\n",
    "\n",
    "A list only 'conses' as long as there are values to be consed.\n",
    "\n",
    "A cons-cell is a pair of pointers, the 'car' (Contents of Address Register) and the 'cdr' (Contents of Decrement Register).\n",
    "\n",
    "The 'car' is usually a pointer to a value, while the 'cdr' can be a pointer to the 'car' of another cons-cell, a pointer to NIL, or (as in the case of a dotted-pair) a pointer to another value."
   ]
  },
  {
   "cell_type": "markdown",
   "metadata": {},
   "source": [
    "### Examples"
   ]
  },
  {
   "cell_type": "code",
   "execution_count": 13,
   "metadata": {},
   "outputs": [
    {
     "data": {
      "text/plain": [
       "NIL"
      ]
     },
     "execution_count": 13,
     "metadata": {},
     "output_type": "execute_result"
    }
   ],
   "source": [
    "(list)"
   ]
  },
  {
   "cell_type": "code",
   "execution_count": 14,
   "metadata": {},
   "outputs": [
    {
     "data": {
      "text/plain": [
       "(A)"
      ]
     },
     "execution_count": 14,
     "metadata": {},
     "output_type": "execute_result"
    }
   ],
   "source": [
    "(list 'a)"
   ]
  },
  {
   "cell_type": "code",
   "execution_count": 15,
   "metadata": {},
   "outputs": [
    {
     "data": {
      "text/plain": [
       "(A NIL)"
      ]
     },
     "execution_count": 15,
     "metadata": {},
     "output_type": "execute_result"
    }
   ],
   "source": [
    "(list 'a nil)"
   ]
  },
  {
   "cell_type": "code",
   "execution_count": 16,
   "metadata": {},
   "outputs": [
    {
     "data": {
      "text/plain": [
       "(A)"
      ]
     },
     "execution_count": 16,
     "metadata": {},
     "output_type": "execute_result"
    }
   ],
   "source": [
    "(cons 'a nil)"
   ]
  },
  {
   "cell_type": "code",
   "execution_count": 17,
   "metadata": {},
   "outputs": [
    {
     "data": {
      "text/plain": [
       "(A B C)"
      ]
     },
     "execution_count": 17,
     "metadata": {},
     "output_type": "execute_result"
    }
   ],
   "source": [
    ";; this:\n",
    "(list 'a 'b 'c)\n",
    "\n",
    ";; is the same as this:\n",
    "(cons 'a (cons 'b (cons 'c nil)))"
   ]
  },
  {
   "cell_type": "code",
   "execution_count": 18,
   "metadata": {},
   "outputs": [
    {
     "data": {
      "text/plain": [
       "(A NIL)"
      ]
     },
     "execution_count": 18,
     "metadata": {},
     "output_type": "execute_result"
    }
   ],
   "source": [
    ";; While this:\n",
    "(list 'a 'nil)\n",
    "\n",
    ";; is the same as this:\n",
    "(cons 'a (cons nil nil))"
   ]
  },
  {
   "cell_type": "markdown",
   "metadata": {},
   "source": [
    "### Dotted-pairs\n",
    "\n",
    "The end of a chain of cons-cells normally terminates in NIL, but the 'cdr' of a cons-cell can point to a value too. We can use dot notation in this case."
   ]
  },
  {
   "cell_type": "code",
   "execution_count": 19,
   "metadata": {},
   "outputs": [
    {
     "data": {
      "text/plain": [
       "(A . B)"
      ]
     },
     "execution_count": 19,
     "metadata": {},
     "output_type": "execute_result"
    }
   ],
   "source": [
    ";; For example,\n",
    "(cons 'a 'b)\n",
    "\n",
    ";; can be abreviated with dot notation as\n",
    "'(a . b)"
   ]
  },
  {
   "cell_type": "code",
   "execution_count": 20,
   "metadata": {},
   "outputs": [
    {
     "data": {
      "text/plain": [
       "((A . B) (C . D) (E . F))"
      ]
     },
     "execution_count": 20,
     "metadata": {},
     "output_type": "execute_result"
    }
   ],
   "source": [
    "#||\n",
    "A list of such dotted-pairs is called an \"association list\" or \"alist\" and is useful for storing key/value pairs.\n",
    "||#\n",
    "\n",
    "'((a . b) (c . d) (e . f))"
   ]
  },
  {
   "cell_type": "markdown",
   "metadata": {},
   "source": [
    "### Cons-cells and Dotted-pairs\n",
    "\n",
    "Memory use can be optimized using alists instead of plists. A dotted-pair conses only once, while a two item list that contains the same information conses twice."
   ]
  },
  {
   "cell_type": "code",
   "execution_count": 21,
   "metadata": {},
   "outputs": [
    {
     "data": {
      "text/plain": [
       "(A B C)"
      ]
     },
     "execution_count": 21,
     "metadata": {},
     "output_type": "execute_result"
    }
   ],
   "source": [
    ";; The code below creates three cons-cells, the quoted\n",
    ";; symbols 'A, 'B, and 'C each in the 'car' of their own\n",
    ";; cons-cell\n",
    "(list 'a 'b 'c)\n",
    "\n",
    ";; This is equivaluent to:\n",
    "(cons 'a (cons 'b (cons 'c nil)))"
   ]
  },
  {
   "cell_type": "code",
   "execution_count": 22,
   "metadata": {},
   "outputs": [
    {
     "data": {
      "text/plain": [
       "(A B C)"
      ]
     },
     "execution_count": 22,
     "metadata": {},
     "output_type": "execute_result"
    }
   ],
   "source": [
    ";; Using dot notation we can get the same result as:\n",
    "'(a . (b . (c . nil)))"
   ]
  },
  {
   "cell_type": "code",
   "execution_count": 23,
   "metadata": {},
   "outputs": [
    {
     "data": {
      "text/plain": [
       "(A B C)"
      ]
     },
     "execution_count": 23,
     "metadata": {},
     "output_type": "execute_result"
    }
   ],
   "source": [
    ";; Which is also equivalent to:\n",
    "'(a b c . nil)\n",
    "\n",
    ";; Or:\n",
    "'(a b c)"
   ]
  },
  {
   "cell_type": "markdown",
   "metadata": {},
   "source": [
    "## Symbols and Namespaces"
   ]
  },
  {
   "cell_type": "code",
   "execution_count": null,
   "metadata": {
    "collapsed": true,
    "jupyter": {
     "outputs_hidden": true
    }
   },
   "outputs": [],
   "source": []
  }
 ],
 "metadata": {
  "anaconda-cloud": {},
  "hide_input": false,
  "kernelspec": {
   "display_name": "Common Lisp",
   "language": "common-lisp",
   "name": "common-lisp"
  },
  "language_info": {
   "codemirror_mode": "text/x-common-lisp",
   "file_extension": ".lisp",
   "mimetype": "text/x-common-lisp",
   "name": "common-lisp",
   "pygments_lexer": "common-lisp",
   "version": "1.4.5.debian"
  },
  "latex_envs": {
   "bibliofile": "biblio.bib",
   "cite_by": "apalike",
   "current_citInitial": 1,
   "eqLabelWithNumbers": true,
   "eqNumInitial": 0
  }
 },
 "nbformat": 4,
 "nbformat_minor": 4
}
