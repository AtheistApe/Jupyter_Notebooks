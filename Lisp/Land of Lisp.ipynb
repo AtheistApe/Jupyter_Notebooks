{
 "cells": [
  {
   "cell_type": "markdown",
   "metadata": {
    "heading_collapsed": true
   },
   "source": [
    "# Guess my number game\n",
    "\n",
    "In this game we pick a number from 1 to 100 and the computer has to guess its value. After each guess by the computer we give it hints in the form of \"smaller\" or \"bigger\", then the computer makes another guess based on the hint. Eventually, the computer will get the number we picked at the beginning of the game.\n",
    "\n",
    "This game will be based on four functions:\n",
    "\n",
    "* guess-my-number\n",
    "* smaller\n",
    "* bigger\n",
    "* start-over"
   ]
  },
  {
   "cell_type": "code",
   "execution_count": 1,
   "metadata": {
    "hidden": true
   },
   "outputs": [
    {
     "data": {
      "text/plain": [
       "*SMALL*"
      ]
     },
     "execution_count": 1,
     "metadata": {},
     "output_type": "execute_result"
    },
    {
     "data": {
      "text/plain": [
       "*BIG*"
      ]
     },
     "execution_count": 1,
     "metadata": {},
     "output_type": "execute_result"
    }
   ],
   "source": [
    "#|\n",
    "We need two global variables \"*big*\" and \"*small*\" to keep track of the range of values of the number. The \"*\" are a common lisp convention to designate global variables (as opposed to local variables)\n",
    "\n",
    "We can designate global variables using either the \"defparameter\" or \"defvar\" functions. The difference between these two is that \"defparameter\" allows reassignment of the variable, whereas \"defvar\" does not.\n",
    "|#\n",
    "\n",
    ";; Assign initial values to variables *small* and *big*\n",
    "(defparameter *small* 1)\n",
    "(defparameter *big* 100)"
   ]
  },
  {
   "cell_type": "markdown",
   "metadata": {
    "heading_collapsed": true,
    "hidden": true
   },
   "source": [
    "### Lisps \"ash\" (arithmetic shift) function\n",
    "\n",
    "The lisp function \"ash\" takes two integer arguments. The function takes the binary representation of the first argument and returns the result of shifting those bits a number of places as given by the second argument (to the left if it is positive; to the right if it is negative.)"
   ]
  },
  {
   "cell_type": "markdown",
   "metadata": {
    "hidden": true
   },
   "source": [
    "#### Examples"
   ]
  },
  {
   "cell_type": "code",
   "execution_count": 2,
   "metadata": {
    "hidden": true
   },
   "outputs": [
    {
     "data": {
      "text/plain": [
       "4"
      ]
     },
     "execution_count": 2,
     "metadata": {},
     "output_type": "execute_result"
    }
   ],
   "source": [
    ";; 8 = b1000. Shifting these bits one digit to the right\n",
    ";; results in b100, which equals 4, thus dividing the original\n",
    ";; number by 2\n",
    "\n",
    "(ash 8 -1)"
   ]
  },
  {
   "cell_type": "code",
   "execution_count": 3,
   "metadata": {
    "hidden": true
   },
   "outputs": [
    {
     "data": {
      "text/plain": [
       "148"
      ]
     },
     "execution_count": 3,
     "metadata": {},
     "output_type": "execute_result"
    }
   ],
   "source": [
    ";; 37 = b1000101. Shifting these bits two digits to the left\n",
    ";; results in b100010100, which equals 148, thus multiplying\n",
    ";; the original number by 4\n",
    "\n",
    "(ash 37 2)"
   ]
  },
  {
   "cell_type": "code",
   "execution_count": 4,
   "metadata": {
    "hidden": true
   },
   "outputs": [
    {
     "data": {
      "text/plain": [
       "6"
      ]
     },
     "execution_count": 4,
     "metadata": {},
     "output_type": "execute_result"
    }
   ],
   "source": [
    ";; 25 = b11001. Shifting these bits two digits to the right\n",
    ";; results in b110, which equals 6. Note that the least \n",
    ";; significant two bits (those furthest to the right) of the\n",
    ";; original number were lost.\n",
    "\n",
    "(ash 25 -2)"
   ]
  },
  {
   "cell_type": "markdown",
   "metadata": {
    "heading_collapsed": true,
    "hidden": true
   },
   "source": [
    "## Continue"
   ]
  },
  {
   "cell_type": "code",
   "execution_count": 5,
   "metadata": {
    "hidden": true
   },
   "outputs": [
    {
     "data": {
      "text/plain": [
       "GUESS-MY-NUMBER"
      ]
     },
     "execution_count": 5,
     "metadata": {},
     "output_type": "execute_result"
    }
   ],
   "source": [
    ";; Define the \"guess-my-number\" function. The function\n",
    ";; returns the \"integer average\" of *small* and *big*\n",
    ";; using the \"ash\" function to divide the sum by 2.\n",
    "\n",
    "(defun guess-my-number () ; The empty () indicate that the function takes no arguments.\n",
    "    (ash (+ *small* *big*) -1))"
   ]
  },
  {
   "cell_type": "code",
   "execution_count": 6,
   "metadata": {
    "hidden": true
   },
   "outputs": [
    {
     "data": {
      "text/plain": [
       "50"
      ]
     },
     "execution_count": 6,
     "metadata": {},
     "output_type": "execute_result"
    }
   ],
   "source": [
    ";; Since the initial values of *big* and *small* are\n",
    ";; 100 and 1, respectively, the first run of \"guess-my-number\"\n",
    ";; will return 50.\n",
    "\n",
    "(guess-my-number)"
   ]
  },
  {
   "cell_type": "code",
   "execution_count": 7,
   "metadata": {
    "hidden": true
   },
   "outputs": [
    {
     "data": {
      "text/plain": [
       "SMALLER"
      ]
     },
     "execution_count": 7,
     "metadata": {},
     "output_type": "execute_result"
    }
   ],
   "source": [
    "#| Define the \"smaller\" function. If \"guess-my-number\" returns a value larger than the target value, the target value must be less than the last guess; It is less than or equal to the last guess. Therefore, set the upper bound *big* equal to one less than the last guess. The computer then makes the next guess. |#\n",
    "\n",
    ";; Use \"setf\" to reassign the value of *big*\n",
    ";; \"1=\" decrements its argument by 1.\n",
    "(defun smaller ()\n",
    "    (setf *big* (1- (guess-my-number)))\n",
    "    (guess-my-number))"
   ]
  },
  {
   "cell_type": "code",
   "execution_count": 8,
   "metadata": {
    "hidden": true
   },
   "outputs": [
    {
     "data": {
      "text/plain": [
       "BIGGER"
      ]
     },
     "execution_count": 8,
     "metadata": {},
     "output_type": "execute_result"
    }
   ],
   "source": [
    "#| Define the \"bigger\" function. If \"guess-my-number\" returns a value smaller than the target value, the target value must be greater than the last guess; It is greater than or equal to the last guess. Therefore, set the lower bound *small* equal to one more than the last guess. The computer then makes the next guess. |#\n",
    "\n",
    ";; Use \"setf\" to reassign the value of *small*\n",
    ";; \"1+\" increments its argument by 1.\n",
    "(defun bigger ()\n",
    "    (setf *small* (1+ (guess-my-number)))\n",
    "    (guess-my-number))"
   ]
  },
  {
   "cell_type": "code",
   "execution_count": 9,
   "metadata": {
    "hidden": true
   },
   "outputs": [
    {
     "data": {
      "text/plain": [
       "*SMALL*"
      ]
     },
     "execution_count": 9,
     "metadata": {},
     "output_type": "execute_result"
    },
    {
     "data": {
      "text/plain": [
       "*BIG*"
      ]
     },
     "execution_count": 9,
     "metadata": {},
     "output_type": "execute_result"
    },
    {
     "data": {
      "text/plain": [
       "50"
      ]
     },
     "execution_count": 9,
     "metadata": {},
     "output_type": "execute_result"
    }
   ],
   "source": [
    ";; With these three functions now defined and re-initializing\n",
    ";; *small* and *big*, we can see the game in action. Suppose\n",
    ";; we ask the computer to try to guess our target of 56.\n",
    "\n",
    "(defparameter *small* 1)\n",
    "(defparameter *big* 100)\n",
    "\n",
    "(guess-my-number)"
   ]
  },
  {
   "cell_type": "code",
   "execution_count": 10,
   "metadata": {
    "hidden": true
   },
   "outputs": [
    {
     "data": {
      "text/plain": [
       "75"
      ]
     },
     "execution_count": 10,
     "metadata": {},
     "output_type": "execute_result"
    }
   ],
   "source": [
    "(bigger)"
   ]
  },
  {
   "cell_type": "code",
   "execution_count": 11,
   "metadata": {
    "hidden": true
   },
   "outputs": [
    {
     "data": {
      "text/plain": [
       "62"
      ]
     },
     "execution_count": 11,
     "metadata": {},
     "output_type": "execute_result"
    }
   ],
   "source": [
    "(smaller)"
   ]
  },
  {
   "cell_type": "code",
   "execution_count": 12,
   "metadata": {
    "hidden": true
   },
   "outputs": [
    {
     "data": {
      "text/plain": [
       "56"
      ]
     },
     "execution_count": 12,
     "metadata": {},
     "output_type": "execute_result"
    }
   ],
   "source": [
    "(smaller) ; It gets our target on this turn."
   ]
  },
  {
   "cell_type": "code",
   "execution_count": 13,
   "metadata": {
    "hidden": true
   },
   "outputs": [
    {
     "data": {
      "text/plain": [
       "START-OVER"
      ]
     },
     "execution_count": 13,
     "metadata": {},
     "output_type": "execute_result"
    }
   ],
   "source": [
    ";; Add the function \"start-over\" to reset the global variables\n",
    ";; and start a new game.\n",
    "\n",
    "(defun start-over ()\n",
    "    (defparameter *small* 1)\n",
    "    (defparameter *big* 100)\n",
    "    (guess-my-number))"
   ]
  },
  {
   "cell_type": "code",
   "execution_count": 14,
   "metadata": {
    "hidden": true
   },
   "outputs": [
    {
     "data": {
      "text/plain": [
       "50"
      ]
     },
     "execution_count": 14,
     "metadata": {},
     "output_type": "execute_result"
    }
   ],
   "source": [
    ";; Start a new game with target 3.\n",
    "\n",
    "(start-over)"
   ]
  },
  {
   "cell_type": "code",
   "execution_count": 15,
   "metadata": {
    "hidden": true
   },
   "outputs": [
    {
     "data": {
      "text/plain": [
       "25"
      ]
     },
     "execution_count": 15,
     "metadata": {},
     "output_type": "execute_result"
    }
   ],
   "source": [
    "(smaller)"
   ]
  },
  {
   "cell_type": "code",
   "execution_count": 16,
   "metadata": {
    "hidden": true
   },
   "outputs": [
    {
     "data": {
      "text/plain": [
       "12"
      ]
     },
     "execution_count": 16,
     "metadata": {},
     "output_type": "execute_result"
    }
   ],
   "source": [
    "(smaller)"
   ]
  },
  {
   "cell_type": "code",
   "execution_count": 17,
   "metadata": {
    "hidden": true
   },
   "outputs": [
    {
     "data": {
      "text/plain": [
       "6"
      ]
     },
     "execution_count": 17,
     "metadata": {},
     "output_type": "execute_result"
    }
   ],
   "source": [
    "(smaller)"
   ]
  },
  {
   "cell_type": "code",
   "execution_count": 18,
   "metadata": {
    "hidden": true
   },
   "outputs": [
    {
     "data": {
      "text/plain": [
       "3"
      ]
     },
     "execution_count": 18,
     "metadata": {},
     "output_type": "execute_result"
    }
   ],
   "source": [
    "(smaller) ; It gets our target on this turn."
   ]
  },
  {
   "cell_type": "markdown",
   "metadata": {
    "hidden": true
   },
   "source": [
    "## Local variables and functions"
   ]
  },
  {
   "cell_type": "markdown",
   "metadata": {
    "heading_collapsed": true,
    "hidden": true
   },
   "source": [
    "### Local variables\n",
    "\n",
    "Use \"let\" to create local variables whose scope is restricted to a single function or block of code. The syntax is:\n",
    "\n",
    "    (let (variable declarations)\n",
    "      ...body...)"
   ]
  },
  {
   "cell_type": "markdown",
   "metadata": {
    "heading_collapsed": true,
    "hidden": true
   },
   "source": [
    "#### Examples"
   ]
  },
  {
   "cell_type": "code",
   "execution_count": 19,
   "metadata": {
    "hidden": true
   },
   "outputs": [
    {
     "data": {
      "text/plain": [
       "11"
      ]
     },
     "execution_count": 19,
     "metadata": {},
     "output_type": "execute_result"
    }
   ],
   "source": [
    "(let ((a 5)\n",
    "      (b 6))\n",
    "     (+ a b))"
   ]
  },
  {
   "cell_type": "code",
   "execution_count": 20,
   "metadata": {
    "hidden": true
   },
   "outputs": [
    {
     "data": {
      "text/plain": [
       "20"
      ]
     },
     "execution_count": 20,
     "metadata": {},
     "output_type": "execute_result"
    }
   ],
   "source": [
    "(let ((a 5)\n",
    "      (b 10)\n",
    "      (c 4))\n",
    "     (- (* b b) (* 4 a c)))"
   ]
  },
  {
   "cell_type": "markdown",
   "metadata": {
    "heading_collapsed": true,
    "hidden": true
   },
   "source": [
    "### Local functions\n",
    "\n",
    "Use \"flet\" to create local functions (\"defun\" is used to create global functions). The syntax is:\n",
    "\n",
    "    (flet ((<function_name> (<arguments>)\n",
    "            ...function body...))\n",
    "      ...body...)"
   ]
  },
  {
   "cell_type": "markdown",
   "metadata": {
    "heading_collapsed": true,
    "hidden": true
   },
   "source": [
    "#### Examples"
   ]
  },
  {
   "cell_type": "code",
   "execution_count": 21,
   "metadata": {
    "hidden": true,
    "run_control": {
     "marked": false
    }
   },
   "outputs": [
    {
     "data": {
      "text/plain": [
       "15"
      ]
     },
     "execution_count": 21,
     "metadata": {},
     "output_type": "execute_result"
    }
   ],
   "source": [
    "#| Declare a local function \"f\" within the block of the \"flet\" function. The function \"f\" takes one numeric argument and returns the sum of itself with 10. Call the function with argument 5 within the scope of \"flet\" and the block of code returns 15 |#\n",
    "\n",
    "(flet ((f (n)\n",
    "          (+ n 10)))\n",
    "      (f 5))"
   ]
  },
  {
   "cell_type": "code",
   "execution_count": 22,
   "metadata": {
    "hidden": true
   },
   "outputs": [
    {
     "ename": "UNDEFINED-FUNCTION",
     "evalue": "The function COMMON-LISP-USER::F is undefined.",
     "output_type": "error",
     "traceback": []
    },
    {
     "name": "stdout",
     "output_type": "stream",
     "text": [
      "\n",
      "SIMPLE-STYLE-WARNING: \n",
      "  undefined function: F\n"
     ]
    },
    {
     "name": "stderr",
     "output_type": "stream",
     "text": [
      "The function COMMON-LISP-USER::F is undefined."
     ]
    }
   ],
   "source": [
    ";; Note that the function \"f\" defined above is not available\n",
    ";; in global scope; It goes out of existence once the block\n",
    ";; is executed.\n",
    "\n",
    "(f 5)"
   ]
  },
  {
   "cell_type": "code",
   "execution_count": 23,
   "metadata": {
    "hidden": true
   },
   "outputs": [
    {
     "data": {
      "text/plain": [
       "12"
      ]
     },
     "execution_count": 23,
     "metadata": {},
     "output_type": "execute_result"
    }
   ],
   "source": [
    "#| Here we declare two functions \"f\" and \"g\" within the scope of the \"flet\" block. Each takes a single numeric argument. We then call one function after the next (\"f\" first, then \"g\") on the argument 5. The function \"f\" adds 10 to 5, returning 15, then the function \"g\" reduces that result by 3, returning 12 |#\n",
    "\n",
    "(flet ((f (n)\n",
    "          (+ n 10))\n",
    "        (g (n)\n",
    "           (- n 3)))\n",
    "      (g (f 5)))"
   ]
  },
  {
   "cell_type": "markdown",
   "metadata": {
    "hidden": true
   },
   "source": [
    "### The \"labels\" function\n",
    "\n",
    "The \"labels\" function makes locally defined function names that are available to other locally defined functions. This is in contrast to \"flet\" which also makes locally defined function BUT these functions are not available within the scope of the other locally defined functions.\n",
    "\n",
    "The syntax is identical to that of \"flet\" except we use the \"labels\" key word instead of \"flet\""
   ]
  },
  {
   "cell_type": "markdown",
   "metadata": {
    "hidden": true
   },
   "source": [
    "#### Examples"
   ]
  },
  {
   "cell_type": "code",
   "execution_count": 37,
   "metadata": {
    "hidden": true,
    "run_control": {
     "marked": false
    }
   },
   "outputs": [
    {
     "name": "stderr",
     "output_type": "stream",
     "text": [
      "SIMPLE-STYLE-WARNING: \n",
      "  undefined function: F\n",
      "\n",
      "UNDEFINED-FUNCTION: \n",
      "  #<UNDEFINED-FUNCTION F {1006C70113}>\n"
     ]
    },
    {
     "data": {
      "text/plain": [
       "NIL"
      ]
     },
     "execution_count": 37,
     "metadata": {},
     "output_type": "execute_result"
    }
   ],
   "source": [
    "(flet ((f (n)\n",
    "          (+ n 5)) ; \"f\" adds 5 to its argument\n",
    "        (g (n)\n",
    "           (+ (f n) 6))) ; \"f\" is not in the scope of \"g\", so \"g\" doesn't \"know\" about it.\n",
    "      (g 10))"
   ]
  },
  {
   "cell_type": "code",
   "execution_count": 39,
   "metadata": {
    "hidden": true
   },
   "outputs": [
    {
     "data": {
      "text/plain": [
       "21"
      ]
     },
     "execution_count": 39,
     "metadata": {},
     "output_type": "execute_result"
    }
   ],
   "source": [
    "(labels ((f (n)\n",
    "          (+ n 5)) ; \"f\" adds 5 to its argument\n",
    "        (g (n)\n",
    "           (+ (f n) 6))) ; \"f\" is now in the scope of \"g\", so \"g\" does \"know\" about it.\n",
    "      (g 10))"
   ]
  },
  {
   "cell_type": "markdown",
   "metadata": {},
   "source": [
    "# The Wizard's Text Adventure Game\n",
    "\n",
    "The game world consists of a house with attached garden. The house is divided into a living room and attic. There are things in each area that can be examined. There is a ladder to go between the living room to the attic and a door to go between the living room and garden.\n",
    "\n",
    "The game could should be able to handle:\n",
    "\n",
    "* Looking around\n",
    "   - Notice basic scenery\n",
    "   - Notice one or more paths to other locations\n",
    "   - Notice objects that can be picked up and manipulated\n",
    "* Walking to different locations\n",
    "* Picking up objects\n",
    "* Performing actions on the objects picked up"
   ]
  },
  {
   "cell_type": "code",
   "execution_count": 13,
   "metadata": {},
   "outputs": [
    {
     "data": {
      "text/plain": [
       "*NODES*"
      ]
     },
     "execution_count": 13,
     "metadata": {},
     "output_type": "execute_result"
    }
   ],
   "source": [
    ";;; We will use an association list (key:value pairs)\n",
    ";;; to contain descriptions of the locations in our game\n",
    "\n",
    "(defparameter *nodes* '((living-room \n",
    "                         (you are in the living-room. a\n",
    "                              wizard is snoring loudly on the\n",
    "                              couch.))\n",
    "                        (garden\n",
    "                         (you are in a beautiful garden.\n",
    "                              there is a well in front of\n",
    "                              you.))\n",
    "                        (attic\n",
    "                         (you are in the attic. there is a\n",
    "                              giant welding torch in the\n",
    "                              corner.))))"
   ]
  },
  {
   "cell_type": "code",
   "execution_count": 14,
   "metadata": {},
   "outputs": [
    {
     "data": {
      "text/plain": [
       "DESCRIBE-LOCATION"
      ]
     },
     "execution_count": 14,
     "metadata": {},
     "output_type": "execute_result"
    }
   ],
   "source": [
    "#| Next we need a function that accesses the data in *nodes*. We will call this function \"describe-location\". It will have arguments \"location\" and \"nodes\"\n",
    "\n",
    "We use the \"assoc\" function to find the \"value\" associated with a given key in the association list \"alist\" using the syntax: (assoc key alist). This function returns the key-value pair as: (key (value)) |#\n",
    "\n",
    "(defun describe-location (location nodes)\n",
    "    (cadr (assoc location nodes)))\n",
    "\n",
    "#| Example: (assoc 'garden *nodes*) returns:\n",
    "(garden (you are in a ...))\n",
    "\n",
    "Therefore (cdr (assoc 'garden *nodes*)) returns:\n",
    "((you are in a ...))\n",
    "\n",
    "But we want the list of atoms within this list, the \"car\" of the \"cdr\" (i.e. the \"cadr\") of (assoc 'garden *nodes*) |#"
   ]
  },
  {
   "cell_type": "code",
   "execution_count": 15,
   "metadata": {},
   "outputs": [
    {
     "data": {
      "text/plain": [
       "(YOU ARE IN A BEAUTIFUL GARDEN. THERE IS A WELL IN FRONT OF YOU.)"
      ]
     },
     "execution_count": 15,
     "metadata": {},
     "output_type": "execute_result"
    }
   ],
   "source": [
    ";;; Let's try out our \"describe-location\" function\n",
    "\n",
    "(describe-location 'garden *nodes*)"
   ]
  },
  {
   "cell_type": "code",
   "execution_count": 16,
   "metadata": {},
   "outputs": [
    {
     "data": {
      "text/plain": [
       "*EDGES*"
      ]
     },
     "execution_count": 16,
     "metadata": {},
     "output_type": "execute_result"
    }
   ],
   "source": [
    "#| Next we define an a-list (association list) data structure to indicate the different ways to get from one location to another. The \"key\" will be the location and the \"value(s)\" associated with the key will be lists (\"edges\") containing the connected location, the compass direction and the means to get from the current location to the destination location |#\n",
    "\n",
    "(defparameter *edges* '((living-room (garden west door)\n",
    "                                     (attic upstairs ladder))\n",
    "                        (garden (living-room east door))\n",
    "                        (attic (living-room downstairs ladder))))"
   ]
  },
  {
   "cell_type": "code",
   "execution_count": 17,
   "metadata": {},
   "outputs": [
    {
     "data": {
      "text/plain": [
       "DESCRIBE-PATH"
      ]
     },
     "execution_count": 17,
     "metadata": {},
     "output_type": "execute_result"
    }
   ],
   "source": [
    "#| Next we define a \"describe-path\" function which takes an \"edge\" as argument and returns a list of atoms giving a textual description of the path. |#\n",
    "\n",
    "(defun describe-path (edge)\n",
    "    `(there is a ,(caddr edge) going ,(cadr edge) from here.))\n",
    "\n",
    "#| Notice the use of the back-quote ` symbol instead of the quote ' symbol. The use of the back-quote allows for switching between data mode (started with the back-quote) and code mode (using the comma) |#"
   ]
  },
  {
   "cell_type": "code",
   "execution_count": 18,
   "metadata": {},
   "outputs": [
    {
     "data": {
      "text/plain": [
       "(THERE IS A DOOR GOING WEST FROM HERE.)"
      ]
     },
     "execution_count": 18,
     "metadata": {},
     "output_type": "execute_result"
    }
   ],
   "source": [
    ";;; Let's try out the \"describe-path\" function with argument (garden west door)\n",
    "\n",
    "(describe-path '(garden west door))"
   ]
  },
  {
   "cell_type": "code",
   "execution_count": 19,
   "metadata": {},
   "outputs": [
    {
     "data": {
      "text/plain": [
       "DESCRIBE-PATHS"
      ]
     },
     "execution_count": 19,
     "metadata": {},
     "output_type": "execute_result"
    }
   ],
   "source": [
    "#| Now we will build upon our *edges* data structure and our \"describe-path\" function to define a \"describe-paths\" function which takes arguments \"location\" and \"edges\" and returns a list of atoms describing all the ways of moving from the current location to other locations |#\n",
    "\n",
    "(defun describe-paths (location edges)\n",
    "    (apply #'append (mapcar #'describe-path (cdr (assoc location edges)))))"
   ]
  },
  {
   "cell_type": "code",
   "execution_count": 9,
   "metadata": {},
   "outputs": [
    {
     "data": {
      "text/plain": [
       "(THERE IS A DOOR GOING WEST FROM HERE. THERE IS A LADDER GOING UPSTAIRS FROM\n",
       " HERE.)"
      ]
     },
     "execution_count": 9,
     "metadata": {},
     "output_type": "execute_result"
    }
   ],
   "source": [
    ";;; Example of \"describe-paths\" with arguments: living-room, *edges*\n",
    "\n",
    "(describe-paths 'living-room *edges*)"
   ]
  },
  {
   "cell_type": "markdown",
   "metadata": {},
   "source": [
    "## Breaking down the \"describe-paths\" function\n",
    "\n",
    "Let's suppose the arguments to \"describe-paths\" are: living-room and *edges*"
   ]
  },
  {
   "cell_type": "code",
   "execution_count": 10,
   "metadata": {},
   "outputs": [
    {
     "data": {
      "text/plain": [
       "(LIVING-ROOM (GARDEN WEST DOOR) (ATTIC UPSTAIRS LADDER))"
      ]
     },
     "execution_count": 10,
     "metadata": {},
     "output_type": "execute_result"
    }
   ],
   "source": [
    ";;; First \"assoc\" returns the paths (edges) from \"living-room\"\n",
    "\n",
    "(assoc 'living-room *edges*)"
   ]
  },
  {
   "cell_type": "code",
   "execution_count": 12,
   "metadata": {},
   "outputs": [
    {
     "data": {
      "text/plain": [
       "((GARDEN WEST DOOR) (ATTIC UPSTAIRS LADDER))"
      ]
     },
     "execution_count": 12,
     "metadata": {},
     "output_type": "execute_result"
    }
   ],
   "source": [
    "#| Next \"cdr\" returns removes the first element (the key) of the above list and returns a list of edges. |#\n",
    "\n",
    "(cdr (assoc 'living-room *edges*))"
   ]
  },
  {
   "cell_type": "markdown",
   "metadata": {
    "heading_collapsed": true
   },
   "source": [
    "### The \"mapcar\" function\n",
    "\n",
    "The \"mapcar\" function takes two arguments. The first argument is a function and the second argument is a list. The \"mapcar\" function maps (applies) the first argument (the function) to each element of the second argument (the list).\n",
    "\n",
    "The \"function operator\" #' preceeding each function name expands to (function [function-name]) by the lisp reader. This is required by Common Lisp to avoid confusion between function names and variable names."
   ]
  },
  {
   "cell_type": "markdown",
   "metadata": {
    "hidden": true
   },
   "source": [
    "#### Examples"
   ]
  },
  {
   "cell_type": "code",
   "execution_count": 13,
   "metadata": {
    "hidden": true
   },
   "outputs": [
    {
     "data": {
      "text/plain": [
       "(1.0 1.4142135 1.7320508 2.0 2.236068)"
      ]
     },
     "execution_count": 13,
     "metadata": {},
     "output_type": "execute_result"
    }
   ],
   "source": [
    "(mapcar #'sqrt '(1 2 3 4 5))"
   ]
  },
  {
   "cell_type": "code",
   "execution_count": 14,
   "metadata": {
    "hidden": true
   },
   "outputs": [
    {
     "data": {
      "text/plain": [
       "(FOO BAZ)"
      ]
     },
     "execution_count": 14,
     "metadata": {},
     "output_type": "execute_result"
    }
   ],
   "source": [
    "(mapcar #'car '((foo bar) (baz quz)))"
   ]
  },
  {
   "cell_type": "code",
   "execution_count": 15,
   "metadata": {
    "hidden": true
   },
   "outputs": [
    {
     "name": "stderr",
     "output_type": "stream",
     "text": [
      "SIMPLE-STYLE-WARNING: \n",
      "  The variable CAR is defined but never used.\n"
     ]
    },
    {
     "data": {
      "text/plain": [
       "(FOO BAZ)"
      ]
     },
     "execution_count": 15,
     "metadata": {},
     "output_type": "execute_result"
    }
   ],
   "source": [
    ";;; Here we have a local variable \"car' and the lisp \"car\" function. Without\n",
    ";;; the function operator #' preceeding the lisp function \"car\", lisp wouldn't\n",
    ";;; know which name to use in the function call.\n",
    "\n",
    "(let ((car \"Honda Civic\"))\n",
    "     (mapcar #'car '((foo bar) (baz quz))))"
   ]
  },
  {
   "cell_type": "markdown",
   "metadata": {
    "heading_collapsed": true
   },
   "source": [
    "### Continue"
   ]
  },
  {
   "cell_type": "code",
   "execution_count": 16,
   "metadata": {
    "hidden": true
   },
   "outputs": [
    {
     "data": {
      "text/plain": [
       "((THERE IS A DOOR GOING WEST FROM HERE.)\n",
       " (THERE IS A LADDER GOING UPSTAIRS FROM HERE.))"
      ]
     },
     "execution_count": 16,
     "metadata": {},
     "output_type": "execute_result"
    }
   ],
   "source": [
    "#| Now we apply the \"describe-path\" function to each path in the list of paths using the \"mapcar\" function. The application of \"describe-path\" to each path returns a list of atoms describing a way out from the \"living-room\" |#\n",
    "\n",
    "(mapcar #'describe-path (cdr (assoc 'living-room *edges*)))"
   ]
  },
  {
   "cell_type": "markdown",
   "metadata": {
    "heading_collapsed": true
   },
   "source": [
    "### The \"append\" function\n",
    "\n",
    "The \"append\" function takes multiple list arguments and returns a new list that is the concatenation of the argument lists."
   ]
  },
  {
   "cell_type": "markdown",
   "metadata": {
    "heading_collapsed": true,
    "hidden": true
   },
   "source": [
    "#### Examples"
   ]
  },
  {
   "cell_type": "code",
   "execution_count": 19,
   "metadata": {
    "hidden": true
   },
   "outputs": [
    {
     "data": {
      "text/plain": [
       "(THIS IS THE WAY IT ALWAYS HAS BEEN.)"
      ]
     },
     "execution_count": 19,
     "metadata": {},
     "output_type": "execute_result"
    }
   ],
   "source": [
    "(append '(this is) '(the) '(way it always) '(has been.))"
   ]
  },
  {
   "cell_type": "code",
   "execution_count": 20,
   "metadata": {
    "hidden": true
   },
   "outputs": [
    {
     "data": {
      "text/plain": [
       "(A B (C D) E F G ((H) I))"
      ]
     },
     "execution_count": 20,
     "metadata": {},
     "output_type": "execute_result"
    }
   ],
   "source": [
    "(append '(a) '(b (c d)) '(e f g) '(((h) i)))"
   ]
  },
  {
   "cell_type": "markdown",
   "metadata": {
    "heading_collapsed": true
   },
   "source": [
    "### The \"apply\" function\n",
    "\n",
    "The \"apply\" function takes two arguments. The first argument is a function and the second argument is a list. The \"apply\" function treats the elements of the argument list as arguments to the first (function) argument."
   ]
  },
  {
   "cell_type": "markdown",
   "metadata": {
    "hidden": true
   },
   "source": [
    "#### Examples"
   ]
  },
  {
   "cell_type": "code",
   "execution_count": 1,
   "metadata": {
    "hidden": true
   },
   "outputs": [
    {
     "data": {
      "text/plain": [
       "18"
      ]
     },
     "execution_count": 1,
     "metadata": {},
     "output_type": "execute_result"
    }
   ],
   "source": [
    "(apply '+ '(3 4 5 6))"
   ]
  },
  {
   "cell_type": "code",
   "execution_count": 9,
   "metadata": {
    "hidden": true
   },
   "outputs": [
    {
     "name": "stderr",
     "output_type": "stream",
     "text": [
      "REDEFINITION-WITH-DEFUN: \n",
      "  redefining CL-JUPYTER-USER::F in DEFUN\n"
     ]
    },
    {
     "data": {
      "text/plain": [
       "25"
      ]
     },
     "execution_count": 9,
     "metadata": {},
     "output_type": "execute_result"
    }
   ],
   "source": [
    "(defun f (a b)\n",
    "    (+ (* a a) (* b b) (* 2 a b)))\n",
    "\n",
    "(apply #'f '(2 3))"
   ]
  },
  {
   "cell_type": "code",
   "execution_count": 10,
   "metadata": {
    "hidden": true
   },
   "outputs": [
    {
     "data": {
      "text/plain": [
       "(MARY HAD A LITTLE LAMB)"
      ]
     },
     "execution_count": 10,
     "metadata": {},
     "output_type": "execute_result"
    }
   ],
   "source": [
    "(apply #'append '((mary had) (a) (little lamb)))"
   ]
  },
  {
   "cell_type": "markdown",
   "metadata": {},
   "source": [
    "### Continue"
   ]
  },
  {
   "cell_type": "code",
   "execution_count": 21,
   "metadata": {},
   "outputs": [
    {
     "data": {
      "text/plain": [
       "(THERE IS A DOOR GOING WEST FROM HERE. THERE IS A LADDER GOING UPSTAIRS FROM\n",
       " HERE.)"
      ]
     },
     "execution_count": 21,
     "metadata": {},
     "output_type": "execute_result"
    }
   ],
   "source": [
    "#| We want to use the \"append\" function on the lists returned by \"mapcar\" but the object returned by \"mapcar\" is a single list of these lists; \"append\" requires each list as a separate argument. To get around this problem, we use the \"apply\" function |#\n",
    "\n",
    "(apply #'append (mapcar #'describe-path (cdr (assoc 'living-room *edges*))))"
   ]
  },
  {
   "cell_type": "code",
   "execution_count": null,
   "metadata": {
    "collapsed": true,
    "jupyter": {
     "outputs_hidden": true
    }
   },
   "outputs": [],
   "source": []
  }
 ],
 "metadata": {
  "@webio": {
   "lastCommId": null,
   "lastKernelId": null
  },
  "anaconda-cloud": {},
  "hide_input": false,
  "kernelspec": {
   "display_name": "Common Lisp",
   "language": "common-lisp",
   "name": "common-lisp"
  },
  "language_info": {
   "codemirror_mode": "text/x-common-lisp",
   "file_extension": ".lisp",
   "mimetype": "text/x-common-lisp",
   "name": "common-lisp",
   "pygments_lexer": "common-lisp",
   "version": "1.4.5.debian"
  },
  "latex_envs": {
   "bibliofile": "biblio.bib",
   "cite_by": "apalike",
   "current_citInitial": 1,
   "eqLabelWithNumbers": true,
   "eqNumInitial": 0
  }
 },
 "nbformat": 4,
 "nbformat_minor": 4
}
