{
 "cells": [
  {
   "cell_type": "markdown",
   "metadata": {},
   "source": [
    "# Chapter 1: Introduction to Lisp"
   ]
  },
  {
   "cell_type": "markdown",
   "metadata": {},
   "source": [
    "## Introduction"
   ]
  },
  {
   "cell_type": "markdown",
   "metadata": {},
   "source": [
    "### Functions in Lisp\n",
    "\n",
    "Operators in lisp are generally called **functions** and commands that employ these operators are termed **function calls**"
   ]
  },
  {
   "cell_type": "code",
   "execution_count": 1,
   "metadata": {},
   "outputs": [
    {
     "data": {
      "text/plain": [
       "3"
      ]
     },
     "execution_count": 1,
     "metadata": {},
     "output_type": "execute_result"
    }
   ],
   "source": [
    ";; Example: The function 'length' returns the number of items in\n",
    ";; its argument (in this case a list of three items).\n",
    "(length '(king queen rook))\n",
    "\n",
    ";; Since lists can represent both function calls and data, it is\n",
    ";; necessary to distinguish one from the other. the single quote\n",
    ";; mark ' applied to a list distinguishes the list as data. Without\n",
    ";; that quote mark, the list (king queen rook) would be interpreted\n",
    ";; as the function 'king' being called with two parameters 'queen'\n",
    ";; and 'rook'\n"
   ]
  },
  {
   "cell_type": "code",
   "execution_count": 2,
   "metadata": {},
   "outputs": [
    {
     "ename": "UNBOUND-VARIABLE",
     "evalue": "The variable QUEEN is unbound.",
     "output_type": "error",
     "traceback": []
    },
    {
     "name": "stdout",
     "output_type": "stream",
     "text": [
      "\n",
      "SIMPLE-STYLE-WARNING: \n",
      "  undefined function: KING\n",
      "undefined variable: QUEEN\n",
      "undefined variable: ROOK\n"
     ]
    },
    {
     "name": "stderr",
     "output_type": "stream",
     "text": [
      "The variable QUEEN is unbound."
     ]
    }
   ],
   "source": [
    ";; In this example we get an error since the atom 'king' is not a\n",
    ";; defined function (see comment in the example above.)\n",
    "\n",
    "(length (king queen rook))"
   ]
  },
  {
   "cell_type": "markdown",
   "metadata": {},
   "source": [
    "### Extracting Information from Lists\n",
    "\n",
    "We consider three functions ('car', 'cdr' and 'reverse') that allow us to extract information from a list.\n",
    "\n",
    "* car : tells us the first element of a list\n",
    "* cdr : shows a list with its first element removed\n",
    "* reverse: shows the list in reverse order"
   ]
  },
  {
   "cell_type": "markdown",
   "metadata": {},
   "source": [
    "#### Examples"
   ]
  },
  {
   "cell_type": "code",
   "execution_count": 3,
   "metadata": {},
   "outputs": [
    {
     "data": {
      "text/plain": [
       "A"
      ]
     },
     "execution_count": 3,
     "metadata": {},
     "output_type": "execute_result"
    }
   ],
   "source": [
    ";; 'car' takes one list as argument and returns the first element\n",
    ";; element of the list\n",
    "\n",
    "(car '(a b c))"
   ]
  },
  {
   "cell_type": "code",
   "execution_count": 4,
   "metadata": {},
   "outputs": [
    {
     "data": {
      "text/plain": [
       "(B C)"
      ]
     },
     "execution_count": 4,
     "metadata": {},
     "output_type": "execute_result"
    }
   ],
   "source": [
    ";; 'cdr' takes one list as argument, removes the first element, and\n",
    ";; returns the TAIL of the list (all but the first element).\n",
    "\n",
    "(cdr '(a b c))"
   ]
  },
  {
   "cell_type": "code",
   "execution_count": 5,
   "metadata": {},
   "outputs": [
    {
     "data": {
      "text/plain": [
       "(C B A)"
      ]
     },
     "execution_count": 5,
     "metadata": {},
     "output_type": "execute_result"
    }
   ],
   "source": [
    ";; 'reverse' takes one list as argument and returns it in reverse\n",
    ";; order.\n",
    "\n",
    "(reverse '(a b c))"
   ]
  },
  {
   "cell_type": "markdown",
   "metadata": {},
   "source": [
    "#### Exercises"
   ]
  },
  {
   "cell_type": "code",
   "execution_count": 6,
   "metadata": {},
   "outputs": [
    {
     "data": {
      "text/plain": [
       "C"
      ]
     },
     "execution_count": 6,
     "metadata": {},
     "output_type": "execute_result"
    }
   ],
   "source": [
    ";; Write a lisp expression that returns 'c' from the list (c d e)\n",
    "\n",
    "(car '(c d e))"
   ]
  },
  {
   "cell_type": "code",
   "execution_count": 7,
   "metadata": {},
   "outputs": [
    {
     "data": {
      "text/plain": [
       "(R Q P)"
      ]
     },
     "execution_count": 7,
     "metadata": {},
     "output_type": "execute_result"
    }
   ],
   "source": [
    ";; Write a lisp expression that returns (r q p) from the list (p q r)\n",
    "\n",
    "(reverse '(p q r))"
   ]
  },
  {
   "cell_type": "code",
   "execution_count": 8,
   "metadata": {},
   "outputs": [
    {
     "data": {
      "text/plain": [
       "(F G)"
      ]
     },
     "execution_count": 8,
     "metadata": {},
     "output_type": "execute_result"
    }
   ],
   "source": [
    ";; Write a lisp expression that returns (f g) from the list (e f g)\n",
    "\n",
    "(cdr '(e f g))"
   ]
  },
  {
   "cell_type": "code",
   "execution_count": 9,
   "metadata": {},
   "outputs": [
    {
     "data": {
      "text/plain": [
       "(OF TO BE AT)"
      ]
     },
     "execution_count": 9,
     "metadata": {},
     "output_type": "execute_result"
    }
   ],
   "source": [
    ";; Write a lisp expression that returns (of to be at) from the\n",
    ";; list (at be to of)\n",
    "\n",
    "(reverse '(at be to of))"
   ]
  },
  {
   "cell_type": "code",
   "execution_count": 10,
   "metadata": {},
   "outputs": [
    {
     "data": {
      "text/plain": [
       "(TREE ROCK HILL)"
      ]
     },
     "execution_count": 10,
     "metadata": {},
     "output_type": "execute_result"
    }
   ],
   "source": [
    ";; Write a lisp expression that returns (tree rock hill) from\n",
    ";; the list (lake tree rock hill)\n",
    "\n",
    "(cdr '(lake tree rock hill))"
   ]
  },
  {
   "cell_type": "code",
   "execution_count": 11,
   "metadata": {},
   "outputs": [
    {
     "data": {
      "text/plain": [
       "HAT"
      ]
     },
     "execution_count": 11,
     "metadata": {},
     "output_type": "execute_result"
    }
   ],
   "source": [
    ";; Write a lisp expression that returns 'hat' from the list\n",
    ";; (hat tie belt shoes)\n",
    "\n",
    "(car '(hat tie belt shoes))"
   ]
  },
  {
   "cell_type": "markdown",
   "metadata": {},
   "source": [
    "### Constructing Lists\n",
    "\n",
    "Here we consider three ways in which arguments can be combined to create new lists.\n",
    "\n",
    "* list : This function takes any number of arguments and groups them into a list.\n",
    "* append : This function takes any number of lists as arguments and merges them into a single list.\n",
    "* cons : This function takes two arguments and inserts the first argument at the beginning of the second argument, which must be a list."
   ]
  },
  {
   "cell_type": "markdown",
   "metadata": {},
   "source": [
    "#### Examples"
   ]
  },
  {
   "cell_type": "code",
   "execution_count": 13,
   "metadata": {},
   "outputs": [
    {
     "data": {
      "text/plain": [
       "(A B C)"
      ]
     },
     "execution_count": 13,
     "metadata": {},
     "output_type": "execute_result"
    }
   ],
   "source": [
    ";; Note that the arguments to the 'list' function become the\n",
    ";; elements of the result.\n",
    "\n",
    "(list 'a 'b 'c)"
   ]
  },
  {
   "cell_type": "code",
   "execution_count": 14,
   "metadata": {},
   "outputs": [
    {
     "data": {
      "text/plain": [
       "(A B C D)"
      ]
     },
     "execution_count": 14,
     "metadata": {},
     "output_type": "execute_result"
    }
   ],
   "source": [
    ";; The arguments to append are lists. The elements of these arguments\n",
    ";; become the elements of the result.\n",
    "\n",
    "(append '(a b) '(c d))"
   ]
  },
  {
   "cell_type": "code",
   "execution_count": 15,
   "metadata": {},
   "outputs": [
    {
     "data": {
      "text/plain": [
       "(A B C)"
      ]
     },
     "execution_count": 15,
     "metadata": {},
     "output_type": "execute_result"
    }
   ],
   "source": [
    ";; The new list contains the first argument to cons as its first\n",
    ";; element, followed by the elements of the second argument.\n",
    "\n",
    "(cons 'a '(b c))"
   ]
  },
  {
   "cell_type": "markdown",
   "metadata": {},
   "source": [
    "#### Exercises"
   ]
  },
  {
   "cell_type": "code",
   "execution_count": 16,
   "metadata": {},
   "outputs": [
    {
     "data": {
      "text/plain": [
       "(C E F)"
      ]
     },
     "execution_count": 16,
     "metadata": {},
     "output_type": "execute_result"
    }
   ],
   "source": [
    ";; Write a lisp expression that takes 'c' and (e f) and returns\n",
    ";; the list (c e f)\n",
    "\n",
    "(cons 'c '(e f))"
   ]
  },
  {
   "cell_type": "code",
   "execution_count": 17,
   "metadata": {},
   "outputs": [
    {
     "data": {
      "text/plain": [
       "(X Y Z)"
      ]
     },
     "execution_count": 17,
     "metadata": {},
     "output_type": "execute_result"
    }
   ],
   "source": [
    ";; Write a lisp expression that takes 'x', 'y' and 'z' and\n",
    ";; returns the list (x y z)\n",
    "\n",
    "(list 'x 'y 'z)"
   ]
  },
  {
   "cell_type": "code",
   "execution_count": 2,
   "metadata": {},
   "outputs": [
    {
     "data": {
      "text/plain": [
       "(S T U)"
      ]
     },
     "execution_count": 2,
     "metadata": {},
     "output_type": "execute_result"
    }
   ],
   "source": [
    ";; Write a lisp expression that takes (s) and (t u) and returns\n",
    ";; the list (s t u)\n",
    "\n",
    "(append '(s) '(t u))"
   ]
  },
  {
   "cell_type": "code",
   "execution_count": 3,
   "metadata": {},
   "outputs": [
    {
     "data": {
      "text/plain": [
       "(DOOR WINDOW)"
      ]
     },
     "execution_count": 3,
     "metadata": {},
     "output_type": "execute_result"
    }
   ],
   "source": [
    ";; Write a lisp expression that takes 'door' and 'window' and\n",
    ";; returns the list (door window)\n",
    "\n",
    "(list 'door 'window)"
   ]
  },
  {
   "cell_type": "code",
   "execution_count": 4,
   "metadata": {},
   "outputs": [
    {
     "data": {
      "text/plain": [
       "(UP DOWN IN OUT)"
      ]
     },
     "execution_count": 4,
     "metadata": {},
     "output_type": "execute_result"
    }
   ],
   "source": [
    ";; Write a lisp expression that takes (up down) and (in out)\n",
    ";; and returns the list (up down in out)\n",
    "\n",
    "(append '(up down) '(in out))"
   ]
  },
  {
   "cell_type": "code",
   "execution_count": 5,
   "metadata": {},
   "outputs": [
    {
     "data": {
      "text/plain": [
       "(RED BLUE TAN PINK)"
      ]
     },
     "execution_count": 5,
     "metadata": {},
     "output_type": "execute_result"
    }
   ],
   "source": [
    ";; Write a lisp expression that takes 'red' and (blue tan pink)\n",
    ";; and returns the list (red blue tan pink)\n",
    "\n",
    "(cons 'red '(blue tan pink))"
   ]
  },
  {
   "cell_type": "markdown",
   "metadata": {},
   "source": [
    "### Embedded Lists\n",
    "\n",
    "Lists can contain not only atoms as elements but they can contain other lists as well. These 'lists within lists' are called 'embedded lists'. An example is:\n",
    "\n",
    "((dog cat canary) (horse cow sheep)) ; A list with two list elements.\n",
    "\n",
    "The atoms 'dog', 'cat', 'cow', etc... are not elements of the whole list, but are elements of the embedded lists.\n",
    "\n",
    "Other examples are:\n",
    "\n",
    "- ((feb) (apr jun sep nov) (jan mar may jul aug oct dec))\n",
    "- (smith jack (23 oak dr) pgh (412 555 8926) 45 architect)\n",
    "- (a (b c) d (e (f g)) h)"
   ]
  },
  {
   "cell_type": "markdown",
   "metadata": {},
   "source": [
    "#### Function Calls with embedded lists\n",
    "\n",
    "Let's see how the functions we encountered previously act on embedded lists."
   ]
  },
  {
   "cell_type": "markdown",
   "metadata": {},
   "source": [
    "##### Examples"
   ]
  },
  {
   "cell_type": "code",
   "execution_count": 6,
   "metadata": {},
   "outputs": [
    {
     "data": {
      "text/plain": [
       "(A B)"
      ]
     },
     "execution_count": 6,
     "metadata": {},
     "output_type": "execute_result"
    }
   ],
   "source": [
    ";; The list ((a b) (c d) (e f)) contains three list elements.\n",
    ";; car returns the first element of a list, so it will return\n",
    ";; the list (a b)\n",
    "\n",
    "(car '((a b) (c d) (e f)))"
   ]
  },
  {
   "cell_type": "code",
   "execution_count": 7,
   "metadata": {},
   "outputs": [
    {
     "data": {
      "text/plain": [
       "((A B) C (D E))"
      ]
     },
     "execution_count": 7,
     "metadata": {},
     "output_type": "execute_result"
    }
   ],
   "source": [
    ";; The function 'list' will take its arguments and combine them\n",
    ";; together into a list. Here some of the arguments are themselves lists.\n",
    ";; Therefore 'list' will create a list of these list arguments\n",
    "\n",
    "(list '(a b) 'c '(d e))"
   ]
  },
  {
   "cell_type": "code",
   "execution_count": 8,
   "metadata": {},
   "outputs": [
    {
     "data": {
      "text/plain": [
       "(A (B C) (D) E)"
      ]
     },
     "execution_count": 8,
     "metadata": {},
     "output_type": "execute_result"
    }
   ],
   "source": [
    ";; The function 'append' merges its arguments together - the elements\n",
    ";; of the arguments become the elements of the result. Any elements\n",
    ";; of the arguments that are themselves lists remain lists in the\n",
    ";; result\n",
    "\n",
    "(append '(a (b c)) '((d) e))"
   ]
  },
  {
   "cell_type": "code",
   "execution_count": 9,
   "metadata": {},
   "outputs": [
    {
     "data": {
      "text/plain": [
       "((A B) C D)"
      ]
     },
     "execution_count": 9,
     "metadata": {},
     "output_type": "execute_result"
    }
   ],
   "source": [
    ";; 'cons' inserts its first argument at the beginning of its second\n",
    ";; argument. If the first argument is a list, that list becomes\n",
    ";; the first element of the result\n",
    "\n",
    "(cons '(a b) '(c d))"
   ]
  },
  {
   "cell_type": "markdown",
   "metadata": {},
   "source": [
    "##### Exercises"
   ]
  },
  {
   "cell_type": "code",
   "execution_count": 10,
   "metadata": {},
   "outputs": [
    {
     "data": {
      "text/plain": [
       "((S T) R (P Q))"
      ]
     },
     "execution_count": 10,
     "metadata": {},
     "output_type": "execute_result"
    }
   ],
   "source": [
    ";; Write a lisp expression that returns ((s t) r (p q)) from\n",
    ";; the list ((p q) r (s t))\n",
    "\n",
    "(reverse '((p q) r (s t)))"
   ]
  },
  {
   "cell_type": "code",
   "execution_count": 11,
   "metadata": {},
   "outputs": [
    {
     "data": {
      "text/plain": [
       "(A B C)"
      ]
     },
     "execution_count": 11,
     "metadata": {},
     "output_type": "execute_result"
    }
   ],
   "source": [
    ";; Write a lisp expression that returns (a b c) from the list\n",
    ";; ((a b c) (d e f))\n",
    "\n",
    "(car '((a b c) (d e f)))"
   ]
  },
  {
   "cell_type": "code",
   "execution_count": 12,
   "metadata": {},
   "outputs": [
    {
     "data": {
      "text/plain": [
       "(W (X Y Z))"
      ]
     },
     "execution_count": 12,
     "metadata": {},
     "output_type": "execute_result"
    }
   ],
   "source": [
    ";; Write a lisp expression that returns (w (x y z)) from the\n",
    ";; list ((u v) w (x y z))\n",
    "\n",
    "(cdr '((u v) w (x y z)))"
   ]
  },
  {
   "cell_type": "code",
   "execution_count": 13,
   "metadata": {},
   "outputs": [
    {
     "data": {
      "text/plain": [
       "(AND OR)"
      ]
     },
     "execution_count": 13,
     "metadata": {},
     "output_type": "execute_result"
    }
   ],
   "source": [
    ";; Write a lisp expression that returns (and or) from the list\n",
    ";; ((and or) few (some many))\n",
    "\n",
    "(car '((and or) few (some many)))"
   ]
  },
  {
   "cell_type": "code",
   "execution_count": 14,
   "metadata": {},
   "outputs": [
    {
     "data": {
      "text/plain": [
       "((BALL) (BASE))"
      ]
     },
     "execution_count": 14,
     "metadata": {},
     "output_type": "execute_result"
    }
   ],
   "source": [
    ";; Write a lisp expression that returns ((ball) (base)) from\n",
    ";; the list ((bat) (ball) (base))\n",
    "\n",
    "(cdr '((bat) (ball) (base)))"
   ]
  },
  {
   "cell_type": "code",
   "execution_count": 15,
   "metadata": {},
   "outputs": [
    {
     "data": {
      "text/plain": [
       "((TUNA SHARK) (SHOE BOOT SOCK))"
      ]
     },
     "execution_count": 15,
     "metadata": {},
     "output_type": "execute_result"
    }
   ],
   "source": [
    ";; Write a lisp expression that returns ((tuna shark) (shoe boot sock))\n",
    ";; from the list ((shoe boot sock) (tuna shark))\n",
    "\n",
    "(reverse '((shoe boot sock) (tuna shark)))"
   ]
  },
  {
   "cell_type": "code",
   "execution_count": 16,
   "metadata": {},
   "outputs": [
    {
     "data": {
      "text/plain": [
       "((A) (X Y) (Z))"
      ]
     },
     "execution_count": 16,
     "metadata": {},
     "output_type": "execute_result"
    }
   ],
   "source": [
    ";; Write a lisp expression that takes (a) (x y) and (z) and\n",
    ";; returns the list ((a) (x y) (z))\n",
    "\n",
    "(list '(a) '(x y) '(z))"
   ]
  },
  {
   "cell_type": "code",
   "execution_count": 34,
   "metadata": {},
   "outputs": [
    {
     "data": {
      "text/plain": [
       "((J) (K) (H) (M N))"
      ]
     },
     "execution_count": 34,
     "metadata": {},
     "output_type": "execute_result"
    }
   ],
   "source": [
    ";; Write a lisp expression that takes ((j) (k)), ((h)) and ((m n))\n",
    ";; and returns the list ((j) (k) (h) (m n))\n",
    "\n",
    "(append '((j) (k)) '((h)) '((m n)))"
   ]
  },
  {
   "cell_type": "code",
   "execution_count": 35,
   "metadata": {},
   "outputs": [
    {
     "data": {
      "text/plain": [
       "((P Q) R S T)"
      ]
     },
     "execution_count": 35,
     "metadata": {},
     "output_type": "execute_result"
    }
   ],
   "source": [
    ";; Write a lisp expression that takes (p q) and (r s t) and\n",
    ";; returns the list ((p q) r s t)\n",
    "\n",
    "(cons '(p q) '(r s t))"
   ]
  },
  {
   "cell_type": "code",
   "execution_count": 36,
   "metadata": {},
   "outputs": [
    {
     "data": {
      "text/plain": [
       "(KNEE (FOOT HAND ELBOW))"
      ]
     },
     "execution_count": 36,
     "metadata": {},
     "output_type": "execute_result"
    }
   ],
   "source": [
    ";; Write a lisp expression that takes 'knee' and (foot hand elbow)\n",
    ";; and returns the list (knee (foot hand elbow))\n",
    "\n",
    "(list 'knee '(foot hand elbow))"
   ]
  },
  {
   "cell_type": "code",
   "execution_count": 38,
   "metadata": {},
   "outputs": [
    {
     "data": {
      "text/plain": [
       "(DO (RE) (ME) FA)"
      ]
     },
     "execution_count": 38,
     "metadata": {},
     "output_type": "execute_result"
    }
   ],
   "source": [
    ";; Write a lisp expression that takes (do), ((re) (mi)) and (fa)\n",
    ";; and returns the list (do (re) (mi) fa)\n",
    "\n",
    "(append '(do) '((re) (me)) '(fa))"
   ]
  },
  {
   "cell_type": "code",
   "execution_count": 39,
   "metadata": {},
   "outputs": [
    {
     "data": {
      "text/plain": [
       "((HUT) (SHED) (TENT))"
      ]
     },
     "execution_count": 39,
     "metadata": {},
     "output_type": "execute_result"
    }
   ],
   "source": [
    ";; Write a lisp expression that takes (hut) and ((shed) (tent))\n",
    ";; and returns the list ((hut) (shed) (tent))\n",
    "\n",
    "(cons '(hut) '((shed) (tent)))"
   ]
  },
  {
   "cell_type": "markdown",
   "metadata": {},
   "source": [
    "### Embedded Function Calls\n",
    "\n",
    "In all the previous examples, functions were called with *literal* arguments (quoted atoms or quoted lists). Functions can also take two other kinds of arguments:\n",
    "\n",
    "* Variable arguments\n",
    "* Function arguments\n",
    "\n",
    "An example of a call with a function argument is:\n",
    "\n",
    "   (length (append '(a b c) '(d e f)))\n",
    "\n",
    "When this code is executed, the 'length' function evaluates its argument (append '(a b c) '(d e f)). Since the argument is itself a function call, it is called with its arguments '(a b c) and '(d e f) returning the list (a b c d e f). Finally 'length' is called on this list, returning its length."
   ]
  },
  {
   "cell_type": "code",
   "execution_count": 40,
   "metadata": {},
   "outputs": [
    {
     "data": {
      "text/plain": [
       "6"
      ]
     },
     "execution_count": 40,
     "metadata": {},
     "output_type": "execute_result"
    }
   ],
   "source": [
    ";; Example\n",
    "(length (append '(a b c) '(d e f)))"
   ]
  },
  {
   "cell_type": "markdown",
   "metadata": {},
   "source": [
    "#### Extractor Operations\n",
    "\n",
    "Here we will see how to extract other information from lists using the functions 'car', 'cdr' and 'reverse'\n",
    "\n",
    "Some rules for planning extractor operations:\n",
    "\n",
    "* To remove elements from the front of a list use multiple calls to 'cdr'. To remove N elements, you must call 'cdr' N times.\n",
    "* To extract any single element from a list use 'car'. To extract the first element of a list, use 'car' and give the list as its argument. To extract any other element also use 'car' but the argument will be one or more nested function calls that move the desired element to the front of the list.\n",
    "* To move an element forward in a list use 'cdr'\n",
    "* To extract an element from the end of a list use 'reverse' along with the operations prescribed above."
   ]
  },
  {
   "cell_type": "markdown",
   "metadata": {},
   "source": [
    "##### Exercises"
   ]
  },
  {
   "cell_type": "code",
   "execution_count": 41,
   "metadata": {},
   "outputs": [
    {
     "data": {
      "text/plain": [
       "CAT"
      ]
     },
     "execution_count": 41,
     "metadata": {},
     "output_type": "execute_result"
    }
   ],
   "source": [
    ";; Write a lisp expression that will return the third element\n",
    ";; 'cat' from the list (horse dog cat cow pig)\n",
    "\n",
    "(car (cdr (cdr '(horse dog cat cow pig))))"
   ]
  },
  {
   "cell_type": "code",
   "execution_count": 42,
   "metadata": {},
   "outputs": [
    {
     "data": {
      "text/plain": [
       "CELERY"
      ]
     },
     "execution_count": 42,
     "metadata": {},
     "output_type": "execute_result"
    }
   ],
   "source": [
    ";; Write a lisp expression that will return the last element\n",
    ";; 'celery' from the list (carrot corn celery)\n",
    "\n",
    "(car (reverse '(carrot corn celery)))"
   ]
  },
  {
   "cell_type": "code",
   "execution_count": 43,
   "metadata": {},
   "outputs": [
    {
     "data": {
      "text/plain": [
       "(BIKE JEEP)"
      ]
     },
     "execution_count": 43,
     "metadata": {},
     "output_type": "execute_result"
    }
   ],
   "source": [
    ";; Write a lisp expression that will remove the first three\n",
    ";; elements from the list (van bus cab bike jeep) and return\n",
    ";; (bike jeep)\n",
    "\n",
    "(cdr (cdr (cdr '(van bus cab bike jeep))))"
   ]
  },
  {
   "cell_type": "code",
   "execution_count": 44,
   "metadata": {},
   "outputs": [
    {
     "data": {
      "text/plain": [
       "(Y Z)"
      ]
     },
     "execution_count": 44,
     "metadata": {},
     "output_type": "execute_result"
    }
   ],
   "source": [
    ";; Write a lisp expression that will return the last element\n",
    ";; (y z) from the list ((u v) (w x) (y z))\n",
    "\n",
    "(car (reverse '((u v) (w x) (y z))))"
   ]
  },
  {
   "cell_type": "code",
   "execution_count": 45,
   "metadata": {},
   "outputs": [
    {
     "data": {
      "text/plain": [
       "((R) (S) (T))"
      ]
     },
     "execution_count": 45,
     "metadata": {},
     "output_type": "execute_result"
    }
   ],
   "source": [
    ";; Write a lisp expression that will remove the first two\n",
    ";; elements from the list ((p) (q) (r) (s) (t)) and return\n",
    ";; ((r) (s) (t))\n",
    "\n",
    "(cdr (cdr '((p) (q) (r) (s) (t))))"
   ]
  },
  {
   "cell_type": "code",
   "execution_count": 46,
   "metadata": {},
   "outputs": [
    {
     "data": {
      "text/plain": [
       "(E F)"
      ]
     },
     "execution_count": 46,
     "metadata": {},
     "output_type": "execute_result"
    }
   ],
   "source": [
    ";; Write a lisp expression that will return the second element\n",
    ";; (e f) from the list ((c d) (e f) (g h))\n",
    "\n",
    "(car (cdr '((c d) (e f) (g h))))"
   ]
  },
  {
   "cell_type": "markdown",
   "metadata": {},
   "source": [
    "### Defining New Functions\n",
    "\n",
    "Here we learn how to define our own lisp functions to perform tasks that we perform frequently.\n",
    "\n",
    "To define a function we must:\n",
    "\n",
    "* Give a name to the function to use later in a function call\n",
    "* Specify the number of arguments the function accepts\n",
    "* Specify what the function does\n",
    "\n",
    "In lisp we use the 'defun' operator to define a new function. 'defun' takes three arguments, one for each component of the function definition:\n",
    "\n",
    "* The function name; It must be an atom.\n",
    "* A list of function parameters. Each parameter name is an atom but the parameter can stand for any S-Expression (atom or list). You will need one parameter for each argument that will appear in a call to the new function. A parameter is a type of variable.\n",
    "* The function body. The value the function returns is the value returned by the function body.\n",
    "\n",
    "The template is:\n",
    "\n",
    "    (defun <function-name> ([parameters...])\n",
    "    function-body)\n",
    "    \n",
    "For example, a function 'my_second' which returns the second element in a list could be defined by:\n",
    "\n",
    "    (defun my_second (lst)\n",
    "        (car (cdr lst)))\n",
    "        \n",
    "Note: the functions 'first', 'second', 'third', 'fourth' are already defined in CCL."
   ]
  },
  {
   "cell_type": "code",
   "execution_count": 53,
   "metadata": {},
   "outputs": [
    {
     "name": "stderr",
     "output_type": "stream",
     "text": [
      "REDEFINITION-WITH-DEFUN: \n",
      "  redefining CL-JUPYTER-USER::MY_SECOND in DEFUN\n"
     ]
    },
    {
     "data": {
      "text/plain": [
       "(B C)"
      ]
     },
     "execution_count": 53,
     "metadata": {},
     "output_type": "execute_result"
    }
   ],
   "source": [
    ";; Example function definition. This function 'my_second' returns\n",
    ";; the second element in a list passed as an argument. Note that\n",
    ";; none of the arguments in the function definition are quoted.\n",
    "\n",
    ";; Because the argument to 'my_second' is not quoted, the function\n",
    ";; does not operate on the literal atom 'lst but rather on the list\n",
    ";; that lst stands for; lst is a VARIABLE.\n",
    "\n",
    "(defun my_second (lst)\n",
    "    (car (cdr lst)))\n",
    "\n",
    ";; Calling the function with the list (a (b c) (d e f) g). When\n",
    ";; the function is called, the parameter lst is bound to the list\n",
    ";; (a (b c) (d e f) g), then evaluation of the function body\n",
    ";; proceeds.\n",
    "\n",
    "(my_second '(a (b c) (d e f) f))"
   ]
  },
  {
   "cell_type": "code",
   "execution_count": 54,
   "metadata": {},
   "outputs": [
    {
     "data": {
      "text/plain": [
       "(H I)"
      ]
     },
     "execution_count": 54,
     "metadata": {},
     "output_type": "execute_result"
    }
   ],
   "source": [
    ";; Example: Define a function 'tail-of-last' that returns the\n",
    ";; tail of the last element of a list. For example, calling the\n",
    ";; function on the list ((a b c) (d e f) (g h i)) will return\n",
    ";; the list (h i)\n",
    "\n",
    "(defun tail-of-last (lst)\n",
    "    (cdr (car (reverse lst))))\n",
    "\n",
    ";; Call the function on the list ((a b c) (d e f) (g h i))\n",
    "\n",
    "(tail-of-last '((a b c) (d e f) (g h i)))"
   ]
  },
  {
   "cell_type": "markdown",
   "metadata": {},
   "source": [
    "#### Exercises"
   ]
  },
  {
   "cell_type": "code",
   "execution_count": 57,
   "metadata": {},
   "outputs": [
    {
     "data": {
      "text/plain": [
       "F"
      ]
     },
     "execution_count": 57,
     "metadata": {},
     "output_type": "execute_result"
    }
   ],
   "source": [
    ";; Define a lisp function named 'my-last' that takes a list as an\n",
    ";; argument and returns the last element of the list. For example,\n",
    "\n",
    ";; (my-last '(a b c d e f))\n",
    ";; returns f\n",
    "\n",
    ";; (my-last '(w x y z))\n",
    ";; returns z\n",
    "\n",
    "(defun my-last (lst)\n",
    "    (car (reverse lst)))\n",
    "\n",
    ";; Call the function on the list (a b c d e f)\n",
    "\n",
    "(my-last '(a b c d e f))"
   ]
  },
  {
   "cell_type": "code",
   "execution_count": 58,
   "metadata": {},
   "outputs": [
    {
     "data": {
      "text/plain": [
       "(C D E F)"
      ]
     },
     "execution_count": 58,
     "metadata": {},
     "output_type": "execute_result"
    }
   ],
   "source": [
    ";; Define a lisp function named 'remove-two' that takes a list as\n",
    ";; an argument and removes the first two elements of the list. For\n",
    ";; example,\n",
    "\n",
    ";; (remove-two '(a b c d e f))\n",
    ";; returns (c d e f)\n",
    "\n",
    "(defun remove-two (lst)\n",
    "    (cdr (cdr lst)))\n",
    "\n",
    ";; Call the function on the list (a b c d e f)\n",
    "\n",
    "(remove-two '(a b c d e f))"
   ]
  },
  {
   "cell_type": "code",
   "execution_count": 59,
   "metadata": {},
   "outputs": [
    {
     "data": {
      "text/plain": [
       "B"
      ]
     },
     "execution_count": 59,
     "metadata": {},
     "output_type": "execute_result"
    }
   ],
   "source": [
    ";; Defina a lisp function named 'second-of-first' that takes one\n",
    ";; argument, which must be a list of lists, and returns the second\n",
    ";; element of the first embedded list. For example,\n",
    "\n",
    ";; (second-of-first '((a b c) (d e f) (g h i)))\n",
    ";; returns 'b'\n",
    "\n",
    "(defun second-of-first (lsts)\n",
    "    (car (cdr (car lsts))))\n",
    "\n",
    ";; Call the function on the list of lists ((a b c) (d e f) (g h i))\n",
    "\n",
    "(second-of-first '((a b c) (d e f) (g h i)))"
   ]
  },
  {
   "cell_type": "code",
   "execution_count": 60,
   "metadata": {},
   "outputs": [
    {
     "data": {
      "text/plain": [
       "(W V U)"
      ]
     },
     "execution_count": 60,
     "metadata": {},
     "output_type": "execute_result"
    }
   ],
   "source": [
    ";; Define a list function named 'flip-second' that takes one\n",
    ";; argument, which must be a list of lists, extracts and flips\n",
    ";; the second embedded list. For example,\n",
    "\n",
    ";; (flip-second '((r s t) (u v w) (x y z)))\n",
    ";; returns (w v u)\n",
    "\n",
    "(defun flip-second (lsts)\n",
    "    (reverse (car (cdr lsts))))\n",
    "\n",
    ";; Call the function on the list of lists ((r s t) (u v w) (x y z))\n",
    "\n",
    "(flip-second '((r s t) (u v w) (x y z)))"
   ]
  },
  {
   "cell_type": "code",
   "execution_count": 62,
   "metadata": {},
   "outputs": [
    {
     "name": "stderr",
     "output_type": "stream",
     "text": [
      "REDEFINITION-WITH-DEFUN: \n",
      "  redefining CL-JUPYTER-USER::REPLACE-FIRST in DEFUN\n"
     ]
    },
    {
     "data": {
      "text/plain": [
       "(ROSE DAISY IRIS)"
      ]
     },
     "execution_count": 62,
     "metadata": {},
     "output_type": "execute_result"
    }
   ],
   "source": [
    ";; Define a function named 'replace-first' that takes two arguments.\n",
    ";; Assume the second argument will be a list. The function replaces\n",
    ";; the first element of the list with the first argument. For example,\n",
    "\n",
    ";; (replace-first 'rose '(tulip daisy iris)) returns\n",
    ";; (rose daisy iris)\n",
    "\n",
    "(defun replace-first (arg lst)\n",
    "    (cons arg (cdr lst)))\n",
    "\n",
    ";; Call the function with arguments rose and (tulip daisy iris)\n",
    "\n",
    "(replace-first 'rose '(tulip daisy iris))"
   ]
  },
  {
   "cell_type": "code",
   "execution_count": 63,
   "metadata": {},
   "outputs": [
    {
     "data": {
      "text/plain": [
       "(LION TIGER PANTHER PANTHER TIGER LION)"
      ]
     },
     "execution_count": 63,
     "metadata": {},
     "output_type": "execute_result"
    }
   ],
   "source": [
    ";; Define a function 'pal' that takes a list as an argument and\n",
    ";; returns a new list that is a palindrome of the argument. A \n",
    ";; palindrome is a list that reads the same forward and backward.\n",
    ";; For example,\n",
    "\n",
    ";; (pal '(lion tiger panther)) returns\n",
    ";; (lion tiger panther panther tiger lion)\n",
    "\n",
    "(defun pal (lst)\n",
    "    (append lst (reverse lst)))\n",
    "\n",
    ";; Call the function with argument (lion tiger panther)\n",
    "\n",
    "(pal '(lion tiger panther))"
   ]
  },
  {
   "cell_type": "code",
   "execution_count": 64,
   "metadata": {},
   "outputs": [
    {
     "data": {
      "text/plain": [
       "(SOPRANO TENOR ALTO SOPRANO)"
      ]
     },
     "execution_count": 64,
     "metadata": {},
     "output_type": "execute_result"
    }
   ],
   "source": [
    ";; Define a function named 'last-for-first' that takes a list as\n",
    ";; an argument and replaces the first element of the list with a\n",
    ";; copy of the last element. For example,\n",
    "\n",
    ";; (last-for-first '(bass tenor alto soprano)) returns\n",
    ";; (soprano tenor alto soprano)\n",
    "\n",
    "(defun last-for-first (lst)\n",
    "    (cons (car (reverse lst)) (cdr lst)))\n",
    "\n",
    ";; Call the function with the argument (bass tenor alto soprano)\n",
    "\n",
    "(last-for-first '(bass tenor alto soprano))"
   ]
  },
  {
   "cell_type": "code",
   "execution_count": 65,
   "metadata": {},
   "outputs": [
    {
     "data": {
      "text/plain": [
       "(BASKET BOX)"
      ]
     },
     "execution_count": 65,
     "metadata": {},
     "output_type": "execute_result"
    }
   ],
   "source": [
    ";; Define a function named 'two-elems' that takes two arguments.\n",
    ";; Assume the first argument will be a list. The function returns\n",
    ";; a new list containing the first element of the first argument\n",
    ";; and the second argument. For example,\n",
    "\n",
    ";; (two-elems '(basket bag pack) 'box) returns\n",
    ";; (basket box)\n",
    "\n",
    "(defun two-elems (lst arg)\n",
    "    (list (car lst) arg))\n",
    "\n",
    ";; Call the function with arguments (basket bag pack) and box\n",
    "\n",
    "(two-elems '(basket bag pack) 'box)"
   ]
  },
  {
   "cell_type": "code",
   "execution_count": 69,
   "metadata": {},
   "outputs": [
    {
     "data": {
      "text/plain": [
       "(DEF GHI MNO PQR)"
      ]
     },
     "execution_count": 69,
     "metadata": {},
     "output_type": "execute_result"
    }
   ],
   "source": [
    ";; Define a function named 'no-firsts' that takes two lists as\n",
    ";; arguments and returns a list containing the elements in the\n",
    ";; tail of the first argument followed by the elements in the\n",
    ";; tail of the second argument. For example,\n",
    "\n",
    ";; (no-firsts '(abc def ghi) '(jkl mno pqr)) returns\n",
    ";; (def ghi mno pqr)\n",
    "\n",
    "(defun no-firsts (lst1 lst2)\n",
    "    (append (cdr lst1) (cdr lst2)))\n",
    "\n",
    ";; Call the function with arguments (abc def ghi) and (jkl mno pqr)\n",
    "\n",
    "(no-firsts '(abc def ghi) '(jkl mno pqr))"
   ]
  },
  {
   "cell_type": "code",
   "execution_count": 70,
   "metadata": {},
   "outputs": [
    {
     "data": {
      "text/plain": [
       "(EAR EAR)"
      ]
     },
     "execution_count": 70,
     "metadata": {},
     "output_type": "execute_result"
    }
   ],
   "source": [
    ";; Define a function named 'seconds' that takes a list as an\n",
    ";; argument and returns a new list containing two copies of\n",
    ";; the second element of the argument. For example,\n",
    "\n",
    ";; (seconds '(eye ear nose throat)) returns\n",
    ";; (ear ear)\n",
    "\n",
    "(defun seconds (lst)\n",
    "    (list (car (cdr lst)) (car (cdr lst))))\n",
    "\n",
    ";; Call the function with the argument (eye ear nose throat)\n",
    "\n",
    "(seconds '(eye ear nose throat))"
   ]
  },
  {
   "cell_type": "markdown",
   "metadata": {},
   "source": [
    "### Arithmetic in Lisp\n",
    "\n",
    "Arithmetic is accomplishd in list with the functions '+', '-', '*' and '/'. Some example arithmetic calls in lisp are shown in the table below.\n",
    "\n",
    "\n",
    "| Function call | Returns   |\n",
    "|------|------|\n",
    "| (+ 2 3) | 5 |\n",
    "| (/ 8 2) | 4 |\n",
    "| (- 4.2 3.1) | 1.1 |\n",
    "| (- 9) | -9 |\n",
    "| (+ 3 5 7) | 15 |\n",
    "| (* 2 2 3 5) | 60 |\n",
    "\n",
    "\n",
    "The arguments to arithmetic operators can be numbers or any expressions that evaluate to numbers, including variables and function calls. Numbers are not quoted and evaluate to their corresponding numeric value.\n",
    "\n",
    "Some other examples are:\n",
    "\n",
    "    (+ 132 (/ 32 8))\n",
    "    (* (+ 4 5) (- 17 15))\n",
    "    (/ (/ 1 3) (car '(18 19 10)))\n",
    "    (cons (* 7 (+ 7 6 15)) '(a b c))\n"
   ]
  },
  {
   "cell_type": "markdown",
   "metadata": {
    "collapsed": true
   },
   "source": [
    "#### Exercises"
   ]
  },
  {
   "cell_type": "code",
   "execution_count": 1,
   "metadata": {},
   "outputs": [
    {
     "data": {
      "text/plain": [
       "100"
      ]
     },
     "execution_count": 1,
     "metadata": {},
     "output_type": "execute_result"
    }
   ],
   "source": [
    ";; Define a function 'ftoc' that takes as its argument a degree\n",
    ";; reading in Fahrenheit and returns the Celsius equivalent. First\n",
    ";; you should translate the scale by subtracting 32 from the\n",
    ";; Fahrenheit reading, since 32 Fahrenheit = 0 Celsius, then you need\n",
    ";; to change the scale by multiplying the result by 5/9. For example,\n",
    "\n",
    ";; (ftoc 212) returns 100\n",
    "\n",
    "(defun ftoc (fahrenheit)\n",
    "    (* (/ 5 9) (- fahrenheit 32)))\n",
    "\n",
    ";; Call the function with an argument of 212\n",
    "\n",
    "(ftoc 212)"
   ]
  },
  {
   "cell_type": "code",
   "execution_count": 2,
   "metadata": {},
   "outputs": [
    {
     "data": {
      "text/plain": [
       "314.0"
      ]
     },
     "execution_count": 2,
     "metadata": {},
     "output_type": "execute_result"
    }
   ],
   "source": [
    ";; Define a function 'circle' that takes a number representing the\n",
    ";; radius of a circle as its argument and returns the area of the\n",
    ";; circle, which equals the product of 3.14 and the square of the\n",
    ";; radius. For example,\n",
    "\n",
    ";; (circle 10) returns 314\n",
    "\n",
    "(defun circle (radius)\n",
    "    (* 3.14 radius radius))\n",
    "\n",
    ";; Call the function with an argument of 10\n",
    "\n",
    "(circle 10)"
   ]
  },
  {
   "cell_type": "code",
   "execution_count": 3,
   "metadata": {},
   "outputs": [
    {
     "data": {
      "text/plain": [
       "9"
      ]
     },
     "execution_count": 3,
     "metadata": {},
     "output_type": "execute_result"
    }
   ],
   "source": [
    ";; Define a function named 'mean3' that takes a list of numbers as\n",
    ";; its argument and returns the average of the first three numbers\n",
    ";; in the list (the sum of the numbers divided by 3). For example,\n",
    "\n",
    ";; (mean3 '(6 12 9 20)) returns 9\n",
    "\n",
    "(defun mean3 (numlst)\n",
    "    (/ (+ (car (cdr (cdr numlst)))\n",
    "          (car (cdr numlst))\n",
    "          (car numlst))\n",
    "       3))\n",
    "\n",
    ";; Call the function with the argument (6 12 9 20)\n",
    "\n",
    "(mean3 '(6 12 9 20))"
   ]
  },
  {
   "cell_type": "markdown",
   "metadata": {},
   "source": [
    "### Temporary variables\n",
    "\n",
    "Parameters in function calls are variables that are automatically bound to the arguments in the function call when the function is called. In this section we discuss another type of variable called \"temporary variables.\"\n",
    "\n",
    "The \"let\" statement is used to create and assign temporary variables in lisp for use in functions. These variables exist only inside the scope of the \"let\" statement and disappear once the \"let\" statement has been evaluated.\n",
    "\n",
    "The \"let\" template is:\n",
    "\n",
    "    (let ((name initial-value) ... )\n",
    "        lisp-expression1\n",
    "        lisp-expression2\n",
    "        ... )\n",
    "        \n",
    "A \"let\" statement can take any number of arguments, but the first argument has a special role and structure. It is called a \"local variable list\". Each element in this list is itself a list containing two elements called an \"initialization\". Note that in typing, the \"let\" is followed by two parenthesis. The first one starts the local variable list and the second one starts the first initialization.\n",
    "\n",
    "Each initialization in the local variable list is a list containing two elements:\n",
    "\n",
    "    (name initial-value)\n",
    "    \n",
    "The first element is a temporary variable name - an unquoted atom not already in use as a function name or variable name. The second element in an initialization, called an \"initial value\" can be any lisp expression.\n",
    "\n",
    "When the function is called, each initial value in the local variable list is evaluated and the resulting value is assigned to the corresponding variable.\n",
    "\n",
    "A \"let\" can have any number of arguments following the local variable list. These additional arguments are called the \"body\" of the \"let\". They are lisp expressions that will be evaluated in sequence. A \"let\" returns the value of its last argument."
   ]
  },
  {
   "cell_type": "code",
   "execution_count": 13,
   "metadata": {},
   "outputs": [
    {
     "name": "stderr",
     "output_type": "stream",
     "text": [
      "REDEFINITION-WITH-DEFUN: \n",
      "  redefining CL-JUPYTER-USER::BANK-BALANCE in DEFUN\n"
     ]
    },
    {
     "data": {
      "text/plain": [
       "BANK-BALANCE"
      ]
     },
     "execution_count": 13,
     "metadata": {},
     "output_type": "execute_result"
    }
   ],
   "source": [
    ";; Example: The function 'bank-balance' below calculates a new\n",
    ";; balance, (+ initbalance deposits (- withdrawals)), twice.\n",
    "\n",
    "(defun bank-balance (initbalance deposits withdrawals)\n",
    "    (list (+ initbalance deposits (- withdrawals))\n",
    "          (/ (+ initbalance deposits (- withdrawals))\n",
    "             initbalance)))"
   ]
  },
  {
   "cell_type": "code",
   "execution_count": 6,
   "metadata": {},
   "outputs": [
    {
     "name": "stderr",
     "output_type": "stream",
     "text": [
      "REDEFINITION-WITH-DEFUN: \n",
      "  redefining CL-JUPYTER-USER::BANK-BALANCE in DEFUN\n"
     ]
    },
    {
     "data": {
      "text/plain": [
       "(1100 11/10)"
      ]
     },
     "execution_count": 6,
     "metadata": {},
     "output_type": "execute_result"
    }
   ],
   "source": [
    ";; Here we change the definition of 'bank-balance' by creating\n",
    ";; a temporary variable \"newbalance\" using a \"let\" statement\n",
    "\n",
    "(defun bank-balance (initbalance deposits withdrawals)\n",
    "    (let ((newbalance (+ initbalance deposits (- withdrawals))))\n",
    "         (list newbalance (/ newbalance initbalance))))\n",
    "\n",
    ";; Call the function with arguments: 1000, 200, 100\n",
    "\n",
    "(bank-balance 1000 200 100)"
   ]
  },
  {
   "cell_type": "markdown",
   "metadata": {},
   "source": [
    "#### Exercises"
   ]
  },
  {
   "cell_type": "code",
   "execution_count": 7,
   "metadata": {},
   "outputs": [
    {
     "data": {
      "text/plain": [
       "(81 3.0)"
      ]
     },
     "execution_count": 7,
     "metadata": {},
     "output_type": "execute_result"
    }
   ],
   "source": [
    ";; Define a function \"powers\" that takes two numbers as arguments.\n",
    ";; The function returns a list containing the square of the sum of\n",
    ";; the two numbers and the squareroot of this sum. For example,\n",
    "\n",
    ";; (powers 3 6) returns\n",
    ";; (81 3)\n",
    "\n",
    "(defun powers (num1 num2)\n",
    "    (let ((sum (+ num1 num2)))\n",
    "         (list (* sum sum) (sqrt sum))))\n",
    "\n",
    ";; Call the function with arguments: 3, 6\n",
    "\n",
    "(powers 3 6)"
   ]
  },
  {
   "cell_type": "code",
   "execution_count": 9,
   "metadata": {},
   "outputs": [
    {
     "name": "stderr",
     "output_type": "stream",
     "text": [
      "REDEFINITION-WITH-DEFUN: \n",
      "  redefining CL-JUPYTER-USER::RIGHT-TRIANGLE in DEFUN\n"
     ]
    },
    {
     "data": {
      "text/plain": [
       "(40.0 60.0)"
      ]
     },
     "execution_count": 9,
     "metadata": {},
     "output_type": "execute_result"
    }
   ],
   "source": [
    ";; Defina a function \"right-triangle\" that takes two arguments, the\n",
    ";; hypotenuse and one side of a right triangle, and returns a list\n",
    ";; containing the perimeter and the area of the triangle.\n",
    "\n",
    ";; The perimeter is the sum of the three sides of the triangle.\n",
    ";; The area is the product of the two perpendicular sides divided\n",
    ";; by 2. The second side is the squareroot of the difference between\n",
    ";; the square of the hypotenuse and the square of the first side.\n",
    ";; For example,\n",
    "\n",
    ";; (right-triangle 17 8) returns\n",
    ";; (40 60)\n",
    "\n",
    ";; Use a local variable to store the length of the second side.\n",
    "\n",
    "(defun right-triangle (hyp side1)\n",
    "    (let ((side2 (sqrt (- (* hyp hyp) (* side1 side1)))))\n",
    "         (list (+ hyp side1 side2)\n",
    "               (/ (* side1 side2) 2))))\n",
    "\n",
    ";; Call the function with arguments: 17, 8\n",
    "\n",
    "(right-triangle 17 8)"
   ]
  },
  {
   "cell_type": "markdown",
   "metadata": {},
   "source": [
    "# Chapter 2: Conditionals and Program Decomposition\n",
    "\n",
    "In this chapter we see how to test conditions within our programs and how to take actions based on the results of those tests."
   ]
  },
  {
   "cell_type": "markdown",
   "metadata": {},
   "source": [
    "## Introduction\n",
    "\n",
    "A test is an operation that performs some computation that returns \"true\" (t) or \"false\" (nil)."
   ]
  },
  {
   "cell_type": "markdown",
   "metadata": {},
   "source": [
    "### Lisp Predicates\n",
    "\n",
    "Lisp functions that perform tests are called \"predicates\". The atoms \"t\" and \"nil\" do not need to be quoted and evaluate to themselves.\n",
    "\n",
    "Lisp has three kinds of built-in predicates:\n",
    "\n",
    "* Functions that test value\n",
    "* Functions that test order\n",
    "* Functions that test type\n",
    "\n",
    "Predicates take arguments like other functions, and return information about those arguments. For example, the predicate \"atom\" takes one argument and tests whether the argument is an atom or not. If the argument is an atom, \"atom\" returns \"t\", else \"atom\" returns \"nil\".\n",
    "\n",
    "Note that \"nil\" is unique in that it is both an atom and a list.\n",
    "\n",
    "Lisp provides three functions that are used to test a datum's type:\n",
    "\n",
    "* atom : Returns \"t\" if its argument is an atom\n",
    "* listp : Returns \"t\" if its argument is a list\n",
    "* numberp : Returns \"t\" if its argument is a number\n",
    "\n",
    "The predicates \"null\" and \"zerop\" test the value or their arguments:\n",
    "\n",
    "* null : Returns \"t\" if its argument is \"nil\"\n",
    "* zerop : Returns \"t\" if its argument is zero\n",
    "\n",
    "The predicate \"equal\" can be used to compare any kinds of data to see if they have the same value. It can compare numbers, lists and atoms.\n",
    "\n",
    "* equal : Returns \"t\" if its two arguments have the same value\n",
    "\n",
    "Two predicates for comparing numbers are \"<\" (less-pee) and \">\" (greater-pee)\n",
    "\n",
    "* \"<\" : Returns \"t\" if its first argument is less than its second argument\n",
    "* \">\" : Returns \"t\" if its first argument is greater than its second argument"
   ]
  },
  {
   "cell_type": "markdown",
   "metadata": {},
   "source": [
    "#### Examples"
   ]
  },
  {
   "cell_type": "code",
   "execution_count": 14,
   "metadata": {},
   "outputs": [
    {
     "data": {
      "text/plain": [
       "T"
      ]
     },
     "execution_count": 14,
     "metadata": {},
     "output_type": "execute_result"
    }
   ],
   "source": [
    "(atom 'a)"
   ]
  },
  {
   "cell_type": "code",
   "execution_count": 11,
   "metadata": {},
   "outputs": [
    {
     "data": {
      "text/plain": [
       "NIL"
      ]
     },
     "execution_count": 11,
     "metadata": {},
     "output_type": "execute_result"
    }
   ],
   "source": [
    "(atom '(x y z))"
   ]
  },
  {
   "cell_type": "code",
   "execution_count": 17,
   "metadata": {},
   "outputs": [
    {
     "data": {
      "text/plain": [
       "T"
      ]
     },
     "execution_count": 17,
     "metadata": {},
     "output_type": "execute_result"
    }
   ],
   "source": [
    "(atom nil)"
   ]
  },
  {
   "cell_type": "code",
   "execution_count": 15,
   "metadata": {},
   "outputs": [
    {
     "data": {
      "text/plain": [
       "T"
      ]
     },
     "execution_count": 15,
     "metadata": {},
     "output_type": "execute_result"
    }
   ],
   "source": [
    "(listp '(x y z))"
   ]
  },
  {
   "cell_type": "code",
   "execution_count": 16,
   "metadata": {},
   "outputs": [
    {
     "data": {
      "text/plain": [
       "T"
      ]
     },
     "execution_count": 16,
     "metadata": {},
     "output_type": "execute_result"
    }
   ],
   "source": [
    "(listp nil)"
   ]
  },
  {
   "cell_type": "code",
   "execution_count": 18,
   "metadata": {},
   "outputs": [
    {
     "data": {
      "text/plain": [
       "T"
      ]
     },
     "execution_count": 18,
     "metadata": {},
     "output_type": "execute_result"
    }
   ],
   "source": [
    "(numberp 32.5)"
   ]
  },
  {
   "cell_type": "code",
   "execution_count": 20,
   "metadata": {},
   "outputs": [
    {
     "data": {
      "text/plain": [
       "NIL"
      ]
     },
     "execution_count": 20,
     "metadata": {},
     "output_type": "execute_result"
    }
   ],
   "source": [
    "(numberp '(32.5))"
   ]
  },
  {
   "cell_type": "code",
   "execution_count": 21,
   "metadata": {},
   "outputs": [
    {
     "data": {
      "text/plain": [
       "T"
      ]
     },
     "execution_count": 21,
     "metadata": {},
     "output_type": "execute_result"
    }
   ],
   "source": [
    "(null nil)"
   ]
  },
  {
   "cell_type": "code",
   "execution_count": 22,
   "metadata": {},
   "outputs": [
    {
     "data": {
      "text/plain": [
       "T"
      ]
     },
     "execution_count": 22,
     "metadata": {},
     "output_type": "execute_result"
    }
   ],
   "source": [
    "(null '())"
   ]
  },
  {
   "cell_type": "code",
   "execution_count": 23,
   "metadata": {},
   "outputs": [
    {
     "data": {
      "text/plain": [
       "T"
      ]
     },
     "execution_count": 23,
     "metadata": {},
     "output_type": "execute_result"
    }
   ],
   "source": [
    "(zerop (- (* 3 5) 15))"
   ]
  },
  {
   "cell_type": "code",
   "execution_count": 24,
   "metadata": {},
   "outputs": [
    {
     "data": {
      "text/plain": [
       "T"
      ]
     },
     "execution_count": 24,
     "metadata": {},
     "output_type": "execute_result"
    }
   ],
   "source": [
    "(equal '(a b c) '(a b c))"
   ]
  },
  {
   "cell_type": "code",
   "execution_count": 25,
   "metadata": {},
   "outputs": [
    {
     "data": {
      "text/plain": [
       "NIL"
      ]
     },
     "execution_count": 25,
     "metadata": {},
     "output_type": "execute_result"
    }
   ],
   "source": [
    "(< (* 3 5) (+ 10 5))"
   ]
  },
  {
   "cell_type": "code",
   "execution_count": 26,
   "metadata": {},
   "outputs": [
    {
     "data": {
      "text/plain": [
       "T"
      ]
     },
     "execution_count": 26,
     "metadata": {},
     "output_type": "execute_result"
    }
   ],
   "source": [
    "(> 7 -2)"
   ]
  },
  {
   "cell_type": "markdown",
   "metadata": {},
   "source": [
    "### Lisp Conditionals: \"if\" and \"cond\"\n",
    "\n",
    "The lisp conditionals \"if\" and \"cond\" allows our code to take actions based on the results of tests based on the outcomes of lisp predicates.\n",
    "\n",
    "* if : Takes three arguments\n",
    "   - A test\n",
    "   - An action to be performed if the test is true\n",
    "   - An action to be performed if the test is false\n",
    "   \n",
    "* cond : Takes one or more arguments (\"cases\"). Each case is a list that contains at least one element. The first element is a test to perform. The remaining elements are the conditional actions; That is, they are lisp expressions to evaluate when the test is \"true.\" If there are no actions, lisp returns the value of the (non-nil) test.\n",
    "\n",
    "The template for an \"if\" conditional is:\n",
    "\n",
    "    (if test action-if-true action-if-false)\n",
    "    \n",
    "The template for a \"cond\" conditional is:\n",
    "\n",
    "    (cond (test [action?])\n",
    "          (another test [other action?])\n",
    "          ...\n",
    "          (last test [some other action?]))\n",
    "\n",
    "Remember, lisp considers any non-nil value to be \"true.\""
   ]
  },
  {
   "cell_type": "markdown",
   "metadata": {},
   "source": [
    "#### Examples"
   ]
  },
  {
   "cell_type": "code",
   "execution_count": 27,
   "metadata": {},
   "outputs": [
    {
     "data": {
      "text/plain": [
       "BAD"
      ]
     },
     "execution_count": 27,
     "metadata": {},
     "output_type": "execute_result"
    }
   ],
   "source": [
    ";; The function 'testfood' takes a \"food\" argument and\n",
    ";; returns \"good\" if the argument is \"pizza,\" otherwise\n",
    ";; it returns \"bad\"\n",
    "\n",
    "(defun testfood (food)\n",
    "    (if (equal food 'pizza)\n",
    "        'good\n",
    "        'bad))\n",
    "\n",
    ";; Call the function with the argument \"hamburger\"\n",
    "\n",
    "(testfood 'hamburger)"
   ]
  },
  {
   "cell_type": "code",
   "execution_count": 32,
   "metadata": {},
   "outputs": [
    {
     "name": "stdout",
     "output_type": "stream",
     "text": [
      "\n",
      "GOOD \n",
      "BAD \n",
      "AWFUL \n",
      "OK "
     ]
    },
    {
     "name": "stderr",
     "output_type": "stream",
     "text": [
      "REDEFINITION-WITH-DEFUN: \n",
      "  redefining CL-JUPYTER-USER::TESTFOOD in DEFUN\n"
     ]
    },
    {
     "data": {
      "text/plain": [
       "OK"
      ]
     },
     "execution_count": 32,
     "metadata": {},
     "output_type": "execute_result"
    }
   ],
   "source": [
    ";; We use \"cond\" instead of nesting multiple \"ifs\". Consider\n",
    ";; for example this definition of the function\n",
    ";; \"testfood\"; Not the most pleasing code!\n",
    "\n",
    "(defun testfood (food)\n",
    "    (if (equal food 'pizza)\n",
    "    'good\n",
    "    (if (equal food 'peas)\n",
    "        'bad\n",
    "        (if (equal food 'spinach)\n",
    "            'awful\n",
    "            'ok))))\n",
    "\n",
    ";; Call the function with different arguments\n",
    "\n",
    "(print (testfood 'pizza))\n",
    "(print (testfood 'peas))\n",
    "(print (testfood 'spinach))\n",
    "(print (testfood 'peanuts))"
   ]
  },
  {
   "cell_type": "code",
   "execution_count": 33,
   "metadata": {},
   "outputs": [
    {
     "name": "stdout",
     "output_type": "stream",
     "text": [
      "\n",
      "GOOD \n",
      "BAD \n",
      "AWFUL \n",
      "OK "
     ]
    },
    {
     "name": "stderr",
     "output_type": "stream",
     "text": [
      "REDEFINITION-WITH-DEFUN: \n",
      "  redefining CL-JUPYTER-USER::TESTFOOD in DEFUN\n"
     ]
    },
    {
     "data": {
      "text/plain": [
       "OK"
      ]
     },
     "execution_count": 33,
     "metadata": {},
     "output_type": "execute_result"
    }
   ],
   "source": [
    ";; Now consider this alternate definition of \"testfood\"\n",
    ";; using \"cond\". This code looks much better!\n",
    "\n",
    "(defun testfood (food)\n",
    "    (cond ((equal food 'pizza) 'good)\n",
    "        ((equal food 'peas) 'bad)\n",
    "        ((equal food 'spinach) 'awful)\n",
    "        (t 'ok)))\n",
    "\n",
    ";; Call the function with different arguments\n",
    "\n",
    "(print (testfood 'pizza))\n",
    "(print (testfood 'peas))\n",
    "(print (testfood 'spinach))\n",
    "(print (testfood 'peanuts))"
   ]
  },
  {
   "cell_type": "markdown",
   "metadata": {},
   "source": [
    "#### Exercises"
   ]
  },
  {
   "cell_type": "code",
   "execution_count": 35,
   "metadata": {},
   "outputs": [
    {
     "name": "stderr",
     "output_type": "stream",
     "text": [
      "REDEFINITION-WITH-DEFUN: \n",
      "  redefining CL-JUPYTER-USER::COMPARE in DEFUN\n"
     ]
    },
    {
     "data": {
      "text/plain": [
       "T"
      ]
     },
     "execution_count": 35,
     "metadata": {},
     "output_type": "execute_result"
    }
   ],
   "source": [
    ";; Define a function named \"compare\" that takes two arguments\n",
    ";; that are both numbers. If the first number plus 10 is\n",
    ";; greater than twice the second number, return \"t\", otherwise\n",
    ";; return 'nil'. For example,\n",
    "\n",
    ";; (compare 5 5) returns \"t\"\n",
    "\n",
    "(defun compare (num1 num2)\n",
    "    (> (+ num1 10)\n",
    "       (* 2 num2)))\n",
    "\n",
    ";; Call the function with arguments 5 and 5\n",
    "\n",
    "(compare 5 5)"
   ]
  },
  {
   "cell_type": "code",
   "execution_count": 36,
   "metadata": {},
   "outputs": [
    {
     "data": {
      "text/plain": [
       "T"
      ]
     },
     "execution_count": 36,
     "metadata": {},
     "output_type": "execute_result"
    }
   ],
   "source": [
    ";; Define a function named \"palp\" that takes a list and\n",
    ";; tests whether it is a palindrome. Recall that a palindrome\n",
    ";; is a list that reads the same backward and forward. If the\n",
    ";; list is a palindrome, \"palp\" should return \"t\", otherwise\n",
    ";; it should return nil. For example,\n",
    "\n",
    ";; (palp '(a b c c b a)) returns \"t\"\n",
    ";; (palp '(dog cat)) returns \"nil\"\n",
    "\n",
    "(defun palp (lst)\n",
    "    (equal lst (reverse lst)))\n",
    "\n",
    ";; Call the function with the argument (a b c c b a)\n",
    "\n",
    "(palp '(a b c c b a))"
   ]
  },
  {
   "cell_type": "code",
   "execution_count": 38,
   "metadata": {},
   "outputs": [
    {
     "name": "stderr",
     "output_type": "stream",
     "text": [
      "REDEFINITION-WITH-DEFUN: \n",
      "  redefining CL-JUPYTER-USER::SAFE-DIVIDE in DEFUN\n"
     ]
    },
    {
     "data": {
      "text/plain": [
       "4"
      ]
     },
     "execution_count": 38,
     "metadata": {},
     "output_type": "execute_result"
    }
   ],
   "source": [
    ";; Define a function named \"safe-divide\" that takes two\n",
    ";; numbers as arguments. The function returns the atom\n",
    ";; \"zero\" if the second argument is 0, otherwise the function\n",
    ";; returns the result of dividing the first argument by the\n",
    ";; second argument. For example,\n",
    "\n",
    ";; (safe-divide 100 25) returns 4\n",
    ";; (safe-divide 49 0) returns \"zero\"\n",
    "\n",
    "(defun safe-divide (num1 num2)\n",
    "    (if (zerop num2)\n",
    "        'zero\n",
    "        (/ num1 num2)))\n",
    "\n",
    ";; Call the function with arguments: 100, 25\n",
    "\n",
    "(safe-divide 100 25)"
   ]
  },
  {
   "cell_type": "code",
   "execution_count": 39,
   "metadata": {},
   "outputs": [
    {
     "data": {
      "text/plain": [
       "10"
      ]
     },
     "execution_count": 39,
     "metadata": {},
     "output_type": "execute_result"
    }
   ],
   "source": [
    ";; Define a function \"my-abs\" that takes one number as an\n",
    ";; argument and returns the absolute value of the argument.\n",
    ";; That is, if the argument is negative, the function returns\n",
    ";; the opposite of the argument. For example,\n",
    "\n",
    ";; (my-abs 45) returns 45\n",
    ";; (my-abs -10) returns 10\n",
    ";; (my-abs 0) returns 0\n",
    "\n",
    "(defun my-abs (num)\n",
    "    (if (< num 0)\n",
    "        (- num)\n",
    "        num))\n",
    "\n",
    ";; Call the function with argument -10\n",
    "\n",
    "(my-abs -10)"
   ]
  },
  {
   "cell_type": "markdown",
   "metadata": {},
   "source": [
    "## Lisp Logical Functions\n",
    "\n",
    "In this section we discuss the \"logical functions\" \"not\", \"or\" and \"and\" which we can combine with previously introduced predicates to create more complex logical tests.\n",
    "\n",
    "* **not** : Takes a single argument which can be any lisp expression (not just a predicate). If the argument evaluates to \"nil\" then \"not\" returns \"t\". If the argument evaluates to any non-nil value, then \"not\" returns \"nil\".\n",
    "\n",
    "* **or** : Takes one or more lisp expressions as arguments. It evaluates the arguments from left to right and returns the first value it encounters that is non-nil. If all the arguments evaluate to \"nil\", then \"or\" returns \"nil\".\n",
    "\n",
    "* **and** : Takes one or more lisp expressions as arguments. It evaluates the arguments from left to right. If \"and\" encounters any argument that evaluates to \"nil\", it returns \"nil\" and does not evaluate any further arguments, otherwise \"and\" returns the value of its final argument."
   ]
  },
  {
   "cell_type": "markdown",
   "metadata": {},
   "source": [
    "### Examples\n",
    "\n",
    "Remember that **ANY** non-nil expression is treated as \"t\" in logical comparisons."
   ]
  },
  {
   "cell_type": "code",
   "execution_count": 41,
   "metadata": {},
   "outputs": [
    {
     "data": {
      "text/plain": [
       "T"
      ]
     },
     "execution_count": 41,
     "metadata": {},
     "output_type": "execute_result"
    }
   ],
   "source": [
    ";; The list (a b c) is not an atom so (atom '(a b c))\n",
    ";; returns nil. Hence (not (atom '(a b c))) returns\n",
    ";; \"t\"\n",
    "\n",
    "(not (atom '(a b c)))"
   ]
  },
  {
   "cell_type": "code",
   "execution_count": 42,
   "metadata": {},
   "outputs": [
    {
     "data": {
      "text/plain": [
       "(A B C)"
      ]
     },
     "execution_count": 42,
     "metadata": {},
     "output_type": "execute_result"
    }
   ],
   "source": [
    ";; (numberp 'a) evaluates to \"nil\", '(a b c) evaluates\n",
    ";; to '(a b c), which is non-nil. Therefore \"or\"\n",
    ";; returns the list (a b c)\n",
    "\n",
    "(or (numberp 'a) '(a b c) (+ 6 5))"
   ]
  },
  {
   "cell_type": "code",
   "execution_count": 46,
   "metadata": {},
   "outputs": [
    {
     "data": {
      "text/plain": [
       "T"
      ]
     },
     "execution_count": 46,
     "metadata": {},
     "output_type": "execute_result"
    }
   ],
   "source": [
    ";; (listp nil) evaluates to \"t\", (atom nil) evaluates\n",
    ";; to \"t\". Therefore (and (listp nil) (atom nil))\n",
    ";; returns \"t\"\n",
    "\n",
    "(and (listp nil) (atom nil))"
   ]
  },
  {
   "cell_type": "markdown",
   "metadata": {},
   "source": [
    "### Exercises"
   ]
  },
  {
   "cell_type": "code",
   "execution_count": 47,
   "metadata": {},
   "outputs": [
    {
     "data": {
      "text/plain": [
       "MEDIUM"
      ]
     },
     "execution_count": 47,
     "metadata": {},
     "output_type": "execute_result"
    }
   ],
   "source": [
    ";; Define a function named \"checktemp\" that takes one\n",
    ";; argument, a temperature, and returns an atom that\n",
    ";; serves as a temperature indicator. If the temperature\n",
    ";; is higher than 80, the function returns the atom \"hot\"\n",
    ";; If the temperature is below 20, the function should\n",
    ";; return the atom \"cold\". It the temperature is between\n",
    ";; the extremes the function should return \"medium\". For\n",
    ";; example,\n",
    "\n",
    ";; (checktemp 100) returns \"hot\"\n",
    "\n",
    "(defun checktemp (temp)\n",
    "    (cond ((> temp 80) 'hot)\n",
    "        ((< temp 20) 'cold)\n",
    "        (t 'medium)))\n",
    "\n",
    ";; Call the function with the argument 60\n",
    "\n",
    "(checktemp 60)"
   ]
  },
  {
   "cell_type": "code",
   "execution_count": 48,
   "metadata": {},
   "outputs": [
    {
     "data": {
      "text/plain": [
       "LIST"
      ]
     },
     "execution_count": 48,
     "metadata": {},
     "output_type": "execute_result"
    }
   ],
   "source": [
    ";; Define a function named \"classify\" that takes one\n",
    ";; argument and determines its type. If the argument is\n",
    ";; nil, the function returns \"nil\". If the argument is\n",
    ";; a non-empty list, the function returns the atom \"list\".\n",
    ";; If the argument is a number, it returns the atom\n",
    ";; \"number\". If the atom is a non-nil atom, the function\n",
    ";; returns \"atom\". Be careful to order your tests properly.\n",
    ";; For example,\n",
    "\n",
    ";; (classify 'a) returns \"atom\"\n",
    ";; (classify '(x y)) returns \"list\"\n",
    ";; (classify nil) returns \"nil\"\n",
    ";; (classify 5) returns \"number\"\n",
    "\n",
    "(defun classify (arg)\n",
    "    (cond ((null arg) nil)\n",
    "        ((listp arg) 'list)\n",
    "        ((numberp arg) 'number)\n",
    "        ((atom arg) 'atom)))\n",
    "\n",
    ";; Call the function with the argument (2 3 5)\n",
    "\n",
    "(classify '(2 3 5))"
   ]
  },
  {
   "cell_type": "code",
   "execution_count": 49,
   "metadata": {},
   "outputs": [
    {
     "data": {
      "text/plain": [
       "NIL"
      ]
     },
     "execution_count": 49,
     "metadata": {},
     "output_type": "execute_result"
    }
   ],
   "source": [
    ";; Defina a function named \"samesign\" that takes two\n",
    ";; numbers as arguments and returns \"t\" if both arguments\n",
    ";; have the same sign. That is, if both arguments are 0,\n",
    ";; both are positive or both are negative, the function\n",
    ";; should return \"t\", otherwise the function should\n",
    ";; return \"nil\". For example,\n",
    "\n",
    ";; (samesign 0 0) returns \"t\"\n",
    ";; (samesign -2 -5) returns \"t\"\n",
    ";; (samesign -2 3) returns \"nil\"\n",
    "\n",
    ";; Do not use \"cond\" in defining this function.\n",
    "\n",
    "(defun samesign (num1 num2)\n",
    "    (or\n",
    "     (and (zerop num1) (zerop num2))\n",
    "     (and (> num1 0) (> num2 0))\n",
    "     (and (< num1 0) (< num2 0))))\n",
    "\n",
    ";; Call the function with arguments: -3, 2\n",
    "\n",
    "(samesign -3 2)"
   ]
  },
  {
   "cell_type": "markdown",
   "metadata": {},
   "source": [
    "## Modular Program Decomposition\n",
    "\n",
    "In this section we look at how to decompose large lisp programs into a number of relatively small functions, each of which performs a particular task.\n",
    "\n",
    "For example, suppose we want to write a program that can take the location of three cities, A, B and C and can compute the total distance of a trip from A to C through B given the x and y coordinates of each city as in the following table\n",
    "\n",
    "CITY | X | Y |\n",
    "---  |---|---|\n",
    "A    | 2 | 3 \n",
    "B    | 5 | 7 \n",
    "C    | 13 | 22 \n"
   ]
  },
  {
   "cell_type": "markdown",
   "metadata": {},
   "source": [
    "A call to the function might look like this:\n",
    "\n",
    "    (trip-length '(2 3) '(5 7) '(13 22))\n",
    "    \n",
    "This function needs to compute the distance between the first two cities and the distance between the second two cities and add the two distances. The function could be defined as:\n",
    "\n",
    "    (defun trip-length (a b c)\n",
    "       (+ (sqrt (+ (* (- (car a) (car b))\n",
    "                      (- (car a) (car b)))\n",
    "                   (* (- (car (cdr a)) (car (cdr b)))\n",
    "                      (- (car (cdr a)) (car (cdr b)))\n",
    "          (sqrt (+ (* (- (car b) (car c))\n",
    "                      (- (car b) (car c)))\n",
    "                   (* (- (car (cdr b)) (car (cdr c)))\n",
    "                      (- (car (cdr b)) (car (cdr c))))))))\n",
    "                      \n",
    "This short program is very difficult to read and understand when written this way!"
   ]
  },
  {
   "cell_type": "markdown",
   "metadata": {},
   "source": [
    "We can make this program easier to understand and read by breaking it up into smaller subtasks. One of the tasks in this problem is to find the distance between two cities, given their x and y coordinates. Within that task we need to square a quantity. We can, therefore, define two \"helper\" functions, \"distance\" and \"square\" as follows\n",
    "\n",
    "    (defun trip-length (a b c)\n",
    "       (+ (distance a b) (distance b c)))\n",
    "       \n",
    "    (defun distance (c1 c2)\n",
    "       (sqrt (+ (square (- (car c1) (car c2)))\n",
    "                (square (- (car (cdr c1))\n",
    "                           (car (cdr c2)))))))\n",
    "                           \n",
    "    (defun square (num)\n",
    "       (* num num))"
   ]
  },
  {
   "cell_type": "code",
   "execution_count": 50,
   "metadata": {},
   "outputs": [
    {
     "name": "stderr",
     "output_type": "stream",
     "text": [
      "SIMPLE-STYLE-WARNING: \n",
      "  undefined function: DISTANCE\n",
      "\n",
      "SIMPLE-STYLE-WARNING: \n",
      "  undefined function: SQUARE\n"
     ]
    },
    {
     "data": {
      "text/plain": [
       "22.0"
      ]
     },
     "execution_count": 50,
     "metadata": {},
     "output_type": "execute_result"
    }
   ],
   "source": [
    ";; The function \"trip-length\" computes the distance from\n",
    ";; city A to C through city B given the (x y) coordinates \n",
    ";; of each city. The function is called as:\n",
    "\n",
    ";; (trip-length '(xa ya) '(xb yb) '(xc yc))\n",
    "\n",
    "(defun trip-length (a b c) ; a, b, c are lists of (x y) pairs\n",
    "    (+ (distance a b) (distance b c)))\n",
    "\n",
    "(defun distance (c1 c2) ; c1, c2 are lists of (x y) pairs\n",
    "    (sqrt (+ (square (- (car c1) (car c2)))\n",
    "             (square (- (car (cdr c1))\n",
    "                        (car (cdr c2)))))))\n",
    "\n",
    "(defun square (num)\n",
    "    (* num num))\n",
    "\n",
    ";; Call the function with arguments (2 3), (5 7), (13 22)\n",
    "\n",
    "(trip-length '(2 3) '(5 7) '(13 22))"
   ]
  },
  {
   "cell_type": "markdown",
   "metadata": {},
   "source": [
    "### Exercises"
   ]
  },
  {
   "cell_type": "code",
   "execution_count": 51,
   "metadata": {},
   "outputs": [
    {
     "data": {
      "text/plain": [
       "15/2"
      ]
     },
     "execution_count": 51,
     "metadata": {},
     "output_type": "execute_result"
    }
   ],
   "source": [
    ";; Define a function named \"repack\" that takes two lists as\n",
    ";; arguments. The first list contains the dimensions of a\n",
    ";; large box. The second list contains the dimensions of a\n",
    ";; small box. The function computes the number of small boxes\n",
    ";; required to hold all the contents of the large box (the\n",
    ";; volume of the large box divided by the volume of the small\n",
    ";; box.) For example,\n",
    "\n",
    ";; (repack '(4 5 6) '(2 2 4)) returns 7.5\n",
    "\n",
    ";; The volume of a box = lenght * width * height.\n",
    ";; (Hint: create a second function for this.)\n",
    "\n",
    "(defun volume (lst)\n",
    "    (* (car lst)\n",
    "       (car (cdr lst))\n",
    "       (car (cdr (cdr lst)))))\n",
    "\n",
    "(defun repack (lg_box sm_box)\n",
    "    (/ (volume lg_box) (volume sm_box)))\n",
    "\n",
    ";; Call the function \"repack\" with arguments: (4 5 6), (2 2 4)\n",
    "\n",
    "(repack '(4 5 6) '(2 2 4))"
   ]
  },
  {
   "cell_type": "code",
   "execution_count": 52,
   "metadata": {},
   "outputs": [
    {
     "data": {
      "text/plain": [
       "T"
      ]
     },
     "execution_count": 52,
     "metadata": {},
     "output_type": "execute_result"
    }
   ],
   "source": [
    ";; Define a function named \"same-second\" that takes two lists.\n",
    ";; The function returns \"t\" if the second element of the two\n",
    ";; lists are the same. For example,\n",
    "\n",
    ";; (same-second '(a b c d) '(c b a)) returns \"t\"\n",
    ";; (same-second '(w x y z) '(z y x)) returns \"nil\"\n",
    "\n",
    "(defun my-second (lst)\n",
    "    (car (cdr lst)))\n",
    "\n",
    "(defun same-second (lst1 lst2)\n",
    "    (equal (my-second lst1)\n",
    "           (my-second lst2)))\n",
    "\n",
    ";; Call the function \"same-second\" with arguments (a b c d)\n",
    ";; and (c b a)\n",
    "\n",
    "(same-second '(a b c d) '(c b a))"
   ]
  },
  {
   "cell_type": "code",
   "execution_count": 56,
   "metadata": {},
   "outputs": [
    {
     "name": "stderr",
     "output_type": "stream",
     "text": [
      "REDEFINITION-WITH-DEFUN: \n",
      "  redefining CL-JUPYTER-USER::CIRCLE-AREA in DEFUN\n",
      "\n",
      "REDEFINITION-WITH-DEFUN: \n",
      "  redefining CL-JUPYTER-USER::FIND-CIRCLE in DEFUN\n"
     ]
    },
    {
     "data": {
      "text/plain": [
       "5.0"
      ]
     },
     "execution_count": 56,
     "metadata": {},
     "output_type": "execute_result"
    }
   ],
   "source": [
    ";; Defina a function \"find-circle\" that takes two numbers\n",
    ";; as arguments. Each argument represents the radius of a\n",
    ";; circle. The function computes the area of each circle\n",
    ";; and returns the radius of a third circle whose area is\n",
    ";; equal to the sum of these two areas. For example,\n",
    "\n",
    ";; (find-circle 3 4) returns 5\n",
    "\n",
    ";; The area of a circle = 3.14 * radius * radius.\n",
    ";; to find the radius of the third circle, you need to sum\n",
    ";; the areas of the first two, divide by 3.14 and take the\n",
    ";; square root of the result.\n",
    "\n",
    "(defun circle-area (radius)\n",
    "    (* 3.14 radius radius))\n",
    "\n",
    "(defun find-circle (rad1 rad2)\n",
    "    (sqrt\n",
    "     (/\n",
    "      (+ (circle-area rad1)\n",
    "         (circle-area rad2))\n",
    "      3.14)))\n",
    "         \n",
    ";; Call the function \"find-circle\" with arguments: 3, 4\n",
    "\n",
    "(find-circle 3 4)"
   ]
  },
  {
   "cell_type": "code",
   "execution_count": 57,
   "metadata": {},
   "outputs": [
    {
     "data": {
      "text/plain": [
       "75"
      ]
     },
     "execution_count": 57,
     "metadata": {},
     "output_type": "execute_result"
    }
   ],
   "source": [
    ";; Defina a function \"stack-squares\" that takes two numbers\n",
    ";; as arguments. Each argument represents the length of one\n",
    ";; edge of a square (You can assume that the larger one will\n",
    ";; be first.) The function computes how much larger the square\n",
    ";; would be exposed if the smaller square were placed on top\n",
    ";; of it (i.e., the difference between the area of the larger\n",
    ";; square and the area of the smaller square.) The area of a\n",
    ";; square equals the length of its edge squared. For example,\n",
    "\n",
    ";; (stack-squares 10 5) returns 75\n",
    "\n",
    "(defun sq-area (side)\n",
    "    (* side side))\n",
    "\n",
    "(defun stack-squares (side1 side2)\n",
    "    (- (sq-area side1)\n",
    "       (sq-area side2)))\n",
    "\n",
    ";; Call the function \"stack-squares\" with arguments: 10 5\n",
    "\n",
    "(stack-squares 10 5)"
   ]
  },
  {
   "cell_type": "code",
   "execution_count": 58,
   "metadata": {},
   "outputs": [
    {
     "data": {
      "text/plain": [
       "T"
      ]
     },
     "execution_count": 58,
     "metadata": {},
     "output_type": "execute_result"
    }
   ],
   "source": [
    ";; Define a function \"coverup\" that takes three numbers as\n",
    ";; arguments, the diameter of a circle and the areas of two\n",
    ";; squares. The function should return \"t\" if the circle is\n",
    ";; large enough to cover either of the two squares. For\n",
    ";; example,\n",
    "\n",
    ";; (coverup 10 60 32) returns \"t\"\n",
    ";; (coverup 10 60 72) returns \"nil\"\n",
    "\n",
    ";; A circle can cover a square if its diameter is greater\n",
    ";; than the diagonal of the square.\n",
    ";; The diagonal of a square equals (sqrt (area * 2))\n",
    "\n",
    "(defun diagonal (area)\n",
    "    (sqrt (* area 2)))\n",
    "\n",
    "(defun coverup (diam area1 area2)\n",
    "    (or (> diam (diagonal area1))\n",
    "        (> diam (diagonal area2))))\n",
    "\n",
    ";; Call the function \"coverup\" with arguments: 10, 60, 32\n",
    "\n",
    "(coverup 10 60 32)"
   ]
  },
  {
   "cell_type": "markdown",
   "metadata": {},
   "source": [
    "# Chapter 3: Iteration with Original (old-fashioned) loop macro\n",
    "\n",
    "\"Loops\" are \"iterative\" functions that perform a sequence of instructions over and over again until specified conditions are attained. In this chapter we will cover two types of iterative functions: \n",
    "\n",
    "* Numeric loops\n",
    "  \n",
    "* List loops\n",
    "\n"
   ]
  },
  {
   "cell_type": "markdown",
   "metadata": {},
   "source": [
    "## Numeric loops\n",
    "\n",
    "Numeric loops terminate by counting how many times they go around. In defining numeric loops, we use \"let\" to create and initialize local variables. We will also need to reset (change) the value of these local variables in the body of our loop using the \"setf\" operator. The \"setf\" operator takes two arguments. The first argument is a \"place\" and the second can be any lisp expression. The simplest \"place\" is an unquoted variable. When \"setf is called, lisp evaluates the second argument and updates the value of the \"place\" (variable) to that value.\n",
    "Two useful \"shortcut\" functions for numeric loops are:\n",
    "* 1+ \"one-plus\" takes one numeric argument and adds one to it;(1+ num) is equivalent to (+ num 1)\n",
    "* 1- \"one-minus\" takes one numeric argument and subtracts 1 from it; (1- num) is equivalent to (- num 1)\n",
    "\n",
    "\n",
    "Numeric iteration template:\n",
    "\n",
    "    (defun <function-name> (<parameter list>)\n",
    "       (let (<counter variable initializations>\n",
    "             <result variable initializations>)\n",
    "          (loop\n",
    "             (cond ((<exit test of counter variable>)\n",
    "                    (return <result>)))\n",
    "             <update the counter variable, other loop\n",
    "              actions, including updating result\n",
    "              variables>)))"
   ]
  },
  {
   "cell_type": "markdown",
   "metadata": {
    "heading_collapsed": true
   },
   "source": [
    "### Examples"
   ]
  },
  {
   "cell_type": "code",
   "execution_count": 68,
   "metadata": {
    "hidden": true
   },
   "outputs": [
    {
     "data": {
      "text/plain": [
       "6"
      ]
     },
     "execution_count": 68,
     "metadata": {},
     "output_type": "execute_result"
    }
   ],
   "source": [
    ";; Using \"setf\" to assign a new value to a variable\n",
    ";; previously created and initialized with \"let\"\n",
    "\n",
    ";; Set the variable \"x\" to 6\n",
    "\n",
    "(let ((x 2))\n",
    "     (setf x (+ 2 4)))"
   ]
  },
  {
   "cell_type": "code",
   "execution_count": 65,
   "metadata": {
    "hidden": true
   },
   "outputs": [
    {
     "data": {
      "text/plain": [
       "6"
      ]
     },
     "execution_count": 65,
     "metadata": {},
     "output_type": "execute_result"
    }
   ],
   "source": [
    ";; Increment count by 1\n",
    "\n",
    "(let ((count 5))\n",
    "     (setf count (1+ count)))"
   ]
  },
  {
   "cell_type": "code",
   "execution_count": 66,
   "metadata": {
    "hidden": true
   },
   "outputs": [
    {
     "data": {
      "text/plain": [
       "210"
      ]
     },
     "execution_count": 66,
     "metadata": {},
     "output_type": "execute_result"
    }
   ],
   "source": [
    ";; The function \"add-integers\" adds all the integers from\n",
    ";; 1 up to, and including, \"last\".\n",
    "\n",
    "(defun add-integers (last)\n",
    "    (let ((count 1) (total 1))\n",
    "         (loop\n",
    "          (cond ((equal count last)\n",
    "                 (return total)))\n",
    "          (setf count (1+ count)) ;; Update counter first\n",
    "          (setf total (+ total count)))))\n",
    "\n",
    ";; Call the function with argument 20\n",
    "\n",
    "(add-integers 20)"
   ]
  },
  {
   "cell_type": "code",
   "execution_count": 67,
   "metadata": {
    "hidden": true
   },
   "outputs": [
    {
     "data": {
      "text/plain": [
       "91"
      ]
     },
     "execution_count": 67,
     "metadata": {},
     "output_type": "execute_result"
    }
   ],
   "source": [
    ";; The function \"int-multiply\" uses numeric iteration\n",
    ";; to perform multiplication by repeated additions.\n",
    ";; x*y equals x added to itself y times.\n",
    "\n",
    "(defun int-multiply (x y)\n",
    "    (let ((result 0) (count 0))\n",
    "         (loop\n",
    "          (cond ((equal count y) (return result)))\n",
    "          (setf count (1+ count)) ;; Update counter first\n",
    "          (setf result (+ result x)))))\n",
    "\n",
    ";; Call the functions with arguments 7, 13\n",
    "\n",
    "(int-multiply 7 13)"
   ]
  },
  {
   "cell_type": "code",
   "execution_count": 77,
   "metadata": {
    "hidden": true
   },
   "outputs": [
    {
     "name": "stderr",
     "output_type": "stream",
     "text": [
      "REDEFINITION-WITH-DEFUN: \n",
      "  redefining CL-JUPYTER-USER::ADD-RECIPROCALS in DEFUN\n"
     ]
    },
    {
     "data": {
      "text/plain": [
       "25/12"
      ]
     },
     "execution_count": 77,
     "metadata": {},
     "output_type": "execute_result"
    }
   ],
   "source": [
    ";; The function \"add-reciprocals\" returns the sum of the ;; reciprocals of the integers from 1 to \"num\"\n",
    "\n",
    "(defun add-reciprocals (num)\n",
    "    (let ((count 1) (sum 1))\n",
    "         (loop\n",
    "            (cond ((equal count num)\n",
    "                   (return sum)))\n",
    "            (setf count (1+ count))\n",
    "            (setf sum (+ sum (/ 1 count))))))\n",
    "\n",
    ";; Call the function with argument 4\n",
    "\n",
    "(add-reciprocals 4)"
   ]
  },
  {
   "cell_type": "code",
   "execution_count": 78,
   "metadata": {
    "hidden": true
   },
   "outputs": [
    {
     "data": {
      "text/plain": [
       "11/2"
      ]
     },
     "execution_count": 78,
     "metadata": {},
     "output_type": "execute_result"
    }
   ],
   "source": [
    ";; The function \"num-average\" returns the average of the\n",
    ";; numbers from 1 to \"num\"\n",
    "\n",
    "(defun num-average (num)\n",
    "    (let ((count 1) (sum 1))\n",
    "         (loop\n",
    "          (cond ((equal count num)\n",
    "                 (return (/ sum num))))\n",
    "          (setf count (1+ count))\n",
    "          (setf sum (+ sum count)))))\n",
    "\n",
    ";; Call the function with argument 10\n",
    "\n",
    "(num-average 10)"
   ]
  },
  {
   "cell_type": "markdown",
   "metadata": {},
   "source": [
    "## List loops\n",
    "\n",
    "List iteration is controlled by a list variable rather than a counter. The list controlling the iteration is usually passed as an argument to the function. It is good practice to create a \"let\" local variable to serve as the control variable rather than \"cdr-ing\" the list parameter in the loop.\n",
    "\n",
    "Result variables are usually initialized, because inside the loop they are generally evaluated before they are assigned a new value. To determine the initial value for the result variable, we need to recognize that the loop actions will not be perfomed if the function is passed an empty list. Thus the result value should be initialized to the correct result for the function when it is called with \"nil.\"\n",
    "\n",
    "In list iteration, the control variable must be updated at the bottom of the loop since each time we update the control variable in the loop we discard one item, but we must finish processing the item before we discard it.\n",
    "\n",
    "List iteration template:\n",
    "\n",
    "    (defun <function-name> (<parameter list>)\n",
    "       (let (<control variable initialization>\n",
    "             <result variable initializations>)\n",
    "          (loop\n",
    "             (cond (<exit test on control list>)\n",
    "                   (return <result>))\n",
    "             <loop actions, update result vbls>\n",
    "             <update the control list>)))"
   ]
  },
  {
   "cell_type": "markdown",
   "metadata": {},
   "source": [
    "### Examples"
   ]
  },
  {
   "cell_type": "code",
   "execution_count": 2,
   "metadata": {},
   "outputs": [
    {
     "name": "stderr",
     "output_type": "stream",
     "text": [
      "REDEFINITION-WITH-DEFUN: \n",
      "  redefining CL-JUPYTER-USER::DOUBLE-LIST in DEFUN\n"
     ]
    },
    {
     "data": {
      "text/plain": [
       "(-6 0 2 14 18 56 71.0)"
      ]
     },
     "execution_count": 2,
     "metadata": {},
     "output_type": "execute_result"
    }
   ],
   "source": [
    ";; The function \"double-list\" returns a list of the\n",
    ";; doubles of the number list passed in as an argument\n",
    ";; to the function.\n",
    "\n",
    "(defun double-list (lis)\n",
    "    (let ((ctrl lis) (newlist nil))\n",
    "         (loop\n",
    "          (cond ((null ctrl)\n",
    "                 (return newlist)))\n",
    "          (setf newlist\n",
    "                (append newlist\n",
    "                        (list (* 2 (car ctrl)))))\n",
    "          (setf ctrl (cdr ctrl)))))\n",
    "\n",
    ";; Call the function with argument (-3 0 1 7 9 28 35.5)\n",
    "\n",
    "(double-list '(-3 0 1 7 9 28 35.5))"
   ]
  },
  {
   "cell_type": "code",
   "execution_count": 3,
   "metadata": {},
   "outputs": [
    {
     "data": {
      "text/plain": [
       "(5 4 3 2 1)"
      ]
     },
     "execution_count": 3,
     "metadata": {},
     "output_type": "execute_result"
    }
   ],
   "source": [
    ";; The function \"new-reverse\" returns a list in the\n",
    ";; reverse order of the list passed in as an argument\n",
    ";; to the function\n",
    "\n",
    "(defun new-reverse (lis)\n",
    "    (let ((ctrl lis) (revlis nil))\n",
    "         (loop\n",
    "          (cond ((null ctrl) (return revlis)))\n",
    "          (setf revlis (cons (car ctrl) revlis))\n",
    "          (setf ctrl (cdr ctrl)))))\n",
    "\n",
    ";; Call the function with argument (1 2 3 4 5)\n",
    "\n",
    "(new-reverse '(1 2 3 4 5))"
   ]
  },
  {
   "cell_type": "code",
   "execution_count": 4,
   "metadata": {},
   "outputs": [
    {
     "data": {
      "text/plain": [
       "3"
      ]
     },
     "execution_count": 4,
     "metadata": {},
     "output_type": "execute_result"
    }
   ],
   "source": [
    ";; The function \"count-numbers\" returns the number of\n",
    ";; numbers in the list passed in as an argument to the\n",
    ";; function\n",
    "\n",
    "(defun count-numbers (lis)\n",
    "    (let ((ctrl lis) (num 0))\n",
    "         (loop\n",
    "          (cond ((null ctrl) (return num))\n",
    "                ((numberp (car ctrl))\n",
    "                          (setf num (1+ num))))\n",
    "          (setf ctrl (cdr ctrl)))))\n",
    "\n",
    ";; Call the function with argument (2 3.5 \"a\" '(a 3) 9/4)\n",
    "\n",
    "(count-numbers '(2 3.5 \"a\" '(a 3) 9/4))"
   ]
  },
  {
   "cell_type": "markdown",
   "metadata": {},
   "source": [
    "# Chapter 4: Introduction to Recursion\n",
    "\n",
    "In this chapter we learn how to define **Recursive Functions**. A recursive function is a function that calls itself as a helping function. In other words, the function calls itself in its own definition. Such functions are useful because they can solve complex problems that require some operation to be carried out repeatedly. Here we discuss two basic types of recursion:\n",
    "\n",
    "* Numeric Recursion\n",
    "* List Recursion\n",
    "\n",
    "In either type, there are several important points to keep in mind:\n",
    "\n",
    "* The terminating case is **essential**. The terminating case keeps the function from calling itself forever. It returns a result, which provides the basis for computing the results of the recursive calls.\n",
    "* Each time the function calls itself recursively, we get closer to the terminating case. Always make sure that the recursive call is leading to the terminating case.\n",
    "* Tracing out the operations in recursion can be extremely complex. We want to be able to write recursive functions without having to trace through sample calls."
   ]
  },
  {
   "cell_type": "markdown",
   "metadata": {},
   "source": [
    "## Numeric Recursion\n",
    "\n",
    "Numeric recursion processes a sequence of numbers.\n",
    "\n",
    "Suppose we want to write a function \"sum-all\" which takes an argument \"num\" and sums all the integers from 0 to \"num\". For example:\n",
    "\n",
    "    (sum-all 5) ; Returns 5 + 4 + 3 + 2 + 1 + 0\n",
    "    \n",
    "To write this function recursively, note that:\n",
    "\n",
    "* (sum-all n) = n + (sum-all n-1)\n",
    "* (sum-all 0) = 0\n",
    "\n",
    "Therefore, we can write \"sum-all\" recursively as:\n",
    "\n",
    "    (defun sum-all (n)\n",
    "       (cond ((zerop n) 0)\n",
    "       (t (+ n (sum-all (1- n))))))"
   ]
  },
  {
   "cell_type": "markdown",
   "metadata": {},
   "source": [
    "### Examples"
   ]
  },
  {
   "cell_type": "code",
   "execution_count": 5,
   "metadata": {},
   "outputs": [
    {
     "data": {
      "text/plain": [
       "55"
      ]
     },
     "execution_count": 5,
     "metadata": {},
     "output_type": "execute_result"
    }
   ],
   "source": [
    ";; The recursive function \"sum-all\" returns the sum of\n",
    ";; all numbers from 0 to the number passed in as an\n",
    ";; argument to the function\n",
    "\n",
    "(defun sum-all (n)\n",
    "    (cond ((zerop n) 0)\n",
    "        (t (+ n (sum-all (1- n))))))\n",
    "\n",
    ";; Call the function with argument 10\n",
    "\n",
    "(sum-all 10)"
   ]
  },
  {
   "cell_type": "code",
   "execution_count": 104,
   "metadata": {
    "run_control": {
     "marked": false
    }
   },
   "outputs": [
    {
     "name": "stderr",
     "output_type": "stream",
     "text": [
      "REDEFINITION-WITH-DEFUN: \n",
      "  redefining CL-JUPYTER-USER::PRIMEP in DEFUN\n"
     ]
    },
    {
     "data": {
      "text/plain": [
       "T"
      ]
     },
     "execution_count": 104,
     "metadata": {},
     "output_type": "execute_result"
    }
   ],
   "source": [
    ";; The function \"primep\" is a helper function for\n",
    ";; the recursive functions which use it in the examples\n",
    ";; below.\n",
    "\n",
    ";; The function \"primep\" tests whether or not its\n",
    ";; argument is a prime number. It returns \"t\" if\n",
    ";; the argument is prime and \"nil\" if it is not prime.\n",
    "\n",
    "(defun primep (num)\n",
    "    (let ((count 1) (flag nil) (n (ceiling (sqrt num))))\n",
    "         (loop\n",
    "          (cond \n",
    "              ((equal num 1) (return nil))\n",
    "              ((equal num 2) (return t))\n",
    "              (flag (return nil))\n",
    "              ((equal count n) (return t)))\n",
    "          (setf count (1+ count))\n",
    "          (setf flag (zerop (mod num count))))))\n",
    "\n",
    ";; Call the function with argument 37\n",
    "\n",
    "(primep 37)"
   ]
  },
  {
   "cell_type": "code",
   "execution_count": 105,
   "metadata": {},
   "outputs": [
    {
     "name": "stderr",
     "output_type": "stream",
     "text": [
      "REDEFINITION-WITH-DEFUN: \n",
      "  redefining CL-JUPYTER-USER::FIND-PRIME in DEFUN\n"
     ]
    },
    {
     "data": {
      "text/plain": [
       "47"
      ]
     },
     "execution_count": 105,
     "metadata": {},
     "output_type": "execute_result"
    }
   ],
   "source": [
    ";; The recursive function \"find-prime\" returns the\n",
    ";; largest prime number between the two integer arguments.\n",
    ";; The function requires the first argument to be less\n",
    ";; than the second argument. If no prime is found between\n",
    ";; the integers, the function returns \"nil\"\n",
    "\n",
    "(defun find-prime (num1 num2)\n",
    "    (cond ((primep num2) num2)\n",
    "          ((> num1 num2) nil)\n",
    "          (t (find-prime num1 (1- num2)))))\n",
    "\n",
    ";; Call the function with arguments: 2, 50\n",
    "\n",
    "(find-prime 2 50)"
   ]
  },
  {
   "cell_type": "code",
   "execution_count": 107,
   "metadata": {},
   "outputs": [
    {
     "name": "stderr",
     "output_type": "stream",
     "text": [
      "REDEFINITION-WITH-DEFUN: \n",
      "  redefining CL-JUPYTER-USER::LIST-PRIMES in DEFUN\n"
     ]
    },
    {
     "data": {
      "text/plain": [
       "(97 89 83 79 73 71 67 61 59 53 47 43 41 37 31 29 23 19 17 13 11 7 5 3 2)"
      ]
     },
     "execution_count": 107,
     "metadata": {},
     "output_type": "execute_result"
    }
   ],
   "source": [
    ";; The recursive function \"list-primes\" lists all the\n",
    ";; prime numbers between 0 and the value of its argument.\n",
    "\n",
    "(defun list-primes (arg)\n",
    "    (cond ((zerop arg) nil)\n",
    "        ((primep arg) (cons arg (list-primes (1- arg))))\n",
    "        (t (list-primes (1- arg)))))\n",
    "\n",
    ";; Call the function with argument 50\n",
    "\n",
    "(list-primes 100)"
   ]
  },
  {
   "cell_type": "markdown",
   "metadata": {},
   "source": [
    "### Exercises\n",
    "\n",
    "In these exercises we will need the functions \"evenp\" and \"oddp\"\n",
    "\n",
    "* (evenp num) returns \"t\" if \"num\" is even, otherwise it returns \"nil\"\n",
    "* (oddp num) returns \"t\" if \"num\" is odd, otherwise it returns \"nil\""
   ]
  },
  {
   "cell_type": "code",
   "execution_count": 113,
   "metadata": {},
   "outputs": [
    {
     "name": "stderr",
     "output_type": "stream",
     "text": [
      "REDEFINITION-WITH-DEFUN: \n",
      "  redefining CL-JUPYTER-USER::FACT in DEFUN\n"
     ]
    },
    {
     "data": {
      "text/plain": [
       "2432902008176640000"
      ]
     },
     "execution_count": 113,
     "metadata": {},
     "output_type": "execute_result"
    }
   ],
   "source": [
    ";; Define a recursive function \"fact\" which takes one\n",
    ";; argument \"n\", an integer greater than or equal to\n",
    ";; zero, and returns the factorial of the integer.\n",
    ";; For example, \n",
    "\n",
    ";; (fact 3) returns 6\n",
    ";; (fact 0) returns 1\n",
    "\n",
    "(defun fact (n)\n",
    "    (cond ((zerop n) 1)\n",
    "        (t (* n (fact (1- n))))))\n",
    "\n",
    ";; Call the function with argument 1\n",
    "\n",
    "(fact 20)"
   ]
  },
  {
   "cell_type": "code",
   "execution_count": 118,
   "metadata": {},
   "outputs": [
    {
     "name": "stderr",
     "output_type": "stream",
     "text": [
      "REDEFINITION-WITH-DEFUN: \n",
      "  redefining CL-JUPYTER-USER::LIST-N in DEFUN\n"
     ]
    },
    {
     "data": {
      "text/plain": [
       "(CAT CAT CAT CAT CAT CAT CAT)"
      ]
     },
     "execution_count": 118,
     "metadata": {},
     "output_type": "execute_result"
    }
   ],
   "source": [
    ";; Defina a recursive function \"list-n\" which takes two\n",
    ";; arguments. The first argument is an integer \"n\" that\n",
    ";; is greater than or equal to zero. The second argument\n",
    ";; can be any lisp expression. The function returns a\n",
    ";; list containing \"n\" copies of the second argument.\n",
    ";; For example,\n",
    "\n",
    ";; (list-n 5 'cat) returns (cat cat cat cat cat)\n",
    ";; (list-n 0 'dog) returns \"nil\"\n",
    "\n",
    "(defun list-n (num expr)\n",
    "    (cond ((zerop num) nil)\n",
    "        (t (cons expr (list-n (1- num) expr)))))\n",
    "\n",
    ";; Call the function with arguments: 5, cat\n",
    "\n",
    "(list-n 7 'cat)"
   ]
  },
  {
   "cell_type": "code",
   "execution_count": 122,
   "metadata": {},
   "outputs": [
    {
     "name": "stderr",
     "output_type": "stream",
     "text": [
      "REDEFINITION-WITH-DEFUN: \n",
      "  redefining CL-JUPYTER-USER::LIST-ODD in DEFUN\n"
     ]
    },
    {
     "data": {
      "text/plain": [
       "(7 5 3 1)"
      ]
     },
     "execution_count": 122,
     "metadata": {},
     "output_type": "execute_result"
    }
   ],
   "source": [
    ";; Define a recursive function \"list-odd\" that takes one\n",
    ";; integer argument \"n\" that is greater than or equal to\n",
    ";; zero and returns a list of the odd integers between 1\n",
    ";; and \"n\" (including \"n\" if it is odd). For example,\n",
    "\n",
    ";; (list-odd 7) returns (7 5 3 1)\n",
    ";; (list-odd 8) returns (7 5 3 1)\n",
    ";; (list-odd 0) returns \"nil\"\n",
    "\n",
    "(defun list-odd (n)\n",
    "    (cond ((zerop n) nil)\n",
    "        ((oddp n) (cons n (list-odd (1- n))))\n",
    "        (t (list-odd (1- n)))))\n",
    "\n",
    ";; Call the function with argument 7\n",
    "\n",
    "(list-odd 8)"
   ]
  },
  {
   "cell_type": "markdown",
   "metadata": {},
   "source": [
    "## List (cdr) Recursion\n",
    "\n",
    "List recursion processes the elements of a list. The logic and structure of cdr recursion are very similar to the logic and structure of numeric recursion. Suppose we want to write a function \"list-sum\" that sums all the numbers in a list passed in as an argument to the function. For example:\n",
    "\n",
    "    (list-sum '(5 2 10 3 7)) ; Returns 5 + 2 + 10 + 3 + 7\n",
    "    \n",
    "To write this function recursively, note that:\n",
    "\n",
    "* (list-sum lst) = 1st num in lst + (list-sum [rest of list])\n",
    "* (list-sum ()) = 0\n",
    "\n",
    "Therefore, we can write \"list-sum\" recursively as:\n",
    "\n",
    "    (defun list-sum (lst)\n",
    "        (cond ((null lst) 0)\n",
    "              (t (+ (car lst) (list-sum (cdr lst))))))\n",
    "              \n",
    "A cdr recursive function will have a terminating case that tests whether the argument is \"nil\". Of course, some functions will include additional terminating cases that test for other conditions.\n",
    "\n",
    "When a terminating case is evaluated, it should return the correct answer, given the current argument(s) to the function.\n",
    "\n",
    "In a recursive case, we need to call the function on an argument that is one step closer to the terminating case. In cdr recursion, we can do this by calling the function recursively on the cdr (tail) of the list.\n",
    "\n",
    "In planning the recursive action, you should **assume that the recursive call will return the correct answer for the tail of the list**."
   ]
  },
  {
   "cell_type": "markdown",
   "metadata": {},
   "source": [
    "A cdr recursive function can have multiple terminating and multiple recursive cases.\n",
    "\n",
    "* A function that searches for the first occurance of a target item in a data structure (a list or sequence of numbers) will require more than one terminating case, because there are two different ways the search can end:\n",
    "   - The target is found and no more items need to be checked.\n",
    "   - The target has not been found and there are no more items to check\n",
    "* A function that processes all the items in a data structure but treats some cases differently than others will require multiple recursive cases."
   ]
  },
  {
   "cell_type": "markdown",
   "metadata": {},
   "source": [
    "### Examples"
   ]
  },
  {
   "cell_type": "code",
   "execution_count": 123,
   "metadata": {},
   "outputs": [
    {
     "data": {
      "text/plain": [
       "27"
      ]
     },
     "execution_count": 123,
     "metadata": {},
     "output_type": "execute_result"
    }
   ],
   "source": [
    ";; The recursive function \"list-sum\" takes a list of\n",
    ";; numbers as argument and returns the sum of the\n",
    ";; numbers in the list.\n",
    "\n",
    "(defun list-sum (lst)\n",
    "    (cond ((null lst) 0)\n",
    "        (t (+ (car lst) (list-sum (cdr lst))))))\n",
    "\n",
    ";; Call the function with argument (5 2 10 3 7)\n",
    "\n",
    "(list-sum '(5 2 10 3 7))"
   ]
  },
  {
   "cell_type": "markdown",
   "metadata": {},
   "source": [
    "### Exercises"
   ]
  },
  {
   "cell_type": "code",
   "execution_count": 125,
   "metadata": {},
   "outputs": [
    {
     "name": "stderr",
     "output_type": "stream",
     "text": [
      "REDEFINITION-WITH-DEFUN: \n",
      "  redefining CL-JUPYTER-USER::NEW-LENGTH in DEFUN\n"
     ]
    },
    {
     "data": {
      "text/plain": [
       "5"
      ]
     },
     "execution_count": 125,
     "metadata": {},
     "output_type": "execute_result"
    }
   ],
   "source": [
    ";; Define a recursive function \"new-length\" that takes\n",
    ";; one list argument and returns the length of the list.\n",
    ";; For example,\n",
    "\n",
    ";; (new-length '(a b c d e)) returns 5\n",
    ";; (new-length nil) returns 0\n",
    "\n",
    "(defun new-length (lst)\n",
    "    (cond ((null lst) 0)\n",
    "        (t (1+ (new-length (cdr lst))))))\n",
    "\n",
    ";; Call the function with argument (a b c d e)\n",
    "\n",
    "(new-length '(a b c d e))"
   ]
  },
  {
   "cell_type": "code",
   "execution_count": 127,
   "metadata": {},
   "outputs": [
    {
     "name": "stderr",
     "output_type": "stream",
     "text": [
      "REDEFINITION-WITH-DEFUN: \n",
      "  redefining CL-JUPYTER-USER::ADDN in DEFUN\n"
     ]
    },
    {
     "data": {
      "text/plain": [
       "(5 6 7 8 9)"
      ]
     },
     "execution_count": 127,
     "metadata": {},
     "output_type": "execute_result"
    }
   ],
   "source": [
    ";; Define a recursive function \"addn\" that takes two\n",
    ";; arguments. The first argument is a list of numbers\n",
    ";; and the second argument is a number. The function\n",
    ";; returns a new list of numbers which is created by\n",
    ";; adding the second number to each number in the first\n",
    ";; argument. For example,\n",
    "\n",
    ";; (addn '(1 2 3 4 5) 4) returns (5 6 7 8 9)\n",
    ";; (addn nil 8) returns nil\n",
    ";; (addn nil n) returns nil for any value of \"n\"\n",
    "\n",
    "(defun addn (lst num)\n",
    "    (cond ((null lst) nil)\n",
    "        (t (cons (+ num (car lst))\n",
    "                   (addn (cdr lst) num)))))\n",
    "\n",
    ";; Call the function with arguments: (1 2 3 4 5), 4\n",
    "\n",
    "(addn '(1 2 3 4 5) 4)"
   ]
  },
  {
   "cell_type": "code",
   "execution_count": 130,
   "metadata": {},
   "outputs": [
    {
     "name": "stderr",
     "output_type": "stream",
     "text": [
      "REDEFINITION-WITH-DEFUN: \n",
      "  redefining CL-JUPYTER-USER::SUM-NUMBERS in DEFUN\n"
     ]
    },
    {
     "data": {
      "text/plain": [
       "12"
      ]
     },
     "execution_count": 130,
     "metadata": {},
     "output_type": "execute_result"
    }
   ],
   "source": [
    ";; Defina a recursive function \"sum-numbers\" that takes\n",
    ";; a list argument and returns the sum of all the numbers\n",
    ";; that appear at the top level in the list. For example,\n",
    "\n",
    ";; (sum-numbers '(8 x (4 y (15)) z 1 3)) returns 12\n",
    ";; (sum-numbers nil) returns 0\n",
    "\n",
    "(defun sum-numbers (lst)\n",
    "    (cond ((null lst) 0)\n",
    "        ((numberp (car lst))\n",
    "            (+ (car lst) (sum-numbers (cdr lst))))\n",
    "        (t (sum-numbers (cdr lst)))))\n",
    "\n",
    ";; Call the function with argument (8 x (4 y (15)) z 1 3)\n",
    "\n",
    "(sum-numbers '(8 x (4 y (15)) z 1 3))"
   ]
  },
  {
   "cell_type": "markdown",
   "metadata": {
    "run_control": {
     "marked": false
    }
   },
   "source": [
    "## Car-cdr Recursion\n",
    "\n",
    "Suppose we want to define a function \"is-in\" which would take a list argument \"lst\" and an element argument \"elt\" and return \"t\" if the element appears at any level within the list and would return \"nil\" otherwise.\n",
    "\n",
    "To do this we need to search for \"elt\" within the embedded lists in \"lst\". This means we need to call the function recursively on the \"car\" of the list as well as the \"cdr\" of the list. This technique is called \"car-cdr recursion\".\n",
    "\n",
    "Below we code \"is-in\" using this technique:\n",
    "\n",
    "    (defun is-in (elt lst)\n",
    "        (cond ((null lst) nil)\n",
    "              ((equal elt (car lst)) t)\n",
    "              ((atom (car lst)) (is-in elt (cdr lst)))\n",
    "              (t (or (is-in elt (car lst))\n",
    "                     (is-in elt (cdr lst))))))"
   ]
  },
  {
   "cell_type": "markdown",
   "metadata": {},
   "source": [
    "**TERMINATING CASES**\n",
    "\n",
    "As with all recursive functions, you should determine the terminating cases of the function. These are the cases in which we can return a value without calling the function recursively. There are two different types of terminating cases:\n",
    "\n",
    "* It the list is empty, we need to return a value without calling the function recursively.\n",
    "* We can have a terminating case if the \"car\" of the list is an atom. Specifically, if our function is looking for the first occurrence of an atom, and the \"car\" of the list matches the target, we can return a value without calling the function recursively.\n",
    "\n",
    "**CDR-RECURSIVE CASES**\n",
    "\n",
    "These are the cases in which the \"car\" of the list is an atom (so you do not need to call the function recursively on the \"car\"), and you need the result of the function called on the \"cdr\" of the list. There are two types of these cases:\n",
    "\n",
    "* You simply need to return the results of the function called recursively on the \"cdr\" of the list.\n",
    "* The results of the \"cdr-recursive\" call have to be combined with a value that is derived from the \"car\" of the list.\n",
    "\n",
    "**CAR-CDR-RECURSIVE CASE**\n",
    "\n",
    "This is the case where the function calls itself recursively on both the \"car\" and the \"cdr\" of the list, when the \"car\" of the list is itself a list. This will usually be the last case in the \"cond\". You will need to determine how you can combine the two results to obtain the correct result for the whole list. If it is not clear how to combine the results at first, work through an example or two. If you take a list and write down the correct answer for the \"car\" of the list, the correct answer for the \"cdr\" of the list and the correct answer for the whole list, it should be apparent how to combint the first two results to generate the overall result.\n",
    "\n"
   ]
  },
  {
   "cell_type": "markdown",
   "metadata": {},
   "source": [
    "### Examples"
   ]
  },
  {
   "cell_type": "code",
   "execution_count": 133,
   "metadata": {},
   "outputs": [
    {
     "name": "stderr",
     "output_type": "stream",
     "text": [
      "REDEFINITION-WITH-DEFUN: \n",
      "  redefining CL-JUPYTER-USER::IS-IN in DEFUN\n"
     ]
    },
    {
     "data": {
      "text/plain": [
       "T"
      ]
     },
     "execution_count": 133,
     "metadata": {},
     "output_type": "execute_result"
    }
   ],
   "source": [
    ";; The function \"is-in\" takes an element and list as\n",
    ";; arguments. It returns \"t\" if the element is somewhere,\n",
    ";; at any level, within the list and returns \"nil\"\n",
    ";; otherwise.\n",
    "\n",
    "(defun is-in (elt lst)\n",
    "    (cond ((null lst) nil)\n",
    "        ((equal elt (car lst)) t)\n",
    "        ((atom (car lst)) (is-in elt (cdr lst)))\n",
    "        (t (or (is-in elt (car lst))\n",
    "               (is-in elt (cdr lst))))))\n",
    "\n",
    ";; Call the function with arguments: a, (3 b (b (2 a) c))\n",
    "\n",
    "(is-in 'a '(3 b (b (2 a) c)))"
   ]
  },
  {
   "cell_type": "code",
   "execution_count": 135,
   "metadata": {},
   "outputs": [
    {
     "name": "stderr",
     "output_type": "stream",
     "text": [
      "REDEFINITION-WITH-DEFUN: \n",
      "  redefining CL-JUPYTER-USER::NUMBERS in DEFUN\n"
     ]
    },
    {
     "data": {
      "text/plain": [
       "(1 2 3)"
      ]
     },
     "execution_count": 135,
     "metadata": {},
     "output_type": "execute_result"
    }
   ],
   "source": [
    ";; The function \"numbers\" accepts a list argument and\n",
    ";; returns a list of all the numbers within the list.\n",
    ";; For example,\n",
    "\n",
    ";; (numbers '((a 1 (2)) b 3)) returns (1 2 3)\n",
    ";; (numbers nil) returns nil\n",
    "\n",
    "(defun numbers (lst)\n",
    "    (cond ((null lst) nil)\n",
    "        ((numberp (car lst)) (cons (car lst)\n",
    "                                  (numbers (cdr lst))))\n",
    "        ((atom (car lst)) (numbers (cdr lst)))\n",
    "        (t (append (numbers (car lst))\n",
    "                   (numbers (cdr lst))))))\n",
    "\n",
    ";; Call the function with argument ((a 1 (2)) b 3)\n",
    "\n",
    "(numbers '((a 1 (2)) b 3))"
   ]
  },
  {
   "cell_type": "markdown",
   "metadata": {},
   "source": [
    "### Exercises"
   ]
  },
  {
   "cell_type": "code",
   "execution_count": 140,
   "metadata": {},
   "outputs": [
    {
     "name": "stderr",
     "output_type": "stream",
     "text": [
      "REDEFINITION-WITH-DEFUN: \n",
      "  redefining CL-JUPYTER-USER::COUNT-ATOMS in DEFUN\n"
     ]
    },
    {
     "data": {
      "text/plain": [
       "5"
      ]
     },
     "execution_count": 140,
     "metadata": {},
     "output_type": "execute_result"
    }
   ],
   "source": [
    ";; Defina a recursive function \"count-atoms\" that takes\n",
    ";; a list argument and returns the number of atoms\n",
    ";; contained at any level of embedding within the list.\n",
    ";; For example,\n",
    "\n",
    ";; (count-atoms '((a (b)) c ((d (e))))) returns 5\n",
    ";; (count-atoms nil) returns 0\n",
    "\n",
    "(defun count-atoms (lst)\n",
    "    (cond ((null lst) 0)\n",
    "        ((atom (car lst)) (1+ (count-atoms (cdr lst))))\n",
    "        (t (+ (count-atoms (car lst))\n",
    "              (count-atoms (cdr lst))))))\n",
    "\n",
    ";; Call the function on the argument ((a (b)) c ((d (e))))\n",
    "\n",
    "(count-atoms '((a (b)) c ((d (e)))))"
   ]
  },
  {
   "cell_type": "code",
   "execution_count": 141,
   "metadata": {},
   "outputs": [
    {
     "data": {
      "text/plain": [
       "(A B C D E)"
      ]
     },
     "execution_count": 141,
     "metadata": {},
     "output_type": "execute_result"
    }
   ],
   "source": [
    ";; Define a recursive function \"flatten\" that takes a\n",
    ";; list argument and returns a single-level list containing\n",
    ";; all the atoms that appear at any level of the original\n",
    ";; list. For example,\n",
    "\n",
    ";; (flatten '((a (b)) c ((d (e))))) returns (a b c d e)\n",
    ";; (flatten nil) returns \"nil\"\n",
    "\n",
    "(defun flatten (lst)\n",
    "    (cond ((null lst) nil)\n",
    "        ((atom (car lst))\n",
    "         (cons (car lst) (flatten (cdr lst))))\n",
    "        (t (append (flatten (car lst))\n",
    "                   (flatten (cdr lst))))))\n",
    "\n",
    ";; Call the function with argument ((a (b)) c ((d (e))))\n",
    "\n",
    "(flatten '((a (b)) c ((d (e)))))"
   ]
  },
  {
   "cell_type": "code",
   "execution_count": 146,
   "metadata": {},
   "outputs": [
    {
     "name": "stderr",
     "output_type": "stream",
     "text": [
      "REDEFINITION-WITH-DEFUN: \n",
      "  redefining CL-JUPYTER-USER::FIND-NUMS in DEFUN\n"
     ]
    },
    {
     "data": {
      "text/plain": [
       "(12 (3 (5)) (22 0 NIL (16)))"
      ]
     },
     "execution_count": 146,
     "metadata": {},
     "output_type": "execute_result"
    }
   ],
   "source": [
    ";; Define a recursive function \"find-nums\" that takes\n",
    ";; a list argument and returns a new list that includes\n",
    ";; all the numbers but removes all the non-numeric atoms.\n",
    ";; The list should not be flattened. For example,\n",
    "\n",
    ";; (find-nums '(a 12 (b 3 (5)) c (22 d) 0 (e) (16)))\n",
    ";; returns (12 (3 (5)) (22) 0 () (16))\n",
    "\n",
    ";; (find-nums nil) returns \"nil\"\n",
    "\n",
    "(defun find-nums (lst)\n",
    "    (cond ((null lst) nil)\n",
    "        ((numberp (car lst))\n",
    "         (cons (car lst) (find-nums (cdr lst))))\n",
    "        ((atom (car lst)) (find-nums (cdr lst)))\n",
    "        (t (cons (find-nums (car lst))\n",
    "                 (find-nums (cdr lst))))))\n",
    "\n",
    ";; Call the function with argument:\n",
    ";; (a 12 (b 3 (5)) c (22 d 0 (e) (16)))\n",
    "\n",
    "(find-nums '(a 12 (b 3 (5)) c (22 d 0 (e) (16))))"
   ]
  },
  {
   "cell_type": "code",
   "execution_count": 151,
   "metadata": {},
   "outputs": [
    {
     "name": "stderr",
     "output_type": "stream",
     "text": [
      "REDEFINITION-WITH-DEFUN: \n",
      "  redefining CL-JUPYTER-USER::DELETE-ALL in DEFUN\n"
     ]
    },
    {
     "data": {
      "text/plain": [
       "((B) C (B D (NIL)))"
      ]
     },
     "execution_count": 151,
     "metadata": {},
     "output_type": "execute_result"
    }
   ],
   "source": [
    ";; Define a recursive function \"delete-all\" that takes\n",
    ";; two arguments. The first argument is a list and the\n",
    ";; second argument can be any lips atom. The function\n",
    ";; deletes all occurrences of the second argument at any\n",
    ";; level of the list. For example,\n",
    "\n",
    ";; (delete-all '(a (b a) c (b d (a (a)))) 'a) returns\n",
    ";; ((b) c (b d (())))\n",
    "\n",
    ";; (delete-all nil 'a) returns \"nil\"\n",
    "\n",
    "(defun delete-all (lst atm)\n",
    "    (cond ((null lst) nil)\n",
    "        ((equal (car lst) atm)\n",
    "         (delete-all (cdr lst) atm))\n",
    "        ((atom (car lst))\n",
    "         (cons (car lst) (delete-all (cdr lst) atm)))\n",
    "        (t (cons (delete-all (car lst) atm)\n",
    "                 (delete-all (cdr lst) atm)))))\n",
    "        \n",
    "\n",
    ";; Call the function with argument (a (b a) c (b d (a (a))))\n",
    "\n",
    "(delete-all '(a (b a) c (b d (a (a)))) 'a)\n",
    "             "
   ]
  },
  {
   "cell_type": "markdown",
   "metadata": {
    "heading_collapsed": true
   },
   "source": [
    "# Chapter 5: Iteration with the Loop Facility\n",
    "\n",
    "In this chapter we learn about iteration \"looping\" using the more modern lisp loop macro.\n",
    "\n",
    "A loop contains a set of clauses. Each clause starts with a *loop keyword* (not a true keyword) that indicates what the clause does. Loop keywords can indicate that the clause will set a local variable, iterate through a list or set of numbers, perform an action or accumulate a result.\n",
    "\n",
    "The following shows an example with 5 clauses:\n",
    "\n",
    "    (loop with product = 1\n",
    "        for item in item-list\n",
    "        when (and (numberp item) (oddp item))\n",
    "        do (setf product (* product item))\n",
    "        finally (return product))\n",
    "        \n",
    "This loop iterates through the members of a list, and if the item is an odd number, multiplies the product by that number. At the end of the iteration, it returns the product."
   ]
  },
  {
   "cell_type": "markdown",
   "metadata": {
    "heading_collapsed": true,
    "hidden": true
   },
   "source": [
    "## Numeric Iteration\n",
    "\n",
    "For numeric iteration where we want to go through the loop a certain number of times, we can use loop's \"for\" keyword. For example, to print the numbers from 1 to 5 we can code:\n",
    "\n",
    "    (loop for i from 1 to 5\n",
    "        do (print i))\n",
    "        \n",
    "The syntax is:\n",
    "\n",
    "    for <iter vbl> from <init value> to <final value>\n",
    "    \n",
    "The general form of numeric iteration using the loop facility is:\n",
    "\n",
    "    (defun <function name> (<parameter list>)\n",
    "        (loop [variable initializations (optional)]\n",
    "              for <iter vbl> from <start val> to <end val>\n",
    "              [iteration actions as appropriate]\n",
    "              \n",
    "and either\n",
    "\n",
    "    finally (return <return value>)\n",
    "    \n",
    "or\n",
    "\n",
    "    <accumulator keyword> <what to accumulate>))"
   ]
  },
  {
   "cell_type": "markdown",
   "metadata": {
    "hidden": true
   },
   "source": [
    "### Examples"
   ]
  },
  {
   "cell_type": "code",
   "execution_count": 153,
   "metadata": {
    "hidden": true
   },
   "outputs": [
    {
     "name": "stdout",
     "output_type": "stream",
     "text": [
      "\n",
      "1 \n",
      "2 \n",
      "3 \n",
      "4 \n",
      "5 "
     ]
    },
    {
     "data": {
      "text/plain": [
       "NIL"
      ]
     },
     "execution_count": 153,
     "metadata": {},
     "output_type": "execute_result"
    }
   ],
   "source": [
    ";; Print the numbers from 1 to 5\n",
    "\n",
    "(loop for i from 1 to 5\n",
    "      do (print i))"
   ]
  },
  {
   "cell_type": "code",
   "execution_count": 158,
   "metadata": {
    "hidden": true
   },
   "outputs": [
    {
     "name": "stderr",
     "output_type": "stream",
     "text": [
      "REDEFINITION-WITH-DEFUN: \n",
      "  redefining CL-JUPYTER-USER::ADD-INTEGERS in DEFUN\n"
     ]
    },
    {
     "data": {
      "text/plain": [
       "15"
      ]
     },
     "execution_count": 158,
     "metadata": {},
     "output_type": "execute_result"
    }
   ],
   "source": [
    ";; The function \"add-integers\" takes one positive integer\n",
    ";; argument and returns the total of all the integers from\n",
    ";; 1 to that argument. For example,\n",
    "\n",
    ";; (add-integers 5) returns 1 + 2 + 3 + 4 + 5\n",
    "\n",
    "(defun add-integers (num)\n",
    "    (loop with total = 0 ; Initialize the local variable\n",
    "          for i from 1 to num ; Provide \"start\", \"end\"\n",
    "          do (incf total i) ; Loop body action\n",
    "          finally (return total))) ; Final action/result\n",
    "\n",
    ";; Note that (incf total i) is equivalent to\n",
    ";; (setf total (+ total i))\n",
    "\n",
    ";; Call the function with argument 5\n",
    "\n",
    "(add-integers 5)"
   ]
  },
  {
   "cell_type": "markdown",
   "metadata": {
    "hidden": true
   },
   "source": [
    "#### The numeric accumulator \"sum\"\n",
    "\n",
    "The loop keyword \"sum\" is a numeric accumulator. It is followed the the value to be accumulated. By default the loop will return the value of the accumulated sum."
   ]
  },
  {
   "cell_type": "code",
   "execution_count": 160,
   "metadata": {
    "hidden": true
   },
   "outputs": [
    {
     "name": "stderr",
     "output_type": "stream",
     "text": [
      "REDEFINITION-WITH-DEFUN: \n",
      "  redefining CL-JUPYTER-USER::ADD-INTEGERS in DEFUN\n"
     ]
    },
    {
     "data": {
      "text/plain": [
       "15"
      ]
     },
     "execution_count": 160,
     "metadata": {},
     "output_type": "execute_result"
    }
   ],
   "source": [
    ";; Here's an easier way to define \"add-integers\" using\n",
    ";; the \"sum\" accumulator.\n",
    "\n",
    "(defun add-integers (num)\n",
    "    (loop for i from 1 to num\n",
    "          sum i))\n",
    "\n",
    ";; Call the function with argument 5\n",
    "\n",
    "(add-integers 5)"
   ]
  },
  {
   "cell_type": "code",
   "execution_count": 161,
   "metadata": {
    "hidden": true
   },
   "outputs": [
    {
     "data": {
      "text/plain": [
       "15"
      ]
     },
     "execution_count": 161,
     "metadata": {},
     "output_type": "execute_result"
    }
   ],
   "source": [
    ";; The function \"int-multiply\" takes two positive integer ;; arguments and returns the number obtained by adding the\n",
    ";; first argument to itself the second argument number\n",
    ";; of times. For example,\n",
    "\n",
    ";; (int-multiply 5 3) returns 5 + 5 + 5\n",
    "\n",
    "(defun int-multiply (n1 n2)\n",
    "    (loop for i from 1 to n2\n",
    "          sum n1))\n",
    "\n",
    ";; Call the function with arguments: 5, 3\n",
    "\n",
    "(int-multiply 5 3)"
   ]
  },
  {
   "cell_type": "markdown",
   "metadata": {
    "hidden": true
   },
   "source": [
    "#### The list accumulator \"collect\"\n",
    "\n",
    "The loop keyword \"collect\" is a list accumulator. Each time through the loop, \"collect\" puts the value of its argument into a list in order. By default the loop returns this list."
   ]
  },
  {
   "cell_type": "code",
   "execution_count": 162,
   "metadata": {
    "hidden": true
   },
   "outputs": [
    {
     "data": {
      "text/plain": [
       "(0 1 2 3 4 5 6 7)"
      ]
     },
     "execution_count": 162,
     "metadata": {},
     "output_type": "execute_result"
    }
   ],
   "source": [
    ";; The function \"int-list\" takes a single positive\n",
    ";; integer argument and returns a list of the integers\n",
    ";; from 0 to that argument. For example,\n",
    "\n",
    ";; (int-list 7) returns (0 1 2 3 4 5 6 7)\n",
    "\n",
    "(defun int-list (num)\n",
    "    (loop for i from 0 to num\n",
    "          collect i))\n",
    "\n",
    ";; Call the function with argument 7\n",
    "\n",
    "(int-list 7)"
   ]
  },
  {
   "cell_type": "markdown",
   "metadata": {
    "hidden": true
   },
   "source": [
    "### Exercises"
   ]
  },
  {
   "cell_type": "code",
   "execution_count": 163,
   "metadata": {
    "hidden": true
   },
   "outputs": [
    {
     "name": "stderr",
     "output_type": "stream",
     "text": [
      "REDEFINITION-WITH-DEFUN: \n",
      "  redefining CL-JUPYTER-USER::FACT in DEFUN\n"
     ]
    },
    {
     "data": {
      "text/plain": [
       "1"
      ]
     },
     "execution_count": 163,
     "metadata": {},
     "output_type": "execute_result"
    }
   ],
   "source": [
    ";; Define an iterative function \"fact\" that takes a\n",
    ";; non-negative integer argument and returns the\n",
    ";; factorial of the integer. For example,\n",
    "\n",
    ";; (fact 3) returns 6\n",
    ";; (fact 0) returns 1\n",
    "\n",
    "(defun fact (n)\n",
    "    (loop with prod = 1\n",
    "          for i from 1 to n\n",
    "          do (setf prod (* prod i))\n",
    "          finally (return prod)))\n",
    "\n",
    ";; Call the function with argument 0\n",
    "\n",
    "(fact 0)"
   ]
  },
  {
   "cell_type": "code",
   "execution_count": 164,
   "metadata": {
    "hidden": true
   },
   "outputs": [
    {
     "data": {
      "text/plain": [
       "(1 2 3 4 5)"
      ]
     },
     "execution_count": 164,
     "metadata": {},
     "output_type": "execute_result"
    }
   ],
   "source": [
    ";; Define an iterative function \"create-list\" that\n",
    ";; takes one non-negative integer argument and returns\n",
    ";; a list containing all the integers between 1 and\n",
    ";; the argument in ascending order. For example,\n",
    "\n",
    ";; (create-list 5) returns (1 2 3 4 5)\n",
    ";; (create-list 0) returns \"nil\"\n",
    "\n",
    "(defun create-list (num)\n",
    "    (loop for i from 1 to num\n",
    "          collect i))\n",
    "\n",
    ";; Call the function with argument 5\n",
    "\n",
    "(create-list 5)"
   ]
  },
  {
   "cell_type": "code",
   "execution_count": 165,
   "metadata": {
    "hidden": true
   },
   "outputs": [
    {
     "data": {
      "text/plain": [
       "14"
      ]
     },
     "execution_count": 165,
     "metadata": {},
     "output_type": "execute_result"
    }
   ],
   "source": [
    ";; Define an iterative function \"sum-squares\" that\n",
    ";; takes one non-negative integer argument and returns\n",
    ";; the sum of the squares of the integers from 1 to\n",
    ";; the argument. For example,\n",
    "\n",
    ";; (sum-squares 3) returns 1*1 + 2*2 + 3*3\n",
    ";; (sum-squares 0) returns 0\n",
    "\n",
    "(defun sum-squares (num)\n",
    "    (loop for i from 1 to num\n",
    "          sum (* i i)))\n",
    "\n",
    ";; Call the function with argument 3\n",
    "\n",
    "(sum-squares 3)"
   ]
  },
  {
   "cell_type": "code",
   "execution_count": 166,
   "metadata": {
    "hidden": true
   },
   "outputs": [
    {
     "data": {
      "text/plain": [
       "(2 4 6 8 10 12)"
      ]
     },
     "execution_count": 166,
     "metadata": {},
     "output_type": "execute_result"
    }
   ],
   "source": [
    ";; Define an iterative function \"list-doubles\" that\n",
    ";; takes one non-negative integer argument and returns\n",
    ";; a list of the doubles of all the integers between\n",
    ";; 1 and the argument in ascending order. For example,\n",
    "\n",
    ";; (list-doubles 6) returns (2 4 6 8 10 12)\n",
    ";; (list-doubles 0) returns \"nil\"\n",
    "\n",
    "(defun list-doubles (num)\n",
    "    (loop for i from 1 to num\n",
    "          collect (* 2 i)))\n",
    "\n",
    ";; Call the function with argument 6\n",
    "\n",
    "(list-doubles 6)"
   ]
  },
  {
   "cell_type": "markdown",
   "metadata": {
    "heading_collapsed": true,
    "hidden": true
   },
   "source": [
    "## List Iteration\n",
    "\n",
    "In list iteration the loop is controlled by the elements of a list. The loop \"for\" keyword is also used in list iteration in the form:\n",
    "\n",
    "    (loop for <iter vbl> in <list> ... )\n",
    "    \n",
    "If the iterator variable in list iteration is a list of symbols, the loop facility binds each of them to the respective elements of successive list items each time through the loop."
   ]
  },
  {
   "cell_type": "markdown",
   "metadata": {
    "heading_collapsed": true,
    "hidden": true
   },
   "source": [
    "### Examples"
   ]
  },
  {
   "cell_type": "code",
   "execution_count": 167,
   "metadata": {
    "hidden": true
   },
   "outputs": [
    {
     "name": "stderr",
     "output_type": "stream",
     "text": [
      "REDEFINITION-WITH-DEFUN: \n",
      "  redefining CL-JUPYTER-USER::DOUBLE-LIST in DEFUN\n"
     ]
    },
    {
     "data": {
      "text/plain": [
       "(6.4 14/5 -8 30)"
      ]
     },
     "execution_count": 167,
     "metadata": {},
     "output_type": "execute_result"
    }
   ],
   "source": [
    ";; The list-iterative function \"double-list\" returns\n",
    ";; the list of doubles of the argument list.\n",
    "\n",
    "(defun double-list (lst)\n",
    "    (loop for num in lst\n",
    "        collect (* num 2)))\n",
    "\n",
    ";; Call the function with the argument (3.2 7/5 -4 15)\n",
    "\n",
    "(double-list '(3.2 7/5 -4 15))"
   ]
  },
  {
   "cell_type": "code",
   "execution_count": 168,
   "metadata": {
    "hidden": true
   },
   "outputs": [
    {
     "name": "stderr",
     "output_type": "stream",
     "text": [
      "REDEFINITION-WITH-DEFUN: \n",
      "  redefining CL-JUPYTER-USER::NEW-REVERSE in DEFUN\n"
     ]
    },
    {
     "data": {
      "text/plain": [
       "(E (C D) B A)"
      ]
     },
     "execution_count": 168,
     "metadata": {},
     "output_type": "execute_result"
    }
   ],
   "source": [
    ";; The function \"new-reverse\" returns the reverse of\n",
    ";; the argument list.\n",
    "\n",
    "(defun new-reverse (lst)\n",
    "    (loop with return-list = nil\n",
    "          for item in lst\n",
    "          do (setf return-list (cons item return-list))\n",
    "          finally (return return-list)))\n",
    "\n",
    ";; Call the function with argument (a b (c d) e)\n",
    "\n",
    "(new-reverse '(a b (c d) e))"
   ]
  },
  {
   "cell_type": "code",
   "execution_count": 169,
   "metadata": {
    "hidden": true
   },
   "outputs": [
    {
     "data": {
      "text/plain": [
       "98"
      ]
     },
     "execution_count": 169,
     "metadata": {},
     "output_type": "execute_result"
    }
   ],
   "source": [
    ";; The function \"sum-products\" takes in a list of number\n",
    ";; pairs as argument and returns the sum of the products\n",
    ";; of the pairs. For example,\n",
    "\n",
    ";; (sum-products '((3 4) (5 6) (7 8))) returns\n",
    ";; 3*4 + 5*6 + 7*8\n",
    "\n",
    "(defun sum-products (lst-pairs)\n",
    "    (loop for (a b) in lst-pairs\n",
    "          sum (* a b)))\n",
    "\n",
    ";; Call the function with argument ((3 4) (5 6) (7 8))\n",
    "\n",
    "(sum-products '((3 4) (5 6) (7 8)))"
   ]
  },
  {
   "cell_type": "code",
   "execution_count": 173,
   "metadata": {
    "hidden": true
   },
   "outputs": [
    {
     "name": "stderr",
     "output_type": "stream",
     "text": [
      "REDEFINITION-WITH-DEFUN: \n",
      "  redefining CL-JUPYTER-USER::TRIPLES-TO-PAIRS in DEFUN\n"
     ]
    },
    {
     "data": {
      "text/plain": [
       "((A C) (D F) (G I))"
      ]
     },
     "execution_count": 173,
     "metadata": {},
     "output_type": "execute_result"
    }
   ],
   "source": [
    ";; The function \"triples-to-pairs\" takes a list of\n",
    ";; triples of symbols as argument and returns a list\n",
    ";; of pairs of the first and third elements in each\n",
    ";; triple. For example,\n",
    "\n",
    ";; (triples-to-pairs '((a b c) (d e f) (g h i)))\n",
    ";; returns ((a c) (d f) (g i))\n",
    "\n",
    "(defun triples-to-pairs (lst-triples)\n",
    "    (loop for (a b c) in lst-triples\n",
    "          collect (list a c)))\n",
    "\n",
    ";; Call the function with argument ((a b c) (d e f) (g h i))\n",
    "\n",
    "(triples-to-pairs '((a b c) (d e f) (g h i)))"
   ]
  },
  {
   "cell_type": "code",
   "execution_count": 174,
   "metadata": {
    "hidden": true
   },
   "outputs": [
    {
     "name": "stderr",
     "output_type": "stream",
     "text": [
      "REDEFINITION-WITH-DEFUN: \n",
      "  redefining CL-JUPYTER-USER::COUNT-NUMBERS in DEFUN\n"
     ]
    },
    {
     "data": {
      "text/plain": [
       "3"
      ]
     },
     "execution_count": 174,
     "metadata": {},
     "output_type": "execute_result"
    }
   ],
   "source": [
    ";; The function \"count-numbers\" returns the number of\n",
    ";; numbers in the list passed in as argument.\n",
    "\n",
    "(defun count-numbers (lst)\n",
    "    (loop for elem in lst\n",
    "          when (numberp elem)\n",
    "          count elem))\n",
    "\n",
    ";; Call the function with argument (2 a (3 b) 4 9 c)\n",
    "\n",
    "(count-numbers '(2 a (3 b) 4 9 c))"
   ]
  },
  {
   "cell_type": "code",
   "execution_count": 175,
   "metadata": {
    "hidden": true
   },
   "outputs": [
    {
     "name": "stderr",
     "output_type": "stream",
     "text": [
      "REDEFINITION-WITH-DEFUN: \n",
      "  redefining CL-JUPYTER-USER::COUNT-NUMBERS in DEFUN\n"
     ]
    },
    {
     "data": {
      "text/plain": [
       "3"
      ]
     },
     "execution_count": 175,
     "metadata": {},
     "output_type": "execute_result"
    }
   ],
   "source": [
    ";; We can also define \"count-numbers\" as:\n",
    "\n",
    "(defun count-numbers (lst)\n",
    "    (loop for elem in lst\n",
    "          count (numberp elem)))\n",
    "\n",
    ";; Call the function with argument (2 a (3 b) 4 9 c)\n",
    "\n",
    "(count-numbers '(2 a (3 b) 4 9 c))"
   ]
  },
  {
   "cell_type": "markdown",
   "metadata": {
    "heading_collapsed": true,
    "hidden": true
   },
   "source": [
    "### Exercises"
   ]
  },
  {
   "cell_type": "code",
   "execution_count": 176,
   "metadata": {
    "hidden": true
   },
   "outputs": [
    {
     "data": {
      "text/plain": [
       "34"
      ]
     },
     "execution_count": 176,
     "metadata": {},
     "output_type": "execute_result"
    }
   ],
   "source": [
    ";; Define an iterative function \"sum-list\" which takes\n",
    ";; a list of numbers as argument and returns the sum of\n",
    ";; the numbers in the list. For example,\n",
    "\n",
    ";; (sum-list '(9 6 14 5)) returns 9 + 6 + 14 + 5\n",
    ";; (sum-list nil) returns 0\n",
    "\n",
    "(defun sum-list (num-lst)\n",
    "    (loop for num in num-lst\n",
    "          sum num))\n",
    "\n",
    ";; Call the function with argument (9 6 14 5)\n",
    "\n",
    "(sum-list '(9 6 14 5))"
   ]
  },
  {
   "cell_type": "code",
   "execution_count": 180,
   "metadata": {
    "hidden": true
   },
   "outputs": [
    {
     "name": "stderr",
     "output_type": "stream",
     "text": [
      "REDEFINITION-WITH-DEFUN: \n",
      "  redefining CL-JUPYTER-USER::FLIP-PAIRS in DEFUN\n"
     ]
    },
    {
     "data": {
      "text/plain": [
       "((B A) (D C) (F E))"
      ]
     },
     "execution_count": 180,
     "metadata": {},
     "output_type": "execute_result"
    }
   ],
   "source": [
    ";; Define an iterative function \"flip-pairs\" that takes\n",
    ";; a list of pairs as argument and returns a new list of\n",
    ";; the numbers with the numbers in each pair switched.\n",
    ";; For example,\n",
    "\n",
    ";; (flip-pairs '((a b) (c d) (e f))) returns\n",
    ";; ((b a) (d c) (f e))\n",
    "\n",
    "(defun flip-pairs (pairs-lst)\n",
    "    (loop for (x y) in pairs-lst\n",
    "          collect (list y x)))\n",
    "\n",
    ";; Call the function with argument ((a b) (c d) (e f))\n",
    "\n",
    "(flip-pairs '((a b) (c d) (e f)))"
   ]
  },
  {
   "cell_type": "code",
   "execution_count": 181,
   "metadata": {
    "hidden": true
   },
   "outputs": [
    {
     "data": {
      "text/plain": [
       "16"
      ]
     },
     "execution_count": 181,
     "metadata": {},
     "output_type": "execute_result"
    }
   ],
   "source": [
    ";; Define an iterative function \"prod-nums\" that takes\n",
    ";; a list as argument and returns the product of all\n",
    ";; the arguments in the list that are numbers. For\n",
    ";; example,\n",
    "\n",
    ";; (prod-nums '(a 8 (b c) 2 (5 10))) returns 8*2 = 16\n",
    ";; (prod-nums '(a (b d) c)) returns 1\n",
    ";; (prod-nums nil) returns 1\n",
    "\n",
    "(defun prod-nums (lst)\n",
    "    (loop with prod = 1\n",
    "          for elem in lst\n",
    "          when (numberp elem)\n",
    "          do (setf prod (* prod elem))\n",
    "          finally (return prod)))\n",
    "\n",
    ";; Call the function with argument (a 8 (b c) 2 (5 10))\n",
    "\n",
    "(prod-nums '(a 8 (b c) 2 (5 10)))"
   ]
  },
  {
   "cell_type": "code",
   "execution_count": 182,
   "metadata": {
    "hidden": true
   },
   "outputs": [
    {
     "data": {
      "text/plain": [
       "(A D F)"
      ]
     },
     "execution_count": 182,
     "metadata": {},
     "output_type": "execute_result"
    }
   ],
   "source": [
    ";; Define an iterative function \"save-atoms\" that takes\n",
    ";; a list as argument and returns a list containing all\n",
    ";; the elements of the argument that are atoms. For\n",
    ";; example,\n",
    "\n",
    ";; (save-atoms '(a (b c) d (e) f)) returns (a d f)\n",
    ";; (save-atoms '((a b) (c d) (e f)) returns \"nil\"\n",
    ";; (save-atoms nil) returns \"nil\"\n",
    "\n",
    "(defun save-atoms (lst)\n",
    "    (loop for elem in lst\n",
    "    when (atom elem)\n",
    "    collect elem))\n",
    "\n",
    ";; Call the function with argument (a (b c) d (e) f)\n",
    "\n",
    "(save-atoms '(a (b c) d (e) f))"
   ]
  },
  {
   "cell_type": "code",
   "execution_count": null,
   "metadata": {
    "collapsed": true,
    "hidden": true
   },
   "outputs": [],
   "source": []
  }
 ],
 "metadata": {
  "anaconda-cloud": {},
  "hide_input": false,
  "kernelspec": {
   "display_name": "Common Lisp",
   "language": "common-lisp",
   "name": "common-lisp"
  },
  "language_info": {
   "codemirror_mode": "text/x-common-lisp",
   "file_extension": ".lisp",
   "mimetype": "text/x-common-lisp",
   "name": "common-lisp",
   "pygments_lexer": "common-lisp",
   "version": "1.4.5.debian"
  },
  "latex_envs": {
   "bibliofile": "biblio.bib",
   "cite_by": "apalike",
   "current_citInitial": 1,
   "eqLabelWithNumbers": true,
   "eqNumInitial": 0
  }
 },
 "nbformat": 4,
 "nbformat_minor": 1
}
