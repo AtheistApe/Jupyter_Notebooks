{
 "cells": [
  {
   "cell_type": "code",
   "execution_count": 1,
   "metadata": {
    "run_control": {
     "marked": false
    }
   },
   "outputs": [
    {
     "data": {
      "text/plain": [
       "ADD-NUMBERS"
      ]
     },
     "execution_count": 1,
     "metadata": {},
     "output_type": "execute_result"
    }
   ],
   "source": [
    "#| The function \"add-numbers\" takes a list as argument and sums all the numbers in the list (at any level of nesting) |#\n",
    "\n",
    "(defun add-numbers (lst)\n",
    "    (cond ((null lst) 0)\n",
    "        ((numberp (car lst)) (+ (car lst)\n",
    "                                (add-numbers (cdr lst))))\n",
    "        ((atom (car lst)) (add-numbers (cdr lst)))\n",
    "        (t (+ (add-numbers (car lst)) (add-numbers (cdr lst))))))"
   ]
  },
  {
   "cell_type": "code",
   "execution_count": 2,
   "metadata": {},
   "outputs": [
    {
     "data": {
      "text/plain": [
       "14"
      ]
     },
     "execution_count": 2,
     "metadata": {},
     "output_type": "execute_result"
    }
   ],
   "source": [
    "(add-numbers '((a 2 b (c 5)) d (e f (g h)) (3 (4))))"
   ]
  },
  {
   "cell_type": "code",
   "execution_count": 3,
   "metadata": {},
   "outputs": [
    {
     "data": {
      "text/plain": [
       "F-ADD-NUMBERS"
      ]
     },
     "execution_count": 3,
     "metadata": {},
     "output_type": "execute_result"
    }
   ],
   "source": [
    "#| The function \"f-add-numbers\" takes two arguments. The first argument is a globally defined function \"fun\" which takes in a number argument and returns a number. The second argument is a list. The function \"f-add-numbers\" applies the function \"fun\" to each numeric entry in the list (at any level of nesting) and returns the sum of the results.\n",
    "\n",
    "Notice that where the function \"fun\" is actually called (in the \"numberp\" condition of the \"cond\") we must prepend \"funcall\" to it. \n",
    "\n",
    "From the CLHS (Common Lisp Hyper Spec):\n",
    "\n",
    "Syntax:\n",
    "    \n",
    "    funcall function &rest args => result*\n",
    "\n",
    "funcall applies \"function\" to \"args\". If \"function\" is a symbol, it is coerced into a function as if by finding its functional value in the global environment.|#\n",
    "\n",
    "\n",
    "(defun f-add-numbers (fun lst)\n",
    "        (cond ((null lst) 0)\n",
    "        ((numberp (car lst)) (+ (funcall fun (car lst))\n",
    "                                (f-add-numbers fun (cdr lst))))\n",
    "        ((atom (car lst)) (f-add-numbers fun (cdr lst)))\n",
    "        (t (+ (f-add-numbers fun (car lst)) (f-add-numbers fun (cdr lst))))))"
   ]
  },
  {
   "cell_type": "code",
   "execution_count": 4,
   "metadata": {},
   "outputs": [
    {
     "data": {
      "text/plain": [
       "F"
      ]
     },
     "execution_count": 4,
     "metadata": {},
     "output_type": "execute_result"
    },
    {
     "data": {
      "text/plain": [
       "224"
      ]
     },
     "execution_count": 4,
     "metadata": {},
     "output_type": "execute_result"
    }
   ],
   "source": [
    "#| When we call \"f-add-numbers\" with the defined function \"f\", we must distinguish the function \"f\" from the symbol \"f\" in the list that is passed in as the second argument to \"f-add-numbers\". Since Common Lisp is a Lisp-2 language (keeping separate namespaces for functions and symbols) we indicate the function \"f\" by prepending the \"f\" with #' (which expands to (function f) by the lisp reader). |#\n",
    "\n",
    "(defun f (x)\n",
    "    (* x x x))\n",
    "\n",
    "(f-add-numbers #'f '((a 2 b (c 5)) d (e f (g h)) (3 (4))))"
   ]
  },
  {
   "cell_type": "code",
   "execution_count": 5,
   "metadata": {},
   "outputs": [
    {
     "data": {
      "text/plain": [
       "G"
      ]
     },
     "execution_count": 5,
     "metadata": {},
     "output_type": "execute_result"
    },
    {
     "data": {
      "text/plain": [
       "140"
      ]
     },
     "execution_count": 5,
     "metadata": {},
     "output_type": "execute_result"
    }
   ],
   "source": [
    "(defun g (x)\n",
    "    (* 10 x))\n",
    "\n",
    "(f-add-numbers #'g '((a 2 b (c 5)) d (e f (g h)) (3 (4))))"
   ]
  },
  {
   "cell_type": "code",
   "execution_count": 6,
   "metadata": {},
   "outputs": [
    {
     "data": {
      "text/plain": [
       "H"
      ]
     },
     "execution_count": 6,
     "metadata": {},
     "output_type": "execute_result"
    },
    {
     "data": {
      "text/plain": [
       "34.0"
      ]
     },
     "execution_count": 6,
     "metadata": {},
     "output_type": "execute_result"
    }
   ],
   "source": [
    ";; Here we pass the function \"h\" to \"f-add-numbers\" as (function h) rather than\n",
    ";; #'h\n",
    "\n",
    "(defun h (x)\n",
    "    (sqrt x))\n",
    "\n",
    "(f-add-numbers (function h) '((a 9 b (16 25 d) (36)) (e (f g (h)) 49) 81))"
   ]
  },
  {
   "cell_type": "code",
   "execution_count": 7,
   "metadata": {},
   "outputs": [
    {
     "data": {
      "text/plain": [
       "NUM-LST"
      ]
     },
     "execution_count": 7,
     "metadata": {},
     "output_type": "execute_result"
    }
   ],
   "source": [
    "#| The function \"num-lst\" takes a list argument and returns a list of all the numbers (at any level) in the argument list. |#\n",
    "\n",
    "(defun num-lst (lst)\n",
    "    (cond ((null lst) nil)\n",
    "        ((numberp (car lst)) (cons (car lst) (num-lst (cdr lst))))\n",
    "        ((atom (car lst)) (num-lst (cdr lst)))\n",
    "        (t (append (num-lst (car lst))\n",
    "           (num-lst (cdr lst))))))"
   ]
  },
  {
   "cell_type": "code",
   "execution_count": 8,
   "metadata": {},
   "outputs": [
    {
     "data": {
      "text/plain": [
       "(2 5 3 4)"
      ]
     },
     "execution_count": 8,
     "metadata": {},
     "output_type": "execute_result"
    }
   ],
   "source": [
    "(num-lst '((a 2 b (c 5)) d (e f (g h)) (3 (4))))"
   ]
  },
  {
   "cell_type": "code",
   "execution_count": 9,
   "metadata": {},
   "outputs": [
    {
     "data": {
      "text/plain": [
       "7.3823323"
      ]
     },
     "execution_count": 9,
     "metadata": {},
     "output_type": "execute_result"
    }
   ],
   "source": [
    "(apply #'+ (mapcar #'sqrt (num-lst '((a 2 b (c 5)) d (e f (g h)) (3 (4))))))"
   ]
  },
  {
   "cell_type": "code",
   "execution_count": 10,
   "metadata": {},
   "outputs": [
    {
     "data": {
      "text/plain": [
       "(10 25 15 20)"
      ]
     },
     "execution_count": 10,
     "metadata": {},
     "output_type": "execute_result"
    }
   ],
   "source": [
    "(mapcar (lambda (x) (* x 5)) (num-lst '((a 2 b (c 5)) d (e f (g h)) (3 (4)))))"
   ]
  },
  {
   "cell_type": "code",
   "execution_count": 11,
   "metadata": {},
   "outputs": [
    {
     "data": {
      "text/plain": [
       "F-NUM-LST"
      ]
     },
     "execution_count": 11,
     "metadata": {},
     "output_type": "execute_result"
    }
   ],
   "source": [
    "(defun f-num-lst (fun mylst)\n",
    "    (labels ((num-lst (lst)\n",
    "        (cond ((null lst) nil)\n",
    "            ((numberp (car lst)) (cons (car lst) (num-lst (cdr lst))))\n",
    "            ((atom (car lst)) (num-lst (cdr lst)))\n",
    "            (t (append (num-lst (car lst))\n",
    "               (num-lst (cdr lst))))))))\n",
    "    (mapcar fun (num-lst mylst)))"
   ]
  },
  {
   "cell_type": "code",
   "execution_count": 12,
   "metadata": {},
   "outputs": [
    {
     "data": {
      "text/plain": [
       "#C(-0.0 -14.696938)"
      ]
     },
     "execution_count": 12,
     "metadata": {},
     "output_type": "execute_result"
    }
   ],
   "source": [
    "(apply '* (f-num-lst (lambda (x) (* x (sqrt x))) '(2 -3)))"
   ]
  },
  {
   "cell_type": "code",
   "execution_count": 13,
   "metadata": {},
   "outputs": [
    {
     "data": {
      "text/plain": [
       "#C(1.1115565 0.06920303)"
      ]
     },
     "execution_count": 13,
     "metadata": {},
     "output_type": "execute_result"
    }
   ],
   "source": [
    "(/ (sqrt #C(2 4)) (sqrt #C(2 3)))"
   ]
  },
  {
   "cell_type": "code",
   "execution_count": 14,
   "metadata": {},
   "outputs": [
    {
     "data": {
      "text/plain": [
       "20"
      ]
     },
     "execution_count": 14,
     "metadata": {},
     "output_type": "execute_result"
    },
    {
     "data": {
      "text/plain": [
       "100"
      ]
     },
     "execution_count": 14,
     "metadata": {},
     "output_type": "execute_result"
    }
   ],
   "source": [
    "((lambda (x)\n",
    "    (let (\n",
    "        (sum (+ x x))\n",
    "        (product (* x x)))\n",
    "    (values sum product)))\n",
    "                       \n",
    "                       10)"
   ]
  },
  {
   "cell_type": "code",
   "execution_count": 15,
   "metadata": {},
   "outputs": [
    {
     "data": {
      "text/plain": [
       "(20 100)"
      ]
     },
     "execution_count": 15,
     "metadata": {},
     "output_type": "execute_result"
    }
   ],
   "source": [
    "(multiple-value-list\n",
    "    ((lambda (x)\n",
    "        (let (\n",
    "            (sum (+ x x))\n",
    "            (product (* x x)))\n",
    "        (values sum product)))\n",
    "                       \n",
    "                       10))"
   ]
  },
  {
   "cell_type": "code",
   "execution_count": 16,
   "metadata": {},
   "outputs": [
    {
     "data": {
      "text/plain": [
       "QUADRATIC"
      ]
     },
     "execution_count": 16,
     "metadata": {},
     "output_type": "execute_result"
    },
    {
     "ename": "SIMPLE-READER-ERROR",
     "evalue": "unmatched close parenthesis\n\n  Line: 6, Column: 44, File-Position: 291\n\n  Stream: #<SB-IMPL::STRING-INPUT-STREAM {1002FBB213}>",
     "output_type": "error",
     "traceback": []
    },
    {
     "name": "stderr",
     "output_type": "stream",
     "text": [
      "unmatched close parenthesis\n",
      "\n",
      "  Line: 6, Column: 44, File-Position: 291\n",
      "\n",
      "  Stream: #<SB-IMPL::STRING-INPUT-STREAM {1002FBB213}>"
     ]
    }
   ],
   "source": [
    "#| Here we create a function \"quadratic\" which accepts as arguments the\n",
    "coefficients a, b, c for a quadratic polynomial ax^2 + bx + c and returns\n",
    "a function which takes argument \"x\" and returns the value ax^2 + bx + c. |#\n",
    "\n",
    "(defun quadratic (a b c)\n",
    "    #'(lambda (x) (+ (* a x x) (* b x) c))))"
   ]
  },
  {
   "cell_type": "code",
   "execution_count": 17,
   "metadata": {},
   "outputs": [
    {
     "data": {
      "text/plain": [
       "#<CLOSURE (LAMBDA (X) :IN QUADRATIC) {100338927B}>"
      ]
     },
     "execution_count": 17,
     "metadata": {},
     "output_type": "execute_result"
    }
   ],
   "source": [
    "#| We now call the function \"quadratic\" with arguments\n",
    "3, -2, 4 and store it in the variable \"quad1\". Therefore quad1 is the\n",
    "quadratic function: quad1(x) = 3x^2 - 2x + 4 |#\n",
    "\n",
    "(setf (symbol-function 'quad1) (quadratic 3 -2 4))"
   ]
  },
  {
   "cell_type": "code",
   "execution_count": 18,
   "metadata": {},
   "outputs": [
    {
     "data": {
      "text/plain": [
       "25"
      ]
     },
     "execution_count": 18,
     "metadata": {},
     "output_type": "execute_result"
    }
   ],
   "source": [
    ";; Finally, we call quad1 with input 3. The value returned by quad1 for\n",
    ";; this input should be: quad1(3) = 3(3)^2 - 2(3) + 4 = 27 - 6 + 4 = 25.\n",
    "\n",
    "(quad1 3)"
   ]
  },
  {
   "cell_type": "code",
   "execution_count": 19,
   "metadata": {},
   "outputs": [
    {
     "data": {
      "text/plain": [
       "(25 69 137 229)"
      ]
     },
     "execution_count": 19,
     "metadata": {},
     "output_type": "execute_result"
    }
   ],
   "source": [
    "(mapcar #'quad1 '(3 5 7 9))"
   ]
  },
  {
   "cell_type": "code",
   "execution_count": 20,
   "metadata": {},
   "outputs": [
    {
     "data": {
      "text/plain": [
       "(12 44 100 180 284 412 564 740)"
      ]
     },
     "execution_count": 20,
     "metadata": {},
     "output_type": "execute_result"
    }
   ],
   "source": [
    "(mapcar #'quad1 '(2 4 6 8 10 12 14 16))"
   ]
  },
  {
   "cell_type": "code",
   "execution_count": null,
   "metadata": {
    "collapsed": true
   },
   "outputs": [],
   "source": []
  }
 ],
 "metadata": {
  "anaconda-cloud": {},
  "hide_input": false,
  "kernelspec": {
   "display_name": "Common Lisp",
   "language": "common-lisp",
   "name": "common-lisp"
  },
  "language_info": {
   "codemirror_mode": "text/x-common-lisp",
   "file_extension": ".lisp",
   "mimetype": "text/x-common-lisp",
   "name": "common-lisp",
   "pygments_lexer": "common-lisp",
   "version": "1.4.5.debian"
  },
  "latex_envs": {
   "bibliofile": "biblio.bib",
   "cite_by": "apalike",
   "current_citInitial": 1,
   "eqLabelWithNumbers": true,
   "eqNumInitial": 0
  }
 },
 "nbformat": 4,
 "nbformat_minor": 2
}
