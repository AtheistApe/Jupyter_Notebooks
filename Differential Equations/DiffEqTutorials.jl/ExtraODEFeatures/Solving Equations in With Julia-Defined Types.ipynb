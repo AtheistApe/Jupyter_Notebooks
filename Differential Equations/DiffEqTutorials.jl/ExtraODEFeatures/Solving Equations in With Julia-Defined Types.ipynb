{
 "cells": [
  {
   "cell_type": "markdown",
   "metadata": {},
   "source": [
    "# Solving Equations with Julia-Defined Types\n",
    "\n",
    "One of the nice things about DifferentialEquations.jl is that it is designed with Julia's type system in mind. What this means is, if you have properly defined a Number type, you can use this number type in DifferentialEquations.jl's algorithms! [Note that this is restricted to the native algorithms of OrdinaryDiffEq.jl. The other solvers such as ODE.jl, Sundials.jl, and ODEInterface.jl are not compatible with some number systems.]\n",
    "\n",
    "DifferentialEquations.jl determines the numbers to use in its solvers via the types that are designated by Δt and the initial condition of the problem. It will keep the time values in the same type as Δt, and the solution values in the same type as the initial condition. [Note that adaptive timestepping requires that Δt be compaible with `sqrt` and `^` functions. Thus Δt cannot be Integer or numbers like that if adaptive timestepping is chosen].\n",
    "\n",
    "Let's solve the linear ODE first define an easy way to get ODEProblems for the linear ODE:"
   ]
  },
  {
   "cell_type": "code",
   "execution_count": 1,
   "metadata": {
    "collapsed": false
   },
   "outputs": [],
   "source": [
    "using DifferentialEquations\n",
    "f = (u,p,t) -> (1.01*u)\n",
    "prob_ode_linear = ODEProblem(f,1/2,(0.0,1.0));"
   ]
  },
  {
   "cell_type": "markdown",
   "metadata": {},
   "source": [
    "First let's solve it using Float64s. To do so, we just need to set u₀ to a Float64 (which is done by the default) and dt should be a float as well."
   ]
  },
  {
   "cell_type": "code",
   "execution_count": 2,
   "metadata": {
    "collapsed": false
   },
   "outputs": [
    {
     "name": "stdout",
     "output_type": "stream",
     "text": [
      "Retcode: Success\n",
      "Interpolation: 3rd order Hermite\n",
      "t: 65-element Array{Float64,1}\n",
      " 0.0  0.015625  0.03125  0.046875  …  0.953125  0.96875  0.984375  1.0\n",
      "u: 65-element Array{Float64,1}\n",
      " 0.5     \n",
      " 0.507953\n",
      " 0.516033\n",
      " 0.524241\n",
      " 0.53258 \n",
      " 0.541051\n",
      " 0.549658\n",
      " 0.558401\n",
      " 0.567283\n",
      " 0.576306\n",
      " 0.585473\n",
      " 0.594786\n",
      " 0.604247\n",
      " ⋮       \n",
      " 1.15403 \n",
      " 1.17239 \n",
      " 1.19103 \n",
      " 1.20998 \n",
      " 1.22923 \n",
      " 1.24878 \n",
      " 1.26864 \n",
      " 1.28882 \n",
      " 1.30932 \n",
      " 1.33015 \n",
      " 1.35131 \n",
      " 1.3728  "
     ]
    }
   ],
   "source": [
    "prob = prob_ode_linear \n",
    "sol =solve(prob,RK4(),dt=1/2^(6))\n",
    "println(sol)"
   ]
  },
  {
   "cell_type": "markdown",
   "metadata": {},
   "source": [
    "Notice that both the times and the solutions were saved as Float64. Let's change the time to use rational values:"
   ]
  },
  {
   "cell_type": "code",
   "execution_count": 4,
   "metadata": {
    "collapsed": false
   },
   "outputs": [
    {
     "name": "stdout",
     "output_type": "stream",
     "text": [
      "Retcode: Success\n",
      "Interpolation: 3rd order Hermite\n",
      "t: 65-element Array{Rational{Int64},1}\n",
      " 0//1  1//64  1//32  3//64  1//16  5//64  …  61//64  31//32  63//64  1//1\n",
      "u: 65-element Array{Float64,1}\n",
      " 0.5     \n",
      " 0.507953\n",
      " 0.516033\n",
      " 0.524241\n",
      " 0.53258 \n",
      " 0.541051\n",
      " 0.549658\n",
      " 0.558401\n",
      " 0.567283\n",
      " 0.576306\n",
      " 0.585473\n",
      " 0.594786\n",
      " 0.604247\n",
      " ⋮       \n",
      " 1.15403 \n",
      " 1.17239 \n",
      " 1.19103 \n",
      " 1.20998 \n",
      " 1.22923 \n",
      " 1.24878 \n",
      " 1.26864 \n",
      " 1.28882 \n",
      " 1.30932 \n",
      " 1.33015 \n",
      " 1.35131 \n",
      " 1.3728  "
     ]
    }
   ],
   "source": [
    "prob = ODEProblem(f,1/2,(0//1,1//1));\n",
    "sol = solve(prob,RK4(),dt=1//2^(6))\n",
    "println(sol)"
   ]
  },
  {
   "cell_type": "markdown",
   "metadata": {},
   "source": [
    "Now let's do something fun. Let's change the solution to use `Rational{BigInt}` and print out the value at the end of the simulation. To do so, simply change the definition of the initial condition. "
   ]
  },
  {
   "cell_type": "code",
   "execution_count": 5,
   "metadata": {
    "collapsed": false,
    "scrolled": true
   },
   "outputs": [
    {
     "name": "stdout",
     "output_type": "stream",
     "text": [
      "4154032919386558883432944248380343483762044089219885824293861963690668280133800624271545564442460641100421478069957127705133139131053171319939289915624722195403241736871340745589519387833493153871994750550507166424767604170338332253959630697516305444248796250106488696552824425774652891031781638156634640665726706553562695794716367646798636566490125595141712720380867485868916531456648814528917577693417533965049279568879801863167212171389128029079788394889712773514836798543384276326561054294342851708282050876790968869065128360584151770000714515194551497614161342119347668187950856166437783338125107242946094385126468080818490755092469614835748767521966870937090173768929887202086899128132689201712566935821453568568851761907310360889009454819233203019261511646422045122043461427963067831419822632761257565485308244276118163333934078610669354885645888806741789229076806586507072844471249752898840782835318816592414922484506856439857852070928805249944302969170900303083044962139908567605824428891872081720287044135359380045755621121//3025955263570019164018502277869853398058543745963126397283707470775892712704232437030043920740033026198847216426264951289188498307633591122471111874163926157374989814610878574225506571713008520940845805558579429855707382314196875257835647882856218717417250856125102284683546912020709544155188247379716859572950811281937944702307676679453365814328593305957854274867553594143460475201489987084725797475032257007739929467758191052369579260681352907875927458926484892315482757871323905647524505025315981027903769053444125491200000000000000000000000000000000000000000000000000000000000000000000000000000000000000000000000000000000000000000000000000000000000000000000000000000000000000000000000000000000000000000000000000000000000000000000000000000000000000000000000000000000000000000000000000000000000000000000000000000000000000000000000000000000000000000000000000000000000000000000000000000000000000000000000000000000000000000000000000000000000000000000000000000000000000000000000000000000000000000000000000000000000000000000000000000000\n"
     ]
    }
   ],
   "source": [
    "const rationalα = 101//100\n",
    "f = (u,p,t) -> (rationalα*u)\n",
    "prob = ODEProblem(f,BigInt(1)//BigInt(2),(0//1,1//1));\n",
    "sol =solve(prob,RK4(),dt=1//2^(6))\n",
    "println(sol[end])"
   ]
  },
  {
   "cell_type": "markdown",
   "metadata": {},
   "source": [
    "That's one huge fraction!"
   ]
  },
  {
   "cell_type": "markdown",
   "metadata": {},
   "source": [
    "## Other Compatible Number Types\n",
    "\n",
    "#### ArbFloats\n",
    "\n",
    "Let's test a bunch of other number types. First I'm going to test Jeffrey Sarnoff's ArbFloats. These high precision numbers which are much faster than Bigs for less than 500-800 bits of accuracy. Having already installed Nemo and ArbFloats, I can use them in DifferentialEquations.jl via:"
   ]
  },
  {
   "cell_type": "code",
   "execution_count": 6,
   "metadata": {
    "collapsed": false,
    "scrolled": true
   },
   "outputs": [
    {
     "name": "stdout",
     "output_type": "stream",
     "text": [
      "2.00341833848949843198821e-166..\n"
     ]
    },
    {
     "name": "stderr",
     "output_type": "stream",
     "text": [
      "WARNING: Method definition string(ArbFloats.ArbFloat{P}) in module ArbFloats at /home/crackauc/.julia/v0.6/ArbFloats/src/basics/string.jl:69 overwritten at /home/crackauc/.julia/v0.6/ArbFloats/src/basics/string.jl:220.\n"
     ]
    }
   ],
   "source": [
    "using ArbFloats\n",
    "const arbalpha = ArbFloat(1.01)\n",
    "f = (u,p,t) -> (arbalpha*u)\n",
    "prob_ode_arbfloatlinear = ODEProblem(f,ArbFloat(1)/ArbFloat(2),(0//1,1//1))\n",
    "sol =solve(prob_ode_arbfloatlinear,RK4(),dt=1//2^(6))\n",
    "println(sol[end])"
   ]
  },
  {
   "cell_type": "markdown",
   "metadata": {},
   "source": [
    "Bingo! ArbFloats work with DifferentialEquations.jl.\n",
    "\n",
    "#### DecFP.jl\n",
    "\n",
    "Next let's try DecFP. DecFP is a fixed-precision decimals library which is made to give both performance but known decimals of accuracy. Having already installed DecFP with `Pkg.add(\"DecFP\")`, I can run the following:"
   ]
  },
  {
   "cell_type": "code",
   "execution_count": 4,
   "metadata": {
    "collapsed": false
   },
   "outputs": [
    {
     "name": "stdout",
     "output_type": "stream",
     "text": [
      "+1372800506801159568896177661311276E-33\n",
      "DecFP.Dec128\n"
     ]
    }
   ],
   "source": [
    "using DecFP\n",
    "const decalpha = Dec128(1.01) # Set the constant to a Dec128 as well\n",
    "f = (u,p,t) -> (decalpha*u)\n",
    "prob_ode_decfplinear = ODEProblem(f,Dec128(1)/Dec128(2),(0.0,1.0))\n",
    "sol =solve(prob_ode_decfplinear,RK4(),dt=1//2^(6))\n",
    "println(sol[end]); println(typeof(sol[end]))"
   ]
  },
  {
   "cell_type": "markdown",
   "metadata": {},
   "source": [
    "Bingo! DecFP works with DifferentialEquations.jl\n",
    "\n",
    "## Incompatible Number Systems\n",
    "\n",
    "#### Decimals.jl\n",
    "\n",
    "Install with `Pkg.add(\"Decimals\")`."
   ]
  },
  {
   "cell_type": "code",
   "execution_count": 6,
   "metadata": {
    "collapsed": false
   },
   "outputs": [
    {
     "name": "stderr",
     "output_type": "stream",
     "text": [
      "WARNING: redefining constant decalpha2\n"
     ]
    },
    {
     "ename": "LoadError",
     "evalue": "\u001b[91mMethodError: no method matching recursivecopy(::Array{Decimals.Decimal,1})\u001b[0m\nClosest candidates are:\n  recursivecopy(\u001b[91m::AbstractArray{T<:Number,N}\u001b[39m) where {T<:Number, N} at /home/crackauc/.julia/v0.6/RecursiveArrayTools/src/utils.jl:2\n  recursivecopy(\u001b[91m::AbstractArray{T<:AbstractArray,N}\u001b[39m) where {T<:AbstractArray, N} at /home/crackauc/.julia/v0.6/RecursiveArrayTools/src/utils.jl:6\u001b[39m",
     "output_type": "error",
     "traceback": [
      "\u001b[91mMethodError: no method matching recursivecopy(::Array{Decimals.Decimal,1})\u001b[0m\nClosest candidates are:\n  recursivecopy(\u001b[91m::AbstractArray{T<:Number,N}\u001b[39m) where {T<:Number, N} at /home/crackauc/.julia/v0.6/RecursiveArrayTools/src/utils.jl:2\n  recursivecopy(\u001b[91m::AbstractArray{T<:AbstractArray,N}\u001b[39m) where {T<:AbstractArray, N} at /home/crackauc/.julia/v0.6/RecursiveArrayTools/src/utils.jl:6\u001b[39m",
      "",
      "Stacktrace:",
      " [1] \u001b[1m#init#134\u001b[22m\u001b[22m\u001b[1m(\u001b[22m\u001b[22m::Int64, ::Array{Rational{Int64},1}, ::Array{Rational{Int64},1}, ::Array{Rational{Int64},1}, ::Void, ::Bool, ::Void, ::Bool, ::Bool, ::Bool, ::Float64, ::Bool, ::Rational{Int64}, ::Void, ::Void, ::Int64, ::Rational{Int64}, ::Rational{Int64}, ::Bool, ::Rational{Int64}, ::Rational{Int64}, ::Int64, ::Rational{Int64}, ::Rational{Int64}, ::DiffEqBase.#ODE_DEFAULT_NORM, ::DiffEqBase.#ODE_DEFAULT_ISOUTOFDOMAIN, ::DiffEqBase.#ODE_DEFAULT_UNSTABLE_CHECK, ::Bool, ::Bool, ::Bool, ::Bool, ::Bool, ::Bool, ::Bool, ::Int64, ::String, ::DiffEqBase.#ODE_DEFAULT_PROG_MESSAGE, ::Void, ::Void, ::Bool, ::Bool, ::Array{Any,1}, ::DiffEqBase.#init, ::DiffEqBase.ODEProblem{Array{Decimals.Decimal,1},Rational{Int64},false,##11#12,Void,UniformScaling{Int64}}, ::OrdinaryDiffEq.RK4, ::Array{Any,1}, ::Array{Any,1}, ::Array{Any,1}, ::Type{Val{true}}\u001b[1m)\u001b[22m\u001b[22m at \u001b[1m/home/crackauc/.julia/v0.6/OrdinaryDiffEq/src/solve.jl:95\u001b[22m\u001b[22m",
      " [2] \u001b[1m(::DiffEqBase.#kw##init)\u001b[22m\u001b[22m\u001b[1m(\u001b[22m\u001b[22m::Array{Any,1}, ::DiffEqBase.#init, ::DiffEqBase.ODEProblem{Array{Decimals.Decimal,1},Rational{Int64},false,##11#12,Void,UniformScaling{Int64}}, ::OrdinaryDiffEq.RK4, ::Array{Any,1}, ::Array{Any,1}, ::Array{Any,1}, ::Type{Val{true}}\u001b[1m)\u001b[22m\u001b[22m at \u001b[1m./<missing>:0\u001b[22m\u001b[22m",
      " [3] \u001b[1m#solve#133\u001b[22m\u001b[22m\u001b[1m(\u001b[22m\u001b[22m::Array{Any,1}, ::Function, ::DiffEqBase.ODEProblem{Array{Decimals.Decimal,1},Rational{Int64},false,##11#12,Void,UniformScaling{Int64}}, ::OrdinaryDiffEq.RK4, ::Array{Any,1}, ::Array{Any,1}, ::Array{Any,1}, ::Type{Val{true}}\u001b[1m)\u001b[22m\u001b[22m at \u001b[1m/home/crackauc/.julia/v0.6/OrdinaryDiffEq/src/solve.jl:6\u001b[22m\u001b[22m",
      " [4] \u001b[1m(::DiffEqBase.#kw##solve)\u001b[22m\u001b[22m\u001b[1m(\u001b[22m\u001b[22m::Array{Any,1}, ::DiffEqBase.#solve, ::DiffEqBase.ODEProblem{Array{Decimals.Decimal,1},Rational{Int64},false,##11#12,Void,UniformScaling{Int64}}, ::OrdinaryDiffEq.RK4, ::Array{Any,1}, ::Array{Any,1}, ::Array{Any,1}, ::Type{Val{true}}\u001b[1m)\u001b[22m\u001b[22m at \u001b[1m./<missing>:0\u001b[22m\u001b[22m (repeats 2 times)",
      " [5] \u001b[1mexecute_request\u001b[22m\u001b[22m\u001b[1m(\u001b[22m\u001b[22m::ZMQ.Socket, ::IJulia.Msg\u001b[1m)\u001b[22m\u001b[22m at \u001b[1m/home/crackauc/.julia/v0.6/IJulia/src/execute_request.jl:160\u001b[22m\u001b[22m",
      " [6] \u001b[1meventloop\u001b[22m\u001b[22m\u001b[1m(\u001b[22m\u001b[22m::ZMQ.Socket\u001b[1m)\u001b[22m\u001b[22m at \u001b[1m/home/crackauc/.julia/v0.6/IJulia/src/eventloop.jl:8\u001b[22m\u001b[22m",
      " [7] \u001b[1m(::IJulia.##11#14)\u001b[22m\u001b[22m\u001b[1m(\u001b[22m\u001b[22m\u001b[1m)\u001b[22m\u001b[22m at \u001b[1m./task.jl:335\u001b[22m\u001b[22m"
     ]
    }
   ],
   "source": [
    "using Decimals\n",
    "const decalpha2 = decimal(1.01) # Set the constant to a Dec128 as well\n",
    "f = (u,p,t) -> (decalpha2*u)\n",
    "prob_ode_decimallinear = ODEProblem(f,[decimal(\"1.0\")]./[decimal(\"2.0\")],(0//1,1//1))\n",
    "sol =solve(prob_ode_decimallinear,RK4(),dt=1/2^(6)) #Fails\n",
    "println(sol[end]); println(typeof(sol[end]))"
   ]
  },
  {
   "cell_type": "markdown",
   "metadata": {},
   "source": [
    "At the time of writing this, Decimals are not compatible. This is not on DifferentialEquations.jl's end, it's on partly on Decimal's end since it is not a subtype of Number. Thus it's not recommended you use Decimals with DifferentialEquations.jl"
   ]
  },
  {
   "cell_type": "markdown",
   "metadata": {},
   "source": [
    "#### DoubleDouble.jl\n",
    "\n",
    "Install via `Pkg.add(\"DoubleDouble\")`"
   ]
  },
  {
   "cell_type": "code",
   "execution_count": 9,
   "metadata": {
    "collapsed": false
   },
   "outputs": [
    {
     "ename": "LoadError",
     "evalue": "\u001b[91mno promotion exists for DoubleDouble.Double{Float64} and Rational{Int64}\u001b[39m",
     "output_type": "error",
     "traceback": [
      "\u001b[91mno promotion exists for DoubleDouble.Double{Float64} and Rational{Int64}\u001b[39m",
      "",
      "Stacktrace:",
      " [1] \u001b[1mpromote_type\u001b[22m\u001b[22m\u001b[1m(\u001b[22m\u001b[22m::Type{DoubleDouble.Double{Float64}}, ::Type{Rational{Int64}}\u001b[1m)\u001b[22m\u001b[22m at \u001b[1m./promotion.jl:161\u001b[22m\u001b[22m",
      " [2] \u001b[1mpromote\u001b[22m\u001b[22m at \u001b[1m./promotion.jl:175\u001b[22m\u001b[22m [inlined]",
      " [3] \u001b[1m*\u001b[22m\u001b[22m at \u001b[1m./promotion.jl:250\u001b[22m\u001b[22m [inlined]",
      " [4] \u001b[1m#init#134\u001b[22m\u001b[22m\u001b[1m(\u001b[22m\u001b[22m::Int64, ::Array{Float64,1}, ::Array{Float64,1}, ::Array{Float64,1}, ::Void, ::Bool, ::Void, ::Bool, ::Bool, ::Bool, ::Float64, ::Bool, ::Rational{Int64}, ::Void, ::Void, ::Int64, ::Rational{Int64}, ::Rational{Int64}, ::Bool, ::Rational{Int64}, ::Rational{Int64}, ::Int64, ::Float64, ::Float64, ::DiffEqBase.#ODE_DEFAULT_NORM, ::DiffEqBase.#ODE_DEFAULT_ISOUTOFDOMAIN, ::DiffEqBase.#ODE_DEFAULT_UNSTABLE_CHECK, ::Bool, ::Bool, ::Bool, ::Bool, ::Bool, ::Bool, ::Bool, ::Int64, ::String, ::DiffEqBase.#ODE_DEFAULT_PROG_MESSAGE, ::Void, ::Void, ::Bool, ::Bool, ::Array{Any,1}, ::DiffEqBase.#init, ::DiffEqBase.ODEProblem{DoubleDouble.Double{Float64},Float64,false,##17#18,Void,UniformScaling{Int64}}, ::OrdinaryDiffEq.RK4, ::Array{Any,1}, ::Array{Any,1}, ::Array{Any,1}, ::Type{Val{true}}\u001b[1m)\u001b[22m\u001b[22m at \u001b[1m/home/crackauc/.julia/v0.6/OrdinaryDiffEq/src/solve.jl:118\u001b[22m\u001b[22m",
      " [5] \u001b[1m(::DiffEqBase.#kw##init)\u001b[22m\u001b[22m\u001b[1m(\u001b[22m\u001b[22m::Array{Any,1}, ::DiffEqBase.#init, ::DiffEqBase.ODEProblem{DoubleDouble.Double{Float64},Float64,false,##17#18,Void,UniformScaling{Int64}}, ::OrdinaryDiffEq.RK4, ::Array{Any,1}, ::Array{Any,1}, ::Array{Any,1}, ::Type{Val{true}}\u001b[1m)\u001b[22m\u001b[22m at \u001b[1m./<missing>:0\u001b[22m\u001b[22m",
      " [6] \u001b[1m#solve#133\u001b[22m\u001b[22m\u001b[1m(\u001b[22m\u001b[22m::Array{Any,1}, ::Function, ::DiffEqBase.ODEProblem{DoubleDouble.Double{Float64},Float64,false,##17#18,Void,UniformScaling{Int64}}, ::OrdinaryDiffEq.RK4, ::Array{Any,1}, ::Array{Any,1}, ::Array{Any,1}, ::Type{Val{true}}\u001b[1m)\u001b[22m\u001b[22m at \u001b[1m/home/crackauc/.julia/v0.6/OrdinaryDiffEq/src/solve.jl:6\u001b[22m\u001b[22m",
      " [7] \u001b[1m(::DiffEqBase.#kw##solve)\u001b[22m\u001b[22m\u001b[1m(\u001b[22m\u001b[22m::Array{Any,1}, ::DiffEqBase.#solve, ::DiffEqBase.ODEProblem{DoubleDouble.Double{Float64},Float64,false,##17#18,Void,UniformScaling{Int64}}, ::OrdinaryDiffEq.RK4, ::Array{Any,1}, ::Array{Any,1}, ::Array{Any,1}, ::Type{Val{true}}\u001b[1m)\u001b[22m\u001b[22m at \u001b[1m./<missing>:0\u001b[22m\u001b[22m (repeats 2 times)",
      " [8] \u001b[1mexecute_request\u001b[22m\u001b[22m\u001b[1m(\u001b[22m\u001b[22m::ZMQ.Socket, ::IJulia.Msg\u001b[1m)\u001b[22m\u001b[22m at \u001b[1m/home/crackauc/.julia/v0.6/IJulia/src/execute_request.jl:160\u001b[22m\u001b[22m",
      " [9] \u001b[1meventloop\u001b[22m\u001b[22m\u001b[1m(\u001b[22m\u001b[22m::ZMQ.Socket\u001b[1m)\u001b[22m\u001b[22m at \u001b[1m/home/crackauc/.julia/v0.6/IJulia/src/eventloop.jl:8\u001b[22m\u001b[22m",
      " [10] \u001b[1m(::IJulia.##11#14)\u001b[22m\u001b[22m\u001b[1m(\u001b[22m\u001b[22m\u001b[1m)\u001b[22m\u001b[22m at \u001b[1m./task.jl:335\u001b[22m\u001b[22m"
     ]
    }
   ],
   "source": [
    "using DoubleDouble\n",
    "const doublealpha = Double(1.01) # Set the constant to a Dec128 as well\n",
    "f = (u,p,t) -> (doublealpha*u)\n",
    "prob_ode_doublelinear = ODEProblem(f,Double(1.0)/Double(2.0),(0.0,1.0))\n",
    "sol =solve(prob_ode_doublelinear,RK4(),dt=1/2^(6))\n",
    "println(sol[end]); println(typeof(sol[end]))"
   ]
  },
  {
   "cell_type": "markdown",
   "metadata": {},
   "source": [
    "DoubleDouble errors for many reason. For one, it cannot convert the default parameters form rationals to Double. But even if you set all of the default parameters to Double, it will still error because DoubleDoubles cannot multiply Ints! [An issue has been filed to the DoubleDouble.jl repo for this case](https://github.com/simonbyrne/DoubleDouble.jl/issues/16). If you checkout the branch from the Issue, you will see that it will still error because DoubleDouble isn't compatible with `exp`. [There's another issue for that.](https://github.com/simonbyrne/DoubleDouble.jl/issues/8). "
   ]
  },
  {
   "cell_type": "markdown",
   "metadata": {},
   "source": [
    "## Conclusion\n",
    "\n",
    "As you can see, DifferentialEquations.jl can use arbitrary Julia-defined number systems in its arithmetic. The only limitations are the limitations inherent in the number systems themselves. ArbFloats and ArbReals are the most feature-complete and give great performance compared to BigFloats, and thus I recommend their use when high-precision (less than ~512-800 bits) is required. DecFP is a great library for high-performance decimal numbers and works well as well. Other number systems could use some modernization."
   ]
  }
 ],
 "metadata": {
  "kernelspec": {
   "display_name": "Julia 0.6.0",
   "language": "julia",
   "name": "julia-0.6"
  },
  "language_info": {
   "file_extension": ".jl",
   "mimetype": "application/julia",
   "name": "julia",
   "version": "0.6.0"
  }
 },
 "nbformat": 4,
 "nbformat_minor": 0
}
