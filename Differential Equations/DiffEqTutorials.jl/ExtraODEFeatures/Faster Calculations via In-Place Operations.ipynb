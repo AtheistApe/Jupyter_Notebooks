{
 "cells": [
  {
   "cell_type": "markdown",
   "metadata": {},
   "source": [
    "## Faster Calculations Via In-Place Operations\n",
    "\n",
    "In this tutorial you will learn how to define your problems in the in-place style in order to increase your performance. First, a bit of an introduction. When solving large systems of equations, one of the largest performance hits comes from memory allocation, i.e. making arrays. Although DifferentialEquations.jl has been painstakingly optimized to prevent allocations within its solvers, allocations can also occur due to the user chosen function.\n",
    "\n",
    "Obviously using a command like `arr = Vector{Float64}(500)` inside of your function will cause an allocation. However, there are many cases which are more subtle, for example `A.*B.*C + sin(3D)` will have make a temporary array to save the output of `A.*B`, and then use that to multiply `C`, etc. Julia's core devs are optimizing the compiler to automatically reduce allocations in events like these, though you should be careful to double-check and try devectorizing to see if it reduces allocations.\n",
    "\n",
    "However, in-place function calls are designed to reduce an allocation that is due to an array that is returned from a function. For example, if we define a function `f(u,p,t) = u.*zeros(4)*t`, then if we have a pre-allocated vector `k = Vector{Float64}(4)`, we may wish to have the output of `f` write directly to `k`. But the standard way, `k = f(u,t)`, will first make an array inside of `f`, and then copy it over.\n",
    "\n",
    "But with an in-place function, a user can get rid of that allocation. Using the in-place syntax, a user could instead define `f(du,u,p,t) = (du[:] = u.*zeros(4)*t)`. Notice that in this case, `du` is the output of the function, and it is given to the function, and within the function you simply write all of your output to `du`. Then to use this function without allocating arrays, someone (DifferentialEquations.jl) can call `f(k,u,p,t)` which will replace the values of `k` with the values of `u.*zeros(4)*t`. By doing this, there is no array that had to be allocated, saving precious time and speeding up our calculations!\n",
    "\n",
    "## Example\n",
    "\n",
    "Let's demonstrate this using DifferentialEquations.jl. All of the ODE and SDE solvers provided by DifferentialEquations.jl allow for the given function to be in-place. In fact, if you give DifferentialEquations.jl a function which is not in-place, it does an auto-conversion to an in-place function (which is still not as optimal as you can make yourself). Let's define a problem which holds the data for the famous [Lorenz System](https://en.wikipedia.org/wiki/Lorenz_system)."
   ]
  },
  {
   "cell_type": "code",
   "execution_count": 1,
   "metadata": {
    "collapsed": false
   },
   "outputs": [
    {
     "data": {
      "text/plain": [
       "DiffEqBase.ODEProblem with uType Array{Float64,1} and tType Float64. In-place: false\n",
       "timespan: (0.0, 1.0)\n",
       "u0: [1.0, 1.0, 1.0]"
      ]
     },
     "execution_count": 1,
     "metadata": {},
     "output_type": "execute_result"
    }
   ],
   "source": [
    "using DifferentialEquations\n",
    "σ=10.; ρ=28.; β=8//3; u0=ones(3)\n",
    "f₁(u,p,t) = σ*(u[2]-u[1])\n",
    "f₂(u,p,t) = u[1]*(ρ-u[3]) - u[2]\n",
    "f₃(u,p,t) = u[1]*u[2] - β*u[3]\n",
    "f = (u,p,t) -> [f₁(u,p,t);f₂(u,p,t);f₃(u,p,t)]\n",
    "prob = ODEProblem(f,u0,(0.0,1.0))"
   ]
  },
  {
   "cell_type": "markdown",
   "metadata": {},
   "source": [
    "What we did was create a function `f` which returns a vector `[f1 f2 f3]`. This is the standard way to define such an `f`, and one would get the output of `f` as `output=f(u,p,t)`. Let's also define the problem using an in-place function:"
   ]
  },
  {
   "cell_type": "code",
   "execution_count": 2,
   "metadata": {
    "collapsed": false
   },
   "outputs": [
    {
     "data": {
      "text/plain": [
       "DiffEqBase.ODEProblem with uType Array{Float64,1} and tType Float64. In-place: true\n",
       "timespan: (0.0, 1.0)\n",
       "u0: [1.0, 1.0, 1.0]"
      ]
     },
     "execution_count": 2,
     "metadata": {},
     "output_type": "execute_result"
    }
   ],
   "source": [
    "function g(du,u,p,t)\n",
    "    du[1] = σ*(u[2]-u[1])\n",
    "    du[2] = u[1]*(ρ-u[3]) - u[2]\n",
    "    du[3] = u[1]*u[2] - β*u[3]\n",
    "end\n",
    "prob2 = ODEProblem(g,u0,(0.0,1.0))"
   ]
  },
  {
   "cell_type": "markdown",
   "metadata": {},
   "source": [
    "Notice that `du` is essentially just a storage for the output. You can be more fancy with it, though in many cases this works very efficiently. Let's see the difference between the two solutions:"
   ]
  },
  {
   "cell_type": "code",
   "execution_count": 3,
   "metadata": {
    "collapsed": false
   },
   "outputs": [
    {
     "name": "stdout",
     "output_type": "stream",
     "text": [
      "  0.009115 seconds (16.68 k allocations: 514.857 KiB)\n",
      "  0.000399 seconds (4.18 k allocations: 81.469 KiB)\n"
     ]
    }
   ],
   "source": [
    "# Run once to compile\n",
    "sol =solve(prob,RK4();dt=1//2^(4),save_everystep=false) \n",
    "sol2 =solve(prob2,RK4();dt=1//2^(4),save_everystep=false)\n",
    "# Time the second run\n",
    "@time sol =solve(prob,RK4();dt=1//2^(6),save_everystep=false)\n",
    "@time sol2 =solve(prob2,RK4();dt=1//2^(6),save_everystep=false);"
   ]
  },
  {
   "cell_type": "code",
   "execution_count": 4,
   "metadata": {
    "collapsed": false
   },
   "outputs": [
    {
     "name": "stdout",
     "output_type": "stream",
     "text": [
      "515680\n",
      "83264\n"
     ]
    }
   ],
   "source": [
    "println(@allocated sol =solve(prob,RK4();dt=1//2^(6),save_everystep=false))\n",
    "println(@allocated sol2 =solve(prob2,RK4();dt=1//2^(6),save_everystep=false))"
   ]
  },
  {
   "cell_type": "markdown",
   "metadata": {},
   "source": [
    "Because the computer has to spend less time searching for free memory, on avarage the one with less allocations will be faster. For an array of size 3, it's not that big of a deal, but as the arrays grow larger, the has a bigger and bigger effect. Also, as the number of function calls per step grows, like is the case for higher order methods, this becomes more of an issue. Therefore it's recommended that you supply DifferentialEquations.jl with an in-place function if you would like the best performance."
   ]
  },
  {
   "cell_type": "markdown",
   "metadata": {},
   "source": [
    "### Using ParameterizedFunctions.jl\n",
    "\n",
    "Note that using the function defintion macros will automatically make an in-place function. For example, to define the previous problem using the `@ode_def` macro, one would use the code:"
   ]
  },
  {
   "cell_type": "code",
   "execution_count": 9,
   "metadata": {
    "collapsed": false
   },
   "outputs": [
    {
     "data": {
      "text/plain": [
       "DiffEqBase.ODEProblem with uType Array{Float64,1} and tType Float64. In-place: true\n",
       "timespan: (0.0, 1.0)\n",
       "u0: [1.0, 1.0, 1.0]"
      ]
     },
     "execution_count": 9,
     "metadata": {},
     "output_type": "execute_result"
    }
   ],
   "source": [
    "using ParameterizedFunctions\n",
    "h = @ode_def Lorenz begin\n",
    "  dx = σ*(y-x)\n",
    "  dy = x*(ρ-z) - y\n",
    "  dz = x*y - β*z\n",
    "end σ ρ β\n",
    "p = [10.0,28.0,8/3]\n",
    "u0 = ones(3)\n",
    "prob = ODEProblem(h,u0,(0.0,1.0),p)"
   ]
  },
  {
   "cell_type": "markdown",
   "metadata": {},
   "source": [
    "The `@ode_def` macro will translate this more \"mathematical definition to the previous \"computer definition\" with in-place updates, `u[1]` as `x`, `du[1]` as `dx`, etc. Note that here we used `@ode_def_nohes` to turn off the symbolic calculation of the Hessian. ParameterizedFunctions.jl performs a bunch of symbolic optimizations so the resulting function will be \"unfairly fast\" to numerically solve."
   ]
  }
 ],
 "metadata": {
  "kernelspec": {
   "display_name": "Julia 0.6.0",
   "language": "julia",
   "name": "julia-0.6"
  },
  "language_info": {
   "file_extension": ".jl",
   "mimetype": "application/julia",
   "name": "julia",
   "version": "0.6.0"
  }
 },
 "nbformat": 4,
 "nbformat_minor": 0
}
