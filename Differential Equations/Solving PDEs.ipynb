{
 "cells": [
  {
   "cell_type": "code",
   "execution_count": 1,
   "metadata": {
    "collapsed": true
   },
   "outputs": [],
   "source": [
    "import sys\n",
    "sys.path.append('/Users/gary/anaconda/lib/python2.7/site-packages')"
   ]
  },
  {
   "cell_type": "code",
   "execution_count": 2,
   "metadata": {
    "collapsed": false
   },
   "outputs": [],
   "source": [
    "%matplotlib inline\n",
    "from matplotlib.pyplot import *"
   ]
  },
  {
   "cell_type": "code",
   "execution_count": 3,
   "metadata": {
    "collapsed": false
   },
   "outputs": [],
   "source": [
    "import numpy as np\n",
    "X = np.random.random((1000, 3))"
   ]
  },
  {
   "cell_type": "code",
   "execution_count": 16,
   "metadata": {
    "collapsed": false
   },
   "outputs": [
    {
     "name": "stdout",
     "output_type": "stream",
     "text": [
      "T initial =  [ 1.  0.  0.  0.  0.  0.  0.  0.  0.  0.  0.  0.  0.  0.  0.  0.  0.  0.\n",
      "  0.  0.  1.]\n",
      "Tau and T_final = 0.327 [ 1.          0.99218968  0.98457167  0.97733356  0.97065357  0.96469619\n",
      "  0.9596081   0.9555146   0.95251648  0.95068755  0.95007287  0.95068755\n",
      "  0.95251648  0.9555146   0.9596081   0.96469619  0.97065357  0.97733356\n",
      "  0.98457167  0.99218968  1.        ]\n"
     ]
    },
    {
     "data": {
      "image/png": "[encoded data removed]",
      "text/plain": [
       "<matplotlib.figure.Figure at 0x1144a9e90>"
      ]
     },
     "metadata": {},
     "output_type": "display_data"
    }
   ],
   "source": [
    "#========================================================================\n",
    "# Example 7.1 Carnahan, Luther and Wilkes, \"Applied Numerical Methods\"\n",
    "# pg.434\n",
    "# Unsteady-State Heat Conduction in an Infinite, Parellel-Sided Slab\n",
    "# Solved using an explicit method\n",
    "#========================================================================\n",
    "#Import Packages for Solution\n",
    "#========================================================================\n",
    "from scipy import *\n",
    "from pylab import *\n",
    "from matplotlib import *\n",
    "#========================================================================\n",
    "#Input constants\n",
    "#========================================================================\n",
    "dtau = 0.001 # Set dimensionless time increments\n",
    "dx = 0.05    # Set dimensionless length increments\n",
    "Tmax = 0.95  # Set maximum dimensionless temperature\n",
    "M = 21       # Counter for length discretization\n",
    "#========================================================================\n",
    "#Calculate parameters\n",
    "#========================================================================\n",
    "dx = 1.0/(M-1)\n",
    "dx_x = 1.0/(M-1)\n",
    "ratio = dtau/(dx**2)\n",
    "const = 1.0 - 2.0*ratio\n",
    "#========================================================================\n",
    "#Set counters to zero\n",
    "#========================================================================\n",
    "i = 0\n",
    "tau = 0.0\n",
    "#========================================================================\n",
    "# Set up arrays for solution and print\n",
    "#========================================================================\n",
    "Tnew = zeros(M, dtype = float)\n",
    "T = zeros(M, dtype = float)\n",
    "T[0] = 1.0\n",
    "T[-1] = 1.0\n",
    "print \"T initial = \", T\n",
    "#========================================================================\n",
    "# I just pick 400 on trial and error for the total array\n",
    "#========================================================================\n",
    "T_sol = zeros((400,M), dtype = float)\n",
    "T_sol[:,0] = 1.0\n",
    "T_sol[:,-1] = 1.0\n",
    "#========================================================================\n",
    "# While loop to iterate until mid-point temperature reaches Tmax\n",
    "#========================================================================\n",
    "while T[10] < Tmax:\n",
    "    i = i + 1\n",
    "    tau = tau + dtau\n",
    "#========================================================================\n",
    "# Calculate new tempertures\n",
    "#========================================================================\n",
    "    for j in range(1,M-1):\n",
    "        Tnew[j] = ratio*(T[j-1] + T[j+1]) + const*T[j]\n",
    "#========================================================================\n",
    "# Substitute new Temperatures in array for T\n",
    "#========================================================================\n",
    "    for k in range(1,M-1):\n",
    "        T[k] = Tnew[k]\n",
    "        T_sol[i,k] = T[k]\n",
    "\n",
    "print \"Tau and T_final =\", tau, T_sol[i,:]\n",
    "#========================================================================\n",
    "# Set up array for spatial values of x to plot\n",
    "#========================================================================\n",
    "x = [i*dx_x for i in range(M-1)]\n",
    "x.append(1.0)\n",
    "#========================================================================\n",
    "# Plot the solutions\n",
    "#=======================================================================\n",
    "plot(x,T_sol[50,:])\n",
    "plot(x,T_sol[100,:])\n",
    "plot(x,T_sol[150,:])\n",
    "plot(x,T_sol[250,:])\n",
    "plot(x,T_sol[i,:])\n",
    "\n",
    "#legend(['Tau = 0.5','Tau = 0.1','Tau = 0.15','Tau = 0.25',\n",
    "#'Tau = final time'])\n",
    "title('Normalized Slab Temperatures')\n",
    "grid()"
   ]
  },
  {
   "cell_type": "code",
   "execution_count": 7,
   "metadata": {
    "collapsed": false
   },
   "outputs": [],
   "source": [
    "from numba import double\n",
    "from numba.decorators import jit, autojit"
   ]
  },
  {
   "cell_type": "code",
   "execution_count": 10,
   "metadata": {
    "collapsed": false
   },
   "outputs": [
    {
     "name": "stdout",
     "output_type": "stream",
     "text": [
      "1 loops, best of 3: 80.2 ms per loop\n"
     ]
    }
   ],
   "source": [
    "#@jit\n",
    "def pairwise_numpy(X):\n",
    "    return np.sqrt(((X[:, None, :] - X) ** 2).sum(-1))\n",
    "%timeit pairwise_numpy(X)"
   ]
  },
  {
   "cell_type": "code",
   "execution_count": 12,
   "metadata": {
    "collapsed": false
   },
   "outputs": [
    {
     "name": "stdout",
     "output_type": "stream",
     "text": [
      "1 loops, best of 3: 4.35 s per loop\n"
     ]
    }
   ],
   "source": [
    "#@jit\n",
    "def pairwise_python(X):\n",
    "    M = X.shape[0]\n",
    "    N = X.shape[1]\n",
    "    D = np.empty((M, M), dtype=np.float)\n",
    "    for i in range(M):\n",
    "        for j in range(M):\n",
    "            d = 0.0\n",
    "            for k in range(N):\n",
    "                tmp = X[i, k] - X[j, k]\n",
    "                d += tmp * tmp\n",
    "            D[i, j] = np.sqrt(d)\n",
    "    return D\n",
    "%timeit pairwise_python(X)"
   ]
  },
  {
   "cell_type": "code",
   "execution_count": 20,
   "metadata": {
    "collapsed": false
   },
   "outputs": [
    {
     "name": "stdout",
     "output_type": "stream",
     "text": [
      "1 loops, best of 3: 11.4 ms per loop\n"
     ]
    }
   ],
   "source": [
    "pairwise_numba = autojit(pairwise_python)\n",
    "\n",
    "%timeit pairwise_numba(X)"
   ]
  },
  {
   "cell_type": "code",
   "execution_count": 21,
   "metadata": {
    "collapsed": false
   },
   "outputs": [],
   "source": [
    "%load_ext cythonmagic"
   ]
  },
  {
   "cell_type": "code",
   "execution_count": 22,
   "metadata": {
    "collapsed": false
   },
   "outputs": [],
   "source": [
    "%%cython\n",
    "\n",
    "import numpy as np\n",
    "cimport cython\n",
    "from libc.math cimport sqrt\n",
    "\n",
    "@cython.boundscheck(False)\n",
    "@cython.wraparound(False)\n",
    "def pairwise_cython(double[:, ::1] X):\n",
    "    cdef int M = X.shape[0]\n",
    "    cdef int N = X.shape[1]\n",
    "    cdef double tmp, d\n",
    "    cdef double[:, ::1] D = np.empty((M, M), dtype=np.float64)\n",
    "    for i in range(M):\n",
    "        for j in range(M):\n",
    "            d = 0.0\n",
    "            for k in range(N):\n",
    "                tmp = X[i, k] - X[j, k]\n",
    "                d += tmp * tmp\n",
    "            D[i, j] = sqrt(d)\n",
    "    return np.asarray(D)"
   ]
  },
  {
   "cell_type": "code",
   "execution_count": 23,
   "metadata": {
    "collapsed": false
   },
   "outputs": [
    {
     "name": "stdout",
     "output_type": "stream",
     "text": [
      "100 loops, best of 3: 11.5 ms per loop\n"
     ]
    }
   ],
   "source": [
    "%timeit pairwise_cython(X)"
   ]
  },
  {
   "cell_type": "code",
   "execution_count": 24,
   "metadata": {
    "collapsed": false
   },
   "outputs": [],
   "source": [
    "Y = np.random.random((1000, 3))"
   ]
  },
  {
   "cell_type": "code",
   "execution_count": 25,
   "metadata": {
    "collapsed": false
   },
   "outputs": [],
   "source": [
    "@autojit\n",
    "def pw_numba(X):\n",
    "    M = X.shape[0]\n",
    "    N = X.shape[1]\n",
    "    D = np.empty((M, M), dtype=np.float)\n",
    "    for i in range(M):\n",
    "        for j in range(M):\n",
    "            d = 0.0\n",
    "            for k in range(N):\n",
    "                tmp = X[i, k] - X[j, k]\n",
    "                d += tmp * tmp\n",
    "            D[i, j] = np.sqrt(d)\n",
    "    return D"
   ]
  },
  {
   "cell_type": "code",
   "execution_count": 26,
   "metadata": {
    "collapsed": false
   },
   "outputs": [
    {
     "name": "stdout",
     "output_type": "stream",
     "text": [
      "1 loops, best of 3: 11.5 ms per loop\n"
     ]
    }
   ],
   "source": [
    "%timeit pw_numba(Y)"
   ]
  },
  {
   "cell_type": "code",
   "execution_count": 27,
   "metadata": {
    "collapsed": false
   },
   "outputs": [],
   "source": [
    "@autojit\n",
    "def double_loop(X):\n",
    "    for k in X:\n",
    "        for j in X:\n",
    "            tmp = np.sin(k)*np.tan(j)\n",
    "    return 1"
   ]
  },
  {
   "cell_type": "code",
   "execution_count": 28,
   "metadata": {
    "collapsed": false
   },
   "outputs": [
    {
     "name": "stdout",
     "output_type": "stream",
     "text": [
      "10 loops, best of 3: 26.1 ms per loop\n"
     ]
    }
   ],
   "source": [
    "Z = np.random.random(1000)\n",
    "%timeit double_loop(Z)"
   ]
  },
  {
   "cell_type": "code",
   "execution_count": 15,
   "metadata": {
    "collapsed": false
   },
   "outputs": [],
   "source": [
    "def f(a,b):\n",
    "    return np.sqrt(a)**np.sqrt(b)"
   ]
  },
  {
   "cell_type": "code",
   "execution_count": 16,
   "metadata": {
    "collapsed": false
   },
   "outputs": [
    {
     "name": "stdout",
     "output_type": "stream",
     "text": [
      "The slowest run took 12.42 times longer than the fastest. This could mean that an intermediate result is being cached \n",
      "100000 loops, best of 3: 2.82 µs per loop\n"
     ]
    }
   ],
   "source": [
    "%timeit f(2.1045,3.2154)"
   ]
  },
  {
   "cell_type": "code",
   "execution_count": 13,
   "metadata": {
    "collapsed": false
   },
   "outputs": [],
   "source": [
    "@jit\n",
    "def g(a,b):\n",
    "    return np.sqrt(a)**np.sqrt(b)"
   ]
  },
  {
   "cell_type": "code",
   "execution_count": 14,
   "metadata": {
    "collapsed": false
   },
   "outputs": [
    {
     "name": "stdout",
     "output_type": "stream",
     "text": [
      "The slowest run took 158872.71 times longer than the fastest. This could mean that an intermediate result is being cached \n",
      "1000000 loops, best of 3: 291 ns per loop\n"
     ]
    }
   ],
   "source": [
    "%timeit g(2.1045,3.2154)"
   ]
  },
  {
   "cell_type": "code",
   "execution_count": 33,
   "metadata": {
    "collapsed": false
   },
   "outputs": [],
   "source": [
    "a = (-2,3,4)\n",
    "b = (3,1,-3)\n",
    "a_cross_b = np.cross(a,b)"
   ]
  },
  {
   "cell_type": "code",
   "execution_count": 34,
   "metadata": {
    "collapsed": false
   },
   "outputs": [
    {
     "data": {
      "text/plain": [
       "array([-0.72000341,  0.33230927, -0.60923365])"
      ]
     },
     "execution_count": 34,
     "metadata": {},
     "output_type": "execute_result"
    }
   ],
   "source": [
    "a_cross_b / (norm(a_cross_b))"
   ]
  },
  {
   "cell_type": "code",
   "execution_count": 35,
   "metadata": {
    "collapsed": false
   },
   "outputs": [
    {
     "data": {
      "text/plain": [
       "5.3851648071345037"
      ]
     },
     "execution_count": 35,
     "metadata": {},
     "output_type": "execute_result"
    }
   ],
   "source": [
    "def norm(vec):\n",
    "    return np.sqrt(np.dot(vec,vec))\n",
    "\n",
    "norm(a)"
   ]
  },
  {
   "cell_type": "code",
   "execution_count": 35,
   "metadata": {
    "collapsed": false
   },
   "outputs": [],
   "source": []
  }
 ],
 "metadata": {
  "kernelspec": {
   "display_name": "Python 2",
   "language": "python",
   "name": "python2"
  },
  "language_info": {
   "codemirror_mode": {
    "name": "ipython",
    "version": 2
   },
   "file_extension": ".py",
   "mimetype": "text/x-python",
   "name": "python",
   "nbconvert_exporter": "python",
   "pygments_lexer": "ipython2",
   "version": "2.7.8"
  }
 },
 "nbformat": 4,
 "nbformat_minor": 0
}
