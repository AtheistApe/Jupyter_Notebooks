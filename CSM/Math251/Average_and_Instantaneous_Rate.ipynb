{
 "cells": [
  {
   "cell_type": "code",
   "execution_count": 89,
   "metadata": {},
   "outputs": [],
   "source": [
    "from sympy import *\n",
    "import numpy as np\n",
    "import pandas as pd\n",
    "\n",
    "import matplotlib.pyplot as plt\n",
    "\n",
    "from prettytable import PrettyTable"
   ]
  },
  {
   "cell_type": "code",
   "execution_count": 2,
   "metadata": {},
   "outputs": [],
   "source": [
    "x,y,z,s,t,r = symbols('x y z s t r')"
   ]
  },
  {
   "cell_type": "code",
   "execution_count": 16,
   "metadata": {},
   "outputs": [
    {
     "data": {
      "text/plain": [
       "8*pi"
      ]
     },
     "execution_count": 16,
     "metadata": {},
     "output_type": "execute_result"
    }
   ],
   "source": [
    "integrate(2*r*z, (z,0,sqrt(4-r**2)), (r,0,2), (t,0,2*pi))"
   ]
  },
  {
   "cell_type": "code",
   "execution_count": 17,
   "metadata": {},
   "outputs": [
    {
     "data": {
      "text/plain": [
       "-5*sqrt(2)/4 + 5/2"
      ]
     },
     "execution_count": 17,
     "metadata": {},
     "output_type": "execute_result"
    }
   ],
   "source": [
    "integrate(5*x*sin(x**2), (x,0,sqrt(pi)/2))"
   ]
  },
  {
   "cell_type": "code",
   "execution_count": 18,
   "metadata": {},
   "outputs": [
    {
     "data": {
      "text/plain": [
       "32"
      ]
     },
     "execution_count": 18,
     "metadata": {},
     "output_type": "execute_result"
    }
   ],
   "source": [
    "integrate(3*x**2 - 6*sqrt(x), (x,0,4))"
   ]
  },
  {
   "cell_type": "code",
   "execution_count": 21,
   "metadata": {},
   "outputs": [
    {
     "data": {
      "text/plain": [
       "28.2000824414056"
      ]
     },
     "execution_count": 21,
     "metadata": {},
     "output_type": "execute_result"
    }
   ],
   "source": [
    "float(integrate(sqrt(5*t**2 + 4), (t,1,5)))"
   ]
  },
  {
   "cell_type": "code",
   "execution_count": 33,
   "metadata": {},
   "outputs": [],
   "source": [
    "np.set_printoptions(precision=128)"
   ]
  },
  {
   "cell_type": "code",
   "execution_count": 43,
   "metadata": {},
   "outputs": [
    {
     "data": {
      "text/plain": [
       "[0.99833416646828154750,\n",
       " 0.99998333341666645335,\n",
       " 0.99999983333334163671,\n",
       " 0.99999999833333341748,\n",
       " 0.99999999998333322093]"
      ]
     },
     "execution_count": 43,
     "metadata": {},
     "output_type": "execute_result"
    }
   ],
   "source": [
    "def f(x):\n",
    "    return np.sin(x)/x\n",
    "\n",
    "fx = [N(f(-10**t),20) for t in np.arange(-1,-6,-1, dtype='float64')]\n",
    "\n",
    "fx"
   ]
  },
  {
   "cell_type": "code",
   "execution_count": 47,
   "metadata": {},
   "outputs": [
    {
     "data": {
      "text/plain": [
       "[11.409999999999998366,\n",
       " 11.940099999999976177,\n",
       " 11.994001000000132251,\n",
       " 11.999400009995653704,\n",
       " 11.999940000083853420]"
      ]
     },
     "execution_count": 47,
     "metadata": {},
     "output_type": "execute_result"
    }
   ],
   "source": [
    "def f(x):\n",
    "    return (x**3 - 8) / (x - 2)\n",
    "\n",
    "fx = [N(f(2-10**t),20) for t in np.arange(-1,-6,-1, dtype='float64')]\n",
    "\n",
    "fx"
   ]
  },
  {
   "cell_type": "code",
   "execution_count": 49,
   "metadata": {},
   "outputs": [
    {
     "data": {
      "text/plain": [
       "[1.0536051565782627026,\n",
       " 1.0050335853501450867,\n",
       " 1.0005003335835342959,\n",
       " 1.0000500033334731587,\n",
       " 1.0000050000287823426]"
      ]
     },
     "execution_count": 49,
     "metadata": {},
     "output_type": "execute_result"
    }
   ],
   "source": [
    "def f(x):\n",
    "    return np.log(1+x)/x\n",
    "\n",
    "fx = [N(f(-10**t),20) for t in np.arange(-1,-6,-1, dtype='float64')]\n",
    "\n",
    "fx"
   ]
  },
  {
   "cell_type": "code",
   "execution_count": 85,
   "metadata": {
    "jupyter": {
     "source_hidden": true
    }
   },
   "outputs": [],
   "source": [
    "def y(t):\n",
    "    return 16*t**2\n",
    "\n",
    "tvals = [2, 2.1, 2.01, 2.001]\n",
    "\n",
    "t0 = tvals[0]\n",
    "\n",
    "tbl = PrettyTable(['t', 'y(t)', \"Δt\", 'Δy', 'Δy/Δt'])\n",
    "\n",
    "for t in tvals:\n",
    "    yt = y(t)\n",
    "    yt0 = y(t0)\n",
    "    Δt = t - t0\n",
    "    Δy = yt - yt0\n",
    "    if Δt != 0:\n",
    "        DyDt = round(Δy/Δt,6)\n",
    "    else:\n",
    "        DyDt = \"0/0 (undef)\"\n",
    "    tbl.add_row([t, round(yt,6), round(Δt,3), round(Δy,6), DyDt])\n",
    "    \n",
    "print(tbl)\n",
    "\n",
    "outfile = open(\"tables_PrettyTable.txt\", \"w\")    \n",
    "print(tbl, file=outfile)\n",
    "outfile.close()"
   ]
  },
  {
   "cell_type": "code",
   "execution_count": 206,
   "metadata": {},
   "outputs": [],
   "source": [
    "def y(t):\n",
    "    return 16*t**2\n",
    "\n",
    "def makeTable(tvals):\n",
    "    t0 = tvals[0]\n",
    "    table = np.zeros([len(tvals),5], dtype='float64')\n",
    "    \n",
    "    for t in tvals:\n",
    "        yt = y(t)\n",
    "        yt0 = y(t0)\n",
    "        Δt = np.abs(t - t0)\n",
    "        Δy = np.abs(yt - yt0)\n",
    "        if Δt != 0:\n",
    "            DyDt = Δy/Δt\n",
    "        else:\n",
    "            DyDt = np.nan\n",
    "            \n",
    "        table[tvals.index(t),:] = np.trim_zeros([t, yt, Δt, Δy, DyDt])\n",
    "        \n",
    "    df = pd.DataFrame(table, columns=['t', 'y(t)', 'Δt', 'Δy', 'Δy/Δt'])\n",
    "        \n",
    "    return df"
   ]
  },
  {
   "cell_type": "code",
   "execution_count": 207,
   "metadata": {},
   "outputs": [
    {
     "name": "stdout",
     "output_type": "stream",
     "text": [
      "       t       y(t)       Δt        Δy     Δy/Δt\n",
      " 2.00000  64.000000  0.00000  0.000000       NaN\n",
      " 2.10000  70.560000  0.10000  6.560000  65.60000\n",
      " 2.01000  64.641600  0.01000  0.641600  64.16000\n",
      " 2.00100  64.064016  0.00100  0.064016  64.01600\n",
      " 2.00010  64.006400  0.00010  0.006400  64.00160\n",
      " 2.00001  64.000640  0.00001  0.000640  64.00016\n",
      "\n",
      "\n",
      "       t       y(t)       Δt        Δy     Δy/Δt\n",
      " 2.00000  64.000000  0.00000  0.000000       NaN\n",
      " 1.90000  57.760000  0.10000  6.240000  62.40000\n",
      " 1.99000  63.361600  0.01000  0.638400  63.84000\n",
      " 1.99900  63.936016  0.00100  0.063984  63.98400\n",
      " 1.99990  63.993600  0.00010  0.006400  63.99840\n",
      " 1.99999  63.999360  0.00001  0.000640  63.99984\n",
      "\n",
      "\n",
      "       t        y(t)       Δt        Δy     Δy/Δt\n",
      " 3.00000  144.000000  0.00000  0.000000       NaN\n",
      " 3.10000  153.760000  0.10000  9.760000  97.60000\n",
      " 3.01000  144.961600  0.01000  0.961600  96.16000\n",
      " 3.00100  144.096016  0.00100  0.096016  96.01600\n",
      " 3.00010  144.009600  0.00010  0.009600  96.00160\n",
      " 3.00001  144.000960  0.00001  0.000960  96.00016\n",
      "\n",
      "\n",
      "       t        y(t)       Δt        Δy     Δy/Δt\n",
      " 3.00000  144.000000  0.00000  0.000000       NaN\n",
      " 2.90000  134.560000  0.10000  9.440000  94.40000\n",
      " 2.99000  143.041600  0.01000  0.958400  95.84000\n",
      " 2.99900  143.904016  0.00100  0.095984  95.98400\n",
      " 2.99990  143.990400  0.00010  0.009600  95.99840\n",
      " 2.99999  143.999040  0.00001  0.000960  95.99984\n"
     ]
    }
   ],
   "source": [
    "tbl1 = makeTable([2, 2.1, 2.01, 2.001, 2.0001, 2.00001])\n",
    "tbl2 = makeTable([2, 1.9, 1.99, 1.999, 1.9999, 1.99999])\n",
    "\n",
    "tbl3 = makeTable([3 if n == 0 else 3 + 0.1**n for n in range(6)])\n",
    "tbl4 = makeTable([3 if n == 0 else 3 - 0.1**n for n in range(6)])\n",
    "\n",
    "\n",
    "print(tbl1.to_string(index=False))\n",
    "print(\"\\n\")\n",
    "print(tbl2.to_string(index=False))\n",
    "print(\"\\n\")\n",
    "print(tbl3.to_string(index=False))\n",
    "print(\"\\n\")\n",
    "print(tbl4.to_string(index=False))\n",
    "\n",
    "outfile = open(\"tables.txt\", \"w\")\n",
    "print(tbl1.to_string(index=False), file=outfile)\n",
    "print(\"\\n\", file=outfile)\n",
    "print(tbl2.to_string(index=False), file=outfile)\n",
    "print(\"\\n\", file=outfile)\n",
    "print(tbl3.to_string(index=False), file=outfile)\n",
    "print(\"\\n\", file=outfile)\n",
    "print(tbl4.to_string(index=False), file=outfile)\n",
    "outfile.close()\n"
   ]
  },
  {
   "cell_type": "code",
   "execution_count": 60,
   "metadata": {},
   "outputs": [
    {
     "name": "stdout",
     "output_type": "stream",
     "text": [
      "14.641968322097641\n",
      "1.665015683926963\n"
     ]
    },
    {
     "data": {
      "image/png": "[encoded data removed]",
      "text/plain": [
       "<Figure size 432x288 with 1 Axes>"
      ]
     },
     "metadata": {
      "needs_background": "light"
     },
     "output_type": "display_data"
    }
   ],
   "source": [
    "a = 0\n",
    "b = 4\n",
    "n = 100\n",
    "\n",
    "Δx = (b - a)/(n+1)\n",
    "\n",
    "x = np.linspace(a, b, n+2)\n",
    "y = np.sqrt(x)\n",
    "# y[70] = 1.4\n",
    "# y[20] = 1\n",
    "\n",
    "plt.plot(x,y)\n",
    "\n",
    "# f(x,y,y') = xy + y'\n",
    "\n",
    "# J[y]\n",
    "sum = 0\n",
    "for i in range(n+1):\n",
    "    sum += (x[i]*y[i] + (y[i+1]-y[i])/Δx) * Δx\n",
    "    \n",
    "print(sum)\n",
    "print(y[70])"
   ]
  },
  {
   "cell_type": "code",
   "execution_count": null,
   "metadata": {},
   "outputs": [],
   "source": []
  }
 ],
 "metadata": {
  "@webio": {
   "lastCommId": "92bd80f44ff94b5e8aaf829d284e2a0e",
   "lastKernelId": "f71e3652-6b90-4dc4-b7f8-f39eb71eb51a"
  },
  "hide_input": false,
  "kernelspec": {
   "display_name": "Python 3",
   "language": "python",
   "name": "python3"
  },
  "language_info": {
   "codemirror_mode": {
    "name": "ipython",
    "version": 3
   },
   "file_extension": ".py",
   "mimetype": "text/x-python",
   "name": "python",
   "nbconvert_exporter": "python",
   "pygments_lexer": "ipython3",
   "version": "3.7.6"
  },
  "latex_envs": {
   "bibliofile": "biblio.bib",
   "cite_by": "apalike",
   "current_citInitial": 1,
   "eqLabelWithNumbers": true,
   "eqNumInitial": 0
  }
 },
 "nbformat": 4,
 "nbformat_minor": 4
}
