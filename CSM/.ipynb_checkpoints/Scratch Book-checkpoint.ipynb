{
 "cells": [
  {
   "cell_type": "code",
   "execution_count": 1,
   "metadata": {
    "collapsed": false
   },
   "outputs": [],
   "source": [
    "from sympy import *\n",
    "x, y, z, t = symbols('x,y,z,t')\n",
    "\n",
    "def g(x):\n",
    "    return diff(t**2,t).subs(t,x)\n",
    "\n",
    "f = diff(t**2,t)"
   ]
  },
  {
   "cell_type": "code",
   "execution_count": 2,
   "metadata": {
    "collapsed": false
   },
   "outputs": [
    {
     "data": {
      "text/plain": [
       "48"
      ]
     },
     "execution_count": 2,
     "metadata": {},
     "output_type": "execute_result"
    }
   ],
   "source": [
    "product(g(x), (x,1,3))"
   ]
  },
  {
   "cell_type": "code",
   "execution_count": 4,
   "metadata": {
    "collapsed": false
   },
   "outputs": [
    {
     "name": "stdout",
     "output_type": "stream",
     "text": [
      "This is another string\n"
     ]
    }
   ],
   "source": [
    "a_string = \"This is a global string\"\n",
    "def foo():\n",
    "    #a_string = \"This is a local string\"\n",
    "    print(a_string)\n",
    "    \n",
    "a_string = \"This is another string\"\n",
    "    \n",
    "foo()"
   ]
  },
  {
   "cell_type": "code",
   "execution_count": 6,
   "metadata": {
    "collapsed": false
   },
   "outputs": [
    {
     "name": "stdout",
     "output_type": "stream",
     "text": [
      "1\n"
     ]
    }
   ],
   "source": [
    "def outer():\n",
    "    x = 1\n",
    "    def inner():\n",
    "        print(x)\n",
    "        \n",
    "    inner()\n",
    "    \n",
    "outer()\n"
   ]
  },
  {
   "cell_type": "code",
   "execution_count": 7,
   "metadata": {
    "collapsed": false
   },
   "outputs": [
    {
     "data": {
      "text/plain": [
       "True"
      ]
     },
     "execution_count": 7,
     "metadata": {},
     "output_type": "execute_result"
    }
   ],
   "source": [
    "issubclass(int, object)"
   ]
  },
  {
   "cell_type": "code",
   "execution_count": 8,
   "metadata": {
    "collapsed": false
   },
   "outputs": [
    {
     "data": {
      "text/plain": [
       "True"
      ]
     },
     "execution_count": 8,
     "metadata": {},
     "output_type": "execute_result"
    }
   ],
   "source": [
    "def foo():\n",
    "    pass\n",
    "\n",
    "foo.__class__\n",
    "\n",
    "issubclass(foo.__class__, object)"
   ]
  },
  {
   "cell_type": "code",
   "execution_count": 9,
   "metadata": {
    "collapsed": false
   },
   "outputs": [
    {
     "name": "stdout",
     "output_type": "stream",
     "text": [
      "-1 5\n"
     ]
    }
   ],
   "source": [
    "def add(x, y):\n",
    "    return x + y\n",
    "\n",
    "def sub(x, y):\n",
    "    return x - y\n",
    "\n",
    "def apply(func, x, y):\n",
    "    return func(x, y)\n",
    "\n",
    "print(apply(sub, 2, 3), apply(add, 2, 3))\n"
   ]
  },
  {
   "cell_type": "code",
   "execution_count": 10,
   "metadata": {
    "collapsed": false
   },
   "outputs": [
    {
     "name": "stdout",
     "output_type": "stream",
     "text": [
      "1\n"
     ]
    }
   ],
   "source": [
    "def outer():\n",
    "    x = 1\n",
    "    def inner():\n",
    "        print(x)\n",
    "    return inner\n",
    "\n",
    "foo = outer()\n",
    "foo()"
   ]
  },
  {
   "cell_type": "code",
   "execution_count": 11,
   "metadata": {
    "collapsed": false
   },
   "outputs": [
    {
     "name": "stdout",
     "output_type": "stream",
     "text": [
      "1\n",
      "2\n"
     ]
    }
   ],
   "source": [
    "def outer(x):\n",
    "    def inner():\n",
    "        print(x)\n",
    "    return inner\n",
    "\n",
    "print1 = outer(1)\n",
    "print2 = outer(2)\n",
    "\n",
    "print1()\n",
    "print2()"
   ]
  },
  {
   "cell_type": "code",
   "execution_count": 13,
   "metadata": {
    "collapsed": false
   },
   "outputs": [
    {
     "name": "stdout",
     "output_type": "stream",
     "text": [
      "Arguments were: (5, 4), {}\n",
      "Arguments were: (), {}\n"
     ]
    },
    {
     "data": {
      "text/plain": [
       "2"
      ]
     },
     "execution_count": 13,
     "metadata": {},
     "output_type": "execute_result"
    }
   ],
   "source": [
    "def logger(func):\n",
    "    def inner(*args, **kwargs):\n",
    "        print(\"Arguments were: {}, {}\".format(args, kwargs))\n",
    "        return func(*args, **kwargs)\n",
    "    return inner\n",
    "\n",
    "@logger\n",
    "def foo1(x, y = 1):\n",
    "    return x*y\n",
    "\n",
    "@logger\n",
    "def foo2():\n",
    "    return 2\n",
    "\n",
    "foo1(5, 4)\n",
    "foo2()"
   ]
  },
  {
   "cell_type": "code",
   "execution_count": 14,
   "metadata": {
    "collapsed": false
   },
   "outputs": [
    {
     "data": {
      "text/plain": [
       "70000"
      ]
     },
     "execution_count": 14,
     "metadata": {},
     "output_type": "execute_result"
    }
   ],
   "source": [
    "class Coordinates(object):\n",
    "    def __init__(self, x, y):\n",
    "        self.x = x\n",
    "        self.y = y\n",
    "    def __repr__(self):\n",
    "        return \"Coord: \" + str(self.__dict__)\n",
    "    \n",
    "def add(a, b):\n",
    "    return Coordinates(a.x + b.x, a.y + b.y)\n",
    "\n",
    "def sub(a, b):\n",
    "    return Coordinates(a.x - b.x, a.y - b.y)\n",
    "\n",
    "def dot(a, b):\n",
    "    return a.x * b.x + a.y * b.y\n",
    "\n",
    "\n",
    "one = Coordinates(100, 200)\n",
    "two = Coordinates(300, 200)\n",
    "\n",
    "add(one, two)\n",
    "dot(one, two)"
   ]
  },
  {
   "cell_type": "code",
   "execution_count": 15,
   "metadata": {
    "collapsed": false
   },
   "outputs": [
    {
     "data": {
      "text/plain": [
       "Coord: {'y': 45, 'x': 23}"
      ]
     },
     "execution_count": 15,
     "metadata": {},
     "output_type": "execute_result"
    }
   ],
   "source": [
    "Coordinates(23, 45)"
   ]
  },
  {
   "cell_type": "code",
   "execution_count": 18,
   "metadata": {
    "collapsed": false
   },
   "outputs": [
    {
     "name": "stdout",
     "output_type": "stream",
     "text": [
      "8.0 3.9999999999999996 2.8284271247461903\n",
      "4.47213595499958\n",
      "2.7144176165949063\n",
      "2.114742526881128\n",
      "1.8205642030260802\n",
      "1.6475489724420656\n",
      "1.534127404634391\n",
      "1.4542154334489537\n",
      "1.394950793962421\n"
     ]
    }
   ],
   "source": [
    "def root(r):\n",
    "    def inner(*args):\n",
    "        return args[0]**float(1.0/r)\n",
    "        \n",
    "    return inner\n",
    "\n",
    "root2 = root(2)\n",
    "root3 = root(3)\n",
    "root4 = root(4)\n",
    "\n",
    "print(root2(64), root3(64), root4(64))\n",
    "\n",
    "roots = [root(n) for n in range(2,10)]\n",
    "\n",
    "for root in roots:\n",
    "    print(root(20))"
   ]
  },
  {
   "cell_type": "code",
   "execution_count": null,
   "metadata": {
    "collapsed": false
   },
   "outputs": [],
   "source": []
  }
 ],
 "metadata": {
  "anaconda-cloud": {},
  "hide_input": false,
  "kernelspec": {
   "display_name": "Python [default]",
   "language": "python",
   "name": "python3"
  },
  "language_info": {
   "codemirror_mode": {
    "name": "ipython",
    "version": 3
   },
   "file_extension": ".py",
   "mimetype": "text/x-python",
   "name": "python",
   "nbconvert_exporter": "python",
   "pygments_lexer": "ipython3",
   "version": "3.5.2"
  },
  "latex_envs": {
   "bibliofile": "biblio.bib",
   "cite_by": "apalike",
   "current_citInitial": 1,
   "eqLabelWithNumbers": true,
   "eqNumInitial": 0
  }
 },
 "nbformat": 4,
 "nbformat_minor": 0
}
