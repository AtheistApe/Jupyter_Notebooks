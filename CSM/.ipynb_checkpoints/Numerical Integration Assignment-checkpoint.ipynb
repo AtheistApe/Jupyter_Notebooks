{
 "cells": [
  {
   "cell_type": "markdown",
   "metadata": {},
   "source": [
    "# Numerical Integration Assignment\n",
    "\n",
    "In this assignment, you are to create to python functions. One function will implement Simpson's rule, the other will implement the Trapezoid rule. You should pass to each function: The function to be integrated, the limits of integration and the number of subintervals. Recall that for Simpson's rule the number of subintervals must be an even number.\n",
    "\n",
    "For example, in the implementation of the Midpoint rule for $\\int_2^5 \\frac{1}{x^2}\\; dx$, with $10$ subintervals, the function call would look like\n",
    "\n",
    "```python\n",
    "midptrule(f, 2, 5, 10)\n",
    "```\n",
    "\n",
    "where \"midptrule\" is the name I chose for my midpoint function and we have previously defined the function $f$ by\n",
    "\n",
    "```python\n",
    "def f(x):\n",
    "    return 1/x**2\n",
    "```\n",
    "\n",
    "Below I show how I implemented the midpoint formula in Python. This is just one of many ways to implement this rule in Python, so feel free to choose whatever implementation makes sense to you for Simpson's rule and the Trapezoid rule. I will, however, point out some Python functions that you might find useful\n",
    "\n",
    "```python\n",
    "# My implementation of the Midpoint rule in Python.\n",
    "\n",
    "# Import numpy (numerical python) library. This library contains a lot of\n",
    "# useful numerical functions. See http://docs.scipy.org/doc/numpy/user/ for more information.\n",
    "from numpy import *\n",
    "def midptrule(f, a, b, n):\n",
    "    deltax = (b - a)/float(n) # \"float\" guarantees that we do floating point, not integer, division.\n",
    "    xis = linspace(a, b, n+1) # This creates the list of partition points of the interval [a, b]\n",
    "    midpts = [(xis[i] + xis[i+1])/2.0 for i in range(n)] # Use list comprehension to create list of midpoints.\n",
    "    return sum(map(f, midpts)) * deltax\n",
    "```\n",
    "\n",
    "Here I used the \"linspace\" function from numpy and the \"map\" and \"sum\" functions from Python. You can read about those functions here:\n",
    "\n",
    "* linspace: http://docs.scipy.org/doc/numpy/reference/generated/numpy.linspace.html\n",
    "* map: https://docs.python.org/2/library/functions.html#map\n",
    "* sum: https://docs.python.org/2/library/functions.html#sum\n",
    "\n",
    "For more information on list comprehension syntax in Python, see:\n",
    "\n",
    "* (Section 5.1.4) https://docs.python.org/2/tutorial/datastructures.html\n",
    "* http://www.secnetix.de/olli/Python/list_comprehensions.hawk\n",
    "* http://www.python-course.eu/list_comprehension.php\n",
    "\n",
    "You might also find the numpy \"dot\" function useful for Simpson's rule and the Trapezoid rule. Its documentation is at\n",
    "\n",
    "http://docs.scipy.org/doc/numpy/reference/generated/numpy.dot.html\n",
    "\n",
    "This function multiplies corresponding elements of two equal sized lists and then sums the products to return a single number. This can be useful if you have a list of coefficients (say the coefficients $[1, 4, 2, 4, \\ldots ,2, 4, 1]$ in Simpsons rule) and a list of function values $[f(x_0), f(x_1), f(x_2), f(x_3), \\ldots, f(x_{n-2}), f(x_{n-1}), f(x_n)]$. Recall that Simpson's approximation is given by:\n",
    "\n",
    "$$\n",
    "\\int_a^b f(x)\\;dx \\approx \\tfrac{1}{3}\\Delta x (f(x_0) + 4f(x_1) + 2f(x_2) + \\ldots + 2f(x_{n-2}) + 4f(x_{n-1}) + f(x_n))\n",
    "$$\n",
    "\n",
    "After you've implemented your functions for Simpson's rule and the Trapezoid rule, check them against my results for\n",
    "$\\int_{-3}^{3} e^{-x^2}\\; dx$, with $n = 6$ subintervals. I get:\n",
    "\n",
    "* Simpson's Rule: 1.8727632318012724 \n",
    "* Trapezoid Rule: 1.7725135699244396 "
   ]
  },
  {
   "cell_type": "markdown",
   "metadata": {},
   "source": [
    "Below I show how some of the previously mentioned functions work. Experiment with them yourself to get a feeling for them and what they can do."
   ]
  },
  {
   "cell_type": "code",
   "execution_count": 1,
   "metadata": {
    "collapsed": false
   },
   "outputs": [],
   "source": [
    "from numpy import *\n",
    "\n",
    "def f(x):\n",
    "    return x**2\n",
    "\n",
    "n = 10\n",
    "list1 = [-1, 0, 1, 2, 3]\n",
    "list2 = [1, 4, 2, 4, 1]"
   ]
  },
  {
   "cell_type": "code",
   "execution_count": 12,
   "metadata": {
    "collapsed": false
   },
   "outputs": [
    {
     "data": {
      "text/plain": [
       "array([ 1. ,  1.5,  2. ,  2.5,  3. ,  3.5,  4. ,  4.5,  5. ])"
      ]
     },
     "execution_count": 12,
     "metadata": {},
     "output_type": "execute_result"
    }
   ],
   "source": [
    "linspace(1, 5, 9)\n",
    "# returns 9 equally spaced numbers between 1 and 5 (so 8 subintervals)."
   ]
  },
  {
   "cell_type": "code",
   "execution_count": 13,
   "metadata": {
    "collapsed": false
   },
   "outputs": [
    {
     "data": {
      "text/plain": [
       "[1, 0, 1, 4, 9]"
      ]
     },
     "execution_count": 13,
     "metadata": {},
     "output_type": "execute_result"
    }
   ],
   "source": [
    "map(f, list1)\n",
    "# returns list [f(-1), f(0), f(1), f(2), f(3)]."
   ]
  },
  {
   "cell_type": "code",
   "execution_count": 14,
   "metadata": {
    "collapsed": false
   },
   "outputs": [
    {
     "data": {
      "text/plain": [
       "12"
      ]
     },
     "execution_count": 14,
     "metadata": {},
     "output_type": "execute_result"
    }
   ],
   "source": [
    "dot(list1, list2)\n",
    "# returns -1(1) + 0(4) + 1(2) + 2(4) + 3(1)."
   ]
  },
  {
   "cell_type": "markdown",
   "metadata": {},
   "source": [
    "Below I implement my version of the midpoint rule and then use it to approximate $\\int_2^5 \\frac{1}{x^2}\\;dx$ with $n = 10$ subintervals. The exact value of this integral is $0.3$ and we see that our midpoint approximation agrees closely with this."
   ]
  },
  {
   "cell_type": "code",
   "execution_count": 2,
   "metadata": {
    "collapsed": false
   },
   "outputs": [
    {
     "name": "stdout",
     "output_type": "stream",
     "text": [
      "0.299129680097\n"
     ]
    }
   ],
   "source": [
    "from numpy import *\n",
    "\n",
    "def f(x):\n",
    "    return 1/x**2\n",
    "\n",
    "def midptrule(f, a, b, n):\n",
    "    deltax = (b - a)/float(n)\n",
    "    xis = linspace(a, b, n+1)\n",
    "    midpts = [(xis[i] + xis[i+1])/2.0 for i in range(n)]\n",
    "    return sum(map(f, midpts)) * deltax\n",
    "\n",
    "print midptrule(f, 2, 5, 10)"
   ]
  },
  {
   "cell_type": "code",
   "execution_count": null,
   "metadata": {
    "collapsed": false
   },
   "outputs": [],
   "source": []
  }
 ],
 "metadata": {
  "hide_input": false,
  "kernelspec": {
   "display_name": "Python 2",
   "language": "python",
   "name": "python2"
  },
  "latex_envs": {
   "bibliofile": "biblio.bib",
   "cite_by": "apalike",
   "current_citInitial": 1,
   "eqLabelWithNumbers": true,
   "eqNumInitial": 0
  }
 },
 "nbformat": 4,
 "nbformat_minor": 0
}
