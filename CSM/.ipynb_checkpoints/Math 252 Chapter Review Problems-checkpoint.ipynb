{
 "cells": [
  {
   "cell_type": "code",
   "execution_count": 36,
   "metadata": {
    "collapsed": true
   },
   "outputs": [],
   "source": [
    "from sympy import *\n",
    "from __future__ import division\n",
    "x,y,z,t,k,n,r = symbols('x y z t k n r')\n",
    "from sympy.plotting import *\n",
    "\n",
    "%matplotlib inline\n",
    "\n",
    "from sympy.plotting import plot_implicit"
   ]
  },
  {
   "cell_type": "code",
   "execution_count": 22,
   "metadata": {
    "collapsed": false
   },
   "outputs": [
    {
     "data": {
      "image/png": "[encoded data removed]",
      "text/plain": [
       "<matplotlib.figure.Figure at 0x1110ccf10>"
      ]
     },
     "metadata": {},
     "output_type": "display_data"
    },
    {
     "data": {
      "image/png": "[encoded data removed]",
      "text/plain": [
       "<matplotlib.figure.Figure at 0x111002690>"
      ]
     },
     "metadata": {},
     "output_type": "display_data"
    },
    {
     "data": {
      "image/png": "[encoded data removed]",
      "text/plain": [
       "<matplotlib.figure.Figure at 0x110ee0e50>"
      ]
     },
     "metadata": {},
     "output_type": "display_data"
    }
   ],
   "source": [
    "p1=plot_implicit(Eq(x,1 + y**2), (x,-1,6), (y,-3,3))\n",
    "p2=plot_implicit(Eq(y,x-3), (x,-1,6), (y,-3,3))\n",
    "p1.extend(p2)\n",
    "p1.show()"
   ]
  },
  {
   "cell_type": "code",
   "execution_count": 23,
   "metadata": {
    "collapsed": false
   },
   "outputs": [
    {
     "data": {
      "text/plain": [
       "[(2, -1), (5, 2)]"
      ]
     },
     "execution_count": 23,
     "metadata": {},
     "output_type": "execute_result"
    }
   ],
   "source": [
    "solve({x - 1 - y**2, y - x + 3}, (x,y))"
   ]
  },
  {
   "cell_type": "code",
   "execution_count": 24,
   "metadata": {
    "collapsed": false
   },
   "outputs": [
    {
     "data": {
      "text/plain": [
       "9/2"
      ]
     },
     "execution_count": 24,
     "metadata": {},
     "output_type": "execute_result"
    }
   ],
   "source": [
    "integrate(y + 3 - (1 + y**2), (y,-1,2))"
   ]
  },
  {
   "cell_type": "code",
   "execution_count": 26,
   "metadata": {
    "collapsed": false
   },
   "outputs": [
    {
     "name": "stdout",
     "output_type": "stream",
     "text": [
      "2 131/30 191/30\n",
      "6.3667\n"
     ]
    }
   ],
   "source": [
    "i1 = integrate((2*sqrt(x-1))**2, (x,1,2))\n",
    "i2 = integrate((sqrt(x-1) - (x-3))**2, (x,2,5))\n",
    "print i1, i2, i1+i2\n",
    "print (i1+i2).evalf(5)"
   ]
  },
  {
   "cell_type": "code",
   "execution_count": 30,
   "metadata": {
    "collapsed": false
   },
   "outputs": [
    {
     "name": "stdout",
     "output_type": "stream",
     "text": [
      "162*pi/5\n",
      "101.79\n",
      "32.4\n"
     ]
    }
   ],
   "source": [
    "i3 = integrate(pi*((y + 4)**2 - (2 + y**2)**2), (y,-1,2))\n",
    "print i3\n",
    "print i3.evalf(5)\n",
    "print 162/5.0"
   ]
  },
  {
   "cell_type": "code",
   "execution_count": 33,
   "metadata": {
    "collapsed": false
   },
   "outputs": [
    {
     "name": "stdout",
     "output_type": "stream",
     "text": [
      "60.143\n"
     ]
    }
   ],
   "source": [
    "i4 = (S(1)/9) * integrate(50 + 14*sin(pi*t/12), (t,3,12))\n",
    "print i4.evalf(5)"
   ]
  },
  {
   "cell_type": "code",
   "execution_count": 34,
   "metadata": {
    "collapsed": false
   },
   "outputs": [
    {
     "name": "stdout",
     "output_type": "stream",
     "text": [
      "1411.20000000000\n"
     ]
    }
   ],
   "source": [
    "i5 = integrate(8*9.8*y, (y,0,6))\n",
    "print i5"
   ]
  },
  {
   "cell_type": "code",
   "execution_count": 46,
   "metadata": {
    "collapsed": false
   },
   "outputs": [
    {
     "name": "stdout",
     "output_type": "stream",
     "text": [
      "\\frac{r^{4}}{4} \\log{\\left (r \\right )} - \\frac{r^{4}}{16}\n",
      "r**4*(4*log(r) - 1)/16\n"
     ]
    }
   ],
   "source": [
    "i5 = integrate(r**3 * ln(r), r)\n",
    "print(latex(i5))\n",
    "print factor(i5)"
   ]
  },
  {
   "cell_type": "code",
   "execution_count": 43,
   "metadata": {
    "collapsed": false
   },
   "outputs": [
    {
     "name": "stdout",
     "output_type": "stream",
     "text": [
      "\\frac{x}{2} - \\frac{1}{2} \\sin{\\left (x \\right )} \\cos{\\left (x \\right )}\n",
      "x/2 - sin(x)*cos(x)/2\n",
      "x/2 - sin(2*x)/4\n"
     ]
    }
   ],
   "source": [
    "i6 = integrate(sin(x)**2, x)\n",
    "print(latex(i6))\n",
    "print i6\n",
    "\n",
    "i7 = S(1)/2 * integrate(1 - cos(2*x), x)\n",
    "print i7"
   ]
  },
  {
   "cell_type": "code",
   "execution_count": 44,
   "metadata": {
    "collapsed": false
   },
   "outputs": [
    {
     "name": "stdout",
     "output_type": "stream",
     "text": [
      "-log(sin(x)**2 - 1)/2 - sin(x)**2/2\n"
     ]
    }
   ],
   "source": [
    "i8 = integrate(cos(x)**2 * tan(x)**3, x)\n",
    "print i8"
   ]
  },
  {
   "cell_type": "code",
   "execution_count": null,
   "metadata": {
    "collapsed": true
   },
   "outputs": [],
   "source": []
  }
 ],
 "metadata": {
  "kernelspec": {
   "display_name": "Python 2",
   "language": "python",
   "name": "python2"
  },
  "language_info": {
   "codemirror_mode": {
    "name": "ipython",
    "version": 2
   },
   "file_extension": ".py",
   "mimetype": "text/x-python",
   "name": "python",
   "nbconvert_exporter": "python",
   "pygments_lexer": "ipython2",
   "version": "2.7.8"
  }
 },
 "nbformat": 4,
 "nbformat_minor": 0
}
