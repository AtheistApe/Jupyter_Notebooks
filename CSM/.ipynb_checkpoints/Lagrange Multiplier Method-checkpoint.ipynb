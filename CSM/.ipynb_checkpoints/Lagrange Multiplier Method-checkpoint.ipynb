{
 "cells": [
  {
   "cell_type": "code",
   "execution_count": 11,
   "metadata": {},
   "outputs": [
    {
     "name": "stdout",
     "output_type": "stream",
     "text": [
      "IPython console for SymPy 0.7.6 (Python 2.7.8-64-bit) (ground types: python)\n",
      "\n",
      "These commands were executed:\n",
      ">>> from __future__ import division\n",
      ">>> from sympy import *\n",
      ">>> x, y, z, t = symbols('x y z t')\n",
      ">>> k, m, n = symbols('k m n', integer=True)\n",
      ">>> f, g, h = symbols('f g h', cls=Function)\n",
      ">>> init_printing()\n",
      "\n",
      "Documentation can be found at http://www.sympy.org\n"
     ]
    }
   ],
   "source": [
    "from sympy import init_session\n",
    "init_session()\n",
    "from IPython.display import display"
   ]
  },
  {
   "cell_type": "markdown",
   "metadata": {},
   "source": [
    "In this document we will use the method of Lagrange multipliers to find the absolute maximum and minimum values of a function $f(x,y,z)$ subject to constraints (restrictions) on the allowed values of $x, y$ and $z$. These constraints are given in the form of equations $g(x,y,z) = k_1$ and $h(x,y,z) = k_2$ (where $k_1$ and $k_2$ are constants) relating the variables.\n",
    "\n",
    "Our example problem is the following:\n",
    "\n",
    "\"The plane $x + y + 2z = 18$ intersects the paraboloid $z = x^2 + y^2$ in an ellipse. Find the points on this ellipse that are nearest to and farthest from the origin.\"\n",
    "\n",
    "Here we are asked to find the points $(x,y,z)$ that satisfy both the equation for the plane and the equation of the paraboloid (the constraints) which maximize and minimize the distance of those points from the origin. It turns out that these points are exactly the same points which maximize and minimize the square of the distance of those points from the origin and this function (the square of the distance function) will be easier to work with as it will eliminate the use of square roots in the calculations.\n",
    "\n",
    "The distance squared of a point $(x,y,z)$ to the origin is given by the function $f(x,y,z) = x^2 + y^2 + z^2$. Hence the mathematical statement of our problem is:\n",
    "\n",
    "Find the points $(x,y,z)$ which maximize and minimize the function $f(x,y,z) = x^2 + y^2 + z^2$ subject to:\n",
    "\n",
    "$x + y + 2z = 18$  \n",
    "$x^2 + y^2 - z = 0$\n",
    "\n",
    "Let our functions $g$ and $h$ be $x + y + 2z$ and $x^2 + y^2 - z$, respectivly.\n",
    "\n",
    "The method of Lagrange tells us that the local extreme values of $f$ occur at the points $(x,y,z)$ at which the gradient of f is in the plane spanned by the gradients of $g$ and $h$ or, in mathematical notation,\n",
    "\n",
    "$\\nabla f = \\lambda\\nabla g + \\mu\\nabla h,\\quad$ where $\\lambda$ and $\\mu$ are constants (the Lagrange multipliers).\n",
    "\n",
    "Equating components on both sides of this vector equation and including the constraints give the following five equations in the variables $x, y, z, \\lambda$ and $\\mu$:\n",
    "\n",
    "1. $2x = 2\\lambda x + \\mu$\n",
    "2. $2y = 2\\lambda y + \\mu$\n",
    "3. $2z = -\\lambda + 2\\mu$\n",
    "4. $x + y + 2z = 18$\n",
    "5. $x^2 + y^2 - z = 0$\n",
    "\n",
    "Using sympy we start by defining the function $f$ (the square distance function)"
   ]
  },
  {
   "cell_type": "code",
   "execution_count": 2,
   "metadata": {
    "collapsed": true
   },
   "outputs": [],
   "source": [
    "f = x**2 + y**2 + z**2"
   ]
  },
  {
   "cell_type": "markdown",
   "metadata": {},
   "source": [
    "Next we tell sympy to treat the letters x, y, z, l and m as symbols (variables); I'm using l and m in place of $\\lambda$ and $\\mu$ within the calculations."
   ]
  },
  {
   "cell_type": "code",
   "execution_count": 3,
   "metadata": {},
   "outputs": [],
   "source": [
    "x, y, z, l, m = symbols('x y z l m')"
   ]
  },
  {
   "cell_type": "markdown",
   "metadata": {},
   "source": [
    "We now have sympy solve the system of the five equations above. Note that sympy expects you to get each equation in the form \"expression = 0\" and to pass it the list of the expressions. After the list we indicate the variables to be solved for. Here I am storing the returned solutions in the \"solns\" variable."
   ]
  },
  {
   "cell_type": "code",
   "execution_count": 5,
   "metadata": {},
   "outputs": [
    {
     "data": {
      "image/png": "[encoded data removed]",
      "text/latex": [
       "$$\\left [ \\left ( - \\frac{1}{4} + \\frac{\\sqrt{73}}{4}, \\quad - \\frac{1}{4} + \\frac{\\sqrt{73}}{4}, \\quad - \\frac{\\sqrt{73}}{4} + \\frac{37}{4}, \\quad - \\frac{39 \\sqrt{73}}{146} + \\frac{3}{2}, \\quad - \\frac{28 \\sqrt{73}}{73} + 10\\right ), \\quad \\left ( \\frac{19}{2} - \\frac{\\sqrt{362} i}{2}, \\quad \\frac{19}{2} + \\frac{\\sqrt{362} i}{2}, \\quad - \\frac{1}{2}, \\quad 1, \\quad 0\\right ), \\quad \\left ( \\frac{19}{2} + \\frac{\\sqrt{362} i}{2}, \\quad \\frac{19}{2} - \\frac{\\sqrt{362} i}{2}, \\quad - \\frac{1}{2}, \\quad 1, \\quad 0\\right ), \\quad \\left ( - \\frac{\\sqrt{73}}{4} - \\frac{1}{4}, \\quad - \\frac{\\sqrt{73}}{4} - \\frac{1}{4}, \\quad \\frac{\\sqrt{73}}{4} + \\frac{37}{4}, \\quad \\frac{3}{2} + \\frac{39 \\sqrt{73}}{146}, \\quad \\frac{28 \\sqrt{73}}{73} + 10\\right )\\right ]$$"
      ],
      "text/plain": [
       "⎡⎛        ____          ____      ____              ____             ____     \n",
       "⎢⎜  1   ╲╱ 73     1   ╲╱ 73     ╲╱ 73    37    39⋅╲╱ 73    3    28⋅╲╱ 73      \n",
       "⎢⎜- ─ + ──────, - ─ + ──────, - ────── + ──, - ───────── + ─, - ───────── + 10\n",
       "⎣⎝  4     4       4     4         4      4        146      2        73        \n",
       "\n",
       "⎞  ⎛       _____           _____              ⎞  ⎛       _____           _____\n",
       "⎟  ⎜19   ╲╱ 362 ⋅ⅈ  19   ╲╱ 362 ⋅ⅈ            ⎟  ⎜19   ╲╱ 362 ⋅ⅈ  19   ╲╱ 362 \n",
       "⎟, ⎜── - ─────────, ── + ─────────, -1/2, 1, 0⎟, ⎜── + ─────────, ── - ───────\n",
       "⎠  ⎝2        2      2        2                ⎠  ⎝2        2      2        2  \n",
       "\n",
       "              ⎞  ⎛    ____          ____        ____                ____      \n",
       "⋅ⅈ            ⎟  ⎜  ╲╱ 73    1    ╲╱ 73    1  ╲╱ 73    37  3   39⋅╲╱ 73   28⋅╲\n",
       "──, -1/2, 1, 0⎟, ⎜- ────── - ─, - ────── - ─, ────── + ──, ─ + ─────────, ────\n",
       "              ⎠  ⎝    4      4      4      4    4      4   2      146         \n",
       "\n",
       " ____     ⎞⎤\n",
       "╱ 73      ⎟⎥\n",
       "───── + 10⎟⎥\n",
       "73        ⎠⎦"
      ]
     },
     "metadata": {},
     "output_type": "display_data"
    }
   ],
   "source": [
    "solns=solve([2*x - 2*l*x - m, 2*y - 2*l*y - m, 2*z + l - 2*m, x**2 + y**2 - z, x + y + 2*z - 18], x, y, z, l, m)\n",
    "display(solns)"
   ]
  },
  {
   "cell_type": "markdown",
   "metadata": {},
   "source": [
    "Since we only care about real valued $x, y$ and $z$ coordinates, let's extract only those solutions with real $x, y$ and $z$ values. Noticing that all the coordinates are real when the $x$ coordinate is real, we can use a list comprehension to extract the $(x, y, z)$ tuples for only real $x, y$ and $z$ as follows:"
   ]
  },
  {
   "cell_type": "code",
   "execution_count": 6,
   "metadata": {},
   "outputs": [
    {
     "data": {
      "image/png": "[encoded data removed]",
      "text/latex": [
       "$$\\left [ \\left ( - \\frac{1}{4} + \\frac{\\sqrt{73}}{4}, \\quad - \\frac{1}{4} + \\frac{\\sqrt{73}}{4}, \\quad - \\frac{\\sqrt{73}}{4} + \\frac{37}{4}\\right ), \\quad \\left ( - \\frac{\\sqrt{73}}{4} - \\frac{1}{4}, \\quad - \\frac{\\sqrt{73}}{4} - \\frac{1}{4}, \\quad \\frac{\\sqrt{73}}{4} + \\frac{37}{4}\\right )\\right ]$$"
      ],
      "text/plain": [
       "⎡⎛        ____          ____      ____     ⎞  ⎛    ____          ____        _\n",
       "⎢⎜  1   ╲╱ 73     1   ╲╱ 73     ╲╱ 73    37⎟  ⎜  ╲╱ 73    1    ╲╱ 73    1  ╲╱ \n",
       "⎢⎜- ─ + ──────, - ─ + ──────, - ────── + ──⎟, ⎜- ────── - ─, - ────── - ─, ───\n",
       "⎣⎝  4     4       4     4         4      4 ⎠  ⎝    4      4      4      4    4\n",
       "\n",
       "___     ⎞⎤\n",
       "73    37⎟⎥\n",
       "─── + ──⎟⎥\n",
       "      4 ⎠⎦"
      ]
     },
     "metadata": {},
     "output_type": "display_data"
    }
   ],
   "source": [
    "real_solns=[(solns[n][0],solns[n][1],solns[n][2]) for n in range(len(solns)) if solns[n][0].is_real]\n",
    "display(real_solns)"
   ]
  },
  {
   "cell_type": "markdown",
   "metadata": {},
   "source": [
    "We have a pair of $(x, y, z)$ values. At one of these points $f(x,y,z) = x^2 + y^2 + z^2$ will be a maximum and at the other $f$ will be a minimum. Let's set up a small loop to evaluate $f$ at each point, giving both the exact value and a decimal approximation for each."
   ]
  },
  {
   "cell_type": "code",
   "execution_count": 8,
   "metadata": {},
   "outputs": [
    {
     "data": {
      "image/png": "[encoded data removed]",
      "text/latex": [
       "$$- \\frac{39 \\sqrt{73}}{8} + \\frac{795}{8}$$"
      ],
      "text/plain": [
       "       ____      \n",
       "  39⋅╲╱ 73    795\n",
       "- ───────── + ───\n",
       "      8        8 "
      ]
     },
     "metadata": {},
     "output_type": "display_data"
    },
    {
     "data": {
      "image/png": "[encoded data removed]",
      "text/latex": [
       "$$57.722981741577$$"
      ],
      "text/plain": [
       "57.7229817415770"
      ]
     },
     "metadata": {},
     "output_type": "display_data"
    },
    {
     "name": "stdout",
     "output_type": "stream",
     "text": [
      "\n"
     ]
    },
    {
     "data": {
      "image/png": "[encoded data removed]",
      "text/latex": [
       "$$\\frac{39 \\sqrt{73}}{8} + \\frac{795}{8}$$"
      ],
      "text/plain": [
       "     ____      \n",
       "39⋅╲╱ 73    795\n",
       "───────── + ───\n",
       "    8        8 "
      ]
     },
     "metadata": {},
     "output_type": "display_data"
    },
    {
     "data": {
      "image/png": "[encoded data removed]",
      "text/latex": [
       "$$141.027018258423$$"
      ],
      "text/plain": [
       "141.027018258423"
      ]
     },
     "metadata": {},
     "output_type": "display_data"
    },
    {
     "name": "stdout",
     "output_type": "stream",
     "text": [
      "\n"
     ]
    }
   ],
   "source": [
    "for soln in real_solns:\n",
    "    display(simplify(f.subs(zip((x,y,z),soln))))\n",
    "    display(simplify(f.subs(zip((x,y,z),soln))).n())\n",
    "    print"
   ]
  },
  {
   "cell_type": "markdown",
   "metadata": {},
   "source": [
    "Remember that $f(x,y,z)$ measures the square of the distance from the origin to $(x,y,z)$, so the actual minimum and maximum distances are the square roots of the smaller and larger numbers, respectivly, shown above. Hence, the approximate minimum and maximum distances from the origin to the ellipse of intersection of the plane and paraboloid are (respectivly):"
   ]
  },
  {
   "cell_type": "code",
   "execution_count": 9,
   "metadata": {},
   "outputs": [
    {
     "name": "stdout",
     "output_type": "stream",
     "text": [
      "7.59756539952109 11.8754789377103\n"
     ]
    }
   ],
   "source": [
    "print sqrt(57.723), sqrt(141.027)"
   ]
  },
  {
   "cell_type": "code",
   "execution_count": null,
   "metadata": {
    "collapsed": true
   },
   "outputs": [],
   "source": []
  }
 ],
 "metadata": {
  "@webio": {
   "lastCommId": null,
   "lastKernelId": null
  },
  "kernelspec": {
   "display_name": "Python 3",
   "language": "python",
   "name": "python3"
  },
  "language_info": {
   "codemirror_mode": {
    "name": "ipython",
    "version": 3
   },
   "file_extension": ".py",
   "mimetype": "text/x-python",
   "name": "python",
   "nbconvert_exporter": "python",
   "pygments_lexer": "ipython3",
   "version": "3.7.1"
  }
 },
 "nbformat": 4,
 "nbformat_minor": 1
}
