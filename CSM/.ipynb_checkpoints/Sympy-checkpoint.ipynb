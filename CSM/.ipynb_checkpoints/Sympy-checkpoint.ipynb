{
 "cells": [
  {
   "cell_type": "markdown",
   "metadata": {},
   "source": [
    "# Sympy (Symbolic Python)\n",
    "\n",
    "The equation $$\\int_a^b f(x)\\,dx = \\lim_{n\\rightarrow\\infty} \\sum_{i=1}^n f(x_i^*)\\Delta x$$ defines the definite integral over the interval $[a,b]$."
   ]
  },
  {
   "cell_type": "code",
   "execution_count": 1,
   "metadata": {},
   "outputs": [],
   "source": [
    "from sympy import *\n",
    "from sympy.interactive import printing\n",
    "printing.init_printing(use_latex=True)"
   ]
  },
  {
   "cell_type": "code",
   "execution_count": 2,
   "metadata": {},
   "outputs": [],
   "source": [
    "x,y,z,s,t = symbols(\"x y z s t\")"
   ]
  },
  {
   "cell_type": "code",
   "execution_count": 5,
   "metadata": {},
   "outputs": [
    {
     "name": "stdout",
     "output_type": "stream",
     "text": [
      "(-x**2 + 4)/(x**4 + 8*x**2 + 16)\n",
      "2*x*(x**2 - 12)/(x**6 + 12*x**4 + 48*x**2 + 64)\n"
     ]
    }
   ],
   "source": [
    "f =  x/(x**2+4)\n",
    "df = simplify(diff(f,x))\n",
    "dff = simplify(diff(df,x))\n",
    "\n",
    "print(df)\n",
    "print(dff)"
   ]
  },
  {
   "cell_type": "code",
   "execution_count": 7,
   "metadata": {},
   "outputs": [
    {
     "name": "stdout",
     "output_type": "stream",
     "text": [
      "-2*x**2/(x**2 + 4)**2 + 1/(x**2 + 4)\n"
     ]
    }
   ],
   "source": [
    "df = diff(f,x)\n",
    "print(df)"
   ]
  },
  {
   "cell_type": "code",
   "execution_count": 17,
   "metadata": {},
   "outputs": [
    {
     "data": {
      "image/png": "[encoded data removed]",
      "text/latex": [
       "$$e^{x} \\log{\\left (x \\right )} - \\operatorname{Ei}{\\left (x \\right )}$$"
      ],
      "text/plain": [
       " x               \n",
       "ℯ ⋅log(x) - Ei(x)"
      ]
     },
     "execution_count": 17,
     "metadata": {},
     "output_type": "execute_result"
    }
   ],
   "source": [
    "integrate(exp(x)*log(x), x)"
   ]
  },
  {
   "cell_type": "code",
   "execution_count": 5,
   "metadata": {},
   "outputs": [
    {
     "data": {
      "text/plain": [
       "oo"
      ]
     },
     "execution_count": 5,
     "metadata": {},
     "output_type": "execute_result"
    }
   ],
   "source": [
    "integrate(1/x**4, (x,-2,3))"
   ]
  },
  {
   "cell_type": "code",
   "execution_count": 18,
   "metadata": {},
   "outputs": [
    {
     "data": {
      "image/png": "[encoded data removed]",
      "text/latex": [
       "$$\\frac{2}{e}$$"
      ],
      "text/plain": [
       "   -1\n",
       "2⋅ℯ  "
      ]
     },
     "execution_count": 18,
     "metadata": {},
     "output_type": "execute_result"
    }
   ],
   "source": [
    "integrate(x*exp(-x), (x,1,oo))"
   ]
  },
  {
   "cell_type": "code",
   "execution_count": 7,
   "metadata": {},
   "outputs": [
    {
     "data": {
      "text/plain": [
       "0"
      ]
     },
     "execution_count": 7,
     "metadata": {},
     "output_type": "execute_result"
    }
   ],
   "source": [
    "integrate(x*exp(-x**2), (x,-oo,oo))"
   ]
  },
  {
   "cell_type": "code",
   "execution_count": 8,
   "metadata": {},
   "outputs": [
    {
     "data": {
      "text/plain": [
       "-1/4"
      ]
     },
     "execution_count": 8,
     "metadata": {},
     "output_type": "execute_result"
    }
   ],
   "source": [
    "integrate(x*log(x), (x,0,1))"
   ]
  },
  {
   "cell_type": "code",
   "execution_count": 9,
   "metadata": {},
   "outputs": [
    {
     "data": {
      "text/plain": [
       "6.75 - 1.29903810567666*I"
      ]
     },
     "execution_count": 9,
     "metadata": {},
     "output_type": "execute_result"
    }
   ],
   "source": [
    "integrate((x-1)**(-1/3), (x,0,9))"
   ]
  },
  {
   "cell_type": "code",
   "execution_count": 19,
   "metadata": {},
   "outputs": [
    {
     "data": {
      "image/png": "[encoded data removed]",
      "text/latex": [
       "$$0.75$$"
      ],
      "text/plain": [
       "0.750000000000000"
      ]
     },
     "execution_count": 19,
     "metadata": {},
     "output_type": "execute_result"
    }
   ],
   "source": [
    "h = 1/(1 + x**2)\n",
    "h.subs(x,sqrt(1/3))"
   ]
  },
  {
   "cell_type": "code",
   "execution_count": 11,
   "metadata": {},
   "outputs": [
    {
     "data": {
      "text/plain": [
       "t*sin(t) + cos(t)"
      ]
     },
     "execution_count": 11,
     "metadata": {},
     "output_type": "execute_result"
    }
   ],
   "source": [
    "integrate(t*cos(t), t)"
   ]
  },
  {
   "cell_type": "code",
   "execution_count": 12,
   "metadata": {},
   "outputs": [
    {
     "data": {
      "text/plain": [
       "2*log(x - 4)/3 + log(x + 2)/3"
      ]
     },
     "execution_count": 12,
     "metadata": {},
     "output_type": "execute_result"
    }
   ],
   "source": [
    "integrate(x/(x**2 - 2*x - 8), x)"
   ]
  },
  {
   "cell_type": "code",
   "execution_count": 13,
   "metadata": {},
   "outputs": [
    {
     "data": {
      "text/plain": [
       "x - sin(x)*cos(x)"
      ]
     },
     "execution_count": 13,
     "metadata": {},
     "output_type": "execute_result"
    }
   ],
   "source": [
    "integrate(sin(2*x) * tan(x), x)"
   ]
  },
  {
   "cell_type": "code",
   "execution_count": 14,
   "metadata": {},
   "outputs": [
    {
     "data": {
      "text/plain": [
       "x - sin(x)*cos(x)"
      ]
     },
     "execution_count": 14,
     "metadata": {},
     "output_type": "execute_result"
    }
   ],
   "source": [
    "integrate(2*sin(x)*cos(x) * sin(x)/cos(x), x)"
   ]
  },
  {
   "cell_type": "code",
   "execution_count": 20,
   "metadata": {},
   "outputs": [
    {
     "data": {
      "image/png": "[encoded data removed]",
      "text/latex": [
       "$$\\begin{cases} - \\frac{i \\sqrt{x^{2} - 4}}{4 x} & \\text{for}\\: \\frac{\\left|{x^{2}}\\right|}{4} > 1 \\\\- \\frac{\\sqrt{- x^{2} + 4}}{4 x} & \\text{otherwise} \\end{cases}$$"
      ],
      "text/plain": [
       "⎧      ________               \n",
       "⎪     ╱  2            │ 2│    \n",
       "⎪-ⅈ⋅╲╱  x  - 4        │x │    \n",
       "⎪───────────────  for ──── > 1\n",
       "⎪      4⋅x             4      \n",
       "⎨                             \n",
       "⎪    __________               \n",
       "⎪   ╱    2                    \n",
       "⎪-╲╱  - x  + 4                \n",
       "⎪───────────────   otherwise  \n",
       "⎩      4⋅x                    "
      ]
     },
     "execution_count": 20,
     "metadata": {},
     "output_type": "execute_result"
    }
   ],
   "source": [
    "integrate(1 / (x**2 * sqrt(4 - x**2)), x)"
   ]
  },
  {
   "cell_type": "code",
   "execution_count": 13,
   "metadata": {},
   "outputs": [
    {
     "data": {
      "image/png": "[encoded data removed]",
      "text/latex": [
       "$$97200$$"
      ],
      "text/plain": [
       "97200"
      ]
     },
     "execution_count": 13,
     "metadata": {},
     "output_type": "execute_result"
    }
   ],
   "source": [
    "5400*18"
   ]
  },
  {
   "cell_type": "code",
   "execution_count": 21,
   "metadata": {
    "collapsed": true
   },
   "outputs": [],
   "source": [
    "expr1 = x - sin(2*x)/2\n",
    "expr2 = cos(2*x)*(tan(x) - (sec(x))**2)\n",
    "expr3 = simplify(expr1 - expr2)"
   ]
  },
  {
   "cell_type": "code",
   "execution_count": 22,
   "metadata": {},
   "outputs": [
    {
     "data": {
      "image/png": "[encoded data removed]",
      "text/latex": [
       "$$x - \\left(\\tan{\\left (x \\right )} - \\sec^{2}{\\left (x \\right )}\\right) \\cos{\\left (2 x \\right )} - \\frac{\\sin{\\left (2 x \\right )}}{2}$$"
      ],
      "text/plain": [
       "    ⎛            2   ⎞            sin(2⋅x)\n",
       "x - ⎝tan(x) - sec (x)⎠⋅cos(2⋅x) - ────────\n",
       "                                     2    "
      ]
     },
     "execution_count": 22,
     "metadata": {},
     "output_type": "execute_result"
    }
   ],
   "source": [
    "expr3"
   ]
  },
  {
   "cell_type": "code",
   "execution_count": 23,
   "metadata": {},
   "outputs": [
    {
     "name": "stdout",
     "output_type": "stream",
     "text": [
      "2*(4*x - 5)*exp(-2*x) 4*(-4*x + 7)*exp(-2*x)\n",
      "3.06882707351876\n"
     ]
    }
   ],
   "source": [
    "f = (3 - 4*x)/exp(2*x)\n",
    "fp = simplify(diff(f,x))\n",
    "fpp = simplify(diff(fp,x))\n",
    "\n",
    "print(fp, fpp)\n",
    "print(fpp.subs(x,4/5))"
   ]
  },
  {
   "cell_type": "code",
   "execution_count": 24,
   "metadata": {},
   "outputs": [
    {
     "data": {
      "image/png": "[encoded data removed]",
      "text/latex": [
       "$$4 \\left(- 4 x + 7\\right) e^{- 2 x}$$"
      ],
      "text/plain": [
       "              -2⋅x\n",
       "4⋅(-4⋅x + 7)⋅ℯ    "
      ]
     },
     "execution_count": 24,
     "metadata": {},
     "output_type": "execute_result"
    }
   ],
   "source": [
    "fpp"
   ]
  },
  {
   "cell_type": "code",
   "execution_count": 25,
   "metadata": {},
   "outputs": [
    {
     "data": {
      "image/png": "[encoded data removed]",
      "text/latex": [
       "$$t^{2} \\left(12 \\log{\\left (t \\right )} + 7\\right)$$"
      ],
      "text/plain": [
       " 2                \n",
       "t ⋅(12⋅log(t) + 7)"
      ]
     },
     "execution_count": 25,
     "metadata": {},
     "output_type": "execute_result"
    }
   ],
   "source": [
    "diff(t**4 * log(t), t, 2)"
   ]
  },
  {
   "cell_type": "code",
   "execution_count": 26,
   "metadata": {},
   "outputs": [
    {
     "data": {
      "image/png": "[encoded data removed]",
      "text/latex": [
       "$$\\sqrt{x^{2} + 1}$$"
      ],
      "text/plain": [
       "   ________\n",
       "  ╱  2     \n",
       "╲╱  x  + 1 "
      ]
     },
     "execution_count": 26,
     "metadata": {},
     "output_type": "execute_result"
    }
   ],
   "source": [
    "integrate(x/sqrt(1+x**2), x)"
   ]
  },
  {
   "cell_type": "code",
   "execution_count": 27,
   "metadata": {},
   "outputs": [
    {
     "data": {
      "image/png": "[encoded data removed]",
      "text/latex": [
       "$$\\frac{e^{x} \\sin{\\left (x \\right )}}{2} + \\frac{e^{x} \\cos{\\left (x \\right )}}{2}$$"
      ],
      "text/plain": [
       " x           x       \n",
       "ℯ ⋅sin(x)   ℯ ⋅cos(x)\n",
       "───────── + ─────────\n",
       "    2           2    "
      ]
     },
     "execution_count": 27,
     "metadata": {},
     "output_type": "execute_result"
    }
   ],
   "source": [
    "integrate(exp(x)*cos(x), x)"
   ]
  },
  {
   "cell_type": "code",
   "execution_count": 28,
   "metadata": {},
   "outputs": [
    {
     "data": {
      "image/png": "[encoded data removed]",
      "text/latex": [
       "$$\\frac{\\log{\\left (x \\right )}}{2} - \\frac{\\log{\\left (x + 2 \\right )}}{2}$$"
      ],
      "text/plain": [
       "log(x)   log(x + 2)\n",
       "────── - ──────────\n",
       "  2          2     "
      ]
     },
     "execution_count": 28,
     "metadata": {},
     "output_type": "execute_result"
    }
   ],
   "source": [
    "integrate(1/(x**2 + 2*x), x)"
   ]
  },
  {
   "cell_type": "code",
   "execution_count": 29,
   "metadata": {},
   "outputs": [
    {
     "data": {
      "image/png": "[encoded data removed]",
      "text/latex": [
       "$$- \\log{\\left (\\log{\\left (x \\right )} - 1 \\right )}$$"
      ],
      "text/plain": [
       "-log(log(x) - 1)"
      ]
     },
     "execution_count": 29,
     "metadata": {},
     "output_type": "execute_result"
    }
   ],
   "source": [
    "integrate(1/(x - x*log(x)), x)"
   ]
  },
  {
   "cell_type": "code",
   "execution_count": 30,
   "metadata": {},
   "outputs": [
    {
     "data": {
      "image/png": "[encoded data removed]",
      "text/latex": [
       "$$2 \\sqrt{x} \\sin{\\left (\\sqrt{x} \\right )} + 2 \\cos{\\left (\\sqrt{x} \\right )}$$"
      ],
      "text/plain": [
       "2⋅√x⋅sin(√x) + 2⋅cos(√x)"
      ]
     },
     "execution_count": 30,
     "metadata": {},
     "output_type": "execute_result"
    }
   ],
   "source": [
    "integrate(cos(sqrt(x)), x)"
   ]
  },
  {
   "cell_type": "code",
   "execution_count": 31,
   "metadata": {},
   "outputs": [
    {
     "data": {
      "image/png": "[encoded data removed]",
      "text/latex": [
       "$$3 \\int x \\sec^{2}{\\left (4 x \\right )}\\, dx$$"
      ],
      "text/plain": [
       "  ⌠               \n",
       "  ⎮      2        \n",
       "3⋅⎮ x⋅sec (4⋅x) dx\n",
       "  ⌡               "
      ]
     },
     "execution_count": 31,
     "metadata": {},
     "output_type": "execute_result"
    }
   ],
   "source": [
    "integrate(3*x*sec(4*x)**2, x)"
   ]
  },
  {
   "cell_type": "code",
   "execution_count": null,
   "metadata": {},
   "outputs": [],
   "source": [
    "simplify(diff(3*x/4 * tan(4*x) + 3/16 * log(sec(4*x)), x))"
   ]
  },
  {
   "cell_type": "code",
   "execution_count": 25,
   "metadata": {},
   "outputs": [
    {
     "data": {
      "image/png": "[encoded data removed]",
      "text/latex": [
       "$$- \\frac{1}{8} \\log{\\left (\\sin^{2}{\\left (4 x \\right )} - 1 \\right )}$$"
      ],
      "text/plain": [
       "    ⎛   2         ⎞ \n",
       "-log⎝sin (4⋅x) - 1⎠ \n",
       "────────────────────\n",
       "         8          "
      ]
     },
     "execution_count": 25,
     "metadata": {},
     "output_type": "execute_result"
    }
   ],
   "source": [
    "integrate(tan(4*x), x)"
   ]
  },
  {
   "cell_type": "code",
   "execution_count": 26,
   "metadata": {},
   "outputs": [
    {
     "data": {
      "image/png": "[encoded data removed]",
      "text/latex": [
       "$$\\frac{1}{2} \\operatorname{asinh}{\\left (\\frac{2 x}{3} \\right )}$$"
      ],
      "text/plain": [
       "     ⎛2⋅x⎞\n",
       "asinh⎜───⎟\n",
       "     ⎝ 3 ⎠\n",
       "──────────\n",
       "    2     "
      ]
     },
     "execution_count": 26,
     "metadata": {},
     "output_type": "execute_result"
    }
   ],
   "source": [
    "integrate(1/sqrt(4*x**2 + 9), x)"
   ]
  },
  {
   "cell_type": "code",
   "execution_count": 27,
   "metadata": {},
   "outputs": [
    {
     "data": {
      "image/png": "[encoded data removed]",
      "text/latex": [
       "$$\\begin{cases} - 0.5 \\log{\\left (\\frac{2 x}{3} + \\frac{1}{3} \\sqrt{4 x^{2} + 9} \\right )} - \\frac{i \\sqrt{x^{2} - 4}}{4 x} & \\text{for}\\: \\frac{\\left|{x^{2}}\\right|}{4} > 1 \\\\- 0.5 \\log{\\left (\\frac{2 x}{3} + \\frac{1}{3} \\sqrt{4 x^{2} + 9} \\right )} - \\frac{\\sqrt{- x^{2} + 4}}{4 x} & \\text{otherwise} \\end{cases}$$"
      ],
      "text/plain": [
       "⎧         ⎛         __________⎞        ________              \n",
       "⎪         ⎜        ╱    2     ⎟       ╱  2           │ 2│    \n",
       "⎪         ⎜2⋅x   ╲╱  4⋅x  + 9 ⎟   ⅈ⋅╲╱  x  - 4       │x │    \n",
       "⎪- 0.5⋅log⎜─── + ─────────────⎟ - ─────────────  for ──── > 1\n",
       "⎪         ⎝ 3          3      ⎠        4⋅x            4      \n",
       "⎨                                                            \n",
       "⎪         ⎛         __________⎞      __________              \n",
       "⎪         ⎜        ╱    2     ⎟     ╱    2                   \n",
       "⎪         ⎜2⋅x   ╲╱  4⋅x  + 9 ⎟   ╲╱  - x  + 4               \n",
       "⎪- 0.5⋅log⎜─── + ─────────────⎟ - ─────────────   otherwise  \n",
       "⎩         ⎝ 3          3      ⎠        4⋅x                   "
      ]
     },
     "execution_count": 27,
     "metadata": {},
     "output_type": "execute_result"
    }
   ],
   "source": [
    "simplify(Out[12] - (1/2 * log(sqrt(4*x**2 + 9)/3 + 2*x/3)))"
   ]
  },
  {
   "cell_type": "code",
   "execution_count": 29,
   "metadata": {},
   "outputs": [
    {
     "data": {
      "image/png": "[encoded data removed]",
      "text/latex": [
       "$$- \\frac{7 \\cos^{2}{\\left (x \\right )} - 5}{35 \\cos^{7}{\\left (x \\right )}}$$"
      ],
      "text/plain": [
       " ⎛     2       ⎞ \n",
       "-⎝7⋅cos (x) - 5⎠ \n",
       "─────────────────\n",
       "          7      \n",
       "    35⋅cos (x)   "
      ]
     },
     "execution_count": 29,
     "metadata": {},
     "output_type": "execute_result"
    }
   ],
   "source": [
    "integrate(tan(x)**3 * sec(x)**5, x)"
   ]
  },
  {
   "cell_type": "code",
   "execution_count": 30,
   "metadata": {},
   "outputs": [
    {
     "data": {
      "image/png": "[encoded data removed]",
      "text/latex": [
       "$$- \\frac{1}{49 x^{98}}$$"
      ],
      "text/plain": [
       " -1   \n",
       "──────\n",
       "    98\n",
       "49⋅x  "
      ]
     },
     "execution_count": 30,
     "metadata": {},
     "output_type": "execute_result"
    }
   ],
   "source": [
    "integrate(2/x**99, x)"
   ]
  },
  {
   "cell_type": "code",
   "execution_count": 31,
   "metadata": {},
   "outputs": [
    {
     "data": {
      "image/png": "[encoded data removed]",
      "text/latex": [
       "$$0.02040816326530612$$"
      ],
      "text/plain": [
       "0.02040816326530612"
      ]
     },
     "execution_count": 31,
     "metadata": {},
     "output_type": "execute_result"
    }
   ],
   "source": [
    "11/539"
   ]
  },
  {
   "cell_type": "code",
   "execution_count": 32,
   "metadata": {},
   "outputs": [
    {
     "data": {
      "image/png": "[encoded data removed]",
      "text/latex": [
       "$$\\int \\frac{1}{x} \\sqrt{- \\left(\\log{\\left (x \\right )} - 1\\right) \\left(\\log{\\left (x \\right )} + 1\\right)}\\, dx$$"
      ],
      "text/plain": [
       "⌠                                  \n",
       "⎮   ____________________________   \n",
       "⎮ ╲╱ -(log(x) - 1)⋅(log(x) + 1)    \n",
       "⎮ ────────────────────────────── dx\n",
       "⎮               x                  \n",
       "⌡                                  "
      ]
     },
     "execution_count": 32,
     "metadata": {},
     "output_type": "execute_result"
    }
   ],
   "source": [
    "integrate(sqrt(1 - log(x)**2)/x, x)"
   ]
  },
  {
   "cell_type": "code",
   "execution_count": 33,
   "metadata": {},
   "outputs": [
    {
     "data": {
      "image/png": "[encoded data removed]",
      "text/latex": [
       "$$\\frac{1}{x} \\sqrt{- \\log^{2}{\\left (x \\right )} + 1}$$"
      ],
      "text/plain": [
       "   _______________\n",
       "  ╱      2        \n",
       "╲╱  - log (x) + 1 \n",
       "──────────────────\n",
       "        x         "
      ]
     },
     "execution_count": 33,
     "metadata": {},
     "output_type": "execute_result"
    }
   ],
   "source": [
    "simplify(diff(1/2 * (asin(log(x)) + log(x)*sqrt(1 - log(x)**2)), x))"
   ]
  },
  {
   "cell_type": "code",
   "execution_count": 2,
   "metadata": {},
   "outputs": [
    {
     "data": {
      "image/png": "[encoded data removed]",
      "text/latex": [
       "$$\\begin{cases} - \\frac{0.112837916709551 i}{x} \\sqrt{\\pi} \\sqrt{x^{2} - 1} + \\frac{0.225675833419102 i}{x^{3}} \\sqrt{\\pi} \\sqrt{x^{2} - 1} - \\frac{0.112837916709551 i}{x^{5}} \\sqrt{\\pi} \\sqrt{x^{2} - 1} & \\text{for}\\: \\left|{x^{2}}\\right| > 1 \\\\- \\frac{0.112837916709551 \\sqrt{\\pi}}{x} \\sqrt{- x^{2} + 1} + \\frac{0.225675833419102 \\sqrt{\\pi}}{x^{3}} \\sqrt{- x^{2} + 1} - \\frac{0.112837916709551 \\sqrt{\\pi}}{x^{5}} \\sqrt{- x^{2} + 1} & \\text{otherwise} \\end{cases}$$"
      ],
      "text/plain": [
       "⎧                            ________                             ________    \n",
       "⎪                           ╱  2                                 ╱  2         \n",
       "⎪  0.112837916709551⋅ⅈ⋅√π⋅╲╱  x  - 1    0.225675833419102⋅ⅈ⋅√π⋅╲╱  x  - 1    0\n",
       "⎪- ────────────────────────────────── + ────────────────────────────────── - ─\n",
       "⎪                  x                                     3                    \n",
       "⎪                                                       x                     \n",
       "⎨                                                                             \n",
       "⎪                          __________                           __________    \n",
       "⎪                         ╱    2                               ╱    2         \n",
       "⎪  0.112837916709551⋅√π⋅╲╱  - x  + 1    0.225675833419102⋅√π⋅╲╱  - x  + 1    0\n",
       "⎪- ────────────────────────────────── + ────────────────────────────────── - ─\n",
       "⎪                  x                                     3                    \n",
       "⎩                                                       x                     \n",
       "\n",
       "                         ________              \n",
       "                        ╱  2                   \n",
       ".112837916709551⋅ⅈ⋅√π⋅╲╱  x  - 1       │ 2│    \n",
       "─────────────────────────────────  for │x │ > 1\n",
       "                5                              \n",
       "               x                               \n",
       "                                               \n",
       "                       __________              \n",
       "                      ╱    2                   \n",
       ".112837916709551⋅√π⋅╲╱  - x  + 1               \n",
       "─────────────────────────────────   otherwise  \n",
       "                5                              \n",
       "               x                               "
      ]
     },
     "execution_count": 2,
     "metadata": {},
     "output_type": "execute_result"
    }
   ],
   "source": [
    "integrate((1 - x**2)**(3/2)/x**6, x)"
   ]
  },
  {
   "cell_type": "code",
   "execution_count": null,
   "metadata": {
    "collapsed": true
   },
   "outputs": [],
   "source": [
    "from sympy.physics.vector import *"
   ]
  },
  {
   "cell_type": "code",
   "execution_count": null,
   "metadata": {
    "collapsed": true
   },
   "outputs": [],
   "source": [
    "C = ReferenceFrame('C')"
   ]
  },
  {
   "cell_type": "code",
   "execution_count": null,
   "metadata": {
    "collapsed": true
   },
   "outputs": [],
   "source": [
    "r_t = cos(t)*C.x + sin(t)*C.y + t*C.z"
   ]
  },
  {
   "cell_type": "code",
   "execution_count": null,
   "metadata": {
    "collapsed": true
   },
   "outputs": [],
   "source": [
    "rp_t = r_t.diff(t, C)\n",
    "print rp_t"
   ]
  },
  {
   "cell_type": "code",
   "execution_count": null,
   "metadata": {
    "collapsed": true
   },
   "outputs": [],
   "source": [
    "rpp_t = rp_t.diff(t, C)\n",
    "print rpp_t"
   ]
  },
  {
   "cell_type": "code",
   "execution_count": null,
   "metadata": {
    "collapsed": true
   },
   "outputs": [],
   "source": [
    "T=rp_t.normalize().simplify()\n",
    "print(T)"
   ]
  },
  {
   "cell_type": "code",
   "execution_count": null,
   "metadata": {
    "collapsed": true
   },
   "outputs": [],
   "source": [
    "N = T.diff(t,C).normalize().simplify()\n",
    "print(N)"
   ]
  },
  {
   "cell_type": "code",
   "execution_count": null,
   "metadata": {
    "collapsed": true
   },
   "outputs": [],
   "source": [
    "B = cross(T,N).simplify()\n",
    "print(B)"
   ]
  },
  {
   "cell_type": "code",
   "execution_count": null,
   "metadata": {
    "collapsed": true
   },
   "outputs": [],
   "source": [
    "print T.subs(t, 3*pi/2)\n",
    "print N.subs(t, 3*pi/2)\n",
    "print B.subs(t, 3*pi/2)"
   ]
  },
  {
   "cell_type": "code",
   "execution_count": null,
   "metadata": {
    "collapsed": true
   },
   "outputs": [],
   "source": [
    "print r_t.subs(t, 3*pi/2)"
   ]
  },
  {
   "cell_type": "code",
   "execution_count": null,
   "metadata": {
    "collapsed": true
   },
   "outputs": [],
   "source": [
    "print((T.diff(t, C).magnitude()/rp_t.magnitude()).simplify())"
   ]
  },
  {
   "cell_type": "code",
   "execution_count": null,
   "metadata": {
    "collapsed": true
   },
   "outputs": [],
   "source": [
    "print(T.magnitude().simplify())"
   ]
  },
  {
   "cell_type": "code",
   "execution_count": null,
   "metadata": {
    "collapsed": true
   },
   "outputs": [],
   "source": [
    "r_t = t*C.x + t**2*C.y\n",
    "rp_t = r_t.diff(t, C).simplify()\n",
    "T = (rp_t/rp_t.magnitude()).simplify()"
   ]
  },
  {
   "cell_type": "code",
   "execution_count": null,
   "metadata": {
    "collapsed": true
   },
   "outputs": [],
   "source": [
    "print(T)"
   ]
  },
  {
   "cell_type": "code",
   "execution_count": null,
   "metadata": {
    "collapsed": true
   },
   "outputs": [],
   "source": [
    "k = (T.diff(t, C).magnitude()/rp_t.magnitude()).simplify()"
   ]
  },
  {
   "cell_type": "code",
   "execution_count": null,
   "metadata": {
    "collapsed": true
   },
   "outputs": [],
   "source": [
    "print(k)"
   ]
  },
  {
   "cell_type": "code",
   "execution_count": null,
   "metadata": {
    "collapsed": true
   },
   "outputs": [],
   "source": [
    "plot(t**2, k, (t,-2,2))"
   ]
  },
  {
   "cell_type": "code",
   "execution_count": null,
   "metadata": {
    "collapsed": true
   },
   "outputs": [],
   "source": [
    "f = Function('f')\n",
    "dsolve(Derivative(f(x), x) + 2/f(x), f(x))"
   ]
  },
  {
   "cell_type": "code",
   "execution_count": null,
   "metadata": {
    "collapsed": true
   },
   "outputs": [],
   "source": [
    "print(r_t.subs(t,3))"
   ]
  },
  {
   "cell_type": "code",
   "execution_count": null,
   "metadata": {
    "collapsed": true
   },
   "outputs": [],
   "source": [
    "def f(x,y):\n",
    "    return 3*x**2 + y**2\n",
    "\n",
    "F = gradient(3*C[0]**2 + C[1]**2, C)\n",
    "print(F)"
   ]
  },
  {
   "cell_type": "code",
   "execution_count": null,
   "metadata": {
    "collapsed": true
   },
   "outputs": [],
   "source": []
  },
  {
   "cell_type": "code",
   "execution_count": null,
   "metadata": {
    "collapsed": true
   },
   "outputs": [],
   "source": [
    "9.65*sqrt(3.0)"
   ]
  },
  {
   "cell_type": "code",
   "execution_count": null,
   "metadata": {
    "collapsed": true
   },
   "outputs": [],
   "source": [
    "4*4.9*3.75"
   ]
  },
  {
   "cell_type": "code",
   "execution_count": null,
   "metadata": {
    "collapsed": true
   },
   "outputs": [],
   "source": [
    "D=sqrt(73.5+0.09)"
   ]
  },
  {
   "cell_type": "code",
   "execution_count": null,
   "metadata": {
    "collapsed": true
   },
   "outputs": [],
   "source": [
    "(-0.3 - D)/(-9.8)"
   ]
  },
  {
   "cell_type": "code",
   "execution_count": null,
   "metadata": {
    "collapsed": true
   },
   "outputs": [],
   "source": [
    "-S(2)/5 - S(1)/4"
   ]
  },
  {
   "cell_type": "code",
   "execution_count": null,
   "metadata": {
    "collapsed": true
   },
   "outputs": [],
   "source": [
    "integrate(1/(x*ln(x**2)), (x,2,oo))"
   ]
  },
  {
   "cell_type": "code",
   "execution_count": 10,
   "metadata": {},
   "outputs": [
    {
     "data": {
      "image/png": "[encoded data removed]",
      "text/latex": [
       "$$-3.0$$"
      ],
      "text/plain": [
       "-3.00000"
      ]
     },
     "execution_count": 10,
     "metadata": {},
     "output_type": "execute_result"
    }
   ],
   "source": [
    "integrate(abs(x) - 2, (x,-1,3)).evalf()"
   ]
  },
  {
   "cell_type": "code",
   "execution_count": 11,
   "metadata": {
    "collapsed": true
   },
   "outputs": [],
   "source": [
    "import numpy as np"
   ]
  },
  {
   "cell_type": "code",
   "execution_count": 13,
   "metadata": {},
   "outputs": [
    {
     "data": {
      "image/png": "[encoded data removed]",
      "text/latex": [
       "$$5.93118646932297$$"
      ],
      "text/plain": [
       "5.93118646932297"
      ]
     },
     "execution_count": 13,
     "metadata": {},
     "output_type": "execute_result"
    }
   ],
   "source": [
    "integrate(sqrt(1+t**4), (t,0,sqrt(6))).evalf()"
   ]
  },
  {
   "cell_type": "code",
   "execution_count": 14,
   "metadata": {},
   "outputs": [
    {
     "data": {
      "image/png": "[encoded data removed]",
      "text/latex": [
       "$$1296$$"
      ],
      "text/plain": [
       "1296"
      ]
     },
     "execution_count": 14,
     "metadata": {},
     "output_type": "execute_result"
    }
   ],
   "source": [
    "2*18*36"
   ]
  },
  {
   "cell_type": "code",
   "execution_count": 16,
   "metadata": {},
   "outputs": [
    {
     "data": {
      "image/png": "[encoded data removed]",
      "text/latex": [
       "$$9 t^{4} + 72 t^{3} + 54 t^{2} - 360 t + 225$$"
      ],
      "text/plain": [
       "   4       3       2              \n",
       "9⋅t  + 72⋅t  + 54⋅t  - 360⋅t + 225"
      ]
     },
     "execution_count": 16,
     "metadata": {},
     "output_type": "execute_result"
    }
   ],
   "source": [
    "expand((-3*t**2 - 12*t + 15)**2)"
   ]
  },
  {
   "cell_type": "code",
   "execution_count": 19,
   "metadata": {},
   "outputs": [
    {
     "data": {
      "image/png": "[encoded data removed]",
      "text/latex": [
       "$$-15.6767343538123$$"
      ],
      "text/plain": [
       "-15.6767343538123"
      ]
     },
     "execution_count": 19,
     "metadata": {},
     "output_type": "execute_result"
    }
   ],
   "source": [
    "integrate((-t**3/3 + 2*t + 2)*(-2*t), (t,-sqrt(6),sqrt(6))).evalf()"
   ]
  },
  {
   "cell_type": "code",
   "execution_count": 21,
   "metadata": {
    "collapsed": true
   },
   "outputs": [],
   "source": [
    "import scipy.integrate as integrate"
   ]
  },
  {
   "cell_type": "code",
   "execution_count": 23,
   "metadata": {},
   "outputs": [
    {
     "data": {
      "image/png": "[encoded data removed]",
      "text/latex": [
       "$$\\left ( 6.333333333333334, \\quad 7.031412489292659e-14\\right )$$"
      ],
      "text/plain": [
       "(6.333333333333334, 7.031412489292659e-14)"
      ]
     },
     "execution_count": 23,
     "metadata": {},
     "output_type": "execute_result"
    }
   ],
   "source": [
    "integrate.quad(lambda x: x**2, 2, 3)"
   ]
  },
  {
   "cell_type": "code",
   "execution_count": 24,
   "metadata": {},
   "outputs": [
    {
     "data": {
      "image/png": "[encoded data removed]",
      "text/latex": [
       "$$\\left ( 8.100000000000001, \\quad 8.992806499463769e-14\\right )$$"
      ],
      "text/plain": [
       "(8.100000000000001, 8.992806499463769e-14)"
      ]
     },
     "execution_count": 24,
     "metadata": {},
     "output_type": "execute_result"
    }
   ],
   "source": [
    "integrate.quad(lambda y: (y + 2 - y**2)**2, -1, 2)"
   ]
  },
  {
   "cell_type": "code",
   "execution_count": 27,
   "metadata": {},
   "outputs": [
    {
     "name": "stdout",
     "output_type": "stream",
     "text": [
      "i1: (2.0, 2.220446049250313e-14)\n",
      "i2: (4.366666666666666, 1.7933724817216145e-13)\n",
      "i1 + i2 = 6.366666666666666\n"
     ]
    }
   ],
   "source": [
    "i1 = integrate.quad(lambda x: 4*(x - 1), 1, 2)\n",
    "i2 = integrate.quad(lambda x: (sqrt(x-1) - x + 3)**2, 2, 5)\n",
    "\n",
    "print(\"i1: {}\\ni2: {}\".format(i1, i2))\n",
    "print(\"i1 + i2 = {}\".format(i1[0]+i2[0]))"
   ]
  },
  {
   "cell_type": "code",
   "execution_count": 25,
   "metadata": {},
   "outputs": [
    {
     "data": {
      "image/png": "[encoded data removed]",
      "text/latex": [
       "$$2$$"
      ],
      "text/plain": [
       "2"
      ]
     },
     "execution_count": 25,
     "metadata": {},
     "output_type": "execute_result"
    }
   ],
   "source": [
    "sqrt(4)"
   ]
  },
  {
   "cell_type": "code",
   "execution_count": 2,
   "metadata": {},
   "outputs": [
    {
     "data": {
      "text/plain": [
       "<sympy.plotting.plot.Plot at 0x11292ab70>"
      ]
     },
     "execution_count": 2,
     "metadata": {},
     "output_type": "execute_result"
    }
   ],
   "source": [
    "plot(t*exp(-3*t), (t,0,3))"
   ]
  },
  {
   "cell_type": "code",
   "execution_count": 5,
   "metadata": {},
   "outputs": [
    {
     "data": {
      "image/png": "[encoded data removed]",
      "text/latex": [
       "$$\\frac{\\pi x}{3} y \\cos{\\left (\\frac{\\pi}{3} z{\\left (x,y \\right )} \\right )} \\frac{\\partial}{\\partial x} z{\\left (x,y \\right )} + y \\sin{\\left (\\frac{\\pi}{3} z{\\left (x,y \\right )} \\right )}$$"
      ],
      "text/plain": [
       "         ⎛π⋅z(x, y)⎞ ∂                             \n",
       "π⋅x⋅y⋅cos⎜─────────⎟⋅──(z(x, y))                   \n",
       "         ⎝    3    ⎠ ∂x                 ⎛π⋅z(x, y)⎞\n",
       "──────────────────────────────── + y⋅sin⎜─────────⎟\n",
       "               3                        ⎝    3    ⎠"
      ]
     },
     "execution_count": 5,
     "metadata": {},
     "output_type": "execute_result"
    }
   ],
   "source": [
    "expr = diff(x*y*sin(pi*z(x,y)/3), x)\n",
    "expr"
   ]
  },
  {
   "cell_type": "code",
   "execution_count": 8,
   "metadata": {},
   "outputs": [
    {
     "data": {
      "text/plain": [
       "<bound method Expr.apart of pi*x*y*cos(pi*z(x, y)/3)*Derivative(z(x, y), x)/3 + y*sin(pi*z(x, y)/3)>"
      ]
     },
     "execution_count": 8,
     "metadata": {},
     "output_type": "execute_result"
    }
   ],
   "source": [
    "expr.apart"
   ]
  },
  {
   "cell_type": "code",
   "execution_count": 9,
   "metadata": {},
   "outputs": [
    {
     "data": {
      "image/png": "[encoded data removed]",
      "text/latex": [
       "$$\\left [ - \\frac{3}{\\pi x} \\tan{\\left (\\frac{\\pi}{3} z{\\left (x,y \\right )} \\right )}\\right ]$$"
      ],
      "text/plain": [
       "⎡      ⎛π⋅z(x, y)⎞ ⎤\n",
       "⎢-3⋅tan⎜─────────⎟ ⎥\n",
       "⎢      ⎝    3    ⎠ ⎥\n",
       "⎢──────────────────⎥\n",
       "⎣       π⋅x        ⎦"
      ]
     },
     "execution_count": 9,
     "metadata": {},
     "output_type": "execute_result"
    }
   ],
   "source": [
    "solve(expr, Derivative(z(x,y), x))"
   ]
  },
  {
   "cell_type": "code",
   "execution_count": 10,
   "metadata": {
    "collapsed": true
   },
   "outputs": [],
   "source": [
    "dzdx = Out[9][0]"
   ]
  },
  {
   "cell_type": "code",
   "execution_count": 11,
   "metadata": {},
   "outputs": [
    {
     "data": {
      "image/png": "[encoded data removed]",
      "text/latex": [
       "$$- \\frac{3}{\\pi x} \\tan{\\left (\\frac{\\pi}{3} z{\\left (x,y \\right )} \\right )}$$"
      ],
      "text/plain": [
       "      ⎛π⋅z(x, y)⎞ \n",
       "-3⋅tan⎜─────────⎟ \n",
       "      ⎝    3    ⎠ \n",
       "──────────────────\n",
       "       π⋅x        "
      ]
     },
     "execution_count": 11,
     "metadata": {},
     "output_type": "execute_result"
    }
   ],
   "source": [
    "dzdx"
   ]
  },
  {
   "cell_type": "code",
   "execution_count": 20,
   "metadata": {},
   "outputs": [
    {
     "data": {
      "image/png": "[encoded data removed]",
      "text/latex": [
       "$$- \\frac{3}{\\pi}$$"
      ],
      "text/plain": [
       "-3 \n",
       "───\n",
       " π "
      ]
     },
     "execution_count": 20,
     "metadata": {},
     "output_type": "execute_result"
    }
   ],
   "source": [
    "pt = (sqrt(3), 12, 1)\n",
    "dzdx.subs({x:sqrt(3), y:12, z(x,y):1})"
   ]
  },
  {
   "cell_type": "code",
   "execution_count": 21,
   "metadata": {},
   "outputs": [
    {
     "data": {
      "image/png": "[encoded data removed]",
      "text/latex": [
       "$$\\frac{\\pi x}{3} y \\cos{\\left (\\frac{\\pi}{3} z{\\left (x,y \\right )} \\right )} \\frac{\\partial}{\\partial y} z{\\left (x,y \\right )} + x \\sin{\\left (\\frac{\\pi}{3} z{\\left (x,y \\right )} \\right )}$$"
      ],
      "text/plain": [
       "         ⎛π⋅z(x, y)⎞ ∂                             \n",
       "π⋅x⋅y⋅cos⎜─────────⎟⋅──(z(x, y))                   \n",
       "         ⎝    3    ⎠ ∂y                 ⎛π⋅z(x, y)⎞\n",
       "──────────────────────────────── + x⋅sin⎜─────────⎟\n",
       "               3                        ⎝    3    ⎠"
      ]
     },
     "execution_count": 21,
     "metadata": {},
     "output_type": "execute_result"
    }
   ],
   "source": [
    "expr = diff(x*y*sin(pi*z(x,y)/3), y)\n",
    "expr"
   ]
  },
  {
   "cell_type": "code",
   "execution_count": 22,
   "metadata": {},
   "outputs": [
    {
     "data": {
      "image/png": "[encoded data removed]",
      "text/latex": [
       "$$\\left [ - \\frac{3}{\\pi y} \\tan{\\left (\\frac{\\pi}{3} z{\\left (x,y \\right )} \\right )}\\right ]$$"
      ],
      "text/plain": [
       "⎡      ⎛π⋅z(x, y)⎞ ⎤\n",
       "⎢-3⋅tan⎜─────────⎟ ⎥\n",
       "⎢      ⎝    3    ⎠ ⎥\n",
       "⎢──────────────────⎥\n",
       "⎣       π⋅y        ⎦"
      ]
     },
     "execution_count": 22,
     "metadata": {},
     "output_type": "execute_result"
    }
   ],
   "source": [
    "solve(expr, Derivative(z(x,y), y))"
   ]
  },
  {
   "cell_type": "code",
   "execution_count": 23,
   "metadata": {},
   "outputs": [
    {
     "data": {
      "image/png": "[encoded data removed]",
      "text/latex": [
       "$$- \\frac{3}{\\pi y} \\tan{\\left (\\frac{\\pi}{3} z{\\left (x,y \\right )} \\right )}$$"
      ],
      "text/plain": [
       "      ⎛π⋅z(x, y)⎞ \n",
       "-3⋅tan⎜─────────⎟ \n",
       "      ⎝    3    ⎠ \n",
       "──────────────────\n",
       "       π⋅y        "
      ]
     },
     "execution_count": 23,
     "metadata": {},
     "output_type": "execute_result"
    }
   ],
   "source": [
    "dzdy = Out[22][0]\n",
    "dzdy"
   ]
  },
  {
   "cell_type": "code",
   "execution_count": 24,
   "metadata": {},
   "outputs": [
    {
     "data": {
      "image/png": "[encoded data removed]",
      "text/latex": [
       "$$- \\frac{\\sqrt{3}}{4 \\pi}$$"
      ],
      "text/plain": [
       "-√3 \n",
       "────\n",
       "4⋅π "
      ]
     },
     "execution_count": 24,
     "metadata": {},
     "output_type": "execute_result"
    }
   ],
   "source": [
    "dzdy.subs({x:sqrt(3), y:12, z(x,y):1})"
   ]
  },
  {
   "cell_type": "code",
   "execution_count": 26,
   "metadata": {},
   "outputs": [
    {
     "data": {
      "image/png": "[encoded data removed]",
      "text/latex": [
       "$$- z - \\frac{1}{\\pi} \\left(3 x - 3 \\sqrt{3}\\right) - \\frac{\\sqrt{3} \\left(y - 12\\right)}{4 \\pi} + 1$$"
      ],
      "text/plain": [
       "     3⋅(x - √3)   √3⋅(y - 12)    \n",
       "-z - ────────── - ─────────── + 1\n",
       "         π            4⋅π        "
      ]
     },
     "execution_count": 26,
     "metadata": {},
     "output_type": "execute_result"
    }
   ],
   "source": [
    "eqn = -3/pi * (x - sqrt(3)) - sqrt(3)/(4*pi) * (y - 12) - z + 1\n",
    "eqn"
   ]
  },
  {
   "cell_type": "code",
   "execution_count": 29,
   "metadata": {},
   "outputs": [
    {
     "data": {
      "image/png": "[encoded data removed]",
      "text/latex": [
       "$$6 \\sqrt{3} x + \\frac{3 y}{2} + 2 \\sqrt{3} \\pi z - 36 - 2 \\sqrt{3} \\pi$$"
      ],
      "text/plain": [
       "         3⋅y                         \n",
       "6⋅√3⋅x + ─── + 2⋅√3⋅π⋅z - 36 - 2⋅√3⋅π\n",
       "          2                          "
      ]
     },
     "execution_count": 29,
     "metadata": {},
     "output_type": "execute_result"
    }
   ],
   "source": [
    "expand(expand(eqn) * -2*pi*sqrt(3))"
   ]
  },
  {
   "cell_type": "code",
   "execution_count": 30,
   "metadata": {},
   "outputs": [
    {
     "data": {
      "image/png": "[encoded data removed]",
      "text/latex": [
       "$$- \\frac{3 x}{\\pi} - \\frac{\\sqrt{3} y}{4 \\pi} - z + 1 + \\frac{6 \\sqrt{3}}{\\pi}$$"
      ],
      "text/plain": [
       "  3⋅x   √3⋅y           6⋅√3\n",
       "- ─── - ──── - z + 1 + ────\n",
       "   π    4⋅π             π  "
      ]
     },
     "execution_count": 30,
     "metadata": {},
     "output_type": "execute_result"
    }
   ],
   "source": [
    "expand(eqn)"
   ]
  },
  {
   "cell_type": "code",
   "execution_count": 7,
   "metadata": {},
   "outputs": [
    {
     "data": {
      "image/png": "[encoded data removed]",
      "text/latex": [
       "$$\\pi$$"
      ],
      "text/plain": [
       "π"
      ]
     },
     "execution_count": 7,
     "metadata": {},
     "output_type": "execute_result"
    }
   ],
   "source": [
    "integrate(sin(t)**3 + cos(t)**2 - (2-sin(t))**2*cos(t), (t,0,2*pi))"
   ]
  },
  {
   "cell_type": "code",
   "execution_count": 5,
   "metadata": {},
   "outputs": [
    {
     "data": {
      "image/png": "[encoded data removed]",
      "text/latex": [
       "$$18$$"
      ],
      "text/plain": [
       "18"
      ]
     },
     "execution_count": 5,
     "metadata": {},
     "output_type": "execute_result"
    }
   ],
   "source": [
    "r, θ = symbols('r θ')\n",
    "integrate(r**3/sqrt(9-r**2), (r,0,3))\n"
   ]
  },
  {
   "cell_type": "code",
   "execution_count": 4,
   "metadata": {},
   "outputs": [
    {
     "data": {
      "image/png": "[encoded data removed]",
      "text/latex": [
       "$$32$$"
      ],
      "text/plain": [
       "32"
      ]
     },
     "execution_count": 4,
     "metadata": {},
     "output_type": "execute_result"
    }
   ],
   "source": [
    "integrate(2*x*y + x, (x,0,4), (y,-2,2))"
   ]
  },
  {
   "cell_type": "code",
   "execution_count": 6,
   "metadata": {},
   "outputs": [
    {
     "data": {
      "image/png": "[encoded data removed]",
      "text/latex": [
       "$$2 \\pi$$"
      ],
      "text/plain": [
       "2⋅π"
      ]
     },
     "execution_count": 6,
     "metadata": {},
     "output_type": "execute_result"
    }
   ],
   "source": [
    "integrate(4*r**3, (θ,0,2*pi), (r,0,1))"
   ]
  },
  {
   "cell_type": "code",
   "execution_count": 2,
   "metadata": {},
   "outputs": [
    {
     "data": {
      "image/png": "[encoded data removed]",
      "text/latex": [
       "$$618.816405113626$$"
      ],
      "text/plain": [
       "618.816405113626"
      ]
     },
     "execution_count": 2,
     "metadata": {},
     "output_type": "execute_result"
    }
   ],
   "source": [
    "integrate(176*(1-exp(-0.02*t)), (t,0,20))"
   ]
  },
  {
   "cell_type": "code",
   "execution_count": 7,
   "metadata": {},
   "outputs": [
    {
     "data": {
      "text/plain": [
       "2*x"
      ]
     },
     "execution_count": 7,
     "metadata": {},
     "output_type": "execute_result"
    }
   ],
   "source": [
    "diff(x**2, x)"
   ]
  },
  {
   "cell_type": "code",
   "execution_count": 9,
   "metadata": {},
   "outputs": [
    {
     "data": {
      "text/plain": [
       "(x**2 - 10*x + 1)/(x**4 - 2*x**2 + 1)"
      ]
     },
     "execution_count": 9,
     "metadata": {},
     "output_type": "execute_result"
    }
   ],
   "source": [
    "simplify(diff((2*x**2 - x + 3) / (x**2 - 1), x))"
   ]
  },
  {
   "cell_type": "code",
   "execution_count": 7,
   "metadata": {},
   "outputs": [],
   "source": [
    "expr=expand((6*x*y - 6)*2 + (3*x**2 + 9)*2*t)"
   ]
  },
  {
   "cell_type": "code",
   "execution_count": 8,
   "metadata": {},
   "outputs": [
    {
     "data": {
      "text/plain": [
       "6*t*x**2 + 18*t + 12*x*y - 12"
      ]
     },
     "execution_count": 8,
     "metadata": {},
     "output_type": "execute_result"
    }
   ],
   "source": [
    "expr"
   ]
  },
  {
   "cell_type": "code",
   "execution_count": 12,
   "metadata": {},
   "outputs": [
    {
     "data": {
      "text/plain": [
       "48*t**3 + 36*t**2 - 24"
      ]
     },
     "execution_count": 12,
     "metadata": {},
     "output_type": "execute_result"
    }
   ],
   "source": [
    "simplify(expr.subs([(x,2*t+1), (y,t**2-1)]))"
   ]
  },
  {
   "cell_type": "code",
   "execution_count": 16,
   "metadata": {},
   "outputs": [
    {
     "data": {
      "text/plain": [
       "1.5383211009556694"
      ]
     },
     "execution_count": 16,
     "metadata": {},
     "output_type": "execute_result"
    }
   ],
   "source": [
    "float((12*sec(4)**2 - 3*tan(4))/16)"
   ]
  },
  {
   "cell_type": "code",
   "execution_count": 17,
   "metadata": {},
   "outputs": [
    {
     "data": {
      "text/plain": [
       "-1.4406234363306396"
      ]
     },
     "execution_count": 17,
     "metadata": {},
     "output_type": "execute_result"
    }
   ],
   "source": [
    "float(sqrt(5)*cos(9)*sqrt(2)/2)"
   ]
  },
  {
   "cell_type": "code",
   "execution_count": 19,
   "metadata": {},
   "outputs": [],
   "source": [
    "num=float(cos(atan(2)-pi/4))"
   ]
  },
  {
   "cell_type": "code",
   "execution_count": 20,
   "metadata": {},
   "outputs": [
    {
     "data": {
      "text/plain": [
       "0.9486832980505138"
      ]
     },
     "execution_count": 20,
     "metadata": {},
     "output_type": "execute_result"
    }
   ],
   "source": [
    "num"
   ]
  },
  {
   "cell_type": "code",
   "execution_count": 22,
   "metadata": {},
   "outputs": [
    {
     "data": {
      "text/plain": [
       "-1.93279916016879"
      ]
     },
     "execution_count": 22,
     "metadata": {},
     "output_type": "execute_result"
    }
   ],
   "source": [
    "float(num*cos(9)*sqrt(5))"
   ]
  },
  {
   "cell_type": "code",
   "execution_count": 23,
   "metadata": {},
   "outputs": [
    {
     "data": {
      "text/plain": [
       "-1.9327991601687902"
      ]
     },
     "execution_count": 23,
     "metadata": {},
     "output_type": "execute_result"
    }
   ],
   "source": [
    "float(3*sqrt(2)/2 * cos(9))"
   ]
  },
  {
   "cell_type": "code",
   "execution_count": 26,
   "metadata": {},
   "outputs": [
    {
     "data": {
      "text/plain": [
       "3.1748021039363987"
      ]
     },
     "execution_count": 26,
     "metadata": {},
     "output_type": "execute_result"
    }
   ],
   "source": [
    "float(32**(1/3))"
   ]
  },
  {
   "cell_type": "code",
   "execution_count": 50,
   "metadata": {},
   "outputs": [],
   "source": [
    "def f(t):\n",
    "    sin(sin(t))"
   ]
  },
  {
   "cell_type": "code",
   "execution_count": 54,
   "metadata": {},
   "outputs": [
    {
     "data": {
      "image/png": "[encoded data removed]",
      "text/latex": [
       "$$\\frac{s e^{s t} \\cos{\\left (t \\right )}}{s^{2} + 1} - \\frac{s}{s^{2} + 1} + \\frac{e^{s t} \\sin{\\left (t \\right )}}{s^{2} + 1}$$"
      ],
      "text/plain": [
       "   s⋅t                    s⋅t       \n",
       "s⋅ℯ   ⋅cos(t)     s      ℯ   ⋅sin(t)\n",
       "───────────── - ────── + ───────────\n",
       "     2           2           2      \n",
       "    s  + 1      s  + 1      s  + 1  "
      ]
     },
     "execution_count": 54,
     "metadata": {},
     "output_type": "execute_result"
    }
   ],
   "source": [
    "integrate(exp(s*x)*cos(x), (x,0,t))"
   ]
  },
  {
   "cell_type": "code",
   "execution_count": 6,
   "metadata": {},
   "outputs": [
    {
     "data": {
      "image/png": "[encoded data removed]",
      "text/latex": [
       "$$2.48015873015873 \\cdot 10^{-5}$$"
      ],
      "text/plain": [
       "2.48015873015873e-5"
      ]
     },
     "execution_count": 6,
     "metadata": {},
     "output_type": "execute_result"
    }
   ],
   "source": [
    "1.0/factorial(8)"
   ]
  },
  {
   "cell_type": "code",
   "execution_count": null,
   "metadata": {},
   "outputs": [],
   "source": []
  }
 ],
 "metadata": {
  "@webio": {
   "lastCommId": "cde3ff96706844d28c6a7282d2d35022",
   "lastKernelId": "c292a6d1-8675-4903-b541-be5caf519270"
  },
  "anaconda-cloud": {},
  "hide_input": false,
  "kernelspec": {
   "display_name": "Python 3",
   "language": "python",
   "name": "python3"
  },
  "language_info": {
   "codemirror_mode": {
    "name": "ipython",
    "version": 3
   },
   "file_extension": ".py",
   "mimetype": "text/x-python",
   "name": "python",
   "nbconvert_exporter": "python",
   "pygments_lexer": "ipython3",
   "version": "3.7.1"
  },
  "latex_envs": {
   "bibliofile": "biblio.bib",
   "cite_by": "apalike",
   "current_citInitial": 1,
   "eqLabelWithNumbers": true,
   "eqNumInitial": 0
  }
 },
 "nbformat": 4,
 "nbformat_minor": 2
}
