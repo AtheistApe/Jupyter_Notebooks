{
 "cells": [
  {
   "cell_type": "code",
   "execution_count": 1,
   "metadata": {
    "collapsed": false
   },
   "outputs": [],
   "source": [
    "from sympy import *\n",
    "# from mpmath import *\n",
    "import numpy as np\n",
    "\n",
    "x, y, z, t, k = symbols('x y z t k')"
   ]
  },
  {
   "cell_type": "code",
   "execution_count": 2,
   "metadata": {
    "collapsed": false
   },
   "outputs": [],
   "source": [
    "def f(x):\n",
    "    return 1/x**2"
   ]
  },
  {
   "cell_type": "code",
   "execution_count": 68,
   "metadata": {
    "collapsed": true,
    "run_control": {
     "marked": false
    }
   },
   "outputs": [],
   "source": [
    "def partial_sum(f, n):\n",
    "    sum = 0\n",
    "    for i in range(n):\n",
    "        sum += f(i+1)\n",
    "    return sum"
   ]
  },
  {
   "cell_type": "code",
   "execution_count": 82,
   "metadata": {
    "collapsed": false
   },
   "outputs": [
    {
     "name": "stdout",
     "output_type": "stream",
     "text": [
      "n = 1        s(1) = 1.0000000000\n",
      "n = 5        s(5) = 1.4636111111\n",
      "n = 10       s(10) = 1.5497677312\n",
      "n = 15       s(15) = 1.5804402834\n",
      "n = 20       s(20) = 1.5961632439\n",
      "n = 25       s(25) = 1.6057234036\n",
      "n = 30       s(30) = 1.6121501176\n",
      "n = 50       s(50) = 1.6251327336\n",
      "n = 100      s(100) = 1.6349839002\n",
      "n = 500      s(500) = 1.6429360655\n",
      "n = 1000     s(1000) = 1.6439345667\n",
      "n = 10000    s(10000) = 1.6448340718\n"
     ]
    }
   ],
   "source": [
    "values = [[n, partial_sum(f,n)] for n in [1, 5, 10, 15, 20, 25, 30, 50, 100, 500, 1000,10000]]\n",
    "for v in values:\n",
    "    print('n = {0:<8} s({0}) = {1:.10f}'.format(v[0], v[1]))"
   ]
  },
  {
   "cell_type": "code",
   "execution_count": 70,
   "metadata": {
    "collapsed": false
   },
   "outputs": [
    {
     "data": {
      "text/plain": [
       "1.6449340668482264"
      ]
     },
     "execution_count": 70,
     "metadata": {},
     "output_type": "execute_result"
    }
   ],
   "source": [
    "np.pi**2/6.0"
   ]
  },
  {
   "cell_type": "markdown",
   "metadata": {},
   "source": [
    "## The integral test approximation formula\n",
    "\n",
    "### The integral test\n",
    "\n",
    "Let $\\sum_{n=1}^\\infty a_n$ be a series such that the terms $a_n$ are eventually positive and decreasing with a limit of zero. If $f(x)$ is a continuous function such that $f(n) = a_n$ (eventually), then:\n",
    "\n",
    "* if $\\int_1^\\infty f(x)\\;dx$ converges, then $\\sum_{n=1}^\\infty a_n$ converges\n",
    "* if $\\int_1^\\infty f(x)\\;dx$ diverges, then $\\sum_{n=1}^\\infty a_n$ diverges\n",
    "\n",
    "### The approximation formula\n",
    "\n",
    "Let $s_n = \\sum_{i=1}^n a_i$ be the $n$th parial sum of a convergent series $\\sum_{i=1}^\\infty a_i$. Let $s$ be the sum of the series. We then have the inequality\n",
    "\n",
    "\\begin{equation}\n",
    "    s_n + \\int_{n+1}^\\infty f(x)\\;dx \\leq s \\leq s_n + \\int_n^\\infty f(x)\\;dx\n",
    "\\end{equation}"
   ]
  },
  {
   "cell_type": "code",
   "execution_count": 28,
   "metadata": {
    "collapsed": false,
    "run_control": {
     "marked": false
    }
   },
   "outputs": [],
   "source": [
    "class error_bound():\n",
    "    def __init__(self, f, n):\n",
    "        self.f = f\n",
    "        self.n = n\n",
    "        \n",
    "    def __repr__(self):\n",
    "        return 'error_bound(lambda x: {}, {})'.format(self.f(x), self.n)\n",
    "        \n",
    "    def __str__(self):\n",
    "        best_approx = self.best_approx()\n",
    "        return  'Partial sum: {}\\n'\\\n",
    "                'Bounds on S: {}\\n'\\\n",
    "                'Best approx: {}\\n'\\\n",
    "                'Error: {}'.format(self.partial_sum().evalf(),\n",
    "                               self.bounds(), \n",
    "                               best_approx[0].evalf(), \n",
    "                               best_approx[1].evalf())\n",
    "        \n",
    "    def int_k_to_inf(self, k):\n",
    "        return integrate(self.f(x), (x,k,oo))\n",
    "    \n",
    "    def partial_sum(self):\n",
    "        sum = 0.0\n",
    "        for i in range(self.n):\n",
    "            sum += self.f(i+1)\n",
    "        return sum\n",
    "    \n",
    "    def bounds(self):\n",
    "        sn = self.partial_sum()\n",
    "        lb = self.int_k_to_inf(self.n + 1)\n",
    "        ub = self.int_k_to_inf(self.n)\n",
    "        \n",
    "        return [(sn+lb).evalf(), (sn+ub).evalf()]\n",
    "    \n",
    "    def best_approx(self):\n",
    "        sn = self.partial_sum()\n",
    "        lb = self.int_k_to_inf(self.n + 1)\n",
    "        ub = self.int_k_to_inf(self.n)\n",
    "        approx = sn + (lb + ub)/2.0\n",
    "        error = (ub - lb)/2.0\n",
    "        \n",
    "        return [approx, error]\n",
    "        "
   ]
  },
  {
   "cell_type": "code",
   "execution_count": 209,
   "metadata": {
    "collapsed": false
   },
   "outputs": [],
   "source": [
    "eb = error_bound(f, 10000)"
   ]
  },
  {
   "cell_type": "code",
   "execution_count": 210,
   "metadata": {
    "collapsed": false
   },
   "outputs": [
    {
     "name": "stdout",
     "output_type": "stream",
     "text": [
      "Partial sum: 1.6448340718480652\n",
      "Bounds on S: [1.64493406184907, 1.64493407184807]\n",
      "Best approx: 1.64493406684857\n",
      "Error: 4.99950004999500E-9\n"
     ]
    }
   ],
   "source": [
    "print(eb)"
   ]
  },
  {
   "cell_type": "code",
   "execution_count": 139,
   "metadata": {
    "collapsed": false
   },
   "outputs": [
    {
     "name": "stdout",
     "output_type": "stream",
     "text": [
      "error_bound(lambda x: x**(-2), 10000)\n"
     ]
    }
   ],
   "source": [
    "print(eb.__repr__())"
   ]
  },
  {
   "cell_type": "code",
   "execution_count": 171,
   "metadata": {
    "collapsed": false
   },
   "outputs": [],
   "source": [
    "eb2 = error_bound(lambda x: x**(-3), 1000)"
   ]
  },
  {
   "cell_type": "code",
   "execution_count": 172,
   "metadata": {
    "collapsed": false
   },
   "outputs": [
    {
     "name": "stdout",
     "output_type": "stream",
     "text": [
      "Partial sum: 1.2020564036593433\n",
      "Bounds on S: [1.20205690266084, 1.20205690365934]\n",
      "Best approx: 1.20205690316009\n",
      "Error: 4.99250998751498E-10\n"
     ]
    }
   ],
   "source": [
    "print(eb2)"
   ]
  },
  {
   "cell_type": "code",
   "execution_count": 174,
   "metadata": {
    "collapsed": false
   },
   "outputs": [
    {
     "name": "stdout",
     "output_type": "stream",
     "text": [
      "error_bound(lambda x: x**(-3), 1000)\n"
     ]
    }
   ],
   "source": [
    "print(eb2.__repr__())"
   ]
  },
  {
   "cell_type": "code",
   "execution_count": 179,
   "metadata": {
    "collapsed": false
   },
   "outputs": [
    {
     "data": {
      "text/plain": [
       "[1.20205690266084, 1.20205690365934]"
      ]
     },
     "execution_count": 179,
     "metadata": {},
     "output_type": "execute_result"
    }
   ],
   "source": [
    "eb2.bounds()"
   ]
  },
  {
   "cell_type": "code",
   "execution_count": 180,
   "metadata": {
    "collapsed": false
   },
   "outputs": [
    {
     "data": {
      "text/plain": [
       "[1.20205690316009, 4.99250998751498e-10]"
      ]
     },
     "execution_count": 180,
     "metadata": {},
     "output_type": "execute_result"
    }
   ],
   "source": [
    "eb2.best_approx()"
   ]
  },
  {
   "cell_type": "code",
   "execution_count": 178,
   "metadata": {
    "collapsed": false
   },
   "outputs": [
    {
     "name": "stdout",
     "output_type": "stream",
     "text": [
      "n = 5        best approx of s(5) : [1.20260648148148, 0.00305555555555556]\n",
      "n = 10       best approx of s(10) : [1.20209810137667, 0.000433884297520661]\n",
      "n = 20       best approx of s(20) : [1.20205973538247, 5.81065759637188e-5]\n",
      "n = 50       best approx of s(50) : [1.20205698004305, 3.88312187620146e-6]\n",
      "n = 100      best approx of s(100) : [1.20205690806091, 4.92598764826978e-7]\n",
      "n = 200      best approx of s(200) : [1.20205690346899, 6.20343555852578e-8]\n",
      "n = 400      best approx of s(400) : [1.20205690317903, 7.78330047698708e-9]\n",
      "n = 800      best approx of s(800) : [1.20205690316081, 9.74734492309083e-10]\n"
     ]
    }
   ],
   "source": [
    "for n in [5, 10, 20, 50, 100, 200, 400, 800]:\n",
    "    eb = error_bound(lambda x: 1/x**3, n)\n",
    "    print ('n = {0:<8} best approx of s({0}) : {1}'.format(n, eb.best_approx()))"
   ]
  },
  {
   "cell_type": "code",
   "execution_count": 32,
   "metadata": {
    "collapsed": true
   },
   "outputs": [],
   "source": [
    "eb3 = error_bound(lambda x: 1/x**3, 4)"
   ]
  },
  {
   "cell_type": "code",
   "execution_count": 37,
   "metadata": {
    "collapsed": false
   },
   "outputs": [
    {
     "name": "stdout",
     "output_type": "stream",
     "text": [
      "1.177662037037037\n"
     ]
    }
   ],
   "source": [
    "print(eb3.partial_sum())"
   ]
  },
  {
   "cell_type": "code",
   "execution_count": 44,
   "metadata": {
    "collapsed": false
   },
   "outputs": [
    {
     "name": "stdout",
     "output_type": "stream",
     "text": [
      "lb: 1.197662037037037, ub: 1.208912037037037\n",
      "sm: 1.203287037037037\n",
      "error: 0.005624999999999991\n"
     ]
    }
   ],
   "source": [
    "s4=sum([1/(n+1)**3 for n in range(4)])\n",
    "lb = s4 + 1/50\n",
    "ub = s4 + 1/32\n",
    "sm = (lb + ub) / 2\n",
    "\n",
    "print(\"lb: {}, ub: {}\".format(s4 + 1/50, s4 + 1/32))\n",
    "print(\"sm: {}\".format(sm))\n",
    "print(\"error: {}\".format(ub - sm))"
   ]
  },
  {
   "cell_type": "code",
   "execution_count": 48,
   "metadata": {
    "collapsed": false
   },
   "outputs": [],
   "source": [
    "eb4 = error_bound(lambda x: x/exp(x), 10)"
   ]
  },
  {
   "cell_type": "code",
   "execution_count": 49,
   "metadata": {
    "collapsed": false
   },
   "outputs": [
    {
     "name": "stdout",
     "output_type": "stream",
     "text": [
      "Partial sum: 0.920367578675128\n",
      "Bounds on S: [0.920567999084611, 0.920866977902516]\n",
      "Best approx: 0.920717488493564\n",
      "Error: 0.000149489408952193\n"
     ]
    }
   ],
   "source": [
    "print(eb4)"
   ]
  },
  {
   "cell_type": "code",
   "execution_count": 36,
   "metadata": {
    "collapsed": false
   },
   "outputs": [
    {
     "name": "stdout",
     "output_type": "stream",
     "text": [
      "<class '__main__.error_bound'>\n"
     ]
    }
   ],
   "source": [
    "print(type(eb4))"
   ]
  },
  {
   "cell_type": "code",
   "execution_count": 47,
   "metadata": {
    "collapsed": false
   },
   "outputs": [
    {
     "name": "stdout",
     "output_type": "stream",
     "text": [
      "lb: 0.901601450297709, ub: 0.952751962746867\n",
      "sm: 0.927176706522288, error: 0.0255752562245791\n"
     ]
    }
   ],
   "source": [
    "s4 = sum([k/exp(k) for k in [1,2,3,4]]).evalf()\n",
    "lb = s4 + 6/exp(5)\n",
    "ub = s4 + 5/exp(4)\n",
    "sm = (lb + ub) / 2\n",
    "error = ub - sm\n",
    "\n",
    "print(\"lb: {}, ub: {}\".format(lb.evalf(), ub.evalf()))\n",
    "print(\"sm: {}, error: {}\".format(sm.evalf(), error.evalf()))"
   ]
  },
  {
   "cell_type": "code",
   "execution_count": null,
   "metadata": {
    "collapsed": true
   },
   "outputs": [],
   "source": []
  }
 ],
 "metadata": {
  "anaconda-cloud": {},
  "hide_input": false,
  "kernelspec": {
   "display_name": "Python [default]",
   "language": "python",
   "name": "python3"
  },
  "language_info": {
   "codemirror_mode": {
    "name": "ipython",
    "version": 3
   },
   "file_extension": ".py",
   "mimetype": "text/x-python",
   "name": "python",
   "nbconvert_exporter": "python",
   "pygments_lexer": "ipython3",
   "version": "3.5.2"
  },
  "latex_envs": {
   "bibliofile": "biblio.bib",
   "cite_by": "apalike",
   "current_citInitial": 1,
   "eqLabelWithNumbers": true,
   "eqNumInitial": 0
  }
 },
 "nbformat": 4,
 "nbformat_minor": 0
}
