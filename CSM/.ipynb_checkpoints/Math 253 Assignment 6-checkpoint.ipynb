{
 "cells": [
  {
   "cell_type": "code",
   "execution_count": 1,
   "metadata": {
    "collapsed": false,
    "deletable": true,
    "editable": true,
    "slideshow": {
     "slide_type": "skip"
    }
   },
   "outputs": [
    {
     "name": "stdout",
     "output_type": "stream",
     "text": [
      "IPython console for SymPy 0.7.6 (Python 2.7.8-64-bit) (ground types: python)\n",
      "\n",
      "These commands were executed:\n",
      ">>> from __future__ import division\n",
      ">>> from sympy import *\n",
      ">>> x, y, z, t = symbols('x y z t')\n",
      ">>> k, m, n = symbols('k m n', integer=True)\n",
      ">>> f, g, h = symbols('f g h', cls=Function)\n",
      ">>> init_printing()\n",
      "\n",
      "Documentation can be found at http://www.sympy.org\n"
     ]
    }
   ],
   "source": [
    "from sympy import init_session\n",
    "init_session()\n",
    "from IPython.display import display"
   ]
  },
  {
   "cell_type": "code",
   "execution_count": 23,
   "metadata": {
    "collapsed": true,
    "deletable": true,
    "editable": true,
    "slideshow": {
     "slide_type": "skip"
    }
   },
   "outputs": [],
   "source": [
    "from sympy.physics.vector import ReferenceFrame,curl,divergence,gradient,scalar_potential,vector,cross,dot\n",
    "R = ReferenceFrame('R')"
   ]
  },
  {
   "cell_type": "code",
   "execution_count": 16,
   "metadata": {
    "collapsed": false,
    "deletable": true,
    "editable": true,
    "slideshow": {
     "slide_type": "slide"
    }
   },
   "outputs": [],
   "source": [
    "r = (S(3)/5 * (1-cos(t)))*R.x + sin(t)*R.y + (S(4)/5 * cos(t))*R.z"
   ]
  },
  {
   "cell_type": "code",
   "execution_count": 18,
   "metadata": {
    "collapsed": false,
    "deletable": true,
    "editable": true,
    "slideshow": {
     "slide_type": "slide"
    }
   },
   "outputs": [
    {
     "data": {
      "image/png": "[encoded data removed]",
      "text/latex": [
       "$$\\frac{3 \\operatorname{sin}\\left(t\\right)}{5}\\mathbf{\\hat{r}_x} + \\operatorname{cos}\\left(t\\right)\\mathbf{\\hat{r}_y} -  \\frac{4 \\operatorname{sin}\\left(t\\right)}{5}\\mathbf{\\hat{r}_z}$$"
      ],
      "text/plain": [
       "3⋅sin(t)\n",
       "────────\n",
       "   5     r_x + cos(t) r_y - 4⋅sin(t) \n",
       "──────────\n",
       "    5      r_z"
      ]
     },
     "metadata": {},
     "output_type": "display_data"
    }
   ],
   "source": [
    "rp = r.diff(t,R)\n",
    "display(rp)"
   ]
  },
  {
   "cell_type": "code",
   "execution_count": 19,
   "metadata": {
    "collapsed": false,
    "deletable": true,
    "editable": true,
    "slideshow": {
     "slide_type": "slide"
    }
   },
   "outputs": [
    {
     "data": {
      "image/png": "[encoded data removed]",
      "text/latex": [
       "$$\\frac{3 \\operatorname{cos}\\left(t\\right)}{5}\\mathbf{\\hat{r}_x} -  \\operatorname{sin}\\left(t\\right)\\mathbf{\\hat{r}_y} -  \\frac{4 \\operatorname{cos}\\left(t\\right)}{5}\\mathbf{\\hat{r}_z}$$"
      ],
      "text/plain": [
       "3⋅cos(t)\n",
       "────────\n",
       "   5     r_x - sin(t) r_y - 4⋅cos(t) \n",
       "──────────\n",
       "    5      r_z"
      ]
     },
     "metadata": {},
     "output_type": "display_data"
    }
   ],
   "source": [
    "rpp = rp.diff(t,R)\n",
    "display(rpp)"
   ]
  },
  {
   "cell_type": "code",
   "execution_count": 21,
   "metadata": {
    "collapsed": false,
    "deletable": true,
    "editable": true,
    "slideshow": {
     "slide_type": "slide"
    }
   },
   "outputs": [
    {
     "data": {
      "image/png": "[encoded data removed]",
      "text/latex": [
       "$$1$$"
      ],
      "text/plain": [
       "1"
      ]
     },
     "metadata": {},
     "output_type": "display_data"
    }
   ],
   "source": [
    "norm_rp = simplify(rp.magnitude())\n",
    "display(norm_rp)"
   ]
  },
  {
   "cell_type": "code",
   "execution_count": 27,
   "metadata": {
    "collapsed": false,
    "deletable": true,
    "editable": true,
    "slideshow": {
     "slide_type": "slide"
    }
   },
   "outputs": [
    {
     "data": {
      "image/png": "[encoded data removed]",
      "text/latex": [
       "$$-  \\frac{4}{5}\\mathbf{\\hat{r}_x} -  \\frac{3}{5}\\mathbf{\\hat{r}_z}$$"
      ],
      "text/plain": [
       "- 4/5 r_x - 3/5 r_z"
      ]
     },
     "metadata": {},
     "output_type": "display_data"
    }
   ],
   "source": [
    "rp_cross_rpp = cross(rp,rpp).simplify()\n",
    "display(rp_cross_rpp)"
   ]
  },
  {
   "cell_type": "code",
   "execution_count": 28,
   "metadata": {
    "collapsed": false,
    "deletable": true,
    "editable": true,
    "slideshow": {
     "slide_type": "slide"
    }
   },
   "outputs": [
    {
     "data": {
      "image/png": "[encoded data removed]",
      "text/latex": [
       "$$1$$"
      ],
      "text/plain": [
       "1"
      ]
     },
     "metadata": {},
     "output_type": "display_data"
    }
   ],
   "source": [
    "norm_rp_cross_rpp = simplify(rp_cross_rpp.magnitude())\n",
    "display(norm_rp_cross_rpp)"
   ]
  },
  {
   "cell_type": "code",
   "execution_count": 30,
   "metadata": {
    "collapsed": false,
    "deletable": true,
    "editable": true,
    "slideshow": {
     "slide_type": "slide"
    }
   },
   "outputs": [
    {
     "data": {
      "image/png": "[encoded data removed]",
      "text/latex": [
       "$$1$$"
      ],
      "text/plain": [
       "1"
      ]
     },
     "metadata": {},
     "output_type": "display_data"
    }
   ],
   "source": [
    "kappa = norm_rp_cross_rpp/norm_rp**2\n",
    "display(kappa)"
   ]
  },
  {
   "cell_type": "code",
   "execution_count": 34,
   "metadata": {
    "collapsed": false,
    "deletable": true,
    "editable": true,
    "slideshow": {
     "slide_type": "slide"
    }
   },
   "outputs": [
    {
     "name": "stdout",
     "output_type": "stream",
     "text": [
      "1 0\n"
     ]
    }
   ],
   "source": [
    "aN = kappa*norm_rp**2\n",
    "aT = diff(norm_rp, t)\n",
    "print aN, aT"
   ]
  },
  {
   "cell_type": "code",
   "execution_count": 35,
   "metadata": {
    "collapsed": false,
    "deletable": true,
    "editable": true,
    "slideshow": {
     "slide_type": "slide"
    }
   },
   "outputs": [
    {
     "data": {
      "image/png": "[encoded data removed]",
      "text/latex": [
       "$$\\operatorname{cos}\\left(t\\right)\\mathbf{\\hat{r}_x} + \\operatorname{sin}\\left(t\\right)\\mathbf{\\hat{r}_y} + t\\mathbf{\\hat{r}_z}$$"
      ],
      "text/plain": [
       "cos(t) r_x + sin(t) r_y + t r_z"
      ]
     },
     "metadata": {},
     "output_type": "display_data"
    }
   ],
   "source": [
    "r = cos(t)*R.x + sin(t)*R.y + t*R.z\n",
    "display(r)"
   ]
  },
  {
   "cell_type": "code",
   "execution_count": 37,
   "metadata": {
    "collapsed": false,
    "deletable": true,
    "editable": true,
    "slideshow": {
     "slide_type": "subslide"
    }
   },
   "outputs": [
    {
     "data": {
      "image/png": "[encoded data removed]",
      "text/latex": [
       "$$-  \\operatorname{sin}\\left(t\\right)\\mathbf{\\hat{r}_x} + \\operatorname{cos}\\left(t\\right)\\mathbf{\\hat{r}_y} + \\mathbf{\\hat{r}_z}$$"
      ],
      "text/plain": [
       "- sin(t) r_x + cos(t) r_y + r_z"
      ]
     },
     "metadata": {},
     "output_type": "display_data"
    }
   ],
   "source": [
    "rp = r.diff(t,R).simplify()\n",
    "display(rp)"
   ]
  },
  {
   "cell_type": "code",
   "execution_count": 39,
   "metadata": {
    "collapsed": false,
    "deletable": true,
    "editable": true,
    "slideshow": {
     "slide_type": "subslide"
    }
   },
   "outputs": [
    {
     "data": {
      "image/png": "[encoded data removed]",
      "text/latex": [
       "$$-  \\frac{\\sqrt{2} \\operatorname{sin}\\left(t\\right)}{2}\\mathbf{\\hat{r}_x} + \\frac{\\sqrt{2} \\operatorname{cos}\\left(t\\right)}{2}\\mathbf{\\hat{r}_y} + \\frac{\\sqrt{2}}{2}\\mathbf{\\hat{r}_z}$$"
      ],
      "text/plain": [
       "   ___        \n",
       "-╲╱ 2 ⋅sin(t) \n",
       "──────────────\n",
       "      2        r_x +   ___       \n",
       "╲╱ 2 ⋅cos(t)\n",
       "────────────\n",
       "     2       r_y +   ___\n",
       "╲╱ 2 \n",
       "─────\n",
       "  2   r_z"
      ]
     },
     "metadata": {},
     "output_type": "display_data"
    }
   ],
   "source": [
    "T = rp.normalize().simplify()\n",
    "display(T)"
   ]
  },
  {
   "cell_type": "code",
   "execution_count": 45,
   "metadata": {
    "collapsed": false,
    "deletable": true,
    "editable": true,
    "slideshow": {
     "slide_type": "slide"
    }
   },
   "outputs": [
    {
     "data": {
      "image/png": "[encoded data removed]",
      "text/latex": [
       "$$-  \\operatorname{cos}\\left(t\\right)\\mathbf{\\hat{r}_x} -  \\operatorname{sin}\\left(t\\right)\\mathbf{\\hat{r}_y}$$"
      ],
      "text/plain": [
       "- cos(t) r_x - sin(t) r_y"
      ]
     },
     "metadata": {},
     "output_type": "display_data"
    }
   ],
   "source": [
    "Tp = T.diff(t,R)\n",
    "N = Tp.normalize().simplify()\n",
    "display(N)"
   ]
  },
  {
   "cell_type": "code",
   "execution_count": 47,
   "metadata": {
    "collapsed": false,
    "deletable": true,
    "editable": true,
    "slideshow": {
     "slide_type": "slide"
    }
   },
   "outputs": [
    {
     "data": {
      "image/png": "[encoded data removed]",
      "text/latex": [
       "$$\\frac{\\sqrt{2} \\operatorname{sin}\\left(t\\right)}{2}\\mathbf{\\hat{r}_x} -  \\frac{\\sqrt{2} \\operatorname{cos}\\left(t\\right)}{2}\\mathbf{\\hat{r}_y} + \\frac{\\sqrt{2}}{2}\\mathbf{\\hat{r}_z}$$"
      ],
      "text/plain": [
       "  ___       \n",
       "╲╱ 2 ⋅sin(t)\n",
       "────────────\n",
       "     2       r_x +    ___        \n",
       "-╲╱ 2 ⋅cos(t) \n",
       "──────────────\n",
       "      2        r_y +   ___\n",
       "╲╱ 2 \n",
       "─────\n",
       "  2   r_z"
      ]
     },
     "metadata": {},
     "output_type": "display_data"
    }
   ],
   "source": [
    "B = cross(T,N).simplify()\n",
    "display(B)"
   ]
  },
  {
   "cell_type": "code",
   "execution_count": 49,
   "metadata": {
    "collapsed": false,
    "deletable": true,
    "editable": true,
    "slideshow": {
     "slide_type": "slide"
    }
   },
   "outputs": [
    {
     "data": {
      "image/png": "[encoded data removed]",
      "text/latex": [
       "$$\\frac{\\sqrt{2}}{2}\\mathbf{\\hat{r}_x} + \\frac{\\sqrt{2}}{2}\\mathbf{\\hat{r}_z}$$"
      ],
      "text/plain": [
       "  ___\n",
       "╲╱ 2 \n",
       "─────\n",
       "  2   r_x +   ___\n",
       "╲╱ 2 \n",
       "─────\n",
       "  2   r_z"
      ]
     },
     "metadata": {},
     "output_type": "display_data"
    },
    {
     "data": {
      "image/png": "[encoded data removed]",
      "text/latex": [
       "$$\\mathbf{\\hat{r}_y}$$"
      ],
      "text/plain": [
       "r_y"
      ]
     },
     "metadata": {},
     "output_type": "display_data"
    },
    {
     "data": {
      "image/png": "[encoded data removed]",
      "text/latex": [
       "$$-  \\frac{\\sqrt{2}}{2}\\mathbf{\\hat{r}_x} + \\frac{\\sqrt{2}}{2}\\mathbf{\\hat{r}_z}$$"
      ],
      "text/plain": [
       "   ___ \n",
       "-╲╱ 2  \n",
       "───────\n",
       "   2    r_x +   ___\n",
       "╲╱ 2 \n",
       "─────\n",
       "  2   r_z"
      ]
     },
     "metadata": {},
     "output_type": "display_data"
    }
   ],
   "source": [
    "display(T.subs(t,3*pi/S(2)))\n",
    "display(N.subs(t,3*pi/S(2)))\n",
    "display(B.subs(t,3*pi/S(2)))"
   ]
  },
  {
   "cell_type": "code",
   "execution_count": 51,
   "metadata": {
    "collapsed": false,
    "deletable": true,
    "editable": true,
    "slideshow": {
     "slide_type": "subslide"
    }
   },
   "outputs": [
    {
     "data": {
      "image/png": "[encoded data removed]",
      "text/latex": [
       "$$- \\frac{\\sqrt{2} x}{2} + \\frac{\\sqrt{2}}{2} \\left(z - \\frac{3 \\pi}{2}\\right)$$"
      ],
      "text/plain": [
       "              ___ ⎛    3⋅π⎞\n",
       "    ___     ╲╱ 2 ⋅⎜z - ───⎟\n",
       "  ╲╱ 2 ⋅x         ⎝     2 ⎠\n",
       "- ─────── + ───────────────\n",
       "     2             2       "
      ]
     },
     "execution_count": 51,
     "metadata": {},
     "output_type": "execute_result"
    }
   ],
   "source": [
    "dot((x*R.x + y*R.y + z*R.z)-(r.subs(t,3*pi/S(2))), B.subs(t,3*pi/S(2)))"
   ]
  },
  {
   "cell_type": "code",
   "execution_count": null,
   "metadata": {
    "collapsed": true,
    "deletable": true,
    "editable": true
   },
   "outputs": [],
   "source": []
  }
 ],
 "metadata": {
  "hide_input": false,
  "kernelspec": {
   "display_name": "Python 2",
   "language": "python",
   "name": "python2"
  },
  "language_info": {
   "codemirror_mode": {
    "name": "ipython",
    "version": 3
   },
   "file_extension": ".py",
   "mimetype": "text/x-python",
   "name": "python",
   "nbconvert_exporter": "python",
   "pygments_lexer": "ipython3",
   "version": "3.5.2"
  },
  "latex_envs": {
   "bibliofile": "biblio.bib",
   "cite_by": "apalike",
   "current_citInitial": 1,
   "eqLabelWithNumbers": true,
   "eqNumInitial": 0
  }
 },
 "nbformat": 4,
 "nbformat_minor": 0
}
