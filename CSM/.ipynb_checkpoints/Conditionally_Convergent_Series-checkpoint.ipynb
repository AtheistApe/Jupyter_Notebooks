{
 "cells": [
  {
   "cell_type": "markdown",
   "metadata": {},
   "source": [
    "# Conditionally Convergent Series\n",
    "\n",
    "A series $\\sum_{n=1}^\\infty a_n$ is conditionally convergent if it is convergent but not absolutely convergent (i.e. $\\sum_{n=1}^\\infty |a_n|$ does NOT converge)\n",
    "\n",
    "If a series is absolutely convergent, then any rearrangement of its terms will converge to the same sum. However, if a series is conditionally convergent some arrangements of its terms might converge to different values. In fact, for ANY real number $r$, there is a rearrangement of the terms of a conditionally convergent series that will converge to $r$."
   ]
  },
  {
   "cell_type": "code",
   "execution_count": 2,
   "metadata": {},
   "outputs": [],
   "source": [
    "import sympy as sy\n",
    "import numpy as np\n",
    "import math\n",
    "\n",
    "import matplotlib.pyplot as plt\n",
    "%matplotlib inline\n",
    "\n",
    "x, y, z, t = sy.symbols('x y z t')"
   ]
  },
  {
   "cell_type": "markdown",
   "metadata": {},
   "source": [
    "### The Alternating Harmonic Series\n",
    "\n",
    "The alternating harmonic series $\\sum_{n=1}^\\infty (-1)^{n-1}\\frac{1}{n}$ is a conditionally convergent series and, therefore, converges to some number $S$:\n",
    "\n",
    "\\begin{alignat*}{6}\n",
    "S &= 1 &- \\frac{1}{2} + \\frac{1}{3} &- \\frac{1}{4} + \\frac{1}{5} &- \\frac{1}{6} + \\frac{1}{7} &- \\frac{1}{8} + \\frac{1}{9} &- \\frac{1}{10} + \\cdots\\\\\n",
    "\\frac{1}{2}S &= &+ \\frac{1}{2} &- \\frac{1}{4} &+ \\frac{1}{6} &- \\frac{1}{8} &+ \\frac{1}{10}\n",
    "\\end{alignat*}"
   ]
  },
  {
   "cell_type": "code",
   "execution_count": 3,
   "metadata": {
    "run_control": {
     "marked": false
    }
   },
   "outputs": [],
   "source": [
    "def a1(n, exact = True):\n",
    "    if exact:\n",
    "        return (-1)**(n-1) * sy.S(1)/n\n",
    "    else:\n",
    "        return (-1)**(n-1) * 1.0/n\n",
    "\n",
    "def sum1(n, exact = False):\n",
    "#     return sum([a1(k+1) for k in range(n)])\n",
    "    sum = 0\n",
    "    for k in range(n):\n",
    "        sum += a1(k+1, exact)\n",
    "        \n",
    "    return sum"
   ]
  },
  {
   "cell_type": "code",
   "execution_count": 4,
   "metadata": {},
   "outputs": [],
   "source": [
    "def a2(n, exact = True):\n",
    "    if n%3 == 0:\n",
    "        if exact:\n",
    "            return -1 * sy.S(3)/(2*n)\n",
    "        else:\n",
    "            return -1 * 3.0/(2*n)\n",
    "    \n",
    "    if n%3 == 1:\n",
    "        if exact:\n",
    "            return sy.S(3)/(4*n-1)\n",
    "        else:\n",
    "            return 3.0/(4*n-1)\n",
    "\n",
    "    if n%3 == 2:\n",
    "        if exact:\n",
    "            return sy.S(3)/(4*n+1)\n",
    "        else:\n",
    "            return 3.0/(4*n+1)\n",
    "    \n",
    "def sum2(n, exact = False):\n",
    "#     return sum(a2(k+1) for k in range(n))\n",
    "    sum = 0\n",
    "    for k in range(n):\n",
    "        sum += a2(k+1, exact)\n",
    "        \n",
    "    return sum"
   ]
  },
  {
   "cell_type": "code",
   "execution_count": 5,
   "metadata": {},
   "outputs": [
    {
     "name": "stdout",
     "output_type": "stream",
     "text": [
      "1, -1/2, 1/3, -1/4, 1/5, -1/6, 1/7, -1/8, 1/9, -1/10, 1/11, -1/12, 1/13, -1/14, 1/15, -1/16, 1/17, -1/18, 1/19, -1/20, 1/21, -1/22, 1/23, -1/24, 1/25, -1/26, 1/27, -1/28, 1/29, -1/30, \n",
      "\n",
      "0.6931421805849816\n"
     ]
    }
   ],
   "source": [
    "for i in range(30):\n",
    "    print(\"{}\".format(a1(i+1)), end=\", \")\n",
    "    \n",
    "print(\"\\n\")\n",
    "s1 = sum1(100000)\n",
    "\n",
    "print(s1)"
   ]
  },
  {
   "cell_type": "code",
   "execution_count": 6,
   "metadata": {},
   "outputs": [
    {
     "name": "stdout",
     "output_type": "stream",
     "text": [
      "1, 1/3, -1/2, 1/5, 1/7, -1/4, 1/9, 1/11, -1/6, 1/13, 1/15, -1/8, 1/17, 1/19, -1/10, 1/21, 1/23, -1/12, 1/25, 1/27, -1/14, 1/29, 1/31, -1/16, 1/33, 1/35, -1/18, 1/37, 1/39, -1/20, \n",
      "\n",
      "1.0397207708258436\n"
     ]
    }
   ],
   "source": [
    "for i in range(30):\n",
    "    print(a2(i+1, True), end=\", \")\n",
    "    \n",
    "print(\"\\n\")\n",
    "    \n",
    "s2 = sum2(100000)\n",
    "print(s2)"
   ]
  },
  {
   "cell_type": "code",
   "execution_count": 7,
   "metadata": {},
   "outputs": [
    {
     "name": "stdout",
     "output_type": "stream",
     "text": [
      "1.500010820216373\n"
     ]
    }
   ],
   "source": [
    "print(s2/s1)"
   ]
  },
  {
   "cell_type": "code",
   "execution_count": 8,
   "metadata": {},
   "outputs": [],
   "source": [
    "def lincolor(color1, color2, n):\n",
    "    c_red = np.linspace(color1[0], color2[0], n)\n",
    "    c_green = np.linspace(color1[1], color2[1], n)\n",
    "    c_blue = np.linspace(color1[2], color2[2], n)\n",
    "    c_alpha = np.linspace(color1[3], color2[3], n)\n",
    "    \n",
    "    return list(zip(c_red, c_green, c_blue, c_alpha))"
   ]
  },
  {
   "cell_type": "code",
   "execution_count": 9,
   "metadata": {},
   "outputs": [],
   "source": [
    "def plt_pts(pts_list, color1, color2, size1, size2):\n",
    "    \n",
    "    xcoords = pts_list[0]\n",
    "    ycoords = pts_list[1]\n",
    "    \n",
    "    num_pts = len(xcoords)\n",
    "    \n",
    "    pt_colors = lincolor(color1, color2, num_pts)\n",
    "    pt_size = np.linspace(size1, size2, num_pts)\n",
    "    \n",
    "    for k in range(num_pts):\n",
    "        plt.plot(xcoords[k], ycoords[k], marker='o', color=pt_colors[k], markersize=pt_size[k])\n",
    "        "
   ]
  },
  {
   "cell_type": "code",
   "execution_count": 10,
   "metadata": {},
   "outputs": [],
   "source": [
    "def pow_series(a, b, npts, nterms, color1, color2, size1, size2):\n",
    "    fig, ax = plt.subplots()\n",
    "    x_coords = np.linspace(a, b, npts)\n",
    "    for x in x_coords:\n",
    "        plt_pts(psum_points(x, nterms), color1, color2, size1, size2)\n",
    "        \n",
    "    return fig, ax\n",
    "    "
   ]
  },
  {
   "cell_type": "code",
   "execution_count": 27,
   "metadata": {},
   "outputs": [],
   "source": [
    "def a(x, n):\n",
    "#     return (x - 3)**n / n\n",
    "#     return n*(x+2)**n / 3**(n+1)\n",
    "    return (-1)**n * x**(2*n) / (2**(2*n) * (math.factorial(n))**2) # Bessel function\n",
    "#     return x**(n-1)\n",
    "#     return (-1)**n * x**(2*n + 1) / (2*n + 1)\n",
    "#     return x**n / math.factorial(n)\n",
    "#     return (-1)**n * x**(2*n+1) / (2*(n+1) * math.factorial(n))\n",
    "#     return (-1)**n * n * 3**n * x**n\n",
    "\n",
    "def s(x, n):\n",
    "    sum = 0\n",
    "    for k in range(1,n):\n",
    "        sum += a(x, k)\n",
    "        \n",
    "    return sum\n",
    "\n",
    "def psum_points(x, n):\n",
    "    xcoord = [x] * n\n",
    "    ycoord = [s(x, k+1) for k in range(n)]\n",
    "    \n",
    "    return (xcoord, ycoord)\n",
    "    \n"
   ]
  },
  {
   "cell_type": "code",
   "execution_count": 28,
   "metadata": {},
   "outputs": [
    {
     "data": {
      "text/plain": [
       "(-2, 0)"
      ]
     },
     "execution_count": 28,
     "metadata": {},
     "output_type": "execute_result"
    },
    {
     "data": {
      "image/png": "[encoded data removed]",
      "text/plain": [
       "<Figure size 432x288 with 1 Axes>"
      ]
     },
     "metadata": {
      "needs_background": "light"
     },
     "output_type": "display_data"
    }
   ],
   "source": [
    "fig, ax = pow_series(-10, 0, 50, 20, (1,0,0,0.1), (0,0,1,1), 8, 2)\n",
    "ax.set_ylim(-2, 0)\n",
    "# x = np.arange(1.5, 0.2, 4.5)\n",
    "# plt.plot(x, 1/(1-x))\n",
    "# plt.plot(x, np.arctan(x))\n",
    "# plt.plot(x, np.exp(x))"
   ]
  },
  {
   "cell_type": "code",
   "execution_count": 31,
   "metadata": {},
   "outputs": [],
   "source": [
    "def sum_to(x):\n",
    "    psum = 0\n",
    "    n = 1\n",
    "    while abs(psum-x) > 0.001:\n",
    "        while psum < x:\n",
    "            psum += 1/(2*n-1)\n",
    "            n += 1\n",
    "            \n",
    "        m = n\n",
    "        print(\"n: {},\\tpsum: {}\".format(n, psum))\n",
    "        n = 1\n",
    "        while psum > x:\n",
    "            psum -= 1/(2*n)\n",
    "            n += 1\n",
    "        print(\"n: {},\\tpsum: {}\".format(n, psum))\n",
    "            "
   ]
  },
  {
   "cell_type": "code",
   "execution_count": 38,
   "metadata": {},
   "outputs": [
    {
     "data": {
      "text/plain": [
       "3.0032870588120657"
      ]
     },
     "execution_count": 38,
     "metadata": {},
     "output_type": "execute_result"
    }
   ],
   "source": [
    "sum([1/(2*n-1) for n in range(1,58)])"
   ]
  },
  {
   "cell_type": "code",
   "execution_count": 155,
   "metadata": {},
   "outputs": [],
   "source": [
    "class PartialSum:\n",
    "    ''\n",
    "    def __init__(self, an, psum=0, n=1):\n",
    "        self.an = an\n",
    "        self.psum = psum\n",
    "        self.n = n\n",
    "                \n",
    "    def addnext(self):\n",
    "        self.psum += self.an(self.n)\n",
    "        self.n += 1\n",
    "        self.dispsum()\n",
    "\n",
    "    def dispsum(self):\n",
    "        print (\"n : \", self.n,  \", psum: \", self.psum)"
   ]
  },
  {
   "cell_type": "code",
   "execution_count": 158,
   "metadata": {},
   "outputs": [],
   "source": [
    "p1=PartialSum(lambda n: -1/(2*n))\n",
    "p2=PartialSum(lambda n: 1/(2*n-1))"
   ]
  },
  {
   "cell_type": "code",
   "execution_count": 159,
   "metadata": {},
   "outputs": [
    {
     "name": "stdout",
     "output_type": "stream",
     "text": [
      "n :  2 , psum:  1.0\n",
      "n :  3 , psum:  1.3333333333333333\n",
      "n :  2 , psum:  0.8333333333333333\n",
      "n :  3 , psum:  1.0833333333333333\n",
      "n :  4 , psum:  1.1666666666666665\n",
      "n :  5 , psum:  1.2083333333333333\n",
      "n :  6 , psum:  1.1083333333333332\n",
      "n :  7 , psum:  1.25\n",
      "n :  8 , psum:  1.1785714285714286\n",
      "n :  9 , psum:  1.2708333333333333\n",
      "n :  10 , psum:  1.2152777777777777\n",
      "n :  11 , psum:  1.1652777777777776\n",
      "n :  12 , psum:  1.2878787878787878\n",
      "n :  13 , psum:  1.246212121212121\n",
      "n :  14 , psum:  1.2077505827505826\n",
      "n :  15 , psum:  1.1720362970362967\n",
      "n :  16 , psum:  1.2999999999999998\n",
      "n :  17 , psum:  1.2687499999999998\n",
      "n :  18 , psum:  1.2393382352941176\n",
      "n :  19 , psum:  1.21156045751634\n",
      "n :  20 , psum:  1.1852446680426556\n",
      "n :  21 , psum:  1.3083333333333333\n",
      "n :  22 , psum:  1.2845238095238096\n",
      "n :  23 , psum:  1.261796536796537\n",
      "n :  24 , psum:  1.2400574063617542\n",
      "n :  25 , psum:  1.219224073028421\n",
      "n :  26 , psum:  1.199224073028421\n"
     ]
    }
   ],
   "source": [
    "mysum = 1.2\n",
    "psum = 0\n",
    "while abs(mysum - psum) > 0.001:\n",
    "    while p2.psum < mysum:\n",
    "        p2.addnext()\n",
    "    \n",
    "#     p2.dispsum()\n",
    "    p1.psum = p2.psum\n",
    "\n",
    "    while p1.psum > mysum:\n",
    "        p1.addnext()\n",
    "        \n",
    "#     p1.dispsum()\n",
    "    psum = p1.psum"
   ]
  },
  {
   "cell_type": "code",
   "execution_count": 118,
   "metadata": {},
   "outputs": [
    {
     "name": "stdout",
     "output_type": "stream",
     "text": [
      "n :  1 , psum:  0\n"
     ]
    }
   ],
   "source": [
    "p2.dispsum()"
   ]
  },
  {
   "cell_type": "code",
   "execution_count": 119,
   "metadata": {},
   "outputs": [],
   "source": [
    "p2.addnext()"
   ]
  },
  {
   "cell_type": "code",
   "execution_count": 120,
   "metadata": {},
   "outputs": [
    {
     "name": "stdout",
     "output_type": "stream",
     "text": [
      "n :  2 , psum:  1.0\n"
     ]
    }
   ],
   "source": [
    "p2.dispsum()"
   ]
  },
  {
   "cell_type": "code",
   "execution_count": 105,
   "metadata": {},
   "outputs": [
    {
     "name": "stdout",
     "output_type": "stream",
     "text": [
      "n :  2 , psum:  -0.5\n"
     ]
    }
   ],
   "source": [
    "p1.addnext()\n",
    "p1.dispsum()"
   ]
  },
  {
   "cell_type": "code",
   "execution_count": 121,
   "metadata": {},
   "outputs": [
    {
     "name": "stdout",
     "output_type": "stream",
     "text": [
      "n :  3 , psum:  1.3333333333333333\n",
      "n :  4 , psum:  1.5333333333333332\n",
      "n :  5 , psum:  1.676190476190476\n",
      "n :  6 , psum:  1.7873015873015872\n",
      "n :  7 , psum:  1.878210678210678\n",
      "n :  8 , psum:  1.9551337551337549\n",
      "n :  9 , psum:  2.0218004218004215\n",
      "n :  10 , psum:  2.080623951212186\n",
      "n :  11 , psum:  2.1332555301595546\n",
      "n :  12 , psum:  2.180874577778602\n",
      "n :  13 , psum:  2.2243528386481675\n",
      "n :  14 , psum:  2.2643528386481675\n",
      "n :  15 , psum:  2.3013898756852047\n",
      "n :  16 , psum:  2.335872634305894\n",
      "n :  17 , psum:  2.368130698822023\n",
      "n :  18 , psum:  2.3984337291250535\n",
      "n :  19 , psum:  2.427005157696482\n",
      "n :  20 , psum:  2.454032184723509\n",
      "n :  21 , psum:  2.4796732103645347\n",
      "n :  22 , psum:  2.5040634542669737\n",
      "n :  23 , psum:  2.527319268220462\n",
      "n :  24 , psum:  2.5495414904426843\n",
      "n :  25 , psum:  2.5708180861873653\n",
      "n :  26 , psum:  2.591226249452671\n",
      "n :  27 , psum:  2.610834092589926\n",
      "n :  28 , psum:  2.629702017118228\n",
      "n :  29 , psum:  2.6478838353000462\n",
      "n :  30 , psum:  2.665427694949169\n",
      "n :  31 , psum:  2.682376847491542\n",
      "n :  32 , psum:  2.6987702901144925\n",
      "n :  33 , psum:  2.7146433059875084\n",
      "n :  34 , psum:  2.7300279213721237\n",
      "n :  35 , psum:  2.744953294506452\n",
      "n :  36 , psum:  2.7594460481296403\n",
      "n :  37 , psum:  2.773530555171894\n",
      "n :  38 , psum:  2.78722918530888\n",
      "n :  39 , psum:  2.8005625186422134\n",
      "n :  40 , psum:  2.8135495316292265\n",
      "n :  41 , psum:  2.826207759477328\n",
      "n :  42 , psum:  2.8385534384896736\n",
      "n :  43 , psum:  2.850601631260758\n",
      "n :  44 , psum:  2.862366337143111\n",
      "n :  45 , psum:  2.8738605900166743\n",
      "n :  46 , psum:  2.885096545072854\n",
      "n :  47 , psum:  2.896085556061865\n",
      "n :  48 , psum:  2.906838244233908\n",
      "n :  49 , psum:  2.9173645600233815\n",
      "n :  50 , psum:  2.927673838373897\n",
      "n :  51 , psum:  2.937774848474907\n",
      "n :  52 , psum:  2.947675838573917\n"
     ]
    }
   ],
   "source": [
    "for j in range(50):\n",
    "    p2.addnext()\n",
    "    p2.dispsum()"
   ]
  },
  {
   "cell_type": "code",
   "execution_count": null,
   "metadata": {},
   "outputs": [],
   "source": []
  },
  {
   "cell_type": "code",
   "execution_count": null,
   "metadata": {},
   "outputs": [],
   "source": []
  }
 ],
 "metadata": {
  "anaconda-cloud": {},
  "hide_input": false,
  "kernelspec": {
   "display_name": "Python 3",
   "language": "python",
   "name": "python3"
  },
  "language_info": {
   "codemirror_mode": {
    "name": "ipython",
    "version": 3
   },
   "file_extension": ".py",
   "mimetype": "text/x-python",
   "name": "python",
   "nbconvert_exporter": "python",
   "pygments_lexer": "ipython3",
   "version": "3.7.0"
  },
  "latex_envs": {
   "bibliofile": "biblio.bib",
   "cite_by": "apalike",
   "current_citInitial": 1,
   "eqLabelWithNumbers": true,
   "eqNumInitial": 0
  }
 },
 "nbformat": 4,
 "nbformat_minor": 1
}
