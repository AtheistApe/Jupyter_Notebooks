{
 "cells": [
  {
   "cell_type": "code",
   "execution_count": 1,
   "metadata": {
    "collapsed": false
   },
   "outputs": [
    {
     "name": "stdout",
     "output_type": "stream",
     "text": [
      "IPython console for SymPy 0.7.6 (Python 2.7.8-64-bit) (ground types: python)\n",
      "\n",
      "These commands were executed:\n",
      ">>> from __future__ import division\n",
      ">>> from sympy import *\n",
      ">>> x, y, z, t = symbols('x y z t')\n",
      ">>> k, m, n = symbols('k m n', integer=True)\n",
      ">>> f, g, h = symbols('f g h', cls=Function)\n",
      ">>> init_printing()\n",
      "\n",
      "Documentation can be found at http://www.sympy.org\n"
     ]
    }
   ],
   "source": [
    "from sympy import init_session\n",
    "init_session()\n",
    "from IPython.display import display"
   ]
  },
  {
   "cell_type": "code",
   "execution_count": 2,
   "metadata": {
    "collapsed": true
   },
   "outputs": [],
   "source": [
    "from sympy.matrices import *"
   ]
  },
  {
   "cell_type": "code",
   "execution_count": 5,
   "metadata": {
    "collapsed": true
   },
   "outputs": [],
   "source": [
    "A = Matrix([[1, 2, 3], [-3, 1, 4], [2, 5, -2]])"
   ]
  },
  {
   "cell_type": "code",
   "execution_count": 7,
   "metadata": {
    "collapsed": false
   },
   "outputs": [
    {
     "data": {
      "image/png": "[encoded data removed]",
      "text/latex": [
       "$$\\left ( \\left[\\begin{matrix}1 & 0 & 0\\\\-3 & 1 & 0\\\\2 & \\frac{1}{7} & 1\\end{matrix}\\right], \\quad \\left[\\begin{matrix}1 & 2 & 3\\\\0 & 7 & 13\\\\0 & 0 & - \\frac{69}{7}\\end{matrix}\\right], \\quad \\left [ \\right ]\\right )$$"
      ],
      "text/plain": [
       "⎛⎡1    0   0⎤, ⎡1  2    3  ⎤, []⎞\n",
       "⎜⎢          ⎥  ⎢           ⎥    ⎟\n",
       "⎜⎢-3   1   0⎥  ⎢0  7   13  ⎥    ⎟\n",
       "⎜⎢          ⎥  ⎢           ⎥    ⎟\n",
       "⎝⎣2   1/7  1⎦  ⎣0  0  -69/7⎦    ⎠"
      ]
     },
     "metadata": {},
     "output_type": "display_data"
    },
    {
     "data": {
      "image/png": "[encoded data removed]",
      "text/latex": [
       "$$\\left[\\begin{matrix}1 & 2 & 3\\\\-3 & 1 & 4\\\\2 & 5 & -2\\end{matrix}\\right]$$"
      ],
      "text/plain": [
       "⎡1   2  3 ⎤\n",
       "⎢         ⎥\n",
       "⎢-3  1  4 ⎥\n",
       "⎢         ⎥\n",
       "⎣2   5  -2⎦"
      ]
     },
     "execution_count": 7,
     "metadata": {},
     "output_type": "execute_result"
    }
   ],
   "source": [
    "ALU=A.LUdecomposition()\n",
    "display(ALU)\n",
    "ALU[0]*ALU[1]"
   ]
  },
  {
   "cell_type": "code",
   "execution_count": 6,
   "metadata": {
    "collapsed": true
   },
   "outputs": [],
   "source": [
    "A = Matrix([[1, 1, 1],[0, 1, 1], [0, 0, 1]])"
   ]
  },
  {
   "cell_type": "code",
   "execution_count": 12,
   "metadata": {
    "collapsed": false
   },
   "outputs": [
    {
     "data": {
      "image/png": "[encoded data removed]",
      "text/latex": [
       "$$\\left[\\begin{matrix}1 & 1 & 1\\\\0 & 1 & 1\\\\0 & 0 & 1\\end{matrix}\\right]$$"
      ],
      "text/plain": [
       "⎡1  1  1⎤\n",
       "⎢       ⎥\n",
       "⎢0  1  1⎥\n",
       "⎢       ⎥\n",
       "⎣0  0  1⎦"
      ]
     },
     "metadata": {},
     "output_type": "display_data"
    },
    {
     "data": {
      "image/png": "[encoded data removed]",
      "text/latex": [
       "$$\\left [ \\left[\\begin{matrix}1 & 2 & 3\\\\0 & 1 & 2\\\\0 & 0 & 1\\end{matrix}\\right], \\quad \\left[\\begin{matrix}1 & 3 & 6\\\\0 & 1 & 3\\\\0 & 0 & 1\\end{matrix}\\right], \\quad \\left[\\begin{matrix}1 & 4 & 10\\\\0 & 1 & 4\\\\0 & 0 & 1\\end{matrix}\\right], \\quad \\left[\\begin{matrix}1 & 5 & 15\\\\0 & 1 & 5\\\\0 & 0 & 1\\end{matrix}\\right], \\quad \\left[\\begin{matrix}1 & 6 & 21\\\\0 & 1 & 6\\\\0 & 0 & 1\\end{matrix}\\right], \\quad \\left[\\begin{matrix}1 & 7 & 28\\\\0 & 1 & 7\\\\0 & 0 & 1\\end{matrix}\\right], \\quad \\left[\\begin{matrix}1 & 8 & 36\\\\0 & 1 & 8\\\\0 & 0 & 1\\end{matrix}\\right], \\quad \\left[\\begin{matrix}1 & 9 & 45\\\\0 & 1 & 9\\\\0 & 0 & 1\\end{matrix}\\right]\\right ]$$"
      ],
      "text/plain": [
       "⎡⎡1  2  3⎤, ⎡1  3  6⎤, ⎡1  4  10⎤, ⎡1  5  15⎤, ⎡1  6  21⎤, ⎡1  7  28⎤, ⎡1  8  \n",
       "⎢⎢       ⎥  ⎢       ⎥  ⎢        ⎥  ⎢        ⎥  ⎢        ⎥  ⎢        ⎥  ⎢      \n",
       "⎢⎢0  1  2⎥  ⎢0  1  3⎥  ⎢0  1  4 ⎥  ⎢0  1  5 ⎥  ⎢0  1  6 ⎥  ⎢0  1  7 ⎥  ⎢0  1  \n",
       "⎢⎢       ⎥  ⎢       ⎥  ⎢        ⎥  ⎢        ⎥  ⎢        ⎥  ⎢        ⎥  ⎢      \n",
       "⎣⎣0  0  1⎦  ⎣0  0  1⎦  ⎣0  0  1 ⎦  ⎣0  0  1 ⎦  ⎣0  0  1 ⎦  ⎣0  0  1 ⎦  ⎣0  0  \n",
       "\n",
       "36⎤, ⎡1  9  45⎤⎤\n",
       "  ⎥  ⎢        ⎥⎥\n",
       "8 ⎥  ⎢0  1  9 ⎥⎥\n",
       "  ⎥  ⎢        ⎥⎥\n",
       "1 ⎦  ⎣0  0  1 ⎦⎦"
      ]
     },
     "metadata": {},
     "output_type": "display_data"
    }
   ],
   "source": [
    "Ak=[]\n",
    "for k in range(2,10):\n",
    "    Ak.append(A**k)\n",
    "display(A)\n",
    "display(Ak)"
   ]
  },
  {
   "cell_type": "code",
   "execution_count": 7,
   "metadata": {
    "collapsed": false
   },
   "outputs": [
    {
     "data": {
      "image/png": "[encoded data removed]",
      "text/latex": [
       "$$\\left[\\begin{matrix}5 & 5 & 6 & 10 & 5 & 0 & 1\\\\7 & 4 & 0 & 2 & 4 & 1 & 8\\\\8 & 10 & 2 & 8 & 2 & 3 & 7\\end{matrix}\\right]$$"
      ],
      "text/plain": [
       "⎡5  5   6  10  5  0  1⎤\n",
       "⎢                     ⎥\n",
       "⎢7  4   0  2   4  1  8⎥\n",
       "⎢                     ⎥\n",
       "⎣8  10  2  8   2  3  7⎦"
      ]
     },
     "metadata": {},
     "output_type": "display_data"
    }
   ],
   "source": [
    "B = randMatrix(3,7,0,10)\n",
    "display(B)"
   ]
  },
  {
   "cell_type": "code",
   "execution_count": 8,
   "metadata": {
    "collapsed": false
   },
   "outputs": [
    {
     "data": {
      "image/png": "[encoded data removed]",
      "text/latex": [
       "$$\\left ( \\left[\\begin{matrix}1 & 0 & 0 & - \\frac{2}{33} & \\frac{32}{33} & - \\frac{1}{9} & \\frac{40}{33}\\\\0 & 1 & 0 & \\frac{20}{33} & - \\frac{23}{33} & \\frac{4}{9} & - \\frac{4}{33}\\\\0 & 0 & 1 & \\frac{40}{33} & \\frac{20}{33} & - \\frac{5}{18} & - \\frac{49}{66}\\end{matrix}\\right], \\quad \\left [ 0, \\quad 1, \\quad 2\\right ]\\right )$$"
      ],
      "text/plain": [
       "⎛⎡                 32           40  ⎤           ⎞\n",
       "⎜⎢1  0  0  -2/33   ──   -1/9    ──  ⎥, [0, 1, 2]⎟\n",
       "⎜⎢                 33           33  ⎥           ⎟\n",
       "⎜⎢                                  ⎥           ⎟\n",
       "⎜⎢          20    -23               ⎥           ⎟\n",
       "⎜⎢0  1  0   ──    ────   4/9   -4/33⎥           ⎟\n",
       "⎜⎢          33     33               ⎥           ⎟\n",
       "⎜⎢                                  ⎥           ⎟\n",
       "⎜⎢          40     20          -49  ⎥           ⎟\n",
       "⎜⎢0  0  1   ──     ──   -5/18  ──── ⎥           ⎟\n",
       "⎝⎣          33     33           66  ⎦           ⎠"
      ]
     },
     "execution_count": 8,
     "metadata": {},
     "output_type": "execute_result"
    }
   ],
   "source": [
    "B.rref()"
   ]
  },
  {
   "cell_type": "code",
   "execution_count": 6,
   "metadata": {
    "collapsed": false
   },
   "outputs": [
    {
     "data": {
      "image/png": "[encoded data removed]",
      "text/latex": [
       "$$\\left [ \\left[\\begin{matrix}- \\frac{1}{2}\\\\- \\frac{1}{4}\\\\1\\\\0\\\\0\\end{matrix}\\right], \\quad \\left[\\begin{matrix}\\frac{111}{200}\\\\- \\frac{71}{80}\\\\0\\\\- \\frac{29}{50}\\\\1\\end{matrix}\\right]\\right ]$$"
      ],
      "text/plain": [
       "⎡        ⎡111 ⎤⎤\n",
       "⎢⎡-1/2⎤, ⎢─── ⎥⎥\n",
       "⎢⎢    ⎥  ⎢200 ⎥⎥\n",
       "⎢⎢-1/4⎥  ⎢    ⎥⎥\n",
       "⎢⎢    ⎥  ⎢-71 ⎥⎥\n",
       "⎢⎢ 1  ⎥  ⎢────⎥⎥\n",
       "⎢⎢    ⎥  ⎢ 80 ⎥⎥\n",
       "⎢⎢ 0  ⎥  ⎢    ⎥⎥\n",
       "⎢⎢    ⎥  ⎢ 0  ⎥⎥\n",
       "⎢⎣ 0  ⎦  ⎢    ⎥⎥\n",
       "⎢        ⎢-29 ⎥⎥\n",
       "⎢        ⎢────⎥⎥\n",
       "⎢        ⎢ 50 ⎥⎥\n",
       "⎢        ⎢    ⎥⎥\n",
       "⎣        ⎣ 1  ⎦⎦"
      ]
     },
     "metadata": {},
     "output_type": "display_data"
    }
   ],
   "source": [
    "BNS=B.nullspace()\n",
    "display(BNS)"
   ]
  },
  {
   "cell_type": "code",
   "execution_count": 8,
   "metadata": {
    "collapsed": false
   },
   "outputs": [
    {
     "name": "stdout",
     "output_type": "stream",
     "text": [
      "Matrix([[1, 0, 0], [0, 1, 0], [0, 0, 1]])\n",
      "Matrix([[12, -4, -4], [12, -4, -4], [24, -8, -8]])\n"
     ]
    }
   ],
   "source": [
    "D = Matrix([[2, 2, -2], [5, 1, -3], [1, 5, -3]])\n",
    "print (D + eye(3))*(D - eye(3))*(-1)*(D**2 + eye(3))\n",
    "print D*D"
   ]
  },
  {
   "cell_type": "code",
   "execution_count": 9,
   "metadata": {
    "collapsed": false
   },
   "outputs": [
    {
     "name": "stdout",
     "output_type": "stream",
     "text": [
      "1 -2\n"
     ]
    }
   ],
   "source": [
    "print B.det(), C.det()"
   ]
  },
  {
   "cell_type": "code",
   "execution_count": 10,
   "metadata": {
    "collapsed": false
   },
   "outputs": [
    {
     "name": "stdout",
     "output_type": "stream",
     "text": [
      "0\n",
      "1\n"
     ]
    }
   ],
   "source": [
    "M = Matrix([[12, -4, -4], [12, -4, -4], [24, -8, -8]])\n",
    "print M.det()\n",
    "print (M + eye(3)).det()"
   ]
  },
  {
   "cell_type": "markdown",
   "metadata": {},
   "source": [
    "Hypothesis: If $A$ is a matrix with $\\text{det}(A) = 0$, then $\\text{det}(A + I) \\neq 0$."
   ]
  },
  {
   "cell_type": "code",
   "execution_count": 11,
   "metadata": {
    "collapsed": true
   },
   "outputs": [],
   "source": [
    "def eij(n, i, j):\n",
    "    M = zeros(n)\n",
    "    M[i-1, j-1] = 1\n",
    "    return M\n",
    "\n",
    "def exchange_row_ij(M, i, j):\n",
    "    n = M.shape[0] # Number of rows in matrix M\n",
    "    return (eye(n) + eij(n, i, j) + eij(n, j, i) - eij(n, i, i) - eij(n, j, j))*M\n",
    "\n",
    "def mult_row(M, i, c):\n",
    "    n = M.shape[0] # Number of rows in matrix M\n",
    "    return (eye(n) + (c-1)*eij(n, i,i))*M\n",
    "\n",
    "def ri_eq_ri_p_crj(M, i, j, c):\n",
    "    n = M.shape[0]\n",
    "    return (eye(n) + c*eij(n, i, j))*M\n",
    "    "
   ]
  },
  {
   "cell_type": "code",
   "execution_count": 12,
   "metadata": {
    "collapsed": true
   },
   "outputs": [],
   "source": [
    "M = Matrix([[1, 2, 3, 4], [-2, 3, 1, 1], [5, -1, 3, 2]])"
   ]
  },
  {
   "cell_type": "code",
   "execution_count": 13,
   "metadata": {
    "collapsed": false
   },
   "outputs": [
    {
     "data": {
      "image/png": "[encoded data removed]",
      "text/latex": [
       "$$\\left[\\begin{matrix}1 & 2 & 3 & 4\\\\-2 & 3 & 1 & 1\\\\5 & -1 & 3 & 2\\end{matrix}\\right]$$"
      ],
      "text/plain": [
       "⎡1   2   3  4⎤\n",
       "⎢            ⎥\n",
       "⎢-2  3   1  1⎥\n",
       "⎢            ⎥\n",
       "⎣5   -1  3  2⎦"
      ]
     },
     "metadata": {},
     "output_type": "display_data"
    }
   ],
   "source": [
    "display(M)"
   ]
  },
  {
   "cell_type": "code",
   "execution_count": 14,
   "metadata": {
    "collapsed": false
   },
   "outputs": [
    {
     "data": {
      "image/png": "[encoded data removed]",
      "text/latex": [
       "$$\\left[\\begin{matrix}1 & 2 & 3 & 4\\\\0 & 7 & 7 & 9\\\\5 & -1 & 3 & 2\\end{matrix}\\right]$$"
      ],
      "text/plain": [
       "⎡1  2   3  4⎤\n",
       "⎢           ⎥\n",
       "⎢0  7   7  9⎥\n",
       "⎢           ⎥\n",
       "⎣5  -1  3  2⎦"
      ]
     },
     "metadata": {},
     "output_type": "display_data"
    }
   ],
   "source": [
    "M1 = ri_eq_ri_p_crj(M, 2, 1, 2)\n",
    "display(M1)"
   ]
  },
  {
   "cell_type": "code",
   "execution_count": 15,
   "metadata": {
    "collapsed": false
   },
   "outputs": [
    {
     "data": {
      "image/png": "[encoded data removed]",
      "text/latex": [
       "$$\\left[\\begin{matrix}1 & 2 & 3 & 4\\\\0 & 7 & 7 & 9\\\\0 & -11 & -12 & -18\\end{matrix}\\right]$$"
      ],
      "text/plain": [
       "⎡1   2    3    4 ⎤\n",
       "⎢                ⎥\n",
       "⎢0   7    7    9 ⎥\n",
       "⎢                ⎥\n",
       "⎣0  -11  -12  -18⎦"
      ]
     },
     "metadata": {},
     "output_type": "display_data"
    }
   ],
   "source": [
    "M2 = ri_eq_ri_p_crj(M1, 3, 1, -5)\n",
    "display(M2)"
   ]
  },
  {
   "cell_type": "code",
   "execution_count": 16,
   "metadata": {
    "collapsed": false
   },
   "outputs": [
    {
     "data": {
      "image/png": "[encoded data removed]",
      "text/latex": [
       "$$\\left[\\begin{matrix}1 & 2 & 3 & 4\\\\0 & 1 & 1 & \\frac{9}{7}\\\\0 & -11 & -12 & -18\\end{matrix}\\right]$$"
      ],
      "text/plain": [
       "⎡1   2    3    4 ⎤\n",
       "⎢                ⎥\n",
       "⎢0   1    1   9/7⎥\n",
       "⎢                ⎥\n",
       "⎣0  -11  -12  -18⎦"
      ]
     },
     "metadata": {},
     "output_type": "display_data"
    }
   ],
   "source": [
    "M3 = mult_row(M2, 2, S(1)/7)\n",
    "display(M3)"
   ]
  },
  {
   "cell_type": "code",
   "execution_count": 17,
   "metadata": {
    "collapsed": false
   },
   "outputs": [
    {
     "data": {
      "image/png": "[encoded data removed]",
      "text/latex": [
       "$$\\left[\\begin{matrix}1 & 2 & 3 & 4\\\\0 & 1 & 1 & \\frac{9}{7}\\\\0 & 0 & -1 & - \\frac{27}{7}\\end{matrix}\\right]$$"
      ],
      "text/plain": [
       "⎡1  2  3     4  ⎤\n",
       "⎢               ⎥\n",
       "⎢0  1  1    9/7 ⎥\n",
       "⎢               ⎥\n",
       "⎣0  0  -1  -27/7⎦"
      ]
     },
     "metadata": {},
     "output_type": "display_data"
    }
   ],
   "source": [
    "M4 = ri_eq_ri_p_crj(M3, 3, 2, 11)\n",
    "display(M4)"
   ]
  },
  {
   "cell_type": "code",
   "execution_count": 18,
   "metadata": {
    "collapsed": false
   },
   "outputs": [
    {
     "data": {
      "image/png": "[encoded data removed]",
      "text/latex": [
       "$$\\left[\\begin{matrix}1 & 2 & 3 & 4\\\\0 & 1 & 1 & \\frac{9}{7}\\\\0 & 0 & 1 & \\frac{27}{7}\\end{matrix}\\right]$$"
      ],
      "text/plain": [
       "⎡1  2  3   4  ⎤\n",
       "⎢             ⎥\n",
       "⎢0  1  1  9/7 ⎥\n",
       "⎢             ⎥\n",
       "⎣0  0  1  27/7⎦"
      ]
     },
     "metadata": {},
     "output_type": "display_data"
    }
   ],
   "source": [
    "M5 = mult_row(M4, 3, -1)\n",
    "display(M5)"
   ]
  },
  {
   "cell_type": "code",
   "execution_count": 19,
   "metadata": {
    "collapsed": false
   },
   "outputs": [
    {
     "data": {
      "image/png": "[encoded data removed]",
      "text/latex": [
       "$$\\left[\\begin{matrix}1 & 0 & 1 & \\frac{10}{7}\\\\0 & 1 & 1 & \\frac{9}{7}\\\\0 & 0 & 1 & \\frac{27}{7}\\end{matrix}\\right]$$"
      ],
      "text/plain": [
       "⎡1  0  1  10/7⎤\n",
       "⎢             ⎥\n",
       "⎢0  1  1  9/7 ⎥\n",
       "⎢             ⎥\n",
       "⎣0  0  1  27/7⎦"
      ]
     },
     "metadata": {},
     "output_type": "display_data"
    }
   ],
   "source": [
    "M6 = ri_eq_ri_p_crj(M5, 1, 2, -2)\n",
    "display(M6)"
   ]
  },
  {
   "cell_type": "code",
   "execution_count": 20,
   "metadata": {
    "collapsed": false
   },
   "outputs": [
    {
     "data": {
      "image/png": "[encoded data removed]",
      "text/latex": [
       "$$\\left[\\begin{matrix}1 & 0 & 1 & \\frac{10}{7}\\\\0 & 1 & 0 & - \\frac{18}{7}\\\\0 & 0 & 1 & \\frac{27}{7}\\end{matrix}\\right]$$"
      ],
      "text/plain": [
       "⎡1  0  1  10/7 ⎤\n",
       "⎢              ⎥\n",
       "⎢0  1  0  -18/7⎥\n",
       "⎢              ⎥\n",
       "⎣0  0  1  27/7 ⎦"
      ]
     },
     "metadata": {},
     "output_type": "display_data"
    }
   ],
   "source": [
    "M7 = ri_eq_ri_p_crj(M6, 2, 3, -1)\n",
    "display(M7)"
   ]
  },
  {
   "cell_type": "code",
   "execution_count": 21,
   "metadata": {
    "collapsed": false
   },
   "outputs": [
    {
     "data": {
      "image/png": "[encoded data removed]",
      "text/latex": [
       "$$\\left[\\begin{matrix}1 & 0 & 0 & - \\frac{17}{7}\\\\0 & 1 & 0 & - \\frac{18}{7}\\\\0 & 0 & 1 & \\frac{27}{7}\\end{matrix}\\right]$$"
      ],
      "text/plain": [
       "⎡1  0  0  -17/7⎤\n",
       "⎢              ⎥\n",
       "⎢0  1  0  -18/7⎥\n",
       "⎢              ⎥\n",
       "⎣0  0  1  27/7 ⎦"
      ]
     },
     "metadata": {},
     "output_type": "display_data"
    }
   ],
   "source": [
    "M8 = ri_eq_ri_p_crj(M7, 1, 3, -1)\n",
    "display(M8)"
   ]
  },
  {
   "cell_type": "code",
   "execution_count": 22,
   "metadata": {
    "collapsed": false
   },
   "outputs": [
    {
     "data": {
      "image/png": "[encoded data removed]",
      "text/latex": [
       "$$\\left ( \\left[\\begin{matrix}1 & 0 & 0 & - \\frac{17}{7}\\\\0 & 1 & 0 & - \\frac{18}{7}\\\\0 & 0 & 1 & \\frac{27}{7}\\end{matrix}\\right], \\quad \\left [ 0, \\quad 1, \\quad 2\\right ]\\right )$$"
      ],
      "text/plain": [
       "⎛⎡1  0  0  -17/7⎤, [0, 1, 2]⎞\n",
       "⎜⎢              ⎥           ⎟\n",
       "⎜⎢0  1  0  -18/7⎥           ⎟\n",
       "⎜⎢              ⎥           ⎟\n",
       "⎝⎣0  0  1  27/7 ⎦           ⎠"
      ]
     },
     "execution_count": 22,
     "metadata": {},
     "output_type": "execute_result"
    }
   ],
   "source": [
    "M.rref()"
   ]
  },
  {
   "cell_type": "code",
   "execution_count": 23,
   "metadata": {
    "collapsed": false
   },
   "outputs": [],
   "source": [
    "a,b,c,d,e,f = symbols('a b c d e f')\n",
    "P = Matrix([[2, 3],[1, 2],[2, 5]])\n",
    "Q = Matrix([[a, b, c], [d, e, f]])"
   ]
  },
  {
   "cell_type": "code",
   "execution_count": 24,
   "metadata": {
    "collapsed": false
   },
   "outputs": [
    {
     "data": {
      "image/png": "[encoded data removed]",
      "text/latex": [
       "$$\\left[\\begin{matrix}2 a + 3 d & 2 b + 3 e & 2 c + 3 f\\\\a + 2 d & b + 2 e & c + 2 f\\\\2 a + 5 d & 2 b + 5 e & 2 c + 5 f\\end{matrix}\\right]$$"
      ],
      "text/plain": [
       "⎡2⋅a + 3⋅d  2⋅b + 3⋅e  2⋅c + 3⋅f⎤\n",
       "⎢                               ⎥\n",
       "⎢ a + 2⋅d    b + 2⋅e    c + 2⋅f ⎥\n",
       "⎢                               ⎥\n",
       "⎣2⋅a + 5⋅d  2⋅b + 5⋅e  2⋅c + 5⋅f⎦"
      ]
     },
     "metadata": {},
     "output_type": "display_data"
    }
   ],
   "source": [
    "PQ = P*Q\n",
    "display(PQ)"
   ]
  },
  {
   "cell_type": "code",
   "execution_count": 25,
   "metadata": {
    "collapsed": false
   },
   "outputs": [
    {
     "data": {
      "image/png": "[encoded data removed]",
      "text/latex": [
       "$$\\left[\\begin{matrix}2 a + 3 d & 2 b + 3 e & 2 c + 3 f & 1 & 0 & 0\\\\a + 2 d & b + 2 e & c + 2 f & 0 & 1 & 0\\\\2 a + 5 d & 2 b + 5 e & 2 c + 5 f & 0 & 0 & 1\\end{matrix}\\right]$$"
      ],
      "text/plain": [
       "⎡2⋅a + 3⋅d  2⋅b + 3⋅e  2⋅c + 3⋅f  1  0  0⎤\n",
       "⎢                                        ⎥\n",
       "⎢ a + 2⋅d    b + 2⋅e    c + 2⋅f   0  1  0⎥\n",
       "⎢                                        ⎥\n",
       "⎣2⋅a + 5⋅d  2⋅b + 5⋅e  2⋅c + 5⋅f  0  0  1⎦"
      ]
     },
     "metadata": {},
     "output_type": "display_data"
    }
   ],
   "source": [
    "PQI3 = PQ.row_join(eye(3))\n",
    "display(PQI3)"
   ]
  },
  {
   "cell_type": "code",
   "execution_count": 26,
   "metadata": {
    "collapsed": false
   },
   "outputs": [],
   "source": [
    "PQrref = PQI3.rref()"
   ]
  },
  {
   "cell_type": "code",
   "execution_count": 27,
   "metadata": {
    "collapsed": false
   },
   "outputs": [
    {
     "data": {
      "image/png": "[encoded data removed]",
      "text/latex": [
       "$$\\left ( \\left[\\begin{matrix}1 & 0 & 0 & \\tilde{\\infty} & \\tilde{\\infty} & \\tilde{\\infty}\\\\0 & 1 & 0 & \\tilde{\\infty} & \\tilde{\\infty} & \\tilde{\\infty}\\\\0 & 0 & 1 & \\tilde{\\infty} & \\tilde{\\infty} & \\tilde{\\infty}\\end{matrix}\\right], \\quad \\left [ 0, \\quad 1, \\quad 2\\right ]\\right )$$"
      ],
      "text/plain": [
       "⎛⎡1  0  0  zoo  zoo  zoo⎤, [0, 1, 2]⎞\n",
       "⎜⎢                      ⎥           ⎟\n",
       "⎜⎢0  1  0  zoo  zoo  zoo⎥           ⎟\n",
       "⎜⎢                      ⎥           ⎟\n",
       "⎝⎣0  0  1  zoo  zoo  zoo⎦           ⎠"
      ]
     },
     "execution_count": 27,
     "metadata": {},
     "output_type": "execute_result"
    }
   ],
   "source": [
    "simplify(PQrref)"
   ]
  },
  {
   "cell_type": "code",
   "execution_count": 4,
   "metadata": {
    "collapsed": false
   },
   "outputs": [],
   "source": [
    "M = Matrix([[1, 2, 3], [-2, 0, 4], [3, -1, 1]])"
   ]
  },
  {
   "cell_type": "code",
   "execution_count": 6,
   "metadata": {
    "collapsed": false
   },
   "outputs": [
    {
     "data": {
      "image/png": "[encoded data removed]",
      "text/latex": [
       "$$\\left[\\begin{matrix}1 & 2 & 3\\\\0 & 4 & 10\\\\0 & -7 & -8\\end{matrix}\\right]$$"
      ],
      "text/plain": [
       "⎡1  2   3 ⎤\n",
       "⎢         ⎥\n",
       "⎢0  4   10⎥\n",
       "⎢         ⎥\n",
       "⎣0  -7  -8⎦"
      ]
     },
     "metadata": {},
     "output_type": "display_data"
    }
   ],
   "source": [
    "A = Matrix([[1, 0, 0], [2, 1, 0], [-3, 0, 1]])\n",
    "display(A*M)"
   ]
  },
  {
   "cell_type": "code",
   "execution_count": 7,
   "metadata": {
    "collapsed": false
   },
   "outputs": [
    {
     "data": {
      "image/png": "[encoded data removed]",
      "text/latex": [
       "$$\\left[\\begin{matrix}1 & 2 & 3\\\\0 & 4 & 10\\\\0 & 0 & 9.5\\end{matrix}\\right]$$"
      ],
      "text/plain": [
       "⎡1  2   3 ⎤\n",
       "⎢         ⎥\n",
       "⎢0  4  10 ⎥\n",
       "⎢         ⎥\n",
       "⎣0  0  9.5⎦"
      ]
     },
     "metadata": {},
     "output_type": "display_data"
    }
   ],
   "source": [
    "B = Matrix([[1, 0, 0], [0, 1, 0], [0, 7/4, 1]])\n",
    "display(B*A*M)"
   ]
  },
  {
   "cell_type": "code",
   "execution_count": 11,
   "metadata": {
    "collapsed": false
   },
   "outputs": [
    {
     "data": {
      "image/png": "[encoded data removed]",
      "text/latex": [
       "$$\\left[\\begin{matrix}1 & 0 & 0\\\\0 & 1 & 0\\\\0 & 1.75 & 1\\end{matrix}\\right]$$"
      ],
      "text/plain": [
       "⎡1   0    0⎤\n",
       "⎢          ⎥\n",
       "⎢0   1    0⎥\n",
       "⎢          ⎥\n",
       "⎣0  1.75  1⎦"
      ]
     },
     "metadata": {},
     "output_type": "display_data"
    },
    {
     "data": {
      "image/png": "[encoded data removed]",
      "text/latex": [
       "$$\\left[\\begin{matrix}1 & 0 & 0\\\\2 & 1 & 0\\\\-3 & 0 & 1\\end{matrix}\\right]$$"
      ],
      "text/plain": [
       "⎡1   0  0⎤\n",
       "⎢        ⎥\n",
       "⎢2   1  0⎥\n",
       "⎢        ⎥\n",
       "⎣-3  0  1⎦"
      ]
     },
     "metadata": {},
     "output_type": "display_data"
    },
    {
     "data": {
      "image/png": "[encoded data removed]",
      "text/latex": [
       "$$\\left[\\begin{matrix}1 & 2 & 3\\\\-2 & 0 & 4\\\\3 & -1 & 1\\end{matrix}\\right]$$"
      ],
      "text/plain": [
       "⎡1   2   3⎤\n",
       "⎢         ⎥\n",
       "⎢-2  0   4⎥\n",
       "⎢         ⎥\n",
       "⎣3   -1  1⎦"
      ]
     },
     "metadata": {},
     "output_type": "display_data"
    },
    {
     "data": {
      "image/png": "[encoded data removed]",
      "text/latex": [
       "$$\\left[\\begin{matrix}1 & 2 & 3\\\\0 & 4 & 10\\\\0 & 0 & 9.5\\end{matrix}\\right]$$"
      ],
      "text/plain": [
       "⎡1  2   3 ⎤\n",
       "⎢         ⎥\n",
       "⎢0  4  10 ⎥\n",
       "⎢         ⎥\n",
       "⎣0  0  9.5⎦"
      ]
     },
     "metadata": {},
     "output_type": "display_data"
    }
   ],
   "source": [
    "display(B,A,M)\n",
    "display(B*A*M)"
   ]
  },
  {
   "cell_type": "code",
   "execution_count": 12,
   "metadata": {
    "collapsed": false
   },
   "outputs": [
    {
     "data": {
      "image/png": "[encoded data removed]",
      "text/latex": [
       "$$\\left[\\begin{matrix}1 & 2 & 3\\\\0 & 4 & 10\\\\-3.5 & -7 & -1.0\\end{matrix}\\right]$$"
      ],
      "text/plain": [
       "⎡ 1    2    3  ⎤\n",
       "⎢              ⎥\n",
       "⎢ 0    4    10 ⎥\n",
       "⎢              ⎥\n",
       "⎣-3.5  -7  -1.0⎦"
      ]
     },
     "metadata": {},
     "output_type": "display_data"
    }
   ],
   "source": [
    "display(A*B*M)"
   ]
  },
  {
   "cell_type": "code",
   "execution_count": 13,
   "metadata": {
    "collapsed": false
   },
   "outputs": [
    {
     "data": {
      "image/png": "[encoded data removed]",
      "text/latex": [
       "$$\\left[\\begin{matrix}-4 & 7.25 & 3\\\\-14 & 7.0 & 4\\\\-2 & 0.75 & 1\\end{matrix}\\right]$$"
      ],
      "text/plain": [
       "⎡-4   7.25  3⎤\n",
       "⎢            ⎥\n",
       "⎢-14  7.0   4⎥\n",
       "⎢            ⎥\n",
       "⎣-2   0.75  1⎦"
      ]
     },
     "metadata": {},
     "output_type": "display_data"
    }
   ],
   "source": [
    "display(M*A*B)"
   ]
  },
  {
   "cell_type": "code",
   "execution_count": 18,
   "metadata": {
    "collapsed": false
   },
   "outputs": [
    {
     "data": {
      "image/png": "[encoded data removed]",
      "text/latex": [
       "$$\\left[\\begin{matrix}1 & 0 & 0\\\\2 & 1 & 0\\\\0.5 & 1.75 & 1\\end{matrix}\\right]$$"
      ],
      "text/plain": [
       "⎡ 1    0    0⎤\n",
       "⎢            ⎥\n",
       "⎢ 2    1    0⎥\n",
       "⎢            ⎥\n",
       "⎣0.5  1.75  1⎦"
      ]
     },
     "metadata": {},
     "output_type": "display_data"
    }
   ],
   "source": [
    "display(B*A)"
   ]
  },
  {
   "cell_type": "code",
   "execution_count": 24,
   "metadata": {
    "collapsed": true
   },
   "outputs": [],
   "source": [
    "A = Matrix([[1,1,-3,0], [1,2,1,4], [1,-1,0,2]])"
   ]
  },
  {
   "cell_type": "code",
   "execution_count": 20,
   "metadata": {
    "collapsed": false
   },
   "outputs": [
    {
     "data": {
      "image/png": "[encoded data removed]",
      "text/latex": [
       "$$\\left ( \\left[\\begin{matrix}1 & 0 & 0 & \\frac{26}{11}\\\\0 & 1 & 0 & \\frac{4}{11}\\\\0 & 0 & 1 & \\frac{10}{11}\\end{matrix}\\right], \\quad \\left [ 0, \\quad 1, \\quad 2\\right ]\\right )$$"
      ],
      "text/plain": [
       "⎛⎡          26 ⎤           ⎞\n",
       "⎜⎢1  0  0   ── ⎥, [0, 1, 2]⎟\n",
       "⎜⎢          11 ⎥           ⎟\n",
       "⎜⎢             ⎥           ⎟\n",
       "⎜⎢0  1  0  4/11⎥           ⎟\n",
       "⎜⎢             ⎥           ⎟\n",
       "⎜⎢          10 ⎥           ⎟\n",
       "⎜⎢0  0  1   ── ⎥           ⎟\n",
       "⎝⎣          11 ⎦           ⎠"
      ]
     },
     "execution_count": 20,
     "metadata": {},
     "output_type": "execute_result"
    }
   ],
   "source": [
    "A.rref()"
   ]
  },
  {
   "cell_type": "code",
   "execution_count": 21,
   "metadata": {
    "collapsed": false
   },
   "outputs": [
    {
     "data": {
      "image/png": "[encoded data removed]",
      "text/latex": [
       "$$\\left[\\begin{matrix}1 & 1 & -3 & 0\\\\1 & 2 & 1 & 4\\\\1 & -1 & 0 & 2\\end{matrix}\\right]$$"
      ],
      "text/plain": [
       "⎡1  1   -3  0⎤\n",
       "⎢            ⎥\n",
       "⎢1  2   1   4⎥\n",
       "⎢            ⎥\n",
       "⎣1  -1  0   2⎦"
      ]
     },
     "metadata": {},
     "output_type": "display_data"
    }
   ],
   "source": [
    "display(A)"
   ]
  },
  {
   "cell_type": "code",
   "execution_count": 25,
   "metadata": {
    "collapsed": true
   },
   "outputs": [],
   "source": [
    "A.col_del(3)"
   ]
  },
  {
   "cell_type": "code",
   "execution_count": 26,
   "metadata": {
    "collapsed": false
   },
   "outputs": [
    {
     "data": {
      "image/png": "[encoded data removed]",
      "text/latex": [
       "$$\\left[\\begin{matrix}1 & 1 & -3\\\\1 & 2 & 1\\\\1 & -1 & 0\\end{matrix}\\right]$$"
      ],
      "text/plain": [
       "⎡1  1   -3⎤\n",
       "⎢         ⎥\n",
       "⎢1  2   1 ⎥\n",
       "⎢         ⎥\n",
       "⎣1  -1  0 ⎦"
      ]
     },
     "metadata": {},
     "output_type": "display_data"
    }
   ],
   "source": [
    "display(A)"
   ]
  },
  {
   "cell_type": "code",
   "execution_count": 27,
   "metadata": {
    "collapsed": false
   },
   "outputs": [
    {
     "data": {
      "image/png": "[encoded data removed]",
      "text/latex": [
       "$$\\left[\\begin{matrix}1 & 0 & 0\\\\-1 & 1 & 0\\\\0 & 0 & 1\\end{matrix}\\right]$$"
      ],
      "text/plain": [
       "⎡1   0  0⎤\n",
       "⎢        ⎥\n",
       "⎢-1  1  0⎥\n",
       "⎢        ⎥\n",
       "⎣0   0  1⎦"
      ]
     },
     "metadata": {},
     "output_type": "display_data"
    }
   ],
   "source": [
    "E21 = Matrix([[1,0,0], [-1,1,0],[0,0,1]])\n",
    "display(E21)"
   ]
  },
  {
   "cell_type": "code",
   "execution_count": 28,
   "metadata": {
    "collapsed": false
   },
   "outputs": [
    {
     "data": {
      "image/png": "[encoded data removed]",
      "text/latex": [
       "$$\\left[\\begin{matrix}1 & 1 & -3\\\\0 & 1 & 4\\\\1 & -1 & 0\\end{matrix}\\right]$$"
      ],
      "text/plain": [
       "⎡1  1   -3⎤\n",
       "⎢         ⎥\n",
       "⎢0  1   4 ⎥\n",
       "⎢         ⎥\n",
       "⎣1  -1  0 ⎦"
      ]
     },
     "metadata": {},
     "output_type": "display_data"
    }
   ],
   "source": [
    "display(E21*A)"
   ]
  },
  {
   "cell_type": "code",
   "execution_count": 29,
   "metadata": {
    "collapsed": false
   },
   "outputs": [
    {
     "data": {
      "image/png": "[encoded data removed]",
      "text/latex": [
       "$$\\left[\\begin{matrix}1 & 0 & 0\\\\1 & 1 & 0\\\\0 & 0 & 1\\end{matrix}\\right]$$"
      ],
      "text/plain": [
       "⎡1  0  0⎤\n",
       "⎢       ⎥\n",
       "⎢1  1  0⎥\n",
       "⎢       ⎥\n",
       "⎣0  0  1⎦"
      ]
     },
     "metadata": {},
     "output_type": "display_data"
    }
   ],
   "source": [
    "display(E21.inv())"
   ]
  },
  {
   "cell_type": "code",
   "execution_count": 2,
   "metadata": {
    "collapsed": true
   },
   "outputs": [],
   "source": [
    "from sympy.physics.vector import ReferenceFrame,curl,divergence,gradient,scalar_potential"
   ]
  },
  {
   "cell_type": "code",
   "execution_count": 3,
   "metadata": {
    "collapsed": true
   },
   "outputs": [],
   "source": [
    "R = ReferenceFrame('R')"
   ]
  },
  {
   "cell_type": "code",
   "execution_count": 43,
   "metadata": {
    "collapsed": true
   },
   "outputs": [],
   "source": [
    "field = 2*R[0]*R[1]*R.x + (R[0]**2 + 2*R[1]*R[2])*R.y + R[1]**2*R.z"
   ]
  },
  {
   "cell_type": "code",
   "execution_count": 45,
   "metadata": {
    "collapsed": false
   },
   "outputs": [
    {
     "data": {
      "image/png": "[encoded data removed]",
      "text/latex": [
       "$$0$$"
      ],
      "text/plain": [
       "0"
      ]
     },
     "execution_count": 45,
     "metadata": {},
     "output_type": "execute_result"
    }
   ],
   "source": [
    "curl(field,R)"
   ]
  },
  {
   "cell_type": "code",
   "execution_count": 47,
   "metadata": {
    "collapsed": false
   },
   "outputs": [
    {
     "data": {
      "image/png": "[encoded data removed]",
      "text/latex": [
       "$$2 R_{y} + 2 R_{z}$$"
      ],
      "text/plain": [
       "2⋅R_y + 2⋅R_z"
      ]
     },
     "execution_count": 47,
     "metadata": {},
     "output_type": "execute_result"
    }
   ],
   "source": [
    "divergence(field,R)"
   ]
  },
  {
   "cell_type": "code",
   "execution_count": 49,
   "metadata": {
    "collapsed": false
   },
   "outputs": [
    {
     "data": {
      "image/png": "[encoded data removed]",
      "text/latex": [
       "$$R_{x}^{2} R_{y} + R_{y}^{2} R_{z}$$"
      ],
      "text/plain": [
       "  2          2    \n",
       "Rₓ ⋅R_y + R_y ⋅R_z"
      ]
     },
     "execution_count": 49,
     "metadata": {},
     "output_type": "execute_result"
    }
   ],
   "source": [
    "scalar_potential(field,R)"
   ]
  },
  {
   "cell_type": "code",
   "execution_count": 62,
   "metadata": {
    "collapsed": true
   },
   "outputs": [],
   "source": [
    "a = symbols('a')\n",
    "f = a*R[0]*R[1] + a*R[0]**2 * R[1] + R[1]**3"
   ]
  },
  {
   "cell_type": "code",
   "execution_count": 63,
   "metadata": {
    "collapsed": false
   },
   "outputs": [
    {
     "data": {
      "image/png": "[encoded data removed]",
      "text/latex": [
       "$$2 R_{y} a + 6 R_{y}$$"
      ],
      "text/plain": [
       "2⋅R_y⋅a + 6⋅R_y"
      ]
     },
     "execution_count": 63,
     "metadata": {},
     "output_type": "execute_result"
    }
   ],
   "source": [
    "divergence(gradient(f,R),R)"
   ]
  },
  {
   "cell_type": "code",
   "execution_count": 88,
   "metadata": {
    "collapsed": false
   },
   "outputs": [],
   "source": [
    "l, m = symbols('l m')\n",
    "solns=solve([2*x - 2*l*x - m, 2*y - 2*l*y - m, 2*z + l - 2*m, x**2 + y**2 - z, x + y + 2*z - 18], x, y, z, l, m)"
   ]
  },
  {
   "cell_type": "code",
   "execution_count": 95,
   "metadata": {
    "collapsed": false
   },
   "outputs": [],
   "source": [
    "s1=solns[0][0]"
   ]
  },
  {
   "cell_type": "code",
   "execution_count": 105,
   "metadata": {
    "collapsed": false
   },
   "outputs": [],
   "source": [
    "real_solns=[(solns[n][0],solns[n][1],solns[n][2]) for n in range(len(solns)) if solns[n][0].is_real]"
   ]
  },
  {
   "cell_type": "code",
   "execution_count": 115,
   "metadata": {
    "collapsed": false
   },
   "outputs": [
    {
     "data": {
      "image/png": "[encoded data removed]",
      "text/latex": [
       "$$\\left [ \\left ( - \\frac{1}{4} + \\frac{\\sqrt{73}}{4}, \\quad - \\frac{1}{4} + \\frac{\\sqrt{73}}{4}, \\quad - \\frac{\\sqrt{73}}{4} + \\frac{37}{4}\\right ), \\quad \\left ( - \\frac{\\sqrt{73}}{4} - \\frac{1}{4}, \\quad - \\frac{\\sqrt{73}}{4} - \\frac{1}{4}, \\quad \\frac{\\sqrt{73}}{4} + \\frac{37}{4}\\right )\\right ]$$"
      ],
      "text/plain": [
       "⎡⎛        ____          ____      ____     ⎞  ⎛    ____          ____        _\n",
       "⎢⎜  1   ╲╱ 73     1   ╲╱ 73     ╲╱ 73    37⎟  ⎜  ╲╱ 73    1    ╲╱ 73    1  ╲╱ \n",
       "⎢⎜- ─ + ──────, - ─ + ──────, - ────── + ──⎟, ⎜- ────── - ─, - ────── - ─, ───\n",
       "⎣⎝  4     4       4     4         4      4 ⎠  ⎝    4      4      4      4    4\n",
       "\n",
       "___     ⎞⎤\n",
       "73    37⎟⎥\n",
       "─── + ──⎟⎥\n",
       "      4 ⎠⎦"
      ]
     },
     "execution_count": 115,
     "metadata": {},
     "output_type": "execute_result"
    }
   ],
   "source": [
    "real_solns"
   ]
  },
  {
   "cell_type": "code",
   "execution_count": 116,
   "metadata": {
    "collapsed": false
   },
   "outputs": [
    {
     "data": {
      "image/png": "[encoded data removed]",
      "text/latex": [
       "$$- \\frac{39 \\sqrt{73}}{8} + \\frac{795}{8}$$"
      ],
      "text/plain": [
       "       ____      \n",
       "  39⋅╲╱ 73    795\n",
       "- ───────── + ───\n",
       "      8        8 "
      ]
     },
     "metadata": {},
     "output_type": "display_data"
    },
    {
     "data": {
      "image/png": "[encoded data removed]",
      "text/latex": [
       "$$57.722981741577$$"
      ],
      "text/plain": [
       "57.7229817415770"
      ]
     },
     "metadata": {},
     "output_type": "display_data"
    },
    {
     "data": {
      "image/png": "[encoded data removed]",
      "text/latex": [
       "$$\\frac{39 \\sqrt{73}}{8} + \\frac{795}{8}$$"
      ],
      "text/plain": [
       "     ____      \n",
       "39⋅╲╱ 73    795\n",
       "───────── + ───\n",
       "    8        8 "
      ]
     },
     "metadata": {},
     "output_type": "display_data"
    },
    {
     "data": {
      "image/png": "[encoded data removed]",
      "text/latex": [
       "$$141.027018258423$$"
      ],
      "text/plain": [
       "141.027018258423"
      ]
     },
     "metadata": {},
     "output_type": "display_data"
    }
   ],
   "source": [
    "for soln in real_solns:\n",
    "    display(simplify(f.subs(zip((x,y,z),soln))))\n",
    "    display(simplify(f.subs(zip((x,y,z),soln))).n())"
   ]
  },
  {
   "cell_type": "code",
   "execution_count": 108,
   "metadata": {
    "collapsed": false
   },
   "outputs": [
    {
     "data": {
      "image/png": "[encoded data removed]",
      "text/latex": [
       "$$2 \\left(- \\frac{\\sqrt{73}}{4} - \\frac{1}{4}\\right)^{2} + \\left(\\frac{\\sqrt{73}}{4} + \\frac{37}{4}\\right)^{2}$$"
      ],
      "text/plain": [
       "                2                2\n",
       "  ⎛    ____    ⎞    ⎛  ____     ⎞ \n",
       "  ⎜  ╲╱ 73    1⎟    ⎜╲╱ 73    37⎟ \n",
       "2⋅⎜- ────── - ─⎟  + ⎜────── + ──⎟ \n",
       "  ⎝    4      4⎠    ⎝  4      4 ⎠ "
      ]
     },
     "execution_count": 108,
     "metadata": {},
     "output_type": "execute_result"
    }
   ],
   "source": [
    "f.subs(zip((x,y,z),real_solns[1]))    "
   ]
  },
  {
   "cell_type": "code",
   "execution_count": 109,
   "metadata": {
    "collapsed": false
   },
   "outputs": [
    {
     "data": {
      "image/png": "[encoded data removed]",
      "text/latex": [
       "$$\\left [ \\left ( x, \\quad - \\frac{\\sqrt{73}}{4} - \\frac{1}{4}\\right ), \\quad \\left ( y, \\quad - \\frac{\\sqrt{73}}{4} - \\frac{1}{4}\\right ), \\quad \\left ( z, \\quad \\frac{\\sqrt{73}}{4} + \\frac{37}{4}\\right )\\right ]$$"
      ],
      "text/plain": [
       "⎡⎛       ____    ⎞  ⎛       ____    ⎞  ⎛     ____     ⎞⎤\n",
       "⎢⎜     ╲╱ 73    1⎟  ⎜     ╲╱ 73    1⎟  ⎜   ╲╱ 73    37⎟⎥\n",
       "⎢⎜x, - ────── - ─⎟, ⎜y, - ────── - ─⎟, ⎜z, ────── + ──⎟⎥\n",
       "⎣⎝       4      4⎠  ⎝       4      4⎠  ⎝     4      4 ⎠⎦"
      ]
     },
     "execution_count": 109,
     "metadata": {},
     "output_type": "execute_result"
    }
   ],
   "source": [
    "zip((x,y,z),real_solns[1])"
   ]
  },
  {
   "cell_type": "code",
   "execution_count": 9,
   "metadata": {
    "collapsed": false,
    "scrolled": true
   },
   "outputs": [
    {
     "data": {
      "image/png": "[encoded data removed]",
      "text/latex": [
       "$$\\left [ \\left ( - \\frac{1}{4} + \\frac{\\sqrt{57}}{4}, \\quad - \\frac{1}{4} + \\frac{\\sqrt{57}}{4}, \\quad - \\frac{\\sqrt{57}}{4} + \\frac{29}{4}, \\quad - \\frac{22 \\sqrt{57}}{57} + 8, \\quad - \\frac{31 \\sqrt{57}}{114} + \\frac{3}{2}\\right ), \\quad \\left ( \\frac{15}{2} - \\frac{\\sqrt{226} i}{2}, \\quad \\frac{15}{2} + \\frac{\\sqrt{226} i}{2}, \\quad - \\frac{1}{2}, \\quad 0, \\quad 1\\right ), \\quad \\left ( \\frac{15}{2} + \\frac{\\sqrt{226} i}{2}, \\quad \\frac{15}{2} - \\frac{\\sqrt{226} i}{2}, \\quad - \\frac{1}{2}, \\quad 0, \\quad 1\\right ), \\quad \\left ( - \\frac{\\sqrt{57}}{4} - \\frac{1}{4}, \\quad - \\frac{\\sqrt{57}}{4} - \\frac{1}{4}, \\quad \\frac{\\sqrt{57}}{4} + \\frac{29}{4}, \\quad \\frac{22 \\sqrt{57}}{57} + 8, \\quad \\frac{3}{2} + \\frac{31 \\sqrt{57}}{114}\\right )\\right ]$$"
      ],
      "text/plain": [
       "⎡⎛        ____          ____      ____              ____             ____    ⎞\n",
       "⎢⎜  1   ╲╱ 57     1   ╲╱ 57     ╲╱ 57    29    22⋅╲╱ 57         31⋅╲╱ 57    3⎟\n",
       "⎢⎜- ─ + ──────, - ─ + ──────, - ────── + ──, - ───────── + 8, - ───────── + ─⎟\n",
       "⎣⎝  4     4       4     4         4      4         57              114      2⎠\n",
       "\n",
       "  ⎛       _____           _____              ⎞  ⎛       _____           _____ \n",
       "  ⎜15   ╲╱ 226 ⋅ⅈ  15   ╲╱ 226 ⋅ⅈ            ⎟  ⎜15   ╲╱ 226 ⋅ⅈ  15   ╲╱ 226 ⋅\n",
       ", ⎜── - ─────────, ── + ─────────, -1/2, 0, 1⎟, ⎜── + ─────────, ── - ────────\n",
       "  ⎝2        2      2        2                ⎠  ⎝2        2      2        2   \n",
       "\n",
       "             ⎞  ⎛    ____          ____        ____            ____           \n",
       "ⅈ            ⎟  ⎜  ╲╱ 57    1    ╲╱ 57    1  ╲╱ 57    29  22⋅╲╱ 57       3   3\n",
       "─, -1/2, 0, 1⎟, ⎜- ────── - ─, - ────── - ─, ────── + ──, ───────── + 8, ─ + ─\n",
       "             ⎠  ⎝    4      4      4      4    4      4       57         2    \n",
       "\n",
       "    ____⎞⎤\n",
       "1⋅╲╱ 57 ⎟⎥\n",
       "────────⎟⎥\n",
       "  114   ⎠⎦"
      ]
     },
     "metadata": {},
     "output_type": "display_data"
    }
   ],
   "source": [
    "x, y, z, l, m = symbols('x y z l m')\n",
    "solns = solve([2*x - l - 2*x*m, 2*y - l - 2*y*m, 2*z - 2*l + m, x + y + 2*z - 14, x**2 + y**2 - z], x,y,z,l,m)\n",
    "display(solns)"
   ]
  },
  {
   "cell_type": "code",
   "execution_count": 10,
   "metadata": {
    "collapsed": false
   },
   "outputs": [
    {
     "name": "stdout",
     "output_type": "stream",
     "text": [
      "34.1193915633258\n",
      "-0.25 + 0.e-18*I\n",
      "-0.25 + 0.e-18*I\n",
      "92.6306084366742\n"
     ]
    }
   ],
   "source": [
    "for soln in solns:\n",
    "    print((soln[0]**2 + soln[1]**2 + soln[2]**2).n())"
   ]
  },
  {
   "cell_type": "code",
   "execution_count": 29,
   "metadata": {
    "collapsed": true
   },
   "outputs": [],
   "source": [
    "def Qnr(p1, p2):\n",
    "    q, r = div(p1, p2, x)\n",
    "    print(q, r)\n",
    "    print(p1, expand(p2*q+r))"
   ]
  },
  {
   "cell_type": "code",
   "execution_count": 30,
   "metadata": {
    "collapsed": false
   },
   "outputs": [
    {
     "name": "stdout",
     "output_type": "stream",
     "text": [
      "(x + 2, -2)\n",
      "(x**2 + 5*x + 4, x**2 + 5*x + 4)\n"
     ]
    }
   ],
   "source": [
    "Qnr(x**2 + 5*x + 4, x + 3)"
   ]
  },
  {
   "cell_type": "code",
   "execution_count": 31,
   "metadata": {
    "collapsed": false
   },
   "outputs": [
    {
     "name": "stdout",
     "output_type": "stream",
     "text": [
      "(x - 2, -4)\n",
      "(x**2 - x - 6, x**2 - x - 6)\n"
     ]
    }
   ],
   "source": [
    "Qnr(x**2 - x - 6, x + 1)"
   ]
  },
  {
   "cell_type": "code",
   "execution_count": 32,
   "metadata": {
    "collapsed": false
   },
   "outputs": [
    {
     "name": "stdout",
     "output_type": "stream",
     "text": [
      "(5*x - 7, 52)\n",
      "(15*x**2 + 19*x - 4, 15*x**2 + 19*x - 4)\n"
     ]
    }
   ],
   "source": [
    "Qnr(15*x**2 + 19*x - 4, 3*x + 8)"
   ]
  },
  {
   "cell_type": "code",
   "execution_count": 14,
   "metadata": {
    "collapsed": false
   },
   "outputs": [
    {
     "data": {
      "image/png": "[encoded data removed]",
      "text/latex": [
       "$$\\left [ \\left \\{ x : - \\frac{5}{3}, \\quad y : 0\\right \\}, \\quad \\left \\{ x : -1, \\quad y : -2\\right \\}, \\quad \\left \\{ x : -1, \\quad y : 2\\right \\}, \\quad \\left \\{ x : 0, \\quad y : 0\\right \\}\\right ]$$"
      ],
      "text/plain": [
       "[{x: -5/3, y: 0}, {x: -1, y: -2}, {x: -1, y: 2}, {x: 0, y: 0}]"
      ]
     },
     "execution_count": 14,
     "metadata": {},
     "output_type": "execute_result"
    }
   ],
   "source": [
    "f = 2*x**3 + x*y**2 + 5*x**2 + y**2\n",
    "solve([diff(f,x), diff(f,y)])"
   ]
  },
  {
   "cell_type": "code",
   "execution_count": 16,
   "metadata": {
    "collapsed": false
   },
   "outputs": [
    {
     "data": {
      "image/png": "[encoded data removed]",
      "text/latex": [
       "$$\\left [ \\left \\{ l : - \\frac{1}{2}, \\quad x : -1, \\quad y : -1, \\quad z : -1\\right \\}, \\quad \\left \\{ l : \\frac{1}{2}, \\quad x : 1, \\quad y : 1, \\quad z : 1\\right \\}\\right ]$$"
      ],
      "text/plain": [
       "[{l: -1/2, x: -1, y: -1, z: -1}, {l: 1/2, x: 1, y: 1, z: 1}]"
      ]
     },
     "execution_count": 16,
     "metadata": {},
     "output_type": "execute_result"
    }
   ],
   "source": [
    "l = symbols('l')\n",
    "solve([1-2*l*x, 2 - 4*l*y, 3-6*l*z, x**2 + 2*y**2 + 3*z**2 - 6])"
   ]
  },
  {
   "cell_type": "code",
   "execution_count": null,
   "metadata": {
    "collapsed": true
   },
   "outputs": [],
   "source": []
  }
 ],
 "metadata": {
  "kernelspec": {
   "display_name": "Python 2",
   "language": "python",
   "name": "python2"
  },
  "language_info": {
   "codemirror_mode": {
    "name": "ipython",
    "version": 2
   },
   "file_extension": ".py",
   "mimetype": "text/x-python",
   "name": "python",
   "nbconvert_exporter": "python",
   "pygments_lexer": "ipython2",
   "version": "2.7.8"
  }
 },
 "nbformat": 4,
 "nbformat_minor": 0
}
