{
 "cells": [
  {
   "cell_type": "code",
   "execution_count": 1,
   "metadata": {
    "collapsed": false
   },
   "outputs": [],
   "source": [
    "%matplotlib inline\n",
    "from __future__ import division\n",
    "#from pylab import *\n",
    "import sympy as sy\n",
    "import numpy as np\n",
    "from scipy import integrate"
   ]
  },
  {
   "cell_type": "code",
   "execution_count": 2,
   "metadata": {
    "collapsed": false
   },
   "outputs": [],
   "source": [
    "def riemann_sum(f, a, b, n):\n",
    "    delta_x = (b - a)/n\n",
    "    terms = [f(a + i*delta_x)*delta_x for i in range(1,n+1)]\n",
    "    return sum(terms)"
   ]
  },
  {
   "cell_type": "code",
   "execution_count": 4,
   "metadata": {
    "collapsed": false
   },
   "outputs": [],
   "source": [
    "def approx(f, n):\n",
    "    sn = sum([f(k) for k in np.linspace(1,n,n)])\n",
    "    lb = integrate.quad(f, n+1, np.inf)[0]\n",
    "    ub = integrate.quad(f, n, np.inf)[0]\n",
    "    return [sn + lb, sn + ub, (2*sn + lb + ub)/2, (ub - lb)/2]"
   ]
  },
  {
   "cell_type": "code",
   "execution_count": 5,
   "metadata": {
    "collapsed": false
   },
   "outputs": [
    {
     "name": "stdout",
     "output_type": "stream",
     "text": [
      "[1.6406768220756316, 1.6497677311665409, 1.6452222766210862, 0.004545454545454554]\n"
     ]
    }
   ],
   "source": [
    "\n",
    "def f(x):\n",
    "    return 1/x**2\n",
    "\n",
    "print approx(f, 10)"
   ]
  },
  {
   "cell_type": "code",
   "execution_count": 6,
   "metadata": {
    "collapsed": false
   },
   "outputs": [
    {
     "data": {
      "text/plain": [
       "1.64493406684823"
      ]
     },
     "execution_count": 6,
     "metadata": {},
     "output_type": "execute_result"
    }
   ],
   "source": [
    "n = sy.symbols('n')\n",
    "sy.summation(1/(n**2), (n, 1, sy.oo)).n()"
   ]
  },
  {
   "cell_type": "code",
   "execution_count": 7,
   "metadata": {
    "collapsed": false
   },
   "outputs": [
    {
     "data": {
      "text/plain": [
       "0.3333333333333333"
      ]
     },
     "execution_count": 7,
     "metadata": {},
     "output_type": "execute_result"
    }
   ],
   "source": [
    "integrate.quad(f, 3, np.inf)[0]"
   ]
  },
  {
   "cell_type": "code",
   "execution_count": 8,
   "metadata": {
    "collapsed": false
   },
   "outputs": [
    {
     "data": {
      "text/plain": [
       "4225"
      ]
     },
     "execution_count": 8,
     "metadata": {},
     "output_type": "execute_result"
    }
   ],
   "source": [
    "97**2 - 4*16*81"
   ]
  },
  {
   "cell_type": "code",
   "execution_count": 9,
   "metadata": {
    "collapsed": false
   },
   "outputs": [
    {
     "data": {
      "text/plain": [
       "65"
      ]
     },
     "execution_count": 9,
     "metadata": {},
     "output_type": "execute_result"
    }
   ],
   "source": [
    "sy.sqrt(4225)"
   ]
  },
  {
   "cell_type": "code",
   "execution_count": 10,
   "metadata": {
    "collapsed": false
   },
   "outputs": [
    {
     "data": {
      "text/plain": [
       "5.0625"
      ]
     },
     "execution_count": 10,
     "metadata": {},
     "output_type": "execute_result"
    }
   ],
   "source": [
    "(97+65)/32"
   ]
  },
  {
   "cell_type": "code",
   "execution_count": null,
   "metadata": {
    "collapsed": false
   },
   "outputs": [],
   "source": [
    "np.log(2.0)"
   ]
  },
  {
   "cell_type": "code",
   "execution_count": null,
   "metadata": {
    "collapsed": false
   },
   "outputs": [],
   "source": [
    "np.log(3.0)"
   ]
  },
  {
   "cell_type": "code",
   "execution_count": 13,
   "metadata": {
    "collapsed": false
   },
   "outputs": [
    {
     "data": {
      "text/plain": [
       "3/(8*log(2))"
      ]
     },
     "execution_count": 13,
     "metadata": {},
     "output_type": "execute_result"
    }
   ],
   "source": [
    "x = sy.symbols('x')\n",
    "sy.integrate(3/4**x, (x,1,sy.oo))"
   ]
  },
  {
   "cell_type": "code",
   "execution_count": 12,
   "metadata": {
    "collapsed": false
   },
   "outputs": [
    {
     "data": {
      "text/plain": [
       "[-0.54030230586813977,\n",
       " -0.1040367091367856,\n",
       " 0.10999916628893838,\n",
       " -0.040852726303975746,\n",
       " -0.011346487418529052,\n",
       " 0.026671396851399059,\n",
       " -0.015385760292720502,\n",
       " -0.0022734380282595865,\n",
       " 0.011248521751662677,\n",
       " -0.0083907152907645235]"
      ]
     },
     "execution_count": 12,
     "metadata": {},
     "output_type": "execute_result"
    }
   ],
   "source": [
    "[(-1)**n * np.cos(n)/n**2 for n in np.linspace(1,10,10)]"
   ]
  },
  {
   "cell_type": "code",
   "execution_count": 6,
   "metadata": {
    "collapsed": false
   },
   "outputs": [
    {
     "data": {
      "text/plain": [
       "2"
      ]
     },
     "execution_count": 6,
     "metadata": {},
     "output_type": "execute_result"
    }
   ],
   "source": [
    "n = sy.symbols('n')\n",
    "sy.summation((2**n + 5**n)/8**n, (n,1,sy.oo))"
   ]
  },
  {
   "cell_type": "code",
   "execution_count": 7,
   "metadata": {
    "collapsed": false
   },
   "outputs": [
    {
     "data": {
      "text/plain": [
       "1/8"
      ]
     },
     "execution_count": 7,
     "metadata": {},
     "output_type": "execute_result"
    }
   ],
   "source": [
    "sy.summation((-2)**(n-1)/6**n, (n,1,sy.oo))\n"
   ]
  },
  {
   "cell_type": "code",
   "execution_count": 8,
   "metadata": {
    "collapsed": false
   },
   "outputs": [
    {
     "data": {
      "text/plain": [
       "pi**2/6"
      ]
     },
     "execution_count": 8,
     "metadata": {},
     "output_type": "execute_result"
    }
   ],
   "source": [
    "sy.summation(1/n**2, (n,1,sy.oo))"
   ]
  },
  {
   "cell_type": "code",
   "execution_count": 14,
   "metadata": {
    "collapsed": false
   },
   "outputs": [
    {
     "data": {
      "text/plain": [
       "-0.822467033424113"
      ]
     },
     "execution_count": 14,
     "metadata": {},
     "output_type": "execute_result"
    }
   ],
   "source": [
    "def mix_terms(r, epsilon):\n",
    "    n = 1\n",
    "    sum = 0\n",
    "    if r > 0:\n",
    "        while "
   ]
  },
  {
   "cell_type": "code",
   "execution_count": 6,
   "metadata": {
    "collapsed": false
   },
   "outputs": [
    {
     "data": {
      "text/plain": [
       "-40/3"
      ]
     },
     "execution_count": 6,
     "metadata": {},
     "output_type": "execute_result"
    }
   ],
   "source": [
    "x = sy.symbols('x')\n",
    "sy.integrate(-4*sy.sqrt(x-1) + x - 1, (x, 1, 5))"
   ]
  },
  {
   "cell_type": "code",
   "execution_count": 18,
   "metadata": {
    "collapsed": false
   },
   "outputs": [
    {
     "data": {
      "text/plain": [
       "27*pi/2"
      ]
     },
     "execution_count": 18,
     "metadata": {},
     "output_type": "execute_result"
    }
   ],
   "source": [
    "2*sy.pi * sy.integrate((3-x)*(3*x - x**2), (x,0,3))"
   ]
  },
  {
   "cell_type": "code",
   "execution_count": 30,
   "metadata": {
    "collapsed": false
   },
   "outputs": [
    {
     "data": {
      "text/plain": [
       "Sum(n**(-1.5), (n, 1, oo))"
      ]
     },
     "execution_count": 30,
     "metadata": {},
     "output_type": "execute_result"
    }
   ],
   "source": [
    "sy.summation(1/n**1.5, (n,1,sy.oo))"
   ]
  },
  {
   "cell_type": "code",
   "execution_count": 38,
   "metadata": {
    "collapsed": false
   },
   "outputs": [
    {
     "data": {
      "text/plain": [
       "5500/9"
      ]
     },
     "execution_count": 38,
     "metadata": {},
     "output_type": "execute_result"
    }
   ],
   "source": [
    "sy.integrate(((4*x/3)**2)*(12-x), (x,0,5))"
   ]
  },
  {
   "cell_type": "code",
   "execution_count": 40,
   "metadata": {
    "collapsed": false
   },
   "outputs": [
    {
     "data": {
      "text/plain": [
       "29162706.4715733"
      ]
     },
     "execution_count": 40,
     "metadata": {},
     "output_type": "execute_result"
    }
   ],
   "source": [
    "(Out[38] * sy.pi * 1550 * 9.8).n()"
   ]
  },
  {
   "cell_type": "code",
   "execution_count": 13,
   "metadata": {
    "collapsed": false
   },
   "outputs": [
    {
     "name": "stdout",
     "output_type": "stream",
     "text": [
      "12 3.01987734488\n"
     ]
    }
   ],
   "source": [
    "sum = 0\n",
    "n = 1\n",
    "while sum < 3:\n",
    "    sum += 1/n\n",
    "    n += 1\n",
    "    \n",
    "print n, sum"
   ]
  },
  {
   "cell_type": "code",
   "execution_count": 2,
   "metadata": {
    "collapsed": false
   },
   "outputs": [
    {
     "name": "stdout",
     "output_type": "stream",
     "text": [
      "47\n"
     ]
    }
   ],
   "source": [
    "n = 1\n",
    "while 1/n**3 >= 0.00001:\n",
    "    n += 1\n",
    "    \n",
    "print n"
   ]
  },
  {
   "cell_type": "code",
   "execution_count": 18,
   "metadata": {
    "collapsed": false
   },
   "outputs": [
    {
     "name": "stdout",
     "output_type": "stream",
     "text": [
      "0.901542677369696\n"
     ]
    }
   ],
   "source": [
    "n = sy.symbols('n')\n",
    "s = sy.summation((-1)**(n-1)/n**3, (n,1,sy.oo))\n",
    "print s.n()"
   ]
  },
  {
   "cell_type": "code",
   "execution_count": 23,
   "metadata": {
    "collapsed": false
   },
   "outputs": [
    {
     "name": "stdout",
     "output_type": "stream",
     "text": [
      "1.0 0.875 0.912037037037 0.896412037037 0.904412037037 0.899782407407 0.902697859302 0.900744734302 0.902116476415 0.901116476415 0.901867791216 0.901289087512 0.901744253648 0.901379822161 0.901676118457 0.901431977832 0.901635519456 0.901464051692 0.90160984554 0.90148484554 0.90159282524 0.90149891089 0.901581100419 0.901508762456 0.901572762456 0.901515866689 0.901566671952 0.901521118016 0.901562120107 0.90152508307 0.901558650255 0.901528132677 0.901555959151 0.901530516448 0.901553840063 0.901532406593 0.90155214876 0.901533924529 0.901550782534 0.901535157534 0.9015496669 0.901536169437 0.901548746946 0.901537007653 0.901547981589 0.901537707898 0.901547339675 0.90153829743 0.90154679729 0.90153879729 0.901546335869 0.901539223898 0.901545940852 0.901539590194 0.901545600712 0.90153990647 0.901545306243 0.901540180981 0.901545050028 0.901540420398 0.901544826054 0.901540630155 0.901544629404 0.901540814706 0.901544456035 0.901540977726 0.901544302603 0.901541122265 0.901544166322 0.90154125087 0.901544044861 0.901541365677 0.901543936259 0.901541468488 0.901543838858 0.901541560829 0.901543751251 0.901541644001 0.901543672238 0.901541719113 0.901543600789 0.901541787119 0.901543536022 0.901541848839 0.901543477172 0.901541904983 0.901543423579 0.901541956167 0.90154337467 0.901542002927 0.901543329942 0.901542045731 0.90154328896 0.901542084988 0.901543251339 0.901542121058 0.901543216741 0.901542154258 0.901543184868 0.901542184868 0.901543155459 0.901542213136 0.901543128278 0.901542239282 0.901543103119 0.9015422635 0.901543079798 0.901542285966 0.901543058149 0.901542306834 0.901543038026 0.901542326245 0.901543019295 0.901542344324 0.90154300184 0.901542361183 0.901542985553 0.901542376922 0.901542970338 0.901542391634 0.901542956108 0.901542405401 0.901542942785 0.901542418298 0.901542930298 0.901542430392 0.901542918582 0.901542441745 0.901542907578 0.901542452412 0.901542897234 0.901542462446 0.9015428875 0.901542471891 0.901542878333 0.901542480791 0.901542869691 0.901542489184 0.901542861538 0.901542497106 0.901542853839 0.90154250459 0.901542846563 0.901542511665 0.901542839682 0.901542518359 0.901542833168 0.901542524697 0.901542826999 0.901542530703 0.901542821151 0.901542536398 0.901542815604 0.901542541802 0.901542810339 0.901542546933 0.901542805338 0.901542551808 0.901542800584 0.901542556444 0.901542796063 0.901542560854 0.901542791761 0.901542565052 0.901542787664 0.901542569051 0.90154278376 0.901542572862 0.901542780038 0.901542576497 0.901542776488 172\n"
     ]
    }
   ],
   "source": [
    "sum = 0\n",
    "n = 1\n",
    "while np.abs(s - sum) >= 0.0000001:\n",
    "    sum += (-1)**(n-1)/n**3\n",
    "    n += 1\n",
    "    print sum,\n",
    "    \n",
    "print n"
   ]
  },
  {
   "cell_type": "code",
   "execution_count": 10,
   "metadata": {
    "collapsed": false
   },
   "outputs": [
    {
     "name": "stdout",
     "output_type": "stream",
     "text": [
      "0.912037037037\n"
     ]
    }
   ],
   "source": [
    "print 1 - 1/8.0 + 1/3**3"
   ]
  },
  {
   "cell_type": "code",
   "execution_count": 21,
   "metadata": {
    "collapsed": false
   },
   "outputs": [
    {
     "data": {
      "text/plain": [
       "1/2"
      ]
     },
     "execution_count": 21,
     "metadata": {},
     "output_type": "execute_result"
    }
   ],
   "source": [
    "sy.limit(n/(2*n**3 + 1) / (1/n**2), n,sy.oo)"
   ]
  },
  {
   "cell_type": "code",
   "execution_count": 22,
   "metadata": {
    "collapsed": false
   },
   "outputs": [
    {
     "data": {
      "text/plain": [
       "6"
      ]
     },
     "execution_count": 22,
     "metadata": {},
     "output_type": "execute_result"
    }
   ],
   "source": [
    "sy.factorial(3)"
   ]
  },
  {
   "cell_type": "code",
   "execution_count": 6,
   "metadata": {
    "collapsed": false
   },
   "outputs": [
    {
     "data": {
      "text/plain": [
       "log(log(x))"
      ]
     },
     "execution_count": 6,
     "metadata": {},
     "output_type": "execute_result"
    }
   ],
   "source": [
    "x = sy.symbols('x')\n",
    "sy.integrate(1/(x*sy.log(x)), x)"
   ]
  },
  {
   "cell_type": "code",
   "execution_count": 10,
   "metadata": {
    "collapsed": false
   },
   "outputs": [
    {
     "data": {
      "text/plain": [
       "6*x - x**3/2 + 3*x**5/40 - 3*x**7/224 + x**9/384 - 3*x**11/5632 + 3*x**13/26624 - x**15/40960 + 3*x**17/557056 - 3*x**19/2490368 + O(x**20)"
      ]
     },
     "execution_count": 10,
     "metadata": {},
     "output_type": "execute_result"
    }
   ],
   "source": [
    "x = sy.symbols('x')\n",
    "sy.series(sy.integrate(24/(x**2 + 4), x), x, 0, 20)"
   ]
  },
  {
   "cell_type": "code",
   "execution_count": 7,
   "metadata": {
    "collapsed": false
   },
   "outputs": [
    {
     "data": {
      "text/plain": [
       "1 + x + x**2/2 + x**3/6 + x**4/24 + x**5/120 + x**6/720 + x**7/5040 + x**8/40320 + x**9/362880 + O(x**10)"
      ]
     },
     "execution_count": 7,
     "metadata": {},
     "output_type": "execute_result"
    }
   ],
   "source": [
    "sy.series(sy.exp(x), x, 0, 10)"
   ]
  },
  {
   "cell_type": "code",
   "execution_count": 9,
   "metadata": {
    "collapsed": false
   },
   "outputs": [
    {
     "data": {
      "text/plain": [
       "20947/2835"
      ]
     },
     "execution_count": 9,
     "metadata": {},
     "output_type": "execute_result"
    }
   ],
   "source": [
    "(1 + x + x**2/2 + x**3/6 + x**4/24 + x**5/120 + x**6/720 + x**7/5040 + x**8/40320 + x**9/362880).subs(x,2)"
   ]
  },
  {
   "cell_type": "code",
   "execution_count": 13,
   "metadata": {
    "collapsed": false
   },
   "outputs": [
    {
     "data": {
      "text/plain": [
       "0.705882352941177"
      ]
     },
     "execution_count": 13,
     "metadata": {},
     "output_type": "execute_result"
    }
   ],
   "source": [
    "(3*x**17/557056).subs(x,2).n()"
   ]
  },
  {
   "cell_type": "code",
   "execution_count": 12,
   "metadata": {
    "collapsed": false
   },
   "outputs": [
    {
     "data": {
      "text/plain": [
       "4/3"
      ]
     },
     "execution_count": 12,
     "metadata": {},
     "output_type": "execute_result"
    }
   ],
   "source": [
    "(x**9/384).subs(x,2)"
   ]
  },
  {
   "cell_type": "code",
   "execution_count": 15,
   "metadata": {
    "collapsed": false
   },
   "outputs": [
    {
     "data": {
      "text/plain": [
       "6.31580976244398"
      ]
     },
     "execution_count": 15,
     "metadata": {},
     "output_type": "execute_result"
    }
   ],
   "source": [
    "(3*x**19/249036).subs(x,2).n()"
   ]
  },
  {
   "cell_type": "code",
   "execution_count": 25,
   "metadata": {
    "collapsed": false
   },
   "outputs": [
    {
     "data": {
      "text/plain": [
       "1.5*(x - 1)**0.666666666666667"
      ]
     },
     "execution_count": 25,
     "metadata": {},
     "output_type": "execute_result"
    }
   ],
   "source": [
    "int1 = sy.integrate(1/(x-1)**(1/3), x)\n",
    "\n",
    "int1"
   ]
  },
  {
   "cell_type": "code",
   "execution_count": 26,
   "metadata": {
    "collapsed": false
   },
   "outputs": [
    {
     "data": {
      "text/plain": [
       "1.5*(t - 1)**0.666666666666667 + 0.75 - 1.29903810567666*I"
      ]
     },
     "execution_count": 26,
     "metadata": {},
     "output_type": "execute_result"
    }
   ],
   "source": [
    "int1.subs(x,t) - int1.subs(x,0)"
   ]
  },
  {
   "cell_type": "code",
   "execution_count": 19,
   "metadata": {
    "collapsed": false
   },
   "outputs": [
    {
     "data": {
      "text/plain": [
       "(-0.4999999999999998+0.8660254037844388j)"
      ]
     },
     "execution_count": 19,
     "metadata": {},
     "output_type": "execute_result"
    }
   ],
   "source": [
    "(-1)**(2/3)"
   ]
  },
  {
   "cell_type": "code",
   "execution_count": 2,
   "metadata": {
    "collapsed": false
   },
   "outputs": [],
   "source": [
    "x, y, z, t = sy.symbols('x y z t')"
   ]
  },
  {
   "cell_type": "code",
   "execution_count": 10,
   "metadata": {
    "collapsed": false
   },
   "outputs": [],
   "source": [
    "s = sy.series(x / (8-x**3), x, n=20)"
   ]
  },
  {
   "cell_type": "code",
   "execution_count": 36,
   "metadata": {
    "collapsed": false
   },
   "outputs": [
    {
     "data": {
      "text/plain": [
       "x/8 + x**4/64 + x**7/512 + x**10/4096 + x**13/32768 + x**16/262144 + x**19/2097152 + O(x**20)"
      ]
     },
     "execution_count": 36,
     "metadata": {},
     "output_type": "execute_result"
    }
   ],
   "source": [
    "s"
   ]
  },
  {
   "cell_type": "code",
   "execution_count": 14,
   "metadata": {
    "collapsed": false
   },
   "outputs": [
    {
     "data": {
      "text/plain": [
       "0.14285714285714285"
      ]
     },
     "execution_count": 14,
     "metadata": {},
     "output_type": "execute_result"
    }
   ],
   "source": [
    "1/7.0"
   ]
  },
  {
   "cell_type": "code",
   "execution_count": 34,
   "metadata": {
    "collapsed": false
   },
   "outputs": [
    {
     "data": {
      "text/plain": [
       "x - x**5/10 + x**9/216 + O(x**11)"
      ]
     },
     "execution_count": 34,
     "metadata": {},
     "output_type": "execute_result"
    }
   ],
   "source": [
    "sy.series(sy.cos(x**2), x, n = 10).integrate(x)"
   ]
  },
  {
   "cell_type": "code",
   "execution_count": 43,
   "metadata": {
    "collapsed": false
   },
   "outputs": [
    {
     "data": {
      "text/plain": [
       "-3*x + 9*(x - pi/3)**3/2 + pi"
      ]
     },
     "execution_count": 43,
     "metadata": {},
     "output_type": "execute_result"
    }
   ],
   "source": [
    "sy.series(sy.sin(3*x),x0=sy.pi/3,n=5).removeO()"
   ]
  },
  {
   "cell_type": "code",
   "execution_count": 44,
   "metadata": {
    "collapsed": false
   },
   "outputs": [
    {
     "data": {
      "text/plain": [
       "0.7333333333333334"
      ]
     },
     "execution_count": 44,
     "metadata": {},
     "output_type": "execute_result"
    }
   ],
   "source": [
    "1 - 2.0/3 + 0.4"
   ]
  },
  {
   "cell_type": "code",
   "execution_count": 51,
   "metadata": {
    "collapsed": false
   },
   "outputs": [
    {
     "data": {
      "text/plain": [
       "2.53333333333333"
      ]
     },
     "execution_count": 51,
     "metadata": {},
     "output_type": "execute_result"
    }
   ],
   "source": [
    "sy.series(sy.exp(-x**2), x0=0, n=5).integrate().removeO().subs(x,2.0)"
   ]
  },
  {
   "cell_type": "code",
   "execution_count": 52,
   "metadata": {
    "collapsed": false
   },
   "outputs": [
    {
     "data": {
      "text/plain": [
       "3/2 - (x - 9)**2/216 + (x - 9)**3/3888 + x/6 + O((x - 9)**4, (x, 9))"
      ]
     },
     "execution_count": 52,
     "metadata": {},
     "output_type": "execute_result"
    }
   ],
   "source": [
    "sy.series(sy.sqrt(x), x0=9, n=4)"
   ]
  },
  {
   "cell_type": "code",
   "execution_count": 53,
   "metadata": {
    "collapsed": false
   },
   "outputs": [
    {
     "data": {
      "text/plain": [
       "108"
      ]
     },
     "execution_count": 53,
     "metadata": {},
     "output_type": "execute_result"
    }
   ],
   "source": [
    "4*27"
   ]
  },
  {
   "cell_type": "code",
   "execution_count": null,
   "metadata": {
    "collapsed": true
   },
   "outputs": [],
   "source": []
  }
 ],
 "metadata": {
  "anaconda-cloud": {},
  "hide_input": false,
  "kernelspec": {
   "display_name": "Python [default]",
   "language": "python",
   "name": "python3"
  },
  "language_info": {
   "codemirror_mode": {
    "name": "ipython",
    "version": 3
   },
   "file_extension": ".py",
   "mimetype": "text/x-python",
   "name": "python",
   "nbconvert_exporter": "python",
   "pygments_lexer": "ipython3",
   "version": "3.5.2"
  },
  "latex_envs": {
   "bibliofile": "biblio.bib",
   "cite_by": "apalike",
   "current_citInitial": 1,
   "eqLabelWithNumbers": true,
   "eqNumInitial": 0
  }
 },
 "nbformat": 4,
 "nbformat_minor": 0
}
