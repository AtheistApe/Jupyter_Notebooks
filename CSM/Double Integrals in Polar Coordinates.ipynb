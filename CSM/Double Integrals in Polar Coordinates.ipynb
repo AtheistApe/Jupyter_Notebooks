{
 "cells": [
  {
   "cell_type": "markdown",
   "metadata": {},
   "source": [
    "<img  src=\"Screenshot 2016-05-04 07.49.37.png\"/>"
   ]
  },
  {
   "cell_type": "markdown",
   "metadata": {
    "collapsed": true
   },
   "source": [
    "In polar coordinates we make the substitution $x^2 + y^2 = r^2$ and $dA = dx\\,dy = r\\,dr\\,d\\theta$ in the integrand to get\n",
    "\n",
    "$$\\iint_D (r^2)^{3/2} r\\,dr\\,d\\theta = \\iint_D r^4\\,dr\\,d\\theta$$\n",
    "\n",
    "To integrate through the disk of radius 3, the limits of integration must be $0 \\leq \\theta \\leq 2\\pi$ and $0 \\leq r \\leq 3$. Hence, the iterated integral is\n",
    "\n",
    "$$\\int_{\\theta = 0}^{2\\pi} \\int_{r = 0}^3 r^4\\,dr\\,d\\theta$$\n",
    "\n",
    "Since the limits of integration are constants and the integrand is separable into a product of functions of $r$ and $\\theta$, we can write the iterated double integral as a product of two single integrals.\n",
    "\n",
    "$$\\int_{\\theta = 0}^{2\\pi}\\,d\\theta \\cdot \\int_{r = 0}^3 r^4\\,dr$$\n",
    "\n",
    "The first integral evaluates to $2\\pi$ and the second integral becomes\n",
    "\n",
    "$$\\int_{r = 0}^3 r^4\\,dr = \\left.\\frac{1}{5} r^5\\right|_0^3 = \\frac{243}{5}$$\n",
    "\n",
    "Therefore\n",
    "\n",
    "$$\\iint_D x^2 + y^2\\,dx\\,dy = 2\\pi\\cdot\\frac{243}{5} = \\frac{486\\pi}{5}$$"
   ]
  },
  {
   "cell_type": "code",
   "execution_count": null,
   "metadata": {
    "collapsed": true
   },
   "outputs": [],
   "source": []
  }
 ],
 "metadata": {
  "hide_input": false,
  "kernelspec": {
   "display_name": "Python [default]",
   "language": "python",
   "name": "python3"
  },
  "language_info": {
   "codemirror_mode": {
    "name": "ipython",
    "version": 3
   },
   "file_extension": ".py",
   "mimetype": "text/x-python",
   "name": "python",
   "nbconvert_exporter": "python",
   "pygments_lexer": "ipython3",
   "version": "3.5.4"
  },
  "latex_envs": {
   "bibliofile": "biblio.bib",
   "cite_by": "apalike",
   "current_citInitial": 1,
   "eqLabelWithNumbers": true,
   "eqNumInitial": 0
  }
 },
 "nbformat": 4,
 "nbformat_minor": 1
}
