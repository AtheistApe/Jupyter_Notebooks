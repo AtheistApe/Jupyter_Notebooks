{
 "cells": [
  {
   "cell_type": "code",
   "execution_count": 5,
   "metadata": {
    "collapsed": false
   },
   "outputs": [],
   "source": [
    "from numpy import exp, linspace, dot\n",
    "import sympy as sy"
   ]
  },
  {
   "cell_type": "code",
   "execution_count": 2,
   "metadata": {
    "collapsed": false
   },
   "outputs": [
    {
     "name": "stdout",
     "output_type": "stream",
     "text": [
      "[ 1.   1.5  2.   2.5  3.   3.5]\n"
     ]
    }
   ],
   "source": [
    "def f(x):\n",
    "    return 3*x**2 - 2\n",
    "\n",
    "interval = np.arange(1, 4, 0.5)\n",
    "print(interval)"
   ]
  },
  {
   "cell_type": "markdown",
   "metadata": {},
   "source": [
    "We imported \"numpy\" (a numerical python package) to have access to a lot of useful\n",
    "methods (functions). In particular, I want the arange method which will create a\n",
    "partition of an interval $[a, b]$ into equally spaced subintervals.\n",
    "\n",
    "I defined a function $f(x) = 3x^2 - 2$. Notice the use of the double asterix for\n",
    "exponentiation.\n",
    "\n",
    "I used this method \"arange\" to create an interval which I called \"interval\". Note\n",
    "that by default \"arange\" creates a partition of left endpoints of subintervals. One\n",
    "of the nice things about these arrays of numbers is that we can apply functions to\n",
    "them as a whole as the examples below illustrate."
   ]
  },
  {
   "cell_type": "code",
   "execution_count": 3,
   "metadata": {
    "collapsed": false
   },
   "outputs": [
    {
     "name": "stdout",
     "output_type": "stream",
     "text": [
      "[ 1.5  2.   2.5  3.   3.5  4. ]\n"
     ]
    }
   ],
   "source": [
    "print(interval + 0.5) # Add 0.5 to each element of the array"
   ]
  },
  {
   "cell_type": "code",
   "execution_count": 4,
   "metadata": {
    "collapsed": false
   },
   "outputs": [
    {
     "name": "stdout",
     "output_type": "stream",
     "text": [
      "[ 2.  3.  4.  5.  6.  7.]\n"
     ]
    }
   ],
   "source": [
    "print(interval * 2) # Multiply each element of the array by 2"
   ]
  },
  {
   "cell_type": "code",
   "execution_count": 5,
   "metadata": {
    "collapsed": false
   },
   "outputs": [
    {
     "name": "stdout",
     "output_type": "stream",
     "text": [
      "[  1.     2.25   4.     6.25   9.    12.25]\n"
     ]
    }
   ],
   "source": [
    "print(interval**2) # Square each element of the array"
   ]
  },
  {
   "cell_type": "code",
   "execution_count": 6,
   "metadata": {
    "collapsed": false
   },
   "outputs": [
    {
     "name": "stdout",
     "output_type": "stream",
     "text": [
      "[  1.     4.75  10.    16.75  25.    34.75]\n"
     ]
    }
   ],
   "source": [
    "print(f(interval)) # Apply the function f to each element of the array"
   ]
  },
  {
   "cell_type": "markdown",
   "metadata": {},
   "source": [
    "We can sum all the elements of an array with the \"sum\" function as shown below."
   ]
  },
  {
   "cell_type": "code",
   "execution_count": 7,
   "metadata": {
    "collapsed": false
   },
   "outputs": [
    {
     "name": "stdout",
     "output_type": "stream",
     "text": [
      "92.25\n"
     ]
    }
   ],
   "source": [
    "print(sum(f(interval))) # Riemann sum"
   ]
  },
  {
   "cell_type": "code",
   "execution_count": 1,
   "metadata": {
    "collapsed": false
   },
   "outputs": [],
   "source": [
    "# Evaluates the integral of func over the interval [a, b]\n",
    "# using the a variety of formulas with n subintervals\n",
    "from numpy import linspace, dot, exp\n",
    "def numint(func, a, b, n, method=\"midptrule\"):\n",
    "    deltax = (b - a)/float(n)\n",
    "    points = linspace(a, b, n+1)\n",
    "    coeffs = []\n",
    "    \n",
    "    if method == \"midptrule\":\n",
    "        midpts = [(points[i] + points[i+1])/2.0 for i in range(n)]\n",
    "        return sum(map(func, midpts))*deltax\n",
    "    \n",
    "    elif method == \"traprule\":\n",
    "        for k in xrange(n+1):\n",
    "            if k == 0 or k == n:\n",
    "                coeffs.append(1)\n",
    "            else:\n",
    "                coeffs.append(2)\n",
    "                \n",
    "        return deltax/2.0 * dot(coeffs, map(func,points))\n",
    "    \n",
    "    elif method == \"simpsonrule\":\n",
    "        for k in xrange(n+1):\n",
    "            if k == 0 or k == n:\n",
    "                coeffs.append(1)\n",
    "            elif k%2 == 1:\n",
    "                coeffs.append(4)\n",
    "            else:\n",
    "                coeffs.append(2)\n",
    "                                                \n",
    "        return deltax/3.0 * dot(coeffs, map(func,points))\n",
    "    \n",
    "    else:\n",
    "        print(\"Unsupported method\")"
   ]
  },
  {
   "cell_type": "code",
   "execution_count": 2,
   "metadata": {
    "collapsed": false
   },
   "outputs": [
    {
     "data": {
      "text/plain": [
       "1.8727632318012724"
      ]
     },
     "execution_count": 2,
     "metadata": {},
     "output_type": "execute_result"
    }
   ],
   "source": [
    "def f(x):\n",
    "    return exp(-x**2)\n",
    "\n",
    "numint(f, -3, 3, 6, \"simpsonrule\")"
   ]
  },
  {
   "cell_type": "code",
   "execution_count": 1,
   "metadata": {
    "collapsed": false
   },
   "outputs": [],
   "source": [
    "def simpson(f,a,b,n):\n",
    "    xis = linspace(a, b, n+1)\n",
    "    sum = 0.0\n",
    "    for i in range(n+1):\n",
    "        if i == 0 or i == n:\n",
    "            sum = sum + f(xis[i])\n",
    "        elif i % 2 == 1:\n",
    "            sum = sum + 4*f(xis[i])\n",
    "        else:\n",
    "            sum = sum + 2*f(xis[i])\n",
    "    return (b - a)/(3.0*n) * sum"
   ]
  },
  {
   "cell_type": "code",
   "execution_count": 21,
   "metadata": {
    "collapsed": false
   },
   "outputs": [],
   "source": [
    "def traprule(f,a,b,n):\n",
    "    xis = linspace(a, b, n+1)\n",
    "    sum = 0.0\n",
    "    for i in range(n+1):\n",
    "        if i == 0 or i == n:\n",
    "            sum = sum + f(xis[i])\n",
    "        else:\n",
    "            sum = sum + 2*f(xis[i])\n",
    "    return (b - a)/(2.0*n) * sum"
   ]
  },
  {
   "cell_type": "code",
   "execution_count": 23,
   "metadata": {
    "collapsed": false
   },
   "outputs": [
    {
     "name": "stdout",
     "output_type": "stream",
     "text": [
      "1.8727632318 1.8727632318\n",
      "1.77251356992 1.77251356992\n"
     ]
    }
   ],
   "source": [
    "print simpson(f, -3, 3, 6), numint(f, -3, 3, 6, \"simpsonrule\")\n",
    "print traprule(f, -3, 3, 6), numint(f, -3, 3, 6, \"traprule\")"
   ]
  },
  {
   "cell_type": "code",
   "execution_count": 6,
   "metadata": {
    "collapsed": false
   },
   "outputs": [
    {
     "name": "stdout",
     "output_type": "stream",
     "text": [
      "1.772345139\n"
     ]
    }
   ],
   "source": [
    "print simpson(f, -3, 3, 12)"
   ]
  },
  {
   "cell_type": "code",
   "execution_count": null,
   "metadata": {
    "collapsed": false
   },
   "outputs": [],
   "source": []
  }
 ],
 "metadata": {
  "kernelspec": {
   "display_name": "Python 2",
   "language": "python",
   "name": "python2"
  },
  "language_info": {
   "codemirror_mode": {
    "name": "ipython",
    "version": 2
   },
   "file_extension": ".py",
   "mimetype": "text/x-python",
   "name": "python",
   "nbconvert_exporter": "python",
   "pygments_lexer": "ipython2",
   "version": "2.7.8"
  }
 },
 "nbformat": 4,
 "nbformat_minor": 0
}
