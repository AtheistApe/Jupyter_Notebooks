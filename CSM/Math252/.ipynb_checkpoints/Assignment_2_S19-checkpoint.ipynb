{
 "cells": [
  {
   "cell_type": "code",
   "execution_count": 38,
   "metadata": {},
   "outputs": [
    {
     "data": {
      "text/plain": [
       "Plots.PyPlotBackend()"
      ]
     },
     "execution_count": 38,
     "metadata": {},
     "output_type": "execute_result"
    }
   ],
   "source": [
    "using Calculus\n",
    "using Plots\n",
    "pyplot()"
   ]
  },
  {
   "cell_type": "code",
   "execution_count": 73,
   "metadata": {},
   "outputs": [],
   "source": [
    "h1(t) = -16*t^2 + 78*t + 10\n",
    "v1(t) = -32*t + 78\n",
    "\n",
    "h2(t) = -16*t^2 + 64*t\n",
    "v2(t) = -32*t + 64\n",
    "\n",
    "h3(t) = -16*t^2 + 48*t\n",
    "v3(t) = -32*t + 48;"
   ]
  },
  {
   "cell_type": "code",
   "execution_count": 83,
   "metadata": {},
   "outputs": [
    {
     "data": {
      "image/png": "[encoded data removed]"
     },
     "execution_count": 83,
     "metadata": {},
     "output_type": "execute_result"
    }
   ],
   "source": [
    "plot(h1, 0,5)"
   ]
  },
  {
   "cell_type": "code",
   "execution_count": 80,
   "metadata": {},
   "outputs": [
    {
     "data": {
      "text/plain": [
       "f (generic function with 1 method)"
      ]
     },
     "execution_count": 80,
     "metadata": {},
     "output_type": "execute_result"
    }
   ],
   "source": [
    "function heaviside(t)\n",
    "   0.5 * (sign(t) + 1)\n",
    "end\n",
    "\n",
    "function interval(t, a, b)\n",
    "   heaviside(t-a) - heaviside(t-b)\n",
    "end\n",
    "\n",
    "function piecewise(t)\n",
    "   sinc(t) .* interval(t,-3,3) + cos(t) .* interval(t, 4,7)\n",
    "end\n",
    "\n",
    "function h(t)\n",
    "    h1(t) .* interval(t,0,5) + h2(t.-5) .* interval(t,5,9) + h3(t.-9.0) .* interval(9,12)\n",
    "end\n",
    "\n",
    "function f(t)\n",
    "    sin(t) .* interval(t,0,pi) + cos(t) .* interval(t,pi,2*pi)\n",
    "end"
   ]
  },
  {
   "cell_type": "code",
   "execution_count": 81,
   "metadata": {},
   "outputs": [
    {
     "ename": "MethodError",
     "evalue": "MethodError: no method matching interval(::Int64, ::Int64)\nClosest candidates are:\n  interval(::Any, ::Any, !Matched::Any) at In[80]:6",
     "output_type": "error",
     "traceback": [
      "MethodError: no method matching interval(::Int64, ::Int64)\nClosest candidates are:\n  interval(::Any, ::Any, !Matched::Any) at In[80]:6",
      "",
      "Stacktrace:",
      " [1] h(::Float64) at ./In[80]:14",
      " [2] iterate at ./generator.jl:47 [inlined]",
      " [3] collect at ./array.jl:619 [inlined]",
      " [4] #adapted_grid#25(::Int64, ::Function, ::typeof(h), ::Tuple{Int64,Int64}) at /home/gary/.julia/packages/PlotUtils/GxT73/src/adapted_grid.jl:43",
      " [5] adapted_grid(::Function, ::Tuple{Int64,Int64}) at /home/gary/.julia/packages/PlotUtils/GxT73/src/adapted_grid.jl:16",
      " [6] macro expansion at /home/gary/.julia/packages/Plots/ex9On/src/series.jl:513 [inlined]",
      " [7] apply_recipe(::Dict{Symbol,Any}, ::Function, ::Int64, ::Int64) at /home/gary/.julia/packages/RecipesBase/Sk8IO/src/RecipesBase.jl:293",
      " [8] _process_userrecipes(::Plots.Plot{Plots.PyPlotBackend}, ::Dict{Symbol,Any}, ::Tuple{typeof(h),Int64,Int64}) at /home/gary/.julia/packages/Plots/ex9On/src/pipeline.jl:83",
      " [9] macro expansion at ./logging.jl:307 [inlined]",
      " [10] _plot!(::Plots.Plot{Plots.PyPlotBackend}, ::Dict{Symbol,Any}, ::Tuple{typeof(h),Int64,Int64}) at /home/gary/.julia/packages/Plots/ex9On/src/plot.jl:171",
      " [11] #plot#136(::Base.Iterators.Pairs{Union{},Union{},Tuple{},NamedTuple{(),Tuple{}}}, ::Function, ::Function, ::Vararg{Any,N} where N) at /home/gary/.julia/packages/Plots/ex9On/src/plot.jl:57",
      " [12] plot(::Function, ::Int64, ::Vararg{Int64,N} where N) at /home/gary/.julia/packages/Plots/ex9On/src/plot.jl:51",
      " [13] top-level scope at In[81]:1"
     ]
    }
   ],
   "source": [
    "plot(h, 0,12)"
   ]
  },
  {
   "cell_type": "code",
   "execution_count": null,
   "metadata": {},
   "outputs": [],
   "source": []
  }
 ],
 "metadata": {
  "@webio": {
   "lastCommId": "e8f96214318e442bb6a9ba1ccac900e2",
   "lastKernelId": "b88eda8f-c157-458d-906a-6c45d1d1902c"
  },
  "kernelspec": {
   "display_name": "Julia 0.7.0",
   "language": "julia",
   "name": "julia-0.7"
  },
  "language_info": {
   "file_extension": ".jl",
   "mimetype": "application/julia",
   "name": "julia",
   "version": "0.7.0"
  }
 },
 "nbformat": 4,
 "nbformat_minor": 2
}
