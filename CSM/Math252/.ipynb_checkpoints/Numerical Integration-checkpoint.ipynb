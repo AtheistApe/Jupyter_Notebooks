{
 "cells": [
  {
   "cell_type": "markdown",
   "metadata": {},
   "source": [
    "### **Numerical approximation of** $\\int_a^b f(x)\\;dx$\n",
    "\n",
    "This notebook examines the various numerical schemes used to evaluate a definite integral. The methods include:\n",
    "\n",
    "* The left endpoint approximation\n",
    "* The right endpoint approximation\n",
    "* The midpoint approximation\n",
    "* The trapezoid rule\n",
    "* Simpson's rule"
   ]
  },
  {
   "cell_type": "code",
   "execution_count": 1,
   "metadata": {
    "collapsed": true,
    "run_control": {
     "marked": false
    }
   },
   "outputs": [],
   "source": [
    "# Evaluates the integral of func over the interval [a, b]\n",
    "# using the a variety of formulas with n subintervals\n",
    "from numpy import linspace, dot, exp, sin\n",
    "\n",
    "def numint(func, a, b, n, method=\"midptrule\"):\n",
    "    \"\"\"Numerical integration of a specified function using a variety of methods.\n",
    "    \n",
    "    Called as: numint(func, a, b, n, method=\"method\")\n",
    "    \n",
    "    where:\n",
    "    \n",
    "        \"func\"   : The function to be integrated\n",
    "        \"a\"      : The left endpoint of the interval\n",
    "        \"b\"      : The right endpoint of the interval\n",
    "        \"n\"      : The number of subintervals; Must be \n",
    "                    an even number for \"simpsonrule\"\n",
    "        \"method\" : The method to use.\n",
    "        \n",
    "    The \"method\" can be one of:\n",
    "    \n",
    "        \"rightrule\"   : The right endpoint rule\n",
    "        \"leftrule\"    : The left endpoint rule\n",
    "        \"midptrule\"   : The midpoint rule\n",
    "        \"traprule\"    : The trapezoid rule\n",
    "        \"simpsonrule\" : Simpson's rule\n",
    "        \n",
    "    \"\"\"\n",
    "    \n",
    "    deltax = (b - a)/float(n)\n",
    "    points = linspace(a, b, n+1)\n",
    "    coeffs = []\n",
    "    \n",
    "    if method == \"rightrule\":\n",
    "        rtpts = [points[i+1] for i in range(n)]\n",
    "        return sum(map(func, rtpts))*deltax\n",
    "    \n",
    "    elif method == \"leftrule\":\n",
    "        ltpts = [points[i] for i in range(n)]\n",
    "        return sum(map(func, ltpts))*deltax\n",
    "    \n",
    "    elif method == \"midptrule\":\n",
    "        midpts = [(points[i] + points[i+1])/2.0 for i in range(n)]\n",
    "        return sum(map(func, midpts))*deltax\n",
    "    \n",
    "    elif method == \"traprule\":\n",
    "        for k in range(n+1):\n",
    "            if k == 0 or k == n:\n",
    "                coeffs.append(1)\n",
    "            else:\n",
    "                coeffs.append(2)\n",
    "                \n",
    "        return deltax/2.0 * dot(coeffs, list(map(func,points)))\n",
    "    \n",
    "    elif method == \"simpsonrule\":\n",
    "        if n%2 != 0:\n",
    "            print(\"n must be an even integer for Simpson's rule\")\n",
    "        else:\n",
    "            for k in range(n+1):\n",
    "                if k == 0 or k == n:\n",
    "                    coeffs.append(1)\n",
    "                elif k%2 == 1:\n",
    "                    coeffs.append(4)\n",
    "                else:\n",
    "                    coeffs.append(2)\n",
    "\n",
    "            return deltax/3.0 * dot(coeffs, list(map(func,points)))\n",
    "    \n",
    "    else:\n",
    "        print(\"Unsupported method\")"
   ]
  },
  {
   "cell_type": "code",
   "execution_count": 3,
   "metadata": {},
   "outputs": [
    {
     "data": {
      "text/plain": [
       "23.083333333333336"
      ]
     },
     "execution_count": 3,
     "metadata": {},
     "output_type": "execute_result"
    }
   ],
   "source": [
    "numint(lambda x: -x**2/6 + 2*x, 4, 8, 8, method=\"leftrule\")"
   ]
  },
  {
   "cell_type": "code",
   "execution_count": 4,
   "metadata": {},
   "outputs": [
    {
     "data": {
      "text/plain": [
       "23.083333333333332"
      ]
     },
     "execution_count": 4,
     "metadata": {},
     "output_type": "execute_result"
    }
   ],
   "source": [
    "numint(lambda x: -x**2/6 + 2*x, 4, 8, 8, method=\"rightrule\")"
   ]
  },
  {
   "cell_type": "code",
   "execution_count": 5,
   "metadata": {},
   "outputs": [
    {
     "data": {
      "text/plain": [
       "70.0"
      ]
     },
     "execution_count": 5,
     "metadata": {},
     "output_type": "execute_result"
    }
   ],
   "source": [
    "numint(lambda x: 25-x**2, 0, 5, 5, method=\"rightrule\")"
   ]
  },
  {
   "cell_type": "code",
   "execution_count": 6,
   "metadata": {},
   "outputs": [
    {
     "data": {
      "text/plain": [
       "95.0"
      ]
     },
     "execution_count": 6,
     "metadata": {},
     "output_type": "execute_result"
    }
   ],
   "source": [
    "numint(lambda x: 25-x**2, 0, 5, 5, method=\"leftrule\")"
   ]
  },
  {
   "cell_type": "code",
   "execution_count": 7,
   "metadata": {},
   "outputs": [
    {
     "data": {
      "text/plain": [
       "83.75"
      ]
     },
     "execution_count": 7,
     "metadata": {},
     "output_type": "execute_result"
    }
   ],
   "source": [
    "numint(lambda x: 25-x**2, 0, 5, 5, method=\"midptrule\")"
   ]
  },
  {
   "cell_type": "code",
   "execution_count": 2,
   "metadata": {
    "collapsed": true
   },
   "outputs": [],
   "source": [
    "def f(x):\n",
    "    return exp(-x**2)"
   ]
  },
  {
   "cell_type": "code",
   "execution_count": 3,
   "metadata": {},
   "outputs": [
    {
     "data": {
      "text/plain": [
       "0.88207487685449404"
      ]
     },
     "execution_count": 3,
     "metadata": {},
     "output_type": "execute_result"
    }
   ],
   "source": [
    "numint(f,0,2,10,method=\"simpsonrule\")"
   ]
  },
  {
   "cell_type": "code",
   "execution_count": 4,
   "metadata": {},
   "outputs": [
    {
     "name": "stdout",
     "output_type": "stream",
     "text": [
      "n = 2     value = 0.8299444679\n",
      "n = 4     value = 0.8818124253\n",
      "n = 8     value = 0.8820655104\n",
      "n = 16    value = 0.8820803966\n",
      "n = 32    value = 0.8820813286\n",
      "n = 64    value = 0.8820813869\n",
      "n = 128   value = 0.8820813905\n",
      "n = 256   value = 0.8820813907\n",
      "n = 512   value = 0.8820813908\n",
      "n = 1024  value = 0.8820813908\n"
     ]
    }
   ],
   "source": [
    "values =[[n, numint(f,0,2,n,method=\"simpsonrule\")] for n in [2,4,8,16,32,64,128,256,512,1024]]\n",
    "\n",
    "for v in values:\n",
    "    print(\"n = {0:<5} value = {1:.10f}\".format(v[0], v[1]))"
   ]
  },
  {
   "cell_type": "code",
   "execution_count": 5,
   "metadata": {},
   "outputs": [
    {
     "name": "stdout",
     "output_type": "stream",
     "text": [
      "n = 1     value = 29.55622440\n",
      "n = 2     value = 45.60763750\n",
      "n = 4     value = 51.42835626\n",
      "n = 8     value = 53.04388035\n",
      "n = 16    value = 53.45882554\n"
     ]
    }
   ],
   "source": [
    "values = [[n, numint(lambda x: exp(x), 0, 4, n, method=\"midptrule\")] for n in [2**k for k in range(5)]] \n",
    "\n",
    "for v in values:\n",
    "    print('n = {0:<5} value = {1:.8f}'.format(v[0], v[1]))"
   ]
  },
  {
   "cell_type": "code",
   "execution_count": 6,
   "metadata": {},
   "outputs": [
    {
     "data": {
      "text/plain": [
       "14.713070896714395"
      ]
     },
     "execution_count": 6,
     "metadata": {},
     "output_type": "execute_result"
    }
   ],
   "source": [
    "numint(lambda x: 3 - 0.5*sin(x), -2, 3, 20, method=\"simpsonrule\")"
   ]
  },
  {
   "cell_type": "code",
   "execution_count": 7,
   "metadata": {},
   "outputs": [
    {
     "name": "stdout",
     "output_type": "stream",
     "text": [
      "method: rightrule      value = 1.54498713\n",
      "method: leftrule       value = 1.67832046\n",
      "method: midptrule      value = 1.60833234\n",
      "method: traprule       value = 1.61165380\n",
      "method: simpsonrule    value = 1.60946207\n"
     ]
    }
   ],
   "source": [
    "methods = [\"rightrule\", \"leftrule\", \"midptrule\", \"traprule\", \"simpsonrule\"]\n",
    "values = [[rule, numint(lambda x: 1/x, 1, 5, 24, rule)] for rule in methods]\n",
    "\n",
    "for v in values:\n",
    "    print('method: {0:<14} value = {1:.8f}'.format(v[0], v[1]))"
   ]
  },
  {
   "cell_type": "code",
   "execution_count": 8,
   "metadata": {},
   "outputs": [
    {
     "data": {
      "text/plain": [
       "1.6094379124341003"
      ]
     },
     "execution_count": 8,
     "metadata": {},
     "output_type": "execute_result"
    }
   ],
   "source": [
    "from numpy import log\n",
    "log(5)"
   ]
  },
  {
   "cell_type": "code",
   "execution_count": 9,
   "metadata": {
    "collapsed": true
   },
   "outputs": [],
   "source": [
    "import matplotlib.pyplot as plt\n",
    "from numpy import arange"
   ]
  },
  {
   "cell_type": "code",
   "execution_count": 10,
   "metadata": {
    "collapsed": true
   },
   "outputs": [],
   "source": [
    "xvals = arange(6,12,2)\n",
    "#xvals = [2**k for k in arange(1,6,1)]\n",
    "midError = [abs(log(5) - numint(lambda x: 1/x, 1, 5, n, 'midptrule')) for n in xvals]\n",
    "trapError = [abs(log(5) - numint(lambda x: 1/x, 1, 5, n, 'traprule')) for n in xvals]\n",
    "simpError = [abs(log(5) - numint(lambda x: 1/x, 1, 5, n, 'simpsonrule')) for n in xvals]"
   ]
  },
  {
   "cell_type": "code",
   "execution_count": 11,
   "metadata": {},
   "outputs": [
    {
     "data": {
      "image/png": "[encoded data removed]",
      "text/plain": [
       "<matplotlib.figure.Figure at 0x10ce76828>"
      ]
     },
     "metadata": {},
     "output_type": "display_data"
    }
   ],
   "source": [
    "plt.plot(xvals, midError, 'bs-', xvals, trapError, 'g^-', xvals, simpError, 'ro-')\n",
    "plt.show()"
   ]
  },
  {
   "cell_type": "code",
   "execution_count": 12,
   "metadata": {},
   "outputs": [
    {
     "data": {
      "text/plain": [
       "84.26666666666667"
      ]
     },
     "execution_count": 12,
     "metadata": {},
     "output_type": "execute_result"
    }
   ],
   "source": [
    "deltax = 2\n",
    "values = [0, 6.2, 7.2, 6.8, 5.6, 5.0, 4.8, 4.8, 0]\n",
    "coeffs = [1, 4, 2, 4, 2, 4, 2, 4, 1]\n",
    "\n",
    "deltax/3 * sum([values[i]*coeffs[i] for i in range(len(values))])"
   ]
  },
  {
   "cell_type": "code",
   "execution_count": 13,
   "metadata": {},
   "outputs": [
    {
     "data": {
      "text/plain": [
       "438.6666666666667"
      ]
     },
     "execution_count": 13,
     "metadata": {},
     "output_type": "execute_result"
    }
   ],
   "source": [
    "deltax = 100\n",
    "values = [0, 60, 65, 73, 81, 79, 71, 73, 78, 78, 0]\n",
    "# coeffs = [1, 4, 2, 4, 2, 4, 2, 4, 2, 4, 1]\n",
    "coeffs = [1, 2, 2, 2, 2, 2, 2, 2, 2, 2, 1]\n",
    "\n",
    "deltax/2 * sum([values[i]*coeffs[i] for i in range(len(values))])/150"
   ]
  },
  {
   "cell_type": "code",
   "execution_count": 14,
   "metadata": {
    "collapsed": true
   },
   "outputs": [],
   "source": [
    "import sympy as sy"
   ]
  },
  {
   "cell_type": "code",
   "execution_count": 15,
   "metadata": {},
   "outputs": [
    {
     "data": {
      "text/plain": [
       "4*(4*x**4 - 12*x**2 + 3)*exp(-x**2)"
      ]
     },
     "execution_count": 15,
     "metadata": {},
     "output_type": "execute_result"
    }
   ],
   "source": [
    "x, y, z, t = sy.var('x y z t')\n",
    "d4x = sy.diff(sy.exp(-x**2), x, 4)\n",
    "\n",
    "d4x"
   ]
  },
  {
   "cell_type": "code",
   "execution_count": 16,
   "metadata": {},
   "outputs": [
    {
     "data": {
      "image/png": "[encoded data removed]",
      "text/plain": [
       "<matplotlib.figure.Figure at 0x10e9e69b0>"
      ]
     },
     "metadata": {},
     "output_type": "display_data"
    },
    {
     "data": {
      "text/plain": [
       "<sympy.plotting.plot.Plot at 0x10e96ed30>"
      ]
     },
     "execution_count": 16,
     "metadata": {},
     "output_type": "execute_result"
    }
   ],
   "source": [
    "sy.plot(abs(d4x), (x,-5,5))"
   ]
  },
  {
   "cell_type": "code",
   "execution_count": 17,
   "metadata": {},
   "outputs": [
    {
     "data": {
      "image/png": "[encoded data removed]",
      "text/plain": [
       "<matplotlib.figure.Figure at 0x10eb6eb38>"
      ]
     },
     "metadata": {},
     "output_type": "display_data"
    },
    {
     "data": {
      "text/plain": [
       "<sympy.plotting.plot.Plot at 0x10eb76630>"
      ]
     },
     "execution_count": 17,
     "metadata": {},
     "output_type": "execute_result"
    }
   ],
   "source": [
    "sy.plot(abs(d4x), (x, -1, 1))"
   ]
  },
  {
   "cell_type": "code",
   "execution_count": 18,
   "metadata": {},
   "outputs": [
    {
     "data": {
      "text/plain": [
       "12"
      ]
     },
     "execution_count": 18,
     "metadata": {},
     "output_type": "execute_result"
    }
   ],
   "source": [
    "d4x.subs(x,0)"
   ]
  },
  {
   "cell_type": "code",
   "execution_count": 19,
   "metadata": {
    "collapsed": true
   },
   "outputs": [],
   "source": [
    "def ErrorSimp(a, b, n, K):\n",
    "    return K*(b - a)**5 / (180 * n**4)"
   ]
  },
  {
   "cell_type": "code",
   "execution_count": 20,
   "metadata": {},
   "outputs": [
    {
     "data": {
      "text/plain": [
       "2.5117348251028806e-08"
      ]
     },
     "execution_count": 20,
     "metadata": {},
     "output_type": "execute_result"
    }
   ],
   "source": [
    "ErrorSimp(0, 2, 96, 12)"
   ]
  },
  {
   "cell_type": "code",
   "execution_count": 21,
   "metadata": {},
   "outputs": [
    {
     "data": {
      "text/plain": [
       "0.88208138999567232"
      ]
     },
     "execution_count": 21,
     "metadata": {},
     "output_type": "execute_result"
    }
   ],
   "source": [
    "numint(lambda x: exp(-x**2), 0, 2, 96, \"simpsonrule\")"
   ]
  },
  {
   "cell_type": "code",
   "execution_count": 22,
   "metadata": {},
   "outputs": [
    {
     "data": {
      "text/plain": [
       "0.882081390762422"
      ]
     },
     "execution_count": 22,
     "metadata": {},
     "output_type": "execute_result"
    }
   ],
   "source": [
    "sy.integrate(sy.exp(-x**2), (x,0,2)).n()"
   ]
  },
  {
   "cell_type": "code",
   "execution_count": 23,
   "metadata": {},
   "outputs": [
    {
     "data": {
      "text/plain": [
       "1.0999999999999999"
      ]
     },
     "execution_count": 23,
     "metadata": {},
     "output_type": "execute_result"
    }
   ],
   "source": [
    "numint(lambda x: x**2/(1+x), 0, 2, 4, \"simpsonrule\")"
   ]
  },
  {
   "cell_type": "code",
   "execution_count": 24,
   "metadata": {},
   "outputs": [
    {
     "data": {
      "text/plain": [
       "1.09861228866811"
      ]
     },
     "execution_count": 24,
     "metadata": {},
     "output_type": "execute_result"
    }
   ],
   "source": [
    "sy.integrate(x**2/(1+x), (x,0,2)).n()"
   ]
  },
  {
   "cell_type": "code",
   "execution_count": 25,
   "metadata": {},
   "outputs": [
    {
     "data": {
      "text/plain": [
       "2*E"
      ]
     },
     "execution_count": 25,
     "metadata": {},
     "output_type": "execute_result"
    }
   ],
   "source": [
    "sy.integrate(sy.exp(-x/2), (x,-2,sy.oo))"
   ]
  },
  {
   "cell_type": "code",
   "execution_count": 26,
   "metadata": {},
   "outputs": [
    {
     "data": {
      "text/plain": [
       "Piecewise((-I*sqrt(x**2 - 4)/(4*x), Abs(x**2)/4 > 1), (-sqrt(-x**2 + 4)/(4*x), True))"
      ]
     },
     "execution_count": 26,
     "metadata": {},
     "output_type": "execute_result"
    }
   ],
   "source": [
    "sy.integrate(1/(x**2 * sy.sqrt(4-x**2)), x)"
   ]
  },
  {
   "cell_type": "code",
   "execution_count": 27,
   "metadata": {},
   "outputs": [
    {
     "data": {
      "text/plain": [
       "(x**2, [1, 2, 3])"
      ]
     },
     "execution_count": 27,
     "metadata": {},
     "output_type": "execute_result"
    }
   ],
   "source": [
    "(x**2, [1,2,3])"
   ]
  },
  {
   "cell_type": "code",
   "execution_count": 43,
   "metadata": {
    "run_control": {
     "marked": false
    }
   },
   "outputs": [
    {
     "name": "stdout",
     "output_type": "stream",
     "text": [
      "[0, 1/6, 1/2, 9/10, 4/3]\n"
     ]
    },
    {
     "data": {
      "text/plain": [
       "11/10"
      ]
     },
     "execution_count": 43,
     "metadata": {},
     "output_type": "execute_result"
    }
   ],
   "source": [
    "def f(x):\n",
    "    return x**2/(1+x)\n",
    "    \n",
    "pts = [f(elem) for elem in [x/sy.S(2) for x in range(5)]]\n",
    "print(pts)\n",
    "\n",
    "coeffs = [1, 4, 2, 4, 1]\n",
    "\n",
    "dot(pts,coeffs)/6"
   ]
  },
  {
   "cell_type": "code",
   "execution_count": 5,
   "metadata": {},
   "outputs": [],
   "source": [
    "f = lambda t: 0.73*t**3 - 2*t**2 + t + 0.6;\n",
    "g = lambda t: 0.17*t**2 - 0.5*t + 1.1;"
   ]
  },
  {
   "cell_type": "code",
   "execution_count": 22,
   "metadata": {},
   "outputs": [
    {
     "name": "stdout",
     "output_type": "stream",
     "text": [
      "n = 20    value = 0.86670000\n",
      "n = 40    value = 0.86667500\n",
      "n = 60    value = 0.86667037\n",
      "n = 80    value = 0.86666875\n",
      "n = 100   value = 0.86666800\n",
      "n = 120   value = 0.86666759\n",
      "n = 140   value = 0.86666735\n",
      "n = 160   value = 0.86666719\n",
      "n = 180   value = 0.86666708\n",
      "n = 200   value = 0.86666700\n"
     ]
    }
   ],
   "source": [
    "values = [[n, numint(lambda t: g(t)-f(t), 0, 2, n, method=\"midptrule\")] for n in [20*(k+1) for k in range(10)]]\n",
    "\n",
    "for v in values:\n",
    "    print('n = {0:<5} value = {1:.8f}'.format(v[0], v[1]))"
   ]
  },
  {
   "cell_type": "code",
   "execution_count": 23,
   "metadata": {},
   "outputs": [
    {
     "data": {
      "text/plain": [
       "0.8666666666666663"
      ]
     },
     "execution_count": 23,
     "metadata": {},
     "output_type": "execute_result"
    }
   ],
   "source": [
    "-0.73/4 * 2**4 + 2.17/3 * 2**3 - 1.5/2 * 2**2 + 0.5*2"
   ]
  },
  {
   "cell_type": "code",
   "execution_count": null,
   "metadata": {},
   "outputs": [],
   "source": []
  }
 ],
 "metadata": {
  "anaconda-cloud": {},
  "hide_input": false,
  "kernelspec": {
   "display_name": "Python [default]",
   "language": "python",
   "name": "python3"
  },
  "language_info": {
   "codemirror_mode": {
    "name": "ipython",
    "version": 3
   },
   "file_extension": ".py",
   "mimetype": "text/x-python",
   "name": "python",
   "nbconvert_exporter": "python",
   "pygments_lexer": "ipython3",
   "version": "3.5.4"
  },
  "latex_envs": {
   "bibliofile": "biblio.bib",
   "cite_by": "apalike",
   "current_citInitial": 1,
   "eqLabelWithNumbers": true,
   "eqNumInitial": 0
  }
 },
 "nbformat": 4,
 "nbformat_minor": 2
}
