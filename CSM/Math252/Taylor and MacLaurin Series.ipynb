{
 "cells": [
  {
   "cell_type": "code",
   "execution_count": 6,
   "metadata": {},
   "outputs": [],
   "source": [
    "from sympy import *\n",
    "from sympy import init_printing\n",
    "init_printing()\n",
    "\n",
    "%matplotlib inline\n",
    "import matplotlib.pyplot as plt"
   ]
  },
  {
   "cell_type": "code",
   "execution_count": 2,
   "metadata": {},
   "outputs": [],
   "source": [
    "# from ipywidgets import interact, interactive, fixed, interact_manual\n",
    "# import ipywidgets as widgets"
   ]
  },
  {
   "cell_type": "code",
   "execution_count": 4,
   "metadata": {},
   "outputs": [],
   "source": [
    "x,y,z,t = symbols(\"x y z t\")"
   ]
  },
  {
   "cell_type": "code",
   "execution_count": 11,
   "metadata": {},
   "outputs": [
    {
     "data": {
      "image/png": "[encoded data removed]",
      "text/latex": [
       "$$\\frac{\\sqrt{2}}{2} + \\frac{\\sqrt{2}}{2} \\left(x - \\frac{\\pi}{4}\\right) - \\frac{\\sqrt{2}}{4} \\left(x - \\frac{\\pi}{4}\\right)^{2} - \\frac{\\sqrt{2}}{12} \\left(x - \\frac{\\pi}{4}\\right)^{3} + \\mathcal{O}\\left(\\left(x - \\frac{\\pi}{4}\\right)^{4}; x\\rightarrow \\frac{\\pi}{4}\\right)$$"
      ],
      "text/plain": [
       "                            2             3                     \n",
       "        ⎛    π⎞      ⎛    π⎞       ⎛    π⎞                      \n",
       "     √2⋅⎜x - ─⎟   √2⋅⎜x - ─⎟    √2⋅⎜x - ─⎟     ⎛       4       ⎞\n",
       "√2      ⎝    4⎠      ⎝    4⎠       ⎝    4⎠     ⎜⎛    π⎞       π⎟\n",
       "── + ────────── - ─────────── - ─────────── + O⎜⎜x - ─⎟ ; x → ─⎟\n",
       "2        2             4             12        ⎝⎝    4⎠       4⎠"
      ]
     },
     "execution_count": 11,
     "metadata": {},
     "output_type": "execute_result"
    }
   ],
   "source": [
    "series(sin(x), x, x0=pi/4, n=4)"
   ]
  },
  {
   "cell_type": "code",
   "execution_count": 30,
   "metadata": {},
   "outputs": [
    {
     "data": {
      "image/png": "[encoded data removed]",
      "text/latex": [
       "$$\\left [ \\frac{\\sqrt{2}}{2}, \\quad \\frac{\\sqrt{2}}{2} \\left(x - \\frac{\\pi}{4}\\right), \\quad - \\frac{\\sqrt{2}}{4} \\left(x - \\frac{\\pi}{4}\\right)^{2}, \\quad - \\frac{\\sqrt{2}}{12} \\left(x - \\frac{\\pi}{4}\\right)^{3}, \\quad \\frac{\\sqrt{2}}{48} \\left(x - \\frac{\\pi}{4}\\right)^{4}, \\quad \\frac{\\sqrt{2}}{240} \\left(x - \\frac{\\pi}{4}\\right)^{5}, \\quad - \\frac{\\sqrt{2}}{1440} \\left(x - \\frac{\\pi}{4}\\right)^{6}, \\quad - \\frac{\\sqrt{2}}{10080} \\left(x - \\frac{\\pi}{4}\\right)^{7}, \\quad \\frac{\\sqrt{2}}{80640} \\left(x - \\frac{\\pi}{4}\\right)^{8}, \\quad \\frac{\\sqrt{2}}{725760} \\left(x - \\frac{\\pi}{4}\\right)^{9}\\right ]$$"
      ],
      "text/plain": [
       "⎡                           2              3             4            5       \n",
       "⎢       ⎛    π⎞      ⎛    π⎞        ⎛    π⎞       ⎛    π⎞      ⎛    π⎞       ⎛\n",
       "⎢    √2⋅⎜x - ─⎟  -√2⋅⎜x - ─⎟    -√2⋅⎜x - ─⎟    √2⋅⎜x - ─⎟   √2⋅⎜x - ─⎟   -√2⋅⎜\n",
       "⎢√2     ⎝    4⎠      ⎝    4⎠        ⎝    4⎠       ⎝    4⎠      ⎝    4⎠       ⎝\n",
       "⎢──, ──────────, ─────────────, ─────────────, ───────────, ───────────, ─────\n",
       "⎣2       2             4              12            48          240           \n",
       "\n",
       "      6              7             8            9⎤\n",
       "    π⎞        ⎛    π⎞       ⎛    π⎞      ⎛    π⎞ ⎥\n",
       "x - ─⎟    -√2⋅⎜x - ─⎟    √2⋅⎜x - ─⎟   √2⋅⎜x - ─⎟ ⎥\n",
       "    4⎠        ⎝    4⎠       ⎝    4⎠      ⎝    4⎠ ⎥\n",
       "────────, ─────────────, ───────────, ───────────⎥\n",
       "1440          10080         80640        725760  ⎦"
      ]
     },
     "execution_count": 30,
     "metadata": {},
     "output_type": "execute_result"
    }
   ],
   "source": [
    "[(-1)**((n*(n-1)+2)/S(2))*(sqrt(2)/2)/factorial(n-2)*(x-pi/4)**(n-2) for n in range(2,12)]"
   ]
  },
  {
   "cell_type": "code",
   "execution_count": 42,
   "metadata": {},
   "outputs": [
    {
     "data": {
      "image/png": "[encoded data removed]",
      "text/plain": [
       "<matplotlib.figure.Figure at 0x11a06e198>"
      ]
     },
     "metadata": {},
     "output_type": "display_data"
    },
    {
     "data": {
      "text/plain": [
       "<sympy.plotting.plot.Plot at 0x11a06e9e8>"
      ]
     },
     "execution_count": 42,
     "metadata": {},
     "output_type": "execute_result"
    }
   ],
   "source": [
    "plot(sin(x**2), (x,0,3))"
   ]
  },
  {
   "cell_type": "code",
   "execution_count": 54,
   "metadata": {},
   "outputs": [
    {
     "name": "stdout",
     "output_type": "stream",
     "text": [
      "n: 1\tsum: 9.00000000000000\n",
      "n: 2\tsum: -43.0714285714286\n",
      "n: 3\tsum: 91.1308441558442\n",
      "n: 4\tsum: -98.6695129870130\n",
      "n: 5\tsum: 69.9031726332878\n",
      "n: 6\tsum: -32.6396586590612\n",
      "n: 7\tsum: 12.7158244125547\n",
      "n: 8\tsum: -2.52110976219553\n",
      "n: 9\tsum: 1.49779167822441\n",
      "n: 10\tsum: 0.643571736434747\n",
      "n: 11\tsum: 0.792989277747790\n",
      "n: 12\tsum: 0.771106286561459\n",
      "n: 13\tsum: 0.773828788111993\n",
      "n: 14\tsum: 0.773537499484558\n",
      "n: 15\tsum: 0.773564586627316\n",
      "n: 16\tsum: 0.773562377215211\n",
      "n: 17\tsum: 0.773562536569434\n",
      "n: 18\tsum: 0.773562526333721\n",
      "n: 19\tsum: 0.773562526922966\n"
     ]
    }
   ],
   "source": [
    "for k in range(1,20):\n",
    "    s = sum([(-1)**n * 1/(factorial(2*n+1)*(4*n+3)) * 3**(4*n+3) for n in range(k)]).n()\n",
    "    print(\"n: {}\\tsum: {}\".format(k, s))\n"
   ]
  },
  {
   "cell_type": "code",
   "execution_count": 55,
   "metadata": {},
   "outputs": [
    {
     "data": {
      "image/png": "[encoded data removed]",
      "text/latex": [
       "$$0.773562526893769$$"
      ],
      "text/plain": [
       "0.773562526893769"
      ]
     },
     "execution_count": 55,
     "metadata": {},
     "output_type": "execute_result"
    }
   ],
   "source": [
    "integrate(sin(x**2), (x,0,3)).n()"
   ]
  },
  {
   "cell_type": "code",
   "execution_count": 62,
   "metadata": {},
   "outputs": [
    {
     "name": "stdout",
     "output_type": "stream",
     "text": [
      "n: 0\tan: 9.00000000000000\n",
      "n: 1\tan: -52.0714285714286\n",
      "n: 2\tan: 134.202272727273\n",
      "n: 3\tan: -189.800357142857\n",
      "n: 4\tan: 168.572685620301\n",
      "n: 5\tan: -102.542831292349\n",
      "n: 6\tan: 45.3554830716159\n",
      "n: 7\tan: -15.2369341747502\n",
      "n: 8\tan: 4.01890144041994\n",
      "n: 9\tan: -0.854219941789663\n",
      "n: 10\tan: 0.149417541313042\n",
      "n: 11\tan: -0.0218829911863311\n",
      "n: 12\tan: 0.00272250155053472\n",
      "n: 13\tan: -0.000291288627434834\n",
      "n: 14\tan: 0.0000270871427574139\n",
      "n: 15\tan: -0.00000220941210509782\n",
      "n: 16\tan: 1.59354222810863E-7\n",
      "n: 17\tan: -1.02357127138662E-8\n",
      "n: 18\tan: 5.89245083257701E-10\n",
      "n: 19\tan: -3.05750344282490E-11\n"
     ]
    }
   ],
   "source": [
    "for n in range(20):\n",
    "    an = (-1)**n * 1/(factorial(2*n+1)*(4*n+3)) * 3**(4*n+3)\n",
    "    print(\"n: {}\\tan: {}\".format(n,an.n()))"
   ]
  },
  {
   "cell_type": "code",
   "execution_count": 63,
   "metadata": {},
   "outputs": [],
   "source": [
    "r,θ = symbols(\"r θ\")"
   ]
  },
  {
   "cell_type": "code",
   "execution_count": 64,
   "metadata": {},
   "outputs": [
    {
     "data": {
      "image/png": "[encoded data removed]",
      "text/latex": [
       "$$\\frac{65 \\pi}{4}$$"
      ],
      "text/plain": [
       "65⋅π\n",
       "────\n",
       " 4  "
      ]
     },
     "execution_count": 64,
     "metadata": {},
     "output_type": "execute_result"
    }
   ],
   "source": [
    "integrate(r**2 * cos(θ), (z,0,r*cos(θ) + r*sin(θ) + 3), (r,2,3), (θ,0,2*pi))"
   ]
  },
  {
   "cell_type": "code",
   "execution_count": 70,
   "metadata": {},
   "outputs": [
    {
     "data": {
      "image/png": "[encoded data removed]",
      "text/latex": [
       "$$\\left [ 2.0, \\quad 4.0, \\quad 7.0, \\quad 11.0, \\quad 16.0, \\quad 22.0, \\quad 29.0, \\quad 37.0, \\quad 46.0, \\quad 56.0\\right ]$$"
      ],
      "text/plain": [
       "[2.0, 4.0, 7.0, 11.0, 16.0, 22.0, 29.0, 37.0, 46.0, 56.0]"
      ]
     },
     "execution_count": 70,
     "metadata": {},
     "output_type": "execute_result"
    }
   ],
   "source": [
    "[0.5*(x)*(x+3) + 2 for x in range(10)]"
   ]
  },
  {
   "cell_type": "code",
   "execution_count": 82,
   "metadata": {},
   "outputs": [
    {
     "data": {
      "image/png": "[encoded data removed]",
      "text/latex": [
       "$$\\left [ - \\frac{9}{92} + \\frac{\\sqrt{6613}}{92}, \\quad - \\frac{\\sqrt{6613}}{92} - \\frac{9}{92}\\right ]$$"
      ],
      "text/plain": [
       "⎡  9    √6613    √6613   9 ⎤\n",
       "⎢- ── + ─────, - ───── - ──⎥\n",
       "⎣  92     92       92    92⎦"
      ]
     },
     "execution_count": 82,
     "metadata": {},
     "output_type": "execute_result"
    }
   ],
   "source": [
    "solve(S(46)/10*x**2 + S(9)/10*x - S(71)/20, x)"
   ]
  },
  {
   "cell_type": "code",
   "execution_count": 78,
   "metadata": {},
   "outputs": [
    {
     "data": {
      "image/png": "[encoded data removed]",
      "text/latex": [
       "$$\\mathrm{False}$$"
      ],
      "text/plain": [
       "False"
      ]
     },
     "execution_count": 78,
     "metadata": {},
     "output_type": "execute_result"
    }
   ],
   "source": [
    ".0001 >1/(7*factorial(7)).n()"
   ]
  },
  {
   "cell_type": "code",
   "execution_count": null,
   "metadata": {},
   "outputs": [],
   "source": []
  }
 ],
 "metadata": {
  "hide_input": false,
  "kernelspec": {
   "display_name": "Python [default]",
   "language": "python",
   "name": "python3"
  },
  "language_info": {
   "codemirror_mode": {
    "name": "ipython",
    "version": 3
   },
   "file_extension": ".py",
   "mimetype": "text/x-python",
   "name": "python",
   "nbconvert_exporter": "python",
   "pygments_lexer": "ipython3",
   "version": "3.5.4"
  },
  "latex_envs": {
   "bibliofile": "biblio.bib",
   "cite_by": "apalike",
   "current_citInitial": 1,
   "eqLabelWithNumbers": true,
   "eqNumInitial": 0
  }
 },
 "nbformat": 4,
 "nbformat_minor": 2
}
