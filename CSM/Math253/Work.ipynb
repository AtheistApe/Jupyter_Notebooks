{
 "cells": [
  {
   "cell_type": "code",
   "execution_count": 1,
   "metadata": {},
   "outputs": [],
   "source": [
    "import numpy as np"
   ]
  },
  {
   "cell_type": "code",
   "execution_count": 60,
   "metadata": {},
   "outputs": [
    {
     "name": "stdout",
     "output_type": "stream",
     "text": [
      "CPU times: user 1 µs, sys: 2 µs, total: 3 µs\n",
      "Wall time: 6.2 µs\n",
      "-0.18176095720467342\n",
      "CPU times: user 2 µs, sys: 2 µs, total: 4 µs\n",
      "Wall time: 5.48 µs\n",
      "-0.18176095720467342\n"
     ]
    }
   ],
   "source": [
    "# P = lambda x,y,z: 2*z*y - 3*y**2\n",
    "# P = lambda X: X[0]**2 * X[1] * np.sqrt(X[2])\n",
    "\n",
    "F = lambda X: [np.sin(X[0]), np.cos(X[1]), X[0]*X[2]]\n",
    "\n",
    "# dr = lambda X: np.sqrt(np.dot(X,X))\n",
    "\n",
    "xt = lambda t: t**3\n",
    "yt = lambda t: -t**2\n",
    "zt = lambda t: t\n",
    "\n",
    "t = np.linspace(0,1,100)\n",
    "\n",
    "# x = xt(t)\n",
    "# y = yt(t)\n",
    "# z = zt(t)\n",
    "\n",
    "Ct = np.array([xt(t),yt(t),zt(t)])\n",
    "\n",
    "Dr = Ct[:,1:] - Ct[:,:-1] # <dx, dy, dz>\n",
    "M = (Ct[:,1:] + Ct[:,:-1])/2 # midpoints\n",
    "\n",
    "Fi = np.apply_along_axis(F,0,M)\n",
    "\n",
    "%time\n",
    "print(np.sum(np.diagonal(np.matmul(np.transpose(Fi),Dr))))\n",
    "\n",
    "%time\n",
    "print(np.sum([np.dot(Fi[:,i],Dr[:,i]) for i in range(len(t)-1)]))\n"
   ]
  },
  {
   "cell_type": "code",
   "execution_count": 52,
   "metadata": {},
   "outputs": [
    {
     "data": {
      "text/plain": [
       "-0.18177329067603631"
      ]
     },
     "execution_count": 52,
     "metadata": {},
     "output_type": "execute_result"
    }
   ],
   "source": [
    "6/5 - np.cos(1) - np.sin(1)"
   ]
  },
  {
   "cell_type": "code",
   "execution_count": 59,
   "metadata": {},
   "outputs": [
    {
     "name": "stdout",
     "output_type": "stream",
     "text": [
      "CPU times: user 1 µs, sys: 2 µs, total: 3 µs\n",
      "Wall time: 5.72 µs\n",
      "25.0\n",
      "CPU times: user 1e+03 ns, sys: 2 µs, total: 3 µs\n",
      "Wall time: 5.25 µs\n",
      "25.0\n"
     ]
    }
   ],
   "source": [
    "# P = lambda x,y,z: 2*z*y - 3*y**2\n",
    "# P = lambda X: X[0]**2 * X[1] * np.sqrt(X[2])\n",
    "\n",
    "F = lambda X: [X[0], X[1], 0]\n",
    "\n",
    "# dr = lambda X: np.sqrt(np.dot(X,X))\n",
    "\n",
    "xt = lambda t: t\n",
    "yt = lambda t: t**2/5\n",
    "zt = lambda t: 0*t\n",
    "\n",
    "t = np.linspace(0,5,100)\n",
    "\n",
    "# x = xt(t)\n",
    "# y = yt(t)\n",
    "# z = zt(t)\n",
    "\n",
    "Ct = np.array([xt(t),yt(t),zt(t)])\n",
    "\n",
    "Dr = Ct[:,1:] - Ct[:,:-1] # <dx, dy, dz>\n",
    "M = (Ct[:,1:] + Ct[:,:-1])/2 # midpoints\n",
    "\n",
    "Fi = np.apply_along_axis(F,0,M)\n",
    "\n",
    "%time\n",
    "print(np.sum(np.diagonal(np.matmul(np.transpose(Fi),Dr))))\n",
    "\n",
    "%time\n",
    "print(np.sum([np.dot(Fi[:,i],Dr[:,i]) for i in range(len(t)-1)]))\n"
   ]
  },
  {
   "cell_type": "code",
   "execution_count": 65,
   "metadata": {},
   "outputs": [
    {
     "name": "stdout",
     "output_type": "stream",
     "text": [
      "CPU times: user 2 µs, sys: 2 µs, total: 4 µs\n",
      "Wall time: 5.72 µs\n",
      "25.0\n",
      "CPU times: user 39 µs, sys: 0 ns, total: 39 µs\n",
      "Wall time: 10.3 µs\n",
      "25.0\n"
     ]
    }
   ],
   "source": [
    "# P = lambda x,y,z: 2*z*y - 3*y**2\n",
    "# P = lambda X: X[0]**2 * X[1] * np.sqrt(X[2])\n",
    "\n",
    "F = lambda X: [X[0], X[1], 0]\n",
    "\n",
    "# dr = lambda X: np.sqrt(np.dot(X,X))\n",
    "\n",
    "xt = lambda t: 5*t\n",
    "yt = lambda t: 5*np.sqrt(t)\n",
    "zt = lambda t: 0*t\n",
    "\n",
    "t = np.linspace(0,1,1000)\n",
    "\n",
    "# x = xt(t)\n",
    "# y = yt(t)\n",
    "# z = zt(t)\n",
    "\n",
    "Ct = np.array([xt(t),yt(t),zt(t)])\n",
    "\n",
    "Dr = Ct[:,1:] - Ct[:,:-1] # <dx, dy, dz>\n",
    "M = (Ct[:,1:] + Ct[:,:-1])/2 # midpoints\n",
    "\n",
    "Fi = np.apply_along_axis(F,0,M)\n",
    "\n",
    "%time\n",
    "print(np.sum(np.diagonal(np.matmul(np.transpose(Fi),Dr))))\n",
    "\n",
    "%time\n",
    "print(np.sum([np.dot(Fi[:,i],Dr[:,i]) for i in range(len(t)-1)]))\n"
   ]
  },
  {
   "cell_type": "code",
   "execution_count": null,
   "metadata": {},
   "outputs": [],
   "source": []
  }
 ],
 "metadata": {
  "@webio": {
   "lastCommId": null,
   "lastKernelId": null
  },
  "kernelspec": {
   "display_name": "Python 3",
   "language": "python",
   "name": "python3"
  },
  "language_info": {
   "codemirror_mode": {
    "name": "ipython",
    "version": 3
   },
   "file_extension": ".py",
   "mimetype": "text/x-python",
   "name": "python",
   "nbconvert_exporter": "python",
   "pygments_lexer": "ipython3",
   "version": "3.7.3"
  }
 },
 "nbformat": 4,
 "nbformat_minor": 4
}
