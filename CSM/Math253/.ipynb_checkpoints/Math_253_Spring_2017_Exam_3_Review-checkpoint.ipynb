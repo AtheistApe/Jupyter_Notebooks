{
 "cells": [
  {
   "cell_type": "code",
   "execution_count": 1,
   "metadata": {},
   "outputs": [
    {
     "name": "stdout",
     "output_type": "stream",
     "text": [
      "IPython console for SymPy 1.0 (Python 3.5.2-64-bit) (ground types: python)\n",
      "\n",
      "These commands were executed:\n",
      ">>> from __future__ import division\n",
      ">>> from sympy import *\n",
      ">>> x, y, z, t = symbols('x y z t')\n",
      ">>> k, m, n = symbols('k m n', integer=True)\n",
      ">>> f, g, h = symbols('f g h', cls=Function)\n",
      ">>> init_printing()\n",
      "\n",
      "Documentation can be found at http://docs.sympy.org/1.0/\n"
     ]
    }
   ],
   "source": [
    "from sympy import init_session\n",
    "init_session()"
   ]
  },
  {
   "cell_type": "code",
   "execution_count": 7,
   "metadata": {
    "collapsed": true
   },
   "outputs": [],
   "source": [
    "# cylindrical coordinates\n",
    "r, θ, z = symbols('r θ z')"
   ]
  },
  {
   "cell_type": "markdown",
   "metadata": {},
   "source": [
    "### 14) Convert the integral below to an equivalent integral in cylindrical coordinates, then evaluate the integral\n",
    "\n",
    "$$\\int_0^2\\int_0^{\\sqrt{4-x^2}}\\int_0^{(x^2+y^2)/2} \\frac{z}{\\sqrt{x^2+y^2}}\\;dz\\,dy\\,dx$$"
   ]
  },
  {
   "cell_type": "code",
   "execution_count": 8,
   "metadata": {},
   "outputs": [
    {
     "data": {
      "image/png": "[encoded data removed]",
      "text/latex": [
       "$$\\frac{2 \\pi}{5}$$"
      ],
      "text/plain": [
       "2⋅π\n",
       "───\n",
       " 5 "
      ]
     },
     "execution_count": 8,
     "metadata": {},
     "output_type": "execute_result"
    }
   ],
   "source": [
    "integrate(z, (z,0,r**2/2), (r,0,2), (θ,0,pi/2))"
   ]
  },
  {
   "cell_type": "markdown",
   "metadata": {},
   "source": [
    "### 15) Convert the integral below to an equivalent triple integral in sphereical coordinates, then evaluate the integral.\n",
    "\n",
    "$$ \\int_0^1\\int_0^{\\sqrt{1-x^2}}\\int_0^{\\sqrt{1-x^2-y^2}}\\frac{1}{1 + x^2 + y^2 + z^2}\\;dz\\,dy\\,dx$$"
   ]
  },
  {
   "cell_type": "code",
   "execution_count": 9,
   "metadata": {
    "collapsed": true
   },
   "outputs": [],
   "source": [
    "# spherical coordinates\n",
    "ρ, θ, ϕ = symbols('ρ θ ϕ')"
   ]
  },
  {
   "cell_type": "code",
   "execution_count": 10,
   "metadata": {},
   "outputs": [
    {
     "data": {
      "image/png": "[encoded data removed]",
      "text/latex": [
       "$$\\frac{\\pi}{2} \\left(- \\frac{\\pi}{4} + 1\\right)$$"
      ],
      "text/plain": [
       "  ⎛  π    ⎞\n",
       "π⋅⎜- ─ + 1⎟\n",
       "  ⎝  4    ⎠\n",
       "───────────\n",
       "     2     "
      ]
     },
     "execution_count": 10,
     "metadata": {},
     "output_type": "execute_result"
    }
   ],
   "source": [
    "integrate(ρ**2/(1+ρ**2) * sin(ϕ), (ρ,0,1), (ϕ,0,pi/2), (θ,0,pi/2))"
   ]
  },
  {
   "cell_type": "markdown",
   "metadata": {},
   "source": [
    "### 13) Let $E$ be the region in $\\mathbf{R}^3$ bounded below by the paraboloid $z = x^2 + y^2$ and above by the sphere $x^2 + y^2 + z^2 = 9$.\n",
    "\n",
    "#### a) Sketch the region\n",
    "#### b) Write a triple integral in cylindrical coordinates that represents the volume of $E$"
   ]
  },
  {
   "cell_type": "code",
   "execution_count": 11,
   "metadata": {
    "collapsed": true
   },
   "outputs": [],
   "source": [
    "# cylindrical coordinates\n",
    "r, θ, z = symbols('r θ z')"
   ]
  },
  {
   "cell_type": "code",
   "execution_count": 15,
   "metadata": {},
   "outputs": [
    {
     "data": {
      "image/png": "[encoded data removed]",
      "text/latex": [
       "$$2 \\pi \\left(- 3 \\sqrt{- \\frac{\\sqrt{37}}{2} + \\frac{19}{2}} - \\frac{1}{4} \\left(- \\frac{1}{2} + \\frac{\\sqrt{37}}{2}\\right)^{2} + \\frac{1}{3} \\left(- \\frac{1}{2} + \\frac{\\sqrt{37}}{2}\\right) \\sqrt{- \\frac{\\sqrt{37}}{2} + \\frac{19}{2}} + 9\\right)$$"
      ],
      "text/plain": [
       "    ⎛                                  2                   ____________    ⎞\n",
       "    ⎜                       ⎛  1   √37⎞    ⎛  1   √37⎞    ╱   √37   19     ⎟\n",
       "    ⎜        ____________   ⎜- ─ + ───⎟    ⎜- ─ + ───⎟⋅  ╱  - ─── + ──     ⎟\n",
       "    ⎜       ╱   √37   19    ⎝  2    2 ⎠    ⎝  2    2 ⎠ ╲╱      2    2      ⎟\n",
       "2⋅π⋅⎜- 3⋅  ╱  - ─── + ──  - ──────────── + ──────────────────────────── + 9⎟\n",
       "    ⎝    ╲╱      2    2          4                      3                  ⎠"
      ]
     },
     "execution_count": 15,
     "metadata": {},
     "output_type": "execute_result"
    }
   ],
   "source": [
    "i13 = integrate(r, (z, r**2, sqrt(9-r**2)), (r, 0, sqrt((-1 + sqrt(37))/2)), (θ, 0, 2*pi))\n",
    "\n",
    "i13"
   ]
  },
  {
   "cell_type": "code",
   "execution_count": 16,
   "metadata": {},
   "outputs": [
    {
     "data": {
      "image/png": "[encoded data removed]",
      "text/latex": [
       "$$\\frac{\\pi}{12} \\left(- 38 \\sqrt{- 2 \\sqrt{37} + 38} + 3 \\sqrt{37} + 2 \\sqrt{- 74 \\sqrt{37} + 1406} + 159\\right)$$"
      ],
      "text/plain": [
       "  ⎛       _____________               ________________      ⎞\n",
       "π⋅⎝- 38⋅╲╱ -2⋅√37 + 38  + 3⋅√37 + 2⋅╲╱ -74⋅√37 + 1406  + 159⎠\n",
       "─────────────────────────────────────────────────────────────\n",
       "                              12                             "
      ]
     },
     "execution_count": 16,
     "metadata": {},
     "output_type": "execute_result"
    }
   ],
   "source": [
    "simplify(i13)"
   ]
  },
  {
   "cell_type": "code",
   "execution_count": 18,
   "metadata": {},
   "outputs": [
    {
     "data": {
      "image/png": "[encoded data removed]",
      "text/latex": [
       "$$12.0264843508614$$"
      ],
      "text/plain": [
       "12.0264843508614"
      ]
     },
     "execution_count": 18,
     "metadata": {},
     "output_type": "execute_result"
    }
   ],
   "source": [
    "i13.n()"
   ]
  },
  {
   "cell_type": "code",
   "execution_count": null,
   "metadata": {
    "collapsed": true
   },
   "outputs": [],
   "source": []
  }
 ],
 "metadata": {
  "hide_input": false,
  "kernelspec": {
   "display_name": "Python [default]",
   "language": "python",
   "name": "python3"
  },
  "language_info": {
   "codemirror_mode": {
    "name": "ipython",
    "version": 3
   },
   "file_extension": ".py",
   "mimetype": "text/x-python",
   "name": "python",
   "nbconvert_exporter": "python",
   "pygments_lexer": "ipython3",
   "version": "3.5.4"
  },
  "latex_envs": {
   "bibliofile": "biblio.bib",
   "cite_by": "apalike",
   "current_citInitial": 1,
   "eqLabelWithNumbers": true,
   "eqNumInitial": 0
  }
 },
 "nbformat": 4,
 "nbformat_minor": 2
}
