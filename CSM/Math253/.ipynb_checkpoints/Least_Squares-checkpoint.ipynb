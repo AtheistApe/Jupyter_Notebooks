{
 "cells": [
  {
   "cell_type": "code",
   "execution_count": 95,
   "metadata": {},
   "outputs": [],
   "source": [
    "%matplotlib notebook\n",
    "\n",
    "import numpy as np\n",
    "import matplotlib.pyplot as plt\n",
    "\n",
    "import ipywidgets as widgets\n",
    "from ipywidgets import interact, interact_manual"
   ]
  },
  {
   "cell_type": "code",
   "execution_count": 132,
   "metadata": {},
   "outputs": [],
   "source": [
    "points = np.array([[0,1], [2,0], [4,2], [2,1.5], [3,3]])\n",
    "xcoords = np.array(points[:,0])\n",
    "ycoords = np.array(points[:,1])\n",
    "\n",
    "def f(a,b):\n",
    "    sum = 0\n",
    "    for i in range(len(xcoords)):\n",
    "        sum += (a*xcoords[i] + b - ycoords[i])**2\n",
    "        \n",
    "    return np.sqrt(sum)"
   ]
  },
  {
   "cell_type": "code",
   "execution_count": 136,
   "metadata": {},
   "outputs": [
    {
     "data": {
      "application/vnd.jupyter.widget-view+json": {
       "model_id": "e5577ea4f5ed441c8274d1c37f87de09",
       "version_major": 2,
       "version_minor": 0
      },
      "text/plain": [
       "interactive(children=(Output(),), _dom_classes=('widget-interact',))"
      ]
     },
     "metadata": {},
     "output_type": "display_data"
    }
   ],
   "source": [
    "@interact\n",
    "def fplot():\n",
    "    points = np.array([[0,1], [2,0], [4,2], [2,1.5], [3,3]])\n",
    "    xcoords = np.array(points[:,0])\n",
    "    ycoords = np.array(points[:,1])\n",
    "\n",
    "    def f(a,b):\n",
    "        sum = 0\n",
    "        for i in range(len(xcoords)):\n",
    "            sum += (a*xcoords[i] + b - ycoords[i])**2\n",
    "        \n",
    "        return np.sqrt(sum)\n",
    "    \n",
    "   \n",
    "    fig, axs = plt.subplots(1,2)\n",
    "    \n",
    "    a = np.linspace(-2,3,100)\n",
    "    b = np.linspace(-4,4,100)\n",
    "\n",
    "    A, B = np.meshgrid(a,b)\n",
    "\n",
    "    Z = f(A,B)\n",
    "\n",
    "    ax = axs[0]\n",
    "#     a, b = 0.276, 0.48\n",
    "    m, d = 0.41, 0.58\n",
    "    ax.contour(A,B,Z, levels=30)\n",
    "    ax.scatter(m,d)\n",
    "    \n",
    "    ax = axs[1]\n",
    "    ax.scatter(xcoords, ycoords)\n",
    "    x = np.linspace(0,4,20)\n",
    "    y = m*x + d\n",
    "    ax.plot(x,y)\n",
    "    \n",
    "    print(f(m,d))"
   ]
  }
 ],
 "metadata": {
  "kernelspec": {
   "display_name": "Python 3",
   "language": "python",
   "name": "python3"
  },
  "language_info": {
   "codemirror_mode": {
    "name": "ipython",
    "version": 3
   },
   "file_extension": ".py",
   "mimetype": "text/x-python",
   "name": "python",
   "nbconvert_exporter": "python",
   "pygments_lexer": "ipython3",
   "version": "3.7.3"
  }
 },
 "nbformat": 4,
 "nbformat_minor": 2
}
