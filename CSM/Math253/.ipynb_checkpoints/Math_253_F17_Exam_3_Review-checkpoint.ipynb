{
 "cells": [
  {
   "cell_type": "markdown",
   "metadata": {},
   "source": [
    "# Hello, _nbpresent_!"
   ]
  },
  {
   "cell_type": "code",
   "execution_count": null,
   "metadata": {},
   "outputs": [],
   "source": [
    "import nbpresent\n",
    "nbpresent.__version__"
   ]
  },
  {
   "cell_type": "code",
   "execution_count": 4,
   "metadata": {
    "nbpresent": {
     "id": "407ed85b-b266-441a-a679-36e4fb5b5337"
    }
   },
   "outputs": [],
   "source": [
    "from sympy import *\n",
    "\n",
    "from sympy.physics.vector import *\n",
    "N = ReferenceFrame('N')\n",
    "\n",
    "t = symbols('t', positive=True)\n",
    "# from sympy.physics.vector import ReferenceFrame\n",
    "# from sympy.physics.vector import divergence, curl, gradient"
   ]
  },
  {
   "cell_type": "code",
   "execution_count": 5,
   "metadata": {
    "nbpresent": {
     "id": "56e68252-5dd1-474c-8874-ada092b06ade"
    }
   },
   "outputs": [],
   "source": [
    "x,y,z,t,s = symbols(\"x y z t s\")"
   ]
  },
  {
   "cell_type": "code",
   "execution_count": null,
   "metadata": {
    "solution2": "hidden",
    "solution2_first": true
   },
   "outputs": [],
   "source": []
  },
  {
   "cell_type": "code",
   "execution_count": 8,
   "metadata": {
    "nbpresent": {
     "id": "4e378d45-93f2-439f-a09b-3048e7c4774d"
    }
   },
   "outputs": [],
   "source": [
    "v = 2*t*N.x + 2*N.y + (1/t)*N.z"
   ]
  },
  {
   "cell_type": "code",
   "execution_count": 15,
   "metadata": {
    "nbpresent": {
     "id": "17fda25c-a704-42b5-8c7e-5f6585c5493e"
    }
   },
   "outputs": [
    {
     "data": {
      "text/plain": [
       "t**2*N.x + 2*t*N.y + log(t)*N.z"
      ]
     },
     "execution_count": 15,
     "metadata": {},
     "output_type": "execute_result"
    }
   ],
   "source": [
    "r = v.applyfunc(lambda f: integrate(f, t))\n",
    "r"
   ]
  },
  {
   "cell_type": "code",
   "execution_count": 16,
   "metadata": {
    "nbpresent": {
     "id": "798959ee-5bb2-4966-84b5-04cd2dccdf74"
    }
   },
   "outputs": [
    {
     "data": {
      "text/plain": [
       "- N.x - 2*N.y"
      ]
     },
     "execution_count": 16,
     "metadata": {},
     "output_type": "execute_result"
    }
   ],
   "source": [
    "C = -1*r.subs(t,1)\n",
    "C"
   ]
  },
  {
   "cell_type": "code",
   "execution_count": 17,
   "metadata": {
    "nbpresent": {
     "id": "321d614e-2caa-4c18-b46a-ddad07392be6"
    }
   },
   "outputs": [
    {
     "data": {
      "text/plain": [
       "(t**2 - 1)*N.x + (2*t - 2)*N.y + log(t)*N.z"
      ]
     },
     "execution_count": 17,
     "metadata": {},
     "output_type": "execute_result"
    }
   ],
   "source": [
    "r1 = r + C\n",
    "r1"
   ]
  },
  {
   "cell_type": "code",
   "execution_count": 18,
   "metadata": {
    "nbpresent": {
     "id": "1a14f9b7-4713-4127-9527-13c45e77f0bc"
    }
   },
   "outputs": [
    {
     "data": {
      "text/plain": [
       "sqrt(4*t**2 + 4 + t**(-2))"
      ]
     },
     "execution_count": 18,
     "metadata": {},
     "output_type": "execute_result"
    }
   ],
   "source": [
    "speed = v.magnitude()\n",
    "speed"
   ]
  },
  {
   "cell_type": "code",
   "execution_count": 19,
   "metadata": {
    "nbpresent": {
     "id": "77798d21-ee7e-42f1-95f3-b3fdb7f13d50"
    }
   },
   "outputs": [
    {
     "data": {
      "text/plain": [
       "3"
      ]
     },
     "execution_count": 19,
     "metadata": {},
     "output_type": "execute_result"
    }
   ],
   "source": [
    "speed.subs(t,1)"
   ]
  },
  {
   "cell_type": "code",
   "execution_count": 21,
   "metadata": {
    "nbpresent": {
     "id": "c95ee8ef-3b15-465f-bc97-907259ad70c7"
    }
   },
   "outputs": [
    {
     "data": {
      "text/plain": [
       "2*N.x - 1/t**2*N.z"
      ]
     },
     "execution_count": 21,
     "metadata": {},
     "output_type": "execute_result"
    }
   ],
   "source": [
    "a = v.diff(t,N)\n",
    "a"
   ]
  },
  {
   "cell_type": "code",
   "execution_count": 22,
   "metadata": {
    "nbpresent": {
     "id": "ec850bcc-94ad-43ce-974f-fa4823082fc6"
    }
   },
   "outputs": [
    {
     "data": {
      "text/plain": [
       "2*N.x - N.z"
      ]
     },
     "execution_count": 22,
     "metadata": {},
     "output_type": "execute_result"
    }
   ],
   "source": [
    "a.subs(t,1)"
   ]
  },
  {
   "cell_type": "code",
   "execution_count": 38,
   "metadata": {
    "nbpresent": {
     "id": "635a0e64-fabe-4da3-9b39-cbc2ef3f1af7"
    }
   },
   "outputs": [
    {
     "data": {
      "text/plain": [
       "sqrt(4*t**2 + 4 + t**(-2))"
      ]
     },
     "execution_count": 38,
     "metadata": {},
     "output_type": "execute_result"
    }
   ],
   "source": [
    "speed"
   ]
  },
  {
   "cell_type": "code",
   "execution_count": 39,
   "metadata": {
    "nbpresent": {
     "id": "a4eb86bb-a7c2-4aec-9723-d90d79a420fd"
    }
   },
   "outputs": [
    {
     "data": {
      "text/plain": [
       "log(5) + 24"
      ]
     },
     "execution_count": 39,
     "metadata": {},
     "output_type": "execute_result"
    }
   ],
   "source": [
    "integrate(2*t + 1/t, (t,1,5))"
   ]
  },
  {
   "cell_type": "code",
   "execution_count": 40,
   "metadata": {
    "nbpresent": {
     "id": "f8ccdf0f-1c2b-46f2-a216-db2031f8a27e"
    }
   },
   "outputs": [],
   "source": [
    "v = cos(2*t)*N.x + sin(2*t)*N.y + t*N.z"
   ]
  },
  {
   "cell_type": "code",
   "execution_count": 43,
   "metadata": {
    "nbpresent": {
     "id": "e7ca6564-1302-411a-8a30-0d01747a3517"
    }
   },
   "outputs": [
    {
     "data": {
      "text/plain": [
       "1/2*N.x + 1/2*N.y + pi**2/32*N.z"
      ]
     },
     "execution_count": 43,
     "metadata": {},
     "output_type": "execute_result"
    }
   ],
   "source": [
    "i2 = v.applyfunc(lambda f: integrate(f, (t,0,pi/4)))\n",
    "i2"
   ]
  },
  {
   "cell_type": "code",
   "execution_count": 44,
   "metadata": {
    "nbpresent": {
     "id": "fb98fde7-3b8f-4976-83fb-342bd99a219c"
    }
   },
   "outputs": [
    {
     "data": {
      "text/plain": [
       "sqrt(2)*t*N.x + exp(t)*N.y + exp(-t)*N.z"
      ]
     },
     "execution_count": 44,
     "metadata": {},
     "output_type": "execute_result"
    }
   ],
   "source": [
    "r = t*sqrt(2)*N.x + exp(t)*N.y + exp(-t)*N.z\n",
    "r"
   ]
  },
  {
   "cell_type": "code",
   "execution_count": 47,
   "metadata": {
    "nbpresent": {
     "id": "85bbcf70-604c-4d6e-b0b6-664300ceb30f"
    }
   },
   "outputs": [
    {
     "data": {
      "text/plain": [
       "sqrt(2)*N.x + exp(t)*N.y - exp(-t)*N.z"
      ]
     },
     "execution_count": 47,
     "metadata": {},
     "output_type": "execute_result"
    }
   ],
   "source": [
    "rp = r.diff(t, N)\n",
    "rp"
   ]
  },
  {
   "cell_type": "code",
   "execution_count": 49,
   "metadata": {
    "nbpresent": {
     "id": "fe4487ab-0c70-4509-9ba6-a1d67404ea13"
    }
   },
   "outputs": [
    {
     "data": {
      "text/plain": [
       "Integral(sqrt(exp(2*t) + 2 + exp(-2*t)), (t, 0, 1))"
      ]
     },
     "execution_count": 49,
     "metadata": {},
     "output_type": "execute_result"
    }
   ],
   "source": [
    "integrate(rp.magnitude(), (t,0,1))"
   ]
  },
  {
   "cell_type": "code",
   "execution_count": 50,
   "metadata": {
    "nbpresent": {
     "id": "430b9d13-d858-498a-8d76-81592bc33405"
    }
   },
   "outputs": [
    {
     "data": {
      "text/plain": [
       "-exp(-1) + E"
      ]
     },
     "execution_count": 50,
     "metadata": {},
     "output_type": "execute_result"
    }
   ],
   "source": [
    "integrate(exp(t) + exp(-t), (t,0,1))"
   ]
  },
  {
   "cell_type": "code",
   "execution_count": 51,
   "metadata": {
    "nbpresent": {
     "id": "ff14d557-bcef-456b-ae79-2d4765d9d84f"
    }
   },
   "outputs": [
    {
     "data": {
      "text/plain": [
       "t**2*N.x + t*N.y + t**3*N.z"
      ]
     },
     "execution_count": 51,
     "metadata": {},
     "output_type": "execute_result"
    }
   ],
   "source": [
    "r = t**2*N.x + t*N.y + t**3*N.z\n",
    "r"
   ]
  },
  {
   "cell_type": "code",
   "execution_count": 53,
   "metadata": {
    "nbpresent": {
     "id": "66260960-b7ca-4983-87c9-58d66d7a2287"
    }
   },
   "outputs": [
    {
     "data": {
      "text/plain": [
       "2*t*N.x + N.y + 3*t**2*N.z"
      ]
     },
     "execution_count": 53,
     "metadata": {},
     "output_type": "execute_result"
    }
   ],
   "source": [
    "rp = r.diff(t, N)\n",
    "rp"
   ]
  },
  {
   "cell_type": "code",
   "execution_count": 54,
   "metadata": {
    "nbpresent": {
     "id": "59f86517-8749-4952-9699-8c387194b6d7"
    }
   },
   "outputs": [
    {
     "data": {
      "text/plain": [
       "sqrt(14)"
      ]
     },
     "execution_count": 54,
     "metadata": {},
     "output_type": "execute_result"
    }
   ],
   "source": [
    "(rp.subs(t,1)).magnitude()"
   ]
  },
  {
   "cell_type": "code",
   "execution_count": 55,
   "metadata": {
    "nbpresent": {
     "id": "c7a06b44-9575-477b-9b77-5bee08f72ea3"
    }
   },
   "outputs": [
    {
     "data": {
      "text/plain": [
       "3*sin(t)*N.x + 4*t*N.y + 3*cos(t)*N.z"
      ]
     },
     "execution_count": 55,
     "metadata": {},
     "output_type": "execute_result"
    }
   ],
   "source": [
    "r = 3*sin(t)*N.x + 4*t*N.y + 3*cos(t)*N.z\n",
    "r"
   ]
  },
  {
   "cell_type": "code",
   "execution_count": 56,
   "metadata": {
    "nbpresent": {
     "id": "7d3bbf0c-ff68-4951-ac1e-2cbb1a995d59"
    }
   },
   "outputs": [
    {
     "data": {
      "text/plain": [
       "3*cos(t)*N.x + 4*N.y - 3*sin(t)*N.z"
      ]
     },
     "execution_count": 56,
     "metadata": {},
     "output_type": "execute_result"
    }
   ],
   "source": [
    "rp = r.diff(t, N)\n",
    "rp"
   ]
  },
  {
   "cell_type": "code",
   "execution_count": 58,
   "metadata": {
    "nbpresent": {
     "id": "503c72c7-ea56-4358-8f6e-2a9584b8133a"
    }
   },
   "outputs": [
    {
     "data": {
      "text/plain": [
       "s*sqrt(9*sin(s)**2 + 9*cos(s)**2 + 16)"
      ]
     },
     "execution_count": 58,
     "metadata": {},
     "output_type": "execute_result"
    }
   ],
   "source": [
    "ls = integrate(rp.magnitude(), (t,0,s))\n",
    "ls"
   ]
  },
  {
   "cell_type": "code",
   "execution_count": 59,
   "metadata": {
    "nbpresent": {
     "id": "aed04973-67d9-4756-b9e8-1b6f44edb57b"
    }
   },
   "outputs": [
    {
     "data": {
      "text/plain": [
       "5*s"
      ]
     },
     "execution_count": 59,
     "metadata": {},
     "output_type": "execute_result"
    }
   ],
   "source": [
    "simplify(ls)"
   ]
  },
  {
   "cell_type": "code",
   "execution_count": 60,
   "metadata": {
    "nbpresent": {
     "id": "36ffb9d1-71fe-4d41-b8d8-f672b79bd4bc"
    }
   },
   "outputs": [
    {
     "data": {
      "text/plain": [
       "3*N.x + 4*N.y"
      ]
     },
     "execution_count": 60,
     "metadata": {},
     "output_type": "execute_result"
    }
   ],
   "source": [
    "rp.subs(t,0)"
   ]
  },
  {
   "cell_type": "code",
   "execution_count": 61,
   "metadata": {
    "nbpresent": {
     "id": "5afeb4ed-94b9-4ff3-b8d9-a5efa56c8549"
    }
   },
   "outputs": [
    {
     "data": {
      "text/plain": [
       "t*N.x + t**2*N.y + cos(2*t)*N.z"
      ]
     },
     "execution_count": 61,
     "metadata": {},
     "output_type": "execute_result"
    }
   ],
   "source": [
    "a = t*N.x + t**2*N.y + cos(2*t)*N.z\n",
    "a"
   ]
  },
  {
   "cell_type": "code",
   "execution_count": 62,
   "metadata": {
    "nbpresent": {
     "id": "fe6aeac0-f568-4996-826c-5c48138c0ac2"
    },
    "solution2": "hidden",
    "solution2_first": true
   },
   "outputs": [
    {
     "data": {
      "text/plain": [
       "t**2/2*N.x + t**3/3*N.y + sin(2*t)/2*N.z"
      ]
     },
     "execution_count": 62,
     "metadata": {},
     "output_type": "execute_result"
    }
   ],
   "source": [
    "v = a.applyfunc(lambda f: integrate(f,t))\n",
    "v"
   ]
  },
  {
   "cell_type": "code",
   "execution_count": 63,
   "metadata": {
    "nbpresent": {
     "id": "9e39a3c6-6ee4-43ec-827b-88ac0d283857"
    }
   },
   "outputs": [
    {
     "data": {
      "text/plain": [
       "0"
      ]
     },
     "execution_count": 63,
     "metadata": {},
     "output_type": "execute_result"
    }
   ],
   "source": [
    "v0 = v.subs(t,0)\n",
    "v0"
   ]
  },
  {
   "cell_type": "code",
   "execution_count": 64,
   "metadata": {
    "nbpresent": {
     "id": "aea4556a-8296-4098-8b97-dc5523148f9a"
    }
   },
   "outputs": [],
   "source": [
    "C = N.x + N.z\n",
    "vt = v + C"
   ]
  },
  {
   "cell_type": "code",
   "execution_count": 65,
   "metadata": {
    "nbpresent": {
     "id": "b4104cbe-b0e2-4efc-80fe-e1e086591848"
    }
   },
   "outputs": [
    {
     "data": {
      "text/plain": [
       "(t**2/2 + 1)*N.x + t**3/3*N.y + (sin(2*t)/2 + 1)*N.z"
      ]
     },
     "execution_count": 65,
     "metadata": {},
     "output_type": "execute_result"
    }
   ],
   "source": [
    "vt"
   ]
  },
  {
   "cell_type": "code",
   "execution_count": 66,
   "metadata": {
    "nbpresent": {
     "id": "5db25012-ff57-4f7e-9472-b47e2dd931de"
    }
   },
   "outputs": [
    {
     "data": {
      "text/plain": [
       "N.x + N.z"
      ]
     },
     "execution_count": 66,
     "metadata": {},
     "output_type": "execute_result"
    }
   ],
   "source": [
    "vt.subs(t,0)"
   ]
  },
  {
   "cell_type": "code",
   "execution_count": 67,
   "metadata": {
    "nbpresent": {
     "id": "94c1af96-890c-4e36-8156-e64669e687bd"
    }
   },
   "outputs": [
    {
     "data": {
      "text/plain": [
       "(t**3/6 + t)*N.x + t**4/12*N.y + (t - cos(2*t)/4)*N.z"
      ]
     },
     "execution_count": 67,
     "metadata": {},
     "output_type": "execute_result"
    }
   ],
   "source": [
    "r = vt.applyfunc(lambda f: integrate(f, t))\n",
    "r"
   ]
  },
  {
   "cell_type": "code",
   "execution_count": 68,
   "metadata": {
    "nbpresent": {
     "id": "3045cec1-8a19-4c86-8162-d02d8432ebd5"
    }
   },
   "outputs": [
    {
     "data": {
      "text/plain": [
       "- 1/4*N.z"
      ]
     },
     "execution_count": 68,
     "metadata": {},
     "output_type": "execute_result"
    }
   ],
   "source": [
    "r0 = r.subs(t,0)\n",
    "r0"
   ]
  },
  {
   "cell_type": "code",
   "execution_count": 70,
   "metadata": {
    "nbpresent": {
     "id": "a0ddc55f-f726-4821-a014-9ad8c9cb7ff4"
    }
   },
   "outputs": [
    {
     "data": {
      "text/plain": [
       "(t**3/6 + t)*N.x + (t**4/12 + 1)*N.y + (t - cos(2*t)/4 + 0.25)*N.z"
      ]
     },
     "execution_count": 70,
     "metadata": {},
     "output_type": "execute_result"
    }
   ],
   "source": [
    "C = N.y + 1/4*N.z\n",
    "rt = r + C\n",
    "rt"
   ]
  },
  {
   "cell_type": "code",
   "execution_count": 71,
   "metadata": {
    "nbpresent": {
     "id": "4eed863f-e7f7-460a-998d-f7226a772403"
    }
   },
   "outputs": [
    {
     "data": {
      "text/plain": [
       "N.y"
      ]
     },
     "execution_count": 71,
     "metadata": {},
     "output_type": "execute_result"
    }
   ],
   "source": [
    "rt.subs(t,0)"
   ]
  },
  {
   "cell_type": "code",
   "execution_count": 74,
   "metadata": {
    "nbpresent": {
     "id": "b67c55c9-5c85-45d1-9d01-b7a0a953299f"
    }
   },
   "outputs": [
    {
     "data": {
      "text/plain": [
       "125*t**2 - 10*t + 10"
      ]
     },
     "execution_count": 74,
     "metadata": {},
     "output_type": "execute_result"
    }
   ],
   "source": [
    "expr = ((4*t-1)**2 + (3*t+1)**2)*sqrt(16+9)\n",
    "expr = simplify(expr)\n",
    "expr"
   ]
  },
  {
   "cell_type": "code",
   "execution_count": 75,
   "metadata": {
    "nbpresent": {
     "id": "195ac333-cb3d-4612-8bb9-d9424e0b3514"
    }
   },
   "outputs": [
    {
     "data": {
      "text/plain": [
       "310/3"
      ]
     },
     "execution_count": 75,
     "metadata": {},
     "output_type": "execute_result"
    }
   ],
   "source": [
    "integrate(expr, (t,-1,1))"
   ]
  },
  {
   "cell_type": "code",
   "execution_count": 77,
   "metadata": {
    "nbpresent": {
     "id": "e32b91fb-a8bc-477e-a9aa-8b2061a61ebb"
    }
   },
   "outputs": [
    {
     "data": {
      "text/plain": [
       "100*t**2 - 8*t + 8"
      ]
     },
     "execution_count": 77,
     "metadata": {},
     "output_type": "execute_result"
    }
   ],
   "source": [
    "expr = simplify(((4*t-1)**2 + (3*t+1)**2) * 4)\n",
    "expr"
   ]
  },
  {
   "cell_type": "code",
   "execution_count": 78,
   "metadata": {
    "nbpresent": {
     "id": "769b57a8-5e0b-4370-b75b-54ea1cfadd83"
    }
   },
   "outputs": [
    {
     "data": {
      "text/plain": [
       "248/3"
      ]
     },
     "execution_count": 78,
     "metadata": {},
     "output_type": "execute_result"
    }
   ],
   "source": [
    "integrate(expr, (t,-1,1))"
   ]
  },
  {
   "cell_type": "code",
   "execution_count": 79,
   "metadata": {
    "nbpresent": {
     "id": "00492af4-f728-42ee-a596-e48a016afbbf"
    }
   },
   "outputs": [
    {
     "data": {
      "text/plain": [
       "75*t**2 - 6*t + 6"
      ]
     },
     "execution_count": 79,
     "metadata": {},
     "output_type": "execute_result"
    }
   ],
   "source": [
    "expr = simplify(((4*t-1)**2 + (3*t+1)**2) * 3)\n",
    "expr"
   ]
  },
  {
   "cell_type": "code",
   "execution_count": 80,
   "metadata": {
    "nbpresent": {
     "id": "38781962-d9f2-4762-ace2-11acea1e40c6"
    }
   },
   "outputs": [
    {
     "data": {
      "text/plain": [
       "62"
      ]
     },
     "execution_count": 80,
     "metadata": {},
     "output_type": "execute_result"
    }
   ],
   "source": [
    "integrate(expr, (t,-1,1))"
   ]
  },
  {
   "cell_type": "code",
   "execution_count": 84,
   "metadata": {
    "nbpresent": {
     "id": "9d57b122-380b-4dfe-8106-dfbd4f9c1502"
    }
   },
   "outputs": [
    {
     "data": {
      "text/plain": [
       "52.5000000000000"
      ]
     },
     "execution_count": 84,
     "metadata": {},
     "output_type": "execute_result"
    }
   ],
   "source": [
    "integrate(t**(3/2)*t**(1/2) + t**(3/2)*(3/2)*t**(1/2), (t,1,4))"
   ]
  },
  {
   "cell_type": "code",
   "execution_count": 85,
   "metadata": {
    "nbpresent": {
     "id": "b34f18fa-19ea-4e92-87af-27ddc0fd23eb"
    }
   },
   "outputs": [
    {
     "data": {
      "text/plain": [
       "cos(t)*N.x - sin(t)*N.y + 2*t*N.z"
      ]
     },
     "execution_count": 85,
     "metadata": {},
     "output_type": "execute_result"
    }
   ],
   "source": [
    "F = cos(t)*N.x - sin(t)*N.y + 2*t*N.z\n",
    "F"
   ]
  },
  {
   "cell_type": "code",
   "execution_count": 86,
   "metadata": {
    "nbpresent": {
     "id": "14eec7f8-5b3c-4c6f-bd80-cc6087d272d3"
    }
   },
   "outputs": [
    {
     "data": {
      "text/plain": [
       "cos(t)*N.x - sin(t)*N.y + 2*N.z"
      ]
     },
     "execution_count": 86,
     "metadata": {},
     "output_type": "execute_result"
    }
   ],
   "source": [
    "dr = cos(t)*N.x - sin(t)*N.y + 2*N.z\n",
    "dr"
   ]
  },
  {
   "cell_type": "code",
   "execution_count": 88,
   "metadata": {
    "nbpresent": {
     "id": "79c0badf-44fa-421b-b9f5-46ce2a06bdb7"
    }
   },
   "outputs": [
    {
     "data": {
      "text/plain": [
       "4*t + sin(t)**2 + cos(t)**2"
      ]
     },
     "execution_count": 88,
     "metadata": {},
     "output_type": "execute_result"
    }
   ],
   "source": [
    "F_dot_dr = dot(F,dr)\n",
    "F_dot_dr"
   ]
  },
  {
   "cell_type": "code",
   "execution_count": 90,
   "metadata": {
    "nbpresent": {
     "id": "2cdc2cc2-412e-4d48-af16-5ff00776141a"
    }
   },
   "outputs": [
    {
     "data": {
      "text/plain": [
       "4*t + 1"
      ]
     },
     "execution_count": 90,
     "metadata": {},
     "output_type": "execute_result"
    }
   ],
   "source": [
    "F_dot_dr = simplify(F_dot_dr)\n",
    "F_dot_dr"
   ]
  },
  {
   "cell_type": "code",
   "execution_count": 91,
   "metadata": {
    "nbpresent": {
     "id": "54f42bf1-8f3a-4ccc-8630-d8a06cbe6359"
    }
   },
   "outputs": [
    {
     "data": {
      "text/plain": [
       "pi + 2*pi**2"
      ]
     },
     "execution_count": 91,
     "metadata": {},
     "output_type": "execute_result"
    }
   ],
   "source": [
    "integrate(F_dot_dr, (t,0,pi))"
   ]
  },
  {
   "cell_type": "code",
   "execution_count": 92,
   "metadata": {
    "nbpresent": {
     "id": "ca6fe2f6-0578-4762-9f45-ad3022ba4d63"
    }
   },
   "outputs": [
    {
     "data": {
      "text/plain": [
       "sqrt(16*sin(t)**2 + 81*cos(t)**2 + 49)"
      ]
     },
     "execution_count": 92,
     "metadata": {},
     "output_type": "execute_result"
    }
   ],
   "source": [
    "ds = sqrt((-4*sin(t))**2 + (9*cos(t))**2 + 7**2)\n",
    "ds"
   ]
  },
  {
   "cell_type": "code",
   "execution_count": 95,
   "metadata": {
    "nbpresent": {
     "id": "633c470d-ecd5-41b8-82e9-284a83276de0"
    }
   },
   "outputs": [
    {
     "data": {
      "text/plain": [
       "176.895009044211"
      ]
     },
     "execution_count": 95,
     "metadata": {},
     "output_type": "execute_result"
    }
   ],
   "source": [
    "integrate(36*cos(t)*sin(t)*sqrt(65)*sqrt(1 + cos(t)**2), (t,0,5*pi/2)).n()"
   ]
  },
  {
   "cell_type": "code",
   "execution_count": 98,
   "metadata": {
    "nbpresent": {
     "id": "542e8588-08a2-45da-9dd5-183ac441e15a"
    }
   },
   "outputs": [
    {
     "data": {
      "text/plain": [
       "176.895009044211"
      ]
     },
     "execution_count": 98,
     "metadata": {},
     "output_type": "execute_result"
    }
   ],
   "source": [
    "(12*sqrt(65)*(2**(3/2) - 1)).n()"
   ]
  },
  {
   "cell_type": "code",
   "execution_count": 99,
   "metadata": {
    "nbpresent": {
     "id": "8ac1947f-0490-4ab8-80ae-702f5e18ec0f"
    }
   },
   "outputs": [
    {
     "data": {
      "text/plain": [
       "-43/(14*t**2) + 43/(14*s**2)"
      ]
     },
     "execution_count": 99,
     "metadata": {},
     "output_type": "execute_result"
    }
   ],
   "source": [
    "integrate(43/(7*x**3), (x,s,t))"
   ]
  },
  {
   "cell_type": "code",
   "execution_count": 100,
   "metadata": {
    "nbpresent": {
     "id": "f9321c6f-7620-41ec-bf8b-18620009b854"
    }
   },
   "outputs": [
    {
     "data": {
      "text/plain": [
       "350"
      ]
     },
     "execution_count": 100,
     "metadata": {},
     "output_type": "execute_result"
    }
   ],
   "source": [
    "14*25"
   ]
  },
  {
   "cell_type": "code",
   "execution_count": 102,
   "metadata": {
    "nbpresent": {
     "id": "8f3d2062-f902-4c9a-9868-3a5b71d0db6c"
    }
   },
   "outputs": [
    {
     "data": {
      "text/plain": [
       "21.544346900318832"
      ]
     },
     "execution_count": 102,
     "metadata": {},
     "output_type": "execute_result"
    }
   ],
   "source": [
    "(10000)**(1/3)"
   ]
  },
  {
   "cell_type": "code",
   "execution_count": 117,
   "metadata": {
    "nbpresent": {
     "id": "4c7452c7-699d-4b1c-b05f-f0cec07e394c"
    }
   },
   "outputs": [],
   "source": [
    "F = (-y / sqrt(x**2 + y**2))*N.x + (x / sqrt(x**2 + y**2))*N.y + 0*N.z"
   ]
  },
  {
   "cell_type": "code",
   "execution_count": 118,
   "metadata": {},
   "outputs": [
    {
     "data": {
      "text/plain": [
       "0"
      ]
     },
     "execution_count": 118,
     "metadata": {},
     "output_type": "execute_result"
    }
   ],
   "source": [
    "curl(F, N)"
   ]
  },
  {
   "cell_type": "code",
   "execution_count": 126,
   "metadata": {},
   "outputs": [
    {
     "data": {
      "text/plain": [
       "-x**2/(x**2 + y**2)**(3/2)"
      ]
     },
     "execution_count": 126,
     "metadata": {},
     "output_type": "execute_result"
    }
   ],
   "source": [
    "simplify(diff(-y / sqrt(x**2 + y**2), y))"
   ]
  },
  {
   "cell_type": "code",
   "execution_count": 127,
   "metadata": {},
   "outputs": [
    {
     "data": {
      "text/plain": [
       "y**2/(x**2 + y**2)**(3/2)"
      ]
     },
     "execution_count": 127,
     "metadata": {},
     "output_type": "execute_result"
    }
   ],
   "source": [
    "simplify(diff(x / sqrt(x**2 + y**2),x))"
   ]
  },
  {
   "cell_type": "code",
   "execution_count": 116,
   "metadata": {},
   "outputs": [
    {
     "data": {
      "text/plain": [
       "pi"
      ]
     },
     "execution_count": 116,
     "metadata": {},
     "output_type": "execute_result"
    }
   ],
   "source": []
  },
  {
   "cell_type": "code",
   "execution_count": null,
   "metadata": {},
   "outputs": [],
   "source": []
  }
 ],
 "metadata": {
  "hide_input": false,
  "kernelspec": {
   "display_name": "Python [default]",
   "language": "python",
   "name": "python3"
  },
  "language_info": {
   "codemirror_mode": {
    "name": "ipython",
    "version": 3
   },
   "file_extension": ".py",
   "mimetype": "text/x-python",
   "name": "python",
   "nbconvert_exporter": "python",
   "pygments_lexer": "ipython3",
   "version": "3.5.4"
  },
  "latex_envs": {
   "bibliofile": "biblio.bib",
   "cite_by": "apalike",
   "current_citInitial": 1,
   "eqLabelWithNumbers": true,
   "eqNumInitial": 0
  },
  "nbpresent": {
   "slides": {
    "01fbe6ca-b6e6-475b-9d50-d5fa2c79d438": {
     "id": "01fbe6ca-b6e6-475b-9d50-d5fa2c79d438",
     "prev": "3ba9df44-8cf8-4bf6-b21d-3d14b1e7fbd0",
     "regions": {
      "63230003-c94e-432d-99a3-24efecfae9f4": {
       "attrs": {
        "height": 0.8,
        "width": 0.8,
        "x": 0.1,
        "y": 0.1
       },
       "content": {
        "cell": "56e68252-5dd1-474c-8874-ada092b06ade",
        "part": "whole"
       },
       "id": "63230003-c94e-432d-99a3-24efecfae9f4"
      }
     }
    },
    "0705305a-ebab-4516-902b-ffe8821a5440": {
     "id": "0705305a-ebab-4516-902b-ffe8821a5440",
     "prev": "01fbe6ca-b6e6-475b-9d50-d5fa2c79d438",
     "regions": {
      "725934b3-52d0-4404-9c9c-8cc4e7ad6564": {
       "attrs": {
        "height": 0.8,
        "width": 0.8,
        "x": 0.1,
        "y": 0.1
       },
       "content": {
        "cell": "4e378d45-93f2-439f-a09b-3048e7c4774d",
        "part": "whole"
       },
       "id": "725934b3-52d0-4404-9c9c-8cc4e7ad6564"
      }
     }
    },
    "08f1c937-aa00-47af-b232-81f8592b1319": {
     "id": "08f1c937-aa00-47af-b232-81f8592b1319",
     "prev": "86db061f-7b26-4f3a-818e-5fb63828c3e6",
     "regions": {
      "0ec23d5c-4672-437b-bdba-671d03b9fd11": {
       "attrs": {
        "height": 0.8,
        "width": 0.8,
        "x": 0.1,
        "y": 0.1
       },
       "content": {
        "cell": "36ffb9d1-71fe-4d41-b8d8-f672b79bd4bc",
        "part": "whole"
       },
       "id": "0ec23d5c-4672-437b-bdba-671d03b9fd11"
      }
     }
    },
    "0aa0d19f-fa7b-44ab-8c4a-83f383f2cdda": {
     "id": "0aa0d19f-fa7b-44ab-8c4a-83f383f2cdda",
     "prev": "65c03955-0116-487c-bdab-1fc2d951110c",
     "regions": {
      "6440d659-ac09-4a42-a473-114ce7803116": {
       "attrs": {
        "height": 0.8,
        "width": 0.8,
        "x": 0.1,
        "y": 0.1
       },
       "content": {
        "cell": "ca6fe2f6-0578-4762-9f45-ad3022ba4d63",
        "part": "whole"
       },
       "id": "6440d659-ac09-4a42-a473-114ce7803116"
      }
     }
    },
    "1edf559c-adae-4826-a05c-10f469f0918b": {
     "id": "1edf559c-adae-4826-a05c-10f469f0918b",
     "prev": "bbb127c9-1a55-4dd8-bdbb-9d4bec700c33",
     "regions": {
      "52d223f2-2b2a-4db1-ac8e-b221454207b4": {
       "attrs": {
        "height": 0.8,
        "width": 0.8,
        "x": 0.1,
        "y": 0.1
       },
       "content": {
        "cell": "fe4487ab-0c70-4509-9ba6-a1d67404ea13",
        "part": "whole"
       },
       "id": "52d223f2-2b2a-4db1-ac8e-b221454207b4"
      }
     }
    },
    "1f22742a-4e7d-45fe-aa61-961fc1f1eade": {
     "id": "1f22742a-4e7d-45fe-aa61-961fc1f1eade",
     "prev": "c3db2b48-687d-4beb-8df5-f0eb724e9bb0",
     "regions": {
      "f2eb9675-af3b-4c47-97c8-cef72519c0d3": {
       "attrs": {
        "height": 0.8,
        "width": 0.8,
        "x": 0.1,
        "y": 0.1
       },
       "content": {
        "cell": "8ac1947f-0490-4ab8-80ae-702f5e18ec0f",
        "part": "whole"
       },
       "id": "f2eb9675-af3b-4c47-97c8-cef72519c0d3"
      }
     }
    },
    "263a77e9-a846-4def-b73a-5adf5d47c8dc": {
     "id": "263a77e9-a846-4def-b73a-5adf5d47c8dc",
     "prev": "be95934e-df29-48b5-b048-ad6a97a11721",
     "regions": {
      "fcf1e965-865e-4114-b424-846ff48d1015": {
       "attrs": {
        "height": 0.8,
        "width": 0.8,
        "x": 0.1,
        "y": 0.1
       },
       "content": {
        "cell": "fb98fde7-3b8f-4976-83fb-342bd99a219c",
        "part": "whole"
       },
       "id": "fcf1e965-865e-4114-b424-846ff48d1015"
      }
     }
    },
    "27981c63-3ca6-459b-b0f9-5d8fef30dd5a": {
     "id": "27981c63-3ca6-459b-b0f9-5d8fef30dd5a",
     "prev": "5fc07c7d-31ad-4737-8c28-dfc64148a0bb",
     "regions": {
      "58a5c7d6-b565-4698-abf4-12c0d463d090": {
       "attrs": {
        "height": 0.8,
        "width": 0.8,
        "x": 0.1,
        "y": 0.1
       },
       "content": {
        "cell": "8f3d2062-f902-4c9a-9868-3a5b71d0db6c",
        "part": "whole"
       },
       "id": "58a5c7d6-b565-4698-abf4-12c0d463d090"
      }
     }
    },
    "27ab6381-66ef-4f03-bfa1-a46b291ed225": {
     "id": "27ab6381-66ef-4f03-bfa1-a46b291ed225",
     "prev": "d9fafc14-4dd8-4b03-8fd5-35d544025109",
     "regions": {
      "35b63e2c-fc6f-4974-8160-5256f46794d7": {
       "attrs": {
        "height": 0.8,
        "width": 0.8,
        "x": 0.1,
        "y": 0.1
       },
       "content": {
        "cell": "ec850bcc-94ad-43ce-974f-fa4823082fc6",
        "part": "whole"
       },
       "id": "35b63e2c-fc6f-4974-8160-5256f46794d7"
      }
     }
    },
    "2bde7658-7112-4b4b-b01d-38e1510c8a78": {
     "id": "2bde7658-7112-4b4b-b01d-38e1510c8a78",
     "prev": "2c60424e-55b5-47c4-9814-b02ce9149783",
     "regions": {
      "abde4c34-1134-45c1-8a93-f0f4a690513c": {
       "attrs": {
        "height": 0.8,
        "width": 0.8,
        "x": 0.1,
        "y": 0.1
       },
       "content": {
        "cell": "9d57b122-380b-4dfe-8106-dfbd4f9c1502",
        "part": "whole"
       },
       "id": "abde4c34-1134-45c1-8a93-f0f4a690513c"
      }
     }
    },
    "2c60424e-55b5-47c4-9814-b02ce9149783": {
     "id": "2c60424e-55b5-47c4-9814-b02ce9149783",
     "prev": "7c5db283-6d36-4dce-aa6a-375b78cf3736",
     "regions": {
      "4e0588b4-fbaa-4efe-86a7-c68d322fdf26": {
       "attrs": {
        "height": 0.8,
        "width": 0.8,
        "x": 0.1,
        "y": 0.1
       },
       "content": {
        "cell": "38781962-d9f2-4762-ace2-11acea1e40c6",
        "part": "whole"
       },
       "id": "4e0588b4-fbaa-4efe-86a7-c68d322fdf26"
      }
     }
    },
    "2d0c2ce4-a921-4763-8a68-1e70c281b102": {
     "id": "2d0c2ce4-a921-4763-8a68-1e70c281b102",
     "prev": "0705305a-ebab-4516-902b-ffe8821a5440",
     "regions": {
      "e0986daa-e42c-4eb9-b8cf-9d04e9eaacd1": {
       "attrs": {
        "height": 0.8,
        "width": 0.8,
        "x": 0.1,
        "y": 0.1
       },
       "content": {
        "cell": "17fda25c-a704-42b5-8c7e-5f6585c5493e",
        "part": "whole"
       },
       "id": "e0986daa-e42c-4eb9-b8cf-9d04e9eaacd1"
      }
     }
    },
    "311c117b-2f79-4210-8ac4-72a6fc2b0218": {
     "id": "311c117b-2f79-4210-8ac4-72a6fc2b0218",
     "prev": "dfdece4f-678d-4264-b3e1-0cefe1a217b8",
     "regions": {
      "7508f9bc-ed11-4ad4-b6fc-79538db0c8ce": {
       "attrs": {
        "height": 0.8,
        "width": 0.8,
        "x": 0.1,
        "y": 0.1
       },
       "content": {
        "cell": "c7a06b44-9575-477b-9b77-5bee08f72ea3",
        "part": "whole"
       },
       "id": "7508f9bc-ed11-4ad4-b6fc-79538db0c8ce"
      }
     }
    },
    "31798ce6-8519-4b4e-8d3a-e87c3d5da18e": {
     "id": "31798ce6-8519-4b4e-8d3a-e87c3d5da18e",
     "prev": "8279a122-97d4-45f8-bd63-7000a317f94f",
     "regions": {
      "81cddc82-45c3-4342-8ad9-043dd3a22306": {
       "attrs": {
        "height": 0.8,
        "width": 0.8,
        "x": 0.1,
        "y": 0.1
       },
       "content": {
        "cell": "94c1af96-890c-4e36-8156-e64669e687bd",
        "part": "whole"
       },
       "id": "81cddc82-45c3-4342-8ad9-043dd3a22306"
      }
     }
    },
    "320c6e5c-268c-4f3c-a6d1-d3fd797a408c": {
     "id": "320c6e5c-268c-4f3c-a6d1-d3fd797a408c",
     "prev": "0aa0d19f-fa7b-44ab-8c4a-83f383f2cdda",
     "regions": {
      "77b5dc76-91ec-47e2-8600-c5550e2ec037": {
       "attrs": {
        "height": 0.8,
        "width": 0.8,
        "x": 0.1,
        "y": 0.1
       },
       "content": {
        "cell": "633c470d-ecd5-41b8-82e9-284a83276de0",
        "part": "whole"
       },
       "id": "77b5dc76-91ec-47e2-8600-c5550e2ec037"
      }
     }
    },
    "358c654e-bd61-46a4-8908-ad5003c42af4": {
     "id": "358c654e-bd61-46a4-8908-ad5003c42af4",
     "prev": "311c117b-2f79-4210-8ac4-72a6fc2b0218",
     "regions": {
      "2af1e558-ef1b-4110-b6f4-612afe117277": {
       "attrs": {
        "height": 0.8,
        "width": 0.8,
        "x": 0.1,
        "y": 0.1
       },
       "content": {
        "cell": "7d3bbf0c-ff68-4951-ac1e-2cbb1a995d59",
        "part": "whole"
       },
       "id": "2af1e558-ef1b-4110-b6f4-612afe117277"
      }
     }
    },
    "3966c46d-6a4b-4955-bf68-3b3a22601b95": {
     "id": "3966c46d-6a4b-4955-bf68-3b3a22601b95",
     "prev": "44f9757f-e7b6-4091-8883-469998112a47",
     "regions": {
      "fc10ad43-35de-4c81-8007-f33ad8bc9e24": {
       "attrs": {
        "height": 0.8,
        "width": 0.8,
        "x": 0.1,
        "y": 0.1
       },
       "content": {
        "cell": "ff14d557-bcef-456b-ae79-2d4765d9d84f",
        "part": "whole"
       },
       "id": "fc10ad43-35de-4c81-8007-f33ad8bc9e24"
      }
     }
    },
    "39b0d8e0-a85b-48d9-9abb-893f5965e180": {
     "id": "39b0d8e0-a85b-48d9-9abb-893f5965e180",
     "prev": "ea9121c3-e58d-4da2-ba5e-de71741da8da",
     "regions": {
      "bdbfd02d-6c87-4652-b800-d769156c1d28": {
       "attrs": {
        "height": 0.8,
        "width": 0.8,
        "x": 0.1,
        "y": 0.1
       },
       "content": {
        "cell": "fe6aeac0-f568-4996-826c-5c48138c0ac2",
        "part": "whole"
       },
       "id": "bdbfd02d-6c87-4652-b800-d769156c1d28"
      }
     }
    },
    "3ba9df44-8cf8-4bf6-b21d-3d14b1e7fbd0": {
     "id": "3ba9df44-8cf8-4bf6-b21d-3d14b1e7fbd0",
     "prev": null,
     "regions": {
      "38087b7f-f117-4638-a286-4ffd0f140f34": {
       "attrs": {
        "height": 0.8,
        "width": 0.8,
        "x": 0.1,
        "y": 0.1
       },
       "content": {
        "cell": "407ed85b-b266-441a-a679-36e4fb5b5337",
        "part": "whole"
       },
       "id": "38087b7f-f117-4638-a286-4ffd0f140f34"
      }
     }
    },
    "3f28bd6c-072f-41b4-9c22-3c96c8ab1fe0": {
     "id": "3f28bd6c-072f-41b4-9c22-3c96c8ab1fe0",
     "prev": "3966c46d-6a4b-4955-bf68-3b3a22601b95",
     "regions": {
      "f9eff318-fd18-4080-b837-89e83d1eb16d": {
       "attrs": {
        "height": 0.8,
        "width": 0.8,
        "x": 0.1,
        "y": 0.1
       },
       "content": {
        "cell": "66260960-b7ca-4983-87c9-58d66d7a2287",
        "part": "whole"
       },
       "id": "f9eff318-fd18-4080-b837-89e83d1eb16d"
      }
     }
    },
    "44f9757f-e7b6-4091-8883-469998112a47": {
     "id": "44f9757f-e7b6-4091-8883-469998112a47",
     "prev": "1edf559c-adae-4826-a05c-10f469f0918b",
     "regions": {
      "2fa40c22-c718-440f-9a97-aaac3566f227": {
       "attrs": {
        "height": 0.8,
        "width": 0.8,
        "x": 0.1,
        "y": 0.1
       },
       "content": {
        "cell": "430b9d13-d858-498a-8d76-81592bc33405",
        "part": "whole"
       },
       "id": "2fa40c22-c718-440f-9a97-aaac3566f227"
      }
     }
    },
    "50995e4a-88ea-4998-aa47-5413582c84bf": {
     "id": "50995e4a-88ea-4998-aa47-5413582c84bf",
     "prev": "39b0d8e0-a85b-48d9-9abb-893f5965e180",
     "regions": {
      "83b97b1c-62e4-4a75-b97d-3fa90c9bf437": {
       "attrs": {
        "height": 0.8,
        "width": 0.8,
        "x": 0.1,
        "y": 0.1
       },
       "content": {
        "cell": "9e39a3c6-6ee4-43ec-827b-88ac0d283857",
        "part": "whole"
       },
       "id": "83b97b1c-62e4-4a75-b97d-3fa90c9bf437"
      }
     }
    },
    "57f6f6fa-acfb-42e2-8ec5-dfc63bbc0524": {
     "id": "57f6f6fa-acfb-42e2-8ec5-dfc63bbc0524",
     "prev": "ab099bde-7696-4c1c-82f4-152d29d4fb57",
     "regions": {
      "9d3c0109-5920-4fd7-b93c-59781d385b07": {
       "attrs": {
        "height": 0.8,
        "width": 0.8,
        "x": 0.1,
        "y": 0.1
       },
       "content": {
        "cell": "e32b91fb-a8bc-477e-a9aa-8b2061a61ebb",
        "part": "whole"
       },
       "id": "9d3c0109-5920-4fd7-b93c-59781d385b07"
      }
     }
    },
    "5a9f199c-265d-4925-a19e-23aef9b0154a": {
     "id": "5a9f199c-265d-4925-a19e-23aef9b0154a",
     "prev": "9f85a2d5-4cff-4891-b99c-36b7bb2b6d6f",
     "regions": {
      "67812d6c-8f4f-4145-9997-0c68fb4c564a": {
       "attrs": {
        "height": 0.8,
        "width": 0.8,
        "x": 0.1,
        "y": 0.1
       },
       "content": {
        "cell": "a4eb86bb-a7c2-4aec-9723-d90d79a420fd",
        "part": "whole"
       },
       "id": "67812d6c-8f4f-4145-9997-0c68fb4c564a"
      }
     }
    },
    "5f992bc8-7717-422b-8572-3408a72e4612": {
     "id": "5f992bc8-7717-422b-8572-3408a72e4612",
     "prev": "d37fa8bd-4f58-43af-a4d1-29bce6259643",
     "regions": {
      "7f973b65-db12-40d1-8257-cadc7b79d0d5": {
       "attrs": {
        "height": 0.8,
        "width": 0.8,
        "x": 0.1,
        "y": 0.1
       },
       "content": {
        "cell": "14eec7f8-5b3c-4c6f-bd80-cc6087d272d3",
        "part": "whole"
       },
       "id": "7f973b65-db12-40d1-8257-cadc7b79d0d5"
      }
     }
    },
    "5fc07c7d-31ad-4737-8c28-dfc64148a0bb": {
     "id": "5fc07c7d-31ad-4737-8c28-dfc64148a0bb",
     "prev": "1f22742a-4e7d-45fe-aa61-961fc1f1eade",
     "regions": {
      "8c282db7-516e-48f5-9da4-2ffa8b63f2c8": {
       "attrs": {
        "height": 0.8,
        "width": 0.8,
        "x": 0.1,
        "y": 0.1
       },
       "content": {
        "cell": "f9321c6f-7620-41ec-bf8b-18620009b854",
        "part": "whole"
       },
       "id": "8c282db7-516e-48f5-9da4-2ffa8b63f2c8"
      }
     }
    },
    "633ff7f1-de27-45c4-a0bb-e208b99aa8db": {
     "id": "633ff7f1-de27-45c4-a0bb-e208b99aa8db",
     "prev": "27981c63-3ca6-459b-b0f9-5d8fef30dd5a",
     "regions": {
      "84ca426a-19a6-4f7b-becd-2b03f1efcf7f": {
       "attrs": {
        "height": 0.8,
        "width": 0.8,
        "x": 0.1,
        "y": 0.1
       },
       "content": {
        "cell": "4c7452c7-699d-4b1c-b05f-f0cec07e394c",
        "part": "whole"
       },
       "id": "84ca426a-19a6-4f7b-becd-2b03f1efcf7f"
      }
     }
    },
    "65c03955-0116-487c-bdab-1fc2d951110c": {
     "id": "65c03955-0116-487c-bdab-1fc2d951110c",
     "prev": "bb0d3843-12cd-4337-9ce2-3497de9c48c6",
     "regions": {
      "e1159b36-25b3-4b39-ad41-11a36bed687b": {
       "attrs": {
        "height": 0.8,
        "width": 0.8,
        "x": 0.1,
        "y": 0.1
       },
       "content": {
        "cell": "54f42bf1-8f3a-4ccc-8630-d8a06cbe6359",
        "part": "whole"
       },
       "id": "e1159b36-25b3-4b39-ad41-11a36bed687b"
      }
     }
    },
    "7391133d-869b-4b34-9bfb-5a60520e1022": {
     "id": "7391133d-869b-4b34-9bfb-5a60520e1022",
     "prev": "5f992bc8-7717-422b-8572-3408a72e4612",
     "regions": {
      "2eaeead1-3c94-4002-9f03-5f49f6ce403a": {
       "attrs": {
        "height": 0.8,
        "width": 0.8,
        "x": 0.1,
        "y": 0.1
       },
       "content": {
        "cell": "79c0badf-44fa-421b-b9f5-46ce2a06bdb7",
        "part": "whole"
       },
       "id": "2eaeead1-3c94-4002-9f03-5f49f6ce403a"
      }
     }
    },
    "79a097fc-391b-4b4f-a523-7dddc0b511df": {
     "id": "79a097fc-391b-4b4f-a523-7dddc0b511df",
     "prev": "c5c538ea-bb1f-44e9-a0cf-855732b92ddc",
     "regions": {
      "e5d7eb2f-b186-47be-a074-7fc17c88e0fd": {
       "attrs": {
        "height": 0.8,
        "width": 0.8,
        "x": 0.1,
        "y": 0.1
       },
       "content": {
        "cell": "a0ddc55f-f726-4821-a014-9ad8c9cb7ff4",
        "part": "whole"
       },
       "id": "e5d7eb2f-b186-47be-a074-7fc17c88e0fd"
      }
     }
    },
    "7c5db283-6d36-4dce-aa6a-375b78cf3736": {
     "id": "7c5db283-6d36-4dce-aa6a-375b78cf3736",
     "prev": "aa00010d-8723-4f2b-93d3-877d34ebb923",
     "regions": {
      "b984b1f0-1764-48d8-8730-cdf4734db35a": {
       "attrs": {
        "height": 0.8,
        "width": 0.8,
        "x": 0.1,
        "y": 0.1
       },
       "content": {
        "cell": "00492af4-f728-42ee-a596-e48a016afbbf",
        "part": "whole"
       },
       "id": "b984b1f0-1764-48d8-8730-cdf4734db35a"
      }
     }
    },
    "81a67679-fcde-4ec4-828c-61b2ae3c88de": {
     "id": "81a67679-fcde-4ec4-828c-61b2ae3c88de",
     "prev": "2d0c2ce4-a921-4763-8a68-1e70c281b102",
     "regions": {
      "8055c082-aeb1-4975-b4a5-0eb520d8ca62": {
       "attrs": {
        "height": 0.8,
        "width": 0.8,
        "x": 0.1,
        "y": 0.1
       },
       "content": {
        "cell": "798959ee-5bb2-4966-84b5-04cd2dccdf74",
        "part": "whole"
       },
       "id": "8055c082-aeb1-4975-b4a5-0eb520d8ca62"
      }
     }
    },
    "8279a122-97d4-45f8-bd63-7000a317f94f": {
     "id": "8279a122-97d4-45f8-bd63-7000a317f94f",
     "prev": "f7d836a8-661b-4242-a357-81f6aea0c8e0",
     "regions": {
      "bc703108-fcb8-4ef3-8f05-a38ff7eb62c4": {
       "attrs": {
        "height": 0.8,
        "width": 0.8,
        "x": 0.1,
        "y": 0.1
       },
       "content": {
        "cell": "5db25012-ff57-4f7e-9472-b47e2dd931de",
        "part": "whole"
       },
       "id": "bc703108-fcb8-4ef3-8f05-a38ff7eb62c4"
      }
     }
    },
    "86db061f-7b26-4f3a-818e-5fb63828c3e6": {
     "id": "86db061f-7b26-4f3a-818e-5fb63828c3e6",
     "prev": "c4415da3-ef8b-45d3-9b86-c4342ce0edfe",
     "regions": {
      "3de6a7a8-34e4-4908-9ba1-42d2c1372cb1": {
       "attrs": {
        "height": 0.8,
        "width": 0.8,
        "x": 0.1,
        "y": 0.1
       },
       "content": {
        "cell": "aed04973-67d9-4756-b9e8-1b6f44edb57b",
        "part": "whole"
       },
       "id": "3de6a7a8-34e4-4908-9ba1-42d2c1372cb1"
      }
     }
    },
    "9bb11a0e-38bc-4405-b6ce-3fc6dbe52f8c": {
     "id": "9bb11a0e-38bc-4405-b6ce-3fc6dbe52f8c",
     "prev": "fb51ceae-685b-4354-8348-9c1107410111",
     "regions": {
      "76da693b-4428-4541-9989-e2f7f6d1fc5b": {
       "attrs": {
        "height": 0.8,
        "width": 0.8,
        "x": 0.1,
        "y": 0.1
       },
       "content": {
        "cell": "1a14f9b7-4713-4127-9527-13c45e77f0bc",
        "part": "whole"
       },
       "id": "76da693b-4428-4541-9989-e2f7f6d1fc5b"
      }
     }
    },
    "9f85a2d5-4cff-4891-b99c-36b7bb2b6d6f": {
     "id": "9f85a2d5-4cff-4891-b99c-36b7bb2b6d6f",
     "prev": "27ab6381-66ef-4f03-bfa1-a46b291ed225",
     "regions": {
      "f4c555fa-cb7c-4f0d-a3b7-96f74d25f62d": {
       "attrs": {
        "height": 0.8,
        "width": 0.8,
        "x": 0.1,
        "y": 0.1
       },
       "content": {
        "cell": "635a0e64-fabe-4da3-9b39-cbc2ef3f1af7",
        "part": "whole"
       },
       "id": "f4c555fa-cb7c-4f0d-a3b7-96f74d25f62d"
      }
     }
    },
    "aa00010d-8723-4f2b-93d3-877d34ebb923": {
     "id": "aa00010d-8723-4f2b-93d3-877d34ebb923",
     "prev": "57f6f6fa-acfb-42e2-8ec5-dfc63bbc0524",
     "regions": {
      "c2142164-4086-4c35-9f14-5967431c7f19": {
       "attrs": {
        "height": 0.8,
        "width": 0.8,
        "x": 0.1,
        "y": 0.1
       },
       "content": {
        "cell": "769b57a8-5e0b-4370-b75b-54ea1cfadd83",
        "part": "whole"
       },
       "id": "c2142164-4086-4c35-9f14-5967431c7f19"
      }
     }
    },
    "ab099bde-7696-4c1c-82f4-152d29d4fb57": {
     "id": "ab099bde-7696-4c1c-82f4-152d29d4fb57",
     "prev": "e361f92a-c3bb-48d8-a737-e0c882a9d43b",
     "regions": {
      "ec94f782-03e2-4cc8-a3b5-350f8aef186c": {
       "attrs": {
        "height": 0.8,
        "width": 0.8,
        "x": 0.1,
        "y": 0.1
       },
       "content": {
        "cell": "195ac333-cb3d-4612-8bb9-d9424e0b3514",
        "part": "whole"
       },
       "id": "ec94f782-03e2-4cc8-a3b5-350f8aef186c"
      }
     }
    },
    "ae1453bc-fa05-46bc-b137-c57677358352": {
     "id": "ae1453bc-fa05-46bc-b137-c57677358352",
     "prev": "79a097fc-391b-4b4f-a523-7dddc0b511df",
     "regions": {
      "fd18ecf9-d0f1-472d-bfba-763d282720d9": {
       "attrs": {
        "height": 0.8,
        "width": 0.8,
        "x": 0.1,
        "y": 0.1
       },
       "content": {
        "cell": "4eed863f-e7f7-460a-998d-f7226a772403",
        "part": "whole"
       },
       "id": "fd18ecf9-d0f1-472d-bfba-763d282720d9"
      }
     }
    },
    "bb0d3843-12cd-4337-9ce2-3497de9c48c6": {
     "id": "bb0d3843-12cd-4337-9ce2-3497de9c48c6",
     "prev": "7391133d-869b-4b34-9bfb-5a60520e1022",
     "regions": {
      "c22112e0-1cc7-475a-8105-0d4bc7993a85": {
       "attrs": {
        "height": 0.8,
        "width": 0.8,
        "x": 0.1,
        "y": 0.1
       },
       "content": {
        "cell": "2cdc2cc2-412e-4d48-af16-5ff00776141a",
        "part": "whole"
       },
       "id": "c22112e0-1cc7-475a-8105-0d4bc7993a85"
      }
     }
    },
    "bbb127c9-1a55-4dd8-bdbb-9d4bec700c33": {
     "id": "bbb127c9-1a55-4dd8-bdbb-9d4bec700c33",
     "prev": "263a77e9-a846-4def-b73a-5adf5d47c8dc",
     "regions": {
      "1adbcbb4-3dc2-47e5-a4bb-77417c7831e6": {
       "attrs": {
        "height": 0.8,
        "width": 0.8,
        "x": 0.1,
        "y": 0.1
       },
       "content": {
        "cell": "85bbcf70-604c-4d6e-b0b6-664300ceb30f",
        "part": "whole"
       },
       "id": "1adbcbb4-3dc2-47e5-a4bb-77417c7831e6"
      }
     }
    },
    "be95934e-df29-48b5-b048-ad6a97a11721": {
     "id": "be95934e-df29-48b5-b048-ad6a97a11721",
     "prev": "d3f63334-a712-4ff1-8e22-161c46e1b384",
     "regions": {
      "72535288-876c-4944-9b76-80500e89b84e": {
       "attrs": {
        "height": 0.8,
        "width": 0.8,
        "x": 0.1,
        "y": 0.1
       },
       "content": {
        "cell": "e7ca6564-1302-411a-8a30-0d01747a3517",
        "part": "whole"
       },
       "id": "72535288-876c-4944-9b76-80500e89b84e"
      }
     }
    },
    "c3db2b48-687d-4beb-8df5-f0eb724e9bb0": {
     "id": "c3db2b48-687d-4beb-8df5-f0eb724e9bb0",
     "prev": "320c6e5c-268c-4f3c-a6d1-d3fd797a408c",
     "regions": {
      "273e884d-64a4-41a2-b59d-c172c7e20b99": {
       "attrs": {
        "height": 0.8,
        "width": 0.8,
        "x": 0.1,
        "y": 0.1
       },
       "content": {
        "cell": "542e8588-08a2-45da-9dd5-183ac441e15a",
        "part": "whole"
       },
       "id": "273e884d-64a4-41a2-b59d-c172c7e20b99"
      }
     }
    },
    "c4415da3-ef8b-45d3-9b86-c4342ce0edfe": {
     "id": "c4415da3-ef8b-45d3-9b86-c4342ce0edfe",
     "prev": "358c654e-bd61-46a4-8908-ad5003c42af4",
     "regions": {
      "1050b0a3-8f58-44ec-90ee-8b6d4d519146": {
       "attrs": {
        "height": 0.8,
        "width": 0.8,
        "x": 0.1,
        "y": 0.1
       },
       "content": {
        "cell": "503c72c7-ea56-4358-8f6e-2a9584b8133a",
        "part": "whole"
       },
       "id": "1050b0a3-8f58-44ec-90ee-8b6d4d519146"
      }
     }
    },
    "c5c538ea-bb1f-44e9-a0cf-855732b92ddc": {
     "id": "c5c538ea-bb1f-44e9-a0cf-855732b92ddc",
     "prev": "31798ce6-8519-4b4e-8d3a-e87c3d5da18e",
     "regions": {
      "15e58adc-8a13-4dc4-abaa-93a98d489b3c": {
       "attrs": {
        "height": 0.8,
        "width": 0.8,
        "x": 0.1,
        "y": 0.1
       },
       "content": {
        "cell": "3045cec1-8a19-4c86-8162-d02d8432ebd5",
        "part": "whole"
       },
       "id": "15e58adc-8a13-4dc4-abaa-93a98d489b3c"
      }
     }
    },
    "d26df950-ac82-428b-81e5-c12f6fe30adc": {
     "id": "d26df950-ac82-428b-81e5-c12f6fe30adc",
     "prev": "08f1c937-aa00-47af-b232-81f8592b1319",
     "regions": {
      "6b97fbaf-0e6a-4c05-b292-650ded7e1eac": {
       "attrs": {
        "height": 1,
        "width": 1,
        "x": 0,
        "y": 0
       },
       "id": "6b97fbaf-0e6a-4c05-b292-650ded7e1eac"
      }
     }
    },
    "d37fa8bd-4f58-43af-a4d1-29bce6259643": {
     "id": "d37fa8bd-4f58-43af-a4d1-29bce6259643",
     "prev": "2bde7658-7112-4b4b-b01d-38e1510c8a78",
     "regions": {
      "833653a4-4d30-4f34-9c32-451f06e15d2c": {
       "attrs": {
        "height": 0.8,
        "width": 0.8,
        "x": 0.1,
        "y": 0.1
       },
       "content": {
        "cell": "b34f18fa-19ea-4e92-87af-27ddc0fd23eb",
        "part": "whole"
       },
       "id": "833653a4-4d30-4f34-9c32-451f06e15d2c"
      }
     }
    },
    "d3f63334-a712-4ff1-8e22-161c46e1b384": {
     "id": "d3f63334-a712-4ff1-8e22-161c46e1b384",
     "prev": "5a9f199c-265d-4925-a19e-23aef9b0154a",
     "regions": {
      "53e94f71-4d49-4098-9772-e0972e825aec": {
       "attrs": {
        "height": 0.8,
        "width": 0.8,
        "x": 0.1,
        "y": 0.1
       },
       "content": {
        "cell": "f8ccdf0f-1c2b-46f2-a216-db2031f8a27e",
        "part": "whole"
       },
       "id": "53e94f71-4d49-4098-9772-e0972e825aec"
      }
     }
    },
    "d9fafc14-4dd8-4b03-8fd5-35d544025109": {
     "id": "d9fafc14-4dd8-4b03-8fd5-35d544025109",
     "prev": "ff192b88-0a98-46ee-b6d9-69aede0dba7a",
     "regions": {
      "0d45d624-9668-4710-8cf3-bf244178dfca": {
       "attrs": {
        "height": 0.8,
        "width": 0.8,
        "x": 0.1,
        "y": 0.1
       },
       "content": {
        "cell": "c95ee8ef-3b15-465f-bc97-907259ad70c7",
        "part": "whole"
       },
       "id": "0d45d624-9668-4710-8cf3-bf244178dfca"
      }
     }
    },
    "dfdece4f-678d-4264-b3e1-0cefe1a217b8": {
     "id": "dfdece4f-678d-4264-b3e1-0cefe1a217b8",
     "prev": "3f28bd6c-072f-41b4-9c22-3c96c8ab1fe0",
     "regions": {
      "ffd5085d-5f1b-45b6-aab1-f4f5b20fb168": {
       "attrs": {
        "height": 0.8,
        "width": 0.8,
        "x": 0.1,
        "y": 0.1
       },
       "content": {
        "cell": "59f86517-8749-4952-9699-8c387194b6d7",
        "part": "whole"
       },
       "id": "ffd5085d-5f1b-45b6-aab1-f4f5b20fb168"
      }
     }
    },
    "e361f92a-c3bb-48d8-a737-e0c882a9d43b": {
     "id": "e361f92a-c3bb-48d8-a737-e0c882a9d43b",
     "prev": "ae1453bc-fa05-46bc-b137-c57677358352",
     "regions": {
      "4b40732c-c0ce-4d96-b04b-e7f7731ec606": {
       "attrs": {
        "height": 0.8,
        "width": 0.8,
        "x": 0.1,
        "y": 0.1
       },
       "content": {
        "cell": "b67c55c9-5c85-45d1-9d01-b7a0a953299f",
        "part": "whole"
       },
       "id": "4b40732c-c0ce-4d96-b04b-e7f7731ec606"
      }
     }
    },
    "ea9121c3-e58d-4da2-ba5e-de71741da8da": {
     "id": "ea9121c3-e58d-4da2-ba5e-de71741da8da",
     "prev": "d26df950-ac82-428b-81e5-c12f6fe30adc",
     "regions": {
      "551c6f8b-5b15-44dd-9782-307900b6f76a": {
       "attrs": {
        "height": 0.8,
        "width": 0.8,
        "x": 0.1,
        "y": 0.1
       },
       "content": {
        "cell": "5afeb4ed-94b9-4ff3-b8d9-a5efa56c8549",
        "part": "source"
       },
       "id": "551c6f8b-5b15-44dd-9782-307900b6f76a"
      }
     }
    },
    "f707ddc7-ee48-4e3c-ad92-30d0f41e225c": {
     "id": "f707ddc7-ee48-4e3c-ad92-30d0f41e225c",
     "prev": "50995e4a-88ea-4998-aa47-5413582c84bf",
     "regions": {
      "974139fa-5dc1-4919-bb9a-72e25d8608f0": {
       "attrs": {
        "height": 0.8,
        "width": 0.8,
        "x": 0.1,
        "y": 0.1
       },
       "content": {
        "cell": "aea4556a-8296-4098-8b97-dc5523148f9a",
        "part": "whole"
       },
       "id": "974139fa-5dc1-4919-bb9a-72e25d8608f0"
      }
     }
    },
    "f7d836a8-661b-4242-a357-81f6aea0c8e0": {
     "id": "f7d836a8-661b-4242-a357-81f6aea0c8e0",
     "prev": "f707ddc7-ee48-4e3c-ad92-30d0f41e225c",
     "regions": {
      "eceb13dc-dc53-4cf4-9059-b8844b832eba": {
       "attrs": {
        "height": 0.8,
        "width": 0.8,
        "x": 0.1,
        "y": 0.1
       },
       "content": {
        "cell": "b4104cbe-b0e2-4efc-80fe-e1e086591848",
        "part": "whole"
       },
       "id": "eceb13dc-dc53-4cf4-9059-b8844b832eba"
      }
     }
    },
    "fb51ceae-685b-4354-8348-9c1107410111": {
     "id": "fb51ceae-685b-4354-8348-9c1107410111",
     "prev": "81a67679-fcde-4ec4-828c-61b2ae3c88de",
     "regions": {
      "39162e12-cf9a-4cef-8b4a-df38c190c98e": {
       "attrs": {
        "height": 0.8,
        "width": 0.8,
        "x": 0.1,
        "y": 0.1
       },
       "content": {
        "cell": "321d614e-2caa-4c18-b46a-ddad07392be6",
        "part": "whole"
       },
       "id": "39162e12-cf9a-4cef-8b4a-df38c190c98e"
      }
     }
    },
    "ff192b88-0a98-46ee-b6d9-69aede0dba7a": {
     "id": "ff192b88-0a98-46ee-b6d9-69aede0dba7a",
     "prev": "9bb11a0e-38bc-4405-b6ce-3fc6dbe52f8c",
     "regions": {
      "1ca13e15-3e87-49ae-b208-ea939ea84c56": {
       "attrs": {
        "height": 0.8,
        "width": 0.8,
        "x": 0.1,
        "y": 0.1
       },
       "content": {
        "cell": "77798d21-ee7e-42f1-95f3-b3fdb7f13d50",
        "part": "whole"
       },
       "id": "1ca13e15-3e87-49ae-b208-ea939ea84c56"
      }
     }
    }
   },
   "themes": {}
  }
 },
 "nbformat": 4,
 "nbformat_minor": 2
}
