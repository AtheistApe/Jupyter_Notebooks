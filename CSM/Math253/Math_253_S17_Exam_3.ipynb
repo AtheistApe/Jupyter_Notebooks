{
 "cells": [
  {
   "cell_type": "code",
   "execution_count": 1,
   "metadata": {},
   "outputs": [
    {
     "name": "stdout",
     "output_type": "stream",
     "text": [
      "IPython console for SymPy 1.0 (Python 3.5.2-64-bit) (ground types: python)\n",
      "\n",
      "These commands were executed:\n",
      ">>> from __future__ import division\n",
      ">>> from sympy import *\n",
      ">>> x, y, z, t = symbols('x y z t')\n",
      ">>> k, m, n = symbols('k m n', integer=True)\n",
      ">>> f, g, h = symbols('f g h', cls=Function)\n",
      ">>> init_printing()\n",
      "\n",
      "Documentation can be found at http://docs.sympy.org/1.0/\n"
     ]
    }
   ],
   "source": [
    "from sympy import init_session\n",
    "init_session()"
   ]
  },
  {
   "cell_type": "code",
   "execution_count": 2,
   "metadata": {
    "collapsed": true
   },
   "outputs": [],
   "source": [
    "# Cylindrical Coordinates\n",
    "r, θ = symbols('r θ')\n",
    "\n",
    "# Spherical Coordinates\n",
    "ρ, θ, ϕ = symbols('ρ θ ϕ')"
   ]
  },
  {
   "cell_type": "markdown",
   "metadata": {},
   "source": [
    "Evaluate\n",
    "\n",
    "$$\\int_0^1\\int_0^{2y} \\sqrt{y^2 + 3}\\;dx\\,dy$$"
   ]
  },
  {
   "cell_type": "code",
   "execution_count": 3,
   "metadata": {},
   "outputs": [
    {
     "data": {
      "image/png": "[encoded data removed]",
      "text/latex": [
       "$$- 2 \\sqrt{3} + \\frac{16}{3}$$"
      ],
      "text/plain": [
       "-2⋅√3 + 16/3"
      ]
     },
     "execution_count": 3,
     "metadata": {},
     "output_type": "execute_result"
    }
   ],
   "source": [
    "integrate(sqrt(y**2 + 3), (x,0,2*y), (y,0,1))"
   ]
  },
  {
   "cell_type": "markdown",
   "metadata": {},
   "source": [
    "Evaluate\n",
    "$$ \\int\\!\\!\\!\\!\\int_D \\sin(x^2 + y^2)\\;dA = \\int_0^{\\pi/2}\\int_0^2 r\\sin(r^2)\\;dr\\,d\\theta$$"
   ]
  },
  {
   "cell_type": "code",
   "execution_count": 4,
   "metadata": {},
   "outputs": [
    {
     "data": {
      "image/png": "[encoded data removed]",
      "text/latex": [
       "$$\\frac{\\pi}{2} \\left(- \\frac{1}{2} \\cos{\\left (4 \\right )} + \\frac{1}{2}\\right)$$"
      ],
      "text/plain": [
       "  ⎛  cos(4)   1⎞\n",
       "π⋅⎜- ────── + ─⎟\n",
       "  ⎝    2      2⎠\n",
       "────────────────\n",
       "       2        "
      ]
     },
     "execution_count": 4,
     "metadata": {},
     "output_type": "execute_result"
    }
   ],
   "source": [
    "integrate(r*sin(r**2), (r,0,2), (θ,0,pi/2))"
   ]
  },
  {
   "cell_type": "markdown",
   "metadata": {},
   "source": [
    "Evaluate\n",
    "$$\\int_0^{2\\pi}\\int_0^{\\pi/2}\\int_1^2 3\\rho\\cos\\phi\\cdot\\rho^2\\sin\\phi\\;d\\rho\\,d\\phi\\,d\\theta$$"
   ]
  },
  {
   "cell_type": "code",
   "execution_count": 5,
   "metadata": {},
   "outputs": [
    {
     "data": {
      "image/png": "[encoded data removed]",
      "text/latex": [
       "$$\\frac{45 \\pi}{4}$$"
      ],
      "text/plain": [
       "45⋅π\n",
       "────\n",
       " 4  "
      ]
     },
     "execution_count": 5,
     "metadata": {},
     "output_type": "execute_result"
    }
   ],
   "source": [
    "integrate(3*ρ**3*cos(ϕ)*sin(ϕ), (ρ,1,2), (ϕ,0,pi/2), (θ,0,2*pi))"
   ]
  },
  {
   "cell_type": "markdown",
   "metadata": {},
   "source": [
    "Evaluate\n",
    "$$ \\int_0^{\\pi/2}\\int_0^5\\int_0^6 \\frac{1}{r}\\cdot r\\;dz\\,dr\\,d\\theta$$"
   ]
  },
  {
   "cell_type": "code",
   "execution_count": 6,
   "metadata": {},
   "outputs": [
    {
     "data": {
      "image/png": "[encoded data removed]",
      "text/latex": [
       "$$15 \\pi$$"
      ],
      "text/plain": [
       "15⋅π"
      ]
     },
     "execution_count": 6,
     "metadata": {},
     "output_type": "execute_result"
    }
   ],
   "source": [
    "integrate(1, (z,0,6), (r,0,5), (θ,0,pi/2))"
   ]
  },
  {
   "cell_type": "code",
   "execution_count": null,
   "metadata": {
    "collapsed": true
   },
   "outputs": [],
   "source": []
  }
 ],
 "metadata": {
  "hide_input": false,
  "kernelspec": {
   "display_name": "Python [default]",
   "language": "python",
   "name": "python3"
  },
  "language_info": {
   "codemirror_mode": {
    "name": "ipython",
    "version": 3
   },
   "file_extension": ".py",
   "mimetype": "text/x-python",
   "name": "python",
   "nbconvert_exporter": "python",
   "pygments_lexer": "ipython3",
   "version": "3.5.2"
  },
  "latex_envs": {
   "bibliofile": "biblio.bib",
   "cite_by": "apalike",
   "current_citInitial": 1,
   "eqLabelWithNumbers": true,
   "eqNumInitial": 0
  }
 },
 "nbformat": 4,
 "nbformat_minor": 2
}
