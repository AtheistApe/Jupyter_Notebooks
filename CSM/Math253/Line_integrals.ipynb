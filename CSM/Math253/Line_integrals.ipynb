{
 "cells": [
  {
   "cell_type": "code",
   "execution_count": 1,
   "metadata": {},
   "outputs": [],
   "source": [
    "import numpy as np"
   ]
  },
  {
   "cell_type": "code",
   "execution_count": null,
   "metadata": {},
   "outputs": [],
   "source": [
    "class Line_int:\n",
    "\n",
    "    def __init__(self, f, fx,fy,fz, a,b, n):\n",
    "        self.f = f\n",
    "        self.fx = fx\n",
    "        self.fy = fy\n",
    "        self.fz = fz\n",
    "        self.a = a\n",
    "        self.b = b\n",
    "        self.n = n\n",
    "                \n",
    "        t = np.linspace(self.a,self.b,self.n)\n",
    "\n",
    "        xt = self.fx(t)\n",
    "        yt = self.fy(t)\n",
    "        zt = self.fz(t)\n",
    "\n",
    "        self.sum_ds = self.sum_dx = self.sum_dy = self.sum_dz = 0\n",
    "        \n",
    "        for i in range(len(t)-1):\n",
    "            dx = xt[i+1]-xt[i]\n",
    "            dx_mid = (xt[i+1] + xt[i])/2\n",
    "\n",
    "            dy = yt[i+1]-yt[i]\n",
    "            dy_mid = (yt[i+1] + yt[i])/2\n",
    "\n",
    "            dz = zt[i+1]-zt[i]\n",
    "            dz_mid = (zt[i+1] + zt[i])/2\n",
    "\n",
    "            ds = np.sqrt(dx**2 + dy**2 + dz**2)\n",
    "            ds_mid = (dx_mid, dy_mid, dz_mid)\n",
    "\n",
    "            self.sum_ds += f(*ds_mid)*ds\n",
    "            self.sum_dx += f(*ds_mid)*dx\n",
    "            self.sum_dy += f(*ds_mid)*dy\n",
    "            self.sum_dz += f(*ds_mid)*dz\n",
    "\n",
    "    def __str__(self):\n",
    "        return f\"sum_ds = {self.sum_ds:.5f}\\nsum_dx = {self.sum_dx:.5f}\\nsum_dy = {self.sum_dy:.5f}\\nsum_dz = {self.sum_dz:.5f}\"\n",
    "        \n",
    "    def __add__(self, other):\n",
    "        return(self.sum_ds + other.sum_ds,\n",
    "              self.sum_dx + other.sum_dx,\n",
    "              self.sum_dy + other.sum_dy,\n",
    "              self.sum_dz + other.sum_dz)\n",
    "        \n",
    "    def line_int(self):\n",
    "        return (self.sum_ds, self.sum_dx, self.sum_dy, self.sum_dz)\n"
   ]
  },
  {
   "cell_type": "code",
   "execution_count": 139,
   "metadata": {},
   "outputs": [],
   "source": [
    "class Line_int2:\n",
    "\n",
    "    def __init__(self, funs, fx,fy,fz, a,b, n):\n",
    "        # funs = [P(x,y,z), Q(x,y,z), R(x,y,z)]\n",
    "        # int_C (P dx + Q dy + R dz)\n",
    "        self.funs = funs\n",
    "        self.fx = fx\n",
    "        self.fy = fy\n",
    "        self.fz = fz\n",
    "        self.a = a\n",
    "        self.b = b\n",
    "        self.n = n\n",
    "        \n",
    "        t = np.linspace(self.a,self.b,self.n)\n",
    "\n",
    "        for fun in self.funs:                \n",
    "\n",
    "            xt = self.fx(t)\n",
    "            yt = self.fy(t)\n",
    "            zt = self.fz(t)\n",
    "\n",
    "            self.sum_ds = self.sum_dx = self.sum_dy = self.sum_dz = 0\n",
    "        \n",
    "            for i in range(len(t)-1):\n",
    "                dx = xt[i+1]-xt[i]\n",
    "                dx_mid = (xt[i+1] + xt[i])/2\n",
    "\n",
    "                dy = yt[i+1]-yt[i]\n",
    "                dy_mid = (yt[i+1] + yt[i])/2\n",
    "\n",
    "                dz = zt[i+1]-zt[i]\n",
    "                dz_mid = (zt[i+1] + zt[i])/2\n",
    "\n",
    "                ds = np.sqrt(dx**2 + dy**2 + dz**2)\n",
    "                ds_mid = (dx_mid, dy_mid, dz_mid)\n",
    "\n",
    "                self.sum_ds += f(*ds_mid)*ds\n",
    "                self.sum_dx += f(*ds_mid)*dx\n",
    "                self.sum_dy += f(*ds_mid)*dy\n",
    "                self.sum_dz += f(*ds_mid)*dz\n",
    "\n",
    "    def __str__(self):\n",
    "        return f\"sum_ds = {self.sum_ds:.5f}\\nsum_dx = {self.sum_dx:.5f}\\nsum_dy = {self.sum_dy:.5f}\\nsum_dz = {self.sum_dz:.5f}\"\n",
    "        \n",
    "    def __add__(self, other):\n",
    "        return(self.sum_ds + other.sum_ds,\n",
    "              self.sum_dx + other.sum_dx,\n",
    "              self.sum_dy + other.sum_dy,\n",
    "              self.sum_dz + other.sum_dz)\n",
    "        \n",
    "    def line_int(self):\n",
    "        return (self.sum_ds, self.sum_dx, self.sum_dy, self.sum_dz)\n"
   ]
  },
  {
   "cell_type": "markdown",
   "metadata": {},
   "source": [
    "### Exploration 21, #1\n",
    "\\begin{equation}\n",
    "\\int_C y^3\\,ds\n",
    "\\end{equation}\n",
    "\n",
    "where $C$ is parameterized as $x = t^3$, $y = t$,  for $0\\leq t\\leq 2$."
   ]
  },
  {
   "cell_type": "code",
   "execution_count": 135,
   "metadata": {},
   "outputs": [
    {
     "name": "stdout",
     "output_type": "stream",
     "text": [
      "sum_ds = 32.31171\n",
      "sum_dx = 31.99633\n",
      "sum_dy = 3.99980\n",
      "sum_dz = 0.00000\n"
     ]
    }
   ],
   "source": [
    "# Math 253_S19 exploration 21, #1\n",
    "\n",
    "lint1 = Line_int(lambda x,y,z: y**3,\n",
    "         lambda t: t**3,\n",
    "         lambda t: t,\n",
    "         lambda t: 0*t,\n",
    "         0,2,100)\n",
    "\n",
    "print(lint1)"
   ]
  },
  {
   "cell_type": "markdown",
   "metadata": {},
   "source": [
    "### Exploration 21, #2\n",
    "\\begin{equation}\n",
    "\\int_C xy^4\\,ds\n",
    "\\end{equation}\n",
    "\n",
    "where $C$ is the *right* halv of the circle $x^2 + y^2 = 16$"
   ]
  },
  {
   "cell_type": "code",
   "execution_count": 136,
   "metadata": {},
   "outputs": [
    {
     "name": "stdout",
     "output_type": "stream",
     "text": [
      "sum_ds = 1637.64404\n",
      "sum_dx = 0.00000\n",
      "sum_dy = 803.70796\n",
      "sum_dz = 0.00000\n"
     ]
    }
   ],
   "source": [
    "# Math 253_S19 exploration 21, #2\n",
    "\n",
    "def f(x,y,z):\n",
    "    return x*y**4\n",
    "\n",
    "x = lambda t: 4*np.cos(t)\n",
    "y = lambda t: 4*np.sin(t)\n",
    "z = lambda t: 0*t\n",
    "\n",
    "lint2 = Line_int(f, x,y,z, -np.pi/2, np.pi/2, 100)\n",
    "print(lint2)"
   ]
  },
  {
   "cell_type": "markdown",
   "metadata": {},
   "source": [
    "### Exploration 21, #3\n",
    "\\begin{equation}\n",
    "\\int_C xyz\\,ds\n",
    "\\end{equation}\n",
    "\n",
    "where $C$ is parameterized as $x = 2\\sin t$, $y = t$, $z = -2\\cos t$,  for $0\\leq t\\leq\\pi$."
   ]
  },
  {
   "cell_type": "code",
   "execution_count": 137,
   "metadata": {},
   "outputs": [
    {
     "name": "stdout",
     "output_type": "stream",
     "text": [
      "sum_ds = 7.02399\n",
      "sum_dx = -8.37617\n",
      "sum_dy = 3.14133\n",
      "sum_dz = 3.55451\n"
     ]
    }
   ],
   "source": [
    "# Math 253_S19 exploration 21, #3\n",
    "\n",
    "def f(x,y,z):\n",
    "    return x*y*z\n",
    "\n",
    "x = lambda t: 2*np.sin(t)\n",
    "y = lambda t: t\n",
    "z = lambda t: -2*np.cos(t)\n",
    "\n",
    "lint3 = Line_int(f, x,y,z, 0, np.pi, 100)\n",
    "print(lint3)"
   ]
  },
  {
   "cell_type": "markdown",
   "metadata": {},
   "source": [
    "### Exploration 21, #4\n",
    "\\begin{equation}\n",
    "\\int_C xe^{yz}\\,ds\n",
    "\\end{equation}\n",
    "\n",
    "where $C$ is the line segment from the point $(0,0,0)$ to the point $(1,2,3)$."
   ]
  },
  {
   "cell_type": "code",
   "execution_count": 103,
   "metadata": {},
   "outputs": [
    {
     "name": "stdout",
     "output_type": "stream",
     "text": [
      "sum_ds = 125.39586\n",
      "sum_dx = 33.51345\n",
      "sum_dy = 67.02691\n",
      "sum_dz = 100.54036\n"
     ]
    }
   ],
   "source": [
    "# Math 253_S19 exploration 21, #4\n",
    "\n",
    "def f(x,y,z):\n",
    "    return x*np.exp(y*z)\n",
    "\n",
    "x = lambda t: t\n",
    "y = lambda t: 2*t\n",
    "z = lambda t: 3*t\n",
    "\n",
    "lint4 = Line_int(f, x,y,z, 0,1,100)\n",
    "print(lint4)"
   ]
  },
  {
   "cell_type": "markdown",
   "metadata": {},
   "source": [
    "### Exploration 22, #1\n",
    "\\begin{equation}\n",
    "\\int_C x^2 y^3 - \\sqrt{x}\\,dy\n",
    "\\end{equation}\n",
    "\n",
    "where $C$ is the section of the curve $y = \\sqrt{x}$ from $(1,1)$ to $(4,2)$."
   ]
  },
  {
   "cell_type": "code",
   "execution_count": 104,
   "metadata": {},
   "outputs": [
    {
     "name": "stdout",
     "output_type": "stream",
     "text": [
      "sum_ds = 113.08397\n",
      "sum_dx = 108.88366\n",
      "sum_dy = 30.37391\n",
      "sum_dz = 0.00000\n"
     ]
    }
   ],
   "source": [
    "# Math 253_S19 exploration 22, #1\n",
    "\n",
    "def f(x,y,z):\n",
    "    return x**2 * y**3 - np.sqrt(x)\n",
    "\n",
    "x = lambda t: t\n",
    "y = lambda t: np.sqrt(t)\n",
    "z = lambda t: 0*t\n",
    "\n",
    "lint1 = Line_int(f, x,y,z, 1,4,100)\n",
    "print(lint1)"
   ]
  },
  {
   "cell_type": "markdown",
   "metadata": {},
   "source": [
    "### Exploration 22, #2\n",
    "\\begin{equation}\n",
    "\\int_C x^2 y\\sqrt{z}\\,dz\n",
    "\\end{equation}\n",
    "\n",
    "where $C$ is parameterized as $x = t^3$, $y = t$, $z = t^2$,  for $0\\leq t\\leq 1$."
   ]
  },
  {
   "cell_type": "code",
   "execution_count": 111,
   "metadata": {},
   "outputs": [
    {
     "name": "stdout",
     "output_type": "stream",
     "text": [
      "sum_ds = 0.35672\n",
      "sum_dx = 0.27266\n",
      "sum_dy = 0.11110\n",
      "sum_dz = 0.19996\n"
     ]
    }
   ],
   "source": [
    "# Math 253_S19 exploration 22, #2\n",
    "\n",
    "def f(x,y,z):\n",
    "    return x**2 * y * np.sqrt(z)\n",
    "\n",
    "x = lambda t: t**3\n",
    "y = lambda t: t\n",
    "z = lambda t: t**2\n",
    "\n",
    "lint2 = Line_int(f, x,y,z, 0,1,100)\n",
    "print(lint2)"
   ]
  },
  {
   "cell_type": "markdown",
   "metadata": {},
   "source": [
    "### Exploration 22, #3\n",
    "\\begin{equation}\n",
    "\\int_C \\sin x\\,dx + \\cos y\\,dy = \\int_C \\sin x\\,dx + \\int_C \\cos y\\,dy\n",
    "\\end{equation}\n",
    "\n",
    "where $C$ is the top half of the circle $x^2 + y^2 = 1$,  from $(1,0)$ to $(-1,0)$."
   ]
  },
  {
   "cell_type": "code",
   "execution_count": 148,
   "metadata": {},
   "outputs": [
    {
     "name": "stdout",
     "output_type": "stream",
     "text": [
      "sum_ds = 0.00000\n",
      "sum_dx = -0.00000\n",
      "sum_dy = 1.38227\n",
      "sum_dz = 0.00000 \n",
      "\n",
      "sum_ds = 2.40401\n",
      "sum_dx = -1.37670\n",
      "sum_dy = -0.00000\n",
      "sum_dz = 0.00000 \n",
      "\n",
      "(2.4040125646619863, -1.3767004361230508, 1.3822731036970926, 0.0)\n"
     ]
    }
   ],
   "source": [
    "# Math 253_S19 exploration 22, #3\n",
    "\n",
    "def f1(x,y,z):\n",
    "    return np.sin(x)\n",
    "\n",
    "def f2(x,y,z):\n",
    "    return np.cos(y)\n",
    "\n",
    "x = lambda t: np.cos(t)\n",
    "y = lambda t: np.sin(t)\n",
    "z = lambda t: 0*t\n",
    "\n",
    "lint31 = Line_int(f1, x,y,z, 0,np.pi,100)\n",
    "lint32 = Line_int(f2, x,y,z, 0,np.pi,100)\n",
    "\n",
    "print(lint31,\"\\n\")\n",
    "print(lint32,\"\\n\")\n",
    "print(lint31+lint32)"
   ]
  },
  {
   "cell_type": "markdown",
   "metadata": {},
   "source": [
    "### Example\n",
    "\\begin{equation}\n",
    "    \\int_C \\sin\\left(\\pi y\\right)\\,dy + yx^2\\,dx\n",
    "\\end{equation}\n",
    "\n",
    "where $C$ is the line segment from $(0,2)$ to $(1,4)$."
   ]
  },
  {
   "cell_type": "code",
   "execution_count": 155,
   "metadata": {},
   "outputs": [
    {
     "name": "stdout",
     "output_type": "stream",
     "text": [
      "1.1666241539978917\n"
     ]
    }
   ],
   "source": [
    "def f1(x,y,z):\n",
    "    return y*x**2\n",
    "\n",
    "def f2(x,y,z):\n",
    "    return np.sin(np.pi * y)\n",
    "\n",
    "x = lambda t: t\n",
    "y = lambda t: 2 + 2*t\n",
    "z = lambda t: 0*t\n",
    "\n",
    "lint1 = Line_int(f1, x,y,z, 0,1, 100)\n",
    "lint2 = Line_int(f2, x,y,z, 0,1, 100)\n",
    "\n",
    "print(lint1.line_int()[1] + lint2.line_int()[2])"
   ]
  },
  {
   "cell_type": "code",
   "execution_count": null,
   "metadata": {},
   "outputs": [],
   "source": []
  }
 ],
 "metadata": {
  "@webio": {
   "lastCommId": null,
   "lastKernelId": null
  },
  "kernelspec": {
   "display_name": "Python 3",
   "language": "python",
   "name": "python3"
  },
  "language_info": {
   "codemirror_mode": {
    "name": "ipython",
    "version": 3
   },
   "file_extension": ".py",
   "mimetype": "text/x-python",
   "name": "python",
   "nbconvert_exporter": "python",
   "pygments_lexer": "ipython3",
   "version": "3.7.3"
  }
 },
 "nbformat": 4,
 "nbformat_minor": 2
}
