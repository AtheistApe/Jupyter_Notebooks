{
 "cells": [
  {
   "cell_type": "code",
   "execution_count": 11,
   "metadata": {},
   "outputs": [],
   "source": [
    "import numpy as np\n",
    "from math import *"
   ]
  },
  {
   "cell_type": "markdown",
   "metadata": {},
   "source": [
    "The binomial series is the MacLaurin series for $(1+x)^k$ and is given by:\n",
    "\n",
    "\\begin{equation*}\n",
    "(1+x)^k = 1 + \\sum_{n=1}^\\infty \\frac{k(k-1)\\cdots(k-n+1)}{n!} x^n\n",
    "\\end{equation*}"
   ]
  },
  {
   "cell_type": "markdown",
   "metadata": {},
   "source": [
    "### Example: \n",
    "\n",
    "The binomial series for $\\sqrt{1+x} = (1+x)^{1/2}$ is given by\n",
    "\n",
    "\\begin{align*}\n",
    "(1+x)^{1/2} &= 1 + \\sum_{n=1}^\\infty\\frac{(1/2)(-1/2)(-3/2)\\cdots(1/2-n+1)}{n!}x^n\\\\\n",
    "&= 1 + \\sum_{n=1}^\\infty\\frac{(1/2)(-1/2)(-3/2)\\cdots((3-2n)/2)}{n!}x^n\\\\\n",
    "&= 1 + \\sum_{n=1}^\\infty (-1)^{n-1}\\frac{1\\cdot 1\\cdot 3\\cdot 5\\cdots(3-2n)}{2^n n!}x^n\\\\\n",
    "&= 1 + \\frac{1}{2}x - \\frac{1}{8}x^2 + \\frac{3}{48}x^3 - \\cdots\n",
    "\\end{align*}"
   ]
  },
  {
   "cell_type": "code",
   "execution_count": 80,
   "metadata": {},
   "outputs": [],
   "source": [
    "def s(x,n):\n",
    "    def term(n):\n",
    "        numerator = (-1)**(n+1)*prod([2*k+1 for k in range(n-1)])\n",
    "        denominator = 2**(n)*factorial(n)\n",
    "        return numerator/denominator\n",
    "    \n",
    "    return 1 + sum([term(k+1)*x**(k+1) for k in range(n)])"
   ]
  },
  {
   "cell_type": "code",
   "execution_count": 81,
   "metadata": {},
   "outputs": [
    {
     "data": {
      "text/plain": [
       "1.412414115415877"
      ]
     },
     "execution_count": 81,
     "metadata": {},
     "output_type": "execute_result"
    }
   ],
   "source": [
    "s(1,400)"
   ]
  },
  {
   "cell_type": "code",
   "execution_count": 69,
   "metadata": {},
   "outputs": [],
   "source": [
    "def term(n):\n",
    "    numerator = (-1)**(n+1)*prod([2*k+1 for k in range(n-1)])\n",
    "    denominator = 2**(n)*factorial(n)\n",
    "    return numerator, denominator\n"
   ]
  },
  {
   "cell_type": "code",
   "execution_count": 85,
   "metadata": {},
   "outputs": [
    {
     "name": "stdout",
     "output_type": "stream",
     "text": [
      "0.41241411541587686\n"
     ]
    }
   ],
   "source": [
    "sum = 0\n",
    "for k in range(400):\n",
    "    n,d = term(k+1)\n",
    "    sum += n/d\n",
    "    \n",
    "print(sum)"
   ]
  },
  {
   "cell_type": "code",
   "execution_count": 82,
   "metadata": {},
   "outputs": [
    {
     "data": {
      "text/plain": [
       "1.4142135623730951"
      ]
     },
     "execution_count": 82,
     "metadata": {},
     "output_type": "execute_result"
    }
   ],
   "source": [
    "sqrt(2)"
   ]
  },
  {
   "cell_type": "code",
   "execution_count": null,
   "metadata": {},
   "outputs": [],
   "source": []
  }
 ],
 "metadata": {
  "@webio": {
   "lastCommId": "35f22c42402b4b7c946ade0a0ab39f0f",
   "lastKernelId": "aff3dd23-ddba-40cd-a7c6-3633f8ccb7df"
  },
  "kernelspec": {
   "display_name": "Python 3",
   "language": "python",
   "name": "python3"
  },
  "language_info": {
   "codemirror_mode": {
    "name": "ipython",
    "version": 3
   },
   "file_extension": ".py",
   "mimetype": "text/x-python",
   "name": "python",
   "nbconvert_exporter": "python",
   "pygments_lexer": "ipython3",
   "version": "3.7.0"
  }
 },
 "nbformat": 4,
 "nbformat_minor": 2
}
