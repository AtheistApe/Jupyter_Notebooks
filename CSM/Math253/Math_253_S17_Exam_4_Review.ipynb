{
 "cells": [
  {
   "cell_type": "markdown",
   "metadata": {},
   "source": [
    "### Latex macros\n",
    "\n",
    "$\\newcommand{\\vec}[1]{\\mathbf{#1}}$"
   ]
  },
  {
   "cell_type": "code",
   "execution_count": 7,
   "metadata": {
    "run_control": {
     "marked": false
    }
   },
   "outputs": [],
   "source": [
    "from sympy import *"
   ]
  },
  {
   "cell_type": "code",
   "execution_count": 2,
   "metadata": {
    "collapsed": true
   },
   "outputs": [],
   "source": [
    "from sympy.physics.vector import *\n",
    "N = ReferenceFrame('N')"
   ]
  },
  {
   "cell_type": "markdown",
   "metadata": {},
   "source": [
    "## Practice Problems\n",
    "\n",
    "1) Calculate the divergence and curl of the given vector fields $\\mathbf{F}$\n",
    "\n",
    "  a) $\\mathbf{F}(x,y,z) = \\langle yz, xz, xy\\rangle$<br>\n",
    "  \n",
    "  b) $\\mathbf{F}(x,y,z) = \\langle x^2, y^2, z^2\\rangle$"
   ]
  },
  {
   "cell_type": "code",
   "execution_count": 54,
   "metadata": {},
   "outputs": [
    {
     "name": "stdout",
     "output_type": "stream",
     "text": [
      "0\n",
      "0\n"
     ]
    }
   ],
   "source": [
    "# A.\n",
    "\n",
    "F1 = N[1]*N[2]*N.x + N[0]*N[2]*N.y + N[0]*N[1]*N.z\n",
    "\n",
    "divF1 = divergence(F1, N)\n",
    "curlF1 = curl(F1, N)\n",
    "\n",
    "print(divF1)\n",
    "print(curlF1)"
   ]
  },
  {
   "cell_type": "code",
   "execution_count": 55,
   "metadata": {},
   "outputs": [
    {
     "name": "stdout",
     "output_type": "stream",
     "text": [
      "2*N_x + 2*N_y + 2*N_z\n",
      "0\n"
     ]
    }
   ],
   "source": [
    "# B.\n",
    "\n",
    "F2 = N[0]**2*N.x + N[1]**2*N.y + N[2]**2*N.z\n",
    "\n",
    "divF2 = divergence(F2, N)\n",
    "curlF2 = curl(F2, N)\n",
    "\n",
    "print(divF2)\n",
    "print(curlF2)"
   ]
  },
  {
   "cell_type": "code",
   "execution_count": 65,
   "metadata": {
    "collapsed": true
   },
   "outputs": [],
   "source": [
    "def fds(x, y):\n",
    "    return sqrt(diff(x,t)**2 + diff(y,t)**2)"
   ]
  },
  {
   "cell_type": "markdown",
   "metadata": {},
   "source": [
    "2) Evaluate each line integral\n",
    "\n",
    "a) $\\int_C x^2 + y^2\\;ds$, where $C$ is parameterized by $x = 4t - 1$, $y = 3t + 1$ for $-1 \\leq t \\leq 1$.<br>\n",
    "\n",
    "b) $\\int_C x y\\;ds$, where $C$ is parameterized by $x = \\sin t$, $y = \\cos t$ for $0 \\leq t \\leq \\pi$.<br>\n",
    "\n",
    "c) $\\int_C y\\sqrt{x}\\;dx + x\\sqrt{x}\\;dy$, where $C$ is the part of the graph of $y^2 = x^3$ from $(1,1)$ to $(4,8)$.<br>\n",
    "\n",
    "d) $\\int_C \\mathbf{F}\\cdot d\\mathbf{s}$, where $\\mathbf{F} = \\langle z, x, -y\\rangle$ and $C$ is parameterized by $x = t$, $y = t^2$, $z = t^3$ for $0 \\leq t \\leq 1$.<br>\n",
    "\n",
    "e) $\\int_C \\mathbf{F}\\cdot d\\mathbf{s}$, where $\\mathbf{F} = \\langle yz^2, xz^2, 2xyz\\rangle$ and $C$ is the path from $(-1, 2, -2)$ to $(1, 5, 2)$ that consists of three segments parallel to the $z$-axis, the $x$-axis and the $y$-axis, in that order.<br>"
   ]
  },
  {
   "cell_type": "code",
   "execution_count": 66,
   "metadata": {},
   "outputs": [
    {
     "data": {
      "image/png": "[encoded data removed]",
      "text/latex": [
       "$$\\frac{310}{3}$$"
      ],
      "text/plain": [
       "310/3"
      ]
     },
     "execution_count": 66,
     "metadata": {},
     "output_type": "execute_result"
    }
   ],
   "source": [
    "# A.\n",
    "\n",
    "x = 4*t - 1\n",
    "y = 3*t + 1\n",
    "ds = fds(x, y)\n",
    "\n",
    "integrate((x**2 + y**2)*ds, (t,-1,1))"
   ]
  },
  {
   "cell_type": "code",
   "execution_count": 67,
   "metadata": {},
   "outputs": [
    {
     "data": {
      "image/png": "[encoded data removed]",
      "text/latex": [
       "$$0$$"
      ],
      "text/plain": [
       "0"
      ]
     },
     "execution_count": 67,
     "metadata": {},
     "output_type": "execute_result"
    }
   ],
   "source": [
    "# B.\n",
    "\n",
    "x = sin(t)\n",
    "y = cos(t)\n",
    "ds = fds(x, y)\n",
    "\n",
    "integrate(x*y*ds, (t,0,pi))"
   ]
  },
  {
   "cell_type": "code",
   "execution_count": 68,
   "metadata": {},
   "outputs": [
    {
     "data": {
      "image/png": "[encoded data removed]",
      "text/latex": [
       "$$52.5$$"
      ],
      "text/plain": [
       "52.5000000000000"
      ]
     },
     "execution_count": 68,
     "metadata": {},
     "output_type": "execute_result"
    }
   ],
   "source": [
    "# C.\n",
    "\n",
    "x = t\n",
    "y = t**(3/2)\n",
    "dx = diff(x, t)\n",
    "dy = diff(y, t)\n",
    "\n",
    "integrate(y*sqrt(x)*dx + x*sqrt(x)*dy, (t,1,4))"
   ]
  },
  {
   "cell_type": "code",
   "execution_count": 76,
   "metadata": {},
   "outputs": [
    {
     "data": {
      "image/png": "[encoded data removed]",
      "text/latex": [
       "$$\\frac{19}{60}$$"
      ],
      "text/plain": [
       "19\n",
       "──\n",
       "60"
      ]
     },
     "execution_count": 76,
     "metadata": {},
     "output_type": "execute_result"
    }
   ],
   "source": [
    "# D\n",
    "\n",
    "x = t\n",
    "y = t**2\n",
    "z = t**3\n",
    "\n",
    "F = z*N.x + x*N.y - y*N.z\n",
    "ds = diff(x,t)*N.x + diff(y,t)*N.y + diff(z,t)*N.z\n",
    "\n",
    "integrate(dot(F,ds), (t,0,1))"
   ]
  },
  {
   "cell_type": "code",
   "execution_count": 122,
   "metadata": {
    "collapsed": true
   },
   "outputs": [],
   "source": [
    "def vds(x,y,z):\n",
    "    return diff(x,t)*N.x + diff(y,t)*N.y + diff(z,t)*N.z\n",
    "\n",
    "def fdotds(F, x1,y1,z1, a,b):\n",
    "    I = integrate(dot(F.subs({x:x1,y:y1,z:z1}), \n",
    "                      vds(x.subs({x:x1}), y.subs({y:y1}), z.subs({z:z1}))),\n",
    "                      (t,a,b))\n",
    "    return I"
   ]
  },
  {
   "cell_type": "code",
   "execution_count": 124,
   "metadata": {},
   "outputs": [
    {
     "name": "stdout",
     "output_type": "stream",
     "text": [
      "I1: 0\n",
      "I2: 16\n",
      "I3: 12\n",
      "\n",
      "\n",
      "I = 28\n"
     ]
    }
   ],
   "source": [
    "# E Curve C is path from (-1,2,-2) to (1,5,2) along C1, C2 and C3\n",
    "x, y, z, t = symbols('x y z t')\n",
    "\n",
    "# Path C1 : parallel to z-axis\n",
    "x1 = -1\n",
    "y1 = 2\n",
    "z1 = t # for -2 <= t <= 2\n",
    "\n",
    "# Path C2: parallel to x-axis\n",
    "x2 = t  # for -1 <= t <= 1\n",
    "y2 = 2\n",
    "z2 = 2\n",
    "\n",
    "# Path C3: parallel to y-axis\n",
    "x3 = 1\n",
    "y3 = t  # for 2 <= t <= 5\n",
    "z3 = 2\n",
    "\n",
    "F = (y*z**2)*N.x + (x*z**2)*N.y + (2*x*y*z)*N.z\n",
    "\n",
    "I1 = fdotds(F, x1,y1,z1, -2,2) # along path C1\n",
    "I2 = fdotds(F, x2,y2,z2, -1,1) # along path C2\n",
    "I3 = fdotds(F, x3,y3,z3, 2,5)  # along path C3\n",
    "\n",
    "print(\"I1: {}\\nI2: {}\\nI3: {}\".format(I1,I2,I3))\n",
    "print(\"\\n\")\n",
    "print(\"I = {}\".format(I1+I2+I3))"
   ]
  },
  {
   "cell_type": "markdown",
   "metadata": {},
   "source": [
    "3) Determine if the given vector field is conservative. For those that are conservative, find a potential function for that field\n",
    "\n",
    "a) $\\mathbf{F}(x,y) = (3x^2 + 2y^2)\\mathbf{i} + (4xy + 6y^2)\\mathbf{j}$<br>\n",
    "\n",
    "b) $\\mathbf{F}(x,y) = \\langle x\\cos y + \\sin y, y\\cos x + \\sin x\\rangle$<br>\n",
    "\n",
    "c) $\\mathbf{F}(x,y) = (\\cos x + \\ln y)\\mathbf{i} + (\\frac{x}{y} + e^y)\\mathbf{j}$\n"
   ]
  },
  {
   "cell_type": "code",
   "execution_count": 136,
   "metadata": {
    "collapsed": true
   },
   "outputs": [],
   "source": [
    "x, y, z, t = symbols('x y z t')"
   ]
  },
  {
   "cell_type": "code",
   "execution_count": 139,
   "metadata": {},
   "outputs": [
    {
     "name": "stdout",
     "output_type": "stream",
     "text": [
      "curl(F) = 0\n"
     ]
    }
   ],
   "source": [
    "# A.\n",
    "\n",
    "F = (3*N[0]**2 + 2*N[1]**2)*N.x + (4*N[0]*N[1] + 6*N[1]**2)*N.y\n",
    "\n",
    "curlF = curl(F, N)\n",
    "\n",
    "print(\"curl(F) = {}\".format(curlF))"
   ]
  },
  {
   "cell_type": "code",
   "execution_count": 140,
   "metadata": {},
   "outputs": [
    {
     "name": "stdout",
     "output_type": "stream",
     "text": [
      "curl(F) = (N_x*sin(N_y) - N_y*sin(N_x) + cos(N_x) - cos(N_y))*N.z\n"
     ]
    }
   ],
   "source": [
    "# B.\n",
    "\n",
    "F = (N[0]*cos(N[1]) + sin(N[1]))*N.x + (N[1]*cos(N[0]) + sin(N[0]))*N.y\n",
    "\n",
    "curlF = curl(F, N)\n",
    "\n",
    "print(\"curl(F) = {}\".format(curlF))"
   ]
  },
  {
   "cell_type": "code",
   "execution_count": 144,
   "metadata": {},
   "outputs": [
    {
     "name": "stdout",
     "output_type": "stream",
     "text": [
      "curl(F) = 0\n"
     ]
    }
   ],
   "source": [
    "# C.\n",
    "\n",
    "F = (cos(N[0]) + ln(N[1]))*N.x + (N[0]/N[1] + exp(N[1]))*N.y\n",
    "\n",
    "curlF = curl(F, N)\n",
    "\n",
    "print(\"curl(F) = {}\".format(curlF))"
   ]
  },
  {
   "cell_type": "markdown",
   "metadata": {},
   "source": [
    "4) Evaluate each line integral. If possible, use the Fundamental Theorem for Line Integrals.\n",
    "\n",
    "a) $\\int_C \\vec{F}\\cdot d\\vec{s}$, where $\\vec{F}(x,y) = (3x^2 + 2y^2)\\vec{i} + (4xy + 6y^2)\\vec{j}$ and $C$ is the part of the parabola $y = \\frac{1}{2}\\,x^2$ joining the points $(-2,2)$ to $(4,8)$.<br>\n",
    "\n",
    "b) $\\int_C \\vec{F}\\cdot d\\vec{s}$, where $\\vec{F}(x,y) = (x\\cos y + \\sin y)\\vec{i} + (y\\cos x + \\sin x)\\vec{j}$ and $C$ is the line segment joining the points $(\\pi, 0)$ to $(\\pi, \\pi)$.<br>\n",
    "\n",
    "c) $\\int_C \\vec{F}\\cdot d\\vec{s}$, where $\\vec{F}(x,y) = (\\cos x + \\ln y)\\vec{i} + (\\frac{x}{y} + e^y)\\vec{j}$ and $C$ is the ellipse parameterized by $x = 2\\cos t$, $y = 5\\sin t$ for $0 \\leq t \\leq 2\\pi$.<br>\n",
    "\n",
    "d) $\\int_C \\vec{F}\\cdot d\\vec{s}$, where $\\vec{F}(x,y,z) = \\langle yz, xz, xy\\rangle$ and $C$ is the curve parameterized by $x = 2\\cos t$, $y = 3\\sin t$, $z = \\cos t$ for $-\\frac{\\pi}{2} \\leq t \\leq \\pi$."
   ]
  },
  {
   "cell_type": "code",
   "execution_count": 160,
   "metadata": {},
   "outputs": [
    {
     "name": "stdout",
     "output_type": "stream",
     "text": [
      "grad(F) = (3*N_x**2 + 2*N_y**2)*N.x + (4*N_x*N_y + 6*N_y**2)*N.y\n",
      "I = 1608\n"
     ]
    }
   ],
   "source": [
    "# A.\n",
    "\n",
    "# From part 3a we see that the field is conservative. Therefore, we can use the Fundamental Theorem for Line Integrals to evaluate the integral.\n",
    "\n",
    "# Potential function f(x,y)\n",
    "def f(x,y):\n",
    "    return x**3 + 2*x*y**2 + 2*y**3\n",
    "\n",
    "# Check that grad(f) = F\n",
    "gradF = gradient(f(x,y).subs({x:N[0], y:N[1], z:N[2]}), N)\n",
    "\n",
    "print(\"grad(F) = {}\".format(gradF))\n",
    "\n",
    "I = f(4,8) - f(-2,2)\n",
    "\n",
    "print(\"I = {}\".format(I))\n"
   ]
  },
  {
   "cell_type": "code",
   "execution_count": 164,
   "metadata": {},
   "outputs": [
    {
     "name": "stdout",
     "output_type": "stream",
     "text": [
      "I = -pi**2/2\n"
     ]
    }
   ],
   "source": [
    "# B.\n",
    "\n",
    "# From part 3b we see that the field is NOT conservative; We must evaluate the line integral directly.\n",
    "\n",
    "x, y, z = symbols('x y z')\n",
    "\n",
    "F = (x*cos(y) + sin(y))*N.x + (y*cos(x) + sin(x))*N.y\n",
    "\n",
    "x1 = pi\n",
    "y1 = t  # for 0 <= t <= pi\n",
    "z1 = 0\n",
    "\n",
    "I = fdotds(F, x1,y1,z1, 0,pi)\n",
    "\n",
    "print(\"I = {}\".format(I))\n"
   ]
  },
  {
   "cell_type": "code",
   "execution_count": 165,
   "metadata": {
    "collapsed": true
   },
   "outputs": [],
   "source": [
    "# C.\n",
    "\n",
    "# From part 3c we see that the field is conservative. Also, the curve C is a simple closed curve. Therefore, the integral is 0."
   ]
  },
  {
   "cell_type": "code",
   "execution_count": 183,
   "metadata": {},
   "outputs": [
    {
     "name": "stdout",
     "output_type": "stream",
     "text": [
      "curl(F) = 0\n",
      "P1: (0, -3, 0)\n",
      "P2: (-2, 0, -1)\n",
      "I = 0 - 0 = 0\n"
     ]
    }
   ],
   "source": [
    "# D.\n",
    "\n",
    "F = (y*z)*N.x + (x*z)*N.y + (x*y)*N.z\n",
    "\n",
    "x1 = 2*cos(t)\n",
    "y1 = 3*sin(t)  # for -pi/2 <= t <= pi\n",
    "z1 = cos(t)\n",
    "\n",
    "# Check to see if the field F is conservative by evaluating curl(F)\n",
    "curlF = curl(F.subs({x:N[0], y:N[1], z:N[2]}), N)\n",
    "\n",
    "print(\"curl(F) = {}\".format(curlF))  # curl(F) = 0; The field is conservative\n",
    "\n",
    "# Determine the potential function f by inspection\n",
    "def f(x,y,z):\n",
    "    return x*y*z\n",
    "\n",
    "P2 = tuple(map(lambda x: x.subs({t:pi}), (x1, y1, z1)))\n",
    "P1 = tuple(map(lambda x: x.subs({t:-pi/2}), (x1, y1, z1)))\n",
    "\n",
    "print(\"P1: {}\\nP2: {}\".format(P1, P2))\n",
    "\n",
    "I = f(*P2) - f(*P1)\n",
    "\n",
    "print(\"I = {} - {} = {}\".format(f(*P2), f(*P1), I))"
   ]
  },
  {
   "cell_type": "markdown",
   "metadata": {},
   "source": [
    "5) Use Green's Theorem to evaluate each line integral over the positively oriented, simple closed curve $C$\n",
    "\n",
    "a) $\\oint_C \\vec{F}\\cdot d\\vec{s}$, where $\\vec{F}(x,y) = (y^2 - x^2)\\vec{i} + 3xy\\vec{j}$ and $C$ is the circle of radius 2 centered at the origin<br>\n",
    "\n",
    "b) $\\oint_C \\vec{F}\\cdot d\\vec{s}$, where $\\vec{F}(x,y) = (x + y^2)\\vec{i} + (y + x^2)\\vec{j}$ and $C$ is the square with vertices $(\\pm 1, \\pm 1)$<br>\n",
    "\n",
    "c) $\\oint_C (x^2 + y^2)\\,dx - 2xy\\,dy$, where $C$ is the triangle bounded by the lines $x = 0$, $y = 0$ and $x + y = 1$."
   ]
  },
  {
   "cell_type": "code",
   "execution_count": 204,
   "metadata": {},
   "outputs": [
    {
     "data": {
      "image/png": "[encoded data removed]",
      "text/latex": [
       "$$0$$"
      ],
      "text/plain": [
       "0"
      ]
     },
     "execution_count": 204,
     "metadata": {},
     "output_type": "execute_result"
    }
   ],
   "source": [
    "# A.\n",
    "\n",
    "x, y, z, t, r, θ = symbols('x y z t r θ')\n",
    "\n",
    "F = (y**2 - x**2)*N.x + 3*x*y*N.y\n",
    "\n",
    "curlF = curl(F.subs({x:N[0], y:N[1], z:N[2]}), N)\n",
    "\n",
    "integrand = dot(curlF, N.z).subs({N[0]:x, N[1]:y, N[2]:z})\n",
    "\n",
    "integrate(integrand.subs({x:r*cos(θ), y:r*sin(θ)})*r, (θ,0,2*pi), (r,0,2))"
   ]
  },
  {
   "cell_type": "code",
   "execution_count": 206,
   "metadata": {},
   "outputs": [
    {
     "data": {
      "image/png": "[encoded data removed]",
      "text/latex": [
       "$$0$$"
      ],
      "text/plain": [
       "0"
      ]
     },
     "execution_count": 206,
     "metadata": {},
     "output_type": "execute_result"
    }
   ],
   "source": [
    "# B\n",
    "\n",
    "F = (x + y**2)*N.x + (y + x**2)*N.y\n",
    "\n",
    "curlF = curl(F.subs({x:N[0], y:N[1], z:N[2]}), N)\n",
    "integrand = dot(curlF, N.z).subs({N[0]:x, N[1]:y, N[2]:z})\n",
    "\n",
    "integrate(integrand, (x,-1,1), (y,-1,1))"
   ]
  },
  {
   "cell_type": "code",
   "execution_count": 210,
   "metadata": {},
   "outputs": [
    {
     "data": {
      "image/png": "[encoded data removed]",
      "text/latex": [
       "$$- \\frac{2}{3}$$"
      ],
      "text/plain": [
       "-2/3"
      ]
     },
     "execution_count": 210,
     "metadata": {},
     "output_type": "execute_result"
    }
   ],
   "source": [
    "# C\n",
    "\n",
    "P = x**2 + y**2\n",
    "Q = -2*x*y\n",
    "\n",
    "integrate(diff(Q,x) - diff(P,y), (y,0,1-x), (x,0,1))"
   ]
  },
  {
   "cell_type": "markdown",
   "metadata": {},
   "source": [
    "6) Use Green's Theorem to find the area of the region bounded by the astroid (see graph below) with parametric equations $x = \\cos^3(t)$, $y = \\sin^3(t)$ for $0 \\leq t \\leq 2\\pi$.\n",
    "\n"
   ]
  },
  {
   "cell_type": "code",
   "execution_count": 3,
   "metadata": {},
   "outputs": [
    {
     "data": {
      "image/png": "[encoded data removed]",
      "text/latex": [
       "$$0.375 \\pi$$"
      ],
      "text/plain": [
       "0.375⋅π"
      ]
     },
     "execution_count": 3,
     "metadata": {},
     "output_type": "execute_result"
    }
   ],
   "source": [
    "xt = cos(t)**3\n",
    "yt = sin(t)**3\n",
    "\n",
    "dxt = diff(xt, t)\n",
    "dyt = diff(yt, t)\n",
    "\n",
    "(1/2)*integrate(xt*dyt - yt*dxt, (t,0,2*pi))"
   ]
  },
  {
   "cell_type": "code",
   "execution_count": 10,
   "metadata": {},
   "outputs": [],
   "source": [
    "x,y,z,t,r,θ = symbols(\"x y z t r θ\")"
   ]
  },
  {
   "cell_type": "code",
   "execution_count": 13,
   "metadata": {},
   "outputs": [
    {
     "data": {
      "text/plain": [
       "1.29876866274019"
      ]
     },
     "execution_count": 13,
     "metadata": {},
     "output_type": "execute_result"
    }
   ],
   "source": [
    "integrate(r*sin(r**2), (r,0,2), (θ,0,pi/2)).n()"
   ]
  },
  {
   "cell_type": "code",
   "execution_count": 16,
   "metadata": {},
   "outputs": [
    {
     "data": {
      "text/plain": [
       "1.29876866274019"
      ]
     },
     "execution_count": 16,
     "metadata": {},
     "output_type": "execute_result"
    }
   ],
   "source": [
    "(-pi/4*(cos(4)-1)).n()"
   ]
  },
  {
   "cell_type": "code",
   "execution_count": 19,
   "metadata": {},
   "outputs": [
    {
     "data": {
      "text/plain": [
       "35.3429173528852"
      ]
     },
     "execution_count": 19,
     "metadata": {},
     "output_type": "execute_result"
    }
   ],
   "source": [
    "(45*pi/4).n()"
   ]
  },
  {
   "cell_type": "code",
   "execution_count": 20,
   "metadata": {
    "run_control": {
     "marked": false
    }
   },
   "outputs": [
    {
     "data": {
      "text/plain": [
       "47.1238898038469"
      ]
     },
     "execution_count": 20,
     "metadata": {},
     "output_type": "execute_result"
    }
   ],
   "source": [
    "(15*pi).n()"
   ]
  },
  {
   "cell_type": "code",
   "execution_count": 21,
   "metadata": {},
   "outputs": [
    {
     "data": {
      "text/plain": [
       "1.86923171819558"
      ]
     },
     "execution_count": 21,
     "metadata": {},
     "output_type": "execute_result"
    }
   ],
   "source": [
    "(16/3 - 2*sqrt(3)).n()"
   ]
  },
  {
   "cell_type": "code",
   "execution_count": 25,
   "metadata": {},
   "outputs": [
    {
     "data": {
      "text/plain": [
       "-12/(3*x + 1)**3"
      ]
     },
     "execution_count": 25,
     "metadata": {},
     "output_type": "execute_result"
    }
   ],
   "source": [
    "simplify(diff(2*x / (1+3*x), x,x))"
   ]
  },
  {
   "cell_type": "code",
   "execution_count": 27,
   "metadata": {},
   "outputs": [
    {
     "data": {
      "text/plain": [
       "1411.2"
      ]
     },
     "execution_count": 27,
     "metadata": {},
     "output_type": "execute_result"
    }
   ],
   "source": [
    "8*9.8*18"
   ]
  },
  {
   "cell_type": "code",
   "execution_count": 28,
   "metadata": {},
   "outputs": [],
   "source": [
    "a = symbols(\"a\")"
   ]
  },
  {
   "cell_type": "code",
   "execution_count": 29,
   "metadata": {},
   "outputs": [
    {
     "data": {
      "text/plain": [
       "2*pi*(3*a**4/2 + 4*a**2)"
      ]
     },
     "execution_count": 29,
     "metadata": {},
     "output_type": "execute_result"
    }
   ],
   "source": [
    "integrate(3*r**3 + 3*r*z**2, (z,0,2), (r,0,a), (θ,0,2*pi))"
   ]
  },
  {
   "cell_type": "code",
   "execution_count": 32,
   "metadata": {},
   "outputs": [
    {
     "data": {
      "text/plain": [
       "3*pi/2"
      ]
     },
     "execution_count": 32,
     "metadata": {},
     "output_type": "execute_result"
    }
   ],
   "source": [
    "integrate(cos(θ)**4 + sin(θ)**4, (θ,0,2*pi))"
   ]
  },
  {
   "cell_type": "code",
   "execution_count": null,
   "metadata": {},
   "outputs": [],
   "source": []
  }
 ],
 "metadata": {
  "hide_input": false,
  "kernelspec": {
   "display_name": "Python [default]",
   "language": "python",
   "name": "python3"
  },
  "language_info": {
   "codemirror_mode": {
    "name": "ipython",
    "version": 3
   },
   "file_extension": ".py",
   "mimetype": "text/x-python",
   "name": "python",
   "nbconvert_exporter": "python",
   "pygments_lexer": "ipython3",
   "version": "3.5.4"
  },
  "latex_envs": {
   "bibliofile": "biblio.bib",
   "cite_by": "apalike",
   "current_citInitial": 1,
   "eqLabelWithNumbers": true,
   "eqNumInitial": 0
  }
 },
 "nbformat": 4,
 "nbformat_minor": 2
}
