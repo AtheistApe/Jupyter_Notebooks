{
 "cells": [
  {
   "cell_type": "code",
   "execution_count": 1,
   "metadata": {},
   "outputs": [],
   "source": [
    "from sympy import *"
   ]
  },
  {
   "cell_type": "code",
   "execution_count": 5,
   "metadata": {},
   "outputs": [],
   "source": [
    "x,y,z,r,t = symbols('x y z r t')"
   ]
  },
  {
   "cell_type": "markdown",
   "metadata": {},
   "source": [
    "## Triple Integrals"
   ]
  },
  {
   "cell_type": "markdown",
   "metadata": {
    "heading_collapsed": true
   },
   "source": [
    "### Six Ways to Evaluate a Triple Integral\n",
    "\n",
    "Here we evaluate $\\iiint_E dV$, where $E$ is the region of $\\mathbb{R}^3$ shown below"
   ]
  },
  {
   "cell_type": "markdown",
   "metadata": {
    "hidden": true
   },
   "source": [
    "Evaluate the integral $$\\iiint_E dV = \\int_{y=0}^2\\int_{x=0}^{4-y^2}\\int_{z=0}^{2-y} 1\\,dz\\,dx\\,dy$$"
   ]
  },
  {
   "cell_type": "code",
   "execution_count": 11,
   "metadata": {
    "hidden": true
   },
   "outputs": [
    {
     "data": {
      "text/plain": [
       "20/3"
      ]
     },
     "execution_count": 11,
     "metadata": {},
     "output_type": "execute_result"
    }
   ],
   "source": [
    "integrate(1, (z,0,2-y), (x,0,4-y**2), (y,0,2))"
   ]
  },
  {
   "cell_type": "markdown",
   "metadata": {
    "hidden": true
   },
   "source": [
    "Evaluate the integral $$\\iiint_E dV = \\int_{x=0}^4\\int_{y=0}^{\\sqrt{4-x}}\\int_{z=0}^{2-y} 1\\,dz\\,dy\\,dx$$"
   ]
  },
  {
   "cell_type": "code",
   "execution_count": 12,
   "metadata": {
    "hidden": true
   },
   "outputs": [
    {
     "data": {
      "text/plain": [
       "20/3"
      ]
     },
     "execution_count": 12,
     "metadata": {},
     "output_type": "execute_result"
    }
   ],
   "source": [
    "integrate(1, (z,0,2-y), (y,0,sqrt(4-x)), (x,0,4))"
   ]
  },
  {
   "cell_type": "markdown",
   "metadata": {
    "hidden": true
   },
   "source": [
    "Evaluate the integral $$\\iiint_E dV = \\int_{y=0}^2\\int_{z=0}^{2-y}\\int_{x=0}^{4-y^2} 1\\,dx\\,dz\\,dy$$"
   ]
  },
  {
   "cell_type": "code",
   "execution_count": 13,
   "metadata": {
    "hidden": true
   },
   "outputs": [
    {
     "data": {
      "text/plain": [
       "20/3"
      ]
     },
     "execution_count": 13,
     "metadata": {},
     "output_type": "execute_result"
    }
   ],
   "source": [
    "integrate(1, (x,0,4-y**2), (z,0,2-y), (y,0,2))"
   ]
  },
  {
   "cell_type": "markdown",
   "metadata": {
    "hidden": true
   },
   "source": [
    "Evaluate the integral $$\\iiint_E dV = \\int_{z=0}^2\\int_{y=0}^{2-z}\\int_{x=0}^{4-y^2} 1\\,dx\\,dy\\,dz$$"
   ]
  },
  {
   "cell_type": "code",
   "execution_count": 14,
   "metadata": {
    "hidden": true
   },
   "outputs": [
    {
     "data": {
      "text/plain": [
       "20/3"
      ]
     },
     "execution_count": 14,
     "metadata": {},
     "output_type": "execute_result"
    }
   ],
   "source": [
    "integrate(1, (x,0,4-y**2), (y,0,2-z), (z,0,2))"
   ]
  },
  {
   "cell_type": "markdown",
   "metadata": {
    "hidden": true
   },
   "source": [
    "Evaluate the integrals $$\\iiint_E dV = \\int_{x=0}^4\\int_{z=0}^{2-\\sqrt{4-x}}\\int_{y=0}^{\\sqrt{4-x}} 1\\,dy\\,dz\\,dx + \\int_{x=0}^4\\int_{z=2-\\sqrt{4-x}}^{2}\\int_{y=0}^{2-z} 1\\,dy\\,dz\\,dx$$"
   ]
  },
  {
   "cell_type": "code",
   "execution_count": 17,
   "metadata": {
    "hidden": true
   },
   "outputs": [
    {
     "name": "stdout",
     "output_type": "stream",
     "text": [
      "i1 = 8/3\n",
      "i2 = 4\n",
      "i1 + i2 = 20/3\n"
     ]
    }
   ],
   "source": [
    "i1 = integrate(1, (y,0,sqrt(4-x)), (z,0,2-sqrt(4-x)), (x,0,4))\n",
    "i2 = integrate(1, (y,0,2-z), (z,2-sqrt(4-x), 2), (x,0,4))\n",
    "\n",
    "print(\"i1 = {}\\ni2 = {}\\ni1 + i2 = {}\".format(i1,i2,i1+i2))"
   ]
  },
  {
   "cell_type": "markdown",
   "metadata": {
    "hidden": true
   },
   "source": [
    "Evaluate the integrals $$\\iiint_E dV = \\int_{z=0}^2\\int_{x=0}^{4z-z^2}\\int_{y=0}^{2-z} 1\\,dy\\,dz\\,dx + \\int_{z=0}^2\\int_{x=4z-z^2}^{4}\\int_{y=0}^{\\sqrt{4-x}} 1\\,dy\\,dz\\,dx$$"
   ]
  },
  {
   "cell_type": "code",
   "execution_count": 22,
   "metadata": {
    "hidden": true
   },
   "outputs": [
    {
     "name": "stdout",
     "output_type": "stream",
     "text": [
      "i1 = 4\n",
      "i2 = 2.66666666666667\n",
      "i1 + i2 = 6.66666666666667\n"
     ]
    }
   ],
   "source": [
    "i1 = integrate(1, (y,0,2-z), (x,0,4*z-z**2), (z,0,2))\n",
    "i2 = integrate(1, (y,0,sqrt(4-x)), (x,4*z-z**2,4), (z,0,2)).n()\n",
    "\n",
    "print(\"i1 = {}\\ni2 = {}\\ni1 + i2 = {}\".format(i1,i2,i1+i2))"
   ]
  },
  {
   "cell_type": "markdown",
   "metadata": {
    "heading_collapsed": true
   },
   "source": [
    "### Example\n",
    "\n",
    "Evaluate the integral $$\\iiint_E dV = \\int_{z=0}^2\\int_{y=0}^{2-z}\\int_{x=0}^{4-y^2} 1\\,dx\\,dy\\,dz = \\frac{20}{3}$$"
   ]
  },
  {
   "cell_type": "markdown",
   "metadata": {
    "hidden": true
   },
   "source": [
    "In the above integral make the substitutions:\n",
    "* $z \\rightarrow 2z$\n",
    "* $dz \\rightarrow 2\\,dz$"
   ]
  },
  {
   "cell_type": "markdown",
   "metadata": {
    "hidden": true
   },
   "source": [
    "Evaluate the integral $$\\iiint_E dV = \\int_{z=0}^1\\int_{y=0}^{2-2z}\\int_{x=0}^{4-y^2} 2\\,dx\\,dy\\,dz$$"
   ]
  },
  {
   "cell_type": "code",
   "execution_count": 25,
   "metadata": {
    "hidden": true
   },
   "outputs": [
    {
     "data": {
      "text/plain": [
       "20/3"
      ]
     },
     "execution_count": 25,
     "metadata": {},
     "output_type": "execute_result"
    }
   ],
   "source": [
    "integrate(2, (x,0,4-y**2), (y,0,2-2*z), (z,0,1))"
   ]
  },
  {
   "cell_type": "markdown",
   "metadata": {
    "hidden": true
   },
   "source": [
    "In the above integral make the substitutions:\n",
    "\n",
    "* $y \\rightarrow (2-2z)y$\n",
    "* $dy \\rightarrow (2-2z)\\,dy$"
   ]
  },
  {
   "cell_type": "markdown",
   "metadata": {
    "hidden": true
   },
   "source": [
    "Evaluate the integral $$\\iiint_E dV = \\int_{z=0}^1\\int_{y=0}^{1}\\int_{x=0}^{4-(2y-2yz)^2} 2(2-2z)\\,dx\\,dy\\,dz$$"
   ]
  },
  {
   "cell_type": "code",
   "execution_count": 26,
   "metadata": {
    "hidden": true
   },
   "outputs": [
    {
     "data": {
      "text/plain": [
       "20/3"
      ]
     },
     "execution_count": 26,
     "metadata": {},
     "output_type": "execute_result"
    }
   ],
   "source": [
    "integrate(4-4*z, (x,0,4-(2*y-2*y*z)**2), (y,0,1), (z,0,1))"
   ]
  },
  {
   "cell_type": "markdown",
   "metadata": {
    "hidden": true
   },
   "source": [
    "In the above integral make the substitutions:\n",
    "\n",
    "* $x \\rightarrow (4-(2y-2yz)^2)x$\n",
    "* $dx \\rightarrow (4-(2y-2yz)^2)\\,dx$"
   ]
  },
  {
   "cell_type": "markdown",
   "metadata": {
    "hidden": true
   },
   "source": [
    "Evaluate the integral $$\\iiint_E dV = \\int_{z=0}^1\\int_{y=0}^{1}\\int_{x=0}^{1} 2(2-2z)(4-(2y-2yz)^2)\\,dx\\,dy\\,dz$$"
   ]
  },
  {
   "cell_type": "code",
   "execution_count": 27,
   "metadata": {
    "hidden": true
   },
   "outputs": [
    {
     "data": {
      "text/plain": [
       "20/3"
      ]
     },
     "execution_count": 27,
     "metadata": {},
     "output_type": "execute_result"
    }
   ],
   "source": [
    "integrate((4 - 4*z)*(4 - (2*y - 2*y*z)**2), (x,0,1), (y,0,1), (z,0,1))"
   ]
  },
  {
   "cell_type": "markdown",
   "metadata": {
    "heading_collapsed": true
   },
   "source": [
    "### Example\n",
    "\n",
    "Evaluate the integral $$\\int_0^1\\int_0^1\\int_0^1 2\\pi^3 y z^2\\cos(\\pi yz(2x - 1))\\sin(\\pi yz)e^{\\pi z}\\,dx\\,dy\\,dz$$"
   ]
  },
  {
   "cell_type": "code",
   "execution_count": 33,
   "metadata": {
    "hidden": true
   },
   "outputs": [
    {
     "data": {
      "text/plain": [
       "54.9860758678954"
      ]
     },
     "execution_count": 33,
     "metadata": {},
     "output_type": "execute_result"
    }
   ],
   "source": [
    "integrate(2*pi**3 *y*z**2 * cos(pi*y*z*(2*x-1)) * sin(pi*y*z) * exp(pi*z), (x,0,1), (y,0,1), (z,0,1)).n()"
   ]
  },
  {
   "cell_type": "markdown",
   "metadata": {
    "heading_collapsed": true
   },
   "source": [
    "### Example\n",
    "\n",
    "Evaluate $\\iint_E 15z\\,dV$ where $E$ is the region between $2x + y + z = 4$ and $4x + 4y + 2z = 20$ that is in front of the region in the $yz$-plane bounded by $z = 2y^2$ and $z = \\sqrt{4y}$.\n",
    "\n",
    "As an iterated integral we need to evaluate $$\\int_{y=0}^1\\int_{z=2y^2}^{\\sqrt{4y}}\\int_{x=2-y/2-z/2}^{5-y-z/2} 15z\\,dx\\,dz\\,dy$$"
   ]
  },
  {
   "cell_type": "code",
   "execution_count": 37,
   "metadata": {
    "hidden": true
   },
   "outputs": [
    {
     "data": {
      "text/plain": [
       "49/2"
      ]
     },
     "execution_count": 37,
     "metadata": {},
     "output_type": "execute_result"
    }
   ],
   "source": [
    "integrate(15*z, (x, 2-y/2-z/2, 5-y-z/2), (z, 2*y**2, sqrt(4*y)), (y, 0, 1))"
   ]
  },
  {
   "cell_type": "markdown",
   "metadata": {
    "hidden": true
   },
   "source": [
    "To use the 'hcubature' function, we need to make transformations (substitutions) to make the limits of integration between constant values.\n",
    "\n",
    "To start, make the substitution\n",
    "\n",
    "* $z \\rightarrow 2y^2 + z(\\sqrt{4y} - 2y^2) = 2y^2 + z\\sqrt{4y} - 2zy^2$\n",
    "* $dz \\rightarrow (\\sqrt{4y} - 2y^2)\\,dz$\n",
    "\n",
    "This results in the integral $$\\int_{y=0}^1\\int_{z=0}^1\\int_{x=2-y/2-(2y^2 + z\\sqrt{4y}-2zy^2)/2}^{5-y-(2y^2 + z\\sqrt{4y}-2zy^2)/2} 15(2y^2 + z\\sqrt{4y} - 2zy^2)(\\sqrt{4y} - 2y^2)\\,dx\\,dz\\,dy$$"
   ]
  },
  {
   "cell_type": "code",
   "execution_count": 41,
   "metadata": {
    "hidden": true
   },
   "outputs": [
    {
     "data": {
      "text/plain": [
       "49/2"
      ]
     },
     "execution_count": 41,
     "metadata": {},
     "output_type": "execute_result"
    }
   ],
   "source": [
    "integrate(15*(2*y**2 + z*sqrt(4*y) - 2*z*y**2)*(sqrt(4*y) - 2*y**2), \n",
    "          (x,2-y/2-(2*y**2 + z*sqrt(4*y) - 2*z*y**2)/2, 5-y-(2*y**2 + z*sqrt(4*y) - 2*z*y**2)/2),\\\n",
    "          (z,0,1),\\\n",
    "          (y,0,1))"
   ]
  },
  {
   "cell_type": "markdown",
   "metadata": {
    "hidden": true
   },
   "source": [
    "Next make the substitutions\n",
    "\n",
    "* $x\\rightarrow 2-y/2-(2y^2+z\\sqrt{4y}-2zy^2)/2 + x(3-y/2)$\n",
    "* $dx\\rightarrow (3-y/2)\\,dx$\n",
    "\n",
    "This results in the integral $$\\int_{y=0}^1\\int_{z=0}^1\\int_{x=0}^1 15(2y^2 + z\\sqrt{4y} - 2zy^2)(3 - \\tfrac{1}{2}y)(\\sqrt{4y} - 2y^2)\\,dx\\,dz\\,dy$$"
   ]
  },
  {
   "cell_type": "code",
   "execution_count": 42,
   "metadata": {
    "hidden": true
   },
   "outputs": [
    {
     "data": {
      "text/plain": [
       "49/2"
      ]
     },
     "execution_count": 42,
     "metadata": {},
     "output_type": "execute_result"
    }
   ],
   "source": [
    "integrate(15*(2*y**2 + z*sqrt(4*y) - 2*z*y**2)*(sqrt(4*y) - 2*y**2)*(3 - y/2),\\\n",
    "         (x,0,1),\\\n",
    "         (z,0,1),\\\n",
    "         (y,0,1))"
   ]
  },
  {
   "cell_type": "code",
   "execution_count": 3,
   "metadata": {
    "hidden": true
   },
   "outputs": [
    {
     "data": {
      "text/plain": [
       "-2*sqrt(3) + 16/3"
      ]
     },
     "execution_count": 3,
     "metadata": {},
     "output_type": "execute_result"
    }
   ],
   "source": [
    "integrate(sqrt(y**2+3), (x,0,2*y), (y,0,1))"
   ]
  },
  {
   "cell_type": "code",
   "execution_count": 4,
   "metadata": {},
   "outputs": [
    {
     "data": {
      "text/plain": [
       "4/3"
      ]
     },
     "execution_count": 4,
     "metadata": {},
     "output_type": "execute_result"
    }
   ],
   "source": [
    "integrate(y, (x,1/y,y), (y,1,2))"
   ]
  },
  {
   "cell_type": "code",
   "execution_count": 6,
   "metadata": {},
   "outputs": [
    {
     "data": {
      "text/plain": [
       "-14/3"
      ]
     },
     "execution_count": 6,
     "metadata": {},
     "output_type": "execute_result"
    }
   ],
   "source": [
    "integrate(r**2*(cos(t)+sin(t)), (r,1,2), (t,pi/2,3*pi/2))"
   ]
  },
  {
   "cell_type": "code",
   "execution_count": 12,
   "metadata": {},
   "outputs": [
    {
     "data": {
      "text/plain": [
       "x - x**3/3 + x**5/10 + O(x**7)"
      ]
     },
     "execution_count": 12,
     "metadata": {},
     "output_type": "execute_result"
    }
   ],
   "source": [
    "series(integrate(exp(-t**2),(t,0,x)), x, 0, 7)"
   ]
  },
  {
   "cell_type": "code",
   "execution_count": 14,
   "metadata": {},
   "outputs": [
    {
     "data": {
      "text/plain": [
       "0.746824132812427"
      ]
     },
     "execution_count": 14,
     "metadata": {},
     "output_type": "execute_result"
    }
   ],
   "source": [
    "float(integrate(exp(-x**2), (x,0,1)))"
   ]
  },
  {
   "cell_type": "code",
   "execution_count": 15,
   "metadata": {},
   "outputs": [
    {
     "data": {
      "text/plain": [
       "1 - (x - 4)**2/64 + x/4 + O((x - 4)**3, (x, 4))"
      ]
     },
     "execution_count": 15,
     "metadata": {},
     "output_type": "execute_result"
    }
   ],
   "source": [
    "series(sqrt(x), x, 4, 3)"
   ]
  },
  {
   "cell_type": "code",
   "execution_count": 16,
   "metadata": {},
   "outputs": [
    {
     "data": {
      "text/plain": [
       "64.0000000000000"
      ]
     },
     "execution_count": 16,
     "metadata": {},
     "output_type": "execute_result"
    }
   ],
   "source": [
    "integrate(9-y**2 + (1/4)*(y+3)**2, (y,-3,5))"
   ]
  },
  {
   "cell_type": "code",
   "execution_count": 17,
   "metadata": {},
   "outputs": [],
   "source": [
    "i1 = integrate(75+125*exp(-0.03*t), (t,0,30))"
   ]
  },
  {
   "cell_type": "code",
   "execution_count": 18,
   "metadata": {},
   "outputs": [
    {
     "data": {
      "text/plain": [
       "4722.62641774750"
      ]
     },
     "execution_count": 18,
     "metadata": {},
     "output_type": "execute_result"
    }
   ],
   "source": [
    "i1"
   ]
  },
  {
   "cell_type": "code",
   "execution_count": 19,
   "metadata": {},
   "outputs": [
    {
     "data": {
      "text/plain": [
       "157.420880591583"
      ]
     },
     "execution_count": 19,
     "metadata": {},
     "output_type": "execute_result"
    }
   ],
   "source": [
    "i1/30"
   ]
  },
  {
   "cell_type": "code",
   "execution_count": 20,
   "metadata": {},
   "outputs": [
    {
     "data": {
      "text/plain": [
       "2325.00000000000"
      ]
     },
     "execution_count": 20,
     "metadata": {},
     "output_type": "execute_result"
    }
   ],
   "source": [
    "integrate(3*(100-4.5*t), (t,0,10))"
   ]
  },
  {
   "cell_type": "code",
   "execution_count": 21,
   "metadata": {},
   "outputs": [
    {
     "data": {
      "text/plain": [
       "9/4"
      ]
     },
     "execution_count": 21,
     "metadata": {},
     "output_type": "execute_result"
    }
   ],
   "source": [
    "integrate(x+y, (x,1/y,y), (y,1,2))"
   ]
  },
  {
   "cell_type": "code",
   "execution_count": 23,
   "metadata": {},
   "outputs": [
    {
     "data": {
      "text/plain": [
       "13/4"
      ]
     },
     "execution_count": 23,
     "metadata": {},
     "output_type": "execute_result"
    }
   ],
   "source": [
    "integrate(3*y**2/2 - 1/(2*y**2), (y,1,2))"
   ]
  },
  {
   "cell_type": "code",
   "execution_count": null,
   "metadata": {},
   "outputs": [],
   "source": []
  }
 ],
 "metadata": {
  "@webio": {
   "lastCommId": null,
   "lastKernelId": null
  },
  "hide_input": false,
  "kernelspec": {
   "display_name": "Python 3",
   "language": "python",
   "name": "python3"
  },
  "language_info": {
   "codemirror_mode": {
    "name": "ipython",
    "version": 3
   },
   "file_extension": ".py",
   "mimetype": "text/x-python",
   "name": "python",
   "nbconvert_exporter": "python",
   "pygments_lexer": "ipython3",
   "version": "3.7.1"
  },
  "latex_envs": {
   "bibliofile": "biblio.bib",
   "cite_by": "apalike",
   "current_citInitial": 1,
   "eqLabelWithNumbers": true,
   "eqNumInitial": 0
  }
 },
 "nbformat": 4,
 "nbformat_minor": 2
}
