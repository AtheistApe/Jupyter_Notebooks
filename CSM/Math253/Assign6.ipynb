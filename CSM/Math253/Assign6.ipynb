{
 "cells": [
  {
   "cell_type": "code",
   "execution_count": 1,
   "metadata": {
    "collapsed": true,
    "deletable": true,
    "editable": true,
    "hide_input": false,
    "hide_output": false,
    "run_control": {
     "marked": true
    },
    "solution": "hidden"
   },
   "outputs": [
    {
     "name": "stdout",
     "output_type": "stream",
     "text": [
      "IPython console for SymPy 1.0 (Python 3.5.2-64-bit) (ground types: python)\n",
      "\n",
      "These commands were executed:\n",
      ">>> from __future__ import division\n",
      ">>> from sympy import *\n",
      ">>> x, y, z, t = symbols('x y z t')\n",
      ">>> k, m, n = symbols('k m n', integer=True)\n",
      ">>> f, g, h = symbols('f g h', cls=Function)\n",
      ">>> init_printing()\n",
      "\n",
      "Documentation can be found at http://docs.sympy.org/1.0/\n"
     ]
    }
   ],
   "source": [
    "from sympy import init_session\n",
    "init_session()"
   ]
  },
  {
   "cell_type": "markdown",
   "metadata": {
    "deletable": true,
    "editable": true,
    "run_control": {
     "marked": false
    },
    "solution": "hidden"
   },
   "source": [
    "# Triple Integral Assignment\n",
    "\n",
    "This assignment is due on Monday, April 10.\n",
    "\n",
    "Watch the video [\"Lecture 25: Triple Integrals\"](http://ocw.mit.edu/courses/mathematics/18-02-multivariable-calculus-fall-2007/video-lectures/lecture-25-triple-integrals) taking complete notes of the presentation. Pay careful attention to the worked examples in the lecture.\n",
    "\n",
    "Based on the topics presented in the lecture, do the problems below.\n",
    "\n",
    "1) Evaluate the triple iterated integral\n",
    "\n",
    "$$\\int_{-1}^1\\int_1^3\\int_0^2 xy + z^2\\;dy\\,dx\\,dz$$\n",
    "\n",
    "Hint: The answer is between 15 and 20.\n",
    "\n",
    "2) Set up a triple integral in rectangular coordinates (with order of integration $dz\\,dx\\,dy$) you would use to find the volume between the paraboloids $z = x^2 + y^2$ and $z = 18 - x^2 - y^2$. Evaluate the innermost ($z$) integral, then convert to polar coordinates to evaluate the outer ($x$ and $y$) integrals. Hint: The answer is between 250 and 290.\n",
    "\n",
    "The assignment is worth 20 points: 10 points for the lecture notes and 5 points for each triple integral. The grading of the lecture notes will be based on my subjective evaluation of their quality and completness."
   ]
  },
  {
   "cell_type": "code",
   "execution_count": null,
   "metadata": {
    "collapsed": true
   },
   "outputs": [],
   "source": []
  }
 ],
 "metadata": {
  "hide_input": false,
  "kernelspec": {
   "display_name": "Python [default]",
   "language": "python",
   "name": "python3"
  },
  "language_info": {
   "codemirror_mode": {
    "name": "ipython",
    "version": 3
   },
   "file_extension": ".py",
   "mimetype": "text/x-python",
   "name": "python",
   "nbconvert_exporter": "python",
   "pygments_lexer": "ipython3",
   "version": "3.5.2"
  },
  "latex_envs": {
   "bibliofile": "biblio.bib",
   "cite_by": "apalike",
   "current_citInitial": 1,
   "eqLabelWithNumbers": true,
   "eqNumInitial": 0
  }
 },
 "nbformat": 4,
 "nbformat_minor": 0
}
