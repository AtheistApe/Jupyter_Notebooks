{
 "cells": [
  {
   "cell_type": "code",
   "execution_count": 2,
   "metadata": {},
   "outputs": [],
   "source": [
    "import scipy.integrate as integrate"
   ]
  },
  {
   "cell_type": "code",
   "execution_count": 9,
   "metadata": {},
   "outputs": [],
   "source": [
    "from math import *"
   ]
  },
  {
   "cell_type": "code",
   "execution_count": 3,
   "metadata": {
    "collapsed": true
   },
   "outputs": [],
   "source": [
    "quad = integrate.quad"
   ]
  },
  {
   "cell_type": "code",
   "execution_count": 12,
   "metadata": {},
   "outputs": [
    {
     "data": {
      "text/plain": [
       "(62.03792269994379, 3.299586115446118e-08)"
      ]
     },
     "execution_count": 12,
     "metadata": {},
     "output_type": "execute_result"
    }
   ],
   "source": [
    "quad(lambda t: ((8 - 0.2*(t**2 + t**4))*sqrt(1+4*t**2)), -2, 2)"
   ]
  },
  {
   "cell_type": "code",
   "execution_count": 14,
   "metadata": {},
   "outputs": [
    {
     "data": {
      "text/plain": [
       "(0.10150146242745949, 4.630931808697928e-11)"
      ]
     },
     "execution_count": 14,
     "metadata": {},
     "output_type": "execute_result"
    }
   ],
   "source": [
    "quad(lambda x: x*exp(-2*x), 1, inf)"
   ]
  },
  {
   "cell_type": "code",
   "execution_count": 15,
   "metadata": {},
   "outputs": [
    {
     "data": {
      "text/plain": [
       "0.10150146242745953"
      ]
     },
     "execution_count": 15,
     "metadata": {},
     "output_type": "execute_result"
    }
   ],
   "source": [
    "3 / (4*exp(1)**2)"
   ]
  },
  {
   "cell_type": "code",
   "execution_count": 17,
   "metadata": {},
   "outputs": [],
   "source": [
    "def f(n):\n",
    "    return (2*n+1)/(4*exp(2*n))"
   ]
  },
  {
   "cell_type": "code",
   "execution_count": 18,
   "metadata": {},
   "outputs": [
    {
     "data": {
      "text/plain": [
       "[(0, 0.25),\n",
       " (1, 0.10150146242745951),\n",
       " (2, 0.022894548610917727),\n",
       " (3, 0.004337816309166127),\n",
       " (4, 0.0007547909127806516),\n",
       " (5, 0.00012484980684683333)]"
      ]
     },
     "execution_count": 18,
     "metadata": {},
     "output_type": "execute_result"
    }
   ],
   "source": [
    "[(n, f(n)) for n in range(10) if f(n) > 0.0001]"
   ]
  },
  {
   "cell_type": "code",
   "execution_count": 30,
   "metadata": {},
   "outputs": [],
   "source": [
    "s1=sum([n*exp(-2*n) for n in range(1,7)])"
   ]
  },
  {
   "cell_type": "code",
   "execution_count": 35,
   "metadata": {},
   "outputs": [],
   "source": [
    "s2=sum([n*exp(-2*n) for n in range(1,1000001)])"
   ]
  },
  {
   "cell_type": "code",
   "execution_count": 32,
   "metadata": {},
   "outputs": [
    {
     "data": {
      "text/plain": [
       "0.18100853297862257"
      ]
     },
     "execution_count": 32,
     "metadata": {},
     "output_type": "execute_result"
    }
   ],
   "source": [
    "s1"
   ]
  },
  {
   "cell_type": "code",
   "execution_count": 26,
   "metadata": {},
   "outputs": [
    {
     "data": {
      "text/plain": [
       "4.3747537075006226e-05"
      ]
     },
     "execution_count": 26,
     "metadata": {},
     "output_type": "execute_result"
    }
   ],
   "source": [
    "s2-s1"
   ]
  },
  {
   "cell_type": "code",
   "execution_count": 31,
   "metadata": {},
   "outputs": [
    {
     "data": {
      "text/plain": [
       "[1, 2, 3, 4, 5, 6]"
      ]
     },
     "execution_count": 31,
     "metadata": {},
     "output_type": "execute_result"
    }
   ],
   "source": [
    "list(range(1,7))"
   ]
  },
  {
   "cell_type": "code",
   "execution_count": 36,
   "metadata": {},
   "outputs": [
    {
     "data": {
      "text/plain": [
       "0.1810154152415776"
      ]
     },
     "execution_count": 36,
     "metadata": {},
     "output_type": "execute_result"
    }
   ],
   "source": [
    "s2"
   ]
  },
  {
   "cell_type": "code",
   "execution_count": 37,
   "metadata": {
    "collapsed": true
   },
   "outputs": [],
   "source": [
    "import sympy as sy"
   ]
  },
  {
   "cell_type": "code",
   "execution_count": 38,
   "metadata": {
    "collapsed": true
   },
   "outputs": [],
   "source": [
    "x,y,z,t = sy.symbols(\"x y z t\")"
   ]
  },
  {
   "cell_type": "code",
   "execution_count": 39,
   "metadata": {},
   "outputs": [
    {
     "data": {
      "text/plain": [
       "16.7551608191456"
      ]
     },
     "execution_count": 39,
     "metadata": {},
     "output_type": "execute_result"
    }
   ],
   "source": [
    "sy.integrate(2*pi*(x+1)*(2*x-x**2), (x,0,2))"
   ]
  },
  {
   "cell_type": "code",
   "execution_count": 40,
   "metadata": {},
   "outputs": [
    {
     "data": {
      "text/plain": [
       "16.755160819145562"
      ]
     },
     "execution_count": 40,
     "metadata": {},
     "output_type": "execute_result"
    }
   ],
   "source": [
    "16*pi/3"
   ]
  },
  {
   "cell_type": "code",
   "execution_count": 41,
   "metadata": {
    "collapsed": true
   },
   "outputs": [],
   "source": [
    "def quad(a,b,c):\n",
    "    return lambda x: a*x**2 + b*x + c"
   ]
  },
  {
   "cell_type": "code",
   "execution_count": 45,
   "metadata": {
    "collapsed": true
   },
   "outputs": [],
   "source": [
    "q1 = quad(2,-3,5)\n",
    "q2 = quad(1,4,-2)\n",
    "q3 = quad(1,2,3)"
   ]
  },
  {
   "cell_type": "code",
   "execution_count": 43,
   "metadata": {},
   "outputs": [
    {
     "data": {
      "text/plain": [
       "4"
      ]
     },
     "execution_count": 43,
     "metadata": {},
     "output_type": "execute_result"
    }
   ],
   "source": [
    "q1(1)"
   ]
  },
  {
   "cell_type": "code",
   "execution_count": 46,
   "metadata": {},
   "outputs": [
    {
     "data": {
      "text/plain": [
       "[-19,\n",
       " -24,\n",
       " -51,\n",
       " -58,\n",
       " 21,\n",
       " 276,\n",
       " 821,\n",
       " 1794,\n",
       " 3357,\n",
       " 5696,\n",
       " 9021,\n",
       " 13566,\n",
       " 19589,\n",
       " 27372,\n",
       " 37221,\n",
       " 49466,\n",
       " 64461,\n",
       " 82584,\n",
       " 104237,\n",
       " 129846]"
      ]
     },
     "execution_count": 46,
     "metadata": {},
     "output_type": "execute_result"
    }
   ],
   "source": [
    "[q2(x)*q1(x)-q3(x)**2 for x in range(20)]"
   ]
  },
  {
   "cell_type": "code",
   "execution_count": 47,
   "metadata": {},
   "outputs": [
    {
     "data": {
      "text/plain": [
       "0.9233403943323337"
      ]
     },
     "execution_count": 47,
     "metadata": {},
     "output_type": "execute_result"
    }
   ],
   "source": [
    "4*log(2)**4"
   ]
  },
  {
   "cell_type": "code",
   "execution_count": 48,
   "metadata": {},
   "outputs": [
    {
     "data": {
      "text/plain": [
       "1.0830242087730806"
      ]
     },
     "execution_count": 48,
     "metadata": {},
     "output_type": "execute_result"
    }
   ],
   "source": [
    "1/(4*log(2)**4)"
   ]
  },
  {
   "cell_type": "code",
   "execution_count": 49,
   "metadata": {},
   "outputs": [
    {
     "data": {
      "text/plain": [
       "0.6931471805599453"
      ]
     },
     "execution_count": 49,
     "metadata": {},
     "output_type": "execute_result"
    }
   ],
   "source": [
    "log(2.0)"
   ]
  },
  {
   "cell_type": "code",
   "execution_count": 83,
   "metadata": {},
   "outputs": [],
   "source": [
    "n, p = sy.symbols(\"n p\")"
   ]
  },
  {
   "cell_type": "code",
   "execution_count": 67,
   "metadata": {},
   "outputs": [
    {
     "data": {
      "text/plain": [
       "pi**2/6"
      ]
     },
     "execution_count": 67,
     "metadata": {},
     "output_type": "execute_result"
    }
   ],
   "source": [
    "sy.Sum(1/n**2, (n,1,sy.oo)).doit()"
   ]
  },
  {
   "cell_type": "code",
   "execution_count": 87,
   "metadata": {},
   "outputs": [
    {
     "data": {
      "text/plain": [
       "-2*p*x**(-2*p)*log(x)/x + x**(-2*p)/x"
      ]
     },
     "execution_count": 87,
     "metadata": {},
     "output_type": "execute_result"
    }
   ],
   "source": [
    "sy.diff(sy.log(x)/(x**(2*p)),x)"
   ]
  },
  {
   "cell_type": "code",
   "execution_count": 99,
   "metadata": {},
   "outputs": [
    {
     "data": {
      "image/png": "[encoded data removed]",
      "text/plain": [
       "<matplotlib.figure.Figure at 0x10c1b2400>"
      ]
     },
     "metadata": {},
     "output_type": "display_data"
    },
    {
     "data": {
      "text/plain": [
       "<sympy.plotting.plot.Plot at 0x10c1b2978>"
      ]
     },
     "execution_count": 99,
     "metadata": {},
     "output_type": "execute_result"
    }
   ],
   "source": [
    "sy.plot(1 - 0.125*sy.log(x), (x,0.1,1000))"
   ]
  },
  {
   "cell_type": "code",
   "execution_count": 100,
   "metadata": {},
   "outputs": [
    {
     "data": {
      "text/plain": [
       "148.413159102577"
      ]
     },
     "execution_count": 100,
     "metadata": {},
     "output_type": "execute_result"
    }
   ],
   "source": [
    "sy.exp(5.0)"
   ]
  },
  {
   "cell_type": "code",
   "execution_count": 105,
   "metadata": {},
   "outputs": [
    {
     "data": {
      "text/plain": [
       "oo"
      ]
     },
     "execution_count": 105,
     "metadata": {},
     "output_type": "execute_result"
    }
   ],
   "source": [
    "sy.limit(sy.log(x)/(x**(-0.00001)), x, sy.oo)"
   ]
  },
  {
   "cell_type": "code",
   "execution_count": 106,
   "metadata": {
    "collapsed": true
   },
   "outputs": [],
   "source": [
    "t = sy.symbols(\"t\")"
   ]
  },
  {
   "cell_type": "code",
   "execution_count": 121,
   "metadata": {},
   "outputs": [
    {
     "data": {
      "text/plain": [
       "8.50000000000000"
      ]
     },
     "execution_count": 121,
     "metadata": {},
     "output_type": "execute_result"
    }
   ],
   "source": [
    "i1 = sy.integrate(2*(t**2)**(3/2), (t,-1,2))\n",
    "i1"
   ]
  },
  {
   "cell_type": "code",
   "execution_count": 114,
   "metadata": {},
   "outputs": [
    {
     "data": {
      "image/png": "[encoded data removed]",
      "text/plain": [
       "<matplotlib.figure.Figure at 0x10c0a6b38>"
      ]
     },
     "metadata": {},
     "output_type": "display_data"
    },
    {
     "data": {
      "text/plain": [
       "<sympy.plotting.plot.Plot at 0x10c0a6eb8>"
      ]
     },
     "execution_count": 114,
     "metadata": {},
     "output_type": "execute_result"
    }
   ],
   "source": [
    "sy.plot((t**2)**(3/2), t**3, t,-1,2)"
   ]
  },
  {
   "cell_type": "code",
   "execution_count": 118,
   "metadata": {},
   "outputs": [
    {
     "data": {
      "text/plain": [
       "5"
      ]
     },
     "execution_count": 118,
     "metadata": {},
     "output_type": "execute_result"
    }
   ],
   "source": [
    "abs(-5)"
   ]
  },
  {
   "cell_type": "code",
   "execution_count": 124,
   "metadata": {
    "collapsed": true
   },
   "outputs": [],
   "source": [
    "def f(n):\n",
    "    return cos(n)*sqrt(n)/(8*n+5)\n",
    "\n",
    "def s(k):\n",
    "    return sum([f(n) for n in range(1,k+1)])"
   ]
  },
  {
   "cell_type": "code",
   "execution_count": 133,
   "metadata": {},
   "outputs": [
    {
     "data": {
      "text/plain": [
       "[-0.030330699607387407,\n",
       " -0.019304207608857094,\n",
       " -0.018054554361413715,\n",
       " -0.02763088304697455,\n",
       " -0.03916755798990697,\n",
       " -0.042089564515511456,\n",
       " -0.03380373611586298,\n",
       " -0.021996592045785454,\n",
       " -0.017505901352605588,\n",
       " -0.024374863273328135,\n",
       " -0.03621420642033993,\n",
       " -0.04214324666891653,\n",
       " -0.03678750480037761,\n",
       " -0.025148528490654798,\n",
       " -0.017935147837393015,\n",
       " -0.021712359636640314,\n",
       " -0.032928188300865274,\n",
       " -0.04125157694419139,\n",
       " -0.039086696670604486,\n",
       " -0.02850317906910168,\n",
       " -0.019260789774825062,\n",
       " -0.01981094363011971,\n",
       " -0.02957012348586522,\n",
       " -0.03952770849721252,\n",
       " -0.040563929250828336,\n",
       " -0.03180082877312887,\n",
       " -0.021340615859239347,\n",
       " -0.01877592037080363,\n",
       " -0.02639421128369887,\n",
       " -0.037139839713176886,\n",
       " -0.041147270802520536,\n",
       " -0.03479724655167868,\n",
       " -0.023983932264510954,\n",
       " -0.01864516251879881,\n",
       " -0.023630498950214726,\n",
       " -0.034297314425408114,\n",
       " -0.04083297648903837,\n",
       " -0.03728047374222288,\n",
       " -0.026966871660647485,\n",
       " -0.019388830552443843,\n",
       " -0.021469329905313764,\n",
       " -0.03123419314757806,\n",
       " -0.03968333045066109,\n",
       " -0.039084870753958195,\n",
       " -0.030049634096751522,\n",
       " -0.02091390499010659,\n",
       " -0.020049040766688977,\n",
       " -0.02819152004467975,\n",
       " -0.03781984565037749,\n",
       " -0.0401014716748947,\n",
       " -0.03299438587364306,\n",
       " -0.023073107423196293,\n",
       " -0.01944772228020267,\n",
       " -0.025399584781867122,\n",
       " -0.035412406656508064,\n",
       " -0.04028398086781109,\n",
       " -0.035582516176301794,\n",
       " -0.025677475298605326,\n",
       " -0.019679549872967706,\n",
       " -0.023061456560580146,\n",
       " -0.032665225526985774,\n",
       " -0.039650074079358846,\n",
       " -0.0376300204882235,\n",
       " -0.028511602350009643,\n",
       " -0.02069584817001106,\n",
       " -0.02133895260456743,\n",
       " -0.029800697616993888,\n",
       " -0.03827801450996604,\n",
       " -0.03899993819003161,\n",
       " -0.03135038003224737,\n",
       " -0.02239070582846052,\n",
       " -0.020342004891627314,\n",
       " -0.02704237759561689,\n",
       " -0.0362989359028762,\n",
       " -0.03961100632908123,\n",
       " -0.03397598708670393,\n",
       " -0.024610628093396564,\n",
       " -0.020122122838960175,\n",
       " -0.02459833763976061,\n",
       " -0.03388545498699347,\n",
       " -0.03944198396789003,\n",
       " -0.03619387966149138,\n",
       " -0.027167428505985032,\n",
       " -0.02067033652339237,\n",
       " -0.02264611794000706,\n",
       " -0.03123753213623117,\n",
       " -0.038531429373747914,\n",
       " -0.03784663147765966,\n",
       " -0.029853338674244955,\n",
       " -0.02191966864958586,\n",
       " -0.021320339490164267,\n",
       " -0.028566683721124073,\n",
       " -0.03697305086015804,\n",
       " -0.03882465386234221,\n",
       " -0.03245717147800902,\n",
       " -0.02375184908446487,\n",
       " -0.020703832295884305,\n",
       " -0.026079749713707377,\n",
       " -0.03490707611714463,\n",
       " -0.039073074493938736,\n",
       " -0.034780317999135474,\n",
       " -0.026007678098983408,\n",
       " -0.020822855818935275,\n",
       " -0.023963429483852966,\n",
       " -0.03250837055968742,\n",
       " -0.038594351945250564,\n",
       " -0.03665139463175808,\n",
       " -0.0285001859376283,\n",
       " -0.021646674059213375,\n",
       " -0.022370718036045168,\n",
       " -0.029972261930024814,\n",
       " -0.0374465276846964,\n",
       " -0.037938480197541875,\n",
       " -0.031029545458561708,\n",
       " -0.023091419107659064,\n",
       " -0.02141021151851954,\n",
       " -0.027499180123211286,\n",
       " -0.03573734356021854,\n",
       " -0.038558082985348456,\n",
       " -0.0333985845541664,\n",
       " -0.025027858959563245,\n",
       " -0.021139018101995338,\n",
       " -0.025279287783196044,\n",
       " -0.033614756594551605,\n",
       " -0.03848023838496707,\n",
       " -0.035427722863663094,\n",
       " -0.02729240142412158,\n",
       " -0.02155972668096485,\n",
       " -0.023478254953189347,\n",
       " -0.03125464182493766,\n",
       " -0.03772943880410229,\n",
       " -0.036968223257159184,\n",
       " -0.02970043680194759,\n",
       " -0.02262157326502516,\n",
       " -0.022225222969453725,\n",
       " -0.02884666924651849,\n",
       " -0.03638141572088623,\n",
       " -0.037912796429740866,\n",
       " -0.032060963944644784,\n",
       " -0.024225627240078776,\n",
       " -0.021603818261703007,\n",
       " -0.026579459005225577,\n",
       " -0.03455610493368296,\n",
       " -0.038202814366479515,\n",
       " -0.034191368122680775,\n",
       " -0.02623352078698335,\n",
       " -0.02164683077206314,\n",
       " -0.024626152153942826,\n",
       " -0.03240740707914374,\n",
       " -0.03783165804159619,\n",
       " -0.03593122927809143,\n",
       " -0.028478986807751728,\n",
       " -0.022334883743693253,\n",
       " -0.02313148134227299,\n",
       " -0.030110585639843784,\n",
       " -0.03684402542987398,\n",
       " -0.037154133641709594,\n",
       " -0.03078127250168023,\n",
       " -0.02359911396929417,\n",
       " -0.022201292058799414,\n",
       " -0.027848307407681665,\n",
       " -0.03533133461548568,\n",
       " -0.03777663194982887,\n",
       " -0.032959371273753875,\n",
       " -0.025327577715381352,\n",
       " -0.02189526180462632,\n",
       " -0.025796414470074653,\n",
       " -0.033423650078684634,\n",
       " -0.03776371959810913,\n",
       " -0.034845973207962434,\n",
       " -0.027374820327190706,\n",
       " -0.022223308254369193,\n",
       " -0.024110517094698577,\n",
       " -0.031278816206822005,\n",
       " -0.03713048954052953,\n",
       " -0.03630007585390429,\n",
       " -0.02957381751811479,\n",
       " -0.023145888245585666,\n",
       " -0.02291441466016304,\n",
       " -0.02906968191992952,\n",
       " -0.03593990607457839,\n",
       " -0.037217318135091715,\n",
       " -0.031749330248578116,\n",
       " -0.024578089729016987,\n",
       " -0.022291194497587378,\n",
       " -0.026970429736959366,\n",
       " -0.03429694398915821,\n",
       " -0.03753729040895949,\n",
       " -0.03373162452412481,\n",
       " -0.026397131494365574,\n",
       " -0.02227763923746914,\n",
       " -0.025143072883829498,\n",
       " -0.03233961041885804,\n",
       " -0.03724731760920877,\n",
       " -0.035369498125914715,\n",
       " -0.02845263218839951,\n",
       " -0.022862309585365524,\n",
       " -0.023725152532750607,\n",
       " -0.03022759576819794,\n",
       " -0.036382490637323704,\n",
       " -0.03654162771535359,\n",
       " -0.030578809611355014,\n",
       " -0.023987382096519135,\n",
       " -0.022819557587093628,\n",
       " -0.028129468475113707,\n",
       " -0.03502201205519918,\n",
       " -0.037165395284334796,\n",
       " -0.032607637991936805,\n",
       " -0.025554032717601354,\n",
       " -0.022487211105488503,\n",
       " -0.026209424248365254,\n",
       " -0.03328220331327097,\n",
       " -0.03720256036167311,\n",
       " -0.03438193406198778,\n",
       " -0.027430888652918567,\n",
       " -0.0227431351077348,\n",
       " -0.024614617500433863,\n",
       " -0.03130677092146621,\n",
       " -0.03666139699279731,\n",
       " -0.03576736549305371,\n",
       " -0.029464843662315773,\n",
       " -0.02355613765768264,\n",
       " -0.023464040858906982,\n",
       " -0.029255129481678296,\n",
       " -0.03559519232451108,\n",
       " -0.03666247471496592,\n",
       " -0.03149336199412827,\n",
       " -0.024852083765920376,\n",
       " -0.022839783754541442,\n",
       " -0.027289715742352838,\n",
       " -0.03409728503611806,\n",
       " -0.037005978588190276,\n",
       " -0.03335729596192713,\n",
       " -0.026520436613729055,\n",
       " -0.02278130453427871,\n",
       " -0.025563290308796303,\n",
       " -0.03229308526548303,\n",
       " -0.036780826043551915,\n",
       " -0.03491321835786755,\n",
       " -0.02842350883281916,\n",
       " -0.023283108277290233,\n",
       " -0.024207208618380285,\n",
       " -0.030329743153630285,\n",
       " -0.036014753869509426,\n",
       " -0.03604432419247185,\n",
       " -0.03040766360168158,\n",
       " -0.024295953734030085,\n",
       " -0.02332155252346401,\n",
       " -0.0283643039150212,\n",
       " -0.0347773549992926,\n",
       " -0.036669081477344066,\n",
       " -0.03231556682616694,\n",
       " -0.025731438569297025,\n",
       " -0.022967856309492118,\n",
       " -0.02655129108821692,\n",
       " -0.033173942642823716,\n",
       " -0.03674699729285612,\n",
       " -0.0339985244370134,\n",
       " -0.027469553520818348,\n",
       " -0.02316494925834286,\n",
       " -0.02503068929507762,\n",
       " -0.031336736813660074,\n",
       " -0.0362810980110493,\n",
       " -0.035327947039713634,\n",
       " -0.02936857285497558,\n",
       " -0.023888187986037066,\n",
       " -0.023917252178903177,\n",
       " -0.029414098861409214,\n",
       " -0.035316982735049574,\n",
       " -0.03620506612082377,\n",
       " -0.03127647730937364,\n",
       " -0.025072085412643153,\n",
       " -0.023291944752872405,\n",
       " -0.027558679809313112,\n",
       " -0.03393857635120011,\n",
       " -0.03656817442692533,\n",
       " -0.03304299903822982,\n",
       " -0.02661608012540454,\n",
       " -0.023196152106529384,\n",
       " -0.02591541960852354,\n",
       " -0.03226096236268808,\n",
       " -0.03639686564548153,\n",
       " -0.034531343274774105,\n",
       " -0.028392950320420045,\n",
       " -0.023629062784339547,\n",
       " -0.024610332280499733,\n",
       " -0.03042089648633594,\n",
       " -0.035712988778372444,\n",
       " -0.035628680218261134,\n",
       " -0.03025917863057031,\n",
       " -0.024548383048525878,\n",
       " -0.023740937471278013,\n",
       " -0.028565773236262918,\n",
       " -0.034578291553448985,\n",
       " -0.036254609069246685,\n",
       " -0.03206643270015482,\n",
       " -0.025874277520564693,\n",
       " -0.023369058892878016,\n",
       " -0.026841926810630804,\n",
       " -0.03308898460861019,\n",
       " -0.03636696488095051,\n",
       " -0.03367325154334184,\n",
       " -0.02749618263067618,\n",
       " -0.0235165161641961,\n",
       " -0.025383186916370405,\n",
       " -0.03136769412140274,\n",
       " -0.03596455412983095,\n",
       " -0.03495602444614004,\n",
       " -0.02928192100985549,\n",
       " -0.02416400439231958,\n",
       " -0.02430057757154919,\n",
       " -0.029553467062541246,\n",
       " -0.035086649376462775,\n",
       " -0.03581841677293428,\n",
       " -0.03108837393869316,\n",
       " -0.025253203921479523,\n",
       " -0.023673945861090166,\n",
       " -0.027790635610521468,\n",
       " -0.03380932778089448,\n",
       " -0.036198529378739186,\n",
       " -0.032772857868274774,\n",
       " -0.026691910788995955,\n",
       " -0.02354614678841814,\n",
       " -0.026217425130750753,\n",
       " -0.0322389827137017,\n",
       " -0.036073264332310034,\n",
       " -0.03420430770755432,\n",
       " -0.02836174609283803,\n",
       " -0.02392020298414613,\n",
       " -0.024955198267547923,\n",
       " -0.03050355343022673,\n",
       " -0.035459594226246914,\n",
       " -0.035273396542808144,\n",
       " -0.030127807472860493,\n",
       " -0.02475962077099801,\n",
       " -0.024099166355185407,\n",
       " -0.02874218836824445,\n",
       " -0.03441267758328485,\n",
       " -0.03590081575582196,\n",
       " -0.03184948291230599,\n",
       " -0.025991795727585983,\n",
       " -0.023711274141944565,\n",
       " -0.0270941703980353,\n",
       " -0.033021009467920776,\n",
       " -0.03604309299104162,\n",
       " -0.033391566547405924,\n",
       " -0.027514200867541513,\n",
       " -0.02381578524320031,\n",
       " -0.025687979241675898,\n",
       " -0.03139902520421739,\n",
       " -0.03569552544506755,\n",
       " -0.034634803631258614,\n",
       " -0.029202837407055624,\n",
       " -0.02439787831866843,\n",
       " -0.024631344434552026,\n",
       " -0.029677768513638007,\n",
       " -0.03489203640603234,\n",
       " -0.035485047393721096,\n",
       " -0.030922258083912715,\n",
       " -0.02540532507592303,\n",
       " -0.024003054145394637,\n",
       " -0.027994378800178507,\n",
       " -0.03370200556900274,\n",
       " -0.03588032913823977,\n",
       " -0.03253635882886505,\n",
       " -0.026753079676978497,\n",
       " -0.023847138535229056,\n",
       " -0.02648123515437878,\n",
       " -0.03222435937484287,\n",
       " -0.03579531454852096,\n",
       " -0.03391908450545056,\n",
       " -0.028330383797763963,\n",
       " -0.02416985322074409,\n",
       " -0.02525561118122645,\n",
       " -0.030579418191772054,\n",
       " -0.03524282986137684,\n",
       " -0.034964211582091106,\n",
       " -0.030009799820953573,\n",
       " -0.02493966439238294,\n",
       " -0.024410644459087055,\n",
       " -0.028899166469644428,\n",
       " -0.034272374434529095,\n",
       " -0.03559345287037959,\n",
       " -0.031657440985915594,\n",
       " -0.026090200031153303,\n",
       " -0.02400831199288961,\n",
       " -0.027316727324802767,\n",
       " -0.03296577289741953,\n",
       " -0.03576226970096287,\n",
       " -0.03314358242500341,\n",
       " -0.027525900102325716,\n",
       " -0.02407493790611021,\n",
       " -0.02595587597878935,\n",
       " -0.03143034202442513,\n",
       " -0.03546296352361326,\n",
       " -0.034352816840224135,\n",
       " -0.029129890575056147,\n",
       " -0.024599555292557754,\n",
       " -0.02492141364624429,\n",
       " -0.02979013756568807]"
      ]
     },
     "execution_count": 133,
     "metadata": {},
     "output_type": "execute_result"
    }
   ],
   "source": [
    "[s(k) for k in range(100, 500)]"
   ]
  },
  {
   "cell_type": "code",
   "execution_count": 136,
   "metadata": {},
   "outputs": [
    {
     "data": {
      "text/plain": [
       "[1, 2, 3, 4, 5]"
      ]
     },
     "execution_count": 136,
     "metadata": {},
     "output_type": "execute_result"
    }
   ],
   "source": [
    "list(range(1,6))"
   ]
  },
  {
   "cell_type": "code",
   "execution_count": null,
   "metadata": {
    "collapsed": true
   },
   "outputs": [],
   "source": []
  }
 ],
 "metadata": {
  "hide_input": false,
  "kernelspec": {
   "display_name": "Python [default]",
   "language": "python",
   "name": "python3"
  },
  "language_info": {
   "codemirror_mode": {
    "name": "ipython",
    "version": 3
   },
   "file_extension": ".py",
   "mimetype": "text/x-python",
   "name": "python",
   "nbconvert_exporter": "python",
   "pygments_lexer": "ipython3",
   "version": "3.5.4"
  },
  "latex_envs": {
   "bibliofile": "biblio.bib",
   "cite_by": "apalike",
   "current_citInitial": 1,
   "eqLabelWithNumbers": true,
   "eqNumInitial": 0
  }
 },
 "nbformat": 4,
 "nbformat_minor": 2
}
