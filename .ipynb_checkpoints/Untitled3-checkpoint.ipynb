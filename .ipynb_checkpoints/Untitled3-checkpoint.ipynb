{
 "cells": [
  {
   "cell_type": "code",
   "execution_count": 1,
   "metadata": {},
   "outputs": [
    {
     "data": {
      "text/plain": [
       "pwd (generic function with 1 method)"
      ]
     },
     "execution_count": 1,
     "metadata": {},
     "output_type": "execute_result"
    }
   ],
   "source": [
    "pwd()"
   ]
  },
  {
   "cell_type": "code",
   "execution_count": 16,
   "metadata": {},
   "outputs": [],
   "source": [
    "data = readdlm(\"./Octave/ex1/ex1data2.txt\", ',');"
   ]
  },
  {
   "cell_type": "code",
   "execution_count": 23,
   "metadata": {},
   "outputs": [],
   "source": [
    "X = data[:,1:2];\n",
    "y = data[:,3];\n",
    "m = length(y);"
   ]
  },
  {
   "cell_type": "code",
   "execution_count": 46,
   "metadata": {},
   "outputs": [
    {
     "data": {
      "text/plain": [
       "featureNormalize (generic function with 1 method)"
      ]
     },
     "execution_count": 46,
     "metadata": {},
     "output_type": "execute_result"
    }
   ],
   "source": [
    "function featureNormalize(X)\n",
    "    X_norm = X;\n",
    "    mu = zeros(1, size(X, 2));\n",
    "    sigma = zeros(1, size(X, 2));\n",
    "    \n",
    "    for i = 1:size(X,2)\n",
    "      mu[i] = mean(X[:,i]);\n",
    "      sigma[i] = std(X[:,i]);\n",
    "  \n",
    "      X[:,i] = (X[:,i] - mu[i])/sigma[i];\n",
    "    end\n",
    "\n",
    "    X_norm = X;\n",
    "    \n",
    "    return X_norm, mu, sigma\n",
    "    \n",
    "end"
   ]
  },
  {
   "cell_type": "code",
   "execution_count": 48,
   "metadata": {},
   "outputs": [
    {
     "data": {
      "text/plain": [
       "([0.13001 -0.223675; -0.50419 -0.223675; … ; -0.18709 1.09042; -1.00375 -0.223675], [-9.44871e-18 -7.08653e-18], [1.0 1.0])"
      ]
     },
     "execution_count": 48,
     "metadata": {},
     "output_type": "execute_result"
    }
   ],
   "source": [
    "x, mu, sigma = featureNormalize(X)"
   ]
  },
  {
   "cell_type": "code",
   "execution_count": 53,
   "metadata": {},
   "outputs": [
    {
     "name": "stdout",
     "output_type": "stream",
     "text": [
      "search: \u001b[1ms\u001b[22m\u001b[1mt\u001b[22m\u001b[1md\u001b[22m \u001b[1ms\u001b[22m\u001b[1mt\u001b[22m\u001b[1md\u001b[22mm \u001b[1mS\u001b[22m\u001b[1mT\u001b[22m\u001b[1mD\u001b[22mIN \u001b[1mS\u001b[22m\u001b[1mT\u001b[22m\u001b[1mD\u001b[22mOUT \u001b[1mS\u001b[22m\u001b[1mT\u001b[22m\u001b[1mD\u001b[22mERR \u001b[1ms\u001b[22me\u001b[1mt\u001b[22m\u001b[1md\u001b[22miff \u001b[1ms\u001b[22me\u001b[1mt\u001b[22m\u001b[1md\u001b[22miff! \u001b[1ms\u001b[22m\u001b[1mt\u001b[22mri\u001b[1md\u001b[22me \u001b[1ms\u001b[22m\u001b[1mt\u001b[22mri\u001b[1md\u001b[22mes\n",
      "\n"
     ]
    },
    {
     "data": {
      "text/markdown": [
       "```\n",
       "std(v[, region]; corrected::Bool=true, mean=nothing)\n",
       "```\n",
       "\n",
       "Compute the sample standard deviation of a vector or array `v`, optionally along dimensions in `region`. The algorithm returns an estimator of the generative distribution's standard deviation under the assumption that each entry of `v` is an IID drawn from that generative distribution. This computation is equivalent to calculating `sqrt(sum((v - mean(v)).^2) / (length(v) - 1))`. A pre-computed `mean` may be provided. If `corrected` is `true`, then the sum is scaled with `n-1`, whereas the sum is scaled with `n` if `corrected` is `false` where `n = length(x)`.\n",
       "\n",
       "!!! note\n",
       "    Julia does not ignore `NaN` values in the computation. For applications requiring the handling of missing data, the `DataArrays.jl` package is recommended.\n",
       "\n"
      ],
      "text/plain": [
       "```\n",
       "std(v[, region]; corrected::Bool=true, mean=nothing)\n",
       "```\n",
       "\n",
       "Compute the sample standard deviation of a vector or array `v`, optionally along dimensions in `region`. The algorithm returns an estimator of the generative distribution's standard deviation under the assumption that each entry of `v` is an IID drawn from that generative distribution. This computation is equivalent to calculating `sqrt(sum((v - mean(v)).^2) / (length(v) - 1))`. A pre-computed `mean` may be provided. If `corrected` is `true`, then the sum is scaled with `n-1`, whereas the sum is scaled with `n` if `corrected` is `false` where `n = length(x)`.\n",
       "\n",
       "!!! note\n",
       "    Julia does not ignore `NaN` values in the computation. For applications requiring the handling of missing data, the `DataArrays.jl` package is recommended.\n",
       "\n"
      ]
     },
     "execution_count": 53,
     "metadata": {},
     "output_type": "execute_result"
    }
   ],
   "source": [
    "?std"
   ]
  },
  {
   "cell_type": "code",
   "execution_count": null,
   "metadata": {},
   "outputs": [],
   "source": []
  }
 ],
 "metadata": {
  "kernelspec": {
   "display_name": "Julia 0.6.0",
   "language": "julia",
   "name": "julia-0.6"
  },
  "language_info": {
   "file_extension": ".jl",
   "mimetype": "application/julia",
   "name": "julia",
   "version": "0.6.0"
  }
 },
 "nbformat": 4,
 "nbformat_minor": 2
}
