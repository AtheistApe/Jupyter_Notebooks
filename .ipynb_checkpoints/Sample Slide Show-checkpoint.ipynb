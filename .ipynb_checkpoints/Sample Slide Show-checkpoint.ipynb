{
 "cells": [
  {
   "cell_type": "markdown",
   "metadata": {
    "nbpresent": {
     "id": "3a4fd80f-c6ed-40cf-a188-2a1b75087b99"
    },
    "slideshow": {
     "slide_type": "slide"
    }
   },
   "source": [
    "# My Sample Slideshow\n",
    "## By Gary Church"
   ]
  },
  {
   "cell_type": "markdown",
   "metadata": {
    "nbpresent": {
     "id": "b32c7947-dd8c-4ce0-8ef3-88366d64b9fe"
    },
    "slideshow": {
     "slide_type": "slide"
    }
   },
   "source": [
    "## Creating a Slideshow\n",
    "\n",
    "To make a slide show in a Jupyter notebook, from the menu choose \"View -> Cell Toolbar -> Slideshow\". This will create drop down menus on the cells within the notebook which allows you to control the slide type of the cell.\n",
    "\n",
    "In this sample slideshow, every cell will be of the plain \"slide\" type."
   ]
  },
  {
   "cell_type": "markdown",
   "metadata": {
    "nbpresent": {
     "id": "bbbd5309-2fa5-41b3-89dd-00ecb086adf1"
    },
    "slideshow": {
     "slide_type": "slide"
    }
   },
   "source": [
    "## The Definite Integral\n",
    "\n",
    "The definite integral of a function $f(x)$ over an interval $[a, b]$ is defined as $$\\int_a^b f(x)\\,dx = \\lim_{n\\rightarrow\\infty} \\sum_{i=1}^n f(x_i^*)\\Delta x$$ where "
   ]
  }
 ],
 "metadata": {
  "celltoolbar": "Slideshow",
  "hide_input": false,
  "kernelspec": {
   "display_name": "Python [default]",
   "language": "python",
   "name": "python3"
  },
  "language_info": {
   "codemirror_mode": {
    "name": "ipython",
    "version": 3
   },
   "file_extension": ".py",
   "mimetype": "text/x-python",
   "name": "python",
   "nbconvert_exporter": "python",
   "pygments_lexer": "ipython3",
   "version": "3.5.4"
  },
  "latex_envs": {
   "bibliofile": "biblio.bib",
   "cite_by": "apalike",
   "current_citInitial": 1,
   "eqLabelWithNumbers": true,
   "eqNumInitial": 0
  },
  "nbpresent": {
   "slides": {
    "0bd5cea2-4fed-4d31-9678-68e20530f4af": {
     "id": "0bd5cea2-4fed-4d31-9678-68e20530f4af",
     "prev": "843ddceb-2111-4fe6-b31c-2f3f9ebecee4",
     "regions": {
      "c4cb431a-f37f-48ce-81b2-e8ade9e063f3": {
       "attrs": {
        "height": 0.8,
        "width": 0.8,
        "x": 0.1,
        "y": 0.1
       },
       "content": {
        "cell": "b32c7947-dd8c-4ce0-8ef3-88366d64b9fe",
        "part": "whole"
       },
       "id": "c4cb431a-f37f-48ce-81b2-e8ade9e063f3"
      }
     }
    },
    "57d8f79d-074b-4d85-b15c-cba556c25103": {
     "id": "57d8f79d-074b-4d85-b15c-cba556c25103",
     "prev": "0bd5cea2-4fed-4d31-9678-68e20530f4af",
     "regions": {
      "fcd5f0f2-979d-4f87-a85e-06fb70c67085": {
       "attrs": {
        "height": 0.8,
        "width": 0.8,
        "x": 0.1,
        "y": 0.1
       },
       "content": {
        "cell": "bbbd5309-2fa5-41b3-89dd-00ecb086adf1",
        "part": "whole"
       },
       "id": "fcd5f0f2-979d-4f87-a85e-06fb70c67085"
      }
     }
    },
    "843ddceb-2111-4fe6-b31c-2f3f9ebecee4": {
     "id": "843ddceb-2111-4fe6-b31c-2f3f9ebecee4",
     "prev": null,
     "regions": {
      "57bce267-3a5c-4205-ae06-38f5ba12724b": {
       "attrs": {
        "height": 0.8,
        "width": 0.8,
        "x": 0.1,
        "y": 0.1
       },
       "content": {
        "cell": "3a4fd80f-c6ed-40cf-a188-2a1b75087b99",
        "part": "whole"
       },
       "id": "57bce267-3a5c-4205-ae06-38f5ba12724b"
      }
     }
    },
    "a40abda7-092d-422c-9b44-ecaac4b992e4": {
     "id": "a40abda7-092d-422c-9b44-ecaac4b992e4",
     "prev": "c5e105a9-5b58-49dd-a09b-599d9d2d71f9",
     "regions": {
      "378ddb41-7a9c-41c1-96d3-6642bb9f9feb": {
       "attrs": {
        "height": 0.8,
        "width": 0.8,
        "x": 0.1,
        "y": 0.1
       },
       "content": {
        "cell": "bbbd5309-2fa5-41b3-89dd-00ecb086adf1",
        "part": "whole"
       },
       "id": "378ddb41-7a9c-41c1-96d3-6642bb9f9feb"
      }
     }
    },
    "c5e105a9-5b58-49dd-a09b-599d9d2d71f9": {
     "id": "c5e105a9-5b58-49dd-a09b-599d9d2d71f9",
     "prev": "caedd68e-da37-4ff2-99a7-0813c7fde7e3",
     "regions": {
      "e47cee12-41a0-4e44-a7f3-dd026fc475a0": {
       "attrs": {
        "height": 0.8,
        "width": 0.8,
        "x": 0.1,
        "y": 0.1
       },
       "content": {
        "cell": "b32c7947-dd8c-4ce0-8ef3-88366d64b9fe",
        "part": "whole"
       },
       "id": "e47cee12-41a0-4e44-a7f3-dd026fc475a0"
      }
     }
    },
    "caedd68e-da37-4ff2-99a7-0813c7fde7e3": {
     "id": "caedd68e-da37-4ff2-99a7-0813c7fde7e3",
     "prev": null,
     "regions": {
      "5d12cd8f-7078-420e-b94b-49f52049bffb": {
       "attrs": {
        "height": 0.8,
        "width": 0.8,
        "x": 0.1,
        "y": 0.1
       },
       "content": {
        "cell": "3a4fd80f-c6ed-40cf-a188-2a1b75087b99",
        "part": "whole"
       },
       "id": "5d12cd8f-7078-420e-b94b-49f52049bffb"
      }
     }
    }
   },
   "themes": {}
  }
 },
 "nbformat": 4,
 "nbformat_minor": 2
}
