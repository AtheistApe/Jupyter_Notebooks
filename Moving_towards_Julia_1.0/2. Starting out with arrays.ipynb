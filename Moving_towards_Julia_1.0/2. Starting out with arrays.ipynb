{
 "cells": [
  {
   "cell_type": "markdown",
   "metadata": {},
   "source": [
    "# Arrays and views"
   ]
  },
  {
   "cell_type": "markdown",
   "metadata": {},
   "source": [
    "Julia has excellent functionality for manipulating arrays and for linear algebra. We will have a quick look at this subject, which is much more complicated than you might suspect; see e.g. the talk on \"Taking vector transposes seriously\"."
   ]
  },
  {
   "cell_type": "markdown",
   "metadata": {},
   "source": [
    "Let's define a 2x2 array (matrix):"
   ]
  },
  {
   "cell_type": "code",
   "execution_count": 1,
   "metadata": {},
   "outputs": [
    {
     "data": {
      "text/plain": [
       "3×3 Array{Int64,2}:\n",
       " 1  2  3\n",
       " 4  5  6\n",
       " 7  8  9"
      ]
     },
     "execution_count": 1,
     "metadata": {},
     "output_type": "execute_result"
    }
   ],
   "source": [
    "M = [1 2 3; 4 5 6; 7 8 9]  # a 3x3 matrix"
   ]
  },
  {
   "cell_type": "code",
   "execution_count": 2,
   "metadata": {},
   "outputs": [
    {
     "data": {
      "text/plain": [
       "Array{Int64,2}"
      ]
     },
     "execution_count": 2,
     "metadata": {},
     "output_type": "execute_result"
    }
   ],
   "source": [
    "typeof(M)"
   ]
  },
  {
   "cell_type": "markdown",
   "metadata": {},
   "source": [
    "We can extract part of the matrix using indexing notation:"
   ]
  },
  {
   "cell_type": "code",
   "execution_count": 3,
   "metadata": {},
   "outputs": [
    {
     "data": {
      "text/plain": [
       "2×2 Array{Int64,2}:\n",
       " 4  5\n",
       " 7  8"
      ]
     },
     "execution_count": 3,
     "metadata": {},
     "output_type": "execute_result"
    }
   ],
   "source": [
    "part = M[2:3, 1:2]"
   ]
  },
  {
   "cell_type": "markdown",
   "metadata": {},
   "source": [
    "What happens if we modify `part`?"
   ]
  },
  {
   "cell_type": "code",
   "execution_count": 4,
   "metadata": {},
   "outputs": [
    {
     "data": {
      "text/plain": [
       "4"
      ]
     },
     "execution_count": 4,
     "metadata": {},
     "output_type": "execute_result"
    }
   ],
   "source": [
    "part[1, 1]"
   ]
  },
  {
   "cell_type": "code",
   "execution_count": 5,
   "metadata": {},
   "outputs": [
    {
     "data": {
      "text/plain": [
       "10"
      ]
     },
     "execution_count": 5,
     "metadata": {},
     "output_type": "execute_result"
    }
   ],
   "source": [
    "part[1, 1] = 10"
   ]
  },
  {
   "cell_type": "code",
   "execution_count": 6,
   "metadata": {},
   "outputs": [
    {
     "data": {
      "text/plain": [
       "2×2 Array{Int64,2}:\n",
       " 10  5\n",
       "  7  8"
      ]
     },
     "execution_count": 6,
     "metadata": {},
     "output_type": "execute_result"
    }
   ],
   "source": [
    "part"
   ]
  },
  {
   "cell_type": "code",
   "execution_count": 7,
   "metadata": {},
   "outputs": [
    {
     "data": {
      "text/plain": [
       "3×3 Array{Int64,2}:\n",
       " 1  2  3\n",
       " 4  5  6\n",
       " 7  8  9"
      ]
     },
     "execution_count": 7,
     "metadata": {},
     "output_type": "execute_result"
    }
   ],
   "source": [
    "M"
   ]
  },
  {
   "cell_type": "markdown",
   "metadata": {},
   "source": [
    "We see that `M` has *not* been modified: `part` was a **copy** of that part of `M`."
   ]
  },
  {
   "cell_type": "markdown",
   "metadata": {},
   "source": [
    "## Views"
   ]
  },
  {
   "cell_type": "markdown",
   "metadata": {},
   "source": [
    "We often do *not* want a copy, but rather just a reference to the same data, which is called a `view`: "
   ]
  },
  {
   "cell_type": "code",
   "execution_count": 8,
   "metadata": {},
   "outputs": [
    {
     "data": {
      "text/plain": [
       "2×2 SubArray{Int64,2,Array{Int64,2},Tuple{UnitRange{Int64},UnitRange{Int64}},false}:\n",
       " 4  5\n",
       " 7  8"
      ]
     },
     "execution_count": 8,
     "metadata": {},
     "output_type": "execute_result"
    }
   ],
   "source": [
    "V = view(M, 2:3, 1:2)"
   ]
  },
  {
   "cell_type": "code",
   "execution_count": 9,
   "metadata": {},
   "outputs": [
    {
     "data": {
      "text/plain": [
       "SubArray{Int64,2,Array{Int64,2},Tuple{UnitRange{Int64},UnitRange{Int64}},false}"
      ]
     },
     "execution_count": 9,
     "metadata": {},
     "output_type": "execute_result"
    }
   ],
   "source": [
    "typeof(V)"
   ]
  },
  {
   "cell_type": "markdown",
   "metadata": {},
   "source": [
    "Although this type looks complicated, it just contains the necessary information for the object to manipulate correctly the underlying data."
   ]
  },
  {
   "cell_type": "markdown",
   "metadata": {},
   "source": [
    "If we modify `V`, then `M` also gets modified, since it is the same data:"
   ]
  },
  {
   "cell_type": "code",
   "execution_count": 10,
   "metadata": {},
   "outputs": [
    {
     "data": {
      "text/plain": [
       "4"
      ]
     },
     "execution_count": 10,
     "metadata": {},
     "output_type": "execute_result"
    }
   ],
   "source": [
    "V[1, 1]"
   ]
  },
  {
   "cell_type": "code",
   "execution_count": 11,
   "metadata": {},
   "outputs": [
    {
     "data": {
      "text/plain": [
       "100"
      ]
     },
     "execution_count": 11,
     "metadata": {},
     "output_type": "execute_result"
    }
   ],
   "source": [
    "V[1, 1] = 100"
   ]
  },
  {
   "cell_type": "code",
   "execution_count": 12,
   "metadata": {},
   "outputs": [
    {
     "data": {
      "text/plain": [
       "2×2 SubArray{Int64,2,Array{Int64,2},Tuple{UnitRange{Int64},UnitRange{Int64}},false}:\n",
       " 100  5\n",
       "   7  8"
      ]
     },
     "execution_count": 12,
     "metadata": {},
     "output_type": "execute_result"
    }
   ],
   "source": [
    "V"
   ]
  },
  {
   "cell_type": "code",
   "execution_count": 13,
   "metadata": {},
   "outputs": [
    {
     "data": {
      "text/plain": [
       "3×3 Array{Int64,2}:\n",
       "   1  2  3\n",
       " 100  5  6\n",
       "   7  8  9"
      ]
     },
     "execution_count": 13,
     "metadata": {},
     "output_type": "execute_result"
    }
   ],
   "source": [
    "M"
   ]
  },
  {
   "cell_type": "markdown",
   "metadata": {},
   "source": [
    "We can also write"
   ]
  },
  {
   "cell_type": "code",
   "execution_count": 14,
   "metadata": {},
   "outputs": [
    {
     "data": {
      "text/plain": [
       "2×2 SubArray{Int64,2,Array{Int64,2},Tuple{UnitRange{Int64},UnitRange{Int64}},false}:\n",
       " 100  5\n",
       "   7  8"
      ]
     },
     "execution_count": 14,
     "metadata": {},
     "output_type": "execute_result"
    }
   ],
   "source": [
    "@view M[2:3, 1:2]"
   ]
  },
  {
   "cell_type": "markdown",
   "metadata": {},
   "source": [
    "for ease of use."
   ]
  },
  {
   "cell_type": "markdown",
   "metadata": {},
   "source": [
    "## In-place and vectorized operations: \"`.`\" (\"pointwise\")"
   ]
  },
  {
   "cell_type": "markdown",
   "metadata": {},
   "source": [
    "Suppose we have two matrices and wish to add one to the other:"
   ]
  },
  {
   "cell_type": "code",
   "execution_count": 15,
   "metadata": {
    "collapsed": true
   },
   "outputs": [],
   "source": [
    "A = rand(1000, 1000)\n",
    "B = rand(1000, 1000);"
   ]
  },
  {
   "cell_type": "code",
   "execution_count": 17,
   "metadata": {},
   "outputs": [
    {
     "data": {
      "text/plain": [
       "3×3 Array{Float64,2}:\n",
       " 0.0425233  0.0342273  0.203924\n",
       " 0.489621   0.894856   0.885921\n",
       " 0.524045   0.848284   0.516949"
      ]
     },
     "execution_count": 17,
     "metadata": {},
     "output_type": "execute_result"
    }
   ],
   "source": [
    "rand(3,3)"
   ]
  },
  {
   "cell_type": "markdown",
   "metadata": {},
   "source": [
    "Coming from other languages, we might expect to write `A += B`, and indeed this works:"
   ]
  },
  {
   "cell_type": "code",
   "execution_count": 16,
   "metadata": {},
   "outputs": [
    {
     "data": {
      "text/plain": [
       "1000×1000 Array{Float64,2}:\n",
       " 0.894917  1.82161   0.776603  1.14853   …  1.49906   1.53684   0.755709\n",
       " 0.491057  1.10481   0.949359  1.29527      1.49199   0.440834  0.471163\n",
       " 1.43416   1.21442   1.54994   1.55451      1.24499   0.383604  0.869122\n",
       " 0.983042  0.935295  1.06658   0.871522     1.32329   0.507601  1.26623 \n",
       " 0.642209  0.790821  1.32358   0.894536     0.745363  0.939386  1.30229 \n",
       " 1.18372   0.745812  0.72355   1.3018    …  1.35943   1.81162   0.411776\n",
       " 0.755475  1.41659   1.78185   1.35287      0.972928  1.07237   0.974105\n",
       " 1.3407    1.01308   1.20215   1.3648       0.950955  1.16851   1.25888 \n",
       " 1.08027   1.02354   0.717006  1.04484      0.750393  0.389389  0.382915\n",
       " 0.626611  1.04453   1.67384   0.529075     1.0948    0.59053   0.604993\n",
       " 1.14356   1.47736   0.705514  0.180355  …  0.757037  1.04743   1.24072 \n",
       " 1.01817   0.806034  0.775202  1.73442      1.59145   1.11337   1.15631 \n",
       " 0.989007  1.45311   1.31775   0.568221     1.35395   1.93406   1.41605 \n",
       " ⋮                                       ⋱                              \n",
       " 0.846421  0.997557  1.53931   1.1147       1.32325   0.744566  0.850047\n",
       " 1.17517   1.05975   0.96666   1.59244      1.34894   1.07807   0.986671\n",
       " 0.536592  1.25568   1.26935   0.425191  …  1.63376   0.359852  1.29945 \n",
       " 1.23677   0.394861  1.59304   0.652334     0.536492  1.18022   0.486133\n",
       " 1.74811   1.74077   0.839797  0.655115     1.58546   1.3202    0.776636\n",
       " 0.58939   0.671424  1.05569   0.917388     0.227982  0.820867  1.4054  \n",
       " 0.775231  1.49039   0.540228  0.813188     0.502557  1.62891   0.637723\n",
       " 1.39031   0.585959  1.11531   0.859355  …  0.384679  0.693046  1.10775 \n",
       " 1.52789   0.955776  0.883068  1.26654      1.02547   0.378461  0.701731\n",
       " 0.913053  1.57049   0.943782  1.56596      1.32633   1.08917   1.09146 \n",
       " 0.288349  1.27926   1.57121   0.904554     0.64367   1.23449   0.957753\n",
       " 1.10631   0.274925  1.43049   1.18097      1.12544   0.869096  0.363703"
      ]
     },
     "execution_count": 16,
     "metadata": {},
     "output_type": "execute_result"
    }
   ],
   "source": [
    "A += B"
   ]
  },
  {
   "cell_type": "markdown",
   "metadata": {},
   "source": [
    "This is just \"syntactic sugar\" (i.e. a cute way of writing) `A = A + B`."
   ]
  },
  {
   "cell_type": "markdown",
   "metadata": {},
   "source": [
    "However, it turns out that this does not do what you think it does, namely \"in-place addition\", in which each element of `A` is updated in place. Rather, it allocates a new temporary object for the result of `A + B`. We can see this:"
   ]
  },
  {
   "cell_type": "code",
   "execution_count": 18,
   "metadata": {},
   "outputs": [
    {
     "name": "stdout",
     "output_type": "stream",
     "text": [
      "  4.711 ms (2 allocations: 7.63 MiB)\n"
     ]
    }
   ],
   "source": [
    "using BenchmarkTools\n",
    "\n",
    "@btime $A += $B;"
   ]
  },
  {
   "cell_type": "markdown",
   "metadata": {},
   "source": [
    "Note the large amount of allocation here (1,000,000 $\\times$ 8 bytes)"
   ]
  },
  {
   "cell_type": "markdown",
   "metadata": {},
   "source": [
    "The in-place behaviour can be obtained using **pointwise operators**:"
   ]
  },
  {
   "cell_type": "code",
   "execution_count": 19,
   "metadata": {},
   "outputs": [
    {
     "data": {
      "text/plain": [
       "1000×1000 Array{Float64,2}:\n",
       " 1.48806   2.71811   1.29136   1.53546   …  2.45377   2.41903   1.14581 \n",
       " 0.553257  1.58231   1.26858   1.88117      2.24575   0.864168  0.643038\n",
       " 2.42571   1.66966   2.29287   2.20951      2.14804   0.704168  1.68605 \n",
       " 1.91233   1.56519   1.46322   1.53465      2.19278   0.898515  1.55234 \n",
       " 1.26931   1.36936   1.98765   1.61892      1.4698    1.08885   1.85518 \n",
       " 1.7296    1.1736    1.12588   2.22342   …  2.27577   2.76021   0.809113\n",
       " 1.00822   2.16754   2.76748   1.91038      1.68677   1.46932   1.33694 \n",
       " 2.3255    1.34683   1.58049   2.20968      1.22465   1.48771   1.58319 \n",
       " 1.33098   1.87357   0.939084  1.92244      1.04163   0.610938  0.699249\n",
       " 1.19329   1.607     2.40026   0.910108     1.33173   0.794208  1.03888 \n",
       " 1.88614   2.22666   1.31488   0.194805  …  1.40373   1.1713    1.90584 \n",
       " 1.52979   1.34197   1.47793   2.7146       2.33516   1.28797   1.39007 \n",
       " 1.50289   1.99745   2.036     0.869877     2.21248   2.91095   2.22387 \n",
       " ⋮                                       ⋱                              \n",
       " 1.23314   1.88383   2.53814   1.98874      1.99873   1.30726   1.39726 \n",
       " 2.11582   1.48972   1.74655   2.26961      2.18354   1.7563    1.04511 \n",
       " 0.614678  1.96014   2.06405   0.713948  …  2.47423   0.369707  1.92594 \n",
       " 2.00588   0.575536  2.21451   1.14676      0.750524  1.68498   0.559226\n",
       " 2.55452   2.54569   1.41868   0.957611     2.23493   1.97541   1.27244 \n",
       " 0.634662  1.30049   1.91864   1.76714      0.238177  1.03185   1.8752  \n",
       " 1.02093   2.38415   0.985724  0.926249     0.675116  2.53184   1.03406 \n",
       " 2.12891   1.01171   1.70219   1.00268   …  0.635947  1.18683   1.75915 \n",
       " 2.24091   1.13418   1.35371   1.9163       1.14863   0.748259  0.847374\n",
       " 1.68869   2.16386   1.76779   2.25994      1.87162   1.75345   1.91193 \n",
       " 0.292876  2.1147    2.15019   1.03719      0.880825  1.61978   1.51261 \n",
       " 1.47981   0.378828  2.0492    1.46587      1.3595    0.966633  0.650041"
      ]
     },
     "execution_count": 19,
     "metadata": {},
     "output_type": "execute_result"
    }
   ],
   "source": [
    "A .= A .+ B"
   ]
  },
  {
   "cell_type": "code",
   "execution_count": 20,
   "metadata": {},
   "outputs": [
    {
     "name": "stdout",
     "output_type": "stream",
     "text": [
      "  2.579 ms (4 allocations: 128 bytes)\n"
     ]
    },
    {
     "data": {
      "text/plain": [
       "1000×1000 Array{Float64,2}:\n",
       " 2130.29   3220.26   1848.76   1390.23    …  3428.91    3168.59    1401.22 \n",
       "  223.789  1715.31   1146.94   2104.65       2707.5     1520.21     617.503\n",
       " 3561.12   1635.52   2668.7    2353.03       3243.23    1151.21    2933.65 \n",
       " 3337.12   2262.27   1425.01   2381.52       3122.78    1403.89    1028.43 \n",
       " 2251.92   2077.74   2385.32   2601.45       2601.47     537.531   1986.18 \n",
       " 1960.86   1536.49   1445.09   3309.92    …  3291.04    3407.24    1426.85 \n",
       "  908.125  2697.3    3540.21   2002.8        2563.68    1426.13    1303.56 \n",
       " 3536.79   1199.18   1359.46   3034.46        983.535   1147.08    1165.52 \n",
       "  901.124  3052.64    797.977  3151.62       1046.28     795.75    1136.02 \n",
       " 2035.01   2020.31   2609.53   1368.43        851.656    731.794   1558.25 \n",
       " 2667.03   2691.45   2188.34     52.0548  …  2322.4      445.751   2389.05 \n",
       " 1837.73   1924.8    2523.56   3520.6        2671.51     627.908    840.353\n",
       " 1845.85   1955.62   2579.85   1083.51       3083.47    3508.97    2901.48 \n",
       "    ⋮                                     ⋱                                \n",
       " 1389.17   3182.73   3587.33   3138.92       2426.3     2020.82    1965.33 \n",
       " 3378.09   1544.67   2800.78   2432.66       2997.58    2435.91     210.779\n",
       "  280.868  2530.24   2854.25   1037.06    …  3018.91      35.7408  2250.41 \n",
       " 2762.34    649.02   2232.68   1775.65        768.914   1813.28     262.888\n",
       " 2896.73   2891.37   2079.05   1086.61       2333.19    2353.55    1780.69 \n",
       "  163.114  2259.01   3099.03   3051.53         36.8253   758.241   1687.99 \n",
       "  882.828  3210.08   1599.87    406.701       619.989   3243.13    1423.5  \n",
       " 2652.97   1529.03   2108.02    515.396   …   902.435   1773.37    2339.64 \n",
       " 2561.28    641.419  1690.5    2333.93        443.18    1327.95     523.559\n",
       " 2785.43   2131.8    2959.14   2492.93       1958.95    2385.87    2946.6  \n",
       "   16.541  3000.52   2080.11    477.085       852.029   1384.42    1992.88 \n",
       " 1341.95    373.287  2222.59   1023.97        841.394    351.026   1028.32 "
      ]
     },
     "execution_count": 20,
     "metadata": {},
     "output_type": "execute_result"
    }
   ],
   "source": [
    "@btime A .= A .+ B"
   ]
  },
  {
   "cell_type": "markdown",
   "metadata": {},
   "source": [
    "Furthermore, we can chain such operations together with no creation of temporaries:"
   ]
  },
  {
   "cell_type": "code",
   "execution_count": 46,
   "metadata": {},
   "outputs": [
    {
     "name": "stdout",
     "output_type": "stream",
     "text": [
      "  2.626 ms (6 allocations: 7.63 MiB)\n"
     ]
    },
    {
     "data": {
      "text/plain": [
       "1000×1000 Array{Float64,2}:\n",
       "  6871.03    7508.43   6151.07  10138.4    …   5878.45    4342.9   12620.3 \n",
       "  2263.17    5360.1   11577.1    2205.83       6958.22    9295.74  11218.5 \n",
       "   483.878   1856.49   3755.18  14813.2         115.145   2609.76  11516.7 \n",
       " 12125.8    14842.5    3490.5   15315.2        1769.31    5973.3    2211.09\n",
       "  9887.45   10989.5    9158.5   15452.5       12181.2    14525.2    6659.89\n",
       "  4005.47   10119.7    7320.63   2867.35   …   4612.68   10629.1    2402.8 \n",
       " 15877.0     7978.97  11259.8    5609.87       7807.92   12885.3   10213.0 \n",
       "  3712.99    5512.19   9497.4   11834.9        5358.9     8356.29   2570.53\n",
       "  4808.12   13984.4    2802.51  10297.9        7302.3    12307.5   11400.4 \n",
       "  8550.36    9887.78  11272.6    7755.13       2589.72    7357.38  13315.8 \n",
       " 11759.0     5040.06  13658.2    9208.91   …   1415.75    9477.93   6824.76\n",
       "  6539.19    5129.52   4796.1    2844.78      15438.9     5459.98  10899.8 \n",
       " 11661.3     8025.83  12628.0    2743.05       7688.21    3537.06  12018.3 \n",
       "     ⋮                                     ⋱                               \n",
       "  1106.47   15470.3    3031.61    402.599     10626.7     7440.7    6100.23\n",
       "  7767.79    3657.14  11380.5    4998.18       3760.89    7636.37  11771.3 \n",
       "  9542.27    3456.08  12703.7    2119.67   …  10647.8    13429.2    9560.11\n",
       "  6948.58    2784.56   5455.49   3626.64      16116.6    11139.4   11688.8 \n",
       " 14716.9    14898.9    1798.38   3948.06      11793.8    11835.0   10365.7 \n",
       " 14082.5    12158.9   10189.2   10738.9       10133.7     8790.72   4188.02\n",
       "  7361.62    6430.37   9345.51   5718.02      12580.7     9916.56   7173.24\n",
       " 10274.8    10737.2   12757.3    6275.07   …  12999.1     1966.33   1261.57\n",
       " 12584.0     6962.85  14061.5   11339.4        6769.08    1782.62   2151.44\n",
       " 11021.6    11192.8    5385.54   4746.39      10274.5     6732.53   2344.26\n",
       " 11228.7     5359.87  11204.4    3198.68      11777.5     9425.21   4045.69\n",
       " 15874.7    11702.4    5074.02  12084.7        8473.43    7120.01   3104.04"
      ]
     },
     "execution_count": 46,
     "metadata": {},
     "output_type": "execute_result"
    }
   ],
   "source": [
    "C = rand(1000, 1000)\n",
    "\n",
    "@btime A .+= B + C  # allocates"
   ]
  },
  {
   "cell_type": "code",
   "execution_count": 47,
   "metadata": {},
   "outputs": [
    {
     "name": "stdout",
     "output_type": "stream",
     "text": [
      "  1.128 ms (4 allocations: 160 bytes)\n"
     ]
    },
    {
     "data": {
      "text/plain": [
       "1000×1000 Array{Float64,2}:\n",
       " 14146.5   13674.5   15500.6   21106.7   …  11808.8    11325.8   20361.1 \n",
       "  8400.02   8328.81  20612.0    4522.03     10871.8    14623.4   20382.8 \n",
       "  1719.99   4333.43   8028.48  26482.2        238.767   4556.97  19861.2 \n",
       " 21694.6   26409.9    9644.93  27830.7       6651.68   14901.1    5488.46\n",
       " 17831.1   21956.4   17486.4   27811.0      22759.5    24967.1   15084.0 \n",
       "  9838.66  19514.7   11734.7   10462.1   …   9127.62   19148.9    4762.53\n",
       " 29448.8   14519.0   20407.8    9272.27     15940.1    24874.6   16150.0 \n",
       "  5748.72  10318.7   19741.1   22521.2      12381.5    14114.1    5887.41\n",
       " 13392.6   27275.9    9777.21  20438.6      11704.6    23703.1   20036.2 \n",
       " 14882.3   19368.3   21752.3   16320.5       8339.06   12431.3   21157.8 \n",
       " 19892.8   10699.7   26911.5   14695.3   …   2492.12   16109.2   12120.2 \n",
       " 10952.5   10349.7    8455.05   6170.75     27977.8    12389.6   19107.6 \n",
       " 22405.8   13025.1   24634.4    4520.95     14354.6     8298.81  24256.0 \n",
       "     ⋮                                   ⋱                               \n",
       "  1835.86  29574.9    5632.61   1219.27     18820.2    14322.6   10576.1 \n",
       " 13008.7   11510.0   18354.0   13767.1       7043.47   13577.5   19072.5 \n",
       " 15798.9    8512.33  24216.1    5892.89  …  22231.7    20830.2   17651.9 \n",
       " 12772.9    5421.51  10465.0    7585.66     29945.2    21946.2   22655.0 \n",
       " 25171.3   27234.2    6736.03   8394.34     20761.7    20674.9   18474.2 \n",
       " 23798.6   22154.6   16863.1   16556.0      18563.8    18863.8    8862.42\n",
       " 15957.8   11113.6   18801.4    9122.19     23584.0    15516.8   15867.2 \n",
       " 17980.1   19803.7   22847.1   15781.5   …  22675.1     5534.99   3139.46\n",
       " 24878.9   12181.7   26853.5   19987.5      15649.3     4227.59   5711.07\n",
       " 17338.4   17669.2    9984.19   8553.39     16611.9    13931.7    8905.21\n",
       " 19175.7    9721.73  18061.3    8623.52     23063.7    16616.6    7297.58\n",
       " 30347.7   19370.3   12450.8   18950.4      13357.9    13579.7    7089.79"
      ]
     },
     "execution_count": 47,
     "metadata": {},
     "output_type": "execute_result"
    }
   ],
   "source": [
    "@btime A .+= B .+ C  # does not allocate"
   ]
  },
  {
   "cell_type": "markdown",
   "metadata": {},
   "source": [
    "See [this blog post by Steven Johnson](https://julialang.org/blog/2017/01/moredots) for more details."
   ]
  },
  {
   "cell_type": "markdown",
   "metadata": {},
   "source": [
    "## Efficient small matrices and vectors"
   ]
  },
  {
   "cell_type": "markdown",
   "metadata": {},
   "source": [
    "For small matrices and vectors, the generic vector and matrix code is too slow, since the type does not contain the information on the number of elements contained in the array, so that generic loops are used.\n",
    "\n",
    "The `StaticArrays.jl` package fixes this problem by unrolling operations for small arrays."
   ]
  },
  {
   "cell_type": "code",
   "execution_count": 48,
   "metadata": {
    "collapsed": true
   },
   "outputs": [],
   "source": [
    "# Pkg.add(\"StaticArrays\")\n",
    "\n",
    "using StaticArrays, BenchmarkTools"
   ]
  },
  {
   "cell_type": "code",
   "execution_count": 25,
   "metadata": {},
   "outputs": [
    {
     "data": {
      "text/plain": [
       "bench (generic function with 1 method)"
      ]
     },
     "execution_count": 25,
     "metadata": {},
     "output_type": "execute_result"
    }
   ],
   "source": [
    "function bench()\n",
    "    x = SVector(1, 2)\n",
    "    y = [1, 2]\n",
    "    \n",
    "    @btime $x + $x\n",
    "    @btime $y + $y\n",
    "end"
   ]
  },
  {
   "cell_type": "code",
   "execution_count": 26,
   "metadata": {},
   "outputs": [
    {
     "name": "stdout",
     "output_type": "stream",
     "text": [
      "  1.380 ns (0 allocations: 0 bytes)\n",
      "  38.239 ns (1 allocation: 96 bytes)\n"
     ]
    },
    {
     "data": {
      "text/plain": [
       "2-element Array{Int64,1}:\n",
       " 2\n",
       " 4"
      ]
     },
     "execution_count": 26,
     "metadata": {},
     "output_type": "execute_result"
    }
   ],
   "source": [
    "bench()"
   ]
  },
  {
   "cell_type": "code",
   "execution_count": 28,
   "metadata": {},
   "outputs": [
    {
     "data": {
      "text/plain": [
       "CodeInfo(:(begin \n",
       "        nothing\n",
       "        nothing\n",
       "        return (StaticArrays.map)(StaticArrays.+, a, b)\n",
       "    end))"
      ]
     },
     "execution_count": 28,
     "metadata": {},
     "output_type": "execute_result"
    }
   ],
   "source": [
    "x = SVector(1, 2)\n",
    "@code_lowered x + x"
   ]
  },
  {
   "cell_type": "code",
   "execution_count": 29,
   "metadata": {},
   "outputs": [
    {
     "data": {
      "text/plain": [
       "CodeInfo(:(begin \n",
       "        SSAValue(4) = a\n",
       "        SSAValue(5) = b\n",
       "        $(Expr(:inbounds, false))\n",
       "        # meta: location /Users/dpsanders/.julia/v0.6/StaticArrays/src/mapreduce.jl map 10\n",
       "        SSAValue(2) = SSAValue(4)\n",
       "        SSAValue(3) = SSAValue(5)\n",
       "        # meta: location /Users/dpsanders/.julia/v0.6/StaticArrays/src/mapreduce.jl _map 14\n",
       "        # meta: location /Users/dpsanders/.julia/v0.6/StaticArrays/src/mapreduce.jl # line 23:\n",
       "        $(Expr(:inbounds, true))\n",
       "        #temp# = $(Expr(:new, SVector{2,Int64}, :((StaticArrays.tuple)((Base.add_int)((Base.getfield)((Core.getfield)(SSAValue(2), :data)::Tuple{Int64,Int64}, 1)::Int64, (Base.getfield)((Core.getfield)(SSAValue(3), :data)::Tuple{Int64,Int64}, 1)::Int64)::Int64, (Base.add_int)((Base.getfield)((Core.getfield)(SSAValue(2), :data)::Tuple{Int64,Int64}, 2)::Int64, (Base.getfield)((Core.getfield)(SSAValue(3), :data)::Tuple{Int64,Int64}, 2)::Int64)::Int64)::Tuple{Int64,Int64})))\n",
       "        goto 15\n",
       "        # meta: pop location\n",
       "        $(Expr(:inbounds, :pop))\n",
       "        15: \n",
       "        # meta: pop location\n",
       "        # meta: pop location\n",
       "        $(Expr(:inbounds, :pop))\n",
       "        return #temp#\n",
       "    end))=>SVector{2,Int64}"
      ]
     },
     "execution_count": 29,
     "metadata": {},
     "output_type": "execute_result"
    }
   ],
   "source": [
    "@code_typed x + x"
   ]
  },
  {
   "cell_type": "code",
   "execution_count": 30,
   "metadata": {},
   "outputs": [
    {
     "name": "stdout",
     "output_type": "stream",
     "text": [
      "\n",
      "define void @\"julia_+_61704\"(%SArray* noalias nocapture sret, %SArray* nocapture readonly dereferenceable(16), %SArray* nocapture readonly dereferenceable(16)) #0 !dbg !5 {\n",
      "top:\n",
      "  %3 = getelementptr inbounds %SArray, %SArray* %1, i64 0, i32 0, i64 0\n",
      "  %4 = getelementptr inbounds %SArray, %SArray* %2, i64 0, i32 0, i64 0\n",
      "  %5 = load i64, i64* %3, align 8\n",
      "  %6 = load i64, i64* %4, align 8\n",
      "  %7 = add i64 %6, %5\n",
      "  %8 = getelementptr inbounds %SArray, %SArray* %1, i64 0, i32 0, i64 1\n",
      "  %9 = getelementptr inbounds %SArray, %SArray* %2, i64 0, i32 0, i64 1\n",
      "  %10 = load i64, i64* %8, align 8\n",
      "  %11 = load i64, i64* %9, align 8\n",
      "  %12 = add i64 %11, %10\n",
      "  %\"#temp#.sroa.0.sroa.0.0.#temp#.sroa.0.0..sroa_cast1.sroa_idx\" = getelementptr inbounds %SArray, %SArray* %0, i64 0, i32 0, i64 0\n",
      "  store i64 %7, i64* %\"#temp#.sroa.0.sroa.0.0.#temp#.sroa.0.0..sroa_cast1.sroa_idx\", align 8\n",
      "  %\"#temp#.sroa.0.sroa.2.0.#temp#.sroa.0.0..sroa_cast1.sroa_idx7\" = getelementptr inbounds %SArray, %SArray* %0, i64 0, i32 0, i64 1\n",
      "  store i64 %12, i64* %\"#temp#.sroa.0.sroa.2.0.#temp#.sroa.0.0..sroa_cast1.sroa_idx7\", align 8\n",
      "  ret void\n",
      "}\n"
     ]
    }
   ],
   "source": [
    "@code_llvm x + x"
   ]
  },
  {
   "cell_type": "code",
   "execution_count": 31,
   "metadata": {},
   "outputs": [
    {
     "name": "stdout",
     "output_type": "stream",
     "text": [
      "\t.section\t__TEXT,__text,regular,pure_instructions\n",
      "Filename: linalg.jl\n",
      "\tpushq\t%rbp\n",
      "\tmovq\t%rsp, %rbp\n",
      "Source line: 23\n",
      "\tmovq\t(%rdx), %rax\n",
      "\tmovq\t8(%rdx), %rcx\n",
      "\taddq\t(%rsi), %rax\n",
      "\taddq\t8(%rsi), %rcx\n",
      "Source line: 10\n",
      "\tmovq\t%rax, (%rdi)\n",
      "\tmovq\t%rcx, 8(%rdi)\n",
      "\tmovq\t%rdi, %rax\n",
      "\tpopq\t%rbp\n",
      "\tretq\n",
      "\tnop\n"
     ]
    }
   ],
   "source": [
    "@code_native x + x"
   ]
  },
  {
   "cell_type": "code",
   "execution_count": 32,
   "metadata": {},
   "outputs": [
    {
     "name": "stdout",
     "output_type": "stream",
     "text": [
      "\t.section\t__TEXT,__text,regular,pure_instructions\n",
      "Filename: arraymath.jl\n",
      "\tpushq\t%rbp\n",
      "\tmovq\t%rsp, %rbp\n",
      "\tpushq\t%r15\n",
      "\tpushq\t%r14\n",
      "\tpushq\t%r12\n",
      "\tpushq\t%rbx\n",
      "\tsubq\t$64, %rsp\n",
      "\tmovq\t%rsi, %r12\n",
      "\tmovq\t%rdi, %r15\n",
      "\tmovabsq\t$jl_get_ptls_states_fast, %rax\n",
      "\tcallq\t*%rax\n",
      "\tmovq\t%rax, %r14\n",
      "\tmovq\t$0, -40(%rbp)\n",
      "\tmovq\t$0, -48(%rbp)\n",
      "\tmovq\t$4, -64(%rbp)\n",
      "\tmovq\t(%r14), %rax\n",
      "\tmovq\t%rax, -56(%rbp)\n",
      "\tleaq\t-64(%rbp), %rax\n",
      "\tmovq\t%rax, (%r14)\n",
      "Source line: 64\n",
      "\tmovq\t24(%r15), %rax\n",
      "Source line: 64\n",
      "\tmovq\t24(%r12), %rcx\n",
      "\txorl\t%ebx, %ebx\n",
      "Source line: 37\n",
      "\ttestq\t%rax, %rax\n",
      "\tcmovsq\t%rbx, %rax\n",
      "\tmovq\t%rax, -72(%rbp)\n",
      "\ttestq\t%rcx, %rcx\n",
      "\tcmovsq\t%rbx, %rcx\n",
      "\tmovq\t%rcx, -80(%rbp)\n",
      "\tmovabsq\t$promote_shape, %rax\n",
      "\tleaq\t-72(%rbp), %rdi\n",
      "\tleaq\t-80(%rbp), %rsi\n",
      "\tcallq\t*%rax\n",
      "Source line: 64\n",
      "\tmovq\t24(%r15), %rax\n",
      "Source line: 64\n",
      "\tmovq\t24(%r12), %rcx\n",
      "Source line: 63\n",
      "\ttestq\t%rax, %rax\n",
      "\tcmovsq\t%rbx, %rax\n",
      "\tmovq\t%rax, -88(%rbp)\n",
      "\ttestq\t%rcx, %rcx\n",
      "\tcmovsq\t%rbx, %rcx\n",
      "\tmovq\t%rcx, -96(%rbp)\n",
      "\tmovabsq\t$_bcs1, %rax\n",
      "\tleaq\t-88(%rbp), %rdi\n",
      "\tleaq\t-96(%rbp), %rsi\n",
      "\tcallq\t*%rax\n",
      "\tmovq\t%rax, %rbx\n",
      "Source line: 266\n",
      "\tmovabsq\t$jl_alloc_array_1d, %rax\n",
      "\tleaq\t95008608(%rax), %rdi\n",
      "\tmovq\t%rbx, %rsi\n",
      "\tcallq\t*%rax\n",
      "\tmovq\t%rax, -48(%rbp)\n",
      "Source line: 68\n",
      "\ttestq\t%rbx, %rbx\n",
      "\tjle\tL822\n",
      "Source line: 151\n",
      "\tmovq\t(%r12), %r10\n",
      "Source line: 64\n",
      "\tmovq\t24(%r12), %rcx\n",
      "\txorl\t%edx, %edx\n",
      "Source line: 111\n",
      "\ttestq\t%rcx, %rcx\n",
      "\tcmovsq\t%rdx, %rcx\n",
      "Source line: 151\n",
      "\tmovq\t(%r15), %r11\n",
      "Source line: 64\n",
      "\tmovq\t24(%r15), %rsi\n",
      "Source line: 111\n",
      "\ttestq\t%rsi, %rsi\n",
      "\tcmovsq\t%rdx, %rsi\n",
      "Source line: 126\n",
      "\tcmpq\t%rsi, %rbx\n",
      "Source line: 247\n",
      "\tmovq\t(%rax), %r8\n",
      "\tjne\tL415\n",
      "\tcmpq\t%rcx, %rbx\n",
      "\tjne\tL571\n",
      "\txorl\t%esi, %esi\n",
      "Source line: 151\n",
      "\tcmpq\t$4, %rbx\n",
      "\tjb\tL369\n",
      "\txorl\t%esi, %esi\n",
      "\tmovq\t%rbx, %r9\n",
      "\tandq\t$-4, %r9\n",
      "\tje\tL369\n",
      "\tleaq\t16(%r11), %rsi\n",
      "\tleaq\t16(%r10), %rdi\n",
      "\tleaq\t16(%r8), %rcx\n",
      "Source line: 74\n",
      "\tmovq\t%r9, %rdx\n",
      "\tnop\n",
      "Source line: 151\n",
      "L304:\n",
      "\tmovdqu\t-16(%rsi), %xmm0\n",
      "\tmovdqu\t(%rsi), %xmm1\n",
      "\tmovdqu\t-16(%rdi), %xmm2\n",
      "\tmovdqu\t(%rdi), %xmm3\n",
      "Source line: 153\n",
      "\tpaddq\t%xmm0, %xmm2\n",
      "\tpaddq\t%xmm1, %xmm3\n",
      "Source line: 247\n",
      "\tmovdqu\t%xmm2, -16(%rcx)\n",
      "\tmovdqu\t%xmm3, (%rcx)\n",
      "Source line: 151\n",
      "\taddq\t$32, %rsi\n",
      "\taddq\t$32, %rdi\n",
      "\taddq\t$32, %rcx\n",
      "\taddq\t$-4, %rdx\n",
      "\tjne\tL304\n",
      "\tcmpq\t%r9, %rbx\n",
      "\tmovq\t%r9, %rsi\n",
      "\tje\tL818\n",
      "L369:\n",
      "\tleaq\t(%r10,%rsi,8), %rcx\n",
      "\tsubq\t%rsi, %rbx\n",
      "\tleaq\t(%r8,%rsi,8), %rdx\n",
      "\tleaq\t(%r11,%rsi,8), %rsi\n",
      "L384:\n",
      "\tmovq\t(%rcx), %rdi\n",
      "Source line: 153\n",
      "\taddq\t(%rsi), %rdi\n",
      "Source line: 247\n",
      "\tmovq\t%rdi, (%rdx)\n",
      "Source line: 71\n",
      "\taddq\t$8, %rcx\n",
      "\taddq\t$8, %rdx\n",
      "\taddq\t$8, %rsi\n",
      "\tdecq\t%rbx\n",
      "\tjne\tL384\n",
      "\tjmp\tL818\n",
      "L415:\n",
      "\txorl\t%edx, %edx\n",
      "\tcmpq\t%rcx, %rbx\n",
      "\tjne\tL712\n",
      "Source line: 151\n",
      "\tcmpq\t$4, %rbx\n",
      "\tjb\tL526\n",
      "\txorl\t%edx, %edx\n",
      "\tmovq\t%rbx, %rdi\n",
      "\tandq\t$-4, %rdi\n",
      "\tje\tL526\n",
      "\tleaq\t16(%r10), %rcx\n",
      "\tleaq\t16(%r8), %rdx\n",
      "Source line: 74\n",
      "\tmovq\t%rdi, %rsi\n",
      "\tnopw\t%cs:(%rax,%rax)\n",
      "Source line: 151\n",
      "L464:\n",
      "\tmovq\t(%r11), %xmm0           ## xmm0 = mem[0],zero\n",
      "\tpshufd\t$68, %xmm0, %xmm0       ## xmm0 = xmm0[0,1,0,1]\n",
      "\tmovdqu\t-16(%rcx), %xmm1\n",
      "\tmovdqu\t(%rcx), %xmm2\n",
      "Source line: 153\n",
      "\tpaddq\t%xmm0, %xmm1\n",
      "\tpaddq\t%xmm0, %xmm2\n",
      "Source line: 247\n",
      "\tmovdqu\t%xmm1, -16(%rdx)\n",
      "\tmovdqu\t%xmm2, (%rdx)\n",
      "Source line: 151\n",
      "\taddq\t$32, %rcx\n",
      "\taddq\t$32, %rdx\n",
      "\taddq\t$-4, %rsi\n",
      "\tjne\tL464\n",
      "\tcmpq\t%rdi, %rbx\n",
      "\tmovq\t%rdi, %rdx\n",
      "\tje\tL818\n",
      "L526:\n",
      "\tleaq\t(%r10,%rdx,8), %rcx\n",
      "\tsubq\t%rdx, %rbx\n",
      "\tleaq\t(%r8,%rdx,8), %rdx\n",
      "\tnopl\t(%rax)\n",
      "L544:\n",
      "\tmovq\t(%rcx), %rsi\n",
      "Source line: 153\n",
      "\taddq\t(%r11), %rsi\n",
      "Source line: 247\n",
      "\tmovq\t%rsi, (%rdx)\n",
      "Source line: 71\n",
      "\taddq\t$8, %rcx\n",
      "\taddq\t$8, %rdx\n",
      "\tdecq\t%rbx\n",
      "\tjne\tL544\n",
      "\tjmp\tL818\n",
      "L571:\n",
      "\txorl\t%edx, %edx\n",
      "Source line: 151\n",
      "\tcmpq\t$4, %rbx\n",
      "\tjb\tL670\n",
      "\txorl\t%edx, %edx\n",
      "\tmovq\t%rbx, %rdi\n",
      "\tandq\t$-4, %rdi\n",
      "\tje\tL670\n",
      "\tleaq\t16(%r11), %rcx\n",
      "\tleaq\t16(%r8), %rdx\n",
      "Source line: 74\n",
      "\tmovq\t%rdi, %rsi\n",
      "\tnopl\t(%rax)\n",
      "Source line: 151\n",
      "L608:\n",
      "\tmovdqu\t-16(%rcx), %xmm0\n",
      "\tmovdqu\t(%rcx), %xmm1\n",
      "\tmovq\t(%r10), %xmm2           ## xmm2 = mem[0],zero\n",
      "\tpshufd\t$68, %xmm2, %xmm2       ## xmm2 = xmm2[0,1,0,1]\n",
      "Source line: 153\n",
      "\tpaddq\t%xmm2, %xmm0\n",
      "\tpaddq\t%xmm2, %xmm1\n",
      "Source line: 247\n",
      "\tmovdqu\t%xmm0, -16(%rdx)\n",
      "\tmovdqu\t%xmm1, (%rdx)\n",
      "Source line: 151\n",
      "\taddq\t$32, %rcx\n",
      "\taddq\t$32, %rdx\n",
      "\taddq\t$-4, %rsi\n",
      "\tjne\tL608\n",
      "\tcmpq\t%rdi, %rbx\n",
      "\tmovq\t%rdi, %rdx\n",
      "\tje\tL818\n",
      "L670:\n",
      "\tleaq\t(%r11,%rdx,8), %rcx\n",
      "\tsubq\t%rdx, %rbx\n",
      "\tleaq\t(%r8,%rdx,8), %rdx\n",
      "\tnopl\t(%rax)\n",
      "L688:\n",
      "\tmovq\t(%r10), %rsi\n",
      "Source line: 153\n",
      "\taddq\t(%rcx), %rsi\n",
      "Source line: 247\n",
      "\tmovq\t%rsi, (%rdx)\n",
      "Source line: 71\n",
      "\taddq\t$8, %rcx\n",
      "\taddq\t$8, %rdx\n",
      "\tdecq\t%rbx\n",
      "\tjne\tL688\n",
      "\tjmp\tL818\n",
      "Source line: 151\n",
      "L712:\n",
      "\tcmpq\t$4, %rbx\n",
      "\tjb\tL787\n",
      "\txorl\t%edx, %edx\n",
      "\tmovq\t%rbx, %rcx\n",
      "\tandq\t$-4, %rcx\n",
      "\tje\tL787\n",
      "\tleaq\t16(%r8), %rdx\n",
      "Source line: 74\n",
      "\tmovq\t%rcx, %rsi\n",
      "Source line: 151\n",
      "L736:\n",
      "\tmovq\t(%r11), %xmm0           ## xmm0 = mem[0],zero\n",
      "\tpshufd\t$68, %xmm0, %xmm0       ## xmm0 = xmm0[0,1,0,1]\n",
      "\tmovq\t(%r10), %xmm1           ## xmm1 = mem[0],zero\n",
      "\tpshufd\t$68, %xmm1, %xmm1       ## xmm1 = xmm1[0,1,0,1]\n",
      "Source line: 153\n",
      "\tpaddq\t%xmm0, %xmm1\n",
      "Source line: 247\n",
      "\tmovdqu\t%xmm1, -16(%rdx)\n",
      "\tmovdqu\t%xmm1, (%rdx)\n",
      "Source line: 151\n",
      "\taddq\t$32, %rdx\n",
      "\taddq\t$-4, %rsi\n",
      "\tjne\tL736\n",
      "\tcmpq\t%rcx, %rbx\n",
      "\tmovq\t%rcx, %rdx\n",
      "\tje\tL818\n",
      "L787:\n",
      "\tsubq\t%rdx, %rbx\n",
      "\tleaq\t(%r8,%rdx,8), %rcx\n",
      "\tnopw\t(%rax,%rax)\n",
      "L800:\n",
      "\tmovq\t(%r10), %rdx\n",
      "Source line: 153\n",
      "\taddq\t(%r11), %rdx\n",
      "Source line: 247\n",
      "\tmovq\t%rdx, (%rcx)\n",
      "Source line: 71\n",
      "\taddq\t$8, %rcx\n",
      "\tdecq\t%rbx\n",
      "\tjne\tL800\n",
      "Source line: 247\n",
      "L818:\n",
      "\tmovq\t%rax, -40(%rbp)\n",
      "Source line: 38\n",
      "L822:\n",
      "\tmovq\t-56(%rbp), %rcx\n",
      "\tmovq\t%rcx, (%r14)\n",
      "\taddq\t$64, %rsp\n",
      "\tpopq\t%rbx\n",
      "\tpopq\t%r12\n",
      "\tpopq\t%r14\n",
      "\tpopq\t%r15\n",
      "\tpopq\t%rbp\n",
      "\tretq\n",
      "\tnopw\t(%rax,%rax)\n"
     ]
    }
   ],
   "source": [
    "y = [1, 2]\n",
    "@code_native y + y"
   ]
  }
 ],
 "metadata": {
  "hide_input": false,
  "kernelspec": {
   "display_name": "Julia 0.6.0",
   "language": "julia",
   "name": "julia-0.6"
  },
  "language_info": {
   "file_extension": ".jl",
   "mimetype": "application/julia",
   "name": "julia",
   "version": "0.6.0"
  },
  "latex_envs": {
   "bibliofile": "biblio.bib",
   "cite_by": "apalike",
   "current_citInitial": 1,
   "eqLabelWithNumbers": true,
   "eqNumInitial": 0
  },
  "toc": {
   "colors": {
    "hover_highlight": "#DAA520",
    "running_highlight": "#FF0000",
    "selected_highlight": "#FFD700"
   },
   "moveMenuLeft": true,
   "nav_menu": {
    "height": "85px",
    "width": "252px"
   },
   "navigate_menu": true,
   "number_sections": true,
   "sideBar": true,
   "threshold": "2",
   "toc_cell": false,
   "toc_section_display": "block",
   "toc_window_display": false
  }
 },
 "nbformat": 4,
 "nbformat_minor": 2
}
