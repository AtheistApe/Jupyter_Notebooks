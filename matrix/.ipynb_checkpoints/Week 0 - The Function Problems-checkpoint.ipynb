{
 "cells": [
  {
   "cell_type": "code",
   "execution_count": 1,
   "metadata": {
    "collapsed": true
   },
   "outputs": [],
   "source": [
    "# Problem 1\n",
    "\n",
    "def tuple_sum(A,B):\n",
    "    return [(A[x][0] + B[x][0], A[x][1] + B[x][1])\n",
    "            for x in range(len(A))]"
   ]
  },
  {
   "cell_type": "code",
   "execution_count": 4,
   "metadata": {
    "collapsed": false
   },
   "outputs": [
    {
     "data": {
      "text/plain": [
       "[(3, 8), (45, 65), (175, 210)]"
      ]
     },
     "execution_count": 4,
     "metadata": {},
     "output_type": "execute_result"
    }
   ],
   "source": [
    "tuple_sum([(2,3),(30,40),(75,10)], [(1,5),(15,25),(100,200)])"
   ]
  },
  {
   "cell_type": "code",
   "execution_count": 25,
   "metadata": {
    "collapsed": false
   },
   "outputs": [],
   "source": [
    "# Problem 2\n",
    "\n",
    "def inv_dict(d):\n",
    "    return {d[k]: k for k in d}"
   ]
  },
  {
   "cell_type": "code",
   "execution_count": 26,
   "metadata": {
    "collapsed": false
   },
   "outputs": [
    {
     "data": {
      "text/plain": [
       "{'au revoir': 'goodbye', 'merci': 'thank you', 'un': 'one'}"
      ]
     },
     "execution_count": 26,
     "metadata": {},
     "output_type": "execute_result"
    }
   ],
   "source": [
    "dict = {'goodbye':'au revoir', 'thank you':'merci', 'one': 'un'}\n",
    "inv_dict(dict)"
   ]
  },
  {
   "cell_type": "code",
   "execution_count": 29,
   "metadata": {
    "collapsed": true
   },
   "outputs": [],
   "source": [
    "# Problem 3\n",
    "\n",
    "def row(p,n):\n",
    "    return [p + x for x in range(n)]\n",
    "\n",
    "[row(i,20) for i in range(15)]\n",
    "\n",
    "[[i + x for x in range(20)] for i in range(15)]"
   ]
  },
  {
   "cell_type": "code",
   "execution_count": 30,
   "metadata": {
    "collapsed": false
   },
   "outputs": [
    {
     "data": {
      "text/plain": [
       "[10, 11, 12, 13]"
      ]
     },
     "execution_count": 30,
     "metadata": {},
     "output_type": "execute_result"
    }
   ],
   "source": [
    "row(10,4)"
   ]
  },
  {
   "cell_type": "code",
   "execution_count": 31,
   "metadata": {
    "collapsed": false
   },
   "outputs": [
    {
     "data": {
      "text/plain": [
       "[17, 18, 19, 20, 21, 22, 23, 24, 25]"
      ]
     },
     "execution_count": 31,
     "metadata": {},
     "output_type": "execute_result"
    }
   ],
   "source": [
    "row(17,9)"
   ]
  },
  {
   "cell_type": "code",
   "execution_count": 44,
   "metadata": {
    "collapsed": false
   },
   "outputs": [
    {
     "name": "stdout",
     "output_type": "stream",
     "text": [
      "{1: 2, 2: 3, 3: 4, 5: 6, 6: 7}\n",
      "0.7 0.30000000000000004\n"
     ]
    }
   ],
   "source": [
    "# Problem 4\n",
    "\n",
    "f = {x : x+1 for x in [1,2,3,5,6]}\n",
    "print(f)\n",
    "\n",
    "prx = {1:0.5, 2:0.2, 3:0.1, 5:0.1, 6:0.1}\n",
    "\n",
    "pr_even = sum([prx[k] for k in f if f[k]%2 == 0])\n",
    "pr_odd = sum([prx[k] for k in f if f[k]%2 == 1])\n",
    "\n",
    "print(pr_even, pr_odd)"
   ]
  },
  {
   "cell_type": "code",
   "execution_count": 49,
   "metadata": {
    "collapsed": false
   },
   "outputs": [
    {
     "name": "stdout",
     "output_type": "stream",
     "text": [
      "{1: 1, 2: 2, 3: 0, 4: 1, 5: 2, 6: 0, 7: 1}\n",
      "0.4 0.6\n"
     ]
    }
   ],
   "source": [
    "# Problem 5\n",
    "\n",
    "g = {x : x%3 for x in range(1,8)}\n",
    "print(g)\n",
    "\n",
    "prx = {1:0.2, 2:0.2, 3:0.2, 4:0.1, 5:0.1, 6:0.1, 7:0.1}\n",
    "\n",
    "pr_1 = sum([prx[k] for k in g if g[k]==1])\n",
    "pr_0_or_2 = sum([prx[k] for k in g if (g[k]==0 or g[k]==2)])\n",
    "\n",
    "print(pr_1, pr_0_or_2)"
   ]
  },
  {
   "cell_type": "code",
   "execution_count": null,
   "metadata": {
    "collapsed": true
   },
   "outputs": [],
   "source": []
  }
 ],
 "metadata": {
  "kernelspec": {
   "display_name": "Python 3",
   "language": "python",
   "name": "python3"
  },
  "language_info": {
   "codemirror_mode": {
    "name": "ipython",
    "version": 3
   },
   "file_extension": ".py",
   "mimetype": "text/x-python",
   "name": "python",
   "nbconvert_exporter": "python",
   "pygments_lexer": "ipython3",
   "version": "3.5.1"
  }
 },
 "nbformat": 4,
 "nbformat_minor": 0
}
