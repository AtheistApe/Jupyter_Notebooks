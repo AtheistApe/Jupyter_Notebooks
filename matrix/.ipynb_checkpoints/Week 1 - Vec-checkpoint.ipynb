{
 "cells": [
  {
   "cell_type": "code",
   "execution_count": 6,
   "metadata": {
    "collapsed": false
   },
   "outputs": [],
   "source": [
    "class Vec:\n",
    "    '''\n",
    "    A vector has two fields:\n",
    "    D - the domain (a set)\n",
    "    f - a dictionary mapping (some) domain elements to field elements\n",
    "        elements of D not appearing in f are implicitly mapped to zero\n",
    "    '''\n",
    "    def __init__(self, labels, function):\n",
    "        self.D = labels\n",
    "        self.f = function"
   ]
  },
  {
   "cell_type": "code",
   "execution_count": 13,
   "metadata": {
    "collapsed": false
   },
   "outputs": [],
   "source": [
    "def getitem(v,k):\n",
    "    if k in v.f:\n",
    "        return v.f[k]\n",
    "    else:\n",
    "        return 0"
   ]
  },
  {
   "cell_type": "code",
   "execution_count": 14,
   "metadata": {
    "collapsed": true
   },
   "outputs": [],
   "source": [
    "v = Vec({'a','b','c','d'}, {'a':2, 'c':1, 'd':3})"
   ]
  },
  {
   "cell_type": "code",
   "execution_count": 17,
   "metadata": {
    "collapsed": false
   },
   "outputs": [
    {
     "data": {
      "text/plain": [
       "0"
      ]
     },
     "execution_count": 17,
     "metadata": {},
     "output_type": "execute_result"
    }
   ],
   "source": [
    "getitem(v, 'b')"
   ]
  },
  {
   "cell_type": "code",
   "execution_count": 18,
   "metadata": {
    "collapsed": true
   },
   "outputs": [],
   "source": [
    "def setitem(v,k,val):\n",
    "    v.f[k] = val"
   ]
  },
  {
   "cell_type": "code",
   "execution_count": 19,
   "metadata": {
    "collapsed": true
   },
   "outputs": [],
   "source": [
    "setitem(v, 'b', 10)"
   ]
  },
  {
   "cell_type": "code",
   "execution_count": 20,
   "metadata": {
    "collapsed": false
   },
   "outputs": [
    {
     "data": {
      "text/plain": [
       "{'a': 2, 'b': 10, 'c': 1, 'd': 3}"
      ]
     },
     "execution_count": 20,
     "metadata": {},
     "output_type": "execute_result"
    }
   ],
   "source": [
    "v.f"
   ]
  },
  {
   "cell_type": "code",
   "execution_count": 58,
   "metadata": {
    "collapsed": true
   },
   "outputs": [],
   "source": [
    "'''This version doesn't satisfy the sparse representation of our vectors'''\n",
    "\n",
    "def equal(u,v):\n",
    "    assert u.D == v.D\n",
    "    \n",
    "    if u.f.keys() == v.f.keys():\n",
    "        return all([u.f[x] == v.f[x] for x in u.f])\n",
    "    else:\n",
    "        return False\n",
    "        "
   ]
  },
  {
   "cell_type": "code",
   "execution_count": 185,
   "metadata": {
    "collapsed": false
   },
   "outputs": [],
   "source": [
    "u = Vec({'a','b','c'}, {'b':2, 'c':4})\n",
    "v = Vec({'a','c','b'}, {'b':2, 'a':1, 'c':4})"
   ]
  },
  {
   "cell_type": "code",
   "execution_count": 186,
   "metadata": {
    "collapsed": false
   },
   "outputs": [
    {
     "data": {
      "text/plain": [
       "False"
      ]
     },
     "execution_count": 186,
     "metadata": {},
     "output_type": "execute_result"
    }
   ],
   "source": [
    "equal(u,v)"
   ]
  },
  {
   "cell_type": "code",
   "execution_count": 181,
   "metadata": {
    "collapsed": true
   },
   "outputs": [],
   "source": [
    "# This is the better version of equal\n",
    "\n",
    "def equal(u,v):\n",
    "    assert u.D == v.D\n",
    "    \n",
    "    eql = True\n",
    "    \n",
    "    for x in u.D:\n",
    "        eql = eql & (getitem(u,x) == getitem(v,x))\n",
    "    \n",
    "    return eql"
   ]
  },
  {
   "cell_type": "code",
   "execution_count": 232,
   "metadata": {
    "collapsed": false
   },
   "outputs": [],
   "source": [
    "# This version retains the sparcity of the vector.\n",
    "\n",
    "def add(u,v):\n",
    "    assert u.D == v.D\n",
    "    \n",
    "    sum = {}\n",
    "    \n",
    "    sum.update({x: u.f[x] + v.f[x] for \n",
    "                x in u.f if x in u.f.keys() & v.f.keys()})\n",
    "    \n",
    "    sum.update({x: u.f[x] for x in u.f if x not in v.f})\n",
    "    sum.update({x: v.f[x] for x in v.f if x not in u.f})\n",
    "               \n",
    "    return Vec(u.D,sum)\n",
    "    "
   ]
  },
  {
   "cell_type": "code",
   "execution_count": 234,
   "metadata": {
    "collapsed": false
   },
   "outputs": [],
   "source": [
    "# This version pads missing keys with zeros not retaining the sparcity of the vector. It is, however less complicated.\n",
    "\n",
    "def add(u,v):\n",
    "    assert u.D == v.D\n",
    "    \n",
    "    return Vec(u.D, {x: getitem(u,x) + getitem(v,x)\n",
    "                    for x in u.D})"
   ]
  },
  {
   "cell_type": "code",
   "execution_count": 226,
   "metadata": {
    "collapsed": false,
    "scrolled": true
   },
   "outputs": [],
   "source": [
    "a = Vec({'a','e','i','o','u'}, {'a':0, 'e':1, 'i':2})\n",
    "b = Vec({'a','e','i','o','u'}, {'o':4, 'u':7})\n",
    "c = Vec({'a','e','i','o','u'}, {'a':0,'e':1,'i':2,'o':4,'u':7})"
   ]
  },
  {
   "cell_type": "code",
   "execution_count": 227,
   "metadata": {
    "collapsed": false
   },
   "outputs": [
    {
     "data": {
      "text/plain": [
       "True"
      ]
     },
     "execution_count": 227,
     "metadata": {},
     "output_type": "execute_result"
    }
   ],
   "source": [
    "equal(add(a,b), c)"
   ]
  },
  {
   "cell_type": "code",
   "execution_count": 230,
   "metadata": {
    "collapsed": false
   },
   "outputs": [
    {
     "data": {
      "text/plain": [
       "{'a': 0, 'e': 1, 'i': 2, 'o': 4, 'u': 7}"
      ]
     },
     "execution_count": 230,
     "metadata": {},
     "output_type": "execute_result"
    }
   ],
   "source": [
    "add(a,b).f"
   ]
  },
  {
   "cell_type": "code",
   "execution_count": 228,
   "metadata": {
    "collapsed": true
   },
   "outputs": [],
   "source": [
    "d = Vec({'x','y','z'}, {'x':2, 'y':1})\n",
    "e = Vec({'x','y','z'}, {'z':4, 'y':-1})\n",
    "f = Vec({'x','y','z'}, {'x':2, 'y':0, 'z':4})"
   ]
  },
  {
   "cell_type": "code",
   "execution_count": 233,
   "metadata": {
    "collapsed": false
   },
   "outputs": [
    {
     "data": {
      "text/plain": [
       "{'a': 7}"
      ]
     },
     "execution_count": 233,
     "metadata": {},
     "output_type": "execute_result"
    }
   ],
   "source": [
    "g = Vec({'a','b','c','d'}, {'a':2})\n",
    "h = Vec({'a','b','c','d'}, {'a':5})\n",
    "\n",
    "add(g,h).f"
   ]
  },
  {
   "cell_type": "code",
   "execution_count": 229,
   "metadata": {
    "collapsed": false
   },
   "outputs": [
    {
     "data": {
      "text/plain": [
       "True"
      ]
     },
     "execution_count": 229,
     "metadata": {},
     "output_type": "execute_result"
    }
   ],
   "source": [
    "equal(add(d,e), f)"
   ]
  },
  {
   "cell_type": "code",
   "execution_count": 156,
   "metadata": {
    "collapsed": false
   },
   "outputs": [
    {
     "data": {
      "text/plain": [
       "{'o': 4, 'u': 7}"
      ]
     },
     "execution_count": 156,
     "metadata": {},
     "output_type": "execute_result"
    }
   ],
   "source": [
    "add(b, Vec({'a','e','i','o','u'}, {})).f"
   ]
  },
  {
   "cell_type": "code",
   "execution_count": 187,
   "metadata": {
    "collapsed": true
   },
   "outputs": [],
   "source": [
    "def dot(u,v):\n",
    "    return sum([getitem(u,k) * getitem(v,k) for\n",
    "               k in u.D])"
   ]
  },
  {
   "cell_type": "code",
   "execution_count": 188,
   "metadata": {
    "collapsed": false
   },
   "outputs": [],
   "source": [
    "v1 = Vec({1, 2}, {1:3, 2:6})\n",
    "v2 = Vec({1, 2}, {1:2, 2:1})"
   ]
  },
  {
   "cell_type": "code",
   "execution_count": 189,
   "metadata": {
    "collapsed": false
   },
   "outputs": [
    {
     "data": {
      "text/plain": [
       "12"
      ]
     },
     "execution_count": 189,
     "metadata": {},
     "output_type": "execute_result"
    }
   ],
   "source": [
    "dot(v1,v2)"
   ]
  },
  {
   "cell_type": "code",
   "execution_count": 194,
   "metadata": {
    "collapsed": false
   },
   "outputs": [],
   "source": [
    "# This version pads sparse vectors with zeros for missing keys.\n",
    "\n",
    "def scalar_mul(v, alpha):\n",
    "    return Vec(v.D, {x: alpha*getitem(v,x) for x in v.D})"
   ]
  },
  {
   "cell_type": "code",
   "execution_count": 215,
   "metadata": {
    "collapsed": true
   },
   "outputs": [],
   "source": [
    "# This version keeps sparce vectors sparse\n",
    "\n",
    "def scalar_mul(v, alpha):\n",
    "    return Vec(v.D, {x: alpha * v.f[x] for x in v.f})"
   ]
  },
  {
   "cell_type": "code",
   "execution_count": 216,
   "metadata": {
    "collapsed": false
   },
   "outputs": [],
   "source": [
    "zero = Vec({'x','y','z','w'}, {})\n",
    "u = Vec({'x','y','z','w'}, {'x':1, 'y':2, 'z':3, 'w':4})"
   ]
  },
  {
   "cell_type": "code",
   "execution_count": 208,
   "metadata": {
    "collapsed": false
   },
   "outputs": [
    {
     "data": {
      "text/plain": [
       "True"
      ]
     },
     "execution_count": 208,
     "metadata": {},
     "output_type": "execute_result"
    }
   ],
   "source": [
    "equal(scalar_mul(u, 0), zero)"
   ]
  },
  {
   "cell_type": "code",
   "execution_count": 209,
   "metadata": {
    "collapsed": false
   },
   "outputs": [
    {
     "data": {
      "text/plain": [
       "True"
      ]
     },
     "execution_count": 209,
     "metadata": {},
     "output_type": "execute_result"
    }
   ],
   "source": [
    "equal(scalar_mul(u, 1), u)"
   ]
  },
  {
   "cell_type": "code",
   "execution_count": 217,
   "metadata": {
    "collapsed": false
   },
   "outputs": [],
   "source": [
    "prod = scalar_mul(Vec({'a','e','i','o','u'}, {'a':20, 'o':-12, 'e': 9}), 3)"
   ]
  },
  {
   "cell_type": "code",
   "execution_count": 223,
   "metadata": {
    "collapsed": false
   },
   "outputs": [
    {
     "data": {
      "text/plain": [
       "0"
      ]
     },
     "execution_count": 223,
     "metadata": {},
     "output_type": "execute_result"
    }
   ],
   "source": [
    "getitem(prod, 'i')"
   ]
  },
  {
   "cell_type": "code",
   "execution_count": 235,
   "metadata": {
    "collapsed": true
   },
   "outputs": [],
   "source": [
    "def neg(v):\n",
    "    return scalar_mul(v, -1)"
   ]
  },
  {
   "cell_type": "code",
   "execution_count": 236,
   "metadata": {
    "collapsed": false
   },
   "outputs": [
    {
     "data": {
      "text/plain": [
       "{'w': 4, 'x': 1, 'y': 2, 'z': 3}"
      ]
     },
     "execution_count": 236,
     "metadata": {},
     "output_type": "execute_result"
    }
   ],
   "source": [
    "u.f"
   ]
  },
  {
   "cell_type": "code",
   "execution_count": 237,
   "metadata": {
    "collapsed": false
   },
   "outputs": [
    {
     "data": {
      "text/plain": [
       "{'w': -4, 'x': -1, 'y': -2, 'z': -3}"
      ]
     },
     "execution_count": 237,
     "metadata": {},
     "output_type": "execute_result"
    }
   ],
   "source": [
    "neg(u).f"
   ]
  },
  {
   "cell_type": "code",
   "execution_count": null,
   "metadata": {
    "collapsed": true
   },
   "outputs": [],
   "source": []
  }
 ],
 "metadata": {
  "kernelspec": {
   "display_name": "Python 3",
   "language": "python",
   "name": "python3"
  },
  "language_info": {
   "codemirror_mode": {
    "name": "ipython",
    "version": 3
   },
   "file_extension": ".py",
   "mimetype": "text/x-python",
   "name": "python",
   "nbconvert_exporter": "python",
   "pygments_lexer": "ipython3",
   "version": "3.5.1"
  }
 },
 "nbformat": 4,
 "nbformat_minor": 0
}
