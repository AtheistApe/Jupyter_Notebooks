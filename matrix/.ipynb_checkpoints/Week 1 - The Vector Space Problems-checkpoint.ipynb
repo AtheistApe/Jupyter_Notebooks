{
 "cells": [
  {
   "cell_type": "code",
   "execution_count": 1,
   "metadata": {
    "collapsed": true
   },
   "outputs": [],
   "source": [
    "from vec import Vec"
   ]
  },
  {
   "cell_type": "code",
   "execution_count": 129,
   "metadata": {
    "collapsed": false
   },
   "outputs": [],
   "source": [
    "# Problem 1\n",
    "\n",
    "def vec_select(veclist, k):\n",
    "    return [vec for vec in veclist if vec[k] == 0]\n",
    "\n",
    "def vec_sum(veclist, D):\n",
    "    vecsum = 0\n",
    "    for vec in veclist:\n",
    "        vecsum = vecsum + vec\n",
    "    \n",
    "    return vecsum\n",
    "\n",
    "def vec_select_sum(veclist, k, D):\n",
    "    return vec_sum(vec_select(veclist, k), D)"
   ]
  },
  {
   "cell_type": "code",
   "execution_count": 130,
   "metadata": {
    "collapsed": false
   },
   "outputs": [
    {
     "data": {
      "text/plain": [
       "[Vec({'c', 'e', 'b', 'a', 'd'},{'b': 1, 'a': 0}),\n",
       " Vec({'c', 'e', 'b', 'a', 'd'},{'b': 2}),\n",
       " Vec({'c', 'e', 'b', 'a', 'd'},{'b': 10, 'a': 10})]"
      ]
     },
     "execution_count": 130,
     "metadata": {},
     "output_type": "execute_result"
    }
   ],
   "source": [
    "D = {'a', 'b', 'c', 'd', 'e'}\n",
    "v1 = Vec(D, {'a':1, 'c':3})\n",
    "v2 = Vec(D, {'a':0, 'b':1})\n",
    "v3 = Vec(D, {'b':2})\n",
    "v4 = Vec(D, {'a':10, 'b':10})\n",
    "\n",
    "vec_select([v1, v2, v3, v4], 'c')"
   ]
  },
  {
   "cell_type": "code",
   "execution_count": 131,
   "metadata": {
    "collapsed": false
   },
   "outputs": [
    {
     "data": {
      "text/plain": [
       "0"
      ]
     },
     "execution_count": 131,
     "metadata": {},
     "output_type": "execute_result"
    }
   ],
   "source": [
    "vec_sum([], D)"
   ]
  },
  {
   "cell_type": "code",
   "execution_count": 132,
   "metadata": {
    "collapsed": false
   },
   "outputs": [
    {
     "data": {
      "text/plain": [
       "Vec({'c', 'e', 'b', 'a', 'd'},{'c': 3, 'b': 11, 'a': 11})"
      ]
     },
     "execution_count": 132,
     "metadata": {},
     "output_type": "execute_result"
    }
   ],
   "source": [
    "vec_sum([v1,v2,v4], D)"
   ]
  },
  {
   "cell_type": "code",
   "execution_count": 133,
   "metadata": {
    "collapsed": false
   },
   "outputs": [
    {
     "data": {
      "text/plain": [
       "Vec({'c', 'e', 'b', 'a', 'd'},{'c': 3, 'b': 11, 'a': 11})"
      ]
     },
     "execution_count": 133,
     "metadata": {},
     "output_type": "execute_result"
    }
   ],
   "source": [
    "vzero = Vec(D,{})\n",
    "\n",
    "vsum = 0\n",
    "for vec in [v1,v2,v4]:\n",
    "    vsum = vsum + vec\n",
    "    \n",
    "vsum"
   ]
  },
  {
   "cell_type": "code",
   "execution_count": 134,
   "metadata": {
    "collapsed": false
   },
   "outputs": [
    {
     "data": {
      "text/plain": [
       "Vec({'c', 'e', 'b', 'a', 'd'},{'b': 13, 'a': 10})"
      ]
     },
     "execution_count": 134,
     "metadata": {},
     "output_type": "execute_result"
    }
   ],
   "source": [
    "vec_select_sum([v1,v2,v3,v4], 'c', D)"
   ]
  },
  {
   "cell_type": "code",
   "execution_count": 135,
   "metadata": {
    "collapsed": true
   },
   "outputs": [],
   "source": [
    "# Problem 2\n",
    "\n",
    "def scale_vecs(vecdict):\n",
    "    return [1/k * vecdict[k] for k in vecdict]"
   ]
  },
  {
   "cell_type": "code",
   "execution_count": 136,
   "metadata": {
    "collapsed": false
   },
   "outputs": [
    {
     "data": {
      "text/plain": [
       "[Vec({1, 2, 4},{2: 3.0}), Vec({1, 2, 4},{1: 0.2, 2: 0.4, 4: 1.6})]"
      ]
     },
     "execution_count": 136,
     "metadata": {},
     "output_type": "execute_result"
    }
   ],
   "source": [
    "v1 = Vec({1,2,4}, {2:9})\n",
    "v2 = Vec({1,2,4}, {1:1, 2:2, 4:8})\n",
    "\n",
    "result = scale_vecs({3:v1, 5:v2})\n",
    "\n",
    "result"
   ]
  },
  {
   "cell_type": "code",
   "execution_count": 137,
   "metadata": {
    "collapsed": false
   },
   "outputs": [
    {
     "data": {
      "text/plain": [
       "Vec({1, 2, 4},{1: 0.4, 2: 3.8, 4: 3.2})"
      ]
     },
     "execution_count": 137,
     "metadata": {},
     "output_type": "execute_result"
    }
   ],
   "source": [
    "result[0] + 2*result[1]"
   ]
  },
  {
   "cell_type": "code",
   "execution_count": 98,
   "metadata": {
    "collapsed": true
   },
   "outputs": [],
   "source": [
    "def GF2_span(D, S):\n",
    "    from GF2 import one\n",
    "    pass\n",
    "    "
   ]
  },
  {
   "cell_type": "code",
   "execution_count": 144,
   "metadata": {
    "collapsed": false
   },
   "outputs": [
    {
     "data": {
      "text/plain": [
       "{Vec({'3', '1', '2', '4'},{'1': 0, '3': one, '2': one}),\n",
       " Vec({'3', '1', '2', '4'},{'1': one}),\n",
       " Vec({'3', '1', '2', '4'},{'1': one, '4': one})}"
      ]
     },
     "execution_count": 144,
     "metadata": {},
     "output_type": "execute_result"
    }
   ],
   "source": [
    "from GF2 import one\n",
    "\n",
    "D = {'1','2','3','4'}\n",
    "v1 = Vec(D, {'2':one, '3':one})\n",
    "v2 = Vec(D, {'1':one})\n",
    "v3 = Vec(D, {'4':one, '1':one})\n",
    "\n",
    "S = {v1, v2, v3}\n",
    "\n",
    "\n",
    "{vec_sum([v,\n",
    "          vec_sum([w,v],D)],D) for w in S for v in S}"
   ]
  },
  {
   "cell_type": "code",
   "execution_count": 138,
   "metadata": {
    "collapsed": false
   },
   "outputs": [
    {
     "ename": "AssertionError",
     "evalue": "",
     "output_type": "error",
     "traceback": [
      "\u001b[0;31m---------------------------------------------------------------------------\u001b[0m",
      "\u001b[0;31mAssertionError\u001b[0m                            Traceback (most recent call last)",
      "\u001b[0;32m<ipython-input-138-599e4c8987cd>\u001b[0m in \u001b[0;36m<module>\u001b[0;34m()\u001b[0m\n\u001b[0;32m----> 1\u001b[0;31m \u001b[0mvec_sum\u001b[0m\u001b[0;34m(\u001b[0m\u001b[0;34m[\u001b[0m\u001b[0mv1\u001b[0m\u001b[0;34m,\u001b[0m\u001b[0mVec\u001b[0m\u001b[0;34m(\u001b[0m\u001b[0mD\u001b[0m\u001b[0;34m,\u001b[0m\u001b[0;34m{\u001b[0m\u001b[0;34m}\u001b[0m\u001b[0;34m)\u001b[0m\u001b[0;34m]\u001b[0m\u001b[0;34m,\u001b[0m\u001b[0mD\u001b[0m\u001b[0;34m)\u001b[0m\u001b[0;34m\u001b[0m\u001b[0m\n\u001b[0m",
      "\u001b[0;32m<ipython-input-129-ce30f3a30f19>\u001b[0m in \u001b[0;36mvec_sum\u001b[0;34m(veclist, D)\u001b[0m\n\u001b[1;32m      7\u001b[0m     \u001b[0mvecsum\u001b[0m \u001b[0;34m=\u001b[0m \u001b[0;36m0\u001b[0m\u001b[0;34m\u001b[0m\u001b[0m\n\u001b[1;32m      8\u001b[0m     \u001b[0;32mfor\u001b[0m \u001b[0mvec\u001b[0m \u001b[0;32min\u001b[0m \u001b[0mveclist\u001b[0m\u001b[0;34m:\u001b[0m\u001b[0;34m\u001b[0m\u001b[0m\n\u001b[0;32m----> 9\u001b[0;31m         \u001b[0mvecsum\u001b[0m \u001b[0;34m=\u001b[0m \u001b[0mvecsum\u001b[0m \u001b[0;34m+\u001b[0m \u001b[0mvec\u001b[0m\u001b[0;34m\u001b[0m\u001b[0m\n\u001b[0m\u001b[1;32m     10\u001b[0m \u001b[0;34m\u001b[0m\u001b[0m\n\u001b[1;32m     11\u001b[0m     \u001b[0;32mreturn\u001b[0m \u001b[0mvecsum\u001b[0m\u001b[0;34m\u001b[0m\u001b[0m\n",
      "\u001b[0;32m/Users/gary/Documents/Jupyter_Notebooks/matrix/vec.py\u001b[0m in \u001b[0;36madd\u001b[0;34m(u, v)\u001b[0m\n\u001b[1;32m     98\u001b[0m     \u001b[0;32mTrue\u001b[0m\u001b[0;34m\u001b[0m\u001b[0m\n\u001b[1;32m     99\u001b[0m     \"\"\"\n\u001b[0;32m--> 100\u001b[0;31m     \u001b[0;32massert\u001b[0m \u001b[0mu\u001b[0m\u001b[0;34m.\u001b[0m\u001b[0mD\u001b[0m \u001b[0;34m==\u001b[0m \u001b[0mv\u001b[0m\u001b[0;34m.\u001b[0m\u001b[0mD\u001b[0m\u001b[0;34m\u001b[0m\u001b[0m\n\u001b[0m\u001b[1;32m    101\u001b[0m     \u001b[0msum\u001b[0m \u001b[0;34m=\u001b[0m \u001b[0;34m{\u001b[0m\u001b[0;34m}\u001b[0m\u001b[0;34m\u001b[0m\u001b[0m\n\u001b[1;32m    102\u001b[0m \u001b[0;34m\u001b[0m\u001b[0m\n",
      "\u001b[0;31mAssertionError\u001b[0m: "
     ]
    }
   ],
   "source": [
    "vec_sum([v1,Vec(D,{})],D)"
   ]
  },
  {
   "cell_type": "code",
   "execution_count": 140,
   "metadata": {
    "collapsed": false
   },
   "outputs": [
    {
     "data": {
      "text/plain": [
       "Vec({1, 2, 4},{1: 1, 2: 11, 4: 8})"
      ]
     },
     "execution_count": 140,
     "metadata": {},
     "output_type": "execute_result"
    }
   ],
   "source": [
    "vec_sum([v1,v2],D)"
   ]
  },
  {
   "cell_type": "code",
   "execution_count": 142,
   "metadata": {
    "collapsed": false
   },
   "outputs": [
    {
     "data": {
      "text/plain": [
       "0"
      ]
     },
     "execution_count": 142,
     "metadata": {},
     "output_type": "execute_result"
    }
   ],
   "source": [
    "vec_sum([],D)"
   ]
  },
  {
   "cell_type": "markdown",
   "metadata": {
    "collapsed": true
   },
   "source": [
    "**Problem 4**. Is the following statement true or false? $\\{(x,y,z) : x + y + z = 1\\}$ is a vector space.\n",
    "\n",
    "The statement is false since $(1,0,0)$ and $(0,1,0)$ are both in the set, yet their sum $(1,1,0)$ is not; $1 + 1 + 0 = 1$ is false."
   ]
  },
  {
   "cell_type": "markdown",
   "metadata": {},
   "source": [
    "**Problem 5**. Is the following statement true or false? \\{(x,y,z) : x + y + z = 0\\}$ is a vector space.\n",
    "\n",
    "The statement is true, since if $(x_1, y_1, z_1)$ and $(x_2, y_2, z_2)$ are in the set, then their sum $(x_1 + x_2, y_1 + y_2, z_1 + z_2)$ is in the set since\n",
    "\n",
    "\\begin{align*}\n",
    "    x_1 + x_2 + y_1 + y_2 + z_1 + z_2\n",
    "    &= (x_1 + y+1 + z_1) + (x_2 + y_2 + z_2)\\\\\n",
    "    &= 0 + 0\\\\\n",
    "    &= 0\n",
    "\\end{align*}\n",
    "\n",
    "and also, if $c \\in\\mathbf{R}$ and $(x_1, y_1, z_1)$ in the set then $c(x_1, y_1, z_1) = (cx_1, cx_2, cx_3)$ is in the set since\n",
    "$cx_1 + cx_2 + cx_3 = c(x_1 + cx_2 + cx_3) = c(0) = 0$"
   ]
  },
  {
   "cell_type": "markdown",
   "metadata": {},
   "source": [
    "**Problem 6**. Is the following statement true or false? \n",
    "\n",
    "$\\{(x_1, x_2, x_3, x_4, x_5) : x_1,x_2,x_3,x_4,x_5 \\in \\mathbf{R}, x_2 = 0 \\text{ or } x_5 = 0\\}$ is a vector space.\n",
    "\n",
    "This statement is false since, for example $(0,1,0,0,0)$ and $(0,0,0,0,1)$ are both in the set but their sum $(0,1,0,0,1)$ is not in the set; Both $x_2$ and $x_5$ are nonzero."
   ]
  },
  {
   "cell_type": "markdown",
   "metadata": {},
   "source": [
    "**Problem 7**.\n",
    "\n",
    "1) Let $\\mathcal{V}$ be the set of 5-vectors over GF(2) that have an even number of 1's. Is the following statement true or false? \"$\\mathcal{V}$ is a vector space.\"\n",
    "\n",
    "The statement is true. If two 5-vectors have an even number of 1's and there is no \"overlap\" in the one components of the two vectors than the sum has an even number of 1's. If there are overlapping one components, those components sum to zero, leaving only those non-overlapping one components.\n",
    "    \n",
    "\n",
    "2) Let $\\mathcal{V}$ be the set of 5-vectors over GF(2) that\n",
    "    have an odd number of 1's. Is the following statement\n",
    "    true or false? \"$\\mathcal{V}$ is a vector space.\"\n",
    "\n",
    "The statement is false since, for example, both\n",
    "    $(1,0,0,0,0)$ and $(0,1,0,0,0)$ are in GF(2) with an odd\n",
    "    number of 1's, but their sum $(1,1,0,0,0)$ has an even\n",
    "    number of 1's."
   ]
  },
  {
   "cell_type": "code",
   "execution_count": null,
   "metadata": {
    "collapsed": true
   },
   "outputs": [],
   "source": []
  }
 ],
 "metadata": {
  "kernelspec": {
   "display_name": "Python 3",
   "language": "python",
   "name": "python3"
  },
  "language_info": {
   "codemirror_mode": {
    "name": "ipython",
    "version": 3
   },
   "file_extension": ".py",
   "mimetype": "text/x-python",
   "name": "python",
   "nbconvert_exporter": "python",
   "pygments_lexer": "ipython3",
   "version": "3.5.1"
  }
 },
 "nbformat": 4,
 "nbformat_minor": 0
}
