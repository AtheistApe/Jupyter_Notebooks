{
 "cells": [
  {
   "cell_type": "code",
   "execution_count": 2,
   "metadata": {
    "collapsed": true
   },
   "outputs": [],
   "source": [
    "from plotting import plot"
   ]
  },
  {
   "cell_type": "code",
   "execution_count": 3,
   "metadata": {
    "collapsed": true
   },
   "outputs": [],
   "source": [
    "v = [[2,1], [1,3], [4,5], [5,4], [2,2]]\n",
    "plot(v)"
   ]
  },
  {
   "cell_type": "code",
   "execution_count": 4,
   "metadata": {
    "collapsed": true
   },
   "outputs": [],
   "source": [
    "def addn(v,w): return [v[k] + w[k] for k in range(len(v))]"
   ]
  },
  {
   "cell_type": "code",
   "execution_count": 5,
   "metadata": {
    "collapsed": false
   },
   "outputs": [
    {
     "data": {
      "text/plain": [
       "[0, 5, -3, 12]"
      ]
     },
     "execution_count": 5,
     "metadata": {},
     "output_type": "execute_result"
    }
   ],
   "source": [
    "addn([1,2,3,4], [-1,3,-6, 8])"
   ]
  },
  {
   "cell_type": "code",
   "execution_count": 8,
   "metadata": {
    "collapsed": true
   },
   "outputs": [],
   "source": [
    "def scalar_vector_mult(alpha, v): return [alpha*x for x in v]"
   ]
  },
  {
   "cell_type": "code",
   "execution_count": 9,
   "metadata": {
    "collapsed": false
   },
   "outputs": [
    {
     "data": {
      "text/plain": [
       "[-2, -4, -6, 10, 12, 14]"
      ]
     },
     "execution_count": 9,
     "metadata": {},
     "output_type": "execute_result"
    }
   ],
   "source": [
    "scalar_vector_mult(-2, [1,2,3,-5,-6,-7])"
   ]
  },
  {
   "cell_type": "code",
   "execution_count": 14,
   "metadata": {
    "collapsed": true
   },
   "outputs": [],
   "source": [
    "v = [3,2]\n",
    "plot([scalar_vector_mult(k/10, v) for k in range(11)],5)"
   ]
  },
  {
   "cell_type": "code",
   "execution_count": 15,
   "metadata": {
    "collapsed": true
   },
   "outputs": [],
   "source": [
    "plot([scalar_vector_mult(k/100, v) for k in range(101)], 5)"
   ]
  },
  {
   "cell_type": "code",
   "execution_count": 21,
   "metadata": {
    "collapsed": true
   },
   "outputs": [],
   "source": [
    "d = [0.5,1]"
   ]
  },
  {
   "cell_type": "code",
   "execution_count": 25,
   "metadata": {
    "collapsed": false
   },
   "outputs": [],
   "source": [
    "plot([addn(d,scalar_vector_mult(k/100, v)) for k in range(101)], 5)"
   ]
  },
  {
   "cell_type": "code",
   "execution_count": 26,
   "metadata": {
    "collapsed": true
   },
   "outputs": [],
   "source": [
    "class Vec:\n",
    "    def __init__(self, labels, function):\n",
    "        self.D = labels\n",
    "        self.f = function"
   ]
  },
  {
   "cell_type": "code",
   "execution_count": 31,
   "metadata": {
    "collapsed": false
   },
   "outputs": [],
   "source": [
    "v = Vec({'A','B','C'}, {'A':1})"
   ]
  },
  {
   "cell_type": "code",
   "execution_count": 33,
   "metadata": {
    "collapsed": false
   },
   "outputs": [
    {
     "name": "stdout",
     "output_type": "stream",
     "text": [
      "1\n"
     ]
    }
   ],
   "source": [
    "for d in v.D:\n",
    "    if d in v.f:\n",
    "        print(v.f[d])"
   ]
  },
  {
   "cell_type": "code",
   "execution_count": 46,
   "metadata": {
    "collapsed": false
   },
   "outputs": [],
   "source": [
    "def zero_vec(D):\n",
    "    return Vec(D, {k:0 for k in D})"
   ]
  },
  {
   "cell_type": "code",
   "execution_count": 48,
   "metadata": {
    "collapsed": false
   },
   "outputs": [
    {
     "data": {
      "text/plain": [
       "{1: 0, 2: 0, 3: 0, 4: 0, 'b': 0, 'a': 0, 'c': 0}"
      ]
     },
     "execution_count": 48,
     "metadata": {},
     "output_type": "execute_result"
    }
   ],
   "source": [
    "zv = zero_vec({1,2,3,4,'a','b','c'})\n",
    "zv.f"
   ]
  },
  {
   "cell_type": "code",
   "execution_count": 51,
   "metadata": {
    "collapsed": true
   },
   "outputs": [],
   "source": [
    "def setitem(v,d,val):\n",
    "    v.f[d] = val"
   ]
  },
  {
   "cell_type": "code",
   "execution_count": 52,
   "metadata": {
    "collapsed": true
   },
   "outputs": [],
   "source": [
    "setitem(zv, 'c', 23)"
   ]
  },
  {
   "cell_type": "code",
   "execution_count": 53,
   "metadata": {
    "collapsed": false
   },
   "outputs": [
    {
     "data": {
      "text/plain": [
       "{1: 0, 2: 0, 3: 0, 4: 0, 'b': 0, 'a': 0, 'c': 23}"
      ]
     },
     "execution_count": 53,
     "metadata": {},
     "output_type": "execute_result"
    }
   ],
   "source": [
    "zv.f"
   ]
  },
  {
   "cell_type": "code",
   "execution_count": 54,
   "metadata": {
    "collapsed": false
   },
   "outputs": [
    {
     "data": {
      "text/plain": [
       "{1: 0, 2: 0, 3: 0, 4: 0, 'b': 0, 'a': 0, 'c': 0}"
      ]
     },
     "execution_count": 54,
     "metadata": {},
     "output_type": "execute_result"
    }
   ],
   "source": [
    "setitem(zv,'c',0)\n",
    "zv.f"
   ]
  },
  {
   "cell_type": "code",
   "execution_count": 62,
   "metadata": {
    "collapsed": true
   },
   "outputs": [],
   "source": [
    "def getitem(v, d): return v.f[d] if d in v.f else 0"
   ]
  },
  {
   "cell_type": "code",
   "execution_count": 63,
   "metadata": {
    "collapsed": false
   },
   "outputs": [
    {
     "data": {
      "text/plain": [
       "0"
      ]
     },
     "execution_count": 63,
     "metadata": {},
     "output_type": "execute_result"
    }
   ],
   "source": [
    "getitem(zv, 'k')"
   ]
  },
  {
   "cell_type": "code",
   "execution_count": 67,
   "metadata": {
    "collapsed": false
   },
   "outputs": [],
   "source": [
    "def list2vec(L): return Vec(set(range(len(L))), {i:L[i] for i in range(len(L))})"
   ]
  },
  {
   "cell_type": "code",
   "execution_count": 68,
   "metadata": {
    "collapsed": false
   },
   "outputs": [],
   "source": [
    "v = list2vec(['a','b','c',1,2,3,'d'])"
   ]
  },
  {
   "cell_type": "code",
   "execution_count": 73,
   "metadata": {
    "collapsed": false
   },
   "outputs": [],
   "source": [
    "def list2vec2(L):\n",
    "    return Vec(set(range(len(L))), {i:x for i,x in enumerate(L)})"
   ]
  },
  {
   "cell_type": "code",
   "execution_count": 74,
   "metadata": {
    "collapsed": false
   },
   "outputs": [
    {
     "name": "stdout",
     "output_type": "stream",
     "text": [
      "{0, 1, 2, 3, 4, 5, 6}\n",
      "{0: 'a', 1: 'b', 2: 'c', 3: 1, 4: 2, 5: 3, 6: 'd'}\n"
     ]
    }
   ],
   "source": [
    "v2 = list2vec2(['a','b','c',1,2,3,'d'])\n",
    "print(v2.D)\n",
    "print(v2.f)"
   ]
  },
  {
   "cell_type": "code",
   "execution_count": 82,
   "metadata": {
    "collapsed": false
   },
   "outputs": [
    {
     "name": "stdout",
     "output_type": "stream",
     "text": [
      "0 a\n",
      "1 b\n",
      "2 1\n",
      "3 c\n",
      "4 23.4\n",
      "5 stuff\n"
     ]
    }
   ],
   "source": [
    "for i,x in enumerate(['a','b',1,'c',23.4,'stuff']):\n",
    "    print(i,x)"
   ]
  },
  {
   "cell_type": "code",
   "execution_count": 83,
   "metadata": {
    "collapsed": true
   },
   "outputs": [],
   "source": [
    "from GF2 import one"
   ]
  },
  {
   "cell_type": "code",
   "execution_count": 86,
   "metadata": {
    "collapsed": false
   },
   "outputs": [],
   "source": [
    "# Problem 1\n",
    "\n",
    "p1_v = [-1, 3]\n",
    "p1_u = [0, 4]\n",
    "\n",
    "p2_v_plus_u = [1, 0, 6]\n",
    "p2_v_minus_u = [3, -2, 4]\n",
    "p2_two_v_minus_u = [5, -3, 9]\n",
    "p2_v_plus_two_u = [0, 1, 7]"
   ]
  },
  {
   "cell_type": "code",
   "execution_count": 87,
   "metadata": {
    "collapsed": true
   },
   "outputs": [],
   "source": [
    "# Problem 2\n",
    "\n",
    "p2_u = [-1,  1, 1]\n",
    "p2_v = [ 2, -1, 5]\n",
    "p2_v_plus_u = [1, 0, 6]\n",
    "p2_v_minus_u = [3, -2, 4]\n",
    "p2_two_v_minus_u = [5, -3, 9]\n",
    "p2_v_plus_two_u = [0, 1, 7]"
   ]
  },
  {
   "cell_type": "code",
   "execution_count": 90,
   "metadata": {
    "collapsed": false
   },
   "outputs": [],
   "source": [
    "# Problem 3\n",
    "\n",
    "v = (0, one, one)\n",
    "u = (one, one, one)"
   ]
  },
  {
   "cell_type": "code",
   "execution_count": 181,
   "metadata": {
    "collapsed": false
   },
   "outputs": [],
   "source": [
    "# Problem 4\n",
    "\n",
    "def rotate_right(v):\n",
    "    u = v[:]\n",
    "    u = [u.pop()] + v[:-1]\n",
    "    return u\n",
    "    \n",
    "\n",
    "a = [one, one, 0, 0, 0, 0, 0]\n",
    "b = rotate_right(a)\n",
    "c = rotate_right(b)\n",
    "d = rotate_right(c)\n",
    "e = rotate_right(d)\n",
    "f = rotate_right(e)\n"
   ]
  },
  {
   "cell_type": "code",
   "execution_count": 182,
   "metadata": {
    "collapsed": false
   },
   "outputs": [
    {
     "data": {
      "text/plain": [
       "[0, 0, one, 0, 0, one, 0]"
      ]
     },
     "execution_count": 182,
     "metadata": {},
     "output_type": "execute_result"
    }
   ],
   "source": [
    "[c[k] + d[k] + e[k] for k in range(7)]"
   ]
  },
  {
   "cell_type": "code",
   "execution_count": 183,
   "metadata": {
    "collapsed": false
   },
   "outputs": [
    {
     "data": {
      "text/plain": [
       "[0, one, 0, 0, 0, one, 0]"
      ]
     },
     "execution_count": 183,
     "metadata": {},
     "output_type": "execute_result"
    }
   ],
   "source": [
    "[b[k] + c[k] + d[k] + e[k] for k in range(7)]"
   ]
  },
  {
   "cell_type": "code",
   "execution_count": 184,
   "metadata": {
    "collapsed": true
   },
   "outputs": [],
   "source": [
    "# Problem 5\n",
    "\n",
    "a = [one, one, one, 0, 0, 0, 0]\n",
    "b = rotate_right(a)\n",
    "c = rotate_right(b)\n",
    "d = rotate_right(c)\n",
    "e = rotate_right(d)\n",
    "f = [0, 0, 0, 0, 0, 1, 1]\n",
    "\n",
    "# set()"
   ]
  },
  {
   "cell_type": "code",
   "execution_count": 185,
   "metadata": {
    "collapsed": false
   },
   "outputs": [
    {
     "data": {
      "text/plain": [
       "[0, 0, one, 0, 0, one, 0]"
      ]
     },
     "execution_count": 185,
     "metadata": {},
     "output_type": "execute_result"
    }
   ],
   "source": [
    "[c[k] + d[k] for k in range(7)]"
   ]
  },
  {
   "cell_type": "code",
   "execution_count": 186,
   "metadata": {
    "collapsed": false
   },
   "outputs": [
    {
     "data": {
      "text/plain": [
       "[0, one, 0, one, 0, one, 0]"
      ]
     },
     "execution_count": 186,
     "metadata": {},
     "output_type": "execute_result"
    }
   ],
   "source": [
    "[b[k] + c[k] + d[k] for k in range(7)]"
   ]
  },
  {
   "cell_type": "code",
   "execution_count": 190,
   "metadata": {
    "collapsed": false
   },
   "outputs": [],
   "source": [
    "def list_dot(u,v):\n",
    "    return sum([u[k] * v[k] for k in range(len(u))])"
   ]
  },
  {
   "cell_type": "code",
   "execution_count": 191,
   "metadata": {
    "collapsed": false
   },
   "outputs": [
    {
     "data": {
      "text/plain": [
       "300"
      ]
     },
     "execution_count": 191,
     "metadata": {},
     "output_type": "execute_result"
    }
   ],
   "source": [
    "list_dot([1,2,3,4], [10,20,30,40])"
   ]
  },
  {
   "cell_type": "code",
   "execution_count": 192,
   "metadata": {
    "collapsed": true
   },
   "outputs": [],
   "source": [
    "def list_dot2(u,v):\n",
    "    return sum(a*b for (a,b) in zip(u,v))"
   ]
  },
  {
   "cell_type": "code",
   "execution_count": 193,
   "metadata": {
    "collapsed": false
   },
   "outputs": [
    {
     "data": {
      "text/plain": [
       "300"
      ]
     },
     "execution_count": 193,
     "metadata": {},
     "output_type": "execute_result"
    }
   ],
   "source": [
    "list_dot2([1,2,3,4], [10,20,30,40])"
   ]
  },
  {
   "cell_type": "code",
   "execution_count": 196,
   "metadata": {
    "collapsed": false
   },
   "outputs": [
    {
     "name": "stdout",
     "output_type": "stream",
     "text": [
      "one\n",
      "one\n",
      "one\n",
      "one\n",
      "one\n",
      "one\n"
     ]
    }
   ],
   "source": [
    "# Problem 6\n",
    "\n",
    "a = [one,one,0,0]\n",
    "b = [one,0,one,0]\n",
    "c = [one,one,one,one]\n",
    "\n",
    "x = [one,0,0,0]\n",
    "y = [x[k] + one for k in range(4)]\n",
    "\n",
    "for k in [a,b,c]:\n",
    "    print(list_dot2(k,x))\n",
    "    \n",
    "for k in [a,b,c]:\n",
    "    print(list_dot2(k,y))"
   ]
  },
  {
   "cell_type": "code",
   "execution_count": 198,
   "metadata": {
    "collapsed": false
   },
   "outputs": [],
   "source": [
    "# Problem 7\n",
    "\n",
    "v1 = [2,3,-4,1]\n",
    "v2 = [1,-5,2,0]\n",
    "v3 = [4,1,-1,-1]\n",
    "\n",
    "x = ['x0', 'x1', 'x2', 'x3']\n"
   ]
  },
  {
   "cell_type": "code",
   "execution_count": null,
   "metadata": {
    "collapsed": true
   },
   "outputs": [],
   "source": [
    "# Problem 8\n",
    "\n",
    "uv_a = 5\n",
    "uv_b = 6\n",
    "uv_c = 16\n",
    "uv_d = -1"
   ]
  },
  {
   "cell_type": "code",
   "execution_count": 19,
   "metadata": {
    "collapsed": false
   },
   "outputs": [],
   "source": [
    "from vec import *\n",
    "from GF2 import *\n",
    "from random import randint"
   ]
  },
  {
   "cell_type": "code",
   "execution_count": 13,
   "metadata": {
    "collapsed": false
   },
   "outputs": [],
   "source": [
    "password = Vec({1,2,3,4,5},{1:one,2:0,3:0,4:one,5:one})"
   ]
  },
  {
   "cell_type": "code",
   "execution_count": 23,
   "metadata": {
    "collapsed": false
   },
   "outputs": [],
   "source": [
    "def encrypt(password):\n",
    "\n",
    "    values = [0, one]\n",
    "    encrypt = []\n",
    "    for count in range(20):\n",
    "        randvec = Vec({1,2,3,4,5},\n",
    "            {x: values[randint(0,1)] for x in range(1,6)})\n",
    "        encrypt += [password*randvec]\n",
    "\n",
    "    return encrypt"
   ]
  },
  {
   "cell_type": "code",
   "execution_count": 25,
   "metadata": {
    "collapsed": false
   },
   "outputs": [
    {
     "name": "stdout",
     "output_type": "stream",
     "text": [
      "[one, one, 0, one, one, one, one, 0, one, 0, one, one, 0, one, 0, one, 0, one, one, 0]\n"
     ]
    }
   ],
   "source": [
    "print(encrypt(password))"
   ]
  },
  {
   "cell_type": "code",
   "execution_count": null,
   "metadata": {
    "collapsed": false
   },
   "outputs": [],
   "source": []
  },
  {
   "cell_type": "code",
   "execution_count": null,
   "metadata": {
    "collapsed": true
   },
   "outputs": [],
   "source": []
  }
 ],
 "metadata": {
  "kernelspec": {
   "display_name": "Python 3",
   "language": "python",
   "name": "python3"
  },
  "language_info": {
   "codemirror_mode": {
    "name": "ipython",
    "version": 3
   },
   "file_extension": ".py",
   "mimetype": "text/x-python",
   "name": "python",
   "nbconvert_exporter": "python",
   "pygments_lexer": "ipython3",
   "version": "3.5.1"
  }
 },
 "nbformat": 4,
 "nbformat_minor": 0
}
