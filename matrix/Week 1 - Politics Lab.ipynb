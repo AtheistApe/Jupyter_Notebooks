{
 "cells": [
  {
   "cell_type": "code",
   "execution_count": 135,
   "metadata": {
    "collapsed": true
   },
   "outputs": [],
   "source": [
    "f = open('voting_record_dump109.txt')"
   ]
  },
  {
   "cell_type": "code",
   "execution_count": 136,
   "metadata": {
    "collapsed": false
   },
   "outputs": [],
   "source": [
    "voting_records = list(f)"
   ]
  },
  {
   "cell_type": "code",
   "execution_count": 137,
   "metadata": {
    "collapsed": false
   },
   "outputs": [],
   "source": [
    "# Method using a dictionary comprehension.\n",
    "\n",
    "def create_voting_dict(strlist):\n",
    "    return {record.split()[0]:\n",
    "            list(map(int,record.split()[3:])) for\n",
    "           record in strlist}"
   ]
  },
  {
   "cell_type": "code",
   "execution_count": 58,
   "metadata": {
    "collapsed": true
   },
   "outputs": [],
   "source": [
    "# Method using a loop.\n",
    "\n",
    "def create_voting_dict(strlist):\n",
    "    voting_dict = {}\n",
    "    for record in strlist:\n",
    "        split_record = record.split()\n",
    "        voting_dict.update({split_record[0]:\n",
    "                            list(map(int,split_record[3:]))})\n",
    "        \n",
    "    return voting_dict"
   ]
  },
  {
   "cell_type": "code",
   "execution_count": 138,
   "metadata": {
    "collapsed": false
   },
   "outputs": [
    {
     "name": "stdout",
     "output_type": "stream",
     "text": [
      "[1, -1, 1, 1, 1, -1, -1, -1, 1, 1, 1, 1, 1, 1, -1, 1, 1, 1, 1, 1, 1, 1, 1, 1, -1, 1, -1, -1, 1, 1, 1, 1, 1, 1, 1, 1, 1, -1, 1, 1, 1, 1, -1, 1, 1, -1]\n"
     ]
    }
   ],
   "source": [
    "print(create_voting_dict(voting_records)['Obama'])"
   ]
  },
  {
   "cell_type": "code",
   "execution_count": 139,
   "metadata": {
    "collapsed": true
   },
   "outputs": [],
   "source": [
    "voting_dict = create_voting_dict(voting_records)"
   ]
  },
  {
   "cell_type": "code",
   "execution_count": 140,
   "metadata": {
    "collapsed": false
   },
   "outputs": [],
   "source": [
    "def policy_compare(sen_a, sen_b, voting_dict):\n",
    "    return sum([voting_dict[sen_a][i] * voting_dict[sen_b][i] for\n",
    "               i in range(len(voting_dict[sen_a]))])"
   ]
  },
  {
   "cell_type": "code",
   "execution_count": 141,
   "metadata": {
    "collapsed": false
   },
   "outputs": [
    {
     "data": {
      "text/plain": [
       "36"
      ]
     },
     "execution_count": 141,
     "metadata": {},
     "output_type": "execute_result"
    }
   ],
   "source": [
    "policy_compare('Obama', 'Kennedy', voting_dict)"
   ]
  },
  {
   "cell_type": "code",
   "execution_count": 142,
   "metadata": {
    "collapsed": false
   },
   "outputs": [
    {
     "data": {
      "text/plain": [
       "253"
      ]
     },
     "execution_count": 142,
     "metadata": {},
     "output_type": "execute_result"
    }
   ],
   "source": [
    "policy_compare('A', 'B', {'A':[100,10,1], 'B':[2,5,3]})"
   ]
  },
  {
   "cell_type": "code",
   "execution_count": 192,
   "metadata": {
    "collapsed": true
   },
   "outputs": [],
   "source": [
    "def most_similar(sen, voting_dict):\n",
    "    comp1, comp2 = -50, -50\n",
    "    for senator in voting_dict:\n",
    "        if senator != sen:\n",
    "            comp2 = policy_compare(senator, sen, voting_dict)\n",
    "            if comp2 > comp1:\n",
    "                comp1, comp2 = comp2, comp1\n",
    "                current = (senator,comp1)\n",
    "    return current"
   ]
  },
  {
   "cell_type": "code",
   "execution_count": 193,
   "metadata": {
    "collapsed": false
   },
   "outputs": [
    {
     "data": {
      "text/plain": [
       "('Boxer', 35)"
      ]
     },
     "execution_count": 193,
     "metadata": {},
     "output_type": "execute_result"
    }
   ],
   "source": [
    "most_similar('Feingold', voting_dict)"
   ]
  },
  {
   "cell_type": "code",
   "execution_count": 145,
   "metadata": {
    "collapsed": false
   },
   "outputs": [
    {
     "data": {
      "text/plain": [
       "dict_keys(['Sununu', 'Murray', 'Conrad', 'Bond', 'Domenici', 'Dorgan', 'Dayton', 'DeWine', 'Akaka', 'Grassley', 'Isakson', 'Craig', 'Reed', 'Graham', 'Allen', 'Voinovich', 'Wyden', 'Shelby', 'Lautenberg', 'Kyl', 'Landrieu', 'Bayh', 'Allard', 'Frist', 'Lott', 'Mikulski', 'Bennett', 'Feinstein', 'Stabenow', 'Smith', 'Leahy', 'Vitter', 'Lincoln', 'Murkowski', 'Dodd', 'Coburn', 'Johnson', 'Clinton', 'Nelson1', 'Levin', 'Inouye', 'Rockefeller', 'Feingold', 'Brownback', 'Schumer', 'Byrd', 'Talent', 'Thune', 'Chafee', 'Bunning', 'Salazar', 'Cornyn', 'Baucus', 'Reid', 'Cochran', 'Gregg', 'Specter', 'Burns', 'Kennedy', 'Stevens', 'Pryor', 'Inhofe', 'Snowe', 'Burr', 'Collins', 'Crapo', 'Bingaman', 'Obama', 'Cantwell', 'Jeffords', 'Enzi', 'Warner', 'Carper', 'Chambliss', 'DeMint', 'Ensign', 'McConnell', 'Hutchison', 'Sessions', 'Alexander', 'Lugar', 'Santorum', 'Hagel', 'Nelson2', 'Thomas', 'Lieberman', 'Boxer', 'Biden', 'Kerry', 'Hatch', 'Kohl', 'Harkin', 'Martinez', 'Sarbanes', 'Dole', 'Durbin', 'McCain', 'Roberts', 'Coleman'])"
      ]
     },
     "execution_count": 145,
     "metadata": {},
     "output_type": "execute_result"
    }
   ],
   "source": [
    "voting_dict.keys()"
   ]
  },
  {
   "cell_type": "code",
   "execution_count": 146,
   "metadata": {
    "collapsed": false
   },
   "outputs": [],
   "source": [
    "vd = {'a': [1,1,1,0], 'b': [1,-1,0,0], 'c': [-1,0,0,0], 'd': [-1,0,0,1], 'e': [1, 0, 0,0]}"
   ]
  },
  {
   "cell_type": "code",
   "execution_count": 147,
   "metadata": {
    "collapsed": false
   },
   "outputs": [
    {
     "data": {
      "text/plain": [
       "('d', 1)"
      ]
     },
     "execution_count": 147,
     "metadata": {},
     "output_type": "execute_result"
    }
   ],
   "source": [
    "most_similar('c', vd)"
   ]
  },
  {
   "cell_type": "code",
   "execution_count": 194,
   "metadata": {
    "collapsed": true
   },
   "outputs": [],
   "source": [
    "def least_similar(sen, voting_dict):\n",
    "    comp1, comp2 = 50, 50\n",
    "    for senator in voting_dict:\n",
    "        if senator != sen:\n",
    "            comp2 = policy_compare(senator, sen, voting_dict)\n",
    "            if comp2 < comp1:\n",
    "                comp1, comp2 = comp2, comp1\n",
    "                current = (senator, comp1)\n",
    "    return current"
   ]
  },
  {
   "cell_type": "code",
   "execution_count": 195,
   "metadata": {
    "collapsed": false
   },
   "outputs": [
    {
     "data": {
      "text/plain": [
       "('Sununu', 2)"
      ]
     },
     "execution_count": 195,
     "metadata": {},
     "output_type": "execute_result"
    }
   ],
   "source": [
    "least_similar('Boxer', voting_dict)"
   ]
  },
  {
   "cell_type": "code",
   "execution_count": 196,
   "metadata": {
    "collapsed": true
   },
   "outputs": [],
   "source": [
    "vd = {'a': [-1,0,0], 'b': [1,0,0], 'c': [-1,1,0], 'd': [-1,1,1]}"
   ]
  },
  {
   "cell_type": "code",
   "execution_count": 197,
   "metadata": {
    "collapsed": false
   },
   "outputs": [
    {
     "data": {
      "text/plain": [
       "('b', -1)"
      ]
     },
     "execution_count": 197,
     "metadata": {},
     "output_type": "execute_result"
    }
   ],
   "source": [
    "least_similar('c', vd)"
   ]
  },
  {
   "cell_type": "code",
   "execution_count": 198,
   "metadata": {
    "collapsed": false
   },
   "outputs": [
    {
     "data": {
      "text/plain": [
       "('Jeffords', 40)"
      ]
     },
     "execution_count": 198,
     "metadata": {},
     "output_type": "execute_result"
    }
   ],
   "source": [
    "most_similar('Chafee', voting_dict)"
   ]
  },
  {
   "cell_type": "code",
   "execution_count": 199,
   "metadata": {
    "collapsed": false
   },
   "outputs": [
    {
     "data": {
      "text/plain": [
       "('Feingold', 3)"
      ]
     },
     "execution_count": 199,
     "metadata": {},
     "output_type": "execute_result"
    }
   ],
   "source": [
    "least_similar('Santorum', voting_dict)"
   ]
  },
  {
   "cell_type": "code",
   "execution_count": 200,
   "metadata": {
    "collapsed": false
   },
   "outputs": [
    {
     "data": {
      "text/plain": [
       "30"
      ]
     },
     "execution_count": 200,
     "metadata": {},
     "output_type": "execute_result"
    }
   ],
   "source": [
    "policy_compare('Feinstein', 'Boxer', voting_dict)"
   ]
  },
  {
   "cell_type": "code",
   "execution_count": 208,
   "metadata": {
    "collapsed": true
   },
   "outputs": [],
   "source": [
    "def find_average_similarity(sen, sen_set, voting_dict):\n",
    "    return sum([policy_compare(sen, senator, voting_dict)\n",
    "               for senator in sen_set])/len(sen_set)"
   ]
  },
  {
   "cell_type": "code",
   "execution_count": 225,
   "metadata": {
    "collapsed": false
   },
   "outputs": [
    {
     "data": {
      "text/plain": [
       "-0.5"
      ]
     },
     "execution_count": 225,
     "metadata": {},
     "output_type": "execute_result"
    }
   ],
   "source": [
    "vd = {'Klein':[1,1,1], 'Fox-Epstein':[1,-1,0], 'Ravella':[-1,0,0], 'Oyakawa':[-1,-1,-1], 'Loery':[0,1,1]}\n",
    "\n",
    "sens = {'Fox-Epstein','Ravella','Oyakawa','Loery'}\n",
    "\n",
    "find_average_similarity('Klein', sens, vd)"
   ]
  },
  {
   "cell_type": "code",
   "execution_count": 209,
   "metadata": {
    "collapsed": false
   },
   "outputs": [
    {
     "data": {
      "text/plain": [
       "29.0"
      ]
     },
     "execution_count": 209,
     "metadata": {},
     "output_type": "execute_result"
    }
   ],
   "source": [
    "find_average_similarity('Obama', {'Chafee', 'Santorum', 'Feinstein', 'Boxer'}, voting_dict)"
   ]
  },
  {
   "cell_type": "code",
   "execution_count": 241,
   "metadata": {
    "collapsed": true
   },
   "outputs": [],
   "source": [
    "dems = {record.split()[0] for record in voting_records if\n",
    "       record.split()[1] == 'D'}\n",
    "\n",
    "reps = {record.split()[0] for record in voting_records if\n",
    "       record.split()[1] == 'R'}"
   ]
  },
  {
   "cell_type": "code",
   "execution_count": 223,
   "metadata": {
    "collapsed": false
   },
   "outputs": [
    {
     "data": {
      "text/plain": [
       "28.88372093023256"
      ]
     },
     "execution_count": 223,
     "metadata": {},
     "output_type": "execute_result"
    }
   ],
   "source": [
    "find_average_similarity('Chafee', dems, voting_dict)"
   ]
  },
  {
   "cell_type": "code",
   "execution_count": 240,
   "metadata": {
    "collapsed": false
   },
   "outputs": [
    {
     "data": {
      "text/plain": [
       "(34.86046511627907, 'Biden')"
      ]
     },
     "execution_count": 240,
     "metadata": {},
     "output_type": "execute_result"
    }
   ],
   "source": [
    "max([(find_average_similarity(senator,dems,voting_dict), senator) for senator\n",
    "in voting_dict])"
   ]
  },
  {
   "cell_type": "code",
   "execution_count": 244,
   "metadata": {
    "collapsed": false
   },
   "outputs": [
    {
     "data": {
      "text/plain": [
       "(39.6, 'Talent')"
      ]
     },
     "execution_count": 244,
     "metadata": {},
     "output_type": "execute_result"
    }
   ],
   "source": [
    "max([(find_average_similarity(senator,reps,voting_dict), senator) for senator\n",
    "in voting_dict])"
   ]
  },
  {
   "cell_type": "code",
   "execution_count": 230,
   "metadata": {
    "collapsed": false
   },
   "outputs": [
    {
     "data": {
      "text/plain": [
       "[(-2, 5), (1, 2), (6, 2), (9, 3)]"
      ]
     },
     "execution_count": 230,
     "metadata": {},
     "output_type": "execute_result"
    }
   ],
   "source": [
    "lst"
   ]
  },
  {
   "cell_type": "code",
   "execution_count": 358,
   "metadata": {
    "collapsed": true
   },
   "outputs": [],
   "source": [
    "# The '*' operator in the zip instruction is crucial for clean code.\n",
    "\n",
    "def find_average_record(sen_set, voting_dict):\n",
    "    ziplst = list(zip(*[voting_dict[x] for x in sen_set]))\n",
    "    \n",
    "    return [sum(item)/len(sen_set) for item in ziplst]\n",
    "    "
   ]
  },
  {
   "cell_type": "code",
   "execution_count": 359,
   "metadata": {
    "collapsed": false
   },
   "outputs": [
    {
     "data": {
      "text/plain": [
       "[-0.6666666666666666, -0.3333333333333333, 0.6666666666666666]"
      ]
     },
     "execution_count": 359,
     "metadata": {},
     "output_type": "execute_result"
    }
   ],
   "source": [
    "d = {'c': [-1,-1,0], 'b': [0,1,1], 'a': [0,1,1], 'e': [-1,-1,1], 'd': [-1,1,1]}\n",
    "\n",
    "sen_set = {'a', 'c', 'e'}\n",
    "\n",
    "find_average_record(sen_set, d)"
   ]
  },
  {
   "cell_type": "code",
   "execution_count": 367,
   "metadata": {
    "collapsed": false
   },
   "outputs": [
    {
     "name": "stdout",
     "output_type": "stream",
     "text": [
      "[([0, 1, 1],), ([-1, -1, 0],), ([-1, -1, 1],)]\n",
      "[(0, -1, -1), (1, -1, -1), (1, 0, 1)]\n",
      "[(0, -1, -1), (1, -1, -1), (1, 0, 1)]\n"
     ]
    }
   ],
   "source": [
    "'''zip(*iterables)\n",
    "Make an iterator that aggregates elements from each of the iterables.\n",
    "\n",
    "Returns an iterator of tuples, where the i-th tuple contains the i-th element from each of the argument sequences or iterables. The iterator stops when the shortest input iterable is exhausted. With a single iterable argument, it returns an iterator of 1-tuples. With no arguments, it returns an empty iterator'''\n",
    "\n",
    "lsts = [d[x] for x in sen_set]\n",
    "print(list(zip(lsts)))\n",
    "print(list(zip(d['a'], d['c'], d['e'])))\n",
    "print(list(zip(*lsts)))"
   ]
  },
  {
   "cell_type": "code",
   "execution_count": 360,
   "metadata": {
    "collapsed": false
   },
   "outputs": [
    {
     "data": {
      "text/plain": [
       "[(0, -1, -1), (1, -1, -1), (1, 0, 1)]"
      ]
     },
     "execution_count": 360,
     "metadata": {},
     "output_type": "execute_result"
    }
   ],
   "source": [
    "list(zip(*[d[x] for x in sen_set]))"
   ]
  },
  {
   "cell_type": "code",
   "execution_count": 361,
   "metadata": {
    "collapsed": false
   },
   "outputs": [
    {
     "name": "stdout",
     "output_type": "stream",
     "text": [
      "[-0.16279069767441862, -0.23255813953488372, 1.0, 0.8372093023255814, 0.9767441860465116, -0.13953488372093023, -0.9534883720930233, 0.813953488372093, 0.9767441860465116, 0.9767441860465116, 0.9069767441860465, 0.7674418604651163, 0.6744186046511628, 0.9767441860465116, -0.5116279069767442, 0.9302325581395349, 0.9534883720930233, 0.9767441860465116, -0.3953488372093023, 0.9767441860465116, 1.0, 1.0, 1.0, 0.9534883720930233, -0.4883720930232558, 1.0, -0.32558139534883723, -0.06976744186046512, 0.9767441860465116, 0.8604651162790697, 0.9767441860465116, 0.9767441860465116, 1.0, 1.0, 0.9767441860465116, -0.3488372093023256, 0.9767441860465116, -0.4883720930232558, 0.23255813953488372, 0.8837209302325582, 0.4418604651162791, 0.9069767441860465, -0.9069767441860465, 1.0, 0.9069767441860465, -0.3023255813953488]\n"
     ]
    }
   ],
   "source": [
    "print(find_average_record(dems, voting_dict))"
   ]
  },
  {
   "cell_type": "code",
   "execution_count": 362,
   "metadata": {
    "collapsed": false
   },
   "outputs": [
    {
     "data": {
      "text/plain": [
       "24.48837209302325"
      ]
     },
     "execution_count": 362,
     "metadata": {},
     "output_type": "execute_result"
    }
   ],
   "source": [
    "average_Democrat_record = sum(find_average_record(dems, voting_dict))\n",
    "\n",
    "average_Democrat_record"
   ]
  },
  {
   "cell_type": "code",
   "execution_count": null,
   "metadata": {
    "collapsed": true
   },
   "outputs": [],
   "source": []
  }
 ],
 "metadata": {
  "kernelspec": {
   "display_name": "Python 3",
   "language": "python",
   "name": "python3"
  },
  "language_info": {
   "codemirror_mode": {
    "name": "ipython",
    "version": 3
   },
   "file_extension": ".py",
   "mimetype": "text/x-python",
   "name": "python",
   "nbconvert_exporter": "python",
   "pygments_lexer": "ipython3",
   "version": "3.5.1"
  }
 },
 "nbformat": 4,
 "nbformat_minor": 0
}
