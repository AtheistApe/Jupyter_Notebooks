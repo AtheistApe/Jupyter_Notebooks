{
 "cells": [
  {
   "cell_type": "code",
   "execution_count": 1,
   "metadata": {},
   "outputs": [],
   "source": [
    "(require pict/flash)"
   ]
  },
  {
   "cell_type": "code",
   "execution_count": 2,
   "metadata": {},
   "outputs": [],
   "source": [
    "(require 2htdp/image)"
   ]
  },
  {
   "cell_type": "code",
   "execution_count": 25,
   "metadata": {},
   "outputs": [
    {
     "name": "stderr",
     "output_type": "stream",
     "text": [
      "instantiate-linklet: mismatch;\n",
      " reference to a variable that is uninitialized;\n",
      " possibly, bytecode file needs re-compile because dependencies changed\n",
      "  name: cursor-driver%\n",
      "  exporting instance: \"/usr/share/racket/pkgs/gui-lib/mred/private/wx/platform.rkt\"\n",
      "  importing instance: \"/usr/share/racket/pkgs/gui-lib/mred/private/wx/common/cursor.rkt\"\n",
      "  context...:\n",
      "   temp35_0\n",
      "   for-loop\n",
      "   run-module-instance!\n",
      "   for-loop\n",
      "   [repeats 1 more time]\n",
      "   run-module-instance!\n",
      "   for-loop\n",
      "   [repeats 1 more time]\n",
      "   run-module-instance!\n",
      "   for-loop\n",
      "   [repeats 1 more time]\n",
      "   run-module-instance!\n",
      "   for-loop\n",
      "   [repeats 1 more time]\n",
      "   run-module-instance!\n",
      "   for-loop\n",
      "   ...\n"
     ]
    }
   ],
   "source": [
    "(require slideshow/play)"
   ]
  },
  {
   "cell_type": "code",
   "execution_count": 4,
   "metadata": {},
   "outputs": [
    {
     "name": "stderr",
     "output_type": "stream",
     "text": [
      "instantiate-linklet: mismatch;\n",
      " reference to a variable that is uninitialized;\n",
      " possibly, bytecode file needs re-compile because dependencies changed\n",
      "  name: has-x-selection?\n",
      "  exporting instance: \"/usr/share/racket/pkgs/gui-lib/mred/private/wx/platform.rkt\"\n",
      "  importing instance: \"/usr/share/racket/pkgs/gui-lib/mred/private/wx/common/clipboard.rkt\"\n",
      "  context...:\n",
      "   temp35_0\n",
      "   for-loop\n",
      "   run-module-instance!\n",
      "   for-loop\n",
      "   [repeats 1 more time]\n",
      "   run-module-instance!\n",
      "   for-loop\n",
      "   [repeats 1 more time]\n",
      "   run-module-instance!\n",
      "   for-loop\n",
      "   [repeats 1 more time]\n",
      "   run-module-instance!\n",
      "   for-loop\n",
      "   [repeats 1 more time]\n",
      "   run-module-instance!\n",
      "   for-loop\n",
      "   ...\n"
     ]
    }
   ],
   "source": [
    "(require 2htdp/universe)"
   ]
  },
  {
   "cell_type": "code",
   "execution_count": 5,
   "metadata": {},
   "outputs": [
    {
     "data": {
      "text/html": [
       "<code><img style=\"display: inline; vertical-align: baseline; padding: 0pt; margin: 0pt; border: 0pt\" src=\"data:image/png;base64,iVBORw0KGgoAAAANSUhEUgAAACgAAAAdCAYAAADYSS5zAAACCElEQVRYhc3YzWoTURjG8V9q\r\n",
       "UPATikrwBly40BvoqoggghtRwZvowg+8BRfuRKzgQhBx6U4UwaW6sHQniBZptYlSrbSaFhvH\r\n",
       "xUxlZpJMJslk4gPv5szhvP8575nnnDOCINBPYBLf8B6ncvQ/h3f4jsm+8w0AeAVNBFF8xOlU\r\n",
       "nyou40usXxNXywBsxJLGYwGXcDv1AvFojBQQJ/G7S/I8sZVnWQwDODcE3HbMDQyIeo/B/xQA\r\n",
       "2GuMepxpQlLPsKS7KhnP8iprjKWI4Z/SgHexswCIQVXFbKKlwzp7i5bhS9lvtIR+WckqMdwR\r\n",
       "WknZauBWEM3StjoBrmNPKUhJ7cbeSqWSZIqVdgduCLexn8ov8S+h2b/E0YTNCPfX18LZKxus\r\n",
       "zWawimvRpJnG2n8Alo4VvKpEtPsV43FFqoXVCRzHC2yMFSephnC53Y9/JNP4JAQdV1mbwo9l\r\n",
       "Fkc67cW7cFP349Ko4e6h1tWogyDYxBss9lGOorSI50EQ1OONnYz6vNB2ytbBKHdSqRLvM17L\r\n",
       "WcOBrL34rNB/xqUVnIk3pAEv4FBpOO06jIuJllSJl2WXYKvH8zzRa4zlYe4kTwoAfDrKS9OU\r\n",
       "7ANFXfatbx1TIwOMID9ov/j8wFdcxzE8wmYHwIW+8w0AOBNbqxuYF/7eqKb61fAwBlrHTBmA\r\n",
       "k1GyxziRo38ND/DZAP9m/gIMaTli/RY8kAAAAABJRU5ErkJggg==\r\n",
       "\"/></code>"
      ],
      "text/plain": [
       "(pict '(prog #<procedure:...expict/flash.rkt:41:6> 28.53169548885461) 40.0 28.53169548885461 28.53169548885461 0 '() #f #f)"
      ]
     },
     "execution_count": 5,
     "metadata": {},
     "output_type": "execute_result"
    }
   ],
   "source": [
    "(filled-flash 40 30)"
   ]
  },
  {
   "cell_type": "code",
   "execution_count": 6,
   "metadata": {},
   "outputs": [
    {
     "data": {
      "text/html": [
       "<code>5</code>"
      ],
      "text/plain": [
       "5"
      ]
     },
     "execution_count": 6,
     "metadata": {},
     "output_type": "execute_result"
    }
   ],
   "source": [
    "(+ 2 3)"
   ]
  },
  {
   "cell_type": "code",
   "execution_count": 7,
   "metadata": {},
   "outputs": [
    {
     "data": {
      "text/html": [
       "<code>15</code>"
      ],
      "text/plain": [
       "15"
      ]
     },
     "execution_count": 7,
     "metadata": {},
     "output_type": "execute_result"
    }
   ],
   "source": [
    "(* 3 5)"
   ]
  },
  {
   "cell_type": "code",
   "execution_count": 8,
   "metadata": {},
   "outputs": [],
   "source": [
    "(define (sqr n)\n",
    "  (* n n))"
   ]
  },
  {
   "cell_type": "code",
   "execution_count": 9,
   "metadata": {},
   "outputs": [
    {
     "data": {
      "text/html": [
       "<code>25</code>"
      ],
      "text/plain": [
       "25"
      ]
     },
     "execution_count": 9,
     "metadata": {},
     "output_type": "execute_result"
    }
   ],
   "source": [
    "(sqr 5)"
   ]
  },
  {
   "cell_type": "code",
   "execution_count": 10,
   "metadata": {},
   "outputs": [
    {
     "data": {
      "text/html": [
       "<code>625</code>"
      ],
      "text/plain": [
       "625"
      ]
     },
     "execution_count": 10,
     "metadata": {},
     "output_type": "execute_result"
    }
   ],
   "source": [
    "(sqr (sqr 5))"
   ]
  },
  {
   "cell_type": "code",
   "execution_count": 11,
   "metadata": {},
   "outputs": [
    {
     "data": {
      "text/html": [
       "<code>152587890625</code>"
      ],
      "text/plain": [
       "152587890625"
      ]
     },
     "execution_count": 11,
     "metadata": {},
     "output_type": "execute_result"
    }
   ],
   "source": [
    "(sqr (sqr (sqr (sqr 5))))"
   ]
  },
  {
   "cell_type": "code",
   "execution_count": 12,
   "metadata": {},
   "outputs": [],
   "source": [
    "(define (sixteen-power x)\n",
    "  (sqr (sqr (sqr (sqr x)))))"
   ]
  },
  {
   "cell_type": "code",
   "execution_count": 13,
   "metadata": {},
   "outputs": [
    {
     "data": {
      "text/html": [
       "<code>65536</code>"
      ],
      "text/plain": [
       "65536"
      ]
     },
     "execution_count": 13,
     "metadata": {},
     "output_type": "execute_result"
    }
   ],
   "source": [
    "(sixteen-power 2)"
   ]
  },
  {
   "cell_type": "code",
   "execution_count": 14,
   "metadata": {},
   "outputs": [
    {
     "data": {
      "text/html": [
       "<code>'(65536 43046721 4294967296 152587890625)</code>"
      ],
      "text/plain": [
       "'(65536 43046721 4294967296 152587890625)"
      ]
     },
     "execution_count": 14,
     "metadata": {},
     "output_type": "execute_result"
    }
   ],
   "source": [
    "(map sixteen-power '(2 3 4 5))"
   ]
  },
  {
   "cell_type": "code",
   "execution_count": 15,
   "metadata": {},
   "outputs": [
    {
     "data": {
      "text/html": [
       "<code>'(1.0000000000000017e-16 6.553600000000011e-12 4.304672099999998e-09 4.2949672960000073e-07 1.52587890625e-05)</code>"
      ],
      "text/plain": [
       "'(1.0000000000000017e-16 6.553600000000011e-12 4.304672099999998e-09 4.2949672960000073e-07 1.52587890625e-05)"
      ]
     },
     "execution_count": 15,
     "metadata": {},
     "output_type": "execute_result"
    }
   ],
   "source": [
    "(map sixteen-power '(0.1 0.2 0.3 0.4 0.5))"
   ]
  },
  {
   "cell_type": "code",
   "execution_count": 16,
   "metadata": {},
   "outputs": [
    {
     "data": {
      "text/html": [
       "<code><img style=\"display: inline; vertical-align: baseline; padding: 0pt; margin: 0pt; border: 0pt\" src=\"data:image/png;base64,iVBORw0KGgoAAAANSUhEUgAAAGQAAABkCAYAAABw4pVUAAABtklEQVR4nO3dMWoCURRG4f+F\r\n",
       "lLobsdZaBddiI4hr0LWI7sLdiP2kMCkCSUzM6Jwn54MpxFtcOD5mmMaSpIkwXpOkaWxCUErJ\r\n",
       "S9dL6DODwBgExiAwBoExCIxBYAwCYxAYg8AYBMYgMAaBMQiMQWAMAmMQGIPAGATGIDAGgTEI\r\n",
       "jEFgDAJjEBiDwBgExiAwBoExCIxBYAwCYxAYg8AYBMYgMAaBMQiMQWAMAmMQGIPAGATGIDAG\r\n",
       "gTEIjEFgDAJjEBiDwBgExiAwBoExCIxBYAwCYxAYg8AYBMYgMAaBMQiMQWAMAmMQGIPAGATG\r\n",
       "IDAGgTEIjEFgDAJjEJiqg+x2yWiU9HqXazxO9vuut/q/pkbLZdMkX1+rVdfb3SZJU96DdP2j\r\n",
       "+JPdLpnPf57Z75Pp9DH7tKXa/8Ldbq/PbDb33+Meqjwh/X5yPl+fOZ0es09bqj0hv1FK1xvc\r\n",
       "psogg0E7M0RVBlks2pkhqjLIbJasVt9/v14nk8nj9mlTlTf1D4fD5WnqeLx8Hg4vJ6PaGKXU\r\n",
       "HeTZPPVTVq0MAmMQGIPAGATGIDAGgTEIjEFgDAJjEBiDwBgEpiTxVS/IG5vcqh72nlUdAAAA\r\n",
       "AElFTkSuQmCC\r\n",
       "\"/></code>"
      ],
      "text/plain": [
       "(object:image% #f #f #f #f 1 0 (object:image-snipclass% #f \"((lib \\\"image-core.ss\\\" \\\"mrlib\\\") (lib \\\"image-core-wxme.rkt\\\" \\\"mrlib\\\"))\" 1) #0=(object:style% (object:color% 0 0 0 1.0 #f) (object:color% 255 255 255 1.0 #f) (object:font% #f 'aligned '#(12.0 default normal normal #f default #f aligned) #f #f #f 'default 12.0 #f 'default 'normal 'normal 1 '#(1 12.0 normal normal #f default #f aligned)) 'bottom 0.0 0.0 0.0 0.0 (object:style-list% #<hash> #0# '(#0#) 1 #<procedure:add-member>) \"Basic\" #f #f (object:style-delta% 'default #f 0 12 'normal 'base 'normal 'base 'default 'base #f #t #f #t #f #f 'bottom 'base (object:mult-color% 0 0 0) (object:mult-color% 0 0 0) (object:add-color% 0 0 0) (object:add-color% 255 255 255)) #t (object:pen% '#(0 0 0 1.0 0 solid round round) #t 0 #f (object:color% 0 0 0 1.0 #t) 'round 'round 'solid 0) (object:brush% '#(255 255 255 1.0 solid) (object:color% 255 255 255 1.0 #t) 'solid #t 0 #f #f #f #f) 0 '()) (crop (list (point 0 0) (point 100 0) (point 100 100) (point 0 100)) (translate 0 0 (overlay (translate 45 75 (translate 5 5 (ellipse 10 10 0 255 \"blue\"))) (translate 0 0 (crop (list (point 0 0) (point 100 0) (point 100 100) (point 0 100)) (translate 0 0 (overlay (translate 0 0 (translate 0 0 (polygon (list (pulled-point 0 0 0 0 0 0) (pulled-point 0 0 100 0 0 0) (pulled-point 0 0 100 100 0 0) (pulled-point 0 0 0 100 0 0)) 'outline (pen \"black\" 2 'solid 'round 'round)))) (translate 0 0 (translate 0 0 (polygon (list (pulled-point 0 0 0 0 0 0) (pulled-point 0 0 100 0 0 0) (pulled-point 0 0 100 100 0 0) (pulled-point 0 0 0 100 0 0)) 255 \"white\")))))))))) (bb 100 100 100) #f #f #f #f #t)"
      ]
     },
     "execution_count": 16,
     "metadata": {},
     "output_type": "execute_result"
    }
   ],
   "source": [
    "(place-image (circle 5 \"solid\" \"blue\")\n",
    "             50 80\n",
    "             (empty-scene 100 100))"
   ]
  },
  {
   "cell_type": "code",
   "execution_count": 17,
   "metadata": {},
   "outputs": [
    {
     "data": {
      "text/html": [
       "<code>60</code>"
      ],
      "text/plain": [
       "60"
      ]
     },
     "execution_count": 17,
     "metadata": {},
     "output_type": "execute_result"
    }
   ],
   "source": [
    "(image-width\n",
    " (overlay (rectangle 20 20 \"solid\" \"red\")\n",
    "          (circle 30 \"solid\" \"blue\")))"
   ]
  },
  {
   "cell_type": "code",
   "execution_count": 18,
   "metadata": {},
   "outputs": [],
   "source": [
    "(define (y x) (* x x))"
   ]
  },
  {
   "cell_type": "code",
   "execution_count": 19,
   "metadata": {},
   "outputs": [
    {
     "data": {
      "text/html": [
       "<code>9</code>"
      ],
      "text/plain": [
       "9"
      ]
     },
     "execution_count": 19,
     "metadata": {},
     "output_type": "execute_result"
    }
   ],
   "source": [
    "(y 3)"
   ]
  },
  {
   "cell_type": "code",
   "execution_count": 20,
   "metadata": {},
   "outputs": [
    {
     "data": {
      "text/html": [
       "<code>81</code>"
      ],
      "text/plain": [
       "81"
      ]
     },
     "execution_count": 20,
     "metadata": {},
     "output_type": "execute_result"
    }
   ],
   "source": [
    "(y (y 3))"
   ]
  },
  {
   "cell_type": "code",
   "execution_count": 21,
   "metadata": {},
   "outputs": [
    {
     "data": {
      "text/html": [
       "<code><img style=\"display: inline; vertical-align: baseline; padding: 0pt; margin: 0pt; border: 0pt\" src=\"data:image/png;base64,iVBORw0KGgoAAAANSUhEUgAAAGQAAABQCAYAAADvCdDvAAAA3klEQVR4nO3dMQ3EQAADQd8r\r\n",
       "/Clf6keQLWYQWFoAPtvuyHi27V5NCs45+309gn+CxAgSI0iMIDGCxAgSI0iMIDGCxAgSI0iM\r\n",
       "IDGCxAgSI0iMIDGCxAgSI0iMIDGCxAgSI0iMIDGCxAgSI0iMIDGCxAgSI0iMIDGCxAgSI0iM\r\n",
       "IDGCxAgSI0iMIDGCxAgSI0iMIDGCxAgSI0iMIDGCxAgSI0iMIDGCxAgSI0iMIDGCxAgSI0iM\r\n",
       "IDGCxAgSI0iMIDGCxAgSI0iMIDGCxAgSI0iMIDGCxAgSI0iMIDFn7rtTXjxSBZ8SrsBoAAAA\r\n",
       "AElFTkSuQmCC\r\n",
       "\"/></code>"
      ],
      "text/plain": [
       "(object:image% #f #f #f #f 1 0 (object:image-snipclass% #f \"((lib \\\"image-core.ss\\\" \\\"mrlib\\\") (lib \\\"image-core-wxme.rkt\\\" \\\"mrlib\\\"))\" 1) #0=(object:style% (object:color% 0 0 0 1.0 #f) (object:color% 255 255 255 1.0 #f) (object:font% #f 'aligned '#(12.0 default normal normal #f default #f aligned) #f #f #f 'default 12.0 #f 'default 'normal 'normal 1 '#(1 12.0 normal normal #f default #f aligned)) 'bottom 0.0 0.0 0.0 0.0 (object:style-list% #<hash> #0# '(#0#) 1 #<procedure:add-member>) \"Basic\" #f #f (object:style-delta% 'default #f 0 12 'normal 'base 'normal 'base 'default 'base #f #t #f #t #f #f 'bottom 'base (object:mult-color% 0 0 0) (object:mult-color% 0 0 0) (object:add-color% 0 0 0) (object:add-color% 255 255 255)) #t (object:pen% '#(0 0 0 1.0 0 solid round round) #t 0 #f (object:color% 0 0 0 1.0 #t) 'round 'round 'solid 0) (object:brush% '#(255 255 255 1.0 solid) (object:color% 255 255 255 1.0 #t) 'solid #t 0 #f #f #f #f) 0 '()) (crop (list (point 0 0) (point 100 0) (point 100 80) (point 0 80)) (translate 0 0 (overlay (translate 0 0 (translate 0 0 (polygon (list (pulled-point 0 0 0 0 0 0) (pulled-point 0 0 100 0 0 0) (pulled-point 0 0 100 80 0 0) (pulled-point 0 0 0 80 0 0)) 'outline (pen \"black\" 2 'solid 'round 'round)))) (translate 0 0 (translate 0 0 (polygon (list (pulled-point 0 0 0 0 0 0) (pulled-point 0 0 100 0 0 0) (pulled-point 0 0 100 80 0 0) (pulled-point 0 0 0 80 0 0)) 255 \"white\")))))) (bb 100 80 80) #f #f #f #f #t)"
      ]
     },
     "execution_count": 21,
     "metadata": {},
     "output_type": "execute_result"
    }
   ],
   "source": [
    "(empty-scene 100 80)"
   ]
  },
  {
   "cell_type": "code",
   "execution_count": 26,
   "metadata": {},
   "outputs": [],
   "source": [
    "(define (picture-of-rocket height)\n",
    "    (place-image.150 height (empty-scene 300 200)))\n"
   ]
  },
  {
   "cell_type": "code",
   "execution_count": null,
   "metadata": {},
   "outputs": [],
   "source": []
  }
 ],
 "metadata": {
  "@webio": {
   "lastCommId": null,
   "lastKernelId": null
  },
  "kernelspec": {
   "display_name": "Racket",
   "language": "racket",
   "name": "racket"
  },
  "language_info": {
   "codemirror_mode": "scheme",
   "file_extension": ".rkt",
   "mimetype": "text/x-racket",
   "name": "Racket",
   "pygments_lexer": "racket",
   "version": "7.7"
  }
 },
 "nbformat": 4,
 "nbformat_minor": 2
}
