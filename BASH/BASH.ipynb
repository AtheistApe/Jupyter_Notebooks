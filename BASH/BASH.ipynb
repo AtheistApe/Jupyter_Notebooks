{
 "cells": [
  {
   "cell_type": "markdown",
   "metadata": {},
   "source": [
    "# BASH - Bourne Again SHell\n",
    "\n",
    "This notebook is to learn how to use BASH (The Bourne Again Shell). It is based on the Udemy course \"Shell Scripting: Discover How to Automate Command Line\""
   ]
  },
  {
   "cell_type": "markdown",
   "metadata": {},
   "source": [
    "## Variables\n",
    "\n",
    "- Variable names in bash are typically spelled in all capital letters. \n",
    "\n",
    "- There should be no spaces between the variable name, the equal sign and the assigned value. "
   ]
  },
  {
   "cell_type": "code",
   "execution_count": 1,
   "metadata": {},
   "outputs": [
    {
     "name": "stdout",
     "output_type": "stream",
     "text": [
      "I like the bash shell\n"
     ]
    }
   ],
   "source": [
    "MY_SHELL=\"bash\"\n",
    "\n",
    "# To use the contents of a variable, preceed it with a '$' sign.\n",
    "\n",
    "echo \"I like the $MY_SHELL\" shell"
   ]
  },
  {
   "cell_type": "code",
   "execution_count": 2,
   "metadata": {},
   "outputs": [
    {
     "name": "stdout",
     "output_type": "stream",
     "text": [
      "I like bashing out scripts\n"
     ]
    }
   ],
   "source": [
    "# If the contents of a variable will be immediately preceeded\n",
    "# or followed by additional data, enclose them within '{}'\n",
    "\n",
    "echo \"I like ${MY_SHELL}ing out scripts\""
   ]
  },
  {
   "cell_type": "code",
   "execution_count": 4,
   "metadata": {},
   "outputs": [
    {
     "name": "stdout",
     "output_type": "stream",
     "text": [
      "The default system shell is /bin/bash\n",
      "You are running this script on HAL9000.\n",
      "THE current directory is /home/gary/Documents/Jupyter_Notebooks/BASH.\n"
     ]
    }
   ],
   "source": [
    "# To assign a variable to the output of a command, place the\n",
    "# command within '()' and preceed it with a '$' sign. In\n",
    "# older scripts, the same functionality is attained by\n",
    "# putting the command within ``.\n",
    "\n",
    "THIS_SHELL=$(echo $SHELL)\n",
    "SERVER_NAME=$(hostname)\n",
    "CURRENT_DIRECTORY=`pwd` # Old style syntax\n",
    "\n",
    "echo \"The default system shell is $THIS_SHELL\"\n",
    "echo \"You are running this script on ${SERVER_NAME}.\"\n",
    "echo \"THE current directory is ${CURRENT_DIRECTORY}.\""
   ]
  },
  {
   "cell_type": "markdown",
   "metadata": {},
   "source": [
    "## Tests\n",
    "\n",
    "Tests are performed by placing conditional expressions within [].\n",
    "\n",
    "- The syntax is: [ condition-to-test-for ]\n",
    "- To see a list of possible tests, enter 'help test' or 'man test'"
   ]
  },
  {
   "cell_type": "code",
   "execution_count": 5,
   "metadata": {
    "collapsed": true
   },
   "outputs": [
    {
     "name": "stdout",
     "output_type": "stream",
     "text": [
      "test: test [expr]\n",
      "    Evaluate conditional expression.\n",
      "    \n",
      "    Exits with a status of 0 (true) or 1 (false) depending on\n",
      "    the evaluation of EXPR.  Expressions may be unary or binary.  Unary\n",
      "    expressions are often used to examine the status of a file.  There\n",
      "    are string operators and numeric comparison operators as well.\n",
      "    \n",
      "    The behavior of test depends on the number of arguments.  Read the\n",
      "    bash manual page for the complete specification.\n",
      "    \n",
      "    File operators:\n",
      "    \n",
      "      -a FILE        True if file exists.\n",
      "      -b FILE        True if file is block special.\n",
      "      -c FILE        True if file is character special.\n",
      "      -d FILE        True if file is a directory.\n",
      "      -e FILE        True if file exists.\n",
      "      -f FILE        True if file exists and is a regular file.\n",
      "      -g FILE        True if file is set-group-id.\n",
      "      -h FILE        True if file is a symbolic link.\n",
      "      -L FILE        True if file is a symbolic link.\n",
      "      -k FILE        True if file has its `sticky' bit set.\n",
      "      -p FILE        True if file is a named pipe.\n",
      "      -r FILE        True if file is readable by you.\n",
      "      -s FILE        True if file exists and is not empty.\n",
      "      -S FILE        True if file is a socket.\n",
      "      -t FD          True if FD is opened on a terminal.\n",
      "      -u FILE        True if the file is set-user-id.\n",
      "      -w FILE        True if the file is writable by you.\n",
      "      -x FILE        True if the file is executable by you.\n",
      "      -O FILE        True if the file is effectively owned by you.\n",
      "      -G FILE        True if the file is effectively owned by your group.\n",
      "      -N FILE        True if the file has been modified since it was last read.\n",
      "    \n",
      "      FILE1 -nt FILE2  True if file1 is newer than file2 (according to\n",
      "                       modification date).\n",
      "    \n",
      "      FILE1 -ot FILE2  True if file1 is older than file2.\n",
      "    \n",
      "      FILE1 -ef FILE2  True if file1 is a hard link to file2.\n",
      "    \n",
      "    All file operators except -h and -L are acting on the target of a symbolic\n",
      "    link, not on the symlink itself, if FILE is a symbolic link.\n",
      "    \n",
      "    String operators:\n",
      "    \n",
      "      -z STRING      True if string is empty.\n",
      "    \n",
      "      -n STRING\n",
      "         STRING      True if string is not empty.\n",
      "    \n",
      "      STRING1 = STRING2\n",
      "                     True if the strings are equal.\n",
      "      STRING1 != STRING2\n",
      "                     True if the strings are not equal.\n",
      "      STRING1 < STRING2\n",
      "                     True if STRING1 sorts before STRING2 lexicographically.\n",
      "      STRING1 > STRING2\n",
      "                     True if STRING1 sorts after STRING2 lexicographically.\n",
      "    \n",
      "    Other operators:\n",
      "    \n",
      "      -o OPTION      True if the shell option OPTION is enabled.\n",
      "      -v VAR         True if the shell variable VAR is set.\n",
      "      -R VAR         True if the shell variable VAR is set and is a name\n",
      "                     reference.\n",
      "      ! EXPR         True if expr is false.\n",
      "      EXPR1 -a EXPR2 True if both expr1 AND expr2 are true.\n",
      "      EXPR1 -o EXPR2 True if either expr1 OR expr2 is true.\n",
      "    \n",
      "      arg1 OP arg2   Arithmetic tests.  OP is one of -eq, -ne,\n",
      "                     -lt, -le, -gt, or -ge.\n",
      "    \n",
      "    Arithmetic binary operators return true if ARG1 is equal, not-equal,\n",
      "    less-than, less-than-or-equal, greater-than, or greater-than-or-equal\n",
      "    than ARG2.\n",
      "    \n",
      "    See the bash manual page bash(1) for the handling of parameters (i.e.\n",
      "    missing parameters).\n",
      "    \n",
      "    Exit Status:\n",
      "    Returns success if EXPR evaluates to true; fails if EXPR evaluates to\n",
      "    false or an invalid argument is given.\n"
     ]
    }
   ],
   "source": [
    "help test"
   ]
  },
  {
   "cell_type": "markdown",
   "metadata": {},
   "source": [
    "### The if/else command"
   ]
  },
  {
   "cell_type": "code",
   "execution_count": 6,
   "metadata": {
    "run_control": {
     "marked": false
    }
   },
   "outputs": [
    {
     "name": "stdout",
     "output_type": "stream",
     "text": [
      "The '/etc/passwd' file exists.\n"
     ]
    }
   ],
   "source": [
    "# The '-e' (exists) tests if the following file exists; If so,\n",
    "# it returns 'true'\n",
    "\n",
    "if [ -e /etc/passwd ]\n",
    "then\n",
    "    echo \"The '/etc/passwd' file exists.\"\n",
    "else\n",
    "    echo \"The '/etc/passwd' file DOES NOT exist\"\n",
    "fi"
   ]
  },
  {
   "cell_type": "code",
   "execution_count": 7,
   "metadata": {},
   "outputs": [
    {
     "name": "stdout",
     "output_type": "stream",
     "text": [
      "You seem to like the bash shell.\n"
     ]
    }
   ],
   "source": [
    "# Within tests, put variables in quotes to prevent unexpected\n",
    "# side effects.\n",
    "\n",
    "if [ \"$MY_SHELL\" = \"bash\" ]\n",
    "then\n",
    "    echo \"You seem to like the bash shell.\"\n",
    "else\n",
    "    echo \"You don't seem to like the bash shell.\"\n",
    "fi"
   ]
  },
  {
   "cell_type": "markdown",
   "metadata": {},
   "source": [
    "### The if/else/elif commands"
   ]
  },
  {
   "cell_type": "code",
   "execution_count": 8,
   "metadata": {},
   "outputs": [
    {
     "name": "stdout",
     "output_type": "stream",
     "text": [
      "You don't seem to like the bash or csh shells.\n"
     ]
    }
   ],
   "source": [
    "MY_SHELL=\"zsh\"\n",
    "\n",
    "if [ \"$MY_SHELL\" = \"bash\" ]\n",
    "then\n",
    "    echo \"You seem to like the bash shell.\"\n",
    "elif [ \"$MY_SHELL\" = \"csh\" ]\n",
    "then\n",
    "    echo \"You seem to like the csh shell.\"\n",
    "else\n",
    "    echo \"You don't seem to like the bash or csh shells.\"\n",
    "fi"
   ]
  },
  {
   "cell_type": "markdown",
   "metadata": {},
   "source": [
    "## The 'for' loop\n",
    "\n",
    "The syntax is:\n",
    "```bash\n",
    "for VARIABLE_NAME in ITEM_1 ... ITEM_N\n",
    "do\n",
    "    command_1\n",
    "    command_2\n",
    "    .\n",
    "    .\n",
    "    command_N\n",
    "done\n",
    "```"
   ]
  },
  {
   "cell_type": "code",
   "execution_count": 9,
   "metadata": {},
   "outputs": [
    {
     "name": "stdout",
     "output_type": "stream",
     "text": [
      "COLOR: red\n",
      "COLOR: green\n",
      "COLOR: blue\n"
     ]
    }
   ],
   "source": [
    "for COLOR in red green blue\n",
    "do\n",
    "    echo \"COLOR: $COLOR\"\n",
    "done"
   ]
  },
  {
   "cell_type": "code",
   "execution_count": 10,
   "metadata": {},
   "outputs": [
    {
     "name": "stdout",
     "output_type": "stream",
     "text": [
      "COLOR: red\n",
      "COLOR: green\n",
      "COLOR: blue\n"
     ]
    }
   ],
   "source": [
    "# We can also store the list of items in a variable\n",
    "\n",
    "COLORS=\"red green blue\"\n",
    "for COLOR in $COLORS\n",
    "do\n",
    "    echo \"COLOR: $COLOR\"\n",
    "done"
   ]
  },
  {
   "cell_type": "code",
   "execution_count": 11,
   "metadata": {},
   "outputs": [
    {
     "name": "stdout",
     "output_type": "stream",
     "text": [
      "\u001b[0m\u001b[01;35mfile10.jpg\u001b[0m  \u001b[01;35mfile2.jpg\u001b[0m  \u001b[01;35mfile4.jpg\u001b[0m  \u001b[01;35mfile6.jpg\u001b[0m  \u001b[01;35mfile8.jpg\u001b[0m\n",
      "\u001b[01;35mfile1.jpg\u001b[0m   \u001b[01;35mfile3.jpg\u001b[0m  \u001b[01;35mfile5.jpg\u001b[0m  \u001b[01;35mfile7.jpg\u001b[0m  \u001b[01;35mfile9.jpg\u001b[0m\n",
      "Renaming file10.jpg to 2018-10-30-file10.jpg\n",
      "Renaming file1.jpg to 2018-10-30-file1.jpg\n",
      "Renaming file2.jpg to 2018-10-30-file2.jpg\n",
      "Renaming file3.jpg to 2018-10-30-file3.jpg\n",
      "Renaming file4.jpg to 2018-10-30-file4.jpg\n",
      "Renaming file5.jpg to 2018-10-30-file5.jpg\n",
      "Renaming file6.jpg to 2018-10-30-file6.jpg\n",
      "Renaming file7.jpg to 2018-10-30-file7.jpg\n",
      "Renaming file8.jpg to 2018-10-30-file8.jpg\n",
      "Renaming file9.jpg to 2018-10-30-file9.jpg\n"
     ]
    }
   ],
   "source": [
    "# The following code renames pictures ending in 'jpg' by\n",
    "# prefixing them with the current date.\n",
    "\n",
    "# First create a collection of empty files ending in 'jpg'\n",
    "\n",
    "for INDEX in 1 2 3 4 5 6 7 8 9 10\n",
    "do\n",
    "    touch \"file${INDEX}.jpg\"\n",
    "done\n",
    "\n",
    "ls file*.jpg\n",
    "\n",
    "# Create a variable 'PICTURES' to hold a list of the file\n",
    "# names and a variable 'DATE' to hold the current date\n",
    "\n",
    "PICTURES=$(ls *jpg)\n",
    "DATE=$(date +%F)\n",
    "\n",
    "# Now go through each PICTURE in PICTURES and rename them\n",
    "# by moving them into the new file name.\n",
    "\n",
    "for PICTURE in $PICTURES\n",
    "do\n",
    "    echo \"Renaming ${PICTURE} to ${DATE}-${PICTURE}\"\n",
    "    mv ${PICTURE} ${DATE}-${PICTURE}\n",
    "done"
   ]
  },
  {
   "cell_type": "code",
   "execution_count": 12,
   "metadata": {},
   "outputs": [
    {
     "name": "stdout",
     "output_type": "stream",
     "text": [
      "\u001b[0m\u001b[01;35m2018-10-30-file10.jpg\u001b[0m  \u001b[01;35m2018-10-30-file4.jpg\u001b[0m  \u001b[01;35m2018-10-30-file8.jpg\u001b[0m\n",
      "\u001b[01;35m2018-10-30-file1.jpg\u001b[0m   \u001b[01;35m2018-10-30-file5.jpg\u001b[0m  \u001b[01;35m2018-10-30-file9.jpg\u001b[0m\n",
      "\u001b[01;35m2018-10-30-file2.jpg\u001b[0m   \u001b[01;35m2018-10-30-file6.jpg\u001b[0m\n",
      "\u001b[01;35m2018-10-30-file3.jpg\u001b[0m   \u001b[01;35m2018-10-30-file7.jpg\u001b[0m\n"
     ]
    }
   ],
   "source": [
    "# Check that the files have been successfully renamed.\n",
    "\n",
    "ls *.jpg"
   ]
  },
  {
   "cell_type": "code",
   "execution_count": 13,
   "metadata": {},
   "outputs": [
    {
     "name": "stdout",
     "output_type": "stream",
     "text": [
      "archive_dir.sh  challenge.txt   newDOY.txt  script     top.txt\n",
      "array.c         dukeofyork.txt  newscript   SED.ipynb  up.txt\n",
      "BASH.ipynb      haha.txt        output.txt  stdout\n"
     ]
    }
   ],
   "source": [
    "# Remove the 'jpg' files\n",
    "\n",
    "rm *.jpg\n",
    "ls"
   ]
  },
  {
   "cell_type": "markdown",
   "metadata": {},
   "source": [
    "## Positional Parameters\n",
    "\n",
    "These are variables that contain the contents of the command line.\n",
    "\n",
    "If the command line is:\n",
    "\n",
    "$ script.sh param1 param2 param3\n",
    "\n",
    "then the positional parameters are/contain:\n",
    "```\n",
    "$0: \"script.sh\"\n",
    "$1: \"param1\"\n",
    "$2: \"param2\"\n",
    "$3: \"param3\"\n",
    "```\n",
    "\n",
    "The command line can have up to 9 positional parameters $0 ... $9"
   ]
  },
  {
   "cell_type": "code",
   "execution_count": 12,
   "metadata": {},
   "outputs": [
    {
     "name": "stdout",
     "output_type": "stream",
     "text": []
    }
   ],
   "source": [
    "# Archive the current directory and save it to the subdirectory\n",
    "# 'archives' of the current directory.\n",
    "\n",
    "# Create the script 'archive_dir.sh' to do the work. The\n",
    "# quotes around the 'EOF' prevent parameter expansion within\n",
    "# the script.\n",
    "\n",
    "cat << 'EOF' > archive_dir.sh\n",
    "CURR_DIR=$(pwd)\n",
    "ARCHIVE_DIR=${CURR_DIR}/archives\n",
    "echo \"Executing script: $0\"\n",
    "echo \"Checking if archive directory exists. If not, create it\"\n",
    "\n",
    "if [ ! -d $ARCHIVE_DIR ]\n",
    "then\n",
    "    echo \"Making directory ${ARCHIVE_DIR}.\"\n",
    "    mkdir $ARCHIVE_DIR\n",
    "else\n",
    "    echo \"$ARCHIVE_DIR already exists.\"\n",
    "fi\n",
    "\n",
    "DIR=$(basename $1)\n",
    "echo \"Archiving directory: $1\"\n",
    "\n",
    "# Create an archive of the given directory\"\n",
    "tar -cf ${ARCHIVE_DIR}/${DIR}.tar.gz ${1}\n",
    "EOF\n",
    "\n",
    "# Run the script\n",
    "# bash archive_dir.sh /Users/gary/Projects/CommonLisp"
   ]
  },
  {
   "cell_type": "code",
   "execution_count": null,
   "metadata": {
    "collapsed": true
   },
   "outputs": [],
   "source": []
  }
 ],
 "metadata": {
  "@webio": {
   "lastCommId": null,
   "lastKernelId": null
  },
  "anaconda-cloud": {},
  "hide_input": false,
  "kernelspec": {
   "display_name": "Bash",
   "language": "bash",
   "name": "bash"
  },
  "language_info": {
   "codemirror_mode": "shell",
   "file_extension": ".sh",
   "mimetype": "text/x-sh",
   "name": "bash"
  },
  "latex_envs": {
   "bibliofile": "biblio.bib",
   "cite_by": "apalike",
   "current_citInitial": 1,
   "eqLabelWithNumbers": true,
   "eqNumInitial": 0
  }
 },
 "nbformat": 4,
 "nbformat_minor": 1
}
