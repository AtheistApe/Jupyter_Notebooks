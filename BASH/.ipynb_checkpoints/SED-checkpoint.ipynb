{
 "cells": [
  {
   "cell_type": "markdown",
   "metadata": {},
   "source": [
    "# SED -- Stream EDitor\n",
    "\n",
    "This notebook is used to learn to use the BASH SED (Stream EDitor) command."
   ]
  },
  {
   "cell_type": "markdown",
   "metadata": {},
   "source": [
    "## The \"sed 's/old/new/' file\" command\n",
    "\n",
    "The 's' (substitute) command replaces the FIRST occurance of text 'old' with text 'new' on each line of the file 'file'"
   ]
  },
  {
   "cell_type": "code",
   "execution_count": 1,
   "metadata": {},
   "outputs": [
    {
     "name": "stdout",
     "output_type": "stream",
     "text": [
      "The grand old Duke of York\n",
      "He had ten thousand men\n",
      "He marched them up to the top of the hill\n",
      "And he marched them down again\n",
      "And when they were up they were up\n",
      "And when they were down they were down\n",
      "And when they were only half-way up\n",
      "They were neither up nor down\n"
     ]
    }
   ],
   "source": [
    "# Example. First display the text of file 'dukeofyork.txt'\n",
    "\n",
    "cat dukeofyork.txt"
   ]
  },
  {
   "cell_type": "code",
   "execution_count": 2,
   "metadata": {},
   "outputs": [
    {
     "name": "stdout",
     "output_type": "stream",
     "text": [
      "The grand old Duke of York\r\n",
      "He had ten thousand men\r\n",
      "He marched THEm up to the top of the hill\r\n",
      "And he marched THEm down again\r\n",
      "And when THEy were up they were up\r\n",
      "And when THEy were down they were down\r\n",
      "And when THEy were only half-way up\r\n",
      "They were neiTHEr up nor down\r\n"
     ]
    }
   ],
   "source": [
    "# Now replace the first occurance of 'the' with 'THE' in\n",
    "# each line of the file. Note that SED is always case\n",
    "# sensitive: 'the' is different from 'THE'. Also, the text\n",
    "# of the original file is NOT changed.\n",
    "\n",
    "sed 's/the/THE/' dukeofyork.txt"
   ]
  },
  {
   "cell_type": "code",
   "execution_count": 3,
   "metadata": {},
   "outputs": [
    {
     "name": "stdout",
     "output_type": "stream",
     "text": []
    }
   ],
   "source": [
    "# To save the changed file, we can redirect the output of\n",
    "# SED to a new file, say 'newDOY.txt'. The \">\" overwrites\n",
    "# text in 'newDOY.txt' if the file already exists; Use '>>'\n",
    "# to append text to the file.\n",
    "\n",
    "sed 's/the/THE/' dukeofyork.txt > newDOY.txt"
   ]
  },
  {
   "cell_type": "code",
   "execution_count": 4,
   "metadata": {},
   "outputs": [
    {
     "name": "stdout",
     "output_type": "stream",
     "text": [
      "The grand old Duke of York\r\n",
      "He had ten thousand men\r\n",
      "He marched THEm up to the top of the hill\r\n",
      "And he marched THEm down again\r\n",
      "And when THEy were up they were up\r\n",
      "And when THEy were down they were down\r\n",
      "And when THEy were only half-way up\r\n",
      "They were neiTHEr up nor down\r\n"
     ]
    }
   ],
   "source": [
    "# Display the output of the new, changed file.\n",
    "\n",
    "cat newDOY.txt"
   ]
  },
  {
   "cell_type": "code",
   "execution_count": 5,
   "metadata": {},
   "outputs": [
    {
     "name": "stdout",
     "output_type": "stream",
     "text": [
      "The grand old Duke of York\r\n",
      "He had ten thousand men\r\n",
      "He marched  up to the top of the hill\r\n",
      "And he marched  down again\r\n",
      "And when they were up they were up\r\n",
      "And when they were down they were down\r\n",
      "And when they were only half-way up\r\n",
      "They were neither up nor down\r\n"
     ]
    }
   ],
   "source": [
    "# The replacement text can even be empty. This leaves a\n",
    "# space at the place of the replaced (removed) text.\n",
    "\n",
    "sed 's/them//' dukeofyork.txt"
   ]
  },
  {
   "cell_type": "code",
   "execution_count": 6,
   "metadata": {
    "scrolled": true
   },
   "outputs": [
    {
     "name": "stdout",
     "output_type": "stream",
     "text": [
      "The grand old Duke of York\r\n",
      "He had ten thousand men\r\n",
      "He marched THEm up to the top of the hill\r\n",
      "And he marched THEm down again\r\n",
      "And when THEy were up they were up\r\n",
      "And when THEy were down they were down\r\n",
      "And when THEy were only half-way up\r\n",
      "They were neiTHEr up nor down\r\n",
      "/* array.c -- read, reverse, and write an array of integers */\r\n",
      "\r\n",
      "#include <stdio.h>\r\n",
      "\r\n",
      "#define MAX 10\r\n",
      "\r\n",
      "void intSwap(int *x, int *y);\r\n",
      "int getArray(int a[], int max, int terminator);\r\n",
      "void printArray(int a[], int n);\r\n",
      "void reverseArray(int a[], int n);\r\n",
      "\r\n",
      "int main(void)\r\n",
      "{\r\n",
      "\tint x[MAX];\r\n",
      "\tint howMany;\r\n",
      "\r\n",
      "\thowMany = getArray(x, MAX, -1);\r\n",
      "\tprintf(\"Read THE following array:\\n\");\r\n",
      "\tprintArray(x, howMany);\r\n",
      "\treverseArray(x, howMany);\r\n",
      "\tprintf(\"After being reversed:\\n\");\r\n",
      "\tprintArray(x, howMany);\r\n",
      "}\r\n",
      "\r\n",
      "/* swap THE contents of x and y */\r\n",
      "void intSwap(int *x, int *y)\r\n",
      "{\r\n",
      "\tint tmp = *x;\r\n",
      "\t*x = *y;\r\n",
      "\t*y = tmp;\r\n",
      "}\r\n",
      "\r\n",
      "/* print THE first n elements in the array a */\r\n",
      "void printArray(int a[], int n)\r\n",
      "{\r\n",
      "\tint i;\r\n",
      "\r\n",
      "\tfor ( i=0; i<n; i++ ) {\r\n",
      "\t\tprintf(\"\\t%d\\n\", a[i]);\r\n",
      "\t}\r\n",
      "}\r\n",
      "\r\n",
      "/* get up to max integers from THE user and store them in a; \r\n",
      " * terminator marks end of input */\r\n",
      "int getArray(int a[], int max, int terminator)\r\n",
      "{\r\n",
      "\tint n = 0;\r\n",
      "\tint tmp;\r\n",
      "\r\n",
      "\tdo {\r\n",
      "\t\tprintf(\"Enter integer [%d to terminate] : \", terminator);\r\n",
      "\t\tscanf(\"%d\", &tmp);\r\n",
      "\t\tif ( tmp==terminator ) {\r\n",
      "\t\t\tbreak;\r\n",
      "\t\t} \r\n",
      "\t\tif ( n>=max ) {\r\n",
      "\t\t\tprintf(\"Sorry, array is full\\n\");\r\n",
      "\t\t\treturn n;\r\n",
      "\t\t} else { \r\n",
      "\t\t\ta[n++] = tmp;\r\n",
      "\t\t}\r\n",
      "\t} while ( 1 );\r\n",
      "\treturn n;\r\n",
      "}\r\n",
      "\r\n",
      "/* reverse THE order of the first n elements of a */\r\n",
      "void reverseArray(int a[], int n)\r\n",
      "{\r\n",
      "\tint i;\r\n",
      "\r\n",
      "\tfor ( i=0; i<n/2; i++ ) {\r\n",
      "\t\tintSwap(&a[i], &a[n-i-1]);\r\n",
      "\t}\r\n",
      "}\r\n"
     ]
    }
   ],
   "source": [
    "# The SED 's' command can operate on more than one file; It\n",
    "# does each in order as listed in the command line.\n",
    "\n",
    "sed 's/the/THE/' dukeofyork.txt array.c"
   ]
  },
  {
   "cell_type": "code",
   "execution_count": 7,
   "metadata": {},
   "outputs": [
    {
     "name": "stdout",
     "output_type": "stream",
     "text": [
      "This is THE best of the best\r\n"
     ]
    }
   ],
   "source": [
    "# If you don't supply an input file, the 's' command\n",
    "# will be applied to the standard input. This won't work\n",
    "# in this notebook interface, however. But we can mimic\n",
    "# this by piping the echoed text through SED's 's' command\n",
    "\n",
    "echo \"This is the best of the best\" | sed 's/the/THE/'"
   ]
  },
  {
   "cell_type": "code",
   "execution_count": 2,
   "metadata": {},
   "outputs": [
    {
     "name": "stdout",
     "output_type": "stream",
     "text": [
      "This is THE best of the best!\r\n"
     ]
    }
   ],
   "source": [
    "# ACTUALLY, we CAN run a SED command on standard input\n",
    "# using '<< EOF' as shown below. Use quotes around EOF\n",
    "# (i.e. 'EOF') to prevent parameter expansion within the\n",
    "# block of code between the EOF's.\n",
    "\n",
    "sed 's/the/THE/' << EOF\n",
    "This is the best of the best!\n",
    "EOF"
   ]
  },
  {
   "cell_type": "code",
   "execution_count": 9,
   "metadata": {},
   "outputs": [
    {
     "name": "stdout",
     "output_type": "stream",
     "text": [
      "     1\tThe grand old Duke of York\r\n",
      "     2\tHe had ten thousand men\r\n",
      "     3\tHe marched THEm up to the top of the hill\r\n",
      "     4\tAnd he marched THEm down again\r\n",
      "     5\tAnd when THEy were up they were up\r\n",
      "     6\tAnd when THEy were down they were down\r\n",
      "     7\tAnd when THEy were only half-way up\r\n",
      "     8\tThey were neiTHEr up nor down\r\n"
     ]
    }
   ],
   "source": [
    "# Can pipe the output of one command through the SED\n",
    "# 's' command. Note that 'nl' takes the input file and\n",
    "# returns the file with the lines of the file numbered.\n",
    "\n",
    "nl dukeofyork.txt | sed 's/the/THE/'"
   ]
  },
  {
   "cell_type": "code",
   "execution_count": 10,
   "metadata": {},
   "outputs": [
    {
     "name": "stdout",
     "output_type": "stream",
     "text": [
      "The grand old Duke of York\r\n",
      "He had ten thousand men\r\n",
      "He marched THEm up to the top of the hill\r\n",
      "And he marched THEm down again\r\n",
      "And when THEy were up they were up\r\n",
      "And when THEy were down they were down\r\n",
      "And when THEy were only half-way up\r\n",
      "They were neiTHEr up nor down\r\n"
     ]
    }
   ],
   "source": [
    "# SED can take the input from one file and redirect its\n",
    "# output to another file\n",
    "\n",
    "sed 's/the/THE/' < dukeofyork.txt > output.txt\n",
    "cat output.txt"
   ]
  },
  {
   "cell_type": "code",
   "execution_count": 11,
   "metadata": {},
   "outputs": [
    {
     "name": "stdout",
     "output_type": "stream",
     "text": [
      "The grand old Duke of York\r\n",
      "He had ten $1000 men\r\n",
      "He marched them up to the top of the hill\r\n",
      "And he marched them down again\r\n",
      "And when they were up they were up\r\n",
      "And when they were down they were down\r\n",
      "And when they were only half-way up\r\n",
      "They were neither up nor down\r\n"
     ]
    }
   ],
   "source": [
    "# Some characters ($, ', for example) in the search string\n",
    "# need to be escaped using the '\\' character. Some of these\n",
    "# characters have special meanings in the shell.\n",
    "\n",
    "sed 's/thousand/\\$1000/' dukeofyork.txt"
   ]
  },
  {
   "cell_type": "code",
   "execution_count": 12,
   "metadata": {},
   "outputs": [
    {
     "name": "stdout",
     "output_type": "stream",
     "text": [
      "The grand old Duke of York\r\n",
      "He had ten thousand men\r\n",
      "He marched them up to the top of the hill\r\n",
      "And he marched them down again\r\n",
      "And when they \"weren't\" up they were up\r\n",
      "And when they \"weren't\" down they were down\r\n",
      "And when they \"weren't\" only half-way up\r\n",
      "They \"weren't\" neither up nor down\r\n"
     ]
    }
   ],
   "source": [
    "# Must use double quotes (\") around the 's' command for\n",
    "# escape sequences to work.\n",
    "\n",
    "sed \"s/were/\\\"weren\\'t\\\"/\" dukeofyork.txt"
   ]
  },
  {
   "cell_type": "code",
   "execution_count": 13,
   "metadata": {},
   "outputs": [
    {
     "name": "stdout",
     "output_type": "stream",
     "text": [
      "The best of THE best of THE best\r\n"
     ]
    }
   ],
   "source": [
    "# SED's 's' command can be modified by the 'g' (global)\n",
    "# modifier to replace EVERY occurance of the search text\n",
    "# on the line with the replacement text.\n",
    "\n",
    "echo \"The best of the best of the best\" | sed \"s/the/THE/g\""
   ]
  },
  {
   "cell_type": "code",
   "execution_count": 14,
   "metadata": {},
   "outputs": [
    {
     "name": "stdout",
     "output_type": "stream",
     "text": [
      "This is THE best of THE best\r\n"
     ]
    }
   ],
   "source": [
    "# We can define our own function which uses SED commands\n",
    "# but must enclose the command string within double\n",
    "# quotes (\").\n",
    "\n",
    "function mys(){\n",
    "# Call as: mys old new \"Text string\"\n",
    "    echo $3 | sed \"s/$1/$2/g\"\n",
    "}\n",
    "\n",
    "mys 'the' 'THE' 'This is the best of the best'"
   ]
  },
  {
   "cell_type": "code",
   "execution_count": 15,
   "metadata": {},
   "outputs": [
    {
     "name": "stdout",
     "output_type": "stream",
     "text": [
      "---b---b---b---\r\n"
     ]
    }
   ],
   "source": [
    "# the 'g' modifier looks for non-overlapping occurances\n",
    "# of the string to be replaced.\n",
    "\n",
    "echo 'abababababababa' | sed 's/aba/---/g'"
   ]
  },
  {
   "cell_type": "code",
   "execution_count": 16,
   "metadata": {},
   "outputs": [
    {
     "name": "stdout",
     "output_type": "stream",
     "text": [
      "one the, two the, three THE, four the\r\n"
     ]
    }
   ],
   "source": [
    "# Can use a number modifier in the 's' command to change\n",
    "# a particular occurance of the string to be replaced.\n",
    "\n",
    "echo 'one the, two the, three the, four the' | sed 's/the/THE/3'"
   ]
  },
  {
   "cell_type": "code",
   "execution_count": 17,
   "metadata": {},
   "outputs": [
    {
     "name": "stdout",
     "output_type": "stream",
     "text": [
      "aaaaaaaaaaaaaaaaaaaaa-aaaaaa\r\n"
     ]
    }
   ],
   "source": [
    "echo 'aaaaaaaaaaaaaaaaaaaaaaaaaaaa' | sed 's/a/-/22'"
   ]
  },
  {
   "cell_type": "code",
   "execution_count": 18,
   "metadata": {},
   "outputs": [
    {
     "name": "stdout",
     "output_type": "stream",
     "text": [
      "aaaaaaaaaaaaaaaa-aaaaaaaaaaa\r\n",
      "3-4-5-6-7-8-9\r\n"
     ]
    }
   ],
   "source": [
    "# In the 's' command can use any character in place of\n",
    "# the '/' character as long as the same character is used\n",
    "# in place of the '/' character. In this example we will\n",
    "# use the '@' character instead of the '/' character. This\n",
    "# is useful if you want to replace a '/' character in a \n",
    "# string.\n",
    "\n",
    "echo 'aaaaaaaaaaaaaaaaaaaaaaaaaaaa' | sed 's@a@-@17'\n",
    "echo '3/4/5/6/7/8/9' | sed 's;/;-;g'"
   ]
  },
  {
   "cell_type": "markdown",
   "metadata": {},
   "source": [
    "## Regular Expressions\n",
    "\n",
    "In SED's 's' command 's/old/new/', the 'old' (search) string\n",
    "can be a regular expression (regex)\n",
    "\n",
    "### Metacharacters:\n",
    "\n",
    "- '.' : Matches any single character.\n",
    "    - 'h.t' matches 'hot', 'hat' but not 'hoot'\n",
    "- '\\' : Removes the meaning of any following metacharacter\n",
    "- '^' : Matches the beginning of the line\n",
    "- '$' : Matches the end of the line\n",
    "\n",
    "### Character classes and quantifiers:\n",
    "\n",
    "- [] : Matches ANY single character within the []\n",
    "    - 'a[xyz]c' matches 'axc', 'ayc' and 'azc' but not 'abc'\n",
    "    - Can specify a range within [], like [a-z] which               matches any single character from 'a' to 'z' and can\n",
    "      use multiple ranges within the [].\n",
    "    - If the first character within [] is a '^', then match\n",
    "      will be for any single character NOT WITHIN the [].\n",
    "- '*' : Matches ZERO or more occurances of the previous item.  The previous item can be a literal character, a period or a character class.\n",
    "    - To repeat a pattern of two or more characters, can\n",
    "      enclose them in parenthesis ().\n",
    "- '+' : Matches ONE or more occurances of the previous item.\n",
    "- '{n}' : Matches exactly n occurances of the previous item.\n",
    "\n",
    "### Special Replacement Strings\n",
    "\n",
    "- '&' is replaced with found text.\n",
    "- '\\n' is replaced with text found for the nth \\(...\\).\n"
   ]
  },
  {
   "cell_type": "code",
   "execution_count": 19,
   "metadata": {},
   "outputs": [
    {
     "name": "stdout",
     "output_type": "stream",
     "text": [
      "It @@s the @@rst of times, it @@s the best of times\r\n",
      "It was the worst of times, it was the best of TIMES\r\n"
     ]
    }
   ],
   "source": [
    "STRING='It was the worst of times, it was the best of times'\n",
    "\n",
    "echo $STRING | sed 's/w./@@/g'\n",
    "echo $STRING | sed 's/times$/TIMES/'"
   ]
  },
  {
   "cell_type": "code",
   "execution_count": 20,
   "metadata": {},
   "outputs": [
    {
     "name": "stdout",
     "output_type": "stream",
     "text": [
      "The ???m was ???t and the ???t ???s sash\r\n",
      "The ??? was ??? and the ??? ??? sash\r\n"
     ]
    }
   ],
   "source": [
    "STRING='The ham was hot and the hat has sash'\n",
    "echo $STRING | sed 's/h[ao]/???/g'\n",
    "echo $STRING | sed 's/h[ao]./???/g'"
   ]
  },
  {
   "cell_type": "code",
   "execution_count": 21,
   "metadata": {},
   "outputs": [
    {
     "name": "stdout",
     "output_type": "stream",
     "text": [
      "FROG, FROGm, FROGse, FROG, FROG, try\r\n",
      "FROG Them, Those, FROG FROG try\r\n"
     ]
    }
   ],
   "source": [
    "STRING='The, Them, Those, Tho, Two, try'\n",
    "echo $STRING | sed 's/[A-Z][a-z][a-z]/FROG/g'\n",
    "echo $STRING | sed 's/[A-Z][a-z][a-z][^A-Za-z]/FROG/g'"
   ]
  },
  {
   "cell_type": "code",
   "execution_count": 22,
   "metadata": {},
   "outputs": [
    {
     "name": "stdout",
     "output_type": "stream",
     "text": [
      "tehetehetehe, stehe giggled. Harharhar, tehe laugtehed.\r\n",
      "hehehe, she giggled. Harharhar, he laughed.\r\n"
     ]
    }
   ],
   "source": [
    "STRING=\"hehehe, she giggled. Harharhar, he laughed.\"\n",
    "echo $STRING | sed \"s/he/tehe/g\"\n",
    "echo $STRING | sed \"s/he(he)+/tehe/g\" # Fails, but see next cell"
   ]
  },
  {
   "cell_type": "code",
   "execution_count": 23,
   "metadata": {},
   "outputs": [
    {
     "name": "stdout",
     "output_type": "stream",
     "text": [
      "tehe, she giggled. Harharhar, he laughed.\r\n"
     ]
    }
   ],
   "source": [
    "# Note that on OS X, you must use the '-E' option to get\n",
    "# extended (modern) regular expression usage.\n",
    "\n",
    "STRING=\"hehehe, she giggled. Harharhar, he laughed.\"\n",
    "echo $STRING | sed -E \"s/he(he)+/tehe/g\""
   ]
  },
  {
   "cell_type": "code",
   "execution_count": 24,
   "metadata": {},
   "outputs": [
    {
     "name": "stdout",
     "output_type": "stream",
     "text": [
      "I found (33) of the (150) gems and (12) of the rocks.\r\n"
     ]
    }
   ],
   "source": [
    "# This example will surround all found numbers with ().\n",
    "\n",
    "STRING=\"I found 33 of the 150 gems and 12 of the rocks.\"\n",
    "echo $STRING | sed -E \"s/[0-9]+/(&)/g\""
   ]
  },
  {
   "cell_type": "code",
   "execution_count": 25,
   "metadata": {},
   "outputs": [
    {
     "name": "stdout",
     "output_type": "stream",
     "text": [
      "were They very smart. they were home\r\n",
      "were They very smart. were they home\r\n"
     ]
    }
   ],
   "source": [
    "# This example will swap the words 'They' and 'were'.\n",
    "\n",
    "STRING=\"They were very smart. they were home\"\n",
    "echo $STRING | sed \"s/\\(They\\) \\(were\\)/\\2 \\1/g\"\n",
    "echo $STRING | sed \"s/\\([Tt]hey\\) \\(were\\)/\\2 \\1/g\""
   ]
  },
  {
   "cell_type": "code",
   "execution_count": 26,
   "metadata": {},
   "outputs": [
    {
     "name": "stdout",
     "output_type": "stream",
     "text": [
      "The grand old Duke of York\r\n",
      "He had ten thousand men\r\n",
      "He marched them up to the top of the hill\r\n",
      "And he marched them down again\r\n",
      "And when they were up they were up\r\n",
      "And when they were down they were down\r\n",
      "And when they were only half-way up\r\n",
      "They were neither up nor down\r\n",
      "\r\n",
      "The grand old Duke of York\r\n",
      "He had ten thousand men\r\n",
      "He marched them up to the top of the hill\r\n",
      "And he marched them down again\r\n",
      "And when they uped they uped\r\n",
      "And when they downed they downed\r\n",
      "And when they onlyed half-way up\r\n",
      "They neithered up nor down\r\n"
     ]
    }
   ],
   "source": [
    "# This example finds the string 'were ' followed by any word\n",
    "# made of of lower-case letters and replaces it with the \n",
    "# word following 'were ' appended with 'ed'.\n",
    "\n",
    "cat dukeofyork.txt\n",
    "echo ''\n",
    "sed 's/were \\([a-z]*\\)/\\1ed/g' dukeofyork.txt"
   ]
  },
  {
   "cell_type": "markdown",
   "metadata": {},
   "source": [
    "## SED Command-Line Flags\n",
    "\n",
    "All versions of SED allow for the following flags\n",
    "\n",
    "- '-n' : Suppress default print of each line\n",
    "- '-e' : Allows specifying multiple commands\n",
    "- '-f' : Specifies a file of commands\n",
    "\n",
    "Check the documentation of your version of SED for other possible command line flags."
   ]
  },
  {
   "cell_type": "code",
   "execution_count": 27,
   "metadata": {},
   "outputs": [
    {
     "name": "stdout",
     "output_type": "stream",
     "text": [
      "The grand old Duke of York\r\n",
      "He had ten thousand men\r\n",
      "He marched them up to the top of the hill\r\n",
      "And he marched them down again\r\n",
      "And when they were up they were up\r\n",
      "And when they were down they were down\r\n",
      "And when they were only half-way up\r\n",
      "They were neither up nor down\r\n",
      "\r\n",
      "He marched THEm up to the top of the hill\r\n",
      "And he marched THEm down again\r\n",
      "And when THEy were up they were up\r\n",
      "And when THEy were down they were down\r\n",
      "And when THEy were only half-way up\r\n",
      "They were neiTHEr up nor down\r\n",
      "\r\n",
      "He marched THEm up to THE top of THE hill\r\n",
      "And he marched THEm down again\r\n",
      "And when THEy were up THEy were up\r\n",
      "And when THEy were down THEy were down\r\n",
      "And when THEy were only half-way up\r\n",
      "They were neiTHEr up nor down\r\n"
     ]
    }
   ],
   "source": [
    "# SED's 's' command when applied to a file will print\n",
    "# all the lines of the file, whether the line has been\n",
    "# modified by the 's' command or not. The '-n' flag will\n",
    "# suppress all output of the lines. By adding the 'p'\n",
    "# option in addition to the '-n' flag, only the modified\n",
    "# lines will be printed.\n",
    "\n",
    "cat dukeofyork.txt\n",
    "echo ''\n",
    "sed -n 's/the/THE/p' dukeofyork.txt\n",
    "echo ''\n",
    "sed -n 's/the/THE/pg' dukeofyork.txt"
   ]
  },
  {
   "cell_type": "code",
   "execution_count": 28,
   "metadata": {},
   "outputs": [
    {
     "name": "stdout",
     "output_type": "stream",
     "text": [
      "The grand old Duke of York\r\n",
      "He had ten thousand men\r\n",
      "He marched them up to the top of the hill\r\n",
      "And he marched them down again\r\n",
      "And when they were up they were up\r\n",
      "And when they were down they were down\r\n",
      "And when they were only half-way up\r\n",
      "They were neither up nor down\r\n",
      "\r\n",
      "The grand old Duke of York\r\n",
      "He had ten thousand men\r\n",
      "He marched them UP to the top of the hill\r\n",
      "And he marched them DOWN again\r\n",
      "And when they were UP they were up\r\n",
      "And when they were DOWN they were down\r\n",
      "And when they were only half-way UP\r\n",
      "They were neither UP nor DOWN\r\n"
     ]
    }
   ],
   "source": [
    "# To run multiple SED commands on a single command line,\n",
    "# we must precede each command with the '-e' flag. This\n",
    "# flag tells SED that the following argument is a command\n",
    "# and not a file name. All commands are executed on each\n",
    "# line, in order, before the changed file is output.\n",
    "\n",
    "cat dukeofyork.txt\n",
    "echo ''\n",
    "sed -e 's/up/UP/' -e 's/down/DOWN/' dukeofyork.txt"
   ]
  },
  {
   "cell_type": "code",
   "execution_count": 29,
   "metadata": {},
   "outputs": [
    {
     "name": "stdout",
     "output_type": "stream",
     "text": [
      "The grand old Duke of York\r\n",
      "He had ten thousand men\r\n",
      "He marched them UP to the top of the hill\r\n",
      "And he marched them DOWN again\r\n",
      "And when they were UP they were UP\r\n",
      "And when they were DOWN they were DOWN\r\n",
      "And when they were only half-way UP\r\n",
      "They were neither UP nor DOWN\r\n"
     ]
    }
   ],
   "source": [
    "# Some versions of SED (including this one) allows for\n",
    "# multiple commands separated by semicolons (;). In this\n",
    "# example, each occurance of 'up' is replaced with 'UP' and\n",
    "# each occurance of 'down' is replaced with 'DOWN' in the\n",
    "# 'dukeofyork.txt' file.\n",
    "\n",
    "# Since this doesn't work with all versions of SED and it\n",
    "# is less readable than using the '-e' flag, its use is\n",
    "# discouraged in scripts.\n",
    "\n",
    "sed 's/up/UP/g;s/down/DOWN/g' dukeofyork.txt"
   ]
  },
  {
   "cell_type": "code",
   "execution_count": 30,
   "metadata": {},
   "outputs": [
    {
     "name": "stdout",
     "output_type": "stream",
     "text": [
      "The grand old Duke of York\r\n",
      "He had ten thousand men\r\n",
      "He marched them up to the top of the hill\r\n",
      "And he marched them down again\r\n",
      "And when they were up they were up\r\n",
      "And when they were down they were down\r\n",
      "And when they were only half-way up\r\n",
      "They were neither up nor down\r\n",
      "\r\n",
      "The grand old Duke of York\r\n",
      "He had ten thousand men\r\n",
      "He marched them UP to the top of the hill\r\n",
      "And he marched them DOWN again\r\n",
      "And when they were UP they were UP\r\n",
      "And when they were DOWN they were DOWN\r\n",
      "And when they were only half-way UP\r\n",
      "They were neither UP nor DOWN\r\n"
     ]
    }
   ],
   "source": [
    "# If you have a large number of SED commands that you want\n",
    "# to apply to a text file, they can be put in their own \n",
    "# file, one command per line, and applied to the text file\n",
    "# using the '-f' flag. Some versions of SED allow for comments\n",
    "# within the file, others do not.\n",
    "\n",
    "# The file 'script' contains the lines:\n",
    "# s/up/UP/g\n",
    "# s/down/DOWN/g\n",
    "\n",
    "# We can create the 'script' file from within this notebook\n",
    "# interface by:\n",
    "\n",
    "# cat > script << EOF\n",
    "# s/up/UP/g\n",
    "# s/down/DOWN/g\n",
    "# EOF\n",
    "\n",
    "cat dukeofyork.txt\n",
    "echo ''\n",
    "sed -f script dukeofyork.txt"
   ]
  },
  {
   "cell_type": "markdown",
   "metadata": {},
   "source": [
    "### CHALLENGE\n",
    "\n",
    "Write a SED script that changes the Duke of York's 10,000 men to one woman, following the usual English rules of grammer and capitalization. The edited poem does not have to rhyme or scan."
   ]
  },
  {
   "cell_type": "code",
   "execution_count": 31,
   "metadata": {},
   "outputs": [
    {
     "name": "stdout",
     "output_type": "stream",
     "text": [
      "The grand old Duke of York\r\n",
      "He had ten thousand men\r\n",
      "He marched them up to the top of the hill\r\n",
      "And he marched them down again\r\n",
      "And when they were up they were up\r\n",
      "And when they were down they were down\r\n",
      "And when they were only half-way up\r\n",
      "They were neither up nor down\r\n"
     ]
    }
   ],
   "source": [
    "# The text of the rhyme \"The Grand Old Duke of York\"\n",
    "\n",
    "cat dukeofyork.txt"
   ]
  },
  {
   "cell_type": "code",
   "execution_count": 32,
   "metadata": {},
   "outputs": [
    {
     "name": "stdout",
     "output_type": "stream",
     "text": [
      "s/ten thousand men/one woman/\r\n",
      "s/[tT]hey were/she was/g\r\n",
      "s/^she/She/\r\n",
      "s/them/her/g\r\n"
     ]
    }
   ],
   "source": [
    "# The file of SED 's' commands to get the job done.\n",
    "\n",
    "cat > challenge.txt << EOF\n",
    "s/ten thousand men/one woman/\n",
    "s/[tT]hey were/she was/g\n",
    "s/^she/She/\n",
    "s/them/her/g\n",
    "EOF\n",
    "\n",
    "cat challenge.txt"
   ]
  },
  {
   "cell_type": "code",
   "execution_count": 33,
   "metadata": {},
   "outputs": [
    {
     "name": "stdout",
     "output_type": "stream",
     "text": [
      "The grand old Duke of York\r\n",
      "He had one woman\r\n",
      "He marched her up to the top of the hill\r\n",
      "And he marched her down again\r\n",
      "And when she was up she was up\r\n",
      "And when she was down she was down\r\n",
      "And when she was only half-way up\r\n",
      "She was neither up nor down\r\n"
     ]
    }
   ],
   "source": [
    "# Apply the commands in the file to the rhyme.\n",
    "\n",
    "sed -f challenge.txt dukeofyork.txt"
   ]
  },
  {
   "cell_type": "markdown",
   "metadata": {},
   "source": [
    "## Understanding Addresses and Address Ranges\n",
    "\n",
    "The SED commands considered so far are applied equally to every line in the file. We can, however, affect particular lines by prefixing the command with addresses. Addresses can be:\n",
    "\n",
    "- A line number, specifying a line.\n",
    "- A dollar sign ($), specifying the end of the file.\n",
    "- A pattern (regex), enclosed in slashes, specifying lines matching the pattern.\n",
    "- A pair of addresses, separated by a comma, representing the range of lines from one to the other inclusive.\n",
    "- An exclamation point (!) specifying all lines NOT matching the address.\n",
    "\n",
    "Other SED commands that use addresses:\n",
    "\n",
    "- p : Prints the specified line(s).\n",
    "- d : Deletes the specified line(s).\n",
    "- r : Reads a file at the specified line.\n",
    "- w : Writes the specified line(s) to a file.\n",
    "- y : Transforms characters (like the 'tr' command)."
   ]
  },
  {
   "cell_type": "markdown",
   "metadata": {
    "heading_collapsed": true
   },
   "source": [
    "### SED print 'p' command"
   ]
  },
  {
   "cell_type": "code",
   "execution_count": 34,
   "metadata": {
    "hidden": true
   },
   "outputs": [
    {
     "name": "stdout",
     "output_type": "stream",
     "text": [
      "The grand old Duke of York\r\n",
      "He had ten thousand men\r\n",
      "He marched them up to the top of the hill\r\n",
      "And he marched them down again\r\n",
      "And when they were up they were up\r\n",
      "And when they were down they were down\r\n",
      "And when they were only half-way up\r\n",
      "They were neither up nor down\r\n",
      "\r\n",
      "The grand old Duke of York\r\n",
      "He had ten thousand men\r\n",
      "He marched them UP to the top of the hill\r\n",
      "And he marched them down again\r\n",
      "And when they were up they were up\r\n",
      "And when they were down they were down\r\n",
      "And when they were only half-way up\r\n",
      "They were neither up nor down\r\n"
     ]
    }
   ],
   "source": [
    "cat dukeofyork.txt\n",
    "echo ''\n",
    "sed '3s/up/UP/' dukeofyork.txt  # Only change line 3"
   ]
  },
  {
   "cell_type": "code",
   "execution_count": 35,
   "metadata": {
    "hidden": true
   },
   "outputs": [
    {
     "name": "stdout",
     "output_type": "stream",
     "text": [
      "3     \tHe marched them up to the top of the hill\r\n",
      "\r\n",
      "5     \tAnd when they were up they were up\r\n",
      "6     \tAnd when they were down they were down\r\n",
      "7     \tAnd when they were only half-way up\r\n",
      "8     \tThey were neither up nor down\r\n"
     ]
    }
   ],
   "source": [
    "# Use the '-n' flag (suppress default output) along with\n",
    "# addresses and the p (print) command to display particular\n",
    "# lines within a file; Without the '-n' flag, lines will\n",
    "# be displayed twice.\n",
    "\n",
    "# In the examples below, we first number the lines of the\n",
    "# file with the 'nl' command, then pipe that through SED.\n",
    "# The '-n ln' option of the 'nl' command left justifies\n",
    "# the line numbers.\n",
    "\n",
    "# Display only the third line.\n",
    "\n",
    "nl -n ln dukeofyork.txt | sed -n 3p\n",
    "\n",
    "echo ''\n",
    "\n",
    "# Display lines five through eight inclusive.\n",
    "\n",
    "nl -n ln dukeofyork.txt | sed -n '5,8 p'"
   ]
  },
  {
   "cell_type": "code",
   "execution_count": 36,
   "metadata": {
    "hidden": true
   },
   "outputs": [
    {
     "name": "stdout",
     "output_type": "stream",
     "text": [
      "They were neither up nor down\r\n"
     ]
    }
   ],
   "source": [
    "# Display the last line of 'dukeofyork.txt'\n",
    "\n",
    "sed -n '$p' dukeofyork.txt"
   ]
  },
  {
   "cell_type": "code",
   "execution_count": 37,
   "metadata": {
    "hidden": true
   },
   "outputs": [
    {
     "name": "stdout",
     "output_type": "stream",
     "text": [
      "And he marched them down again\r\n",
      "And when they were down they were down\r\n",
      "They were neither up nor down\r\n",
      "\r\n",
      "4     \tAnd he marched them down again\r\n",
      "6     \tAnd when they were down they were down\r\n",
      "8     \tThey were neither up nor down\r\n"
     ]
    }
   ],
   "source": [
    "# Using a regex as an address. Print lines matching the\n",
    "# regex 'down'\n",
    "\n",
    "sed -n '/down/p' dukeofyork.txt\n",
    "echo ''\n",
    "nl -n ln dukeofyork.txt | sed -n '/down/p'"
   ]
  },
  {
   "cell_type": "code",
   "execution_count": 38,
   "metadata": {
    "hidden": true
   },
   "outputs": [
    {
     "name": "stdout",
     "output_type": "stream",
     "text": [
      "3     \tHe marched them up to the top of the hill\r\n",
      "4     \tAnd he marched them down again\r\n",
      "5     \tAnd when they were up they were up\r\n",
      "6     \tAnd when they were down they were down\r\n",
      "7     \tAnd when they were only half-way up\r\n",
      "8     \tThey were neither up nor down\r\n"
     ]
    }
   ],
   "source": [
    "# Print lines matching the regex '[Tt]he[my]'\n",
    "\n",
    "nl -n ln dukeofyork.txt | sed -n '/[Tt]he[my]/p'"
   ]
  },
  {
   "cell_type": "code",
   "execution_count": 39,
   "metadata": {
    "hidden": true
   },
   "outputs": [
    {
     "name": "stdout",
     "output_type": "stream",
     "text": [
      "The grand old Duke of York\r\n",
      "He had ten thousand men\r\n",
      "He marched them up to the top of the hill\r\n",
      "And he marched them down again\r\n",
      "And when they were up they were up\r\n",
      "And when they were down they were down\r\n",
      "And when they were only half-way up\r\n",
      "They were neither up nor down\r\n",
      "\r\n",
      "3     \tHe marched them up to the top of the hill\r\n",
      "4     \tAnd he marched them down again\r\n",
      "5     \tAnd when they were up they were up\r\n"
     ]
    }
   ],
   "source": [
    "# Can use regex's to delimit a range of text. It will\n",
    "# find the range of lines beginning with the first line\n",
    "# matching the first regex through the line after that\n",
    "# which first matches the second regex.\n",
    "\n",
    "cat dukeofyork.txt\n",
    "echo ''\n",
    "nl -n ln dukeofyork.txt | sed -n '/marched/,/when/p'"
   ]
  },
  {
   "cell_type": "code",
   "execution_count": 40,
   "metadata": {
    "hidden": true
   },
   "outputs": [
    {
     "name": "stdout",
     "output_type": "stream",
     "text": [
      "The grand old Duke of York\r\n",
      "He had ten thousand men\r\n",
      "He marched them up to the top of the hill\r\n",
      "And he marched them down again\r\n",
      "And when they were up they were up\r\n",
      "And when they were down they were down\r\n",
      "And when they were only half-way up\r\n",
      "They were neither up nor down\r\n",
      "\r\n",
      "5     \tAnd when they were up they were up\r\n",
      "6     \tAnd when they were down they were down\r\n",
      "7     \tAnd when they were only half-way up\r\n",
      "8     \tThey were neither up nor down\r\n"
     ]
    }
   ],
   "source": [
    "# If the second pattern occurs on the same line after the\n",
    "# first pattern, or is not found on subsequent lines, then\n",
    "# all lines from that containing the first pattern to the\n",
    "# last line are printed.\n",
    "\n",
    "cat dukeofyork.txt\n",
    "echo ''\n",
    "nl -n ln dukeofyork.txt | sed -n '/when/,/marched/p'"
   ]
  },
  {
   "cell_type": "code",
   "execution_count": 41,
   "metadata": {
    "hidden": true
   },
   "outputs": [
    {
     "name": "stdout",
     "output_type": "stream",
     "text": [
      "{\r\n",
      "\tint x[MAX];\r\n",
      "\tint howMany;\r\n",
      "\r\n",
      "\thowMany = getArray(x, MAX, -1);\r\n",
      "\tprintf(\"Read the following array:\\n\");\r\n",
      "\tprintArray(x, howMany);\r\n",
      "\treverseArray(x, howMany);\r\n",
      "\tprintf(\"After being reversed:\\n\");\r\n",
      "\tprintArray(x, howMany);\r\n",
      "}\r\n",
      "{\r\n",
      "\tint tmp = *x;\r\n",
      "\t*x = *y;\r\n",
      "\t*y = tmp;\r\n",
      "}\r\n",
      "{\r\n",
      "\tint i;\r\n",
      "\r\n",
      "\tfor ( i=0; i<n; i++ ) {\r\n",
      "\t\tprintf(\"\\t%d\\n\", a[i]);\r\n",
      "\t}\r\n",
      "}\r\n",
      "{\r\n",
      "\tint n = 0;\r\n",
      "\tint tmp;\r\n",
      "\r\n",
      "\tdo {\r\n",
      "\t\tprintf(\"Enter integer [%d to terminate] : \", terminator);\r\n",
      "\t\tscanf(\"%d\", &tmp);\r\n",
      "\t\tif ( tmp==terminator ) {\r\n",
      "\t\t\tbreak;\r\n",
      "\t\t} \r\n",
      "\t\tif ( n>=max ) {\r\n",
      "\t\t\tprintf(\"Sorry, array is full\\n\");\r\n",
      "\t\t\treturn n;\r\n",
      "\t\t} else { \r\n",
      "\t\t\ta[n++] = tmp;\r\n",
      "\t\t}\r\n",
      "\t} while ( 1 );\r\n",
      "\treturn n;\r\n",
      "}\r\n",
      "{\r\n",
      "\tint i;\r\n",
      "\r\n",
      "\tfor ( i=0; i<n/2; i++ ) {\r\n",
      "\t\tintSwap(&a[i], &a[n-i-1]);\r\n",
      "\t}\r\n",
      "}\r\n"
     ]
    }
   ],
   "source": [
    "# A range of patterns can match multiple parts of the same\n",
    "# file. Using a '.c' file, for example, we can print blocks\n",
    "# of code between '{' and '}' occuring at the beginning of a\n",
    "# line.\n",
    "\n",
    "sed -n '/^{/,/^}/p' array.c"
   ]
  },
  {
   "cell_type": "code",
   "execution_count": 42,
   "metadata": {
    "hidden": true
   },
   "outputs": [
    {
     "name": "stdout",
     "output_type": "stream",
     "text": [
      "}\r\n",
      "\r\n",
      "/* swap the contents of x and y */\r\n",
      "void intSwap(int *x, int *y)\r\n",
      "{\r\n",
      "}\r\n",
      "\r\n",
      "/* print the first n elements in the array a */\r\n",
      "void printArray(int a[], int n)\r\n",
      "{\r\n",
      "}\r\n",
      "\r\n",
      "/* get up to max integers from the user and store them in a; \r\n",
      " * terminator marks end of input */\r\n",
      "int getArray(int a[], int max, int terminator)\r\n",
      "{\r\n",
      "}\r\n",
      "\r\n",
      "/* reverse the order of the first n elements of a */\r\n",
      "void reverseArray(int a[], int n)\r\n",
      "{\r\n",
      "}\r\n"
     ]
    }
   ],
   "source": [
    "# To print the declarations and comments of the functions\n",
    "# in the file we can use the following patterns:\n",
    "\n",
    "sed -n '/^}/,/^{/p' array.c"
   ]
  },
  {
   "cell_type": "code",
   "execution_count": 43,
   "metadata": {
    "hidden": true
   },
   "outputs": [
    {
     "name": "stdout",
     "output_type": "stream",
     "text": [
      "2     \tHe had ten thousand men\r\n",
      "3     \tHe marched them up to the top of the hill\r\n",
      "4     \tAnd he marched them down again\r\n",
      "\r\n",
      "5     \tAnd when they were up they were up\r\n",
      "6     \tAnd when they were down they were down\r\n",
      "7     \tAnd when they were only half-way up\r\n",
      "8     \tThey were neither up nor down\r\n"
     ]
    }
   ],
   "source": [
    "# We can mix line numbers and regex's\n",
    "\n",
    "nl -n ln dukeofyork.txt | sed -n '2,/down/p'\n",
    "echo ''\n",
    "nl -n ln dukeofyork.txt | sed -n '/when/,$p'"
   ]
  },
  {
   "cell_type": "code",
   "execution_count": 44,
   "metadata": {
    "hidden": true
   },
   "outputs": [
    {
     "name": "stdout",
     "output_type": "stream",
     "text": [
      "2     \tHe had ten thousand men\r\n",
      "3     \tHe marched them up to the top of the hill\r\n",
      "4     \tAnd he marched them down again\r\n",
      "5     \tAnd when they were up they were up\r\n",
      "\r\n",
      "1     \tThe grand old Duke of York\r\n",
      "6     \tAnd when they were down they were down\r\n",
      "7     \tAnd when they were only half-way up\r\n",
      "8     \tThey were neither up nor down\r\n",
      "\r\n",
      "The grand old Duke of York\r\n",
      "He had ten thousand men\r\n",
      "He marched them up to the top of the hill\r\n",
      "And when they were up they were up\r\n",
      "And when they were only half-way up\r\n"
     ]
    }
   ],
   "source": [
    "# We can reverse the effect of a command by preceding it\n",
    "# with an exclamation (!) point.\n",
    "\n",
    "nl -n ln dukeofyork.txt | sed -n '2,5p'\n",
    "echo ''\n",
    "nl -n ln dukeofyork.txt | sed -n '2,5!p'\n",
    "echo ''\n",
    "sed -n '/down/!p' dukeofyork.txt # Don't print lines containing 'down'"
   ]
  },
  {
   "cell_type": "markdown",
   "metadata": {
    "heading_collapsed": true
   },
   "source": [
    "### SED delete 'd' command"
   ]
  },
  {
   "cell_type": "code",
   "execution_count": 45,
   "metadata": {
    "hidden": true
   },
   "outputs": [
    {
     "name": "stdout",
     "output_type": "stream",
     "text": [
      "1     \tThe grand old Duke of York\r\n",
      "2     \tHe had ten thousand men\r\n",
      "3     \tHe marched them up to the top of the hill\r\n",
      "7     \tAnd when they were only half-way up\r\n",
      "8     \tThey were neither up nor down\r\n"
     ]
    }
   ],
   "source": [
    "# Delete lines 4 through 6 inclusive.\n",
    "\n",
    "nl -n ln dukeofyork.txt | sed '4,6d'"
   ]
  },
  {
   "cell_type": "code",
   "execution_count": 46,
   "metadata": {
    "hidden": true
   },
   "outputs": [
    {
     "name": "stdout",
     "output_type": "stream",
     "text": [
      "1     \tThe grand old Duke of York\r\n",
      "2     \tHe had ten thousand men\r\n",
      "4     \tAnd he marched them down again\r\n",
      "6     \tAnd when they were down they were down\r\n"
     ]
    }
   ],
   "source": [
    "# Delete all lines containing 'up'.\n",
    "\n",
    "nl -n ln dukeofyork.txt | sed '/up/d'"
   ]
  },
  {
   "cell_type": "code",
   "execution_count": 47,
   "metadata": {
    "hidden": true
   },
   "outputs": [
    {
     "name": "stdout",
     "output_type": "stream",
     "text": [
      "3     \tHe marched them up to the top of the hill\r\n",
      "5     \tAnd when they were up they were up\r\n",
      "7     \tAnd when they were only half-way up\r\n",
      "8     \tThey were neither up nor down\r\n"
     ]
    }
   ],
   "source": [
    "# Delete all lines NOT containing 'up'\n",
    "\n",
    "nl -n ln dukeofyork.txt | sed '/up/!d'"
   ]
  },
  {
   "cell_type": "markdown",
   "metadata": {
    "heading_collapsed": true
   },
   "source": [
    "### Reading and writing files with the 'r' and 'w' commands\n",
    "\n",
    "- 'r' Reads in a file following the specified line. It can't be used with a range of addresses.\n",
    "\n",
    "- 'w' Writes the specified line(s) to a file in addition to printing the line(s), after processing, to stdout."
   ]
  },
  {
   "cell_type": "code",
   "execution_count": 48,
   "metadata": {
    "hidden": true
   },
   "outputs": [
    {
     "name": "stdout",
     "output_type": "stream",
     "text": [
      "The grand old Duke of York\r\n",
      "He had ten thousand men\r\n",
      "He marched them up to the top of the hill\r\n",
      "And he marched them down again\r\n",
      "==> HAHA HE SAID \"DOWN\"\r\n",
      "And when they were up they were up\r\n",
      "And when they were down they were down\r\n",
      "==> HAHA HE SAID \"DOWN\"\r\n",
      "And when they were only half-way up\r\n",
      "They were neither up nor down\r\n",
      "==> HAHA HE SAID \"DOWN\"\r\n"
     ]
    }
   ],
   "source": [
    "# Create a file 'haha.txt' containing 'HAHA HE SAID \"DOWN\"'\n",
    "\n",
    "cat > haha.txt << EOF\n",
    "==> HAHA HE SAID \"DOWN\"\n",
    "EOF\n",
    "\n",
    "# Read the file into 'dukeofyork.txt' in the line after\n",
    "# the line containing 'down'.\n",
    "\n",
    "sed '/down/r haha.txt' dukeofyork.txt"
   ]
  },
  {
   "cell_type": "code",
   "execution_count": 49,
   "metadata": {
    "hidden": true
   },
   "outputs": [
    {
     "name": "stdout",
     "output_type": "stream",
     "text": [
      "The grand old Duke of York\r\n",
      "He had ten thousand men\r\n",
      "He marched them up to the top of the hill\r\n"
     ]
    }
   ],
   "source": [
    "# Write lines 1 through 3, inclusive, to the file top.txt.\n",
    "\n",
    "sed -n '1,3w top.txt' dukeofyork.txt\n",
    "cat top.txt"
   ]
  },
  {
   "cell_type": "code",
   "execution_count": 50,
   "metadata": {
    "hidden": true
   },
   "outputs": [
    {
     "name": "stdout",
     "output_type": "stream",
     "text": [
      "He marched them UP to the top of the hill\r\n",
      "And when they were UP they were UP\r\n",
      "And when they were only half-way UP\r\n",
      "They were neither UP nor down\r\n"
     ]
    }
   ],
   "source": [
    "# Can use SED's 'w' command in conjunction with SED's 's'\n",
    "# command. In this example, we will replace all occurances\n",
    "# of 'up' with 'UP' and write the changed file to 'up.txt';\n",
    "# ONLY the modified lines are written to 'up.txt'\n",
    "\n",
    "# Note: If 'w' is used with other modifiers (as below) it\n",
    "# must be the last one.\n",
    "\n",
    "sed -n 's/up/UP/gw up.txt' dukeofyork.txt\n",
    "cat up.txt"
   ]
  },
  {
   "cell_type": "markdown",
   "metadata": {
    "collapsed": true,
    "heading_collapsed": true
   },
   "source": [
    "### The SED 'y' command\n",
    "\n",
    "The 'y' command replaces single characters with other single characters (similar to the UNIX 'tr' command). For example,\n",
    "```\n",
    "sed 'y/abcdef/ABCDEF/' dukeofyork.txt\n",
    "```\n",
    "will replace each lower-case letter a through f with its corresponding upper-case equivalent in the file 'dukeofyork.txt'\n",
    "\n",
    "The effect can't be restricted to a portion of a line. In addition to ordinary printing characters, you can specify\n",
    "\n",
    "- A newline with '\\n'\n",
    "- '\\' with '\\\\\\\\'\n",
    "- '/' with '\\/'"
   ]
  },
  {
   "cell_type": "code",
   "execution_count": 52,
   "metadata": {
    "hidden": true
   },
   "outputs": [
    {
     "name": "stdout",
     "output_type": "stream",
     "text": [
      "ThE grAnD olD DukE oF York\r\n",
      "HE hAD tEn thousAnD mEn\r\n",
      "HE mArChED thEm up to thE top oF thE hill\r\n",
      "AnD hE mArChED thEm Down AgAin\r\n",
      "AnD whEn thEy wErE up thEy wErE up\r\n",
      "AnD whEn thEy wErE Down thEy wErE Down\r\n",
      "AnD whEn thEy wErE only hAlF-wAy up\r\n",
      "ThEy wErE nEithEr up nor Down\r\n"
     ]
    }
   ],
   "source": [
    "# Change each lower-case letter a through f into its upper-case\n",
    "# equivalent in the 'dukeofyork.txt' file.\n",
    "\n",
    "sed 'y/abcdef/ABCDEF/' dukeofyork.txt"
   ]
  },
  {
   "cell_type": "code",
   "execution_count": 53,
   "metadata": {
    "hidden": true
   },
   "outputs": [
    {
     "name": "stdout",
     "output_type": "stream",
     "text": [
      "Th3 gr4nd 01d Duk3 0f Y0rk\r\n",
      "H3 h4d +3n +h0u$4nd m3n\r\n",
      "H3 m4r(h3d +h3m up +0 +h3 +0p 0f +h3 h!11\r\n",
      "And h3 m4r(h3d +h3m d0wn 4g4!n\r\n",
      "And wh3n +h3y w3r3 up +h3y w3r3 up\r\n",
      "And wh3n +h3y w3r3 d0wn +h3y w3r3 d0wn\r\n",
      "And wh3n +h3y w3r3 0n1y h41f-w4y up\r\n",
      "Th3y w3r3 n3!+h3r up n0r d0wn\r\n"
     ]
    }
   ],
   "source": [
    "# Change the 'dukeofyork.txt' file into 'leet-speak'\n",
    "\n",
    "sed 'y/aceilost/4(3!10$+/' dukeofyork.txt"
   ]
  },
  {
   "cell_type": "markdown",
   "metadata": {},
   "source": [
    "### Appending, inserting and changing entire lines with 'a', 'i' and 'c'\n",
    "\n"
   ]
  },
  {
   "cell_type": "code",
   "execution_count": null,
   "metadata": {
    "collapsed": true
   },
   "outputs": [],
   "source": []
  }
 ],
 "metadata": {
  "anaconda-cloud": {},
  "hide_input": false,
  "kernelspec": {
   "display_name": "Bash",
   "language": "bash",
   "name": "bash"
  },
  "language_info": {
   "codemirror_mode": "shell",
   "file_extension": ".sh",
   "mimetype": "text/x-sh",
   "name": "bash"
  },
  "latex_envs": {
   "bibliofile": "biblio.bib",
   "cite_by": "apalike",
   "current_citInitial": 1,
   "eqLabelWithNumbers": true,
   "eqNumInitial": 0
  }
 },
 "nbformat": 4,
 "nbformat_minor": 1
}
