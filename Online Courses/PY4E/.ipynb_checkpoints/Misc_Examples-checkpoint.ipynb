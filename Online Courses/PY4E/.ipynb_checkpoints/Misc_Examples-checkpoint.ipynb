{
 "cells": [
  {
   "cell_type": "code",
   "execution_count": 1,
   "metadata": {},
   "outputs": [
    {
     "name": "stdout",
     "output_type": "stream",
     "text": [
      "g\n",
      "n\n",
      "i\n",
      "r\n",
      "t\n",
      "s\n",
      " \n",
      "a\n",
      " \n",
      "f\n",
      "o\n",
      " \n",
      "e\n",
      "l\n",
      "p\n",
      "m\n",
      "a\n",
      "x\n",
      "e\n",
      " \n",
      "n\n",
      "a\n",
      " \n",
      "s\n",
      "i\n",
      " \n",
      "s\n",
      "i\n",
      "h\n",
      "T\n"
     ]
    }
   ],
   "source": [
    "# Print a string backwards, each character on a separate line.\n",
    "\n",
    "str1 = \"This is an example of a string\"\n",
    "\n",
    "index = len(str1)-1\n",
    "while index >= 0:\n",
    "    print(str1[index])\n",
    "    index -= 1\n"
   ]
  },
  {
   "cell_type": "code",
   "execution_count": 2,
   "metadata": {},
   "outputs": [
    {
     "name": "stdout",
     "output_type": "stream",
     "text": [
      "watermellon\n"
     ]
    }
   ],
   "source": [
    "fruit = \"watermellon\"\n",
    "print(fruit[:])"
   ]
  },
  {
   "cell_type": "code",
   "execution_count": 7,
   "metadata": {},
   "outputs": [
    {
     "name": "stdout",
     "output_type": "stream",
     "text": [
      "2\n"
     ]
    }
   ],
   "source": [
    "# The function \"count(string,letter)\" counts the number of 'letters' in 'string'.\n",
    "\n",
    "def count(string, letter):\n",
    "    num = 0\n",
    "    for ltr in string:\n",
    "        if ltr == letter: num += 1\n",
    "    return num\n",
    "\n",
    "print(count('mississippi', 'p'))"
   ]
  },
  {
   "cell_type": "code",
   "execution_count": 8,
   "metadata": {},
   "outputs": [
    {
     "data": {
      "text/plain": [
       "str"
      ]
     },
     "execution_count": 8,
     "metadata": {},
     "output_type": "execute_result"
    }
   ],
   "source": [
    "type(fruit)"
   ]
  },
  {
   "cell_type": "code",
   "execution_count": 9,
   "metadata": {},
   "outputs": [
    {
     "data": {
      "text/plain": [
       "['__add__',\n",
       " '__class__',\n",
       " '__contains__',\n",
       " '__delattr__',\n",
       " '__dir__',\n",
       " '__doc__',\n",
       " '__eq__',\n",
       " '__format__',\n",
       " '__ge__',\n",
       " '__getattribute__',\n",
       " '__getitem__',\n",
       " '__getnewargs__',\n",
       " '__gt__',\n",
       " '__hash__',\n",
       " '__init__',\n",
       " '__init_subclass__',\n",
       " '__iter__',\n",
       " '__le__',\n",
       " '__len__',\n",
       " '__lt__',\n",
       " '__mod__',\n",
       " '__mul__',\n",
       " '__ne__',\n",
       " '__new__',\n",
       " '__reduce__',\n",
       " '__reduce_ex__',\n",
       " '__repr__',\n",
       " '__rmod__',\n",
       " '__rmul__',\n",
       " '__setattr__',\n",
       " '__sizeof__',\n",
       " '__str__',\n",
       " '__subclasshook__',\n",
       " 'capitalize',\n",
       " 'casefold',\n",
       " 'center',\n",
       " 'count',\n",
       " 'encode',\n",
       " 'endswith',\n",
       " 'expandtabs',\n",
       " 'find',\n",
       " 'format',\n",
       " 'format_map',\n",
       " 'index',\n",
       " 'isalnum',\n",
       " 'isalpha',\n",
       " 'isascii',\n",
       " 'isdecimal',\n",
       " 'isdigit',\n",
       " 'isidentifier',\n",
       " 'islower',\n",
       " 'isnumeric',\n",
       " 'isprintable',\n",
       " 'isspace',\n",
       " 'istitle',\n",
       " 'isupper',\n",
       " 'join',\n",
       " 'ljust',\n",
       " 'lower',\n",
       " 'lstrip',\n",
       " 'maketrans',\n",
       " 'partition',\n",
       " 'replace',\n",
       " 'rfind',\n",
       " 'rindex',\n",
       " 'rjust',\n",
       " 'rpartition',\n",
       " 'rsplit',\n",
       " 'rstrip',\n",
       " 'split',\n",
       " 'splitlines',\n",
       " 'startswith',\n",
       " 'strip',\n",
       " 'swapcase',\n",
       " 'title',\n",
       " 'translate',\n",
       " 'upper',\n",
       " 'zfill']"
      ]
     },
     "execution_count": 9,
     "metadata": {},
     "output_type": "execute_result"
    }
   ],
   "source": [
    "dir(fruit)"
   ]
  },
  {
   "cell_type": "code",
   "execution_count": 10,
   "metadata": {},
   "outputs": [
    {
     "name": "stdout",
     "output_type": "stream",
     "text": [
      "Help on method_descriptor:\n",
      "\n",
      "join(self, iterable, /)\n",
      "    Concatenate any number of strings.\n",
      "    \n",
      "    The string whose method is called is inserted in between each given string.\n",
      "    The result is returned as a new string.\n",
      "    \n",
      "    Example: '.'.join(['ab', 'pq', 'rs']) -> 'ab.pq.rs'\n",
      "\n"
     ]
    }
   ],
   "source": [
    "help(str.join)"
   ]
  },
  {
   "cell_type": "code",
   "execution_count": 23,
   "metadata": {},
   "outputs": [
    {
     "data": {
      "text/plain": [
       "3"
      ]
     },
     "execution_count": 23,
     "metadata": {},
     "output_type": "execute_result"
    }
   ],
   "source": [
    "\"banana\".count('a')"
   ]
  },
  {
   "cell_type": "code",
   "execution_count": 30,
   "metadata": {},
   "outputs": [
    {
     "name": "stdout",
     "output_type": "stream",
     "text": [
      "21\n",
      "31\n",
      "uct.ac.za\n"
     ]
    }
   ],
   "source": [
    "data = \"From stephen.marquard@uct.ac.za Sat Jan  5 09:14:16 2008\"\n",
    "\n",
    "atpos = data.find(\"@\")\n",
    "print(atpos)\n",
    "\n",
    "sppos = data.find(' ', atpos)\n",
    "print(sppos)\n",
    "\n",
    "host = data[atpos+1:sppos]\n",
    "print(host)"
   ]
  },
  {
   "cell_type": "code",
   "execution_count": 34,
   "metadata": {},
   "outputs": [
    {
     "data": {
      "text/plain": [
       "'I have spotted 42.'"
      ]
     },
     "execution_count": 34,
     "metadata": {},
     "output_type": "execute_result"
    }
   ],
   "source": [
    "# \"f string\" formatting in python 3.6+\n",
    "\n",
    "camels = 42\n",
    "\n",
    "f\"I have spotted {camels}.\""
   ]
  },
  {
   "cell_type": "code",
   "execution_count": 39,
   "metadata": {},
   "outputs": [
    {
     "data": {
      "text/plain": [
       "'In 3 years I have spotted 0.1 camels.'"
      ]
     },
     "execution_count": 39,
     "metadata": {},
     "output_type": "execute_result"
    }
   ],
   "source": [
    "years = 3\n",
    "num = 0.1\n",
    "animal = 'camels'\n",
    "\n",
    "f\"In {years} years I have spotted {num} {animal}.\""
   ]
  },
  {
   "cell_type": "code",
   "execution_count": 40,
   "metadata": {},
   "outputs": [
    {
     "data": {
      "text/plain": [
       "'The sum of 3 and 5 is 8.'"
      ]
     },
     "execution_count": 40,
     "metadata": {},
     "output_type": "execute_result"
    }
   ],
   "source": [
    "f\"The sum of 3 and 5 is {3+5}.\""
   ]
  },
  {
   "cell_type": "code",
   "execution_count": 41,
   "metadata": {},
   "outputs": [],
   "source": [
    "mystr = f\"The sum of 3 and 5 is {3+5}.\""
   ]
  },
  {
   "cell_type": "code",
   "execution_count": 55,
   "metadata": {},
   "outputs": [
    {
     "name": "stdout",
     "output_type": "stream",
     "text": [
      "Your word, camel, comes before banana.\n"
     ]
    }
   ],
   "source": [
    "word = \"camel\"\n",
    "\n",
    "if word > 'banana':\n",
    "    print(f\"Your word, {word}, comes before banana.\")"
   ]
  },
  {
   "cell_type": "code",
   "execution_count": 56,
   "metadata": {},
   "outputs": [
    {
     "data": {
      "text/plain": [
       "'The sum of 7 and 5 is 8.'"
      ]
     },
     "execution_count": 56,
     "metadata": {},
     "output_type": "execute_result"
    }
   ],
   "source": [
    "mystr.replace('3', '7')"
   ]
  },
  {
   "cell_type": "code",
   "execution_count": 57,
   "metadata": {},
   "outputs": [
    {
     "name": "stdout",
     "output_type": "stream",
     "text": [
      "This is a string\n",
      "with a newline character\n"
     ]
    }
   ],
   "source": [
    "str2 = \"This is a string\\nwith a newline character\"\n",
    "\n",
    "print(str2)"
   ]
  },
  {
   "cell_type": "code",
   "execution_count": 72,
   "metadata": {},
   "outputs": [
    {
     "name": "stdout",
     "output_type": "stream",
     "text": [
      "12652\n"
     ]
    }
   ],
   "source": [
    "fhandle = open(\"Tale_of_Two_Cities.txt\",'r')\n",
    "\n",
    "count = 0\n",
    "for line in fhandle:\n",
    "    if line != \"\\n\":\n",
    "        count += 1\n",
    "    \n",
    "print(count)"
   ]
  },
  {
   "cell_type": "code",
   "execution_count": 5,
   "metadata": {},
   "outputs": [
    {
     "name": "stdin",
     "output_type": "stream",
     "text": [
      "Enter the filename:  fdsa\n"
     ]
    },
    {
     "ename": "SystemExit",
     "evalue": "Unable to open fdsa.",
     "output_type": "error",
     "traceback": [
      "An exception has occurred, use %tb to see the full traceback.\n",
      "\u001b[0;31mSystemExit\u001b[0m\u001b[0;31m:\u001b[0m Unable to open fdsa.\n"
     ]
    },
    {
     "name": "stderr",
     "output_type": "stream",
     "text": [
      "/home/gary/anaconda3/lib/python3.7/site-packages/IPython/core/interactiveshell.py:2969: UserWarning: To exit: use 'exit', 'quit', or Ctrl-D.\n",
      "  warn(\"To exit: use 'exit', 'quit', or Ctrl-D.\", stacklevel=1)\n"
     ]
    }
   ],
   "source": [
    "# import sys\n",
    "\n",
    "fname = input(\"Enter the filename: \")\n",
    "\n",
    "try:\n",
    "    fhandle = open(fname)\n",
    "except:\n",
    "#     sys.exit(f\"Unable ot open {fname}.\")\n",
    "    raise SystemExit(f\"Unable to open {fname}.\")\n",
    "\n",
    "\n",
    "for line in fhandle:\n",
    "    if \"England\" not in line:\n",
    "        continue\n",
    "        \n",
    "    print(line.rstrip())\n",
    "\n",
    "    "
   ]
  },
  {
   "cell_type": "code",
   "execution_count": 6,
   "metadata": {},
   "outputs": [],
   "source": [
    "funs = [lambda x:x**2, lambda x:x**3, lambda x:x**2 - 3*x + 7]"
   ]
  },
  {
   "cell_type": "code",
   "execution_count": 16,
   "metadata": {},
   "outputs": [
    {
     "name": "stdout",
     "output_type": "stream",
     "text": [
      "1\n",
      "4\n",
      "9\n",
      "16\n",
      "25\n",
      "1\n",
      "8\n",
      "27\n",
      "64\n",
      "125\n",
      "5\n",
      "5\n",
      "7\n",
      "11\n",
      "17\n"
     ]
    }
   ],
   "source": [
    "for fun in funs:\n",
    "    for i in [1,2,3,4,5]:\n",
    "        print(fun(i))"
   ]
  },
  {
   "cell_type": "code",
   "execution_count": 21,
   "metadata": {},
   "outputs": [
    {
     "data": {
      "text/plain": [
       "'banana'"
      ]
     },
     "execution_count": 21,
     "metadata": {},
     "output_type": "execute_result"
    }
   ],
   "source": [
    "fruit = \"Banana\"\n",
    "fruit = fruit.lower()\n",
    "fruit"
   ]
  },
  {
   "cell_type": "code",
   "execution_count": 29,
   "metadata": {},
   "outputs": [
    {
     "name": "stdout",
     "output_type": "stream",
     "text": [
      "{'t': 54053, 'h': 38976, 'e': 74840, 'p': 9960, 'r': 37214, 'o': 46536, 'j': 714, 'c': 13903, 'g': 12548, 'u': 16739, 'n': 42386, 'b': 8422, 'k': 4787, 'f': 13563, 'a': 48170, 'l': 22048, 'w': 14121, 'i': 41017, 's': 37588, 'y': 12186, 'd': 28047, 'm': 15296, 'v': 5203, 'x': 723, 'q': 666, 'z': 215}\n"
     ]
    }
   ],
   "source": [
    "letters = dict()\n",
    "fname = open(\"./Tale_of_Two_Cities.txt\")\n",
    "\n",
    "for line in fname:\n",
    "    words = line.strip().split()\n",
    "    for word in words:\n",
    "        word = word.lower()\n",
    "        for letter in word:\n",
    "            if letter not in ['a','b','c','d','e','f','g','h','i','j','k','l','m','n','o','p','q','r','s','t','u','v','w','x','y','z']:\n",
    "                continue\n",
    "            if letter not in letters:\n",
    "                letters[letter] = 1\n",
    "            else:\n",
    "                letters[letter] += 1\n",
    "\n",
    "print(letters)"
   ]
  },
  {
   "cell_type": "code",
   "execution_count": 34,
   "metadata": {},
   "outputs": [
    {
     "name": "stdout",
     "output_type": "stream",
     "text": [
      "a 48170\n",
      "b 8422\n",
      "c 13903\n",
      "d 28047\n",
      "e 74840\n",
      "f 13563\n",
      "g 12548\n",
      "h 38976\n",
      "i 41017\n",
      "j 714\n",
      "k 4787\n",
      "l 22048\n",
      "m 15296\n",
      "n 42386\n",
      "o 46536\n",
      "p 9960\n",
      "q 666\n",
      "r 37214\n",
      "s 37588\n",
      "t 54053\n",
      "u 16739\n",
      "v 5203\n",
      "w 14121\n",
      "x 723\n",
      "y 12186\n",
      "z 215\n"
     ]
    }
   ],
   "source": [
    "# The line \"letters[letter] = letters.get(letter,0) + 1\" will add the key stored in the variable \"letter\" with a default value of 0 if the key doesn't already exist in the dictionary. If the key does exist, 1 will be added to the value associated with the key.\n",
    "\n",
    "letters = dict()\n",
    "fname = open(\"./Tale_of_Two_Cities.txt\")\n",
    "\n",
    "for line in fname:\n",
    "    words = line.strip().split()\n",
    "    for word in words:\n",
    "        word = word.lower()\n",
    "        for letter in word:\n",
    "            if letter not in ['a','b','c','d','e','f','g','h','i','j','k','l','m','n','o','p','q','r','s','t','u','v','w','x','y','z']:\n",
    "                continue\n",
    "            letters[letter] = letters.get(letter,0) + 1\n",
    "\n",
    "\n",
    "# Sort the dictionary by key and print out the key-value pairs.            \n",
    "for k, v in sorted(letters.items()):\n",
    "    print(k, v)"
   ]
  },
  {
   "cell_type": "code",
   "execution_count": 36,
   "metadata": {},
   "outputs": [
    {
     "name": "stdout",
     "output_type": "stream",
     "text": [
      "74840 e\n",
      "54053 t\n",
      "48170 a\n",
      "46536 o\n",
      "42386 n\n",
      "41017 i\n",
      "38976 h\n",
      "37588 s\n",
      "37214 r\n",
      "28047 d\n",
      "22048 l\n",
      "16739 u\n",
      "15296 m\n",
      "14121 w\n",
      "13903 c\n",
      "13563 f\n",
      "12548 g\n",
      "12186 y\n",
      "9960 p\n",
      "8422 b\n",
      "5203 v\n",
      "4787 k\n",
      "723 x\n",
      "714 j\n",
      "666 q\n",
      "215 z\n"
     ]
    }
   ],
   "source": [
    "# Here we modify the previous code to sort the dictionary by value instead of key.\n",
    "\n",
    "# The line \"letters[letter] = letters.get(letter,0) + 1\" will add the key stored in the variable \"letter\" with a default value of 0 if the key doesn't already exist in the dictionary. If the key does exist, 1 will be added to the value associated with the key.\n",
    "\n",
    "letters = dict()\n",
    "fname = open(\"./Tale_of_Two_Cities.txt\")\n",
    "\n",
    "for line in fname:\n",
    "    words = line.strip().split()\n",
    "    for word in words:\n",
    "        word = word.lower()\n",
    "        for letter in word:\n",
    "            if letter not in ['a','b','c','d','e','f','g','h','i','j','k','l','m','n','o','p','q','r','s','t','u','v','w','x','y','z']:\n",
    "                continue\n",
    "            letters[letter] = letters.get(letter,0) + 1\n",
    "\n",
    "            \n",
    "tmp = list()\n",
    "\n",
    "for k, v in sorted(letters.items()):\n",
    "    tmp.append((v, k))\n",
    "    \n",
    "tmp = sorted(tmp, reverse=True)\n",
    "for v, k in tmp:\n",
    "    print(v, k)\n",
    "    "
   ]
  },
  {
   "cell_type": "code",
   "execution_count": 38,
   "metadata": {},
   "outputs": [
    {
     "name": "stdout",
     "output_type": "stream",
     "text": [
      "[(74840, 'e'), (54053, 't'), (48170, 'a'), (46536, 'o'), (42386, 'n'), (41017, 'i'), (38976, 'h'), (37588, 's'), (37214, 'r'), (28047, 'd'), (22048, 'l'), (16739, 'u'), (15296, 'm'), (14121, 'w'), (13903, 'c'), (13563, 'f'), (12548, 'g'), (12186, 'y'), (9960, 'p'), (8422, 'b'), (5203, 'v'), (4787, 'k'), (723, 'x'), (714, 'j'), (666, 'q'), (215, 'z')]\n"
     ]
    }
   ],
   "source": [
    "# Here we use a list comprehension.\n",
    "\n",
    "# Here we modify the previous code to sort the dictionary by value instead of key.\n",
    "\n",
    "# The line \"letters[letter] = letters.get(letter,0) + 1\" will add the key stored in the variable \"letter\" with a default value of 0 if the key doesn't already exist in the dictionary. If the key does exist, 1 will be added to the value associated with the key.\n",
    "\n",
    "letters = dict()\n",
    "fname = open(\"./Tale_of_Two_Cities.txt\")\n",
    "\n",
    "for line in fname:\n",
    "    words = line.strip().split()\n",
    "    for word in words:\n",
    "        word = word.lower()\n",
    "        for letter in word:\n",
    "            if letter not in ['a','b','c','d','e','f','g','h','i','j','k','l','m','n','o','p','q','r','s','t','u','v','w','x','y','z']:\n",
    "                continue\n",
    "            letters[letter] = letters.get(letter,0) + 1\n",
    "\n",
    "            \n",
    "print( sorted( [(v,k) for k,v in letters.items()], reverse=True ) )"
   ]
  },
  {
   "cell_type": "code",
   "execution_count": 39,
   "metadata": {},
   "outputs": [
    {
     "name": "stdout",
     "output_type": "stream",
     "text": [
      "['2', '19', '42']\n"
     ]
    }
   ],
   "source": [
    "import re\n",
    "\n",
    "x = \"My 2 favorite numbers are 19 and 42.\"\n",
    "y = re.findall('[0-9]+', x)\n",
    "print(y)"
   ]
  },
  {
   "cell_type": "code",
   "execution_count": 42,
   "metadata": {},
   "outputs": [
    {
     "name": "stdout",
     "output_type": "stream",
     "text": [
      "['From: Using the :']\n",
      "['From:']\n"
     ]
    }
   ],
   "source": [
    "x = \"From: Using the : character.\"\n",
    "y = re.findall('^F.+:', x)\n",
    "print(y)\n",
    "\n",
    "y = re.findall('F.+?:', x)\n",
    "print(y)"
   ]
  },
  {
   "cell_type": "code",
   "execution_count": 47,
   "metadata": {},
   "outputs": [
    {
     "name": "stdout",
     "output_type": "stream",
     "text": [
      "['stephen.marquard@uct.ac.za']\n",
      "['stephen.marquard@uct.ac.za']\n",
      "['uct.ac.za']\n",
      "['uct.ac.za']\n"
     ]
    }
   ],
   "source": [
    "x = \"From stephen.marquard@uct.ac.za Sat Jan   5 09:14:16 2008\"\n",
    "y = re.findall('\\S+@\\S+', x)\n",
    "print(y)\n",
    "\n",
    "y = re.findall('^From (\\S+@\\S+)', x)\n",
    "print(y)\n",
    "\n",
    "y = re.findall('@([^ ]+)', x)\n",
    "print(y)\n",
    "\n",
    "y = re.findall('^From .*@([^ ]+)', x)\n",
    "print(y)"
   ]
  },
  {
   "cell_type": "code",
   "execution_count": 61,
   "metadata": {},
   "outputs": [
    {
     "name": "stdout",
     "output_type": "stream",
     "text": [
      "471829\n"
     ]
    }
   ],
   "source": [
    "print( sum([int(num) for num in  re.findall('[0-9]+',open(\"regex_sum_147466.txt\").read()) if len(num) != 0]))"
   ]
  },
  {
   "cell_type": "code",
   "execution_count": 4,
   "metadata": {},
   "outputs": [
    {
     "name": "stdout",
     "output_type": "stream",
     "text": [
      "But soft what light through yonder window breaks\n",
      "It is the east and Juliet is the sun\n",
      "Arise fair sun and kill the envious moon\n",
      "Who is already sick and pale with grief\n"
     ]
    }
   ],
   "source": [
    "import urllib.request, urllib.parse, urllib.error\n",
    "\n",
    "fhand = urllib.request.urlopen('http://data.pr4e.org/romeo.txt')\n",
    "\n",
    "for line in fhand:\n",
    "    print(line.decode().strip())\n",
    "\n",
    "# for line in fhand:\n",
    "#     print(line)"
   ]
  },
  {
   "cell_type": "code",
   "execution_count": 5,
   "metadata": {},
   "outputs": [
    {
     "name": "stdout",
     "output_type": "stream",
     "text": [
      "{'But': 1, 'soft': 1, 'what': 1, 'light': 1, 'through': 1, 'yonder': 1, 'window': 1, 'breaks': 1, 'It': 1, 'is': 3, 'the': 3, 'east': 1, 'and': 3, 'Juliet': 1, 'sun': 2, 'Arise': 1, 'fair': 1, 'kill': 1, 'envious': 1, 'moon': 1, 'Who': 1, 'already': 1, 'sick': 1, 'pale': 1, 'with': 1, 'grief': 1}\n"
     ]
    }
   ],
   "source": [
    "import urllib.request, urllib.parse, urllib.error\n",
    "\n",
    "fhand = urllib.request.urlopen('http://data.pr4e.org/romeo.txt')\n",
    "\n",
    "counts = dict()\n",
    "for line in fhand:\n",
    "    words = line.decode().split()\n",
    "    for word in words:\n",
    "        counts[word] = counts.get(word, 0) + 1\n",
    "        \n",
    "print(counts)\n"
   ]
  },
  {
   "cell_type": "code",
   "execution_count": 6,
   "metadata": {},
   "outputs": [
    {
     "name": "stdout",
     "output_type": "stream",
     "text": [
      "<h1>The First Page</h1>\n",
      "<p>\n",
      "If you like, you can switch to the\n",
      "<a href=\"http://www.dr-chuck.com/page2.htm\">\n",
      "Second Page</a>.\n",
      "</p>\n"
     ]
    }
   ],
   "source": [
    "import urllib.request, urllib.parse, urllib.error\n",
    "\n",
    "fhand = urllib.request.urlopen('http://www.dr-chuck.com/page1.htm')\n",
    "\n",
    "for line in fhand:\n",
    "    print(line.decode().strip())\n"
   ]
  },
  {
   "cell_type": "code",
   "execution_count": 11,
   "metadata": {},
   "outputs": [
    {
     "name": "stdin",
     "output_type": "stream",
     "text": [
      "Enter -  https://accounts.smccd.edu/churchg\n"
     ]
    },
    {
     "name": "stdout",
     "output_type": "stream",
     "text": [
      "http://www.collegeofsanmateo.edu/\n",
      "mailto:churchg@smccd.edu\n",
      "None\n",
      "https://smccd.instructure.com/courses/18033\n",
      "https://smccd.instructure.com/courses/18154\n",
      "https://smccd.instructure.com/courses/18164\n",
      "http://www.adobe.com/products/acrobat/readstep2.html\n",
      "How_to_redirect.pdf\n",
      "None\n"
     ]
    }
   ],
   "source": [
    "import urllib.request, urllib.parse, urllib.error\n",
    "from bs4 import BeautifulSoup\n",
    "\n",
    "url = input('Enter - ')\n",
    "html = urllib.request.urlopen(url).read()\n",
    "soup = BeautifulSoup(html, 'html.parser')\n",
    "\n",
    "# Retrieve all the anchor tags\n",
    "tags = soup('a')\n",
    "for tag in tags:\n",
    "    print(tag.get('href', None))"
   ]
  },
  {
   "cell_type": "code",
   "execution_count": 1,
   "metadata": {},
   "outputs": [
    {
     "name": "stdout",
     "output_type": "stream",
     "text": [
      "HTTP/1.1 200 OK\n",
      "Date: Sun, 28 Oct 2018 00:07:09 GMT\n",
      "Server: Apache/2.4.18 (Ubuntu)\n",
      "Last-Modified: Sat, 13 May 2017 11:22:22 GMT\n",
      "ETag: \"1d3-54f6609240717\"\n",
      "Accept-Ranges: bytes\n",
      "Content-Length: 467\n",
      "Cache-Control: max-age=0, no-cache, no-store, must-revalidate\n",
      "Pragma: no-cache\n",
      "Expires: Wed, 11 Jan 1984 05:00:00 GMT\n",
      "Content-Type: text/plain\n",
      "X-Cache: MISS from sjos3-notify03.sanjose.ca.sfba.comcast.net\n",
      "X-Cache-Lookup: MISS from sjos3-notify03.sanjose.ca.sfba.comcast.net:3850\n",
      "Via: 1.1 sjos3-notify03.sanjose.ca.sfba.comcast.net (squid/3.5.23)\n",
      "Connection: close\n",
      "\n",
      "Why should you learn to write programs?\n",
      "\n",
      "Writing programs (or programming) is a very creative \n",
      "and rewarding activity.  You can write programs for \n",
      "many reasons, ranging from making your living to solving\n",
      "a difficult data analysis problem to having fun to helping\n",
      "someone else solve a problem.  This book assumes that \n",
      "everyone needs to know how to program, and that once \n",
      "you know how to program you will figure out what you want \n",
      "to do with your newfound skills.  \n"
     ]
    }
   ],
   "source": [
    "import socket\n",
    "\n",
    "mysock = socket.socket(socket.AF_INET, socket.SOCK_STREAM)\n",
    "mysock.connect(('data.pr4e.org', 80))\n",
    "cmd = 'GET http://data.pr4e.org/intro-short.txt HTTP/1.0\\r\\n\\r\\n'.encode()\n",
    "mysock.send(cmd)\n",
    "\n",
    "while True:\n",
    "    data = mysock.recv(512)\n",
    "    if len(data) < 1:\n",
    "        break\n",
    "    print(data.decode(),end='')\n",
    "\n",
    "mysock.close()"
   ]
  },
  {
   "cell_type": "code",
   "execution_count": 7,
   "metadata": {},
   "outputs": [
    {
     "name": "stdin",
     "output_type": "stream",
     "text": [
      "Enter -  http://py4e-data.dr-chuck.net/comments_147468.html\n"
     ]
    },
    {
     "name": "stdout",
     "output_type": "stream",
     "text": [
      "2437\n"
     ]
    }
   ],
   "source": [
    "# To run this, you can install BeautifulSoup\n",
    "# https://pypi.python.org/pypi/beautifulsoup4\n",
    "\n",
    "# Or download the file\n",
    "# http://www.py4e.com/code3/bs4.zip\n",
    "# and unzip it in the same directory as this file\n",
    "\n",
    "from urllib.request import urlopen\n",
    "from bs4 import BeautifulSoup\n",
    "import ssl\n",
    "\n",
    "# Ignore SSL certificate errors\n",
    "ctx = ssl.create_default_context()\n",
    "ctx.check_hostname = False\n",
    "ctx.verify_mode = ssl.CERT_NONE\n",
    "\n",
    "url = input('Enter - ')\n",
    "html = urlopen(url, context=ctx).read()\n",
    "soup = BeautifulSoup(html, \"html.parser\")\n",
    "\n",
    "# Retrieve all of the anchor tags\n",
    "tags = soup('span')\n",
    "sum = 0\n",
    "for tag in tags:\n",
    "#     Look at the parts of a tag\n",
    "#     print('TAG:', tag)\n",
    "#     print('URL:', tag.get('href', None))\n",
    "#     print('Contents:', tag.contents[0])\n",
    "#     print('Attrs:', tag.attrs)\n",
    "    sum += int(tag.contents[0])\n",
    "\n",
    "print(sum)"
   ]
  },
  {
   "cell_type": "code",
   "execution_count": 36,
   "metadata": {},
   "outputs": [
    {
     "name": "stdin",
     "output_type": "stream",
     "text": [
      "Enter URL: http://py4e-data.dr-chuck.net/known_by_Lacy.html\n",
      "Enter count: 7\n",
      "Enter position: 18\n"
     ]
    },
    {
     "name": "stdout",
     "output_type": "stream",
     "text": [
      "Retrieving: http://py4e-data.dr-chuck.net/known_by_Rian.html\n",
      "Retrieving: http://py4e-data.dr-chuck.net/known_by_Joaquin.html\n",
      "Retrieving: http://py4e-data.dr-chuck.net/known_by_Tiffany.html\n",
      "Retrieving: http://py4e-data.dr-chuck.net/known_by_Kadi.html\n",
      "Retrieving: http://py4e-data.dr-chuck.net/known_by_Zahira.html\n",
      "Retrieving: http://py4e-data.dr-chuck.net/known_by_Erika.html\n",
      "Retrieving: http://py4e-data.dr-chuck.net/known_by_Alanas.html\n"
     ]
    }
   ],
   "source": [
    "# To run this, you can install BeautifulSoup\n",
    "# https://pypi.python.org/pypi/beautifulsoup4\n",
    "\n",
    "# Or download the file\n",
    "# http://www.py4e.com/code3/bs4.zip\n",
    "# and unzip it in the same directory as this file\n",
    "\n",
    "import urllib.request, urllib.parse, urllib.error\n",
    "from bs4 import BeautifulSoup\n",
    "import ssl\n",
    "\n",
    "# Ignore SSL certificate errors\n",
    "ctx = ssl.create_default_context()\n",
    "ctx.check_hostname = False\n",
    "ctx.verify_mode = ssl.CERT_NONE\n",
    "\n",
    "url = input('Enter URL:')\n",
    "count = int(input('Enter count:'))\n",
    "position = int(input('Enter position:'))\n",
    "\n",
    "for i in range(count):\n",
    "    html = urllib.request.urlopen(url, context=ctx).read()\n",
    "    soup = BeautifulSoup(html, 'html.parser')\n",
    "\n",
    "    # Retrieve all of the anchor tags\n",
    "    tags = soup('a')\n",
    "#     print(tags[position-1].contents[0])\n",
    "    url = tags[position-1].get('href', None)\n",
    "    print('Retrieving:', url)"
   ]
  },
  {
   "cell_type": "code",
   "execution_count": 37,
   "metadata": {},
   "outputs": [],
   "source": [
    "import xml.etree.ElementTree as ET"
   ]
  },
  {
   "cell_type": "code",
   "execution_count": 52,
   "metadata": {},
   "outputs": [
    {
     "name": "stdout",
     "output_type": "stream",
     "text": [
      "<class 'str'>\n",
      "Name: Chuck\n",
      "Attr: yes\n"
     ]
    }
   ],
   "source": [
    "data = '''\n",
    "<person>\n",
    "    <name>Chuck</name>\n",
    "    <phone type=\"intl\">\n",
    "        +1 734 303 4456\n",
    "    </phone>\n",
    "    <email hide=\"yes\"/>\n",
    "</person> '''\n",
    "print(type(data))\n",
    "tree = ET.fromstring(data)\n",
    "print('Name:', tree.find('name').text)\n",
    "print('Attr:', tree.find('email').get('hide'))"
   ]
  },
  {
   "cell_type": "code",
   "execution_count": 5,
   "metadata": {},
   "outputs": [
    {
     "name": "stdout",
     "output_type": "stream",
     "text": [
      "User count: 3\n",
      "Name Chuck\n",
      "Id 001\n",
      "Attribute 2\n",
      "Name Brent\n",
      "Id 009\n",
      "Attribute 7\n",
      "Name Gary\n",
      "Id 012\n",
      "Attribute 3\n"
     ]
    }
   ],
   "source": [
    "input = '''\n",
    "<stuff>\n",
    "    <users>\n",
    "        <user x=\"2\" y=\"20\">\n",
    "            <id>001</id>\n",
    "            <name>Chuck</name>\n",
    "        </user>\n",
    "        <user x=\"7\" y=\"70\">\n",
    "            <id>009</id>\n",
    "            <name>Brent</name>\n",
    "        </user>\n",
    "        <user x=\"3\" y=\"30\">\n",
    "            <id>012</id>\n",
    "            <name>Gary</name>\n",
    "        </user>        \n",
    "    </users>\n",
    "</stuff>'''\n",
    "\n",
    "stuff = ET.fromstring(input)\n",
    "lst = stuff.findall('users/user')\n",
    "# print(lst)\n",
    "print('User count:', len(lst))\n",
    "\n",
    "for item in lst:\n",
    "    print('Name', item.find('name').text)\n",
    "    print('Id', item.find('id').text)\n",
    "    print('Attribute', item.get(\"x\"))\n",
    "    "
   ]
  },
  {
   "cell_type": "code",
   "execution_count": 1,
   "metadata": {},
   "outputs": [
    {
     "name": "stdout",
     "output_type": "stream",
     "text": [
      "Name: Chuck\n",
      "Attr: yes\n"
     ]
    }
   ],
   "source": [
    "import xml.etree.ElementTree as ET\n",
    "\n",
    "# The 'data' variable below is a STRING\n",
    "data = '''\n",
    "    <person>\n",
    "        <name>Chuck</name>\n",
    "        <phone type='intl'>\n",
    "            +1 734 303 4456\n",
    "        </phone>\n",
    "        <email hide=\"yes\"/>\n",
    "    </person>'''\n",
    "\n",
    "# The function 'ET.fromstring()' reads an input string and returns an object.\n",
    "tree = ET.fromstring(data)\n",
    "print('Name:', tree.find('name').text)\n",
    "print('Attr:', tree.find('email').get('hide'))"
   ]
  },
  {
   "cell_type": "code",
   "execution_count": 63,
   "metadata": {},
   "outputs": [
    {
     "name": "stdout",
     "output_type": "stream",
     "text": [
      "{'name': 'Chuck', 'phone': {'type': 'intl', 'number': '+1 734 303 4456'}, 'email': {'hide': 'yes'}}\n",
      "Name: Chuck\n",
      "Hide: yes\n",
      "Phone number: +1 734 303 4456\n"
     ]
    }
   ],
   "source": [
    "import json\n",
    "data = '''\n",
    "{\n",
    "    \"name\" : \"Chuck\",\n",
    "    \"phone\" : {\n",
    "        \"type\" : \"intl\",\n",
    "        \"number\" : \"+1 734 303 4456\"\n",
    "    },\n",
    "    \"email\" : {\n",
    "        \"hide\" : \"yes\"\n",
    "    }\n",
    "}'''\n",
    "\n",
    "info = json.loads(data)\n",
    "print(info)\n",
    "print('Name:', info[\"name\"])\n",
    "print('Hide:', info[\"email\"][\"hide\"])\n",
    "print('Phone number:', info[\"phone\"][\"number\"])"
   ]
  },
  {
   "cell_type": "code",
   "execution_count": 64,
   "metadata": {},
   "outputs": [
    {
     "name": "stdout",
     "output_type": "stream",
     "text": [
      "User count 2\n",
      "Name: Chuck\n",
      "id 001\n",
      "Attribute 2\n",
      "Name: Darwin\n",
      "id 009\n",
      "Attribute 7\n"
     ]
    }
   ],
   "source": [
    "import json\n",
    "input = '''\n",
    "[\n",
    "    { \n",
    "        \"id\" : \"001\",\n",
    "        \"x\" : \"2\",\n",
    "        \"name\" : \"Chuck\"\n",
    "    },\n",
    "    {\n",
    "        \"id\" : \"009\",\n",
    "        \"x\" : \"7\",\n",
    "        \"name\" : \"Darwin\"\n",
    "    }\n",
    "]'''\n",
    "\n",
    "info = json.loads(input)\n",
    "print('User count', len(info))\n",
    "for item in info:\n",
    "    print('Name:', item[\"name\"])\n",
    "    print('id', item[\"id\"])\n",
    "    print('Attribute', item[\"x\"])"
   ]
  },
  {
   "cell_type": "code",
   "execution_count": 5,
   "metadata": {},
   "outputs": [
    {
     "name": "stdout",
     "output_type": "stream",
     "text": [
      "Enter location: http://py4e-data.dr-chuck.net/comments_42.xml\n",
      "Retrieving http://py4e-data.dr-chuck.net/xml?address=http%3A%2F%2Fpy4e-data.dr-chuck.net%2Fcomments_42.xml&key=42\n",
      "Retrieved 1892 characters\n",
      "0\n",
      "Enter location: \n"
     ]
    }
   ],
   "source": [
    "import urllib.request, urllib.parse, urllib.error\n",
    "import xml.etree.ElementTree as ET\n",
    "import ssl\n",
    "\n",
    "api_key = False\n",
    "# If you have a Google Places API key, enter it here\n",
    "# api_key = 'AIzaSy___IDByT70'\n",
    "\n",
    "if api_key is False:\n",
    "    api_key = 42\n",
    "    serviceurl = 'http://py4e-data.dr-chuck.net/xml?'\n",
    "else :\n",
    "    serviceurl = 'https://maps.googleapis.com/maps/api/geocode/xml?'\n",
    "\n",
    "# Ignore SSL certificate errors\n",
    "ctx = ssl.create_default_context()\n",
    "ctx.check_hostname = False\n",
    "ctx.verify_mode = ssl.CERT_NONE\n",
    "\n",
    "while True:\n",
    "    address = input('Enter location: ')\n",
    "#     address = \"http://py4e-data.dr-chuck.net/comments_42.xml\"\n",
    "    if len(address) < 1: break\n",
    "\n",
    "    parms = dict()\n",
    "    parms['address'] = address\n",
    "    if api_key is not False: parms['key'] = api_key\n",
    "    url = serviceurl + urllib.parse.urlencode(parms)\n",
    "    print('Retrieving', url)\n",
    "    uh = urllib.request.urlopen(url, context=ctx)\n",
    "\n",
    "    data = uh.read()\n",
    "    print('Retrieved', len(data), 'characters')\n",
    "#     print(data.decode())\n",
    "    tree = ET.fromstring(data)\n",
    "\n",
    "    results = tree.findall('./commentinfo/comments/comment')\n",
    "    print(len(results))"
   ]
  },
  {
   "cell_type": "code",
   "execution_count": null,
   "metadata": {},
   "outputs": [],
   "source": []
  }
 ],
 "metadata": {
  "kernelspec": {
   "display_name": "Python 3",
   "language": "python",
   "name": "python3"
  },
  "language_info": {
   "codemirror_mode": {
    "name": "ipython",
    "version": 3
   },
   "file_extension": ".py",
   "mimetype": "text/x-python",
   "name": "python",
   "nbconvert_exporter": "python",
   "pygments_lexer": "ipython3",
   "version": "3.7.0"
  }
 },
 "nbformat": 4,
 "nbformat_minor": 2
}
