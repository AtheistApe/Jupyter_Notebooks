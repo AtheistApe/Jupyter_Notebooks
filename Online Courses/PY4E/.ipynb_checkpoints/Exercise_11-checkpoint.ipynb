{
 "cells": [
  {
   "cell_type": "code",
   "execution_count": 9,
   "metadata": {},
   "outputs": [
    {
     "name": "stdout",
     "output_type": "stream",
     "text": [
      "445833\n"
     ]
    }
   ],
   "source": [
    "import re\n",
    "\n",
    "fhandle = open(\"regex_sum_42.txt\")\n",
    "numlst = list()\n",
    "\n",
    "numexpr = \"[0-9]+\"\n",
    "\n",
    "for line in fhandle:\n",
    "    nums = re.findall(numexpr, line)\n",
    "    if len(nums) == 0:\n",
    "        continue\n",
    "    numlst.extend(nums)\n",
    "    \n",
    "sum = 0\n",
    "for num in numlst:\n",
    "    sum += int(num)\n",
    "    \n",
    "print(sum)"
   ]
  },
  {
   "cell_type": "code",
   "execution_count": 1,
   "metadata": {},
   "outputs": [
    {
     "name": "stdout",
     "output_type": "stream",
     "text": [
      "471829\n"
     ]
    }
   ],
   "source": [
    "import re\n",
    "\n",
    "fhandle = open(\"regex_sum_147466.txt\")\n",
    "numlst = list()\n",
    "\n",
    "numexpr = \"[0-9]+\"\n",
    "\n",
    "for line in fhandle:\n",
    "    nums = re.findall(numexpr, line)\n",
    "    if len(nums) == 0:\n",
    "        continue\n",
    "    numlst.extend(nums)\n",
    "    \n",
    "total = 0\n",
    "for num in numlst:\n",
    "    total += int(num)\n",
    "    \n",
    "print(total)"
   ]
  },
  {
   "cell_type": "code",
   "execution_count": 3,
   "metadata": {},
   "outputs": [
    {
     "name": "stdout",
     "output_type": "stream",
     "text": [
      "471829\n"
     ]
    }
   ],
   "source": [
    "# A one line solution using a list comprehension.\n",
    "\n",
    "print(sum([int(num) for num in re.findall('[0-9]+',open(\"regex_sum_147466.txt\").read()) if len(num) != 0]))"
   ]
  },
  {
   "cell_type": "code",
   "execution_count": null,
   "metadata": {},
   "outputs": [],
   "source": []
  }
 ],
 "metadata": {
  "kernelspec": {
   "display_name": "Python 3",
   "language": "python",
   "name": "python3"
  },
  "language_info": {
   "codemirror_mode": {
    "name": "ipython",
    "version": 3
   },
   "file_extension": ".py",
   "mimetype": "text/x-python",
   "name": "python",
   "nbconvert_exporter": "python",
   "pygments_lexer": "ipython3",
   "version": "3.7.0"
  }
 },
 "nbformat": 4,
 "nbformat_minor": 2
}
