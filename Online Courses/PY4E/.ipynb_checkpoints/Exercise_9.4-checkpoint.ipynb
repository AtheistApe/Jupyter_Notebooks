{
 "cells": [
  {
   "cell_type": "markdown",
   "metadata": {},
   "source": [
    "Write a program to read through the mbox-short.txt and figure out who has the sent the greatest number of mail messages. The program looks for 'From ' lines and takes the second word of those lines as the person who sent the mail. The program creates a Python dictionary that maps the sender's mail address to a count of the number of times they appear in the file. After the dictionary is produced, the program reads through the dictionary using a maximum loop to find the most prolific committer."
   ]
  },
  {
   "cell_type": "code",
   "execution_count": 16,
   "metadata": {},
   "outputs": [
    {
     "name": "stdin",
     "output_type": "stream",
     "text": [
      "Enter file: mbox-short.txt\n"
     ]
    },
    {
     "name": "stdout",
     "output_type": "stream",
     "text": [
      "cwen@iupui.edu 5\n"
     ]
    }
   ],
   "source": [
    "addresses = dict()\n",
    "\n",
    "name = input(\"Enter file:\")\n",
    "if len(name) < 1:\n",
    "    name = \"mbox-short.txt\"\n",
    "    \n",
    "handle = open(name)\n",
    "for line in handle:\n",
    "    if not line.startswith(\"From \"):\n",
    "        continue\n",
    "    address = line.split()[1]\n",
    "    addresses[address] = addresses.get(address,0) + 1\n",
    "\n",
    "key_max, maximum = '', 0\n",
    "for key in addresses:\n",
    "    if addresses[key] > maximum:\n",
    "        key_max, maximum = key, addresses[key]\n",
    "        \n",
    "print(key_max, maximum)"
   ]
  },
  {
   "cell_type": "code",
   "execution_count": 17,
   "metadata": {},
   "outputs": [
    {
     "name": "stdin",
     "output_type": "stream",
     "text": [
      "Enter file: mbox-short.txt\n"
     ]
    },
    {
     "name": "stdout",
     "output_type": "stream",
     "text": [
      "cwen@iupui.edu 5\n"
     ]
    }
   ],
   "source": [
    "# Slightly modified (better) version\n",
    "\n",
    "addresses = dict()\n",
    "\n",
    "name = input(\"Enter file:\")\n",
    "if len(name) < 1:\n",
    "    name = \"mbox-short.txt\"\n",
    "    \n",
    "handle = open(name)\n",
    "for line in handle:\n",
    "    if not line.startswith(\"From \"):\n",
    "        continue\n",
    "    address = line.split()[1]\n",
    "    addresses[address] = addresses.get(address,0) + 1\n",
    "\n",
    "key_max, maximum = '', 0\n",
    "for (k,v) in addresses.items():\n",
    "    if addresses[k] > maximum:\n",
    "        key_max, maximum = k, v\n",
    "        \n",
    "print(key_max, maximum)"
   ]
  },
  {
   "cell_type": "code",
   "execution_count": null,
   "metadata": {},
   "outputs": [],
   "source": []
  }
 ],
 "metadata": {
  "kernelspec": {
   "display_name": "Python 3",
   "language": "python",
   "name": "python3"
  },
  "language_info": {
   "codemirror_mode": {
    "name": "ipython",
    "version": 3
   },
   "file_extension": ".py",
   "mimetype": "text/x-python",
   "name": "python",
   "nbconvert_exporter": "python",
   "pygments_lexer": "ipython3",
   "version": "3.7.0"
  }
 },
 "nbformat": 4,
 "nbformat_minor": 2
}
