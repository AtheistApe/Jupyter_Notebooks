{
 "cells": [
  {
   "cell_type": "markdown",
   "metadata": {},
   "source": [
    "# Basic File Commands from the \"os\" Module"
   ]
  },
  {
   "cell_type": "code",
   "execution_count": 2,
   "metadata": {
    "collapsed": true
   },
   "outputs": [],
   "source": [
    "import os"
   ]
  },
  {
   "cell_type": "code",
   "execution_count": 2,
   "metadata": {
    "collapsed": false
   },
   "outputs": [
    {
     "data": {
      "text/plain": [
       "'folder1/folder2/folder3/file.png'"
      ]
     },
     "execution_count": 2,
     "metadata": {},
     "output_type": "execute_result"
    }
   ],
   "source": [
    "os.path.join('folder1','folder2','folder3','file.png')"
   ]
  },
  {
   "cell_type": "code",
   "execution_count": 3,
   "metadata": {
    "collapsed": false
   },
   "outputs": [
    {
     "data": {
      "text/plain": [
       "'/'"
      ]
     },
     "execution_count": 3,
     "metadata": {},
     "output_type": "execute_result"
    }
   ],
   "source": [
    "os.sep"
   ]
  },
  {
   "cell_type": "code",
   "execution_count": 6,
   "metadata": {
    "collapsed": false
   },
   "outputs": [
    {
     "data": {
      "text/plain": [
       "'/Users/gary/Documents/Jupyter_Notebooks'"
      ]
     },
     "execution_count": 6,
     "metadata": {},
     "output_type": "execute_result"
    }
   ],
   "source": [
    "# Show current working directory\n",
    "\n",
    "os.getcwd()"
   ]
  },
  {
   "cell_type": "code",
   "execution_count": 7,
   "metadata": {
    "collapsed": true
   },
   "outputs": [],
   "source": [
    "# Change current working directory\n",
    "\n",
    "os.chdir('./Automate The Boring Stuff with Python/')"
   ]
  },
  {
   "cell_type": "code",
   "execution_count": 3,
   "metadata": {
    "collapsed": false
   },
   "outputs": [
    {
     "data": {
      "text/plain": [
       "'/Users/gary/Documents/Jupyter_Notebooks/Automate The Boring Stuff with Python'"
      ]
     },
     "execution_count": 3,
     "metadata": {},
     "output_type": "execute_result"
    }
   ],
   "source": [
    "os.getcwd()"
   ]
  },
  {
   "cell_type": "code",
   "execution_count": 10,
   "metadata": {
    "collapsed": false
   },
   "outputs": [
    {
     "data": {
      "text/plain": [
       "'/Users/gary/Documents/Jupyter_Notebooks/Automate The Boring Stuff with Python/Files.ipynb'"
      ]
     },
     "execution_count": 10,
     "metadata": {},
     "output_type": "execute_result"
    }
   ],
   "source": [
    "# Get absolute path of a file\n",
    "\n",
    "os.path.abspath('Files.ipynb')"
   ]
  },
  {
   "cell_type": "code",
   "execution_count": 11,
   "metadata": {
    "collapsed": false
   },
   "outputs": [
    {
     "data": {
      "text/plain": [
       "False"
      ]
     },
     "execution_count": 11,
     "metadata": {},
     "output_type": "execute_result"
    }
   ],
   "source": [
    "# State whether a path is an absolute path (True/False)\n",
    "\n",
    "os.path.isabs('Files.ipynb')"
   ]
  },
  {
   "cell_type": "code",
   "execution_count": 12,
   "metadata": {
    "collapsed": false
   },
   "outputs": [
    {
     "data": {
      "text/plain": [
       "True"
      ]
     },
     "execution_count": 12,
     "metadata": {},
     "output_type": "execute_result"
    }
   ],
   "source": [
    "os.path.isabs(os.path.abspath('Files.ipynb'))"
   ]
  },
  {
   "cell_type": "code",
   "execution_count": 14,
   "metadata": {
    "collapsed": false
   },
   "outputs": [
    {
     "data": {
      "text/plain": [
       "'folder2/spam.png'"
      ]
     },
     "execution_count": 14,
     "metadata": {},
     "output_type": "execute_result"
    }
   ],
   "source": [
    "# Give the relative path between two paths.\n",
    "\n",
    "os.path.relpath('/folder1/folder2/spam.png', '/folder1')"
   ]
  },
  {
   "cell_type": "code",
   "execution_count": 17,
   "metadata": {
    "collapsed": false
   },
   "outputs": [
    {
     "name": "stdout",
     "output_type": "stream",
     "text": [
      "/folder1/folder2\n",
      "spam.png\n"
     ]
    }
   ],
   "source": [
    "# Get the directory of a file OR get the last part of a path\n",
    "\n",
    "print(os.path.dirname('/folder1/folder2/spam.png'))\n",
    "print(os.path.basename('/folder1/foler2/spam.png'))"
   ]
  },
  {
   "cell_type": "code",
   "execution_count": 18,
   "metadata": {
    "collapsed": false
   },
   "outputs": [
    {
     "data": {
      "text/plain": [
       "False"
      ]
     },
     "execution_count": 18,
     "metadata": {},
     "output_type": "execute_result"
    }
   ],
   "source": [
    "# Determine whether a path exists or not (True/False)\n",
    "\n",
    "os.path.exists('/folder1/folder2/spam.png')"
   ]
  },
  {
   "cell_type": "code",
   "execution_count": 19,
   "metadata": {
    "collapsed": false
   },
   "outputs": [
    {
     "data": {
      "text/plain": [
       "True"
      ]
     },
     "execution_count": 19,
     "metadata": {},
     "output_type": "execute_result"
    }
   ],
   "source": [
    "os.path.exists('/.')"
   ]
  },
  {
   "cell_type": "code",
   "execution_count": 22,
   "metadata": {
    "collapsed": false
   },
   "outputs": [
    {
     "name": "stdout",
     "output_type": "stream",
     "text": [
      "True\n",
      "False\n"
     ]
    }
   ],
   "source": [
    "# Determine whether a path ends at a file or not (True/False)\n",
    "\n",
    "print(os.path.isfile('Files.ipynb'))\n",
    "print(os.path.isfile('./'))"
   ]
  },
  {
   "cell_type": "code",
   "execution_count": 24,
   "metadata": {
    "collapsed": false
   },
   "outputs": [
    {
     "name": "stdout",
     "output_type": "stream",
     "text": [
      "True\n",
      "False\n"
     ]
    }
   ],
   "source": [
    "# Determine whether a path is for a directory or not (True/False)\n",
    "\n",
    "print(os.path.isdir('./'))\n",
    "print(os.path.isdir('Files.ipynp'))"
   ]
  },
  {
   "cell_type": "code",
   "execution_count": 25,
   "metadata": {
    "collapsed": false
   },
   "outputs": [
    {
     "data": {
      "text/plain": [
       "5955"
      ]
     },
     "execution_count": 25,
     "metadata": {},
     "output_type": "execute_result"
    }
   ],
   "source": [
    "# Return the size of a file in bytes\n",
    "\n",
    "os.path.getsize('Files.ipynb')"
   ]
  },
  {
   "cell_type": "code",
   "execution_count": 27,
   "metadata": {
    "collapsed": false
   },
   "outputs": [
    {
     "name": "stdout",
     "output_type": "stream",
     "text": [
      "['.ipynb_checkpoints', 'Files.ipynb', 'Regular Expressions.ipynb']\n",
      "\n",
      "['.DS_Store', '.ipynb_checkpoints', 'Automate The Boring Stuff with Python', 'CSM', 'Differential Equations', 'Ex_Files_Intro_Analysis_Python', 'matrix', 'Miscellaneous', 'Python_3', 'R Files', 'ThinkStats2', 'Udemy Python for Data Analysis Course', 'Weather Stats with Pandas']\n"
     ]
    }
   ],
   "source": [
    "# Return a list of filenames and folders at a path\n",
    "\n",
    "print(os.listdir('./'))\n",
    "print()\n",
    "print(os.listdir('../'))"
   ]
  },
  {
   "cell_type": "code",
   "execution_count": 30,
   "metadata": {
    "collapsed": false
   },
   "outputs": [
    {
     "name": "stdout",
     "output_type": "stream",
     "text": [
      "10244\n"
     ]
    }
   ],
   "source": [
    "# Example code\n",
    "\n",
    "totalSize = 0\n",
    "for filename in os.listdir('../'):\n",
    "    if not os.path.isfile(os.path.join('../', filename)):\n",
    "        continue\n",
    "    totalSize += os.path.getsize(os.path.join('../',filename))\n",
    "                                              \n",
    "print(totalSize)                                           "
   ]
  },
  {
   "cell_type": "code",
   "execution_count": 31,
   "metadata": {
    "collapsed": true
   },
   "outputs": [],
   "source": [
    "# Create new folders\n",
    "\n",
    "os.makedirs('./delicious/foods/cookies')"
   ]
  },
  {
   "cell_type": "markdown",
   "metadata": {},
   "source": [
    "# Saving and Retrieving Strings to and from the File System\n",
    "\n",
    "Will read and write plain text files and binary files."
   ]
  },
  {
   "cell_type": "code",
   "execution_count": 40,
   "metadata": {
    "collapsed": false
   },
   "outputs": [
    {
     "data": {
      "text/plain": [
       "'Hello world!\\nHow are you?\\n'"
      ]
     },
     "execution_count": 40,
     "metadata": {},
     "output_type": "execute_result"
    }
   ],
   "source": [
    "# The 'open()' command is used to open a file\n",
    "\n",
    "helloFile = open('./hello.txt') # Create file object \"helloFile\"\n",
    "helloFile.read() # Return the contents of the file object."
   ]
  },
  {
   "cell_type": "code",
   "execution_count": 41,
   "metadata": {
    "collapsed": true
   },
   "outputs": [],
   "source": [
    "# The '.close()' method of the file object closes the file.\n",
    "\n",
    "helloFile.close()"
   ]
  },
  {
   "cell_type": "code",
   "execution_count": 49,
   "metadata": {
    "collapsed": false
   },
   "outputs": [
    {
     "name": "stdout",
     "output_type": "stream",
     "text": [
      "Hello world!\n",
      "How are you?\n",
      "\n"
     ]
    }
   ],
   "source": [
    "helloFile = open('./hello.txt')\n",
    "content = helloFile.read()\n",
    "\n",
    "print(content)\n",
    "\n",
    "helloFile.close()"
   ]
  },
  {
   "cell_type": "code",
   "execution_count": 48,
   "metadata": {
    "collapsed": false
   },
   "outputs": [
    {
     "name": "stdout",
     "output_type": "stream",
     "text": [
      "['Hello world!\\n', 'How are you?\\n']\n"
     ]
    }
   ],
   "source": [
    "# The '.readlines()' method returns lines as strings inside a list.\n",
    "\n",
    "helloFile = open('./hello.txt')\n",
    "\n",
    "print(helloFile.readlines())\n",
    "helloFile.close()"
   ]
  },
  {
   "cell_type": "code",
   "execution_count": 52,
   "metadata": {
    "collapsed": false
   },
   "outputs": [],
   "source": [
    "# To write to a file must open it in 'write' or 'append' mode. Write mode will overwrite the files contents. Append mode will add to existing contents.\n",
    "\n",
    "helloFile = open('./hello2.txt', 'w')     # 'w' - write mode\n",
    "helloFile.write('Hello! How are you doing?')\n",
    "helloFile.close()\n"
   ]
  },
  {
   "cell_type": "code",
   "execution_count": 53,
   "metadata": {
    "collapsed": false
   },
   "outputs": [
    {
     "data": {
      "text/plain": [
       "['Hello! How are you doing?']"
      ]
     },
     "execution_count": 53,
     "metadata": {},
     "output_type": "execute_result"
    }
   ],
   "source": [
    "helloFile = open('./hello2.txt')\n",
    "helloFile.readlines()"
   ]
  },
  {
   "cell_type": "code",
   "execution_count": 54,
   "metadata": {
    "collapsed": true
   },
   "outputs": [],
   "source": [
    "helloFile.close()"
   ]
  },
  {
   "cell_type": "code",
   "execution_count": 56,
   "metadata": {
    "collapsed": true
   },
   "outputs": [],
   "source": [
    "helloFile = open('./hello2.txt', 'a')     # 'a' - append mode\n",
    "helloFile.write('This is more text that I\\'m appending to this file')\n",
    "helloFile.close()"
   ]
  },
  {
   "cell_type": "code",
   "execution_count": 60,
   "metadata": {
    "collapsed": false
   },
   "outputs": [
    {
     "data": {
      "text/plain": [
       "['Hello! How are you doing?\\n',\n",
       " \"This is more text that I'm appending to this file.\"]"
      ]
     },
     "execution_count": 60,
     "metadata": {},
     "output_type": "execute_result"
    }
   ],
   "source": [
    "helloFile = open('./hello2.txt')\n",
    "helloFile.readlines()"
   ]
  },
  {
   "cell_type": "markdown",
   "metadata": {},
   "source": [
    "# The Shelve Module\n",
    "Used to store variables, dictionaries, lists, etc... to binary \"shelf\" files."
   ]
  },
  {
   "cell_type": "code",
   "execution_count": 61,
   "metadata": {
    "collapsed": true
   },
   "outputs": [],
   "source": [
    "import shelve"
   ]
  },
  {
   "cell_type": "code",
   "execution_count": 62,
   "metadata": {
    "collapsed": true
   },
   "outputs": [],
   "source": [
    "shelfFile = shelve.open('./mydata')"
   ]
  },
  {
   "cell_type": "code",
   "execution_count": 63,
   "metadata": {
    "collapsed": true
   },
   "outputs": [],
   "source": [
    "shelfFile['cats'] = ['Zophie', 'Pooka', 'Simon', 'Fat-tail', 'Cleo']\n",
    "shelfFile.close()"
   ]
  },
  {
   "cell_type": "code",
   "execution_count": 64,
   "metadata": {
    "collapsed": true
   },
   "outputs": [],
   "source": [
    "shelfFile = shelve.open('./mydata')"
   ]
  },
  {
   "cell_type": "code",
   "execution_count": 65,
   "metadata": {
    "collapsed": false
   },
   "outputs": [
    {
     "data": {
      "text/plain": [
       "['Zophie', 'Pooka', 'Simon', 'Fat-tail', 'Cleo']"
      ]
     },
     "execution_count": 65,
     "metadata": {},
     "output_type": "execute_result"
    }
   ],
   "source": [
    "shelfFile['cats']"
   ]
  },
  {
   "cell_type": "code",
   "execution_count": 66,
   "metadata": {
    "collapsed": true
   },
   "outputs": [],
   "source": [
    "shelfFile.close()"
   ]
  },
  {
   "cell_type": "code",
   "execution_count": 68,
   "metadata": {
    "collapsed": false
   },
   "outputs": [],
   "source": [
    "shelfFile = shelve.open('./mydata')"
   ]
  },
  {
   "cell_type": "code",
   "execution_count": 69,
   "metadata": {
    "collapsed": false
   },
   "outputs": [
    {
     "data": {
      "text/plain": [
       "KeysView(<shelve.DbfilenameShelf object at 0x1044b00b8>)"
      ]
     },
     "execution_count": 69,
     "metadata": {},
     "output_type": "execute_result"
    }
   ],
   "source": [
    "# The .keys() method returns a list-like object. Pass it to the list function to see it.\n",
    "\n",
    "shelfFile.keys()"
   ]
  },
  {
   "cell_type": "code",
   "execution_count": 70,
   "metadata": {
    "collapsed": false
   },
   "outputs": [
    {
     "data": {
      "text/plain": [
       "['cats']"
      ]
     },
     "execution_count": 70,
     "metadata": {},
     "output_type": "execute_result"
    }
   ],
   "source": [
    "list(shelfFile.keys())"
   ]
  },
  {
   "cell_type": "code",
   "execution_count": 71,
   "metadata": {
    "collapsed": false
   },
   "outputs": [
    {
     "data": {
      "text/plain": [
       "[['Zophie', 'Pooka', 'Simon', 'Fat-tail', 'Cleo']]"
      ]
     },
     "execution_count": 71,
     "metadata": {},
     "output_type": "execute_result"
    }
   ],
   "source": [
    "# The .values() method returns a list-like object. Pass it to the list function to see it.\n",
    "\n",
    "list(shelfFile.values())"
   ]
  },
  {
   "cell_type": "code",
   "execution_count": 72,
   "metadata": {
    "collapsed": true
   },
   "outputs": [],
   "source": [
    "shelfFile.close()"
   ]
  },
  {
   "cell_type": "markdown",
   "metadata": {},
   "source": [
    "# Copying and Moving Files and Folders\n",
    "Use the 'shutil' module"
   ]
  },
  {
   "cell_type": "code",
   "execution_count": 6,
   "metadata": {
    "collapsed": true
   },
   "outputs": [],
   "source": [
    "import shutil"
   ]
  },
  {
   "cell_type": "code",
   "execution_count": 7,
   "metadata": {
    "collapsed": false
   },
   "outputs": [
    {
     "data": {
      "text/plain": [
       "'./hello2copy.txt'"
      ]
     },
     "execution_count": 7,
     "metadata": {},
     "output_type": "execute_result"
    }
   ],
   "source": [
    "# The '.copy()' method\n",
    "\n",
    "shutil.copy('./hello2.txt', './hello2copy.txt')"
   ]
  },
  {
   "cell_type": "code",
   "execution_count": 79,
   "metadata": {
    "collapsed": false
   },
   "outputs": [
    {
     "data": {
      "text/plain": [
       "'./backup_dir'"
      ]
     },
     "execution_count": 79,
     "metadata": {},
     "output_type": "execute_result"
    }
   ],
   "source": [
    "# The '.copytree()' method will copy a directory structure.\n",
    "\n",
    "shutil.copytree('./', './backup_dir')"
   ]
  },
  {
   "cell_type": "code",
   "execution_count": 81,
   "metadata": {
    "collapsed": false
   },
   "outputs": [
    {
     "data": {
      "text/plain": [
       "'./backup_dir/hello_newname.txt'"
      ]
     },
     "execution_count": 81,
     "metadata": {},
     "output_type": "execute_result"
    }
   ],
   "source": [
    "# The '.move()' method will move a file or diretory to another location. Can rename the file when moving it.\n",
    "\n",
    "shutil.move('./hello.txt', './backup_dir/hello_newname.txt')"
   ]
  },
  {
   "cell_type": "markdown",
   "metadata": {},
   "source": [
    "# Deleting Files\n",
    "Three methods to PERMANENTLY delete files\n",
    "\n",
    "1. 'os.unlink()' in the 'os' module ('import os') - It deletes a single file.\n",
    "2. 'os.rmdir()' - It deletes an empty folder.\n",
    "3. 'shutil.rmtree()' in the 'shutil' module ('import shutil') - It deletes a folder and its entire contents.\n",
    "\n",
    "### The 'send2trash' Module (3rd party module)\n",
    "Moves files and directories to the trash folder."
   ]
  },
  {
   "cell_type": "code",
   "execution_count": 82,
   "metadata": {
    "collapsed": true
   },
   "outputs": [],
   "source": [
    "shutil.rmtree('./backup_dir/')"
   ]
  },
  {
   "cell_type": "code",
   "execution_count": 1,
   "metadata": {
    "collapsed": false
   },
   "outputs": [
    {
     "name": "stdout",
     "output_type": "stream",
     "text": [
      "1Password.txt\n",
      "Aaryn's Phone Directory and b-day list.txt\n",
      "addresses.txt\n",
      "alice.txt\n",
      "DarwinPorts.txt\n",
      "emailAddresses.txt\n",
      "IcelandPopulationData.txt\n",
      "notes.txt\n",
      "output.txt\n",
      "RojokEnhanced.txt\n",
      "songdata.txt\n",
      "tempfile.txt\n",
      "tempvim.txt\n",
      "test.txt\n",
      "TextMateTest.txt\n",
      "VimNotes.txt\n",
      "VimPython.txt\n"
     ]
    }
   ],
   "source": [
    "# Example program using some of these functions.\n",
    "\n",
    "import os\n",
    "\n",
    "current_dir = os.getcwd()\n",
    "\n",
    "os.chdir('/Users/gary/Documents/')\n",
    "\n",
    "for filename in os.listdir():\n",
    "    if filename.endswith('txt'):\n",
    "        #os.unlink(filename)\n",
    "        print(filename)\n",
    "        \n",
    "os.chdir(current_dir)"
   ]
  },
  {
   "cell_type": "code",
   "execution_count": 4,
   "metadata": {
    "collapsed": false
   },
   "outputs": [],
   "source": [
    "import send2trash\n",
    "# send2trash.send2trash('file_to_send_to_trash')"
   ]
  },
  {
   "cell_type": "code",
   "execution_count": 9,
   "metadata": {
    "collapsed": false
   },
   "outputs": [],
   "source": [
    "send2trash.send2trash('./hello2copy.txt')"
   ]
  },
  {
   "cell_type": "markdown",
   "metadata": {},
   "source": [
    "### The 'os.walk()' Function\n",
    "Used in a 'for' loop to walk down through a directory structure.\n",
    "\n",
    "Returns three values:\n",
    "* The folder name of the current folder\n",
    "* A list of all subfolders in the current folder\n",
    "* A list of all the files in the current folder"
   ]
  },
  {
   "cell_type": "code",
   "execution_count": 2,
   "metadata": {
    "collapsed": false
   },
   "outputs": [
    {
     "name": "stdout",
     "output_type": "stream",
     "text": [
      "The folder is ./\n",
      "The subfolders in ./ are: ['.ipynb_checkpoints']\n",
      "The filenames in ./ are: ['.DS_Store', 'Files.ipynb', 'hello2.txt', 'hello2copy.txt', 'mydata.db', 'Regular Expressions.ipynb']\n",
      "\n",
      "The folder is ./.ipynb_checkpoints\n",
      "The subfolders in ./.ipynb_checkpoints are: []\n",
      "The filenames in ./.ipynb_checkpoints are: ['Files-checkpoint.ipynb', 'Regular Expressions-checkpoint.ipynb']\n",
      "\n"
     ]
    }
   ],
   "source": [
    "import os\n",
    "\n",
    "for folderName, subfolders, filenames in os.walk('./'):\n",
    "    print('The folder is ' + folderName)\n",
    "    print('The subfolders in ' + folderName + ' are: ' + str(subfolders))\n",
    "    print('The filenames in ' + folderName + ' are: ' + str(filenames))\n",
    "    print()"
   ]
  },
  {
   "cell_type": "code",
   "execution_count": null,
   "metadata": {
    "collapsed": true
   },
   "outputs": [],
   "source": []
  }
 ],
 "metadata": {
  "kernelspec": {
   "display_name": "Python 3",
   "language": "python",
   "name": "python3"
  },
  "language_info": {
   "codemirror_mode": {
    "name": "ipython",
    "version": 3
   },
   "file_extension": ".py",
   "mimetype": "text/x-python",
   "name": "python",
   "nbconvert_exporter": "python",
   "pygments_lexer": "ipython3",
   "version": "3.5.1"
  }
 },
 "nbformat": 4,
 "nbformat_minor": 0
}
