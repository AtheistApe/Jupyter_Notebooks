{
 "cells": [
  {
   "cell_type": "code",
   "execution_count": 3,
   "metadata": {
    "collapsed": true
   },
   "outputs": [
    {
     "name": "stdout",
     "output_type": "stream",
     "text": [
      "IPython console for SymPy 1.0 (Python 3.5.1-64-bit) (ground types: python)\n",
      "\n",
      "These commands were executed:\n",
      ">>> from __future__ import division\n",
      ">>> from sympy import *\n",
      ">>> x, y, z, t = symbols('x y z t')\n",
      ">>> k, m, n = symbols('k m n', integer=True)\n",
      ">>> f, g, h = symbols('f g h', cls=Function)\n",
      ">>> init_printing()\n",
      "\n",
      "Documentation can be found at http://docs.sympy.org/1.0/\n"
     ]
    }
   ],
   "source": [
    "from sympy import init_session\n",
    "init_session()"
   ]
  },
  {
   "cell_type": "markdown",
   "metadata": {},
   "source": [
    "# Assignment 5\n",
    "\n",
    "This assignment is due on Monday, April 25.\n",
    "\n",
    "Watch video lecture 16 on Double Integrals linked below, taking complete notes of the presentation. Pay careful attention to the worked examples in the lecture. You will turn in your lecture notes and part of the grade for this assignment will be based on the quality and completness of these notes.\n",
    "\n",
    "The link to the lecture is http://ocw.mit.edu/courses/mathematics/18-02-multivariable-calculus-fall-2007/video-lectures/lecture-16-double-integrals/\n",
    "\n",
    "Based on the topics presented in the lecture, calculate the values of the following double integrals.\n",
    "\n",
    "1. $\\iint_D f(x,y)\\;dA$, where $z = f(x,y) = 2 - x^2 - y^2$ and $D$ is the rectangle $0 \\leq x \\leq 1$, $0 \\leq y \\leq 1$. Hint: Your answer should be between 1 and 2.\n",
    "\n",
    "2. $\\iint_D f(x,y)\\;dA$, where $z = f(x,y) = -\\frac{3}{2}x - 2y + 6$ and $D$ is the triangle in the $xy$ plane with vertices $(0,0)$, $(4,0)$ and $(0,3)$. Hint: Your answer should be between 10 and 15.\n",
    "\n",
    "The assignment is worth 20 points: 10 points for the lecture notes and 5 points for each double integral. The grading of the lecture notes will be based on my subjective evaluation of their quality and completness."
   ]
  },
  {
   "cell_type": "code",
   "execution_count": null,
   "metadata": {
    "collapsed": true
   },
   "outputs": [],
   "source": []
  }
 ],
 "metadata": {
  "kernelspec": {
   "display_name": "Python 3",
   "language": "python",
   "name": "python3"
  },
  "language_info": {
   "codemirror_mode": {
    "name": "ipython",
    "version": 3
   },
   "file_extension": ".py",
   "mimetype": "text/x-python",
   "name": "python",
   "nbconvert_exporter": "python",
   "pygments_lexer": "ipython3",
   "version": "3.5.1"
  }
 },
 "nbformat": 4,
 "nbformat_minor": 0
}
