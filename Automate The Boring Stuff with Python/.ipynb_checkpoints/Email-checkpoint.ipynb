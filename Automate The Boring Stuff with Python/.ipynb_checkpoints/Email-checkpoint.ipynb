{
 "cells": [
  {
   "cell_type": "markdown",
   "metadata": {},
   "source": [
    "# Sending Email\n",
    "Uses the 'smtplib' package"
   ]
  },
  {
   "cell_type": "code",
   "execution_count": 10,
   "metadata": {
    "collapsed": true
   },
   "outputs": [],
   "source": [
    "# Example of sending an email\n",
    "\n",
    "import smtplib\n",
    "\n",
    "conn = smtplib.SMTP('smtp.gmail.com', 587) # connection object"
   ]
  },
  {
   "cell_type": "code",
   "execution_count": 11,
   "metadata": {
    "collapsed": false
   },
   "outputs": [
    {
     "data": {
      "text/plain": [
       "smtplib.SMTP"
      ]
     },
     "execution_count": 11,
     "metadata": {},
     "output_type": "execute_result"
    }
   ],
   "source": [
    "type(conn)"
   ]
  },
  {
   "cell_type": "code",
   "execution_count": 12,
   "metadata": {
    "collapsed": false
   },
   "outputs": [
    {
     "data": {
      "text/plain": [
       "(250,\n",
       " b'smtp.gmail.com at your service, [207.62.238.140]\\nSIZE 35882577\\n8BITMIME\\nSTARTTLS\\nENHANCEDSTATUSCODES\\nPIPELINING\\nCHUNKING\\nSMTPUTF8')"
      ]
     },
     "execution_count": 12,
     "metadata": {},
     "output_type": "execute_result"
    }
   ],
   "source": [
    "# Call the 'ehlo()' method to set up the connection\n",
    "\n",
    "conn.ehlo()"
   ]
  },
  {
   "cell_type": "code",
   "execution_count": 13,
   "metadata": {
    "collapsed": false
   },
   "outputs": [
    {
     "data": {
      "text/plain": [
       "(220, b'2.0.0 Ready to start TLS')"
      ]
     },
     "execution_count": 13,
     "metadata": {},
     "output_type": "execute_result"
    }
   ],
   "source": [
    "conn.starttls() # Start 'TLS' encryption to secure password"
   ]
  },
  {
   "cell_type": "code",
   "execution_count": 16,
   "metadata": {
    "collapsed": false
   },
   "outputs": [
    {
     "data": {
      "text/plain": [
       "(235, b'2.7.0 Accepted')"
      ]
     },
     "execution_count": 16,
     "metadata": {},
     "output_type": "execute_result"
    }
   ],
   "source": [
    "# Log on to mail server. Note: Had to change Gmail security setting from the Gmail website to allow less secure transactions.\n",
    "\n",
    "conn.login('simiusmathematicus@gmail.com', 'origin1859')"
   ]
  },
  {
   "cell_type": "code",
   "execution_count": 18,
   "metadata": {
    "collapsed": false
   },
   "outputs": [
    {
     "data": {
      "text/plain": [
       "{}"
      ]
     },
     "execution_count": 18,
     "metadata": {},
     "output_type": "execute_result"
    }
   ],
   "source": [
    "# Send a message. Must obey strict formatting specifications.\n",
    "\n",
    "conn.sendmail('simiusmathematicus@gmail.com', 'churchg@smccd.edu',\n",
    "             'Subject: Hello from Python\\n\\nHello Gary,\\n\\nThis is Python saying \"Hello!\"\\n\\n-Python')"
   ]
  },
  {
   "cell_type": "code",
   "execution_count": 19,
   "metadata": {
    "collapsed": false
   },
   "outputs": [
    {
     "data": {
      "text/plain": [
       "(221, b'2.0.0 closing connection f8sm19300015pfj.49 - gsmtp')"
      ]
     },
     "execution_count": 19,
     "metadata": {},
     "output_type": "execute_result"
    }
   ],
   "source": [
    "conn.quit()"
   ]
  },
  {
   "cell_type": "markdown",
   "metadata": {},
   "source": [
    "### The Steps to Send an Email from Python\n",
    "\n",
    "    import smtplib\n",
    "    conn = smtplib.SMTP('<mail server address>', <port number>)\n",
    "    conn.ehlo() # Connect to SMTP server\n",
    "    conn.starttls() # Begin encryption\n",
    "    conn.login('<user name>', '<password>') # Log on to server\n",
    "    conn.sendmail('<from address>', '<to address>', ...)\n",
    "    conn.quit() # Close connection"
   ]
  },
  {
   "cell_type": "markdown",
   "metadata": {},
   "source": [
    "# Checking Your Email Inbox\n",
    "Can use the standard 'imaplib' package but easier to use the third party 'imapclient' and 'pyzmail' packages.\n",
    "\n",
    "### Documentation\n",
    "https://impaclient.readthedocs.org  \n",
    "http://www.magiksys.net/pyzmail  \n",
    "https://automatetheboringstuff.com/chapter16"
   ]
  },
  {
   "cell_type": "code",
   "execution_count": 22,
   "metadata": {
    "collapsed": false
   },
   "outputs": [],
   "source": [
    "import imapclient"
   ]
  },
  {
   "cell_type": "code",
   "execution_count": 53,
   "metadata": {
    "collapsed": true
   },
   "outputs": [],
   "source": [
    "conn = imapclient.IMAPClient('imap.gmail.com', ssl=True)"
   ]
  },
  {
   "cell_type": "code",
   "execution_count": 54,
   "metadata": {
    "collapsed": false
   },
   "outputs": [
    {
     "data": {
      "text/plain": [
       "b'simiusmathematicus@gmail.com authenticated (Success)'"
      ]
     },
     "execution_count": 54,
     "metadata": {},
     "output_type": "execute_result"
    }
   ],
   "source": [
    "conn.login('simiusmathematicus@gmail.com', 'origin1859')"
   ]
  },
  {
   "cell_type": "code",
   "execution_count": 55,
   "metadata": {
    "collapsed": false
   },
   "outputs": [
    {
     "data": {
      "text/plain": [
       "{b'EXISTS': 309,\n",
       " b'FLAGS': (b'\\\\Answered',\n",
       "  b'\\\\Flagged',\n",
       "  b'\\\\Draft',\n",
       "  b'\\\\Deleted',\n",
       "  b'\\\\Seen',\n",
       "  b'$Forwarded',\n",
       "  b'$NotJunk',\n",
       "  b'$NotPhishing',\n",
       "  b'$Phishing',\n",
       "  b'NotJunk'),\n",
       " b'HIGHESTMODSEQ': 59843,\n",
       " b'PERMANENTFLAGS': (),\n",
       " b'READ-ONLY': [b''],\n",
       " b'RECENT': 0,\n",
       " b'UIDNEXT': 328,\n",
       " b'UIDVALIDITY': 638719042}"
      ]
     },
     "execution_count": 55,
     "metadata": {},
     "output_type": "execute_result"
    }
   ],
   "source": [
    "conn.select_folder('INBOX', readonly=True)"
   ]
  },
  {
   "cell_type": "code",
   "execution_count": 37,
   "metadata": {
    "collapsed": false
   },
   "outputs": [],
   "source": [
    "UIDs = conn.search(b'SINCE 03-Apr-2015')"
   ]
  },
  {
   "cell_type": "code",
   "execution_count": 36,
   "metadata": {
    "collapsed": false
   },
   "outputs": [
    {
     "data": {
      "text/plain": [
       "[4,\n",
       " 5,\n",
       " 6,\n",
       " 8,\n",
       " 14,\n",
       " 20,\n",
       " 21,\n",
       " 22,\n",
       " 23,\n",
       " 24,\n",
       " 25,\n",
       " 26,\n",
       " 27,\n",
       " 29,\n",
       " 30,\n",
       " 32,\n",
       " 33,\n",
       " 34,\n",
       " 35,\n",
       " 36,\n",
       " 37,\n",
       " 38,\n",
       " 39,\n",
       " 40,\n",
       " 41,\n",
       " 42,\n",
       " 43,\n",
       " 44,\n",
       " 45,\n",
       " 46,\n",
       " 47,\n",
       " 48,\n",
       " 49,\n",
       " 50,\n",
       " 51,\n",
       " 52,\n",
       " 53,\n",
       " 54,\n",
       " 55,\n",
       " 56,\n",
       " 57,\n",
       " 58,\n",
       " 59,\n",
       " 60,\n",
       " 61,\n",
       " 62,\n",
       " 63,\n",
       " 64,\n",
       " 65,\n",
       " 66,\n",
       " 67,\n",
       " 68,\n",
       " 69,\n",
       " 70,\n",
       " 71,\n",
       " 72,\n",
       " 73,\n",
       " 74,\n",
       " 75,\n",
       " 76,\n",
       " 77,\n",
       " 78,\n",
       " 79,\n",
       " 80,\n",
       " 81,\n",
       " 82,\n",
       " 83,\n",
       " 84,\n",
       " 85,\n",
       " 86,\n",
       " 87,\n",
       " 88,\n",
       " 89,\n",
       " 90,\n",
       " 91,\n",
       " 92,\n",
       " 93,\n",
       " 94,\n",
       " 95,\n",
       " 96,\n",
       " 97,\n",
       " 98,\n",
       " 99,\n",
       " 100,\n",
       " 101,\n",
       " 102,\n",
       " 103,\n",
       " 104,\n",
       " 105,\n",
       " 106,\n",
       " 107,\n",
       " 108,\n",
       " 109,\n",
       " 110,\n",
       " 111,\n",
       " 112,\n",
       " 113,\n",
       " 114,\n",
       " 115,\n",
       " 116,\n",
       " 117,\n",
       " 118,\n",
       " 119,\n",
       " 120,\n",
       " 122,\n",
       " 123,\n",
       " 124,\n",
       " 125,\n",
       " 126,\n",
       " 127,\n",
       " 128,\n",
       " 129,\n",
       " 130,\n",
       " 131,\n",
       " 132,\n",
       " 133,\n",
       " 134,\n",
       " 135,\n",
       " 136,\n",
       " 137,\n",
       " 138,\n",
       " 139,\n",
       " 140,\n",
       " 141,\n",
       " 142,\n",
       " 143,\n",
       " 144,\n",
       " 145,\n",
       " 146,\n",
       " 147,\n",
       " 148,\n",
       " 149,\n",
       " 150,\n",
       " 151,\n",
       " 152,\n",
       " 153,\n",
       " 154,\n",
       " 155,\n",
       " 156,\n",
       " 157,\n",
       " 158,\n",
       " 159,\n",
       " 160,\n",
       " 161,\n",
       " 162,\n",
       " 163,\n",
       " 164,\n",
       " 165,\n",
       " 166,\n",
       " 167,\n",
       " 168,\n",
       " 169,\n",
       " 170,\n",
       " 171,\n",
       " 172,\n",
       " 173,\n",
       " 174,\n",
       " 175,\n",
       " 176,\n",
       " 177,\n",
       " 178,\n",
       " 179,\n",
       " 180,\n",
       " 181,\n",
       " 182,\n",
       " 183,\n",
       " 184,\n",
       " 185,\n",
       " 186,\n",
       " 187,\n",
       " 188,\n",
       " 189,\n",
       " 190,\n",
       " 191,\n",
       " 192,\n",
       " 193,\n",
       " 194,\n",
       " 195,\n",
       " 196,\n",
       " 197,\n",
       " 198,\n",
       " 199,\n",
       " 200,\n",
       " 201,\n",
       " 202,\n",
       " 203,\n",
       " 204,\n",
       " 205,\n",
       " 206,\n",
       " 207,\n",
       " 208,\n",
       " 209,\n",
       " 210,\n",
       " 211,\n",
       " 212,\n",
       " 213,\n",
       " 214,\n",
       " 215,\n",
       " 216,\n",
       " 217,\n",
       " 218,\n",
       " 219,\n",
       " 220,\n",
       " 221,\n",
       " 222,\n",
       " 223,\n",
       " 224,\n",
       " 225,\n",
       " 226,\n",
       " 227,\n",
       " 228,\n",
       " 229,\n",
       " 230,\n",
       " 231,\n",
       " 232,\n",
       " 233,\n",
       " 234,\n",
       " 235,\n",
       " 236,\n",
       " 237,\n",
       " 238,\n",
       " 239,\n",
       " 241,\n",
       " 242,\n",
       " 243,\n",
       " 244,\n",
       " 245,\n",
       " 246,\n",
       " 247,\n",
       " 248,\n",
       " 249,\n",
       " 250,\n",
       " 251,\n",
       " 252,\n",
       " 253,\n",
       " 254,\n",
       " 255,\n",
       " 256,\n",
       " 257,\n",
       " 258,\n",
       " 259,\n",
       " 260,\n",
       " 261,\n",
       " 262,\n",
       " 263,\n",
       " 264,\n",
       " 265,\n",
       " 266,\n",
       " 267,\n",
       " 268,\n",
       " 269,\n",
       " 270,\n",
       " 271,\n",
       " 272,\n",
       " 273,\n",
       " 274,\n",
       " 275,\n",
       " 276,\n",
       " 277,\n",
       " 278,\n",
       " 279,\n",
       " 280,\n",
       " 281,\n",
       " 282,\n",
       " 283,\n",
       " 284,\n",
       " 285,\n",
       " 286,\n",
       " 287,\n",
       " 288,\n",
       " 289,\n",
       " 290,\n",
       " 291,\n",
       " 292,\n",
       " 293,\n",
       " 294,\n",
       " 295,\n",
       " 296,\n",
       " 297,\n",
       " 298,\n",
       " 299,\n",
       " 300,\n",
       " 301,\n",
       " 302,\n",
       " 303,\n",
       " 304,\n",
       " 305,\n",
       " 306,\n",
       " 307,\n",
       " 308,\n",
       " 309,\n",
       " 310,\n",
       " 311,\n",
       " 312,\n",
       " 313,\n",
       " 314,\n",
       " 315,\n",
       " 316,\n",
       " 317,\n",
       " 318,\n",
       " 319,\n",
       " 320,\n",
       " 321,\n",
       " 322,\n",
       " 323,\n",
       " 324,\n",
       " 325,\n",
       " 326,\n",
       " 327]"
      ]
     },
     "execution_count": 36,
     "metadata": {},
     "output_type": "execute_result"
    }
   ],
   "source": [
    "UIDs"
   ]
  },
  {
   "cell_type": "code",
   "execution_count": 38,
   "metadata": {
    "collapsed": false
   },
   "outputs": [
    {
     "data": {
      "text/plain": [
       "defaultdict(dict,\n",
       "            {322: {b'BODY[]': b'Delivered-To: simiusmathematicus@gmail.com\\r\\nReceived: by 10.159.41.33 with SMTP id t30csp1419347uat;\\r\\n        Fri, 11 Mar 2016 17:58:31 -0800 (PST)\\r\\nX-Received: by 10.182.19.137 with SMTP id f9mr8222723obe.4.1457747911432;\\r\\n        Fri, 11 Mar 2016 17:58:31 -0800 (PST)\\r\\nReturn-Path: <3x3fjVg8KAAIpgyu-iqqingrnc0iqqing.eqo@scoutcamp.bounces.google.com>\\r\\nReceived: from mail-oi0-x246.google.com (mail-oi0-x246.google.com. [2607:f8b0:4003:c06::246])\\r\\n        by mx.google.com with ESMTPS id h6si8332639obr.97.2016.03.11.17.58.31\\r\\n        for <simiusmathematicus@gmail.com>\\r\\n        (version=TLS1_2 cipher=ECDHE-RSA-AES128-GCM-SHA256 bits=128/128);\\r\\n        Fri, 11 Mar 2016 17:58:31 -0800 (PST)\\r\\nReceived-SPF: pass (google.com: domain of 3x3fjVg8KAAIpgyu-iqqingrnc0iqqing.eqo@scoutcamp.bounces.google.com designates 2607:f8b0:4003:c06::246 as permitted sender) client-ip=2607:f8b0:4003:c06::246;\\r\\nAuthentication-Results: mx.google.com;\\r\\n       spf=pass (google.com: domain of 3x3fjVg8KAAIpgyu-iqqingrnc0iqqing.eqo@scoutcamp.bounces.google.com designates 2607:f8b0:4003:c06::246 as permitted sender) smtp.mailfrom=3x3fjVg8KAAIpgyu-iqqingrnc0iqqing.eqo@scoutcamp.bounces.google.com;\\r\\n       dkim=pass header.i=@google.com;\\r\\n       dmarc=pass (p=REJECT dis=NONE) header.from=google.com\\r\\nReceived: by mail-oi0-x246.google.com with SMTP id r187so139570543oih.3\\r\\n        for <simiusmathematicus@gmail.com>; Fri, 11 Mar 2016 17:58:31 -0800 (PST)\\r\\nDKIM-Signature: v=1; a=rsa-sha256; c=relaxed/relaxed;\\r\\n        d=google.com; s=20120113;\\r\\n        h=mime-version:reply-to:precedence:list-unsubscribe:feedback-id\\r\\n         :message-id:date:subject:from:to;\\r\\n        bh=j25V3fnC73t/nVhjHE2G4GVleMi9ZM7mSEHc3lnpzgo=;\\r\\n        b=AMZ57ddfh8KCxAERs2amjrPbu9tV+RD6u+0BXpowf046AnrDA+FIuv75JUaGQMaRup\\r\\n         1J1GW/xQjLQjat2Fntv55KDLx8XZ60xIO8yWHtnkV/dtd2rv8GZ+ITIcHrqd0JLIPoSJ\\r\\n         8exso6SE0YOA0h9Z2DjDYzqs+ZL6zgSmzYgrPtzgrVtDQ35vPv2/dMlVSEATilOmVD9Z\\r\\n         3YE09z0yvPUVI1OAkZ8/9fvzSf/YklBmvjTXGMB34Z/LyVNWgdShIRpc1kQ72/2JVvBC\\r\\n         z20GUueV/fmW+jcNABaSFqXFVhch5vcalD03EnWZeWN5IGtU4zWSaEstLhWC2ABR0/2c\\r\\n         YnXA==\\r\\nX-Google-DKIM-Signature: v=1; a=rsa-sha256; c=relaxed/relaxed;\\r\\n        d=1e100.net; s=20130820;\\r\\n        h=x-gm-message-state:mime-version:reply-to:precedence\\r\\n         :list-unsubscribe:feedback-id:message-id:date:subject:from:to;\\r\\n        bh=j25V3fnC73t/nVhjHE2G4GVleMi9ZM7mSEHc3lnpzgo=;\\r\\n        b=Sjj/IuL//YphuqBX4xTl3H/ARQYuRXpBmL47y3I6ALuMsSwfk2j4Rdgh25VNi+jxzn\\r\\n         Qw43aliHjU98zlinlxtZdKoJPldF3dn2K+ISWHMpisodRK4zi5nR1Zajf/Tyt2Ai3bMl\\r\\n         o7LoWFzQaDDfN45ADFbzQNgOOKj4kLC1ZBvgSEBabr1WNwURV0NJvB1BG3iBBG7sSUif\\r\\n         yeMomyC+LmnqMA0bjmJwqPco6aMHa98GbFhwjrglLZ2q5Qm40vvihaLbDiyA3HRwYpcM\\r\\n         qiINLXiEmTI2PnSJ1WWUHTvtQgdh1JeD9OajwK/b6w1nAJQkkevQpBScVIVmOo1CBdpl\\r\\n         172A==\\r\\nX-Gm-Message-State: AD7BkJJ547n1wyUj6QZOwxrVicUTSovOM/5RUG0y92OkFS7KHnImLAfQFrReg9rj65Yqz/c=\\r\\nMIME-Version: 1.0\\r\\nX-Received: by 10.107.129.196 with SMTP id l65mr14015544ioi.76.1457747911109;\\r\\n Fri, 11 Mar 2016 17:58:31 -0800 (PST)\\r\\nReply-To: Google Play <news-googleplay@google.com>\\r\\nX-Google-Id: 1790004\\r\\nPrecedence: bulk\\r\\nList-Unsubscribe: <mailto:list-unsubscribe@google.com?body=optout--7evONzr12-PdUCGyDndbvw_w_NLl6_ZRDuHW5ORM7Y=-token>,\\r\\n <https://www.google.com/appserve/mkt/optout/-7evONzr12-PdUCGyDndbvw_w_NLl6_ZRDuHW5ORM7Y=?hl=en_US>\\r\\nFeedback-ID: Len-US:D712016:C10003632:gamma\\r\\nMessage-ID: <c329335936d5e25c.1457747910528.100017597.10003632.en-US.3e885101a322df4f@google.com>\\r\\nDate: Sat, 12 Mar 2016 01:58:31 +0000\\r\\nSubject: Get Linkin Park free for a limited time\\r\\nFrom: Google Play <news-googleplay@google.com>\\r\\nTo: simiusmathematicus@gmail.com\\r\\nContent-Type: multipart/alternative; boundary=001a113ec0e669f3e4052dd062e4\\r\\n\\r\\n--001a113ec0e669f3e4052dd062e4\\r\\nContent-Type: text/plain; charset=UTF-8; format=flowed; delsp=yes\\r\\nContent-Transfer-Encoding: base64\\r\\n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\\r\\naXMgcHJvbW90aW9uLg0KDQoNCg0KDQo=\\r\\n--001a113ec0e669f3e4052dd062e4\\r\\nContent-Type: text/html; charset=UTF-8\\r\\nContent-Transfer-Encoding: quoted-printable\\r\\n\\r\\n<!doctype html>\\r\\n<html id=3D\"email\" style=3D\"background:#fff\">\\r\\n        <head>\\r\\n          <meta charset=3D\"utf-8\">\\r\\n          <meta content=3D\"width=3Ddevice-width\" name=3D\"viewport\">\\r\\n          <title>Google Play</title>\\r\\n        <style>@import url(https://fonts.googleapis.com/css?family=3DRoboto=\\r\\n:300,400);</style>\\r\\n</head>\\r\\n        <body style=3D\"-ms-text-size-adjust:100%; -webkit-text-size-adjust:=\\r\\n100%; color:#606060; font-family:Roboto, sans-serif-light, sans-serif; font=\\r\\n-size:16px; font-weight:300; line-height:24px; margin:0; min-width:100%; pa=\\r\\ndding:0; text-align:left; width:100%\" align=3D\"left\" width=3D\"100%\">\\r\\n          <table style=3D\"border-collapse:collapse; border-spacing:0; color=\\r\\n:#606060; font-family:Roboto, sans-serif-light, sans-serif; font-size:16px;=\\r\\n font-weight:300; height:100%; line-height:24px; margin:0; padding:0; text-=\\r\\nalign:left; vertical-align:top; width:100%\" height=3D\"100%\" align=3D\"left\" =\\r\\nvalign=3D\"top\" width=3D\"100%\">\\r\\n            <tbody style=3D\"width:100%\" width=3D\"100%\">\\r\\n              <tr style=3D\"padding:0; text-align:left; vertical-align:top\" =\\r\\nalign=3D\"left\" valign=3D\"top\">\\r\\n                <td style=3D\"-moz-hyphens:auto; -webkit-hyphens:auto; borde=\\r\\nr-collapse:collapse; color:#606060; font-family:Roboto, sans-serif-light, s=\\r\\nans-serif; font-size:16px; font-weight:300; hyphens:auto; line-height:24px;=\\r\\n margin:0; padding:0; text-align:center; vertical-align:top; word-break:bre=\\r\\nak-word\" align=3D\"center\" valign=3D\"top\">\\r\\n                  <center style=3D\"background:#e5e5e5; margin:0 auto; width=\\r\\n:600px\" width=3D\"600\">\\r\\n                 =20\\r\\n<!--\\r\\n =20\\r\\n-->\\r\\n\\r\\n<!---- Element: Header ----><!-- Logo -->\\r\\n<!--\\r\\n<table class=3D\"container logo vertical En\">\\r\\n  <tbody>\\r\\n    <tr>\\r\\n      <td class=3D\"center\">\\r\\n        <a href=3D\"https://www.google.com/appserve/mkt/p/RIAhtJ0JKqmajSoEjO=\\r\\nNrJj3hTljLjZMNF2jcIY87rdqABq2BL-QH3cUJ6ny3yXMX3ovkxyuDYWHAY643WlGbeWCZ7sKyD=\\r\\nEJGtjFATQB5_vN0jWHFATW380cq5NF5Telle2wKu-NIoeJJUVM2I5qxduetZb19c5UquXNk62PM=\\r\\nM-RBZjxrLkM6vPgTn3pkh45AaCrkWWIir1eTEnEqPccTsxr3iLpFNThfgiyV0wGHOKwR4VckCWz=\\r\\ndbuteklTQVAaWydQaIo05qWYTP8l3XfGDuisHUZdkVvbacy2Is7LOtDpt7jnVcYIm7g4303R1P9=\\r\\nOTBPSgeKuJDopwHKD6b_vW0X9MyV0PXMwF63JXYCaWDkygE0nEKbhPsgCJB1f7krRjNzjEFIjHx=\\r\\nsmuTAwvxIs78kZ_turDs_U=3D\">\\r\\n         =20\\r\\n            <img alt=3D\"Google Play\" src=3D\"https://lh3.ggpht.com/Nmax7S1Vm=\\r\\nSbeBPpAIKOJg2OU74l67OLmQkv22wOUBwSaK4AzCRH0skdObQ75NZh9zcg=3Dw350\">\\r\\n         =20\\r\\n        </a>\\r\\n      </td>\\r\\n    </tr>\\r\\n  </tbody>\\r\\n</table>\\r\\n-->\\r\\n\\r\\n<!-- Subject -->\\r\\n<table style=3D\"background:#e5e5e5; border-collapse:collapse; border-spacin=\\r\\ng:0; margin:0 auto; padding:0; text-align:inherit; vertical-align:top; widt=\\r\\nh:600px\" align=3D\"inherit\" valign=3D\"top\" width=3D\"600\">\\r\\n  <tbody style=3D\"width:100%\" width=3D\"100%\">\\r\\n    <tr style=3D\"padding:0; text-align:left; vertical-align:top\" align=3D\"l=\\r\\neft\" valign=3D\"top\">\\r\\n      <td style=3D\"-moz-hyphens:auto; -webkit-hyphens:auto; background:url(=\\r\\nhttps://lh6.ggpht.com/CKwgKS7m3a5fNeq-QMQzKKIeRxGUUh8x6Qhz_IxVUGh0L-LYYyxKZ=\\r\\npvd_O5UxI2ZdpI=3Dw600) #FF8D1C bottom left no-repeat; border-collapse:colla=\\r\\npse; color:#606060; font-family:Roboto, sans-serif-light, sans-serif; font-=\\r\\nsize:16px; font-weight:300; hyphens:auto; line-height:24px; margin:0; paddi=\\r\\nng:30px 0 5px; text-align:left; vertical-align:top; width:100%; word-break:=\\r\\nbreak-word\" align=3D\"left\" valign=3D\"top\" width=3D\"100%\">\\r\\n        <h1 style=3D\"color:#606060; font-family:Roboto, sans-serif-light, s=\\r\\nans-serif; font-size:30px; font-weight:300; line-height:1.3; margin:0; max-=\\r\\nwidth:inherit; padding:0 10px; text-align:center; width:auto; word-break:br=\\r\\neak-word\" align=3D\"center\" width=3D\"auto\">\\r\\n          <a href=3D\"https://www.google.com/appserve/mkt/p/lD8yqg7MMlTvmE2i=\\r\\nxPjLCoLp0H2kn0QggdBYyDXAML9hawEe6NE3kWOmsDLGImjlx0PflZWUImRLMwcTxabUTA3csBi=\\r\\ntQ0APuMO4ZS321tMSxj1WgdRotu2YQLB_th-H6LYB-EN44EvyJqbOxiUaCJCsZWL8nZZ_j53hgq=\\r\\nrRvle9-Pk4HG41m99qdFi2r99siv-m1P8gfL86ElbKhZ3yKXVed1KrodvnKw_DMqcw-w0Wkl5ow=\\r\\nnfRRHb6CRpArJ8eoCrGeUoQXH8jwwmJOmhAfhqkU3u3II3i_BvAg7zj42nxJVSKbjvwkUg-HwQl=\\r\\nwq22VKabLuSBtqe_pP1foGBbIzi9kQYR5v6Ricq-dmd0MSPLN_aTezw9ZYO7c75PBOJZCCx2Xif=\\r\\nVACiTbR1nZJbF83RGpNUv7nwB-wACn71m3yDT38amxD0LUMgHXgtIgG7M97d-hXo3s3Rp7O3xwK=\\r\\nYfLi6-bp1ht_pl4Q1vg3yo5tKO16Z5KH9rJMVnyk8QpLmw4xq8F1E=3D\" style=3D\"color:#f=\\r\\nff; text-decoration:none\">Limited-time deals</a>\\r\\n        </h1>\\r\\n      </td>\\r\\n    </tr>\\r\\n    <tr style=3D\"padding:0; text-align:left; vertical-align:top\" align=3D\"l=\\r\\neft\" valign=3D\"top\">\\r\\n      <td style=3D\"-moz-hyphens:auto; -webkit-hyphens:auto; background:url(=\\r\\nhttps://lh5.ggpht.com/A_xVlTxHZI_Qka_D-C4chqT5xcf_Gfx2BHk4XEi1O-JmNBpVzHgTy=\\r\\nctVKw_YMRFxIMw=3Dw600) top left no-repeat; border-collapse:collapse; color:=\\r\\n#606060; font-family:Roboto, sans-serif-light, sans-serif; font-size:16px; =\\r\\nfont-weight:300; height:55px; hyphens:auto; line-height:24px; margin:0; pad=\\r\\nding:0; text-align:center; vertical-align:top; width:100%; word-break:break=\\r\\n-word\" height=3D\"55\" align=3D\"center\" valign=3D\"top\" width=3D\"100%\">\\r\\n        <a href=3D\"https://www.google.com/appserve/mkt/p/cpvdpJ6Lmkbap8aBGD=\\r\\n91fULodpUZnEyZyPOV0yoQPXWzlnirmCeEm4ueeld_XJIWMOcX1G16u11CEhM_84zveZse-c0Ra=\\r\\n_3dkvlcQpBuYbl2YYDCJiDRGxpUB0RAhArEhyuHJcqwbKmnaVYrJVHYLF1nqc_wmLSR1DAtdukJ=\\r\\n_UyqKYmHzdYrgvK4_6obW469SCk7eB7ZoHa4vxQNXHHREmU0rdW4VdPB4LwMhhT68ObNI5uLhh6=\\r\\n4bD89JcWMOFFgsg1dxgvrmtqRPhGemqOr2pOBfL20ococpxwRn5X7Rjc_lFtDZaFkPFo6Y0squN=\\r\\n0gTWEswWdhH3JiS-WCn0i41i6FORt191PtIIsqFvF76ztTFYdSeWkfvTX8ESbZmpNcqdZNEkwAw=\\r\\nQJN2kjY7uRYZ-WRKR_fElrdgXvZta1gIqz-d0mPe3Y=3D\" style=3D\"color:#1ABDD4; disp=\\r\\nlay:block; height:50px; margin:0 auto; text-decoration:none; width:50px\" he=\\r\\night=3D\"50\" width=3D\"50\">\\r\\n          <img alt=3D\"Google Play Music\" src=3D\"https://lh6.ggpht.com/YTdAK=\\r\\n700NZW1Jt5U7Q0kmYQFl1w5aPZVh89jqF5vyZYPZ2nLQhgguZmY07tr8YbgmPQ\" style=3D\"-m=\\r\\ns-interpolation-mode:bicubic; border:none; clear:both; display:block; max-w=\\r\\nidth:100%; outline:none; text-decoration:none; width:100%\" width=3D\"100%\">\\r\\n        </a>\\r\\n      </td>\\r\\n    </tr>\\r\\n  </tbody>\\r\\n</table>\\r\\n<!-- Element: Text --><table style=3D\"background:#e5e5e5; border-collapse:c=\\r\\nollapse; border-spacing:0; margin:0 auto 5px; padding:0; text-align:inherit=\\r\\n; vertical-align:top; width:600px\" align=3D\"inherit\" valign=3D\"top\" width=\\r\\n=3D\"600\">\\r\\n  <tbody style=3D\"width:100%\" width=3D\"100%\"><tr style=3D\"padding:0; text-a=\\r\\nlign:left; vertical-align:top\" align=3D\"left\" valign=3D\"top\">\\r\\n      <td style=3D\"-moz-hyphens:auto; -webkit-hyphens:auto; border-collapse=\\r\\n:collapse; color:#606060; font-family:Roboto, sans-serif-light, sans-serif;=\\r\\n font-size:16px; font-weight:300; hyphens:auto; line-height:24px; margin:0;=\\r\\n padding:0 10px; text-align:left; vertical-align:middle; width:40%; word-br=\\r\\neak:break-word\" align=3D\"left\" valign=3D\"middle\" width=3D\"40%\">\\r\\n       =20\\r\\n         =20\\r\\n            <a href=3D\"https://www.google.com/appserve/mkt/p/GYSlY2ohBdqvAF=\\r\\nDhGMe4yk7W8jXVERxf1gVT8HJEG3uUgk5NEX_fklTf7TzNQLiTy9E3_dVjCA6nIXXt7QmUIQn1E=\\r\\nvJTNravAuPt7hOPkjd-bo2xCbI7zAyLJwslikZG1PjJeK_J6cueu3MRpdS3r0koQ54GR0yB1NAM=\\r\\n1e2k6rDIz15XnfCo-jtxLj1QKJItLHNhQVaD4LYKocrrSjGt997zSM4de9R002V4okigiB-VOQ5=\\r\\nc7SZTIB8IhFX-8KOYEW9f1TOo8NCdhZh_fo_97TAh4qjaudkfRm0YvtWh5zfLHQGYSJzQfSjSq4=\\r\\ny5o5EjyudMVK-wUYLfy7xxNSt7nwMRDadfJ-OG6R_NEXoqyabCld9ATMO_6ohXvsKhygib_zSPv=\\r\\nID-Np5FW87WeNTjr-M2XqHkgLl1B-5q7qBRJEHyX1GMqFfiyVU6UHXJyCwEfIz8PMS3jlHOcMSQ=\\r\\npRcEpzTnp_BmZTe-XjKcYuYQMw3gLWNbKxmvI9vk\" style=3D\"color:#1ABDD4; text-deco=\\r\\nration:none\"><img src=3D\"https://lh4.googleusercontent.com/iFE9xh-DPT1Lq7E4=\\r\\nTynQ-ClKWEy6Ayml5tHbi2ozG2PxTROMVWdBm2v6tt990PRImj6DQt9GRw=3Dw300\" style=3D=\\r\\n\"-ms-interpolation-mode:bicubic; border:none; clear:both; display:block; ma=\\r\\nx-width:100%; outline:none; text-decoration:none; width:100%\" width=3D\"100%=\\r\\n\"></a>\\r\\n         =20\\r\\n       =20\\r\\n      </td>\\r\\n      <td style=3D\"-moz-hyphens:auto; -webkit-hyphens:auto; border-collapse=\\r\\n:collapse; color:#606060; font-family:Roboto, sans-serif-light, sans-serif;=\\r\\n font-size:16px; font-weight:300; hyphens:auto; line-height:24px; margin:0;=\\r\\n padding:0 10px; text-align:left; vertical-align:middle; width:60%; word-br=\\r\\neak:break-word\" align=3D\"left\" valign=3D\"middle\" width=3D\"60%\">\\r\\n       =20\\r\\n       =20\\r\\n       =20\\r\\n          <p style=3D\"color:#606060; font-family:Roboto, sans-serif-light, =\\r\\nsans-serif; font-size:14px; font-weight:300; line-height:20px; margin:0; pa=\\r\\ndding:0; padding-bottom:10px; text-align:inherit\" align=3D\"inherit\">Hybrid =\\r\\nTheory, Linkin Park&#39;s debut album featuring classic hit singles Crawlin=\\r\\ng and In The End, is free on Google Play for a limited time.*</p>\\r\\n       =20\\r\\n       =20\\r\\n       =20\\r\\n          <a href=3D\"https://www.google.com/appserve/mkt/p/vAiEMTrkYHULMAMO=\\r\\nFz-7wue8PpKZRUNsFOnmwY2WfcR_0Y0gSsDVtCjyzgKSD8Qp9z1yT9dIpHxMPu0I1TdVAGJHC9X=\\r\\n6dFMLDgKpcTReaB3717hvSOO5eBSXDZetVriHUrnRkbE-vc8PY7DDTV4ftQCGbfsXWt-u89QAsV=\\r\\nACTXopFQykWBzHgyd7O6grhXkXmMXycfqMWhAa9WttSaKpS5nFQ-X-9RyRXd70danX8XLNrELYL=\\r\\n7HQ9YWGV_g-rKmBD0JRoBZV0IVbtnEdpmXBlPdbaOWr-vFptApBeKiZIaJQn8hBGT71CYXfyJ8b=\\r\\nbZOgRUwOdmGpI8X0Ng-EmfEgKlj8iSczCTA1UqiuQA4uMvaGUuTcc5CnUGYaQWYZJy83jwqfYfH=\\r\\nieQq7uS5DHohO9LZi0BHuFXxTbR11op0nNps-nBHu6G-I5hlSWZk6lZxpjZEH6z3stMyEob8O80=\\r\\na8KLhcJI-ULlFuNLcCmGSJDoO10zBcDs0=3D\" style=3D\"background:#FD992E; border:n=\\r\\none; border-radius:3px; color:#fff; display:inline-block; font-size:15px; f=\\r\\nont-weight:normal; line-height:1; margin:10px 0 15px; min-width:60px; paddi=\\r\\nng:8px 16px; text-align:center; text-decoration:none; text-transform:upperc=\\r\\nase\" align=3D\"center\">Get it free</a>\\r\\n       =20\\r\\n      </td>\\r\\n    </tr></tbody>\\r\\n</table>\\r\\n<!-- Element: Text --><table style=3D\"background:#FD992E; border-collapse:c=\\r\\nollapse; border-spacing:0; margin:10px auto; padding:0; text-align:inherit;=\\r\\n vertical-align:top; width:600px\" align=3D\"inherit\" valign=3D\"top\" width=3D=\\r\\n\"600\">\\r\\n  <tbody style=3D\"width:100%\" width=3D\"100%\">\\r\\n      <tr style=3D\"padding:0; text-align:left; vertical-align:top\" align=3D=\\r\\n\"left\" valign=3D\"top\">\\r\\n        <td style=3D\"-moz-hyphens:auto; -webkit-hyphens:auto; border-collap=\\r\\nse:collapse; color:#606060; font-family:Roboto, sans-serif-light, sans-seri=\\r\\nf; font-size:16px; font-weight:300; hyphens:auto; line-height:24px; margin:=\\r\\n0; padding:0 20px; text-align:left; vertical-align:top; word-break:break-wo=\\r\\nrd\" align=3D\"left\" valign=3D\"top\"><h2 style=3D\"color:#fff; font-family:Robo=\\r\\nto, sans-serif-light, sans-serif; font-size:24px; font-weight:300; line-hei=\\r\\nght:1.3; margin:0; max-width:inherit; padding:20px 0; text-align:center; wi=\\r\\ndth:auto; word-break:break-word\" align=3D\"center\" width=3D\"auto\"><a href=3D=\\r\\n\"https://www.google.com/appserve/mkt/p/veJcSZ9_OA2zrcwIowUc5hPkD3pNdgEIW9QQ=\\r\\n5RoPXdJKcqI0GLtviHAUzk487rTS-pLS2Yrw9CskA_TShvKCyOzWpQgmPxP1fu3nSI4n6VD3VxH=\\r\\nyGpZCvAgw6qhJTrLo4weRH_RyNi_FHtObtPmHp0kHrRLaE5mWzDUhE50VyxdRlwQR0FVq1-Wgby=\\r\\nOq1dnRMn4uJ3WcQmmRuproJCnSVA_uId1s-D4sF1_W20CtQ5vdur1dLyY7Ato8LoIxVPzh6xxJo=\\r\\n2cz0q4_CyO8w_m8Aebbw0RnM0CTT_DC2Zh6xvj7SZhK8hKYPX3jWyQonTkY2646ChJaO6RFcRQH=\\r\\n7lAHm958t_2OmoL5rvNYG07q8Xk3I1YoMUBhRu9IhNVQKyLv_Ls8kb_m5JHO9__Dpb0zdSEP-mD=\\r\\nTUEHab5ponK1C2scyUvm9tray0y8Rn7EW5Z6KGN0zBFtpZbB-Yb1LTEflmzC1ULdAFlyZQNMzgH=\\r\\npUVH2B8FUapqL6m4Uw5vIhN8NO536flcyPcP774jb5J761ur8bApNzuYys0uuf6NPTvCSMraluo=\\r\\nfCTO5MeOxbj\" style=3D\"color:#fff; text-decoration:none\">Can&#39;t-miss free=\\r\\n + 99=C2=A2 albums</a></h2></td>\\r\\n       =20\\r\\n          <td style=3D\"-moz-hyphens:auto; -webkit-hyphens:auto; border-coll=\\r\\napse:collapse; color:#606060; font-family:Roboto, sans-serif-light, sans-se=\\r\\nrif; font-size:16px; font-weight:300; hyphens:auto; line-height:24px; margi=\\r\\nn:0; padding:0 20px; padding-left:0; text-align:right; vertical-align:middl=\\r\\ne; word-break:break-word\" align=3D\"right\" valign=3D\"middle\"><a href=3D\"http=\\r\\ns://www.google.com/appserve/mkt/p/vzCdGP7AEbPVMdFku_31XEWJr76Vyw7zMnNGn9BH5=\\r\\nZazy0VSHPQ1RPFYgPNcIUO4hYCnJOi6qXiymki6Da6hc03AeJmiXZhXo76P_NLxwr_rY1GC93IF=\\r\\nqni0xMcgxgWL3GVQUa0UZFqgJvQR4VHDH2JXEkCDO6ZpdwmfXiziTsegHtIAMHk_OI0AyIHyAFC=\\r\\nRlUbqRPaHYsBwJTHBAlrkIfdCd3pcjqUj6b8F864UFVLEs45OX16UpBj9askhPXA1sAoshQNPrU=\\r\\nniNZSHBDJlsI9QKkQE5FxJBV7fi8tg1_8s19lYC2AdBXpE-e2lb4rQunfET8LUGEw3yvw1-IDgw=\\r\\nCw-5KdSMVeCwxoUqkVIW5y-Wxi4JZbteuTamBhP5uKtKfGM6T8tQ_ZEUFQe-WtCejlxIX1ctL60=\\r\\npv6qOtgkxwQ4wHDV8oCHW5w6nc-cdKk_Erob5u-xvXV42ZDTpsR_ARAGffC19YDTqMyXvoPvhmb=\\r\\nbK1URVasXa6AjQBQRXELiK2wVEEzsh_m_IVk9pFWRAAObGA4w_7u2geq6x9ut7m_MGFc=3D\" st=\\r\\nyle=3D\"background:transparent; border:1px solid #fff; border-radius:3px; co=\\r\\nlor:#fff; display:block; font-size:14px; font-weight:normal; line-height:1;=\\r\\n margin:0; min-width:60px; padding:10px 20px; text-align:center; text-decor=\\r\\nation:none; text-transform:uppercase; white-space:nowrap\" align=3D\"center\">=\\r\\nSee all</a></td>\\r\\n       =20\\r\\n      </tr>\\r\\n   =20\\r\\n\\r\\n    </tbody>\\r\\n</table>\\r\\n<!---- Element: Cluster ---->\\r\\n\\r\\n<table style=3D\"background:#e5e5e5; border-collapse:collapse; border-spacin=\\r\\ng:0; margin:10px auto; padding:0; text-align:inherit; vertical-align:top; w=\\r\\nidth:600px\" align=3D\"inherit\" valign=3D\"top\" width=3D\"600\">\\r\\n  <tbody style=3D\"width:100%\" width=3D\"100%\">\\r\\n    <tr style=3D\"padding:0; text-align:left; vertical-align:top\" align=3D\"l=\\r\\neft\" valign=3D\"top\">\\r\\n      <td style=3D\"-moz-hyphens:auto; -webkit-hyphens:auto; border-collapse=\\r\\n:collapse; color:#606060; font-family:Roboto, sans-serif-light, sans-serif;=\\r\\n font-size:16px; font-weight:300; hyphens:auto; line-height:24px; margin:0;=\\r\\n padding:0; text-align:left; vertical-align:top; word-break:break-word\" ali=\\r\\ngn=3D\"left\" valign=3D\"top\">\\r\\n<!-- 3 Across -->\\r\\n        <table style=3D\"border-collapse:collapse; border-spacing:0; height:=\\r\\n100%; margin-bottom:5px; max-width:600px; padding:0; text-align:left; verti=\\r\\ncal-align:top; width:100%\" height=3D\"100%\" align=3D\"left\" valign=3D\"top\" wi=\\r\\ndth=3D\"100%\">\\r\\n          <tbody style=3D\"width:100%\" width=3D\"100%\">\\r\\n            <tr style=3D\"padding:0; text-align:left; vertical-align:top\" al=\\r\\nign=3D\"left\" valign=3D\"top\">\\r\\n<!-- Cluster Item --><td style=3D\"-moz-hyphens:auto; -webkit-hyphens:auto; =\\r\\nborder-collapse:collapse; color:#606060; display:table-cell; font-family:Ro=\\r\\nboto, sans-serif-light, sans-serif; font-size:16px; font-weight:300; height=\\r\\n:100%; hyphens:auto; line-height:24px; margin:0; padding:0 5px; text-align:=\\r\\nleft; vertical-align:top; width:190px; word-break:break-word\" height=3D\"100=\\r\\n%\" align=3D\"left\" valign=3D\"top\" width=3D\"190\">\\r\\n                <table style=3D\"background:#fff; border-collapse:collapse; =\\r\\nborder-radius:3px; border-spacing:0; height:100%; min-height:100%; padding:=\\r\\n0; text-align:left; vertical-align:top; width:100%\" height=3D\"100%\" align=\\r\\n=3D\"left\" valign=3D\"top\" width=3D\"100%\">\\r\\n                  <tbody style=3D\"width:100%\" width=3D\"100%\">\\r\\n                    <tr style=3D\"padding:0; text-align:left; vertical-align=\\r\\n:top\" align=3D\"left\" valign=3D\"top\">\\r\\n                      <td style=3D\"-moz-hyphens:auto; -webkit-hyphens:auto;=\\r\\n background:#f5f5f5; border-collapse:collapse; color:#606060; display:table=\\r\\n-cell; font-family:Roboto, sans-serif-light, sans-serif; font-size:16px; fo=\\r\\nnt-weight:300; hyphens:auto; line-height:24px; margin:0; padding:0; text-al=\\r\\nign:left; vertical-align:middle; width:50%; word-break:break-word\" align=3D=\\r\\n\"left\" valign=3D\"middle\" width=3D\"50%\">\\r\\n                        <a href=3D\"https://www.google.com/appserve/mkt/p/pQ=\\r\\nmT7K6q6psnGS1_nuYiUAlBbSWpusXqGfR7E1nk2OrmIxxFQd_fQ1GFUtvaNzgSiMY_-qdD9g6L4=\\r\\n77lBlrg2ZjiyUII9vqftJ4pChmMjLCMTVcRnooxZTgXeTs6BAo_SmLtAqUfLYXRBZg_gtbXTtl8=\\r\\nCGPs4_exXKbHh2U1jjZM36-fHaLPON66adbQNPk9OwLu3p6yWS8DBgBvkENNtphFzWkQFMl-IWE=\\r\\nqAgJ4DSE670GdMV92fH4Kblq4FLk5ZZ3CwUdAyaZeO2PcnGy9FODslzx9QVbH-Q_uXT727vrZmn=\\r\\nshqCsy7zbDvYuiLyIOgDiSIwtYsfZfXFb-64hR0mKZLxjCMiwfLSdsmRgshCLauBO3-3IJqVcCt=\\r\\nI1VYFppff0ty6e5SJ5i_dJxrJQkDoTU2QLxKEz7gOfOFiQc7M3kc0Es_r1VezRmluR9QbH0Cwjo=\\r\\nMvK4Ha9Ezgf1MgnPQxC4ax_H-p2eCatgu-0QuesLzV_GZ86U7JmL8Eg0ReuVxqBtH1Fxuxz3NhX=\\r\\nVaKaRGmALEMY9RWUJxlDss2aNLVg8EumbMtcCWOu4GmNne1UrOqgPMcMmAT7qXXMz85pE8EOFfS=\\r\\nWpcgSFFxtJBg=3D=3D\" style=3D\"color:#1ABDD4; text-decoration:none\">\\r\\n                          <img alt=3D\"Nine Track Mind\" src=3D\"https://lh3.g=\\r\\noogleusercontent.com/Z1BpjZ9WHfVPoreLg7DD3r3tuv9rTPAmiAEXOy77ruDl6CXgjcIYYG=\\r\\nPwiVXZmYlpyYHRH2nM6w=3Dw500\" style=3D\"-ms-interpolation-mode:bicubic; borde=\\r\\nr:none; clear:both; display:block; max-width:100%; outline:none; text-decor=\\r\\nation:none; width:100%\" width=3D\"100%\">\\r\\n                        </a>\\r\\n                      </td>\\r\\n                      </tr>\\r\\n<tr style=3D\"padding:0; text-align:left; vertical-align:top\" align=3D\"left\"=\\r\\n valign=3D\"top\">\\r\\n                      <td style=3D\"-moz-hyphens:auto; -webkit-hyphens:auto;=\\r\\n border-collapse:collapse; color:#606060; display:table-cell; font-family:R=\\r\\noboto, sans-serif-light, sans-serif; font-size:16px; font-weight:300; hyphe=\\r\\nns:auto; line-height:24px; margin:0; padding:10px; text-align:left; vertica=\\r\\nl-align:top; word-break:break-word\" align=3D\"left\" valign=3D\"top\">\\r\\n                        <table style=3D\"border-collapse:collapse; border-sp=\\r\\nacing:0; height:100%; padding:0; text-align:left; vertical-align:top; width=\\r\\n:100%\" height=3D\"100%\" align=3D\"left\" valign=3D\"top\" width=3D\"100%\">\\r\\n                          <tr style=3D\"padding:0; text-align:left; vertical=\\r\\n-align:top\" align=3D\"left\" valign=3D\"top\">\\r\\n                            <td style=3D\"-moz-hyphens:auto; -webkit-hyphens=\\r\\n:auto; border-collapse:collapse; color:#606060; display:table-cell; font-fa=\\r\\nmily:Roboto, sans-serif-light, sans-serif; font-size:16px; font-weight:300;=\\r\\n hyphens:auto; line-height:24px; margin:0; padding:0; text-align:left; vert=\\r\\nical-align:top; word-break:break-word\" align=3D\"left\" valign=3D\"top\">\\r\\n                              <h3 style=3D\"color:#606060; font-family:Robot=\\r\\no, sans-serif-light, sans-serif; font-size:16px; font-weight:300; line-heig=\\r\\nht:1.3; margin:0; max-width:inherit; padding:5px 0 5px; text-align:left; wi=\\r\\ndth:auto; word-break:break-word\" align=3D\"left\" width=3D\"auto\">\\r\\n                                <a href=3D\"https://www.google.com/appserve/=\\r\\nmkt/p/AAAgnKh0mnJl3TN-PwRaQf8GDpB9Q9L61rqjHXDUJh7I2M3wLW6dnGBV4Bwj9fcEvz6Vh=\\r\\n_fBzio0-BkjIgIssuAZ0wIEUPVPic8-qASkNWGa9SsdtOte6pL0tQRmGAY95Bour8kfygcIzWJ_=\\r\\nLgKifYog2QjU81azwV0S41lcW46tbdLxG3dSpMgugode2xaPXQFvHXB73E86tsstw7ajCRobJGM=\\r\\nUb1hY3pvFR3ZAnKCrXRSjxKfVZyj7SWlQqwZ2Z0NOLkg7kIrOiejQQWtpkET1ETbLzDnG6q4Pbe=\\r\\nmV0ji_QFvx0VvAuQKG185E6osPNhbKQCUfQgTf1t5ARwKL4seP2oXea8X9wP1YQab7MaxzMDDng=\\r\\nCvQkycg_AzALkO2YKcvZsPWyhKIeWpipI4-M1oDnxeiD1AS0rGRpbHTOpHFvyISlk6CrhpIfZlx=\\r\\nIiuW5Ou3VPXHr_S047j-O673ljqPZYARq0-n1MUXMiX8N50eTOPT3V3BVV57eMs4nCCrFeV9ru1=\\r\\n_Qhem--xH6pJgJJ_5yVsEJqedR786XSbimiCPbsAZgMhhmSiCxb5rHok9FdY9GxVk2-VtreJN3O=\\r\\nocQJgLObcFxm55S_O4fg=3D=3D\" style=3D\"color:#333; text-decoration:none\">Nine=\\r\\n Track Mind</a>\\r\\n                              </h3>\\r\\n<p style=3D\"color:#8d8d8d; font-family:Roboto, sans-serif-light, sans-serif=\\r\\n; font-size:13px; font-weight:300; line-height:16px; margin:0; padding:5px =\\r\\n0 5px; padding-bottom:10px; text-align:inherit\" align=3D\"inherit\">\\r\\n                                Charlie Puth\\r\\n                              </p>\\r\\n</td>\\r\\n                          </tr>\\r\\n                          <tr style=3D\"padding:0; text-align:left; vertical=\\r\\n-align:top\" align=3D\"left\" valign=3D\"top\">\\r\\n                            <td style=3D\"-moz-hyphens:auto; -webkit-hyphens=\\r\\n:auto; border-collapse:collapse; color:#606060; display:table-cell; font-fa=\\r\\nmily:Roboto, sans-serif-light, sans-serif; font-size:16px; font-weight:300;=\\r\\n hyphens:auto; line-height:24px; margin:0; padding:0; padding-top:10px; tex=\\r\\nt-align:left; vertical-align:bottom; word-break:break-word\" align=3D\"left\" =\\r\\nvalign=3D\"bottom\">\\r\\n                             =20\\r\\n                              <a href=3D\"https://www.google.com/appserve/mk=\\r\\nt/p/IxsYPiArXLh9ecmgPnE0HzTv3zXK6nuOMnQMunatAY-k6L9seypWIOgpeGtz4LCvFtColZf=\\r\\nCfp8HaSzy2s_2RpYlEg3U6RBLdrfpMwO1VHyynbf02P-6073zc7ppSHHVGgombjQnwS3VEnHKG4=\\r\\niZNtMyLtFchD7XNmfy9EJIr5hIuBlco2seOH99PcNunj9dizoB1Cm_RQM-iltUF3CmEvK4dHgGh=\\r\\nnIlY1Enm3Nr6jrWzthlPZXbLaRAv5FJPqiGJghqHjBlRRUw7Zdh-71qIoYJxpOf1hmerIqOeaje=\\r\\n-0BMo1daN3mqpuuwy1Pl7VRh7T-rXfwZc4Q_3t2TzBy1IadwZryahkXJ6YKkY2oBvffTMc5EhDR=\\r\\nrcUZGLUyGW_0-WSX_P888g2uK-rpI2E14e9wiTEROHPKpDPnvoDyfVMrnjVn5jqwkhgtsTCGNk6=\\r\\nR_05buA8O54ifAl_dqEWFbZIsaRMIW9mP1WjaGZi5idcbTj2oweSAhdlz1vIapXmQ8f6I6NuPOH=\\r\\nE2GSl40q7E8ButuEDUkdRMkttIwun71cxSHul_ZgTr_k3ldqjXZ8DhoDlL06SO_xilDrCwF2j-A=\\r\\nydUlFVyM8lDH\" style=3D\"background:#FD992E; border:none; border-radius:3px; =\\r\\ncolor:#fff; display:inline-block; font-size:14px; font-weight:normal; line-=\\r\\nheight:1; min-width:60px; padding:8px 16px; text-align:center; text-decorat=\\r\\nion:none; text-transform:uppercase; width:81%\" align=3D\"center\" width=3D\"81=\\r\\n%\">\\r\\n                               =20\\r\\n                                Get it now</a>\\r\\n                             =20\\r\\n                            </td>\\r\\n                          </tr>\\r\\n                        </table>\\r\\n                      </td>\\r\\n                    </tr>\\r\\n                  </tbody>\\r\\n                </table>\\r\\n              </td>\\r\\n<!-- Cluster Item --><td style=3D\"-moz-hyphens:auto; -webkit-hyphens:auto; =\\r\\nborder-collapse:collapse; color:#606060; display:table-cell; font-family:Ro=\\r\\nboto, sans-serif-light, sans-serif; font-size:16px; font-weight:300; height=\\r\\n:100%; hyphens:auto; line-height:24px; margin:0; padding:0 5px; text-align:=\\r\\nleft; vertical-align:top; width:190px; word-break:break-word\" height=3D\"100=\\r\\n%\" align=3D\"left\" valign=3D\"top\" width=3D\"190\">\\r\\n                <table style=3D\"background:#fff; border-collapse:collapse; =\\r\\nborder-radius:3px; border-spacing:0; height:100%; min-height:100%; padding:=\\r\\n0; text-align:left; vertical-align:top; width:100%\" height=3D\"100%\" align=\\r\\n=3D\"left\" valign=3D\"top\" width=3D\"100%\">\\r\\n                  <tbody style=3D\"width:100%\" width=3D\"100%\">\\r\\n                    <tr style=3D\"padding:0; text-align:left; vertical-align=\\r\\n:top\" align=3D\"left\" valign=3D\"top\">\\r\\n                      <td style=3D\"-moz-hyphens:auto; -webkit-hyphens:auto;=\\r\\n background:#f5f5f5; border-collapse:collapse; color:#606060; display:table=\\r\\n-cell; font-family:Roboto, sans-serif-light, sans-serif; font-size:16px; fo=\\r\\nnt-weight:300; hyphens:auto; line-height:24px; margin:0; padding:0; text-al=\\r\\nign:left; vertical-align:middle; width:50%; word-break:break-word\" align=3D=\\r\\n\"left\" valign=3D\"middle\" width=3D\"50%\">\\r\\n                        <a href=3D\"https://www.google.com/appserve/mkt/p/8D=\\r\\nUnFblG1TjeZ07VyjAmbkzvSUMOOtb-vCInApJVwlJZoYl4mNVCyMga_c_IwO2LiBYumu2Tlt5Xe=\\r\\n9RCUzMN8m4gIA1xGj2cOn6ur-uAbE4a-4Tbeb2hjwfXW_kV99Oxrhb4_dGQXYl_qdDFkQsYrmqo=\\r\\n3QWvRFCc8AQrD-12G9ndAap3unfVimeR95W_atiAQzSkv-FBm5tYNNW3lVfAchSYiDIPyOyegtG=\\r\\nlR08McTK9QW4HQJlK6ko6xJ5XVoEP2B-YMqRUZ-DUrQo75kOyxrl36ihEoiE2O_H3C9cDEJvMYa=\\r\\nEfhj_vDseneRSvimTyuR98T3i5zECQzQk7aYZBB2pfIKIHYsynIzH80UAMqOWj1aPcvxuQn2cvY=\\r\\nT4-Y0817fDUUxePwv29tAOzDA3CLz45IPvfkU5F9dI81qmVoTjop-zBlglNnqN5dI78z-YNyIkB=\\r\\nh6prEhbKxlZRnK5TfZAE8Qqhq0K3TzJn9h4UB3S2ATC9ygJLbUs1xoOUQpb2dsWBTx6Ntdyf509=\\r\\nC42Kqqddwq32_t6Ue7AyEyrrbz04ghSE7SaiP_UOb5hvPLPT__iEUfAqIktFB8wGo8oViPtw=3D=\\r\\n\" style=3D\"color:#1ABDD4; text-decoration:none\">\\r\\n                          <img alt=3D\"Islah \" src=3D\"https://lh3.googleuser=\\r\\ncontent.com/xZrncUxrfbx4hf30zRmJRT3_roCyu21UzPY1esYBspSOC8hA4Y-5YmmKlY2bbPu=\\r\\nj2H-JF7APOm4=3Dw500\" style=3D\"-ms-interpolation-mode:bicubic; border:none; =\\r\\nclear:both; display:block; max-width:100%; outline:none; text-decoration:no=\\r\\nne; width:100%\" width=3D\"100%\">\\r\\n                        </a>\\r\\n                      </td>\\r\\n                      </tr>\\r\\n<tr style=3D\"padding:0; text-align:left; vertical-align:top\" align=3D\"left\"=\\r\\n valign=3D\"top\">\\r\\n                      <td style=3D\"-moz-hyphens:auto; -webkit-hyphens:auto;=\\r\\n border-collapse:collapse; color:#606060; display:table-cell; font-family:R=\\r\\noboto, sans-serif-light, sans-serif; font-size:16px; font-weight:300; hyphe=\\r\\nns:auto; line-height:24px; margin:0; padding:10px; text-align:left; vertica=\\r\\nl-align:top; word-break:break-word\" align=3D\"left\" valign=3D\"top\">\\r\\n                        <table style=3D\"border-collapse:collapse; border-sp=\\r\\nacing:0; height:100%; padding:0; text-align:left; vertical-align:top; width=\\r\\n:100%\" height=3D\"100%\" align=3D\"left\" valign=3D\"top\" width=3D\"100%\">\\r\\n                          <tr style=3D\"padding:0; text-align:left; vertical=\\r\\n-align:top\" align=3D\"left\" valign=3D\"top\">\\r\\n                            <td style=3D\"-moz-hyphens:auto; -webkit-hyphens=\\r\\n:auto; border-collapse:collapse; color:#606060; display:table-cell; font-fa=\\r\\nmily:Roboto, sans-serif-light, sans-serif; font-size:16px; font-weight:300;=\\r\\n hyphens:auto; line-height:24px; margin:0; padding:0; text-align:left; vert=\\r\\nical-align:top; word-break:break-word\" align=3D\"left\" valign=3D\"top\">\\r\\n                              <h3 style=3D\"color:#606060; font-family:Robot=\\r\\no, sans-serif-light, sans-serif; font-size:16px; font-weight:300; line-heig=\\r\\nht:1.3; margin:0; max-width:inherit; padding:5px 0 5px; text-align:left; wi=\\r\\ndth:auto; word-break:break-word\" align=3D\"left\" width=3D\"auto\">\\r\\n                                <a href=3D\"https://www.google.com/appserve/=\\r\\nmkt/p/tpTAAAF_MlIY0oFVcjh9iUqFHVYyTOo22P6uQDMnZcCG-GdWtyEMMwSjKxogFl5GdWPAe=\\r\\n4iED_s4hyRUkxmqCZxV5iiavnQR5qwyCwNNJml2yOkBg_y7TkBSlINUyWH5YoVPnIQt61-xa3_x=\\r\\nP9b38xd3alc0qn3GVPubMnI95AgngetXe9ZsgWk0A4DpLkLsuPNcZWAGZ4EQesWGy_ulzdWXld2=\\r\\nmKjDAsBBTsLBU2u6b3DRLzdDuGa2Oak4eB_u4dp8epl8c-s96-6bGOBiJT0EY2ytb4_MQj_aBEE=\\r\\ng9g1RTXo5mb7aELCiyln1afp2h9MQTjZI00XlV6UBh9_yAGUUOk6xMIkfvJXphh2R1TaFkHmMDV=\\r\\nZZHTAjznBjXrT4mFACXOsPirIudvseQZxbUWT-_Vo8y-zrCgGs_HEyK8RdSctL0QBC75sTK2j7m=\\r\\nFcKwWhgq3h9CQD7X-7i188vJ9uN2IURMnNsosI-8T5YoWELlKQGFLnL8AYd908T3m5Y2jd_ZNtf=\\r\\n8qhFPsvCVIyyXRSaO_b8txhoOsZgHSGh8TZdV11Zsht7YwTwlYxSl19mNBiggdRzXLFPGLix0aj=\\r\\nJA8FY=3D\" style=3D\"color:#333; text-decoration:none\">Islah </a>\\r\\n                              </h3>\\r\\n<p style=3D\"color:#8d8d8d; font-family:Roboto, sans-serif-light, sans-serif=\\r\\n; font-size:13px; font-weight:300; line-height:16px; margin:0; padding:5px =\\r\\n0 5px; padding-bottom:10px; text-align:inherit\" align=3D\"inherit\">\\r\\n                                Kevin Gates\\r\\n                              </p>\\r\\n</td>\\r\\n                          </tr>\\r\\n                          <tr style=3D\"padding:0; text-align:left; vertical=\\r\\n-align:top\" align=3D\"left\" valign=3D\"top\">\\r\\n                            <td style=3D\"-moz-hyphens:auto; -webkit-hyphens=\\r\\n:auto; border-collapse:collapse; color:#606060; display:table-cell; font-fa=\\r\\nmily:Roboto, sans-serif-light, sans-serif; font-size:16px; font-weight:300;=\\r\\n hyphens:auto; line-height:24px; margin:0; padding:0; padding-top:10px; tex=\\r\\nt-align:left; vertical-align:bottom; word-break:break-word\" align=3D\"left\" =\\r\\nvalign=3D\"bottom\">\\r\\n                             =20\\r\\n                              <a href=3D\"https://www.google.com/appserve/mk=\\r\\nt/p/Kv2hAm87DOAdsYyMOaCrvtKN6ancUeK876lpax0qVIB1rb7ArnGXrhHVXyE8e2cwXSImaO4=\\r\\nx_GOJrV3E-Sqy262q7w3YQUDB04nxu6J7qvG9sIYf1UbN3ka4SYzs4jdZnl7d-woujzZQv9x_f7=\\r\\nVAoaeiHeCJ-kDFY_THcRpBcVVTlINqqArR4zuhUo1UGp203iAdKrEVI3McxFnxrLtFuqMnG1FqR=\\r\\nm1YsfsasQLqx64I84v-TMMcbQf2NBWvI7NE5_gwGhY0Nv9vMlMmEgAMI3VpLX67cIObfkNJuKlg=\\r\\nLyoidR-6gOjBkD-e-DZq4ES5bFV4XI42NFUTw3OCzoL-R-yOhgcqsHkqEU6d2Esp7c-oOo5qbR-=\\r\\n_hf5Gp78pkozaCPNJ6krlKtXSOEPjFaP9dPWl22VsmSWu0pPyPcSsJ_-ice0H1fyEBGOtJRtFau=\\r\\nIIhxn7e8C4RUPCBx2E6mOuKA4Xj4K_KC4wF357SQPVLr9Ca6zK3rtZxfGJe8YZfiE3hMNJqnanP=\\r\\nICNdaCiwLmXRa_NJYUnkhbxZmsXayw4kZxO46Q0VCLgCqXlYsfriF85iTfAfkybDFjcYiHF7g=\\r\\n=3D=3D\" style=3D\"background:#FD992E; border:none; border-radius:3px; color:=\\r\\n#fff; display:inline-block; font-size:14px; font-weight:normal; line-height=\\r\\n:1; min-width:60px; padding:8px 16px; text-align:center; text-decoration:no=\\r\\nne; text-transform:uppercase; width:81%\" align=3D\"center\" width=3D\"81%\">\\r\\n                               =20\\r\\n                                Get it now</a>\\r\\n                             =20\\r\\n                            </td>\\r\\n                          </tr>\\r\\n                        </table>\\r\\n                      </td>\\r\\n                    </tr>\\r\\n                  </tbody>\\r\\n                </table>\\r\\n              </td>\\r\\n<!-- Cluster Item --><td style=3D\"-moz-hyphens:auto; -webkit-hyphens:auto; =\\r\\nborder-collapse:collapse; color:#606060; display:table-cell; font-family:Ro=\\r\\nboto, sans-serif-light, sans-serif; font-size:16px; font-weight:300; height=\\r\\n:100%; hyphens:auto; line-height:24px; margin:0; padding:0 5px; text-align:=\\r\\nleft; vertical-align:top; width:190px; word-break:break-word\" height=3D\"100=\\r\\n%\" align=3D\"left\" valign=3D\"top\" width=3D\"190\">\\r\\n                <table style=3D\"background:#fff; border-collapse:collapse; =\\r\\nborder-radius:3px; border-spacing:0; height:100%; min-height:100%; padding:=\\r\\n0; text-align:left; vertical-align:top; width:100%\" height=3D\"100%\" align=\\r\\n=3D\"left\" valign=3D\"top\" width=3D\"100%\">\\r\\n                  <tbody style=3D\"width:100%\" width=3D\"100%\">\\r\\n                    <tr style=3D\"padding:0; text-align:left; vertical-align=\\r\\n:top\" align=3D\"left\" valign=3D\"top\">\\r\\n                      <td style=3D\"-moz-hyphens:auto; -webkit-hyphens:auto;=\\r\\n background:#f5f5f5; border-collapse:collapse; color:#606060; display:table=\\r\\n-cell; font-family:Roboto, sans-serif-light, sans-serif; font-size:16px; fo=\\r\\nnt-weight:300; hyphens:auto; line-height:24px; margin:0; padding:0; text-al=\\r\\nign:left; vertical-align:middle; width:50%; word-break:break-word\" align=3D=\\r\\n\"left\" valign=3D\"middle\" width=3D\"50%\">\\r\\n                        <a href=3D\"https://www.google.com/appserve/mkt/p/bp=\\r\\nEWVYLYc7LAqa0ImMZXPbF5wDM0TGSQWG9O7IVwJxtpUgtQiD4rlnRswsQY9gQW2Z9IZp4xUYB73=\\r\\nPZkigiVuikBMlCxbJDaGsTDxV50Lilzrwz92Y72HtlBJj5v3dTKzZJdj4dK7kxg2n8Swffo3ZoE=\\r\\nrcuib_NLDf7CYfEHiTV4Z-MDPeKO8oS6Lv3KCHtT7ekqzK48jUeUtb8J7QZDfD5kxM8C84r5L47=\\r\\nZl5Lzn7e1M0Y68XDoQHg9wSowBhUCWyt9QUMIFc_V_SAKYmCY6MYFiHV5X1P7PNToWI0LZDTTj1=\\r\\nuJ79qDNCvwPzSxss9Q842tGliw677suHAz-mKYxt9qC93JI8y9320PstPBbBwX-_G5QkIz7LU9D=\\r\\n-nKbqwjTe9JVPU8wYOipPhYdkseE1HyUstOp-7Jrk3yiIepwx7K-WBfxpDulblAlMRyUH5GV19-=\\r\\nibg6JcEsmq86nYJUAIwP97ffMvj3Hn-zRPPReGFmKXOgz0uUpnHUSPSa0u1pckv-4w47bRoSzkl=\\r\\n8DApQsoNSCekeeDF6Kii4apj3hbVhdWwi9Wy9gpAsDFOMVngnYD84DRScDh7rfxeaLvgEVr6m3q=\\r\\nzV\" style=3D\"color:#1ABDD4; text-decoration:none\">\\r\\n                          <img alt=3D\"Delilah\" src=3D\"https://lh3.googleuse=\\r\\nrcontent.com/V7Xr8BODKHJHMN5UkX2QwgGWYwcHZ2FRZLsQPKI72hnUQwJ20-uVsSV5lK_0xS=\\r\\n3Ffmru6jyJ=3Dw500\" style=3D\"-ms-interpolation-mode:bicubic; border:none; cl=\\r\\near:both; display:block; max-width:100%; outline:none; text-decoration:none=\\r\\n; width:100%\" width=3D\"100%\">\\r\\n                        </a>\\r\\n                      </td>\\r\\n                      </tr>\\r\\n<tr style=3D\"padding:0; text-align:left; vertical-align:top\" align=3D\"left\"=\\r\\n valign=3D\"top\">\\r\\n                      <td style=3D\"-moz-hyphens:auto; -webkit-hyphens:auto;=\\r\\n border-collapse:collapse; color:#606060; display:table-cell; font-family:R=\\r\\noboto, sans-serif-light, sans-serif; font-size:16px; font-weight:300; hyphe=\\r\\nns:auto; line-height:24px; margin:0; padding:10px; text-align:left; vertica=\\r\\nl-align:top; word-break:break-word\" align=3D\"left\" valign=3D\"top\">\\r\\n                        <table style=3D\"border-collapse:collapse; border-sp=\\r\\nacing:0; height:100%; padding:0; text-align:left; vertical-align:top; width=\\r\\n:100%\" height=3D\"100%\" align=3D\"left\" valign=3D\"top\" width=3D\"100%\">\\r\\n                          <tr style=3D\"padding:0; text-align:left; vertical=\\r\\n-align:top\" align=3D\"left\" valign=3D\"top\">\\r\\n                            <td style=3D\"-moz-hyphens:auto; -webkit-hyphens=\\r\\n:auto; border-collapse:collapse; color:#606060; display:table-cell; font-fa=\\r\\nmily:Roboto, sans-serif-light, sans-serif; font-size:16px; font-weight:300;=\\r\\n hyphens:auto; line-height:24px; margin:0; padding:0; text-align:left; vert=\\r\\nical-align:top; word-break:break-word\" align=3D\"left\" valign=3D\"top\">\\r\\n                              <h3 style=3D\"color:#606060; font-family:Robot=\\r\\no, sans-serif-light, sans-serif; font-size:16px; font-weight:300; line-heig=\\r\\nht:1.3; margin:0; max-width:inherit; padding:5px 0 5px; text-align:left; wi=\\r\\ndth:auto; word-break:break-word\" align=3D\"left\" width=3D\"auto\">\\r\\n                                <a href=3D\"https://www.google.com/appserve/=\\r\\nmkt/p/SGQUXfUa1S8-HDDrEAK1Bs-KCUFEINPJM6oKBpFq6F1AbWaTmPQrw4oALamUZMe30PZgK=\\r\\nR6vYLsn_hajc1-Dmv6JRyC0Jc4nBNET-jQu0J1frvtMnJdrG_H-aOuxQ_Gz7nkzs-xS949Er178=\\r\\nCFJvLkuNQCo98zVSl3WnVUeqxj0yWTka6J0S3nHSKiTCoQFcx91kJ-kbJuuXVFaFC52xBNfGbgm=\\r\\nGNr1CXCs96y5wh-ocAai7xFvg4TWpJUUmhneM6qtbIqLgvnGaDHvygAaUeUuzae4FhDV8qET6iQ=\\r\\nDZoQrHF-_oJm0Z-V-zlA95U1esLPwEkM9PHWAdwXYfjZ9n2yhF2IKlVF0rmhLBrMyV78uuYA8M9=\\r\\nJYuY61jZCO7orJyoUrlhudeVStNUi5Zx5JgQXfTQzBU8QcdcUQX3Bc16f1VnLoe9xhZIxkdH4O3=\\r\\niHErJmSEwPwqV2IjkRjmNSFuHt_8ZypAJq0uK2Nc3XZ4tBnIdSSctGQFzvxwaUSl9ry4TnvzSoG=\\r\\nZUyxuv0OMR4YH3EX-uSA6xKuhAGZx2dYRbeKnYYKoNvvw3W-HyMgtGEWlKe7L_SCCIbGfRI8WZs=\\r\\n8bOc2m3FNl\" style=3D\"color:#333; text-decoration:none\">Delilah</a>\\r\\n                              </h3>\\r\\n<p style=3D\"color:#8d8d8d; font-family:Roboto, sans-serif-light, sans-serif=\\r\\n; font-size:13px; font-weight:300; line-height:16px; margin:0; padding:5px =\\r\\n0 5px; padding-bottom:10px; text-align:inherit\" align=3D\"inherit\">\\r\\n                                Anderson East\\r\\n                              </p>\\r\\n</td>\\r\\n                          </tr>\\r\\n                          <tr style=3D\"padding:0; text-align:left; vertical=\\r\\n-align:top\" align=3D\"left\" valign=3D\"top\">\\r\\n                            <td style=3D\"-moz-hyphens:auto; -webkit-hyphens=\\r\\n:auto; border-collapse:collapse; color:#606060; display:table-cell; font-fa=\\r\\nmily:Roboto, sans-serif-light, sans-serif; font-size:16px; font-weight:300;=\\r\\n hyphens:auto; line-height:24px; margin:0; padding:0; padding-top:10px; tex=\\r\\nt-align:left; vertical-align:bottom; word-break:break-word\" align=3D\"left\" =\\r\\nvalign=3D\"bottom\">\\r\\n                             =20\\r\\n                              <a href=3D\"https://www.google.com/appserve/mk=\\r\\nt/p/8xp9YiCsvgUhRo7ivMVOU2takLbZzcuWwU-g54dRo5tobZVuTqMMemMroSEcoZwHeLofNqu=\\r\\nI68cI8MY5sgwNW6Bp5Pvr5DwKFSKzQ3uy_LD4sc2GStcygM0b3_Blz4W8NRj5de1adbgOdHq9uQ=\\r\\nLBxe3-yvzuxwiZaYLU75jPwUagYUE3NuteP2T9bxKO0BQWf8RMbidUC8FSDQo2wQuJclKkgnpx0=\\r\\n7ACBpGEMNLNNtk98uufwgCfdwf30vNJH3b4Ni1WrHAEBGHuC3AuT83WYk1-6eQ-xvEtcnI8T8kJ=\\r\\n4YvqEM-Ws7plim4wHuCivoaYOOEBXQhnNKrlhSln_D2XK5EJd2LDhL0btCHVLqBh5Ufo0VdFSRY=\\r\\nCXn-p5DXQETs_PoVP-azHFYaQhqWLpCiqsDy0wNo07i1suXyPjpmAiZM2uGmRTXVfDMXG9uvu-b=\\r\\nCcSv0Z4rgd46tuEEYNIMQ79V74nlAP84_8yihjtksm8bbyjo-JC_pIvLBVVkExWTmKHM8-qRcVU=\\r\\nT5EQxvsdWu6tkQGQplyPT65CSXkZcwKUxhwGQrLzCA7QASoPnvUmHoyp30Z4g6Ylia4gL2hxa6m=\\r\\nd4Y=3D\" style=3D\"background:#FD992E; border:none; border-radius:3px; color:=\\r\\n#fff; display:inline-block; font-size:14px; font-weight:normal; line-height=\\r\\n:1; min-width:60px; padding:8px 16px; text-align:center; text-decoration:no=\\r\\nne; text-transform:uppercase; width:81%\" align=3D\"center\" width=3D\"81%\">\\r\\n                               =20\\r\\n                                Get it now</a>\\r\\n                             =20\\r\\n                            </td>\\r\\n                          </tr>\\r\\n                        </table>\\r\\n                      </td>\\r\\n                    </tr>\\r\\n                  </tbody>\\r\\n                </table>\\r\\n              </td>\\r\\n</tr>\\r\\n          </tbody>\\r\\n        </table>\\r\\n      </td>\\r\\n    </tr>\\r\\n  </tbody>\\r\\n</table>\\r\\n<!-- Element: Footer -->\\r\\n<table style=3D\"background:#fff; border-collapse:collapse; border-spacing:0=\\r\\n; border-top:15px solid #fff; margin:0 auto; padding:0; text-align:inherit;=\\r\\n vertical-align:top; width:600px\" align=3D\"inherit\" valign=3D\"top\" width=3D=\\r\\n\"600\">\\r\\n  <tbody style=3D\"width:100%\" width=3D\"100%\">   =20\\r\\n   =20\\r\\n   =20\\r\\n    <tr style=3D\"padding:0; text-align:left; vertical-align:top\" align=3D\"l=\\r\\neft\" valign=3D\"top\">\\r\\n      <td style=3D\"-moz-hyphens:auto; -webkit-hyphens:auto; border-collapse=\\r\\n:collapse; color:#606060; font-family:Roboto, sans-serif-light, sans-serif;=\\r\\n font-size:16px; font-weight:300; hyphens:auto; line-height:24px; margin:0;=\\r\\n padding:0 10px; text-align:center; vertical-align:top; word-break:break-wo=\\r\\nrd\" align=3D\"center\" valign=3D\"top\">\\r\\n       =20\\r\\n       =20\\r\\n        <p style=3D\"color:#606060; font-family:Roboto, sans-serif-light, sa=\\r\\nns-serif; font-size:10px; font-weight:300; line-height:16px; margin:0; padd=\\r\\ning:0; padding-bottom:10px; text-align:inherit\" align=3D\"inherit\">=C2=A9 20=\\r\\n16 Google Inc. 1600 Amphitheatre Parkway, Mountain View, CA 94043, USA</p>\\r\\n       =20\\r\\n        =20\\r\\n         =20\\r\\n            <p style=3D\"color:#606060; font-family:Roboto, sans-serif-light=\\r\\n, sans-serif; font-size:10px; font-weight:300; line-height:16px; margin:0; =\\r\\npadding:0; padding-bottom:10px; text-align:inherit\" align=3D\"inherit\">This =\\r\\nmessage was sent to simiusmathematicus@gmail.com because you asked us to ke=\\r\\nep you up to date with the latest news and offers from Google Play. If you =\\r\\ndo not wish to receive these emails, please <a href=3D\"https://www.google.c=\\r\\nom/appserve/mkt/optout/-7evONzr12-PdUCGyDndbvw_w_NLl6_ZRDuHW5ORM7Y=3D?hl=3D=\\r\\nen_US\" style=3D\"color:#FD992E; text-decoration:underline\">unsubscribe here<=\\r\\n/a>. You can also change your email preferences on Google Play by logging i=\\r\\nn at <a href=3D\"https://www.google.com/appserve/mkt/p/bpjkQ_WpsA9yXeLMDCGuc=\\r\\n9_CLIbVLM-8gLUVp-NG8E35-_bQMH2Qw4E8wLwFP4J2\" style=3D\"color:#FD992E; text-d=\\r\\necoration:underline\">https://play.google.com/settings</a>.</p>\\r\\n         =20\\r\\n       =20\\r\\n       =20\\r\\n        <p style=3D\"color:#606060; font-family:Roboto, sans-serif-light, sa=\\r\\nns-serif; font-size:10px; font-weight:300; line-height:16px; margin:0; padd=\\r\\ning:0; padding-bottom:10px; text-align:inherit\" align=3D\"inherit\">* Downloa=\\r\\nding free music, TV shows, and certain free books and magazines is still co=\\r\\nnsidered a transaction, even when the price of the item is $0.00. If you do=\\r\\nn&#39;t have a credit card associated with your Google Payments account or =\\r\\nif you haven&#39;t set up a <a href=3D\"https://www.google.com/appserve/mkt/=\\r\\np/MgCXIkq5uWk-kVOEQPqIfmiE1uUUI_faHcXUP42jxhDmVqCngZfnKkigAA=3D=3D\" style=\\r\\n=3D\"color:#FD992E; text-decoration:underline\">Google Payments</a> account, =\\r\\nyou&#39;ll be prompted to add a new payment method upon downloading some ty=\\r\\npes of content on Google Play. </p>\\r\\n<p style=3D\"color:#606060; font-family:Roboto, sans-serif-light, sans-serif=\\r\\n; font-size:10px; font-weight:300; line-height:16px; margin:0; padding:0; p=\\r\\nadding-bottom:10px; text-align:inherit\" align=3D\"inherit\">Promotion valid w=\\r\\nhile supplies last. Promotion is not transferable, cannot be sold or barter=\\r\\ned, has no cash value, and is non-refundable. Promotion is void where prohi=\\r\\nbited by law. Requires Google Play account. Offer good for users 13+ in Uni=\\r\\nted States only. Compatible internet connected devices required. Google res=\\r\\nerves the right to terminate or modify this promotion.</p>\\r\\n      </td>\\r\\n    </tr>=20\\r\\n   =20\\r\\n  </tbody>\\r\\n</table>\\r\\n                  </center>\\r\\n                </td>\\r\\n              </tr>\\r\\n            </tbody>\\r\\n          </table>\\r\\n        <img height=3D\"1\" width=3D\"3\" src=3D\"https://www.google.com/appserv=\\r\\ne/mkt/img/gSSG_gNWV4KiBQQxgoVUIARWTQQ=3D.gif\"></body>\\r\\n      </html>\\r\\n--001a113ec0e669f3e4052dd062e4--\\r\\n',\n",
       "              b'FLAGS': (),\n",
       "              b'SEQ': 304}})"
      ]
     },
     "execution_count": 38,
     "metadata": {},
     "output_type": "execute_result"
    }
   ],
   "source": [
    "raw_message = conn.fetch([322], ['BODY[]', 'FLAGS'])\n",
    "raw_message"
   ]
  },
  {
   "cell_type": "code",
   "execution_count": 39,
   "metadata": {
    "collapsed": true
   },
   "outputs": [],
   "source": [
    "import pyzmail"
   ]
  },
  {
   "cell_type": "code",
   "execution_count": 41,
   "metadata": {
    "collapsed": false
   },
   "outputs": [],
   "source": [
    "message = pyzmail.PyzMessage.factory(raw_message[322] [b'BODY[]'])"
   ]
  },
  {
   "cell_type": "code",
   "execution_count": 42,
   "metadata": {
    "collapsed": false
   },
   "outputs": [
    {
     "data": {
      "text/plain": [
       "'Get Linkin Park free for a limited time'"
      ]
     },
     "execution_count": 42,
     "metadata": {},
     "output_type": "execute_result"
    }
   ],
   "source": [
    "message.get_subject()"
   ]
  },
  {
   "cell_type": "code",
   "execution_count": 45,
   "metadata": {
    "collapsed": false
   },
   "outputs": [
    {
     "data": {
      "text/plain": [
       "[('Google Play', 'news-googleplay@google.com')]"
      ]
     },
     "execution_count": 45,
     "metadata": {},
     "output_type": "execute_result"
    }
   ],
   "source": [
    "message.get_addresses('from')"
   ]
  },
  {
   "cell_type": "code",
   "execution_count": 44,
   "metadata": {
    "collapsed": false
   },
   "outputs": [
    {
     "data": {
      "text/plain": [
       "[('simiusmathematicus@gmail.com', 'simiusmathematicus@gmail.com')]"
      ]
     },
     "execution_count": 44,
     "metadata": {},
     "output_type": "execute_result"
    }
   ],
   "source": [
    "message.get_addresses('to')"
   ]
  },
  {
   "cell_type": "code",
   "execution_count": 47,
   "metadata": {
    "collapsed": false
   },
   "outputs": [
    {
     "data": {
      "text/plain": [
       "[]"
      ]
     },
     "execution_count": 47,
     "metadata": {},
     "output_type": "execute_result"
    }
   ],
   "source": [
    "message.get_addresses('bcc')"
   ]
  },
  {
   "cell_type": "code",
   "execution_count": 48,
   "metadata": {
    "collapsed": false
   },
   "outputs": [
    {
     "data": {
      "text/plain": [
       "MailPart<*text/plain charset=UTF-8 len=1676>"
      ]
     },
     "execution_count": 48,
     "metadata": {},
     "output_type": "execute_result"
    }
   ],
   "source": [
    "message.text_part"
   ]
  },
  {
   "cell_type": "code",
   "execution_count": 50,
   "metadata": {
    "collapsed": false
   },
   "outputs": [
    {
     "data": {
      "text/plain": [
       "False"
      ]
     },
     "execution_count": 50,
     "metadata": {},
     "output_type": "execute_result"
    }
   ],
   "source": [
    "message.html_part == None"
   ]
  },
  {
   "cell_type": "code",
   "execution_count": 51,
   "metadata": {
    "collapsed": false
   },
   "outputs": [
    {
     "data": {
      "text/plain": [
       "\"Limited-time deals\\r\\n\\r\\n\\r\\nGoogle Play Music\\r\\n\\r\\n\\r\\n\\r\\nHybrid Theory, Linkin Park's debut album featuring classic hit singles  \\r\\nCrawling and In The End, is free on Google Play for a limited time.*\\r\\nGet it free\\r\\n\\r\\n\\r\\n\\r\\nCan't-miss free + 99¢ albums\\r\\nSee all\\r\\n\\r\\n\\r\\n\\r\\nNine Track Mind\\r\\n\\r\\n\\r\\n\\r\\n\\r\\nNine Track Mind\\r\\n\\r\\nCharlie Puth\\r\\n\\r\\n\\r\\nGet it now\\r\\n\\r\\n\\r\\n\\r\\nIslah\\r\\n\\r\\n\\r\\n\\r\\n\\r\\nIslah\\r\\n\\r\\nKevin Gates\\r\\n\\r\\n\\r\\nGet it now\\r\\n\\r\\n\\r\\n\\r\\nDelilah\\r\\n\\r\\n\\r\\n\\r\\n\\r\\nDelilah\\r\\n\\r\\nAnderson East\\r\\n\\r\\n\\r\\nGet it now\\r\\n\\r\\n\\r\\n\\r\\n\\r\\n© 2016 Google Inc. 1600 Amphitheatre Parkway, Mountain View, CA 94043, USA\\r\\n\\r\\nThis message was sent to simiusmathematicus@gmail.com because you asked us  \\r\\nto keep you up to date with the latest news and offers from Google Play. If  \\r\\nyou do not wish to receive these emails, please unsubscribe here. You can  \\r\\nalso change your email preferences on Google Play by logging in at  \\r\\nhttps://play.google.com/settings.\\r\\n\\r\\n* Downloading free music, TV shows, and certain free books and magazines is  \\r\\nstill considered a transaction, even when the price of the item is $0.00.  \\r\\nIf you don't have a credit card associated with your Google Payments  \\r\\naccount or if you haven't set up a Google Payments account, you'll be  \\r\\nprompted to add a new payment method upon downloading some types of content  \\r\\non Google Play.\\r\\n\\r\\nPromotion valid while supplies last. Promotion is not transferable, cannot  \\r\\nbe sold or bartered, has no cash value, and is non-refundable. Promotion is  \\r\\nvoid where prohibited by law. Requires Google Play account. Offer good for  \\r\\nusers 13+ in United States only. Compatible internet connected devices  \\r\\nrequired. Google reserves the right to terminate or modify this promotion.\\r\\n\\r\\n\\r\\n\\r\\n\\r\\n\""
      ]
     },
     "execution_count": 51,
     "metadata": {},
     "output_type": "execute_result"
    }
   ],
   "source": [
    "message.text_part.get_payload().decode('UTF-8')"
   ]
  },
  {
   "cell_type": "code",
   "execution_count": 56,
   "metadata": {
    "collapsed": false
   },
   "outputs": [
    {
     "data": {
      "text/plain": [
       "[((b'\\\\HasNoChildren',), b'/', 'INBOX'),\n",
       " ((b'\\\\HasNoChildren',), b'/', 'Notes'),\n",
       " ((b'\\\\HasNoChildren',), b'/', 'Personal'),\n",
       " ((b'\\\\HasNoChildren',), b'/', 'Receipts'),\n",
       " ((b'\\\\HasNoChildren',), b'/', 'Travel'),\n",
       " ((b'\\\\HasNoChildren',), b'/', 'Work'),\n",
       " ((b'\\\\HasChildren', b'\\\\Noselect'), b'/', '[Gmail]'),\n",
       " ((b'\\\\All', b'\\\\HasNoChildren'), b'/', '[Gmail]/All Mail'),\n",
       " ((b'\\\\Drafts', b'\\\\HasNoChildren'), b'/', '[Gmail]/Drafts'),\n",
       " ((b'\\\\HasNoChildren', b'\\\\Important'), b'/', '[Gmail]/Important'),\n",
       " ((b'\\\\HasNoChildren', b'\\\\Sent'), b'/', '[Gmail]/Sent Mail'),\n",
       " ((b'\\\\HasNoChildren', b'\\\\Junk'), b'/', '[Gmail]/Spam'),\n",
       " ((b'\\\\Flagged', b'\\\\HasNoChildren'), b'/', '[Gmail]/Starred'),\n",
       " ((b'\\\\HasNoChildren', b'\\\\Trash'), b'/', '[Gmail]/Trash')]"
      ]
     },
     "execution_count": 56,
     "metadata": {},
     "output_type": "execute_result"
    }
   ],
   "source": [
    "conn.list_folders()"
   ]
  },
  {
   "cell_type": "code",
   "execution_count": null,
   "metadata": {
    "collapsed": true
   },
   "outputs": [],
   "source": []
  }
 ],
 "metadata": {
  "kernelspec": {
   "display_name": "Python 3",
   "language": "python",
   "name": "python3"
  },
  "language_info": {
   "codemirror_mode": {
    "name": "ipython",
    "version": 3
   },
   "file_extension": ".py",
   "mimetype": "text/x-python",
   "name": "python",
   "nbconvert_exporter": "python",
   "pygments_lexer": "ipython3",
   "version": "3.5.1"
  }
 },
 "nbformat": 4,
 "nbformat_minor": 0
}
