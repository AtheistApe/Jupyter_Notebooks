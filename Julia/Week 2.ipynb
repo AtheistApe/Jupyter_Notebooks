{
 "cells": [
  {
   "cell_type": "markdown",
   "metadata": {},
   "source": [
    "# Week 2\n",
    "\n",
    "Notebook content based on the Coursera online course \"Julia Scientific Programming\"\n",
    "\n",
    "This week we will learn how to load and analyze a data set. The data set we will use will be data about the spread of the Ebola virus between the years 2014 and 2015."
   ]
  },
  {
   "cell_type": "markdown",
   "metadata": {},
   "source": [
    "## Reading in data and reformatting data"
   ]
  },
  {
   "cell_type": "code",
   "execution_count": 73,
   "metadata": {
    "collapsed": false
   },
   "outputs": [
    {
     "data": {
      "text/plain": [
       "54×10 Array{Any,2}:\n",
       " \"11/25/15\"  28637  11314  3804  2536  …  14122     3955     \"[note 1][13]\"\n",
       " \"11/18/15\"  28634  11314  3804  2536     14122     3955     \"[note 2][14]\"\n",
       " \"11/11/15\"  28635  11314  3805  2536     14122     3955     \"[note 3][15]\"\n",
       " \"11/04/15\"  28607  11314  3810  2536     14089     3955     \"[note 4][16]\"\n",
       " \"10/25/15\"  28539  11298  3806  2535     14061     3955     \"[note 5][17]\"\n",
       " \"10/18/15\"  28476  11298  3803  2535  …  14001     3955     \"[18]\"        \n",
       " \"10/11/15\"  28454  11297  3800  2534     13982     3955     \"[note 6][19]\"\n",
       " \"09/27/15\"  28388  11296  3805  2533     13911     3955     \"[20]\"        \n",
       " \"09/20/15\"  28295  11295  3800  2532     13823     3955     \"[21]\"        \n",
       " \"09/13/15\"  28220  11291  3792  2530     13756     3953     \"[22]\"        \n",
       " \"09/06/15\"  28147  11291  3792  2530  …  13683     3953     \"[23]\"        \n",
       " \"08/30/15\"  28073  11290  3792  2529     13609     3953     \"[24]\"        \n",
       " \"08/16/15\"  27952  11284  3786  2524     13494     3952     \"[25]\"        \n",
       " ⋮                                     ⋱                                   \n",
       " \"08/09/14\"   1835   1011   506   373       730      315     \"[66]\"        \n",
       " \"07/30/14\"   1437    825   472   346       574      252     \"[67]\"        \n",
       " \"07/23/14\"   1201    672   427   319       525      224     \"[68]\"        \n",
       " \"07/14/14\"    982    613   411   310  …    397      197     \"[69]\"        \n",
       " \"07/02/14\"    779    481   412   305       252      101     \"[70]\"        \n",
       " \"06/17/14\"    528    337   398   264        97       49     \"[71]\"        \n",
       " \"05/27/14\"    309    202   281   186        16        5     \"[72]\"        \n",
       " \"05/12/14\"    260    182   248   171          \"–\"      \"–\"  \"[73][74]\"    \n",
       " \"05/01/14\"    239    160   226   149  …       \"-\"      \"-\"  \"[75]\"        \n",
       " \"04/14/14\"    176    110   168   108          \"–\"      \"–\"  \"[76]\"        \n",
       " \"03/31/14\"    130     82   122    80          \"–\"      \"–\"  \"[77]\"        \n",
       " \"03/22/14\"     49     29    49    29          \"–\"      \"–\"  \"[78]\"        "
      ]
     },
     "execution_count": 73,
     "metadata": {},
     "output_type": "execute_result"
    }
   ],
   "source": [
    "#=\n",
    "The data is stored in the file \"wikipediaEVDraw.csv\" in the current directory (the directory of this notebook file). We read the data into Julia using the \"readdlm\" (\"read delimited file\") indicating the delimiter between fields as a parameter to the function.\n",
    "=#\n",
    "\n",
    "wikiEVDraw = readdlm(\"wikipediaEVDraw.csv\", ',')"
   ]
  },
  {
   "cell_type": "code",
   "execution_count": 74,
   "metadata": {
    "collapsed": false
   },
   "outputs": [
    {
     "name": "stdout",
     "output_type": "stream",
     "text": [
      "11/25/15\n"
     ]
    },
    {
     "data": {
      "text/plain": [
       "2015-11-25T00:00:00"
      ]
     },
     "execution_count": 74,
     "metadata": {},
     "output_type": "execute_result"
    }
   ],
   "source": [
    "#=\n",
    "We see that the first column of our \"wikiEVDraw\" data, representing dates at which the data were reported, are of type String; We would like them to be of Date type, so need to convert them.\n",
    "\n",
    "To do the conversion, we use the 'DateTime' function, passing in the date string to be converted and a string indicating the format of the date string.\n",
    "=#\n",
    "\n",
    "# Example:\n",
    "\n",
    "println(wikiEVDraw[1,1])\n",
    "\n",
    "DateTime(wikiEVDraw[1,1], \"mm/dd/yy\") + Dates.Year(2000)"
   ]
  },
  {
   "cell_type": "markdown",
   "metadata": {},
   "source": [
    "To convert our date strings into Date objects, we will use a \"for loop\""
   ]
  },
  {
   "cell_type": "code",
   "execution_count": 75,
   "metadata": {
    "collapsed": false
   },
   "outputs": [
    {
     "name": "stdout",
     "output_type": "stream",
     "text": [
      "num is now 3\n",
      "num is now 4\n",
      "num is now 5\n",
      "num is now 6\n",
      "num is now 7\n"
     ]
    }
   ],
   "source": [
    "# Example \"for loop\"\n",
    "\n",
    "for num = 3:7\n",
    "    println(\"num is now $num\")\n",
    "end"
   ]
  },
  {
   "cell_type": "code",
   "execution_count": 76,
   "metadata": {
    "collapsed": false
   },
   "outputs": [
    {
     "name": "stdout",
     "output_type": "stream",
     "text": [
      "The value of x is now 23\n",
      "The value of x is now my name is not a name\n",
      "The value of x is now ℵ\n"
     ]
    }
   ],
   "source": [
    "# Example \"for loop\"\n",
    "\n",
    "values = [23, \"my name is not a name\", 'ℵ']\n",
    "\n",
    "for x in values  # a loop can iterate over an array\n",
    "    println(\"The value of x is now $x\")\n",
    "end"
   ]
  },
  {
   "cell_type": "code",
   "execution_count": 77,
   "metadata": {
    "collapsed": false
   },
   "outputs": [
    {
     "data": {
      "text/plain": [
       "54-element Array{Any,1}:\n",
       " \"11/25/15\"\n",
       " \"11/18/15\"\n",
       " \"11/11/15\"\n",
       " \"11/04/15\"\n",
       " \"10/25/15\"\n",
       " \"10/18/15\"\n",
       " \"10/11/15\"\n",
       " \"09/27/15\"\n",
       " \"09/20/15\"\n",
       " \"09/13/15\"\n",
       " \"09/06/15\"\n",
       " \"08/30/15\"\n",
       " \"08/16/15\"\n",
       " ⋮         \n",
       " \"08/09/14\"\n",
       " \"07/30/14\"\n",
       " \"07/23/14\"\n",
       " \"07/14/14\"\n",
       " \"07/02/14\"\n",
       " \"06/17/14\"\n",
       " \"05/27/14\"\n",
       " \"05/12/14\"\n",
       " \"05/01/14\"\n",
       " \"04/14/14\"\n",
       " \"03/31/14\"\n",
       " \"03/22/14\""
      ]
     },
     "execution_count": 77,
     "metadata": {},
     "output_type": "execute_result"
    }
   ],
   "source": [
    "#=\n",
    "Create an array of data in column 1 of the \"wikiEVDraw\" data\n",
    "=#\n",
    "\n",
    "col1 = wikiEVDraw[:, 1]"
   ]
  },
  {
   "cell_type": "code",
   "execution_count": 78,
   "metadata": {
    "collapsed": false
   },
   "outputs": [],
   "source": [
    "#=\n",
    "Loop through each element (date string) in the \"col1\" array and convert it to a Date object\n",
    "=#\n",
    "\n",
    "for i = 1:length(col1)\n",
    "    col1[i] = DateTime(col1[i], \"mm/dd/yy\") + Dates.Year(2000)\n",
    "end"
   ]
  },
  {
   "cell_type": "code",
   "execution_count": 79,
   "metadata": {
    "collapsed": false
   },
   "outputs": [
    {
     "data": {
      "text/plain": [
       "10-element Array{Any,1}:\n",
       " 2015-11-25T00:00:00\n",
       " 2015-11-18T00:00:00\n",
       " 2015-11-11T00:00:00\n",
       " 2015-11-04T00:00:00\n",
       " 2015-10-25T00:00:00\n",
       " 2015-10-18T00:00:00\n",
       " 2015-10-11T00:00:00\n",
       " 2015-09-27T00:00:00\n",
       " 2015-09-20T00:00:00\n",
       " 2015-09-13T00:00:00"
      ]
     },
     "execution_count": 79,
     "metadata": {},
     "output_type": "execute_result"
    }
   ],
   "source": [
    "#=\n",
    "Examine the converted date strings (now Date objects) in the \"col1\" array\n",
    "=#\n",
    "\n",
    "col1[1:10]"
   ]
  },
  {
   "cell_type": "markdown",
   "metadata": {},
   "source": [
    "Next we want to measure the date from the start of the epidemic on March 22, 2014. We will use the \"Dates.datetime2rata\" function to do this.\n",
    "\n",
    "This function returns the number of days from Jan 1, 0001 to the Date object passed in as an argument to the function."
   ]
  },
  {
   "cell_type": "code",
   "execution_count": 80,
   "metadata": {
    "collapsed": false
   },
   "outputs": [
    {
     "data": {
      "text/plain": [
       "735927"
      ]
     },
     "execution_count": 80,
     "metadata": {},
     "output_type": "execute_result"
    }
   ],
   "source": [
    "Dates.datetime2rata(col1[1])"
   ]
  },
  {
   "cell_type": "code",
   "execution_count": 81,
   "metadata": {
    "collapsed": false
   },
   "outputs": [],
   "source": [
    "#=\n",
    "The function \"dayssincemar22\" returns the number of days between the input Date object and March 22, 2014 (the date in the Date array \"col1\" at col1[54]). The date March 22, 2014 is the date at which ebola outbreak data started to be recorded.\n",
    "\n",
    "the array \"epidays\" holds the number of days since March 22, 2014 for the corresponding dates stored in the \"col1\" array; epidays[i] is the number of days since March 22, 2014 for the col1[i] entry.\n",
    "=#\n",
    "\n",
    "\n",
    "dayssincemar22(x) = Dates.datetime2rata(x) - Dates.datetime2rata(col1[54])\n",
    "\n",
    "epidays = Array{Int64}(54)\n",
    "for i = 1:54\n",
    "    epidays[i] = dayssincemar22(col1[i])\n",
    "end"
   ]
  },
  {
   "cell_type": "code",
   "execution_count": 82,
   "metadata": {
    "collapsed": false
   },
   "outputs": [
    {
     "name": "stdout",
     "output_type": "stream",
     "text": [
      "date: 2015-11-25T00:00:00, days since outbreak: 613\n",
      "date: 2015-11-18T00:00:00, days since outbreak: 606\n",
      "date: 2015-11-11T00:00:00, days since outbreak: 599\n",
      "date: 2015-11-04T00:00:00, days since outbreak: 592\n",
      "date: 2015-10-25T00:00:00, days since outbreak: 582\n"
     ]
    }
   ],
   "source": [
    "for i = 1:5\n",
    "    println(\"date: $(col1[i]), days since outbreak: $(epidays[i])\")\n",
    "end"
   ]
  },
  {
   "cell_type": "markdown",
   "metadata": {},
   "source": [
    "Next we replace column 1 of our data array \"wikiEVDraw\" (which currently contains Date objects) with the \"epidays\" array (which contains the days since March 22, 2014). We then save the result into a new array, so as to preserve the original data."
   ]
  },
  {
   "cell_type": "code",
   "execution_count": 83,
   "metadata": {
    "collapsed": true
   },
   "outputs": [],
   "source": [
    "wikiEVDraw[:, 1] = epidays\n",
    "\n",
    "# The ',' parameter is needed since the default is 'tab'\n",
    "writedlm(\"wikipediaEVDdatesconverted.csv\", wikiEVDraw, ',')"
   ]
  },
  {
   "cell_type": "code",
   "execution_count": 84,
   "metadata": {
    "collapsed": false,
    "scrolled": true
   },
   "outputs": [
    {
     "data": {
      "text/plain": [
       "54×10 Array{Any,2}:\n",
       " 613  28637  11314  3804  2536  …  14122     3955     \"[note 1][13]\"\n",
       " 606  28634  11314  3804  2536     14122     3955     \"[note 2][14]\"\n",
       " 599  28635  11314  3805  2536     14122     3955     \"[note 3][15]\"\n",
       " 592  28607  11314  3810  2536     14089     3955     \"[note 4][16]\"\n",
       " 582  28539  11298  3806  2535     14061     3955     \"[note 5][17]\"\n",
       " 575  28476  11298  3803  2535  …  14001     3955     \"[18]\"        \n",
       " 568  28454  11297  3800  2534     13982     3955     \"[note 6][19]\"\n",
       " 554  28388  11296  3805  2533     13911     3955     \"[20]\"        \n",
       " 547  28295  11295  3800  2532     13823     3955     \"[21]\"        \n",
       " 540  28220  11291  3792  2530     13756     3953     \"[22]\"        \n",
       " 533  28147  11291  3792  2530  …  13683     3953     \"[23]\"        \n",
       " 526  28073  11290  3792  2529     13609     3953     \"[24]\"        \n",
       " 512  27952  11284  3786  2524     13494     3952     \"[25]\"        \n",
       "   ⋮                            ⋱                                   \n",
       " 140   1835   1011   506   373       730      315     \"[66]\"        \n",
       " 130   1437    825   472   346       574      252     \"[67]\"        \n",
       " 123   1201    672   427   319       525      224     \"[68]\"        \n",
       " 114    982    613   411   310  …    397      197     \"[69]\"        \n",
       " 102    779    481   412   305       252      101     \"[70]\"        \n",
       "  87    528    337   398   264        97       49     \"[71]\"        \n",
       "  66    309    202   281   186        16        5     \"[72]\"        \n",
       "  51    260    182   248   171          \"–\"      \"–\"  \"[73][74]\"    \n",
       "  40    239    160   226   149  …       \"-\"      \"-\"  \"[75]\"        \n",
       "  23    176    110   168   108          \"–\"      \"–\"  \"[76]\"        \n",
       "   9    130     82   122    80          \"–\"      \"–\"  \"[77]\"        \n",
       "   0     49     29    49    29          \"–\"      \"–\"  \"[78]\"        "
      ]
     },
     "execution_count": 84,
     "metadata": {},
     "output_type": "execute_result"
    }
   ],
   "source": [
    "# Examine the converted data array \"wikiEVDraw\"\n",
    "wikiEVDraw"
   ]
  },
  {
   "cell_type": "markdown",
   "metadata": {},
   "source": [
    "## Plotting data using the \"Plots\" package"
   ]
  },
  {
   "cell_type": "code",
   "execution_count": 85,
   "metadata": {
    "collapsed": false,
    "run_control": {
     "marked": false
    }
   },
   "outputs": [],
   "source": [
    "# Load the \"Plots\" package with \"using\"\n",
    "using Plots"
   ]
  },
  {
   "cell_type": "code",
   "execution_count": 86,
   "metadata": {
    "collapsed": false
   },
   "outputs": [
    {
     "data": {
      "text/plain": [
       "Plots.PyPlotBackend()"
      ]
     },
     "execution_count": 86,
     "metadata": {},
     "output_type": "execute_result"
    }
   ],
   "source": [
    "# Specify the \"pyplot\" backend for the \"Plots\" package\n",
    "pyplot()"
   ]
  },
  {
   "cell_type": "code",
   "execution_count": 87,
   "metadata": {
    "collapsed": false
   },
   "outputs": [
    {
     "data": {
      "image/png": "[encoded data removed]"
     },
     "execution_count": 87,
     "metadata": {},
     "output_type": "execute_result"
    }
   ],
   "source": [
    "# Make a plot using data from array \"EVData\"\n",
    "\n",
    "EVData = readdlm(\"wikipediaEVDdatesconverted.csv\", ',')\n",
    "epidays = EVData[:, 1] # ':' means all entries in all rows for the specified column\n",
    "allcases = EVData[:, 2]\n",
    "\n",
    "plot(epidays, allcases)"
   ]
  },
  {
   "cell_type": "code",
   "execution_count": 88,
   "metadata": {
    "collapsed": false
   },
   "outputs": [
    {
     "data": {
      "image/png": "[encoded data removed]"
     },
     "execution_count": 88,
     "metadata": {},
     "output_type": "execute_result"
    }
   ],
   "source": [
    "# Change the format of the plot using keyword arguments\n",
    "plot(epidays, allcases, linetype = :scatter, marker = :diamond)"
   ]
  },
  {
   "cell_type": "code",
   "execution_count": 89,
   "metadata": {
    "collapsed": false,
    "scrolled": true
   },
   "outputs": [
    {
     "data": {
      "image/png": "[encoded data removed]"
     },
     "execution_count": 89,
     "metadata": {},
     "output_type": "execute_result"
    }
   ],
   "source": [
    "#= Next let's add a title, labels to the axes, tweak the marker, add a light curve through the data and remove the grid =#\n",
    "\n",
    "plot(epidays, allcases,\n",
    "title       = \"West African EVD epidemic, total cases\",\n",
    "xlabel      = \"Days since 22 March 2014\",\n",
    "ylabel      = \"Total cases to date (three countries)\",\n",
    "marker      = (:diamond, :red, 8),\n",
    "line        = (:path, :dot, :grey),\n",
    "legend      = false,\n",
    "grid        = false)"
   ]
  },
  {
   "cell_type": "code",
   "execution_count": 90,
   "metadata": {
    "collapsed": true
   },
   "outputs": [],
   "source": [
    "# Save the current plot in different formats using the \"savefig\" function\n",
    "\n",
    "savefig(\"WAfricanEVD_noformatspecified\") # no extension, saved as .png\n",
    "savefig(\"WAfricanEVD.pdf\")\n",
    "savefig(\"WAfricanEVD.png\")"
   ]
  },
  {
   "cell_type": "markdown",
   "metadata": {},
   "source": [
    "## Plotting multiple curves\n",
    "\n",
    "Some of the data in our ebola dataset is missing (see below), so we will need a way of handling these situations. We will see one way of doing this below using \"if\" statements and \"for\" loops.\n",
    "\n",
    "    87  528  337  398   264   97   49   \"[71]\"        \n",
    "    66  309  202  281   186   16    5   \"[72]\"        \n",
    "    51  260  182  248   171   \"–\"  \"–\"  \"[73][74]\"    \n",
    "    40  239  160  226   149   \"-\"  \"-\"  \"[75]\"        \n",
    "    23  176  110  168   108   \"–\"  \"–\"  \"[76]\"        \n",
    "    9   130   82  122    80   \"–\"  \"–\"  \"[77]\"        \n",
    "    0    49   29   49    29   \"–\"  \"–\"  \"[78]\"        "
   ]
  },
  {
   "cell_type": "code",
   "execution_count": 91,
   "metadata": {
    "collapsed": false
   },
   "outputs": [
    {
     "name": "stdout",
     "output_type": "stream",
     "text": [
      "'a' now has the value 0.04649049954775797\n"
     ]
    }
   ],
   "source": [
    "# Example of using an \"if\" statement\n",
    "\n",
    "a = rand() # Assign a random number between 0 and 1 to \"a\"\n",
    "\n",
    "println(\"'a' now has the value $a\")\n",
    "if a > 0.5\n",
    "    println(\"this is quite a large value\")\n",
    "end"
   ]
  },
  {
   "cell_type": "code",
   "execution_count": 92,
   "metadata": {
    "collapsed": false
   },
   "outputs": [
    {
     "name": "stdout",
     "output_type": "stream",
     "text": [
      "'a' now has the value 0.9837656260562435\n",
      "this is quite a large value\n",
      "'a' now has the value 0.39515591907582337\n",
      "'a' now has the value 0.3656838154270161\n",
      "'a' now has the value 0.6764442404928501\n",
      "this is quite a large value\n",
      "'a' now has the value 0.7724159940138966\n",
      "this is quite a large value\n",
      "'a' now has the value 0.6822794293617316\n",
      "this is quite a large value\n",
      "'a' now has the value 0.046191801411929356\n",
      "'a' now has the value 0.4178876298018783\n"
     ]
    }
   ],
   "source": [
    "# Using the previous code in a \"for\" loop\n",
    "\n",
    "for k = 1:8\n",
    "    a = rand()\n",
    "    println(\"'a' now has the value $a\")\n",
    "    if a > 0.5\n",
    "        println(\"this is quite a large value\")\n",
    "    end\n",
    "end"
   ]
  },
  {
   "cell_type": "markdown",
   "metadata": {},
   "source": [
    "We will loop over the data values, testing whether the data values can be read as a number using the \"isnumber()\" function. If \"isnumber(elem)\" evaluates to \"false\", we will replace \"elem\" with 0 (we could also use \"NaN\").\n",
    "\n",
    "The function \"isnumber()\" requires a string as argument, so we will convert its arguments into strings using the \"string()\" function."
   ]
  },
  {
   "cell_type": "code",
   "execution_count": 93,
   "metadata": {},
   "outputs": [
    {
     "data": {
      "text/plain": [
       "true"
      ]
     },
     "execution_count": 93,
     "metadata": {},
     "output_type": "execute_result"
    }
   ],
   "source": [
    "re = r\">=(\\d)\\,(\\d+)\"\n",
    "ismatch(re,\">=2,345\")"
   ]
  },
  {
   "cell_type": "code",
   "execution_count": 99,
   "metadata": {},
   "outputs": [
    {
     "data": {
      "text/plain": [
       "false"
      ]
     },
     "execution_count": 99,
     "metadata": {},
     "output_type": "execute_result"
    }
   ],
   "source": [
    "all(isnumber,EVData[27,6])"
   ]
  },
  {
   "cell_type": "code",
   "execution_count": 95,
   "metadata": {
    "collapsed": false
   },
   "outputs": [],
   "source": [
    "#=\n",
    "Some of the data in the EVData array are of the form \"≥2,345\" and \"-\" where only estimates were possible or data wasn't collected, respectively. For the first type we want to replace the \"≥2,345\" with \"2345\" and for the second type we want to replace \"-\" with 0. We use regular expression matching to handle the first case; Anything else will get replaced with 0.\n",
    "=#\n",
    "\n",
    "re = r\"≥(\\d)\\,(\\d+)\"\n",
    "rows, cols = size(EVData)\n",
    "for j = 1:cols\n",
    "    for i = 1:rows # This order goes down one column at a time\n",
    "        if all(isnumber, string(EVData[i,j]))\n",
    "            if ismatch(re, string(EVData[i,j]))\n",
    "                m = match(re, string(EVData[i,j]))\n",
    "                println(m)\n",
    "#                 EVData[i,j] = parse(\"$(m.captures[1])$(m.captures[2])\")\n",
    "            else\n",
    "#                 EVData[i,j] = 0\n",
    "            end\n",
    "        end\n",
    "    end\n",
    "end"
   ]
  },
  {
   "cell_type": "code",
   "execution_count": 100,
   "metadata": {},
   "outputs": [
    {
     "name": "stdout",
     "output_type": "stream",
     "text": [
      "search: \u001b[1ma\u001b[22m\u001b[1ml\u001b[22m\u001b[1ml\u001b[22m \u001b[1ma\u001b[22m\u001b[1ml\u001b[22m\u001b[1ml\u001b[22m! \u001b[1ma\u001b[22m\u001b[1ml\u001b[22m\u001b[1ml\u001b[22munique @\u001b[1ma\u001b[22m\u001b[1ml\u001b[22m\u001b[1ml\u001b[22mocated cc\u001b[1ma\u001b[22m\u001b[1ml\u001b[22m\u001b[1ml\u001b[22m fin\u001b[1ma\u001b[22m\u001b[1ml\u001b[22m\u001b[1ml\u001b[22my show\u001b[1ma\u001b[22m\u001b[1ml\u001b[22m\u001b[1ml\u001b[22m close\u001b[1ma\u001b[22m\u001b[1ml\u001b[22m\u001b[1ml\u001b[22m Union\u001b[1mA\u001b[22m\u001b[1ml\u001b[22m\u001b[1ml\u001b[22m\n",
      "\n"
     ]
    },
    {
     "data": {
      "text/markdown": [
       "```\n",
       "all(itr) -> Bool\n",
       "```\n",
       "\n",
       "Test whether all elements of a boolean collection are `true`, returning `false` as soon as the first `false` value in `itr` is encountered (short-circuiting).\n",
       "\n",
       "```jldoctest\n",
       "julia> a = [true,false,false,true]\n",
       "4-element Array{Bool,1}:\n",
       "  true\n",
       " false\n",
       " false\n",
       "  true\n",
       "\n",
       "julia> all(a)\n",
       "false\n",
       "\n",
       "julia> all((println(i); v) for (i, v) in enumerate(a))\n",
       "1\n",
       "2\n",
       "false\n",
       "```\n",
       "\n",
       "```\n",
       "all(p, itr) -> Bool\n",
       "```\n",
       "\n",
       "Determine whether predicate `p` returns `true` for all elements of `itr`, returning `false` as soon as the first item in `itr` for which `p` returns `false` is encountered (short-circuiting).\n",
       "\n",
       "```jldoctest\n",
       "julia> all(i->(4<=i<=6), [4,5,6])\n",
       "true\n",
       "\n",
       "julia> all(i -> (println(i); i < 3), 1:10)\n",
       "1\n",
       "2\n",
       "3\n",
       "false\n",
       "```\n",
       "\n",
       "```\n",
       "all(A, dims)\n",
       "```\n",
       "\n",
       "Test whether all values along the given dimensions of an array are `true`.\n",
       "\n",
       "```jldoctest\n",
       "julia> A = [true false; true true]\n",
       "2×2 Array{Bool,2}:\n",
       " true  false\n",
       " true   true\n",
       "\n",
       "julia> all(A, 1)\n",
       "1×2 Array{Bool,2}:\n",
       " true  false\n",
       "\n",
       "julia> all(A, 2)\n",
       "2×1 Array{Bool,2}:\n",
       " false\n",
       "  true\n",
       "```\n"
      ],
      "text/plain": [
       "```\n",
       "all(itr) -> Bool\n",
       "```\n",
       "\n",
       "Test whether all elements of a boolean collection are `true`, returning `false` as soon as the first `false` value in `itr` is encountered (short-circuiting).\n",
       "\n",
       "```jldoctest\n",
       "julia> a = [true,false,false,true]\n",
       "4-element Array{Bool,1}:\n",
       "  true\n",
       " false\n",
       " false\n",
       "  true\n",
       "\n",
       "julia> all(a)\n",
       "false\n",
       "\n",
       "julia> all((println(i); v) for (i, v) in enumerate(a))\n",
       "1\n",
       "2\n",
       "false\n",
       "```\n",
       "\n",
       "```\n",
       "all(p, itr) -> Bool\n",
       "```\n",
       "\n",
       "Determine whether predicate `p` returns `true` for all elements of `itr`, returning `false` as soon as the first item in `itr` for which `p` returns `false` is encountered (short-circuiting).\n",
       "\n",
       "```jldoctest\n",
       "julia> all(i->(4<=i<=6), [4,5,6])\n",
       "true\n",
       "\n",
       "julia> all(i -> (println(i); i < 3), 1:10)\n",
       "1\n",
       "2\n",
       "3\n",
       "false\n",
       "```\n",
       "\n",
       "```\n",
       "all(A, dims)\n",
       "```\n",
       "\n",
       "Test whether all values along the given dimensions of an array are `true`.\n",
       "\n",
       "```jldoctest\n",
       "julia> A = [true false; true true]\n",
       "2×2 Array{Bool,2}:\n",
       " true  false\n",
       " true   true\n",
       "\n",
       "julia> all(A, 1)\n",
       "1×2 Array{Bool,2}:\n",
       " true  false\n",
       "\n",
       "julia> all(A, 2)\n",
       "2×1 Array{Bool,2}:\n",
       " false\n",
       "  true\n",
       "```\n"
      ]
     },
     "execution_count": 100,
     "metadata": {},
     "output_type": "execute_result"
    }
   ],
   "source": [
    "?all"
   ]
  },
  {
   "cell_type": "code",
   "execution_count": null,
   "metadata": {},
   "outputs": [],
   "source": []
  },
  {
   "cell_type": "code",
   "execution_count": 71,
   "metadata": {
    "collapsed": false
   },
   "outputs": [
    {
     "data": {
      "text/plain": [
       "10×10 Array{Any,2}:\n",
       " 0  0  0  0  0  0     0     0     0     \"[68]\"    \n",
       " 0  0  0  0  0  0     0     0     0     \"[69]\"    \n",
       " 0  0  0  0  0  0     0     0     0     \"[70]\"    \n",
       " 0  0  0  0  0  0     0     0     0     \"[71]\"    \n",
       " 0  0  0  0  0  0     0     0     0     \"[72]\"    \n",
       " 0  0  0  0  0  0     0      \"–\"   \"–\"  \"[73][74]\"\n",
       " 0  0  0  0  0  0     0      \"-\"   \"-\"  \"[75]\"    \n",
       " 0  0  0  0  0  0     0      \"–\"   \"–\"  \"[76]\"    \n",
       " 0  0  0  0  0  0     0      \"–\"   \"–\"  \"[77]\"    \n",
       " 0  0  0  0  0   \"–\"   \"–\"   \"–\"   \"–\"  \"[78]\"    "
      ]
     },
     "execution_count": 71,
     "metadata": {},
     "output_type": "execute_result"
    }
   ],
   "source": [
    "# Check the last few rows of EVData to see how it worked\n",
    "\n",
    "EVData[end-9:end, :]"
   ]
  },
  {
   "cell_type": "markdown",
   "metadata": {},
   "source": [
    "Now we plot the data for several different countries on the same plot."
   ]
  },
  {
   "cell_type": "code",
   "execution_count": 72,
   "metadata": {
    "collapsed": false
   },
   "outputs": [
    {
     "data": {
      "image/png": "[encoded data removed]"
     },
     "execution_count": 72,
     "metadata": {},
     "output_type": "execute_result"
    }
   ],
   "source": [
    "# Extract the data\n",
    "epidays = EVData[:,1] # Days since recording began\n",
    "EVDcasesbycountry = EVData[:, [4,6,8]] # All rows, cols 4,6,8\n",
    "\n",
    "using Plots\n",
    "pyplot()\n",
    "plot(epidays, EVDcasesbycountry)"
   ]
  },
  {
   "cell_type": "code",
   "execution_count": 65,
   "metadata": {
    "collapsed": false
   },
   "outputs": [
    {
     "data": {
      "text/html": [
       "<img src=\"data:image/png;base64,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\" />"
      ]
     },
     "execution_count": 65,
     "metadata": {},
     "output_type": "execute_result"
    }
   ],
   "source": [
    "# Customize the plot\n",
    "\n",
    "plot(epidays, EVDcasesbycountry,\n",
    "legend = :topleft,\n",
    "marker = ([:octagon :star7 :square], 7),\n",
    "label  = [\"Guinea\" \"Liberia\" \"Sierra Leone\"],\n",
    "title  = \"EVD in West Africa, epidemic segregated by country\",\n",
    "xlabel = \"Days since March 22, 2014\",\n",
    "ylabel = \"Number of cases to date\",\n",
    "line   = (:scatter))"
   ]
  },
  {
   "cell_type": "code",
   "execution_count": 64,
   "metadata": {
    "collapsed": true
   },
   "outputs": [],
   "source": [
    "savefig(\"WAfricanEVDbycountry.png\")"
   ]
  },
  {
   "cell_type": "code",
   "execution_count": null,
   "metadata": {
    "collapsed": true
   },
   "outputs": [],
   "source": []
  }
 ],
 "metadata": {
  "hide_input": false,
  "kernelspec": {
   "display_name": "Julia 0.6.0",
   "language": "julia",
   "name": "julia-0.6"
  },
  "language_info": {
   "file_extension": ".jl",
   "mimetype": "application/julia",
   "name": "julia",
   "version": "0.6.0"
  },
  "latex_envs": {
   "bibliofile": "biblio.bib",
   "cite_by": "apalike",
   "current_citInitial": 1,
   "eqLabelWithNumbers": true,
   "eqNumInitial": 0
  }
 },
 "nbformat": 4,
 "nbformat_minor": 2
}
