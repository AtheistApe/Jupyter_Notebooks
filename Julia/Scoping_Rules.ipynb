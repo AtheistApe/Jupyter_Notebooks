{
 "cells": [
  {
   "cell_type": "markdown",
   "metadata": {},
   "source": [
    "# Scope of variables"
   ]
  },
  {
   "cell_type": "markdown",
   "metadata": {},
   "source": [
    "## Global scope\n",
    "\n",
    "Each module (\"namespace\") has its own separate global scope. A module can bring variables of other modules into their scope through the \"using\" or \"import\" statements."
   ]
  },
  {
   "cell_type": "markdown",
   "metadata": {},
   "source": [
    "## Local scope\n",
    "\n",
    "Introduced by most code blocks. A local scope *usually* inherits all the variables from its parent scope (e.g. a containing code block) both for reading and writing.\n",
    "\n",
    "Variables in an inner scope can not be accessed from the parent scope.\n",
    "\n",
    "There are two subtypes of local scope: \"hard\" and \"soft\"."
   ]
  },
  {
   "cell_type": "markdown",
   "metadata": {},
   "source": [
    "#### Examples"
   ]
  },
  {
   "cell_type": "code",
   "execution_count": 7,
   "metadata": {
    "collapsed": false
   },
   "outputs": [
    {
     "data": {
      "text/plain": [
       "10"
      ]
     },
     "execution_count": 7,
     "metadata": {},
     "output_type": "execute_result"
    }
   ],
   "source": [
    "z = 0 # Global scope\n",
    "for i = 1:10\n",
    "    z = i # z inherits from the global scope\n",
    "end\n",
    "\n",
    "z"
   ]
  },
  {
   "cell_type": "code",
   "execution_count": 8,
   "metadata": {
    "collapsed": false
   },
   "outputs": [
    {
     "data": {
      "text/plain": [
       "0"
      ]
     },
     "execution_count": 8,
     "metadata": {},
     "output_type": "execute_result"
    }
   ],
   "source": [
    "z = 0 # Global scope\n",
    "for i = 1:10\n",
    "    local z = i # z forced to be a new local variable; it does not inherit the global z.\n",
    "end\n",
    "\n",
    "z"
   ]
  },
  {
   "cell_type": "markdown",
   "metadata": {},
   "source": [
    "### Soft local scope\n",
    "\n",
    "All variables are inherited from the parent scope unless a variable is specifically marked with the \"local\" keyword.\n",
    "\n",
    "Soft local scopes are introduced by for-loops, while-loops, comprehensions, try-catch-finally blocks and \"let\" blocks"
   ]
  },
  {
   "cell_type": "markdown",
   "metadata": {},
   "source": [
    "#### Examples"
   ]
  },
  {
   "cell_type": "code",
   "execution_count": 2,
   "metadata": {
    "collapsed": false,
    "run_control": {
     "marked": false
    }
   },
   "outputs": [
    {
     "name": "stdout",
     "output_type": "stream",
     "text": [
      "3\n",
      "3\n",
      "3\n",
      "3\n",
      "3\n",
      "3\n",
      "3\n",
      "3\n",
      "3\n",
      "3\n"
     ]
    }
   ],
   "source": [
    "# z = 0 # Global scope\n",
    "for i = 1:10\n",
    "#     if i >= 2\n",
    "#         println(k)\n",
    "#     end\n",
    "    for j = 1:5\n",
    "        k = 3\n",
    "    end\n",
    "    println(k)\n",
    "end"
   ]
  },
  {
   "cell_type": "markdown",
   "metadata": {},
   "source": [
    "### Hard local scope\n",
    "\n",
    "Hard local scopes are introduced by function definitions (all forms) \"type\" and immutable blocks and macro definitions.\n",
    "\n",
    "All variables in the parent scope are inherited unless:\n",
    "\n",
    "* An assignment would result in a modified **global** variable.\n",
    "* A variable is marked with the \"local\" keyword\n",
    "\n",
    "Global variables are only inherited for reading and **not** for writing since writing (assigning) to a global variable would create a new local variable, leaving the global variable value unchanged."
   ]
  },
  {
   "cell_type": "markdown",
   "metadata": {},
   "source": [
    "#### Examples"
   ]
  },
  {
   "cell_type": "code",
   "execution_count": 6,
   "metadata": {
    "collapsed": false
   },
   "outputs": [
    {
     "name": "stdout",
     "output_type": "stream",
     "text": [
      "f(3) = 9, x = 0"
     ]
    }
   ],
   "source": [
    "x = 0 # Global variable\n",
    "function f(x) # The parameter 'x' is local to function 'f'\n",
    "    return x^2\n",
    "end\n",
    "\n",
    "print(\"f(3) = $(f(3)), x = $x\")"
   ]
  },
  {
   "cell_type": "code",
   "execution_count": 7,
   "metadata": {
    "collapsed": false
   },
   "outputs": [
    {
     "name": "stdout",
     "output_type": "stream",
     "text": [
      "x = 0"
     ]
    }
   ],
   "source": [
    "x = 0 # Global variable\n",
    "function f2()\n",
    "    print(\"x = $x\")\n",
    "end\n",
    "\n",
    "f2()"
   ]
  },
  {
   "cell_type": "code",
   "execution_count": null,
   "metadata": {
    "collapsed": true
   },
   "outputs": [],
   "source": []
  }
 ],
 "metadata": {
  "hide_input": false,
  "kernelspec": {
   "display_name": "Julia 0.6.0-pre.alpha",
   "language": "julia",
   "name": "julia-0.6"
  },
  "language_info": {
   "file_extension": ".jl",
   "mimetype": "application/julia",
   "name": "julia",
   "version": "0.6.0"
  },
  "latex_envs": {
   "bibliofile": "biblio.bib",
   "cite_by": "apalike",
   "current_citInitial": 1,
   "eqLabelWithNumbers": true,
   "eqNumInitial": 0
  }
 },
 "nbformat": 4,
 "nbformat_minor": 2
}
