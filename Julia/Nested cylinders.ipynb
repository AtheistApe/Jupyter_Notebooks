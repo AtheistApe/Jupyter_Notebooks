{
 "cells": [
  {
   "cell_type": "code",
   "execution_count": 7,
   "metadata": {},
   "outputs": [
    {
     "data": {
      "text/plain": [
       "cylinders (generic function with 1 method)"
      ]
     },
     "execution_count": 7,
     "metadata": {},
     "output_type": "execute_result"
    }
   ],
   "source": [
    "function cylinders(f,a,b,n,dx)\n",
    "    Δx = (b-a)/n\n",
    "    xmid = [a + (i-0.5)*Δx for i in range(1,n)]\n",
    "    xi = [a + i*Δx for i in range(1,n-1)]\n",
    "    height = f.(xmid)\n",
    "    function cyl(i)\n",
    "        if i == 1\n",
    "            str = \"difference(){\\n\\tcylinder(r=$(xi[1]-dx), h=$(height[i]));\n",
    "            \\n\\tcylinder(r=$(a), h=$(height[i]));\\n}\"\n",
    "        elseif i == n\n",
    "            str = \"difference(){\\n\\tcylinder(r=$(b), h=$(height[n]));\n",
    "            \\n\\tcylinder(r=$(xi[n-1]+dx), h=$(height[n]));\\n}\"\n",
    "        else\n",
    "            str = \"difference(){\\n\\tcylinder(r=$(xi[i]-dx), h=$(height[i]));\n",
    "            \\n\\tcylinder(r=$(xi[i-1]+dx), h=$(height[i]));\\n}\"\n",
    "        end\n",
    "    end\n",
    "    for i in range(2,2,n)\n",
    "        print(cyl(i),\"\\n\\n\")\n",
    "    end\n",
    "end"
   ]
  },
  {
   "cell_type": "code",
   "execution_count": 7,
   "metadata": {},
   "outputs": [
    {
     "name": "stdout",
     "output_type": "stream",
     "text": [
      "difference(){\n",
      "\tcylinder(r=0.24, h=3.99609375);\n",
      "            \n",
      "\tcylinder(r=0, h=3.99609375);\n",
      "}\n",
      "\n",
      "difference(){\n",
      "\tcylinder(r=0.49, h=3.96484375);\n",
      "            \n",
      "\tcylinder(r=0.26, h=3.96484375);\n",
      "}\n",
      "\n",
      "difference(){\n",
      "\tcylinder(r=0.74, h=3.90234375);\n",
      "            \n",
      "\tcylinder(r=0.51, h=3.90234375);\n",
      "}\n",
      "\n",
      "difference(){\n",
      "\tcylinder(r=0.99, h=3.80859375);\n",
      "            \n",
      "\tcylinder(r=0.76, h=3.80859375);\n",
      "}\n",
      "\n",
      "difference(){\n",
      "\tcylinder(r=1.24, h=3.68359375);\n",
      "            \n",
      "\tcylinder(r=1.01, h=3.68359375);\n",
      "}\n",
      "\n",
      "difference(){\n",
      "\tcylinder(r=1.49, h=3.52734375);\n",
      "            \n",
      "\tcylinder(r=1.26, h=3.52734375);\n",
      "}\n",
      "\n",
      "difference(){\n",
      "\tcylinder(r=1.74, h=3.33984375);\n",
      "            \n",
      "\tcylinder(r=1.51, h=3.33984375);\n",
      "}\n",
      "\n",
      "difference(){\n",
      "\tcylinder(r=1.99, h=3.12109375);\n",
      "            \n",
      "\tcylinder(r=1.76, h=3.12109375);\n",
      "}\n",
      "\n",
      "difference(){\n",
      "\tcylinder(r=2.24, h=2.87109375);\n",
      "            \n",
      "\tcylinder(r=2.01, h=2.87109375);\n",
      "}\n",
      "\n",
      "difference(){\n",
      "\tcylinder(r=2.49, h=2.58984375);\n",
      "            \n",
      "\tcylinder(r=2.26, h=2.58984375);\n",
      "}\n",
      "\n",
      "difference(){\n",
      "\tcylinder(r=2.74, h=2.27734375);\n",
      "            \n",
      "\tcylinder(r=2.51, h=2.27734375);\n",
      "}\n",
      "\n",
      "difference(){\n",
      "\tcylinder(r=2.99, h=1.93359375);\n",
      "            \n",
      "\tcylinder(r=2.76, h=1.93359375);\n",
      "}\n",
      "\n",
      "difference(){\n",
      "\tcylinder(r=3.24, h=1.55859375);\n",
      "            \n",
      "\tcylinder(r=3.01, h=1.55859375);\n",
      "}\n",
      "\n",
      "difference(){\n",
      "\tcylinder(r=3.49, h=1.15234375);\n",
      "            \n",
      "\tcylinder(r=3.26, h=1.15234375);\n",
      "}\n",
      "\n",
      "difference(){\n",
      "\tcylinder(r=3.74, h=0.71484375);\n",
      "            \n",
      "\tcylinder(r=3.51, h=0.71484375);\n",
      "}\n",
      "\n",
      "difference(){\n",
      "\tcylinder(r=4, h=0.24609375);\n",
      "            \n",
      "\tcylinder(r=3.76, h=0.24609375);\n",
      "}\n",
      "\n"
     ]
    }
   ],
   "source": [
    "cylinders(x->4 - 0.25*x^2,0,4,16,0.01)"
   ]
  },
  {
   "cell_type": "code",
   "execution_count": 8,
   "metadata": {},
   "outputs": [
    {
     "name": "stdout",
     "output_type": "stream",
     "text": [
      "difference(){\n",
      "\tcylinder(r=0.24, h=0.063720703125);\n",
      "            \n",
      "\tcylinder(r=0.135, h=0.063720703125);\n",
      "}\n",
      "\n",
      "difference(){\n",
      "\tcylinder(r=0.49, h=0.299072265625);\n",
      "            \n",
      "\tcylinder(r=0.385, h=0.299072265625);\n",
      "}\n",
      "\n",
      "difference(){\n",
      "\tcylinder(r=0.74, h=0.620361328125);\n",
      "            \n",
      "\tcylinder(r=0.635, h=0.620361328125);\n",
      "}\n",
      "\n",
      "difference(){\n",
      "\tcylinder(r=0.99, h=0.933837890625);\n",
      "            \n",
      "\tcylinder(r=0.885, h=0.933837890625);\n",
      "}\n",
      "\n",
      "difference(){\n",
      "\tcylinder(r=1.24, h=1.145751953125);\n",
      "            \n",
      "\tcylinder(r=1.135, h=1.145751953125);\n",
      "}\n",
      "\n",
      "difference(){\n",
      "\tcylinder(r=1.49, h=1.162353515625);\n",
      "            \n",
      "\tcylinder(r=1.385, h=1.162353515625);\n",
      "}\n",
      "\n",
      "difference(){\n",
      "\tcylinder(r=1.74, h=0.889892578125);\n",
      "            \n",
      "\tcylinder(r=1.635, h=0.889892578125);\n",
      "}\n",
      "\n",
      "difference(){\n",
      "\tcylinder(r=2, h=0.234619140625);\n",
      "            \n",
      "\tcylinder(r=1.885, h=0.234619140625);\n",
      "}\n",
      "\n"
     ]
    },
    {
     "ename": "LoadError",
     "evalue": "\u001b[91mBoundsError: attempt to access 15-element Array{Float64,1} at index [18]\u001b[39m",
     "output_type": "error",
     "traceback": [
      "\u001b[91mBoundsError: attempt to access 15-element Array{Float64,1} at index [18]\u001b[39m",
      "",
      "Stacktrace:",
      " [1] \u001b[1m(::#cyl#26{Int64,Int64,Int64,Float64,Array{Float64,1},Array{Float64,1}})\u001b[22m\u001b[22m\u001b[1m(\u001b[22m\u001b[22m::Int64\u001b[1m)\u001b[22m\u001b[22m at \u001b[1m./In[7]:14\u001b[22m\u001b[22m",
      " [2] \u001b[1mcylinders\u001b[22m\u001b[22m\u001b[1m(\u001b[22m\u001b[22m::Function, ::Int64, ::Int64, ::Int64, ::Float64\u001b[1m)\u001b[22m\u001b[22m at \u001b[1m./In[7]:19\u001b[22m\u001b[22m",
      " [3] \u001b[1minclude_string\u001b[22m\u001b[22m\u001b[1m(\u001b[22m\u001b[22m::String, ::String\u001b[1m)\u001b[22m\u001b[22m at \u001b[1m./loading.jl:515\u001b[22m\u001b[22m"
     ]
    }
   ],
   "source": [
    "cylinders(x->2x^2-x^3,0,2,16,0.01)"
   ]
  },
  {
   "cell_type": "code",
   "execution_count": 9,
   "metadata": {},
   "outputs": [
    {
     "data": {
      "text/plain": [
       "f (generic function with 1 method)"
      ]
     },
     "execution_count": 9,
     "metadata": {},
     "output_type": "execute_result"
    }
   ],
   "source": [
    "f(x) = 2x^2 - x^3"
   ]
  },
  {
   "cell_type": "code",
   "execution_count": 11,
   "metadata": {},
   "outputs": [
    {
     "data": {
      "text/plain": [
       "32//27"
      ]
     },
     "execution_count": 11,
     "metadata": {},
     "output_type": "execute_result"
    }
   ],
   "source": [
    "f(4//3)"
   ]
  },
  {
   "cell_type": "code",
   "execution_count": 12,
   "metadata": {},
   "outputs": [
    {
     "ename": "LoadError",
     "evalue": "\u001b[91mUndefVarError: solve not defined\u001b[39m",
     "output_type": "error",
     "traceback": [
      "\u001b[91mUndefVarError: solve not defined\u001b[39m",
      "",
      "Stacktrace:",
      " [1] \u001b[1minclude_string\u001b[22m\u001b[22m\u001b[1m(\u001b[22m\u001b[22m::String, ::String\u001b[1m)\u001b[22m\u001b[22m at \u001b[1m./loading.jl:515\u001b[22m\u001b[22m"
     ]
    }
   ],
   "source": [
    "solve(f(x)-1, x)"
   ]
  },
  {
   "cell_type": "code",
   "execution_count": 14,
   "metadata": {
    "collapsed": true
   },
   "outputs": [],
   "source": [
    "using SymPy"
   ]
  },
  {
   "cell_type": "code",
   "execution_count": 15,
   "metadata": {},
   "outputs": [
    {
     "data": {
      "text/plain": [
       "(x, y, z, t)"
      ]
     },
     "execution_count": 15,
     "metadata": {},
     "output_type": "execute_result"
    },
    {
     "name": "stderr",
     "output_type": "stream",
     "text": [
      "WARNING: Compat.UTF8String is deprecated, use String instead.\n",
      "  likely near /Users/gary/.julia/v0.6/IJulia/src/kernel.jl:31\n",
      "WARNING: Compat.UTF8String is deprecated, use String instead.\n",
      "  likely near /Users/gary/.julia/v0.6/IJulia/src/kernel.jl:31\n",
      "WARNING: Compat.UTF8String is deprecated, use String instead.\n",
      "  likely near /Users/gary/.julia/v0.6/IJulia/src/kernel.jl:31\n",
      "in jprint at /Users/gary/.julia/v0.6/SymPy/src/display.jl\n"
     ]
    }
   ],
   "source": [
    "x,y,z,t = Sym(\"x,y,z,t\")"
   ]
  },
  {
   "cell_type": "code",
   "execution_count": 31,
   "metadata": {},
   "outputs": [
    {
     "data": {
      "text/latex": [
       "\\begin{bmatrix}- \\frac{\\sqrt{5}}{2} + \\frac{1}{2}\\\\1\\\\\\frac{1}{2} + \\frac{\\sqrt{5}}{2}\\end{bmatrix}"
      ],
      "text/plain": [
       "3-element Array{SymPy.Sym,1}:\n",
       " -sqrt(5)/2 + 1/2\n",
       "                1\n",
       "  1/2 + sqrt(5)/2"
      ]
     },
     "execution_count": 31,
     "metadata": {},
     "output_type": "execute_result"
    }
   ],
   "source": [
    "solns=sort(solve(f(x)-1,x))"
   ]
  },
  {
   "cell_type": "code",
   "execution_count": 26,
   "metadata": {},
   "outputs": [
    {
     "data": {
      "text/plain": [
       "3-element Array{Float64,1}:\n",
       "  1.0     \n",
       "  1.61803 \n",
       " -0.618034"
      ]
     },
     "execution_count": 26,
     "metadata": {},
     "output_type": "execute_result"
    }
   ],
   "source": [
    "solns"
   ]
  },
  {
   "cell_type": "code",
   "execution_count": 27,
   "metadata": {},
   "outputs": [
    {
     "data": {
      "text/plain": [
       "3-element Array{Float64,1}:\n",
       " -0.618034\n",
       "  1.0     \n",
       "  1.61803 "
      ]
     },
     "execution_count": 27,
     "metadata": {},
     "output_type": "execute_result"
    }
   ],
   "source": [
    "solns=sort(solns)"
   ]
  },
  {
   "cell_type": "code",
   "execution_count": 28,
   "metadata": {},
   "outputs": [
    {
     "data": {
      "text/plain": [
       "3-element Array{Float64,1}:\n",
       " -0.618034\n",
       "  1.0     \n",
       "  1.61803 "
      ]
     },
     "execution_count": 28,
     "metadata": {},
     "output_type": "execute_result"
    }
   ],
   "source": [
    "solns"
   ]
  },
  {
   "cell_type": "code",
   "execution_count": 29,
   "metadata": {},
   "outputs": [
    {
     "data": {
      "text/plain": [
       "1.0"
      ]
     },
     "execution_count": 29,
     "metadata": {},
     "output_type": "execute_result"
    }
   ],
   "source": [
    "R = solns[3]\n",
    "r = solns[2]"
   ]
  },
  {
   "cell_type": "code",
   "execution_count": 30,
   "metadata": {},
   "outputs": [
    {
     "data": {
      "text/plain": [
       "1.618033988749895"
      ]
     },
     "execution_count": 30,
     "metadata": {},
     "output_type": "execute_result"
    }
   ],
   "source": [
    "R"
   ]
  },
  {
   "cell_type": "code",
   "execution_count": 2,
   "metadata": {},
   "outputs": [
    {
     "data": {
      "text/plain": [
       "f (generic function with 1 method)"
      ]
     },
     "execution_count": 2,
     "metadata": {},
     "output_type": "execute_result"
    }
   ],
   "source": [
    "f(x) = 2x^2 - x^3"
   ]
  },
  {
   "cell_type": "code",
   "execution_count": 6,
   "metadata": {},
   "outputs": [
    {
     "data": {
      "text/plain": [
       "11.207424919008842"
      ]
     },
     "execution_count": 6,
     "metadata": {},
     "output_type": "execute_result"
    }
   ],
   "source": [
    "f(4/3)*40/4.23"
   ]
  },
  {
   "cell_type": "code",
   "execution_count": 7,
   "metadata": {},
   "outputs": [
    {
     "data": {
      "text/plain": [
       "1.1851851851851851"
      ]
     },
     "execution_count": 7,
     "metadata": {},
     "output_type": "execute_result"
    }
   ],
   "source": [
    "f(4/3)"
   ]
  },
  {
   "cell_type": "code",
   "execution_count": 8,
   "metadata": {},
   "outputs": [
    {
     "data": {
      "text/plain": [
       "4.30976430976431"
      ]
     },
     "execution_count": 8,
     "metadata": {},
     "output_type": "execute_result"
    }
   ],
   "source": [
    "f(4/3)*40/11"
   ]
  },
  {
   "cell_type": "code",
   "execution_count": 9,
   "metadata": {},
   "outputs": [
    {
     "data": {
      "text/plain": [
       "4.666666666666667"
      ]
     },
     "execution_count": 9,
     "metadata": {},
     "output_type": "execute_result"
    }
   ],
   "source": [
    "56/12"
   ]
  },
  {
   "cell_type": "code",
   "execution_count": null,
   "metadata": {
    "collapsed": true
   },
   "outputs": [],
   "source": []
  }
 ],
 "metadata": {
  "hide_input": false,
  "kernelspec": {
   "display_name": "Julia 0.6.0",
   "language": "julia",
   "name": "julia-0.6"
  },
  "language_info": {
   "file_extension": ".jl",
   "mimetype": "application/julia",
   "name": "julia",
   "version": "0.6.0"
  },
  "latex_envs": {
   "bibliofile": "biblio.bib",
   "cite_by": "apalike",
   "current_citInitial": 1,
   "eqLabelWithNumbers": true,
   "eqNumInitial": 0
  }
 },
 "nbformat": 4,
 "nbformat_minor": 2
}
