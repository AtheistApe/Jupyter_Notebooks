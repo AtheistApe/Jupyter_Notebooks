{
 "cells": [
  {
   "cell_type": "markdown",
   "metadata": {},
   "source": [
    "# Iteration "
   ]
  },
  {
   "cell_type": "markdown",
   "metadata": {},
   "source": [
    "Iteration is key to many scientific computing tasks; Julia has `for` and `while` loops.\n",
    "\n",
    "A block of code (e.g. the body of a `for` loop or of a function) must end with the keyword `end`.\n",
    "It is usually written with 4 spaces of indentation (although this is not actually necessary; indentation is not significant in Julia). "
   ]
  },
  {
   "cell_type": "markdown",
   "metadata": {},
   "source": [
    "## Ranges "
   ]
  },
  {
   "cell_type": "markdown",
   "metadata": {},
   "source": [
    "A common style of `for` loop runs over a *range* of numbers. Julia has a special syntax and types to represent ranges:"
   ]
  },
  {
   "cell_type": "code",
   "execution_count": 1,
   "metadata": {},
   "outputs": [
    {
     "name": "stdout",
     "output_type": "stream",
     "text": [
      "1\n",
      "2\n",
      "3\n",
      "4\n",
      "5\n"
     ]
    }
   ],
   "source": [
    "R = 1:5\n",
    "for i in R\n",
    "    println(i)\n",
    "end"
   ]
  },
  {
   "cell_type": "code",
   "execution_count": 2,
   "metadata": {},
   "outputs": [
    {
     "data": {
      "text/plain": [
       "1:5"
      ]
     },
     "execution_count": 2,
     "metadata": {},
     "output_type": "execute_result"
    }
   ],
   "source": [
    "R = 1:5"
   ]
  },
  {
   "cell_type": "markdown",
   "metadata": {},
   "source": [
    "[1] What is the value of the expression that assigns the range to the variable? What type is the resulting variable? What about if we put floating-point numbers in a range? Guess the syntax to include a different step size."
   ]
  },
  {
   "cell_type": "code",
   "execution_count": 4,
   "metadata": {},
   "outputs": [
    {
     "data": {
      "text/plain": [
       "UnitRange{Int64}"
      ]
     },
     "execution_count": 4,
     "metadata": {},
     "output_type": "execute_result"
    }
   ],
   "source": [
    "typeof(R)"
   ]
  },
  {
   "cell_type": "code",
   "execution_count": 8,
   "metadata": {},
   "outputs": [
    {
     "name": "stdout",
     "output_type": "stream",
     "text": [
      "FloatRange{Float64}\n",
      "3.4\n",
      "4.4\n",
      "5.4\n",
      "6.4\n",
      "7.4\n",
      "8.4\n"
     ]
    }
   ],
   "source": [
    "R_float=3.4:9.18\n",
    "println(typeof(R_float))\n",
    "\n",
    "for f in R_float\n",
    "    println(f)\n",
    "end"
   ]
  },
  {
   "cell_type": "code",
   "execution_count": 12,
   "metadata": {},
   "outputs": [
    {
     "name": "stdout",
     "output_type": "stream",
     "text": [
      "1.0\n",
      "1.25\n",
      "1.5\n",
      "1.75\n",
      "2.0\n",
      "\n",
      "\n",
      "FloatRange{Float64}\n",
      "\n",
      "1.0:0.25:2.0"
     ]
    }
   ],
   "source": [
    "for f in 1:0.25:2\n",
    "    println(f)\n",
    "end\n",
    "println(\"\\n\")\n",
    "print(typeof(1:0.25:2))\n",
    "println(\"\\n\")\n",
    "print(1:0.25:2)"
   ]
  },
  {
   "cell_type": "markdown",
   "metadata": {},
   "source": [
    "These types do not store the numbers that they contain, i.e. they are memory-efficient. In general, Julia tries to be as efficient as possible in this way. They are *iterable*, which means that an [iteration protocol]() is defined for ranges; this is what allows the `for` to work."
   ]
  },
  {
   "cell_type": "markdown",
   "metadata": {},
   "source": [
    "## Vectors "
   ]
  },
  {
   "cell_type": "markdown",
   "metadata": {},
   "source": [
    "If we do in fact require the list of numbers in a range, we can obtain it via"
   ]
  },
  {
   "cell_type": "code",
   "execution_count": 13,
   "metadata": {},
   "outputs": [
    {
     "data": {
      "text/plain": [
       "5-element Array{Int64,1}:\n",
       " 1\n",
       " 2\n",
       " 3\n",
       " 4\n",
       " 5"
      ]
     },
     "execution_count": 13,
     "metadata": {},
     "output_type": "execute_result"
    }
   ],
   "source": [
    "v = collect(1:5)"
   ]
  },
  {
   "cell_type": "code",
   "execution_count": 14,
   "metadata": {},
   "outputs": [
    {
     "data": {
      "text/plain": [
       "Array{Int64,1}"
      ]
     },
     "execution_count": 14,
     "metadata": {},
     "output_type": "execute_result"
    }
   ],
   "source": [
    "typeof(v)"
   ]
  },
  {
   "cell_type": "markdown",
   "metadata": {},
   "source": [
    "[1] The resulting object is a vector. What is its exact type? An alternative way of writing this is `Vector{Int64}`."
   ]
  },
  {
   "cell_type": "markdown",
   "metadata": {},
   "source": [
    "Vectors may be created using square brackets, `[` and `]`:\n",
    "\n",
    "    v = [3, 4, 7]. \n",
    "    \n",
    "They may be iterated over with a `for`; elements are also extracted and set using square brackets:\n",
    "\n",
    "    v[3] = 10"
   ]
  },
  {
   "cell_type": "markdown",
   "metadata": {},
   "source": [
    "[2] Make a function `my_mean` that takes a vector and calculates its mean. [To do this, guess the name of the function that finds the number of elements in a vector and use tab completion to check your guess]. Test it with different inputs. What type does it return? What about for inputs that are complex numbers? Does the function also work for ranges?"
   ]
  },
  {
   "cell_type": "code",
   "execution_count": 15,
   "metadata": {},
   "outputs": [
    {
     "data": {
      "text/plain": [
       "my_mean (generic function with 1 method)"
      ]
     },
     "execution_count": 15,
     "metadata": {},
     "output_type": "execute_result"
    }
   ],
   "source": [
    "function my_mean(vec)\n",
    "    sum(vec)/length(vec)\n",
    "end"
   ]
  },
  {
   "cell_type": "code",
   "execution_count": 10,
   "metadata": {},
   "outputs": [
    {
     "data": {
      "text/plain": [
       "my_print (generic function with 1 method)"
      ]
     },
     "execution_count": 10,
     "metadata": {},
     "output_type": "execute_result"
    }
   ],
   "source": [
    "function my_print(obj)\n",
    "    print(\"$obj\\ttype: $(typeof(obj))\")\n",
    "end"
   ]
  },
  {
   "cell_type": "code",
   "execution_count": 20,
   "metadata": {},
   "outputs": [
    {
     "name": "stdout",
     "output_type": "stream",
     "text": [
      "5.9\ttype: Float64"
     ]
    }
   ],
   "source": [
    "mean1 = my_mean([2, 7.3, 15, -3.6, 8, 5.5, -6, 19])\n",
    "my_print(mean1)"
   ]
  },
  {
   "cell_type": "code",
   "execution_count": 21,
   "metadata": {},
   "outputs": [
    {
     "name": "stdout",
     "output_type": "stream",
     "text": [
      "1.75 + 1.25im\ttype: Complex{Float64}"
     ]
    }
   ],
   "source": [
    "mean2 = my_mean([-2+3im, 5-2im, 1-1im, 3+5im])\n",
    "my_print(mean2)"
   ]
  },
  {
   "cell_type": "code",
   "execution_count": 22,
   "metadata": {},
   "outputs": [
    {
     "name": "stdout",
     "output_type": "stream",
     "text": [
      "14.0\ttype: Float64"
     ]
    }
   ],
   "source": [
    "mean3 = my_mean([5, -3, 7, 18, 21, 33, 17])\n",
    "my_print(mean3)"
   ]
  },
  {
   "cell_type": "code",
   "execution_count": 23,
   "metadata": {},
   "outputs": [
    {
     "name": "stdout",
     "output_type": "stream",
     "text": [
      "3719//4200\ttype: Rational{Int64}"
     ]
    }
   ],
   "source": [
    "mean4 = my_mean([3//5, 2//3, 11//4, -7//8, 9//7])\n",
    "my_print(mean4)"
   ]
  },
  {
   "cell_type": "markdown",
   "metadata": {},
   "source": [
    "## Exercise: Babylonian algorithm "
   ]
  },
  {
   "cell_type": "markdown",
   "metadata": {},
   "source": [
    "The Babylonian algorithm is an efficient way to calculate the square root $\\sqrt{y}$ of a number $y$, given by\n",
    "\n",
    "$$x_{n+1} := \\textstyle \\frac{1}{2} (x_n + \\textstyle \\frac{y}{x_n}).$$\n"
   ]
  },
  {
   "cell_type": "markdown",
   "metadata": {},
   "source": [
    "[1] Implement this in a function that accepts an argument `y`. We can specify that `y` must be real by annotating the argument as\n",
    "\n",
    "    y :: Real\n",
    "\n",
    "[2] What happens if we call the function with an argument that is not real?"
   ]
  },
  {
   "cell_type": "code",
   "execution_count": 4,
   "metadata": {},
   "outputs": [
    {
     "name": "stderr",
     "output_type": "stream",
     "text": [
      "WARNING: Method definition approx_sqrt(Real) in module Main at In[2]:5 overwritten at In[4]:5.\n"
     ]
    },
    {
     "data": {
      "text/plain": [
       "approx_sqrt (generic function with 1 method)"
      ]
     },
     "execution_count": 4,
     "metadata": {},
     "output_type": "execute_result"
    }
   ],
   "source": [
    "# A recursive function that implements the Babylonian algorithm\n",
    "# for finding the square root of an input \"y\".\n",
    "\n",
    "function approx_sqrt(y::Real)\n",
    "    x = 1\n",
    "    function iter(x::Real)\n",
    "        0.5*(x + y/x)\n",
    "    end\n",
    "        \n",
    "    while abs(y-x^2) > 1E-14\n",
    "        x = iter(x)\n",
    "#         println(x)\n",
    "    end\n",
    "    return x\n",
    "end"
   ]
  },
  {
   "cell_type": "code",
   "execution_count": 5,
   "metadata": {},
   "outputs": [
    {
     "data": {
      "text/plain": [
       "1.7728105208558367"
      ]
     },
     "execution_count": 5,
     "metadata": {},
     "output_type": "execute_result"
    }
   ],
   "source": [
    "approx_sqrt(22//7)"
   ]
  },
  {
   "cell_type": "code",
   "execution_count": 6,
   "metadata": {},
   "outputs": [
    {
     "data": {
      "text/plain": [
       "0.0"
      ]
     },
     "execution_count": 6,
     "metadata": {},
     "output_type": "execute_result"
    }
   ],
   "source": [
    "(1.7728105208558367)^2 - 22//7"
   ]
  },
  {
   "cell_type": "code",
   "execution_count": 7,
   "metadata": {},
   "outputs": [
    {
     "data": {
      "text/plain": [
       "4.795831523312719"
      ]
     },
     "execution_count": 7,
     "metadata": {},
     "output_type": "execute_result"
    }
   ],
   "source": [
    "approx_sqrt(23)"
   ]
  },
  {
   "cell_type": "markdown",
   "metadata": {},
   "source": [
    "## Storing results by growing vectors "
   ]
  },
  {
   "cell_type": "markdown",
   "metadata": {},
   "source": [
    "Suppose we now wish to store a list of the values $(x_n)$ generated during the algorithm. For this, we use the *same* vector type. Entries can be added to a one-dimensional vector using the functions `push!` and `append!`."
   ]
  },
  {
   "cell_type": "markdown",
   "metadata": {},
   "source": [
    "[3] Make a vector and work out how `push!` and `append!` work, and how they differ. [You can also use e.g. `?push!` to get the available help/documentation on a given command.]"
   ]
  },
  {
   "cell_type": "code",
   "execution_count": 17,
   "metadata": {},
   "outputs": [
    {
     "data": {
      "text/plain": [
       "1-element Array{Any,1}:\n",
       " 3"
      ]
     },
     "execution_count": 17,
     "metadata": {},
     "output_type": "execute_result"
    }
   ],
   "source": [
    "vec = []\n",
    "\n",
    "push!(vec, 3)"
   ]
  },
  {
   "cell_type": "code",
   "execution_count": 18,
   "metadata": {},
   "outputs": [
    {
     "name": "stdout",
     "output_type": "stream",
     "text": [
      "search: \u001b[1mp\u001b[22m\u001b[1mu\u001b[22m\u001b[1ms\u001b[22m\u001b[1mh\u001b[22m\u001b[1m!\u001b[22m \u001b[1mp\u001b[22m\u001b[1mu\u001b[22m\u001b[1ms\u001b[22m\u001b[1mh\u001b[22mdisplay\n",
      "\n"
     ]
    },
    {
     "data": {
      "text/markdown": [
       "```\n",
       "push!(collection, items...) -> collection\n",
       "```\n",
       "\n",
       "Insert one or more `items` at the end of `collection`.\n",
       "\n",
       "```jldoctest\n",
       "julia> push!([1, 2, 3], 4, 5, 6)\n",
       "6-element Array{Int64,1}:\n",
       " 1\n",
       " 2\n",
       " 3\n",
       " 4\n",
       " 5\n",
       " 6\n",
       "```\n",
       "\n",
       "Use [`append!`](:func:`append!`) to add all the elements of another collection to `collection`. The result of the preceding example is equivalent to `append!([1, 2, 3], [4, 5, 6])`.\n"
      ],
      "text/plain": [
       "```\n",
       "push!(collection, items...) -> collection\n",
       "```\n",
       "\n",
       "Insert one or more `items` at the end of `collection`.\n",
       "\n",
       "```jldoctest\n",
       "julia> push!([1, 2, 3], 4, 5, 6)\n",
       "6-element Array{Int64,1}:\n",
       " 1\n",
       " 2\n",
       " 3\n",
       " 4\n",
       " 5\n",
       " 6\n",
       "```\n",
       "\n",
       "Use [`append!`](:func:`append!`) to add all the elements of another collection to `collection`. The result of the preceding example is equivalent to `append!([1, 2, 3], [4, 5, 6])`.\n"
      ]
     },
     "execution_count": 18,
     "metadata": {},
     "output_type": "execute_result"
    }
   ],
   "source": [
    "?push!"
   ]
  },
  {
   "cell_type": "code",
   "execution_count": 19,
   "metadata": {},
   "outputs": [
    {
     "name": "stdout",
     "output_type": "stream",
     "text": [
      "search: \u001b[1ma\u001b[22m\u001b[1mp\u001b[22m\u001b[1mp\u001b[22m\u001b[1me\u001b[22m\u001b[1mn\u001b[22m\u001b[1md\u001b[22m\u001b[1m!\u001b[22m\n",
      "\n"
     ]
    },
    {
     "data": {
      "text/markdown": [
       "```\n",
       "append!(collection, collection2) -> collection.\n",
       "```\n",
       "\n",
       "Add the elements of `collection2` to the end of `collection`.\n",
       "\n",
       "```jldoctest\n",
       "julia> append!([1],[2,3])\n",
       "3-element Array{Int64,1}:\n",
       " 1\n",
       " 2\n",
       " 3\n",
       "```\n",
       "\n",
       "```jldoctest\n",
       "julia> append!([1, 2, 3], [4, 5, 6])\n",
       "6-element Array{Int64,1}:\n",
       " 1\n",
       " 2\n",
       " 3\n",
       " 4\n",
       " 5\n",
       " 6\n",
       "```\n",
       "\n",
       "Use [`push!`](:func:`push!`) to add individual items to `collection` which are not already themselves in another collection. The result is of the preceding example is equivalent to `push!([1, 2, 3], 4, 5, 6)`.\n"
      ],
      "text/plain": [
       "```\n",
       "append!(collection, collection2) -> collection.\n",
       "```\n",
       "\n",
       "Add the elements of `collection2` to the end of `collection`.\n",
       "\n",
       "```jldoctest\n",
       "julia> append!([1],[2,3])\n",
       "3-element Array{Int64,1}:\n",
       " 1\n",
       " 2\n",
       " 3\n",
       "```\n",
       "\n",
       "```jldoctest\n",
       "julia> append!([1, 2, 3], [4, 5, 6])\n",
       "6-element Array{Int64,1}:\n",
       " 1\n",
       " 2\n",
       " 3\n",
       " 4\n",
       " 5\n",
       " 6\n",
       "```\n",
       "\n",
       "Use [`push!`](:func:`push!`) to add individual items to `collection` which are not already themselves in another collection. The result is of the preceding example is equivalent to `push!([1, 2, 3], 4, 5, 6)`.\n"
      ]
     },
     "execution_count": 19,
     "metadata": {},
     "output_type": "execute_result"
    }
   ],
   "source": [
    "?append!"
   ]
  },
  {
   "cell_type": "code",
   "execution_count": 20,
   "metadata": {},
   "outputs": [
    {
     "data": {
      "text/plain": [
       "4-element Array{Any,1}:\n",
       " 3\n",
       " 2\n",
       " 3\n",
       " 4"
      ]
     },
     "execution_count": 20,
     "metadata": {},
     "output_type": "execute_result"
    }
   ],
   "source": [
    "append!(vec, [2,3,4])"
   ]
  },
  {
   "cell_type": "code",
   "execution_count": 21,
   "metadata": {},
   "outputs": [
    {
     "data": {
      "text/plain": [
       "5-element Array{Any,1}:\n",
       "   3\n",
       "   2\n",
       "   3\n",
       "   4\n",
       " 100"
      ]
     },
     "execution_count": 21,
     "metadata": {},
     "output_type": "execute_result"
    }
   ],
   "source": [
    "push!(vec, 100)"
   ]
  },
  {
   "cell_type": "markdown",
   "metadata": {},
   "source": [
    "[4] Return the list of intermediate results from the Babylonian algorithm, in addition to the final answer. [Julia allows us to return several values from a function, and assign them one by one:\n",
    "\n",
    "    function f(x)\n",
    "        x, x^2   # return the pair x, x^2\n",
    "    end\n",
    "    \n",
    "    y, z = f(3)\n",
    "]"
   ]
  },
  {
   "cell_type": "code",
   "execution_count": 7,
   "metadata": {},
   "outputs": [
    {
     "name": "stderr",
     "output_type": "stream",
     "text": [
      "WARNING: Method definition approx_sqrt_2(Real) in module Main at In[3]:2 overwritten at In[7]:2.\n"
     ]
    },
    {
     "data": {
      "text/plain": [
       "approx_sqrt_2 (generic function with 1 method)"
      ]
     },
     "execution_count": 7,
     "metadata": {},
     "output_type": "execute_result"
    }
   ],
   "source": [
    "function approx_sqrt_2(y::Real)\n",
    "    xs = [1.0]\n",
    "    x = 1\n",
    "    while abs(y - x^2) > 1E-12\n",
    "        x = 0.5*(x + y/x)\n",
    "        push!(xs, x)\n",
    "    end\n",
    "    return xs, x\n",
    "end"
   ]
  },
  {
   "cell_type": "code",
   "execution_count": 8,
   "metadata": {},
   "outputs": [
    {
     "data": {
      "text/plain": [
       "([1.0,412.0,206.999,105.487,56.6446,35.5869,29.3567,28.6956,28.688,28.688,28.688],28.687976575562104)"
      ]
     },
     "execution_count": 8,
     "metadata": {},
     "output_type": "execute_result"
    }
   ],
   "source": [
    "intermediates, approx = approx_sqrt_2(823)"
   ]
  },
  {
   "cell_type": "markdown",
   "metadata": {},
   "source": [
    "[5] What is the type of `f(3)`?   [NB: this has changed in v0.4.]"
   ]
  },
  {
   "cell_type": "code",
   "execution_count": 9,
   "metadata": {},
   "outputs": [
    {
     "data": {
      "text/plain": [
       "Tuple{Array{Float64,1},Float64}"
      ]
     },
     "execution_count": 9,
     "metadata": {},
     "output_type": "execute_result"
    }
   ],
   "source": [
    "typeof(approx_sqrt_2(23))"
   ]
  },
  {
   "cell_type": "markdown",
   "metadata": {},
   "source": [
    "You may worry that growing vectors dynamically using `push!` is expensive. \n",
    "A size for the vector can be suggested using `sizehint`; an alternative is to create a vector of the correct size using `zeros` and fill it using element access. However, `push!` is usually sufficient. \n",
    "\n",
    "[Remember that any concerns about efficiency should be *checked by profiling* rather than guessing: it is often difficult to predict the behaviour of modern compilers and processors.]"
   ]
  },
  {
   "cell_type": "markdown",
   "metadata": {},
   "source": [
    "# Conditionals "
   ]
  },
  {
   "cell_type": "markdown",
   "metadata": {},
   "source": [
    "Conditionals are written using standard C-type boolean operators: `<`, `>`, `<=`, `>=`, `==` (equality), `!=` (not equal).\n",
    "\n",
    "[1] Define a variable `x` to be `3`. What are the value and type of the boolean expressions `x < 3` and `x <= 3`?"
   ]
  },
  {
   "cell_type": "code",
   "execution_count": 15,
   "metadata": {},
   "outputs": [
    {
     "name": "stdout",
     "output_type": "stream",
     "text": [
      "false\ttype: Bool\n",
      "true\ttype: Bool"
     ]
    }
   ],
   "source": [
    "x = 3\n",
    "\n",
    "my_print(x < 3)\n",
    "print(\"\\n\")\n",
    "my_print(x <= 3)"
   ]
  },
  {
   "cell_type": "markdown",
   "metadata": {},
   "source": [
    "They are joined by boolean operators `&&` (and) and `||` (or).\n",
    "\n",
    "The structure of a conditional is\n",
    "\n",
    "    if <CONDITION1> \n",
    "        <DO THIS>\n",
    "        <AND THIS>\n",
    "    \n",
    "    elseif <CONDITION2>\n",
    "        <DO THIS>\n",
    "        \n",
    "    elseif <CONDITION3>\n",
    "        <DO THIS>\n",
    "        \n",
    "    else\n",
    "        <DEFAULT BEHAVIOUR>\n",
    "        \n",
    "    end\n",
    "    \n",
    "Both the `elseif` and `else` are optional, but don't forget the final `end`!"
   ]
  },
  {
   "cell_type": "markdown",
   "metadata": {},
   "source": [
    "[2] Define a function to sample a random number from the discrete distribution taking values $1$, $2$, $3$ and $4$ with probabilities $0.1$, $0.2$, $0.3$ and $0.4$, respectively."
   ]
  },
  {
   "cell_type": "code",
   "execution_count": 18,
   "metadata": {},
   "outputs": [
    {
     "data": {
      "text/plain": [
       "sample (generic function with 1 method)"
      ]
     },
     "execution_count": 18,
     "metadata": {},
     "output_type": "execute_result"
    }
   ],
   "source": [
    "function sample()\n",
    "    values = [1,2,3,4]\n",
    "    r = rand()\n",
    "    if 0 <= r < 0.1\n",
    "        values[1]\n",
    "    elseif 0.1 <= r < 0.3\n",
    "        values[2]\n",
    "    elseif 0.3 <= r < 0.6\n",
    "        values[3]\n",
    "    else\n",
    "        values[4]\n",
    "    end\n",
    "end"
   ]
  },
  {
   "cell_type": "code",
   "execution_count": 35,
   "metadata": {},
   "outputs": [
    {
     "data": {
      "text/plain": [
       "Plots.PyPlotBackend()"
      ]
     },
     "execution_count": 35,
     "metadata": {},
     "output_type": "execute_result"
    }
   ],
   "source": [
    "using Plots\n",
    "pyplot()"
   ]
  },
  {
   "cell_type": "code",
   "execution_count": 47,
   "metadata": {},
   "outputs": [],
   "source": [
    "samples = [sample() for i in 1:100000];"
   ]
  },
  {
   "cell_type": "code",
   "execution_count": 48,
   "metadata": {},
   "outputs": [
    {
     "data": {
      "text/html": [
       "<img src=\"data:image/png;base64,iVBORw0KGgoAAAANSUhEUgAAAlgAAAGQCAYAAAByNR6YAAAABHNCSVQICAgIfAhkiAAAAAlwSFlzAAAPYQAAD2EBqD+naQAAIABJREFUeJzt3X10lPWd///XZO4zyYwrWAUTRQO0FKGiB0lqb/A0Bbd61Foj0t0IK9FaEU6brhaltWmlUrd2vqenaGnF6mK2FPGGPUd3G6uniF1SoU5bK/xcxGOWZJF6SmtmMndJZq7fH7MzMjHe4FzwGbmej3NyGpiYvC+uV6/rnc/7uq5xWZZlCQAAALapMV0AAADA8eYtDdb9998vl8ulrVu3SpJef/11XXjhhZo2bZrOOussbd++vfS1qVRKixcv1tSpUzV9+nQ9/PDDpdfy+bxWrFihpqYmTZ06VevWrSv7OWvWrFFTU5Oampq0evXqo7V9AAAAx5zn8D/09fXp3nvvVXNzc+nvVq1apebmZv3yl7/Url279PnPf16vvvqqvF6v7rrrLvn9fu3bt0+vvvqq5s2bpwsuuEATJkxQd3e39uzZo71792pwcFBz5szRBRdcoJkzZ2r79u3atGmTXnjhBXk8Hp1//vn6+Mc/rosuuug9FZ3P53XgwAHV19fL5XLZ+y8CAABwBCzLUiKR0OTJk1VTU1P6S8uyLCuXy1mf+cxnrN/97nfWpz/9aeuxxx6zLMuyQqGQ9dprrxW/zJo7d671q1/9yrIsy/roRz9q9fb2ll5ra2uz7r33XsuyLOtzn/uctWnTptJrN910k7V69WrLsizrhhtusNauXVt67e6777b+4R/+wXqv+vv7LUl88MEHH3zwwQcfVfPR399f6lVKK1jRaFTnn3++zj333OJf6dChQxoZGdEpp5xS+rspU6Zo//79kqT9+/fr9NNPf8+v/fa3vy299olPfKLstV/84hd6O9lsVtlstvTn4nX5L7/8sj70oQ8pk8lIkgKBgNLptGpqauT3+5VKpeR2u+X3+5VMJuX1epXP5/XNb35Tt912m+rr6zU0NKRAICCPx6NEIqFgMCiPx6N4PK5QKCS32614PK66ujq5XC4lEgnV19fLsiwNDQ0pHA4rl8spmUwqHA5rdHRU6XRa9fX1Gh0dVSaTUV1dnUZGRjQ8PKxQKKTh4WGNjIwoFAopm80ql8uptrZW2WxW+XxewWDwiLbJ5/MpmUzK5/PJ6/WyTe9hm4aGhtTV1aU1a9bI4/EcF9t0PO6no71Nf/3rX/W9731P3/nOd5TL5Y6LbToe99PR3qZnnnlGl112mbTo/0mNs9/2XITj2J/3Sg9+Wb/61a80a9asI87e8PCwzjjjDNXX17/5PS3Lsv70pz9Zzc3N1vDwsGVZVmkF6y9/+Yvl8/nKVo/a2tqs++67z7Isy6qrq7MOHDhQtkr1zW9+07IsyzrrrLOsHTt2lK1Stbe3W5ZlWRdffLH185//vPTaE088YX3yk5982xWrb33rW+N2isXv99WvftX66le/almWZS1btsz61re+ZVmWZV1xxRXWD37wA8uyLGvBggXWvffea6XTaWvSpElWd3e3ZVmFVbhf/vKXlmVZ1qmnnlqqub6+3nrxxRctq9DNWf39/dbg4KAlyRocHCytolmWZb344otWfX29ZVmWtWPHDuvUU0+1LMuyfvnLX1of/ehHLcuyrIceeshqbm62LMuy7r33XmvBggWWZVnWD37wA+uKK64obeeyZcuOeJssy7Kam5uthx56iG16j9v061//2qqrq7PS6fRxs03H43462tv0+c9/3vrUpz5lpdPp42abjsf9dCy2SZKl1c9Z+ukwH078WP2cJcnasWPH+8reI488UspUkcuyLOvHP/6xvvOd78jv90uSDh48qHA4rG9/+9v653/+Z73yyiulVazzzjtPd9xxh1pbWzVz5kzdd999pWu2rrzySi1YsEAdHR266KKL1N7erquuukqSdPPNN8vn82nNmjVavny5GhsbtWrVKknSPffcox07dqi7u3vcxnLsClY8HldjY6MOHjyok08+md/k2Ca2iW1im9im971Nv/nNb/TpT39aWv2cdPqct13kwHHsf34vfXeenn/+ec2YMeN9rWBNmDBBg4ODCofDkiTX/3X1ZebPn6+vfOUruuyyy7R06VJNmTJFXV1d2rVrly677DL19fXJ6/Wqq6tLfX19euCBB0oXue/Zs0cTJ07UAw88oAcffFBPPvlk6SL3xx9/XLNmzdK2bdu0fPly7dy5s3SRe1dXly6++OL39O8Qj8cViUTKNuRwiURCr732mvL5/Ftey2QyWrNmjb7xjW8oEAgc6S44ptxut04//XT5fD7TpRx30um0VqxYoR/96EcKBoOmy4Eh5ACStGPHDp1//vk0WE72fw3Wf/3Xf+njH//4Ef/n4/Ulnnf5b3TnnXeqvb1d06ZNk8/nU3d3t7xeryTppptu0jXXXKOmpia53W6tW7dOEydOlCS1t7dr165dmjZtmlwulzo7OzVr1ixJhQZu0aJFpT8vWrToPTdX7ySfz2vt2rV67LHH3vZrLMtSPB7XsmXLPhB3INbW1mrTpk069dRTTZdyXKmpqVFDQ8Obd3vAkcgBJLH/UWJnFsZdwap2b7eC9d3vfldbt27VihUrNGfOnFIj+EGVyWT0zW9+U5MmTdL69es5CADAURCLxQo3eLGC5VyHjQjPOeecI/7P39cK1gdFPB7XY489ppUrV+rqq69+26/L5XLq6+vTlClT5Ha7j2GF78+NN96o1atX69ChQzrppJNMl3PcSKVSWrJkif71X/9VtbW1psuBIeQAUmFUDEj2ZuG4WRI5ePCgJGnOnHf+7cPlcikUCn0gxoOS1NDQIEn629/+ZriS44vb7VZLS8sHosnG0UMOIIn9jxI7s3DcrGAVL2h/t7FgTU1N2XO9ql1xZ493wT7eP7/fr87OTtNlwDByAEncSIQSO7Nw3KxgvVe5XE579+5VLpczVkNfX5/mz5+vSCSis88+21gdTpZMJrVw4UIlk0nTpcAgcgCJESHeZGcWjpsVrMNdu31UL77dRM2yNDLaKO+evOSq/Pr+s/5OuvdTR/bPGA6HtWbNGg0ODvJG14Z4vV61tbV94G+EQGXIASTJ4zkuT4V4H+zMwnGZqhf/Jv329XdqnoqbbccNlG9/Ldddd92lvXv36qc//akk6Y033tDUqVO1d+9efeITn9C2bdts+Pl4P3w+nzo6OkyXAcPIAaR3v7QEzmFnFhw3IjyWOjo6tHXrVr3xxhuSpPvvv1+XXnqpTjzxRMOVIZlMqqWlhdGQw5EDSIwI8SbuIvyAOOGEE3TFFVfoZz/7mSzL0o9//GPdeOONpsuCCisXnZ2dXNzqcOQAEitYeJOdWTguR4TVZOXKlbrkkks0Y8YMnXTSSe/6GAkcG8Vrb+Bs5AAS12DhTVyD9S7O+jvp7a6NsixL6XRawWDQlmdhFX7W2/vIRz6iM888U9ddd53+5V/+peKfB3sMDQ1p3rx5eu6551RXV2e6HBhCDiAVHjgLSPZm4bhssN7prr7CexFaCoc9x+xho9dee61uvPFGXXHFFZIKO3D69OnKZrMaHBxUQ0OD2tvbtXbt2mNSD6RAIKBoNFr1b/iNo4scQOI5WHiTnVk4Lhusd+JyuRSJRI7pz/z1r3+tG264oTTbra2t1cDAwDGtAeU8Ho8WLlxougwYRg4gMSLEm+zMguMucs/lcvrjH/94TB40euDAAX3kIx9RLBbTV77ylaP+8/DeJRIJNTQ0KJFImC4FBpEDSOIuUpTYmQXHte01NTVqampSTc3R7y0nT56sl1566aj/HBy5YDCoLVu2KBgMmi4FBpEDSIW3TAIke7PguAbL5XJxMSvk8XjU0tJiugwYRg4gMSLEmxgRjqP4psiZTOYdvy6XyykWixl9L8IjMTIyIknHZMXNSeLxuMLhsOLxuOlSYBA5gFS4mxSQ7M3CcdO2n3766aqtrdVtt92m5cuXq6GhodR0Hc6yLNXU1Gjv3r3H7C7C92tkZET33nuvfD6fJk+ebLqc40ooFFJvb69CoZDpUmAQOYAkRsQosTMLx02D5fP5tGnTJn37298+rt5A2efzKRqNMta0mdvt1syZM02XAcPIASSN+8s4nMnOLBw3DZYknXrqqVq/fr0OHTqkv/3tb8rn82/5mqGhIc2dO1e7du2q+qalpqZGkydPrvo6P4ji8bgikYgGBwcVDodNlwNDyAEkRoR4EyPCd1BTU6OTTjpJJ5100riv5/N59ff3a/LkyVzX5GB1dXXq7++neXU4cgCp8GxCQLI3C47rMFwul8LhcNVff4WjixxAIgcoYP+jyM4sOK7BSiQSikQiPFjQ4cgBJHKAAh40iiI7s+C4Bqu+vl6Dg4Oqr683XQoMIgeQyAEKuIsURXZmwXENVuHNnuOyLMt0KTCIHEAiByhg/6PIziw4rsEaGhpSY2Mjd404HDmARA5QkEqlTJeAKmFnFo67uwjfTTgc5rcVkANIIgco4C5SFNmZBcetYOVyOe3evfsD81Y5ODrIASRygAL2P4rszILjGqxkMqmWlhbuGnE4cgCJHKAgnU6bLgFVws4sOHJEyBu7ghxAIgcoYESIIkaEFRgdHVVvb69GR0dNlwKDyAEkcoAC9j+K7MyC4xqsdDqttrY2loQdjhxAIgcoyGazpktAlbAzC44bEdbX12tgYMB0GTCMHEAiByjgQaMo4kGjFRgdHVVPTw9Lwg5HDiCRAxSw/1HEiLACmUxGnZ2dymQypkuBQeQAEjlAwfDwsOkSUCXszILjRoR1dXXavXu36TJgGDmARA5QUFtba7oEVAk7s+C4FayRkRFt2bJFIyMjpkuBQeQAEjlAASNCFDEirMDw8LCi0ShLwg5HDiCRAxTQYKPIziw4bkQYCoXU29trugwYRg4gkQMUBINB0yWgStiZBUeuYG3YsIHfWB2OHEAiByhgBQtFdmbBcQ0W11xAIgcoIAeQuAYLb7IzC44cEfb09JguA4aRA0jkAAWMCFHEiLAC2WxW0WiUt0ZwOHIAiRyggBExiuzMguMarFwup97eXuVyOdOlwCByAIkcoID9jyI7s+C4EWFtba22bNliugwYRg4gkQMUMCJEESPCCmSzWXV1dTEScDhyAIkcoIARIYoYEVYgn89rYGBA+XzedCkwiBxAIgcoYP+jyM4sOG5EGAwGtWHDBtNlwDByAIkcoCAQCJguAVXCziw4bgUrk8mos7NTmUzGdCkwiBxAIgcoYESMIjuz4LgGCwAA4Ghz3IgwEAgoGo2aLgOGkQNI5AAFfr/fdAmoEnZmwXErWOl0Wh0dHUqn06ZLgUHkABI5QAEjYhTZmQXHNVg1NTVqaGhQTY3jNh2HIQeQyAEK2P8osjMLjhsR+v1+dXV1mS4DhpEDSOQABT6fz3QJqBJ2ZsFxbXsqlVJbW5tSqZTpUmAQOYBEDlDAiBhFdmbBcQ2W2+1WS0uL3G636VJgEDmARA5QwP5HkZ1ZcOSIsLOz03QZMIwcQCIHKGBEiCJGhBVIJpNauHChksmk6VJgEDmARA5QwIgQRYwIK+D1etXW1iav12u6FBhEDiCRAxR4PI4b5uBt2JkFx6XK5/Opo6PDdBkwjBxAIgcooMFGkZ1ZcNwKVjKZVEtLCyMBhyMHkMgBChgRoogRYQV8Pp86Ozu5qNHhyAEkcoACVrBQZGcWHDciLF5zAWcjB5DIAQq4BgtFdmbBcStYQ0NDmjlzpoaGhkyXAoPIASRygAIeNIsiO7PguAYrEAgoGo0qEAiYLgUGkQNI5AAFjIhRZGcWHLcu6vF4tHDhQtNlwDByAIkcoIARIYoYEVYgkUiooaFBiUTCdCkwiBxAIgco4C5SFNmZBcc1WMFgUFu2bFEwGDRdCgwiB5DIAQr8fr/pElAl7MyC49ZFPR6PWlpaTJcBw8gBJHKAAkaEKGJEWIF4PK5wOKx4PG66FBhEDiCRAxRwFymK7MyC4xqsUCik3t5ehUIh06XAIHIAiRyggBExiuzMguPWRd1ut2bOnGm6DBhGDiCRAxS43W7TJaBK2JkFx61gxeNxuVwuRgIORw4gkQMUMCJEESPCCtTV1am/v191dXWmS4FB5AASOUBBbW2t6RJQJezMguMaLJfLpXA4LJfLZboUGEQOIJEDFLD/UWRnFhzXYCUSCUUiER4s6HDkABI5QAEPGkURDxqtQH19vQYHB1VfX2+6FBhEDiCRAxRwFymK7MyC4xosy7IUj8dlWZbpUmAQOYBEDlDA/keRnVlwXIM1NDSkxsZG7hpxOHIAiRygIJVKmS4BVcLOLDjuOVjhcJjfVkAOIIkcoIC7SFFkZxYct4KVy+W0e/du5XI506XAIHIAiRyggP2PIjuz4LgGK5lMqqWlhbtGHI4cQCIHKEin06ZLQJWwMwuOHBHy1GaQA0jkAAWMCFHEiLACo6Oj6u3t1ejoqOlSYBA5gEQOUMD+R5GdWXBcg5VOp9XW1saSsMORA0jkAAXZbNZ0CagSdmbBcSPC+vp6DQwMmC4DhpEDSOQABTxoFEVH5UGjCxYs0OzZs3X22Wfrk5/8pH7/+99Lkl5//XVdeOGFmjZtms466yxt37699B+nUiktXrxYU6dO1fTp0/Xwww+XXsvn81qxYoWampo0depUrVu3ruwHr1mzRk1NTWpqatLq1att26B3Mzo6qp6eHpaEHY4cQCIHKGD/o+iojAgfeughvfDCC/rDH/6gzs5OLV26VJK0atUqNTc36+WXX9b999+vL37xixoZGZEk3XXXXfL7/dq3b596enp0ww036NChQ5Kk7u5u7dmzR3v37tXOnTv1/e9/X7t375Ykbd++XZs2bdILL7ygPXv2qKenR0888YRtG/VOMpmMOjs7lclkjsnPQ3UiB5DIAQqGh4dNl4AqYWcWSg3WCSecUPrLwcHB0jtKP/TQQ7r++uslSXPnztXkyZP1zDPPSJI2b95ceu2MM87Q/Pnz9dhjj5Veu/baa+V2u3XiiSdq0aJF2rRpU+m19vZ2hUIh+f1+XXPNNaXXjra6ujrt3r2bu0YcjhxAIgcoqK2tNV0CqoSdWSi7yP3qq69WY2OjvvnNb+rBBx/UoUOHNDIyolNOOaX0NVOmTNH+/fslSfv379fpp59u62vjyWazisfjZR/Sm8+ryGQypd9A0+l06SK1VCpV+jyZTGp4eFgjIyN68MEHS4/DHxoaKi0JJhKJ0ufxeLz0wLF4PK58Pl/2vmX5fL5URy6XK30+OjqqRCJR+rz4FhwjIyOlZ+0MDw+XPs9ms6Vastns+9qm4ufFlUW26d23KZ1Oa+PGjRoZGTlutul43E9He5sGBwf185//vPT9jodtOh7309HepjfeeEOAVMhvJdk7XFmDtXHjRvX392vNmjX6+te/flQ34kisXbtWkUik9NHY2ChJuummmyRJt956q2699VZJ0ooVK7R27VpJ0pIlS3T33XdLki6//HJt3LhRw8PDuuGGG/TII49IkubNm6enn35akjRjxgzt2rVLktTQ0KCXXnpJkhSJRHTgwAElEglFIhElEgkdOHBAkUhEkvTSSy+poaFBkrRr1y7NmDFDkvT0009r3rx5kqStW7eqtbVVUuHf+fLLL5ck3X333VqyZElpO1esWHHE2yRJra2t2rp1K9v0Hrept7dX1157rYaHh4+bbToe99PR3qalS5fq5ptv1s6dO9Xa2qrbb79dsVhMLS0tikajisVimj17ttavX69YLKampiZ1d3crFotp0qRJevTRRxWLxRSJRNTT06Nnn31WkUhEzz77rHp6ehSJRBSLxfToo49q0qRJisVi6u7uVlNTk2KxmNavX6/Zs2crFospGo2qpaVFsVhMt99+u1pbWxWLxXTLLbfokksuUSwW08qVK7V48WLFYjEtW7ZMy5YtUywW0+LFi7Vy5UrFYjFdcskluuWWWxSLxdim97hNn/nMZwRIhV8K3s9xb9u2bW/5Xi7rbd6IKxgMamBgQKeddppeeeWV0irWeeedpzvuuEOtra2aOXOm7rvvPjU3N0uSrrzySi1YsEAdHR266KKL1N7erquuukqSdPPNN8vn82nNmjVavny5GhsbtWrVKknSPffcox07dqi7u3vcDc5ms2W3TsbjcTU2NurgwYM6+eSTS7/xBAIBpdNp1dTUyO/3K5VKye12y+/3K5lMyuv1yufzKZlMyufzyev1amhoSIFAQB6PR4lEQsFgUB6PR/F4XKFQSG63W/F4XHV1dXK5XEokEqqvr5dlWRoaGlI4HFYul1MymVQ4HC51v/X19RodHVUmk1FdXZ1GRkY0PDysUChUWkkLhULKZrPK5XKqra1VNptVPp9XMBhkm9gmtukYbNMrr7yiqVOnvtPxFk6y+jnp9Dmmq4AJ//N76bvz9Pzzz2vGjBlHfNwbHh7WhAkTNDg4qHA4LOn/Gqw33nhDqVRKkydPllT47fDGG29Uf3+//umf/klTpkxRV1eXdu3apcsuu0x9fX3yer3q6upSX1+fHnjgAb366quaN2+e9uzZo4kTJ+qBBx7Qgw8+qCeffFKDg4OaM2eOHn/8cc2aNUvbtm3T8uXLtXPnTnk8Hp1//vnq6urSxRdf/J7+HeLxuCKRSNmGvFfDw8PauHGjrr76avl8viPbAThukANI0nPPPVf4BbF9vXQaJ1bHevE/pX/vosFysv9rsH7729+WVsqPxHh9iUcqXIdQfNheTU2NTjrpJD3++ONyuVy688471d7ermnTpsnn86m7u1ter1dSYUR3zTXXqKmpSW63W+vWrdPEiRMlSe3t7dq1a5emTZsml8ulzs5OzZo1S5I0f/58LVq0qPTnRYsWvefmqlIjIyPasmWLFi9ezInVwcgBpMNuyT5tDidWJ3vtJdMVoErY+ZiGtx0RVrNKVrAAoCgWi+ncc89l5cLpfrtJ+tkScuBkh40IzznnnCP+z8frSxz3VjnZbFbRaJS3RnA4cgCJ5x8BKHdUnoPlFLlcTr29vaXbduFM5ACS2P8Ayth5THDcexHW1tZqy5YtpsuAYeQAUuFuaQAosvOY4LgVrGw2q66uLkZDDkcOIDEiBFCOEWEF8vm8BgYGlM/nTZcCg8gBJLH/AZSx85jguBFhMBjUhg0bTJcBw8gBpMKDRwGgyM5jguNWsDKZjDo7O0tPdoYzkQNIYkQMoIydxwTHNVgAAABHm+NGhIFAQNFo1HQZMIwcQJL8fr/pEgBUETuPCY5bwUqn0+ro6FA6nTZdCgwiB5DEiBhAGTuPCY5rsGpqatTQ0KCaGsdtOg5DDiCJ/Q+gjJ3HBMeNCP1+v7q6ukyXAcPIASTxRt8Ayth5THDcr2+pVEptbW1KpVKmS4FB5ACSGBEDKGPnMcFxDZbb7VZLS4vcbrfpUmAQOYAk9j+AMnYeExw5Iuzs7DRdBgwjB5AYEQIox4iwAslkUgsXLlQymTRdCgwiB5AYEQIox4iwAl6vV21tbfJ6vaZLgUHkAJLk8ThuER/AO7DzmOC4o4vP51NHR4fpMmAYOYAkGmwAZew8JjhuBSuZTKqlpYXRkMORA0iMCAGUY0RYAZ/Pp87OTi5udThyAIkVLADl7DwmOG5EWLz2Bs5GDiBxDRaAcnYeExy3gjU0NKSZM2dqaGjIdCkwiBxAEg+aBVDGzmOC4xqsQCCgaDSqQCBguhQYRA4g8RwsAOXsPCY4bn3c4/Fo4cKFpsuAYeQAEiNCAOUYEVYgkUiooaFBiUTCdCkwiBxAEneRAihj5zHBcQ1WMBjUli1bFAwGTZcCg8gBpMJbJgFAkZ3HBMetj3s8HrW0tJguA4aRA0iMCAGUY0RYgXg8rnA4rHg8broUGEQOIIm7SAGUsfOY4LgGKxQKqbe3V6FQyHQpMIgcQBIjYgBl7DwmOG593O12a+bMmabLgGHkAFIhBwBQZOcxwXErWPF4XC6Xi9GQw5EDSIwIAZRjRFiBuro69ff3q66uznQpMIgcQJJqa2tNlwCgith5THBcg+VyuRQOh+VyuUyXAoPIASSx/wGUsfOY4LgGK5FIKBKJ8IBJhyMHkHjQKIByPGi0AvX19RocHFR9fb3pUmAQOYAk7iIFUMbOY4LjGizLshSPx2VZlulSYBA5gCT2P4Aydh4THNdgDQ0NqbGxkbuHHI4cQJJSqZTpEgBUETuPCY57DlY4HOa3VpADSBJ3kQIoY+cxwXErWLlcTrt371YulzNdCgwiB5DE/gdQxs5jguMarGQyqZaWFu4ecjhyAElKp9OmSwBQRew8JjhyRMjTu0EOIDEiBFCOEWEFRkdH1dvbq9HRUdOlwCByAEnsfwBl7DwmOK7BSqfTamtrYzTgcOQAkpTNZk2XAKCK2HlMcNyIsL6+XgMDA6bLgGHkABIPGgVQjgeNVmB0dFQ9PT2MBhyOHEBiRAigHCPCCmQyGXV2diqTyZguBQaRA0jS8PCw6RIAVBE7jwmOGxHW1dVp9+7dpsuAYeQAklRbW2u6BABVxM5jguNWsEZGRrRlyxaNjIyYLgUGkQNIjAgBlGNEWIHh4WFFo1FGAw5HDiCJBhtAGTuPCY4bEYZCIfX29pouA4aRA0hSMBg0XQKAKmLnMcGRK1gbNmxg5cLhyAEkVrAAlLPzmOC4BotrbyCRAxRwDRaAw9l5THDkiLCnp8d0GTCMHEBiRAigHCPCCmSzWUWjUd4iw+HIASSegwWgnJ3HBMc1WLlcTr29vcrlcqZLgUHkAJLY/wDK2HlMcNyIsLa2Vlu2bDFdBgwjB5AYEQIox4iwAtlsVl1dXYyGHI4cQGJECKAcI8IK5PN5DQwMKJ/Pmy4FBpEDSGL/Ayhj5zHBcSPCYDCoDRs2mC4DhpEDSFIgEDBdAoAqYucxwXErWJlMRp2dncpkMqZLgUHkAJIYEQMoY+cxwXENFgAAwNHmuBFhIBBQNBo1XQYMIweQJL/fb7oEAFXEzmOC41aw0um0Ojo6lE6nTZcCg8gBJDEiBlDGzmOC4xqsmpoaNTQ0qKbGcZuOw5ADSGL/Aygt6sySAAAfR0lEQVRj5zHBcSNCv9+vrq4u02XAMHIASfL5fKZLAFBF7DwmOO7Xt1Qqpba2NqVSKdOlwCByAEmMiAGUsfOY4LgGy+12q6WlRW6323QpMIgcQBL7H0AZO48JjhwRdnZ2mi4DhpEDSIwIAZRjRFiBZDKphQsXKplMmi4FBpEDSIwIAZRjRFgBr9ertrY2eb1e06XAIHIASfJ4HLeID+Ad2HlMcNzRxefzqaOjw3QZMIwcQBINNoAydh4THLeClUwm1dLSwmjI4cgBJEaEAMoxIqyAz+dTZ2cnF7c6HDmAxAoWgHJ2HhMcNyIsXnsDZyMHkLgGC0A5O48JjlvBGhoa0syZMzU0NGS6FBhEDiCJB80CKGPnMcFxDVYgEFA0GlUgEDBdCgwiB5B4DhaAcnYeExy3Pu7xeLRw4ULTZcAwcgCJESGAcowIK5BIJNTQ0KBEImG6FBhEDiCJu0gBlLHzmOC4BisYDGrLli0KBoOmS4FB5ABS4S2TAKDIzmOC49bHPR6PWlpaTJcBw8gBJEaEAMoxIqxAPB5XOBxWPB43XQoMIgeQxF2kAMrYeUxwXIMVCoXU29urUChkuhQYRA4giRExgDJ2HhMctz7udrs1c+ZM02XAMHIAqZADACiy85jguBWseDwul8vFaMjhyAEkRoQAytk+IsxkMrrssss0ffp0fexjH9NnP/tZ7du3T5L0+uuv68ILL9S0adN01llnafv27aX/OJVKafHixZo6daqmT5+uhx9+uPRaPp/XihUr1NTUpKlTp2rdunVlP3jNmjVqampSU1OTVq9ebdsGvZu6ujr19/errq7umP1MVB9yAEmqra01XQKAKmLnMaG0gnXdddfpv//7v/XHP/5Rl156qTo6OiRJq1atUnNzs15++WXdf//9+uIXv6iRkRFJ0l133SW/3699+/app6dHN9xwgw4dOiRJ6u7u1p49e7R3717t3LlT3//+97V7925J0vbt27Vp0ya98MIL2rNnj3p6evTEE0/YtlHvxOVyKRwOy+VyHZOfh+pEDiCJ/Q+gjJ3HhBqp8LYhn/vc50rfuLm5WX19fZKkhx56SNdff70kae7cuZo8ebKeeeYZSdLmzZtLr51xxhmaP3++HnvssdJr1157rdxut0488UQtWrRImzZtKr3W3t6uUCgkv9+va665pvTa0ZZIJBSJRHjApMORA0g8aBRAuaP+oNEf/vCHuvTSS3Xo0CGNjIzolFNOKb02ZcoU7d+/X5K0f/9+nX766ba+Np5sNqt4PF72IUnpdFpSYcSZyWRKf5fNZiUVRpjFz5PJpIaHh1VfX68DBw6U3oNuaGhIo6Ojkgon3eLn8XhcuVyu9Hk+n5dlWYrH47IsS/l8vlRHLpcrfT46Olo6aY+OjpbmuSMjI6UdNzw8XPo8m82W3lwym82+r20qfl5cWWSb3n2bgsGgBgYGVF9ff9xs0/G4n472NnGRO4DDhUKhio57h3tLg3XHHXdo3759Wrt27VHbgCO1du1aRSKR0kdjY6Mk6aabbpIk3Xrrrbr11lslSStWrCjVvmTJEt19992SpMsvv1wbN26UZVm6+OKLSytt8+bN09NPPy1JmjFjhnbt2iVJamho0EsvvSRJikQiOnDgQNmqx4EDBxSJRCRJL730khoaGiRJu3bt0owZMyRJTz/9tObNmydJ2rp1q1pbWyVJGzdu1OWXXy5Juvvuu7VkyZLSdq5YseKIt0mSWltbtXXrVrbpPW7Tzp07NWfOHD3//PNav369Zs+erVgspmg0qpaWFsViMd1+++1qbW1VLBbTLbfcoksuuUSxWEwrV67U4sWLFYvFtGzZMi1btkyxWEyLFy/WypUrFYvFdMkll+iWW25RLBZTa2urbr/9dsViMbW0tCgajSoWi2n27Nlav369YrGYmpqa1N3drVgspkmTJunRRx9VLBZTJBJRT0+Pnn32WUUiET377LPq6elRJBJRLBbTo48+qkmTJikWi6m7u1tNTU2KxWJs03vcpq9+9asCgCLLst7X+Wnbtm1v+V4uy7Ks4h/uuusu/eIXv9BTTz2lE044QVKhm3vllVdKq1jnnXee7rjjDrW2tmrmzJm677771NzcLEm68sortWDBAnV0dOiiiy5Se3u7rrrqKknSzTffLJ/PpzVr1mj58uVqbGzUqlWrJEn33HOPduzYoe7u7nE3OJvNljpIqfAbcGNjow4ePKiTTz659JtpIBBQOp1WTU2N/H6/UqmU3G63/H6/ksmkvF6vMpmMIpGI/vKXv2jChAkaGhpSIBCQx+NRIpFQMBiUx+NRPB5XKBSS2+1WPB5XXV2dXC6XEomE6uvrZVmWhoaGFA6HlcvllEwmFQ6HNTo6qnQ6XVoZyWQyqqur08jIiIaHhxUKhTQ8PKyRkRGFQiFls1nlcjnV1tYqm80qn88rGAwe0Tb5fD4lk0n5fD55vV626T1s0549e3hMA960+jnp9Dmmq4Apv90k/WwJOXCy//m99N15euaZZzR37twjPj8NDw9rwoQJGhwcVDgclnRYgxWNRvVv//Zveuqpp/R3f/d3pZ+5dOlSTZkyRV1dXdq1a5cuu+wy9fX1yev1qqurS319fXrggQf06quvat68edqzZ48mTpyoBx54QA8++KCefPJJDQ4Oas6cOXr88cc1a9Ysbdu2TcuXL9fOnTvl8Xh0/vnnq6urSxdffPF7+neIx+OKRCJlGwIciVgspnPPPVdqXy+dxgHVsV78T+nfuzixOh0NFv6vwXr++ed1zjnnHPF/Pl5f4pGkgYEBfe1rX9OZZ56pCy64QFLhDQ+fe+453XnnnWpvb9e0adPk8/nU3d0tr9crqTCiu+aaa9TU1CS3261169Zp4sSJkqT29nbt2rVL06ZNk8vlUmdnp2bNmiVJmj9/vhYtWlT686JFi95zc1WpXC6nl156SR/5yEe4/sLBitcD6bQ5HFCd7LWXTFcAoIqUzg028EiF61gOmxSWOfnkk/Xkk0+O+1ooFNLmzZvHfc3tdpfmluO57bbbdNtttx1pvRVLJpNqaWnRwMAAq18OVrz4GQCAIjvPDY57qxze4BeSeMAoAOAt7Dw3OO6tckZHR9Xb2zvuLZVwDvY/AGAsO88Njmuw0um02traGBE53OF3pQIAINl7bnDciLC+vl4DAwOmy4BhoVDIdAkAgCpj57nBcStYo6Oj6unpYUTkcOx/AMBYjAgrkMlk1NnZWXroJZyp+HYHAAAU2XlucNyIsK6uTrt37zZdBgyrra01XQIAoMrYeW5w3ArWyMiItmzZUnqTRjgTI0IAwFiMCCswPDysaDTKiMjhaLABAGPZeW5w3IgwFAqpt7fXdBkwLBgMmi4BAFBl7Dw3OHIFa8OGDaxgORwrWACAsew8NziuweIaLEhcgwUAeCs7zw2OHBH29PSYLgOGMSIEAIzFiLAC2WxW0WiUt0pxOEbEAICx7Dw3OK7ByuVy6u3tVS6XM10KDGL/AwDGsvPc4LgRYW1trbZs2WK6DBjGiBAAMBYjwgpks1l1dXUxInQ4RoQAgLEYEVYgn89rYGBA+XzedCkwiP0PABjLznOD40aEwWBQGzZsMF0GDAsEAqZLAABUGTvPDY5bwcpkMurs7FQmkzFdCgxiRAwAGMvOc4PjGiwAAICjzXEjwkAgoGg0aroMGOb3+02XAACoMnaeGxy3gpVOp9XR0aF0Om26FBjEiBgAMJad5wbHNVg1NTVqaGhQTY3jNh2HYf8DAMay89zguBGh3+9XV1eX6TJgmM/nM10CAKDK2HlucNyv8alUSm1tbUqlUqZLgUGMiAEAY9l5bnBcg+V2u9XS0iK32226FBjE/gcAjGXnucGRI8LOzk7TZcAwRoQAgLEYEVYgmUxq4cKFSiaTpkuBQYwIAQBjMSKsgNfrVVtbm7xer+lSYJDH47jFWwDAu7Dz3OC4s4zP51NHR4fpMmAYDTYAYCw7zw2OW8FKJpNqaWlhROhwjAgBAGMxIqyAz+dTZ2cnFzk7HCtYAICx7Dw3OG5EWLwGC87GNVgAgLHsPDc4bgVraGhIM2fO1NDQkOlSYBAPmgUAjGXnucFxDVYgEFA0GlUgEDBdCgxiRAwAGMvOc4Pj5iQej0cLFy40XQYMY0QIABiLEWEFEomEGhoalEgkTJcCg7iLFAAwlp3nBsc1WMFgUFu2bFEwGDRdCgzy+/2mSwAAVBk7zw2Om5N4PB61tLSYLgOGMSIEAIzFiLAC8Xhc4XBY8XjcdCkwiLtIAQBj2XlucFyDFQqF1Nvbq1AoZLoUGMSIGAAwlp3nBsfNSdxut2bOnGm6DBjmdrtNlwAAqDJ2nhsct4IVj8flcrkYETocI0IAwFiMCCtQV1en/v5+1dXVmS4FBtXW1pouAQBQZew8NziuwXK5XAqHw3K5XKZLgUHsfwDAWHaeGxzXYCUSCUUiER406nA8aBQAMBYPGq1AfX29BgcHVV9fb7oUGMRdpACAsew8NziuwbIsS/F4XJZlmS4FBrH/AQBj2XlucFyDNTQ0pMbGRu4ic7hUKmW6BABAlbHz3OC452CFw2FWL8BdpACAt7Dz3OC4FaxcLqfdu3crl8uZLgUGsf8BAGPZeW5wXIOVTCbV0tLCXWQOl06nTZcAAKgydp4bHDki5CnuYEQIABiLEWEFRkdH1dvbq9HRUdOlwCD2PwBgLDvPDY5rsNLptNra2hgROVw2mzVdAgCgyth5bnDciLC+vl4DAwOmy4BhPGgUADAWDxqtwOjoqHp6ehgRORz7HwAwFiPCCmQyGXV2diqTyZguBQYNDw+bLgEAUGXsPDc4bkRYV1en3bt3my4DhtXW1pouAQBQZew8NzhuBWtkZERbtmzRyMiI6VJgECNCAMBYjAgrMDw8rGg0yojI4WiwAQBj2XlucNyIMBQKqbe313QZMCwYDJouAQBQZew8NzhyBWvDhg2sYDkcK1gAgLHsPDc4rsHiGixIXIMFAHgrO88NjhwR9vT0mC4DhjEiBACMxYiwAtlsVtFolLdKcThGxACAsew8Nziuwcrlcurt7VUulzNdCgxi/wMAxrLz3OC4EWFtba22bNliugwYxogQADAWI8IKZLNZdXV1MSJ0OEaEAICxGBFWIJ/Pa2BgQPl83nQpMIj9DwAYy85zg+NGhMFgUBs2bDBdBgwLBAKmSwAAVBk7zw2OW8HKZDLq7OxUJpMxXQoMYkQMABjLznOD4xosAACAo81xI8JAIKBoNGq6DBjm9/tNlwAAqDJ2nhsct4KVTqfV0dGhdDptuhQYxIgYADCWnecGxzVYNTU1amhoUE2N4zYdh2H/AwDGsvPc4LgRod/vV1dXl+kyYJjP5zNdAgCgyth5bnDcr/GpVEptbW1KpVKmS4FBjIgBAGPZeW5wXIPldrvV0tIit9ttuhQYxP4HAIxl57nBkSPCzs5O02XAMEaEAICxGBFWIJlMauHChUomk6ZLgUGMCAEAYzEirIDX61VbW5u8Xq/pUmCQx+O4xVsAwLuw89zguLOMz+dTR0eH6TJgGA02AGAsO88NpRWslStXasqUKXK5XPrDH/5Q+oLXX39dF154oaZNm6azzjpL27dvL72WSqW0ePFiTZ06VdOnT9fDDz9cei2fz2vFihVqamrS1KlTtW7durIfvGbNGjU1NampqUmrV6+2bYPeTTKZVEtLCyNCh2NECAAY66iMCK+44gr95je/0emnn172BatWrVJzc7Nefvll3X///friF7+okZERSdJdd90lv9+vffv2qaenRzfccIMOHTokSeru7taePXu0d+9e7dy5U9///ve1e/duSdL27du1adMmvfDCC9qzZ496enr0xBNP2LZR78Tn86mzs5OLnB2OFSwAwFhHZQXrU5/6lBoaGt7yBQ899JCuv/56SdLcuXM1efJkPfPMM5KkzZs3l14744wzNH/+fD322GOl16699lq53W6deOKJWrRokTZt2lR6rb29XaFQSH6/X9dcc03ptaONa7AgcQ0WAOCt7Dw3vONF7ocOHdLIyIhOOeWU0t9NmTJF+/fvlyTt37+/bMXLjtfGk81mFY/Hyz6kN5fyMplM6f2D0um0stmspMIIs/h5MpnU8PCwhoaGNGPGDP3tb3+TJA0NDWl0dFSSlEgkSp/H43HlcrnS5/l8XpZlKR6Py7Is5fP5Uh25XK70+ejoqBKJROnzoaEhSdLIyEhpLDk8PFz6PJvNlh56ms1m39c2FT8vriyyTe++TcXtAQCgKJVKVXR+OtwH4i7CtWvXKhKJlD4aGxslSTfddJMk6dZbb9Wtt94qSVqxYoXWrl0rSVqyZInuvvtuSdLll1+ujRs3KhAIaHR0VOvXr1csFtPs2bNLnzc1Nam7u1uxWEyTJk3So48+qlgspkgkop6eHj377LOKRCJ69tln1dPTo0gkolgspkcffVSTJk1SLBZTd3e3mpqaFIvFtH79es2ePVuxWEzRaFQtLS2KxWK6/fbb1draqlgspltuuUWXXHKJYrGYVq5cqcWLFysWi2nZsmVatmyZYrGYFi9erJUrVyoWi+mSSy7RLbfcolgsptbWVt1+++2KxWJqaWlRNBplm97jNj311FMGkgwAqGY+n+9d+whJam1t1datWyVJ8+bN07Zt297yvVyWZVmH/8WUKVO0detWnX322ZKkUCikV155pbSKdd555+mOO+5Qa2urZs6cqfvuu0/Nzc2SpCuvvFILFixQR0eHLrroIrW3t+uqq66SJN18883y+Xxas2aNli9frsbGRq1atUqSdM8992jHjh3q7u4ed4Oz2Wypg5QKKxWNjY06ePCgTj755NKqSCAQUDqdVk1Njfx+v1KplNxut/x+v5LJpLxerw4dOqTJkycf6b85jlern5NOn2O6Cpjy203Sz5aQA6cjB/if30vfnafnn39eM2bMeMc+wufzKZlMyufzyev1amhoSMPDw5owYYIGBwcVDoclvYfHNLS1tWn9+vXq6urSrl279L//+7/69Kc/XfZac3OzXn31VW3btk333HNP6bV7771XbW1tGhwc1ObNm/X444+XXlu+fLlWrFghj8ejn/3sZ+/4Bsx+v19+v/8tfx8MBiUVGquxfydJtbW1pc9DoZAkad++fYW/aF8vncb/kRzrxf+U/r3LdBUAgCqSTCbftY8Y+3ldXV3p8pPDlRqsL33pS3riiSd08OBBLVy4UPX19dq3b5/uvPNOtbe3a9q0afL5fOru7i5dIH7TTTfpmmuuUVNTk9xut9atW6eJEydKktrb27Vr1y5NmzZNLpdLnZ2dmjVrliRp/vz5WrRoUenPixYt0sUXX2zLP867KTVqp83hNxUne+0l0xUAAKrMeIs571epwfrJT34y7hecfPLJevLJJ8d9LRQKafPmzeO+5na7S3PL8dx222267bbbjqRWW3D3GAAAGM8xu4vweFS8Aw4AAOBwdvYIjmuwDp+tAgAAFNnZIziuwXK73aZLAAAAVcjOHsFxDRYjQgAAMB5GhBU4/JZLAACAIjt7BMc1WC6Xy3QJAACgCtnZIziuwSq+Xx4AAMDh7OwRHNdgHf70VQAAgCI7ewTHNVhj3noRAABAkr09guMarFQqZboEAABQhezsERzXYNXV1ZkuAQAAVCE7ewTHNVi5XM50CQAAoArZ2SM4rsFKp9OmSwAAAFXIzh7BcQ0WI0IAADAeRoQVGB0dNV0CAACoQnb2CI5rsLLZrOkSAABAFbKzR3Bcg8WDRgEAwHh40GgFGBECAIDxMCKswPDwsOkSAABAFbKzR3Bcg1VbW2u6BAAAUIXs7BEc12AxIgQAAONhRFiBkZER0yUAAIAqZGeP4LgGKxgMmi4BAABUITt7BMc1WKxgAQCA8bCCVQGuwQIAAOPhGqwKMCIEAADjYURYAZ6DBQAAxsNzsCqQy+VMlwAAAKqQnT2C4xosRoQAAGA8jAgrwIgQAACMhxFhBfL5vOkSAABAFbKzR3BcgxUIBEyXAAAAqpCdPYLjGqxsNmu6BAAAUIXs7BEc12ABAAAcbY5rsPx+v+kSAABAFbKzR3Bcg5XJZEyXAAAAqpCdPYLjGqyaGsdtMgAAeA/s7BEc1234fD7TJQAAgCpkZ4/guAYrnU6bLgEAAFQhO3sExzVYbrfbdAkAAKAK2dkjOK7BYkQIAADGw4iwAowIAQDAeBgRVsDj8ZguAQAAVCE7ewTHNVher9d0CQAAoArZ2SM4rsFiRAgAAMbDiLACrGABAIDxsIJVAa7BAgAA4+EarAqkUinTJQAAgCpkZ4/guAaL52ABAIDx8BysCjAiBAAA42FEWIFkMmm6BAAAUIXs7BEc12D5/X7TJQAAgCpkZ4/guAaLESEAABgPI8IKDA0NmS4BAABUITt7BMc1WMFg0HQJAACgCtnZIziuwXK73aZLAAAAVcjOHsFxDRYjQgAAMB5GhBWora01XQIAAKhCdvYIjmuwXC6X6RIAAEAVsrNHcFyDxYNGAQDAeHjQaAVCoZDpEgAAQBWys0dwXINlWZbpEgAAQBWys0dwXIOVSqVMlwAAAKqQnT2C4xqsuro60yUAAIAqZGeP4LgGK5fLmS4BAABUITt7BMc1WOl02nQJAACgCtnZIziuwWJECAAAxsOIsAKjo6OmSwAAAFXIzh7BcQ1WNps1XQIAAKhCdvYIjmuweNAoAAAYDw8arQAjQgAAMB5GhBUYHh42XQIAAKhCdvYIjmuwamtrTZcAAACqkJ09guMaLEaEAABgPIwIKzAyMmK6BAAAUIXs7BEc12AFg0HTJQAAgCpkZ4/guAaLFSwAADAeVrAqwDVYAABgPFyDVQFGhAAAYDyMCCvAc7AAAMB4eA5WBXK5nOkSAABAFbKzR3Bcg8WIEAAAjIcRYQUYEQIAgPEwIqxAPp83XQIAAKhCdvYIjmuwAoGA6RIAAEAVsrNHMNpgvfzyy/r4xz+u6dOna+7cudq9e/dR/5nZbPao/wwAAPDBY2ePYLTB+tKXvqTrrrtOe/fu1de//nUtXbrUZDkAAAC2MNZgvf766/rd736nf/zHf5QkfeELX1B/f7/27dt3VH+u3+8/qt8fAAB8MNnZI3hs+05HqL+/X5MmTZLHUyjB5XLptNNO0/79+zV16tSyr81ms2XLdoODg5IKTZokZTIZSYXZaTqdVk1Njfx+v1KplNxut/x+v5LJpLxerw4dOlT4JvtjUnboaG8mqtXB/6/wv+TA2cgBJHIA6c97JUmHDh3Sn//853fsI3w+n5LJpHw+n7xer4aGhkp3H1qW9eb3tAz53e9+Z02fPr3s7+bOnWs9/fTTb/nab33rW5YkPvjggw8++OCDj6r96O/vL/UuLss6vN06dl5//XVNnTpVf/3rX+XxeGRZliZNmqTf/OY377qClc/n9de//lUTJkyQy+U6op8bj8fV2Nio/v5+hcNhW7YFHzzkABI5QAE5QKUZsCxLiURCkydPVk1N4eorYyPCD33oQzrnnHPU3d2tpUuX6pFHHlFDQ8NbmiupMBMdOxc94YQTKvr54XCY/yOBHEASOUABOUAlGYhEImV/NtZgSdJPfvITLV26VHfccYfC4bDuv/9+k+UAAADYwmiD9eEPf1i9vb0mSwAAALCdu6urq8t0Ecea2+3W/PnzS3cwwpnIASRygAJyALszYOwidwAAgOOV496LEAAA4GijwQIAALAZDRYAAIDNHNVgrVy5UlOmTJHL5dIf/vAH0+XAgEwmo8suu0zTp0/Xxz72MX32s5896u9/ieq0YMECzZ49W2effbY++clP6ve//73pkmDQ/fffL5fLpa1bt5ouBQZMmTJFH/7wh3X22Wfr7LPP1ubNmyv+no66XeKKK67QzTffrE984hOmS4FB1113nf7+7/9eLpdL69atU0dHh7Zt22a6LBxjDz30UOmBxY899piWLl2qP/7xj4arggl9fX2699571dzcbLoUGLR582adffbZtn0/R61gfepTn1JDQ4PpMmBQIBDQ5z73udJbLDU3N6uvr89sUTDi8HeDGBwcPOK33cLxIZ/Pq6OjQz/60Y/e8o4hQCUctYIFjPXDH/5Ql156qekyYMjVV1+tX//615Kk//iP/zBcDUyIRqM6//zzde6555ouBYa1t7dLks477zx973vf00knnVTR93PUChZwuDvuuEP79u3T2rVrTZcCQzZu3Kj+/n6tWbNGX//6102Xg2PsxRdf1COPPKJvfOMbpkuBYdu3b9ef/vQnxWIxTZw4UUuWLKn4e7KCBUe666679Oijj+qpp55SbW2t6XJg2JIlS3T99dfr0KFDmjBhgulycIw8++yz6uvr07Rp0yRJBw8e1HXXXafXXntNX/7ylw1Xh2PptNNOkyR5vV595Stf0fTp0yv+nqxgwXGi0ag2bdqkX/3qV2XX4cA53njjDR04cKD0561bt2rChAk68cQTDVaFY+3LX/6yXnvtNfX19amvr0/Nzc366U9/SnPlMMlkUm+88Ubpz5s2bdKcOXMq/r6OWsH60pe+pCeeeEIHDx7UwoULVV9fzy36DjMwMKCvfe1rOvPMM3XBBRdIkvx+v5577jnDleFYGhwcVFtbm9LptGpqanTSSSfp8ccf50J3wIH+/Oc/6wtf+IJyuZwsy9KZZ56pjRs3Vvx9eS9CAAAAmzEiBAAAsNn/DwhPUCPXOfSvAAAAAElFTkSuQmCC\" />"
      ]
     },
     "execution_count": 48,
     "metadata": {},
     "output_type": "execute_result"
    }
   ],
   "source": [
    "Plots.histogram(samples, bins=4)"
   ]
  },
  {
   "cell_type": "markdown",
   "metadata": {},
   "source": [
    "Take a large number of samples and make a histogram (bar chart) to check that the probabilities are sampled correctly.\n",
    "\n",
    "[Note that arbitrary discrete distributions can be sampled efficiently using the `Categorical` type in the `Distributions`package.]"
   ]
  }
 ],
 "metadata": {
  "hide_input": false,
  "kernelspec": {
   "display_name": "Julia 0.5.0",
   "language": "julia",
   "name": "julia-0.5"
  },
  "language_info": {
   "file_extension": ".jl",
   "mimetype": "application/julia",
   "name": "julia",
   "version": "0.5.0"
  },
  "latex_envs": {
   "bibliofile": "biblio.bib",
   "cite_by": "apalike",
   "current_citInitial": 1,
   "eqLabelWithNumbers": true,
   "eqNumInitial": 0
  }
 },
 "nbformat": 4,
 "nbformat_minor": 1
}
