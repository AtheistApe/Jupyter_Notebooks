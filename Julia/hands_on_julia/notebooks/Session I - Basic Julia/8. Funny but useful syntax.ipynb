{
 "cells": [
  {
   "cell_type": "markdown",
   "metadata": {},
   "source": [
    "# Slurping and splatting: `...`\n",
    "\n",
    "The \"...\" operator is used for two different (almost opposite) purposes:\n",
    "\n",
    "1. to \"unpack\" iterables (vectors, tuples, etc.) in order to pass them as separate arguments to a function\n",
    "2. to collect multiple arguments to a function into a tuple (\"varargs\")"
   ]
  },
  {
   "cell_type": "markdown",
   "metadata": {},
   "source": [
    "[1] Define a function `f` that takes two arguments. What happens if you pass `f` a vector or tuple of two components? Work out how to use the `...` operator to unpack a vector of two arguments to send it to the function."
   ]
  },
  {
   "cell_type": "code",
   "execution_count": 1,
   "metadata": {},
   "outputs": [
    {
     "data": {
      "text/plain": [
       "f (generic function with 1 method)"
      ]
     },
     "execution_count": 1,
     "metadata": {},
     "output_type": "execute_result"
    }
   ],
   "source": [
    "f(a, b) = a^2 + b^2"
   ]
  },
  {
   "cell_type": "code",
   "execution_count": 5,
   "metadata": {},
   "outputs": [
    {
     "ename": "LoadError",
     "evalue": "syntax: invalid identifier name \".\"",
     "output_type": "error",
     "traceback": [
      "syntax: invalid identifier name \".\"",
      "",
      " in include_string(::String, ::String) at ./loading.jl:441",
      " in include_string(::String, ::String) at /Applications/Julia-0.5.app/Contents/Resources/julia/lib/julia/sys.dylib:?"
     ]
    }
   ],
   "source": [
    "f([2,3])"
   ]
  },
  {
   "cell_type": "code",
   "execution_count": 6,
   "metadata": {},
   "outputs": [
    {
     "data": {
      "text/plain": [
       "13"
      ]
     },
     "execution_count": 6,
     "metadata": {},
     "output_type": "execute_result"
    }
   ],
   "source": [
    "f([2, 3]...)"
   ]
  },
  {
   "cell_type": "markdown",
   "metadata": {},
   "source": [
    "[2] Define a function `g` that takes one argument that is a function, and a variable other number of arguments called `a` (use `...`). What type does `a` have [use, for example, `@show`]? Define the function so that it applies the given function to the given arguments."
   ]
  },
  {
   "cell_type": "code",
   "execution_count": 18,
   "metadata": {},
   "outputs": [
    {
     "name": "stderr",
     "output_type": "stream",
     "text": [
      "WARNING: Method definition g(Any, Any...) in module Main at In[16]:2 overwritten at In[18]:2.\n"
     ]
    },
    {
     "data": {
      "text/plain": [
       "g (generic function with 1 method)"
      ]
     },
     "execution_count": 18,
     "metadata": {},
     "output_type": "execute_result"
    }
   ],
   "source": [
    "function g(fun, a...)\n",
    "    for arg in a\n",
    "        println(\"arg: $arg\\tf($arg): $(fun(arg))\")\n",
    "    end\n",
    "end"
   ]
  },
  {
   "cell_type": "code",
   "execution_count": 19,
   "metadata": {},
   "outputs": [
    {
     "name": "stdout",
     "output_type": "stream",
     "text": [
      "arg: 2\tf(2): 4\n",
      "arg: 3\tf(3): 9\n",
      "arg: 4\tf(4): 16\n",
      "arg: 5\tf(5): 25\n"
     ]
    }
   ],
   "source": [
    "g(x->x^2, 2,3,4,5)"
   ]
  },
  {
   "cell_type": "markdown",
   "metadata": {},
   "source": [
    "[3] The function `vcat` does a vertical concatenation of arrays (try it). Use `vcat` together with the (conjugate) transpose operator `'` to convert a vector of vectors into the corresponding 2D matrix."
   ]
  },
  {
   "cell_type": "code",
   "execution_count": 24,
   "metadata": {},
   "outputs": [
    {
     "data": {
      "text/plain": [
       "3-element Array{Array{Int64,2},1}:\n",
       " [1 2 3]\n",
       " [4 5 6]\n",
       " [7 8 9]"
      ]
     },
     "execution_count": 24,
     "metadata": {},
     "output_type": "execute_result"
    }
   ],
   "source": [
    "vec_of_vec = map(transpose, [[1, 2, 3], [4, 5, 6], [7, 8, 9]])"
   ]
  },
  {
   "cell_type": "code",
   "execution_count": 25,
   "metadata": {},
   "outputs": [
    {
     "data": {
      "text/plain": [
       "3-element Array{Array{Int64,2},1}:\n",
       " [1 2 3]\n",
       " [4 5 6]\n",
       " [7 8 9]"
      ]
     },
     "execution_count": 25,
     "metadata": {},
     "output_type": "execute_result"
    }
   ],
   "source": [
    "vcat(vec_of_vec)"
   ]
  },
  {
   "cell_type": "markdown",
   "metadata": {},
   "source": [
    "# Short-circuit evaluation "
   ]
  },
  {
   "cell_type": "markdown",
   "metadata": {},
   "source": [
    "It is idiomatic (i.e., often used, and considered good style) in Julia to use special syntax for simple `if` and `if...else` constructions."
   ]
  },
  {
   "cell_type": "markdown",
   "metadata": {},
   "source": [
    "For simple `if`s, we use the boolean operators `&&` and `||`, since they have \"short-circuit\" behaviour. This means that they evaluate their first argument and based on its value they may already know what the result is.\n",
    "\n",
    "For example, if the first argument of `&&` (\"and\") is false, then the result of the `&&` is false, so we can use it as an `if...then`:\n",
    "\n"
   ]
  },
  {
   "cell_type": "code",
   "execution_count": 12,
   "metadata": {},
   "outputs": [
    {
     "name": "stdout",
     "output_type": "stream",
     "text": [
      "Small\n",
      "Few digits\n"
     ]
    },
    {
     "data": {
      "text/plain": [
       "false"
      ]
     },
     "execution_count": 12,
     "metadata": {},
     "output_type": "execute_result"
    }
   ],
   "source": [
    "x = 2\n",
    "(x < 3) && println(\"Small\")  # equivalent to:  if (x<3) println(\"Small\"); end\n",
    "x < 100 && println(\"Few digits\")\n",
    "(x < 0) && println(\"Negative\")"
   ]
  },
  {
   "cell_type": "markdown",
   "metadata": {},
   "source": [
    "[1] What does `||` do?"
   ]
  },
  {
   "cell_type": "markdown",
   "metadata": {},
   "source": [
    "Julia also has a C-style ternary operator for `if-else`, denoted `CONDITION ? X : Y`, which does `X` if the condition is true and `Y` if the condition is false.\n",
    "\n",
    "[2] Use the ternary operator to print out \"small\" or \"large\" if x is less than 100 or greater than 100."
   ]
  }
 ],
 "metadata": {
  "hide_input": false,
  "kernelspec": {
   "display_name": "Julia 0.5.0",
   "language": "julia",
   "name": "julia-0.5"
  },
  "language_info": {
   "file_extension": ".jl",
   "mimetype": "application/julia",
   "name": "julia",
   "version": "0.5.0"
  },
  "latex_envs": {
   "bibliofile": "biblio.bib",
   "cite_by": "apalike",
   "current_citInitial": 1,
   "eqLabelWithNumbers": true,
   "eqNumInitial": 0
  }
 },
 "nbformat": 4,
 "nbformat_minor": 1
}
