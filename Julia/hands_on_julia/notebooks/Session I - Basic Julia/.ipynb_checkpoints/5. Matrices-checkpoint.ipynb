{
 "cells": [
  {
   "cell_type": "markdown",
   "metadata": {},
   "source": [
    "# Matrices "
   ]
  },
  {
   "cell_type": "markdown",
   "metadata": {},
   "source": [
    "Many scientific calculations make heavy use of matrices. Julia has excellent support for matrices, including special classes, and interfaces to standard linear algebra libraries."
   ]
  },
  {
   "cell_type": "markdown",
   "metadata": {},
   "source": [
    "Matrices can be defined by hand, or using one of many functions for constructing matrices. To define matrices by hand, the following notation is used:"
   ]
  },
  {
   "cell_type": "code",
   "execution_count": 1,
   "metadata": {},
   "outputs": [
    {
     "data": {
      "text/plain": [
       "2×2 Array{Int64,2}:\n",
       " 1  2\n",
       " 3  4"
      ]
     },
     "execution_count": 1,
     "metadata": {},
     "output_type": "execute_result"
    }
   ],
   "source": [
    "A = [1 2; 3 4]"
   ]
  },
  {
   "cell_type": "markdown",
   "metadata": {},
   "source": [
    "The spaces separate consecutive elements in the same row; the semicolons separate different rows."
   ]
  },
  {
   "cell_type": "markdown",
   "metadata": {},
   "source": [
    "[1] What is the type of `A`? What information is thus stored in the type of an array (comparing the types of a matrix and a vector)?"
   ]
  },
  {
   "cell_type": "code",
   "execution_count": 2,
   "metadata": {},
   "outputs": [
    {
     "data": {
      "text/plain": [
       "Array{Int64,2}"
      ]
     },
     "execution_count": 2,
     "metadata": {},
     "output_type": "execute_result"
    }
   ],
   "source": [
    "typeof(A)"
   ]
  },
  {
   "cell_type": "markdown",
   "metadata": {},
   "source": [
    "[2] What does `R = [1 2]` do?"
   ]
  },
  {
   "cell_type": "code",
   "execution_count": 4,
   "metadata": {},
   "outputs": [
    {
     "name": "stdout",
     "output_type": "stream",
     "text": [
      "Array{Int64,2}\n",
      "Array{Int64,1}\n"
     ]
    }
   ],
   "source": [
    "R = [1 2];\n",
    "V = [1, 2];\n",
    "\n",
    "println(typeof(R))\n",
    "println(typeof(V))"
   ]
  },
  {
   "cell_type": "markdown",
   "metadata": {},
   "source": [
    "[3] Define another $2 \\times 2$ matrix `B` and experiment with matrix operations."
   ]
  },
  {
   "cell_type": "code",
   "execution_count": 5,
   "metadata": {},
   "outputs": [
    {
     "data": {
      "text/plain": [
       "2×2 Array{Int64,2}:\n",
       " -2   3\n",
       "  4  -1"
      ]
     },
     "execution_count": 5,
     "metadata": {},
     "output_type": "execute_result"
    }
   ],
   "source": [
    "B = [-2 3; 4 -1]"
   ]
  },
  {
   "cell_type": "code",
   "execution_count": 8,
   "metadata": {},
   "outputs": [
    {
     "name": "stdout",
     "output_type": "stream",
     "text": [
      "A = [1 2; 3 4]\n",
      "B = [-2 3; 4 -1]\n",
      "\n",
      "A + B = [-1 5; 7 3]\n",
      "3B = [-6 9; 12 -3]\n",
      "2A - B = [4 1; 2 9]\n",
      "A² = [7 10; 15 22]\n",
      "exp(A) = [2.71828 7.38906; 20.0855 54.5982]\n"
     ]
    }
   ],
   "source": [
    "println(\"A = $A\")\n",
    "println(\"B = $B\\n\")\n",
    "println(\"A + B = $(A + B)\")\n",
    "println(\"3B = $(3B)\")\n",
    "println(\"2A - B = $(2A - B)\")\n",
    "println(\"A² = $(A^2)\") # Matrix multiplication of A with itself.\n",
    "println(\"exp(A) = $(exp(A))\") # Elementwise exponentiation."
   ]
  },
  {
   "cell_type": "code",
   "execution_count": 27,
   "metadata": {},
   "outputs": [
    {
     "name": "stderr",
     "output_type": "stream",
     "text": [
      "WARNING: Method definition my_exp(Array{T<:Any, 2}) in module Main at In[25]:1 overwritten at In[27]:1.\n"
     ]
    },
    {
     "data": {
      "text/plain": [
       "my_exp (generic function with 1 method)"
      ]
     },
     "execution_count": 27,
     "metadata": {},
     "output_type": "execute_result"
    }
   ],
   "source": [
    "# Definition of a true matrix exponential function.\n",
    "\n",
    "my_exp(A::Matrix) = sum([A^n/factorial(n) for n in 0:20])"
   ]
  },
  {
   "cell_type": "code",
   "execution_count": 31,
   "metadata": {},
   "outputs": [
    {
     "data": {
      "text/plain": [
       "2×2 Array{Float64,2}:\n",
       " 4.19453  3.19453\n",
       " 3.19453  4.19453"
      ]
     },
     "execution_count": 31,
     "metadata": {},
     "output_type": "execute_result"
    }
   ],
   "source": [
    "my_exp([1 1; 1 1])"
   ]
  },
  {
   "cell_type": "markdown",
   "metadata": {},
   "source": [
    "[4] How can we construct a matrix by dividing element by element the elements of `A` by those of `B`? "
   ]
  },
  {
   "cell_type": "code",
   "execution_count": 11,
   "metadata": {},
   "outputs": [
    {
     "data": {
      "text/plain": [
       "2×2 Array{Float64,2}:\n",
       " -0.5    0.666667\n",
       "  0.75  -4.0     "
      ]
     },
     "execution_count": 11,
     "metadata": {},
     "output_type": "execute_result"
    }
   ],
   "source": [
    "# Note A/B is equivalent to A * inv(B)\n",
    "\n",
    "A./B # Elementwise division of elements of A by corresponding elements of B"
   ]
  },
  {
   "cell_type": "markdown",
   "metadata": {},
   "source": [
    "[5] Experiment with different ways of constructing matrices: `zeros`, `ones`, `eye`, `diag`. Use the help function if necessary."
   ]
  },
  {
   "cell_type": "code",
   "execution_count": 32,
   "metadata": {},
   "outputs": [
    {
     "name": "stdout",
     "output_type": "stream",
     "text": [
      "search: \u001b[1mz\u001b[22m\u001b[1me\u001b[22m\u001b[1mr\u001b[22m\u001b[1mo\u001b[22m\u001b[1ms\u001b[22m sp\u001b[1mz\u001b[22m\u001b[1me\u001b[22m\u001b[1mr\u001b[22m\u001b[1mo\u001b[22m\u001b[1ms\u001b[22m non\u001b[1mz\u001b[22m\u001b[1me\u001b[22m\u001b[1mr\u001b[22m\u001b[1mo\u001b[22m\u001b[1ms\u001b[22m drop\u001b[1mz\u001b[22m\u001b[1me\u001b[22m\u001b[1mr\u001b[22m\u001b[1mo\u001b[22m\u001b[1ms\u001b[22m drop\u001b[1mz\u001b[22m\u001b[1me\u001b[22m\u001b[1mr\u001b[22m\u001b[1mo\u001b[22m\u001b[1ms\u001b[22m! count_\u001b[1mz\u001b[22m\u001b[1me\u001b[22m\u001b[1mr\u001b[22m\u001b[1mo\u001b[22m\u001b[1ms\u001b[22m\n",
      "\n"
     ]
    },
    {
     "data": {
      "text/markdown": [
       "```\n",
       "zeros(type, dims)\n",
       "```\n",
       "\n",
       "Create an array of all zeros of specified type. The type defaults to Float64 if not specified.\n",
       "\n",
       "```\n",
       "zeros(A)\n",
       "```\n",
       "\n",
       "Create an array of all zeros with the same element type and shape as `A`.\n"
      ],
      "text/plain": [
       "```\n",
       "zeros(type, dims)\n",
       "```\n",
       "\n",
       "Create an array of all zeros of specified type. The type defaults to Float64 if not specified.\n",
       "\n",
       "```\n",
       "zeros(A)\n",
       "```\n",
       "\n",
       "Create an array of all zeros with the same element type and shape as `A`.\n"
      ]
     },
     "execution_count": 32,
     "metadata": {},
     "output_type": "execute_result"
    }
   ],
   "source": [
    "?zeros"
   ]
  },
  {
   "cell_type": "code",
   "execution_count": 37,
   "metadata": {},
   "outputs": [
    {
     "data": {
      "text/plain": [
       "2×3 Array{Float64,2}:\n",
       " 0.0  0.0  0.0\n",
       " 0.0  0.0  0.0"
      ]
     },
     "execution_count": 37,
     "metadata": {},
     "output_type": "execute_result"
    }
   ],
   "source": [
    "zeros(2,3)"
   ]
  },
  {
   "cell_type": "code",
   "execution_count": 38,
   "metadata": {},
   "outputs": [
    {
     "name": "stdout",
     "output_type": "stream",
     "text": [
      "search: \u001b[1mo\u001b[22m\u001b[1mn\u001b[22m\u001b[1me\u001b[22m\u001b[1ms\u001b[22m sp\u001b[1mo\u001b[22m\u001b[1mn\u001b[22m\u001b[1me\u001b[22m\u001b[1ms\u001b[22m leading_\u001b[1mo\u001b[22m\u001b[1mn\u001b[22m\u001b[1me\u001b[22m\u001b[1ms\u001b[22m trailing_\u001b[1mo\u001b[22m\u001b[1mn\u001b[22m\u001b[1me\u001b[22m\u001b[1ms\u001b[22m n\u001b[1mo\u001b[22m\u001b[1mn\u001b[22mz\u001b[1me\u001b[22mro\u001b[1ms\u001b[22m c\u001b[1mo\u001b[22mu\u001b[1mn\u001b[22mtlin\u001b[1me\u001b[22m\u001b[1ms\u001b[22m c\u001b[1mo\u001b[22mu\u001b[1mn\u001b[22mt_on\u001b[1me\u001b[22m\u001b[1ms\u001b[22m\n",
      "\n"
     ]
    },
    {
     "data": {
      "text/markdown": [
       "```\n",
       "ones(type, dims)\n",
       "```\n",
       "\n",
       "Create an array of all ones of specified type. The type defaults to `Float64` if not specified.\n",
       "\n",
       "```\n",
       "ones(A)\n",
       "```\n",
       "\n",
       "Create an array of all ones with the same element type and shape as `A`.\n"
      ],
      "text/plain": [
       "```\n",
       "ones(type, dims)\n",
       "```\n",
       "\n",
       "Create an array of all ones of specified type. The type defaults to `Float64` if not specified.\n",
       "\n",
       "```\n",
       "ones(A)\n",
       "```\n",
       "\n",
       "Create an array of all ones with the same element type and shape as `A`.\n"
      ]
     },
     "execution_count": 38,
     "metadata": {},
     "output_type": "execute_result"
    }
   ],
   "source": [
    "?ones"
   ]
  },
  {
   "cell_type": "code",
   "execution_count": 39,
   "metadata": {},
   "outputs": [
    {
     "data": {
      "text/plain": [
       "4×3 Array{Float64,2}:\n",
       " 1.0  1.0  1.0\n",
       " 1.0  1.0  1.0\n",
       " 1.0  1.0  1.0\n",
       " 1.0  1.0  1.0"
      ]
     },
     "execution_count": 39,
     "metadata": {},
     "output_type": "execute_result"
    }
   ],
   "source": [
    "ones(4,3)"
   ]
  },
  {
   "cell_type": "code",
   "execution_count": 40,
   "metadata": {},
   "outputs": [
    {
     "name": "stdout",
     "output_type": "stream",
     "text": [
      "search: \u001b[1me\u001b[22m\u001b[1my\u001b[22m\u001b[1me\u001b[22m K\u001b[1me\u001b[22m\u001b[1my\u001b[22m\u001b[1mE\u001b[22mrror sp\u001b[1me\u001b[22m\u001b[1my\u001b[22m\u001b[1me\u001b[22m \u001b[1me\u001b[22mlt\u001b[1my\u001b[22mp\u001b[1me\u001b[22m k\u001b[1me\u001b[22m\u001b[1my\u001b[22mtyp\u001b[1me\u001b[22m sup\u001b[1me\u001b[22mrt\u001b[1my\u001b[22mp\u001b[1me\u001b[22m cod\u001b[1me\u001b[22m_t\u001b[1my\u001b[22mp\u001b[1me\u001b[22md @cod\u001b[1me\u001b[22m_t\u001b[1my\u001b[22mp\u001b[1me\u001b[22md\n",
      "\n"
     ]
    },
    {
     "data": {
      "text/markdown": [
       "```\n",
       "eye([T::Type=Float64,] m::Integer, n::Integer)\n",
       "```\n",
       "\n",
       "`m`-by-`n` identity matrix. The default element type is `Float64`.\n",
       "\n",
       "```\n",
       "eye([T::Type=Float64,] n::Integer)\n",
       "```\n",
       "\n",
       "`n`-by-`n` identity matrix. The default element type is `Float64`.\n",
       "\n",
       "```\n",
       "eye(A)\n",
       "```\n",
       "\n",
       "Constructs an identity matrix of the same dimensions and type as `A`.\n",
       "\n",
       "```jldoctest\n",
       "julia> A = [1 2 3; 4 5 6; 7 8 9]\n",
       "3×3 Array{Int64,2}:\n",
       " 1  2  3\n",
       " 4  5  6\n",
       " 7  8  9\n",
       "\n",
       "julia> eye(A)\n",
       "3×3 Array{Int64,2}:\n",
       " 1  0  0\n",
       " 0  1  0\n",
       " 0  0  1\n",
       "```\n",
       "\n",
       "Note the difference from [`ones`](:func:`ones`).\n",
       "\n",
       "```\n",
       "eye(n)\n",
       "```\n",
       "\n",
       "`n`-by-`n` identity matrix.\n",
       "\n",
       "```\n",
       "eye(m, n)\n",
       "```\n",
       "\n",
       "`m`-by-`n` identity matrix.\n"
      ],
      "text/plain": [
       "```\n",
       "eye([T::Type=Float64,] m::Integer, n::Integer)\n",
       "```\n",
       "\n",
       "`m`-by-`n` identity matrix. The default element type is `Float64`.\n",
       "\n",
       "```\n",
       "eye([T::Type=Float64,] n::Integer)\n",
       "```\n",
       "\n",
       "`n`-by-`n` identity matrix. The default element type is `Float64`.\n",
       "\n",
       "```\n",
       "eye(A)\n",
       "```\n",
       "\n",
       "Constructs an identity matrix of the same dimensions and type as `A`.\n",
       "\n",
       "```jldoctest\n",
       "julia> A = [1 2 3; 4 5 6; 7 8 9]\n",
       "3×3 Array{Int64,2}:\n",
       " 1  2  3\n",
       " 4  5  6\n",
       " 7  8  9\n",
       "\n",
       "julia> eye(A)\n",
       "3×3 Array{Int64,2}:\n",
       " 1  0  0\n",
       " 0  1  0\n",
       " 0  0  1\n",
       "```\n",
       "\n",
       "Note the difference from [`ones`](:func:`ones`).\n",
       "\n",
       "```\n",
       "eye(n)\n",
       "```\n",
       "\n",
       "`n`-by-`n` identity matrix.\n",
       "\n",
       "```\n",
       "eye(m, n)\n",
       "```\n",
       "\n",
       "`m`-by-`n` identity matrix.\n"
      ]
     },
     "execution_count": 40,
     "metadata": {},
     "output_type": "execute_result"
    }
   ],
   "source": [
    "?eye"
   ]
  },
  {
   "cell_type": "code",
   "execution_count": 41,
   "metadata": {},
   "outputs": [
    {
     "data": {
      "text/plain": [
       "4×4 Array{Float64,2}:\n",
       " 1.0  0.0  0.0  0.0\n",
       " 0.0  1.0  0.0  0.0\n",
       " 0.0  0.0  1.0  0.0\n",
       " 0.0  0.0  0.0  1.0"
      ]
     },
     "execution_count": 41,
     "metadata": {},
     "output_type": "execute_result"
    }
   ],
   "source": [
    "eye(4)"
   ]
  },
  {
   "cell_type": "code",
   "execution_count": 42,
   "metadata": {},
   "outputs": [
    {
     "data": {
      "text/plain": [
       "3×6 Array{Float64,2}:\n",
       " 1.0  0.0  0.0  0.0  0.0  0.0\n",
       " 0.0  1.0  0.0  0.0  0.0  0.0\n",
       " 0.0  0.0  1.0  0.0  0.0  0.0"
      ]
     },
     "execution_count": 42,
     "metadata": {},
     "output_type": "execute_result"
    }
   ],
   "source": [
    "eye(3,6)"
   ]
  },
  {
   "cell_type": "code",
   "execution_count": 43,
   "metadata": {},
   "outputs": [
    {
     "name": "stdout",
     "output_type": "stream",
     "text": [
      "search: \u001b[1md\u001b[22m\u001b[1mi\u001b[22m\u001b[1ma\u001b[22m\u001b[1mg\u001b[22m \u001b[1md\u001b[22m\u001b[1mi\u001b[22m\u001b[1ma\u001b[22m\u001b[1mg\u001b[22mm \u001b[1md\u001b[22m\u001b[1mi\u001b[22m\u001b[1ma\u001b[22m\u001b[1mg\u001b[22mind \u001b[1mD\u001b[22m\u001b[1mi\u001b[22m\u001b[1ma\u001b[22m\u001b[1mg\u001b[22monal is\u001b[1md\u001b[22m\u001b[1mi\u001b[22m\u001b[1ma\u001b[22m\u001b[1mg\u001b[22m sp\u001b[1md\u001b[22m\u001b[1mi\u001b[22m\u001b[1ma\u001b[22m\u001b[1mg\u001b[22mm Bi\u001b[1md\u001b[22m\u001b[1mi\u001b[22m\u001b[1ma\u001b[22m\u001b[1mg\u001b[22monal blk\u001b[1md\u001b[22m\u001b[1mi\u001b[22m\u001b[1ma\u001b[22m\u001b[1mg\u001b[22m\n",
      "\n"
     ]
    },
    {
     "data": {
      "text/markdown": [
       "```\n",
       "diag(M[, k])\n",
       "```\n",
       "\n",
       "The `k`th diagonal of a matrix, as a vector. Use `diagm` to construct a diagonal matrix.\n"
      ],
      "text/plain": [
       "```\n",
       "diag(M[, k])\n",
       "```\n",
       "\n",
       "The `k`th diagonal of a matrix, as a vector. Use `diagm` to construct a diagonal matrix.\n"
      ]
     },
     "execution_count": 43,
     "metadata": {},
     "output_type": "execute_result"
    }
   ],
   "source": [
    "?diag"
   ]
  },
  {
   "cell_type": "code",
   "execution_count": 44,
   "metadata": {},
   "outputs": [
    {
     "data": {
      "text/plain": [
       "6×6 Array{Int64,2}:\n",
       " -1  0  0  0  0  0\n",
       "  0  2  0  0  0  0\n",
       "  0  0  0  0  0  0\n",
       "  0  0  0  5  0  0\n",
       "  0  0  0  0  1  0\n",
       "  0  0  0  0  0  3"
      ]
     },
     "execution_count": 44,
     "metadata": {},
     "output_type": "execute_result"
    }
   ],
   "source": [
    "diagm([-1,2,0,5,1,3])"
   ]
  },
  {
   "cell_type": "code",
   "execution_count": 46,
   "metadata": {},
   "outputs": [
    {
     "data": {
      "text/plain": [
       "print_matrix (generic function with 1 method)"
      ]
     },
     "execution_count": 46,
     "metadata": {},
     "output_type": "execute_result"
    }
   ],
   "source": [
    "function print_matrix(M::Matrix)\n",
    "    for r in 1:size(M)[1]\n",
    "        println(M[r,:])\n",
    "    end\n",
    "end"
   ]
  },
  {
   "cell_type": "code",
   "execution_count": 72,
   "metadata": {},
   "outputs": [
    {
     "name": "stdout",
     "output_type": "stream",
     "text": [
      "[1,2,3,4]\n",
      "[5,6,7,8]\n",
      "[9,10,11,12]\n"
     ]
    }
   ],
   "source": [
    "print_matrix([1 2 3 4; 5 6 7 8; 9 10 11 12])"
   ]
  },
  {
   "cell_type": "code",
   "execution_count": 76,
   "metadata": {},
   "outputs": [
    {
     "name": "stdout",
     "output_type": "stream",
     "text": [
      "[1,7,7,2]\n",
      "[2,2,5,9]\n",
      "[8,5,7,6]\n",
      "[4,1,4,7]\n",
      "\n",
      "\n",
      "Int64[]\n",
      "[4]\n",
      "[8,1]\n",
      "[2,5,4]\n",
      "[1,2,7,7]\n",
      "[7,5,6]\n",
      "[7,9]\n",
      "[2]\n",
      "Int64[]\n"
     ]
    }
   ],
   "source": [
    "M = rand(1:10,4,4)\n",
    "\n",
    "print_matrix(M)\n",
    "println()\n",
    "println()\n",
    "for k in -4:4\n",
    "    println(diag(M,k))\n",
    "end"
   ]
  },
  {
   "cell_type": "markdown",
   "metadata": {},
   "source": [
    "Matrix-vector and matrix-matrix multiplication uses the `*` operator. \n",
    "\n",
    "[6] Check that `*` is matrix-matrix multiplication. How is element-by-element multiplication done?"
   ]
  },
  {
   "cell_type": "code",
   "execution_count": 80,
   "metadata": {},
   "outputs": [
    {
     "name": "stdout",
     "output_type": "stream",
     "text": [
      "[1,1,2]\n",
      "[1,2,1]\n",
      "[4,2,2]\n",
      "\n",
      "[1,4,1]\n",
      "[1,3,2]\n",
      "[2,3,2]\n",
      "\n",
      "[6,13,7]\n",
      "[5,13,7]\n",
      "[10,28,12]\n",
      "\n",
      "[1,4,2]\n",
      "[1,6,2]\n",
      "[8,6,4]\n"
     ]
    }
   ],
   "source": [
    "A = rand(1:4,3,3)\n",
    "B = rand(1:4,3,3)\n",
    "print_matrix(A)\n",
    "println()\n",
    "print_matrix(B)\n",
    "println()\n",
    "print_matrix(A*B) # True matrix multiplication\n",
    "println()\n",
    "print_matrix(A.*B) # Corresponding element multiplication"
   ]
  },
  {
   "cell_type": "markdown",
   "metadata": {},
   "source": [
    "Matrices may also be constructed using array comprehensions, by using a double `for` loop of the type\n",
    "\n",
    "    for x in 1:10, y in 1:10\n",
    "        ...\n",
    "    end\n",
    "    \n",
    "[7] Construct a matrix $M$ whose $(i,j)$th element is $i+j$."
   ]
  },
  {
   "cell_type": "code",
   "execution_count": 88,
   "metadata": {},
   "outputs": [
    {
     "name": "stdout",
     "output_type": "stream",
     "text": [
      "[2,3,4,5,6,7,8,9,10,11]\n",
      "[3,4,5,6,7,8,9,10,11,12]\n",
      "[4,5,6,7,8,9,10,11,12,13]\n",
      "[5,6,7,8,9,10,11,12,13,14]\n",
      "[6,7,8,9,10,11,12,13,14,15]\n",
      "[7,8,9,10,11,12,13,14,15,16]\n",
      "[8,9,10,11,12,13,14,15,16,17]\n",
      "[9,10,11,12,13,14,15,16,17,18]\n",
      "[10,11,12,13,14,15,16,17,18,19]\n",
      "[11,12,13,14,15,16,17,18,19,20]\n",
      "\n",
      "(10,10)"
     ]
    }
   ],
   "source": [
    "M = [i+j for i in 1:10, j in 1:10]\n",
    "print_matrix(M)\n",
    "println()\n",
    "print(size(M))"
   ]
  },
  {
   "cell_type": "markdown",
   "metadata": {},
   "source": [
    "## Exercise: Calculating the largest eigenvalue of a matrix"
   ]
  },
  {
   "cell_type": "markdown",
   "metadata": {},
   "source": [
    "In this exercise, we shall use a simple method, the *power method*, to calculate the largest eigenvalue $\\lambda_1$ of a matrix.\n",
    "\n",
    "(\n",
    "Recall that $\\lambda$ is an *eigenvalue* of the matrix $\\mathsf{M}$ with corresponding *eigenvector* $\\mathbf{v}$ if\n",
    "\n",
    "$$ \\mathsf{M} \\cdot \\mathbf{v} = \\lambda \\mathbf{v}, $$\n",
    "\n",
    "i.e. if the direction of $\\mathbf{v}$ remains unchanged when acted on by $\\mathsf{M}$.\n",
    ")\n",
    "\n",
    "The power method consists of simply multiplying an arbitrary (non-zero) initial vector $\\mathbf{v}_0$ by $\\mathsf{M}$ many times:\n",
    "\n",
    "$$\\mathbf{v}_{n+1} := \\mathsf{M} \\cdot \\mathbf{v}_n$$.\n",
    "\n",
    "[1] Implement the power method to calculate the largest eigenvalue $\\lambda_1$ of a given matrix. What happens? How can we fix this?"
   ]
  },
  {
   "cell_type": "code",
   "execution_count": 36,
   "metadata": {},
   "outputs": [
    {
     "name": "stderr",
     "output_type": "stream",
     "text": [
      "WARNING: Method definition max_eigenvalue(Array{T<:Any, 2}) in module Main at In[33]:3 overwritten at In[36]:2.\n"
     ]
    },
    {
     "data": {
      "text/plain": [
       "max_eigenvalue (generic function with 1 method)"
      ]
     },
     "execution_count": 36,
     "metadata": {},
     "output_type": "execute_result"
    }
   ],
   "source": [
    "function max_eigenvalue(M::Matrix)\n",
    "    v = rand(1:4,size(M)[1],1)\n",
    "#     v = [-1,2,1]\n",
    "    flag = false\n",
    "    while !flag\n",
    "        v1 = M*v\n",
    "        v1 = v1/maximum(v1)\n",
    "        flag = norm(v - v1) < 0.00001\n",
    "        v = v1\n",
    "    end\n",
    "    return maximum(A*v), v\n",
    "end"
   ]
  },
  {
   "cell_type": "code",
   "execution_count": 39,
   "metadata": {
    "run_control": {
     "marked": false
    }
   },
   "outputs": [
    {
     "name": "stdout",
     "output_type": "stream",
     "text": [
      "[3.88245; -16.0147; 5.12488]\n",
      "[3.88245; -16.0147; 5.12488]\n"
     ]
    }
   ],
   "source": [
    "A = [1 -1 0; -2 4 -2; 0 -1 2]\n",
    "eval, evec =max_eigenvalue(A)\n",
    "\n",
    "println(A*evec)\n",
    "println(evec*eval)"
   ]
  },
  {
   "cell_type": "code",
   "execution_count": 40,
   "metadata": {},
   "outputs": [
    {
     "name": "stdout",
     "output_type": "stream",
     "text": [
      "[8.06705; 5.61508; 10.5034; 11.1665]\n",
      "[8.06704; 5.61507; 10.5034; 11.1665]\n"
     ]
    }
   ],
   "source": [
    "A = rand(1:5,4,4)\n",
    "eval, evec = max_eigenvalue(A)\n",
    "\n",
    "println(A*evec)\n",
    "println(evec*eval)"
   ]
  },
  {
   "cell_type": "code",
   "execution_count": 43,
   "metadata": {},
   "outputs": [
    {
     "name": "stdout",
     "output_type": "stream",
     "text": [
      "[26.6928; 19.9203; 31.8243; 20.2344; 33.2138; 24.3749]\n",
      "[26.6928; 19.9203; 31.8243; 20.2344; 33.2138; 24.3749]\n",
      "\n",
      "33.21379733150812\n",
      "[0.803666; 0.599759; 0.958164; 0.609217; 1.0; 0.733879]\n"
     ]
    }
   ],
   "source": [
    "A = rand(1:10,6,6)\n",
    "eval, evec = max_eigenvalue(A)\n",
    "\n",
    "println(A*evec)\n",
    "println(evec*eval)\n",
    "println()\n",
    "println(eval)\n",
    "println(evec)"
   ]
  },
  {
   "cell_type": "markdown",
   "metadata": {},
   "source": [
    "[2] How can we find the corresponding eigenvector?"
   ]
  },
  {
   "cell_type": "markdown",
   "metadata": {},
   "source": [
    "`**` [3] Can this be extended to find several eigenvectors? (Suppose that the matrix is *symmetric* and that the eigenvectors are thus *orthogonal* with respect to the standard scalar product.)"
   ]
  },
  {
   "cell_type": "markdown",
   "metadata": {},
   "source": [
    "## Linear algebra"
   ]
  },
  {
   "cell_type": "markdown",
   "metadata": {},
   "source": [
    "Julia provides a simple interface to standard LAPACK routines.\n",
    "\n",
    "[4] Guess the names for calculating the determinant, inverse, and eigenvalues/vectors. (Use tab completion.)\n",
    "What format are the eigenvectors returned in?"
   ]
  },
  {
   "cell_type": "code",
   "execution_count": 59,
   "metadata": {},
   "outputs": [
    {
     "name": "stdout",
     "output_type": "stream",
     "text": [
      "[4,3,1]\n",
      "[3,1,1]\n",
      "[3,2,3]\n",
      "\n",
      "-11.0\n",
      "\n",
      "[-0.0909091,0.636364,-0.181818]\n",
      "[0.545455,-0.818182,0.0909091]\n",
      "[-0.272727,-0.0909091,0.454545]\n",
      "\n",
      "[7.07325,1.79374,-0.866989]\n",
      "\n",
      "[-0.622255 -0.331954 0.518397; -0.416511 -0.0694529 -0.854221; -0.66281 0.940735 0.0396306]\n"
     ]
    }
   ],
   "source": [
    "A = rand(1:5,3,3)\n",
    "print_matrix(A)\n",
    "println()\n",
    "\n",
    "println(det(A))\n",
    "println()\n",
    "\n",
    "print_matrix(inv(A))\n",
    "println()\n",
    "\n",
    "evals, evecs = eigvals(A), eigvecs(A)\n",
    "println(evals)\n",
    "println()\n",
    "\n",
    "println(evecs)"
   ]
  },
  {
   "cell_type": "code",
   "execution_count": 100,
   "metadata": {},
   "outputs": [
    {
     "name": "stdout",
     "output_type": "stream",
     "text": [
      "[4,3,1]\n",
      "[3,1,1]\n",
      "[3,2,3]\n",
      "\n",
      "[-0.622255,-0.331954,0.518397]\n",
      "[-0.416511,-0.0694529,-0.854221]\n",
      "[-0.66281,0.940735,0.0396306]\n",
      "\n",
      "[7.07325 1.79374 -0.866989]\n",
      "\n",
      "[-0.622255,-0.416511,-0.66281]\n",
      "\n",
      "[-4.40136,-2.94609,-4.68822]\n",
      "[-4.40136,-2.94609,-4.68822]\n",
      "\n",
      "[-4.40136,-2.94609,-4.68822]\n",
      "[-0.595441,-0.124581,1.68744]\n",
      "[-0.449445,0.740601,-0.0343593]\n",
      "\n",
      "\n",
      "[-4.40136,-2.94609,-4.68822]\n",
      "[-0.595441,-0.124581,1.68744]\n",
      "[-0.449445,0.740601,-0.0343593]\n"
     ]
    }
   ],
   "source": [
    "print_matrix(A)\n",
    "println()\n",
    "\n",
    "print_matrix(evecs)\n",
    "println()\n",
    "\n",
    "println(transpose(evals))\n",
    "println()\n",
    "\n",
    "println(evecs[:,1])\n",
    "println()\n",
    "\n",
    "println(A*evecs[:,1])\n",
    "println(evals[1]*evecs[:,1])\n",
    "println()\n",
    "\n",
    "print_matrix(transpose(A*evecs))\n",
    "println()\n",
    "\n",
    "println()\n",
    "print_matrix(evals.*transpose(evecs))"
   ]
  },
  {
   "cell_type": "markdown",
   "metadata": {},
   "source": [
    "The notation for solving the system of linear equations $\\mathsf{M} \\cdot \\mathbf{x} = \\mathbf{c}$ for the unknown variables $\\mathbf{x}$ is \n",
    "\n",
    "    M \\ b"
   ]
  },
  {
   "cell_type": "code",
   "execution_count": 104,
   "metadata": {},
   "outputs": [
    {
     "name": "stdout",
     "output_type": "stream",
     "text": [
      "[-3,-3,3,-2]\n",
      "[3,-1,1,1]\n",
      "[-2,3,2,0]\n",
      "[1,-3,-3,-3]\n",
      "\n",
      "[-3; 0; 3; -3]\n",
      "\n",
      "[0.331169; 1.05195; 0.253247; -0.194805]\n",
      "\n",
      "[-3.0; 2.498e-16; 3.0; -3.0]\n"
     ]
    }
   ],
   "source": [
    "M = rand(-3:3,4,4)\n",
    "c = rand(-3:3,4,1)\n",
    "\n",
    "print_matrix(M)\n",
    "println()\n",
    "println(c)\n",
    "println()\n",
    "\n",
    "x = M\\c\n",
    "\n",
    "println(x)\n",
    "println()\n",
    "println(M*x)"
   ]
  },
  {
   "cell_type": "markdown",
   "metadata": {},
   "source": [
    "## Exercise: Distribution of eigenvalues of a random matrix"
   ]
  },
  {
   "cell_type": "markdown",
   "metadata": {},
   "source": [
    "Random matrices are important in several branches of mathematics and physics. Let's calculate a few properties of their eigenvalues."
   ]
  },
  {
   "cell_type": "markdown",
   "metadata": {},
   "source": [
    "[1] Create a random matrix `M` of samples from a Gaussian / normal distribution using `randn`."
   ]
  },
  {
   "cell_type": "code",
   "execution_count": 105,
   "metadata": {},
   "outputs": [
    {
     "name": "stdout",
     "output_type": "stream",
     "text": [
      "search: \u001b[1mr\u001b[22m\u001b[1ma\u001b[22m\u001b[1mn\u001b[22m\u001b[1md\u001b[22m\u001b[1mn\u001b[22m \u001b[1mr\u001b[22m\u001b[1ma\u001b[22m\u001b[1mn\u001b[22m\u001b[1md\u001b[22m\u001b[1mn\u001b[22m! sp\u001b[1mr\u001b[22m\u001b[1ma\u001b[22m\u001b[1mn\u001b[22m\u001b[1md\u001b[22m\u001b[1mn\u001b[22m \u001b[1mr\u001b[22m\u001b[1ma\u001b[22m\u001b[1mn\u001b[22m\u001b[1md\u001b[22mstri\u001b[1mn\u001b[22mg \u001b[1mr\u001b[22m\u001b[1ma\u001b[22m\u001b[1mn\u001b[22m\u001b[1md\u001b[22m! \u001b[1mr\u001b[22m\u001b[1ma\u001b[22m\u001b[1mn\u001b[22m\u001b[1md\u001b[22m \u001b[1mr\u001b[22m\u001b[1ma\u001b[22m\u001b[1mn\u001b[22m\u001b[1md\u001b[22mexp \u001b[1mr\u001b[22m\u001b[1ma\u001b[22m\u001b[1mn\u001b[22m\u001b[1md\u001b[22mperm \u001b[1mr\u001b[22m\u001b[1ma\u001b[22m\u001b[1mn\u001b[22m\u001b[1md\u001b[22mjump\n",
      "\n"
     ]
    },
    {
     "data": {
      "text/markdown": [
       "```\n",
       "randn([rng], [T=Float64], [dims...])\n",
       "```\n",
       "\n",
       "Generate a normally-distributed random number of type `T` with mean 0 and standard deviation 1. Optionally generate an array of normally-distributed random numbers. The `Base` module currently provides an implementation for the types `Float16`, `Float32`, and `Float64` (the default).\n"
      ],
      "text/plain": [
       "```\n",
       "randn([rng], [T=Float64], [dims...])\n",
       "```\n",
       "\n",
       "Generate a normally-distributed random number of type `T` with mean 0 and standard deviation 1. Optionally generate an array of normally-distributed random numbers. The `Base` module currently provides an implementation for the types `Float16`, `Float32`, and `Float64` (the default).\n"
      ]
     },
     "execution_count": 105,
     "metadata": {},
     "output_type": "execute_result"
    }
   ],
   "source": [
    "?randn"
   ]
  },
  {
   "cell_type": "code",
   "execution_count": 107,
   "metadata": {},
   "outputs": [
    {
     "data": {
      "text/plain": [
       "3×3 Array{Float64,2}:\n",
       " -1.61483   -0.955922  -1.3589   \n",
       "  0.785735  -0.371622  -0.0840098\n",
       " -0.948044  -0.507155   0.479929 "
      ]
     },
     "execution_count": 107,
     "metadata": {},
     "output_type": "execute_result"
    }
   ],
   "source": [
    "M = randn(3,3)"
   ]
  },
  {
   "cell_type": "markdown",
   "metadata": {},
   "source": [
    "[2] Make a symmetric version of the matrix using `Symmetric`. What is the type of the resulting object? Check using a small matrix exactly what it does."
   ]
  },
  {
   "cell_type": "code",
   "execution_count": 108,
   "metadata": {},
   "outputs": [
    {
     "name": "stdout",
     "output_type": "stream",
     "text": [
      "search: \u001b[1mS\u001b[22m\u001b[1my\u001b[22m\u001b[1mm\u001b[22m\u001b[1mm\u001b[22m\u001b[1me\u001b[22m\u001b[1mt\u001b[22m\u001b[1mr\u001b[22m\u001b[1mi\u001b[22m\u001b[1mc\u001b[22m i\u001b[1ms\u001b[22ms\u001b[1my\u001b[22m\u001b[1mm\u001b[22m\u001b[1mm\u001b[22m\u001b[1me\u001b[22m\u001b[1mt\u001b[22m\u001b[1mr\u001b[22m\u001b[1mi\u001b[22m\u001b[1mc\u001b[22m\n",
      "\n"
     ]
    },
    {
     "data": {
      "text/markdown": [
       "```\n",
       "Symmetric(A, uplo=:U)\n",
       "```\n",
       "\n",
       "Construct a `Symmetric` matrix from the upper (if `uplo = :U`) or lower (if `uplo = :L`) triangle of `A`.\n",
       "\n",
       "**Example**\n",
       "\n",
       "```julia\n",
       "A = randn(10,10)\n",
       "Supper = Symmetric(A)\n",
       "Slower = Symmetric(A,:L)\n",
       "eigfact(Supper)\n",
       "```\n",
       "\n",
       "`eigfact` will use a method specialized for matrices known to be symmetric. Note that `Supper` will not be equal to `Slower` unless `A` is itself symmetric (e.g. if `A == A.'`).\n"
      ],
      "text/plain": [
       "```\n",
       "Symmetric(A, uplo=:U)\n",
       "```\n",
       "\n",
       "Construct a `Symmetric` matrix from the upper (if `uplo = :U`) or lower (if `uplo = :L`) triangle of `A`.\n",
       "\n",
       "**Example**\n",
       "\n",
       "```julia\n",
       "A = randn(10,10)\n",
       "Supper = Symmetric(A)\n",
       "Slower = Symmetric(A,:L)\n",
       "eigfact(Supper)\n",
       "```\n",
       "\n",
       "`eigfact` will use a method specialized for matrices known to be symmetric. Note that `Supper` will not be equal to `Slower` unless `A` is itself symmetric (e.g. if `A == A.'`).\n"
      ]
     },
     "execution_count": 108,
     "metadata": {},
     "output_type": "execute_result"
    }
   ],
   "source": [
    "?Symmetric"
   ]
  },
  {
   "cell_type": "code",
   "execution_count": 111,
   "metadata": {},
   "outputs": [
    {
     "data": {
      "text/plain": [
       "3×3 Symmetric{Float64,Array{Float64,2}}:\n",
       " -1.61483   -0.955922   -1.3589   \n",
       " -0.955922  -0.371622   -0.0840098\n",
       " -1.3589    -0.0840098   0.479929 "
      ]
     },
     "execution_count": 111,
     "metadata": {},
     "output_type": "execute_result"
    }
   ],
   "source": [
    "S = Symmetric(M)"
   ]
  },
  {
   "cell_type": "markdown",
   "metadata": {},
   "source": [
    "[3] Calculate all eigenvalues of `M`, normalize them by [their mean] and store them in a variable `lamb`. \n",
    "\n",
    "Note: phrases between \"[\" and \"]\" are my insertions (guesses)."
   ]
  },
  {
   "cell_type": "code",
   "execution_count": 112,
   "metadata": {},
   "outputs": [
    {
     "data": {
      "text/plain": [
       "3-element Array{Float64,1}:\n",
       "  5.25914 \n",
       "  0.200718\n",
       " -2.45986 "
      ]
     },
     "execution_count": 112,
     "metadata": {},
     "output_type": "execute_result"
    }
   ],
   "source": [
    "evals = eigvals(S)\n",
    "μ = mean(evals)\n",
    "\n",
    "lamb = evals/μ"
   ]
  },
  {
   "cell_type": "markdown",
   "metadata": {},
   "source": [
    "[4] Plot `lamb`. Now make a histogram."
   ]
  },
  {
   "cell_type": "code",
   "execution_count": 114,
   "metadata": {},
   "outputs": [],
   "source": [
    "using Plots"
   ]
  },
  {
   "cell_type": "code",
   "execution_count": 119,
   "metadata": {},
   "outputs": [
    {
     "data": {
      "text/html": [
       "<img src=\"data:image/png;base64,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\" />"
      ]
     },
     "execution_count": 119,
     "metadata": {},
     "output_type": "execute_result"
    }
   ],
   "source": [
    "histogram(lamb)"
   ]
  },
  {
   "cell_type": "markdown",
   "metadata": {},
   "source": [
    "[5] Repeat the eigenvalue calculation with different realizations of the disorder, and include all of the results in the histogram to improve the statistics."
   ]
  },
  {
   "cell_type": "code",
   "execution_count": 121,
   "metadata": {},
   "outputs": [
    {
     "data": {
      "text/plain": [
       "result (generic function with 1 method)"
      ]
     },
     "execution_count": 121,
     "metadata": {},
     "output_type": "execute_result"
    }
   ],
   "source": [
    "function result()\n",
    "    M = randn(3,3)\n",
    "    S = Symmetric(M)\n",
    "    evals = eigvals(S)\n",
    "    μ = mean(evals)\n",
    "    lamb = evals/μ\n",
    "    return lamb\n",
    "end\n",
    "    "
   ]
  },
  {
   "cell_type": "code",
   "execution_count": 130,
   "metadata": {},
   "outputs": [
    {
     "data": {
      "text/html": [
       "<img src=\"data:image/png;base64,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\" />"
      ]
     },
     "execution_count": 130,
     "metadata": {},
     "output_type": "execute_result"
    }
   ],
   "source": [
    "histogram(result())"
   ]
  },
  {
   "cell_type": "markdown",
   "metadata": {},
   "source": [
    "[6] Calculate differences between successive eigenvalues, and normalise the result by its mean. To this several times to improve the statistics, and compare the histogram of the result with the known density function,\n",
    "\n",
    "$$f(s) = \\frac{\\pi}{2} \\, s \\, e^{-\\pi s^2/4}.$$"
   ]
  },
  {
   "cell_type": "markdown",
   "metadata": {},
   "source": [
    "[7] Install the [`KernelDensity`](https://github.com/JuliaStats/KernelDensity.jl) package and use kernel density estimation instead."
   ]
  }
 ],
 "metadata": {
  "hide_input": false,
  "kernelspec": {
   "display_name": "Julia 0.5.0",
   "language": "julia",
   "name": "julia-0.5"
  },
  "language_info": {
   "file_extension": ".jl",
   "mimetype": "application/julia",
   "name": "julia",
   "version": "0.5.0"
  },
  "latex_envs": {
   "bibliofile": "biblio.bib",
   "cite_by": "apalike",
   "current_citInitial": 1,
   "eqLabelWithNumbers": true,
   "eqNumInitial": 0
  }
 },
 "nbformat": 4,
 "nbformat_minor": 1
}
