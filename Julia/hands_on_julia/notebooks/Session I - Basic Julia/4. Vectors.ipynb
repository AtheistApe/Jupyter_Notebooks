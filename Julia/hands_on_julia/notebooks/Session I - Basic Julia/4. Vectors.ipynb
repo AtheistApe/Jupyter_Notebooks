{
 "cells": [
  {
   "cell_type": "markdown",
   "metadata": {},
   "source": [
    "# Vectors"
   ]
  },
  {
   "cell_type": "markdown",
   "metadata": {},
   "source": [
    "Arrays (vectors, matrices, etc.) in Julia have a dual function: \n",
    "\n",
    "1. They act as *containers* that store information;\n",
    "2. They behave like mathematical vectors and matrices."
   ]
  },
  {
   "cell_type": "markdown",
   "metadata": {},
   "source": [
    "[1] Define two vectors `v` y `w` with three components each."
   ]
  },
  {
   "cell_type": "code",
   "execution_count": 1,
   "metadata": {},
   "outputs": [
    {
     "data": {
      "text/plain": [
       "3-element Array{Int64,1}:\n",
       "  1\n",
       " -1\n",
       "  5"
      ]
     },
     "execution_count": 1,
     "metadata": {},
     "output_type": "execute_result"
    }
   ],
   "source": [
    "v = Vector([2, -3, 4])\n",
    "w = Vector([1, -1, 5])"
   ]
  },
  {
   "cell_type": "markdown",
   "metadata": {},
   "source": [
    "[2] Try doing vector space operations on the vectors (adding two vectors, multiplying a vector by a scalar)."
   ]
  },
  {
   "cell_type": "code",
   "execution_count": 2,
   "metadata": {},
   "outputs": [
    {
     "name": "stdout",
     "output_type": "stream",
     "text": [
      "[3,-4,9]\n",
      "[4,-6,8]\n"
     ]
    }
   ],
   "source": [
    "println(v + w)\n",
    "println(2v)"
   ]
  },
  {
   "cell_type": "markdown",
   "metadata": {},
   "source": [
    "[3] Try multiplying two vectors. Does this work? What could/should this mean? If you want *element-by-element* operations, add a `.` before the operator name, e.g.  \"`.*`\" (MATLAB style). What about division?"
   ]
  },
  {
   "cell_type": "code",
   "execution_count": 5,
   "metadata": {},
   "outputs": [
    {
     "name": "stdout",
     "output_type": "stream",
     "text": [
      "[2,3,20]\n",
      "[2.0,3.0,0.8]\n"
     ]
    }
   ],
   "source": [
    "println(v.*w) # The operator \".*\" performs elementwise multiplication\n",
    "println(v./w) # The operator \"./\" performs elementwise division"
   ]
  },
  {
   "cell_type": "markdown",
   "metadata": {},
   "source": [
    "[4] Guess the names for dot and cross product. Since Julia tries, when possible, to allow Unicode for mathematical notation, these can also be written\n",
    "as `\\cdot<TAB>` and `\\times<TAB>`. Try it."
   ]
  },
  {
   "cell_type": "code",
   "execution_count": 7,
   "metadata": {},
   "outputs": [
    {
     "name": "stdout",
     "output_type": "stream",
     "text": [
      "25\n",
      "[-11,-6,1]\n",
      "\n",
      "25\n",
      "[-11,-6,1]\n"
     ]
    }
   ],
   "source": [
    "println(dot(v,w))\n",
    "println(cross(v,w))\n",
    "\n",
    "println()\n",
    "\n",
    "println(v ⋅ w)\n",
    "println(v × w)"
   ]
  },
  {
   "cell_type": "markdown",
   "metadata": {},
   "source": [
    "[5] Many mathematical functions are defined to act component-wise on vectors. Try your favourite ones."
   ]
  },
  {
   "cell_type": "code",
   "execution_count": 28,
   "metadata": {},
   "outputs": [
    {
     "name": "stdout",
     "output_type": "stream",
     "text": [
      "[8,-27,64]\n",
      "[0.909297,-0.14112,-0.756802]\n",
      "[7.38906,0.0497871,54.5982]\n",
      "[0.693147,1.09861,1.38629]\n"
     ]
    }
   ],
   "source": [
    "println(v.^3)\n",
    "println(sin(v))\n",
    "println(exp(v))\n",
    "println(log(abs(v)))"
   ]
  },
  {
   "cell_type": "markdown",
   "metadata": {},
   "source": [
    "# Creating vectors"
   ]
  },
  {
   "cell_type": "markdown",
   "metadata": {},
   "source": [
    "There are various utility functions for creating vectors:\n",
    "\n",
    "[1] Experiment with `zeros`, `ones`"
   ]
  },
  {
   "cell_type": "code",
   "execution_count": 35,
   "metadata": {},
   "outputs": [
    {
     "name": "stdout",
     "output_type": "stream",
     "text": [
      "[0.0,0.0,0.0,0.0,0.0]\n",
      "[1.0,1.0,1.0,1.0,1.0,1.0,1.0,1.0]\n"
     ]
    }
   ],
   "source": [
    "println(zeros(5))\n",
    "println(ones(8))"
   ]
  },
  {
   "cell_type": "markdown",
   "metadata": {},
   "source": [
    "Concatenation is possible using `;` inside the `[...]`.\n",
    "\n",
    "[2] Create a vector containing 1 to 10, 20 to 30, followed by 100, using concatenation."
   ]
  },
  {
   "cell_type": "code",
   "execution_count": 38,
   "metadata": {},
   "outputs": [
    {
     "name": "stdout",
     "output_type": "stream",
     "text": [
      "[1,2,3,4,5,6,7,8,9,10,20,21,22,23,24,25,26,27,28,29,30,100]"
     ]
    }
   ],
   "source": [
    "print([1:10;20:30;100])"
   ]
  },
  {
   "cell_type": "markdown",
   "metadata": {},
   "source": [
    "# Array comprehensions"
   ]
  },
  {
   "cell_type": "markdown",
   "metadata": {},
   "source": [
    "Julia provides a powerful *array comprehension*  syntax for constructing vectors (or, in general, arrays) from another sequence.\n",
    "This provides a syntax similar to the mathematical definition of a set; for example, the set $S$ defined by\n",
    "\n",
    "$$S := \\{ x^2 : x \\in \\{1, \\ldots, 10 \\} \\}$$\n",
    "\n",
    "is the set of the squares of the numbers from 1 to 10. In Julia we can accomplish this as\n",
    "\n",
    "    S = [x^2 for x in 1:10]"
   ]
  },
  {
   "cell_type": "markdown",
   "metadata": {},
   "source": [
    "[1] Use an array comprehension to define a function `my_exp` that gives an approximation to the exponential function."
   ]
  },
  {
   "cell_type": "code",
   "execution_count": 41,
   "metadata": {},
   "outputs": [
    {
     "name": "stderr",
     "output_type": "stream",
     "text": [
      "WARNING: Method definition my_exp(Any) in module Main at In[39]:1 overwritten at In[41]:1.\n"
     ]
    },
    {
     "data": {
      "text/plain": [
       "my_exp (generic function with 1 method)"
      ]
     },
     "execution_count": 41,
     "metadata": {},
     "output_type": "execute_result"
    }
   ],
   "source": [
    "my_exp(x) = sum([x^n/factorial(n) for n in 0:20])"
   ]
  },
  {
   "cell_type": "code",
   "execution_count": 46,
   "metadata": {},
   "outputs": [
    {
     "name": "stdout",
     "output_type": "stream",
     "text": [
      "[0.00674554,0.00823299,0.0100532,0.0122779,0.0149958,0.0183157,0.0223708,0.0273237,0.0333733,0.0407622,0.0497871,0.0608101,0.0742736,0.090718,0.110803,0.135335,0.165299,0.201897,0.246597,0.301194,0.367879,0.449329,0.548812,0.67032,0.818731,1.0,1.2214,1.49182,1.82212,2.22554,2.71828,3.32012,4.0552,4.95303,6.04965,7.38906,9.02501,11.0232,13.4637,16.4446,20.0855,24.5325,29.9641,36.5982,44.7012,54.5981,66.6863,81.4509,99.4843,121.51,148.413]"
     ]
    }
   ],
   "source": [
    "print(my_exp.(-5:0.2:5))"
   ]
  },
  {
   "cell_type": "markdown",
   "metadata": {},
   "source": [
    "[2] How could we use this to calculate `my_sin` and `my_cos`?\n",
    "\n",
    "$e^{ix} = \\cos(x) + i \\sin(x)$\n",
    "\n",
    "$e^{-ix} = \\cos(x) - i \\sin(x)$\n",
    "\n",
    "Therefore,\n",
    "\n",
    "$\\cos(x) = \\frac{e^{ix} + e^{-ix}}{2}$\n",
    "\n",
    "$\\sin(x) = \\frac{e^{ix} - e^{-ix}}{2i}$"
   ]
  },
  {
   "cell_type": "code",
   "execution_count": 47,
   "metadata": {},
   "outputs": [
    {
     "data": {
      "text/plain": [
       "my_sin (generic function with 1 method)"
      ]
     },
     "execution_count": 47,
     "metadata": {},
     "output_type": "execute_result"
    }
   ],
   "source": [
    "my_sin(x) = (my_exp(1im*x) + my_exp(-1im*x))/2"
   ]
  },
  {
   "cell_type": "code",
   "execution_count": 48,
   "metadata": {},
   "outputs": [
    {
     "data": {
      "text/plain": [
       "my_cos (generic function with 1 method)"
      ]
     },
     "execution_count": 48,
     "metadata": {},
     "output_type": "execute_result"
    }
   ],
   "source": [
    "my_cos(x) = (my_exp(1im*x) - my_exp(-1im*x))/(2im)"
   ]
  },
  {
   "cell_type": "code",
   "execution_count": 51,
   "metadata": {},
   "outputs": [
    {
     "name": "stdout",
     "output_type": "stream",
     "text": [
      "Complex{Float64}[-1.0+0.0im,-0.866025+0.0im,-0.5+0.0im,6.09228e-17+0.0im,0.5+0.0im,0.866025+0.0im,1.0+0.0im,0.866025+0.0im,0.5+0.0im,6.09228e-17+0.0im,-0.5+0.0im,-0.866025+0.0im,-1.0+0.0im]"
     ]
    }
   ],
   "source": [
    "print(my_sin.(-pi:pi/6:pi))"
   ]
  },
  {
   "cell_type": "code",
   "execution_count": null,
   "metadata": {
    "collapsed": true
   },
   "outputs": [],
   "source": []
  },
  {
   "cell_type": "markdown",
   "metadata": {},
   "source": [
    "# Constructing vectors: `map`, `filter`"
   ]
  },
  {
   "cell_type": "markdown",
   "metadata": {},
   "source": [
    "Given a vector (or, in general, an iterable), another vector may be created by applying a given function to each element\n",
    "Two useful higher-order functions in Julia are:\n",
    "1. `map`:    apply a given function to each element of a given iterable\n",
    "2. `filter`: return only those elements for which a given condition is satisfied.\n",
    "\n",
    "[6] Experiment with `map`. "
   ]
  },
  {
   "cell_type": "code",
   "execution_count": 55,
   "metadata": {},
   "outputs": [
    {
     "name": "stdout",
     "output_type": "stream",
     "text": [
      "[1.0,2.71828,7.38906,20.0855]\n",
      "[0.0,1.0,2.0,3.0,4.0,5.0,6.0,7.0]\n",
      "[180.77,76.1406,29.5562,10.0838,2.71828,0.41218,0.0,0.151633,0.367879,0.502043,0.541341,0.513031,0.448084]\n"
     ]
    },
    {
     "name": "stderr",
     "output_type": "stream",
     "text": [
      "WARNING: Method definition f(Any) in module Main at In[54]:4 overwritten at In[55]:4.\n"
     ]
    }
   ],
   "source": [
    "println(map(exp, [0,1,2,3]))\n",
    "println(map(sqrt, [0,1,4,9,16,25,36,49]))\n",
    "\n",
    "f(x) = x^2*exp(-x)\n",
    "\n",
    "println(map(f, -3:0.5:3))"
   ]
  },
  {
   "cell_type": "markdown",
   "metadata": {},
   "source": [
    "[7] Check the relative performance of `map` and an array comprehension for the same function and vector.\n",
    "\n",
    "Use the \"@time\" macro before the function call to be timed."
   ]
  },
  {
   "cell_type": "code",
   "execution_count": 64,
   "metadata": {},
   "outputs": [
    {
     "name": "stdout",
     "output_type": "stream",
     "text": [
      "  0.000068 seconds (10 allocations: 1.172 KB)\n"
     ]
    }
   ],
   "source": [
    "@time map(exp, 1:100);"
   ]
  },
  {
   "cell_type": "code",
   "execution_count": 65,
   "metadata": {},
   "outputs": [
    {
     "name": "stdout",
     "output_type": "stream",
     "text": [
      "  0.000064 seconds (8 allocations: 1.109 KB)\n"
     ]
    }
   ],
   "source": [
    "@time [exp(x) for x in 1:100];"
   ]
  },
  {
   "cell_type": "markdown",
   "metadata": {},
   "source": [
    "`filter` is often used with an *anonymous function* -- a function created with no name, for the sole purpose of using it in the `filter`. The Julia syntax for a function is similar to the mathematical syntax $x \\mapsto 3x^2$:\n",
    "\n",
    "    filter(x -> x < 10,  v)\n",
    "    \n",
    "[8] What kind of object is `x -> x < 10`?  (You can assign this to a variable.) Check that anonymous functions may also be "
   ]
  },
  {
   "cell_type": "code",
   "execution_count": 67,
   "metadata": {},
   "outputs": [
    {
     "name": "stderr",
     "output_type": "stream",
     "text": [
      "WARNING: imported binding for var overwritten in module Main\n"
     ]
    },
    {
     "data": {
      "text/plain": [
       "##15#16"
      ]
     },
     "execution_count": 67,
     "metadata": {},
     "output_type": "execute_result"
    }
   ],
   "source": [
    "var = x->x<10\n",
    "typeof(var)"
   ]
  },
  {
   "cell_type": "markdown",
   "metadata": {},
   "source": [
    "[9] Check the relative performance of `filter` and the following syntax that also selects those elements of the array satisfying the given condition:\n",
    "\n",
    "    v[v .< 10]"
   ]
  },
  {
   "cell_type": "code",
   "execution_count": 71,
   "metadata": {},
   "outputs": [
    {
     "name": "stdout",
     "output_type": "stream",
     "text": [
      "[6.24999,6.87093,9.43426,9.15833,8.11023,7.29315,1.98315,7.20152,0.607941,2.46129,2.02219,1.58162,1.14001,8.36867,0.562383,8.87683,2.8175,6.37661,3.33295,0.888391,9.73096,9.18952,8.97004,6.48922,6.5932]\n",
      "Array{Float64,1}\n"
     ]
    }
   ],
   "source": [
    "v = [20*rand() for k in 1:50];\n",
    "filtered_v = filter(x->x<10, v)\n",
    "println(filtered_v)\n",
    "println(typeof(filtered_v))"
   ]
  },
  {
   "cell_type": "code",
   "execution_count": 73,
   "metadata": {},
   "outputs": [
    {
     "name": "stdout",
     "output_type": "stream",
     "text": [
      "  0.011216 seconds (2.44 k allocations: 105.445 KB)\n"
     ]
    }
   ],
   "source": [
    "@time filter(x->x<10, v);"
   ]
  },
  {
   "cell_type": "code",
   "execution_count": 74,
   "metadata": {},
   "outputs": [
    {
     "name": "stdout",
     "output_type": "stream",
     "text": [
      "  0.076681 seconds (22.22 k allocations: 1.019 MB)\n"
     ]
    }
   ],
   "source": [
    "@time v[v .< 10];"
   ]
  },
  {
   "cell_type": "markdown",
   "metadata": {},
   "source": [
    "[10] What does `v .< 10` by itself do?\n",
    "\n",
    "[Note that higher-order functions and anonymous functions are commonly thought to be \"slow\" currently in Julia, and so should not be used in performance-critical parts of code.]"
   ]
  },
  {
   "cell_type": "code",
   "execution_count": 76,
   "metadata": {},
   "outputs": [
    {
     "name": "stdout",
     "output_type": "stream",
     "text": [
      "Bool[true,false,false,true,true,true,true,true,false,false,true,false,true,true,false,true,true,true,true,false,true,false,true,false,false,true,false,true,false,true,false,false,true,true,true,false,false,true,false,false,true,true,true,false,false,false,false,false,false,false]"
     ]
    }
   ],
   "source": [
    "print(v .< 10)"
   ]
  },
  {
   "cell_type": "code",
   "execution_count": null,
   "metadata": {
    "collapsed": true
   },
   "outputs": [],
   "source": []
  }
 ],
 "metadata": {
  "hide_input": false,
  "kernelspec": {
   "display_name": "Julia 0.5.0",
   "language": "julia",
   "name": "julia-0.5"
  },
  "language_info": {
   "file_extension": ".jl",
   "mimetype": "application/julia",
   "name": "julia",
   "version": "0.5.0"
  },
  "latex_envs": {
   "bibliofile": "biblio.bib",
   "cite_by": "apalike",
   "current_citInitial": 1,
   "eqLabelWithNumbers": true,
   "eqNumInitial": 0
  }
 },
 "nbformat": 4,
 "nbformat_minor": 1
}
