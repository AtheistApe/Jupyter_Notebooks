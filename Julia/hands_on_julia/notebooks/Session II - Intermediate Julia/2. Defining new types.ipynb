{
 "cells": [
  {
   "cell_type": "markdown",
   "metadata": {},
   "source": [
    "# Composite types "
   ]
  },
  {
   "cell_type": "markdown",
   "metadata": {},
   "source": [
    "Julia allows us to define new types; in fact, many Julia types, such as `Rational` and `Complex`, are defined directly in Julia code, and are on the same footing as the types we can define ourselves -- just try `methods(Rational)`, for example, to look at the code."
   ]
  },
  {
   "cell_type": "code",
   "execution_count": 23,
   "metadata": {},
   "outputs": [
    {
     "data": {
      "text/html": [
       "4 methods for generic function <b>Type</b>:<ul><li> (::<b>Type{Rational}</b>)(n::<b>Integer</b>) at <a href=\"https://github.com/JuliaLang/julia/tree/3c9d75391c72d7c32eea75ff187ce77b2d5effc8/base/rational.jl#L15\" target=\"_blank\">rational.jl:15</a></li> <li> (::<b>Type{Rational}</b>)<i>{T<:Integer}</i>(n::<b>T</b>, d::<b>T</b>) at <a href=\"https://github.com/JuliaLang/julia/tree/3c9d75391c72d7c32eea75ff187ce77b2d5effc8/base/rational.jl#L13\" target=\"_blank\">rational.jl:13</a></li> <li> (::<b>Type{Rational}</b>)(n::<b>Integer</b>, d::<b>Integer</b>) at <a href=\"https://github.com/JuliaLang/julia/tree/3c9d75391c72d7c32eea75ff187ce77b2d5effc8/base/rational.jl#L14\" target=\"_blank\">rational.jl:14</a></li> <li> (::<b>Type{T}</b>)<i>{T}</i>(arg) at <a href=\"https://github.com/JuliaLang/julia/tree/3c9d75391c72d7c32eea75ff187ce77b2d5effc8/base/sysimg.jl#L53\" target=\"_blank\">sysimg.jl:53</a></li> </ul>"
      ],
      "text/plain": [
       "# 4 methods for generic function \"(::Type)\":\n",
       "(::Type{Rational})(n::Integer) at rational.jl:15\n",
       "(::Type{Rational}){T<:Integer}(n::T, d::T) at rational.jl:13\n",
       "(::Type{Rational})(n::Integer, d::Integer) at rational.jl:14\n",
       "(::Type{T}){T}(arg) at sysimg.jl:53"
      ]
     },
     "execution_count": 23,
     "metadata": {},
     "output_type": "execute_result"
    }
   ],
   "source": [
    "methods(Rational)"
   ]
  },
  {
   "cell_type": "markdown",
   "metadata": {},
   "source": [
    "Suppose we wish to define a type to represent a rational number. We would need to store the numerator and denominator, and define functions such as `+` acting on two rationals, or on a rational and an integer, etc.\n",
    "\n",
    "Since we now already know how to extend arithmetic operators and other functions to act on rationals, we only need to know the syntax for declaring a new so-called **composite type** (often called a structure, record, or class in other languages). It looks like the following:"
   ]
  },
  {
   "cell_type": "code",
   "execution_count": 2,
   "metadata": {
    "collapsed": true
   },
   "outputs": [],
   "source": [
    "type MyRational\n",
    "    numerator :: Int\n",
    "    denominator :: Int\n",
    "end"
   ]
  },
  {
   "cell_type": "markdown",
   "metadata": {},
   "source": [
    "This declares what an object (basically, a black box with contents) of type `MyRational` looks like, i.e. which variables it contains, and what types those variables have. \n",
    "\n",
    "In fact, it also (by default) declares a *constructor*, a function with the same name as the type that is used to create objects of the type:"
   ]
  },
  {
   "cell_type": "markdown",
   "metadata": {},
   "source": [
    "[1] Use `methods` to find out which versions of the constructor have been created automatically for our new type. Create some objects. "
   ]
  },
  {
   "cell_type": "code",
   "execution_count": 3,
   "metadata": {},
   "outputs": [
    {
     "data": {
      "text/html": [
       "3 methods for generic function <b>Type</b>:<ul><li> MyRational(numerator::<b>Int64</b>, denominator::<b>Int64</b>) at In[2]:2</li> <li> MyRational(numerator, denominator) at In[2]:2</li> <li> (::<b>Type{T}</b>)<i>{T}</i>(arg) at <a href=\"https://github.com/JuliaLang/julia/tree/3c9d75391c72d7c32eea75ff187ce77b2d5effc8/base/sysimg.jl#L53\" target=\"_blank\">sysimg.jl:53</a></li> </ul>"
      ],
      "text/plain": [
       "# 3 methods for generic function \"(::Type)\":\n",
       "MyRational(numerator::Int64, denominator::Int64) at In[2]:2\n",
       "MyRational(numerator, denominator) at In[2]:2\n",
       "(::Type{T}){T}(arg) at sysimg.jl:53"
      ]
     },
     "execution_count": 3,
     "metadata": {},
     "output_type": "execute_result"
    }
   ],
   "source": [
    "methods(MyRational)"
   ]
  },
  {
   "cell_type": "code",
   "execution_count": 4,
   "metadata": {},
   "outputs": [
    {
     "data": {
      "text/plain": [
       "MyRational(3,4)"
      ]
     },
     "execution_count": 4,
     "metadata": {},
     "output_type": "execute_result"
    }
   ],
   "source": [
    "r1 = MyRational(3,4)"
   ]
  },
  {
   "cell_type": "markdown",
   "metadata": {},
   "source": [
    "An object `r` has two fields which are accessed by `r.numerator` and `r.denominator`. You can see the list of available properties of an object using tab completion or the `names` function [changed to `fieldnames` in v0.4]. "
   ]
  },
  {
   "cell_type": "code",
   "execution_count": 8,
   "metadata": {},
   "outputs": [
    {
     "name": "stdout",
     "output_type": "stream",
     "text": [
      "3\n",
      "4\n"
     ]
    }
   ],
   "source": [
    "println(r1.numerator)\n",
    "println(r1.denominator)"
   ]
  },
  {
   "cell_type": "markdown",
   "metadata": {},
   "source": [
    "[2] Define `*` and `+` for two objects of the `MyRational` type. [Hint: What should these functions return?]"
   ]
  },
  {
   "cell_type": "code",
   "execution_count": null,
   "metadata": {
    "collapsed": true
   },
   "outputs": [],
   "source": [
    "import Base.+\n",
    "function +(a::MyRational, b::MyRational)\n",
    "    numerator = a.numerator*b.denominator + b.numerator*a.denominator\n",
    "    denominator = a.denominator*b.denominator\n",
    "    cd = gcd(numerator, denominator)\n",
    "    numerator = numerator/cd\n",
    "    denominator = denominator/cd\n",
    "    return MyRational(numerator, denominator)\n",
    "end\n",
    "    "
   ]
  },
  {
   "cell_type": "code",
   "execution_count": 26,
   "metadata": {},
   "outputs": [
    {
     "name": "stderr",
     "output_type": "stream",
     "text": [
      "WARNING: Method definition +(Main.MyRational, Main.MyRational) in module Main at In[24]:3 overwritten at In[26]:3.\n"
     ]
    },
    {
     "data": {
      "text/plain": [
       "* (generic function with 151 methods)"
      ]
     },
     "execution_count": 26,
     "metadata": {},
     "output_type": "execute_result"
    }
   ],
   "source": [
    "import Base.*\n",
    "function *(a::MyRational, b::MyRational)\n",
    "    numerator = a.numerator*b.numerator\n",
    "    denominator = a.denominator*b.denominator\n",
    "    cd = gcd(numerator, denominator)\n",
    "    numerator = numerator/cd\n",
    "    denominator = denominator/cd\n",
    "    return MyRational(numerator, denominator)\n",
    "end"
   ]
  },
  {
   "cell_type": "markdown",
   "metadata": {},
   "source": [
    "The definition of the built-in `Rational` type takes a very similar form."
   ]
  },
  {
   "cell_type": "markdown",
   "metadata": {},
   "source": [
    "As with any generic function, we can ourselves add methods:\n",
    "\n",
    "[3] Add a method to the constructor that takes a single integer and constructs the corresponding rational number.\n",
    "Such methods are called *outer constructors*, since they are placed outside the definition of the type."
   ]
  },
  {
   "cell_type": "code",
   "execution_count": 37,
   "metadata": {
    "run_control": {
     "marked": false
    }
   },
   "outputs": [
    {
     "data": {
      "text/plain": [
       "MyRational"
      ]
     },
     "execution_count": 37,
     "metadata": {},
     "output_type": "execute_result"
    }
   ],
   "source": [
    "MyRational(a::Integer) = MyRational(a, 1)"
   ]
  },
  {
   "cell_type": "code",
   "execution_count": 41,
   "metadata": {},
   "outputs": [
    {
     "data": {
      "text/plain": [
       "- (generic function with 191 methods)"
      ]
     },
     "execution_count": 41,
     "metadata": {},
     "output_type": "execute_result"
    }
   ],
   "source": [
    "import Base.-\n",
    "function -(a::MyRational, b::MyRational)\n",
    "    return a + MyRational(-1)*b\n",
    "end"
   ]
  },
  {
   "cell_type": "code",
   "execution_count": 42,
   "metadata": {},
   "outputs": [
    {
     "name": "stdout",
     "output_type": "stream",
     "text": [
      "MyRational(17,12)\n",
      "MyRational(1,2)\n",
      "MyRational(1,12)\n"
     ]
    }
   ],
   "source": [
    "a = MyRational(12,16)\n",
    "b = MyRational(2, 3)\n",
    "\n",
    "println(a + b)\n",
    "println(a * b)\n",
    "println(a - b)"
   ]
  },
  {
   "cell_type": "markdown",
   "metadata": {},
   "source": [
    "## Exercise: `Vector2D`"
   ]
  },
  {
   "cell_type": "markdown",
   "metadata": {},
   "source": [
    "As we have seen, Julia's arrays act both as storage and as vectors. Currently, there are no *fixed-size* vectors in base Julia (although this is expected to change in the future). Nonetheless, fixed size arrays are important in many aplications. [There are the [`ImmutableArrays`](https://github.com/JuliaGeometry/ImmutableArrays.jl) and, more recently, [`FixedSizeArrays.jl`](https://github.com/SimonDanisch/FixedSizeArrays.jl) packages.] \n",
    "\n",
    "For example, suppose we wish to model a particle moving in 2 dimensions, with a 2-dimensional position vector and a 2-dimensional velocity vector. We could use a standard Julia array for the position and velocity, but this will, in principle, be less efficient than if we could directly use an array of fixed size 2. We can easily define such an object by hand:"
   ]
  },
  {
   "cell_type": "markdown",
   "metadata": {},
   "source": [
    "[1] Define a `Vector2D` object that has `x` and `y` components that are `Float64`s."
   ]
  },
  {
   "cell_type": "code",
   "execution_count": 3,
   "metadata": {},
   "outputs": [
    {
     "name": "stderr",
     "output_type": "stream",
     "text": [
      "WARNING: Method definition (::Type{Main.Vector2D})(Float64, Float64) in module Main at In[2]:2 overwritten at In[3]:2.\n",
      "WARNING: Method definition (::Type{Main.Vector2D})(Any, Any) in module Main at In[2]:2 overwritten at In[3]:2.\n"
     ]
    }
   ],
   "source": [
    "type Vector2D\n",
    "    x::Float64\n",
    "    y::Float64\n",
    "end"
   ]
  },
  {
   "cell_type": "markdown",
   "metadata": {},
   "source": [
    "[2] Define `+`, multiplication by a scalar, and dot product. [For non-arithmetic operations, you must explicitly tell Julia that you are not creating a new function but are extending the previous pre-existing function. This may be done by defining explicitly `Base.dot`, or by first importing the function using `import Base: dot`.]"
   ]
  },
  {
   "cell_type": "code",
   "execution_count": 4,
   "metadata": {},
   "outputs": [
    {
     "data": {
      "text/plain": [
       "+ (generic function with 164 methods)"
      ]
     },
     "execution_count": 4,
     "metadata": {},
     "output_type": "execute_result"
    }
   ],
   "source": [
    "import Base.+\n",
    "function +(v::Vector2D, w::Vector2D)\n",
    "    sumx = v.x + w.x\n",
    "    sumy = v.y + w.y\n",
    "    return Vector2D(sumx, sumy)\n",
    "end"
   ]
  },
  {
   "cell_type": "code",
   "execution_count": 5,
   "metadata": {},
   "outputs": [
    {
     "data": {
      "text/plain": [
       "* (generic function with 151 methods)"
      ]
     },
     "execution_count": 5,
     "metadata": {},
     "output_type": "execute_result"
    }
   ],
   "source": [
    "import Base.*\n",
    "function *(c::Float64, v::Vector2D)\n",
    "    wx = c*v.x\n",
    "    wy = c*v.y\n",
    "    return Vector2D(wx, wy)\n",
    "end"
   ]
  },
  {
   "cell_type": "code",
   "execution_count": 6,
   "metadata": {},
   "outputs": [
    {
     "data": {
      "text/plain": [
       "dotprod (generic function with 1 method)"
      ]
     },
     "execution_count": 6,
     "metadata": {},
     "output_type": "execute_result"
    }
   ],
   "source": [
    "function dotprod(v::Vector2D, w::Vector2D)\n",
    "    return v.x*w.x + v.y*w.y\n",
    "end"
   ]
  },
  {
   "cell_type": "code",
   "execution_count": 7,
   "metadata": {},
   "outputs": [
    {
     "name": "stdout",
     "output_type": "stream",
     "text": [
      "Vector2D(2.0,6.0)\n",
      "Vector2D(15.0,20.0)\n",
      "5.0\n"
     ]
    }
   ],
   "source": [
    "v = Vector2D(3, 4)\n",
    "w = Vector2D(-1, 2)\n",
    "\n",
    "println(v + w)\n",
    "println(5.0v)\n",
    "println(dotprod(v, w))"
   ]
  },
  {
   "cell_type": "markdown",
   "metadata": {},
   "source": [
    "[3] Test the relative efficiency of standard Julia vectors and these `Vector2D` objects. To do so, use the `@time` macro, wrapped around `begin...end` blocks or function calls. Don't forget to run the code once before using `@time` in order to compile the function."
   ]
  },
  {
   "cell_type": "code",
   "execution_count": 64,
   "metadata": {},
   "outputs": [],
   "source": [
    "v1 = [2, 3]\n",
    "v2 = [-1, 5];"
   ]
  },
  {
   "cell_type": "code",
   "execution_count": 88,
   "metadata": {},
   "outputs": [
    {
     "name": "stdout",
     "output_type": "stream",
     "text": [
      "  0.008788 seconds (200.00 k allocations: 10.681 MB)\n"
     ]
    }
   ],
   "source": [
    "@time for k in 1:100000 v1 + v2 end"
   ]
  },
  {
   "cell_type": "code",
   "execution_count": 90,
   "metadata": {},
   "outputs": [
    {
     "name": "stdout",
     "output_type": "stream",
     "text": [
      "  0.002712 seconds (100.00 k allocations: 3.052 MB)\n"
     ]
    }
   ],
   "source": [
    "@time for k in 1:100000 v + w end"
   ]
  },
  {
   "cell_type": "markdown",
   "metadata": {},
   "source": [
    "## Exercise: Particles"
   ]
  },
  {
   "cell_type": "markdown",
   "metadata": {},
   "source": [
    "[3] Define a `Particle` type that contains a position and a velocity. Define a function `move!` that takes an argument $\\delta t$ and moves the particle over a time step with that time."
   ]
  },
  {
   "cell_type": "code",
   "execution_count": 34,
   "metadata": {
    "run_control": {
     "marked": false
    }
   },
   "outputs": [
    {
     "name": "stderr",
     "output_type": "stream",
     "text": [
      "WARNING: Method definition (::Type{Main.Particle})(Main.Vector2D, Main.Vector2D) in module Main at In[9]:2 overwritten at In[34]:2.\n",
      "WARNING: Method definition (::Type{Main.Particle})(Any, Any) in module Main at In[9]:2 overwritten at In[34]:2.\n"
     ]
    }
   ],
   "source": [
    "type Particle\n",
    "    pos::Vector2D\n",
    "    vel::Vector2D\n",
    "end"
   ]
  },
  {
   "cell_type": "code",
   "execution_count": 35,
   "metadata": {},
   "outputs": [
    {
     "name": "stderr",
     "output_type": "stream",
     "text": [
      "WARNING: Method definition move!(Main.Particle, Float64) in module Main at In[13]:2 overwritten at In[35]:2.\n"
     ]
    },
    {
     "data": {
      "text/plain": [
       "move! (generic function with 2 methods)"
      ]
     },
     "execution_count": 35,
     "metadata": {},
     "output_type": "execute_result"
    }
   ],
   "source": [
    "function move!(p::Particle, δt::Float64)\n",
    "    pos = p.pos + δt*p.vel\n",
    "    vel = p.vel\n",
    "    return Particle(pos, vel)\n",
    "end"
   ]
  },
  {
   "cell_type": "code",
   "execution_count": 36,
   "metadata": {},
   "outputs": [
    {
     "data": {
      "text/plain": [
       "Particle(Vector2D(0.0,0.0),Vector2D(1.0,-3.0))"
      ]
     },
     "execution_count": 36,
     "metadata": {},
     "output_type": "execute_result"
    }
   ],
   "source": [
    "p1 = Particle(Vector2D(0,0), Vector2D(1,-3))"
   ]
  },
  {
   "cell_type": "code",
   "execution_count": 37,
   "metadata": {},
   "outputs": [
    {
     "data": {
      "text/plain": [
       "Particle(Vector2D(2.0,-6.0),Vector2D(1.0,-3.0))"
      ]
     },
     "execution_count": 37,
     "metadata": {},
     "output_type": "execute_result"
    }
   ],
   "source": [
    "move!(p1, 2.0)"
   ]
  },
  {
   "cell_type": "markdown",
   "metadata": {},
   "source": [
    "[4] Define a `Gas` type that consists of `N` particles. Write a constructor that accepts a number `N` and creates `N` particles with random positions and velocities. Define a function `move!` that moves the whole gas."
   ]
  },
  {
   "cell_type": "code",
   "execution_count": 28,
   "metadata": {},
   "outputs": [
    {
     "name": "stderr",
     "output_type": "stream",
     "text": [
      "WARNING: Method definition (::Type{Main.Gas})(Any) in module Main at In[20]:2 overwritten at In[28]:5.\n"
     ]
    }
   ],
   "source": [
    "type Gas\n",
    "    p::Particle\n",
    "    \n",
    "    function Gas(N)\n",
    "        for count in 1:N\n",
    "            x = rand()\n",
    "            y = rand()\n",
    "            vx = rand()\n",
    "            vy = rand()\n",
    "            \n",
    "            pos = Vector2D(x,y)\n",
    "            vel = Vector2D(vx,vy)\n",
    "            \n",
    "            new(p(pos,vel))\n",
    "        end\n",
    "    end\n",
    "end"
   ]
  },
  {
   "cell_type": "markdown",
   "metadata": {},
   "source": [
    "## Exercise: Automatic differentiation "
   ]
  },
  {
   "cell_type": "markdown",
   "metadata": {},
   "source": [
    "A rather interesting, but surprisingly little-known algorithmic technique is that of *automatic* (or *algorithmic*) differentiation, which allows us to differentiate a function exactly by defining a suitable type and using operator overloading.\n",
    "\n",
    "The idea is to calculate the derivative of a complicated function by splitting it up into simple pieces. In the simplest version, this is done automatically just by defining suitable methods. Pieces may look, for example, like $u+v$, whose derivative at a point $a$ is $u'(a) + v'(a)$, or $u \\cdot v$, whose derivative at $a$ is $u'(a) v(a) + u(a) v'(a)$. Thus the information required for a function $u$ is just $u(a)$ and $u'(a)$, which we will denote by $u$ and $u'$.\n",
    "\n",
    "[1] Define a type `AutoDiff` that contains `Float64`s `u` and `u'`. [The latter may be written `u\\prime<TAB>`.]"
   ]
  },
  {
   "cell_type": "code",
   "execution_count": 45,
   "metadata": {
    "collapsed": true
   },
   "outputs": [],
   "source": [
    "type AutoDiff\n",
    "    u::Float64\n",
    "    u′::Float64\n",
    "end"
   ]
  },
  {
   "cell_type": "markdown",
   "metadata": {},
   "source": [
    "[2] Using the standard rules of differentiation, define `+` and `*` such that the result gives the value and derivative of the corresponding function."
   ]
  },
  {
   "cell_type": "code",
   "execution_count": 46,
   "metadata": {},
   "outputs": [
    {
     "data": {
      "text/plain": [
       "* (generic function with 152 methods)"
      ]
     },
     "execution_count": 46,
     "metadata": {},
     "output_type": "execute_result"
    }
   ],
   "source": [
    "function +{AutoDiff}(f::AutoDiff, g::AutoDiff)\n",
    "    return f.u′ + g.u′\n",
    "end\n",
    "\n",
    "function *{AutoDiff}(f::AutoDiff, g::AutoDiff)\n",
    "    return f.u * g.u′ + f.u′ * g.u\n",
    "end"
   ]
  },
  {
   "cell_type": "code",
   "execution_count": 52,
   "metadata": {},
   "outputs": [
    {
     "name": "stdout",
     "output_type": "stream",
     "text": [
      "-18.0\n",
      "-306.0\n",
      "-900.0\n"
     ]
    }
   ],
   "source": [
    "# u(x) = x^2 + 3x + 1\n",
    "# u'(x) = 2x + 3\n",
    "\n",
    "# u(3) = 19\n",
    "# u'(3) = 9\n",
    "\n",
    "# v(x) = 4 - x^3\n",
    "# v'(x) = -3x^2\n",
    "\n",
    "# v(3) = -23\n",
    "# v'(3) = -27\n",
    "\n",
    "u = AutoDiff(19,9)\n",
    "v = AutoDiff(23,-27)\n",
    "\n",
    "println(u+v)\n",
    "println(u*v)\n",
    "println(u*u + v*v)"
   ]
  },
  {
   "cell_type": "markdown",
   "metadata": {},
   "source": [
    "[3] Write a function `sin` acting on an `AutoDiff` object. Define a function $f(x) = \\sin(x^2)$. You should be able to *automatically differentiate* the function if you pass it the correct type of object. What object should you pass it to calculate $f'(a)$ at a point $a$?"
   ]
  },
  {
   "cell_type": "code",
   "execution_count": null,
   "metadata": {
    "collapsed": true
   },
   "outputs": [],
   "source": []
  }
 ],
 "metadata": {
  "hide_input": false,
  "kernelspec": {
   "display_name": "Julia 0.5.0",
   "language": "julia",
   "name": "julia-0.5"
  },
  "language_info": {
   "file_extension": ".jl",
   "mimetype": "application/julia",
   "name": "julia",
   "version": "0.5.0"
  },
  "latex_envs": {
   "bibliofile": "biblio.bib",
   "cite_by": "apalike",
   "current_citInitial": 1,
   "eqLabelWithNumbers": true,
   "eqNumInitial": 0
  }
 },
 "nbformat": 4,
 "nbformat_minor": 1
}
