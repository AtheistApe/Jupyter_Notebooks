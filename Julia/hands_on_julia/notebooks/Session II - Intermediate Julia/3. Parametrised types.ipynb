{
 "cells": [
  {
   "cell_type": "markdown",
   "metadata": {},
   "source": [
    "# Parametrised types "
   ]
  },
  {
   "cell_type": "markdown",
   "metadata": {},
   "source": [
    "In the previous notebook, we defined a `Vector2D` type that contained `Float64`s.\n",
    "But we can think of 2D vectors that contain any kind of objects, not just `Float64`s. One solution would be to leave off the type annotations when defining the type, but this will allow any types for either of the two variables.\n",
    "\n",
    "Often we rather want to guarantee that they both have the *same* type, but allow the possibility of putting *any* type there. Julia allows this with *parametrised types*: we introduce a *type parameter*:\n"
   ]
  },
  {
   "cell_type": "code",
   "execution_count": 1,
   "metadata": {
    "collapsed": true
   },
   "outputs": [],
   "source": [
    "type Vector2D{T}\n",
    "    x::T\n",
    "    y::T\n",
    "end"
   ]
  },
  {
   "cell_type": "markdown",
   "metadata": {},
   "source": [
    "This allows an arbitrary number of *different* `Vector2D` types with different contents:"
   ]
  },
  {
   "cell_type": "markdown",
   "metadata": {},
   "source": [
    "[1] Try creating a `Vector2D` containing two integers. What is the type of the resulting object?"
   ]
  },
  {
   "cell_type": "code",
   "execution_count": 4,
   "metadata": {},
   "outputs": [
    {
     "data": {
      "text/plain": [
       "Vector2D{Int64}"
      ]
     },
     "execution_count": 4,
     "metadata": {},
     "output_type": "execute_result"
    }
   ],
   "source": [
    "v1 = Vector2D(3,4)\n",
    "\n",
    "typeof(v1)"
   ]
  },
  {
   "cell_type": "markdown",
   "metadata": {},
   "source": [
    "[2] Do the same for two `Float64`."
   ]
  },
  {
   "cell_type": "code",
   "execution_count": 5,
   "metadata": {},
   "outputs": [
    {
     "data": {
      "text/plain": [
       "Vector2D{Float64}"
      ]
     },
     "execution_count": 5,
     "metadata": {},
     "output_type": "execute_result"
    }
   ],
   "source": [
    "v2 = Vector2D(2.781, 3.45)\n",
    "\n",
    "typeof(v2)"
   ]
  },
  {
   "cell_type": "markdown",
   "metadata": {},
   "source": [
    "[3] What happens if you try one integer and one float?"
   ]
  },
  {
   "cell_type": "code",
   "execution_count": 6,
   "metadata": {},
   "outputs": [
    {
     "ename": "LoadError",
     "evalue": "MethodError: no method matching Vector2D{T}(::Int64, ::Float64)\u001b[0m\nClosest candidates are:\n  Vector2D{T}{T}(::T, \u001b[1m\u001b[31m::T\u001b[0m) at In[1]:2\n  Vector2D{T}{T}(::Any) at sysimg.jl:53\u001b[0m",
     "output_type": "error",
     "traceback": [
      "MethodError: no method matching Vector2D{T}(::Int64, ::Float64)\u001b[0m\nClosest candidates are:\n  Vector2D{T}{T}(::T, \u001b[1m\u001b[31m::T\u001b[0m) at In[1]:2\n  Vector2D{T}{T}(::Any) at sysimg.jl:53\u001b[0m",
      "",
      " in include_string(::String, ::String) at ./loading.jl:441",
      " in include_string(::String, ::String) at /Applications/Julia-0.5.app/Contents/Resources/julia/lib/julia/sys.dylib:?"
     ]
    }
   ],
   "source": [
    "v3 = Vector2D(3, 4.5)\n",
    "\n",
    "typeof(v3)"
   ]
  },
  {
   "cell_type": "markdown",
   "metadata": {},
   "source": [
    "[4] What do you think `Vector2D{Float64}(3, 4)` should do? Does it work?"
   ]
  },
  {
   "cell_type": "code",
   "execution_count": 7,
   "metadata": {},
   "outputs": [
    {
     "data": {
      "text/plain": [
       "Vector2D{Float64}"
      ]
     },
     "execution_count": 7,
     "metadata": {},
     "output_type": "execute_result"
    }
   ],
   "source": [
    "v4 = Vector2D{Float64}(3, 4)\n",
    "\n",
    "typeof(v4)"
   ]
  },
  {
   "cell_type": "markdown",
   "metadata": {},
   "source": [
    "Functions such as `+` can also be parametrised using `{T}` after the function name. \n",
    "\n",
    "[5] Define a parametrised `+` for `Vector2D`. Can you define a specialised `+` for one particular type of `Vector2D` (i.e. for one particular value of `T`)?"
   ]
  },
  {
   "cell_type": "code",
   "execution_count": null,
   "metadata": {
    "collapsed": true
   },
   "outputs": [],
   "source": []
  },
  {
   "cell_type": "markdown",
   "metadata": {},
   "source": [
    "## Inner constructors"
   ]
  },
  {
   "cell_type": "markdown",
   "metadata": {},
   "source": [
    "Often, it is necessary to create a constructor that does some validation of the arguments before the object is created. These are placed *inside* the definition of the type, and so are called *inner constructors*. They use a special function `new` which is passed the values of the variables; some may be left uninitialized.\n",
    "\n",
    "If an inner constructor is provided, then the default constructors are no longer provided. In the case of parametrised types, we often need to provide reasonable \"default\" constructors in this case."
   ]
  },
  {
   "cell_type": "markdown",
   "metadata": {},
   "source": [
    "[1] Define an `Interval` type to represent an interval of real numbers with a `min` and a `max`. Use an inner constructor to ensure that the `min` is less than the `max`. [What could you do if not?]"
   ]
  }
 ],
 "metadata": {
  "hide_input": false,
  "kernelspec": {
   "display_name": "Julia 0.5.0",
   "language": "julia",
   "name": "julia-0.5"
  },
  "language_info": {
   "file_extension": ".jl",
   "mimetype": "application/julia",
   "name": "julia",
   "version": "0.5.0"
  },
  "latex_envs": {
   "bibliofile": "biblio.bib",
   "cite_by": "apalike",
   "current_citInitial": 1,
   "eqLabelWithNumbers": true,
   "eqNumInitial": 0
  }
 },
 "nbformat": 4,
 "nbformat_minor": 1
}
