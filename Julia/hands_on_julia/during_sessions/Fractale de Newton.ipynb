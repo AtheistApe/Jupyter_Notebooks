{
 "cells": [
  {
   "cell_type": "code",
   "execution_count": 1,
   "metadata": {},
   "outputs": [
    {
     "data": {
      "text/plain": [
       "newton (generic function with 1 method)"
      ]
     },
     "execution_count": 1,
     "metadata": {},
     "output_type": "execute_result"
    }
   ],
   "source": [
    "newton(f, f′, x) = x - f(x) / f′(x)"
   ]
  },
  {
   "cell_type": "code",
   "execution_count": 2,
   "metadata": {},
   "outputs": [
    {
     "name": "stdout",
     "output_type": "stream",
     "text": [
      "1.5\n",
      "1.4166666666666667\n",
      "1.4142156862745099\n",
      "1.4142135623746899\n",
      "1.4142135623730951\n",
      "1.414213562373095\n",
      "1.4142135623730951\n",
      "1.414213562373095\n",
      "1.4142135623730951\n",
      "1.414213562373095\n"
     ]
    }
   ],
   "source": [
    "f(x) = x^2 - 2\n",
    "f′(x) = 2x\n",
    "\n",
    "x0 = 1.0\n",
    "x = x0\n",
    "\n",
    "for i in 1:10\n",
    "    x = newton(f, f′, x)\n",
    "    println(x)\n",
    "end"
   ]
  },
  {
   "cell_type": "code",
   "execution_count": 3,
   "metadata": {},
   "outputs": [
    {
     "name": "stderr",
     "output_type": "stream",
     "text": [
      "WARNING: Method definition f(Any) in module Main at In[2]:1 overwritten at In[3]:1.\n",
      "WARNING: Method definition f′(Any) in module Main at In[2]:2 overwritten at In[3]:2.\n"
     ]
    },
    {
     "data": {
      "text/plain": [
       "f′ (generic function with 1 method)"
      ]
     },
     "execution_count": 3,
     "metadata": {},
     "output_type": "execute_result"
    }
   ],
   "source": [
    "f(x) = x^2 - 2\n",
    "f′(x) = 2x"
   ]
  },
  {
   "cell_type": "code",
   "execution_count": 4,
   "metadata": {},
   "outputs": [
    {
     "data": {
      "text/plain": [
       "1.4142135623730951"
      ]
     },
     "execution_count": 4,
     "metadata": {},
     "output_type": "execute_result"
    }
   ],
   "source": [
    "sqrt(2)"
   ]
  },
  {
   "cell_type": "code",
   "execution_count": 10,
   "metadata": {},
   "outputs": [
    {
     "name": "stderr",
     "output_type": "stream",
     "text": [
      "WARNING: Method definition do_newton(Any, Any, Any) in module Main at In[5]:3 overwritten at In[10]:3.\n",
      "WARNING: Method definition do_newton(Any, Any, Any, Any) in module Main at In[5]:3 overwritten at In[10]:3.\n"
     ]
    },
    {
     "data": {
      "text/plain": [
       "do_newton (generic function with 2 methods)"
      ]
     },
     "execution_count": 10,
     "metadata": {},
     "output_type": "execute_result"
    }
   ],
   "source": [
    "function do_newton(g, g′, x0, max_iterations=100)  # valeur par defaut\n",
    "    \n",
    "    x = x0\n",
    "\n",
    "    tolerance = 1e-15\n",
    "    iteration = 0\n",
    "\n",
    "    while ( abs(g(x) - 0) > tolerance \n",
    "        && iteration < max_iterations )\n",
    "        \n",
    "        x = newton(g, g′, x)\n",
    "        \n",
    "        iteration += 1\n",
    "        \n",
    "        if iteration == max_iterations\n",
    "            break\n",
    "        end\n",
    "    end\n",
    "    \n",
    "    x #, g(x)\n",
    "end"
   ]
  },
  {
   "cell_type": "code",
   "execution_count": 20,
   "metadata": {},
   "outputs": [
    {
     "ename": "LoadError",
     "evalue": "BoundsError",
     "output_type": "error",
     "traceback": [
      "BoundsError",
      "",
      " in indexed_next(::Float64, ::Int64, ::Bool) at ./tuple.jl:35",
      " in include_string(::String, ::String) at ./loading.jl:441",
      " in include_string(::String, ::String) at /Applications/Julia-0.5.app/Contents/Resources/julia/lib/julia/sys.dylib:?"
     ]
    }
   ],
   "source": [
    "x, y = do_newton(f, f′, 5);"
   ]
  },
  {
   "cell_type": "code",
   "execution_count": 8,
   "metadata": {},
   "outputs": [
    {
     "data": {
      "text/plain": [
       "1.4142135623730951"
      ]
     },
     "execution_count": 8,
     "metadata": {},
     "output_type": "execute_result"
    }
   ],
   "source": [
    "x"
   ]
  },
  {
   "cell_type": "code",
   "execution_count": 9,
   "metadata": {},
   "outputs": [
    {
     "ename": "LoadError",
     "evalue": "UndefVarError: y not defined",
     "output_type": "error",
     "traceback": [
      "UndefVarError: y not defined",
      "",
      " in include_string(::String, ::String) at ./loading.jl:441",
      " in include_string(::String, ::String) at /Applications/Julia-0.5.app/Contents/Resources/julia/lib/julia/sys.dylib:?"
     ]
    }
   ],
   "source": [
    "y"
   ]
  },
  {
   "cell_type": "code",
   "execution_count": 12,
   "metadata": {},
   "outputs": [
    {
     "data": {
      "text/plain": [
       "-0.5 + 0.8660254037844386im"
      ]
     },
     "execution_count": 12,
     "metadata": {},
     "output_type": "execute_result"
    }
   ],
   "source": [
    "h(z) = z^3 - 1\n",
    "h′(z) = 3z^2\n",
    "\n",
    "do_newton(h, h′, 0.5+7im)"
   ]
  },
  {
   "cell_type": "code",
   "execution_count": 13,
   "metadata": {},
   "outputs": [
    {
     "data": {
      "text/plain": [
       "81"
      ]
     },
     "execution_count": 13,
     "metadata": {},
     "output_type": "execute_result"
    }
   ],
   "source": [
    "range = -2:0.05:2\n",
    "L, = size(range)  # L = length(range)\n",
    "L"
   ]
  },
  {
   "cell_type": "code",
   "execution_count": 14,
   "metadata": {},
   "outputs": [
    {
     "data": {
      "text/plain": [
       "81"
      ]
     },
     "execution_count": 14,
     "metadata": {},
     "output_type": "execute_result"
    }
   ],
   "source": [
    "L = length(range)"
   ]
  },
  {
   "cell_type": "code",
   "execution_count": 15,
   "metadata": {},
   "outputs": [
    {
     "name": "stdout",
     "output_type": "stream",
     "text": [
      "  4.531153 seconds (65.69 M allocations: 1.760 GB, 5.98% gc time)\n"
     ]
    }
   ],
   "source": [
    "@time begin\n",
    "    range = -2:0.005:2\n",
    "    L, = size(range)  # L = length(range)\n",
    "    L\n",
    "\n",
    "    N = zeros(Complex{Float64}, L, L)\n",
    "\n",
    "    for (i, a) in enumerate(range)\n",
    "        for (j, b) in enumerate(range)\n",
    "\n",
    "            z = b + a*im\n",
    "\n",
    "            N[i,j] = do_newton(h, h′, z)\n",
    "\n",
    "        end\n",
    "    end\n",
    "end"
   ]
  },
  {
   "cell_type": "code",
   "execution_count": 16,
   "metadata": {},
   "outputs": [],
   "source": [
    "collect( enumerate(range) );"
   ]
  },
  {
   "cell_type": "code",
   "execution_count": 17,
   "metadata": {},
   "outputs": [
    {
     "name": "stderr",
     "output_type": "stream",
     "text": [
      "\u001b[1m\u001b[34mINFO: Precompiling module PyPlot.\n",
      "\u001b[0m"
     ]
    }
   ],
   "source": [
    "using PyPlot"
   ]
  },
  {
   "cell_type": "code",
   "execution_count": 18,
   "metadata": {},
   "outputs": [
    {
     "ename": "LoadError",
     "evalue": "UndefVarError: M not defined",
     "output_type": "error",
     "traceback": [
      "UndefVarError: M not defined",
      "",
      " in include_string(::String, ::String) at ./loading.jl:441",
      " in include_string(::String, ::String) at /Applications/Julia-0.5.app/Contents/Resources/julia/lib/julia/sys.dylib:?"
     ]
    }
   ],
   "source": [
    "imshow(imag(M))"
   ]
  },
  {
   "cell_type": "code",
   "execution_count": 21,
   "metadata": {},
   "outputs": [
    {
     "name": "stdout",
     "output_type": "stream",
     "text": [
      "  3.133358 seconds (56.56 M allocations: 1.520 GB, 10.06% gc time)\n"
     ]
    }
   ],
   "source": [
    "range = -2:0.005:2\n",
    "\n",
    "@time M = [do_newton(h, h′, b+a*im) for a in range, b in range];\n"
   ]
  },
  {
   "cell_type": "code",
   "execution_count": 22,
   "metadata": {},
   "outputs": [
    {
     "data": {
      "image/png": "[encoded data removed]",
      "text/plain": [
       "PyPlot.Figure(PyObject <matplotlib.figure.Figure object at 0x323a1e2d0>)"
      ]
     },
     "metadata": {},
     "output_type": "display_data"
    },
    {
     "data": {
      "text/plain": [
       "PyObject <matplotlib.image.AxesImage object at 0x323b56a50>"
      ]
     },
     "execution_count": 22,
     "metadata": {},
     "output_type": "execute_result"
    }
   ],
   "source": [
    "imshow(imag(M))"
   ]
  },
  {
   "cell_type": "code",
   "execution_count": 23,
   "metadata": {},
   "outputs": [
    {
     "data": {
      "text/plain": [
       "3×4 Array{Int64,2}:\n",
       " 2  3  4  5\n",
       " 3  4  5  6\n",
       " 4  5  6  7"
      ]
     },
     "execution_count": 23,
     "metadata": {},
     "output_type": "execute_result"
    }
   ],
   "source": [
    "[i+j for i in 1:3, j in 1:4]"
   ]
  },
  {
   "cell_type": "code",
   "execution_count": 24,
   "metadata": {},
   "outputs": [
    {
     "data": {
      "text/plain": [
       "newton_fractal1 (generic function with 1 method)"
      ]
     },
     "execution_count": 24,
     "metadata": {},
     "output_type": "execute_result"
    }
   ],
   "source": [
    "function newton_fractal1(range)\n",
    "    L, = size(range)  # L = length(range)\n",
    "    L\n",
    "\n",
    "    N = zeros(Complex{Float64}, L, L)\n",
    "\n",
    "    for (i, a) in enumerate(range)\n",
    "        for (j, b) in enumerate(range)\n",
    "\n",
    "            z = b + a*im\n",
    "\n",
    "            N[i,j] = do_newton(h, h′, z)\n",
    "\n",
    "        end\n",
    "    end\n",
    "    N\n",
    "end"
   ]
  },
  {
   "cell_type": "code",
   "execution_count": 25,
   "metadata": {},
   "outputs": [
    {
     "data": {
      "text/plain": [
       "newton_fractal2 (generic function with 1 method)"
      ]
     },
     "execution_count": 25,
     "metadata": {},
     "output_type": "execute_result"
    }
   ],
   "source": [
    "function newton_fractal2(range)\n",
    "\n",
    "    Complex{Float64}[do_newton(h, h′, b+a*im) \n",
    "        for a in range, b in range]\n",
    "end"
   ]
  },
  {
   "cell_type": "code",
   "execution_count": 26,
   "metadata": {},
   "outputs": [
    {
     "data": {
      "text/plain": [
       "(\n",
       "Complex{Float64}[1.0+4.93038e-31im 1.0-1.02231e-17im; 1.0+1.28742e-25im 1.0-3.47099e-29im],\n",
       "\n",
       "Complex{Float64}[1.0+4.93038e-31im 1.0-1.02231e-17im; 1.0+1.28742e-25im 1.0-3.47099e-29im])"
      ]
     },
     "execution_count": 26,
     "metadata": {},
     "output_type": "execute_result"
    }
   ],
   "source": [
    "newton_fractal1(1.:2.), newton_fractal2(1.:2.)\n"
   ]
  },
  {
   "cell_type": "code",
   "execution_count": 27,
   "metadata": {},
   "outputs": [
    {
     "name": "stdout",
     "output_type": "stream",
     "text": [
      "  3.016971 seconds (56.52 M allocations: 1.518 GB, 10.46% gc time)\n",
      "  2.343711 seconds (56.52 M allocations: 1.518 GB, 10.11% gc time)\n"
     ]
    }
   ],
   "source": [
    "range = -2:0.005:2\n",
    "@time newton_fractal1(range);\n",
    "@time newton_fractal2(range);"
   ]
  },
  {
   "cell_type": "code",
   "execution_count": 67,
   "metadata": {},
   "outputs": [
    {
     "data": {
      "text/plain": [
       "f (generic function with 1 method)"
      ]
     },
     "execution_count": 67,
     "metadata": {},
     "output_type": "execute_result"
    }
   ],
   "source": [
    "f(x) = x, x^2"
   ]
  },
  {
   "cell_type": "code",
   "execution_count": 68,
   "metadata": {},
   "outputs": [
    {
     "data": {
      "text/plain": [
       "(1.4142135623730951,2.0000000000000004)"
      ]
     },
     "execution_count": 68,
     "metadata": {},
     "output_type": "execute_result"
    }
   ],
   "source": [
    "x, y = f(x)"
   ]
  },
  {
   "cell_type": "code",
   "execution_count": 69,
   "metadata": {},
   "outputs": [
    {
     "data": {
      "text/plain": [
       "1.4142135623730951"
      ]
     },
     "execution_count": 69,
     "metadata": {},
     "output_type": "execute_result"
    }
   ],
   "source": [
    "x"
   ]
  },
  {
   "cell_type": "code",
   "execution_count": 70,
   "metadata": {},
   "outputs": [
    {
     "data": {
      "text/plain": [
       "2.0000000000000004"
      ]
     },
     "execution_count": 70,
     "metadata": {},
     "output_type": "execute_result"
    }
   ],
   "source": [
    "y"
   ]
  },
  {
   "cell_type": "code",
   "execution_count": 73,
   "metadata": {},
   "outputs": [
    {
     "data": {
      "text/plain": [
       "(1.4142135623730951,2.0000000000000004)"
      ]
     },
     "execution_count": 73,
     "metadata": {},
     "output_type": "execute_result"
    }
   ],
   "source": [
    "x, = f(x)"
   ]
  },
  {
   "cell_type": "markdown",
   "metadata": {},
   "source": [
    "# Type stability "
   ]
  },
  {
   "cell_type": "code",
   "execution_count": 83,
   "metadata": {},
   "outputs": [
    {
     "name": "stdout",
     "output_type": "stream",
     "text": [
      "Base.asec(x)\n",
      "Base.atand(x)\n",
      "Base.asinh(x)\n",
      "Base.plan_irfft(A, d[, dims[, flags[, timelimit]]])\n",
      "Base.asind(x)\n",
      "Base.acoth(x)\n",
      "Base.ipermute!(v, p)\n",
      "Base.acosh(x)\n",
      "Base.asecd(x)\n",
      "Base.acsc(x)\n",
      "Base.plan_fft(A[, dims[, flags[, timelimit]]])\n",
      "Base.pinv(M)\n",
      "Base.invperm(v)\n",
      "Base.plan_ifft(A[, dims[, flags[, timelimit]]])\n",
      "Base.bfft(A[, dims])\n",
      "Base.inv(M)\n",
      "Base.acsch(x)\n",
      "Base.acot(x)\n",
      "Base.brfft(A, d[, dims])\n",
      "Base.\\(A, B)\n",
      "Base.\\(x, y)\n",
      "Base.asin(x)\n",
      "Base.acotd(x)\n",
      "Base.idct(A[, dims])\n",
      "Base.asech(x)\n",
      "Base.plan_idct(A[, dims[, flags[, timelimit]]])\n",
      "Base.FFTW.r2r(A, kind[, dims])\n",
      "Base.invdigamma(x)\n",
      "Base.sub2ind(dims, i, j, k...) -> index\n",
      "Base.invmod(x, m)\n",
      "Base.atan2(y, x)\n",
      "Base.ifft(A[, dims])\n",
      "Base.acscd(x)\n",
      "Base.erfcinv(x)\n",
      "Base.acos(x)\n",
      "Base.atan(x)\n",
      "Base.erfinv(x)\n",
      "Base.zip(iters...)\n",
      "Base.acosd(x)\n",
      "Base./(x, y)\n",
      "Base.Pkg.free(pkg)\n",
      "Base.ipermutedims(A, perm)\n",
      "Base.eigs(A[, B], ; nev=6, which=\"LM\", tol=0.0, maxiter=1000, sigma=nothing, ritzvec=true, v0=zeros((0, ))) -> (d[, v], nconv, niter, nmult, resid)\n",
      "Base.atanh(x)\n",
      "Base.irfft(A, d[, dims])\n"
     ]
    }
   ],
   "source": [
    "apropos(\"inverse\")"
   ]
  },
  {
   "cell_type": "code",
   "execution_count": 86,
   "metadata": {},
   "outputs": [
    {
     "data": {
      "text/plain": [
       "0.5"
      ]
     },
     "execution_count": 86,
     "metadata": {},
     "output_type": "execute_result"
    }
   ],
   "source": [
    "1/2"
   ]
  },
  {
   "cell_type": "code",
   "execution_count": 28,
   "metadata": {},
   "outputs": [
    {
     "data": {
      "text/plain": [
       "sum1 (generic function with 1 method)"
      ]
     },
     "execution_count": 28,
     "metadata": {},
     "output_type": "execute_result"
    }
   ],
   "source": [
    "function sum1(N)\n",
    "    S = 0\n",
    "    for i in 1:N\n",
    "        S += i/2\n",
    "    end\n",
    "    S\n",
    "end"
   ]
  },
  {
   "cell_type": "code",
   "execution_count": 29,
   "metadata": {},
   "outputs": [
    {
     "data": {
      "text/plain": [
       "sum3 (generic function with 1 method)"
      ]
     },
     "execution_count": 29,
     "metadata": {},
     "output_type": "execute_result"
    }
   ],
   "source": [
    "function sum2(N)\n",
    "    S = 0.0\n",
    "    for i in 1:N\n",
    "        S += i/2\n",
    "    end\n",
    "    S\n",
    "end\n",
    "\n",
    "function sum3(N)\n",
    "    S = 0//1\n",
    "    for i in 1:N\n",
    "        S += i//2\n",
    "    end\n",
    "    S\n",
    "end"
   ]
  },
  {
   "cell_type": "code",
   "execution_count": 30,
   "metadata": {},
   "outputs": [
    {
     "data": {
      "text/plain": [
       "(0.5,0.5)"
      ]
     },
     "execution_count": 30,
     "metadata": {},
     "output_type": "execute_result"
    }
   ],
   "source": [
    "sum1(1), sum2(1)"
   ]
  },
  {
   "cell_type": "code",
   "execution_count": 31,
   "metadata": {},
   "outputs": [
    {
     "name": "stdout",
     "output_type": "stream",
     "text": [
      "  0.440756 seconds (30.00 M allocations: 457.764 MB, 9.69% gc time)\n",
      "  0.014152 seconds (5 allocations: 176 bytes)\n"
     ]
    },
    {
     "data": {
      "text/plain": [
       "2.50000025e13"
      ]
     },
     "execution_count": 31,
     "metadata": {},
     "output_type": "execute_result"
    }
   ],
   "source": [
    "N = 10^7\n",
    "@time sum1(N)\n",
    "@time sum2(N)"
   ]
  },
  {
   "cell_type": "code",
   "execution_count": 95,
   "metadata": {},
   "outputs": [
    {
     "data": {
      "text/plain": [
       "1//2"
      ]
     },
     "execution_count": 95,
     "metadata": {},
     "output_type": "execute_result"
    }
   ],
   "source": [
    "sum3(1)"
   ]
  },
  {
   "cell_type": "code",
   "execution_count": 96,
   "metadata": {},
   "outputs": [
    {
     "name": "stdout",
     "output_type": "stream",
     "text": [
      "elapsed time: 1.333078942 seconds (104 bytes allocated)\n"
     ]
    },
    {
     "data": {
      "text/plain": [
       "25000002500000//1"
      ]
     },
     "execution_count": 96,
     "metadata": {},
     "output_type": "execute_result"
    }
   ],
   "source": [
    "@time sum3(N)"
   ]
  },
  {
   "cell_type": "code",
   "execution_count": 97,
   "metadata": {},
   "outputs": [
    {
     "data": {
      "text/plain": [
       "1-element Array{Any,1}:\n",
       " :($(Expr(:lambda, {:N}, {{:S,symbol(\"#s448\"),symbol(\"#s447\"),symbol(\"#s446\"),:i,:_var0,:_var1},{{:N,Int64,0},{:S,Float64,2},{symbol(\"#s448\"),UnitRange{Int64},18},{symbol(\"#s447\"),Int64,2},{symbol(\"#s446\"),(Int64,Int64),18},{:i,Int64,18},{:_var0,Int64,18},{:_var1,Int64,18}},{}}, :(begin  # In[94], line 2:\n",
       "        S = 0.0 # line 3:\n",
       "        #s448 = $(Expr(:new, UnitRange{Int64}, 1, :(((top(getfield))(Intrinsics,:select_value))((top(sle_int))(1,N::Int64)::Bool,N::Int64,(top(box))(Int64,(top(sub_int))(1,1))::Int64)::Int64)))::UnitRange{Int64}\n",
       "        #s447 = (top(getfield))(#s448::UnitRange{Int64},:start)::Int64\n",
       "        unless (top(box))(Bool,(top(not_int))(#s447::Int64 === (top(box))(Int64,(top(add_int))((top(getfield))(#s448::UnitRange{Int64},:stop)::Int64,1))::Int64::Bool))::Bool goto 1\n",
       "        2: \n",
       "        _var0 = #s447::Int64\n",
       "        _var1 = (top(box))(Int64,(top(add_int))(#s447::Int64,1))::Int64\n",
       "        i = _var0::Int64\n",
       "        #s447 = _var1::Int64 # line 4:\n",
       "        S = (top(box))(Float64,(top(add_float))(S::Float64,(top(box))(Float64,(top(div_float))((top(box))(Float64,(top(sitofp))(Float64,i::Int64))::Float64,(top(box))(Float64,(top(sitofp))(Float64,2))::Float64))::Float64))::Float64\n",
       "        3: \n",
       "        unless (top(box))(Bool,(top(not_int))((top(box))(Bool,(top(not_int))(#s447::Int64 === (top(box))(Int64,(top(add_int))((top(getfield))(#s448::UnitRange{Int64},:stop)::Int64,1))::Int64::Bool))::Bool))::Bool goto 2\n",
       "        1: \n",
       "        0:  # line 6:\n",
       "        return S::Float64\n",
       "    end::Float64))))"
      ]
     },
     "execution_count": 97,
     "metadata": {},
     "output_type": "execute_result"
    }
   ],
   "source": [
    "@code_typed sum2(N)"
   ]
  },
  {
   "cell_type": "code",
   "execution_count": 99,
   "metadata": {},
   "outputs": [
    {
     "data": {
      "text/plain": [
       "1-element Array{Any,1}:\n",
       " :($(Expr(:lambda, {:N}, {{:S,symbol(\"#s448\"),symbol(\"#s447\"),symbol(\"#s446\"),:i,:_var0,:_var1},{{:N,Int64,0},{:S,Any,2},{symbol(\"#s448\"),UnitRange{Int64},18},{symbol(\"#s447\"),Int64,2},{symbol(\"#s446\"),(Int64,Int64),18},{:i,Int64,18},{:_var0,Int64,18},{:_var1,Int64,18}},{}}, :(begin  # In[90], line 2:\n",
       "        S = 0 # line 3:\n",
       "        #s448 = $(Expr(:new, UnitRange{Int64}, 1, :(((top(getfield))(Intrinsics,:select_value))((top(sle_int))(1,N::Int64)::Bool,N::Int64,(top(box))(Int64,(top(sub_int))(1,1))::Int64)::Int64)))::UnitRange{Int64}\n",
       "        #s447 = (top(getfield))(#s448::UnitRange{Int64},:start)::Int64\n",
       "        unless (top(box))(Bool,(top(not_int))(#s447::Int64 === (top(box))(Int64,(top(add_int))((top(getfield))(#s448::UnitRange{Int64},:stop)::Int64,1))::Int64::Bool))::Bool goto 1\n",
       "        2: \n",
       "        _var0 = #s447::Int64\n",
       "        _var1 = (top(box))(Int64,(top(add_int))(#s447::Int64,1))::Int64\n",
       "        i = _var0::Int64\n",
       "        #s447 = _var1::Int64 # line 4:\n",
       "        S = S::Union(Float64,Int64) + (top(box))(Float64,(top(div_float))((top(box))(Float64,(top(sitofp))(Float64,i::Int64))::Float64,(top(box))(Float64,(top(sitofp))(Float64,2))::Float64))::Float64::Float64\n",
       "        3: \n",
       "        unless (top(box))(Bool,(top(not_int))((top(box))(Bool,(top(not_int))(#s447::Int64 === (top(box))(Int64,(top(add_int))((top(getfield))(#s448::UnitRange{Int64},:stop)::Int64,1))::Int64::Bool))::Bool))::Bool goto 2\n",
       "        1: \n",
       "        0:  # line 6:\n",
       "        return S::Union(Float64,Int64)\n",
       "    end::Union(Float64,Int64)))))"
      ]
     },
     "execution_count": 99,
     "metadata": {},
     "output_type": "execute_result"
    }
   ],
   "source": [
    "@code_typed sum1(1)"
   ]
  },
  {
   "cell_type": "code",
   "execution_count": null,
   "metadata": {
    "collapsed": true
   },
   "outputs": [],
   "source": []
  }
 ],
 "metadata": {
  "hide_input": false,
  "kernelspec": {
   "display_name": "Julia 0.5.0",
   "language": "julia",
   "name": "julia-0.5"
  },
  "language_info": {
   "file_extension": ".jl",
   "mimetype": "application/julia",
   "name": "julia",
   "version": "0.5.0"
  },
  "latex_envs": {
   "bibliofile": "biblio.bib",
   "cite_by": "apalike",
   "current_citInitial": 1,
   "eqLabelWithNumbers": true,
   "eqNumInitial": 0
  }
 },
 "nbformat": 4,
 "nbformat_minor": 1
}
