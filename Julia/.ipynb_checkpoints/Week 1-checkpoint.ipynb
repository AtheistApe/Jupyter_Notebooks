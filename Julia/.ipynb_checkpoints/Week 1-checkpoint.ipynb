{
 "cells": [
  {
   "cell_type": "markdown",
   "metadata": {},
   "source": [
    "# Week 1\n",
    "\n",
    "Notebook content based on the Coursera online course \"Julia Scientific Programming\""
   ]
  },
  {
   "cell_type": "markdown",
   "metadata": {
    "heading_collapsed": true
   },
   "source": [
    "## Arithmetic Expressions"
   ]
  },
  {
   "cell_type": "code",
   "execution_count": 19,
   "metadata": {
    "collapsed": false,
    "hidden": true
   },
   "outputs": [
    {
     "name": "stdout",
     "output_type": "stream",
     "text": [
      "1 - 2 + 3 - 4 = -2\n",
      "1 / 2 + 3 / 4 = 1.25\n",
      "1 / (2 + 3) / 4 = 0.05\n",
      "1 / (2 + 3 / 4) = 0.36363636363636365\n",
      "(1 / 2 + 3) / 4 = 0.875\n",
      "2^3 / 2 = 4.0\n",
      "2^(3/2) = 2.82842712474619\n"
     ]
    }
   ],
   "source": [
    "# Examples\n",
    "\n",
    "println(\"1 - 2 + 3 - 4 = \", 1 - 2 + 3 - 4)\n",
    "println(\"1 / 2 + 3 / 4 = \", 1 / 2 + 3 / 4)\n",
    "println(\"1 / (2 + 3) / 4 = \", 1 / (2 + 3) / 4)\n",
    "println(\"1 / (2 + 3 / 4) = \", 1 / (2 + 3 / 4))\n",
    "println(\"(1 / 2 + 3) / 4 = \", (1 / 2 + 3) / 4)\n",
    "println(\"2^3 / 2 = \", 2^3 / 2)\n",
    "println(\"2^(3/2) = \", 2^(3/2))"
   ]
  },
  {
   "cell_type": "markdown",
   "metadata": {
    "collapsed": true,
    "heading_collapsed": true
   },
   "source": [
    "## Logical Expressions\n",
    "\n",
    "* Keywords: \"true\", \"false\"\n",
    "* Logical operators: ! (not), && (and), || (or)\n",
    "  - Careful: The operators & and | are bitwise \"and\" and bitwise \"or\", respectively.\n",
    "\n",
    "## Numerical comparison operators\n",
    "They return \"true\" or \"false\" and are often used in conjunction with logical operators.\n",
    "\n",
    "|operator| meaning | example | truth value |\n",
    "|---|---|---|---|\n",
    "| < | \"less than\" | $\\mbox{3 < 5}$ | true |\n",
    "| > | \"greater than\" | $\\mbox{7 > 2}$ | false |\n",
    "| <= | \"less than or equal\" | $\\mbox{2 <= 2}$ | true |\n",
    "| >= | \"greater than or equal\" | $\\mbox{4 >= -2}$ | true |\n",
    "| == | \"is equal to\" | $\\mbox{ 3 + 4 == 7 }$ | true |\n",
    "| != | \"is not equal to\" | $\\mbox{ 3 + 4 != 7 }$ | false |\n",
    "| === | \"strictly equal to\" |$\\mbox{ 3 === 3.0 }$ | false |\n",
    "<br><br><br><br><br><br><br><br><br><br><br>\n",
    "\n",
    "Notice that  \"a === b\" (a strictly equal to b) is true only if 'a' and 'b' agree in value **and** type."
   ]
  },
  {
   "cell_type": "markdown",
   "metadata": {
    "hidden": true
   },
   "source": [
    "### Examples"
   ]
  },
  {
   "cell_type": "code",
   "execution_count": 4,
   "metadata": {
    "collapsed": false,
    "hidden": true
   },
   "outputs": [
    {
     "name": "stdout",
     "output_type": "stream",
     "text": [
      "!true: false\n",
      "!false: true\n"
     ]
    }
   ],
   "source": [
    "println(\"!true: \", !true)\n",
    "println(\"!false: \", !false)"
   ]
  },
  {
   "cell_type": "code",
   "execution_count": 10,
   "metadata": {
    "collapsed": false,
    "hidden": true
   },
   "outputs": [
    {
     "name": "stdout",
     "output_type": "stream",
     "text": [
      "true && true: true\n",
      "true && false: false\n",
      "\n",
      "true || true: true\n",
      "true || false: true\n",
      "false || false: false\n"
     ]
    }
   ],
   "source": [
    "println(\"true && true: \", true && true)\n",
    "println(\"true && false: \", true && false, \"\\n\")\n",
    "\n",
    "println(\"true || true: \", true || true)\n",
    "println(\"true || false: \", true || false)\n",
    "println(\"false || false: \", false || false)"
   ]
  },
  {
   "cell_type": "code",
   "execution_count": 14,
   "metadata": {
    "collapsed": false,
    "hidden": true
   },
   "outputs": [
    {
     "name": "stdout",
     "output_type": "stream",
     "text": [
      "7 >= 7: true\n",
      "3 < 0: false\n",
      "9 <= 17: true\n"
     ]
    }
   ],
   "source": [
    "println(\"7 >= 7: \", 7 >= 7)\n",
    "println(\"3 < 0: \", 3 < 0)\n",
    "println(\"9 <= 17: \", 9 <= 17)"
   ]
  },
  {
   "cell_type": "code",
   "execution_count": 18,
   "metadata": {
    "collapsed": false,
    "hidden": true
   },
   "outputs": [
    {
     "name": "stdout",
     "output_type": "stream",
     "text": [
      "8 < 5 || 8 > 3: true\n",
      "8 < 5 && 8 > 3: false\n",
      "!(8 < 5) && 8 > 3: true\n",
      "3 + 4 == 7: true\n",
      "3 + 4 != 7: false\n"
     ]
    }
   ],
   "source": [
    "println(\"8 < 5 || 8 > 3: \", 8 < 5 || 8 > 3)\n",
    "println(\"8 < 5 && 8 > 3: \", 8 < 5 && 8 > 3)\n",
    "println(\"!(8 < 5) && 8 > 3: \", !(8 < 5) && 8 > 3)\n",
    "println(\"3 + 4 == 7: \", 3 + 4 == 7)\n",
    "println(\"3 + 4 != 7: \", 3 + 4 != 7)"
   ]
  },
  {
   "cell_type": "code",
   "execution_count": 51,
   "metadata": {
    "collapsed": false,
    "hidden": true
   },
   "outputs": [
    {
     "name": "stdout",
     "output_type": "stream",
     "text": [
      "2 === 1 + 1: true\n",
      "2 === 1 + 1.0: false\n"
     ]
    }
   ],
   "source": [
    "println(\"2 === 1 + 1: \", 2 === 1 + 1)\n",
    "println(\"2 === 1 + 1.0: \", 2 === 1 + 1.0)"
   ]
  },
  {
   "cell_type": "markdown",
   "metadata": {
    "heading_collapsed": true
   },
   "source": [
    "## The Julia Type System\n",
    "\n",
    "You can often ignore type when writing Julia code; Julia will infer type based on context. To improve performance of your code, you might want to specify the type of objects in the code.\n",
    "\n",
    "In Julia, only values have a type. To determine the type of an object in Julia, use the 'typeof()' function.\n",
    "\n",
    "Different types in Julia include: Int64, Float64, Char, String, UTF8String and Bool\n",
    "\n",
    "Every type in Julia (except type 'Any') has a 'supertype'. For example, Float64 has supertype Real, whereas Int64 has supertype Signed, which has the supertype Integer, which has the supertype Real.\n",
    "\n",
    "Any type which has a subtype is called an 'abstract type'. All types are subtypes of the 'Any' type.\n",
    "![Julia type tree](./Julia_Type_Tree.png)"
   ]
  },
  {
   "cell_type": "markdown",
   "metadata": {
    "hidden": true
   },
   "source": [
    "### Examples"
   ]
  },
  {
   "cell_type": "code",
   "execution_count": 37,
   "metadata": {
    "collapsed": false,
    "hidden": true
   },
   "outputs": [
    {
     "name": "stdout",
     "output_type": "stream",
     "text": [
      "typeof(3): Int64\n",
      "typeof(2.7): Float64\n",
      "typeof(1 + 3 + 5.): Float64\n",
      "\n",
      "typeof('a'): Char\n",
      "typeof(\"a\"): String\n",
      "typeof(\"Hello, World!\"): String\n"
     ]
    }
   ],
   "source": [
    "println(\"typeof(3): \", typeof(3))\n",
    "println(\"typeof(2.7): \", typeof(2.7))\n",
    "println(\"typeof(1 + 3 + 5.): \", typeof(1 + 3 + 5.), \"\\n\")\n",
    "println(\"typeof('a'): \", typeof('a'))\n",
    "println(\"typeof(\\\"a\\\"): \", typeof(\"a\"))\n",
    "println(\"typeof(\\\"Hello, World!\\\"): \", typeof(\"Hello, World!\"))"
   ]
  },
  {
   "cell_type": "code",
   "execution_count": 46,
   "metadata": {
    "collapsed": false,
    "hidden": true
   },
   "outputs": [
    {
     "name": "stdout",
     "output_type": "stream",
     "text": [
      "\\alpha: α\n",
      "\\beta \\pm \\diamondsuit: β ± ♢\n"
     ]
    }
   ],
   "source": [
    "# Unicode characters are obtained by entering \"\\\" followed\n",
    "# by one or more characters followed by the tab key\n",
    "\n",
    "println(\"\\\\alpha: \", \"α\")\n",
    "println(\"\\\\beta \\\\pm \\\\diamondsuit: \", \"β ± ♢\")\n",
    "\n"
   ]
  },
  {
   "cell_type": "code",
   "execution_count": 48,
   "metadata": {
    "collapsed": false,
    "hidden": true
   },
   "outputs": [
    {
     "name": "stdout",
     "output_type": "stream",
     "text": [
      "typeof(true): Bool\n",
      "typeof(3 < 7): Bool\n"
     ]
    }
   ],
   "source": [
    "println(\"typeof(true): \", typeof(true))\n",
    "println(\"typeof(3 < 7): \", typeof(3 < 7))"
   ]
  },
  {
   "cell_type": "markdown",
   "metadata": {},
   "source": [
    "## Arrays and Abstract Types\n",
    "\n",
    "Variables in Julia have a name, a value and a type. The community standart among Julia users is to avoid capital letters in variable names since official Julia code reserves initial capital letters for type names and module names.\n",
    "\n",
    "**Julia arrays use 1-based indexing rather than 0-based indexing.**\n",
    "\n",
    "Also, a final \"!\" on a function name is reserved for those functions that modify their arguments."
   ]
  },
  {
   "cell_type": "markdown",
   "metadata": {},
   "source": [
    "### Examples"
   ]
  },
  {
   "cell_type": "code",
   "execution_count": 61,
   "metadata": {
    "collapsed": false
   },
   "outputs": [
    {
     "name": "stdout",
     "output_type": "stream",
     "text": [
      "Hello, World\n"
     ]
    }
   ],
   "source": [
    "greeting = \"Hello, World\"\n",
    "println(greeting)"
   ]
  },
  {
   "cell_type": "code",
   "execution_count": 47,
   "metadata": {
    "collapsed": false
   },
   "outputs": [
    {
     "name": "stdout",
     "output_type": "stream",
     "text": [
      "α + β = 9.521\n"
     ]
    }
   ],
   "source": [
    "#=\n",
    "Variable names can include Unicode characters. To get an \"alpha\" character enter \"\\alpha\" and press the tab key.\n",
    "=#\n",
    "\n",
    "α = 6.731\n",
    "β = 2.79\n",
    "\n",
    "println(\"α + β = \", α + β)"
   ]
  },
  {
   "cell_type": "code",
   "execution_count": 60,
   "metadata": {
    "collapsed": false
   },
   "outputs": [
    {
     "data": {
      "text/plain": [
       "3-element Array{Int64,1}:\n",
       " 4794507056\n",
       " 4742447392\n",
       " 4794614752"
      ]
     },
     "execution_count": 60,
     "metadata": {},
     "output_type": "execute_result"
    }
   ],
   "source": [
    "#=\n",
    "Create an array using the 'Array' function:\n",
    "\n",
    "Array{T}(dims) constructs an uninitialized dense array with element type T. dims may be a tuple or a series of integer arguments. The elements of an uninitialized array are random values.\n",
    "=#\n",
    "\n",
    "# 3 element, one dimensional array of type Int64\n",
    "Array{Int64}(3)"
   ]
  },
  {
   "cell_type": "code",
   "execution_count": 66,
   "metadata": {
    "collapsed": false
   },
   "outputs": [
    {
     "name": "stdout",
     "output_type": "stream",
     "text": [
      "[6.731,2.79,2.0,9.8]\n"
     ]
    },
    {
     "data": {
      "text/plain": [
       "4-element Array{Float64,1}:\n",
       " 6.731\n",
       " 2.79 \n",
       " 2.0  \n",
       " 9.8  "
      ]
     },
     "execution_count": 66,
     "metadata": {},
     "output_type": "execute_result"
    }
   ],
   "source": [
    "#=\n",
    "We can also create a one dimensional array by entering its values as a comma separated list within brackets.\n",
    "=#\n",
    "\n",
    "my_array = [α, β, 2, 9.8]\n",
    "\n",
    "println(my_array)\n",
    "my_array"
   ]
  },
  {
   "cell_type": "code",
   "execution_count": 67,
   "metadata": {
    "collapsed": false
   },
   "outputs": [
    {
     "data": {
      "text/plain": [
       "2×3 Array{Integer,2}:\n",
       " #undef  #undef  #undef\n",
       " #undef  #undef  #undef"
      ]
     },
     "execution_count": 67,
     "metadata": {},
     "output_type": "execute_result"
    }
   ],
   "source": [
    "#=\n",
    "Example of a variable created with abstract type 'Integer'. Notice that the elements of the 2 x 3 array have undefined values.\n",
    "=#\n",
    "\n",
    "abs_type_vbl = Array{Integer}(2, 3)"
   ]
  },
  {
   "cell_type": "code",
   "execution_count": 69,
   "metadata": {
    "collapsed": false
   },
   "outputs": [
    {
     "ename": "LoadError",
     "evalue": "UndefRefError: access to undefined reference",
     "output_type": "error",
     "traceback": [
      "UndefRefError: access to undefined reference",
      "",
      " in getindex(::Array{Integer,2}, ::Int64, ::Int64) at ./array.jl:387"
     ]
    }
   ],
   "source": [
    "#=\n",
    "Try to access the element in the first row, first column of the array 'abs_type_vbl'\n",
    "=#\n",
    "\n",
    "abs_type_vbl[1, 1]"
   ]
  },
  {
   "cell_type": "code",
   "execution_count": 71,
   "metadata": {
    "collapsed": false
   },
   "outputs": [
    {
     "data": {
      "text/plain": [
       "2×3 Array{Integer,2}:\n",
       "  64     #undef  #undef\n",
       " #undef  #undef  #undef"
      ]
     },
     "execution_count": 71,
     "metadata": {},
     "output_type": "execute_result"
    }
   ],
   "source": [
    "# Assign a value to an element of the array 'abs_type_vbl'\n",
    "\n",
    "abs_type_vbl[1, 1] = 64\n",
    "abs_type_vbl"
   ]
  },
  {
   "cell_type": "code",
   "execution_count": 79,
   "metadata": {
    "collapsed": false
   },
   "outputs": [
    {
     "data": {
      "text/plain": [
       "2×3 Array{Integer,2}:\n",
       "  64     128     #undef\n",
       " #undef  #undef  #undef"
      ]
     },
     "execution_count": 79,
     "metadata": {},
     "output_type": "execute_result"
    }
   ],
   "source": [
    "#=\n",
    "Julia will try to convert the assignment of a non-integer value to an element of the Integer-type array 'abs_type_vbl' into an Integer.\n",
    "=#\n",
    "\n",
    "abs_type_vbl[1, 2] = 128.0\n",
    "abs_type_vbl"
   ]
  },
  {
   "cell_type": "markdown",
   "metadata": {},
   "source": [
    "## Writing Julia Functions"
   ]
  },
  {
   "cell_type": "markdown",
   "metadata": {},
   "source": [
    "### Built-in Functions\n",
    "\n",
    "To get help on a particular built-in function in Julia, prefix the function name with a \"?\"\n",
    "\n",
    "To determine the number of input types a function accepts, use the 'methods' function on the function name."
   ]
  },
  {
   "cell_type": "markdown",
   "metadata": {},
   "source": [
    "#### Examples"
   ]
  },
  {
   "cell_type": "code",
   "execution_count": 4,
   "metadata": {
    "collapsed": false
   },
   "outputs": [
    {
     "name": "stdout",
     "output_type": "stream",
     "text": [
      "search: \u001b[1mm\u001b[22m\u001b[1mu\u001b[22m\u001b[1ml\u001b[22m\u001b[1ma\u001b[22m\u001b[1md\u001b[22m\u001b[1md\u001b[22m\n",
      "\n"
     ]
    },
    {
     "data": {
      "text/markdown": [
       "```\n",
       "muladd(x, y, z)\n",
       "```\n",
       "\n",
       "Combined multiply-add, computes `x*y+z` in an efficient manner. This may on some systems be equivalent to `x*y+z`, or to `fma(x,y,z)`. `muladd` is used to improve performance. See `fma`.\n"
      ],
      "text/plain": [
       "```\n",
       "muladd(x, y, z)\n",
       "```\n",
       "\n",
       "Combined multiply-add, computes `x*y+z` in an efficient manner. This may on some systems be equivalent to `x*y+z`, or to `fma(x,y,z)`. `muladd` is used to improve performance. See `fma`.\n"
      ]
     },
     "execution_count": 4,
     "metadata": {},
     "output_type": "execute_result"
    }
   ],
   "source": [
    "?muladd"
   ]
  },
  {
   "cell_type": "code",
   "execution_count": 84,
   "metadata": {
    "collapsed": false
   },
   "outputs": [
    {
     "data": {
      "text/html": [
       "12 methods for generic function <b>muladd</b>:<ul><li> muladd(a::<b>Float16</b>, b::<b>Float16</b>, c::<b>Float16</b>) at <a href=\"https://github.com/JuliaLang/julia/tree/3c9d75391c72d7c32eea75ff187ce77b2d5effc8/base/float16.jl#L142\" target=\"_blank\">float16.jl:142</a></li> <li> muladd(x::<b>Float64</b>, y::<b>Float64</b>, z::<b>Float64</b>) at <a href=\"https://github.com/JuliaLang/julia/tree/3c9d75391c72d7c32eea75ff187ce77b2d5effc8/base/float.jl#L249\" target=\"_blank\">float.jl:249</a></li> <li> muladd(x::<b>Float32</b>, y::<b>Float32</b>, z::<b>Float32</b>) at <a href=\"https://github.com/JuliaLang/julia/tree/3c9d75391c72d7c32eea75ff187ce77b2d5effc8/base/float.jl#L248\" target=\"_blank\">float.jl:248</a></li> <li> muladd(z::<b>Complex</b>, w::<b>Complex</b>, x::<b>Complex</b>) at <a href=\"https://github.com/JuliaLang/julia/tree/3c9d75391c72d7c32eea75ff187ce77b2d5effc8/base/complex.jl#L130\" target=\"_blank\">complex.jl:130</a></li> <li> muladd(x::<b>Real</b>, z::<b>Complex</b>, y::<b>Number</b>) at <a href=\"https://github.com/JuliaLang/julia/tree/3c9d75391c72d7c32eea75ff187ce77b2d5effc8/base/complex.jl#L173\" target=\"_blank\">complex.jl:173</a></li> <li> muladd(z::<b>Complex</b>, x::<b>Real</b>, y::<b>Real</b>) at <a href=\"https://github.com/JuliaLang/julia/tree/3c9d75391c72d7c32eea75ff187ce77b2d5effc8/base/complex.jl#L174\" target=\"_blank\">complex.jl:174</a></li> <li> muladd(z::<b>Complex</b>, x::<b>Real</b>, w::<b>Complex</b>) at <a href=\"https://github.com/JuliaLang/julia/tree/3c9d75391c72d7c32eea75ff187ce77b2d5effc8/base/complex.jl#L175\" target=\"_blank\">complex.jl:175</a></li> <li> muladd(x::<b>Real</b>, y::<b>Real</b>, z::<b>Complex</b>) at <a href=\"https://github.com/JuliaLang/julia/tree/3c9d75391c72d7c32eea75ff187ce77b2d5effc8/base/complex.jl#L177\" target=\"_blank\">complex.jl:177</a></li> <li> muladd(z::<b>Complex</b>, w::<b>Complex</b>, x::<b>Real</b>) at <a href=\"https://github.com/JuliaLang/julia/tree/3c9d75391c72d7c32eea75ff187ce77b2d5effc8/base/complex.jl#L178\" target=\"_blank\">complex.jl:178</a></li> <li> muladd<i>{T<:Number}</i>(x::<b>T</b>, y::<b>T</b>, z::<b>T</b>) at <a href=\"https://github.com/JuliaLang/julia/tree/3c9d75391c72d7c32eea75ff187ce77b2d5effc8/base/promotion.jl#L263\" target=\"_blank\">promotion.jl:263</a></li> <li> muladd(x::<b>Number</b>, y::<b>Number</b>, z::<b>Number</b>) at <a href=\"https://github.com/JuliaLang/julia/tree/3c9d75391c72d7c32eea75ff187ce77b2d5effc8/base/promotion.jl#L197\" target=\"_blank\">promotion.jl:197</a></li> <li> muladd(x, y, z) at <a href=\"https://github.com/JuliaLang/julia/tree/3c9d75391c72d7c32eea75ff187ce77b2d5effc8/base/math.jl#L472\" target=\"_blank\">math.jl:472</a></li> </ul>"
      ],
      "text/plain": [
       "# 12 methods for generic function \"muladd\":\n",
       "muladd(a::Float16, b::Float16, c::Float16) at float16.jl:142\n",
       "muladd(x::Float64, y::Float64, z::Float64) at float.jl:249\n",
       "muladd(x::Float32, y::Float32, z::Float32) at float.jl:248\n",
       "muladd(z::Complex, w::Complex, x::Complex) at complex.jl:130\n",
       "muladd(x::Real, z::Complex, y::Number) at complex.jl:173\n",
       "muladd(z::Complex, x::Real, y::Real) at complex.jl:174\n",
       "muladd(z::Complex, x::Real, w::Complex) at complex.jl:175\n",
       "muladd(x::Real, y::Real, z::Complex) at complex.jl:177\n",
       "muladd(z::Complex, w::Complex, x::Real) at complex.jl:178\n",
       "muladd{T<:Number}(x::T, y::T, z::T) at promotion.jl:263\n",
       "muladd(x::Number, y::Number, z::Number) at promotion.jl:197\n",
       "muladd(x, y, z) at math.jl:472"
      ]
     },
     "execution_count": 84,
     "metadata": {},
     "output_type": "execute_result"
    }
   ],
   "source": [
    "methods(muladd)"
   ]
  },
  {
   "cell_type": "code",
   "execution_count": 82,
   "metadata": {
    "collapsed": false
   },
   "outputs": [
    {
     "name": "stdout",
     "output_type": "stream",
     "text": [
      "search: \u001b[1ms\u001b[22m\u001b[1mi\u001b[22m\u001b[1mz\u001b[22m\u001b[1me\u001b[22m \u001b[1ms\u001b[22m\u001b[1mi\u001b[22m\u001b[1mz\u001b[22m\u001b[1me\u001b[22mof \u001b[1ms\u001b[22m\u001b[1mi\u001b[22m\u001b[1mz\u001b[22m\u001b[1me\u001b[22mhint! C\u001b[1ms\u001b[22m\u001b[1mi\u001b[22m\u001b[1mz\u001b[22m\u001b[1me\u001b[22m_t re\u001b[1ms\u001b[22m\u001b[1mi\u001b[22m\u001b[1mz\u001b[22m\u001b[1me\u001b[22m! file\u001b[1ms\u001b[22m\u001b[1mi\u001b[22m\u001b[1mz\u001b[22m\u001b[1me\u001b[22m C\u001b[1ms\u001b[22ms\u001b[1mi\u001b[22m\u001b[1mz\u001b[22m\u001b[1me\u001b[22m_t trailing\u001b[1ms\u001b[22m\u001b[1mi\u001b[22m\u001b[1mz\u001b[22m\u001b[1me\u001b[22m\n",
      "\n"
     ]
    },
    {
     "data": {
      "text/markdown": [
       "```\n",
       "size(A::AbstractArray, [dim...])\n",
       "```\n",
       "\n",
       "Returns a tuple containing the dimensions of `A`. Optionally you can specify the dimension(s) you want the length of, and get the length of that dimension, or a tuple of the lengths of dimensions you asked for.\n",
       "\n",
       "```jldoctest\n",
       "julia> A = ones(2,3,4);\n",
       "\n",
       "julia> size(A, 2)\n",
       "3\n",
       "\n",
       "julia> size(A,3,2)\n",
       "(4,3)\n",
       "```\n"
      ],
      "text/plain": [
       "```\n",
       "size(A::AbstractArray, [dim...])\n",
       "```\n",
       "\n",
       "Returns a tuple containing the dimensions of `A`. Optionally you can specify the dimension(s) you want the length of, and get the length of that dimension, or a tuple of the lengths of dimensions you asked for.\n",
       "\n",
       "```jldoctest\n",
       "julia> A = ones(2,3,4);\n",
       "\n",
       "julia> size(A, 2)\n",
       "3\n",
       "\n",
       "julia> size(A,3,2)\n",
       "(4,3)\n",
       "```\n"
      ]
     },
     "execution_count": 82,
     "metadata": {},
     "output_type": "execute_result"
    }
   ],
   "source": [
    "?size"
   ]
  },
  {
   "cell_type": "code",
   "execution_count": 80,
   "metadata": {
    "collapsed": false
   },
   "outputs": [
    {
     "name": "stdout",
     "output_type": "stream",
     "text": [
      "a = 0.9800665778412416\n",
      "b = 4.605170185988092\n",
      "c = 3.14\n"
     ]
    }
   ],
   "source": [
    "#=\n",
    "Many functions return values. Here we use multiple assignment to assign values returned by the functions 'cos', 'log' and 'abs' to variables 'a', 'b' and 'c'\n",
    "=#\n",
    "\n",
    "a, b, c = cos(0.2), log(100), abs(-3.14)\n",
    "println(\"a = \", a)\n",
    "println(\"b = \", b)\n",
    "println(\"c = \", c)"
   ]
  },
  {
   "cell_type": "markdown",
   "metadata": {},
   "source": [
    "### User Defined Functions"
   ]
  },
  {
   "cell_type": "markdown",
   "metadata": {},
   "source": [
    "#### Examples"
   ]
  },
  {
   "cell_type": "code",
   "execution_count": 85,
   "metadata": {
    "collapsed": false
   },
   "outputs": [
    {
     "name": "stdout",
     "output_type": "stream",
     "text": [
      "disc(3,4,5) = -44"
     ]
    }
   ],
   "source": [
    "# One line function definition\n",
    "\n",
    "disc(a,b,c) = b^2 - 4*a*c\n",
    "\n",
    "print(\"disc(3,4,5) = \", disc(3,4,5))"
   ]
  },
  {
   "cell_type": "code",
   "execution_count": 1,
   "metadata": {
    "collapsed": false
   },
   "outputs": [
    {
     "data": {
      "text/plain": [
       "(-0.3333333333333333,-3.0)"
      ]
     },
     "execution_count": 1,
     "metadata": {},
     "output_type": "execute_result"
    }
   ],
   "source": [
    "# Multi-line function definition\n",
    "\n",
    "# Compute the two roots of a quadratic function\n",
    "\n",
    "function quad_formula(a,b,c)\n",
    "    d = sqrt(b^2 - 4*a*c)\n",
    "    \n",
    "    function roots(a,b,d)\n",
    "        (-1*b + d)/(2*a)\n",
    "    end\n",
    "        \n",
    "    r1, r2 = roots(a,b,d), roots(a,b,-1*d)\n",
    "end\n",
    "\n",
    "# Call the function to find the roots of 3x^2 + 10x + 3\n",
    "\n",
    "quad_formula(3, 10, 3)"
   ]
  },
  {
   "cell_type": "code",
   "execution_count": 1,
   "metadata": {
    "collapsed": false
   },
   "outputs": [
    {
     "name": "stdout",
     "output_type": "stream",
     "text": [
      "Inside the 'show_debug_print' function now\n",
      "The type of [23.0,3.4] is Array{Float64,1}\n"
     ]
    }
   ],
   "source": [
    "#=\n",
    "Here's an example of using the '$' character in strings to return the value of a function to be printed within the string.\n",
    "=#\n",
    "\n",
    "function show_debug_print(testvar)\n",
    "    println(\"Inside the 'show_debug_print' function now\")\n",
    "    println(\"The type of $(testvar) is $(typeof(testvar))\")\n",
    "end\n",
    "\n",
    "# Call the function on a variable\n",
    "\n",
    "a = [23, 3.4]\n",
    "show_debug_print(a)"
   ]
  },
  {
   "cell_type": "code",
   "execution_count": null,
   "metadata": {
    "collapsed": true
   },
   "outputs": [],
   "source": []
  }
 ],
 "metadata": {
  "anaconda-cloud": {},
  "hide_input": false,
  "kernelspec": {
   "display_name": "Julia 0.5.0",
   "language": "julia",
   "name": "julia-0.5"
  },
  "language_info": {
   "file_extension": ".jl",
   "mimetype": "application/julia",
   "name": "julia",
   "version": "0.5.0"
  },
  "latex_envs": {
   "bibliofile": "biblio.bib",
   "cite_by": "apalike",
   "current_citInitial": 1,
   "eqLabelWithNumbers": true,
   "eqNumInitial": 0
  }
 },
 "nbformat": 4,
 "nbformat_minor": 1
}
