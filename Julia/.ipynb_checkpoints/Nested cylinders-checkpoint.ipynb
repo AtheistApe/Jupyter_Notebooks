{
 "cells": [
  {
   "cell_type": "code",
   "execution_count": 46,
   "metadata": {},
   "outputs": [
    {
     "data": {
      "text/plain": [
       "cylinders (generic function with 1 method)"
      ]
     },
     "execution_count": 46,
     "metadata": {},
     "output_type": "execute_result"
    }
   ],
   "source": [
    "function cylinders(f,a,b,n,dx)\n",
    "    Δx = (b-a)/n\n",
    "    xmid = [a + (i-0.5)*Δx for i in range(1,n)]\n",
    "    xi = [a + i*Δx for i in range(1,n-1)]\n",
    "    height = f.(xmid)\n",
    "    function cyl(i)\n",
    "        if i == 1\n",
    "            str = \"difference(){\\n\\tcylinder(r=$(xi[1]-dx), h=$(height[i]));\n",
    "            \\n\\tcylinder(r=$(a), h=$(height[i]));\\n}\"\n",
    "        elseif i == n\n",
    "            str = \"difference(){\\n\\tcylinder(r=$(b), h=$(height[n]));\n",
    "            \\n\\tcylinder(r=$(xi[n-1]+dx), h=$(height[n]));\\n}\"\n",
    "        else\n",
    "            str = \"difference(){\\n\\tcylinder(r=$(xi[i]-dx), h=$(height[i]));\n",
    "            \\n\\tcylinder(r=$(xi[i-1]+dx), h=$(height[i]));\\n}\"\n",
    "        end\n",
    "    end\n",
    "    for i in range(1,1,n)\n",
    "        print(cyl(i),\"\\n\\n\")\n",
    "    end\n",
    "end"
   ]
  },
  {
   "cell_type": "code",
   "execution_count": 47,
   "metadata": {},
   "outputs": [
    {
     "name": "stdout",
     "output_type": "stream",
     "text": [
      "difference(){\n",
      "\tcylinder(r=0.24, h=3.99609375);\n",
      "            \n",
      "\tcylinder(r=0, h=3.99609375);\n",
      "}\n",
      "\n",
      "difference(){\n",
      "\tcylinder(r=0.49, h=3.96484375);\n",
      "            \n",
      "\tcylinder(r=0.26, h=3.96484375);\n",
      "}\n",
      "\n",
      "difference(){\n",
      "\tcylinder(r=0.74, h=3.90234375);\n",
      "            \n",
      "\tcylinder(r=0.51, h=3.90234375);\n",
      "}\n",
      "\n",
      "difference(){\n",
      "\tcylinder(r=0.99, h=3.80859375);\n",
      "            \n",
      "\tcylinder(r=0.76, h=3.80859375);\n",
      "}\n",
      "\n",
      "difference(){\n",
      "\tcylinder(r=1.24, h=3.68359375);\n",
      "            \n",
      "\tcylinder(r=1.01, h=3.68359375);\n",
      "}\n",
      "\n",
      "difference(){\n",
      "\tcylinder(r=1.49, h=3.52734375);\n",
      "            \n",
      "\tcylinder(r=1.26, h=3.52734375);\n",
      "}\n",
      "\n",
      "difference(){\n",
      "\tcylinder(r=1.74, h=3.33984375);\n",
      "            \n",
      "\tcylinder(r=1.51, h=3.33984375);\n",
      "}\n",
      "\n",
      "difference(){\n",
      "\tcylinder(r=1.99, h=3.12109375);\n",
      "            \n",
      "\tcylinder(r=1.76, h=3.12109375);\n",
      "}\n",
      "\n",
      "difference(){\n",
      "\tcylinder(r=2.24, h=2.87109375);\n",
      "            \n",
      "\tcylinder(r=2.01, h=2.87109375);\n",
      "}\n",
      "\n",
      "difference(){\n",
      "\tcylinder(r=2.49, h=2.58984375);\n",
      "            \n",
      "\tcylinder(r=2.26, h=2.58984375);\n",
      "}\n",
      "\n",
      "difference(){\n",
      "\tcylinder(r=2.74, h=2.27734375);\n",
      "            \n",
      "\tcylinder(r=2.51, h=2.27734375);\n",
      "}\n",
      "\n",
      "difference(){\n",
      "\tcylinder(r=2.99, h=1.93359375);\n",
      "            \n",
      "\tcylinder(r=2.76, h=1.93359375);\n",
      "}\n",
      "\n",
      "difference(){\n",
      "\tcylinder(r=3.24, h=1.55859375);\n",
      "            \n",
      "\tcylinder(r=3.01, h=1.55859375);\n",
      "}\n",
      "\n",
      "difference(){\n",
      "\tcylinder(r=3.49, h=1.15234375);\n",
      "            \n",
      "\tcylinder(r=3.26, h=1.15234375);\n",
      "}\n",
      "\n",
      "difference(){\n",
      "\tcylinder(r=3.74, h=0.71484375);\n",
      "            \n",
      "\tcylinder(r=3.51, h=0.71484375);\n",
      "}\n",
      "\n",
      "difference(){\n",
      "\tcylinder(r=4, h=0.24609375);\n",
      "            \tcylinder(r=3.76, h=0.24609375);\n",
      "}\n",
      "\n"
     ]
    }
   ],
   "source": [
    "cylinders(x->4 - 0.25*x^2,0,4,16,0.01)"
   ]
  },
  {
   "cell_type": "code",
   "execution_count": null,
   "metadata": {
    "collapsed": true
   },
   "outputs": [],
   "source": []
  },
  {
   "cell_type": "code",
   "execution_count": null,
   "metadata": {
    "collapsed": true
   },
   "outputs": [],
   "source": []
  }
 ],
 "metadata": {
  "hide_input": false,
  "kernelspec": {
   "display_name": "Julia 0.6.0",
   "language": "julia",
   "name": "julia-0.6"
  },
  "language_info": {
   "file_extension": ".jl",
   "mimetype": "application/julia",
   "name": "julia",
   "version": "0.6.0"
  },
  "latex_envs": {
   "bibliofile": "biblio.bib",
   "cite_by": "apalike",
   "current_citInitial": 1,
   "eqLabelWithNumbers": true,
   "eqNumInitial": 0
  }
 },
 "nbformat": 4,
 "nbformat_minor": 2
}
