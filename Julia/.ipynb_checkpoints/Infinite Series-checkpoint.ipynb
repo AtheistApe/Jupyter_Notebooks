{
 "cells": [
  {
   "cell_type": "markdown",
   "metadata": {},
   "source": [
    "### Definition of a convergent series\n",
    "\n",
    "We say that the series $\\sum_{k=1}^\\infty a_k$ converges to $S$ if the sequence of partial sums $\\{s_n\\}$ converges to $S$, where $$s_n = \\sum_{k=1}^n a_k = a_1 + a_2 + \\ldots + a_n$$ and write $\\sum_{k=1}^\\infty a_k = S$.\n",
    "\n",
    "If the sequence of partial sums $\\{s_k\\}$ does not converge, we say that the series diverges."
   ]
  },
  {
   "cell_type": "markdown",
   "metadata": {},
   "source": [
    "### Examples"
   ]
  },
  {
   "cell_type": "code",
   "execution_count": 60,
   "metadata": {},
   "outputs": [
    {
     "data": {
      "text/plain": [
       "s (generic function with 1 method)"
      ]
     },
     "execution_count": 60,
     "metadata": {},
     "output_type": "execute_result"
    }
   ],
   "source": [
    "a(k) = 1//2^k\n",
    "\n",
    "s(n) = sum([a(k) for k in 1:n])"
   ]
  },
  {
   "cell_type": "code",
   "execution_count": 116,
   "metadata": {},
   "outputs": [
    {
     "data": {
      "text/plain": [
       "partsums (generic function with 1 method)"
      ]
     },
     "execution_count": 116,
     "metadata": {},
     "output_type": "execute_result"
    }
   ],
   "source": [
    "function partsums(n)\n",
    "    psums = Array{Rational}(1)\n",
    "    append!(psums, a(1))\n",
    "    psum = (string(a(1)))\n",
    "    print(\"s(1) = \",psum, \"\\n\\n\")\n",
    "    for k in 2:n\n",
    "        sk = s(k)\n",
    "        append!(psums, sk)\n",
    "        psum = string(psum, \" + \", a(k))\n",
    "        print(\"s($(k)) = \",psum, \" = \", \"$(sk)\\n\")\n",
    "        print(\"\\n\")\n",
    "    end\n",
    "    print(psums)\n",
    "end"
   ]
  },
  {
   "cell_type": "code",
   "execution_count": 86,
   "metadata": {},
   "outputs": [],
   "source": [
    "using LaTeXStrings"
   ]
  },
  {
   "cell_type": "code",
   "execution_count": 117,
   "metadata": {},
   "outputs": [
    {
     "name": "stdout",
     "output_type": "stream",
     "text": [
      "s(1) = 1//2\n",
      "\n",
      "s(2) = 1//2 + 1//4 = 3//4\n",
      "\n",
      "s(3) = 1//2 + 1//4 + 1//8 = 7//8\n",
      "\n",
      "s(4) = 1//2 + 1//4 + 1//8 + 1//16 = 15//16\n",
      "\n",
      "s(5) = 1//2 + 1//4 + 1//8 + 1//16 + 1//32 = 31//32\n",
      "\n",
      "Rational[#undef, 1//2, 3//4, 7//8, 15//16, 31//32]"
     ]
    }
   ],
   "source": [
    "partsums(5)"
   ]
  },
  {
   "cell_type": "code",
   "execution_count": 12,
   "metadata": {},
   "outputs": [
    {
     "data": {
      "text/plain": [
       "20.085536922950848"
      ]
     },
     "execution_count": 12,
     "metadata": {},
     "output_type": "execute_result"
    }
   ],
   "source": [
    "a(n) = 3^n/factorial(n)\n",
    "\n",
    "sum([a(n) for n in 0:20])"
   ]
  },
  {
   "cell_type": "code",
   "execution_count": 13,
   "metadata": {},
   "outputs": [
    {
     "data": {
      "text/plain": [
       "20.085536923187668"
      ]
     },
     "execution_count": 13,
     "metadata": {},
     "output_type": "execute_result"
    }
   ],
   "source": [
    "exp(3)"
   ]
  },
  {
   "cell_type": "code",
   "execution_count": 17,
   "metadata": {},
   "outputs": [],
   "source": [
    "import QuadGK"
   ]
  },
  {
   "cell_type": "code",
   "execution_count": 26,
   "metadata": {
    "run_control": {
     "marked": false
    }
   },
   "outputs": [
    {
     "data": {
      "text/plain": [
       "(2.6666666666666665, 4.440892098500626e-16)"
      ]
     },
     "execution_count": 26,
     "metadata": {},
     "output_type": "execute_result"
    }
   ],
   "source": [
    "f(x)=x^2\n",
    "quadgk(f,0,2)"
   ]
  },
  {
   "cell_type": "code",
   "execution_count": 27,
   "metadata": {},
   "outputs": [
    {
     "data": {
      "text/plain": [
       "(0.25, 2.7755575615628914e-17)"
      ]
     },
     "execution_count": 27,
     "metadata": {},
     "output_type": "execute_result"
    }
   ],
   "source": [
    "quadgk(x->x^3, 0, 1)"
   ]
  },
  {
   "cell_type": "code",
   "execution_count": null,
   "metadata": {},
   "outputs": [],
   "source": []
  }
 ],
 "metadata": {
  "hide_input": false,
  "kernelspec": {
   "display_name": "Julia 0.6.0",
   "language": "julia",
   "name": "julia-0.6"
  },
  "language_info": {
   "file_extension": ".jl",
   "mimetype": "application/julia",
   "name": "julia",
   "version": "0.6.0"
  },
  "latex_envs": {
   "bibliofile": "biblio.bib",
   "cite_by": "apalike",
   "current_citInitial": 1,
   "eqLabelWithNumbers": true,
   "eqNumInitial": 0
  }
 },
 "nbformat": 4,
 "nbformat_minor": 2
}
