{
 "cells": [
  {
   "cell_type": "code",
   "execution_count": 10,
   "metadata": {
    "scrolled": true
   },
   "outputs": [],
   "source": [
    "using SymPy"
   ]
  },
  {
   "cell_type": "code",
   "execution_count": 11,
   "metadata": {},
   "outputs": [
    {
     "data": {
      "text/plain": [
       "arclen (generic function with 1 method)"
      ]
     },
     "execution_count": 11,
     "metadata": {},
     "output_type": "execute_result"
    }
   ],
   "source": [
    "# Want a function which takes three function arguments x, y, z and returns\n",
    "# a function that takes three arguments ta, tb, dt.\n",
    "# The returned function returns the arclength of the curve parameterized by\n",
    "# x(t), y(t) and z(t) for times between ta and tb with time increment dt.\n",
    "\n",
    "function arclen(x::Function, y::Function, z::Function)\n",
    "    mag(v::Vector) = sqrt(sum(vi^2 for vi in v))\n",
    "    \n",
    "    function rt(t)\n",
    "        return [x(t), y(t), z(t)]\n",
    "    end\n",
    "    \n",
    "    function st(ta::Float64,tb::Float64,dt::Float64)\n",
    "        times = ta:dt:tb\n",
    "        length = sum(mag(rt(t) - rt(t-dt)) for t in times[2:end])\n",
    "        return length\n",
    "    end\n",
    "end"
   ]
  },
  {
   "cell_type": "code",
   "execution_count": 12,
   "metadata": {},
   "outputs": [
    {
     "data": {
      "text/plain": [
       "arclen2 (generic function with 1 method)"
      ]
     },
     "execution_count": 12,
     "metadata": {},
     "output_type": "execute_result"
    }
   ],
   "source": [
    "function arclen2(x::Function,y::Function,z::Function,ta::Float64,tb::Float64,dt::Float64)\n",
    "    rt = t -> [x(t), y(t), z(t)]\n",
    "    mag(v::Vector) = sqrt(sum(vi^2 for vi in v))\n",
    "    \n",
    "    times = ta:dt:tb\n",
    "    \n",
    "    length = sum(mag(rt(t) - rt(t-dt)) for t in times[2:end])\n",
    "    \n",
    "    return length\n",
    "end\n",
    "    "
   ]
  },
  {
   "cell_type": "code",
   "execution_count": 15,
   "metadata": {},
   "outputs": [],
   "source": [
    "s = arclen(t->t, t->t^2, t->2t);"
   ]
  },
  {
   "cell_type": "code",
   "execution_count": 16,
   "metadata": {},
   "outputs": [
    {
     "data": {
      "text/plain": [
       "12.526234320730612"
      ]
     },
     "execution_count": 16,
     "metadata": {},
     "output_type": "execute_result"
    }
   ],
   "source": [
    "s(-2.0,2.0,0.1)"
   ]
  },
  {
   "cell_type": "code",
   "execution_count": 17,
   "metadata": {},
   "outputs": [
    {
     "data": {
      "text/plain": [
       "12.527674616496197"
      ]
     },
     "execution_count": 17,
     "metadata": {},
     "output_type": "execute_result"
    }
   ],
   "source": [
    "s(-2.0,2.0,0.01)"
   ]
  },
  {
   "cell_type": "code",
   "execution_count": 18,
   "metadata": {},
   "outputs": [],
   "source": [
    "s2 = arclen(t->cos(t), t->sin(t), t->0);"
   ]
  },
  {
   "cell_type": "code",
   "execution_count": 19,
   "metadata": {},
   "outputs": [
    {
     "data": {
      "text/plain": [
       "6.283179999927058"
      ]
     },
     "execution_count": 19,
     "metadata": {},
     "output_type": "execute_result"
    }
   ],
   "source": [
    "s2(0.0, 2pi, 0.00001)"
   ]
  },
  {
   "cell_type": "code",
   "execution_count": 20,
   "metadata": {},
   "outputs": [
    {
     "name": "stdout",
     "output_type": "stream",
     "text": [
      "dt = 0.5,\t s = 12.491284148753891\n",
      "dt = 0.25,\t s = 12.518594505432072\n",
      "dt = 0.125,\t s = 12.525415920525504\n",
      "dt = 0.0625,\t s = 12.527120879798662\n",
      "dt = 0.03125,\t s = 12.527547094871835\n",
      "dt = 0.015625,\t s = 12.527653647092155\n"
     ]
    }
   ],
   "source": [
    "for dt in [2.0^(-n) for n in 1:6]\n",
    "    len = s(-2.0,2.0,dt)\n",
    "    println(\"dt = $dt,\\t s = $len\")\n",
    "end"
   ]
  },
  {
   "cell_type": "code",
   "execution_count": 21,
   "metadata": {},
   "outputs": [
    {
     "data": {
      "text/plain": [
       "6.4807406984077325"
      ]
     },
     "execution_count": 21,
     "metadata": {},
     "output_type": "execute_result"
    }
   ],
   "source": [
    "arclen2(t->-2-t, t->1-4t, t->1+5t, 2.0, 3.0, 0.01)"
   ]
  },
  {
   "cell_type": "code",
   "execution_count": 22,
   "metadata": {},
   "outputs": [
    {
     "data": {
      "text/plain": [
       "128.0621593873249"
      ]
     },
     "execution_count": 22,
     "metadata": {},
     "output_type": "execute_result"
    }
   ],
   "source": [
    "arclen2(t->10*sin(t), t->-8t, t->10*cos(t), -5.0, 5.0, 0.01)"
   ]
  },
  {
   "cell_type": "code",
   "execution_count": 23,
   "metadata": {},
   "outputs": [
    {
     "data": {
      "text/plain": [
       "433.9459061790565"
      ]
     },
     "execution_count": 23,
     "metadata": {},
     "output_type": "execute_result"
    }
   ],
   "source": [
    "arclen2(t->9t^2, t->6t, t->log(t), 1.0, 7.0, 0.01)"
   ]
  },
  {
   "cell_type": "code",
   "execution_count": 24,
   "metadata": {},
   "outputs": [
    {
     "data": {
      "text/plain": [
       "8103.08327411851"
      ]
     },
     "execution_count": 24,
     "metadata": {},
     "output_type": "execute_result"
    }
   ],
   "source": [
    "arclen2(t->9*sqrt(2)t, t->exp(9t), t->exp(-9t), 0.0, 1.0, 0.01)"
   ]
  },
  {
   "cell_type": "code",
   "execution_count": 25,
   "metadata": {},
   "outputs": [
    {
     "data": {
      "text/plain": [
       "53.97831721521898"
      ]
     },
     "execution_count": 25,
     "metadata": {},
     "output_type": "execute_result"
    }
   ],
   "source": [
    "arclen2(t->7t, t->6t, t->(t^2 - 2), 0.0, 5.0, 0.01)"
   ]
  },
  {
   "cell_type": "code",
   "execution_count": null,
   "metadata": {},
   "outputs": [],
   "source": []
  }
 ],
 "metadata": {
  "hide_input": false,
  "kernelspec": {
   "display_name": "Julia 1.0.1",
   "language": "julia",
   "name": "julia-1.0"
  },
  "language_info": {
   "file_extension": ".jl",
   "mimetype": "application/julia",
   "name": "julia",
   "version": "1.0.1"
  },
  "latex_envs": {
   "bibliofile": "biblio.bib",
   "cite_by": "apalike",
   "current_citInitial": 1,
   "eqLabelWithNumbers": true,
   "eqNumInitial": 0
  }
 },
 "nbformat": 4,
 "nbformat_minor": 2
}
