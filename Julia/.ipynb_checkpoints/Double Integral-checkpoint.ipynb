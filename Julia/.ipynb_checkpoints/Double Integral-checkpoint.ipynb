{
 "cells": [
  {
   "cell_type": "markdown",
   "metadata": {},
   "source": [
    "## Double Integral Approximation\n",
    "\n",
    "In this notebook we approximate $\\iint_R f(x,y)\\,dA$ over a rectangle $R$ using a (double) Riemann sum."
   ]
  },
  {
   "cell_type": "code",
   "execution_count": 2,
   "metadata": {},
   "outputs": [
    {
     "data": {
      "text/plain": [
       "double_integral (generic function with 1 method)"
      ]
     },
     "execution_count": 2,
     "metadata": {},
     "output_type": "execute_result"
    }
   ],
   "source": [
    "# Approximate the double integral of f(x,y) over the rectangle R where R is\n",
    "# partitioned into n*m subrectangles.\n",
    "\n",
    "# Call the function as: double_integral((x,y)->f(x,y), n, m, [a b; c d]), where:\n",
    "\n",
    "# f(x,y) - an expression in x and y\n",
    "# n - the number of partitions of the x interval [a, b]\n",
    "# m - the number of partitions of the y interval [c, d]\n",
    "# [a b; c d] - x interval is [a, b], y interval is [c, d]\n",
    "\n",
    "# Example call: double_integral((x,y)->2 - x^2 - y^2, 10, 10, [0 2; 0 2])\n",
    "\n",
    "function double_integral(f, n::Int64, m::Int64, R::Array{Int64,2})\n",
    "\n",
    "    a, b = R[1,:]\n",
    "    c, d = R[2,:]\n",
    "    \n",
    "    Δx = (b - a)/n\n",
    "    Δy = (d - c)/m\n",
    "    \n",
    "    ΔA = Δx * Δy\n",
    "    \n",
    "    x(i) = a + i*Δx\n",
    "    y(j) = c + j*Δy\n",
    "    \n",
    "    sum = 0\n",
    "    \n",
    "    for i in 1:n\n",
    "        for j in 1:m\n",
    "            # Evaluate f at the center of the subrectangles.\n",
    "            xij = (x(i-1)+x(i))/2\n",
    "            yij = (y(j-1)+y(j))/2\n",
    "            \n",
    "            sum = sum + f(xij, yij)\n",
    "        end\n",
    "    end\n",
    "    return sum * ΔA\n",
    "end\n",
    "    "
   ]
  },
  {
   "cell_type": "code",
   "execution_count": 3,
   "metadata": {},
   "outputs": [
    {
     "data": {
      "text/plain": [
       "10.000000000000002"
      ]
     },
     "execution_count": 3,
     "metadata": {},
     "output_type": "execute_result"
    }
   ],
   "source": [
    "double_integral((x,y) -> 1+4*x*y, 10,10, [0 1; 1 3])"
   ]
  },
  {
   "cell_type": "code",
   "execution_count": 4,
   "metadata": {},
   "outputs": [
    {
     "data": {
      "text/plain": [
       "9.99999999999999"
      ]
     },
     "execution_count": 4,
     "metadata": {},
     "output_type": "execute_result"
    }
   ],
   "source": [
    "double_integral((x,y) -> 1+4*x*y, 100,100, [0 1; 1 3])"
   ]
  },
  {
   "cell_type": "code",
   "execution_count": 5,
   "metadata": {},
   "outputs": [
    {
     "data": {
      "text/plain": [
       "2.2331531250000007"
      ]
     },
     "execution_count": 5,
     "metadata": {},
     "output_type": "execute_result"
    }
   ],
   "source": [
    "double_integral((x,y) -> x^2*y^3, 10,10, [0 3; 0 1])"
   ]
  },
  {
   "cell_type": "code",
   "execution_count": 8,
   "metadata": {},
   "outputs": [
    {
     "data": {
      "text/plain": [
       "2.249998312500354"
      ]
     },
     "execution_count": 8,
     "metadata": {},
     "output_type": "execute_result"
    }
   ],
   "source": [
    "double_integral((x,y) -> x^2*y^3, 1000,1000, [0 3; 0 1])"
   ]
  },
  {
   "cell_type": "code",
   "execution_count": 30,
   "metadata": {},
   "outputs": [
    {
     "name": "stdout",
     "output_type": "stream",
     "text": [
      "n: 2\t di: 1.845703125\n",
      "n: 4\t di: 2.1456298828125\n",
      "n: 8\t di: 2.2237014770507812\n",
      "n: 16\t di: 2.243412494659424\n",
      "n: 32\t di: 2.2483523190021515\n",
      "n: 64\t di: 2.249588029459119\n",
      "n: 128\t di: 2.249897004221566\n",
      "n: 256\t di: 2.2499742508589398\n",
      "n: 512\t di: 2.2499935627024445\n",
      "n: 1024\t di: 2.2499983906748917\n"
     ]
    }
   ],
   "source": [
    "for k in 1:10\n",
    "    n = 2^k\n",
    "    di = double_integral((x,y) -> x^2*y^3, n,n, [0 3; 0 1])\n",
    "    println(\"n: $n\\t di: $di\")\n",
    "end"
   ]
  },
  {
   "cell_type": "code",
   "execution_count": 22,
   "metadata": {},
   "outputs": [
    {
     "data": {
      "text/plain": [
       "f (generic function with 1 method)"
      ]
     },
     "execution_count": 22,
     "metadata": {},
     "output_type": "execute_result"
    }
   ],
   "source": [
    "function f(x,y)\n",
    "    if x > 0 && y > 0 && x+y < 2\n",
    "#     if x^2 + y^2 < 4\n",
    "        2 - x - y\n",
    "    else\n",
    "        0\n",
    "    end\n",
    "end"
   ]
  },
  {
   "cell_type": "code",
   "execution_count": 23,
   "metadata": {},
   "outputs": [
    {
     "name": "stdout",
     "output_type": "stream",
     "text": [
      "n: 2\t di: 1.0\n",
      "n: 4\t di: 1.25\n",
      "n: 8\t di: 1.3125\n",
      "n: 16\t di: 1.328125\n",
      "n: 32\t di: 1.33203125\n",
      "n: 64\t di: 1.3330078125\n",
      "n: 128\t di: 1.333251953125\n",
      "n: 256\t di: 1.33331298828125\n",
      "n: 512\t di: 1.3333282470703125\n",
      "n: 1024\t di: 1.3333320617675781\n"
     ]
    }
   ],
   "source": [
    "for k in 1:10\n",
    "    n = 2^k\n",
    "    di = double_integral((x,y)->f(x,y), n,n, [0 2; 0 2])\n",
    "    println(\"n: $n\\t di: $di\")\n",
    "end"
   ]
  },
  {
   "cell_type": "code",
   "execution_count": null,
   "metadata": {},
   "outputs": [],
   "source": []
  }
 ],
 "metadata": {
  "@webio": {
   "lastCommId": "f48d837e5ca9476a8e611add8b4bb6ed",
   "lastKernelId": "9499624e-3fde-44b1-a44e-a37c18e1bb7a"
  },
  "hide_input": false,
  "kernelspec": {
   "display_name": "Julia 0.7.0",
   "language": "julia",
   "name": "julia-0.7"
  },
  "language_info": {
   "file_extension": ".jl",
   "mimetype": "application/julia",
   "name": "julia",
   "version": "0.7.0"
  },
  "latex_envs": {
   "bibliofile": "biblio.bib",
   "cite_by": "apalike",
   "current_citInitial": 1,
   "eqLabelWithNumbers": true,
   "eqNumInitial": 0
  }
 },
 "nbformat": 4,
 "nbformat_minor": 2
}
