{
 "cells": [
  {
   "cell_type": "code",
   "execution_count": 1,
   "metadata": {},
   "outputs": [],
   "source": [
    "using Plots\n",
    "using LinearAlgebra"
   ]
  },
  {
   "cell_type": "code",
   "execution_count": 18,
   "metadata": {},
   "outputs": [
    {
     "ename": "BoundsError",
     "evalue": "BoundsError: attempt to access 0\n  at index [2]",
     "output_type": "error",
     "traceback": [
      "BoundsError: attempt to access 0\n  at index [2]",
      "",
      "Stacktrace:",
      " [1] indexed_iterate(::Int64, ::Int64, ::Nothing) at ./tuple.jl:72",
      " [2] prepare_output(::Plots.Plot{Plots.GRBackend}) at /home/gary/.julia/packages/Plots/oiirH/src/plot.jl:256",
      " [3] show(::Base.GenericIOBuffer{Array{UInt8,1}}, ::MIME{Symbol(\"image/svg+xml\")}, ::Plots.Plot{Plots.GRBackend}) at /home/gary/.julia/packages/Plots/oiirH/src/output.jl:197",
      " [4] #sprint#340(::Nothing, ::Int64, ::Function, ::Function, ::MIME{Symbol(\"image/svg+xml\")}, ::Vararg{Any,N} where N) at ./strings/io.jl:101",
      " [5] sprint(::Function, ::MIME{Symbol(\"image/svg+xml\")}, ::Vararg{Any,N} where N) at ./strings/io.jl:97",
      " [6] _ijulia_display_dict(::Plots.Plot{Plots.GRBackend}) at /home/gary/.julia/packages/Plots/oiirH/src/ijulia.jl:50",
      " [7] display_dict(::Plots.Plot{Plots.GRBackend}) at /home/gary/.julia/packages/Plots/oiirH/src/init.jl:42",
      " [8] #invokelatest#1 at ./essentials.jl:742 [inlined]",
      " [9] invokelatest at ./essentials.jl:741 [inlined]",
      " [10] execute_request(::ZMQ.Socket, ::IJulia.Msg) at /home/gary/.julia/packages/IJulia/gI2uA/src/execute_request.jl:112",
      " [11] #invokelatest#1 at ./essentials.jl:742 [inlined]",
      " [12] invokelatest at ./essentials.jl:741 [inlined]",
      " [13] eventloop(::ZMQ.Socket) at /home/gary/.julia/packages/IJulia/gI2uA/src/eventloop.jl:8",
      " [14] (::getfield(IJulia, Symbol(\"##15#18\")))() at ./task.jl:259"
     ]
    }
   ],
   "source": [
    "using Plots\n",
    "gr(size=(500,500))\n",
    "\n",
    "function example()\n",
    "  X = range(-2, stop=2, length=100)\n",
    "  Y = range(-2, stop=2, length=100)\n",
    "  f(x, y) = x^3 - 3x + y^2\n",
    "#   contour(X, Y, f)\n",
    "\n",
    "  x = range(-2, stop=2, length=15)\n",
    "  y = range(-2, stop=2, length=15)\n",
    "#   df(x, y) = [3x^2 - 3; 2y] / 25\n",
    "  df(x, y) = normalize([3x^2 - 3; 2y])/6\n",
    "  quiver!(x, y', quiver=df, c=:blue)\n",
    "\n",
    "  xlims!(-2, 2)\n",
    "  ylims!(-2, 2)\n",
    "#   png(\"example\")\n",
    "end\n",
    "\n",
    "example()"
   ]
  },
  {
   "cell_type": "code",
   "execution_count": 17,
   "metadata": {},
   "outputs": [
    {
     "name": "stdout",
     "output_type": "stream",
     "text": [
      "search: \u001b[0m\u001b[1mq\u001b[22m\u001b[0m\u001b[1mu\u001b[22m\u001b[0m\u001b[1mi\u001b[22m\u001b[0m\u001b[1mv\u001b[22m\u001b[0m\u001b[1me\u001b[22m\u001b[0m\u001b[1mr\u001b[22m \u001b[0m\u001b[1mq\u001b[22m\u001b[0m\u001b[1mu\u001b[22m\u001b[0m\u001b[1mi\u001b[22m\u001b[0m\u001b[1mv\u001b[22m\u001b[0m\u001b[1me\u001b[22m\u001b[0m\u001b[1mr\u001b[22m!\n",
      "\n"
     ]
    },
    {
     "data": {
      "text/latex": [
       "\\begin{verbatim}\n",
       "quiver(x,y,quiver=(u,v))\n",
       "quiver!(x,y,quiver=(u,v))\n",
       "\\end{verbatim}\n",
       "Make a quiver (vector field) plot. The \\texttt{i}th vector extends  from \\texttt{(x[i],y[i])} to \\texttt{(x[i] + u[i], y[i] + v[i])}. \n",
       "\n",
       "\\section{Example}\n",
       "\\begin{verbatim}\n",
       "julia> quiver([1,2,3],[3,2,1],quiver=([1,1,1],[1,2,3]))\n",
       "\\end{verbatim}\n"
      ],
      "text/markdown": [
       "```\n",
       "quiver(x,y,quiver=(u,v))\n",
       "quiver!(x,y,quiver=(u,v))\n",
       "```\n",
       "\n",
       "Make a quiver (vector field) plot. The `i`th vector extends  from `(x[i],y[i])` to `(x[i] + u[i], y[i] + v[i])`. \n",
       "\n",
       "# Example\n",
       "\n",
       "```julia-repl\n",
       "julia> quiver([1,2,3],[3,2,1],quiver=([1,1,1],[1,2,3]))\n",
       "```\n"
      ],
      "text/plain": [
       "  \u001b[38;5;81mquiver\u001b[0m(\u001b[0m\u001b[39mx\u001b[0m\u001b[39m,\u001b[0m\u001b[39my\u001b[0m\u001b[39m,\u001b[0m\u001b[39mquiver\u001b[0m\u001b[38;5;197m=\u001b[0m(\u001b[0m\u001b[39mu\u001b[0m\u001b[39m,\u001b[0m\u001b[39mv\u001b[0m\u001b[39m)\u001b[0m\u001b[39m)\u001b[0m\n",
       "  \u001b[0m\u001b[38;5;81mquiver!\u001b[0m(\u001b[0m\u001b[39mx\u001b[0m\u001b[39m,\u001b[0m\u001b[39my\u001b[0m\u001b[39m,\u001b[0m\u001b[39mquiver\u001b[0m\u001b[38;5;197m=\u001b[0m(\u001b[0m\u001b[39mu\u001b[0m\u001b[39m,\u001b[0m\u001b[39mv\u001b[0m\u001b[39m)\u001b[0m\u001b[39m)\u001b[0m\u001b[39m\u001b[0m\n",
       "\n",
       "\n",
       "  Make a quiver (vector field) plot. The \u001b[36mi\u001b[39mth vector extends from \u001b[36m(x[i],y[i])\u001b[39m\n",
       "  to \u001b[36m(x[i] + u[i], y[i] + v[i])\u001b[39m. \n",
       "\n",
       "\u001b[1m  Example\u001b[22m\n",
       "\u001b[1m  ≡≡≡≡≡≡≡≡≡\u001b[22m\n",
       "\n",
       "  \u001b[31;1mjulia> \u001b[0m\u001b[38;5;81mquiver\u001b[0m(\u001b[0m\u001b[39m[\u001b[0m\u001b[38;5;141m1\u001b[0m\u001b[39m,\u001b[0m\u001b[38;5;141m2\u001b[0m\u001b[39m,\u001b[0m\u001b[38;5;141m3\u001b[0m\u001b[39m]\u001b[0m\u001b[39m,\u001b[0m\u001b[39m[\u001b[0m\u001b[38;5;141m3\u001b[0m\u001b[39m,\u001b[0m\u001b[38;5;141m2\u001b[0m\u001b[39m,\u001b[0m\u001b[38;5;141m1\u001b[0m\u001b[39m]\u001b[0m\u001b[39m,\u001b[0m\u001b[39mquiver\u001b[0m\u001b[38;5;197m=\u001b[0m(\u001b[0m\u001b[39m[\u001b[0m\u001b[38;5;141m1\u001b[0m\u001b[39m,\u001b[0m\u001b[38;5;141m1\u001b[0m\u001b[39m,\u001b[0m\u001b[38;5;141m1\u001b[0m\u001b[39m]\u001b[0m\u001b[39m,\u001b[0m\u001b[39m[\u001b[0m\u001b[38;5;141m1\u001b[0m\u001b[39m,\u001b[0m\u001b[38;5;141m2\u001b[0m\u001b[39m,\u001b[0m\u001b[38;5;141m3\u001b[0m\u001b[39m]\u001b[0m\u001b[39m)\u001b[0m\u001b[39m)\u001b[0m\u001b[39m\u001b[0m\n"
      ]
     },
     "execution_count": 17,
     "metadata": {},
     "output_type": "execute_result"
    }
   ],
   "source": [
    "?quiver"
   ]
  },
  {
   "cell_type": "code",
   "execution_count": null,
   "metadata": {},
   "outputs": [],
   "source": []
  }
 ],
 "metadata": {
  "@webio": {
   "lastCommId": null,
   "lastKernelId": null
  },
  "kernelspec": {
   "display_name": "Julia nodeps 1.1.0",
   "language": "julia",
   "name": "julia-nodeps-1.1"
  },
  "language_info": {
   "file_extension": ".jl",
   "mimetype": "application/julia",
   "name": "julia",
   "version": "1.1.0"
  }
 },
 "nbformat": 4,
 "nbformat_minor": 2
}
