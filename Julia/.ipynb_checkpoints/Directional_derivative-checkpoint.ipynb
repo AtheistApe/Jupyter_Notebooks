{
 "cells": [
  {
   "cell_type": "code",
   "execution_count": 1,
   "metadata": {},
   "outputs": [
    {
     "data": {
      "text/plain": [
       "-0.27150675933836754"
      ]
     },
     "execution_count": 1,
     "metadata": {},
     "output_type": "execute_result"
    }
   ],
   "source": [
    "using ForwardDiff\n",
    "using LinearAlgebra\n",
    "\n",
    "f(x,y)=sin(x+2y)\n",
    "\n",
    "gradf = ForwardDiff.gradient(z->f(z[1],z[2]), [-2.0, -3.0])\n",
    "\n",
    "u = [cos(pi/6), sin(pi/6)]\n",
    "\n",
    "dot(gradf, u)"
   ]
  },
  {
   "cell_type": "code",
   "execution_count": null,
   "metadata": {},
   "outputs": [],
   "source": []
  }
 ],
 "metadata": {
  "@webio": {
   "lastCommId": "96e92c50f15c442d93e70790498fac69",
   "lastKernelId": "bb113687-3d01-4613-b03e-26cf0086351b"
  },
  "kernelspec": {
   "display_name": "Julia 0.7.0",
   "language": "julia",
   "name": "julia-0.7"
  },
  "language_info": {
   "file_extension": ".jl",
   "mimetype": "application/julia",
   "name": "julia",
   "version": "0.7.0"
  }
 },
 "nbformat": 4,
 "nbformat_minor": 2
}
