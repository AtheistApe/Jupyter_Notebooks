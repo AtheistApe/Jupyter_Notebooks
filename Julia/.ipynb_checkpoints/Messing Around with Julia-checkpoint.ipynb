{
 "cells": [
  {
   "cell_type": "code",
   "execution_count": 1,
   "metadata": {
    "run_control": {
     "marked": false
    }
   },
   "outputs": [
    {
     "name": "stdout",
     "output_type": "stream",
     "text": [
      "Julia Version 0.7.0\n",
      "Commit a4cb80f3ed (2018-08-08 06:46 UTC)\n",
      "Platform Info:\n",
      "  OS: Linux (x86_64-pc-linux-gnu)\n",
      "  CPU: Intel(R) Core(TM) i7-8550U CPU @ 1.80GHz\n",
      "  WORD_SIZE: 64\n",
      "  LIBM: libopenlibm\n",
      "  LLVM: libLLVM-6.0.0 (ORCJIT, skylake)\n"
     ]
    }
   ],
   "source": [
    "versioninfo()"
   ]
  },
  {
   "cell_type": "code",
   "execution_count": 2,
   "metadata": {},
   "outputs": [
    {
     "data": {
      "text/plain": [
       "\"/home/gary/Documents/Jupyter_Notebooks/Julia\""
      ]
     },
     "execution_count": 2,
     "metadata": {},
     "output_type": "execute_result"
    }
   ],
   "source": [
    "pwd()"
   ]
  },
  {
   "cell_type": "code",
   "execution_count": 3,
   "metadata": {},
   "outputs": [
    {
     "data": {
      "text/plain": [
       "sphere_vol (generic function with 1 method)"
      ]
     },
     "execution_count": 3,
     "metadata": {},
     "output_type": "execute_result"
    }
   ],
   "source": [
    "function sphere_vol(r)\n",
    "    return 4/3 * pi * r^3\n",
    "end"
   ]
  },
  {
   "cell_type": "code",
   "execution_count": 4,
   "metadata": {},
   "outputs": [
    {
     "data": {
      "text/plain": [
       "1436.7550402417319"
      ]
     },
     "execution_count": 4,
     "metadata": {},
     "output_type": "execute_result"
    }
   ],
   "source": [
    "sphere_vol(7)"
   ]
  },
  {
   "cell_type": "code",
   "execution_count": 5,
   "metadata": {},
   "outputs": [
    {
     "data": {
      "text/plain": [
       "quadratic (generic function with 1 method)"
      ]
     },
     "execution_count": 5,
     "metadata": {},
     "output_type": "execute_result"
    }
   ],
   "source": [
    "quadratic(a, sqr_term, b) = (-b + sqr_term) / 2a"
   ]
  },
  {
   "cell_type": "code",
   "execution_count": 6,
   "metadata": {},
   "outputs": [
    {
     "data": {
      "text/plain": [
       "-0.25"
      ]
     },
     "execution_count": 6,
     "metadata": {},
     "output_type": "execute_result"
    }
   ],
   "source": [
    "quadratic(2, 3, 4)"
   ]
  },
  {
   "cell_type": "code",
   "execution_count": 7,
   "metadata": {
    "run_control": {
     "marked": false
    }
   },
   "outputs": [
    {
     "name": "stdout",
     "output_type": "stream",
     "text": [
      "k = 1.0\n",
      "k = 1.5\n",
      "k = 2.0\n",
      "k = 2.5\n",
      "k = 3.0\n",
      "k = 3.5\n",
      "k = 4.0\n",
      "k = 4.5\n",
      "k = 5.0\n"
     ]
    }
   ],
   "source": [
    "for k = 1:0.5:5\n",
    "    println(\"k = $k\")\n",
    "end"
   ]
  },
  {
   "cell_type": "code",
   "execution_count": 8,
   "metadata": {},
   "outputs": [
    {
     "name": "stdout",
     "output_type": "stream",
     "text": [
      "search: \u001b[0m\u001b[1mA\u001b[22m\u001b[0m\u001b[1mr\u001b[22m\u001b[0m\u001b[1mr\u001b[22m\u001b[0m\u001b[1ma\u001b[22m\u001b[0m\u001b[1my\u001b[22m Sub\u001b[0m\u001b[1mA\u001b[22m\u001b[0m\u001b[1mr\u001b[22m\u001b[0m\u001b[1mr\u001b[22m\u001b[0m\u001b[1ma\u001b[22m\u001b[0m\u001b[1my\u001b[22m Bit\u001b[0m\u001b[1mA\u001b[22m\u001b[0m\u001b[1mr\u001b[22m\u001b[0m\u001b[1mr\u001b[22m\u001b[0m\u001b[1ma\u001b[22m\u001b[0m\u001b[1my\u001b[22m Dense\u001b[0m\u001b[1mA\u001b[22m\u001b[0m\u001b[1mr\u001b[22m\u001b[0m\u001b[1mr\u001b[22m\u001b[0m\u001b[1ma\u001b[22m\u001b[0m\u001b[1my\u001b[22m Strided\u001b[0m\u001b[1mA\u001b[22m\u001b[0m\u001b[1mr\u001b[22m\u001b[0m\u001b[1mr\u001b[22m\u001b[0m\u001b[1ma\u001b[22m\u001b[0m\u001b[1my\u001b[22m PermutedDims\u001b[0m\u001b[1mA\u001b[22m\u001b[0m\u001b[1mr\u001b[22m\u001b[0m\u001b[1mr\u001b[22m\u001b[0m\u001b[1ma\u001b[22m\u001b[0m\u001b[1my\u001b[22m\n",
      "\n"
     ]
    },
    {
     "data": {
      "text/markdown": [
       "```\n",
       "Array{T,N} <: AbstractArray{T,N}\n",
       "```\n",
       "\n",
       "`N`-dimensional dense array with elements of type `T`.\n",
       "\n",
       "---\n",
       "\n",
       "```\n",
       "Array{T}(undef, dims)\n",
       "Array{T,N}(undef, dims)\n",
       "```\n",
       "\n",
       "Construct an uninitialized `N`-dimensional [`Array`](@ref) containing elements of type `T`. `N` can either be supplied explicitly, as in `Array{T,N}(undef, dims)`, or be determined by the length or number of `dims`. `dims` may be a tuple or a series of integer arguments corresponding to the lengths in each dimension. If the rank `N` is supplied explicitly, then it must match the length or number of `dims`. See [`undef`](@ref).\n",
       "\n",
       "# Examples\n",
       "\n",
       "```julia-repl\n",
       "julia> A = Array{Float64,2}(undef, 2, 3) # N given explicitly\n",
       "2×3 Array{Float64,2}:\n",
       " 6.90198e-310  6.90198e-310  6.90198e-310\n",
       " 6.90198e-310  6.90198e-310  0.0\n",
       "\n",
       "julia> B = Array{Float64}(undef, 2) # N determined by the input\n",
       "2-element Array{Float64,1}:\n",
       " 1.87103e-320\n",
       " 0.0\n",
       "```\n",
       "\n",
       "---\n",
       "\n",
       "```\n",
       "Array{T}(nothing, dims)\n",
       "Array{T,N}(nothing, dims)\n",
       "```\n",
       "\n",
       "Construct an `N`-dimensional [`Array`](@ref) containing elements of type `T`, initialized with [`nothing`](@ref) entries. Element type `T` must be able to hold these values, i.e. `Nothing <: T`.\n",
       "\n",
       "# Examples\n",
       "\n",
       "```jldoctest\n",
       "julia> Array{Union{Nothing, String}}(nothing, 2)\n",
       "2-element Array{Union{Nothing, String},1}:\n",
       " nothing\n",
       " nothing\n",
       "\n",
       "julia> Array{Union{Nothing, Int}}(nothing, 2, 3)\n",
       "2×3 Array{Union{Nothing, Int64},2}:\n",
       " nothing  nothing  nothing\n",
       " nothing  nothing  nothing\n",
       "```\n",
       "\n",
       "---\n",
       "\n",
       "```\n",
       "Array{T}(missing, dims)\n",
       "Array{T,N}(missing, dims)\n",
       "```\n",
       "\n",
       "Construct an `N`-dimensional [`Array`](@ref) containing elements of type `T`, initialized with [`missing`](@ref) entries. Element type `T` must be able to hold these values, i.e. `Missing <: T`.\n",
       "\n",
       "# Examples\n",
       "\n",
       "```jldoctest\n",
       "julia> Array{Union{Missing, String}}(missing, 2)\n",
       "2-element Array{Union{Missing, String},1}:\n",
       " missing\n",
       " missing\n",
       "\n",
       "julia> Array{Union{Missing, Int}}(missing, 2, 3)\n",
       "2×3 Array{Union{Missing, Int64},2}:\n",
       " missing  missing  missing\n",
       " missing  missing  missing\n",
       "```\n"
      ],
      "text/plain": [
       "  Array{T,N} <: AbstractArray{T,N}\n",
       "\n",
       "\n",
       "  \u001b[36mN\u001b[39m-dimensional dense array with elements of type \u001b[36mT\u001b[39m.\n",
       "\n",
       "  ────────────────────────────────────────────────────────────────────────────\n",
       "\n",
       "  Array{T}(undef, dims)\n",
       "  Array{T,N}(undef, dims)\n",
       "\n",
       "\n",
       "  Construct an uninitialized \u001b[36mN\u001b[39m-dimensional \u001b[36mArray\u001b[39m containing elements of type\n",
       "  \u001b[36mT\u001b[39m. \u001b[36mN\u001b[39m can either be supplied explicitly, as in \u001b[36mArray{T,N}(undef, dims)\u001b[39m, or be\n",
       "  determined by the length or number of \u001b[36mdims\u001b[39m. \u001b[36mdims\u001b[39m may be a tuple or a series\n",
       "  of integer arguments corresponding to the lengths in each dimension. If the\n",
       "  rank \u001b[36mN\u001b[39m is supplied explicitly, then it must match the length or number of\n",
       "  \u001b[36mdims\u001b[39m. See \u001b[36mundef\u001b[39m.\n",
       "\n",
       "\u001b[1m  Examples\u001b[22m\n",
       "\u001b[1m  ≡≡≡≡≡≡≡≡≡≡\u001b[22m\n",
       "\n",
       "  julia> A = Array{Float64,2}(undef, 2, 3) # N given explicitly\n",
       "  2×3 Array{Float64,2}:\n",
       "   6.90198e-310  6.90198e-310  6.90198e-310\n",
       "   6.90198e-310  6.90198e-310  0.0\n",
       "  \n",
       "  julia> B = Array{Float64}(undef, 2) # N determined by the input\n",
       "  2-element Array{Float64,1}:\n",
       "   1.87103e-320\n",
       "   0.0\n",
       "\n",
       "\n",
       "  ────────────────────────────────────────────────────────────────────────────\n",
       "\n",
       "  Array{T}(nothing, dims)\n",
       "  Array{T,N}(nothing, dims)\n",
       "\n",
       "\n",
       "  Construct an \u001b[36mN\u001b[39m-dimensional \u001b[36mArray\u001b[39m containing elements of type \u001b[36mT\u001b[39m, initialized\n",
       "  with \u001b[36mnothing\u001b[39m entries. Element type \u001b[36mT\u001b[39m must be able to hold these values, i.e.\n",
       "  \u001b[36mNothing <: T\u001b[39m.\n",
       "\n",
       "\u001b[1m  Examples\u001b[22m\n",
       "\u001b[1m  ≡≡≡≡≡≡≡≡≡≡\u001b[22m\n",
       "\n",
       "  julia> Array{Union{Nothing, String}}(nothing, 2)\n",
       "  2-element Array{Union{Nothing, String},1}:\n",
       "   nothing\n",
       "   nothing\n",
       "  \n",
       "  julia> Array{Union{Nothing, Int}}(nothing, 2, 3)\n",
       "  2×3 Array{Union{Nothing, Int64},2}:\n",
       "   nothing  nothing  nothing\n",
       "   nothing  nothing  nothing\n",
       "\n",
       "\n",
       "  ────────────────────────────────────────────────────────────────────────────\n",
       "\n",
       "  Array{T}(missing, dims)\n",
       "  Array{T,N}(missing, dims)\n",
       "\n",
       "\n",
       "  Construct an \u001b[36mN\u001b[39m-dimensional \u001b[36mArray\u001b[39m containing elements of type \u001b[36mT\u001b[39m, initialized\n",
       "  with \u001b[36mmissing\u001b[39m entries. Element type \u001b[36mT\u001b[39m must be able to hold these values, i.e.\n",
       "  \u001b[36mMissing <: T\u001b[39m.\n",
       "\n",
       "\u001b[1m  Examples\u001b[22m\n",
       "\u001b[1m  ≡≡≡≡≡≡≡≡≡≡\u001b[22m\n",
       "\n",
       "  julia> Array{Union{Missing, String}}(missing, 2)\n",
       "  2-element Array{Union{Missing, String},1}:\n",
       "   missing\n",
       "   missing\n",
       "  \n",
       "  julia> Array{Union{Missing, Int}}(missing, 2, 3)\n",
       "  2×3 Array{Union{Missing, Int64},2}:\n",
       "   missing  missing  missing\n",
       "   missing  missing  missing\n"
      ]
     },
     "execution_count": 8,
     "metadata": {},
     "output_type": "execute_result"
    }
   ],
   "source": [
    "?Array"
   ]
  },
  {
   "cell_type": "code",
   "execution_count": 9,
   "metadata": {},
   "outputs": [
    {
     "data": {
      "text/plain": [
       "2×3 Array{Int64,2}:\n",
       " 1  3  5\n",
       " 2  4  5"
      ]
     },
     "execution_count": 9,
     "metadata": {},
     "output_type": "execute_result"
    }
   ],
   "source": [
    "data = Array([1 3 5; 2 4 5])"
   ]
  },
  {
   "cell_type": "code",
   "execution_count": 151,
   "metadata": {},
   "outputs": [
    {
     "data": {
      "text/plain": [
       "3-element Array{Int64,1}:\n",
       " 1\n",
       " 3\n",
       " 5"
      ]
     },
     "execution_count": 151,
     "metadata": {},
     "output_type": "execute_result"
    }
   ],
   "source": [
    "data[1, :]"
   ]
  },
  {
   "cell_type": "code",
   "execution_count": 152,
   "metadata": {},
   "outputs": [
    {
     "data": {
      "text/plain": [
       "2-element Array{Int64,1}:\n",
       " 1\n",
       " 2"
      ]
     },
     "execution_count": 152,
     "metadata": {},
     "output_type": "execute_result"
    }
   ],
   "source": [
    "data[:, 1]"
   ]
  },
  {
   "cell_type": "code",
   "execution_count": 153,
   "metadata": {},
   "outputs": [
    {
     "name": "stdout",
     "output_type": "stream",
     "text": [
      "(-5, 25)\n",
      "(-4, 16)\n",
      "(-3, 9)\n",
      "(-2, 4)\n",
      "(-1, 1)\n",
      "(0, 0)\n",
      "(1, 1)\n",
      "(2, 4)\n",
      "(3, 9)\n",
      "(4, 16)\n",
      "(5, 25)\n"
     ]
    },
    {
     "name": "stderr",
     "output_type": "stream",
     "text": [
      "WARNING: Method definition f(Any) in module Main at In[118]:2 overwritten at In[153]:1.\n"
     ]
    },
    {
     "data": {
      "text/html": [
       "<img src=\"data:image/png;base64,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\" />"
      ]
     },
     "execution_count": 153,
     "metadata": {},
     "output_type": "execute_result"
    }
   ],
   "source": [
    "f(x) = 3 * x^2 + 6 * x - 9\n",
    "for x = -5:5    \n",
    "#   println(\"(\",x, \", \", f(x), \")\")\n",
    "    println(\"($x, $(f(x)))\")\n",
    "end\n",
    "using Plots\n",
    "plot(f, -4, 3) # plot f over [-4,4]\n",
    "plot!(zero, -4, 3)"
   ]
  },
  {
   "cell_type": "code",
   "execution_count": 154,
   "metadata": {},
   "outputs": [
    {
     "data": {
      "text/plain": [
       "2×6 Array{Any,2}:\n",
       " \"The name of the rose\"  \"3.2,\"  \"7,\"   8  9  100\n",
       " \"Under Milk Wood\"       \"5.7,\"  \"11,\"  3  6   42"
      ]
     },
     "execution_count": 154,
     "metadata": {},
     "output_type": "execute_result"
    }
   ],
   "source": [
    "litsamp = readdlm(\"litsampling.dat\", ' ')"
   ]
  },
  {
   "cell_type": "code",
   "execution_count": 155,
   "metadata": {},
   "outputs": [
    {
     "name": "stderr",
     "output_type": "stream",
     "text": [
      "WARNING: Method definition f(Any, Any) in module Main at In[114]:7 overwritten at In[155]:5.\n"
     ]
    },
    {
     "data": {
      "text/html": [
       "<img src=\"data:image/png;base64,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\" />"
      ]
     },
     "execution_count": 155,
     "metadata": {},
     "output_type": "execute_result"
    }
   ],
   "source": [
    "using Plots, ImplicitEquations\n",
    "pyplot()\n",
    "\n",
    "a,b = -1,2\n",
    "f(x,y) = y^4 - x^4 + a*y^2 + b*x^2\n",
    "r1 = (f ⩵ 0) # \\Equal[tab]\n",
    "r2 = (f ⩵ 1)\n",
    "plot(r1)\n",
    "plot!(r2)"
   ]
  },
  {
   "cell_type": "code",
   "execution_count": 156,
   "metadata": {},
   "outputs": [
    {
     "name": "stderr",
     "output_type": "stream",
     "text": [
      "WARNING: Method definition f(Any, Any) in module Main at In[155]:5 overwritten at In[156]:1.\n",
      "WARNING: Method definition dydx(Any, Any) in module Main at In[109]:6 overwritten at In[156]:6.\n",
      "WARNING: Method definition tl(Any) in module Main at In[109]:7 overwritten at In[156]:7.\n"
     ]
    },
    {
     "data": {
      "text/html": [
       "<img src=\"data:image/png;base64,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\" />"
      ]
     },
     "execution_count": 156,
     "metadata": {},
     "output_type": "execute_result"
    }
   ],
   "source": [
    "f(x,y) = x^2 + y^2\n",
    "plot(f ⩵ 2*3^2)\n",
    "\n",
    "## now add tangent at (3,3)\n",
    "a,b = 3,3\n",
    "dydx(a,b) = -b/a             # implicit differentiate to get dy/dx =-y/x\n",
    "tl(x) = b + dydx(a,b)*(x-a)  \n",
    "plot!(tl, linewidth=3, -5, 5)"
   ]
  },
  {
   "cell_type": "code",
   "execution_count": 1,
   "metadata": {},
   "outputs": [
    {
     "name": "stderr",
     "output_type": "stream",
     "text": [
      "\u001b[1m\u001b[34mINFO: Recompiling stale cache file /Users/gary/.julia/lib/v0.5/DiffEqBase.ji for module DiffEqBase.\n",
      "\u001b[0m\u001b[1m\u001b[34mINFO: Recompiling stale cache file /Users/gary/.julia/lib/v0.5/DiffEqPDEBase.ji for module DiffEqPDEBase.\n",
      "\u001b[0m\u001b[1m\u001b[34mINFO: Recompiling stale cache file /Users/gary/.julia/lib/v0.5/StochasticDiffEq.ji for module StochasticDiffEq.\n",
      "\u001b[0m\u001b[1m\u001b[34mINFO: Recompiling stale cache file /Users/gary/.julia/lib/v0.5/FiniteElementDiffEq.ji for module FiniteElementDiffEq.\n",
      "\u001b[0m\u001b[1m\u001b[34mINFO: Recompiling stale cache file /Users/gary/.julia/lib/v0.5/DiffEqDevTools.ji for module DiffEqDevTools.\n",
      "\u001b[0m\u001b[1m\u001b[34mINFO: Recompiling stale cache file /Users/gary/.julia/lib/v0.5/OrdinaryDiffEq.ji for module OrdinaryDiffEq.\n",
      "\u001b[0m\u001b[1m\u001b[34mINFO: Recompiling stale cache file /Users/gary/.julia/lib/v0.5/StokesDiffEq.ji for module StokesDiffEq.\n",
      "\u001b[0m\u001b[1m\u001b[34mINFO: Precompiling module DiffEqParamEstim.\n",
      "\u001b[0m\u001b[1m\u001b[34mINFO: Precompiling module DiffEqSensitivity.\n",
      "\u001b[0m\u001b[1m\u001b[34mINFO: Recompiling stale cache file /Users/gary/.julia/lib/v0.5/Sundials.ji for module Sundials.\n",
      "\u001b[0m\u001b[1m\u001b[34mINFO: Recompiling stale cache file /Users/gary/.julia/lib/v0.5/SymEngine.ji for module SymEngine.\n",
      "\u001b[0m\u001b[1m\u001b[34mINFO: Precompiling module DelayDiffEq.\n",
      "\u001b[0m\u001b[1m\u001b[34mINFO: Precompiling module DiffEqCallbacks.\n",
      "\u001b[0m\u001b[1m\u001b[34mINFO: Precompiling module DiffEqMonteCarlo.\n",
      "\u001b[0m\u001b[1m\u001b[34mINFO: Precompiling module DiffEqJump.\n",
      "\u001b[0m\u001b[1m\u001b[34mINFO: Precompiling module DiffEqFinancial.\n",
      "\u001b[0m"
     ]
    },
    {
     "data": {
      "text/plain": [
       "DiffEqBase.ODEProblem{Float64,Float64,false,#f,DiffEqBase.CallbackSet{Tuple{},Tuple{}}}(f,0.5,(0.0,1.0),DiffEqBase.CallbackSet{Tuple{},Tuple{}}((),()))"
      ]
     },
     "execution_count": 1,
     "metadata": {},
     "output_type": "execute_result"
    }
   ],
   "source": [
    "using DifferentialEquations\n",
    "α=1\n",
    "u0=1/2\n",
    "f(t,u) = α*u\n",
    "tspan = (0.0,1.0)\n",
    "prob = ODEProblem(f,u0,tspan)"
   ]
  },
  {
   "cell_type": "code",
   "execution_count": 2,
   "metadata": {
    "collapsed": true
   },
   "outputs": [],
   "source": [
    "sol = solve(prob);"
   ]
  },
  {
   "cell_type": "code",
   "execution_count": 4,
   "metadata": {},
   "outputs": [
    {
     "data": {
      "text/html": [
       "<script src=\"/Users/gary/.julia/v0.5/Plots/src/backends/../../deps/plotly-latest.min.js\"></script>    <div id=\"6cffb7ac-935f-423f-bd24-0899fcc94a15\" style=\"width:600px;height:400px;\"></div>\n",
       "    <script>\n",
       "    PLOT = document.getElementById('6cffb7ac-935f-423f-bd24-0899fcc94a15');\n",
       "    Plotly.plot(PLOT, [{\"yaxis\":\"y\",\"y\":[0.5,0.5103089172952996,0.5208303816982527,0.531568775384574,0.5425285718662096,0.5537143361444815,0.5651307387774371,0.5767825277253373,0.5886745423919324,0.6008117307040926,0.6131991491118083,0.6258419625881896,0.6387454446294669,0.6519149772549905,0.6653560510072309,0.6790742649517783,0.6930753266773433,0.7073650522957559,0.7219494189657336,0.7368345182430693,0.7520265073881971,0.7675316883524216,0.7833565079802629,0.7995075580094566,0.8159915750709533,0.8328154406889194,0.8499861812807361,0.8675109681570001,0.8853971175215237,0.903652090471334,0.922283492996674,0.9412990759810014,0.9607067352009894,0.980514511326527,1.0007306225801904,1.0213635880828762,1.042421966288818,1.0639144896281332,1.0858500913805675,1.1082379056754943,1.1310872674919148,1.1544077126584569,1.178208977853377,1.2025010006045596,1.2272939192895158,1.2525980731353852,1.278424002218935,1.3047824474665597,1.3316843506542821,1.359140854407753],\"showlegend\":true,\"name\":\"u1(t)\",\"type\":\"scatter\",\"xaxis\":\"x\",\"line\":{\"width\":3,\"dash\":\"solid\",\"color\":\"rgba(0, 154, 250, 1.000)\",\"shape\":\"linear\"},\"x\":[0.0,0.020408163265306145,0.04081632653061229,0.061224489795918324,0.08163265306122447,0.10204081632653061,0.12244897959183676,0.1428571428571429,0.16326530612244894,0.18367346938775508,0.20408163265306123,0.22448979591836737,0.24489795918367352,0.26530612244897955,0.2857142857142857,0.30612244897959184,0.326530612244898,0.34693877551020413,0.36734693877551017,0.3877551020408163,0.40816326530612246,0.4285714285714286,0.44897959183673475,0.4693877551020408,0.4897959183673469,0.5102040816326531,0.5306122448979592,0.5510204081632653,0.5714285714285714,0.5918367346938775,0.6122448979591837,0.6326530612244898,0.6530612244897959,0.673469387755102,0.6938775510204082,0.7142857142857143,0.7346938775510204,0.7551020408163265,0.7755102040816326,0.7959183673469388,0.8163265306122449,0.8367346938775511,0.8571428571428571,0.8775510204081632,0.8979591836734694,0.9183673469387755,0.9387755102040817,0.9591836734693877,0.9795918367346939,1.0],\"mode\":\"lines\"}], {\"yaxis\":{\"type\":\"-\",\"titlefont\":{\"size\":15,\"color\":\"rgba(0, 0, 0, 1.000)\",\"family\":\"sans-serif\"},\"title\":\"\",\"tickfont\":{\"size\":11,\"color\":\"rgba(0, 0, 0, 1.000)\",\"family\":\"sans-serif\"},\"ticks\":\"inside\",\"tickmode\":\"array\",\"showgrid\":true,\"tickvals\":[0.5,1.0],\"domain\":[0.07581474190726165,0.9901574803149606],\"ticktext\":[\"0.5\",\"1.0\"],\"tickangle\":0,\"zeroline\":false,\"linecolor\":\"rgba(0, 0, 0, 1.000)\",\"tickcolor\":\"rgba(0, 0, 0, 1.000)\",\"anchor\":\"x\"},\"annotations\":[],\"width\":600,\"plot_bgcolor\":\"rgba(255, 255, 255, 1.000)\",\"showlegend\":true,\"legend\":{\"bgcolor\":\"rgba(255, 255, 255, 1.000)\",\"y\":1.0,\"font\":{\"size\":11,\"color\":\"rgba(0, 0, 0, 1.000)\",\"family\":\"sans-serif\"},\"bordercolor\":\"rgba(0, 0, 0, 1.000)\",\"x\":1.0},\"xaxis\":{\"type\":\"-\",\"titlefont\":{\"size\":15,\"color\":\"rgba(0, 0, 0, 1.000)\",\"family\":\"sans-serif\"},\"title\":\"t\",\"tickfont\":{\"size\":11,\"color\":\"rgba(0, 0, 0, 1.000)\",\"family\":\"sans-serif\"},\"ticks\":\"inside\",\"tickmode\":\"array\",\"showgrid\":true,\"tickvals\":[0.0,0.2,0.4,0.6000000000000001,0.8,1.0],\"domain\":[0.05100612423447069,0.9934383202099737],\"ticktext\":[\"0.0\",\"0.2\",\"0.4\",\"0.6\",\"0.8\",\"1.0\"],\"tickangle\":0,\"zeroline\":false,\"linecolor\":\"rgba(0, 0, 0, 1.000)\",\"tickcolor\":\"rgba(0, 0, 0, 1.000)\",\"anchor\":\"y\"},\"paper_bgcolor\":\"rgba(255, 255, 255, 1.000)\",\"height\":400,\"margin\":{\"r\":0,\"l\":0,\"b\":0,\"t\":20}});\n",
       "    </script>\n"
      ]
     },
     "execution_count": 4,
     "metadata": {},
     "output_type": "execute_result"
    }
   ],
   "source": [
    "using Plots\n",
    "plotly()\n",
    "\n",
    "plot(sol)"
   ]
  },
  {
   "cell_type": "code",
   "execution_count": 5,
   "metadata": {},
   "outputs": [
    {
     "data": {
      "text/html": [
       "<script src=\"/Users/gary/.julia/v0.5/Plots/src/backends/../../deps/plotly-latest.min.js\"></script>    <div id=\"096ee841-21e0-4e5e-8b3e-8aeac1bb71f3\" style=\"width:600px;height:400px;\"></div>\n",
       "    <script>\n",
       "    PLOT = document.getElementById('096ee841-21e0-4e5e-8b3e-8aeac1bb71f3');\n",
       "    Plotly.plot(PLOT, [{\"yaxis\":\"y\",\"y\":[0.5,0.5129862922550015,0.5263098720830547,0.539979499714135,0.5540041629041305,0.5683930828441439,0.583155720223316,0.5983017814493157,0.6138412250320513,0.629784268138426,0.6461413932858817,0.6629233552441635,0.6801411881155413,0.6978062125929032,0.7159300434033325,0.7345245969430769,0.7536020991097796,0.7731750933379535,0.793256448843483,0.8138593690831555,0.8349974004351033,0.8566844411059762,0.8789347502709113,0.9017629574520057,0.9251840721414153,0.9492134936745794,0.9738670213599948,0.9991608648707789,1.0251116548741355,1.051736453964105,1.0790527678971449,1.1070785571012152,1.1358322484844179,1.1653327475495372,1.1955994508231527,1.2266522586080857,1.2585115880679083,1.291198386652053,1.3247341458706299,1.3591409154269023],\"showlegend\":true,\"name\":\"u1(t)\",\"type\":\"scatter\",\"xaxis\":\"x\",\"line\":{\"width\":3,\"dash\":\"solid\",\"color\":\"rgba(0, 154, 250, 1.000)\",\"shape\":\"linear\"},\"x\":[0.0,0.02564102564102566,0.05128205128205132,0.07692307692307687,0.10256410256410253,0.1282051282051282,0.15384615384615385,0.17948717948717952,0.20512820512820518,0.23076923076923073,0.2564102564102564,0.28205128205128205,0.3076923076923077,0.33333333333333337,0.3589743589743589,0.3846153846153846,0.41025641025641024,0.4358974358974359,0.46153846153846156,0.48717948717948717,0.5128205128205128,0.5384615384615384,0.5641025641025641,0.5897435897435898,0.6153846153846154,0.6410256410256411,0.6666666666666666,0.6923076923076923,0.717948717948718,0.7435897435897436,0.7692307692307693,0.7948717948717948,0.8205128205128205,0.8461538461538461,0.8717948717948718,0.8974358974358975,0.9230769230769231,0.9487179487179487,0.9743589743589743,1.0],\"mode\":\"lines\"}], {\"yaxis\":{\"type\":\"-\",\"titlefont\":{\"size\":15,\"color\":\"rgba(0, 0, 0, 1.000)\",\"family\":\"sans-serif\"},\"title\":\"\",\"tickfont\":{\"size\":11,\"color\":\"rgba(0, 0, 0, 1.000)\",\"family\":\"sans-serif\"},\"ticks\":\"inside\",\"tickmode\":\"array\",\"showgrid\":true,\"tickvals\":[0.5,1.0],\"domain\":[0.07581474190726165,0.9415463692038496],\"ticktext\":[\"0.5\",\"1.0\"],\"tickangle\":0,\"zeroline\":false,\"linecolor\":\"rgba(0, 0, 0, 1.000)\",\"tickcolor\":\"rgba(0, 0, 0, 1.000)\",\"anchor\":\"x\"},\"annotations\":[{\"text\":\"Solving using the Vern7 Method\",\"y\":1.0,\"xref\":\"paper\",\"font\":{\"size\":20,\"color\":\"rgba(0, 0, 0, 1.000)\",\"family\":\"sans-serif\"},\"xanchor\":\"center\",\"x\":0.5222222222222223,\"yref\":\"paper\",\"showarrow\":false,\"yanchor\":\"top\",\"rotation\":-0.0}],\"width\":600,\"plot_bgcolor\":\"rgba(255, 255, 255, 1.000)\",\"showlegend\":true,\"legend\":{\"bgcolor\":\"rgba(255, 255, 255, 1.000)\",\"y\":1.0,\"font\":{\"size\":11,\"color\":\"rgba(0, 0, 0, 1.000)\",\"family\":\"sans-serif\"},\"bordercolor\":\"rgba(0, 0, 0, 1.000)\",\"x\":1.0},\"xaxis\":{\"type\":\"-\",\"titlefont\":{\"size\":15,\"color\":\"rgba(0, 0, 0, 1.000)\",\"family\":\"sans-serif\"},\"title\":\"t\",\"tickfont\":{\"size\":11,\"color\":\"rgba(0, 0, 0, 1.000)\",\"family\":\"sans-serif\"},\"ticks\":\"inside\",\"tickmode\":\"array\",\"showgrid\":true,\"tickvals\":[0.0,0.2,0.4,0.6000000000000001,0.8,1.0],\"domain\":[0.05100612423447069,0.9934383202099737],\"ticktext\":[\"0.0\",\"0.2\",\"0.4\",\"0.6\",\"0.8\",\"1.0\"],\"tickangle\":0,\"zeroline\":false,\"linecolor\":\"rgba(0, 0, 0, 1.000)\",\"tickcolor\":\"rgba(0, 0, 0, 1.000)\",\"anchor\":\"y\"},\"paper_bgcolor\":\"rgba(255, 255, 255, 1.000)\",\"height\":400,\"margin\":{\"r\":0,\"l\":0,\"b\":0,\"t\":20}});\n",
       "    </script>\n"
      ]
     },
     "execution_count": 5,
     "metadata": {},
     "output_type": "execute_result"
    }
   ],
   "source": [
    "sol = solve(prob,Vern7())\n",
    "plot(sol,title=\"Solving using the Vern7 Method\")"
   ]
  },
  {
   "cell_type": "code",
   "execution_count": 161,
   "metadata": {},
   "outputs": [
    {
     "name": "stderr",
     "output_type": "stream",
     "text": [
      "WARNING: Method definition f(Any, Any) in module Main at In[157]:4 overwritten at In[161]:7.\n"
     ]
    },
    {
     "data": {
      "text/plain": [
       "DiffEqBase.ODEProblem{Array{Float64,2},Float64,false,#f}(f,[0.268644 0.44225; 0.0562251 0.715073; 0.45225 0.728059; 0.919529 0.301729],(0.0,1.0))"
      ]
     },
     "execution_count": 161,
     "metadata": {},
     "output_type": "execute_result"
    }
   ],
   "source": [
    "A = [1. 0 0 -5\n",
    "     4 -2 4 -3\n",
    "     -4 0 0 1\n",
    "     5 -2 2 3]\n",
    "u0 = rand(4,2)\n",
    "tspan = (0.0,1.0)\n",
    "f(t,u) = A*u\n",
    "prob = ODEProblem(f,u0,tspan)"
   ]
  },
  {
   "cell_type": "code",
   "execution_count": 162,
   "metadata": {},
   "outputs": [
    {
     "data": {
      "text/html": [
       "<script src=\"/Users/gary/.julia/v0.5/Plots/src/backends/../../deps/plotly-latest.min.js\"></script>    <div id=\"b62bb4d6-5c7e-4856-b763-a6a89bc03e23\" style=\"width:600px;height:400px;\"></div>\n",
       "    <script>\n",
       "    PLOT = document.getElementById('b62bb4d6-5c7e-4856-b763-a6a89bc03e23');\n",
       "    Plotly.plot(PLOT, [{\"yaxis\":\"y\",\"y\":[0.26864427687912906,0.21818799673226416,0.16410964092469205,0.10642713741394888,0.04516326229916557,-0.019654516542618114,-0.08799387476419562,-0.15981732366090534,-0.23508220941879482,-0.3137407131146165,-0.39573985071583195,-0.48102123844306144,-0.569521025101859,-0.6611704121709536,-0.7558948448594864,-0.8536139793489157,-0.9542416827930169,-1.0576860333178812,-1.163849320021915,-1.2726280429758394,-1.3839129022439072,-1.4975879577989548,-1.6135318681416624,-1.7316176334095983,-1.8517119010686873,-1.9736749659131994,-2.097360770065759,-2.222616902977337,-2.349284601427262,-2.47719874952321,-2.606187878701205,-2.7360741677256275,-2.866673440487015,-2.9977946603539216,-3.1292408362215673,-3.2608091449859624,-3.392290416597526,-3.5234691340610773,-3.654123433435844,-3.784025103835458,-3.9129395874279576,-4.040625979435784,-4.166837028135787,-4.291319134859217,-4.413812353991733,-4.5340503929734,-4.651760612298683,-4.7666659450053,-4.878483816536016,-4.986924954483435,-5.091695350006418,-5.1924962578822305,-5.2890241965065385,-5.38097094789341,-5.468023557675315,-5.549864335103125,-5.626170853046117,-5.696615947991967,-5.760867720046753,-5.818589532934954,-5.869440013999457,-5.913073054201543,-5.949138295339624,-5.9772931726532725,-5.997185405504082,-6.008457070114745,-6.010750614819907,-6.003708860066168,-5.986974998412084,-5.960192594528164,-5.923005585196876,-5.875058279312637,-5.815995357881821,-5.74546187402276,-5.663103252965738,-5.568565292052992,-5.4614941607387175,-5.341536400589061,-5.20833892528213,-5.061549020607981,-4.900814344468623,-4.725793303755845,-4.536176960470579,-4.331641701765079,-4.111870013739111,-3.8765526158836776,-3.6253884610810236,-3.3580847356046277,-3.0743568591192014,-2.773928484680688],\"showlegend\":true,\"name\":\"u1(t)\",\"type\":\"scatter\",\"xaxis\":\"x\",\"line\":{\"width\":3,\"dash\":\"solid\",\"color\":\"rgba(0, 154, 250, 1.000)\",\"shape\":\"linear\"},\"x\":[0.0,0.011235955056179803,0.022471910112359605,0.0337078651685393,0.0449438202247191,0.0561797752808989,0.0674157303370787,0.0786516853932584,0.0898876404494382,0.101123595505618,0.1123595505617978,0.1235955056179775,0.1348314606741573,0.1460674157303371,0.1573033707865169,0.1685393258426966,0.1797752808988764,0.1910112359550562,0.202247191011236,0.2134831460674157,0.2247191011235955,0.2359550561797753,0.2471910112359551,0.2584269662921348,0.2696629213483146,0.2808988764044944,0.2921348314606742,0.3033707865168539,0.3146067415730337,0.3258426966292135,0.3370786516853933,0.348314606741573,0.3595505617977528,0.3707865168539326,0.3820224719101124,0.3932584269662921,0.4044943820224719,0.4157303370786517,0.4269662921348315,0.4382022471910112,0.449438202247191,0.4606741573033708,0.4719101123595506,0.4831460674157303,0.4943820224719101,0.5056179775280899,0.5168539325842697,0.5280898876404494,0.5393258426966292,0.550561797752809,0.5617977528089888,0.5730337078651685,0.5842696629213483,0.5955056179775281,0.6067415730337079,0.6179775280898876,0.6292134831460674,0.6404494382022472,0.651685393258427,0.6629213483146067,0.6741573033707865,0.6853932584269663,0.6966292134831461,0.7078651685393258,0.7191011235955056,0.7303370786516854,0.7415730337078652,0.7528089887640449,0.7640449438202247,0.7752808988764045,0.7865168539325843,0.797752808988764,0.8089887640449438,0.8202247191011236,0.8314606741573034,0.8426966292134831,0.8539325842696629,0.8651685393258427,0.8764044943820225,0.8876404494382022,0.898876404494382,0.9101123595505618,0.9213483146067416,0.9325842696629213,0.9438202247191011,0.9550561797752809,0.9662921348314607,0.9775280898876404,0.9887640449438202,1.0],\"mode\":\"lines\"},{\"yaxis\":\"y\",\"y\":[0.05622514226719133,0.054320246831760906,0.04838531383746833,0.03851877109810626,0.024827134881109526,0.007424979852662411,-0.013565195951965335,-0.038013008266968074,-0.06578018662550288,-0.09672057435968741,-0.13068012860060163,-0.1674971098274796,-0.20700231355491874,-0.24901879588001674,-0.2933624521758019,-0.33984204104675153,-0.38825918432879025,-0.4384083670892913,-0.49007693762707455,-0.5430451074724082,-0.5970859731717364,-0.6519673300861388,-0.7074497811194568,-0.7632872422697017,-0.8192282719013708,-0.875016070745444,-0.9303884818993848,-0.9850779908271419,-1.0388117253591478,-1.0913114556923194,-1.1422935943900558,-1.1914691963822426,-1.2385439791096076,-1.2832236025988537,-1.325208314138553,-1.3641920929404323,-1.3998671188476928,-1.4319237723350058,-1.4600506345085158,-1.4839344871058382,-1.5032603124960624,-1.5177112936797488,-1.5269688142889293,-1.5307124585871095,-1.5286200114692663,-1.5203674584618483,-1.505628985722776,-1.4840880596121193,-1.4554283430699109,-1.4193259166755163,-1.375461266271191,-1.3235192832758078,-1.2631892646848564,-1.194164913070443,-1.1161443365812924,-1.0288300489427442,-0.9319289694567546,-0.8251524230018991,-0.7082161400333682,-0.5808402565829726,-0.4427493142591339,-0.29367226024689463,-0.13334367365508965,0.03846641646698079,0.221998618667766,0.4174944414027868,0.6251811037489204,0.8452715354044023,1.0779643766888314,1.323443978543156,1.5818804025296829,1.8534294208320767,2.1382325162553704,2.436416882225938,2.7480954227915175,3.0733667526212063,3.412315197005464,3.7650107918560973,4.13150928370627,4.511852129710513,4.906066497644713,5.314153623312218,5.736063629448788,6.171748141522778,6.621137341010159,7.084137587202493,7.560631417206917,8.050477545946167,8.553510866158572,9.06954244839806],\"showlegend\":true,\"name\":\"u2(t)\",\"type\":\"scatter\",\"xaxis\":\"x\",\"line\":{\"width\":3,\"dash\":\"solid\",\"color\":\"rgba(227, 111, 71, 1.000)\",\"shape\":\"linear\"},\"x\":[0.0,0.011235955056179803,0.022471910112359605,0.0337078651685393,0.0449438202247191,0.0561797752808989,0.0674157303370787,0.0786516853932584,0.0898876404494382,0.101123595505618,0.1123595505617978,0.1235955056179775,0.1348314606741573,0.1460674157303371,0.1573033707865169,0.1685393258426966,0.1797752808988764,0.1910112359550562,0.202247191011236,0.2134831460674157,0.2247191011235955,0.2359550561797753,0.2471910112359551,0.2584269662921348,0.2696629213483146,0.2808988764044944,0.2921348314606742,0.3033707865168539,0.3146067415730337,0.3258426966292135,0.3370786516853933,0.348314606741573,0.3595505617977528,0.3707865168539326,0.3820224719101124,0.3932584269662921,0.4044943820224719,0.4157303370786517,0.4269662921348315,0.4382022471910112,0.449438202247191,0.4606741573033708,0.4719101123595506,0.4831460674157303,0.4943820224719101,0.5056179775280899,0.5168539325842697,0.5280898876404494,0.5393258426966292,0.550561797752809,0.5617977528089888,0.5730337078651685,0.5842696629213483,0.5955056179775281,0.6067415730337079,0.6179775280898876,0.6292134831460674,0.6404494382022472,0.651685393258427,0.6629213483146067,0.6741573033707865,0.6853932584269663,0.6966292134831461,0.7078651685393258,0.7191011235955056,0.7303370786516854,0.7415730337078652,0.7528089887640449,0.7640449438202247,0.7752808988764045,0.7865168539325843,0.797752808988764,0.8089887640449438,0.8202247191011236,0.8314606741573034,0.8426966292134831,0.8539325842696629,0.8651685393258427,0.8764044943820225,0.8876404494382022,0.898876404494382,0.9101123595505618,0.9213483146067416,0.9325842696629213,0.9438202247191011,0.9550561797752809,0.9662921348314607,0.9775280898876404,0.9887640449438202,1.0],\"mode\":\"lines\"},{\"yaxis\":\"y\",\"y\":[0.45225021588748016,0.45193550312857683,0.45457691256086824,0.46032512147571236,0.4693288096391521,0.48173501128322016,0.4976886194518056,0.5173316233977213,0.5408031067679772,0.5682392476037788,0.5997733183405288,0.6355349847134657,0.675649977544015,0.7202415117749712,0.7694279042719682,0.823322477452492,0.8820335592858792,0.945664483293317,1.0143135885478427,1.088074219674343,1.1670346826552125,1.251274756641847,1.3408702023540957,1.4358916307477072,1.536401731662055,1.6424552738201288,1.7540991048285397,1.871372151177519,1.994305418240922,2.122921990276221,2.2572370304245073,2.397257780710498,2.542983537910964,2.6943995183063496,2.8514839950349757,3.0142091925215952,3.182535836766263,3.3564131553443324,3.5357788774064574,3.720559233678596,3.910668956462005,4.106011279633244,4.30647793864417,4.51194917052194,4.722293713869022,4.937368808863174,5.157020197257456,5.38107470107784,5.609347327590886,5.841646601492023,6.077766227882864,6.317485092055845,6.560567259494255,6.806761975872209,7.055803667054661,7.307411939097404,7.561291578247072,7.817132550941131,8.074610003807884,8.333384263666469,8.593100837526876,8.853390412589912,9.113868503118406,9.374127227393725,9.633749978516937,9.892308890029248,10.149360416253153,10.404445332292408,10.657088734032062,10.906800038138433,11.153072982059108,11.39538562402296,11.63320034304014,11.865963838902065,12.09310713218144,12.314045564232233,12.528178797189703,12.734890813970376,12.933549918272053,13.123508734573818,13.304104208136026,13.474664171634737,13.634520610572263,13.782979250880894,13.91933307631102,14.042863695889238,14.152841343918364,14.24852487997743,14.329161788921674,14.393988180882562],\"showlegend\":true,\"name\":\"u3(t)\",\"type\":\"scatter\",\"xaxis\":\"x\",\"line\":{\"width\":3,\"dash\":\"solid\",\"color\":\"rgba(62, 164, 78, 1.000)\",\"shape\":\"linear\"},\"x\":[0.0,0.011235955056179803,0.022471910112359605,0.0337078651685393,0.0449438202247191,0.0561797752808989,0.0674157303370787,0.0786516853932584,0.0898876404494382,0.101123595505618,0.1123595505617978,0.1235955056179775,0.1348314606741573,0.1460674157303371,0.1573033707865169,0.1685393258426966,0.1797752808988764,0.1910112359550562,0.202247191011236,0.2134831460674157,0.2247191011235955,0.2359550561797753,0.2471910112359551,0.2584269662921348,0.2696629213483146,0.2808988764044944,0.2921348314606742,0.3033707865168539,0.3146067415730337,0.3258426966292135,0.3370786516853933,0.348314606741573,0.3595505617977528,0.3707865168539326,0.3820224719101124,0.3932584269662921,0.4044943820224719,0.4157303370786517,0.4269662921348315,0.4382022471910112,0.449438202247191,0.4606741573033708,0.4719101123595506,0.4831460674157303,0.4943820224719101,0.5056179775280899,0.5168539325842697,0.5280898876404494,0.5393258426966292,0.550561797752809,0.5617977528089888,0.5730337078651685,0.5842696629213483,0.5955056179775281,0.6067415730337079,0.6179775280898876,0.6292134831460674,0.6404494382022472,0.651685393258427,0.6629213483146067,0.6741573033707865,0.6853932584269663,0.6966292134831461,0.7078651685393258,0.7191011235955056,0.7303370786516854,0.7415730337078652,0.7528089887640449,0.7640449438202247,0.7752808988764045,0.7865168539325843,0.797752808988764,0.8089887640449438,0.8202247191011236,0.8314606741573034,0.8426966292134831,0.8539325842696629,0.8651685393258427,0.8764044943820225,0.8876404494382022,0.898876404494382,0.9101123595505618,0.9213483146067416,0.9325842696629213,0.9438202247191011,0.9550561797752809,0.9662921348314607,0.9775280898876404,0.9887640449438202,1.0],\"mode\":\"lines\"},{\"yaxis\":\"y\",\"y\":[0.9195288722387405,0.9740420247855621,1.027553729333088,1.079983468486233,1.131250222388534,1.181272432640754,1.2299680768334962,1.2772547583803702,1.3230497067225258,1.3672697773286502,1.4098314516949708,1.4506509394402736,1.4896442429281467,1.526726983785517,1.5618147540217362,1.5948231299941118,1.6256676724079084,1.6542639263163461,1.6805274211206012,1.7043736705698047,1.7257181816237703,1.7444771673974617,1.760566718281015,1.7739030636255149,1.7844031271435599,1.7919845269092618,1.7965655753582463,1.7980652792876524,1.7964033398561323,1.7915001525838525,1.7832768073524925,1.7716550884052455,1.7565574818268908,1.7379091190498148,1.7156357517700744,1.6896634919690732,1.6599204857924936,1.6263369135502974,1.5888449897167263,1.5473789629302996,1.5018751159938173,1.4522717658743585,1.398509263703281,1.3405299947762228,1.2782783785530991,1.2117008686581063,1.140745952879721,1.0653682112730414,0.9855249990682563,0.9011735782772738,0.8122754984930408,0.7187965970043382,0.6207069987957732,0.5179811165477916,0.41059765063666476,0.2985395891344991,0.18179420780922817,0.06035307012462243,-0.06578797275971837,-0.1966287819883623,-0.33216493101005007,-0.4723877055776855,-0.6172836721450333,-0.7668241249917844,-0.9209812877929981,-1.0797251132954206,-1.2430179701532458,-1.4108146429281145,-1.5830623320891182,-1.7597006540127946,-1.94066164098312,-2.1258697411915266,-2.3152418187369,-2.508687153625556,-2.7061074417712696,-2.9073967949952566,-3.1124417410261893,-3.321121223500179,-3.5333066019607795,-3.748861651859004,-3.967642564553307,-4.189494670554296,-4.414245328965507,-4.641718776794898,-4.871729724426022,-5.104082687822938,-5.338571988530216,-5.574981753672943,-5.813085915956722,-6.052648213667672],\"showlegend\":true,\"name\":\"u4(t)\",\"type\":\"scatter\",\"xaxis\":\"x\",\"line\":{\"width\":3,\"dash\":\"solid\",\"color\":\"rgba(195, 113, 210, 1.000)\",\"shape\":\"linear\"},\"x\":[0.0,0.011235955056179803,0.022471910112359605,0.0337078651685393,0.0449438202247191,0.0561797752808989,0.0674157303370787,0.0786516853932584,0.0898876404494382,0.101123595505618,0.1123595505617978,0.1235955056179775,0.1348314606741573,0.1460674157303371,0.1573033707865169,0.1685393258426966,0.1797752808988764,0.1910112359550562,0.202247191011236,0.2134831460674157,0.2247191011235955,0.2359550561797753,0.2471910112359551,0.2584269662921348,0.2696629213483146,0.2808988764044944,0.2921348314606742,0.3033707865168539,0.3146067415730337,0.3258426966292135,0.3370786516853933,0.348314606741573,0.3595505617977528,0.3707865168539326,0.3820224719101124,0.3932584269662921,0.4044943820224719,0.4157303370786517,0.4269662921348315,0.4382022471910112,0.449438202247191,0.4606741573033708,0.4719101123595506,0.4831460674157303,0.4943820224719101,0.5056179775280899,0.5168539325842697,0.5280898876404494,0.5393258426966292,0.550561797752809,0.5617977528089888,0.5730337078651685,0.5842696629213483,0.5955056179775281,0.6067415730337079,0.6179775280898876,0.6292134831460674,0.6404494382022472,0.651685393258427,0.6629213483146067,0.6741573033707865,0.6853932584269663,0.6966292134831461,0.7078651685393258,0.7191011235955056,0.7303370786516854,0.7415730337078652,0.7528089887640449,0.7640449438202247,0.7752808988764045,0.7865168539325843,0.797752808988764,0.8089887640449438,0.8202247191011236,0.8314606741573034,0.8426966292134831,0.8539325842696629,0.8651685393258427,0.8764044943820225,0.8876404494382022,0.898876404494382,0.9101123595505618,0.9213483146067416,0.9325842696629213,0.9438202247191011,0.9550561797752809,0.9662921348314607,0.9775280898876404,0.9887640449438202,1.0],\"mode\":\"lines\"},{\"yaxis\":\"y\",\"y\":[0.44225002248055323,0.4292092739122928,0.414053010286762,0.3967862655382859,0.37741666892039333,0.3559543809776647,0.3324121541626008,0.3068054545849625,0.2791524623113418,0.24947407136516353,0.21779388972668395,0.18413832513946543,0.1485366022468922,0.11102056971363491,0.07162500136950281,0.030387608328345195,-0.012650961011947293,-0.05744712096944399,-0.1039543485781721,-0.1521231835881181,-0.20190122479683614,-0.25323285431867015,-0.3060596668268333,-0.36032037787824117,-0.41595058962508213,-0.4728827908148126,-0.5310463567901604,-0.5903675494891227,-0.6507695174449694,-0.7121722957862391,-0.7744928062367396,-0.8376448571155521,-0.9015391429570375,-0.966083171270888,-1.031181482725505,-1.096735679702018,-1.162644332490514,-1.228802979290034,-1.2951041262085754,-1.3614372472630936,-1.4276887843794968,-1.4937421473926513,-1.5594777140463787,-1.6247728299934558,-1.6895018087956175,-1.753535931923553,-1.8167434487569056,-1.8789905613283646,-1.9401407909007113,-2.000054367163013,-2.0585892615096237,-2.115601187067371,-2.170943598695558,-2.224467692985957,-2.276022408262816,-2.3254544245828557,-2.372608163735272,-2.4173257892417306,-2.459447206356373,-2.498810062065811,-2.5352497450891347,-2.568599385877903,-2.5986900780440494,-2.6253563204484434,-2.648428001179881,-2.667732304749249,-2.683096457149309,-2.6943477258546995,-2.7013134198219344,-2.703820889489402,-2.70169752677737,-2.6947707650879775,-2.6828680793052424,-2.665816985795058,-2.6434450424051925,-2.615579848465291,-2.5820490447868725,-2.5426803136633342,-2.497301378869948,-2.445740005663861,-2.387824000784097,-2.3233857805277776,-2.2522720358103796,-2.1743229284942838,-2.0893812329182757,-1.9972932751335712,-1.8979089329038203,-1.7910816357051018,-1.6766683647259222,-1.55452965286722],\"showlegend\":true,\"name\":\"u5(t)\",\"type\":\"scatter\",\"xaxis\":\"x\",\"line\":{\"width\":3,\"dash\":\"solid\",\"color\":\"rgba(172, 142, 24, 1.000)\",\"shape\":\"linear\"},\"x\":[0.0,0.011235955056179803,0.022471910112359605,0.0337078651685393,0.0449438202247191,0.0561797752808989,0.0674157303370787,0.0786516853932584,0.0898876404494382,0.101123595505618,0.1123595505617978,0.1235955056179775,0.1348314606741573,0.1460674157303371,0.1573033707865169,0.1685393258426966,0.1797752808988764,0.1910112359550562,0.202247191011236,0.2134831460674157,0.2247191011235955,0.2359550561797753,0.2471910112359551,0.2584269662921348,0.2696629213483146,0.2808988764044944,0.2921348314606742,0.3033707865168539,0.3146067415730337,0.3258426966292135,0.3370786516853933,0.348314606741573,0.3595505617977528,0.3707865168539326,0.3820224719101124,0.3932584269662921,0.4044943820224719,0.4157303370786517,0.4269662921348315,0.4382022471910112,0.449438202247191,0.4606741573033708,0.4719101123595506,0.4831460674157303,0.4943820224719101,0.5056179775280899,0.5168539325842697,0.5280898876404494,0.5393258426966292,0.550561797752809,0.5617977528089888,0.5730337078651685,0.5842696629213483,0.5955056179775281,0.6067415730337079,0.6179775280898876,0.6292134831460674,0.6404494382022472,0.651685393258427,0.6629213483146067,0.6741573033707865,0.6853932584269663,0.6966292134831461,0.7078651685393258,0.7191011235955056,0.7303370786516854,0.7415730337078652,0.7528089887640449,0.7640449438202247,0.7752808988764045,0.7865168539325843,0.797752808988764,0.8089887640449438,0.8202247191011236,0.8314606741573034,0.8426966292134831,0.8539325842696629,0.8651685393258427,0.8764044943820225,0.8876404494382022,0.898876404494382,0.9101123595505618,0.9213483146067416,0.9325842696629213,0.9438202247191011,0.9550561797752809,0.9662921348314607,0.9775280898876404,0.9887640449438202,1.0],\"mode\":\"lines\"},{\"yaxis\":\"y\",\"y\":[0.7150727967707702,0.7399055976563991,0.7617099768351835,0.7805239354234114,0.7963903414760516,0.809356928231181,0.8194761974948934,0.8268053652415434,0.8314063615164646,0.8333458304359701,0.8326951301873516,0.8295301954351686,0.8239313920065039,0.8159837441336552,0.8057765101129349,0.7934031646724518,0.7789613989721107,0.7625531206036129,0.7442844535904565,0.7242657383879357,0.7026115182877152,0.6794394145714392,0.6548713452227478,0.6290332256957781,0.6020541388988295,0.5740663351943653,0.5452052323990121,0.5156094157835598,0.4854206380729605,0.4547838194463305,0.42384704753694974,0.3927615774322602,0.3616818204061724,0.3307624025428274,0.300161216297009,0.2700399073816799,0.24056137122744475,0.21188975298255197,0.18419044751289243,0.1576300994019998,0.1323766029510508,0.10859910217886459,0.0864679908219037,0.06615491233427334,0.04783275988772123,0.03167567637163815,0.017859054393058293,0.006553862402343126,-0.0020685924731065064,-0.007832694516246491,-0.010564700890099116,-0.010092741799064203,-0.0062468204889183435,0.0011411867531841632,0.012237530598712675,0.027206588677758842,0.046210865579037336,0.06941099284988558,0.0969657289962638,0.12903195948275475,0.16576469673256536,0.20731708012752378,0.25383977831800814,0.3054665269884693,0.36233672795261934,0.4245905811765285,0.4923616567996819,0.5657768951349791,0.6449566066687374,0.7300144720606876,0.8210575421439714,0.9181862379251504,1.0214943505842011,1.1310690414745115,1.246990842122886,1.3693336542295438,1.4981647496681212,1.6335447704856665,1.7755277289026417,1.9241610073129272,2.0794853582838204,2.24152960758992,2.41029912802447,2.5857996884322936,2.7680270335902897,2.956965803641765,3.1525895340964363,3.354860655830428,3.5637304950862836,3.7791392734729534],\"showlegend\":true,\"name\":\"u6(t)\",\"type\":\"scatter\",\"xaxis\":\"x\",\"line\":{\"width\":3,\"dash\":\"solid\",\"color\":\"rgba(0, 170, 174, 1.000)\",\"shape\":\"linear\"},\"x\":[0.0,0.011235955056179803,0.022471910112359605,0.0337078651685393,0.0449438202247191,0.0561797752808989,0.0674157303370787,0.0786516853932584,0.0898876404494382,0.101123595505618,0.1123595505617978,0.1235955056179775,0.1348314606741573,0.1460674157303371,0.1573033707865169,0.1685393258426966,0.1797752808988764,0.1910112359550562,0.202247191011236,0.2134831460674157,0.2247191011235955,0.2359550561797753,0.2471910112359551,0.2584269662921348,0.2696629213483146,0.2808988764044944,0.2921348314606742,0.3033707865168539,0.3146067415730337,0.3258426966292135,0.3370786516853933,0.348314606741573,0.3595505617977528,0.3707865168539326,0.3820224719101124,0.3932584269662921,0.4044943820224719,0.4157303370786517,0.4269662921348315,0.4382022471910112,0.449438202247191,0.4606741573033708,0.4719101123595506,0.4831460674157303,0.4943820224719101,0.5056179775280899,0.5168539325842697,0.5280898876404494,0.5393258426966292,0.550561797752809,0.5617977528089888,0.5730337078651685,0.5842696629213483,0.5955056179775281,0.6067415730337079,0.6179775280898876,0.6292134831460674,0.6404494382022472,0.651685393258427,0.6629213483146067,0.6741573033707865,0.6853932584269663,0.6966292134831461,0.7078651685393258,0.7191011235955056,0.7303370786516854,0.7415730337078652,0.7528089887640449,0.7640449438202247,0.7752808988764045,0.7865168539325843,0.797752808988764,0.8089887640449438,0.8202247191011236,0.8314606741573034,0.8426966292134831,0.8539325842696629,0.8651685393258427,0.8764044943820225,0.8876404494382022,0.898876404494382,0.9101123595505618,0.9213483146067416,0.9325842696629213,0.9438202247191011,0.9550561797752809,0.9662921348314607,0.9775280898876404,0.9887640449438202,1.0],\"mode\":\"lines\"},{\"yaxis\":\"y\",\"y\":[0.7280586396369482,0.7120550654538906,0.6970765737087516,0.6832123729507104,0.6705507921150234,0.6591794731868456,0.6491851162686771,0.640653071764789,0.6336673394054398,0.6283105682468765,0.6246640566713342,0.622807391618243,0.6228182938129732,0.624773356107734,0.6287468096387137,0.6348104740047836,0.6430337572674992,0.6534836559510991,0.6662247550425051,0.6813192279913228,0.6988268147162033,0.7188030963631699,0.7413017681680363,0.7663740581696225,0.794067342432528,0.8244251450471285,0.8574871381295786,0.8932891418218102,0.9318631242915345,0.9732372017322402,1.0174356383631924,1.0644788464294366,1.114383374619175,1.1671589801397737,1.2228120972971985,1.2813462209784585,1.342759277977047,1.4070436269929396,1.4741860586325957,1.544167795408959,1.6169644917414545,1.6925462339559925,1.7708775402849648,1.851917360867248,1.935619077748202,2.0219305048796694,2.110793888119976,2.2021424386647586,2.295903716806172,2.392002068372942,2.4903546898816113,2.590871628435423,2.693455781724334,2.7980028980249974,2.9044015762007787,3.0125332657017454,3.122272266564674,3.233485729413042,3.346033655457035,3.4597688964935425,3.574537154906163,3.6901769836651965,3.8065196178842253,3.923385073212813,4.0405891483883,4.157942133212055,4.275246688551868,4.392297846341938,4.508883009582887,4.624781952341747,4.739766819751966,4.8536021280134065,4.966044764392352,5.076843987221496,5.185741425899947,5.292471080893231,5.396759323733292,5.498324897018486,5.596878914413582,5.692124860649768,5.783758591524649,5.8714712263484605,5.954954963062675,6.033889653166074,6.1079487682166125,6.176800002837138,6.240105274715397,6.297520724604035,6.3486967163206005,6.393277836747538],\"showlegend\":true,\"name\":\"u7(t)\",\"type\":\"scatter\",\"xaxis\":\"x\",\"line\":{\"width\":3,\"dash\":\"solid\",\"color\":\"rgba(237, 94, 147, 1.000)\",\"shape\":\"linear\"},\"x\":[0.0,0.011235955056179803,0.022471910112359605,0.0337078651685393,0.0449438202247191,0.0561797752808989,0.0674157303370787,0.0786516853932584,0.0898876404494382,0.101123595505618,0.1123595505617978,0.1235955056179775,0.1348314606741573,0.1460674157303371,0.1573033707865169,0.1685393258426966,0.1797752808988764,0.1910112359550562,0.202247191011236,0.2134831460674157,0.2247191011235955,0.2359550561797753,0.2471910112359551,0.2584269662921348,0.2696629213483146,0.2808988764044944,0.2921348314606742,0.3033707865168539,0.3146067415730337,0.3258426966292135,0.3370786516853933,0.348314606741573,0.3595505617977528,0.3707865168539326,0.3820224719101124,0.3932584269662921,0.4044943820224719,0.4157303370786517,0.4269662921348315,0.4382022471910112,0.449438202247191,0.4606741573033708,0.4719101123595506,0.4831460674157303,0.4943820224719101,0.5056179775280899,0.5168539325842697,0.5280898876404494,0.5393258426966292,0.550561797752809,0.5617977528089888,0.5730337078651685,0.5842696629213483,0.5955056179775281,0.6067415730337079,0.6179775280898876,0.6292134831460674,0.6404494382022472,0.651685393258427,0.6629213483146067,0.6741573033707865,0.6853932584269663,0.6966292134831461,0.7078651685393258,0.7191011235955056,0.7303370786516854,0.7415730337078652,0.7528089887640449,0.7640449438202247,0.7752808988764045,0.7865168539325843,0.797752808988764,0.8089887640449438,0.8202247191011236,0.8314606741573034,0.8426966292134831,0.8539325842696629,0.8651685393258427,0.8764044943820225,0.8876404494382022,0.898876404494382,0.9101123595505618,0.9213483146067416,0.9325842696629213,0.9438202247191011,0.9550561797752809,0.9662921348314607,0.9775280898876404,0.9887640449438202,1.0],\"mode\":\"lines\"},{\"yaxis\":\"y\",\"y\":[0.30172872694270403,0.3368064173100076,0.3713940700167492,0.4054473781379694,0.43892199481037203,0.47177350780720906,0.503957475569182,0.5354294812826388,0.5661451330074174,0.5960600636768437,0.6251299310977334,0.6533104672551269,0.6805574999977566,0.7068268640244691,0.7320745760008089,0.7562568414612212,0.7793300548090517,0.8012507993165466,0.8219758471248524,0.8414621592440155,0.8596668893275411,0.8765476813849705,0.8920623021681273,0.9061687651693257,0.9188255705427235,0.9299917051043215,0.9396266423319632,0.9476903423653357,0.9541432520059687,0.9589463047172355,0.9620609206243518,0.963449006514377,0.9630729588559349,0.9608964418496364,0.9568835568605225,0.9509987610288648,0.9432075487761971,0.9334764518053148,0.9217730391002759,0.9080659169263992,0.8923247288302667,0.8745201556397217,0.8546239154638697,0.8326087636930782,0.808448492998976,0.7821179333344546,0.7535929519336676,0.7228521133456104,0.6898753153543684,0.6546426359850666,0.6171361348763634,0.5773398533275113,0.5352398142983541,0.49082402240933193,0.4440824639414769,0.39500710683641455,0.34359190069636336,0.28983277678413694,0.23372764802314083,0.17527640899737584,0.1144809359514335,0.05134508679050054,-0.014125115651831147,-0.08191699974842871,-0.15201810703196042,-0.22441482276177704,-0.2990901194300147,-0.37602355676159116,-0.4551912817142137,-0.5365660284783683,-0.6201171184773265,-0.7058104603671442,-0.7936085500366641,-0.883470470607507,-0.9753518924340829,-1.0692050731035825,-1.1649788574359845,-1.2626186774840487,-1.3620665525333178,-1.4632610891021214,-1.5661374809415718,-1.6706259925041897,-1.7766486803877428,-1.884126276930833,-1.9929752194979893,-2.103107341092316,-2.2144298703554877,-2.326845431567759,-2.4402520446479583,-2.5545431251534914],\"showlegend\":true,\"name\":\"u8(t)\",\"type\":\"scatter\",\"xaxis\":\"x\",\"line\":{\"width\":3,\"dash\":\"solid\",\"color\":\"rgba(198, 130, 37, 1.000)\",\"shape\":\"linear\"},\"x\":[0.0,0.011235955056179803,0.022471910112359605,0.0337078651685393,0.0449438202247191,0.0561797752808989,0.0674157303370787,0.0786516853932584,0.0898876404494382,0.101123595505618,0.1123595505617978,0.1235955056179775,0.1348314606741573,0.1460674157303371,0.1573033707865169,0.1685393258426966,0.1797752808988764,0.1910112359550562,0.202247191011236,0.2134831460674157,0.2247191011235955,0.2359550561797753,0.2471910112359551,0.2584269662921348,0.2696629213483146,0.2808988764044944,0.2921348314606742,0.3033707865168539,0.3146067415730337,0.3258426966292135,0.3370786516853933,0.348314606741573,0.3595505617977528,0.3707865168539326,0.3820224719101124,0.3932584269662921,0.4044943820224719,0.4157303370786517,0.4269662921348315,0.4382022471910112,0.449438202247191,0.4606741573033708,0.4719101123595506,0.4831460674157303,0.4943820224719101,0.5056179775280899,0.5168539325842697,0.5280898876404494,0.5393258426966292,0.550561797752809,0.5617977528089888,0.5730337078651685,0.5842696629213483,0.5955056179775281,0.6067415730337079,0.6179775280898876,0.6292134831460674,0.6404494382022472,0.651685393258427,0.6629213483146067,0.6741573033707865,0.6853932584269663,0.6966292134831461,0.7078651685393258,0.7191011235955056,0.7303370786516854,0.7415730337078652,0.7528089887640449,0.7640449438202247,0.7752808988764045,0.7865168539325843,0.797752808988764,0.8089887640449438,0.8202247191011236,0.8314606741573034,0.8426966292134831,0.8539325842696629,0.8651685393258427,0.8764044943820225,0.8876404494382022,0.898876404494382,0.9101123595505618,0.9213483146067416,0.9325842696629213,0.9438202247191011,0.9550561797752809,0.9662921348314607,0.9775280898876404,0.9887640449438202,1.0],\"mode\":\"lines\"}], {\"yaxis\":{\"type\":\"-\",\"titlefont\":{\"size\":15,\"color\":\"rgba(0, 0, 0, 1.000)\",\"family\":\"sans-serif\"},\"title\":\"\",\"tickfont\":{\"size\":11,\"color\":\"rgba(0, 0, 0, 1.000)\",\"family\":\"sans-serif\"},\"ticks\":\"inside\",\"tickmode\":\"array\",\"showgrid\":true,\"tickvals\":[-5.0,0.0,5.0,10.0],\"domain\":[0.07581474190726165,0.9901574803149606],\"ticktext\":[\"-5\",\"0\",\"5\",\"10\"],\"tickangle\":0,\"zeroline\":false,\"linecolor\":\"rgba(0, 0, 0, 1.000)\",\"tickcolor\":\"rgba(0, 0, 0, 1.000)\",\"anchor\":\"x\"},\"annotations\":[],\"width\":600,\"plot_bgcolor\":\"rgba(255, 255, 255, 1.000)\",\"showlegend\":true,\"legend\":{\"bgcolor\":\"rgba(255, 255, 255, 1.000)\",\"y\":1.0,\"font\":{\"size\":11,\"color\":\"rgba(0, 0, 0, 1.000)\",\"family\":\"sans-serif\"},\"bordercolor\":\"rgba(0, 0, 0, 1.000)\",\"x\":1.0},\"xaxis\":{\"type\":\"-\",\"titlefont\":{\"size\":15,\"color\":\"rgba(0, 0, 0, 1.000)\",\"family\":\"sans-serif\"},\"title\":\"t\",\"tickfont\":{\"size\":11,\"color\":\"rgba(0, 0, 0, 1.000)\",\"family\":\"sans-serif\"},\"ticks\":\"inside\",\"tickmode\":\"array\",\"showgrid\":true,\"tickvals\":[0.0,0.2,0.4,0.6000000000000001,0.8,1.0],\"domain\":[0.03619130941965587,0.9934383202099738],\"ticktext\":[\"0.0\",\"0.2\",\"0.4\",\"0.6\",\"0.8\",\"1.0\"],\"tickangle\":0,\"zeroline\":false,\"linecolor\":\"rgba(0, 0, 0, 1.000)\",\"tickcolor\":\"rgba(0, 0, 0, 1.000)\",\"anchor\":\"y\"},\"paper_bgcolor\":\"rgba(255, 255, 255, 1.000)\",\"height\":400,\"margin\":{\"r\":0,\"l\":0,\"b\":0,\"t\":20}});\n",
       "    </script>\n"
      ]
     },
     "execution_count": 162,
     "metadata": {},
     "output_type": "execute_result"
    }
   ],
   "source": [
    "sol = solve(prob)\n",
    "plot(sol)"
   ]
  },
  {
   "cell_type": "code",
   "execution_count": 163,
   "metadata": {},
   "outputs": [
    {
     "data": {
      "text/plain": [
       "9-element Array{Float64,1}:\n",
       "  0.0562251\n",
       "  0.0377561\n",
       " -0.139891 \n",
       " -0.59063  \n",
       " -1.23556  \n",
       " -1.50553  \n",
       " -0.170421 \n",
       "  5.03772  \n",
       "  9.06954  "
      ]
     },
     "execution_count": 163,
     "metadata": {},
     "output_type": "execute_result"
    }
   ],
   "source": [
    "sol[:,2,1]"
   ]
  },
  {
   "cell_type": "code",
   "execution_count": 164,
   "metadata": {},
   "outputs": [
    {
     "data": {
      "application/vnd.plotly.v1+json": "{\"layout\":{\"margin\":{\"r\":50,\"l\":50,\"b\":50,\"t\":60}},\"data\":[{\"y\":[[0.0,0.0,0.0,0.0,0.0,0.0,0.0,0.0,0.0,0.0,0.0,0.0,0.0,0.0,0.0,0.0,0.0,0.0,0.0,0.0,0.0,0.0,0.0,0.0,0.0,0.0,0.0,0.0,0.0,0.0,0.0,0.0],[0.0,0.020365033495923144,0.03989632012773336,0.05779424672589561,0.07332607007256403,0.08585591549501426,0.09487080964945688,0.1000016817100039,0.10103847317164467,0.0979387376701218,0.09082937874107107,0.08000145437436208,0.06589826106579488,0.04909718520647715,0.030286064816131938,0.010235029373752808,-0.010235029373752738,-0.030286064816131955,-0.04909718520647713,-0.06589826106579486,-0.08000145437436205,-0.09082937874107108,-0.09793873767012178,-0.10103847317164467,-0.1000016817100039,-0.09487080964945688,-0.08585591549501427,-0.07332607007256403,-0.057794246725895615,-0.03989632012773338,-0.020365033495923255,-2.477909233940352e-17],[0.0,0.04052109418988468,0.07938325002260907,0.11499544627227203,0.14589971544015692,0.17083083311543312,0.18876811641119287,0.19897721084176648,0.2010401548816486,0.19487249135946078,0.1807267251444711,0.15918198556757834,0.13112031679845965,0.09769056685362897,0.060261353623656526,0.020365033495923255,-0.02036503349592312,-0.06026135362365656,-0.09769056685362892,-0.1311203167984596,-0.1591819855675783,-0.18072672514447113,-0.19487249135946072,-0.2010401548816486,-0.19897721084176648,-0.18876811641119287,-0.17083083311543315,-0.14589971544015692,-0.11499544627227205,-0.07938325002260911,-0.04052109418988489,-4.930391765993535e-17],[0.0,0.060261353623656505,0.1180556003495521,0.171016636926193,0.2169762322934739,0.25405279521703517,0.28072840685447503,0.29591096453110544,0.29897889255177035,0.28980658958283756,0.2687695707855549,0.2367290941812281,0.19499690064663408,0.14528151108840395,0.08961827939636186,0.030286064816132094,-0.03028606481613189,-0.08961827939636191,-0.1452815110884039,-0.19499690064663402,-0.23672909418122803,-0.26876957078555497,-0.2898065895828375,-0.29897889255177035,-0.29591096453110544,-0.28072840685447503,-0.25405279521703517,-0.2169762322934739,-0.17101663692619304,-0.11805560034955216,-0.060261353623656824,-7.332281806641565e-17],[0.0,0.07938325002260907,0.15551654046215668,0.22528296546276602,0.28582627938770516,0.3346678318513498,0.3698080439571996,0.38980827129284146,0.3938497022012272,0.38176688002611975,0.35405447692703906,0.3118470419429309,0.25687255242120727,0.19138167042211615,0.11805560034955215,0.03989632012773358,-0.03989632012773331,-0.11805560034955222,-0.19138167042211607,-0.2568725524212072,-0.3118470419429308,-0.35405447692703906,-0.38176688002611964,-0.3938497022012272,-0.38980827129284146,-0.3698080439571996,-0.33466783185134985,-0.28582627938770516,-0.22528296546276605,-0.15551654046215677,-0.0793832500226095,-9.658932713790859e-17],[0.0,0.09769056685362897,0.19138167042211615,0.27723758591713044,0.3517433620706642,0.4118487236529347,0.4550929500986838,0.4797056176962416,0.4846790809422984,0.4698097256672036,0.4357063050229945,0.3837650170578271,0.31611234420383716,0.23551799483651878,0.145281511088404,0.04909718520647742,-0.04909718520647709,-0.1452815110884041,-0.23551799483651867,-0.31611234420383705,-0.383765017057827,-0.43570630502299457,-0.46980972566720347,-0.4846790809422984,-0.4797056176962416,-0.4550929500986838,-0.41184872365293473,-0.3517433620706642,-0.2772375859171305,-0.19138167042211623,-0.09769056685362949,-1.1886469900672343e-16],[0.0,0.11499544627227203,0.22528296546276602,0.3263473735775899,0.41405108187395895,0.48480349022947167,0.5357079867329985,0.5646805353166604,0.5705349964373126,0.5530316877688056,0.5128871968245794,0.45174504378066827,0.37210839556658737,0.27723758591713044,0.17101663692619307,0.05779424672589592,-0.05779424672589554,-0.17101663692619315,-0.2772375859171303,-0.3721083955665872,-0.45174504378066815,-0.5128871968245794,-0.5530316877688055,-0.5705349964373126,-0.5646805353166604,-0.5357079867329985,-0.4848034902294717,-0.41405108187395895,-0.32634737357758997,-0.2252829654627661,-0.11499544627227265,-1.3992035821409183e-16],[0.0,0.13112031679845965,0.25687255242120727,0.37210839556658737,0.47211007727659127,0.5527835169523128,0.6108259344947012,0.6438610665098767,0.6505364508116748,0.6305787963824554,0.5848051719394756,0.5150895550456038,0.4242861112477117,0.31611234420383716,0.19499690064663416,0.06589826106579524,-0.0658982610657948,-0.19499690064663427,-0.316112344203837,-0.4242861112477116,-0.5150895550456037,-0.5848051719394757,-0.6305787963824552,-0.6505364508116748,-0.6438610665098767,-0.6108259344947012,-0.5527835169523129,-0.47211007727659127,-0.3721083955665874,-0.2568725524212074,-0.13112031679846034,-1.5954024520368682e-16],[0.0,0.14589971544015692,0.28582627938770516,0.41405108187395895,0.5253245844193564,0.6150912367556075,0.6796759815889325,0.7164347118774697,0.7238625208842387,0.7016553132357723,0.6507222546224345,0.5731485504482361,0.47211007727659127,0.3517433620706642,0.216976232293474,0.07332607007256443,-0.07332607007256393,-0.2169762322934741,-0.35174336207066403,-0.4721100772765911,-0.573148550448236,-0.6507222546224346,-0.7016553132357721,-0.7238625208842387,-0.7164347118774697,-0.6796759815889325,-0.6150912367556076,-0.5253245844193564,-0.41405108187395906,-0.2858262793877053,-0.1458997154401577,-1.775230333850461e-16],[0.0,0.15918198556757826,0.3118470419429307,0.45174504378066804,0.5731485504482359,0.6710872881183576,0.7415516333635056,0.7816567676101343,0.7897607819500335,0.7655318970839466,0.7099620464050643,0.6253262661293605,0.5150895550456036,0.38376501705782695,0.2367290941812281,0.08000145437436249,-0.08000145437436194,-0.2367290941812282,-0.3837650170578268,-0.5150895550456034,-0.6253262661293603,-0.7099620464050644,-0.7655318970839465,-0.7897607819500335,-0.7816567676101343,-0.7415516333635056,-0.6710872881183577,-0.5731485504482359,-0.45174504378066815,-0.3118470419429309,-0.15918198556757912,-1.9368419501682838e-16],[0.0,0.17083083311543312,0.3346678318513498,0.48480349022947167,0.6150912367556075,0.7201970757788171,0.7958179619000786,0.8388579671565107,0.8475550286759291,0.8215530877378676,0.7619166668594287,0.6710872881183579,0.5527835169523128,0.4118487236529347,0.2540527952170352,0.08585591549501473,-0.08585591549501415,-0.2540527952170354,-0.4118487236529345,-0.5527835169523125,-0.6710872881183577,-0.7619166668594288,-0.8215530877378675,-0.8475550286759291,-0.8388579671565107,-0.7958179619000786,-0.7201970757788172,-0.6150912367556075,-0.4848034902294718,-0.33466783185134996,-0.17083083311543404,-2.0785789471114578e-16],[0.0,0.1807267251444711,0.35405447692703906,0.5128871968245794,0.6507222546224345,0.7619166668594287,0.8419181212337907,0.8874513488036625,0.8966522138824062,0.8691440319726426,0.8060529912738312,0.7099620464050646,0.5848051719394756,0.4357063050229945,0.268769570785555,0.09082937874107157,-0.09082937874107096,-0.26876957078555513,-0.4357063050229943,-0.5848051719394753,-0.7099620464050644,-0.8060529912738313,-0.8691440319726425,-0.8966522138824062,-0.8874513488036625,-0.8419181212337907,-0.7619166668594288,-0.6507222546224345,-0.5128871968245795,-0.3540544769270392,-0.18072672514447208,-2.1989869112905438e-16],[0.0,0.18876811641119287,0.3698080439571996,0.5357079867329985,0.6796759815889325,0.7958179619000786,0.8793790613463954,0.9269382786985383,0.9365485340101397,0.9078163822995857,0.8419181212337907,0.7415516333635059,0.6108259344947012,0.4550929500986838,0.28072840685447514,0.09487080964945739,-0.09487080964945675,-0.2807284068544753,-0.45509295009868356,-0.610825934494701,-0.7415516333635057,-0.8419181212337908,-0.9078163822995855,-0.9365485340101397,-0.9269382786985383,-0.8793790613463954,-0.7958179619000787,-0.6796759815889325,-0.5357079867329986,-0.36980804395719974,-0.1887681164111939,-2.2968302940550556e-16],[0.0,0.19487249135946078,0.38176688002611975,0.5530316877688056,0.7016553132357723,0.8215530877378676,0.9078163822995857,0.9569135675060628,0.9668345988262717,0.937173308072291,0.8691440319726426,0.765531897083947,0.6305787963824554,0.4698097256672036,0.28980658958283767,0.09793873767012234,-0.09793873767012168,-0.28980658958283784,-0.46980972566720336,-0.6305787963824552,-0.7655318970839468,-0.8691440319726427,-0.9371733080722908,-0.9668345988262717,-0.9569135675060628,-0.9078163822995857,-0.8215530877378677,-0.7016553132357723,-0.5530316877688057,-0.38176688002611986,-0.19487249135946183,-2.3711050898945777e-16],[0.0,0.19897721084176648,0.38980827129284146,0.5646805353166604,0.7164347118774697,0.8388579671565107,0.9269382786985383,0.9770696282000244,0.9871996323221948,0.9569135675060628,0.8874513488036625,0.7816567676101346,0.6438610665098767,0.4797056176962416,0.29591096453110555,0.10000168171000445,-0.10000168171000377,-0.2959109645311057,-0.47970561769624137,-0.6438610665098765,-0.7816567676101344,-0.8874513488036626,-0.9569135675060626,-0.9871996323221948,-0.9770696282000244,-0.9269382786985383,-0.8388579671565108,-0.7164347118774697,-0.5646805353166605,-0.3898082712928416,-0.19897721084176756,-2.4210491388939387e-16],[0.0,0.2010401548816486,0.3938497022012272,0.5705349964373126,0.7238625208842387,0.8475550286759291,0.9365485340101397,0.9871996323221948,0.9974346616959475,0.9668345988262717,0.8966522138824062,0.7897607819500339,0.6505364508116748,0.4846790809422984,0.29897889255177046,0.10103847317164523,-0.10103847317164455,-0.2989788925517706,-0.48467908094229817,-0.6505364508116745,-0.7897607819500336,-0.8966522138824063,-0.9668345988262714,-0.9974346616959475,-0.9871996323221948,-0.9365485340101397,-0.8475550286759292,-0.7238625208842387,-0.5705349964373128,-0.3938497022012274,-0.20104015488164964,-2.4461499475253087e-16],[0.0,0.2010401548816486,0.3938497022012272,0.5705349964373126,0.7238625208842387,0.8475550286759291,0.9365485340101397,0.9871996323221948,0.9974346616959475,0.9668345988262717,0.8966522138824062,0.7897607819500339,0.6505364508116748,0.4846790809422984,0.29897889255177046,0.10103847317164523,-0.10103847317164455,-0.2989788925517706,-0.48467908094229817,-0.6505364508116745,-0.7897607819500336,-0.8966522138824063,-0.9668345988262714,-0.9974346616959475,-0.9871996323221948,-0.9365485340101397,-0.8475550286759292,-0.7238625208842387,-0.5705349964373128,-0.3938497022012274,-0.20104015488164964,-2.4461499475253087e-16],[0.0,0.19897721084176648,0.38980827129284146,0.5646805353166604,0.7164347118774697,0.8388579671565107,0.9269382786985383,0.9770696282000244,0.9871996323221948,0.9569135675060628,0.8874513488036625,0.7816567676101346,0.6438610665098767,0.4797056176962416,0.29591096453110555,0.10000168171000445,-0.10000168171000377,-0.2959109645311057,-0.47970561769624137,-0.6438610665098765,-0.7816567676101344,-0.8874513488036626,-0.9569135675060626,-0.9871996323221948,-0.9770696282000244,-0.9269382786985383,-0.8388579671565108,-0.7164347118774697,-0.5646805353166605,-0.3898082712928416,-0.19897721084176756,-2.4210491388939387e-16],[0.0,0.19487249135946078,0.38176688002611975,0.5530316877688056,0.7016553132357723,0.8215530877378676,0.9078163822995857,0.9569135675060628,0.9668345988262717,0.937173308072291,0.8691440319726426,0.765531897083947,0.6305787963824554,0.4698097256672036,0.28980658958283767,0.09793873767012234,-0.09793873767012168,-0.28980658958283784,-0.46980972566720336,-0.6305787963824552,-0.7655318970839468,-0.8691440319726427,-0.9371733080722908,-0.9668345988262717,-0.9569135675060628,-0.9078163822995857,-0.8215530877378677,-0.7016553132357723,-0.5530316877688057,-0.38176688002611986,-0.19487249135946183,-2.3711050898945777e-16],[0.0,0.1887681164111929,0.36980804395719963,0.5357079867329985,0.6796759815889326,0.7958179619000787,0.8793790613463954,0.9269382786985384,0.9365485340101398,0.9078163822995858,0.8419181212337908,0.7415516333635059,0.6108259344947014,0.45509295009868383,0.28072840685447514,0.0948708096494574,-0.09487080964945677,-0.2807284068544753,-0.4550929500986836,-0.6108259344947011,-0.7415516333635058,-0.841918121233791,-0.9078163822995856,-0.9365485340101398,-0.9269382786985384,-0.8793790613463954,-0.7958179619000788,-0.6796759815889326,-0.5357079867329986,-0.3698080439571998,-0.1887681164111939,-2.296830294055056e-16],[0.0,0.1807267251444711,0.35405447692703906,0.5128871968245794,0.6507222546224345,0.7619166668594287,0.8419181212337907,0.8874513488036625,0.8966522138824062,0.8691440319726426,0.8060529912738312,0.7099620464050646,0.5848051719394756,0.4357063050229945,0.268769570785555,0.09082937874107157,-0.09082937874107096,-0.26876957078555513,-0.4357063050229943,-0.5848051719394753,-0.7099620464050644,-0.8060529912738313,-0.8691440319726425,-0.8966522138824062,-0.8874513488036625,-0.8419181212337907,-0.7619166668594288,-0.6507222546224345,-0.5128871968245795,-0.3540544769270392,-0.18072672514447208,-2.1989869112905438e-16],[0.0,0.17083083311543312,0.3346678318513498,0.48480349022947167,0.6150912367556075,0.7201970757788171,0.7958179619000786,0.8388579671565107,0.8475550286759291,0.8215530877378676,0.7619166668594287,0.6710872881183579,0.5527835169523128,0.4118487236529347,0.2540527952170352,0.08585591549501473,-0.08585591549501415,-0.2540527952170354,-0.4118487236529345,-0.5527835169523125,-0.6710872881183577,-0.7619166668594288,-0.8215530877378675,-0.8475550286759291,-0.8388579671565107,-0.7958179619000786,-0.7201970757788172,-0.6150912367556075,-0.4848034902294718,-0.33466783185134996,-0.17083083311543404,-2.0785789471114578e-16],[0.0,0.15918198556757834,0.3118470419429309,0.45174504378066827,0.5731485504482361,0.6710872881183579,0.7415516333635059,0.7816567676101346,0.7897607819500339,0.765531897083947,0.7099620464050646,0.6253262661293607,0.5150895550456038,0.3837650170578271,0.23672909418122817,0.08000145437436251,-0.08000145437436199,-0.2367290941812283,-0.38376501705782695,-0.5150895550456036,-0.6253262661293606,-0.7099620464050647,-0.7655318970839469,-0.7897607819500339,-0.7816567676101346,-0.7415516333635059,-0.671087288118358,-0.5731485504482361,-0.4517450437806683,-0.311847041942931,-0.1591819855675792,-1.9368419501682846e-16],[0.0,0.14589971544015698,0.2858262793877053,0.41405108187395906,0.5253245844193566,0.6150912367556077,0.6796759815889327,0.7164347118774699,0.723862520884239,0.7016553132357726,0.6507222546224347,0.5731485504482363,0.47211007727659143,0.3517433620706643,0.21697623229347404,0.07332607007256445,-0.07332607007256396,-0.21697623229347415,-0.35174336207066415,-0.47211007727659127,-0.5731485504482362,-0.6507222546224348,-0.7016553132357723,-0.723862520884239,-0.7164347118774699,-0.6796759815889327,-0.6150912367556078,-0.5253245844193566,-0.41405108187395917,-0.2858262793877054,-0.14589971544015776,-1.7752303338504614e-16],[0.0,0.13112031679845965,0.25687255242120727,0.37210839556658737,0.47211007727659127,0.5527835169523128,0.6108259344947012,0.6438610665098767,0.6505364508116748,0.6305787963824554,0.5848051719394756,0.5150895550456038,0.4242861112477117,0.31611234420383716,0.19499690064663416,0.06589826106579524,-0.0658982610657948,-0.19499690064663427,-0.316112344203837,-0.4242861112477116,-0.5150895550456037,-0.5848051719394757,-0.6305787963824552,-0.6505364508116748,-0.6438610665098767,-0.6108259344947012,-0.5527835169523129,-0.47211007727659127,-0.3721083955665874,-0.2568725524212074,-0.13112031679846034,-1.5954024520368682e-16],[0.0,0.11499544627227203,0.22528296546276602,0.3263473735775899,0.41405108187395895,0.48480349022947167,0.5357079867329985,0.5646805353166604,0.5705349964373126,0.5530316877688056,0.5128871968245794,0.45174504378066827,0.37210839556658737,0.27723758591713044,0.17101663692619307,0.05779424672589592,-0.05779424672589554,-0.17101663692619315,-0.2772375859171303,-0.3721083955665872,-0.45174504378066815,-0.5128871968245794,-0.5530316877688055,-0.5705349964373126,-0.5646805353166604,-0.5357079867329985,-0.4848034902294717,-0.41405108187395895,-0.32634737357758997,-0.2252829654627661,-0.11499544627227265,-1.3992035821409183e-16],[0.0,0.09769056685362897,0.19138167042211615,0.27723758591713044,0.3517433620706642,0.4118487236529347,0.4550929500986838,0.4797056176962416,0.4846790809422984,0.4698097256672036,0.4357063050229945,0.3837650170578271,0.31611234420383716,0.23551799483651878,0.145281511088404,0.04909718520647742,-0.04909718520647709,-0.1452815110884041,-0.23551799483651867,-0.31611234420383705,-0.383765017057827,-0.43570630502299457,-0.46980972566720347,-0.4846790809422984,-0.4797056176962416,-0.4550929500986838,-0.41184872365293473,-0.3517433620706642,-0.2772375859171305,-0.19138167042211623,-0.09769056685362949,-1.1886469900672343e-16],[0.0,0.07938325002260908,0.1555165404621567,0.22528296546276605,0.2858262793877052,0.33466783185134985,0.36980804395719963,0.3898082712928415,0.3938497022012273,0.3817668800261198,0.35405447692703906,0.31184704194293095,0.2568725524212073,0.19138167042211618,0.11805560034955216,0.03989632012773359,-0.039896320127733316,-0.11805560034955223,-0.1913816704221161,-0.2568725524212072,-0.31184704194293084,-0.3540544769270391,-0.3817668800261197,-0.3938497022012273,-0.3898082712928415,-0.36980804395719963,-0.3346678318513499,-0.2858262793877052,-0.22528296546276608,-0.1555165404621568,-0.07938325002260951,-9.65893271379086e-17],[0.0,0.060261353623656526,0.11805560034955215,0.17101663692619307,0.216976232293474,0.2540527952170352,0.28072840685447514,0.29591096453110555,0.29897889255177046,0.28980658958283767,0.268769570785555,0.23672909418122817,0.19499690064663416,0.145281511088404,0.08961827939636188,0.030286064816132104,-0.030286064816131903,-0.08961827939636194,-0.14528151108840395,-0.19499690064663408,-0.23672909418122812,-0.268769570785555,-0.2898065895828376,-0.29897889255177046,-0.29591096453110555,-0.28072840685447514,-0.2540527952170353,-0.216976232293474,-0.1710166369261931,-0.1180556003495522,-0.06026135362365685,-7.332281806641568e-17],[0.0,0.0405210941898847,0.07938325002260911,0.1149954462722721,0.145899715440157,0.1708308331154332,0.18876811641119298,0.1989772108417666,0.2010401548816487,0.1948724913594609,0.18072672514447122,0.15918198556757843,0.1311203167984597,0.09769056685362902,0.06026135362365656,0.020365033495923265,-0.02036503349592313,-0.060261353623656595,-0.09769056685362898,-0.13112031679845967,-0.15918198556757837,-0.18072672514447125,-0.19487249135946083,-0.2010401548816487,-0.1989772108417666,-0.18876811641119298,-0.17083083311543323,-0.145899715440157,-0.11499544627227211,-0.07938325002260915,-0.04052109418988492,-4.930391765993537e-17],[0.0,0.020365033495923255,0.03989632012773358,0.05779424672589592,0.07332607007256443,0.08585591549501473,0.09487080964945739,0.10000168171000445,0.10103847317164523,0.09793873767012234,0.09082937874107157,0.08000145437436251,0.06589826106579524,0.04909718520647742,0.030286064816132104,0.010235029373752863,-0.010235029373752794,-0.03028606481613212,-0.0490971852064774,-0.06589826106579522,-0.0800014543743625,-0.09082937874107158,-0.09793873767012232,-0.10103847317164523,-0.10000168171000445,-0.09487080964945739,-0.08585591549501474,-0.07332607007256443,-0.057794246725895934,-0.039896320127733594,-0.020365033495923366,-2.4779092339403656e-17],[0.0,2.4651958829967673e-17,4.829466356895429e-17,6.996017910704591e-17,8.876151669252305e-17,1.0392894735557289e-16,1.1484151470275278e-16,1.2105245694469694e-16,1.2230749737626543e-16,1.1855525449472888e-16,1.0994934556452719e-16,9.684209750841423e-17,7.977012260184341e-17,5.943234950336172e-17,3.666140903320784e-17,1.2389546169701828e-17,-1.2389546169701745e-17,-3.666140903320786e-17,-5.943234950336169e-17,-7.977012260184339e-17,-9.68420975084142e-17,-1.099493455645272e-16,-1.1855525449472886e-16,-1.2230749737626543e-16,-1.2105245694469694e-16,-1.1484151470275278e-16,-1.039289473555729e-16,-8.876151669252305e-17,-6.996017910704593e-17,-4.829466356895432e-17,-2.4651958829967806e-17,-2.999519565323715e-32]],\"type\":\"surface\",\"z\":[[1.0,1.0,1.0,1.0,1.0,1.0,1.0,1.0,1.0,1.0,1.0,1.0,1.0,1.0,1.0,1.0,1.0,1.0,1.0,1.0,1.0,1.0,1.0,1.0,1.0,1.0,1.0,1.0,1.0,1.0,1.0,1.0],[0.9948693233918952,0.9948693233918952,0.9948693233918952,0.9948693233918952,0.9948693233918952,0.9948693233918952,0.9948693233918952,0.9948693233918952,0.9948693233918952,0.9948693233918952,0.9948693233918952,0.9948693233918952,0.9948693233918952,0.9948693233918952,0.9948693233918952,0.9948693233918952,0.9948693233918952,0.9948693233918952,0.9948693233918952,0.9948693233918952,0.9948693233918952,0.9948693233918952,0.9948693233918952,0.9948693233918952,0.9948693233918952,0.9948693233918952,0.9948693233918952,0.9948693233918952,0.9948693233918952,0.9948693233918952,0.9948693233918952,0.9948693233918952],[0.9795299412524945,0.9795299412524945,0.9795299412524945,0.9795299412524945,0.9795299412524945,0.9795299412524945,0.9795299412524945,0.9795299412524945,0.9795299412524945,0.9795299412524945,0.9795299412524945,0.9795299412524945,0.9795299412524945,0.9795299412524945,0.9795299412524945,0.9795299412524945,0.9795299412524945,0.9795299412524945,0.9795299412524945,0.9795299412524945,0.9795299412524945,0.9795299412524945,0.9795299412524945,0.9795299412524945,0.9795299412524945,0.9795299412524945,0.9795299412524945,0.9795299412524945,0.9795299412524945,0.9795299412524945,0.9795299412524945,0.9795299412524945],[0.9541392564000488,0.9541392564000488,0.9541392564000488,0.9541392564000488,0.9541392564000488,0.9541392564000488,0.9541392564000488,0.9541392564000488,0.9541392564000488,0.9541392564000488,0.9541392564000488,0.9541392564000488,0.9541392564000488,0.9541392564000488,0.9541392564000488,0.9541392564000488,0.9541392564000488,0.9541392564000488,0.9541392564000488,0.9541392564000488,0.9541392564000488,0.9541392564000488,0.9541392564000488,0.9541392564000488,0.9541392564000488,0.9541392564000488,0.9541392564000488,0.9541392564000488,0.9541392564000488,0.9541392564000488,0.9541392564000488,0.9541392564000488],[0.9189578116202306,0.9189578116202306,0.9189578116202306,0.9189578116202306,0.9189578116202306,0.9189578116202306,0.9189578116202306,0.9189578116202306,0.9189578116202306,0.9189578116202306,0.9189578116202306,0.9189578116202306,0.9189578116202306,0.9189578116202306,0.9189578116202306,0.9189578116202306,0.9189578116202306,0.9189578116202306,0.9189578116202306,0.9189578116202306,0.9189578116202306,0.9189578116202306,0.9189578116202306,0.9189578116202306,0.9189578116202306,0.9189578116202306,0.9189578116202306,0.9189578116202306,0.9189578116202306,0.9189578116202306,0.9189578116202306,0.9189578116202306],[0.8743466161445821,0.8743466161445821,0.8743466161445821,0.8743466161445821,0.8743466161445821,0.8743466161445821,0.8743466161445821,0.8743466161445821,0.8743466161445821,0.8743466161445821,0.8743466161445821,0.8743466161445821,0.8743466161445821,0.8743466161445821,0.8743466161445821,0.8743466161445821,0.8743466161445821,0.8743466161445821,0.8743466161445821,0.8743466161445821,0.8743466161445821,0.8743466161445821,0.8743466161445821,0.8743466161445821,0.8743466161445821,0.8743466161445821,0.8743466161445821,0.8743466161445821,0.8743466161445821,0.8743466161445821,0.8743466161445821,0.8743466161445821],[0.8207634412072763,0.8207634412072763,0.8207634412072763,0.8207634412072763,0.8207634412072763,0.8207634412072763,0.8207634412072763,0.8207634412072763,0.8207634412072763,0.8207634412072763,0.8207634412072763,0.8207634412072763,0.8207634412072763,0.8207634412072763,0.8207634412072763,0.8207634412072763,0.8207634412072763,0.8207634412072763,0.8207634412072763,0.8207634412072763,0.8207634412072763,0.8207634412072763,0.8207634412072763,0.8207634412072763,0.8207634412072763,0.8207634412072763,0.8207634412072763,0.8207634412072763,0.8207634412072763,0.8207634412072763,0.8207634412072763,0.8207634412072763],[0.758758122692791,0.758758122692791,0.758758122692791,0.758758122692791,0.758758122692791,0.758758122692791,0.758758122692791,0.758758122692791,0.758758122692791,0.758758122692791,0.758758122692791,0.758758122692791,0.758758122692791,0.758758122692791,0.758758122692791,0.758758122692791,0.758758122692791,0.758758122692791,0.758758122692791,0.758758122692791,0.758758122692791,0.758758122692791,0.758758122692791,0.758758122692791,0.758758122692791,0.758758122692791,0.758758122692791,0.758758122692791,0.758758122692791,0.758758122692791,0.758758122692791,0.758758122692791],[0.6889669190756866,0.6889669190756866,0.6889669190756866,0.6889669190756866,0.6889669190756866,0.6889669190756866,0.6889669190756866,0.6889669190756866,0.6889669190756866,0.6889669190756866,0.6889669190756866,0.6889669190756866,0.6889669190756866,0.6889669190756866,0.6889669190756866,0.6889669190756866,0.6889669190756866,0.6889669190756866,0.6889669190756866,0.6889669190756866,0.6889669190756866,0.6889669190756866,0.6889669190756866,0.6889669190756866,0.6889669190756866,0.6889669190756866,0.6889669190756866,0.6889669190756866,0.6889669190756866,0.6889669190756866,0.6889669190756866,0.6889669190756866],[0.6121059825476629,0.6121059825476629,0.6121059825476629,0.6121059825476629,0.6121059825476629,0.6121059825476629,0.6121059825476629,0.6121059825476629,0.6121059825476629,0.6121059825476629,0.6121059825476629,0.6121059825476629,0.6121059825476629,0.6121059825476629,0.6121059825476629,0.6121059825476629,0.6121059825476629,0.6121059825476629,0.6121059825476629,0.6121059825476629,0.6121059825476629,0.6121059825476629,0.6121059825476629,0.6121059825476629,0.6121059825476629,0.6121059825476629,0.6121059825476629,0.6121059825476629,0.6121059825476629,0.6121059825476629,0.6121059825476629,0.6121059825476629],[0.5289640103269624,0.5289640103269624,0.5289640103269624,0.5289640103269624,0.5289640103269624,0.5289640103269624,0.5289640103269624,0.5289640103269624,0.5289640103269624,0.5289640103269624,0.5289640103269624,0.5289640103269624,0.5289640103269624,0.5289640103269624,0.5289640103269624,0.5289640103269624,0.5289640103269624,0.5289640103269624,0.5289640103269624,0.5289640103269624,0.5289640103269624,0.5289640103269624,0.5289640103269624,0.5289640103269624,0.5289640103269624,0.5289640103269624,0.5289640103269624,0.5289640103269624,0.5289640103269624,0.5289640103269624,0.5289640103269624,0.5289640103269624],[0.4403941515576345,0.4403941515576345,0.4403941515576345,0.4403941515576345,0.4403941515576345,0.4403941515576345,0.4403941515576345,0.4403941515576345,0.4403941515576345,0.4403941515576345,0.4403941515576345,0.4403941515576345,0.4403941515576345,0.4403941515576345,0.4403941515576345,0.4403941515576345,0.4403941515576345,0.4403941515576345,0.4403941515576345,0.4403941515576345,0.4403941515576345,0.4403941515576345,0.4403941515576345,0.4403941515576345,0.4403941515576345,0.4403941515576345,0.4403941515576345,0.4403941515576345,0.4403941515576345,0.4403941515576345,0.4403941515576345,0.4403941515576345],[0.3473052528448203,0.3473052528448203,0.3473052528448203,0.3473052528448203,0.3473052528448203,0.3473052528448203,0.3473052528448203,0.3473052528448203,0.3473052528448203,0.3473052528448203,0.3473052528448203,0.3473052528448203,0.3473052528448203,0.3473052528448203,0.3473052528448203,0.3473052528448203,0.3473052528448203,0.3473052528448203,0.3473052528448203,0.3473052528448203,0.3473052528448203,0.3473052528448203,0.3473052528448203,0.3473052528448203,0.3473052528448203,0.3473052528448203,0.3473052528448203,0.3473052528448203,0.3473052528448203,0.3473052528448203,0.3473052528448203,0.3473052528448203],[0.25065253225872053,0.25065253225872053,0.25065253225872053,0.25065253225872053,0.25065253225872053,0.25065253225872053,0.25065253225872053,0.25065253225872053,0.25065253225872053,0.25065253225872053,0.25065253225872053,0.25065253225872053,0.25065253225872053,0.25065253225872053,0.25065253225872053,0.25065253225872053,0.25065253225872053,0.25065253225872053,0.25065253225872053,0.25065253225872053,0.25065253225872053,0.25065253225872053,0.25065253225872053,0.25065253225872053,0.25065253225872053,0.25065253225872053,0.25065253225872053,0.25065253225872053,0.25065253225872053,0.25065253225872053,0.25065253225872053,0.25065253225872053],[0.1514277775045767,0.1514277775045767,0.1514277775045767,0.1514277775045767,0.1514277775045767,0.1514277775045767,0.1514277775045767,0.1514277775045767,0.1514277775045767,0.1514277775045767,0.1514277775045767,0.1514277775045767,0.1514277775045767,0.1514277775045767,0.1514277775045767,0.1514277775045767,0.1514277775045767,0.1514277775045767,0.1514277775045767,0.1514277775045767,0.1514277775045767,0.1514277775045767,0.1514277775045767,0.1514277775045767,0.1514277775045767,0.1514277775045767,0.1514277775045767,0.1514277775045767,0.1514277775045767,0.1514277775045767,0.1514277775045767,0.1514277775045767],[0.05064916883871299,0.05064916883871299,0.05064916883871299,0.05064916883871299,0.05064916883871299,0.05064916883871299,0.05064916883871299,0.05064916883871299,0.05064916883871299,0.05064916883871299,0.05064916883871299,0.05064916883871299,0.05064916883871299,0.05064916883871299,0.05064916883871299,0.05064916883871299,0.05064916883871299,0.05064916883871299,0.05064916883871299,0.05064916883871299,0.05064916883871299,0.05064916883871299,0.05064916883871299,0.05064916883871299,0.05064916883871299,0.05064916883871299,0.05064916883871299,0.05064916883871299,0.05064916883871299,0.05064916883871299,0.05064916883871299,0.05064916883871299],[-0.05064916883871264,-0.05064916883871264,-0.05064916883871264,-0.05064916883871264,-0.05064916883871264,-0.05064916883871264,-0.05064916883871264,-0.05064916883871264,-0.05064916883871264,-0.05064916883871264,-0.05064916883871264,-0.05064916883871264,-0.05064916883871264,-0.05064916883871264,-0.05064916883871264,-0.05064916883871264,-0.05064916883871264,-0.05064916883871264,-0.05064916883871264,-0.05064916883871264,-0.05064916883871264,-0.05064916883871264,-0.05064916883871264,-0.05064916883871264,-0.05064916883871264,-0.05064916883871264,-0.05064916883871264,-0.05064916883871264,-0.05064916883871264,-0.05064916883871264,-0.05064916883871264,-0.05064916883871264],[-0.15142777750457678,-0.15142777750457678,-0.15142777750457678,-0.15142777750457678,-0.15142777750457678,-0.15142777750457678,-0.15142777750457678,-0.15142777750457678,-0.15142777750457678,-0.15142777750457678,-0.15142777750457678,-0.15142777750457678,-0.15142777750457678,-0.15142777750457678,-0.15142777750457678,-0.15142777750457678,-0.15142777750457678,-0.15142777750457678,-0.15142777750457678,-0.15142777750457678,-0.15142777750457678,-0.15142777750457678,-0.15142777750457678,-0.15142777750457678,-0.15142777750457678,-0.15142777750457678,-0.15142777750457678,-0.15142777750457678,-0.15142777750457678,-0.15142777750457678,-0.15142777750457678,-0.15142777750457678],[-0.2506525322587204,-0.2506525322587204,-0.2506525322587204,-0.2506525322587204,-0.2506525322587204,-0.2506525322587204,-0.2506525322587204,-0.2506525322587204,-0.2506525322587204,-0.2506525322587204,-0.2506525322587204,-0.2506525322587204,-0.2506525322587204,-0.2506525322587204,-0.2506525322587204,-0.2506525322587204,-0.2506525322587204,-0.2506525322587204,-0.2506525322587204,-0.2506525322587204,-0.2506525322587204,-0.2506525322587204,-0.2506525322587204,-0.2506525322587204,-0.2506525322587204,-0.2506525322587204,-0.2506525322587204,-0.2506525322587204,-0.2506525322587204,-0.2506525322587204,-0.2506525322587204,-0.2506525322587204],[-0.34730525284482017,-0.34730525284482017,-0.34730525284482017,-0.34730525284482017,-0.34730525284482017,-0.34730525284482017,-0.34730525284482017,-0.34730525284482017,-0.34730525284482017,-0.34730525284482017,-0.34730525284482017,-0.34730525284482017,-0.34730525284482017,-0.34730525284482017,-0.34730525284482017,-0.34730525284482017,-0.34730525284482017,-0.34730525284482017,-0.34730525284482017,-0.34730525284482017,-0.34730525284482017,-0.34730525284482017,-0.34730525284482017,-0.34730525284482017,-0.34730525284482017,-0.34730525284482017,-0.34730525284482017,-0.34730525284482017,-0.34730525284482017,-0.34730525284482017,-0.34730525284482017,-0.34730525284482017],[-0.4403941515576344,-0.4403941515576344,-0.4403941515576344,-0.4403941515576344,-0.4403941515576344,-0.4403941515576344,-0.4403941515576344,-0.4403941515576344,-0.4403941515576344,-0.4403941515576344,-0.4403941515576344,-0.4403941515576344,-0.4403941515576344,-0.4403941515576344,-0.4403941515576344,-0.4403941515576344,-0.4403941515576344,-0.4403941515576344,-0.4403941515576344,-0.4403941515576344,-0.4403941515576344,-0.4403941515576344,-0.4403941515576344,-0.4403941515576344,-0.4403941515576344,-0.4403941515576344,-0.4403941515576344,-0.4403941515576344,-0.4403941515576344,-0.4403941515576344,-0.4403941515576344,-0.4403941515576344],[-0.5289640103269625,-0.5289640103269625,-0.5289640103269625,-0.5289640103269625,-0.5289640103269625,-0.5289640103269625,-0.5289640103269625,-0.5289640103269625,-0.5289640103269625,-0.5289640103269625,-0.5289640103269625,-0.5289640103269625,-0.5289640103269625,-0.5289640103269625,-0.5289640103269625,-0.5289640103269625,-0.5289640103269625,-0.5289640103269625,-0.5289640103269625,-0.5289640103269625,-0.5289640103269625,-0.5289640103269625,-0.5289640103269625,-0.5289640103269625,-0.5289640103269625,-0.5289640103269625,-0.5289640103269625,-0.5289640103269625,-0.5289640103269625,-0.5289640103269625,-0.5289640103269625,-0.5289640103269625],[-0.6121059825476626,-0.6121059825476626,-0.6121059825476626,-0.6121059825476626,-0.6121059825476626,-0.6121059825476626,-0.6121059825476626,-0.6121059825476626,-0.6121059825476626,-0.6121059825476626,-0.6121059825476626,-0.6121059825476626,-0.6121059825476626,-0.6121059825476626,-0.6121059825476626,-0.6121059825476626,-0.6121059825476626,-0.6121059825476626,-0.6121059825476626,-0.6121059825476626,-0.6121059825476626,-0.6121059825476626,-0.6121059825476626,-0.6121059825476626,-0.6121059825476626,-0.6121059825476626,-0.6121059825476626,-0.6121059825476626,-0.6121059825476626,-0.6121059825476626,-0.6121059825476626,-0.6121059825476626],[-0.6889669190756863,-0.6889669190756863,-0.6889669190756863,-0.6889669190756863,-0.6889669190756863,-0.6889669190756863,-0.6889669190756863,-0.6889669190756863,-0.6889669190756863,-0.6889669190756863,-0.6889669190756863,-0.6889669190756863,-0.6889669190756863,-0.6889669190756863,-0.6889669190756863,-0.6889669190756863,-0.6889669190756863,-0.6889669190756863,-0.6889669190756863,-0.6889669190756863,-0.6889669190756863,-0.6889669190756863,-0.6889669190756863,-0.6889669190756863,-0.6889669190756863,-0.6889669190756863,-0.6889669190756863,-0.6889669190756863,-0.6889669190756863,-0.6889669190756863,-0.6889669190756863,-0.6889669190756863],[-0.758758122692791,-0.758758122692791,-0.758758122692791,-0.758758122692791,-0.758758122692791,-0.758758122692791,-0.758758122692791,-0.758758122692791,-0.758758122692791,-0.758758122692791,-0.758758122692791,-0.758758122692791,-0.758758122692791,-0.758758122692791,-0.758758122692791,-0.758758122692791,-0.758758122692791,-0.758758122692791,-0.758758122692791,-0.758758122692791,-0.758758122692791,-0.758758122692791,-0.758758122692791,-0.758758122692791,-0.758758122692791,-0.758758122692791,-0.758758122692791,-0.758758122692791,-0.758758122692791,-0.758758122692791,-0.758758122692791,-0.758758122692791],[-0.8207634412072763,-0.8207634412072763,-0.8207634412072763,-0.8207634412072763,-0.8207634412072763,-0.8207634412072763,-0.8207634412072763,-0.8207634412072763,-0.8207634412072763,-0.8207634412072763,-0.8207634412072763,-0.8207634412072763,-0.8207634412072763,-0.8207634412072763,-0.8207634412072763,-0.8207634412072763,-0.8207634412072763,-0.8207634412072763,-0.8207634412072763,-0.8207634412072763,-0.8207634412072763,-0.8207634412072763,-0.8207634412072763,-0.8207634412072763,-0.8207634412072763,-0.8207634412072763,-0.8207634412072763,-0.8207634412072763,-0.8207634412072763,-0.8207634412072763,-0.8207634412072763,-0.8207634412072763],[-0.8743466161445821,-0.8743466161445821,-0.8743466161445821,-0.8743466161445821,-0.8743466161445821,-0.8743466161445821,-0.8743466161445821,-0.8743466161445821,-0.8743466161445821,-0.8743466161445821,-0.8743466161445821,-0.8743466161445821,-0.8743466161445821,-0.8743466161445821,-0.8743466161445821,-0.8743466161445821,-0.8743466161445821,-0.8743466161445821,-0.8743466161445821,-0.8743466161445821,-0.8743466161445821,-0.8743466161445821,-0.8743466161445821,-0.8743466161445821,-0.8743466161445821,-0.8743466161445821,-0.8743466161445821,-0.8743466161445821,-0.8743466161445821,-0.8743466161445821,-0.8743466161445821,-0.8743466161445821],[-0.9189578116202306,-0.9189578116202306,-0.9189578116202306,-0.9189578116202306,-0.9189578116202306,-0.9189578116202306,-0.9189578116202306,-0.9189578116202306,-0.9189578116202306,-0.9189578116202306,-0.9189578116202306,-0.9189578116202306,-0.9189578116202306,-0.9189578116202306,-0.9189578116202306,-0.9189578116202306,-0.9189578116202306,-0.9189578116202306,-0.9189578116202306,-0.9189578116202306,-0.9189578116202306,-0.9189578116202306,-0.9189578116202306,-0.9189578116202306,-0.9189578116202306,-0.9189578116202306,-0.9189578116202306,-0.9189578116202306,-0.9189578116202306,-0.9189578116202306,-0.9189578116202306,-0.9189578116202306],[-0.9541392564000488,-0.9541392564000488,-0.9541392564000488,-0.9541392564000488,-0.9541392564000488,-0.9541392564000488,-0.9541392564000488,-0.9541392564000488,-0.9541392564000488,-0.9541392564000488,-0.9541392564000488,-0.9541392564000488,-0.9541392564000488,-0.9541392564000488,-0.9541392564000488,-0.9541392564000488,-0.9541392564000488,-0.9541392564000488,-0.9541392564000488,-0.9541392564000488,-0.9541392564000488,-0.9541392564000488,-0.9541392564000488,-0.9541392564000488,-0.9541392564000488,-0.9541392564000488,-0.9541392564000488,-0.9541392564000488,-0.9541392564000488,-0.9541392564000488,-0.9541392564000488,-0.9541392564000488],[-0.9795299412524945,-0.9795299412524945,-0.9795299412524945,-0.9795299412524945,-0.9795299412524945,-0.9795299412524945,-0.9795299412524945,-0.9795299412524945,-0.9795299412524945,-0.9795299412524945,-0.9795299412524945,-0.9795299412524945,-0.9795299412524945,-0.9795299412524945,-0.9795299412524945,-0.9795299412524945,-0.9795299412524945,-0.9795299412524945,-0.9795299412524945,-0.9795299412524945,-0.9795299412524945,-0.9795299412524945,-0.9795299412524945,-0.9795299412524945,-0.9795299412524945,-0.9795299412524945,-0.9795299412524945,-0.9795299412524945,-0.9795299412524945,-0.9795299412524945,-0.9795299412524945,-0.9795299412524945],[-0.994869323391895,-0.994869323391895,-0.994869323391895,-0.994869323391895,-0.994869323391895,-0.994869323391895,-0.994869323391895,-0.994869323391895,-0.994869323391895,-0.994869323391895,-0.994869323391895,-0.994869323391895,-0.994869323391895,-0.994869323391895,-0.994869323391895,-0.994869323391895,-0.994869323391895,-0.994869323391895,-0.994869323391895,-0.994869323391895,-0.994869323391895,-0.994869323391895,-0.994869323391895,-0.994869323391895,-0.994869323391895,-0.994869323391895,-0.994869323391895,-0.994869323391895,-0.994869323391895,-0.994869323391895,-0.994869323391895,-0.994869323391895],[-1.0,-1.0,-1.0,-1.0,-1.0,-1.0,-1.0,-1.0,-1.0,-1.0,-1.0,-1.0,-1.0,-1.0,-1.0,-1.0,-1.0,-1.0,-1.0,-1.0,-1.0,-1.0,-1.0,-1.0,-1.0,-1.0,-1.0,-1.0,-1.0,-1.0,-1.0,-1.0]],\"x\":[[0.0,0.0,0.0,0.0,0.0,0.0,0.0,0.0,0.0,0.0,0.0,0.0,0.0,0.0,0.0,0.0,0.0,0.0,0.0,0.0,0.0,0.0,0.0,0.0,0.0,0.0,0.0,0.0,0.0,0.0,0.0,0.0],[0.10116832198743217,0.09909740049296288,0.09296941977886153,0.08303526009557058,0.06970162710773818,0.05351440131652153,0.03513628964773132,0.015319694152424254,-0.005124091421470697,-0.025358096090515456,-0.04455393732616476,-0.06192573513281546,-0.07676228606716384,-0.08845617999073684,-0.09652866751232923,-0.10064926004433002,-0.10064926004433003,-0.09652866751232923,-0.08845617999073685,-0.07676228606716386,-0.061925735132815476,-0.04455393732616474,-0.025358096090515547,-0.005124091421470789,0.01531969415242425,0.03513628964773132,0.05351440131652153,0.06970162710773818,0.08303526009557058,0.09296941977886153,0.09909740049296285,0.10116832198743217],[0.20129852008866006,0.19717792755665928,0.18498484750306607,0.16521846605790066,0.13868802119997933,0.10647967245898023,0.06991203341668022,0.03048218751198618,-0.010195602730953532,-0.05045598380015555,-0.08865069096425288,-0.12321602842425966,-0.15273688720330877,-0.1760046798744321,-0.1920668202718244,-0.20026572248039504,-0.20026572248039504,-0.1920668202718244,-0.17600467987443214,-0.1527368872033088,-0.12321602842425969,-0.08865069096425283,-0.05045598380015572,-0.010195602730953716,0.030482187511986173,0.06991203341668022,0.10647967245898023,0.1386880211999793,0.16521846605790066,0.18498484750306607,0.19717792755665922,0.20129852008866006],[0.29936312297335793,0.29323514225925656,0.275102080367395,0.24570630698217027,0.20625128851983032,0.15835231807199102,0.1039703851166771,0.04533189237868488,-0.015162493359561902,-0.07503612483815089,-0.13183776854949575,-0.183241958526144,-0.22714420119071618,-0.2617471335702299,-0.2856341075473961,-0.29782718760098925,-0.2978271876009893,-0.2856341075473961,-0.26174713357022994,-0.2271442011907162,-0.18324195852614403,-0.1318377685494957,-0.07503612483815116,-0.015162493359562173,0.04533189237868487,0.1039703851166771,0.15835231807199102,0.2062512885198303,0.24570630698217027,0.275102080367395,0.2932351422592565,0.29936312297335793],[0.39435585511331855,0.38628336759172616,0.36239639361455994,0.3236728687030454,0.27169813851688096,0.2086000546166595,0.1369618599709664,0.059716430685726685,-0.019973796288169372,-0.09884629369520635,-0.17367201222441533,-0.2413875781675615,-0.29922070829869185,-0.34480370747513317,-0.37627040235482717,-0.3923325427522194,-0.39233254275221946,-0.37627040235482717,-0.3448037074751332,-0.2992207082986919,-0.24138757816756157,-0.17367201222441525,-0.0988462936952067,-0.01997379628816973,0.05971643068572668,0.1369618599709664,0.2086000546166595,0.2716981385168809,0.3236728687030454,0.36239639361455994,0.38628336759172605,0.39435585511331855],[0.48530196253108104,0.4753678028477901,0.44597202946256537,0.39831810879165475,0.3343569979464232,0.25670727231998586,0.1685479208029446,0.07348819760469096,-0.024580141037995322,-0.12164216581854212,-0.2137241460381303,-0.2970562346073963,-0.36822680602921026,-0.42432212874737546,-0.46304565365889,-0.4828120351040554,-0.48281203510405546,-0.46304565365889,-0.4243221287473755,-0.3682268060292103,-0.29705623460739633,-0.21372414603813022,-0.12164216581854255,-0.024580141037995763,0.07348819760469094,0.1685479208029446,0.25670727231998586,0.33435699794642315,0.39831810879165475,0.44597202946256537,0.47536780284779,0.48530196253108104],[0.5712682150947923,0.5595743211712193,0.5249713887917056,0.4688760660735402,0.39358490211972574,0.3021803260288671,0.19840445188570602,0.08650587617081087,-0.028934260278526146,-0.14318982471242905,-0.2515831808985152,-0.3496766920988473,-0.4334543984393861,-0.49948643077908694,-0.5450694299555283,-0.5683372226266515,-0.5683372226266517,-0.5450694299555283,-0.499486430779087,-0.4334543984393862,-0.34967669209884733,-0.25158318089851517,-0.14318982471242958,-0.028934260278526663,0.08650587617081086,0.19840445188570602,0.3021803260288671,0.39358490211972563,0.4688760660735402,0.5249713887917056,0.5595743211712192,0.5712682150947923],[0.6513724827222223,0.6380388497343898,0.5985838312720498,0.5346227204268182,0.4487740925918104,0.3445526006773767,0.22622508480799972,0.0986358873862644,-0.03299147485428927,-0.16326816223797463,-0.28686063187644295,-0.3987089935411962,-0.4942341621640558,-0.5695253261178703,-0.6215000563040348,-0.6480305011619562,-0.6480305011619562,-0.6215000563040348,-0.5695253261178703,-0.49423416216405586,-0.39870899354119627,-0.28686063187644284,-0.1632681622379752,-0.03299147485428986,0.09863588738626439,0.22622508480799972,0.3445526006773767,0.44877409259181034,0.5346227204268182,0.5985838312720498,0.6380388497343897,0.6513724827222223],[0.72479278722912,0.7099562362947717,0.6660539936301996,0.5948834222083857,0.4993582535855265,0.3833892993887721,0.25172434222871154,0.10975376092145318,-0.03671015225344883,-0.18167114748183488,-0.3191945045868613,-0.4436500011703394,-0.5499424145792425,-0.6337201209197811,-0.6915532510509114,-0.7210741098299603,-0.7210741098299605,-0.6915532510509114,-0.6337201209197812,-0.5499424145792426,-0.44365000117033954,-0.3191945045868612,-0.18167114748183552,-0.036710152253449486,0.10975376092145317,0.25172434222871154,0.3833892993887721,0.4993582535855264,0.5948834222083857,0.6660539936301996,0.7099562362947714,0.72479278722912],[0.7907757369376985,0.7745885111464819,0.7266895406986426,0.6490398150722053,0.5448183231577718,0.41829190507982406,0.27464056726069647,0.11974541234901949,-0.040052133813714905,-0.19820994091218988,-0.34825300974104084,-0.4840385594331019,-0.6000075136298565,-0.6914120897207149,-0.7545101736209363,-0.7867185223619353,-0.7867185223619354,-0.7545101736209363,-0.691412089720715,-0.6000075136298566,-0.484038559433102,-0.34825300974104073,-0.1982099409121906,-0.040052133813715626,0.11974541234901946,0.27464056726069647,0.41829190507982406,0.5448183231577717,0.6490398150722053,0.7266895406986426,0.7745885111464818,0.7907757369376985],[0.8486442574947509,0.8312724596881002,0.7798682697114517,0.6965361811421856,0.5846878194774322,0.44890226978537073,0.2947386084245192,0.12850831380445185,-0.04298312628185556,-0.2127148321278809,-0.3737379677536595,-0.519460227067256,-0.6439157236507347,-0.7420092348510668,-0.8097248007942132,-0.8442901382542201,-0.8442901382542201,-0.8097248007942132,-0.742009234851067,-0.6439157236507348,-0.5194602270672561,-0.3737379677536593,-0.21271483212788164,-0.04298312628185634,0.12850831380445182,0.2947386084245192,0.44890226978537073,0.5846878194774321,0.6965361811421856,0.7798682697114517,0.8312724596880999,0.8486442574947509],[0.8978045395707416,0.8794264279019514,0.8250444949466375,0.7368851434295961,0.6185576275602193,0.47490628974109145,0.31181223262084384,0.1359525460607172,-0.045473053708881155,-0.22503698131678093,-0.3953878684688493,-0.5495515298297006,-0.6812164869897614,-0.7849923611329225,-0.8566305557786156,-0.8931981948209156,-0.8931981948209157,-0.8566305557786156,-0.7849923611329226,-0.6812164869897616,-0.5495515298297007,-0.39538786846884916,-0.22503698131678174,-0.04547305370888197,0.13595254606071716,0.31181223262084384,0.47490628974109145,0.6185576275602191,0.7368851434295961,0.8250444949466375,0.8794264279019511,0.8978045395707416],[0.9377521321470804,0.9185562909114311,0.8617546472000863,0.7696726669804982,0.6460801973420301,0.49603712851317927,0.3256862413611111,0.1420017212212105,-0.04749636606998025,-0.23504994655367992,-0.41298055460827615,-0.5740036902340542,-0.7115270473390808,-0.8199204035251667,-0.8947461220543756,-0.9329408292184729,-0.932940829218473,-0.8947461220543756,-0.8199204035251668,-0.7115270473390809,-0.5740036902340543,-0.412980554608276,-0.23504994655368075,-0.047496366069981096,0.14200172122121046,0.3256862413611111,0.49603712851317927,0.64608019734203,0.7696726669804982,0.8617546472000863,0.9185562909114309,0.9377521321470804],[0.9680771188662043,0.9482605233708972,0.8896220306329049,0.7945623074346513,0.666973110012916,0.5120779551012389,0.3362182685411122,0.14659376656294323,-0.049032301442348866,-0.24265098126554038,-0.42633550140544124,-0.5925657960255083,-0.734536377332767,-0.8464349530476621,-0.9236803823329018,-0.9631102282375958,-0.963110228237596,-0.9236803823329018,-0.8464349530476621,-0.7345363773327671,-0.5925657960255084,-0.4263355014054411,-0.24265098126554124,-0.04903230144234975,0.1465937665629432,0.3362182685411122,0.5120779551012389,0.6669731100129159,0.7945623074346513,0.8896220306329049,0.948260523370897,0.9680771188662043],[0.9884683243281114,0.9682343196590666,0.9083606881804775,0.8112986633999307,0.6810219760162455,0.5228641689177703,0.3433002413098705,0.14968156148667902,-0.05006509905061388,-0.24776208855037526,-0.4353156690340752,-0.6050473748801002,-0.7500083701084866,-0.8642639345423895,-0.9431364319494264,-0.9833968130186285,-0.9833968130186286,-0.9431364319494264,-0.8642639345423896,-0.7500083701084868,-0.6050473748801003,-0.43531566903407504,-0.24776208855037612,-0.05006509905061478,0.149681561486679,0.3433002413098705,0.5228641689177703,0.6810219760162454,0.8112986633999307,0.9083606881804775,0.9682343196590664,0.9884683243281114],[0.9987165071710528,0.9782727215971578,0.917778335858911,0.8197099972162247,0.6880826349756711,0.5282850888129366,0.34685948904333824,0.15123342103804616,-0.050584160993716015,-0.2503308215310089,-0.4398289088221999,-0.611320348908507,-0.7577842620834093,-0.8732243985327462,-0.9529146255066423,-0.9935924157495819,-0.993592415749582,-0.9529146255066423,-0.8732243985327464,-0.7577842620834094,-0.6113203489085071,-0.4398289088221997,-0.2503308215310098,-0.050584160993716924,0.15123342103804613,0.34685948904333824,0.5282850888129366,0.688082634975671,0.8197099972162247,0.917778335858911,0.9782727215971576,0.9987165071710528],[0.9987165071710528,0.9782727215971578,0.917778335858911,0.8197099972162247,0.6880826349756711,0.5282850888129366,0.34685948904333824,0.15123342103804616,-0.050584160993716015,-0.2503308215310089,-0.4398289088221999,-0.611320348908507,-0.7577842620834093,-0.8732243985327462,-0.9529146255066423,-0.9935924157495819,-0.993592415749582,-0.9529146255066423,-0.8732243985327464,-0.7577842620834094,-0.6113203489085071,-0.4398289088221997,-0.2503308215310098,-0.050584160993716924,0.15123342103804613,0.34685948904333824,0.5282850888129366,0.688082634975671,0.8197099972162247,0.917778335858911,0.9782727215971576,0.9987165071710528],[0.9884683243281114,0.9682343196590666,0.9083606881804775,0.8112986633999307,0.6810219760162455,0.5228641689177703,0.3433002413098705,0.14968156148667902,-0.05006509905061388,-0.24776208855037526,-0.4353156690340752,-0.6050473748801002,-0.7500083701084866,-0.8642639345423895,-0.9431364319494264,-0.9833968130186285,-0.9833968130186286,-0.9431364319494264,-0.8642639345423896,-0.7500083701084868,-0.6050473748801003,-0.43531566903407504,-0.24776208855037612,-0.05006509905061478,0.149681561486679,0.3433002413098705,0.5228641689177703,0.6810219760162454,0.8112986633999307,0.9083606881804775,0.9682343196590664,0.9884683243281114],[0.9680771188662043,0.9482605233708972,0.8896220306329049,0.7945623074346513,0.666973110012916,0.5120779551012389,0.3362182685411122,0.14659376656294323,-0.049032301442348866,-0.24265098126554038,-0.42633550140544124,-0.5925657960255083,-0.734536377332767,-0.8464349530476621,-0.9236803823329018,-0.9631102282375958,-0.963110228237596,-0.9236803823329018,-0.8464349530476621,-0.7345363773327671,-0.5925657960255084,-0.4263355014054411,-0.24265098126554124,-0.04903230144234975,0.1465937665629432,0.3362182685411122,0.5120779551012389,0.6669731100129159,0.7945623074346513,0.8896220306329049,0.948260523370897,0.9680771188662043],[0.9377521321470805,0.9185562909114312,0.8617546472000864,0.7696726669804983,0.6460801973420303,0.4960371285131793,0.32568624136111113,0.14200172122121052,-0.04749636606998025,-0.23504994655367994,-0.4129805546082762,-0.5740036902340543,-0.7115270473390809,-0.8199204035251668,-0.8947461220543758,-0.932940829218473,-0.9329408292184731,-0.8947461220543758,-0.8199204035251669,-0.711527047339081,-0.5740036902340544,-0.41298055460827604,-0.23504994655368078,-0.0474963660699811,0.1420017212212105,0.32568624136111113,0.4960371285131793,0.6460801973420301,0.7696726669804983,0.8617546472000864,0.918556290911431,0.9377521321470805],[0.8978045395707416,0.8794264279019514,0.8250444949466375,0.7368851434295961,0.6185576275602193,0.47490628974109145,0.31181223262084384,0.1359525460607172,-0.045473053708881155,-0.22503698131678093,-0.3953878684688493,-0.5495515298297006,-0.6812164869897614,-0.7849923611329225,-0.8566305557786156,-0.8931981948209156,-0.8931981948209157,-0.8566305557786156,-0.7849923611329226,-0.6812164869897616,-0.5495515298297007,-0.39538786846884916,-0.22503698131678174,-0.04547305370888197,0.13595254606071716,0.31181223262084384,0.47490628974109145,0.6185576275602191,0.7368851434295961,0.8250444949466375,0.8794264279019511,0.8978045395707416],[0.8486442574947509,0.8312724596881002,0.7798682697114517,0.6965361811421856,0.5846878194774322,0.44890226978537073,0.2947386084245192,0.12850831380445185,-0.04298312628185556,-0.2127148321278809,-0.3737379677536595,-0.519460227067256,-0.6439157236507347,-0.7420092348510668,-0.8097248007942132,-0.8442901382542201,-0.8442901382542201,-0.8097248007942132,-0.742009234851067,-0.6439157236507348,-0.5194602270672561,-0.3737379677536593,-0.21271483212788164,-0.04298312628185634,0.12850831380445182,0.2947386084245192,0.44890226978537073,0.5846878194774321,0.6965361811421856,0.7798682697114517,0.8312724596880999,0.8486442574947509],[0.7907757369376989,0.7745885111464822,0.7266895406986429,0.6490398150722055,0.544818323157772,0.4182919050798242,0.2746405672606966,0.11974541234901954,-0.040052133813714925,-0.19820994091218996,-0.348253009741041,-0.4840385594331021,-0.6000075136298567,-0.6914120897207152,-0.7545101736209366,-0.7867185223619356,-0.7867185223619357,-0.7545101736209366,-0.6914120897207153,-0.6000075136298568,-0.4840385594331022,-0.34825300974104084,-0.19820994091219069,-0.04005213381371564,0.11974541234901952,0.2746405672606966,0.4182919050798242,0.5448183231577719,0.6490398150722055,0.7266895406986429,0.7745885111464821,0.7907757369376989],[0.7247927872291202,0.7099562362947719,0.6660539936301998,0.594883422208386,0.49935825358552666,0.3833892993887722,0.2517243422287116,0.10975376092145321,-0.03671015225344884,-0.18167114748183494,-0.31919450458686144,-0.4436500011703396,-0.5499424145792428,-0.6337201209197814,-0.6915532510509116,-0.7210741098299606,-0.7210741098299607,-0.6915532510509116,-0.6337201209197814,-0.5499424145792429,-0.44365000117033965,-0.3191945045868613,-0.18167114748183558,-0.0367101522534495,0.1097537609214532,0.2517243422287116,0.3833892993887722,0.49935825358552655,0.594883422208386,0.6660539936301998,0.7099562362947717,0.7247927872291202],[0.6513724827222223,0.6380388497343898,0.5985838312720498,0.5346227204268182,0.4487740925918104,0.3445526006773767,0.22622508480799972,0.0986358873862644,-0.03299147485428927,-0.16326816223797463,-0.28686063187644295,-0.3987089935411962,-0.4942341621640558,-0.5695253261178703,-0.6215000563040348,-0.6480305011619562,-0.6480305011619562,-0.6215000563040348,-0.5695253261178703,-0.49423416216405586,-0.39870899354119627,-0.28686063187644284,-0.1632681622379752,-0.03299147485428986,0.09863588738626439,0.22622508480799972,0.3445526006773767,0.44877409259181034,0.5346227204268182,0.5985838312720498,0.6380388497343897,0.6513724827222223],[0.5712682150947923,0.5595743211712193,0.5249713887917056,0.4688760660735402,0.39358490211972574,0.3021803260288671,0.19840445188570602,0.08650587617081087,-0.028934260278526146,-0.14318982471242905,-0.2515831808985152,-0.3496766920988473,-0.4334543984393861,-0.49948643077908694,-0.5450694299555283,-0.5683372226266515,-0.5683372226266517,-0.5450694299555283,-0.499486430779087,-0.4334543984393862,-0.34967669209884733,-0.25158318089851517,-0.14318982471242958,-0.028934260278526663,0.08650587617081086,0.19840445188570602,0.3021803260288671,0.39358490211972563,0.4688760660735402,0.5249713887917056,0.5595743211712192,0.5712682150947923],[0.48530196253108104,0.4753678028477901,0.44597202946256537,0.39831810879165475,0.3343569979464232,0.25670727231998586,0.1685479208029446,0.07348819760469096,-0.024580141037995322,-0.12164216581854212,-0.2137241460381303,-0.2970562346073963,-0.36822680602921026,-0.42432212874737546,-0.46304565365889,-0.4828120351040554,-0.48281203510405546,-0.46304565365889,-0.4243221287473755,-0.3682268060292103,-0.29705623460739633,-0.21372414603813022,-0.12164216581854255,-0.024580141037995763,0.07348819760469094,0.1685479208029446,0.25670727231998586,0.33435699794642315,0.39831810879165475,0.44597202946256537,0.47536780284779,0.48530196253108104],[0.3943558551133186,0.3862833675917262,0.36239639361456,0.32367286870304546,0.27169813851688096,0.20860005461665954,0.13696185997096644,0.0597164306857267,-0.019973796288169376,-0.09884629369520637,-0.17367201222441533,-0.24138757816756154,-0.2992207082986919,-0.3448037074751332,-0.3762704023548272,-0.39233254275221946,-0.3923325427522195,-0.3762704023548272,-0.3448037074751333,-0.29922070829869196,-0.2413875781675616,-0.17367201222441528,-0.09884629369520671,-0.019973796288169733,0.059716430685726685,0.13696185997096644,0.20860005461665954,0.27169813851688096,0.32367286870304546,0.36239639361456,0.3862833675917261,0.3943558551133186],[0.29936312297335804,0.2932351422592567,0.2751020803673951,0.24570630698217039,0.2062512885198304,0.15835231807199107,0.10397038511667714,0.045331892378684895,-0.015162493359561907,-0.07503612483815092,-0.13183776854949578,-0.18324195852614406,-0.22714420119071627,-0.26174713357023,-0.2856341075473962,-0.29782718760098936,-0.2978271876009894,-0.2856341075473962,-0.26174713357023005,-0.2271442011907163,-0.18324195852614408,-0.13183776854949575,-0.07503612483815118,-0.01516249335956218,0.04533189237868489,0.10397038511667714,0.15835231807199107,0.20625128851983035,0.24570630698217039,0.2751020803673951,0.2932351422592566,0.29936312297335804],[0.20129852008866017,0.1971779275566594,0.18498484750306618,0.16521846605790075,0.13868802119997942,0.10647967245898028,0.06991203341668026,0.030482187511986194,-0.010195602730953537,-0.05045598380015558,-0.08865069096425292,-0.12321602842425973,-0.15273688720330886,-0.1760046798744322,-0.1920668202718245,-0.20026572248039515,-0.20026572248039515,-0.1920668202718245,-0.17600467987443222,-0.15273688720330889,-0.12321602842425974,-0.08865069096425289,-0.05045598380015575,-0.010195602730953721,0.03048218751198619,0.06991203341668026,0.10647967245898028,0.1386880211999794,0.16521846605790075,0.18498484750306618,0.19717792755665933,0.20129852008866017],[0.10116832198743272,0.09909740049296342,0.09296941977886204,0.08303526009557104,0.06970162710773857,0.05351440131652182,0.035136289647731515,0.015319694152424337,-0.0051240914214707245,-0.025358096090515595,-0.044553937326165007,-0.0619257351328158,-0.07676228606716426,-0.08845617999073732,-0.09652866751232977,-0.10064926004433057,-0.10064926004433059,-0.09652866751232977,-0.08845617999073734,-0.07676228606716427,-0.061925735132815816,-0.044553937326164986,-0.025358096090515685,-0.0051240914214708165,0.015319694152424335,0.035136289647731515,0.05351440131652182,0.06970162710773856,0.08303526009557104,0.09296941977886204,0.0990974004929634,0.10116832198743272],[1.2246467991473532e-16,1.1995782072238624e-16,1.125398742552172e-16,1.0051453211316578e-16,8.437411321644531e-17,6.47794082111062e-17,4.2532626622347135e-17,1.8544554302297742e-17,-6.20273424978033e-18,-3.0696082132882064e-17,-5.3932728806827134e-17,-7.496136322659406e-17,-9.292107062827812e-17,-1.070765784806782e-16,-1.1684835862911556e-16,-1.2183635324617773e-16,-1.2183635324617775e-16,-1.1684835862911556e-16,-1.0707657848067821e-16,-9.292107062827813e-17,-7.496136322659407e-17,-5.393272880682711e-17,-3.0696082132882175e-17,-6.202734249780442e-18,1.854455430229774e-17,4.2532626622347135e-17,6.47794082111062e-17,8.43741132164453e-17,1.0051453211316578e-16,1.125398742552172e-16,1.1995782072238621e-16,1.2246467991473532e-16]]}]}",
      "text/html": [
       "<div id=\"d8dd30a3-e13f-4765-80d9-50f5c6d4abad\" class=\"plotly-graph-div\"></div>\n",
       "\n",
       "<script>\n",
       "    window.PLOTLYENV=window.PLOTLYENV || {};\n",
       "    window.PLOTLYENV.BASE_URL=\"https://plot.ly\";\n",
       "    require(['plotly'], function(Plotly) {\n",
       "        Plotly.newPlot('d8dd30a3-e13f-4765-80d9-50f5c6d4abad', [{\"y\":[[0.0,0.0,0.0,0.0,0.0,0.0,0.0,0.0,0.0,0.0,0.0,0.0,0.0,0.0,0.0,0.0,0.0,0.0,0.0,0.0,0.0,0.0,0.0,0.0,0.0,0.0,0.0,0.0,0.0,0.0,0.0,0.0],[0.0,0.020365033495923144,0.03989632012773336,0.05779424672589561,0.07332607007256403,0.08585591549501426,0.09487080964945688,0.1000016817100039,0.10103847317164467,0.0979387376701218,0.09082937874107107,0.08000145437436208,0.06589826106579488,0.04909718520647715,0.030286064816131938,0.010235029373752808,-0.010235029373752738,-0.030286064816131955,-0.04909718520647713,-0.06589826106579486,-0.08000145437436205,-0.09082937874107108,-0.09793873767012178,-0.10103847317164467,-0.1000016817100039,-0.09487080964945688,-0.08585591549501427,-0.07332607007256403,-0.057794246725895615,-0.03989632012773338,-0.020365033495923255,-2.477909233940352e-17],[0.0,0.04052109418988468,0.07938325002260907,0.11499544627227203,0.14589971544015692,0.17083083311543312,0.18876811641119287,0.19897721084176648,0.2010401548816486,0.19487249135946078,0.1807267251444711,0.15918198556757834,0.13112031679845965,0.09769056685362897,0.060261353623656526,0.020365033495923255,-0.02036503349592312,-0.06026135362365656,-0.09769056685362892,-0.1311203167984596,-0.1591819855675783,-0.18072672514447113,-0.19487249135946072,-0.2010401548816486,-0.19897721084176648,-0.18876811641119287,-0.17083083311543315,-0.14589971544015692,-0.11499544627227205,-0.07938325002260911,-0.04052109418988489,-4.930391765993535e-17],[0.0,0.060261353623656505,0.1180556003495521,0.171016636926193,0.2169762322934739,0.25405279521703517,0.28072840685447503,0.29591096453110544,0.29897889255177035,0.28980658958283756,0.2687695707855549,0.2367290941812281,0.19499690064663408,0.14528151108840395,0.08961827939636186,0.030286064816132094,-0.03028606481613189,-0.08961827939636191,-0.1452815110884039,-0.19499690064663402,-0.23672909418122803,-0.26876957078555497,-0.2898065895828375,-0.29897889255177035,-0.29591096453110544,-0.28072840685447503,-0.25405279521703517,-0.2169762322934739,-0.17101663692619304,-0.11805560034955216,-0.060261353623656824,-7.332281806641565e-17],[0.0,0.07938325002260907,0.15551654046215668,0.22528296546276602,0.28582627938770516,0.3346678318513498,0.3698080439571996,0.38980827129284146,0.3938497022012272,0.38176688002611975,0.35405447692703906,0.3118470419429309,0.25687255242120727,0.19138167042211615,0.11805560034955215,0.03989632012773358,-0.03989632012773331,-0.11805560034955222,-0.19138167042211607,-0.2568725524212072,-0.3118470419429308,-0.35405447692703906,-0.38176688002611964,-0.3938497022012272,-0.38980827129284146,-0.3698080439571996,-0.33466783185134985,-0.28582627938770516,-0.22528296546276605,-0.15551654046215677,-0.0793832500226095,-9.658932713790859e-17],[0.0,0.09769056685362897,0.19138167042211615,0.27723758591713044,0.3517433620706642,0.4118487236529347,0.4550929500986838,0.4797056176962416,0.4846790809422984,0.4698097256672036,0.4357063050229945,0.3837650170578271,0.31611234420383716,0.23551799483651878,0.145281511088404,0.04909718520647742,-0.04909718520647709,-0.1452815110884041,-0.23551799483651867,-0.31611234420383705,-0.383765017057827,-0.43570630502299457,-0.46980972566720347,-0.4846790809422984,-0.4797056176962416,-0.4550929500986838,-0.41184872365293473,-0.3517433620706642,-0.2772375859171305,-0.19138167042211623,-0.09769056685362949,-1.1886469900672343e-16],[0.0,0.11499544627227203,0.22528296546276602,0.3263473735775899,0.41405108187395895,0.48480349022947167,0.5357079867329985,0.5646805353166604,0.5705349964373126,0.5530316877688056,0.5128871968245794,0.45174504378066827,0.37210839556658737,0.27723758591713044,0.17101663692619307,0.05779424672589592,-0.05779424672589554,-0.17101663692619315,-0.2772375859171303,-0.3721083955665872,-0.45174504378066815,-0.5128871968245794,-0.5530316877688055,-0.5705349964373126,-0.5646805353166604,-0.5357079867329985,-0.4848034902294717,-0.41405108187395895,-0.32634737357758997,-0.2252829654627661,-0.11499544627227265,-1.3992035821409183e-16],[0.0,0.13112031679845965,0.25687255242120727,0.37210839556658737,0.47211007727659127,0.5527835169523128,0.6108259344947012,0.6438610665098767,0.6505364508116748,0.6305787963824554,0.5848051719394756,0.5150895550456038,0.4242861112477117,0.31611234420383716,0.19499690064663416,0.06589826106579524,-0.0658982610657948,-0.19499690064663427,-0.316112344203837,-0.4242861112477116,-0.5150895550456037,-0.5848051719394757,-0.6305787963824552,-0.6505364508116748,-0.6438610665098767,-0.6108259344947012,-0.5527835169523129,-0.47211007727659127,-0.3721083955665874,-0.2568725524212074,-0.13112031679846034,-1.5954024520368682e-16],[0.0,0.14589971544015692,0.28582627938770516,0.41405108187395895,0.5253245844193564,0.6150912367556075,0.6796759815889325,0.7164347118774697,0.7238625208842387,0.7016553132357723,0.6507222546224345,0.5731485504482361,0.47211007727659127,0.3517433620706642,0.216976232293474,0.07332607007256443,-0.07332607007256393,-0.2169762322934741,-0.35174336207066403,-0.4721100772765911,-0.573148550448236,-0.6507222546224346,-0.7016553132357721,-0.7238625208842387,-0.7164347118774697,-0.6796759815889325,-0.6150912367556076,-0.5253245844193564,-0.41405108187395906,-0.2858262793877053,-0.1458997154401577,-1.775230333850461e-16],[0.0,0.15918198556757826,0.3118470419429307,0.45174504378066804,0.5731485504482359,0.6710872881183576,0.7415516333635056,0.7816567676101343,0.7897607819500335,0.7655318970839466,0.7099620464050643,0.6253262661293605,0.5150895550456036,0.38376501705782695,0.2367290941812281,0.08000145437436249,-0.08000145437436194,-0.2367290941812282,-0.3837650170578268,-0.5150895550456034,-0.6253262661293603,-0.7099620464050644,-0.7655318970839465,-0.7897607819500335,-0.7816567676101343,-0.7415516333635056,-0.6710872881183577,-0.5731485504482359,-0.45174504378066815,-0.3118470419429309,-0.15918198556757912,-1.9368419501682838e-16],[0.0,0.17083083311543312,0.3346678318513498,0.48480349022947167,0.6150912367556075,0.7201970757788171,0.7958179619000786,0.8388579671565107,0.8475550286759291,0.8215530877378676,0.7619166668594287,0.6710872881183579,0.5527835169523128,0.4118487236529347,0.2540527952170352,0.08585591549501473,-0.08585591549501415,-0.2540527952170354,-0.4118487236529345,-0.5527835169523125,-0.6710872881183577,-0.7619166668594288,-0.8215530877378675,-0.8475550286759291,-0.8388579671565107,-0.7958179619000786,-0.7201970757788172,-0.6150912367556075,-0.4848034902294718,-0.33466783185134996,-0.17083083311543404,-2.0785789471114578e-16],[0.0,0.1807267251444711,0.35405447692703906,0.5128871968245794,0.6507222546224345,0.7619166668594287,0.8419181212337907,0.8874513488036625,0.8966522138824062,0.8691440319726426,0.8060529912738312,0.7099620464050646,0.5848051719394756,0.4357063050229945,0.268769570785555,0.09082937874107157,-0.09082937874107096,-0.26876957078555513,-0.4357063050229943,-0.5848051719394753,-0.7099620464050644,-0.8060529912738313,-0.8691440319726425,-0.8966522138824062,-0.8874513488036625,-0.8419181212337907,-0.7619166668594288,-0.6507222546224345,-0.5128871968245795,-0.3540544769270392,-0.18072672514447208,-2.1989869112905438e-16],[0.0,0.18876811641119287,0.3698080439571996,0.5357079867329985,0.6796759815889325,0.7958179619000786,0.8793790613463954,0.9269382786985383,0.9365485340101397,0.9078163822995857,0.8419181212337907,0.7415516333635059,0.6108259344947012,0.4550929500986838,0.28072840685447514,0.09487080964945739,-0.09487080964945675,-0.2807284068544753,-0.45509295009868356,-0.610825934494701,-0.7415516333635057,-0.8419181212337908,-0.9078163822995855,-0.9365485340101397,-0.9269382786985383,-0.8793790613463954,-0.7958179619000787,-0.6796759815889325,-0.5357079867329986,-0.36980804395719974,-0.1887681164111939,-2.2968302940550556e-16],[0.0,0.19487249135946078,0.38176688002611975,0.5530316877688056,0.7016553132357723,0.8215530877378676,0.9078163822995857,0.9569135675060628,0.9668345988262717,0.937173308072291,0.8691440319726426,0.765531897083947,0.6305787963824554,0.4698097256672036,0.28980658958283767,0.09793873767012234,-0.09793873767012168,-0.28980658958283784,-0.46980972566720336,-0.6305787963824552,-0.7655318970839468,-0.8691440319726427,-0.9371733080722908,-0.9668345988262717,-0.9569135675060628,-0.9078163822995857,-0.8215530877378677,-0.7016553132357723,-0.5530316877688057,-0.38176688002611986,-0.19487249135946183,-2.3711050898945777e-16],[0.0,0.19897721084176648,0.38980827129284146,0.5646805353166604,0.7164347118774697,0.8388579671565107,0.9269382786985383,0.9770696282000244,0.9871996323221948,0.9569135675060628,0.8874513488036625,0.7816567676101346,0.6438610665098767,0.4797056176962416,0.29591096453110555,0.10000168171000445,-0.10000168171000377,-0.2959109645311057,-0.47970561769624137,-0.6438610665098765,-0.7816567676101344,-0.8874513488036626,-0.9569135675060626,-0.9871996323221948,-0.9770696282000244,-0.9269382786985383,-0.8388579671565108,-0.7164347118774697,-0.5646805353166605,-0.3898082712928416,-0.19897721084176756,-2.4210491388939387e-16],[0.0,0.2010401548816486,0.3938497022012272,0.5705349964373126,0.7238625208842387,0.8475550286759291,0.9365485340101397,0.9871996323221948,0.9974346616959475,0.9668345988262717,0.8966522138824062,0.7897607819500339,0.6505364508116748,0.4846790809422984,0.29897889255177046,0.10103847317164523,-0.10103847317164455,-0.2989788925517706,-0.48467908094229817,-0.6505364508116745,-0.7897607819500336,-0.8966522138824063,-0.9668345988262714,-0.9974346616959475,-0.9871996323221948,-0.9365485340101397,-0.8475550286759292,-0.7238625208842387,-0.5705349964373128,-0.3938497022012274,-0.20104015488164964,-2.4461499475253087e-16],[0.0,0.2010401548816486,0.3938497022012272,0.5705349964373126,0.7238625208842387,0.8475550286759291,0.9365485340101397,0.9871996323221948,0.9974346616959475,0.9668345988262717,0.8966522138824062,0.7897607819500339,0.6505364508116748,0.4846790809422984,0.29897889255177046,0.10103847317164523,-0.10103847317164455,-0.2989788925517706,-0.48467908094229817,-0.6505364508116745,-0.7897607819500336,-0.8966522138824063,-0.9668345988262714,-0.9974346616959475,-0.9871996323221948,-0.9365485340101397,-0.8475550286759292,-0.7238625208842387,-0.5705349964373128,-0.3938497022012274,-0.20104015488164964,-2.4461499475253087e-16],[0.0,0.19897721084176648,0.38980827129284146,0.5646805353166604,0.7164347118774697,0.8388579671565107,0.9269382786985383,0.9770696282000244,0.9871996323221948,0.9569135675060628,0.8874513488036625,0.7816567676101346,0.6438610665098767,0.4797056176962416,0.29591096453110555,0.10000168171000445,-0.10000168171000377,-0.2959109645311057,-0.47970561769624137,-0.6438610665098765,-0.7816567676101344,-0.8874513488036626,-0.9569135675060626,-0.9871996323221948,-0.9770696282000244,-0.9269382786985383,-0.8388579671565108,-0.7164347118774697,-0.5646805353166605,-0.3898082712928416,-0.19897721084176756,-2.4210491388939387e-16],[0.0,0.19487249135946078,0.38176688002611975,0.5530316877688056,0.7016553132357723,0.8215530877378676,0.9078163822995857,0.9569135675060628,0.9668345988262717,0.937173308072291,0.8691440319726426,0.765531897083947,0.6305787963824554,0.4698097256672036,0.28980658958283767,0.09793873767012234,-0.09793873767012168,-0.28980658958283784,-0.46980972566720336,-0.6305787963824552,-0.7655318970839468,-0.8691440319726427,-0.9371733080722908,-0.9668345988262717,-0.9569135675060628,-0.9078163822995857,-0.8215530877378677,-0.7016553132357723,-0.5530316877688057,-0.38176688002611986,-0.19487249135946183,-2.3711050898945777e-16],[0.0,0.1887681164111929,0.36980804395719963,0.5357079867329985,0.6796759815889326,0.7958179619000787,0.8793790613463954,0.9269382786985384,0.9365485340101398,0.9078163822995858,0.8419181212337908,0.7415516333635059,0.6108259344947014,0.45509295009868383,0.28072840685447514,0.0948708096494574,-0.09487080964945677,-0.2807284068544753,-0.4550929500986836,-0.6108259344947011,-0.7415516333635058,-0.841918121233791,-0.9078163822995856,-0.9365485340101398,-0.9269382786985384,-0.8793790613463954,-0.7958179619000788,-0.6796759815889326,-0.5357079867329986,-0.3698080439571998,-0.1887681164111939,-2.296830294055056e-16],[0.0,0.1807267251444711,0.35405447692703906,0.5128871968245794,0.6507222546224345,0.7619166668594287,0.8419181212337907,0.8874513488036625,0.8966522138824062,0.8691440319726426,0.8060529912738312,0.7099620464050646,0.5848051719394756,0.4357063050229945,0.268769570785555,0.09082937874107157,-0.09082937874107096,-0.26876957078555513,-0.4357063050229943,-0.5848051719394753,-0.7099620464050644,-0.8060529912738313,-0.8691440319726425,-0.8966522138824062,-0.8874513488036625,-0.8419181212337907,-0.7619166668594288,-0.6507222546224345,-0.5128871968245795,-0.3540544769270392,-0.18072672514447208,-2.1989869112905438e-16],[0.0,0.17083083311543312,0.3346678318513498,0.48480349022947167,0.6150912367556075,0.7201970757788171,0.7958179619000786,0.8388579671565107,0.8475550286759291,0.8215530877378676,0.7619166668594287,0.6710872881183579,0.5527835169523128,0.4118487236529347,0.2540527952170352,0.08585591549501473,-0.08585591549501415,-0.2540527952170354,-0.4118487236529345,-0.5527835169523125,-0.6710872881183577,-0.7619166668594288,-0.8215530877378675,-0.8475550286759291,-0.8388579671565107,-0.7958179619000786,-0.7201970757788172,-0.6150912367556075,-0.4848034902294718,-0.33466783185134996,-0.17083083311543404,-2.0785789471114578e-16],[0.0,0.15918198556757834,0.3118470419429309,0.45174504378066827,0.5731485504482361,0.6710872881183579,0.7415516333635059,0.7816567676101346,0.7897607819500339,0.765531897083947,0.7099620464050646,0.6253262661293607,0.5150895550456038,0.3837650170578271,0.23672909418122817,0.08000145437436251,-0.08000145437436199,-0.2367290941812283,-0.38376501705782695,-0.5150895550456036,-0.6253262661293606,-0.7099620464050647,-0.7655318970839469,-0.7897607819500339,-0.7816567676101346,-0.7415516333635059,-0.671087288118358,-0.5731485504482361,-0.4517450437806683,-0.311847041942931,-0.1591819855675792,-1.9368419501682846e-16],[0.0,0.14589971544015698,0.2858262793877053,0.41405108187395906,0.5253245844193566,0.6150912367556077,0.6796759815889327,0.7164347118774699,0.723862520884239,0.7016553132357726,0.6507222546224347,0.5731485504482363,0.47211007727659143,0.3517433620706643,0.21697623229347404,0.07332607007256445,-0.07332607007256396,-0.21697623229347415,-0.35174336207066415,-0.47211007727659127,-0.5731485504482362,-0.6507222546224348,-0.7016553132357723,-0.723862520884239,-0.7164347118774699,-0.6796759815889327,-0.6150912367556078,-0.5253245844193566,-0.41405108187395917,-0.2858262793877054,-0.14589971544015776,-1.7752303338504614e-16],[0.0,0.13112031679845965,0.25687255242120727,0.37210839556658737,0.47211007727659127,0.5527835169523128,0.6108259344947012,0.6438610665098767,0.6505364508116748,0.6305787963824554,0.5848051719394756,0.5150895550456038,0.4242861112477117,0.31611234420383716,0.19499690064663416,0.06589826106579524,-0.0658982610657948,-0.19499690064663427,-0.316112344203837,-0.4242861112477116,-0.5150895550456037,-0.5848051719394757,-0.6305787963824552,-0.6505364508116748,-0.6438610665098767,-0.6108259344947012,-0.5527835169523129,-0.47211007727659127,-0.3721083955665874,-0.2568725524212074,-0.13112031679846034,-1.5954024520368682e-16],[0.0,0.11499544627227203,0.22528296546276602,0.3263473735775899,0.41405108187395895,0.48480349022947167,0.5357079867329985,0.5646805353166604,0.5705349964373126,0.5530316877688056,0.5128871968245794,0.45174504378066827,0.37210839556658737,0.27723758591713044,0.17101663692619307,0.05779424672589592,-0.05779424672589554,-0.17101663692619315,-0.2772375859171303,-0.3721083955665872,-0.45174504378066815,-0.5128871968245794,-0.5530316877688055,-0.5705349964373126,-0.5646805353166604,-0.5357079867329985,-0.4848034902294717,-0.41405108187395895,-0.32634737357758997,-0.2252829654627661,-0.11499544627227265,-1.3992035821409183e-16],[0.0,0.09769056685362897,0.19138167042211615,0.27723758591713044,0.3517433620706642,0.4118487236529347,0.4550929500986838,0.4797056176962416,0.4846790809422984,0.4698097256672036,0.4357063050229945,0.3837650170578271,0.31611234420383716,0.23551799483651878,0.145281511088404,0.04909718520647742,-0.04909718520647709,-0.1452815110884041,-0.23551799483651867,-0.31611234420383705,-0.383765017057827,-0.43570630502299457,-0.46980972566720347,-0.4846790809422984,-0.4797056176962416,-0.4550929500986838,-0.41184872365293473,-0.3517433620706642,-0.2772375859171305,-0.19138167042211623,-0.09769056685362949,-1.1886469900672343e-16],[0.0,0.07938325002260908,0.1555165404621567,0.22528296546276605,0.2858262793877052,0.33466783185134985,0.36980804395719963,0.3898082712928415,0.3938497022012273,0.3817668800261198,0.35405447692703906,0.31184704194293095,0.2568725524212073,0.19138167042211618,0.11805560034955216,0.03989632012773359,-0.039896320127733316,-0.11805560034955223,-0.1913816704221161,-0.2568725524212072,-0.31184704194293084,-0.3540544769270391,-0.3817668800261197,-0.3938497022012273,-0.3898082712928415,-0.36980804395719963,-0.3346678318513499,-0.2858262793877052,-0.22528296546276608,-0.1555165404621568,-0.07938325002260951,-9.65893271379086e-17],[0.0,0.060261353623656526,0.11805560034955215,0.17101663692619307,0.216976232293474,0.2540527952170352,0.28072840685447514,0.29591096453110555,0.29897889255177046,0.28980658958283767,0.268769570785555,0.23672909418122817,0.19499690064663416,0.145281511088404,0.08961827939636188,0.030286064816132104,-0.030286064816131903,-0.08961827939636194,-0.14528151108840395,-0.19499690064663408,-0.23672909418122812,-0.268769570785555,-0.2898065895828376,-0.29897889255177046,-0.29591096453110555,-0.28072840685447514,-0.2540527952170353,-0.216976232293474,-0.1710166369261931,-0.1180556003495522,-0.06026135362365685,-7.332281806641568e-17],[0.0,0.0405210941898847,0.07938325002260911,0.1149954462722721,0.145899715440157,0.1708308331154332,0.18876811641119298,0.1989772108417666,0.2010401548816487,0.1948724913594609,0.18072672514447122,0.15918198556757843,0.1311203167984597,0.09769056685362902,0.06026135362365656,0.020365033495923265,-0.02036503349592313,-0.060261353623656595,-0.09769056685362898,-0.13112031679845967,-0.15918198556757837,-0.18072672514447125,-0.19487249135946083,-0.2010401548816487,-0.1989772108417666,-0.18876811641119298,-0.17083083311543323,-0.145899715440157,-0.11499544627227211,-0.07938325002260915,-0.04052109418988492,-4.930391765993537e-17],[0.0,0.020365033495923255,0.03989632012773358,0.05779424672589592,0.07332607007256443,0.08585591549501473,0.09487080964945739,0.10000168171000445,0.10103847317164523,0.09793873767012234,0.09082937874107157,0.08000145437436251,0.06589826106579524,0.04909718520647742,0.030286064816132104,0.010235029373752863,-0.010235029373752794,-0.03028606481613212,-0.0490971852064774,-0.06589826106579522,-0.0800014543743625,-0.09082937874107158,-0.09793873767012232,-0.10103847317164523,-0.10000168171000445,-0.09487080964945739,-0.08585591549501474,-0.07332607007256443,-0.057794246725895934,-0.039896320127733594,-0.020365033495923366,-2.4779092339403656e-17],[0.0,2.4651958829967673e-17,4.829466356895429e-17,6.996017910704591e-17,8.876151669252305e-17,1.0392894735557289e-16,1.1484151470275278e-16,1.2105245694469694e-16,1.2230749737626543e-16,1.1855525449472888e-16,1.0994934556452719e-16,9.684209750841423e-17,7.977012260184341e-17,5.943234950336172e-17,3.666140903320784e-17,1.2389546169701828e-17,-1.2389546169701745e-17,-3.666140903320786e-17,-5.943234950336169e-17,-7.977012260184339e-17,-9.68420975084142e-17,-1.099493455645272e-16,-1.1855525449472886e-16,-1.2230749737626543e-16,-1.2105245694469694e-16,-1.1484151470275278e-16,-1.039289473555729e-16,-8.876151669252305e-17,-6.996017910704593e-17,-4.829466356895432e-17,-2.4651958829967806e-17,-2.999519565323715e-32]],\"type\":\"surface\",\"z\":[[1.0,1.0,1.0,1.0,1.0,1.0,1.0,1.0,1.0,1.0,1.0,1.0,1.0,1.0,1.0,1.0,1.0,1.0,1.0,1.0,1.0,1.0,1.0,1.0,1.0,1.0,1.0,1.0,1.0,1.0,1.0,1.0],[0.9948693233918952,0.9948693233918952,0.9948693233918952,0.9948693233918952,0.9948693233918952,0.9948693233918952,0.9948693233918952,0.9948693233918952,0.9948693233918952,0.9948693233918952,0.9948693233918952,0.9948693233918952,0.9948693233918952,0.9948693233918952,0.9948693233918952,0.9948693233918952,0.9948693233918952,0.9948693233918952,0.9948693233918952,0.9948693233918952,0.9948693233918952,0.9948693233918952,0.9948693233918952,0.9948693233918952,0.9948693233918952,0.9948693233918952,0.9948693233918952,0.9948693233918952,0.9948693233918952,0.9948693233918952,0.9948693233918952,0.9948693233918952],[0.9795299412524945,0.9795299412524945,0.9795299412524945,0.9795299412524945,0.9795299412524945,0.9795299412524945,0.9795299412524945,0.9795299412524945,0.9795299412524945,0.9795299412524945,0.9795299412524945,0.9795299412524945,0.9795299412524945,0.9795299412524945,0.9795299412524945,0.9795299412524945,0.9795299412524945,0.9795299412524945,0.9795299412524945,0.9795299412524945,0.9795299412524945,0.9795299412524945,0.9795299412524945,0.9795299412524945,0.9795299412524945,0.9795299412524945,0.9795299412524945,0.9795299412524945,0.9795299412524945,0.9795299412524945,0.9795299412524945,0.9795299412524945],[0.9541392564000488,0.9541392564000488,0.9541392564000488,0.9541392564000488,0.9541392564000488,0.9541392564000488,0.9541392564000488,0.9541392564000488,0.9541392564000488,0.9541392564000488,0.9541392564000488,0.9541392564000488,0.9541392564000488,0.9541392564000488,0.9541392564000488,0.9541392564000488,0.9541392564000488,0.9541392564000488,0.9541392564000488,0.9541392564000488,0.9541392564000488,0.9541392564000488,0.9541392564000488,0.9541392564000488,0.9541392564000488,0.9541392564000488,0.9541392564000488,0.9541392564000488,0.9541392564000488,0.9541392564000488,0.9541392564000488,0.9541392564000488],[0.9189578116202306,0.9189578116202306,0.9189578116202306,0.9189578116202306,0.9189578116202306,0.9189578116202306,0.9189578116202306,0.9189578116202306,0.9189578116202306,0.9189578116202306,0.9189578116202306,0.9189578116202306,0.9189578116202306,0.9189578116202306,0.9189578116202306,0.9189578116202306,0.9189578116202306,0.9189578116202306,0.9189578116202306,0.9189578116202306,0.9189578116202306,0.9189578116202306,0.9189578116202306,0.9189578116202306,0.9189578116202306,0.9189578116202306,0.9189578116202306,0.9189578116202306,0.9189578116202306,0.9189578116202306,0.9189578116202306,0.9189578116202306],[0.8743466161445821,0.8743466161445821,0.8743466161445821,0.8743466161445821,0.8743466161445821,0.8743466161445821,0.8743466161445821,0.8743466161445821,0.8743466161445821,0.8743466161445821,0.8743466161445821,0.8743466161445821,0.8743466161445821,0.8743466161445821,0.8743466161445821,0.8743466161445821,0.8743466161445821,0.8743466161445821,0.8743466161445821,0.8743466161445821,0.8743466161445821,0.8743466161445821,0.8743466161445821,0.8743466161445821,0.8743466161445821,0.8743466161445821,0.8743466161445821,0.8743466161445821,0.8743466161445821,0.8743466161445821,0.8743466161445821,0.8743466161445821],[0.8207634412072763,0.8207634412072763,0.8207634412072763,0.8207634412072763,0.8207634412072763,0.8207634412072763,0.8207634412072763,0.8207634412072763,0.8207634412072763,0.8207634412072763,0.8207634412072763,0.8207634412072763,0.8207634412072763,0.8207634412072763,0.8207634412072763,0.8207634412072763,0.8207634412072763,0.8207634412072763,0.8207634412072763,0.8207634412072763,0.8207634412072763,0.8207634412072763,0.8207634412072763,0.8207634412072763,0.8207634412072763,0.8207634412072763,0.8207634412072763,0.8207634412072763,0.8207634412072763,0.8207634412072763,0.8207634412072763,0.8207634412072763],[0.758758122692791,0.758758122692791,0.758758122692791,0.758758122692791,0.758758122692791,0.758758122692791,0.758758122692791,0.758758122692791,0.758758122692791,0.758758122692791,0.758758122692791,0.758758122692791,0.758758122692791,0.758758122692791,0.758758122692791,0.758758122692791,0.758758122692791,0.758758122692791,0.758758122692791,0.758758122692791,0.758758122692791,0.758758122692791,0.758758122692791,0.758758122692791,0.758758122692791,0.758758122692791,0.758758122692791,0.758758122692791,0.758758122692791,0.758758122692791,0.758758122692791,0.758758122692791],[0.6889669190756866,0.6889669190756866,0.6889669190756866,0.6889669190756866,0.6889669190756866,0.6889669190756866,0.6889669190756866,0.6889669190756866,0.6889669190756866,0.6889669190756866,0.6889669190756866,0.6889669190756866,0.6889669190756866,0.6889669190756866,0.6889669190756866,0.6889669190756866,0.6889669190756866,0.6889669190756866,0.6889669190756866,0.6889669190756866,0.6889669190756866,0.6889669190756866,0.6889669190756866,0.6889669190756866,0.6889669190756866,0.6889669190756866,0.6889669190756866,0.6889669190756866,0.6889669190756866,0.6889669190756866,0.6889669190756866,0.6889669190756866],[0.6121059825476629,0.6121059825476629,0.6121059825476629,0.6121059825476629,0.6121059825476629,0.6121059825476629,0.6121059825476629,0.6121059825476629,0.6121059825476629,0.6121059825476629,0.6121059825476629,0.6121059825476629,0.6121059825476629,0.6121059825476629,0.6121059825476629,0.6121059825476629,0.6121059825476629,0.6121059825476629,0.6121059825476629,0.6121059825476629,0.6121059825476629,0.6121059825476629,0.6121059825476629,0.6121059825476629,0.6121059825476629,0.6121059825476629,0.6121059825476629,0.6121059825476629,0.6121059825476629,0.6121059825476629,0.6121059825476629,0.6121059825476629],[0.5289640103269624,0.5289640103269624,0.5289640103269624,0.5289640103269624,0.5289640103269624,0.5289640103269624,0.5289640103269624,0.5289640103269624,0.5289640103269624,0.5289640103269624,0.5289640103269624,0.5289640103269624,0.5289640103269624,0.5289640103269624,0.5289640103269624,0.5289640103269624,0.5289640103269624,0.5289640103269624,0.5289640103269624,0.5289640103269624,0.5289640103269624,0.5289640103269624,0.5289640103269624,0.5289640103269624,0.5289640103269624,0.5289640103269624,0.5289640103269624,0.5289640103269624,0.5289640103269624,0.5289640103269624,0.5289640103269624,0.5289640103269624],[0.4403941515576345,0.4403941515576345,0.4403941515576345,0.4403941515576345,0.4403941515576345,0.4403941515576345,0.4403941515576345,0.4403941515576345,0.4403941515576345,0.4403941515576345,0.4403941515576345,0.4403941515576345,0.4403941515576345,0.4403941515576345,0.4403941515576345,0.4403941515576345,0.4403941515576345,0.4403941515576345,0.4403941515576345,0.4403941515576345,0.4403941515576345,0.4403941515576345,0.4403941515576345,0.4403941515576345,0.4403941515576345,0.4403941515576345,0.4403941515576345,0.4403941515576345,0.4403941515576345,0.4403941515576345,0.4403941515576345,0.4403941515576345],[0.3473052528448203,0.3473052528448203,0.3473052528448203,0.3473052528448203,0.3473052528448203,0.3473052528448203,0.3473052528448203,0.3473052528448203,0.3473052528448203,0.3473052528448203,0.3473052528448203,0.3473052528448203,0.3473052528448203,0.3473052528448203,0.3473052528448203,0.3473052528448203,0.3473052528448203,0.3473052528448203,0.3473052528448203,0.3473052528448203,0.3473052528448203,0.3473052528448203,0.3473052528448203,0.3473052528448203,0.3473052528448203,0.3473052528448203,0.3473052528448203,0.3473052528448203,0.3473052528448203,0.3473052528448203,0.3473052528448203,0.3473052528448203],[0.25065253225872053,0.25065253225872053,0.25065253225872053,0.25065253225872053,0.25065253225872053,0.25065253225872053,0.25065253225872053,0.25065253225872053,0.25065253225872053,0.25065253225872053,0.25065253225872053,0.25065253225872053,0.25065253225872053,0.25065253225872053,0.25065253225872053,0.25065253225872053,0.25065253225872053,0.25065253225872053,0.25065253225872053,0.25065253225872053,0.25065253225872053,0.25065253225872053,0.25065253225872053,0.25065253225872053,0.25065253225872053,0.25065253225872053,0.25065253225872053,0.25065253225872053,0.25065253225872053,0.25065253225872053,0.25065253225872053,0.25065253225872053],[0.1514277775045767,0.1514277775045767,0.1514277775045767,0.1514277775045767,0.1514277775045767,0.1514277775045767,0.1514277775045767,0.1514277775045767,0.1514277775045767,0.1514277775045767,0.1514277775045767,0.1514277775045767,0.1514277775045767,0.1514277775045767,0.1514277775045767,0.1514277775045767,0.1514277775045767,0.1514277775045767,0.1514277775045767,0.1514277775045767,0.1514277775045767,0.1514277775045767,0.1514277775045767,0.1514277775045767,0.1514277775045767,0.1514277775045767,0.1514277775045767,0.1514277775045767,0.1514277775045767,0.1514277775045767,0.1514277775045767,0.1514277775045767],[0.05064916883871299,0.05064916883871299,0.05064916883871299,0.05064916883871299,0.05064916883871299,0.05064916883871299,0.05064916883871299,0.05064916883871299,0.05064916883871299,0.05064916883871299,0.05064916883871299,0.05064916883871299,0.05064916883871299,0.05064916883871299,0.05064916883871299,0.05064916883871299,0.05064916883871299,0.05064916883871299,0.05064916883871299,0.05064916883871299,0.05064916883871299,0.05064916883871299,0.05064916883871299,0.05064916883871299,0.05064916883871299,0.05064916883871299,0.05064916883871299,0.05064916883871299,0.05064916883871299,0.05064916883871299,0.05064916883871299,0.05064916883871299],[-0.05064916883871264,-0.05064916883871264,-0.05064916883871264,-0.05064916883871264,-0.05064916883871264,-0.05064916883871264,-0.05064916883871264,-0.05064916883871264,-0.05064916883871264,-0.05064916883871264,-0.05064916883871264,-0.05064916883871264,-0.05064916883871264,-0.05064916883871264,-0.05064916883871264,-0.05064916883871264,-0.05064916883871264,-0.05064916883871264,-0.05064916883871264,-0.05064916883871264,-0.05064916883871264,-0.05064916883871264,-0.05064916883871264,-0.05064916883871264,-0.05064916883871264,-0.05064916883871264,-0.05064916883871264,-0.05064916883871264,-0.05064916883871264,-0.05064916883871264,-0.05064916883871264,-0.05064916883871264],[-0.15142777750457678,-0.15142777750457678,-0.15142777750457678,-0.15142777750457678,-0.15142777750457678,-0.15142777750457678,-0.15142777750457678,-0.15142777750457678,-0.15142777750457678,-0.15142777750457678,-0.15142777750457678,-0.15142777750457678,-0.15142777750457678,-0.15142777750457678,-0.15142777750457678,-0.15142777750457678,-0.15142777750457678,-0.15142777750457678,-0.15142777750457678,-0.15142777750457678,-0.15142777750457678,-0.15142777750457678,-0.15142777750457678,-0.15142777750457678,-0.15142777750457678,-0.15142777750457678,-0.15142777750457678,-0.15142777750457678,-0.15142777750457678,-0.15142777750457678,-0.15142777750457678,-0.15142777750457678],[-0.2506525322587204,-0.2506525322587204,-0.2506525322587204,-0.2506525322587204,-0.2506525322587204,-0.2506525322587204,-0.2506525322587204,-0.2506525322587204,-0.2506525322587204,-0.2506525322587204,-0.2506525322587204,-0.2506525322587204,-0.2506525322587204,-0.2506525322587204,-0.2506525322587204,-0.2506525322587204,-0.2506525322587204,-0.2506525322587204,-0.2506525322587204,-0.2506525322587204,-0.2506525322587204,-0.2506525322587204,-0.2506525322587204,-0.2506525322587204,-0.2506525322587204,-0.2506525322587204,-0.2506525322587204,-0.2506525322587204,-0.2506525322587204,-0.2506525322587204,-0.2506525322587204,-0.2506525322587204],[-0.34730525284482017,-0.34730525284482017,-0.34730525284482017,-0.34730525284482017,-0.34730525284482017,-0.34730525284482017,-0.34730525284482017,-0.34730525284482017,-0.34730525284482017,-0.34730525284482017,-0.34730525284482017,-0.34730525284482017,-0.34730525284482017,-0.34730525284482017,-0.34730525284482017,-0.34730525284482017,-0.34730525284482017,-0.34730525284482017,-0.34730525284482017,-0.34730525284482017,-0.34730525284482017,-0.34730525284482017,-0.34730525284482017,-0.34730525284482017,-0.34730525284482017,-0.34730525284482017,-0.34730525284482017,-0.34730525284482017,-0.34730525284482017,-0.34730525284482017,-0.34730525284482017,-0.34730525284482017],[-0.4403941515576344,-0.4403941515576344,-0.4403941515576344,-0.4403941515576344,-0.4403941515576344,-0.4403941515576344,-0.4403941515576344,-0.4403941515576344,-0.4403941515576344,-0.4403941515576344,-0.4403941515576344,-0.4403941515576344,-0.4403941515576344,-0.4403941515576344,-0.4403941515576344,-0.4403941515576344,-0.4403941515576344,-0.4403941515576344,-0.4403941515576344,-0.4403941515576344,-0.4403941515576344,-0.4403941515576344,-0.4403941515576344,-0.4403941515576344,-0.4403941515576344,-0.4403941515576344,-0.4403941515576344,-0.4403941515576344,-0.4403941515576344,-0.4403941515576344,-0.4403941515576344,-0.4403941515576344],[-0.5289640103269625,-0.5289640103269625,-0.5289640103269625,-0.5289640103269625,-0.5289640103269625,-0.5289640103269625,-0.5289640103269625,-0.5289640103269625,-0.5289640103269625,-0.5289640103269625,-0.5289640103269625,-0.5289640103269625,-0.5289640103269625,-0.5289640103269625,-0.5289640103269625,-0.5289640103269625,-0.5289640103269625,-0.5289640103269625,-0.5289640103269625,-0.5289640103269625,-0.5289640103269625,-0.5289640103269625,-0.5289640103269625,-0.5289640103269625,-0.5289640103269625,-0.5289640103269625,-0.5289640103269625,-0.5289640103269625,-0.5289640103269625,-0.5289640103269625,-0.5289640103269625,-0.5289640103269625],[-0.6121059825476626,-0.6121059825476626,-0.6121059825476626,-0.6121059825476626,-0.6121059825476626,-0.6121059825476626,-0.6121059825476626,-0.6121059825476626,-0.6121059825476626,-0.6121059825476626,-0.6121059825476626,-0.6121059825476626,-0.6121059825476626,-0.6121059825476626,-0.6121059825476626,-0.6121059825476626,-0.6121059825476626,-0.6121059825476626,-0.6121059825476626,-0.6121059825476626,-0.6121059825476626,-0.6121059825476626,-0.6121059825476626,-0.6121059825476626,-0.6121059825476626,-0.6121059825476626,-0.6121059825476626,-0.6121059825476626,-0.6121059825476626,-0.6121059825476626,-0.6121059825476626,-0.6121059825476626],[-0.6889669190756863,-0.6889669190756863,-0.6889669190756863,-0.6889669190756863,-0.6889669190756863,-0.6889669190756863,-0.6889669190756863,-0.6889669190756863,-0.6889669190756863,-0.6889669190756863,-0.6889669190756863,-0.6889669190756863,-0.6889669190756863,-0.6889669190756863,-0.6889669190756863,-0.6889669190756863,-0.6889669190756863,-0.6889669190756863,-0.6889669190756863,-0.6889669190756863,-0.6889669190756863,-0.6889669190756863,-0.6889669190756863,-0.6889669190756863,-0.6889669190756863,-0.6889669190756863,-0.6889669190756863,-0.6889669190756863,-0.6889669190756863,-0.6889669190756863,-0.6889669190756863,-0.6889669190756863],[-0.758758122692791,-0.758758122692791,-0.758758122692791,-0.758758122692791,-0.758758122692791,-0.758758122692791,-0.758758122692791,-0.758758122692791,-0.758758122692791,-0.758758122692791,-0.758758122692791,-0.758758122692791,-0.758758122692791,-0.758758122692791,-0.758758122692791,-0.758758122692791,-0.758758122692791,-0.758758122692791,-0.758758122692791,-0.758758122692791,-0.758758122692791,-0.758758122692791,-0.758758122692791,-0.758758122692791,-0.758758122692791,-0.758758122692791,-0.758758122692791,-0.758758122692791,-0.758758122692791,-0.758758122692791,-0.758758122692791,-0.758758122692791],[-0.8207634412072763,-0.8207634412072763,-0.8207634412072763,-0.8207634412072763,-0.8207634412072763,-0.8207634412072763,-0.8207634412072763,-0.8207634412072763,-0.8207634412072763,-0.8207634412072763,-0.8207634412072763,-0.8207634412072763,-0.8207634412072763,-0.8207634412072763,-0.8207634412072763,-0.8207634412072763,-0.8207634412072763,-0.8207634412072763,-0.8207634412072763,-0.8207634412072763,-0.8207634412072763,-0.8207634412072763,-0.8207634412072763,-0.8207634412072763,-0.8207634412072763,-0.8207634412072763,-0.8207634412072763,-0.8207634412072763,-0.8207634412072763,-0.8207634412072763,-0.8207634412072763,-0.8207634412072763],[-0.8743466161445821,-0.8743466161445821,-0.8743466161445821,-0.8743466161445821,-0.8743466161445821,-0.8743466161445821,-0.8743466161445821,-0.8743466161445821,-0.8743466161445821,-0.8743466161445821,-0.8743466161445821,-0.8743466161445821,-0.8743466161445821,-0.8743466161445821,-0.8743466161445821,-0.8743466161445821,-0.8743466161445821,-0.8743466161445821,-0.8743466161445821,-0.8743466161445821,-0.8743466161445821,-0.8743466161445821,-0.8743466161445821,-0.8743466161445821,-0.8743466161445821,-0.8743466161445821,-0.8743466161445821,-0.8743466161445821,-0.8743466161445821,-0.8743466161445821,-0.8743466161445821,-0.8743466161445821],[-0.9189578116202306,-0.9189578116202306,-0.9189578116202306,-0.9189578116202306,-0.9189578116202306,-0.9189578116202306,-0.9189578116202306,-0.9189578116202306,-0.9189578116202306,-0.9189578116202306,-0.9189578116202306,-0.9189578116202306,-0.9189578116202306,-0.9189578116202306,-0.9189578116202306,-0.9189578116202306,-0.9189578116202306,-0.9189578116202306,-0.9189578116202306,-0.9189578116202306,-0.9189578116202306,-0.9189578116202306,-0.9189578116202306,-0.9189578116202306,-0.9189578116202306,-0.9189578116202306,-0.9189578116202306,-0.9189578116202306,-0.9189578116202306,-0.9189578116202306,-0.9189578116202306,-0.9189578116202306],[-0.9541392564000488,-0.9541392564000488,-0.9541392564000488,-0.9541392564000488,-0.9541392564000488,-0.9541392564000488,-0.9541392564000488,-0.9541392564000488,-0.9541392564000488,-0.9541392564000488,-0.9541392564000488,-0.9541392564000488,-0.9541392564000488,-0.9541392564000488,-0.9541392564000488,-0.9541392564000488,-0.9541392564000488,-0.9541392564000488,-0.9541392564000488,-0.9541392564000488,-0.9541392564000488,-0.9541392564000488,-0.9541392564000488,-0.9541392564000488,-0.9541392564000488,-0.9541392564000488,-0.9541392564000488,-0.9541392564000488,-0.9541392564000488,-0.9541392564000488,-0.9541392564000488,-0.9541392564000488],[-0.9795299412524945,-0.9795299412524945,-0.9795299412524945,-0.9795299412524945,-0.9795299412524945,-0.9795299412524945,-0.9795299412524945,-0.9795299412524945,-0.9795299412524945,-0.9795299412524945,-0.9795299412524945,-0.9795299412524945,-0.9795299412524945,-0.9795299412524945,-0.9795299412524945,-0.9795299412524945,-0.9795299412524945,-0.9795299412524945,-0.9795299412524945,-0.9795299412524945,-0.9795299412524945,-0.9795299412524945,-0.9795299412524945,-0.9795299412524945,-0.9795299412524945,-0.9795299412524945,-0.9795299412524945,-0.9795299412524945,-0.9795299412524945,-0.9795299412524945,-0.9795299412524945,-0.9795299412524945],[-0.994869323391895,-0.994869323391895,-0.994869323391895,-0.994869323391895,-0.994869323391895,-0.994869323391895,-0.994869323391895,-0.994869323391895,-0.994869323391895,-0.994869323391895,-0.994869323391895,-0.994869323391895,-0.994869323391895,-0.994869323391895,-0.994869323391895,-0.994869323391895,-0.994869323391895,-0.994869323391895,-0.994869323391895,-0.994869323391895,-0.994869323391895,-0.994869323391895,-0.994869323391895,-0.994869323391895,-0.994869323391895,-0.994869323391895,-0.994869323391895,-0.994869323391895,-0.994869323391895,-0.994869323391895,-0.994869323391895,-0.994869323391895],[-1.0,-1.0,-1.0,-1.0,-1.0,-1.0,-1.0,-1.0,-1.0,-1.0,-1.0,-1.0,-1.0,-1.0,-1.0,-1.0,-1.0,-1.0,-1.0,-1.0,-1.0,-1.0,-1.0,-1.0,-1.0,-1.0,-1.0,-1.0,-1.0,-1.0,-1.0,-1.0]],\"x\":[[0.0,0.0,0.0,0.0,0.0,0.0,0.0,0.0,0.0,0.0,0.0,0.0,0.0,0.0,0.0,0.0,0.0,0.0,0.0,0.0,0.0,0.0,0.0,0.0,0.0,0.0,0.0,0.0,0.0,0.0,0.0,0.0],[0.10116832198743217,0.09909740049296288,0.09296941977886153,0.08303526009557058,0.06970162710773818,0.05351440131652153,0.03513628964773132,0.015319694152424254,-0.005124091421470697,-0.025358096090515456,-0.04455393732616476,-0.06192573513281546,-0.07676228606716384,-0.08845617999073684,-0.09652866751232923,-0.10064926004433002,-0.10064926004433003,-0.09652866751232923,-0.08845617999073685,-0.07676228606716386,-0.061925735132815476,-0.04455393732616474,-0.025358096090515547,-0.005124091421470789,0.01531969415242425,0.03513628964773132,0.05351440131652153,0.06970162710773818,0.08303526009557058,0.09296941977886153,0.09909740049296285,0.10116832198743217],[0.20129852008866006,0.19717792755665928,0.18498484750306607,0.16521846605790066,0.13868802119997933,0.10647967245898023,0.06991203341668022,0.03048218751198618,-0.010195602730953532,-0.05045598380015555,-0.08865069096425288,-0.12321602842425966,-0.15273688720330877,-0.1760046798744321,-0.1920668202718244,-0.20026572248039504,-0.20026572248039504,-0.1920668202718244,-0.17600467987443214,-0.1527368872033088,-0.12321602842425969,-0.08865069096425283,-0.05045598380015572,-0.010195602730953716,0.030482187511986173,0.06991203341668022,0.10647967245898023,0.1386880211999793,0.16521846605790066,0.18498484750306607,0.19717792755665922,0.20129852008866006],[0.29936312297335793,0.29323514225925656,0.275102080367395,0.24570630698217027,0.20625128851983032,0.15835231807199102,0.1039703851166771,0.04533189237868488,-0.015162493359561902,-0.07503612483815089,-0.13183776854949575,-0.183241958526144,-0.22714420119071618,-0.2617471335702299,-0.2856341075473961,-0.29782718760098925,-0.2978271876009893,-0.2856341075473961,-0.26174713357022994,-0.2271442011907162,-0.18324195852614403,-0.1318377685494957,-0.07503612483815116,-0.015162493359562173,0.04533189237868487,0.1039703851166771,0.15835231807199102,0.2062512885198303,0.24570630698217027,0.275102080367395,0.2932351422592565,0.29936312297335793],[0.39435585511331855,0.38628336759172616,0.36239639361455994,0.3236728687030454,0.27169813851688096,0.2086000546166595,0.1369618599709664,0.059716430685726685,-0.019973796288169372,-0.09884629369520635,-0.17367201222441533,-0.2413875781675615,-0.29922070829869185,-0.34480370747513317,-0.37627040235482717,-0.3923325427522194,-0.39233254275221946,-0.37627040235482717,-0.3448037074751332,-0.2992207082986919,-0.24138757816756157,-0.17367201222441525,-0.0988462936952067,-0.01997379628816973,0.05971643068572668,0.1369618599709664,0.2086000546166595,0.2716981385168809,0.3236728687030454,0.36239639361455994,0.38628336759172605,0.39435585511331855],[0.48530196253108104,0.4753678028477901,0.44597202946256537,0.39831810879165475,0.3343569979464232,0.25670727231998586,0.1685479208029446,0.07348819760469096,-0.024580141037995322,-0.12164216581854212,-0.2137241460381303,-0.2970562346073963,-0.36822680602921026,-0.42432212874737546,-0.46304565365889,-0.4828120351040554,-0.48281203510405546,-0.46304565365889,-0.4243221287473755,-0.3682268060292103,-0.29705623460739633,-0.21372414603813022,-0.12164216581854255,-0.024580141037995763,0.07348819760469094,0.1685479208029446,0.25670727231998586,0.33435699794642315,0.39831810879165475,0.44597202946256537,0.47536780284779,0.48530196253108104],[0.5712682150947923,0.5595743211712193,0.5249713887917056,0.4688760660735402,0.39358490211972574,0.3021803260288671,0.19840445188570602,0.08650587617081087,-0.028934260278526146,-0.14318982471242905,-0.2515831808985152,-0.3496766920988473,-0.4334543984393861,-0.49948643077908694,-0.5450694299555283,-0.5683372226266515,-0.5683372226266517,-0.5450694299555283,-0.499486430779087,-0.4334543984393862,-0.34967669209884733,-0.25158318089851517,-0.14318982471242958,-0.028934260278526663,0.08650587617081086,0.19840445188570602,0.3021803260288671,0.39358490211972563,0.4688760660735402,0.5249713887917056,0.5595743211712192,0.5712682150947923],[0.6513724827222223,0.6380388497343898,0.5985838312720498,0.5346227204268182,0.4487740925918104,0.3445526006773767,0.22622508480799972,0.0986358873862644,-0.03299147485428927,-0.16326816223797463,-0.28686063187644295,-0.3987089935411962,-0.4942341621640558,-0.5695253261178703,-0.6215000563040348,-0.6480305011619562,-0.6480305011619562,-0.6215000563040348,-0.5695253261178703,-0.49423416216405586,-0.39870899354119627,-0.28686063187644284,-0.1632681622379752,-0.03299147485428986,0.09863588738626439,0.22622508480799972,0.3445526006773767,0.44877409259181034,0.5346227204268182,0.5985838312720498,0.6380388497343897,0.6513724827222223],[0.72479278722912,0.7099562362947717,0.6660539936301996,0.5948834222083857,0.4993582535855265,0.3833892993887721,0.25172434222871154,0.10975376092145318,-0.03671015225344883,-0.18167114748183488,-0.3191945045868613,-0.4436500011703394,-0.5499424145792425,-0.6337201209197811,-0.6915532510509114,-0.7210741098299603,-0.7210741098299605,-0.6915532510509114,-0.6337201209197812,-0.5499424145792426,-0.44365000117033954,-0.3191945045868612,-0.18167114748183552,-0.036710152253449486,0.10975376092145317,0.25172434222871154,0.3833892993887721,0.4993582535855264,0.5948834222083857,0.6660539936301996,0.7099562362947714,0.72479278722912],[0.7907757369376985,0.7745885111464819,0.7266895406986426,0.6490398150722053,0.5448183231577718,0.41829190507982406,0.27464056726069647,0.11974541234901949,-0.040052133813714905,-0.19820994091218988,-0.34825300974104084,-0.4840385594331019,-0.6000075136298565,-0.6914120897207149,-0.7545101736209363,-0.7867185223619353,-0.7867185223619354,-0.7545101736209363,-0.691412089720715,-0.6000075136298566,-0.484038559433102,-0.34825300974104073,-0.1982099409121906,-0.040052133813715626,0.11974541234901946,0.27464056726069647,0.41829190507982406,0.5448183231577717,0.6490398150722053,0.7266895406986426,0.7745885111464818,0.7907757369376985],[0.8486442574947509,0.8312724596881002,0.7798682697114517,0.6965361811421856,0.5846878194774322,0.44890226978537073,0.2947386084245192,0.12850831380445185,-0.04298312628185556,-0.2127148321278809,-0.3737379677536595,-0.519460227067256,-0.6439157236507347,-0.7420092348510668,-0.8097248007942132,-0.8442901382542201,-0.8442901382542201,-0.8097248007942132,-0.742009234851067,-0.6439157236507348,-0.5194602270672561,-0.3737379677536593,-0.21271483212788164,-0.04298312628185634,0.12850831380445182,0.2947386084245192,0.44890226978537073,0.5846878194774321,0.6965361811421856,0.7798682697114517,0.8312724596880999,0.8486442574947509],[0.8978045395707416,0.8794264279019514,0.8250444949466375,0.7368851434295961,0.6185576275602193,0.47490628974109145,0.31181223262084384,0.1359525460607172,-0.045473053708881155,-0.22503698131678093,-0.3953878684688493,-0.5495515298297006,-0.6812164869897614,-0.7849923611329225,-0.8566305557786156,-0.8931981948209156,-0.8931981948209157,-0.8566305557786156,-0.7849923611329226,-0.6812164869897616,-0.5495515298297007,-0.39538786846884916,-0.22503698131678174,-0.04547305370888197,0.13595254606071716,0.31181223262084384,0.47490628974109145,0.6185576275602191,0.7368851434295961,0.8250444949466375,0.8794264279019511,0.8978045395707416],[0.9377521321470804,0.9185562909114311,0.8617546472000863,0.7696726669804982,0.6460801973420301,0.49603712851317927,0.3256862413611111,0.1420017212212105,-0.04749636606998025,-0.23504994655367992,-0.41298055460827615,-0.5740036902340542,-0.7115270473390808,-0.8199204035251667,-0.8947461220543756,-0.9329408292184729,-0.932940829218473,-0.8947461220543756,-0.8199204035251668,-0.7115270473390809,-0.5740036902340543,-0.412980554608276,-0.23504994655368075,-0.047496366069981096,0.14200172122121046,0.3256862413611111,0.49603712851317927,0.64608019734203,0.7696726669804982,0.8617546472000863,0.9185562909114309,0.9377521321470804],[0.9680771188662043,0.9482605233708972,0.8896220306329049,0.7945623074346513,0.666973110012916,0.5120779551012389,0.3362182685411122,0.14659376656294323,-0.049032301442348866,-0.24265098126554038,-0.42633550140544124,-0.5925657960255083,-0.734536377332767,-0.8464349530476621,-0.9236803823329018,-0.9631102282375958,-0.963110228237596,-0.9236803823329018,-0.8464349530476621,-0.7345363773327671,-0.5925657960255084,-0.4263355014054411,-0.24265098126554124,-0.04903230144234975,0.1465937665629432,0.3362182685411122,0.5120779551012389,0.6669731100129159,0.7945623074346513,0.8896220306329049,0.948260523370897,0.9680771188662043],[0.9884683243281114,0.9682343196590666,0.9083606881804775,0.8112986633999307,0.6810219760162455,0.5228641689177703,0.3433002413098705,0.14968156148667902,-0.05006509905061388,-0.24776208855037526,-0.4353156690340752,-0.6050473748801002,-0.7500083701084866,-0.8642639345423895,-0.9431364319494264,-0.9833968130186285,-0.9833968130186286,-0.9431364319494264,-0.8642639345423896,-0.7500083701084868,-0.6050473748801003,-0.43531566903407504,-0.24776208855037612,-0.05006509905061478,0.149681561486679,0.3433002413098705,0.5228641689177703,0.6810219760162454,0.8112986633999307,0.9083606881804775,0.9682343196590664,0.9884683243281114],[0.9987165071710528,0.9782727215971578,0.917778335858911,0.8197099972162247,0.6880826349756711,0.5282850888129366,0.34685948904333824,0.15123342103804616,-0.050584160993716015,-0.2503308215310089,-0.4398289088221999,-0.611320348908507,-0.7577842620834093,-0.8732243985327462,-0.9529146255066423,-0.9935924157495819,-0.993592415749582,-0.9529146255066423,-0.8732243985327464,-0.7577842620834094,-0.6113203489085071,-0.4398289088221997,-0.2503308215310098,-0.050584160993716924,0.15123342103804613,0.34685948904333824,0.5282850888129366,0.688082634975671,0.8197099972162247,0.917778335858911,0.9782727215971576,0.9987165071710528],[0.9987165071710528,0.9782727215971578,0.917778335858911,0.8197099972162247,0.6880826349756711,0.5282850888129366,0.34685948904333824,0.15123342103804616,-0.050584160993716015,-0.2503308215310089,-0.4398289088221999,-0.611320348908507,-0.7577842620834093,-0.8732243985327462,-0.9529146255066423,-0.9935924157495819,-0.993592415749582,-0.9529146255066423,-0.8732243985327464,-0.7577842620834094,-0.6113203489085071,-0.4398289088221997,-0.2503308215310098,-0.050584160993716924,0.15123342103804613,0.34685948904333824,0.5282850888129366,0.688082634975671,0.8197099972162247,0.917778335858911,0.9782727215971576,0.9987165071710528],[0.9884683243281114,0.9682343196590666,0.9083606881804775,0.8112986633999307,0.6810219760162455,0.5228641689177703,0.3433002413098705,0.14968156148667902,-0.05006509905061388,-0.24776208855037526,-0.4353156690340752,-0.6050473748801002,-0.7500083701084866,-0.8642639345423895,-0.9431364319494264,-0.9833968130186285,-0.9833968130186286,-0.9431364319494264,-0.8642639345423896,-0.7500083701084868,-0.6050473748801003,-0.43531566903407504,-0.24776208855037612,-0.05006509905061478,0.149681561486679,0.3433002413098705,0.5228641689177703,0.6810219760162454,0.8112986633999307,0.9083606881804775,0.9682343196590664,0.9884683243281114],[0.9680771188662043,0.9482605233708972,0.8896220306329049,0.7945623074346513,0.666973110012916,0.5120779551012389,0.3362182685411122,0.14659376656294323,-0.049032301442348866,-0.24265098126554038,-0.42633550140544124,-0.5925657960255083,-0.734536377332767,-0.8464349530476621,-0.9236803823329018,-0.9631102282375958,-0.963110228237596,-0.9236803823329018,-0.8464349530476621,-0.7345363773327671,-0.5925657960255084,-0.4263355014054411,-0.24265098126554124,-0.04903230144234975,0.1465937665629432,0.3362182685411122,0.5120779551012389,0.6669731100129159,0.7945623074346513,0.8896220306329049,0.948260523370897,0.9680771188662043],[0.9377521321470805,0.9185562909114312,0.8617546472000864,0.7696726669804983,0.6460801973420303,0.4960371285131793,0.32568624136111113,0.14200172122121052,-0.04749636606998025,-0.23504994655367994,-0.4129805546082762,-0.5740036902340543,-0.7115270473390809,-0.8199204035251668,-0.8947461220543758,-0.932940829218473,-0.9329408292184731,-0.8947461220543758,-0.8199204035251669,-0.711527047339081,-0.5740036902340544,-0.41298055460827604,-0.23504994655368078,-0.0474963660699811,0.1420017212212105,0.32568624136111113,0.4960371285131793,0.6460801973420301,0.7696726669804983,0.8617546472000864,0.918556290911431,0.9377521321470805],[0.8978045395707416,0.8794264279019514,0.8250444949466375,0.7368851434295961,0.6185576275602193,0.47490628974109145,0.31181223262084384,0.1359525460607172,-0.045473053708881155,-0.22503698131678093,-0.3953878684688493,-0.5495515298297006,-0.6812164869897614,-0.7849923611329225,-0.8566305557786156,-0.8931981948209156,-0.8931981948209157,-0.8566305557786156,-0.7849923611329226,-0.6812164869897616,-0.5495515298297007,-0.39538786846884916,-0.22503698131678174,-0.04547305370888197,0.13595254606071716,0.31181223262084384,0.47490628974109145,0.6185576275602191,0.7368851434295961,0.8250444949466375,0.8794264279019511,0.8978045395707416],[0.8486442574947509,0.8312724596881002,0.7798682697114517,0.6965361811421856,0.5846878194774322,0.44890226978537073,0.2947386084245192,0.12850831380445185,-0.04298312628185556,-0.2127148321278809,-0.3737379677536595,-0.519460227067256,-0.6439157236507347,-0.7420092348510668,-0.8097248007942132,-0.8442901382542201,-0.8442901382542201,-0.8097248007942132,-0.742009234851067,-0.6439157236507348,-0.5194602270672561,-0.3737379677536593,-0.21271483212788164,-0.04298312628185634,0.12850831380445182,0.2947386084245192,0.44890226978537073,0.5846878194774321,0.6965361811421856,0.7798682697114517,0.8312724596880999,0.8486442574947509],[0.7907757369376989,0.7745885111464822,0.7266895406986429,0.6490398150722055,0.544818323157772,0.4182919050798242,0.2746405672606966,0.11974541234901954,-0.040052133813714925,-0.19820994091218996,-0.348253009741041,-0.4840385594331021,-0.6000075136298567,-0.6914120897207152,-0.7545101736209366,-0.7867185223619356,-0.7867185223619357,-0.7545101736209366,-0.6914120897207153,-0.6000075136298568,-0.4840385594331022,-0.34825300974104084,-0.19820994091219069,-0.04005213381371564,0.11974541234901952,0.2746405672606966,0.4182919050798242,0.5448183231577719,0.6490398150722055,0.7266895406986429,0.7745885111464821,0.7907757369376989],[0.7247927872291202,0.7099562362947719,0.6660539936301998,0.594883422208386,0.49935825358552666,0.3833892993887722,0.2517243422287116,0.10975376092145321,-0.03671015225344884,-0.18167114748183494,-0.31919450458686144,-0.4436500011703396,-0.5499424145792428,-0.6337201209197814,-0.6915532510509116,-0.7210741098299606,-0.7210741098299607,-0.6915532510509116,-0.6337201209197814,-0.5499424145792429,-0.44365000117033965,-0.3191945045868613,-0.18167114748183558,-0.0367101522534495,0.1097537609214532,0.2517243422287116,0.3833892993887722,0.49935825358552655,0.594883422208386,0.6660539936301998,0.7099562362947717,0.7247927872291202],[0.6513724827222223,0.6380388497343898,0.5985838312720498,0.5346227204268182,0.4487740925918104,0.3445526006773767,0.22622508480799972,0.0986358873862644,-0.03299147485428927,-0.16326816223797463,-0.28686063187644295,-0.3987089935411962,-0.4942341621640558,-0.5695253261178703,-0.6215000563040348,-0.6480305011619562,-0.6480305011619562,-0.6215000563040348,-0.5695253261178703,-0.49423416216405586,-0.39870899354119627,-0.28686063187644284,-0.1632681622379752,-0.03299147485428986,0.09863588738626439,0.22622508480799972,0.3445526006773767,0.44877409259181034,0.5346227204268182,0.5985838312720498,0.6380388497343897,0.6513724827222223],[0.5712682150947923,0.5595743211712193,0.5249713887917056,0.4688760660735402,0.39358490211972574,0.3021803260288671,0.19840445188570602,0.08650587617081087,-0.028934260278526146,-0.14318982471242905,-0.2515831808985152,-0.3496766920988473,-0.4334543984393861,-0.49948643077908694,-0.5450694299555283,-0.5683372226266515,-0.5683372226266517,-0.5450694299555283,-0.499486430779087,-0.4334543984393862,-0.34967669209884733,-0.25158318089851517,-0.14318982471242958,-0.028934260278526663,0.08650587617081086,0.19840445188570602,0.3021803260288671,0.39358490211972563,0.4688760660735402,0.5249713887917056,0.5595743211712192,0.5712682150947923],[0.48530196253108104,0.4753678028477901,0.44597202946256537,0.39831810879165475,0.3343569979464232,0.25670727231998586,0.1685479208029446,0.07348819760469096,-0.024580141037995322,-0.12164216581854212,-0.2137241460381303,-0.2970562346073963,-0.36822680602921026,-0.42432212874737546,-0.46304565365889,-0.4828120351040554,-0.48281203510405546,-0.46304565365889,-0.4243221287473755,-0.3682268060292103,-0.29705623460739633,-0.21372414603813022,-0.12164216581854255,-0.024580141037995763,0.07348819760469094,0.1685479208029446,0.25670727231998586,0.33435699794642315,0.39831810879165475,0.44597202946256537,0.47536780284779,0.48530196253108104],[0.3943558551133186,0.3862833675917262,0.36239639361456,0.32367286870304546,0.27169813851688096,0.20860005461665954,0.13696185997096644,0.0597164306857267,-0.019973796288169376,-0.09884629369520637,-0.17367201222441533,-0.24138757816756154,-0.2992207082986919,-0.3448037074751332,-0.3762704023548272,-0.39233254275221946,-0.3923325427522195,-0.3762704023548272,-0.3448037074751333,-0.29922070829869196,-0.2413875781675616,-0.17367201222441528,-0.09884629369520671,-0.019973796288169733,0.059716430685726685,0.13696185997096644,0.20860005461665954,0.27169813851688096,0.32367286870304546,0.36239639361456,0.3862833675917261,0.3943558551133186],[0.29936312297335804,0.2932351422592567,0.2751020803673951,0.24570630698217039,0.2062512885198304,0.15835231807199107,0.10397038511667714,0.045331892378684895,-0.015162493359561907,-0.07503612483815092,-0.13183776854949578,-0.18324195852614406,-0.22714420119071627,-0.26174713357023,-0.2856341075473962,-0.29782718760098936,-0.2978271876009894,-0.2856341075473962,-0.26174713357023005,-0.2271442011907163,-0.18324195852614408,-0.13183776854949575,-0.07503612483815118,-0.01516249335956218,0.04533189237868489,0.10397038511667714,0.15835231807199107,0.20625128851983035,0.24570630698217039,0.2751020803673951,0.2932351422592566,0.29936312297335804],[0.20129852008866017,0.1971779275566594,0.18498484750306618,0.16521846605790075,0.13868802119997942,0.10647967245898028,0.06991203341668026,0.030482187511986194,-0.010195602730953537,-0.05045598380015558,-0.08865069096425292,-0.12321602842425973,-0.15273688720330886,-0.1760046798744322,-0.1920668202718245,-0.20026572248039515,-0.20026572248039515,-0.1920668202718245,-0.17600467987443222,-0.15273688720330889,-0.12321602842425974,-0.08865069096425289,-0.05045598380015575,-0.010195602730953721,0.03048218751198619,0.06991203341668026,0.10647967245898028,0.1386880211999794,0.16521846605790075,0.18498484750306618,0.19717792755665933,0.20129852008866017],[0.10116832198743272,0.09909740049296342,0.09296941977886204,0.08303526009557104,0.06970162710773857,0.05351440131652182,0.035136289647731515,0.015319694152424337,-0.0051240914214707245,-0.025358096090515595,-0.044553937326165007,-0.0619257351328158,-0.07676228606716426,-0.08845617999073732,-0.09652866751232977,-0.10064926004433057,-0.10064926004433059,-0.09652866751232977,-0.08845617999073734,-0.07676228606716427,-0.061925735132815816,-0.044553937326164986,-0.025358096090515685,-0.0051240914214708165,0.015319694152424335,0.035136289647731515,0.05351440131652182,0.06970162710773856,0.08303526009557104,0.09296941977886204,0.0990974004929634,0.10116832198743272],[1.2246467991473532e-16,1.1995782072238624e-16,1.125398742552172e-16,1.0051453211316578e-16,8.437411321644531e-17,6.47794082111062e-17,4.2532626622347135e-17,1.8544554302297742e-17,-6.20273424978033e-18,-3.0696082132882064e-17,-5.3932728806827134e-17,-7.496136322659406e-17,-9.292107062827812e-17,-1.070765784806782e-16,-1.1684835862911556e-16,-1.2183635324617773e-16,-1.2183635324617775e-16,-1.1684835862911556e-16,-1.0707657848067821e-16,-9.292107062827813e-17,-7.496136322659407e-17,-5.393272880682711e-17,-3.0696082132882175e-17,-6.202734249780442e-18,1.854455430229774e-17,4.2532626622347135e-17,6.47794082111062e-17,8.43741132164453e-17,1.0051453211316578e-16,1.125398742552172e-16,1.1995782072238621e-16,1.2246467991473532e-16]]}],\n",
       "               {\"margin\":{\"r\":50,\"l\":50,\"b\":50,\"t\":60}}, {showLink: false});\n",
       "\n",
       "    });\n",
       " </script>\n"
      ]
     },
     "execution_count": 164,
     "metadata": {},
     "output_type": "execute_result"
    }
   ],
   "source": [
    "N = 32\n",
    "u = linspace(0, 2π, N)\n",
    "v = linspace(0, π, N)\n",
    "x = cos(u) * sin(v)'\n",
    "y = sin(u) * sin(v)'\n",
    "z = repeat(cos(v)',outer=[N, 1])\n",
    "\n",
    "using PlotlyJS\n",
    "PlotlyJS.plot([PlotlyJS.surface(x=x,y=y,z=z)])\n"
   ]
  },
  {
   "cell_type": "code",
   "execution_count": 165,
   "metadata": {},
   "outputs": [
    {
     "name": "stderr",
     "output_type": "stream",
     "text": [
      "WARNING: Method definition f(Any) in module Main at In[153]:1 overwritten at In[165]:2.\n",
      "WARNING: Method definition g(Any) in module Main at In[118]:3 overwritten at In[165]:3.\n"
     ]
    },
    {
     "data": {
      "text/html": [
       "<script src=\"/Users/gary/.julia/v0.5/Plots/src/backends/../../deps/plotly-latest.min.js\"></script>    <div id=\"9d8b3a33-cd4e-4929-9d43-6600afaec696\" style=\"width:600px;height:400px;\"></div>\n",
       "    <script>\n",
       "    PLOT = document.getElementById('9d8b3a33-cd4e-4929-9d43-6600afaec696');\n",
       "    Plotly.plot(PLOT, [{\"yaxis\":\"y\",\"y\":[0.0,0.010000000000000002,0.04000000000000001,0.09,0.16000000000000003,0.25,0.36,0.48999999999999994,0.6400000000000001,0.81,1.0,1.2100000000000002,1.44,1.6900000000000002,1.9599999999999997,2.25,2.5600000000000005,2.8899999999999997,3.24,3.61,4.0,4.41,4.840000000000001,5.289999999999999,5.76,6.25,6.760000000000001,7.290000000000001,7.839999999999999,8.41,9.0,9.610000000000001,10.240000000000002,10.889999999999999,11.559999999999999,12.25,12.96,13.690000000000001,14.44,15.209999999999999,16.0,16.81,17.64,18.49,19.360000000000003,20.25,21.159999999999997,22.090000000000003,23.04,24.010000000000005,25.0,26.009999999999998,27.040000000000003,28.09,29.160000000000004,30.25,31.359999999999996,32.49,33.64,34.81,36.0,37.209999999999994,38.440000000000005,39.69,40.96000000000001,42.25,43.559999999999995,44.89,46.239999999999995,47.61000000000001,49.0,50.41,51.84,53.29,54.760000000000005,56.25,57.76,59.290000000000006,60.839999999999996,62.410000000000004,64.0,65.61,67.24,68.89000000000001,70.56,72.25,73.96,75.68999999999998,77.44000000000001,79.21000000000001,81.0,82.80999999999999,84.63999999999999,86.49000000000001,88.36000000000001,90.25,92.16,94.08999999999999,96.04000000000002,98.01,100.0],\"showlegend\":true,\"name\":\"y1\",\"type\":\"scatter\",\"xaxis\":\"x\",\"line\":{\"width\":1,\"dash\":\"solid\",\"color\":\"rgba(0, 154, 250, 1.000)\",\"shape\":\"linear\"},\"x\":[0.0,0.1,0.2,0.3,0.4,0.5,0.6,0.7,0.8,0.9,1.0,1.1,1.2,1.3,1.4,1.5,1.6,1.7,1.8,1.9,2.0,2.1,2.2,2.3,2.4,2.5,2.6,2.7,2.8,2.9,3.0,3.1,3.2,3.3,3.4,3.5,3.6,3.7,3.8,3.9,4.0,4.1,4.2,4.3,4.4,4.5,4.6,4.7,4.8,4.9,5.0,5.1,5.2,5.3,5.4,5.5,5.6,5.7,5.8,5.9,6.0,6.1,6.2,6.3,6.4,6.5,6.6,6.7,6.8,6.9,7.0,7.1,7.2,7.3,7.4,7.5,7.6,7.7,7.8,7.9,8.0,8.1,8.2,8.3,8.4,8.5,8.6,8.7,8.8,8.9,9.0,9.1,9.2,9.3,9.4,9.5,9.6,9.7,9.8,9.9,10.0],\"mode\":\"lines\"},{\"yaxis\":\"y\",\"y\":[0.0,0.005000000000000001,0.020000000000000004,0.045,0.08000000000000002,0.125,0.18,0.24499999999999997,0.32000000000000006,0.405,0.5,0.6050000000000001,0.72,0.8450000000000001,0.9799999999999999,1.125,1.2800000000000002,1.4449999999999998,1.62,1.805,2.0,2.205,2.4200000000000004,2.6449999999999996,2.88,3.125,3.3800000000000003,3.6450000000000005,3.9199999999999995,4.205,4.5,4.805000000000001,5.120000000000001,5.444999999999999,5.779999999999999,6.125,6.48,6.845000000000001,7.22,7.6049999999999995,8.0,8.405,8.82,9.245,9.680000000000001,10.125,10.579999999999998,11.045000000000002,11.52,12.005000000000003,12.5,13.004999999999999,13.520000000000001,14.045,14.580000000000002,15.125,15.679999999999998,16.245,16.82,17.405,18.0,18.604999999999997,19.220000000000002,19.845,20.480000000000004,21.125,21.779999999999998,22.445,23.119999999999997,23.805000000000003,24.5,25.205,25.92,26.645,27.380000000000003,28.125,28.88,29.645000000000003,30.419999999999998,31.205000000000002,32.0,32.805,33.62,34.44500000000001,35.28,36.125,36.98,37.84499999999999,38.720000000000006,39.605000000000004,40.5,41.404999999999994,42.31999999999999,43.245000000000005,44.18000000000001,45.125,46.08,47.044999999999995,48.02000000000001,49.005,50.0],\"showlegend\":true,\"name\":\"y2\",\"type\":\"scatter\",\"xaxis\":\"x\",\"line\":{\"width\":1,\"dash\":\"solid\",\"color\":\"rgba(227, 111, 71, 1.000)\",\"shape\":\"linear\"},\"x\":[0.0,0.1,0.2,0.3,0.4,0.5,0.6,0.7,0.8,0.9,1.0,1.1,1.2,1.3,1.4,1.5,1.6,1.7,1.8,1.9,2.0,2.1,2.2,2.3,2.4,2.5,2.6,2.7,2.8,2.9,3.0,3.1,3.2,3.3,3.4,3.5,3.6,3.7,3.8,3.9,4.0,4.1,4.2,4.3,4.4,4.5,4.6,4.7,4.8,4.9,5.0,5.1,5.2,5.3,5.4,5.5,5.6,5.7,5.8,5.9,6.0,6.1,6.2,6.3,6.4,6.5,6.6,6.7,6.8,6.9,7.0,7.1,7.2,7.3,7.4,7.5,7.6,7.7,7.8,7.9,8.0,8.1,8.2,8.3,8.4,8.5,8.6,8.7,8.8,8.9,9.0,9.1,9.2,9.3,9.4,9.5,9.6,9.7,9.8,9.9,10.0],\"mode\":\"lines\"}], {\"yaxis\":{\"type\":\"-\",\"titlefont\":{\"size\":15,\"color\":\"rgba(0, 0, 0, 1.000)\",\"family\":\"sans-serif\"},\"title\":\"\",\"tickfont\":{\"size\":11,\"color\":\"rgba(0, 0, 0, 1.000)\",\"family\":\"sans-serif\"},\"ticks\":\"inside\",\"tickmode\":\"array\",\"showgrid\":true,\"tickvals\":[0.0,20.0,40.0,60.0,80.0,100.0],\"domain\":[0.03762029746281716,0.9901574803149606],\"ticktext\":[\"0\",\"20\",\"40\",\"60\",\"80\",\"100\"],\"tickangle\":0,\"zeroline\":false,\"linecolor\":\"rgba(0, 0, 0, 1.000)\",\"tickcolor\":\"rgba(0, 0, 0, 1.000)\",\"anchor\":\"x\"},\"annotations\":[],\"width\":600,\"plot_bgcolor\":\"rgba(255, 255, 255, 1.000)\",\"showlegend\":true,\"legend\":{\"bgcolor\":\"rgba(255, 255, 255, 1.000)\",\"y\":1.0,\"font\":{\"size\":11,\"color\":\"rgba(0, 0, 0, 1.000)\",\"family\":\"sans-serif\"},\"bordercolor\":\"rgba(0, 0, 0, 1.000)\",\"x\":1.0},\"xaxis\":{\"type\":\"-\",\"titlefont\":{\"size\":15,\"color\":\"rgba(0, 0, 0, 1.000)\",\"family\":\"sans-serif\"},\"title\":\"\",\"tickfont\":{\"size\":11,\"color\":\"rgba(0, 0, 0, 1.000)\",\"family\":\"sans-serif\"},\"ticks\":\"inside\",\"tickmode\":\"array\",\"showgrid\":true,\"tickvals\":[0.0,2.0,4.0,6.0,8.0,10.0],\"domain\":[0.05100612423447069,0.9934383202099737],\"ticktext\":[\"0\",\"2\",\"4\",\"6\",\"8\",\"10\"],\"tickangle\":0,\"zeroline\":false,\"linecolor\":\"rgba(0, 0, 0, 1.000)\",\"tickcolor\":\"rgba(0, 0, 0, 1.000)\",\"anchor\":\"y\"},\"paper_bgcolor\":\"rgba(255, 255, 255, 1.000)\",\"height\":400,\"margin\":{\"r\":0,\"l\":0,\"b\":0,\"t\":20}});\n",
       "    </script>\n"
      ]
     },
     "execution_count": 165,
     "metadata": {},
     "output_type": "execute_result"
    }
   ],
   "source": [
    "xvals = 0:0.1:10\n",
    "f(x) = x^2\n",
    "g(x) = 0.5*x^2\n",
    "\n",
    "plot(xvals, [f, g])"
   ]
  },
  {
   "cell_type": "code",
   "execution_count": 166,
   "metadata": {},
   "outputs": [
    {
     "ename": "LoadError",
     "evalue": "cannot define function y; it already has a value",
     "output_type": "error",
     "traceback": [
      "cannot define function y; it already has a value",
      ""
     ]
    }
   ],
   "source": [
    "using Plots\n",
    "pyplot() # Use PyPlot as a GUI (may already be the default)\n",
    "\n",
    "x = collect(1:7)\n",
    "y(x) = 2 - 2x + x^2/4\n",
    "\n",
    "plot(x,y)\n",
    "plot!(x, y, marker = :diamond, linewidth=2)\n",
    "plot!(title = \"Sample plot\", leg=false)"
   ]
  },
  {
   "cell_type": "code",
   "execution_count": 16,
   "metadata": {
    "collapsed": true
   },
   "outputs": [],
   "source": [
    "using ForwardDiff"
   ]
  },
  {
   "cell_type": "code",
   "execution_count": 168,
   "metadata": {
    "hide_input": false
   },
   "outputs": [
    {
     "name": "stderr",
     "output_type": "stream",
     "text": [
      "WARNING: Method definition f(Array{T<:Any, 1}) in module Main at In[121]:1 overwritten at In[168]:1.\n"
     ]
    },
    {
     "data": {
      "text/plain": [
       "f (generic function with 6 methods)"
      ]
     },
     "execution_count": 168,
     "metadata": {},
     "output_type": "execute_result"
    }
   ],
   "source": [
    "f(x::Vector) = x[1]*x[2]^3 + x[3]^2"
   ]
  },
  {
   "cell_type": "code",
   "execution_count": 169,
   "metadata": {},
   "outputs": [
    {
     "data": {
      "text/plain": [
       "(::#25) (generic function with 1 method)"
      ]
     },
     "execution_count": 169,
     "metadata": {},
     "output_type": "execute_result"
    }
   ],
   "source": [
    "h = x -> ForwardDiff.gradient(f, x)"
   ]
  },
  {
   "cell_type": "code",
   "execution_count": 170,
   "metadata": {},
   "outputs": [
    {
     "data": {
      "text/plain": [
       "3-element Array{Int64,1}:\n",
       " 27\n",
       " 54\n",
       " -2"
      ]
     },
     "execution_count": 170,
     "metadata": {},
     "output_type": "execute_result"
    }
   ],
   "source": [
    "h([2,3,-1])"
   ]
  },
  {
   "cell_type": "code",
   "execution_count": 171,
   "metadata": {},
   "outputs": [
    {
     "data": {
      "text/plain": [
       "3-element Array{Float64,1}:\n",
       " 125.0\n",
       " 150.0\n",
       "   8.0"
      ]
     },
     "execution_count": 171,
     "metadata": {},
     "output_type": "execute_result"
    }
   ],
   "source": [
    "Calculus.gradient(x->x[1]*x[2]^3 + x[3]^2, [2, 5, 4])"
   ]
  },
  {
   "cell_type": "code",
   "execution_count": 172,
   "metadata": {},
   "outputs": [
    {
     "data": {
      "text/plain": [
       "(::#2) (generic function with 1 method)"
      ]
     },
     "execution_count": 172,
     "metadata": {},
     "output_type": "execute_result"
    }
   ],
   "source": [
    "gradf = Calculus.gradient(x->f(x))"
   ]
  },
  {
   "cell_type": "code",
   "execution_count": 173,
   "metadata": {},
   "outputs": [
    {
     "data": {
      "text/html": [
       "25.999999999978076"
      ],
      "text/plain": [
       "25.999999999978076"
      ]
     },
     "execution_count": 173,
     "metadata": {},
     "output_type": "execute_result"
    }
   ],
   "source": [
    "norm(gradf([1,-1,2]))^2"
   ]
  },
  {
   "cell_type": "code",
   "execution_count": 174,
   "metadata": {},
   "outputs": [
    {
     "data": {
      "text/plain": [
       "3-element Array{Float64,1}:\n",
       "  1.0\n",
       "  4.0\n",
       " 72.0"
      ]
     },
     "execution_count": 174,
     "metadata": {},
     "output_type": "execute_result"
    }
   ],
   "source": [
    "Calculus.gradient(x->x[1] - 2*x[2]^2 - 4*x[3]^2, [-8,-1,-9])"
   ]
  },
  {
   "cell_type": "code",
   "execution_count": 175,
   "metadata": {},
   "outputs": [
    {
     "data": {
      "text/plain": [
       ":(sin(x) + x * cos(x))"
      ]
     },
     "execution_count": 175,
     "metadata": {},
     "output_type": "execute_result"
    }
   ],
   "source": [
    "Calculus.differentiate(\"x*sin(x)\", :x)"
   ]
  },
  {
   "cell_type": "code",
   "execution_count": 176,
   "metadata": {},
   "outputs": [
    {
     "data": {
      "text/plain": [
       ":(y ^ 2)"
      ]
     },
     "execution_count": 176,
     "metadata": {},
     "output_type": "execute_result"
    }
   ],
   "source": [
    "Calculus.differentiate(\"x*y^2\", :x)"
   ]
  },
  {
   "cell_type": "code",
   "execution_count": 177,
   "metadata": {},
   "outputs": [
    {
     "name": "stderr",
     "output_type": "stream",
     "text": [
      "WARNING: Method definition f(Float64) in module Main at In[130]:3 overwritten at In[177]:3.\n"
     ]
    },
    {
     "data": {
      "text/plain": [
       "f (generic function with 6 methods)"
      ]
     },
     "execution_count": 177,
     "metadata": {},
     "output_type": "execute_result"
    }
   ],
   "source": [
    "c = 2\n",
    "\n",
    "f(x::Float64) = c*x^2"
   ]
  },
  {
   "cell_type": "code",
   "execution_count": 178,
   "metadata": {},
   "outputs": [
    {
     "name": "stderr",
     "output_type": "stream",
     "text": [
      "WARNING: Method definition f(Base.Complex{Int64}) in module Main at In[131]:1 overwritten at In[178]:1.\n"
     ]
    },
    {
     "data": {
      "text/plain": [
       "f (generic function with 6 methods)"
      ]
     },
     "execution_count": 178,
     "metadata": {},
     "output_type": "execute_result"
    }
   ],
   "source": [
    "f(x::Complex{Int64}) = c*x^2"
   ]
  },
  {
   "cell_type": "code",
   "execution_count": 179,
   "metadata": {},
   "outputs": [
    {
     "data": {
      "text/html": [
       "6 methods for generic function <b>f</b>:<ul><li> f(x::<b>Int64</b>) at In[134]:3</li> <li> f(x::<b>Complex{Int64}</b>) at In[178]:1</li> <li> f(x::<b>Float64</b>) at In[177]:3</li> <li> f(x::<b>Array{T<:Any,1}</b>) at In[168]:1</li> <li> f(x) at In[165]:2</li> <li> f(t, u) at In[161]:7</li> </ul>"
      ],
      "text/plain": [
       "# 6 methods for generic function \"f\":\n",
       "f(x::Int64) at In[134]:3\n",
       "f(x::Complex{Int64}) at In[178]:1\n",
       "f(x::Float64) at In[177]:3\n",
       "f(x::Array{T<:Any,1}) at In[168]:1\n",
       "f(x) at In[165]:2\n",
       "f(t, u) at In[161]:7"
      ]
     },
     "execution_count": 179,
     "metadata": {},
     "output_type": "execute_result"
    }
   ],
   "source": [
    "methods(f)"
   ]
  },
  {
   "cell_type": "code",
   "execution_count": 180,
   "metadata": {},
   "outputs": [
    {
     "name": "stdout",
     "output_type": "stream",
     "text": [
      "f(3+2i) = 10 + 24im\n",
      "f(3.0) = 18.0"
     ]
    }
   ],
   "source": [
    "print(\"f(3+2i) = $(f(3+2im))\\n\")\n",
    "print(\"f(3.0) = $(f(3.))\")"
   ]
  },
  {
   "cell_type": "code",
   "execution_count": 181,
   "metadata": {},
   "outputs": [
    {
     "name": "stderr",
     "output_type": "stream",
     "text": [
      "WARNING: Method definition f(Int64) in module Main at In[134]:3 overwritten at In[181]:3.\n"
     ]
    },
    {
     "data": {
      "text/plain": [
       "f (generic function with 6 methods)"
      ]
     },
     "execution_count": 181,
     "metadata": {},
     "output_type": "execute_result"
    }
   ],
   "source": [
    "c = -5; d = 1;\n",
    "\n",
    "f(x::Int64) = d*x^2"
   ]
  },
  {
   "cell_type": "code",
   "execution_count": 182,
   "metadata": {},
   "outputs": [
    {
     "name": "stdout",
     "output_type": "stream",
     "text": [
      "f(2.0) = -20.0\n",
      "f(2) = 4"
     ]
    }
   ],
   "source": [
    "print(\"f(2.0) = $(f(2.0))\\n\")\n",
    "print(\"f(2) = $(f(2))\")"
   ]
  },
  {
   "cell_type": "code",
   "execution_count": 183,
   "metadata": {},
   "outputs": [
    {
     "ename": "LoadError",
     "evalue": "MethodError: no method matching integrate(::String, ::Symbol)\u001b[0m\nClosest candidates are:\n  integrate(::Any, ::Any, \u001b[1m\u001b[31m::Any\u001b[0m) at deprecated.jl:49\n  integrate(::Any, ::Any, \u001b[1m\u001b[31m::Any\u001b[0m, \u001b[1m\u001b[31m::Any\u001b[0m) at deprecated.jl:49\u001b[0m",
     "output_type": "error",
     "traceback": [
      "MethodError: no method matching integrate(::String, ::Symbol)\u001b[0m\nClosest candidates are:\n  integrate(::Any, ::Any, \u001b[1m\u001b[31m::Any\u001b[0m) at deprecated.jl:49\n  integrate(::Any, ::Any, \u001b[1m\u001b[31m::Any\u001b[0m, \u001b[1m\u001b[31m::Any\u001b[0m) at deprecated.jl:49\u001b[0m",
      ""
     ]
    }
   ],
   "source": [
    "Calculus.integrate(\"x*ln(x)\", :x)"
   ]
  },
  {
   "cell_type": "code",
   "execution_count": 184,
   "metadata": {
    "collapsed": true
   },
   "outputs": [],
   "source": [
    "using SymPy"
   ]
  },
  {
   "cell_type": "code",
   "execution_count": 185,
   "metadata": {},
   "outputs": [
    {
     "data": {
      "text/plain": [
       "(x,y,z)"
      ]
     },
     "execution_count": 185,
     "metadata": {},
     "output_type": "execute_result"
    }
   ],
   "source": [
    "@vars x y z"
   ]
  },
  {
   "cell_type": "code",
   "execution_count": 186,
   "metadata": {},
   "outputs": [
    {
     "data": {
      "text/html": [
       "(x + 1)^2"
      ],
      "text/plain": [
       "       2\n",
       "(x + 1) "
      ]
     },
     "execution_count": 186,
     "metadata": {},
     "output_type": "execute_result"
    }
   ],
   "source": [
    "factor(x^2 + 2x + 1)"
   ]
  },
  {
   "cell_type": "code",
   "execution_count": 187,
   "metadata": {},
   "outputs": [
    {
     "data": {
      "text/html": [
       "x^3*log(x)/3 - x^3/9"
      ],
      "text/plain": [
       " 3           3\n",
       "x *log(x)   x \n",
       "--------- - --\n",
       "    3       9 "
      ]
     },
     "execution_count": 187,
     "metadata": {},
     "output_type": "execute_result"
    }
   ],
   "source": [
    "integrate(x^2*log(x))"
   ]
  },
  {
   "cell_type": "code",
   "execution_count": 188,
   "metadata": {},
   "outputs": [
    {
     "data": {
      "text/html": [
       "4"
      ],
      "text/plain": [
       "4"
      ]
     },
     "execution_count": 188,
     "metadata": {},
     "output_type": "execute_result"
    }
   ],
   "source": [
    "integrate(x^3, (x,0,2))"
   ]
  },
  {
   "cell_type": "code",
   "execution_count": 29,
   "metadata": {},
   "outputs": [
    {
     "name": "stderr",
     "output_type": "stream",
     "text": [
      "WARNING: Method definition f(Any) in module Main at In[28]:4 overwritten at In[29]:1.\n",
      "WARNING: Method definition tl(Any) in module Main at In[27]:3 overwritten at In[29]:3.\n"
     ]
    },
    {
     "data": {
      "text/plain": [
       "tl (generic function with 1 method)"
      ]
     },
     "execution_count": 29,
     "metadata": {},
     "output_type": "execute_result"
    }
   ],
   "source": [
    "f(x) = -2*x^2-3 # parabola\n",
    "\n",
    "tl(c) = x -> f(c) + 2*c*(x-c)"
   ]
  },
  {
   "cell_type": "code",
   "execution_count": 42,
   "metadata": {},
   "outputs": [
    {
     "data": {
      "text/html": [
       "1 method for generic function <b>f</b>:<ul><li> f(x) at In[29]:1</li> </ul>"
      ],
      "text/plain": [
       "# 1 method for generic function \"f\":\n",
       "f(x) at In[29]:1"
      ]
     },
     "execution_count": 42,
     "metadata": {},
     "output_type": "execute_result"
    }
   ],
   "source": [
    "methods(f)"
   ]
  },
  {
   "cell_type": "code",
   "execution_count": 45,
   "metadata": {},
   "outputs": [
    {
     "name": "stderr",
     "output_type": "stream",
     "text": [
      "WARNING: Method definition f(Any) in module Main at In[29]:1 overwritten at In[45]:6.\n"
     ]
    },
    {
     "data": {
      "text/html": [
       "<script src=\"/Users/gary/.julia/v0.5/Plots/src/backends/../../deps/plotly-latest.min.js\"></script>    <div id=\"94e482dd-90c2-4c0d-9aa2-3b19077792ba\" style=\"width:600px;height:400px;\"></div>\n",
       "    <script>\n",
       "    PLOT = document.getElementById('94e482dd-90c2-4c0d-9aa2-3b19077792ba');\n",
       "    Plotly.plot(PLOT, [{\"yaxis\":\"y\",\"y\":[24.514093329538774,24.03295522013391,19.81003295588279,15.99480704795405,13.898139514924445,11.948711887880046,10.41536750234922,8.987277376489015,7.55523930297921,6.2474017684358625,5.151722514587944,4.161603894988082,3.2173444266872684,2.3944174707015207,1.5926990142728985,0.9538511929947918,0.5228027453504973,0.2203823062247456,0.0610400205936088,0.0006089362950733346,0.04742985583697483,0.21182506104173796,0.4958218386409733,0.898794607436965,1.4828230187993716,2.2122892282971107,3.0413808447384314,4.00213791538506,5.140726021527016,6.421659947042588,7.6102794017578805,8.89976586503838,10.610830649032543,12.472244187350599,14.359122194894193,16.378856698701075,19.891549430088812,23.74523861535182,24.36858125423945],\"showlegend\":true,\"name\":\"y1\",\"type\":\"scatter\",\"xaxis\":\"x\",\"line\":{\"width\":1,\"dash\":\"solid\",\"color\":\"rgba(0, 154, 250, 1.000)\",\"shape\":\"linear\"},\"x\":[-4.951170904901059,-4.9023418098021185,-4.450846319059195,-3.9993508283162718,-3.7280208576300167,-3.456690886943761,-3.227284849893052,-2.997878812842343,-2.7486795562559143,-2.499480299669486,-2.2697406271616023,-2.0400009546537183,-1.7936957452944098,-1.5473905359351015,-1.2620217962748894,-0.9766530566146772,-0.7230509977522314,-0.46944893888978556,-0.24706278674379273,-0.024676634597799892,0.21778396597769734,0.46024456655319457,0.7041461770406577,0.9480477875281209,1.2177122068860817,1.4873766262440427,1.7439555168462386,2.0005344074484346,2.26731692128097,2.5340994351135055,2.758673485890978,2.983247536668451,3.257426998266046,3.531606459863641,3.789343240575363,4.047080021287085,4.459994330723842,4.872908640160599,4.9364543200802995],\"mode\":\"lines\"}], {\"yaxis\":{\"type\":\"-\",\"titlefont\":{\"size\":15,\"color\":\"rgba(0, 0, 0, 1.000)\",\"family\":\"sans-serif\"},\"title\":\"\",\"tickfont\":{\"size\":11,\"color\":\"rgba(0, 0, 0, 1.000)\",\"family\":\"sans-serif\"},\"ticks\":\"inside\",\"tickmode\":\"array\",\"showgrid\":true,\"tickvals\":[5.0,10.0,15.0,20.0],\"domain\":[0.03762029746281716,0.9901574803149606],\"ticktext\":[\"5\",\"10\",\"15\",\"20\"],\"tickangle\":0,\"zeroline\":false,\"linecolor\":\"rgba(0, 0, 0, 1.000)\",\"tickcolor\":\"rgba(0, 0, 0, 1.000)\",\"anchor\":\"x\"},\"annotations\":[],\"width\":600,\"plot_bgcolor\":\"rgba(255, 255, 255, 1.000)\",\"showlegend\":true,\"legend\":{\"bgcolor\":\"rgba(255, 255, 255, 1.000)\",\"y\":1.0,\"font\":{\"size\":11,\"color\":\"rgba(0, 0, 0, 1.000)\",\"family\":\"sans-serif\"},\"bordercolor\":\"rgba(0, 0, 0, 1.000)\",\"x\":1.0},\"xaxis\":{\"type\":\"-\",\"titlefont\":{\"size\":15,\"color\":\"rgba(0, 0, 0, 1.000)\",\"family\":\"sans-serif\"},\"title\":\"\",\"tickfont\":{\"size\":11,\"color\":\"rgba(0, 0, 0, 1.000)\",\"family\":\"sans-serif\"},\"ticks\":\"inside\",\"tickmode\":\"array\",\"showgrid\":true,\"tickvals\":[-2.5,0.0,2.5],\"domain\":[0.03619130941965587,0.9934383202099738],\"ticktext\":[\"-2.5\",\"0.0\",\"2.5\"],\"tickangle\":0,\"zeroline\":false,\"linecolor\":\"rgba(0, 0, 0, 1.000)\",\"tickcolor\":\"rgba(0, 0, 0, 1.000)\",\"anchor\":\"y\"},\"paper_bgcolor\":\"rgba(255, 255, 255, 1.000)\",\"height\":400,\"margin\":{\"r\":0,\"l\":0,\"b\":0,\"t\":20}});\n",
       "    </script>\n"
      ]
     },
     "execution_count": 45,
     "metadata": {},
     "output_type": "execute_result"
    }
   ],
   "source": [
    "using Plots\n",
    "plotly()\n",
    "\n",
    "a,b = -5, 7\n",
    "# plot([f, tl(a), tl(b)], a, b, width=3)\n",
    "f(x) = -2*x^2 - 3\n",
    "plot(f)"
   ]
  },
  {
   "cell_type": "code",
   "execution_count": 20,
   "metadata": {},
   "outputs": [
    {
     "data": {
      "text/plain": [
       "3-element Array{Float64,1}:\n",
       "  0.0\n",
       "  1.0\n",
       " -1.0"
      ]
     },
     "execution_count": 20,
     "metadata": {},
     "output_type": "execute_result"
    }
   ],
   "source": [
    "Calculus.gradient(x->x[3]*exp(x[2])*cos(x[3]*x[1]), [pi,0,-1])"
   ]
  },
  {
   "cell_type": "code",
   "execution_count": 26,
   "metadata": {},
   "outputs": [
    {
     "data": {
      "text/plain": [
       "2-element Array{Float64,1}:\n",
       " 4.0\n",
       " 1.0"
      ]
     },
     "execution_count": 26,
     "metadata": {},
     "output_type": "execute_result"
    }
   ],
   "source": [
    "Calculus.gradient(x->2*x[1]*sqrt(x[2]),[2,4])"
   ]
  },
  {
   "cell_type": "code",
   "execution_count": 47,
   "metadata": {},
   "outputs": [
    {
     "data": {
      "text/plain": [
       "fib (generic function with 1 method)"
      ]
     },
     "execution_count": 47,
     "metadata": {},
     "output_type": "execute_result"
    }
   ],
   "source": [
    "function fib(n)\n",
    "    if n == 1 || n == 2\n",
    "        return 1\n",
    "    else\n",
    "        return fib(n-1) + fib(n-2)\n",
    "    end\n",
    "end"
   ]
  },
  {
   "cell_type": "code",
   "execution_count": 51,
   "metadata": {},
   "outputs": [
    {
     "name": "stdout",
     "output_type": "stream",
     "text": [
      "fib(1) = 1\n",
      "fib(2) = 1\n",
      "fib(3) = 2\n",
      "fib(4) = 3\n",
      "fib(5) = 5\n",
      "fib(6) = 8\n",
      "fib(7) = 13\n",
      "fib(8) = 21\n",
      "fib(9) = 34\n",
      "fib(10) = 55\n",
      "fib(11) = 89\n",
      "fib(12) = 144\n",
      "fib(13) = 233\n",
      "fib(14) = 377\n",
      "fib(15) = 610\n",
      "fib(16) = 987\n",
      "fib(17) = 1597\n",
      "fib(18) = 2584\n",
      "fib(19) = 4181\n",
      "fib(20) = 6765\n",
      "fib(21) = 10946\n",
      "fib(22) = 17711\n",
      "fib(23) = 28657\n",
      "fib(24) = 46368\n",
      "fib(25) = 75025\n",
      "fib(26) = 121393\n",
      "fib(27) = 196418\n",
      "fib(28) = 317811\n",
      "fib(29) = 514229\n",
      "fib(30) = 832040\n"
     ]
    }
   ],
   "source": [
    "for n in 1:30\n",
    "    println(\"fib($n) = $(fib(n))\")\n",
    "end"
   ]
  },
  {
   "cell_type": "markdown",
   "metadata": {},
   "source": [
    "fibb(n) = $\\displaystyle\\frac{(1 + \\sqrt{5})^n - (1 - \\sqrt{5})^n}{2^n\\sqrt{5}}$"
   ]
  },
  {
   "cell_type": "code",
   "execution_count": 56,
   "metadata": {},
   "outputs": [
    {
     "name": "stderr",
     "output_type": "stream",
     "text": [
      "WARNING: Method definition fibb(Any) in module Main at In[52]:1 overwritten at In[56]:1.\n"
     ]
    },
    {
     "data": {
      "text/plain": [
       "fibb (generic function with 1 method)"
      ]
     },
     "execution_count": 56,
     "metadata": {},
     "output_type": "execute_result"
    }
   ],
   "source": [
    "fibb(n) = ((1 + sqrt(5))^n - (1 - sqrt(5))^n) / (2^n * sqrt(5))"
   ]
  },
  {
   "cell_type": "code",
   "execution_count": 57,
   "metadata": {},
   "outputs": [
    {
     "data": {
      "text/plain": [
       "1.0"
      ]
     },
     "execution_count": 57,
     "metadata": {},
     "output_type": "execute_result"
    }
   ],
   "source": [
    "fibb(1)"
   ]
  },
  {
   "cell_type": "code",
   "execution_count": 58,
   "metadata": {},
   "outputs": [
    {
     "data": {
      "text/plain": [
       "1.0"
      ]
     },
     "execution_count": 58,
     "metadata": {},
     "output_type": "execute_result"
    }
   ],
   "source": [
    "fibb(2)"
   ]
  },
  {
   "cell_type": "code",
   "execution_count": 59,
   "metadata": {},
   "outputs": [
    {
     "data": {
      "text/plain": [
       "6764.999999999999"
      ]
     },
     "execution_count": 59,
     "metadata": {},
     "output_type": "execute_result"
    }
   ],
   "source": [
    "fibb(20)"
   ]
  },
  {
   "cell_type": "code",
   "execution_count": 79,
   "metadata": {},
   "outputs": [
    {
     "ename": "LoadError",
     "evalue": "InterruptException:",
     "output_type": "error",
     "traceback": [
      "InterruptException:",
      ""
     ]
    }
   ],
   "source": [
    "n = 1:50\n",
    "fn = map(fib, n);\n",
    "\n",
    "plot(n, fn, \n",
    "    linetype=:scatter,\n",
    "    xlabel = \"n\",\n",
    "    ylabel = \"fib(n)\",\n",
    "    legend = false)"
   ]
  },
  {
   "cell_type": "code",
   "execution_count": 77,
   "metadata": {},
   "outputs": [
    {
     "data": {
      "text/html": [
       "<script src=\"/Users/gary/.julia/v0.5/Plots/src/backends/../../deps/plotly-latest.min.js\"></script>    <div id=\"8d609461-0e3a-4b73-b0ac-212575be65ac\" style=\"width:600px;height:400px;\"></div>\n",
       "    <script>\n",
       "    PLOT = document.getElementById('8d609461-0e3a-4b73-b0ac-212575be65ac');\n",
       "    Plotly.plot(PLOT, [{\"yaxis\":\"y\",\"y\":[1,1,2,3,5,8,13,21,34,55],\"showlegend\":true,\"name\":\"y1\",\"type\":\"scatter\",\"xaxis\":\"x\",\"x\":[1,2,3,4,5,6,7,8,9,10],\"mode\":\"markers\",\"marker\":{\"symbol\":\"circle\",\"line\":{\"width\":1,\"color\":\"rgba(0, 0, 0, 1.000)\"},\"size\":8,\"color\":\"rgba(0, 154, 250, 1.000)\"}},{\"yaxis\":\"y\",\"y\":[1.0,1.0,2.0,3.0,5.0,8.0,13.0,21.0,34.0,54.99999999999999],\"showlegend\":true,\"name\":\"y2\",\"type\":\"scatter\",\"xaxis\":\"x\",\"line\":{\"width\":1,\"dash\":\"solid\",\"color\":\"rgba(227, 111, 71, 1.000)\",\"shape\":\"linear\"},\"x\":[1,2,3,4,5,6,7,8,9,10],\"mode\":\"lines\"}], {\"yaxis\":{\"type\":\"-\",\"titlefont\":{\"size\":15,\"color\":\"rgba(0, 0, 0, 1.000)\",\"family\":\"sans-serif\"},\"title\":\"fib(n)\",\"tickfont\":{\"size\":11,\"color\":\"rgba(0, 0, 0, 1.000)\",\"family\":\"sans-serif\"},\"ticks\":\"inside\",\"tickmode\":\"array\",\"showgrid\":true,\"tickvals\":[0.0,20.0,40.0],\"domain\":[0.07581474190726165,0.9901574803149606],\"ticktext\":[\"0\",\"20\",\"40\"],\"tickangle\":0,\"zeroline\":false,\"linecolor\":\"rgba(0, 0, 0, 1.000)\",\"tickcolor\":\"rgba(0, 0, 0, 1.000)\",\"anchor\":\"x\"},\"annotations\":[],\"width\":600,\"plot_bgcolor\":\"rgba(255, 255, 255, 1.000)\",\"showlegend\":false,\"xaxis\":{\"type\":\"-\",\"titlefont\":{\"size\":15,\"color\":\"rgba(0, 0, 0, 1.000)\",\"family\":\"sans-serif\"},\"title\":\"n\",\"tickfont\":{\"size\":11,\"color\":\"rgba(0, 0, 0, 1.000)\",\"family\":\"sans-serif\"},\"ticks\":\"inside\",\"tickmode\":\"array\",\"showgrid\":true,\"tickvals\":[2.0,4.0,6.0,8.0,10.0],\"domain\":[0.061654272382618835,0.9934383202099737],\"ticktext\":[\"2\",\"4\",\"6\",\"8\",\"10\"],\"tickangle\":0,\"zeroline\":false,\"linecolor\":\"rgba(0, 0, 0, 1.000)\",\"tickcolor\":\"rgba(0, 0, 0, 1.000)\",\"anchor\":\"y\"},\"paper_bgcolor\":\"rgba(255, 255, 255, 1.000)\",\"height\":400,\"margin\":{\"r\":0,\"l\":0,\"b\":0,\"t\":20}});\n",
       "    </script>\n"
      ]
     },
     "execution_count": 77,
     "metadata": {},
     "output_type": "execute_result"
    }
   ],
   "source": [
    "fbn = map(fibb, n);\n",
    "plot!(n, fbn)"
   ]
  },
  {
   "cell_type": "code",
   "execution_count": 28,
   "metadata": {},
   "outputs": [
    {
     "data": {
      "text/plain": [
       "Dict{Int128,Int128} with 0 entries"
      ]
     },
     "execution_count": 28,
     "metadata": {},
     "output_type": "execute_result"
    }
   ],
   "source": [
    "fibdict = Dict{Int128, Int128}()"
   ]
  },
  {
   "cell_type": "code",
   "execution_count": 30,
   "metadata": {
    "collapsed": true
   },
   "outputs": [],
   "source": [
    "fibdict[1] = 1\n",
    "fibdict[2] = 1;"
   ]
  },
  {
   "cell_type": "code",
   "execution_count": 3,
   "metadata": {},
   "outputs": [
    {
     "data": {
      "text/plain": [
       "fib2 (generic function with 1 method)"
      ]
     },
     "execution_count": 3,
     "metadata": {},
     "output_type": "execute_result"
    }
   ],
   "source": [
    "function fib2(n)\n",
    "    if haskey(fibdict, n)\n",
    "        return fibdict[n]\n",
    "    elseif haskey(fibdict, n-1) && haskey(fibdict, n-2)\n",
    "        fibdict[n] = fibdict[n-1] + fibdict[n-2]\n",
    "        return fibdict[n]\n",
    "    else\n",
    "        return fib2(n-1) + fib2(n-2)\n",
    "    end\n",
    "end"
   ]
  },
  {
   "cell_type": "code",
   "execution_count": 32,
   "metadata": {},
   "outputs": [
    {
     "name": "stdout",
     "output_type": "stream",
     "text": [
      "elapsed time: 0.000344416 seconds\n"
     ]
    },
    {
     "data": {
      "text/plain": [
       "0.000344416"
      ]
     },
     "execution_count": 32,
     "metadata": {},
     "output_type": "execute_result"
    }
   ],
   "source": [
    "tic(); fib2(100); toc()"
   ]
  },
  {
   "cell_type": "code",
   "execution_count": 33,
   "metadata": {},
   "outputs": [
    {
     "data": {
      "text/plain": [
       "354224848179261915075"
      ]
     },
     "execution_count": 33,
     "metadata": {},
     "output_type": "execute_result"
    }
   ],
   "source": [
    "fib2(100)"
   ]
  },
  {
   "cell_type": "code",
   "execution_count": 31,
   "metadata": {},
   "outputs": [
    {
     "data": {
      "text/plain": [
       "2-element Array{Pair{Int128,Int128},1}:\n",
       " 1=>1\n",
       " 2=>1"
      ]
     },
     "execution_count": 31,
     "metadata": {},
     "output_type": "execute_result"
    }
   ],
   "source": [
    "sort(collect(fibdict), by=x->x[1])"
   ]
  },
  {
   "cell_type": "code",
   "execution_count": 15,
   "metadata": {},
   "outputs": [
    {
     "data": {
      "text/plain": [
       "4611686018427387904"
      ]
     },
     "execution_count": 15,
     "metadata": {},
     "output_type": "execute_result"
    }
   ],
   "source": [
    "2^62"
   ]
  },
  {
   "cell_type": "code",
   "execution_count": 34,
   "metadata": {},
   "outputs": [
    {
     "name": "stdout",
     "output_type": "stream",
     "text": [
      "search: \u001b[1mB\u001b[22m\u001b[1mi\u001b[22m\u001b[1mg\u001b[22m\u001b[1mI\u001b[22m\u001b[1mn\u001b[22m\u001b[1mt\u001b[22m disa\u001b[1mb\u001b[22mle_s\u001b[1mi\u001b[22m\u001b[1mg\u001b[22m\u001b[1mi\u001b[22m\u001b[1mn\u001b[22m\u001b[1mt\u001b[22m reena\u001b[1mb\u001b[22mle_s\u001b[1mi\u001b[22m\u001b[1mg\u001b[22m\u001b[1mi\u001b[22m\u001b[1mn\u001b[22m\u001b[1mt\u001b[22m set_\u001b[1mb\u001b[22m\u001b[1mi\u001b[22m\u001b[1mg\u001b[22mfloat_prec\u001b[1mi\u001b[22msio\u001b[1mn\u001b[22m\n",
      "\n"
     ]
    },
    {
     "data": {
      "text/markdown": [
       "```\n",
       "BigInt(x)\n",
       "```\n",
       "\n",
       "Create an arbitrary precision integer. `x` may be an `Int` (or anything that can be converted to an `Int`).  The usual mathematical operators are defined for this type, and results are promoted to a `BigInt`.\n",
       "\n",
       "Instances can be constructed from strings via [`parse`](:func:`parse`), or using the `big` string literal.\n"
      ],
      "text/plain": [
       "```\n",
       "BigInt(x)\n",
       "```\n",
       "\n",
       "Create an arbitrary precision integer. `x` may be an `Int` (or anything that can be converted to an `Int`).  The usual mathematical operators are defined for this type, and results are promoted to a `BigInt`.\n",
       "\n",
       "Instances can be constructed from strings via [`parse`](:func:`parse`), or using the `big` string literal.\n"
      ]
     },
     "execution_count": 34,
     "metadata": {},
     "output_type": "execute_result"
    }
   ],
   "source": [
    "?BigInt"
   ]
  },
  {
   "cell_type": "code",
   "execution_count": 37,
   "metadata": {},
   "outputs": [
    {
     "data": {
      "text/plain": [
       "10715086071862673209484250490600018105614048117055336074437503883703510511249361224931983788156958581275946729175531468251871452856923140435984577574698574803934567774824230985421074605062371141877954182153046474983581941267398767559165543946077062914571196477686542167660429831652624386837205668069376"
      ]
     },
     "execution_count": 37,
     "metadata": {},
     "output_type": "execute_result"
    }
   ],
   "source": [
    "BigInt(2)^1000"
   ]
  },
  {
   "cell_type": "code",
   "execution_count": 51,
   "metadata": {
    "collapsed": true
   },
   "outputs": [],
   "source": [
    "bigdict = Dict{Int,BigInt}()\n",
    "bigdict[1] = BigInt(1)\n",
    "bigdict[2] = BigInt(1);"
   ]
  },
  {
   "cell_type": "code",
   "execution_count": 52,
   "metadata": {},
   "outputs": [
    {
     "data": {
      "text/plain": [
       "1"
      ]
     },
     "execution_count": 52,
     "metadata": {},
     "output_type": "execute_result"
    }
   ],
   "source": [
    "bigdict[2]"
   ]
  },
  {
   "cell_type": "code",
   "execution_count": 53,
   "metadata": {},
   "outputs": [
    {
     "name": "stderr",
     "output_type": "stream",
     "text": [
      "WARNING: Method definition fib2(Any) in module Main at In[3]:2 overwritten at In[53]:2.\n"
     ]
    },
    {
     "data": {
      "text/plain": [
       "fib2 (generic function with 1 method)"
      ]
     },
     "execution_count": 53,
     "metadata": {},
     "output_type": "execute_result"
    }
   ],
   "source": [
    "function fib2(n)\n",
    "    if haskey(bigdict, n)\n",
    "        return bigdict[n]\n",
    "    elseif haskey(bigdict, n-1) && haskey(bigdict, n-2)\n",
    "        bigdict[n] = bigdict[n-1] + bigdict[n-2]\n",
    "        return bigdict[n]\n",
    "    else\n",
    "        return fib2(n-1) + fib2(n-2)\n",
    "    end\n",
    "end"
   ]
  },
  {
   "cell_type": "code",
   "execution_count": 56,
   "metadata": {},
   "outputs": [
    {
     "name": "stdout",
     "output_type": "stream",
     "text": [
      "elapsed time: 0.004261611 seconds\n"
     ]
    },
    {
     "data": {
      "text/plain": [
       "0.004261611"
      ]
     },
     "execution_count": 56,
     "metadata": {},
     "output_type": "execute_result"
    }
   ],
   "source": [
    "tic(); fib2(100); toc()"
   ]
  },
  {
   "cell_type": "code",
   "execution_count": 72,
   "metadata": {},
   "outputs": [
    {
     "name": "stdout",
     "output_type": "stream",
     "text": [
      "  0.000010 seconds (4 allocations: 160 bytes)\n"
     ]
    }
   ],
   "source": [
    "@time fib2(500);"
   ]
  },
  {
   "cell_type": "code",
   "execution_count": 61,
   "metadata": {},
   "outputs": [
    {
     "data": {
      "text/plain": [
       "timefib (generic function with 1 method)"
      ]
     },
     "execution_count": 61,
     "metadata": {},
     "output_type": "execute_result"
    }
   ],
   "source": [
    "function timefib(n)\n",
    "    bdict = Dict{Int, BigInt}(1=>1, 2=>1)\n",
    "    tic(); fib2(n); toc()\n",
    "end"
   ]
  },
  {
   "cell_type": "code",
   "execution_count": 70,
   "metadata": {},
   "outputs": [
    {
     "data": {
      "text/markdown": [
       "```\n",
       "@time\n",
       "```\n",
       "\n",
       "A macro to execute an expression, printing the time it took to execute, the number of allocations, and the total number of bytes its execution caused to be allocated, before returning the value of the expression.\n",
       "\n",
       "See also [`@timev`](:func:`@timev`), [`@timed`](:func:`@timed`), [`@elapsed`](:func:`@elapsed`), and [`@allocated`](:func:`@allocated`).\n"
      ],
      "text/plain": [
       "```\n",
       "@time\n",
       "```\n",
       "\n",
       "A macro to execute an expression, printing the time it took to execute, the number of allocations, and the total number of bytes its execution caused to be allocated, before returning the value of the expression.\n",
       "\n",
       "See also [`@timev`](:func:`@timev`), [`@timed`](:func:`@timed`), [`@elapsed`](:func:`@elapsed`), and [`@allocated`](:func:`@allocated`).\n"
      ]
     },
     "execution_count": 70,
     "metadata": {},
     "output_type": "execute_result"
    }
   ],
   "source": [
    "?@time"
   ]
  },
  {
   "cell_type": "code",
   "execution_count": 1,
   "metadata": {},
   "outputs": [
    {
     "name": "stdout",
     "output_type": "stream",
     "text": [
      "\n",
      "define i64 @\"jlsys_*_45794\"(i64, i64) #0 {\n",
      "top:\n",
      "  %2 = mul i64 %1, %0\n",
      "  ret i64 %2\n",
      "}\n"
     ]
    }
   ],
   "source": [
    "@code_llvm 2*5"
   ]
  },
  {
   "cell_type": "code",
   "execution_count": 8,
   "metadata": {},
   "outputs": [
    {
     "name": "stdout",
     "output_type": "stream",
     "text": [
      "\t.section\t__TEXT,__text,regular,pure_instructions\n",
      "Filename: math.jl\n",
      "\tpushq\t%rbp\n",
      "\tmovq\t%rsp, %rbp\n",
      "Source line: 358\n",
      "\tmovslq\t%edi, %rax\n",
      "\tcmpq\t%rdi, %rax\n",
      "\tjne\tL25\n",
      "\tmovabsq\t$__powidf2, %rax\n",
      "\tpopq\t%rbp\n",
      "\tjmpq\t*%rax\n",
      "L25:\n",
      "\tmovabsq\t$jl_throw, %rax\n",
      "\tmovabsq\t$4570871448, %rdi       ## imm = 0x11071F698\n",
      "\tcallq\t*%rax\n",
      "\tnop\n"
     ]
    }
   ],
   "source": [
    "@code_native ^(2.0,-5)"
   ]
  },
  {
   "cell_type": "code",
   "execution_count": 3,
   "metadata": {},
   "outputs": [
    {
     "data": {
      "text/plain": [
       "f (generic function with 2 methods)"
      ]
     },
     "execution_count": 3,
     "metadata": {},
     "output_type": "execute_result"
    }
   ],
   "source": [
    "function f(x)\n",
    "  return x^2 + 2x + 1\n",
    "end"
   ]
  },
  {
   "cell_type": "code",
   "execution_count": 4,
   "metadata": {},
   "outputs": [
    {
     "data": {
      "text/plain": [
       "16"
      ]
     },
     "execution_count": 4,
     "metadata": {},
     "output_type": "execute_result"
    }
   ],
   "source": [
    "f(3)"
   ]
  },
  {
   "cell_type": "code",
   "execution_count": 5,
   "metadata": {},
   "outputs": [
    {
     "data": {
      "text/plain": [
       "5-element Array{Int64,1}:\n",
       " 1\n",
       " 2\n",
       " 3\n",
       " 4\n",
       " 5"
      ]
     },
     "execution_count": 5,
     "metadata": {},
     "output_type": "execute_result"
    }
   ],
   "source": [
    "v = [1;2;3;4;5]"
   ]
  },
  {
   "cell_type": "code",
   "execution_count": 16,
   "metadata": {},
   "outputs": [
    {
     "name": "stdout",
     "output_type": "stream",
     "text": [
      "  0.000153 seconds (32 allocations: 1.266 KB)\n"
     ]
    },
    {
     "data": {
      "text/plain": [
       "5-element Array{Int64,1}:\n",
       "  4\n",
       "  9\n",
       " 16\n",
       " 25\n",
       " 36"
      ]
     },
     "execution_count": 16,
     "metadata": {},
     "output_type": "execute_result"
    }
   ],
   "source": [
    "@time f.(v)"
   ]
  },
  {
   "cell_type": "code",
   "execution_count": 14,
   "metadata": {},
   "outputs": [
    {
     "name": "stdout",
     "output_type": "stream",
     "text": [
      "  0.000062 seconds (7 allocations: 320 bytes)\n"
     ]
    },
    {
     "data": {
      "text/plain": [
       "5-element Array{Int64,1}:\n",
       "  4\n",
       "  9\n",
       " 16\n",
       " 25\n",
       " 36"
      ]
     },
     "execution_count": 14,
     "metadata": {},
     "output_type": "execute_result"
    }
   ],
   "source": [
    "@time map(f,v)"
   ]
  },
  {
   "cell_type": "code",
   "execution_count": 2,
   "metadata": {
    "collapsed": true
   },
   "outputs": [],
   "source": [
    "using PyPlot"
   ]
  },
  {
   "cell_type": "code",
   "execution_count": 4,
   "metadata": {
    "collapsed": true
   },
   "outputs": [],
   "source": [
    "using PyCall"
   ]
  },
  {
   "cell_type": "code",
   "execution_count": 9,
   "metadata": {},
   "outputs": [
    {
     "data": {
      "image/png": "[encoded data removed]",
      "text/plain": [
       "PyPlot.Figure(PyObject <matplotlib.figure.Figure object at 0x325bf8e90>)"
      ]
     },
     "metadata": {},
     "output_type": "display_data"
    }
   ],
   "source": [
    "@pyimport pylab\n",
    "x = linspace(0,2*pi,1000); y = sin(3*x + 4*cos(2*x));\n",
    "pylab.plot(x, y; color=\"red\", linewidth=2.0, linestyle=\"--\")\n",
    "pylab.show() "
   ]
  },
  {
   "cell_type": "code",
   "execution_count": 1,
   "metadata": {
    "collapsed": true
   },
   "outputs": [],
   "source": [
    "using Conda"
   ]
  },
  {
   "cell_type": "code",
   "execution_count": 2,
   "metadata": {},
   "outputs": [
    {
     "data": {
      "text/plain": [
       "\"/Users/gary/.julia/v0.5/Conda/deps/usr/bin\""
      ]
     },
     "execution_count": 2,
     "metadata": {},
     "output_type": "execute_result"
    }
   ],
   "source": [
    "Conda.PYTHONDIR"
   ]
  },
  {
   "cell_type": "code",
   "execution_count": 6,
   "metadata": {},
   "outputs": [
    {
     "data": {
      "text/plain": [
       "\"/Users/gary/.julia/v0.5/Conda/deps/usr/bin\""
      ]
     },
     "execution_count": 6,
     "metadata": {},
     "output_type": "execute_result"
    }
   ],
   "source": [
    "Conda.SCRIPTDIR"
   ]
  },
  {
   "cell_type": "code",
   "execution_count": null,
   "metadata": {
    "collapsed": true
   },
   "outputs": [],
   "source": []
  }
 ],
 "metadata": {
  "anaconda-cloud": {},
  "hide_input": false,
  "kernelspec": {
   "display_name": "Julia 0.7.0",
   "language": "julia",
   "name": "julia-0.7"
  },
  "language_info": {
   "file_extension": ".jl",
   "mimetype": "application/julia",
   "name": "julia",
   "version": "0.7.0"
  },
  "latex_envs": {
   "bibliofile": "biblio.bib",
   "cite_by": "apalike",
   "current_citInitial": 1,
   "eqLabelWithNumbers": true,
   "eqNumInitial": 0
  }
 },
 "nbformat": 4,
 "nbformat_minor": 1
}
