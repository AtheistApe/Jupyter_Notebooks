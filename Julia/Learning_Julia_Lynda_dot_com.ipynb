{
 "cells": [
  {
   "cell_type": "code",
   "execution_count": 1,
   "metadata": {},
   "outputs": [
    {
     "name": "stdout",
     "output_type": "stream",
     "text": [
      "i = 1\n",
      "i = 2\n",
      "i = 3\n",
      "i = 4\n",
      "i = 5\n",
      "i = 6\n",
      "i = 7\n",
      "i = 8\n",
      "i = 9\n",
      "i = 10\n"
     ]
    }
   ],
   "source": [
    "for i in 1:10\n",
    "    print(\"i = $i\\n\")\n",
    "end"
   ]
  },
  {
   "cell_type": "code",
   "execution_count": 6,
   "metadata": {},
   "outputs": [
    {
     "name": "stdout",
     "output_type": "stream",
     "text": [
      "3 4 5 4 5 6 5 6 7 "
     ]
    }
   ],
   "source": [
    "for i in 1:3, j in 2:4\n",
    "     print(i+j,\" \")\n",
    "end"
   ]
  },
  {
   "cell_type": "code",
   "execution_count": 11,
   "metadata": {},
   "outputs": [
    {
     "name": "stdout",
     "output_type": "stream",
     "text": [
      "1\n",
      "2\n",
      "3\n",
      "4\n",
      "5\n"
     ]
    }
   ],
   "source": [
    "i = 1\n",
    "\n",
    "while i <= 5\n",
    "    println(i)\n",
    "    i += 1\n",
    "end"
   ]
  },
  {
   "cell_type": "code",
   "execution_count": 10,
   "metadata": {},
   "outputs": [
    {
     "data": {
      "text/plain": [
       "6"
      ]
     },
     "execution_count": 10,
     "metadata": {},
     "output_type": "execute_result"
    }
   ],
   "source": [
    "i"
   ]
  },
  {
   "cell_type": "code",
   "execution_count": 19,
   "metadata": {},
   "outputs": [
    {
     "name": "stdout",
     "output_type": "stream",
     "text": [
      "1, dog\n",
      "2, cat\n",
      "3, broom\n",
      "4, window\n",
      "5, jacket\n"
     ]
    }
   ],
   "source": [
    "stuff = (\"dog\", \"cat\", \"broom\", \"window\", \"jacket\")\n",
    "\n",
    "for (idx, thing) in enumerate(stuff)\n",
    "    println(\"$idx, $thing\")\n",
    "end"
   ]
  },
  {
   "cell_type": "code",
   "execution_count": 20,
   "metadata": {},
   "outputs": [
    {
     "data": {
      "text/plain": [
       "myfunc (generic function with 1 method)"
      ]
     },
     "execution_count": 20,
     "metadata": {},
     "output_type": "execute_result"
    }
   ],
   "source": [
    "function myfunc(a, b)\n",
    "    println(\"This is a function\")\n",
    "    a + b\n",
    "end"
   ]
  },
  {
   "cell_type": "code",
   "execution_count": 26,
   "metadata": {},
   "outputs": [
    {
     "name": "stdout",
     "output_type": "stream",
     "text": [
      "This is a function\n"
     ]
    }
   ],
   "source": [
    "result = myfunc(2, 3);"
   ]
  },
  {
   "cell_type": "code",
   "execution_count": 27,
   "metadata": {},
   "outputs": [
    {
     "data": {
      "text/plain": [
       "5"
      ]
     },
     "execution_count": 27,
     "metadata": {},
     "output_type": "execute_result"
    }
   ],
   "source": [
    "result"
   ]
  },
  {
   "cell_type": "code",
   "execution_count": 25,
   "metadata": {},
   "outputs": [
    {
     "name": "stdout",
     "output_type": "stream",
     "text": [
      "5"
     ]
    }
   ],
   "source": [
    "print(result)"
   ]
  },
  {
   "cell_type": "code",
   "execution_count": 35,
   "metadata": {},
   "outputs": [
    {
     "data": {
      "text/plain": [
       "summit (generic function with 1 method)"
      ]
     },
     "execution_count": 35,
     "metadata": {},
     "output_type": "execute_result"
    }
   ],
   "source": [
    "function summit(args...)\n",
    "    sum = 0\n",
    "    for arg in args\n",
    "        sum += arg\n",
    "    end\n",
    "    return sum\n",
    "end"
   ]
  },
  {
   "cell_type": "code",
   "execution_count": 37,
   "metadata": {},
   "outputs": [
    {
     "data": {
      "text/plain": [
       "109"
      ]
     },
     "execution_count": 37,
     "metadata": {},
     "output_type": "execute_result"
    }
   ],
   "source": [
    "summit(21, 13, 11, 15, 9, 18, 22)"
   ]
  },
  {
   "cell_type": "code",
   "execution_count": 39,
   "metadata": {},
   "outputs": [
    {
     "name": "stdout",
     "output_type": "stream",
     "text": [
      "DomainError(-9.0, \"sqrt will only return a complex result if called with a complex argument. Try sqrt(Complex(x)).\")\n",
      "This line is always executed\n"
     ]
    }
   ],
   "source": [
    "arg = -9\n",
    "\n",
    "try\n",
    "    x = sqrt(arg)\n",
    "    println(x)\n",
    "catch ex\n",
    "    println(ex)\n",
    "finally\n",
    "    println(\"This line is always executed\")\n",
    "end\n",
    "\n",
    "    "
   ]
  },
  {
   "cell_type": "code",
   "execution_count": 41,
   "metadata": {},
   "outputs": [
    {
     "data": {
      "text/plain": [
       "5-element Array{Int64,1}:\n",
       " 1\n",
       " 2\n",
       " 3\n",
       " 4\n",
       " 5"
      ]
     },
     "execution_count": 41,
     "metadata": {},
     "output_type": "execute_result"
    }
   ],
   "source": [
    "arr = [1,2,3,4,5]"
   ]
  },
  {
   "cell_type": "code",
   "execution_count": 44,
   "metadata": {},
   "outputs": [
    {
     "name": "stdout",
     "output_type": "stream",
     "text": [
      "stuff\n",
      "3.4\n"
     ]
    }
   ],
   "source": [
    "tupl = (a=5, b=\"stuff\", c=3.4)\n",
    "println(tupl.b)\n",
    "println(tupl[3])"
   ]
  },
  {
   "cell_type": "code",
   "execution_count": 49,
   "metadata": {},
   "outputs": [
    {
     "name": "stdout",
     "output_type": "stream",
     "text": [
      "Set{Any}\n",
      "Set(Any[\"string\", 4.0, 3.0, 'c'])\n"
     ]
    },
    {
     "data": {
      "text/plain": [
       "true"
      ]
     },
     "execution_count": 49,
     "metadata": {},
     "output_type": "execute_result"
    }
   ],
   "source": [
    "set1 = Set()\n",
    "println(typeof(set1))\n",
    "\n",
    "push!(set1, 3, \"string\", 4.0, 3, 3.0, 'c')\n",
    "println(set1)\n",
    "\n",
    "4 in set1"
   ]
  },
  {
   "cell_type": "code",
   "execution_count": 59,
   "metadata": {},
   "outputs": [
    {
     "name": "stdout",
     "output_type": "stream",
     "text": [
      "Set([4, 2, 3, 5, 6, 1])\n",
      "Set{Int64}\n"
     ]
    },
    {
     "data": {
      "text/plain": [
       "Set([4, 34, 2, 3, 5, 6, 1])"
      ]
     },
     "execution_count": 59,
     "metadata": {},
     "output_type": "execute_result"
    }
   ],
   "source": [
    "set2 = Set([1,2,3,4,5,6])\n",
    "println(set2)\n",
    "println(typeof(set2))\n",
    "\n",
    "push!(set2, 34)"
   ]
  },
  {
   "cell_type": "code",
   "execution_count": 62,
   "metadata": {},
   "outputs": [
    {
     "data": {
      "text/plain": [
       "Set(String[])"
      ]
     },
     "execution_count": 62,
     "metadata": {},
     "output_type": "execute_result"
    }
   ],
   "source": [
    "rainbow = Set{String}()"
   ]
  },
  {
   "cell_type": "code",
   "execution_count": 63,
   "metadata": {},
   "outputs": [
    {
     "data": {
      "text/plain": [
       "Set([\"yellow\", \"blue\", \"violet\", \"green\", \"red\"])"
      ]
     },
     "execution_count": 63,
     "metadata": {},
     "output_type": "execute_result"
    }
   ],
   "source": [
    "push!(rainbow, \"blue\", \"red\", \"green\", \"yellow\", \"violet\")"
   ]
  },
  {
   "cell_type": "code",
   "execution_count": 65,
   "metadata": {},
   "outputs": [
    {
     "name": "stdout",
     "output_type": "stream",
     "text": [
      "Set([\"yellow\", \"blue\", \"violet\", \"green\", \"red\"])"
     ]
    }
   ],
   "source": [
    "print(rainbow)"
   ]
  },
  {
   "cell_type": "code",
   "execution_count": 68,
   "metadata": {},
   "outputs": [
    {
     "name": "stdout",
     "output_type": "stream",
     "text": [
      "Set([1, 16, 5, 8, 12, 18])\n",
      "Set([7, 14, 2, 3, 19, 17, 5, 8])\n",
      "Set([1, 2, 16, 7, 19, 17, 8, 3, 5, 14, 12, 18])\n",
      "Set([5, 8])\n",
      "Set([1, 16, 12, 18])\n"
     ]
    }
   ],
   "source": [
    "set1 = Set(rand(1:20, 10))\n",
    "set2 = Set(rand(1:20, 10))\n",
    "\n",
    "set_union = union(set1, set2)\n",
    "set_intersection = intersect(set1, set2)\n",
    "set_difference = setdiff(set1, set2)\n",
    "\n",
    "println(set1)\n",
    "println(set2)\n",
    "println(set_union)\n",
    "println(set_intersection)\n",
    "println(set_difference)"
   ]
  },
  {
   "cell_type": "code",
   "execution_count": 69,
   "metadata": {},
   "outputs": [
    {
     "name": "stdout",
     "output_type": "stream",
     "text": [
      "Dict(\"c\"=>3,\"b\"=>2,\"a\"=>1)\n"
     ]
    }
   ],
   "source": [
    "d1 = Dict(\"a\" => 1, \"b\" => 2, \"c\" => 3)\n",
    "println(d1)"
   ]
  },
  {
   "cell_type": "code",
   "execution_count": 70,
   "metadata": {},
   "outputs": [
    {
     "name": "stdout",
     "output_type": "stream",
     "text": [
      "Dict(\"key1\"=>\"val1\")\n"
     ]
    }
   ],
   "source": [
    "d2 = Dict{String, String}()\n",
    "d2[\"key1\"] = \"val1\"\n",
    "println(d2)"
   ]
  },
  {
   "cell_type": "code",
   "execution_count": 71,
   "metadata": {},
   "outputs": [
    {
     "name": "stdout",
     "output_type": "stream",
     "text": [
      "2\n"
     ]
    }
   ],
   "source": [
    "println(d1[\"b\"])"
   ]
  },
  {
   "cell_type": "code",
   "execution_count": 72,
   "metadata": {},
   "outputs": [
    {
     "name": "stdout",
     "output_type": "stream",
     "text": [
      "Dict(\"c\"=>3,\"b\"=>2,\"a\"=>1,\"d\"=>4)\n"
     ]
    }
   ],
   "source": [
    "d1[\"d\"] = 4\n",
    "println(d1)"
   ]
  },
  {
   "cell_type": "code",
   "execution_count": 73,
   "metadata": {},
   "outputs": [
    {
     "name": "stdout",
     "output_type": "stream",
     "text": [
      "false\n"
     ]
    }
   ],
   "source": [
    "println(haskey(d1, \"e\"))"
   ]
  },
  {
   "cell_type": "code",
   "execution_count": 74,
   "metadata": {},
   "outputs": [
    {
     "name": "stdout",
     "output_type": "stream",
     "text": [
      "Dict(\"b\"=>2,\"a\"=>1,\"d\"=>4)\n"
     ]
    }
   ],
   "source": [
    "delete!(d1, \"c\")\n",
    "println(d1)"
   ]
  },
  {
   "cell_type": "code",
   "execution_count": 75,
   "metadata": {},
   "outputs": [
    {
     "name": "stdout",
     "output_type": "stream",
     "text": [
      "[\"b\", \"a\", \"d\"]\n",
      "[2, 1, 4]\n"
     ]
    }
   ],
   "source": [
    "println(keys(d1))\n",
    "println(values(d1))"
   ]
  },
  {
   "cell_type": "code",
   "execution_count": 76,
   "metadata": {},
   "outputs": [
    {
     "name": "stdout",
     "output_type": "stream",
     "text": [
      "b, 2\n",
      "a, 1\n",
      "d, 4\n"
     ]
    }
   ],
   "source": [
    "for (key, value) in d1\n",
    "    println(key, \", \", value)\n",
    "end"
   ]
  },
  {
   "cell_type": "code",
   "execution_count": 77,
   "metadata": {},
   "outputs": [],
   "source": [
    "using Random # import \"Random\" module"
   ]
  },
  {
   "cell_type": "code",
   "execution_count": 78,
   "metadata": {},
   "outputs": [
    {
     "name": "stdout",
     "output_type": "stream",
     "text": [
      "0.3260354304306865\n"
     ]
    }
   ],
   "source": [
    "println(rand()) # generate a randome number between 0 and 1"
   ]
  },
  {
   "cell_type": "code",
   "execution_count": 80,
   "metadata": {},
   "outputs": [
    {
     "name": "stdout",
     "output_type": "stream",
     "text": [
      "3\n",
      "2\n",
      "3\n"
     ]
    }
   ],
   "source": [
    "for i in 1:3\n",
    "    println(rand([1,2,3,4,5,6]))\n",
    "end"
   ]
  },
  {
   "cell_type": "code",
   "execution_count": 81,
   "metadata": {},
   "outputs": [
    {
     "name": "stdout",
     "output_type": "stream",
     "text": [
      "UInt8[0xf6, 0x43, 0xe1, 0x42, 0x28]\n"
     ]
    }
   ],
   "source": [
    "arr = rand(UInt8, 5)\n",
    "println(arr)"
   ]
  },
  {
   "cell_type": "code",
   "execution_count": 88,
   "metadata": {},
   "outputs": [
    {
     "name": "stdout",
     "output_type": "stream",
     "text": [
      "DDCCDCAA\n",
      "vjicxknkqboudydayezi\n"
     ]
    }
   ],
   "source": [
    "println(randstring(\"ABCD\"))\n",
    "println(randstring('a':'z', 20))"
   ]
  },
  {
   "cell_type": "code",
   "execution_count": 89,
   "metadata": {},
   "outputs": [
    {
     "name": "stdout",
     "output_type": "stream",
     "text": [
      "[\"E\", \"I\", \"O\", \"U\", \"A\"]\n"
     ]
    }
   ],
   "source": [
    "vowels = [\"A\", \"E\", \"I\", \"O\", \"U\"]\n",
    "Random.shuffle!(vowels)\n",
    "println(vowels)"
   ]
  },
  {
   "cell_type": "code",
   "execution_count": 90,
   "metadata": {},
   "outputs": [
    {
     "name": "stdout",
     "output_type": "stream",
     "text": [
      "0.6051120360474347\n",
      "0.9173065075560396\n",
      "-------------------\n",
      "0.6051120360474347\n",
      "0.9173065075560396\n"
     ]
    }
   ],
   "source": [
    "Random.seed!(1000)\n",
    "println(rand())\n",
    "println(rand())\n",
    "println(\"-------------------\")\n",
    "Random.seed!(1000)\n",
    "println(rand())\n",
    "println(rand())"
   ]
  },
  {
   "cell_type": "code",
   "execution_count": 91,
   "metadata": {},
   "outputs": [
    {
     "data": {
      "text/plain": [
       "\"jμΛIα\""
      ]
     },
     "execution_count": 91,
     "metadata": {},
     "output_type": "execute_result"
    }
   ],
   "source": [
    "mystr = \"Angstrom\"\n",
    "teststr = \"jμΛIα\""
   ]
  },
  {
   "cell_type": "code",
   "execution_count": 94,
   "metadata": {},
   "outputs": [
    {
     "name": "stdout",
     "output_type": "stream",
     "text": [
      "String length: 5\n",
      "Size of string: 8\n"
     ]
    }
   ],
   "source": [
    "println(\"String length: \",length(teststr))\n",
    "println(\"Size of string: \", sizeof(teststr))"
   ]
  },
  {
   "cell_type": "code",
   "execution_count": 95,
   "metadata": {},
   "outputs": [
    {
     "data": {
      "text/plain": [
       "\"Hello World\""
      ]
     },
     "execution_count": 95,
     "metadata": {},
     "output_type": "execute_result"
    }
   ],
   "source": [
    "teststr = \"Hello \" * \"World\""
   ]
  },
  {
   "cell_type": "code",
   "execution_count": 96,
   "metadata": {},
   "outputs": [
    {
     "data": {
      "text/plain": [
       "\"ABCDABCDABCD\""
      ]
     },
     "execution_count": 96,
     "metadata": {},
     "output_type": "execute_result"
    }
   ],
   "source": [
    "teststr = \"ABCD\" ^ 3"
   ]
  },
  {
   "cell_type": "code",
   "execution_count": 98,
   "metadata": {},
   "outputs": [
    {
     "name": "stdout",
     "output_type": "stream",
     "text": [
      "1:5\n",
      "true\n"
     ]
    }
   ],
   "source": [
    "teststr = \"Julia programming is awesome\"\n",
    "\n",
    "println(findnext(\"Julia\", teststr, 0))\n",
    "println(occursin(\"some\", teststr))"
   ]
  },
  {
   "cell_type": "code",
   "execution_count": 99,
   "metadata": {},
   "outputs": [
    {
     "name": "stdout",
     "output_type": "stream",
     "text": [
      "         Test String\n"
     ]
    }
   ],
   "source": [
    "teststr = lpad(\"Test String\", 20)\n",
    "println(teststr)"
   ]
  },
  {
   "cell_type": "code",
   "execution_count": 100,
   "metadata": {},
   "outputs": [
    {
     "name": "stdout",
     "output_type": "stream",
     "text": [
      "Test String*********\n"
     ]
    }
   ],
   "source": [
    "teststr = rpad(\"Test String\", 20, '*')\n",
    "println(teststr)"
   ]
  },
  {
   "cell_type": "code",
   "execution_count": 101,
   "metadata": {},
   "outputs": [
    {
     "name": "stdout",
     "output_type": "stream",
     "text": [
      "Lions, Tigers and Bears\n"
     ]
    }
   ],
   "source": [
    "arr = [\"Lions\", \"Tigers\", \"Bears\"]\n",
    "teststr = join(arr, \", \", \" and \")\n",
    "println(teststr)"
   ]
  },
  {
   "cell_type": "code",
   "execution_count": 102,
   "metadata": {
    "scrolled": false
   },
   "outputs": [
    {
     "name": "stdout",
     "output_type": "stream",
     "text": [
      "/home/gary/Documents/Jupyter_Notebooks/Julia\n",
      "[\".DS_Store\", \".ipynb\", \".ipynb_checkpoints\", \"An Interesting Series.ipynb\", \"ArcLength.ipynb\", \"Contour_Plots.ipynb\", \"Directional_derivative.ipynb\", \"Double Integral.ipynb\", \"Double Integrals.ipynb\", \"Fibonacci.ipynb\", \"ForwardDiff Examples.ipynb\", \"Gradient_Descent.ipynb\", \"Infinite Series.ipynb\", \"Interact with Julia.ipynb\", \"JuliaCourseNotebooks\", \"Julia_Type_Tree.png\", \"Julia_for_Pythonistas\", \"Learning_Julia_Lynda_dot_com.ipynb\", \"Luxor.ipynb\", \"Math 252 Spring 2017 Exam 2 Problems.ipynb\", \"Messing Around with Julia.ipynb\", \"Multiple Integrals in Julia using HCubature.ipynb\", \"Nested cylinders.ipynb\", \"Numeric Integration.ipynb\", \"Plots_GR_backend.ipynb\", \"Power series representations of functions.ipynb\", \"Scoping_Rules.ipynb\", \"Series.ipynb\", \"SlopeField.ipynb\", \"Stacked rings.ipynb\", \"The Directional Derivative.ipynb\", \"Type and Multiple Dispatch Examples.ipynb\", \"Untitled1.ipynb\", \"Volume_by_cross_section.png\", \"WAfricanEVD.pdf\", \"WAfricanEVD.png\", \"WAfricanEVD_noformatspecified.png\", \"WAfricanEVDbycountry.png\", \"Week 1.ipynb\", \"Week 2.ipynb\", \"Week 3.ipynb\", \"example.png\", \"gks.svg\", \"hands_on_julia\", \"intermediate_julia\", \"litsampling.dat\", \"luxor-drawing-155820_621.png\", \"luxor-drawing-155938_912.pdf\", \"luxor-drawing-160008_724.pdf\", \"luxor-drawing-160042_495.png\", \"luxor-drawing-160229_81.png\", \"luxor-drawing-160925_227.png\", \"luxor-drawing-161217_81.svg\", \"luxor-drawing-161727_794.png\", \"luxor-drawing-161800_819.png\", \"luxor-drawing-161806_421.png\", \"luxor-drawing-161809_357.png\", \"luxor-drawing-161906_23.png\", \"luxor-drawing-161940_345.png\", \"luxor-drawing-161945_659.png\", \"luxor-drawing-162003_414.png\", \"luxor-drawing-162122_478.svg\", \"luxor-drawing-200421_018.svg\", \"luxor-drawing-200448_355.svg\", \"luxor-drawing-200602_975.svg\", \"luxor-drawing-200609_368.svg\", \"luxor-drawing-200620_534.svg\", \"tmp.gif\", \"wikipediaEVDdatesconverted.csv\", \"wikipediaEVDraw.csv\"]\n"
     ]
    }
   ],
   "source": [
    "println(pwd())\n",
    "println(readdir())"
   ]
  },
  {
   "cell_type": "code",
   "execution_count": 106,
   "metadata": {},
   "outputs": [
    {
     "data": {
      "text/plain": [
       "createafile (generic function with 2 methods)"
      ]
     },
     "execution_count": 106,
     "metadata": {},
     "output_type": "execute_result"
    }
   ],
   "source": [
    "function createafile(filename::String, text::String = \"This is some text\")\n",
    "    io = open(filename, \"w\")\n",
    "    write(io, text)\n",
    "    close(io)\n",
    "end"
   ]
  },
  {
   "cell_type": "code",
   "execution_count": 108,
   "metadata": {},
   "outputs": [],
   "source": [
    "createafile(\"somefile.txt\", \"Hello World!\")"
   ]
  },
  {
   "cell_type": "code",
   "execution_count": 109,
   "metadata": {},
   "outputs": [
    {
     "data": {
      "text/plain": [
       "readafile (generic function with 1 method)"
      ]
     },
     "execution_count": 109,
     "metadata": {},
     "output_type": "execute_result"
    }
   ],
   "source": [
    "function readafile(filename::String)\n",
    "    io = open(filename, \"r\")\n",
    "    content = read(io, String)\n",
    "    println(content)\n",
    "    close(io)\n",
    "end "
   ]
  },
  {
   "cell_type": "code",
   "execution_count": 110,
   "metadata": {},
   "outputs": [
    {
     "name": "stdout",
     "output_type": "stream",
     "text": [
      "Hello World!\n"
     ]
    }
   ],
   "source": [
    "readafile(\"somefile.txt\")"
   ]
  },
  {
   "cell_type": "code",
   "execution_count": 111,
   "metadata": {},
   "outputs": [
    {
     "data": {
      "text/plain": [
       "appendtoafile (generic function with 1 method)"
      ]
     },
     "execution_count": 111,
     "metadata": {},
     "output_type": "execute_result"
    }
   ],
   "source": [
    "function appendtoafile(filename::String, text::String)\n",
    "    io = open(filename, \"a\")\n",
    "    write(io, text)\n",
    "    close(io)\n",
    "end"
   ]
  },
  {
   "cell_type": "code",
   "execution_count": 112,
   "metadata": {},
   "outputs": [
    {
     "name": "stdout",
     "output_type": "stream",
     "text": [
      "Hello World!This text was added.\n"
     ]
    }
   ],
   "source": [
    "appendtoafile(\"somefile.txt\", \"This text was added.\")\n",
    "readafile(\"somefile.txt\")"
   ]
  },
  {
   "cell_type": "code",
   "execution_count": 113,
   "metadata": {},
   "outputs": [
    {
     "data": {
      "text/plain": [
       "renameafile (generic function with 1 method)"
      ]
     },
     "execution_count": 113,
     "metadata": {},
     "output_type": "execute_result"
    }
   ],
   "source": [
    "function renameafile(sourcefile::String, destfile::String)\n",
    "    mv(sourcefile, destfile)\n",
    "end"
   ]
  },
  {
   "cell_type": "code",
   "execution_count": 114,
   "metadata": {},
   "outputs": [
    {
     "data": {
      "text/plain": [
       "\"mytestfile.txt\""
      ]
     },
     "execution_count": 114,
     "metadata": {},
     "output_type": "execute_result"
    }
   ],
   "source": [
    "renameafile(\"somefile.txt\", \"mytestfile.txt\")"
   ]
  },
  {
   "cell_type": "code",
   "execution_count": 115,
   "metadata": {},
   "outputs": [],
   "source": [
    "rm(\"mytestfile.txt\") # remove the file"
   ]
  },
  {
   "cell_type": "code",
   "execution_count": 2,
   "metadata": {},
   "outputs": [],
   "source": [
    "using Dates"
   ]
  },
  {
   "cell_type": "code",
   "execution_count": 3,
   "metadata": {},
   "outputs": [
    {
     "name": "stdout",
     "output_type": "stream",
     "text": [
      "Date and DateTime:\n",
      "2018-12-22\n",
      "2019-07-28T00:00:00\n"
     ]
    }
   ],
   "source": [
    "d1 = Date(2018, 12, 22)\n",
    "dt1 = DateTime(2019, 7, 28)\n",
    "\n",
    "println(\"Date and DateTime:\")\n",
    "println(d1, \"\\n\", dt1)"
   ]
  },
  {
   "cell_type": "code",
   "execution_count": 8,
   "metadata": {},
   "outputs": [
    {
     "name": "stdout",
     "output_type": "stream",
     "text": [
      "2020-10-10\n"
     ]
    }
   ],
   "source": [
    "df1 = DateFormat(\"y-m-d\")\n",
    "d2 = Date(\"2020-10-10\", df1)\n",
    "println(d2)"
   ]
  },
  {
   "cell_type": "code",
   "execution_count": 9,
   "metadata": {},
   "outputs": [
    {
     "name": "stdout",
     "output_type": "stream",
     "text": [
      "2015-03-22\n"
     ]
    }
   ],
   "source": [
    "df2 = DateFormat(\"y:m=d\")\n",
    "d3 = Date(\"2015:03=22\", df2)\n",
    "println(d3)"
   ]
  },
  {
   "cell_type": "code",
   "execution_count": 12,
   "metadata": {},
   "outputs": [
    {
     "name": "stdout",
     "output_type": "stream",
     "text": [
      "true\n",
      "147 days\n",
      "-31536000000 milliseconds\n"
     ]
    }
   ],
   "source": [
    "d3 = Date(2019,12,22)\n",
    "d4 = Date(2019,7,28)\n",
    "\n",
    "dt3 = DateTime(2000,1,1)\n",
    "dt4 = DateTime(2000,12,31)\n",
    "\n",
    "println(d4 < d3)\n",
    "println(d3 - d4)\n",
    "\n",
    "println(dt3 - dt4) # in milliseconds"
   ]
  },
  {
   "cell_type": "code",
   "execution_count": 13,
   "metadata": {},
   "outputs": [
    {
     "name": "stdout",
     "output_type": "stream",
     "text": [
      "2019\n",
      "51\n"
     ]
    }
   ],
   "source": [
    "println(Dates.year(d3))\n",
    "println(Dates.week(d3))"
   ]
  },
  {
   "cell_type": "code",
   "execution_count": 15,
   "metadata": {},
   "outputs": [
    {
     "name": "stdout",
     "output_type": "stream",
     "text": [
      "7\n",
      "Sunday\n",
      "false\n"
     ]
    }
   ],
   "source": [
    "println(Dates.dayofweek(d3))\n",
    "println(Dates.dayname(d3))\n",
    "println(Dates.isleapyear(d3))"
   ]
  },
  {
   "cell_type": "code",
   "execution_count": 17,
   "metadata": {},
   "outputs": [
    {
     "name": "stdout",
     "output_type": "stream",
     "text": [
      "2019-07-22\n",
      "2019-07-31\n"
     ]
    }
   ],
   "source": [
    "println(Dates.firstdayofweek(d4))\n",
    "println(Dates.lastdayofmonth(d4))"
   ]
  },
  {
   "cell_type": "code",
   "execution_count": 18,
   "metadata": {},
   "outputs": [],
   "source": [
    "struct MyType\n",
    "    field1::Int\n",
    "    field2::String\n",
    "end"
   ]
  },
  {
   "cell_type": "code",
   "execution_count": 19,
   "metadata": {},
   "outputs": [
    {
     "name": "stdout",
     "output_type": "stream",
     "text": [
      "MyType(10, \"ABC\")\n"
     ]
    }
   ],
   "source": [
    "x = MyType(10, \"ABC\")\n",
    "println(x)"
   ]
  },
  {
   "cell_type": "code",
   "execution_count": 21,
   "metadata": {},
   "outputs": [
    {
     "name": "stdout",
     "output_type": "stream",
     "text": [
      "10\n",
      "ABC\n"
     ]
    }
   ],
   "source": [
    "println(x.field1)\n",
    "println(x.field2)"
   ]
  },
  {
   "cell_type": "code",
   "execution_count": 22,
   "metadata": {},
   "outputs": [],
   "source": [
    "mutable struct MyMutableType\n",
    "    field1::Int\n",
    "    field2::String\n",
    "end"
   ]
  },
  {
   "cell_type": "code",
   "execution_count": 23,
   "metadata": {},
   "outputs": [
    {
     "data": {
      "text/plain": [
       "MyMutableType(20, \"ABC\")"
      ]
     },
     "execution_count": 23,
     "metadata": {},
     "output_type": "execute_result"
    }
   ],
   "source": [
    "x = MyMutableType(20, \"ABC\")"
   ]
  },
  {
   "cell_type": "code",
   "execution_count": 26,
   "metadata": {},
   "outputs": [
    {
     "name": "stdout",
     "output_type": "stream",
     "text": [
      "MyMutableType(30, \"Gary Church\")\n",
      "Gary Church\n"
     ]
    }
   ],
   "source": [
    "x.field1 = 30\n",
    "x.field2 = \"Gary Church\"\n",
    "println(x)\n",
    "println(x.field2)"
   ]
  },
  {
   "cell_type": "code",
   "execution_count": 27,
   "metadata": {},
   "outputs": [
    {
     "name": "stdout",
     "output_type": "stream",
     "text": [
      "true\n"
     ]
    }
   ],
   "source": [
    "println(isa(x, MyMutableType))"
   ]
  },
  {
   "cell_type": "code",
   "execution_count": 36,
   "metadata": {},
   "outputs": [
    {
     "name": "stdout",
     "output_type": "stream",
     "text": [
      "[25, -19, -4, 3, 21, -26, 16, 14, -25, -2]\n",
      "\n",
      "\n",
      "[-26, -25, -19, -4, -2, 3, 14, 16, 21, 25]\n",
      "[25, -19, -4, 3, 21, -26, 16, 14, -25, -2]\n",
      "\n",
      "\n",
      "[-26, -25, -19, -4, -2, 3, 14, 16, 21, 25]\n",
      "[-26, -25, -19, -4, -2, 3, 14, 16, 21, 25]\n"
     ]
    }
   ],
   "source": [
    "arr1 = rand(-30:30, 10)\n",
    "println(arr1)\n",
    "println(\"\\n\")\n",
    "\n",
    "println(sort(arr1))\n",
    "println(arr1)\n",
    "println(\"\\n\")\n",
    "\n",
    "println(sort!(arr1))\n",
    "println(arr1)"
   ]
  },
  {
   "cell_type": "code",
   "execution_count": null,
   "metadata": {},
   "outputs": [],
   "source": []
  }
 ],
 "metadata": {
  "@webio": {
   "lastCommId": null,
   "lastKernelId": null
  },
  "kernelspec": {
   "display_name": "Julia 1.1.0",
   "language": "julia",
   "name": "julia-1.1"
  },
  "language_info": {
   "file_extension": ".jl",
   "mimetype": "application/julia",
   "name": "julia",
   "version": "1.1.0"
  }
 },
 "nbformat": 4,
 "nbformat_minor": 2
}
