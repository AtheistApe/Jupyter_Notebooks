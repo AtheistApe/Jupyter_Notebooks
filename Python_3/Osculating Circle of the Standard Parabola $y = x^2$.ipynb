{
 "cells": [
  {
   "cell_type": "code",
   "execution_count": 1,
   "metadata": {},
   "outputs": [
    {
     "name": "stdout",
     "output_type": "stream",
     "text": [
      "IPython console for SymPy 1.0 (Python 3.5.1-64-bit) (ground types: python)\n",
      "\n",
      "These commands were executed:\n",
      ">>> from __future__ import division\n",
      ">>> from sympy import *\n",
      ">>> x, y, z, t = symbols('x y z t')\n",
      ">>> k, m, n = symbols('k m n', integer=True)\n",
      ">>> f, g, h = symbols('f g h', cls=Function)\n",
      ">>> init_printing()\n",
      "\n",
      "Documentation can be found at http://docs.sympy.org/1.0/\n"
     ]
    }
   ],
   "source": [
    "from sympy import init_session\n",
    "init_session()"
   ]
  },
  {
   "cell_type": "code",
   "execution_count": 47,
   "metadata": {
    "collapsed": true
   },
   "outputs": [],
   "source": [
    "from sympy.physics.vector import *\n",
    "N = ReferenceFrame('N')"
   ]
  },
  {
   "cell_type": "code",
   "execution_count": 60,
   "metadata": {},
   "outputs": [],
   "source": [
    "x, y, z, t = symbols('x y z t', real=True)"
   ]
  },
  {
   "cell_type": "code",
   "execution_count": 48,
   "metadata": {},
   "outputs": [],
   "source": [
    "# The parabola $y=x^2$ as a vector valued function: $r(t) = (t, t^2)$.\n",
    "\n",
    "r = t*N.x + t**2*N.y"
   ]
  },
  {
   "cell_type": "code",
   "execution_count": 49,
   "metadata": {},
   "outputs": [],
   "source": [
    "# The velocity vector $r'(t) = v(t)$.\n",
    "\n",
    "v = r.diff(t,N)"
   ]
  },
  {
   "cell_type": "code",
   "execution_count": 50,
   "metadata": {},
   "outputs": [
    {
     "data": {
      "image/png": "[encoded data removed]",
      "text/latex": [
       "$$\\sqrt{4 t^{2} + 1}$$"
      ],
      "text/plain": [
       "   __________\n",
       "  ╱    2     \n",
       "╲╱  4⋅t  + 1 "
      ]
     },
     "execution_count": 50,
     "metadata": {},
     "output_type": "execute_result"
    }
   ],
   "source": [
    "# The speed (magnitude of the velocity vector).\n",
    "\n",
    "speed = v.magnitude()\n",
    "speed"
   ]
  },
  {
   "cell_type": "code",
   "execution_count": 51,
   "metadata": {},
   "outputs": [
    {
     "data": {
      "image/png": "[encoded data removed]",
      "text/latex": [
       "$$\\frac{1}{\\sqrt{4 t^{2} + 1}}\\mathbf{\\hat{n}_x} + \\frac{2 t}{\\sqrt{4 t^{2} + 1}}\\mathbf{\\hat{n}_y}$$"
      ],
      "text/plain": [
       "      1      \n",
       "─────────────\n",
       "   __________\n",
       "  ╱    2     \n",
       "╲╱  4⋅t  + 1  n_x +      2⋅t     \n",
       "─────────────\n",
       "   __________\n",
       "  ╱    2     \n",
       "╲╱  4⋅t  + 1  n_y"
      ]
     },
     "execution_count": 51,
     "metadata": {},
     "output_type": "execute_result"
    }
   ],
   "source": [
    "# The unit tangent vector $T = v/speed$.\n",
    "\n",
    "T = v/speed\n",
    "T"
   ]
  },
  {
   "cell_type": "code",
   "execution_count": 52,
   "metadata": {},
   "outputs": [
    {
     "data": {
      "image/png": "[encoded data removed]",
      "text/latex": [
       "$$-  \\frac{4 t}{\\left(4 t^{2} + 1\\right)^{\\frac{3}{2}}}\\mathbf{\\hat{n}_x} + (- \\frac{8 t^{2}}{\\left(4 t^{2} + 1\\right)^{\\frac{3}{2}}} + \\frac{2}{\\sqrt{4 t^{2} + 1}})\\mathbf{\\hat{n}_y}$$"
      ],
      "text/plain": [
       "    -4⋅t     \n",
       "─────────────\n",
       "          3/2\n",
       "⎛   2    ⎞   \n",
       "⎝4⋅t  + 1⎠    n_x + ⎛          2                    ⎞\n",
       "⎜       8⋅t              2      ⎟\n",
       "⎜- ───────────── + ─────────────⎟\n",
       "⎜            3/2      __________⎟\n",
       "⎜  ⎛   2    ⎞        ╱    2     ⎟\n",
       "⎝  ⎝4⋅t  + 1⎠      ╲╱  4⋅t  + 1 ⎠ n_y"
      ]
     },
     "execution_count": 52,
     "metadata": {},
     "output_type": "execute_result"
    }
   ],
   "source": [
    "# T'\n",
    "\n",
    "Tp = T.diff(t,N)\n",
    "Tp"
   ]
  },
  {
   "cell_type": "code",
   "execution_count": 53,
   "metadata": {},
   "outputs": [
    {
     "data": {
      "image/png": "[encoded data removed]",
      "text/latex": [
       "$$-  \\frac{4 t}{\\left(4 t^{2} + 1\\right)^{\\frac{3}{2}}}\\mathbf{\\hat{n}_x} + \\frac{2}{\\left(4 t^{2} + 1\\right)^{\\frac{3}{2}}}\\mathbf{\\hat{n}_y}$$"
      ],
      "text/plain": [
       "    -4⋅t     \n",
       "─────────────\n",
       "          3/2\n",
       "⎛   2    ⎞   \n",
       "⎝4⋅t  + 1⎠    n_x +       2      \n",
       "─────────────\n",
       "          3/2\n",
       "⎛   2    ⎞   \n",
       "⎝4⋅t  + 1⎠    n_y"
      ]
     },
     "execution_count": 53,
     "metadata": {},
     "output_type": "execute_result"
    }
   ],
   "source": [
    "Tp = Tp.applyfunc(simplify)\n",
    "Tp"
   ]
  },
  {
   "cell_type": "code",
   "execution_count": 62,
   "metadata": {},
   "outputs": [
    {
     "data": {
      "image/png": "[encoded data removed]",
      "text/latex": [
       "$$2 \\sqrt{\\frac{1}{\\left(4 t^{2} + 1\\right)^{2}}}$$"
      ],
      "text/plain": [
       "        _____________\n",
       "       ╱      1      \n",
       "2⋅    ╱  ─────────── \n",
       "     ╱             2 \n",
       "    ╱    ⎛   2    ⎞  \n",
       "  ╲╱     ⎝4⋅t  + 1⎠  "
      ]
     },
     "execution_count": 62,
     "metadata": {},
     "output_type": "execute_result"
    }
   ],
   "source": [
    "# |T'|\n",
    "\n",
    "normTp = simplify(Tp.magnitude())\n",
    "normTp"
   ]
  },
  {
   "cell_type": "code",
   "execution_count": 68,
   "metadata": {},
   "outputs": [
    {
     "data": {
      "image/png": "[encoded data removed]",
      "text/latex": [
       "$$-  \\frac{2 t}{\\left(4 t^{2} + 1\\right)^{\\frac{3}{2}} \\sqrt{\\frac{1}{\\left(4 t^{2} + 1\\right)^{2}}}}\\mathbf{\\hat{n}_x} + \\frac{1}{\\left(4 t^{2} + 1\\right)^{\\frac{3}{2}} \\sqrt{\\frac{1}{\\left(4 t^{2} + 1\\right)^{2}}}}\\mathbf{\\hat{n}_y}$$"
      ],
      "text/plain": [
       "              -2⋅t               \n",
       "─────────────────────────────────\n",
       "          3/2       _____________\n",
       "⎛   2    ⎞         ╱      1      \n",
       "⎝4⋅t  + 1⎠   ⋅    ╱  ─────────── \n",
       "                 ╱             2 \n",
       "                ╱    ⎛   2    ⎞  \n",
       "              ╲╱     ⎝4⋅t  + 1⎠   n_x +                 1                \n",
       "─────────────────────────────────\n",
       "          3/2       _____________\n",
       "⎛   2    ⎞         ╱      1      \n",
       "⎝4⋅t  + 1⎠   ⋅    ╱  ─────────── \n",
       "                 ╱             2 \n",
       "                ╱    ⎛   2    ⎞  \n",
       "              ╲╱     ⎝4⋅t  + 1⎠   n_y"
      ]
     },
     "execution_count": 68,
     "metadata": {},
     "output_type": "execute_result"
    }
   ],
   "source": [
    "N = N.applyfunc(simplify)\n",
    "N"
   ]
  },
  {
   "cell_type": "code",
   "execution_count": 70,
   "metadata": {},
   "outputs": [
    {
     "data": {
      "image/png": "[encoded data removed]",
      "text/latex": [
       "$$1$$"
      ],
      "text/plain": [
       "1"
      ]
     },
     "execution_count": 70,
     "metadata": {},
     "output_type": "execute_result"
    }
   ],
   "source": [
    "simplify(N.magnitude())"
   ]
  },
  {
   "cell_type": "code",
   "execution_count": 67,
   "metadata": {},
   "outputs": [
    {
     "data": {
      "image/png": "[encoded data removed]",
      "text/latex": [
       "$$2 \\sqrt{\\frac{1}{\\left(4 t^{2} + 1\\right)^{2}}}$$"
      ],
      "text/plain": [
       "        _____________\n",
       "       ╱      1      \n",
       "2⋅    ╱  ─────────── \n",
       "     ╱             2 \n",
       "    ╱    ⎛   2    ⎞  \n",
       "  ╲╱     ⎝4⋅t  + 1⎠  "
      ]
     },
     "execution_count": 67,
     "metadata": {},
     "output_type": "execute_result"
    }
   ],
   "source": [
    "simplify(Tp.magnitude())"
   ]
  },
  {
   "cell_type": "code",
   "execution_count": null,
   "metadata": {
    "collapsed": true
   },
   "outputs": [],
   "source": []
  }
 ],
 "metadata": {
  "@webio": {
   "lastCommId": null,
   "lastKernelId": null
  },
  "kernelspec": {
   "display_name": "Python 3",
   "language": "python",
   "name": "python3"
  },
  "language_info": {
   "codemirror_mode": {
    "name": "ipython",
    "version": 3
   },
   "file_extension": ".py",
   "mimetype": "text/x-python",
   "name": "python",
   "nbconvert_exporter": "python",
   "pygments_lexer": "ipython3",
   "version": "3.7.1"
  }
 },
 "nbformat": 4,
 "nbformat_minor": 1
}
