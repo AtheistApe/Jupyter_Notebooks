{
 "cells": [
  {
   "cell_type": "code",
   "execution_count": 2,
   "metadata": {
    "collapsed": true
   },
   "outputs": [
    {
     "name": "stdout",
     "output_type": "stream",
     "text": [
      "IPython console for SymPy 0.7.6.1 (Python 3.5.1-64-bit) (ground types: python)\n",
      "\n",
      "These commands were executed:\n",
      ">>> from __future__ import division\n",
      ">>> from sympy import *\n",
      ">>> x, y, z, t = symbols('x y z t')\n",
      ">>> k, m, n = symbols('k m n', integer=True)\n",
      ">>> f, g, h = symbols('f g h', cls=Function)\n",
      ">>> init_printing()\n",
      "\n",
      "Documentation can be found at http://www.sympy.org\n"
     ]
    }
   ],
   "source": [
    "from sympy import init_session\n",
    "init_session()"
   ]
  },
  {
   "cell_type": "code",
   "execution_count": 3,
   "metadata": {
    "collapsed": true
   },
   "outputs": [],
   "source": [
    "from sympy.physics.vector import *\n",
    "N = ReferenceFrame('N')"
   ]
  },
  {
   "cell_type": "markdown",
   "metadata": {},
   "source": [
    "### Solution to problem 7 of Dir/Grad Homework\n",
    "\n",
    "Find the directional derivative of $f(x,y)=\\sin(x+2y)$ at the point $(-2, -5)$ in the direction $\\theta=3\\pi/4$.\n",
    "\n",
    "The directional derivative of $f$ at the point $(x,y)$ in the direction of the unit vector $\\hat{u}$ is given by\n",
    "\n",
    "$$D_{\\hat{u}} f(x,y) = \\nabla f(x,y) \\cdot \\hat{u}$$\n",
    "\n",
    "For this problem\n",
    "\n",
    "$$\\nabla f(x,y) = \\langle f_x(x,y), f_y(x,y) \\rangle =\n",
    "\\langle \\cos(x + 2y), 2\\cos(x + 2y) \\rangle$$\n",
    "\n",
    "and, therefore\n",
    "\n",
    "$$\\nabla f(-2,-5) = \\langle f_x(-2,-5), f_y(-2,-5) \\rangle =\n",
    "\\langle \\cos(-12), 2\\cos(-12) \\rangle = \n",
    "\\langle \\cos(12), 2\\cos(12) \\rangle$$\n",
    "\n",
    "since cosine is an even function.\n",
    "\n",
    "A unit vector in the direction of angle $\\theta$ is given by\n",
    "$\\hat{u} = \\langle \\cos(\\theta), \\sin(\\theta) \\rangle$; Its magnitude is $\\sqrt{\\cos^2(\\theta) + \\sin^2(\\theta)} = 1$.\n",
    "\n",
    "Hence,\n",
    "\n",
    "\\begin{align*}\n",
    "D_{\\hat{u}} f(-2,-5) &= \\nabla f(-2,-5) \\cdot \\langle \\cos(3\\pi/4), \\sin(3\\pi/4) \\rangle\\\\\n",
    "&= \\langle \\cos(12), 2\\cos(12) \\rangle \\cdot \\langle \\cos(3\\pi/4), \\sin(3\\pi/4) \\rangle\\\\\n",
    "&= \\langle \\cos(12), 2\\cos(12) \\rangle \\cdot \\langle -\\sqrt{2}/2, \\sqrt{2}/2 \\rangle\\\\\n",
    "&= \\frac{\\sqrt{2}}{2}\\cos(12)\n",
    "\\end{align*}\n",
    "\n",
    "The check of these calculations is given below."
   ]
  },
  {
   "cell_type": "code",
   "execution_count": 4,
   "metadata": {
    "collapsed": true
   },
   "outputs": [],
   "source": [
    "f = sin(x + 2*y)\n",
    "P = (-2,-5)\n",
    "theta = 3*pi/4"
   ]
  },
  {
   "cell_type": "code",
   "execution_count": 10,
   "metadata": {
    "collapsed": false
   },
   "outputs": [
    {
     "data": {
      "image/png": "[encoded data removed]",
      "text/latex": [
       "$$-  \\frac{\\sqrt{2}}{2}\\mathbf{\\hat{n}_x} + \\frac{\\sqrt{2}}{2}\\mathbf{\\hat{n}_y}$$"
      ],
      "text/plain": [
       "   ___ \n",
       "-╲╱ 2  \n",
       "───────\n",
       "   2    n_x +   ___\n",
       "╲╱ 2 \n",
       "─────\n",
       "  2   n_y"
      ]
     },
     "execution_count": 10,
     "metadata": {},
     "output_type": "execute_result"
    }
   ],
   "source": [
    "u = cos(theta)*N.x + sin(theta)*N.y\n",
    "u"
   ]
  },
  {
   "cell_type": "code",
   "execution_count": 16,
   "metadata": {
    "collapsed": false
   },
   "outputs": [
    {
     "data": {
      "image/png": "[encoded data removed]",
      "text/latex": [
       "$$\\operatorname{cos}\\left(N_{x} + 2 N_{y}\\right)\\mathbf{\\hat{n}_x} + 2 \\operatorname{cos}\\left(N_{x} + 2 N_{y}\\right)\\mathbf{\\hat{n}_y}$$"
      ],
      "text/plain": [
       "cos(Nₓ + 2⋅N_y) n_x + 2⋅cos(Nₓ + 2⋅N_y) n_y"
      ]
     },
     "execution_count": 16,
     "metadata": {},
     "output_type": "execute_result"
    }
   ],
   "source": [
    "gradf = gradient(f.subs({x:N[0],y:N[1]}),N)\n",
    "gradf"
   ]
  },
  {
   "cell_type": "code",
   "execution_count": 22,
   "metadata": {
    "collapsed": false
   },
   "outputs": [
    {
     "data": {
      "image/png": "[encoded data removed]",
      "text/latex": [
       "$$\\operatorname{cos}\\left(12\\right)\\mathbf{\\hat{n}_x} + 2 \\operatorname{cos}\\left(12\\right)\\mathbf{\\hat{n}_y}$$"
      ],
      "text/plain": [
       "cos(12) n_x + 2⋅cos(12) n_y"
      ]
     },
     "execution_count": 22,
     "metadata": {},
     "output_type": "execute_result"
    }
   ],
   "source": [
    "gradf_ab = gradf.subs({N[0]:P[0], N[1]:P[1]})\n",
    "gradf_ab"
   ]
  },
  {
   "cell_type": "code",
   "execution_count": 23,
   "metadata": {
    "collapsed": false
   },
   "outputs": [
    {
     "data": {
      "image/png": "[encoded data removed]",
      "text/latex": [
       "$$\\frac{\\sqrt{2}}{2} \\cos{\\left (12 \\right )}$$"
      ],
      "text/plain": [
       "  ___        \n",
       "╲╱ 2 ⋅cos(12)\n",
       "─────────────\n",
       "      2      "
      ]
     },
     "execution_count": 23,
     "metadata": {},
     "output_type": "execute_result"
    }
   ],
   "source": [
    "Duf_ab = gradf_ab.dot(u)\n",
    "Duf_ab"
   ]
  },
  {
   "cell_type": "markdown",
   "metadata": {},
   "source": [
    "### Alternate solution to problem 7\n",
    "\n",
    "Since $D_{\\hat u}f(x,y) = \\nabla f(x,y)\\cdot\\hat{u}$ and $\\bf{a}\\cdot \\bf{b} = |\\bf{a}| |\\bf{b}| \\cos\\alpha$, where $\\alpha$ is the angle between $\\bf{a}$ and $\\bf{b}$, you might try calculating the directional derivative as\n",
    "\n",
    "$$D_{\\hat u}f(x,y) = |\\nabla f(x,y)| |\\hat{u}| \\cos(\\alpha)\n",
    "= |\\nabla f(x,y)| \\cos(\\alpha)$$\n",
    "\n",
    "where $\\alpha$ is the angle between $\\hat{u}$ and $\\nabla f(x,y)$. In this problem we are told that the direction is given by the angle $\\theta = 3\\pi/4$. From the calculations in the previous solution, we have $\\nabla f(-2,-5) = \\langle \\cos(12), 2\\cos(12) \\rangle$. \n",
    "\n",
    "Hence $|\\nabla f(-2,-5)| = \\sqrt{\\cos^2(12) + 4\\cos^2(12)} =\n",
    "\\sqrt{5\\cos^2(12)} = \\sqrt{5} \\cos(12)$\n",
    "\n",
    "The angle $\\beta$ this vector makes with the positive $x$ direction is given by $\\tan\\beta = \\frac{2\\cos(12)}{\\cos(12)} = 2$, hence $\\beta = \\arctan(2)$\n",
    "\n",
    "The angle $\\alpha$ is the difference between these two angles; $\\alpha = \\theta - \\beta = 3\\pi/4 - \\arctan(2)$.\n",
    "\n",
    "We finally get\n",
    "\n",
    "\\begin{align*}\n",
    "    D_{\\hat u}f(x,y) &= |\\nabla f(x,y)| \\cos(\\alpha)\\\\\n",
    "    &= \\sqrt{5}\\cos(12) \\cos(3\\pi/4 - \\arctan(2))\n",
    "\\end{align*}\n",
    "\n",
    "We check this calculation below."
   ]
  },
  {
   "cell_type": "code",
   "execution_count": 39,
   "metadata": {
    "collapsed": false
   },
   "outputs": [
    {
     "data": {
      "image/png": "[encoded data removed]",
      "text/latex": [
       "$$\\sqrt{5} \\cos{\\left (12 \\right )}$$"
      ],
      "text/plain": [
       "  ___        \n",
       "╲╱ 5 ⋅cos(12)"
      ]
     },
     "execution_count": 39,
     "metadata": {},
     "output_type": "execute_result"
    }
   ],
   "source": [
    "gradf_ab_norm = gradf_ab.magnitude()\n",
    "gradf_ab_norm"
   ]
  },
  {
   "cell_type": "code",
   "execution_count": 38,
   "metadata": {
    "collapsed": false
   },
   "outputs": [
    {
     "data": {
      "image/png": "[encoded data removed]",
      "text/latex": [
       "$$\\frac{\\sqrt{2}}{2} \\cos{\\left (12 \\right )}$$"
      ],
      "text/plain": [
       "  ___        \n",
       "╲╱ 2 ⋅cos(12)\n",
       "─────────────\n",
       "      2      "
      ]
     },
     "execution_count": 38,
     "metadata": {},
     "output_type": "execute_result"
    }
   ],
   "source": [
    "simplify(gradf_ab_norm * cos(3*pi/4 - atan(2)))"
   ]
  },
  {
   "cell_type": "markdown",
   "metadata": {},
   "source": [
    "So we see that the two methods provide the same solution but I think you will agree that the first method is both technically and conceptually easier."
   ]
  },
  {
   "cell_type": "code",
   "execution_count": null,
   "metadata": {
    "collapsed": true
   },
   "outputs": [],
   "source": []
  }
 ],
 "metadata": {
  "hide_input": false,
  "kernelspec": {
   "display_name": "Python 3",
   "language": "python",
   "name": "python3"
  },
  "language_info": {
   "codemirror_mode": {
    "name": "ipython",
    "version": 3
   },
   "file_extension": ".py",
   "mimetype": "text/x-python",
   "name": "python",
   "nbconvert_exporter": "python",
   "pygments_lexer": "ipython3",
   "version": "3.5.1"
  },
  "latex_envs": {
   "bibliofile": "biblio.bib",
   "cite_by": "apalike",
   "current_citInitial": 1,
   "eqLabelWithNumbers": true,
   "eqNumInitial": 0
  }
 },
 "nbformat": 4,
 "nbformat_minor": 0
}
