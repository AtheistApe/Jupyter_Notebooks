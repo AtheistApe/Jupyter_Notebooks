{
 "cells": [
  {
   "cell_type": "code",
   "execution_count": 1,
   "metadata": {},
   "outputs": [
    {
     "name": "stdout",
     "output_type": "stream",
     "text": [
      "IPython console for SymPy 1.0 (Python 3.5.2-64-bit) (ground types: python)\n",
      "\n",
      "These commands were executed:\n",
      ">>> from __future__ import division\n",
      ">>> from sympy import *\n",
      ">>> x, y, z, t = symbols('x y z t')\n",
      ">>> k, m, n = symbols('k m n', integer=True)\n",
      ">>> f, g, h = symbols('f g h', cls=Function)\n",
      ">>> init_printing()\n",
      "\n",
      "Documentation can be found at http://docs.sympy.org/1.0/\n"
     ]
    }
   ],
   "source": [
    "from sympy import init_session\n",
    "init_session()"
   ]
  },
  {
   "cell_type": "code",
   "execution_count": 2,
   "metadata": {
    "collapsed": true
   },
   "outputs": [],
   "source": [
    "z = 3*x**2 + 12*x + 4*y**3 - 6*y**2 + 5"
   ]
  },
  {
   "cell_type": "code",
   "execution_count": 3,
   "metadata": {},
   "outputs": [
    {
     "data": {
      "image/png": "[encoded data removed]",
      "text/latex": [
       "$$\\left [ \\left \\{ x : -2, \\quad y : 0\\right \\}, \\quad \\left \\{ x : -2, \\quad y : 1\\right \\}\\right ]$$"
      ],
      "text/plain": [
       "[{x: -2, y: 0}, {x: -2, y: 1}]"
      ]
     },
     "execution_count": 3,
     "metadata": {},
     "output_type": "execute_result"
    }
   ],
   "source": [
    "solve({diff(z,x), diff(z,y)}, {x,y})"
   ]
  },
  {
   "cell_type": "code",
   "execution_count": 4,
   "metadata": {
    "collapsed": true
   },
   "outputs": [],
   "source": [
    "z = 2*x**2 + 8*x*y + y**4"
   ]
  },
  {
   "cell_type": "code",
   "execution_count": 5,
   "metadata": {},
   "outputs": [
    {
     "data": {
      "image/png": "[encoded data removed]",
      "text/latex": [
       "$$\\left [ \\left \\{ x : -4, \\quad y : 2\\right \\}, \\quad \\left \\{ x : 0, \\quad y : 0\\right \\}, \\quad \\left \\{ x : 4, \\quad y : -2\\right \\}\\right ]$$"
      ],
      "text/plain": [
       "[{x: -4, y: 2}, {x: 0, y: 0}, {x: 4, y: -2}]"
      ]
     },
     "execution_count": 5,
     "metadata": {},
     "output_type": "execute_result"
    }
   ],
   "source": [
    "solns = solve({diff(z,x), diff(z,y)}, {x,y})\n",
    "solns"
   ]
  },
  {
   "cell_type": "code",
   "execution_count": 6,
   "metadata": {},
   "outputs": [
    {
     "data": {
      "image/png": "[encoded data removed]",
      "text/latex": [
       "$$\\left [ -16, \\quad 0, \\quad -16\\right ]$$"
      ],
      "text/plain": [
       "[-16, 0, -16]"
      ]
     },
     "execution_count": 6,
     "metadata": {},
     "output_type": "execute_result"
    }
   ],
   "source": [
    "[z.subs(soln) for soln in solns]"
   ]
  },
  {
   "cell_type": "code",
   "execution_count": 7,
   "metadata": {
    "collapsed": true
   },
   "outputs": [],
   "source": [
    "x, y = symbols('x y', real=True)\n",
    "z = 4*x*y - x**4 - y**4"
   ]
  },
  {
   "cell_type": "code",
   "execution_count": 8,
   "metadata": {},
   "outputs": [
    {
     "data": {
      "image/png": "[encoded data removed]",
      "text/latex": [
       "$$\\left [ \\left \\{ x : -1, \\quad y : -1\\right \\}, \\quad \\left \\{ x : 0, \\quad y : 0\\right \\}, \\quad \\left \\{ x : 1, \\quad y : 1\\right \\}\\right ]$$"
      ],
      "text/plain": [
       "[{x: -1, y: -1}, {x: 0, y: 0}, {x: 1, y: 1}]"
      ]
     },
     "execution_count": 8,
     "metadata": {},
     "output_type": "execute_result"
    }
   ],
   "source": [
    "solns = solve({diff(z,x), diff(z,y)}, {x,y})\n",
    "solns"
   ]
  },
  {
   "cell_type": "code",
   "execution_count": 9,
   "metadata": {},
   "outputs": [
    {
     "data": {
      "image/png": "[encoded data removed]",
      "text/latex": [
       "$$\\left [ 2, \\quad 0, \\quad 2\\right ]$$"
      ],
      "text/plain": [
       "[2, 0, 2]"
      ]
     },
     "execution_count": 9,
     "metadata": {},
     "output_type": "execute_result"
    }
   ],
   "source": [
    "[z.subs(soln) for soln in solns]"
   ]
  },
  {
   "cell_type": "code",
   "execution_count": 10,
   "metadata": {},
   "outputs": [
    {
     "data": {
      "image/png": "[encoded data removed]",
      "text/latex": [
       "$$\\left [ 6.51, \\quad 0.270690112440721, \\quad 1.47619047619048\\right ]$$"
      ],
      "text/plain": [
       "[6.51, 0.270690112440721, 1.47619047619048]"
      ]
     },
     "execution_count": 10,
     "metadata": {},
     "output_type": "execute_result"
    }
   ],
   "source": [
    "f = [x*y, x*y*sin(y), y/x]\n",
    "\n",
    "dx = 0.1\n",
    "dy = 0.1\n",
    "\n",
    "[f[k].subs({x:2+dx, y:3+dy}) for k in [0,1,2]]"
   ]
  },
  {
   "cell_type": "code",
   "execution_count": 11,
   "metadata": {},
   "outputs": [],
   "source": [
    "M = Matrix([[f[0],f[1],f[2]]])"
   ]
  },
  {
   "cell_type": "code",
   "execution_count": 12,
   "metadata": {},
   "outputs": [
    {
     "name": "stdout",
     "output_type": "stream",
     "text": [
      "⎡       3.0                2.0       ⎤\n",
      "⎢                                    ⎥\n",
      "⎢0.423360024179602  -5.65771496348294⎥\n",
      "⎢                                    ⎥\n",
      "⎣      -0.75               0.5       ⎦\n",
      "⎡0.1⎤\n",
      "⎢   ⎥\n",
      "⎣0.1⎦\n",
      "⎡       6.0       ⎤\n",
      "⎢                 ⎥\n",
      "⎢0.846720048359203⎥\n",
      "⎢                 ⎥\n",
      "⎣       1.5       ⎦\n"
     ]
    }
   ],
   "source": [
    "J = M.jacobian([x,y]).subs({x:2.0, y:3.0})\n",
    "pretty_print(J)\n",
    "\n",
    "dp = Matrix([[dx, dy]]).T\n",
    "pretty_print(dp)\n",
    "\n",
    "p0 = M.subs({x:2.0,y:3.0}).T\n",
    "pretty_print(p0)"
   ]
  },
  {
   "cell_type": "code",
   "execution_count": 13,
   "metadata": {},
   "outputs": [
    {
     "data": {
      "image/png": "[encoded data removed]",
      "text/latex": [
       "$$\\left[\\begin{matrix}6.5\\\\0.32328455442887\\\\1.475\\end{matrix}\\right]$$"
      ],
      "text/plain": [
       "⎡      6.5       ⎤\n",
       "⎢                ⎥\n",
       "⎢0.32328455442887⎥\n",
       "⎢                ⎥\n",
       "⎣     1.475      ⎦"
      ]
     },
     "execution_count": 13,
     "metadata": {},
     "output_type": "execute_result"
    }
   ],
   "source": [
    "J*dp+p0"
   ]
  },
  {
   "cell_type": "code",
   "execution_count": 14,
   "metadata": {},
   "outputs": [
    {
     "data": {
      "image/png": "[encoded data removed]",
      "text/latex": [
       "$$\\left [ \\left \\{ x : -2, \\quad y : 0\\right \\}, \\quad \\left \\{ x : -2, \\quad y : 1\\right \\}\\right ]$$"
      ],
      "text/plain": [
       "[{x: -2, y: 0}, {x: -2, y: 1}]"
      ]
     },
     "execution_count": 14,
     "metadata": {},
     "output_type": "execute_result"
    }
   ],
   "source": [
    "z = 3*x**2 + 12*x + 4*y**3 - 6*y**2 + 5\n",
    "solns = solve({diff(z,x), diff(z,y)},{x,y})\n",
    "solns"
   ]
  },
  {
   "cell_type": "code",
   "execution_count": 15,
   "metadata": {},
   "outputs": [
    {
     "data": {
      "image/png": "[encoded data removed]",
      "text/latex": [
       "$$\\left [ \\left ( -2, \\quad 0, \\quad -7\\right ), \\quad \\left ( -2, \\quad 1, \\quad -9\\right )\\right ]$$"
      ],
      "text/plain": [
       "[(-2, 0, -7), (-2, 1, -9)]"
      ]
     },
     "execution_count": 15,
     "metadata": {},
     "output_type": "execute_result"
    }
   ],
   "source": [
    "[(solns[k][x],solns[k][y],z.subs(solns[k])) for k in [0,1]]"
   ]
  },
  {
   "cell_type": "code",
   "execution_count": 16,
   "metadata": {},
   "outputs": [
    {
     "data": {
      "image/png": "[encoded data removed]",
      "text/latex": [
       "$$\\left [ \\left \\{ x : -1, \\quad y : -1\\right \\}, \\quad \\left \\{ x : 0, \\quad y : 0\\right \\}, \\quad \\left \\{ x : 1, \\quad y : 1\\right \\}\\right ]$$"
      ],
      "text/plain": [
       "[{x: -1, y: -1}, {x: 0, y: 0}, {x: 1, y: 1}]"
      ]
     },
     "execution_count": 16,
     "metadata": {},
     "output_type": "execute_result"
    }
   ],
   "source": [
    "z = 4*x*y - x**4 - y**4\n",
    "solns = solve({diff(z,x), diff(z,y)}, {x,y})\n",
    "solns"
   ]
  },
  {
   "cell_type": "code",
   "execution_count": 17,
   "metadata": {},
   "outputs": [
    {
     "data": {
      "image/png": "[encoded data removed]",
      "text/latex": [
       "$$\\left [ \\left ( -1, \\quad -1, \\quad 2\\right ), \\quad \\left ( 0, \\quad 0, \\quad 0\\right ), \\quad \\left ( 1, \\quad 1, \\quad 2\\right )\\right ]$$"
      ],
      "text/plain": [
       "[(-1, -1, 2), (0, 0, 0), (1, 1, 2)]"
      ]
     },
     "execution_count": 17,
     "metadata": {},
     "output_type": "execute_result"
    }
   ],
   "source": [
    "[(solns[k][x], solns[k][y], z.subs(solns[k])) for k in [0,1,2]]"
   ]
  },
  {
   "cell_type": "code",
   "execution_count": 18,
   "metadata": {},
   "outputs": [
    {
     "data": {
      "image/png": "[encoded data removed]",
      "text/latex": [
       "$$x - \\pi z - 2$$"
      ],
      "text/plain": [
       "x - π⋅z - 2"
      ]
     },
     "execution_count": 18,
     "metadata": {},
     "output_type": "execute_result"
    }
   ],
   "source": [
    "from sympy import exp\n",
    "\n",
    "x,y,z,x0,y0,z0 = symbols('x y z x0 y0 z0')\n",
    "\n",
    "f = 2*exp(y*z) / (sin(y) + z**2)\n",
    "\n",
    "P = {x0:2, y0:pi/2, z0:0}\n",
    "\n",
    "fy = diff(f,y)\n",
    "fz = diff(f,z)\n",
    "\n",
    "tan_plane = x - f.subs({y:P[y0],z:P[z0]}) - fy.subs({y:P[y0],z:P[z0]})*(y - P[y0]) - fz.subs({y:P[y0],z:P[z0]})*(z - P[z0])\n",
    "            \n",
    "tan_plane"
   ]
  },
  {
   "cell_type": "code",
   "execution_count": 19,
   "metadata": {},
   "outputs": [
    {
     "data": {
      "image/png": "[encoded data removed]",
      "text/latex": [
       "$$x + 2 y + 3 z$$"
      ],
      "text/plain": [
       "x + 2⋅y + 3⋅z"
      ]
     },
     "execution_count": 19,
     "metadata": {},
     "output_type": "execute_result"
    }
   ],
   "source": [
    "def dot(A,B):\n",
    "    return sum(A[k]*B[k] for k in range(len(A)))\n",
    "\n",
    "dot([1,2,3], [x,y,z])"
   ]
  },
  {
   "cell_type": "code",
   "execution_count": 20,
   "metadata": {},
   "outputs": [
    {
     "data": {
      "image/png": "[encoded data removed]",
      "text/latex": [
       "$$x - \\pi z - 2$$"
      ],
      "text/plain": [
       "x - π⋅z - 2"
      ]
     },
     "execution_count": 20,
     "metadata": {},
     "output_type": "execute_result"
    }
   ],
   "source": [
    "F = x*sin(y) + x*z**2 - 2*exp(y*z)\n",
    "\n",
    "gradF = [diff(F,x), diff(F,y), diff(F,z)]\n",
    "\n",
    "gradP0 = [comp.subs({x:P[x0],y:P[y0],z:P[z0]}) for comp in gradF]\n",
    "\n",
    "P0 = [P[x0], P[y0], P[z0]]\n",
    "\n",
    "dot(gradP0, [x - P[x0], y - P[y0], z - P[z0]])"
   ]
  },
  {
   "cell_type": "code",
   "execution_count": 21,
   "metadata": {},
   "outputs": [
    {
     "data": {
      "image/png": "[encoded data removed]",
      "text/latex": [
       "$$294$$"
      ],
      "text/plain": [
       "294"
      ]
     },
     "execution_count": 21,
     "metadata": {},
     "output_type": "execute_result"
    }
   ],
   "source": [
    "42*7"
   ]
  },
  {
   "cell_type": "code",
   "execution_count": 22,
   "metadata": {},
   "outputs": [
    {
     "data": {
      "image/png": "[encoded data removed]",
      "text/latex": [
       "$$-924$$"
      ],
      "text/plain": [
       "-924"
      ]
     },
     "execution_count": 22,
     "metadata": {},
     "output_type": "execute_result"
    }
   ],
   "source": [
    "10 - 294 - 640"
   ]
  },
  {
   "cell_type": "code",
   "execution_count": 23,
   "metadata": {
    "collapsed": true
   },
   "outputs": [],
   "source": [
    "f = 3*x**2 + 12*x + 4*y**3 - 6*y**2 + 5"
   ]
  },
  {
   "cell_type": "code",
   "execution_count": 24,
   "metadata": {},
   "outputs": [
    {
     "data": {
      "image/png": "[encoded data removed]",
      "text/latex": [
       "$$\\left [ -9, \\quad 39\\right ]$$"
      ],
      "text/plain": [
       "[-9, 39]"
      ]
     },
     "execution_count": 24,
     "metadata": {},
     "output_type": "execute_result"
    }
   ],
   "source": [
    "[f.subs({x:x1, y:y1}) for (x1,y1) in [(-2,1),(2,1)]]"
   ]
  },
  {
   "cell_type": "code",
   "execution_count": 25,
   "metadata": {},
   "outputs": [
    {
     "data": {
      "image/png": "[encoded data removed]",
      "text/latex": [
       "$$18.7616630392937$$"
      ],
      "text/plain": [
       "18.7616630392937"
      ]
     },
     "execution_count": 25,
     "metadata": {},
     "output_type": "execute_result"
    }
   ],
   "source": [
    "4*sqrt(22.0)"
   ]
  },
  {
   "cell_type": "code",
   "execution_count": 26,
   "metadata": {},
   "outputs": [
    {
     "data": {
      "image/png": "[encoded data removed]",
      "text/latex": [
       "$$18$$"
      ],
      "text/plain": [
       "18"
      ]
     },
     "execution_count": 26,
     "metadata": {},
     "output_type": "execute_result"
    }
   ],
   "source": [
    "simplify(sqrt(324))"
   ]
  },
  {
   "cell_type": "code",
   "execution_count": 27,
   "metadata": {
    "collapsed": true
   },
   "outputs": [],
   "source": [
    "f = 3*x - y - 3*z\n",
    "g = x**2 + 2*z**2\n",
    "h = x + y - z"
   ]
  },
  {
   "cell_type": "code",
   "execution_count": 28,
   "metadata": {
    "collapsed": true
   },
   "outputs": [],
   "source": [
    "def grad(f):\n",
    "    return [diff(f,x), diff(f,y), diff(f,z)]"
   ]
  },
  {
   "cell_type": "code",
   "execution_count": 29,
   "metadata": {},
   "outputs": [],
   "source": [
    "l,m = symbols('l m')\n",
    "\n",
    "solns = solve({grad(f)[i] - l*grad(g)[i] - m*grad(h)[i] for i in range(3)}|{g - 100, h - 7}, {x,y,z,l,m})"
   ]
  },
  {
   "cell_type": "code",
   "execution_count": 30,
   "metadata": {},
   "outputs": [
    {
     "data": {
      "image/png": "[encoded data removed]",
      "text/latex": [
       "$$\\left [ - 20 \\sqrt{6} - 7, \\quad -7 + 20 \\sqrt{6}\\right ]$$"
      ],
      "text/plain": [
       "[-20⋅√6 - 7, -7 + 20⋅√6]"
      ]
     },
     "execution_count": 30,
     "metadata": {},
     "output_type": "execute_result"
    }
   ],
   "source": [
    "[f.subs({x:solns[i][x], y:solns[i][y], z:solns[i][z]}) for i in range(2)]"
   ]
  },
  {
   "cell_type": "code",
   "execution_count": 31,
   "metadata": {
    "collapsed": true
   },
   "outputs": [],
   "source": [
    "f = y*z + x*y\n",
    "g = y**2 + z**2\n",
    "h = x*y"
   ]
  },
  {
   "cell_type": "code",
   "execution_count": 32,
   "metadata": {
    "collapsed": true
   },
   "outputs": [],
   "source": [
    "solns = solve({grad(f)[i] - l*grad(g)[i] - m*grad(h)[i] for i in range(3)}|{g - 121, h - 7}, {x,y,z,l,m})"
   ]
  },
  {
   "cell_type": "code",
   "execution_count": 33,
   "metadata": {},
   "outputs": [
    {
     "name": "stdout",
     "output_type": "stream",
     "text": [
      "[{m: 1, z: 11*sqrt(2)/2, x: -7*sqrt(2)/11, l: -1/2, y: -11*sqrt(2)/2}, {m: 1, z: -11*sqrt(2)/2, x: 7*sqrt(2)/11, l: -1/2, y: 11*sqrt(2)/2}, {m: 1, z: -11*sqrt(2)/2, x: -7*sqrt(2)/11, l: 1/2, y: -11*sqrt(2)/2}, {m: 1, z: 11*sqrt(2)/2, x: 7*sqrt(2)/11, l: 1/2, y: 11*sqrt(2)/2}]\n"
     ]
    }
   ],
   "source": [
    "print(solns)"
   ]
  },
  {
   "cell_type": "code",
   "execution_count": 34,
   "metadata": {},
   "outputs": [
    {
     "data": {
      "image/png": "[encoded data removed]",
      "text/latex": [
       "$$\\left [ \\left \\{ x : - \\frac{7 \\sqrt{2}}{11}, \\quad y : - \\frac{11 \\sqrt{2}}{2}, \\quad z : \\frac{11 \\sqrt{2}}{2}\\right \\}, \\quad \\left \\{ x : \\frac{7 \\sqrt{2}}{11}, \\quad y : \\frac{11 \\sqrt{2}}{2}, \\quad z : - \\frac{11 \\sqrt{2}}{2}\\right \\}, \\quad \\left \\{ x : - \\frac{7 \\sqrt{2}}{11}, \\quad y : - \\frac{11 \\sqrt{2}}{2}, \\quad z : - \\frac{11 \\sqrt{2}}{2}\\right \\}, \\quad \\left \\{ x : \\frac{7 \\sqrt{2}}{11}, \\quad y : \\frac{11 \\sqrt{2}}{2}, \\quad z : \\frac{11 \\sqrt{2}}{2}\\right \\}\\right ]$$"
      ],
      "text/plain": [
       "⎡⎧   -7⋅√2      -11⋅√2      11⋅√2⎫  ⎧   7⋅√2     11⋅√2     -11⋅√2 ⎫  ⎧   -7⋅√2\n",
       "⎢⎨x: ──────, y: ───────, z: ─────⎬, ⎨x: ────, y: ─────, z: ───────⎬, ⎨x: ─────\n",
       "⎣⎩     11          2          2  ⎭  ⎩    11        2          2   ⎭  ⎩     11 \n",
       "\n",
       "      -11⋅√2      -11⋅√2 ⎫  ⎧   7⋅√2     11⋅√2     11⋅√2⎫⎤\n",
       "─, y: ───────, z: ───────⎬, ⎨x: ────, y: ─────, z: ─────⎬⎥\n",
       "         2           2   ⎭  ⎩    11        2         2  ⎭⎦"
      ]
     },
     "execution_count": 34,
     "metadata": {},
     "output_type": "execute_result"
    }
   ],
   "source": [
    "[{x:solns[i][x], y:solns[i][y], z:solns[i][z]} for i in range(len(solns))]"
   ]
  },
  {
   "cell_type": "code",
   "execution_count": 35,
   "metadata": {},
   "outputs": [
    {
     "data": {
      "image/png": "[encoded data removed]",
      "text/latex": [
       "$$\\left [ - \\frac{107}{2}, \\quad - \\frac{107}{2}, \\quad \\frac{135}{2}, \\quad \\frac{135}{2}\\right ]$$"
      ],
      "text/plain": [
       "[-107/2, -107/2, 135/2, 135/2]"
      ]
     },
     "execution_count": 35,
     "metadata": {},
     "output_type": "execute_result"
    }
   ],
   "source": [
    "[f.subs({x:solns[i][x], y:solns[i][y], z:solns[i][z]}) for i in range(len(solns))]"
   ]
  },
  {
   "cell_type": "code",
   "execution_count": 36,
   "metadata": {
    "collapsed": true
   },
   "outputs": [],
   "source": [
    "f = 4*x**2 + 3*y**2\n",
    "g = x + 12*y"
   ]
  },
  {
   "cell_type": "code",
   "execution_count": 37,
   "metadata": {
    "collapsed": true
   },
   "outputs": [],
   "source": [
    "solns = solve({grad(f)[i] - l*grad(g)[i] for i in range(2)}|{g-2},{x,y,l})"
   ]
  },
  {
   "cell_type": "code",
   "execution_count": 38,
   "metadata": {},
   "outputs": [
    {
     "name": "stdout",
     "output_type": "stream",
     "text": [
      "{x: 2/193, l: 16/193, y: 32/193}\n"
     ]
    }
   ],
   "source": [
    "print(solns)"
   ]
  },
  {
   "cell_type": "code",
   "execution_count": 39,
   "metadata": {},
   "outputs": [
    {
     "data": {
      "image/png": "[encoded data removed]",
      "text/latex": [
       "$$\\left [ \\left \\{ x : \\frac{2}{193}, \\quad y : \\frac{32}{193}\\right \\}\\right ]$$"
      ],
      "text/plain": [
       "⎡⎧              32⎫⎤\n",
       "⎢⎨x: 2/193, y: ───⎬⎥\n",
       "⎣⎩             193⎭⎦"
      ]
     },
     "execution_count": 39,
     "metadata": {},
     "output_type": "execute_result"
    }
   ],
   "source": [
    "[{x:solns[x], y:solns[y]}]"
   ]
  },
  {
   "cell_type": "code",
   "execution_count": 40,
   "metadata": {},
   "outputs": [
    {
     "data": {
      "image/png": "[encoded data removed]",
      "text/latex": [
       "$$\\left [ \\frac{16}{193}, \\quad \\frac{16}{193}, \\quad \\frac{16}{193}\\right ]$$"
      ],
      "text/plain": [
       "⎡ 16   16   16⎤\n",
       "⎢───, ───, ───⎥\n",
       "⎣193  193  193⎦"
      ]
     },
     "execution_count": 40,
     "metadata": {},
     "output_type": "execute_result"
    }
   ],
   "source": [
    "[f.subs({x:solns[x], y:solns[y]}) for i in range(len(solns))]"
   ]
  },
  {
   "cell_type": "code",
   "execution_count": 41,
   "metadata": {},
   "outputs": [
    {
     "data": {
      "image/png": "[encoded data removed]",
      "text/latex": [
       "$$\\frac{2}{193}$$"
      ],
      "text/plain": [
       "2/193"
      ]
     },
     "execution_count": 41,
     "metadata": {},
     "output_type": "execute_result"
    }
   ],
   "source": [
    "solns[x]"
   ]
  },
  {
   "cell_type": "code",
   "execution_count": 42,
   "metadata": {},
   "outputs": [
    {
     "name": "stdout",
     "output_type": "stream",
     "text": [
      "15 x^{4} + \\frac{2}{3 \\sqrt[3]{x}}\n"
     ]
    }
   ],
   "source": [
    "print(latex(diff(3*x**5 + x**(S(2)/3), x)))"
   ]
  },
  {
   "cell_type": "code",
   "execution_count": 43,
   "metadata": {
    "collapsed": true
   },
   "outputs": [],
   "source": [
    "latex?"
   ]
  },
  {
   "cell_type": "code",
   "execution_count": 44,
   "metadata": {},
   "outputs": [
    {
     "name": "stdout",
     "output_type": "stream",
     "text": [
      "\\frac{2 x^{2} + 2}{\\left(- x^{2} + 1\\right)^{2}}\n"
     ]
    }
   ],
   "source": [
    "print(latex(together(diff(2*x/(1-x**2), x))))"
   ]
  },
  {
   "cell_type": "code",
   "execution_count": 45,
   "metadata": {},
   "outputs": [
    {
     "name": "stdout",
     "output_type": "stream",
     "text": [
      "- x e^{- x} + e^{- x}\n"
     ]
    }
   ],
   "source": [
    "print(latex(diff(x*exp(-x),x)))"
   ]
  },
  {
   "cell_type": "code",
   "execution_count": 46,
   "metadata": {
    "collapsed": true
   },
   "outputs": [],
   "source": [
    "f = 3*x - y - 3*z\n",
    "g = x**2 + 2*z**2\n",
    "h = x + y - z"
   ]
  },
  {
   "cell_type": "code",
   "execution_count": 47,
   "metadata": {
    "collapsed": true
   },
   "outputs": [],
   "source": [
    "solns = solve({grad(f)[i] - l*grad(g)[i] - m*grad(h)[i] for i in range(3)}|{g - 400, h - 6}, {x,y,z,l,m})"
   ]
  },
  {
   "cell_type": "code",
   "execution_count": 48,
   "metadata": {},
   "outputs": [
    {
     "data": {
      "image/png": "[encoded data removed]",
      "text/latex": [
       "$$\\left [ \\left \\{ l : - \\frac{\\sqrt{6}}{20}, \\quad m : -1, \\quad x : - \\frac{20 \\sqrt{6}}{3}, \\quad y : 6 + 10 \\sqrt{6}, \\quad z : \\frac{10 \\sqrt{6}}{3}\\right \\}, \\quad \\left \\{ l : \\frac{\\sqrt{6}}{20}, \\quad m : -1, \\quad x : \\frac{20 \\sqrt{6}}{3}, \\quad y : - 10 \\sqrt{6} + 6, \\quad z : - \\frac{10 \\sqrt{6}}{3}\\right \\}\\right ]$$"
      ],
      "text/plain": [
       "⎡⎧   -√6             -20⋅√6                    10⋅√6⎫  ⎧   √6            20⋅√6\n",
       "⎢⎨l: ────, m: -1, x: ───────, y: 6 + 10⋅√6, z: ─────⎬, ⎨l: ──, m: -1, x: ─────\n",
       "⎣⎩    20                3                        3  ⎭  ⎩   20              3  \n",
       "\n",
       "                    -10⋅√6 ⎫⎤\n",
       ", y: -10⋅√6 + 6, z: ───────⎬⎥\n",
       "                       3   ⎭⎦"
      ]
     },
     "execution_count": 48,
     "metadata": {},
     "output_type": "execute_result"
    }
   ],
   "source": [
    "solns"
   ]
  },
  {
   "cell_type": "code",
   "execution_count": 49,
   "metadata": {},
   "outputs": [],
   "source": [
    "x,y,z = symbols('x y z', real=True)\n",
    "\n",
    "f = x**3 + y**3 - 3*x*y\n",
    "dfx = diff(f,x)\n",
    "dfy = diff(f,y)\n",
    "\n",
    "solns = solve({dfx,dfy},{x,y})"
   ]
  },
  {
   "cell_type": "code",
   "execution_count": 50,
   "metadata": {},
   "outputs": [
    {
     "data": {
      "image/png": "[encoded data removed]",
      "text/latex": [
       "$$\\left [ \\left \\{ \\left ( 0, \\quad 0\\right ) : 0\\right \\}, \\quad \\left \\{ \\left ( 1, \\quad 1\\right ) : -1\\right \\}\\right ]$$"
      ],
      "text/plain": [
       "[{(0, 0): 0}, {(1, 1): -1}]"
      ]
     },
     "execution_count": 50,
     "metadata": {},
     "output_type": "execute_result"
    }
   ],
   "source": [
    "[{(solns[i][x],solns[i][y]):f.subs(solns[i])} for i in range(len(solns))]"
   ]
  },
  {
   "cell_type": "code",
   "execution_count": 51,
   "metadata": {
    "collapsed": true
   },
   "outputs": [],
   "source": [
    "def D(f):\n",
    "    return diff(f,x,2) * diff(f,y,2) - diff(f,x,y)**2"
   ]
  },
  {
   "cell_type": "code",
   "execution_count": 52,
   "metadata": {},
   "outputs": [
    {
     "data": {
      "image/png": "[encoded data removed]",
      "text/latex": [
       "$$36 x y - 9$$"
      ],
      "text/plain": [
       "36⋅x⋅y - 9"
      ]
     },
     "execution_count": 52,
     "metadata": {},
     "output_type": "execute_result"
    }
   ],
   "source": [
    "D(x**3 + y**3 - 3*x*y)"
   ]
  },
  {
   "cell_type": "code",
   "execution_count": 53,
   "metadata": {},
   "outputs": [
    {
     "data": {
      "image/png": "[encoded data removed]",
      "text/latex": [
       "$$\\left [ \\left \\{ \\left ( 0, \\quad 0\\right ) : -9\\right \\}, \\quad \\left \\{ \\left ( 1, \\quad 1\\right ) : 27\\right \\}\\right ]$$"
      ],
      "text/plain": [
       "[{(0, 0): -9}, {(1, 1): 27}]"
      ]
     },
     "execution_count": 53,
     "metadata": {},
     "output_type": "execute_result"
    }
   ],
   "source": [
    "[{(solns[i][x],solns[i][y]):D(f).subs(solns[i])} for i in range(len(solns))]"
   ]
  },
  {
   "cell_type": "code",
   "execution_count": 54,
   "metadata": {},
   "outputs": [
    {
     "data": {
      "image/png": "[encoded data removed]",
      "text/latex": [
       "$$6$$"
      ],
      "text/plain": [
       "6"
      ]
     },
     "execution_count": 54,
     "metadata": {},
     "output_type": "execute_result"
    }
   ],
   "source": [
    "diff(f,x,2).subs(solns[1])"
   ]
  },
  {
   "cell_type": "code",
   "execution_count": 55,
   "metadata": {
    "collapsed": true
   },
   "outputs": [],
   "source": [
    "import numpy as np"
   ]
  },
  {
   "cell_type": "code",
   "execution_count": 56,
   "metadata": {},
   "outputs": [],
   "source": [
    "from numpy import linspace\n",
    "pts = [{x:0.00001*cos(t), y:0.00001*sin(t)} for t in np.linspace(0,2*np.pi,10)]"
   ]
  },
  {
   "cell_type": "code",
   "execution_count": 57,
   "metadata": {},
   "outputs": [
    {
     "data": {
      "image/png": "[encoded data removed]",
      "text/latex": [
       "$$\\left [ \\mathrm{False}, \\quad \\mathrm{True}, \\quad \\mathrm{True}, \\quad \\mathrm{False}, \\quad \\mathrm{False}, \\quad \\mathrm{True}, \\quad \\mathrm{True}, \\quad \\mathrm{False}, \\quad \\mathrm{False}, \\quad \\mathrm{False}\\right ]$$"
      ],
      "text/plain": [
       "[False, True, True, False, False, True, True, False, False, False]"
      ]
     },
     "execution_count": 57,
     "metadata": {},
     "output_type": "execute_result"
    }
   ],
   "source": [
    "[f.subs({x:0,y:0}) - f.subs(pts[k]) > 0 for k in range(len(pts)) ]"
   ]
  },
  {
   "cell_type": "code",
   "execution_count": 58,
   "metadata": {},
   "outputs": [
    {
     "data": {
      "image/png": "[encoded data removed]",
      "text/latex": [
       "$$x^{3} - 3 x \\left(- x + 1\\right) + \\left(- x + 1\\right)^{3}$$"
      ],
      "text/plain": [
       " 3                          3\n",
       "x  - 3⋅x⋅(-x + 1) + (-x + 1) "
      ]
     },
     "execution_count": 58,
     "metadata": {},
     "output_type": "execute_result"
    }
   ],
   "source": [
    "g = f.subs({y:1-x})\n",
    "g"
   ]
  },
  {
   "cell_type": "code",
   "execution_count": 59,
   "metadata": {},
   "outputs": [
    {
     "data": {
      "image/png": "[encoded data removed]",
      "text/latex": [
       "$$- \\frac{1}{2}$$"
      ],
      "text/plain": [
       "-1/2"
      ]
     },
     "execution_count": 59,
     "metadata": {},
     "output_type": "execute_result"
    }
   ],
   "source": [
    "g.subs({x:S(1)/2})"
   ]
  },
  {
   "cell_type": "code",
   "execution_count": 60,
   "metadata": {},
   "outputs": [
    {
     "data": {
      "image/png": "[encoded data removed]",
      "text/latex": [
       "$$\\left [ \\left \\{ x : 0, \\quad y : 0\\right \\}, \\quad \\left \\{ x : - \\sqrt{2}, \\quad y : -1\\right \\}, \\quad \\left \\{ x : \\sqrt{2}, \\quad y : -1\\right \\}\\right ]$$"
      ],
      "text/plain": [
       "[{x: 0, y: 0}, {x: -√2, y: -1}, {x: √2, y: -1}]"
      ]
     },
     "execution_count": 60,
     "metadata": {},
     "output_type": "execute_result"
    }
   ],
   "source": [
    "f = x**2 + y**2 + x**2 * y + 1\n",
    "dfx = diff(f,x)\n",
    "dfy = diff(f,y)\n",
    "\n",
    "solns = solve({dfx, dfy}, {x,y})\n",
    "solns"
   ]
  },
  {
   "cell_type": "code",
   "execution_count": 61,
   "metadata": {},
   "outputs": [
    {
     "data": {
      "image/png": "[encoded data removed]",
      "text/latex": [
       "$$\\left [ \\left \\{ \\left ( 0, \\quad 0\\right ) : 1\\right \\}, \\quad \\left \\{ \\left ( - \\sqrt{2}, \\quad -1\\right ) : 2\\right \\}, \\quad \\left \\{ \\left ( \\sqrt{2}, \\quad -1\\right ) : 2\\right \\}\\right ]$$"
      ],
      "text/plain": [
       "[{(0, 0): 1}, {(-√2, -1): 2}, {(√2, -1): 2}]"
      ]
     },
     "execution_count": 61,
     "metadata": {},
     "output_type": "execute_result"
    }
   ],
   "source": [
    "[{(solns[i][x],solns[i][y]): f.subs(solns[i])} for i in range(len(solns))]"
   ]
  },
  {
   "cell_type": "code",
   "execution_count": 62,
   "metadata": {},
   "outputs": [
    {
     "data": {
      "image/png": "[encoded data removed]",
      "text/latex": [
       "$$\\left [ \\left \\{ \\left ( 0, \\quad 0\\right ) : 4\\right \\}, \\quad \\left \\{ \\left ( - \\sqrt{2}, \\quad -1\\right ) : -8\\right \\}, \\quad \\left \\{ \\left ( \\sqrt{2}, \\quad -1\\right ) : -8\\right \\}\\right ]$$"
      ],
      "text/plain": [
       "[{(0, 0): 4}, {(-√2, -1): -8}, {(√2, -1): -8}]"
      ]
     },
     "execution_count": 62,
     "metadata": {},
     "output_type": "execute_result"
    }
   ],
   "source": [
    "[{(solns[i][x],solns[i][y]): D(f).subs(solns[i])} for i in range(len(solns))]"
   ]
  },
  {
   "cell_type": "code",
   "execution_count": 63,
   "metadata": {},
   "outputs": [
    {
     "data": {
      "image/png": "[encoded data removed]",
      "text/latex": [
       "$$2$$"
      ],
      "text/plain": [
       "2"
      ]
     },
     "execution_count": 63,
     "metadata": {},
     "output_type": "execute_result"
    }
   ],
   "source": [
    "diff(f,x,2).subs(solns[0])"
   ]
  },
  {
   "cell_type": "code",
   "execution_count": 64,
   "metadata": {},
   "outputs": [
    {
     "data": {
      "image/png": "[encoded data removed]",
      "text/latex": [
       "$$0$$"
      ],
      "text/plain": [
       "0"
      ]
     },
     "execution_count": 64,
     "metadata": {},
     "output_type": "execute_result"
    }
   ],
   "source": [
    "diff(f,x,2).subs(solns[1])"
   ]
  },
  {
   "cell_type": "code",
   "execution_count": 65,
   "metadata": {},
   "outputs": [
    {
     "data": {
      "image/png": "[encoded data removed]",
      "text/latex": [
       "$$\\left [ \\left \\{ l : 0, \\quad x : 0, \\quad y : 0, \\quad z : - \\sqrt{3}\\right \\}, \\quad \\left \\{ l : 0, \\quad x : 0, \\quad y : 0, \\quad z : \\sqrt{3}\\right \\}, \\quad \\left \\{ l : 0, \\quad x : 0, \\quad y : - \\sqrt{6}, \\quad z : 0\\right \\}, \\quad \\left \\{ l : 0, \\quad x : 0, \\quad y : \\sqrt{6}, \\quad z : 0\\right \\}, \\quad \\left \\{ l : 0, \\quad x : - \\sqrt{2}, \\quad y : 0, \\quad z : 0\\right \\}, \\quad \\left \\{ l : 0, \\quad x : \\sqrt{2}, \\quad y : 0, \\quad z : 0\\right \\}, \\quad \\left \\{ l : - \\frac{\\sqrt{3}}{6}, \\quad x : - \\frac{\\sqrt{6}}{3}, \\quad y : - \\sqrt{2}, \\quad z : -1\\right \\}, \\quad \\left \\{ l : - \\frac{\\sqrt{3}}{6}, \\quad x : - \\frac{\\sqrt{6}}{3}, \\quad y : \\sqrt{2}, \\quad z : 1\\right \\}, \\quad \\left \\{ l : - \\frac{\\sqrt{3}}{6}, \\quad x : \\frac{\\sqrt{6}}{3}, \\quad y : - \\sqrt{2}, \\quad z : 1\\right \\}, \\quad \\left \\{ l : - \\frac{\\sqrt{3}}{6}, \\quad x : \\frac{\\sqrt{6}}{3}, \\quad y : \\sqrt{2}, \\quad z : -1\\right \\}, \\quad \\left \\{ l : \\frac{\\sqrt{3}}{6}, \\quad x : - \\frac{\\sqrt{6}}{3}, \\quad y : - \\sqrt{2}, \\quad z : 1\\right \\}, \\quad \\left \\{ l : \\frac{\\sqrt{3}}{6}, \\quad x : - \\frac{\\sqrt{6}}{3}, \\quad y : \\sqrt{2}, \\quad z : -1\\right \\}, \\quad \\left \\{ l : \\frac{\\sqrt{3}}{6}, \\quad x : \\frac{\\sqrt{6}}{3}, \\quad y : - \\sqrt{2}, \\quad z : -1\\right \\}, \\quad \\left \\{ l : \\frac{\\sqrt{3}}{6}, \\quad x : \\frac{\\sqrt{6}}{3}, \\quad y : \\sqrt{2}, \\quad z : 1\\right \\}\\right ]$$"
      ],
      "text/plain": [
       "⎡                                                                             \n",
       "⎢{l: 0, x: 0, y: 0, z: -√3}, {l: 0, x: 0, y: 0, z: √3}, {l: 0, x: 0, y: -√6, z\n",
       "⎣                                                                             \n",
       "\n",
       "                                                                              \n",
       ": 0}, {l: 0, x: 0, y: √6, z: 0}, {l: 0, x: -√2, y: 0, z: 0}, {l: 0, x: √2, y: \n",
       "                                                                              \n",
       "\n",
       "          ⎧   -√3      -√6                ⎫  ⎧   -√3      -√6              ⎫  \n",
       "0, z: 0}, ⎨l: ────, x: ────, y: -√2, z: -1⎬, ⎨l: ────, x: ────, y: √2, z: 1⎬, \n",
       "          ⎩    6        3                 ⎭  ⎩    6        3               ⎭  \n",
       "\n",
       "⎧   -√3      √6              ⎫  ⎧   -√3      √6              ⎫  ⎧   √3     -√6\n",
       "⎨l: ────, x: ──, y: -√2, z: 1⎬, ⎨l: ────, x: ──, y: √2, z: -1⎬, ⎨l: ──, x: ───\n",
       "⎩    6       3               ⎭  ⎩    6       3               ⎭  ⎩   6       3 \n",
       "\n",
       "               ⎫  ⎧   √3     -√6               ⎫  ⎧   √3     √6               \n",
       "─, y: -√2, z: 1⎬, ⎨l: ──, x: ────, y: √2, z: -1⎬, ⎨l: ──, x: ──, y: -√2, z: -1\n",
       "               ⎭  ⎩   6       3                ⎭  ⎩   6      3                \n",
       "\n",
       "⎫  ⎧   √3     √6             ⎫⎤\n",
       "⎬, ⎨l: ──, x: ──, y: √2, z: 1⎬⎥\n",
       "⎭  ⎩   6      3              ⎭⎦"
      ]
     },
     "execution_count": 65,
     "metadata": {},
     "output_type": "execute_result"
    }
   ],
   "source": [
    "f = x*y*z\n",
    "g = 3*x**2 + y**2 + 2*z**2\n",
    "\n",
    "solns = solve({grad(f)[i] - l*grad(g)[i] for i in range(3)}|{g-6},{x,y,z,l})\n",
    "solns"
   ]
  },
  {
   "cell_type": "code",
   "execution_count": 66,
   "metadata": {},
   "outputs": [
    {
     "ename": "KeyError",
     "evalue": "'l'",
     "output_type": "error",
     "traceback": [
      "\u001b[0;31m---------------------------------------------------------------------------\u001b[0m",
      "\u001b[0;31mKeyError\u001b[0m                                  Traceback (most recent call last)",
      "\u001b[0;32m<ipython-input-66-1896567cafc5>\u001b[0m in \u001b[0;36m<module>\u001b[0;34m()\u001b[0m\n\u001b[1;32m      1\u001b[0m \u001b[0;32mfor\u001b[0m \u001b[0msoln\u001b[0m \u001b[0;32min\u001b[0m \u001b[0msolns\u001b[0m\u001b[0;34m:\u001b[0m\u001b[0;34m\u001b[0m\u001b[0m\n\u001b[0;32m----> 2\u001b[0;31m     \u001b[0;32mdel\u001b[0m \u001b[0msoln\u001b[0m\u001b[0;34m[\u001b[0m\u001b[0;34m'l'\u001b[0m\u001b[0;34m]\u001b[0m\u001b[0;34m\u001b[0m\u001b[0m\n\u001b[0m",
      "\u001b[0;31mKeyError\u001b[0m: 'l'"
     ]
    }
   ],
   "source": [
    "for soln in solns:\n",
    "    del soln['l']"
   ]
  },
  {
   "cell_type": "code",
   "execution_count": null,
   "metadata": {},
   "outputs": [],
   "source": [
    "solns"
   ]
  },
  {
   "cell_type": "code",
   "execution_count": null,
   "metadata": {},
   "outputs": [],
   "source": [
    "xyzsolns=[{x:solns[i][x],y:solns[i][y],z:solns[i][z]} for i in range(len(solns))]"
   ]
  },
  {
   "cell_type": "code",
   "execution_count": null,
   "metadata": {},
   "outputs": [],
   "source": [
    "xyzsolns"
   ]
  },
  {
   "cell_type": "code",
   "execution_count": null,
   "metadata": {},
   "outputs": [],
   "source": [
    "[{(xyzsolns[i][x],xyzsolns[i][y],xyzsolns[i][z]):f.subs(xyzsolns[i])} for i in range(len(xyzsolns))]"
   ]
  },
  {
   "cell_type": "code",
   "execution_count": null,
   "metadata": {},
   "outputs": [],
   "source": [
    "f = 3*x - y - 3*z\n",
    "g = x**2 + 2*z**2\n",
    "h = x + y - z"
   ]
  },
  {
   "cell_type": "code",
   "execution_count": null,
   "metadata": {},
   "outputs": [],
   "source": [
    "solns= solve({grad(f)[i] - l*grad(g)[i] - m*grad(h)[i] for i in range(3)}|{g - 400, h - 6}, {x,y,z,l,m})"
   ]
  },
  {
   "cell_type": "code",
   "execution_count": null,
   "metadata": {},
   "outputs": [],
   "source": [
    "solns"
   ]
  },
  {
   "cell_type": "code",
   "execution_count": null,
   "metadata": {},
   "outputs": [],
   "source": [
    "f.subs({x:solns[1][x], y:solns[1][y], z:solns[1][z]}).n()"
   ]
  },
  {
   "cell_type": "code",
   "execution_count": null,
   "metadata": {},
   "outputs": [],
   "source": [
    "f.subs({x:solns[0][x], y:solns[0][y], z:solns[0][z]}).n()3"
   ]
  },
  {
   "cell_type": "code",
   "execution_count": null,
   "metadata": {},
   "outputs": [],
   "source": [
    ".08*400"
   ]
  },
  {
   "cell_type": "code",
   "execution_count": null,
   "metadata": {},
   "outputs": [],
   "source": [
    "-.01/400 - 32/400**2 * .03"
   ]
  },
  {
   "cell_type": "code",
   "execution_count": null,
   "metadata": {
    "collapsed": true
   },
   "outputs": [],
   "source": [
    "z = y**3 + 4*x**2*y"
   ]
  },
  {
   "cell_type": "code",
   "execution_count": null,
   "metadata": {},
   "outputs": [],
   "source": [
    "u = symbols('u')\n",
    "\n",
    "xut = u**2/t\n",
    "yut = u*sqrt(t)"
   ]
  },
  {
   "cell_type": "code",
   "execution_count": null,
   "metadata": {},
   "outputs": [],
   "source": [
    "z"
   ]
  },
  {
   "cell_type": "code",
   "execution_count": null,
   "metadata": {},
   "outputs": [],
   "source": [
    "diff(z,t).subs({u:3,t:9}).n()"
   ]
  },
  {
   "cell_type": "code",
   "execution_count": null,
   "metadata": {},
   "outputs": [],
   "source": [
    "-72/9 + (3*81+4)/2"
   ]
  },
  {
   "cell_type": "code",
   "execution_count": null,
   "metadata": {},
   "outputs": [],
   "source": [
    "xut.subs({u:3, t:9})"
   ]
  },
  {
   "cell_type": "code",
   "execution_count": null,
   "metadata": {},
   "outputs": [],
   "source": [
    "yut.subs({u:3, t:9})"
   ]
  },
  {
   "cell_type": "code",
   "execution_count": null,
   "metadata": {},
   "outputs": [],
   "source": [
    "w = symbols('w')\n",
    "\n",
    "w = x*exp(y/z)"
   ]
  },
  {
   "cell_type": "code",
   "execution_count": null,
   "metadata": {},
   "outputs": [],
   "source": [
    "l = symbols('l')"
   ]
  },
  {
   "cell_type": "code",
   "execution_count": null,
   "metadata": {},
   "outputs": [],
   "source": [
    "solve({y*z-6*l*x, x*z-2*l*y, x*y-4*l*z, 3*x**2+y**2+2*z**2-6},{x,y,z,l})"
   ]
  },
  {
   "cell_type": "code",
   "execution_count": null,
   "metadata": {
    "collapsed": true
   },
   "outputs": [],
   "source": [
    "from sympy.physics.vector import *\n",
    "N = ReferenceFrame('N')\n"
   ]
  },
  {
   "cell_type": "code",
   "execution_count": null,
   "metadata": {
    "collapsed": true
   },
   "outputs": [],
   "source": [
    "a = -25*cos(-5*t)*N.x - 25*sin(-5*t)*N.y - 5*t*N.z\n",
    "v0 = N.x + N.z\n",
    "r0 = N.x + N.y + N.z"
   ]
  },
  {
   "cell_type": "code",
   "execution_count": null,
   "metadata": {},
   "outputs": [],
   "source": [
    "v = a.applyfunc(lambda f: integrate(f,t))\n",
    "v"
   ]
  },
  {
   "cell_type": "code",
   "execution_count": null,
   "metadata": {},
   "outputs": [],
   "source": [
    "v.subs(t,0)"
   ]
  },
  {
   "cell_type": "code",
   "execution_count": null,
   "metadata": {},
   "outputs": [],
   "source": [
    "C1 = v0 - v.subs(t,0)\n",
    "C1"
   ]
  },
  {
   "cell_type": "code",
   "execution_count": null,
   "metadata": {},
   "outputs": [],
   "source": [
    "v = v + C1\n",
    "v"
   ]
  },
  {
   "cell_type": "code",
   "execution_count": null,
   "metadata": {},
   "outputs": [],
   "source": [
    "r = v.applyfunc(lambda f: integrate(f,t))\n",
    "r"
   ]
  },
  {
   "cell_type": "code",
   "execution_count": null,
   "metadata": {},
   "outputs": [],
   "source": [
    "C2 = r0 - r.subs(t,0)\n",
    "C2"
   ]
  },
  {
   "cell_type": "code",
   "execution_count": null,
   "metadata": {},
   "outputs": [],
   "source": [
    "r = r + C2\n",
    "r"
   ]
  },
  {
   "cell_type": "code",
   "execution_count": null,
   "metadata": {
    "collapsed": true
   },
   "outputs": [],
   "source": [
    "r = exp(t)*sin(t)*N.x + exp(t)*cos(t)*N.y"
   ]
  },
  {
   "cell_type": "code",
   "execution_count": null,
   "metadata": {},
   "outputs": [],
   "source": [
    "t = symbols('t', positive=True, real=True)\n",
    "\n",
    "rNorm = r.magnitude()\n",
    "rNorm.simplify()"
   ]
  },
  {
   "cell_type": "code",
   "execution_count": null,
   "metadata": {},
   "outputs": [],
   "source": [
    "x = symbols('x', positive=True, real=True)\n",
    "\n",
    "simplify(sqrt(exp(2*x)))"
   ]
  },
  {
   "cell_type": "code",
   "execution_count": 72,
   "metadata": {},
   "outputs": [],
   "source": [
    "a1 = a2 = a3 = 1\n",
    "\n",
    "def a(n):\n",
    "    if (n == 0 or n == 1 or n == 2):\n",
    "        return 1\n",
    "    else:\n",
    "        return (factorial(n-3) + a(n-2)*a(n-1)) / a(n-3)"
   ]
  },
  {
   "cell_type": "code",
   "execution_count": 73,
   "metadata": {},
   "outputs": [
    {
     "name": "stdout",
     "output_type": "stream",
     "text": [
      "n = 0     an = 1\n",
      "n = 1     an = 1\n",
      "n = 2     an = 1\n",
      "n = 3     an = 2\n",
      "n = 4     an = 3\n",
      "n = 5     an = 8\n",
      "n = 6     an = 15\n",
      "n = 7     an = 48\n",
      "n = 8     an = 105\n",
      "n = 9     an = 384\n",
      "n = 10    an = 945\n",
      "n = 11    an = 3840\n",
      "n = 12    an = 10395\n",
      "n = 13    an = 46080\n",
      "n = 14    an = 135135\n",
      "n = 15    an = 645120\n",
      "n = 16    an = 2027025\n",
      "n = 17    an = 10321920\n",
      "n = 18    an = 34459425\n",
      "n = 19    an = 185794560\n"
     ]
    }
   ],
   "source": [
    "table = [[n, a(n)] for n in range(20)]\n",
    "for row in table:\n",
    "    print(\"n = {0:<5} an = {1}\".format(row[0], row[1]))"
   ]
  },
  {
   "cell_type": "code",
   "execution_count": 74,
   "metadata": {},
   "outputs": [
    {
     "data": {
      "image/png": "[encoded data removed]",
      "text/latex": [
       "$$654729075$$"
      ],
      "text/plain": [
       "654729075"
      ]
     },
     "execution_count": 74,
     "metadata": {},
     "output_type": "execute_result"
    }
   ],
   "source": [
    "a(20)"
   ]
  },
  {
   "cell_type": "code",
   "execution_count": 75,
   "metadata": {},
   "outputs": [
    {
     "name": "stdout",
     "output_type": "stream",
     "text": [
      "n: 0     an: 1\n",
      "n: 1     an: 1\n",
      "n: 2     an: 1\n",
      "n: 3     an: 2\n",
      "n: 4     an: 3\n",
      "n: 5     an: 8\n",
      "n: 6     an: 15\n",
      "n: 7     an: 48\n",
      "n: 8     an: 105\n",
      "n: 9     an: 384\n",
      "n: 10    an: 945\n",
      "n: 11    an: 3840\n",
      "n: 12    an: 10395\n",
      "n: 13    an: 46080\n",
      "n: 14    an: 135135\n",
      "n: 15    an: 645120\n",
      "n: 16    an: 2027025\n",
      "n: 17    an: 10321920\n",
      "n: 18    an: 34459425\n",
      "n: 19    an: 185794560\n",
      "n: 20    an: 654729075\n",
      "n: 21    an: 3715891200\n",
      "n: 22    an: 13749310575\n",
      "n: 23    an: 81749606400\n",
      "n: 24    an: 316234143225\n",
      "n: 25    an: 1961990553600\n",
      "n: 26    an: 7905853580625\n",
      "n: 27    an: 51011754393600\n",
      "n: 28    an: 213458046676875\n",
      "n: 29    an: 1428329123020800\n",
      "n: 30    an: 6190283353629375\n",
      "n: 31    an: 42849873690624000\n",
      "n: 32    an: 191898783962510625\n",
      "n: 33    an: 1371195958099968000\n",
      "n: 34    an: 6332659870762850625\n",
      "n: 35    an: 46620662575398912000\n",
      "n: 36    an: 221643095476699771875\n",
      "n: 37    an: 1678343852714360832000\n",
      "n: 38    an: 8200794532637891559375\n",
      "n: 39    an: 63777066403145711616000\n",
      "n: 40    an: 319830986772877770815625\n",
      "n: 41    an: 2551082656125828464640000\n",
      "n: 42    an: 13113070457687988603440625\n",
      "n: 43    an: 107145471557284795514880000\n",
      "n: 44    an: 563862029680583509947946875\n",
      "n: 45    an: 4714400748520531002654720000\n",
      "n: 46    an: 25373791335626257947657609375\n",
      "n: 47    an: 216862434431944426122117120000\n",
      "n: 48    an: 1192568192774434123539907640625\n",
      "n: 49    an: 10409396852733332453861621760000\n",
      "n: 50    an: 58435841445947272053455474390625\n",
      "n: 51    an: 520469842636666622693081088000000\n",
      "n: 52    an: 2980227913743310874726229193921875\n",
      "n: 53    an: 27064431817106664380040216576000000\n",
      "n: 54    an: 157952079428395476360490147277859375\n",
      "n: 55    an: 1461479318123759876522171695104000000\n",
      "n: 56    an: 8687364368561751199826958100282265625\n",
      "n: 57    an: 81842841814930553085241614925824000000\n",
      "n: 58    an: 495179769008019818390136611716089140625\n",
      "n: 59    an: 4746884825265972078944013665697792000000\n",
      "n: 60    an: 29215606371473169285018060091249259296875\n",
      "n: 61    an: 284813089515958324736640819941867520000000\n",
      "n: 62    an: 1782151988659863326386101665566204817109375\n",
      "n: 63    an: 17658411549989416133671730836395786240000000\n",
      "n: 64    an: 112275575285571389562324404930670903477890625\n",
      "n: 65    an: 1130138339199322632554990773529330319360000000\n",
      "n: 66    an: 7297912393562140321551086320493608726062890625\n",
      "n: 67    an: 74589130387155293748629391052935801077760000000\n",
      "n: 68    an: 488960130368663401543922783473071784646213671875\n",
      "n: 69    an: 5072060866326559974906798591599634473287680000000\n",
      "n: 70    an: 33738248995437774706530672059641953140588743359375\n",
      "n: 71    an: 355044260642859198243475901411974413130137600000000\n",
      "n: 72    an: 2395415678676082004163677716234578672981800778515625\n",
      "n: 73    an: 25563186766285862273530264901662157745369907200000000\n",
      "n: 74    an: 174865344543353986303948473285124243127671456831640625\n",
      "n: 75    an: 1891675820705153808241239602722999673157373132800000000\n",
      "n: 76    an: 13114900840751548972796135496384318234575359262373046875\n",
      "n: 77    an: 143767362373591689426334209806947975159960358092800000000\n",
      "n: 78    an: 1009847364737869270905302433221592504062302663202724609375\n",
      "n: 79    an: 11213854265140151775254068364941942062476907931238400000000\n",
      "n: 80    an: 79777941814291672401518892224505807820921910393015244140625\n",
      "n: 81    an: 897108341211212142020325469195355364998152634499072000000000\n",
      "n: 82    an: 6462013286957625464523030270184970433494674741834234775390625\n",
      "n: 83    an: 73562883979319395645666688474019139929848516028923904000000000\n",
      "n: 84    an: 536347102817482913555411512425352545980058003572241486357421875\n",
      "n: 85    an: 6179282254262829234236001831817607754107275346429607936000000000\n",
      "n: 86    an: 45589503739486047652209978556154966408304930303640526340380859375\n",
      "n: 87    an: 531418273866603314144296157536314266853225679792946282496000000000\n",
      "n: 88    an: 3966286825335286145742268134385482077522528936416725791613134765625\n",
      "n: 89    an: 46764808100261091644698061863195655483083859821779272859648000000000\n",
      "n: 90    an: 352999527454840466971061863960307904899505075341088595453568994140625\n",
      "n: 91    an: 4208832729023498248022825567687608993477547383960134557368320000000000\n",
      "n: 92    an: 32122956998390482494366629620388019345854961856039062186274778466796875\n",
      "n: 93    an: 387212611070161838818099952227260027399934359324332379277885440000000000\n",
      "n: 94    an: 2987435000850314871976096554696085799164511452611632783323554397412109375\n",
      "n: 95    an: 36397985440595212848901395509362442575593829776487243652121231360000000000\n",
      "n: 96    an: 283806325080779912837729172696128150920628587998105114415737667754150390625\n",
      "n: 97    an: 3494206602297140433494533968898794487257007658542775390603638210560000000000\n",
      "n: 98    an: 27529213532835651545259729751524430639300973035816196098326553772152587890625\n",
      "n: 99    an: 342432247025119762482464328952081859751186750537191988279156544634880000000000\n",
      "n: 100   an: 2725392139750729502980713245400918633290796330545803413734328823443106201171875\n",
      "n: 101   an: 34243224702511976248246432895208185975118675053719198827915654463488000000000000\n"
     ]
    }
   ],
   "source": [
    "values = [1, 1, 1]\n",
    "for i in range(102):\n",
    "    index = i + 3\n",
    "    values.append((factorial(index-3) + values[index-2] * values[index-1]) / values[index-3])\n",
    "    \n",
    "for i in range(102):\n",
    "    print(\"n: {0:<5} an: {1}\".format(i, values[i]))"
   ]
  },
  {
   "cell_type": "code",
   "execution_count": 76,
   "metadata": {},
   "outputs": [
    {
     "data": {
      "image/png": "[encoded data removed]",
      "text/latex": [
       "$$\\left \\{ 2 : 97, \\quad 3 : 48, \\quad 5 : 24, \\quad 7 : 16, \\quad 11 : 9, \\quad 13 : 7, \\quad 17 : 5, \\quad 19 : 5, \\quad 23 : 4, \\quad 29 : 3, \\quad 31 : 3, \\quad 37 : 2, \\quad 41 : 2, \\quad 43 : 2, \\quad 47 : 2, \\quad 53 : 1, \\quad 59 : 1, \\quad 61 : 1, \\quad 67 : 1, \\quad 71 : 1, \\quad 73 : 1, \\quad 79 : 1, \\quad 83 : 1, \\quad 89 : 1, \\quad 97 : 1\\right \\}$$"
      ],
      "text/plain": [
       "{2: 97, 3: 48, 5: 24, 7: 16, 11: 9, 13: 7, 17: 5, 19: 5, 23: 4, 29: 3, 31: 3, \n",
       "37: 2, 41: 2, 43: 2, 47: 2, 53: 1, 59: 1, 61: 1, 67: 1, 71: 1, 73: 1, 79: 1, 8\n",
       "3: 1, 89: 1, 97: 1}"
      ]
     },
     "execution_count": 76,
     "metadata": {},
     "output_type": "execute_result"
    }
   ],
   "source": [
    "factorint(values[100]*values[101])"
   ]
  },
  {
   "cell_type": "code",
   "execution_count": 77,
   "metadata": {},
   "outputs": [
    {
     "data": {
      "image/png": "[encoded data removed]",
      "text/latex": [
       "$$933262154439441526816992388562667004907159682643816214685929638952175999932299156089414639761565182862536979208272237582511852109168640000000000000000000000$$"
      ],
      "text/plain": [
       "933262154439441526816992388562667004907159682643816214685929638952175999932299\n",
       "156089414639761565182862536979208272237582511852109168640000000000000000000000"
      ]
     },
     "execution_count": 77,
     "metadata": {},
     "output_type": "execute_result"
    }
   ],
   "source": [
    "factorial(99)"
   ]
  },
  {
   "cell_type": "code",
   "execution_count": 78,
   "metadata": {},
   "outputs": [
    {
     "data": {
      "image/png": "[encoded data removed]",
      "text/latex": [
       "$$93326215443944152681699238856266700490715968264381621468592963895217599993229915608941463976156518286253697920827223758251185210916864000000000000000000000000$$"
      ],
      "text/plain": [
       "933262154439441526816992388562667004907159682643816214685929638952175999932299\n",
       "156089414639761565182862536979208272237582511852109168640000000000000000000000\n",
       "00"
      ]
     },
     "execution_count": 78,
     "metadata": {},
     "output_type": "execute_result"
    }
   ],
   "source": [
    "values[100]*values[101]"
   ]
  },
  {
   "cell_type": "code",
   "execution_count": 79,
   "metadata": {
    "collapsed": true
   },
   "outputs": [],
   "source": [
    "# A decorator to time a function.\n",
    "import time                                                \n",
    "\n",
    "def timeit(method):\n",
    "\n",
    "    def timed(*args, **kwargs):\n",
    "        ts = time.time()\n",
    "        result = method(*args, **kwargs)\n",
    "        te = time.time()\n",
    "\n",
    "        print('%r (%r, %r) %2.2f sec' % (method.__name__, args, kwargs, te-ts))\n",
    "        return result\n",
    "\n",
    "    return timed"
   ]
  },
  {
   "cell_type": "code",
   "execution_count": 80,
   "metadata": {},
   "outputs": [],
   "source": [
    "@timeit\n",
    "def my_map(func, arg_list):\n",
    "    return [func(arg) for arg in arg_list]"
   ]
  },
  {
   "cell_type": "code",
   "execution_count": 82,
   "metadata": {},
   "outputs": [
    {
     "name": "stdout",
     "output_type": "stream",
     "text": [
      "'my_map' ((<function <lambda> at 0x110d5abf8>, range(1, 51)), {}) 0.00 sec\n"
     ]
    },
    {
     "data": {
      "image/png": "[encoded data removed]",
      "text/latex": [
       "$$\\left [ 1, \\quad 8, \\quad 27, \\quad 64, \\quad 125, \\quad 216, \\quad 343, \\quad 512, \\quad 729, \\quad 1000, \\quad 1331, \\quad 1728, \\quad 2197, \\quad 2744, \\quad 3375, \\quad 4096, \\quad 4913, \\quad 5832, \\quad 6859, \\quad 8000, \\quad 9261, \\quad 10648, \\quad 12167, \\quad 13824, \\quad 15625, \\quad 17576, \\quad 19683, \\quad 21952, \\quad 24389, \\quad 27000, \\quad 29791, \\quad 32768, \\quad 35937, \\quad 39304, \\quad 42875, \\quad 46656, \\quad 50653, \\quad 54872, \\quad 59319, \\quad 64000, \\quad 68921, \\quad 74088, \\quad 79507, \\quad 85184, \\quad 91125, \\quad 97336, \\quad 103823, \\quad 110592, \\quad 117649, \\quad 125000\\right ]$$"
      ],
      "text/plain": [
       "[1, 8, 27, 64, 125, 216, 343, 512, 729, 1000, 1331, 1728, 2197, 2744, 3375, 40\n",
       "96, 4913, 5832, 6859, 8000, 9261, 10648, 12167, 13824, 15625, 17576, 19683, 21\n",
       "952, 24389, 27000, 29791, 32768, 35937, 39304, 42875, 46656, 50653, 54872, 593\n",
       "19, 64000, 68921, 74088, 79507, 85184, 91125, 97336, 103823, 110592, 117649, 1\n",
       "25000]"
      ]
     },
     "execution_count": 82,
     "metadata": {},
     "output_type": "execute_result"
    }
   ],
   "source": [
    "my_map(lambda x: x**3, range(1,51))"
   ]
  },
  {
   "cell_type": "code",
   "execution_count": null,
   "metadata": {
    "collapsed": true
   },
   "outputs": [],
   "source": [
    "@timeit\n",
    "def my_map2(func, arg_list):\n",
    "    return (func(arg) for arg in arg_list)"
   ]
  },
  {
   "cell_type": "code",
   "execution_count": null,
   "metadata": {},
   "outputs": [],
   "source": [
    "gen = my_map2(lambda x: x*x*x, range(1,))\n",
    "for num in gen:\n",
    "    pass"
   ]
  },
  {
   "cell_type": "code",
   "execution_count": null,
   "metadata": {},
   "outputs": [],
   "source": [
    "my_map(lambda x: x**2+2*x-1, [1, 3, 5, 7, 9, 11, 15])"
   ]
  },
  {
   "cell_type": "code",
   "execution_count": 71,
   "metadata": {},
   "outputs": [
    {
     "data": {
      "image/png": "[encoded data removed]",
      "text/latex": [
       "$$145.0$$"
      ],
      "text/plain": [
       "145.0"
      ]
     },
     "execution_count": 71,
     "metadata": {},
     "output_type": "execute_result"
    }
   ],
   "source": [
    "a = 2\n",
    "sum([(a+k+1)**2 for k in range(17)])/17"
   ]
  },
  {
   "cell_type": "code",
   "execution_count": 68,
   "metadata": {},
   "outputs": [],
   "source": [
    "def logb(b):\n",
    "    def f(x):\n",
    "        return (log(x)/log(b))\n",
    "    \n",
    "    return f\n",
    "\n",
    "log2 = logb(2)\n",
    "log3 = logb(3)\n",
    "log4 = logb(4)\n",
    "log5 = logb(5)"
   ]
  },
  {
   "cell_type": "code",
   "execution_count": 69,
   "metadata": {},
   "outputs": [
    {
     "name": "stdout",
     "output_type": "stream",
     "text": [
      "log(4)/log(2)\n",
      "log(4)/log(3)\n",
      "1\n",
      "log(4)/log(5)\n"
     ]
    }
   ],
   "source": [
    "print(log2(4))\n",
    "print(log3(4))\n",
    "print(log4(4))\n",
    "print(log5(4))"
   ]
  },
  {
   "cell_type": "code",
   "execution_count": 70,
   "metadata": {},
   "outputs": [
    {
     "data": {
      "image/png": "[encoded data removed]",
      "text/latex": [
       "$$\\frac{\\log{\\left (7 \\right )}}{\\log{\\left (5 \\right )}} + \\frac{\\log{\\left (3 \\right )}}{\\log{\\left (2 \\right )}}$$"
      ],
      "text/plain": [
       "log(7)   log(3)\n",
       "────── + ──────\n",
       "log(5)   log(2)"
      ]
     },
     "execution_count": 70,
     "metadata": {},
     "output_type": "execute_result"
    }
   ],
   "source": [
    "log2(3) + log5(7)"
   ]
  },
  {
   "cell_type": "code",
   "execution_count": null,
   "metadata": {
    "collapsed": true
   },
   "outputs": [],
   "source": []
  }
 ],
 "metadata": {
  "anaconda-cloud": {},
  "hide_input": false,
  "kernelspec": {
   "display_name": "Python [default]",
   "language": "python",
   "name": "python3"
  },
  "language_info": {
   "codemirror_mode": {
    "name": "ipython",
    "version": 3
   },
   "file_extension": ".py",
   "mimetype": "text/x-python",
   "name": "python",
   "nbconvert_exporter": "python",
   "pygments_lexer": "ipython3",
   "version": "3.5.2"
  },
  "latex_envs": {
   "bibliofile": "biblio.bib",
   "cite_by": "apalike",
   "current_citInitial": 1,
   "eqLabelWithNumbers": true,
   "eqNumInitial": 0
  }
 },
 "nbformat": 4,
 "nbformat_minor": 1
}
