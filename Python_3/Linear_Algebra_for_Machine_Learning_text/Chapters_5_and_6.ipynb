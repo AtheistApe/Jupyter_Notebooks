{
 "cells": [
  {
   "cell_type": "code",
   "execution_count": 1,
   "metadata": {},
   "outputs": [],
   "source": [
    "import numpy as np\n",
    "import matplotlib.pyplot as plt\n",
    "\n",
    "import random"
   ]
  },
  {
   "cell_type": "code",
   "execution_count": 25,
   "metadata": {},
   "outputs": [
    {
     "data": {
      "text/plain": [
       "[49, 63, 45, 56, 85, 80, 75, 72, 48, 62]"
      ]
     },
     "execution_count": 25,
     "metadata": {},
     "output_type": "execute_result"
    }
   ],
   "source": [
    "lst = [random.randint(1,100) for i in range(100)]\n",
    "lst[0:10]"
   ]
  },
  {
   "cell_type": "code",
   "execution_count": 26,
   "metadata": {},
   "outputs": [
    {
     "data": {
      "text/plain": [
       "numpy.ndarray"
      ]
     },
     "execution_count": 26,
     "metadata": {},
     "output_type": "execute_result"
    }
   ],
   "source": [
    "arry = np.array(lst)\n",
    "type(arry)"
   ]
  },
  {
   "cell_type": "markdown",
   "metadata": {},
   "source": [
    "## Section 5.3: Array Indexing"
   ]
  },
  {
   "cell_type": "code",
   "execution_count": 27,
   "metadata": {},
   "outputs": [
    {
     "name": "stdout",
     "output_type": "stream",
     "text": [
      "[[8, 9, 9, 6, 6, 4, 2, 3, 3, 1], [5, 3, 2, 7, 7, 3, 10, 9, 8, 5], [6, 9, 7, 1, 7, 7, 4, 4, 9, 2], [7, 7, 3, 4, 9, 2, 3, 4, 9, 10], [9, 10, 5, 3, 4, 6, 2, 10, 9, 10], [2, 6, 7, 10, 2, 8, 5, 1, 1, 6], [2, 6, 3, 5, 2, 4, 1, 7, 8, 10], [7, 7, 3, 9, 4, 9, 3, 1, 5, 5], [10, 9, 9, 6, 3, 10, 1, 8, 8, 10], [10, 2, 1, 1, 10, 10, 7, 7, 9, 2]]\n",
      "<class 'list'>\n"
     ]
    }
   ],
   "source": [
    "# Create a Python list of lists\n",
    "\n",
    "lst_of_lsts = [[random.randint(1,10)\n",
    "          for i in range(10)]\n",
    "          for j in range(10)]\n",
    "\n",
    "print(lst_of_lsts)\n",
    "print(type(lst_of_lsts))"
   ]
  },
  {
   "cell_type": "code",
   "execution_count": 28,
   "metadata": {},
   "outputs": [
    {
     "name": "stdout",
     "output_type": "stream",
     "text": [
      "[[ 8  9  9  6  6  4  2  3  3  1]\n",
      " [ 5  3  2  7  7  3 10  9  8  5]\n",
      " [ 6  9  7  1  7  7  4  4  9  2]\n",
      " [ 7  7  3  4  9  2  3  4  9 10]\n",
      " [ 9 10  5  3  4  6  2 10  9 10]\n",
      " [ 2  6  7 10  2  8  5  1  1  6]\n",
      " [ 2  6  3  5  2  4  1  7  8 10]\n",
      " [ 7  7  3  9  4  9  3  1  5  5]\n",
      " [10  9  9  6  3 10  1  8  8 10]\n",
      " [10  2  1  1 10 10  7  7  9  2]]\n",
      "<class 'numpy.ndarray'>\n",
      "(10, 10)\n"
     ]
    }
   ],
   "source": [
    "# Convert the list of lists to a numpy ndarray\n",
    "\n",
    "arry_2d = np.array(lst_of_lsts)\n",
    "print(arry_2d)\n",
    "print(type(arry_2d))\n",
    "print(arry_2d.shape)"
   ]
  },
  {
   "cell_type": "code",
   "execution_count": 42,
   "metadata": {},
   "outputs": [
    {
     "name": "stdout",
     "output_type": "stream",
     "text": [
      "[8 9 9 6 6 4 2 3 3 1]\n",
      "(10,)\n"
     ]
    }
   ],
   "source": [
    "print(arry_2d[0,]) # Print the first row\n",
    "print(arry_2d[0,].shape)"
   ]
  },
  {
   "cell_type": "code",
   "execution_count": 43,
   "metadata": {},
   "outputs": [
    {
     "name": "stdout",
     "output_type": "stream",
     "text": [
      "[8 9 9 6 6 4 2 3 3 1]\n",
      "(10,)\n"
     ]
    }
   ],
   "source": [
    "print(arry_2d[0,:])\n",
    "print(arry_2d[0,:].shape)"
   ]
  },
  {
   "cell_type": "code",
   "execution_count": 48,
   "metadata": {},
   "outputs": [
    {
     "name": "stdout",
     "output_type": "stream",
     "text": [
      "49\n",
      "[49]\n"
     ]
    }
   ],
   "source": [
    "print(arry[0])\n",
    "print(arry[0:1])"
   ]
  },
  {
   "cell_type": "code",
   "execution_count": 54,
   "metadata": {},
   "outputs": [
    {
     "name": "stdout",
     "output_type": "stream",
     "text": [
      "X = \n",
      " [[ 8  9  9  6  6  4  2  3  3]\n",
      " [ 5  3  2  7  7  3 10  9  8]\n",
      " [ 6  9  7  1  7  7  4  4  9]\n",
      " [ 7  7  3  4  9  2  3  4  9]\n",
      " [ 9 10  5  3  4  6  2 10  9]\n",
      " [ 2  6  7 10  2  8  5  1  1]\n",
      " [ 2  6  3  5  2  4  1  7  8]\n",
      " [ 7  7  3  9  4  9  3  1  5]\n",
      " [10  9  9  6  3 10  1  8  8]\n",
      " [10  2  1  1 10 10  7  7  9]] \n",
      "\n",
      "y = \n",
      " [ 1  5  2 10 10  6 10  5 10  2]\n"
     ]
    }
   ],
   "source": [
    "# Suppose all columns of arry_2d except the last represent input variables X and the last column represents the output variable y.\n",
    "\n",
    "X = arry_2d[:, :-1]\n",
    "y = arry_2d[:, -1]\n",
    "\n",
    "print(\"X = \\n\", X , '\\n')\n",
    "print(\"y = \\n\", y,)"
   ]
  },
  {
   "cell_type": "code",
   "execution_count": 58,
   "metadata": {},
   "outputs": [
    {
     "name": "stdout",
     "output_type": "stream",
     "text": [
      "train = \n",
      " [[ 8  9  9  6  6  4  2  3  3  1]\n",
      " [ 5  3  2  7  7  3 10  9  8  5]\n",
      " [ 6  9  7  1  7  7  4  4  9  2]\n",
      " [ 7  7  3  4  9  2  3  4  9 10]\n",
      " [ 9 10  5  3  4  6  2 10  9 10]] \n",
      "\n",
      "test = \n",
      " [[ 2  6  7 10  2  8  5  1  1  6]\n",
      " [ 2  6  3  5  2  4  1  7  8 10]\n",
      " [ 7  7  3  9  4  9  3  1  5  5]\n",
      " [10  9  9  6  3 10  1  8  8 10]\n",
      " [10  2  1  1 10 10  7  7  9  2]]\n"
     ]
    }
   ],
   "source": [
    "# Split train and test rows in a data set at some point 'split'.\n",
    "\n",
    "split = 5\n",
    "\n",
    "train = arry_2d[:split, :]\n",
    "test = arry_2d[split:, :]\n",
    "\n",
    "print(\"train = \\n\", train, '\\n')\n",
    "print('test = \\n', test)"
   ]
  },
  {
   "cell_type": "markdown",
   "metadata": {},
   "source": [
    "## Array Reshaping"
   ]
  },
  {
   "cell_type": "code",
   "execution_count": 59,
   "metadata": {},
   "outputs": [],
   "source": [
    "?np.random.randint"
   ]
  },
  {
   "cell_type": "code",
   "execution_count": 70,
   "metadata": {},
   "outputs": [
    {
     "name": "stdout",
     "output_type": "stream",
     "text": [
      "[[1 2 7 8 5 4 5 2 3 9 4 5 4 2 6]\n",
      " [3 7 1 9 3 4 1 8 2 8 2 8 2 2 8]\n",
      " [7 8 9 4 4 1 5 7 2 3 5 7 8 2 8]\n",
      " [9 3 3 7 2 9 3 5 1 2 5 1 2 5 1]\n",
      " [7 8 6 8 9 2 6 8 8 6 1 1 5 3 1]\n",
      " [2 5 4 2 3 5 8 2 6 3 2 8 4 1 6]\n",
      " [6 3 8 4 7 9 9 1 5 9 2 2 2 6 6]\n",
      " [4 7 6 7 4 5 3 2 2 2 5 7 1 9 1]] \n",
      "\n",
      "shape =  (8, 15) \n",
      "\n",
      "Rows: 8\n",
      "Cols: 15\n",
      "Rows: 8\t Cols: 15\n"
     ]
    }
   ],
   "source": [
    "# randint(low, high=None, size=None, dtype='l')\n",
    "\n",
    "data = np.random.randint(1, 10, (8,15))\n",
    "print(data, '\\n')\n",
    "print(\"shape = \", data.shape, \"\\n\")\n",
    "print(\"Rows: %d\" % data.shape[0])\n",
    "print(\"Cols: %d\" % data.shape[1])\n",
    "\n",
    "# print using fstrings\n",
    "print(f\"Rows: {data.shape[0]}\\t Cols: {data.shape[1]}\")"
   ]
  },
  {
   "cell_type": "code",
   "execution_count": 78,
   "metadata": {},
   "outputs": [
    {
     "name": "stdout",
     "output_type": "stream",
     "text": [
      "(10,)\n",
      "[0 1 2 3 4 5 6 7 8 9] \n",
      "\n",
      "\n",
      "(10, 1)\n",
      "data = \n",
      " [[0]\n",
      " [1]\n",
      " [2]\n",
      " [3]\n",
      " [4]\n",
      " [5]\n",
      " [6]\n",
      " [7]\n",
      " [8]\n",
      " [9]]\n"
     ]
    }
   ],
   "source": [
    "# Reshape a vector (1 dim array) into a one column array\n",
    "\n",
    "data = np.array(range(10))\n",
    "print(data.shape)\n",
    "print(data,\"\\n\\n\")\n",
    "\n",
    "data = data.reshape(data.shape[0],1)\n",
    "print(data.shape)\n",
    "print(\"data = \\n\", data)"
   ]
  },
  {
   "cell_type": "code",
   "execution_count": 87,
   "metadata": {
    "collapsed": true
   },
   "outputs": [
    {
     "name": "stdout",
     "output_type": "stream",
     "text": [
      "[[5 4 3 6 2 8 8 9 1 7 6 1 8 2 5]\n",
      " [9 5 8 9 9 3 6 7 4 4 2 4 4 7 4]\n",
      " [6 2 1 1 1 7 2 7 3 8 1 5 3 4 3]\n",
      " [6 3 3 6 3 2 1 2 3 8 5 1 1 7 7]\n",
      " [4 9 3 7 3 6 1 4 7 5 8 4 8 9 1]\n",
      " [6 3 9 7 7 4 2 3 3 9 4 1 2 7 5]\n",
      " [4 5 6 6 6 2 4 7 9 9 4 9 2 1 8]\n",
      " [4 4 7 7 6 8 2 5 7 5 3 8 4 3 4]] \n",
      "\n",
      "(8, 15, 1) \n",
      "\n",
      "[[[5]\n",
      "  [4]\n",
      "  [3]\n",
      "  [6]\n",
      "  [2]\n",
      "  [8]\n",
      "  [8]\n",
      "  [9]\n",
      "  [1]\n",
      "  [7]\n",
      "  [6]\n",
      "  [1]\n",
      "  [8]\n",
      "  [2]\n",
      "  [5]]\n",
      "\n",
      " [[9]\n",
      "  [5]\n",
      "  [8]\n",
      "  [9]\n",
      "  [9]\n",
      "  [3]\n",
      "  [6]\n",
      "  [7]\n",
      "  [4]\n",
      "  [4]\n",
      "  [2]\n",
      "  [4]\n",
      "  [4]\n",
      "  [7]\n",
      "  [4]]\n",
      "\n",
      " [[6]\n",
      "  [2]\n",
      "  [1]\n",
      "  [1]\n",
      "  [1]\n",
      "  [7]\n",
      "  [2]\n",
      "  [7]\n",
      "  [3]\n",
      "  [8]\n",
      "  [1]\n",
      "  [5]\n",
      "  [3]\n",
      "  [4]\n",
      "  [3]]\n",
      "\n",
      " [[6]\n",
      "  [3]\n",
      "  [3]\n",
      "  [6]\n",
      "  [3]\n",
      "  [2]\n",
      "  [1]\n",
      "  [2]\n",
      "  [3]\n",
      "  [8]\n",
      "  [5]\n",
      "  [1]\n",
      "  [1]\n",
      "  [7]\n",
      "  [7]]\n",
      "\n",
      " [[4]\n",
      "  [9]\n",
      "  [3]\n",
      "  [7]\n",
      "  [3]\n",
      "  [6]\n",
      "  [1]\n",
      "  [4]\n",
      "  [7]\n",
      "  [5]\n",
      "  [8]\n",
      "  [4]\n",
      "  [8]\n",
      "  [9]\n",
      "  [1]]\n",
      "\n",
      " [[6]\n",
      "  [3]\n",
      "  [9]\n",
      "  [7]\n",
      "  [7]\n",
      "  [4]\n",
      "  [2]\n",
      "  [3]\n",
      "  [3]\n",
      "  [9]\n",
      "  [4]\n",
      "  [1]\n",
      "  [2]\n",
      "  [7]\n",
      "  [5]]\n",
      "\n",
      " [[4]\n",
      "  [5]\n",
      "  [6]\n",
      "  [6]\n",
      "  [6]\n",
      "  [2]\n",
      "  [4]\n",
      "  [7]\n",
      "  [9]\n",
      "  [9]\n",
      "  [4]\n",
      "  [9]\n",
      "  [2]\n",
      "  [1]\n",
      "  [8]]\n",
      "\n",
      " [[4]\n",
      "  [4]\n",
      "  [7]\n",
      "  [7]\n",
      "  [6]\n",
      "  [8]\n",
      "  [2]\n",
      "  [5]\n",
      "  [7]\n",
      "  [5]\n",
      "  [3]\n",
      "  [8]\n",
      "  [4]\n",
      "  [3]\n",
      "  [4]]]\n"
     ]
    }
   ],
   "source": [
    "# Reshape a 2D array into a 3D array.\n",
    "# Here, data.shape[0] = number of samples and\n",
    "# data.shape[1] = number of time steps with one\n",
    "# observation at each time step\n",
    "\n",
    "data = np.random.randint(1, 10, (8,15))\n",
    "print(data, '\\n')\n",
    "\n",
    "num_samples = data.shape[0]\n",
    "num_timesteps = data.shape[1]\n",
    "\n",
    "data = data.reshape(num_samples, num_timesteps, 1)\n",
    "\n",
    "print(data.shape, '\\n')\n",
    "print(data)"
   ]
  },
  {
   "cell_type": "markdown",
   "metadata": {},
   "source": [
    "# Chapter 6"
   ]
  },
  {
   "cell_type": "markdown",
   "metadata": {},
   "source": [
    "## NumPy Array Broadcasting\n",
    "Broadcasting allows arithmetic between arrays of different sizes.\n",
    "\n",
    "[Erick's Broadcasting Doc](http://scipy.github.io/old-wiki/pages/EricsBroadcastingDoc)\n",
    "\n",
    "**The Broadcasting Rule:**\n",
    "_In order to broadcast, the size of the trailing axes for both arrays in an operation must either be the same size or one of them must be one._\n",
    "\n",
    "Arithmetic, including broadcasting, can\n",
    "only be performed when the shape of each dimension in the arrays are equal or one has the\n",
    "dimension size of 1. The dimensions are considered in reverse order, starting with the trailing\n",
    "dimension; for example, looking at columns before rows in a two-dimensional case."
   ]
  },
  {
   "cell_type": "code",
   "execution_count": 89,
   "metadata": {},
   "outputs": [
    {
     "name": "stdout",
     "output_type": "stream",
     "text": [
      "(3, 3)\n",
      "(3,)\n"
     ]
    },
    {
     "data": {
      "text/plain": [
       "array([[11, 22, 33],\n",
       "       [14, 25, 36],\n",
       "       [17, 28, 39]])"
      ]
     },
     "execution_count": 89,
     "metadata": {},
     "output_type": "execute_result"
    }
   ],
   "source": [
    "A = np.array([[1,2,3], [4,5,6], [7,8,9]])\n",
    "B = np.array([10,20,30])\n",
    "\n",
    "print(A.shape)\n",
    "print(B.shape)\n",
    "\n",
    "A + B"
   ]
  },
  {
   "cell_type": "code",
   "execution_count": 90,
   "metadata": {},
   "outputs": [
    {
     "name": "stdout",
     "output_type": "stream",
     "text": [
      "[[101 102 103]\n",
      " [104 105 106]\n",
      " [107 108 109]]\n"
     ]
    }
   ],
   "source": [
    "print(100 + A)"
   ]
  },
  {
   "cell_type": "code",
   "execution_count": 94,
   "metadata": {},
   "outputs": [
    {
     "name": "stdout",
     "output_type": "stream",
     "text": [
      "C = \n",
      " [[[ 0  1  2  3  4]\n",
      "  [ 5  6  7  8  9]]\n",
      "\n",
      " [[10 11 12 13 14]\n",
      "  [15 16 17 18 19]]] \n",
      "\n",
      "D = \n",
      " [[[0 1 2 3 4]]\n",
      "\n",
      " [[5 6 7 8 9]]]\n"
     ]
    }
   ],
   "source": [
    "C = np.array(range(20)).reshape(2,2,5)\n",
    "D = np.array(range(10)).reshape(2,1,5)\n",
    "\n",
    "print(\"C = \\n\", C, \"\\n\")\n",
    "print(\"D = \\n\", D)"
   ]
  },
  {
   "cell_type": "code",
   "execution_count": 95,
   "metadata": {},
   "outputs": [
    {
     "data": {
      "text/plain": [
       "array([[[ 0,  2,  4,  6,  8],\n",
       "        [ 5,  7,  9, 11, 13]],\n",
       "\n",
       "       [[15, 17, 19, 21, 23],\n",
       "        [20, 22, 24, 26, 28]]])"
      ]
     },
     "execution_count": 95,
     "metadata": {},
     "output_type": "execute_result"
    }
   ],
   "source": [
    "C + D"
   ]
  },
  {
   "cell_type": "code",
   "execution_count": 97,
   "metadata": {},
   "outputs": [
    {
     "name": "stdout",
     "output_type": "stream",
     "text": [
      "A = \n",
      " [[ 0  1  2  3]\n",
      " [ 4  5  6  7]\n",
      " [ 8  9 10 11]] \n",
      "\n",
      "B =  [0 1 2 3]\n"
     ]
    }
   ],
   "source": [
    "A = np.arange(12).reshape(3,4)\n",
    "B  = np.arange(4)\n",
    "print(\"A = \\n\", A, \"\\n\")\n",
    "print(\"B = \", B)"
   ]
  },
  {
   "cell_type": "code",
   "execution_count": 98,
   "metadata": {},
   "outputs": [
    {
     "data": {
      "text/plain": [
       "array([[ 0,  2,  4,  6],\n",
       "       [ 4,  6,  8, 10],\n",
       "       [ 8, 10, 12, 14]])"
      ]
     },
     "execution_count": 98,
     "metadata": {},
     "output_type": "execute_result"
    }
   ],
   "source": [
    "A + B"
   ]
  },
  {
   "cell_type": "code",
   "execution_count": 100,
   "metadata": {},
   "outputs": [
    {
     "name": "stdout",
     "output_type": "stream",
     "text": [
      "(3, 1) \n",
      "\n",
      "B = \n",
      " [[0]\n",
      " [1]\n",
      " [2]]\n"
     ]
    }
   ],
   "source": [
    "B = np.arange(3).reshape(3,1)\n",
    "print(B.shape, \"\\n\")\n",
    "print(\"B = \\n\", B)"
   ]
  },
  {
   "cell_type": "code",
   "execution_count": 101,
   "metadata": {},
   "outputs": [
    {
     "data": {
      "text/plain": [
       "array([[ 0,  1,  2,  3],\n",
       "       [ 5,  6,  7,  8],\n",
       "       [10, 11, 12, 13]])"
      ]
     },
     "execution_count": 101,
     "metadata": {},
     "output_type": "execute_result"
    }
   ],
   "source": [
    "A + B"
   ]
  },
  {
   "cell_type": "code",
   "execution_count": 105,
   "metadata": {},
   "outputs": [
    {
     "name": "stdout",
     "output_type": "stream",
     "text": [
      "(2, 3, 4)\n",
      "(4,)\n",
      "(3,) \n",
      "\n",
      "A = \n",
      " [[[ 0  1  2  3]\n",
      "  [ 4  5  6  7]\n",
      "  [ 8  9 10 11]]\n",
      "\n",
      " [[12 13 14 15]\n",
      "  [16 17 18 19]\n",
      "  [20 21 22 23]]] \n",
      "\n",
      "B = \n",
      " [0 1 2 3] \n",
      "\n",
      "C = \n",
      " [0 1 2]\n"
     ]
    }
   ],
   "source": [
    "A = np.arange(24).reshape(2,3,4)\n",
    "B = np.arange(4)\n",
    "C = np.arange(3)\n",
    "\n",
    "print(A.shape)\n",
    "print(B.shape)\n",
    "print(C.shape, \"\\n\")\n",
    "\n",
    "print(\"A = \\n\", A, \"\\n\")\n",
    "print(\"B = \\n\", B, \"\\n\")\n",
    "print(\"C = \\n\", C)"
   ]
  },
  {
   "cell_type": "code",
   "execution_count": 104,
   "metadata": {},
   "outputs": [
    {
     "data": {
      "text/plain": [
       "array([[[ 0,  2,  4,  6],\n",
       "        [ 4,  6,  8, 10],\n",
       "        [ 8, 10, 12, 14]],\n",
       "\n",
       "       [[12, 14, 16, 18],\n",
       "        [16, 18, 20, 22],\n",
       "        [20, 22, 24, 26]]])"
      ]
     },
     "execution_count": 104,
     "metadata": {},
     "output_type": "execute_result"
    }
   ],
   "source": [
    "A + B"
   ]
  },
  {
   "cell_type": "code",
   "execution_count": 106,
   "metadata": {},
   "outputs": [
    {
     "ename": "ValueError",
     "evalue": "operands could not be broadcast together with shapes (2,3,4) (3,) ",
     "output_type": "error",
     "traceback": [
      "\u001b[0;31m---------------------------------------------------------------------------\u001b[0m",
      "\u001b[0;31mValueError\u001b[0m                                Traceback (most recent call last)",
      "\u001b[0;32m<ipython-input-106-c3cb66996588>\u001b[0m in \u001b[0;36m<module>\u001b[0;34m\u001b[0m\n\u001b[0;32m----> 1\u001b[0;31m \u001b[0mA\u001b[0m \u001b[0;34m+\u001b[0m \u001b[0mC\u001b[0m\u001b[0;34m\u001b[0m\u001b[0;34m\u001b[0m\u001b[0m\n\u001b[0m",
      "\u001b[0;31mValueError\u001b[0m: operands could not be broadcast together with shapes (2,3,4) (3,) "
     ]
    }
   ],
   "source": [
    "A + C"
   ]
  },
  {
   "cell_type": "code",
   "execution_count": 107,
   "metadata": {},
   "outputs": [
    {
     "name": "stdout",
     "output_type": "stream",
     "text": [
      "(3, 1) \n",
      "\n",
      "C = \n",
      " [[0]\n",
      " [1]\n",
      " [2]]\n"
     ]
    }
   ],
   "source": [
    "C = C.reshape(3, 1)\n",
    "print(C.shape, \"\\n\")\n",
    "print(\"C = \\n\", C)"
   ]
  },
  {
   "cell_type": "code",
   "execution_count": 108,
   "metadata": {},
   "outputs": [
    {
     "data": {
      "text/plain": [
       "array([[[ 0,  1,  2,  3],\n",
       "        [ 5,  6,  7,  8],\n",
       "        [10, 11, 12, 13]],\n",
       "\n",
       "       [[12, 13, 14, 15],\n",
       "        [17, 18, 19, 20],\n",
       "        [22, 23, 24, 25]]])"
      ]
     },
     "execution_count": 108,
     "metadata": {},
     "output_type": "execute_result"
    }
   ],
   "source": [
    "A + C"
   ]
  },
  {
   "cell_type": "code",
   "execution_count": null,
   "metadata": {},
   "outputs": [],
   "source": []
  }
 ],
 "metadata": {
  "@webio": {
   "lastCommId": null,
   "lastKernelId": null
  },
  "kernelspec": {
   "display_name": "Python 3",
   "language": "python",
   "name": "python3"
  },
  "language_info": {
   "codemirror_mode": {
    "name": "ipython",
    "version": 3
   },
   "file_extension": ".py",
   "mimetype": "text/x-python",
   "name": "python",
   "nbconvert_exporter": "python",
   "pygments_lexer": "ipython3",
   "version": "3.7.3"
  }
 },
 "nbformat": 4,
 "nbformat_minor": 2
}
