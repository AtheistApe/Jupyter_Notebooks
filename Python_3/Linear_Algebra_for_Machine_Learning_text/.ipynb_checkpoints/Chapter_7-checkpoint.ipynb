{
 "cells": [
  {
   "cell_type": "markdown",
   "metadata": {},
   "source": [
    "# Vectors and Vector Arithmetic"
   ]
  },
  {
   "cell_type": "code",
   "execution_count": 8,
   "metadata": {},
   "outputs": [],
   "source": [
    "import numpy as np\n",
    "from numpy import array"
   ]
  },
  {
   "cell_type": "markdown",
   "metadata": {},
   "source": [
    "### Section 7.3: Defining a Vector"
   ]
  },
  {
   "cell_type": "code",
   "execution_count": 3,
   "metadata": {},
   "outputs": [
    {
     "name": "stdout",
     "output_type": "stream",
     "text": [
      "[1 2 3]\n",
      "(3,)\n"
     ]
    }
   ],
   "source": [
    "# define a vector\n",
    "v = array([1, 2, 3])\n",
    "\n",
    "print(v)\n",
    "print(v.shape)"
   ]
  },
  {
   "cell_type": "markdown",
   "metadata": {},
   "source": [
    "### Section 7.4: Vector Arithmetic"
   ]
  },
  {
   "cell_type": "code",
   "execution_count": 7,
   "metadata": {},
   "outputs": [
    {
     "name": "stdout",
     "output_type": "stream",
     "text": [
      "[ 2 -1  7  3] + [ 3  1 -5  2] = [5 0 2 5]\n",
      "[ 2 -1  7  3] - [ 3  1 -5  2] = [-1 -2 12  1]\n",
      "[ 2 -1  7  3] * [ 3  1 -5  2] = [  6  -1 -35   6]\n",
      "[ 2 -1  7  3] / [ 3  1 -5  2] = [ 0.66666667 -1.         -1.4         1.5       ]\n"
     ]
    }
   ],
   "source": [
    "a = array([2, -1, 7, 3])\n",
    "b = array([3, 1, -5, 2])\n",
    "\n",
    "# These operations work \"element-wise\"\n",
    "c = a + b\n",
    "d = a - b\n",
    "e = a * b\n",
    "f = a / b\n",
    "\n",
    "print(f\"{a} + {b} = {c}\")\n",
    "print(f\"{a} - {b} = {d}\")\n",
    "print(f\"{a} * {b} = {e}\")\n",
    "print(f\"{a} / {b} = {f}\"bb)"
   ]
  },
  {
   "cell_type": "markdown",
   "metadata": {},
   "source": [
    "### Section 7.5: Vector Dot Product"
   ]
  },
  {
   "cell_type": "code",
   "execution_count": 10,
   "metadata": {},
   "outputs": [
    {
     "name": "stdout",
     "output_type": "stream",
     "text": [
      "[3 3 3] . [4 8 8] = 60\n"
     ]
    }
   ],
   "source": [
    "a = np.random.randint(1,9,3)\n",
    "b = np.random.randint(1,9,3)\n",
    "a_dot_b = a.dot(b)\n",
    "\n",
    "print(f\"{a} . {b} = {a_dot_b}\")"
   ]
  },
  {
   "cell_type": "markdown",
   "metadata": {},
   "source": [
    "### Section 7.6: Scalar Multiplication"
   ]
  },
  {
   "cell_type": "code",
   "execution_count": 12,
   "metadata": {},
   "outputs": [
    {
     "name": "stdout",
     "output_type": "stream",
     "text": [
      "-3 * [7 3 1 8] = [-21  -9  -3 -24]\n"
     ]
    }
   ],
   "source": [
    "a = np.random.randint(1,9,4)\n",
    "k = -3\n",
    "\n",
    "ka = k*a\n",
    "\n",
    "print(f\"{k} * {a} = {ka}\")"
   ]
  },
  {
   "cell_type": "code",
   "execution_count": null,
   "metadata": {},
   "outputs": [],
   "source": []
  }
 ],
 "metadata": {
  "kernelspec": {
   "display_name": "Python 3",
   "language": "python",
   "name": "python3"
  },
  "language_info": {
   "codemirror_mode": {
    "name": "ipython",
    "version": 3
   },
   "file_extension": ".py",
   "mimetype": "text/x-python",
   "name": "python",
   "nbconvert_exporter": "python",
   "pygments_lexer": "ipython3",
   "version": "3.7.3"
  }
 },
 "nbformat": 4,
 "nbformat_minor": 2
}
