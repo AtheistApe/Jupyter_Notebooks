{
 "cells": [
  {
   "cell_type": "code",
   "execution_count": 1,
   "metadata": {},
   "outputs": [],
   "source": [
    "import numpy as np"
   ]
  },
  {
   "cell_type": "code",
   "execution_count": 16,
   "metadata": {},
   "outputs": [
    {
     "name": "stdout",
     "output_type": "stream",
     "text": [
      "[1. 2. 3.]\n",
      "(3,)\n",
      "float64\n"
     ]
    }
   ],
   "source": [
    "lst = [1, 2, 3] # A python list\n",
    "arry1 = np.array(lst, dtype=float)\n",
    "\n",
    "print(arry1)\n",
    "print(arry1.shape) # (3,) means one dimensional array\n",
    "print(arry1.dtype)"
   ]
  },
  {
   "cell_type": "code",
   "execution_count": 17,
   "metadata": {},
   "outputs": [
    {
     "data": {
      "text/plain": [
       "numpy.ndarray"
      ]
     },
     "execution_count": 17,
     "metadata": {},
     "output_type": "execute_result"
    }
   ],
   "source": [
    "type(arry)"
   ]
  },
  {
   "cell_type": "code",
   "execution_count": 18,
   "metadata": {},
   "outputs": [
    {
     "name": "stdout",
     "output_type": "stream",
     "text": [
      "[[1. 2. 3.]]\n",
      "(1, 3)\n",
      "float64\n"
     ]
    }
   ],
   "source": [
    "lst = [[1, 2, 3]] # A python list of lists\n",
    "arry2 = np.array(lst, dtype=float)\n",
    "\n",
    "print(arry2)\n",
    "print(arry2.shape) # (1, 3): a 2D array with one row\n",
    "print(arry2.dtype)"
   ]
  },
  {
   "cell_type": "markdown",
   "metadata": {},
   "source": [
    "## Functions to Create arrays\n",
    "* empty(dims)\n",
    "* zeros(dims)\n",
    "* ones(dims)"
   ]
  },
  {
   "cell_type": "code",
   "execution_count": 25,
   "metadata": {},
   "outputs": [
    {
     "name": "stdout",
     "output_type": "stream",
     "text": [
      "[[4.32887141e-311 5.02034658e+175 5.26418709e-037 3.37623417e-057\n",
      "  2.19409595e-056]\n",
      " [5.53729051e+174 5.01163111e+217 5.49419094e-143 9.80058441e+252\n",
      "  1.30304358e-142]\n",
      " [2.14027814e+161 9.28340494e+242 1.35617292e+248 8.66343214e-071\n",
      "  5.54624426e+169]]\n"
     ]
    }
   ],
   "source": [
    "# Create a 3x5 empty array. It is filled with random values.\n",
    "\n",
    "arry = np.empty([3,5])\n",
    "print(arry)"
   ]
  },
  {
   "cell_type": "code",
   "execution_count": 26,
   "metadata": {},
   "outputs": [
    {
     "name": "stdout",
     "output_type": "stream",
     "text": [
      "[[0. 0. 0. 0. 0.]\n",
      " [0. 0. 0. 0. 0.]\n",
      " [0. 0. 0. 0. 0.]]\n"
     ]
    }
   ],
   "source": [
    "# Create a 3x5 array filled with 0's\n",
    "\n",
    "arry = np.zeros([3,5])\n",
    "print(arry)"
   ]
  },
  {
   "cell_type": "code",
   "execution_count": 27,
   "metadata": {},
   "outputs": [
    {
     "name": "stdout",
     "output_type": "stream",
     "text": [
      "[[1. 1. 1. 1. 1.]\n",
      " [1. 1. 1. 1. 1.]\n",
      " [1. 1. 1. 1. 1.]]\n"
     ]
    }
   ],
   "source": [
    "# Create a 3x5 array filled with 1's\n",
    "\n",
    "arry = np.ones([3,5])\n",
    "print(arry)"
   ]
  },
  {
   "cell_type": "markdown",
   "metadata": {},
   "source": [
    "## Combining Arrays\n",
    "* vstack((arry1, arry2))\n",
    "* hstack((arry1, arry2))"
   ]
  },
  {
   "cell_type": "code",
   "execution_count": 30,
   "metadata": {},
   "outputs": [
    {
     "name": "stdout",
     "output_type": "stream",
     "text": [
      "[[1 2 3]\n",
      " [4 5 6]] \n",
      "\n",
      "[1 2 3 4 5 6]\n"
     ]
    }
   ],
   "source": [
    "# Create two arrays with same dimensions\n",
    "\n",
    "arry1 = np.array([1, 2, 3])\n",
    "arry2 = np.array([4, 5, 6])\n",
    "\n",
    "arry3 = np.vstack((arry1, arry2))\n",
    "arry4 = np.hstack((arry1, arry2))\n",
    "\n",
    "print(arry3,'\\n')\n",
    "print(arry4)"
   ]
  },
  {
   "cell_type": "code",
   "execution_count": null,
   "metadata": {},
   "outputs": [],
   "source": []
  }
 ],
 "metadata": {
  "@webio": {
   "lastCommId": null,
   "lastKernelId": null
  },
  "kernelspec": {
   "display_name": "Python 3",
   "language": "python",
   "name": "python3"
  },
  "language_info": {
   "codemirror_mode": {
    "name": "ipython",
    "version": 3
   },
   "file_extension": ".py",
   "mimetype": "text/x-python",
   "name": "python",
   "nbconvert_exporter": "python",
   "pygments_lexer": "ipython3",
   "version": "3.7.3"
  }
 },
 "nbformat": 4,
 "nbformat_minor": 2
}
