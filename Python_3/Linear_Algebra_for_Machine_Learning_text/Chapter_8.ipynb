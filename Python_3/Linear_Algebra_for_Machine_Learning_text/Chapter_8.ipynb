{
 "cells": [
  {
   "cell_type": "code",
   "execution_count": 3,
   "metadata": {},
   "outputs": [],
   "source": [
    "import numpy as np\n",
    "from numpy import array\n",
    "from numpy.linalg import norm\n",
    "\n",
    "from IPython.display import display, Math, Latex"
   ]
  },
  {
   "cell_type": "markdown",
   "metadata": {},
   "source": [
    "# Vector Norms"
   ]
  },
  {
   "cell_type": "markdown",
   "metadata": {},
   "source": [
    "### Section 8.3: The $L^1$ Norm\n",
    "The notation for the $L^1$ norm of a vector $v$ is $\\|v\\|_1$. It is defined as\n",
    "\\begin{equation}\n",
    "\\|v\\|_1 = \\sum_{i=1}^n |v_i|\n",
    "\\end{equation}\n",
    "where $v = (v_1, v_2,\\ldots, v_n)$.\n",
    "\n",
    "In several machine learning applications, it is important to discriminate between\n",
    "elements that are exactly zero and elements that are small but nonzero. In these\n",
    "cases, we turn to a function that grows at the same rate in all locations, but retains\n",
    "mathematical simplicity: the $L^1$ norm.\n",
    "\n",
    "The $L^1$ norm is often used when fitting machine learning algorithms as a regularization\n",
    "method, e.g. a method to keep the coefficients of the model small, and in turn, the model less\n",
    "complex."
   ]
  },
  {
   "cell_type": "code",
   "execution_count": 21,
   "metadata": {},
   "outputs": [
    {
     "name": "stdout",
     "output_type": "stream",
     "text": [
      "a = [-1  2  0 -6  8],\t l1_norm = 17.0\n"
     ]
    }
   ],
   "source": [
    "# Vector L1 norm.\n",
    "\n",
    "a = array([-1, 2, 0, -6, 8])\n",
    "l1 = norm(a, 1) # The \"1\" signifies L1 norm\n",
    "\n",
    "print(f\"a = {a},\\t l1_norm = {l1}\")"
   ]
  },
  {
   "cell_type": "markdown",
   "metadata": {},
   "source": [
    "### Section 8.4: The $L^2$ Norm\n",
    "The notation for the $L^2$ norm of a vector $v$ is $\\|v\\|_2$. It is defined as\n",
    "\\begin{equation}\n",
    "\\|v\\|_2 = \\sqrt{\\sum_{i=1}^n v_i^2}\n",
    "\\end{equation}\n",
    "where $v = (v_1, v_2,\\ldots, v_n)$.\n",
    "\n",
    "The $L^2$ norm of a vector $v$ is the geometric length of the vector.\n",
    "\n",
    "Like the $L^1$ norm, the $L^2$ norm is often used when fitting machine learning algorithms as a\n",
    "regularization method, e.g. a method to keep the coefficients of the model small and, in turn,\n",
    "the model less complex. By far, the $L^2$ norm is more commonly used than other vector norms\n",
    "in machine learning."
   ]
  },
  {
   "cell_type": "code",
   "execution_count": 26,
   "metadata": {},
   "outputs": [
    {
     "name": "stdout",
     "output_type": "stream",
     "text": [
      "a = [-1  2  0 -6  8],\t l2_norm = 10.2470\n"
     ]
    }
   ],
   "source": [
    "a = array([-1, 2, 0, -6, 8])\n",
    "l2 = norm(a, 2) # The \"2\" signifies L2 norm\n",
    "\n",
    "print(f\"a = {a},\\t l2_norm = {l2:.4f}\")"
   ]
  },
  {
   "cell_type": "markdown",
   "metadata": {},
   "source": [
    "### Section 8.4: The $L^\\inf$ Norm (Max Norm)\n",
    "The notation for the $L^\\inf$ norm of a vector $v$ is $\\|v\\|_\\inf$. It is defined as\n",
    "\\begin{equation}\n",
    "\\|v\\|_\\inf = \\max_i\\{|v_i|\\}\n",
    "\\end{equation}\n",
    "where $v = (v_1, v_2,\\ldots, v_n)$.\n",
    "\n",
    "Max norm is also used as a regularization in machine learning, such as on neural network\n",
    "weights, called max norm regularization."
   ]
  },
  {
   "cell_type": "code",
   "execution_count": 33,
   "metadata": {},
   "outputs": [
    {
     "name": "stdout",
     "output_type": "stream",
     "text": [
      "a = [-1  2  0 -6  4],\t linf = 6.0\n"
     ]
    }
   ],
   "source": [
    "a = array([-1, 2, 0, -6, 4])\n",
    "linf = norm(a, np.inf)\n",
    "\n",
    "print(f\"a = {a},\\t linf = {linf}\")"
   ]
  }
 ],
 "metadata": {
  "@webio": {
   "lastCommId": null,
   "lastKernelId": null
  },
  "kernelspec": {
   "display_name": "Python 3",
   "language": "python",
   "name": "python3"
  },
  "language_info": {
   "codemirror_mode": {
    "name": "ipython",
    "version": 3
   },
   "file_extension": ".py",
   "mimetype": "text/x-python",
   "name": "python",
   "nbconvert_exporter": "python",
   "pygments_lexer": "ipython3",
   "version": "3.7.3"
  }
 },
 "nbformat": 4,
 "nbformat_minor": 2
}
