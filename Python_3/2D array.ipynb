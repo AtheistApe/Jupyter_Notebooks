{
 "cells": [
  {
   "cell_type": "code",
   "execution_count": 1,
   "metadata": {
    "collapsed": true
   },
   "outputs": [],
   "source": [
    "import numpy as np"
   ]
  },
  {
   "cell_type": "code",
   "execution_count": 12,
   "metadata": {
    "collapsed": false
   },
   "outputs": [],
   "source": [
    "x, y = np.mgrid[0:2*np.pi:100j, 0:2*np.pi:100j]"
   ]
  },
  {
   "cell_type": "code",
   "execution_count": 19,
   "metadata": {
    "collapsed": true
   },
   "outputs": [],
   "source": [
    "z = 25*np.sin(x)*np.cos(y)"
   ]
  },
  {
   "cell_type": "code",
   "execution_count": 20,
   "metadata": {
    "collapsed": false
   },
   "outputs": [
    {
     "data": {
      "text/plain": [
       "array([[  0.00000000e+00,   0.00000000e+00,   0.00000000e+00, ...,\n",
       "          0.00000000e+00,   0.00000000e+00,   0.00000000e+00],\n",
       "       [  1.58559799e+00,   1.58240567e+00,   1.57284156e+00, ...,\n",
       "          1.57284156e+00,   1.58240567e+00,   1.58559799e+00],\n",
       "       [  3.16481134e+00,   3.15843955e+00,   3.13934984e+00, ...,\n",
       "          3.13934984e+00,   3.15843955e+00,   3.16481134e+00],\n",
       "       ..., \n",
       "       [ -3.16481134e+00,  -3.15843955e+00,  -3.13934984e+00, ...,\n",
       "         -3.13934984e+00,  -3.15843955e+00,  -3.16481134e+00],\n",
       "       [ -1.58559799e+00,  -1.58240567e+00,  -1.57284156e+00, ...,\n",
       "         -1.57284156e+00,  -1.58240567e+00,  -1.58559799e+00],\n",
       "       [ -6.12323400e-15,  -6.11090594e-15,  -6.07397143e-15, ...,\n",
       "         -6.07397143e-15,  -6.11090594e-15,  -6.12323400e-15]])"
      ]
     },
     "execution_count": 20,
     "metadata": {},
     "output_type": "execute_result"
    }
   ],
   "source": [
    "z"
   ]
  },
  {
   "cell_type": "code",
   "execution_count": 21,
   "metadata": {
    "collapsed": true
   },
   "outputs": [],
   "source": [
    "np.savetxt('/Users/gary/Desktop/graph.txt', z)"
   ]
  },
  {
   "cell_type": "code",
   "execution_count": null,
   "metadata": {
    "collapsed": true
   },
   "outputs": [],
   "source": []
  }
 ],
 "metadata": {
  "hide_input": false,
  "kernelspec": {
   "display_name": "Python 3",
   "language": "python",
   "name": "python3"
  },
  "language_info": {
   "codemirror_mode": {
    "name": "ipython",
    "version": 3
   },
   "file_extension": ".py",
   "mimetype": "text/x-python",
   "name": "python",
   "nbconvert_exporter": "python",
   "pygments_lexer": "ipython3",
   "version": "3.5.1"
  },
  "latex_envs": {
   "bibliofile": "biblio.bib",
   "cite_by": "apalike",
   "current_citInitial": 1,
   "eqLabelWithNumbers": true,
   "eqNumInitial": 0
  }
 },
 "nbformat": 4,
 "nbformat_minor": 0
}
