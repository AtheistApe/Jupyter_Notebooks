{
 "cells": [
  {
   "cell_type": "code",
   "execution_count": 8,
   "metadata": {},
   "outputs": [],
   "source": [
    "import sympy as sy\n",
    "import numpy as np"
   ]
  },
  {
   "cell_type": "code",
   "execution_count": 2,
   "metadata": {
    "collapsed": true
   },
   "outputs": [],
   "source": [
    "x = sy.symbols('x')"
   ]
  },
  {
   "cell_type": "code",
   "execution_count": 5,
   "metadata": {
    "collapsed": true
   },
   "outputs": [],
   "source": [
    "def f(x):\n",
    "    return 2*x**2 - x**3\n",
    "\n",
    "a = 0\n",
    "b = f(4/3)\n",
    "\n",
    "n = 8\n",
    "delta_y = (b-a)/n\n",
    "\n",
    "ymid = [a + (i-0.5)*delta_y for i in list(range(1,n+1))]\n",
    "yi = [a + i*delta_y for i in list(range(1,n+2))]"
   ]
  },
  {
   "cell_type": "code",
   "execution_count": 47,
   "metadata": {
    "collapsed": true
   },
   "outputs": [],
   "source": [
    "def radii(n):\n",
    "    solns = list(map(sy.re, sy.solve(f(x) - ymid[n], x)))\n",
    "    solns = sorted([soln for soln in solns if soln >= 0])\n",
    "    r_outer = solns[1]\n",
    "    r_inner = solns[0]\n",
    "    return r_inner, r_outer"
   ]
  },
  {
   "cell_type": "code",
   "execution_count": 48,
   "metadata": {},
   "outputs": [
    {
     "name": "stdout",
     "output_type": "stream",
     "text": [
      "0.369134531873878 1.94101671800543\n"
     ]
    }
   ],
   "source": [
    "ri, ro = radii(1)\n",
    "print(ri, ro)"
   ]
  },
  {
   "cell_type": "code",
   "execution_count": 45,
   "metadata": {},
   "outputs": [
    {
     "data": {
      "text/plain": [
       "[0.496290752061177, 1.89708925893514]"
      ]
     },
     "execution_count": 45,
     "metadata": {},
     "output_type": "execute_result"
    }
   ],
   "source": [
    "radii(2)"
   ]
  },
  {
   "cell_type": "code",
   "execution_count": 59,
   "metadata": {
    "collapsed": true
   },
   "outputs": [],
   "source": [
    "def average(lst):\n",
    "    return sum(lst)/len(lst)"
   ]
  },
  {
   "cell_type": "code",
   "execution_count": 60,
   "metadata": {},
   "outputs": [
    {
     "data": {
      "text/plain": [
       "1.19669000549816"
      ]
     },
     "execution_count": 60,
     "metadata": {},
     "output_type": "execute_result"
    }
   ],
   "source": [
    "average(radii(2))"
   ]
  },
  {
   "cell_type": "code",
   "execution_count": 32,
   "metadata": {},
   "outputs": [
    {
     "name": "stdout",
     "output_type": "stream",
     "text": [
      "5.436309523809523\n"
     ]
    }
   ],
   "source": [
    "\n",
    "\n",
    "fact_sum = 0\n",
    "for k in range(8):\n",
    "    k += 1\n",
    "    fact_sum += k**2 / np.math.factorial(k)\n",
    "    \n",
    "print(fact_sum)"
   ]
  },
  {
   "cell_type": "code",
   "execution_count": 33,
   "metadata": {},
   "outputs": [
    {
     "name": "stdout",
     "output_type": "stream",
     "text": [
      "5.43656365691809\n"
     ]
    }
   ],
   "source": [
    "print(2*np.exp(1))"
   ]
  },
  {
   "cell_type": "code",
   "execution_count": 25,
   "metadata": {},
   "outputs": [
    {
     "name": "stdout",
     "output_type": "stream",
     "text": [
      "0.9999999749478916\n"
     ]
    }
   ],
   "source": [
    "fact_sum = 0\n",
    "for k in range(10):\n",
    "    fact_sum += (k+1) / np.math.factorial(k+2)\n",
    "    \n",
    "print(fact_sum)"
   ]
  },
  {
   "cell_type": "code",
   "execution_count": null,
   "metadata": {},
   "outputs": [],
   "source": []
  }
 ],
 "metadata": {
  "@webio": {
   "lastCommId": null,
   "lastKernelId": null
  },
  "hide_input": false,
  "kernelspec": {
   "display_name": "Python 3",
   "language": "python",
   "name": "python3"
  },
  "language_info": {
   "codemirror_mode": {
    "name": "ipython",
    "version": 3
   },
   "file_extension": ".py",
   "mimetype": "text/x-python",
   "name": "python",
   "nbconvert_exporter": "python",
   "pygments_lexer": "ipython3",
   "version": "3.7.3"
  },
  "latex_envs": {
   "bibliofile": "biblio.bib",
   "cite_by": "apalike",
   "current_citInitial": 1,
   "eqLabelWithNumbers": true,
   "eqNumInitial": 0
  }
 },
 "nbformat": 4,
 "nbformat_minor": 2
}
