{
 "cells": [
  {
   "cell_type": "code",
   "execution_count": 1,
   "metadata": {
    "collapsed": true
   },
   "outputs": [],
   "source": [
    "from numpy import *"
   ]
  },
  {
   "cell_type": "code",
   "execution_count": 8,
   "metadata": {},
   "outputs": [
    {
     "name": "stdout",
     "output_type": "stream",
     "text": [
      "e^j > j^e? True\n",
      "e^j > j^e? True\n",
      "e^j > j^e? True\n",
      "e^j > j^e? True\n",
      "e^j > j^e? True\n",
      "e^j > j^e? True\n",
      "e^j > j^e? True\n",
      "e^j > j^e? True\n",
      "e^j > j^e? True\n",
      "e^j > j^e? True\n",
      "e^j > j^e? True\n",
      "e^j > j^e? True\n",
      "e^j > j^e? True\n",
      "e^j > j^e? True\n",
      "e^j > j^e? True\n",
      "e^j > j^e? True\n",
      "e^j > j^e? True\n",
      "e^j > j^e? True\n",
      "e^j > j^e? True\n",
      "e^j > j^e? True\n"
     ]
    }
   ],
   "source": [
    "for j in linspace(0.1,10,20):\n",
    "    print(\"e^j > j^e? {}\".format(exp(j)>j**exp(1)))"
   ]
  },
  {
   "cell_type": "code",
   "execution_count": 3,
   "metadata": {},
   "outputs": [
    {
     "data": {
      "text/plain": [
       "20.085536923187668"
      ]
     },
     "execution_count": 3,
     "metadata": {},
     "output_type": "execute_result"
    }
   ],
   "source": [
    "exp(3)"
   ]
  },
  {
   "cell_type": "code",
   "execution_count": null,
   "metadata": {
    "collapsed": true
   },
   "outputs": [],
   "source": []
  }
 ],
 "metadata": {
  "hide_input": false,
  "kernelspec": {
   "display_name": "Python [default]",
   "language": "python",
   "name": "python3"
  },
  "language_info": {
   "codemirror_mode": {
    "name": "ipython",
    "version": 3
   },
   "file_extension": ".py",
   "mimetype": "text/x-python",
   "name": "python",
   "nbconvert_exporter": "python",
   "pygments_lexer": "ipython3",
   "version": "3.5.2"
  },
  "latex_envs": {
   "bibliofile": "biblio.bib",
   "cite_by": "apalike",
   "current_citInitial": 1,
   "eqLabelWithNumbers": true,
   "eqNumInitial": 0
  }
 },
 "nbformat": 4,
 "nbformat_minor": 2
}
