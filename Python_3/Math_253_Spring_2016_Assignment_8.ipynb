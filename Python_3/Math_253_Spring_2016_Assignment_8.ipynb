{
 "cells": [
  {
   "cell_type": "markdown",
   "metadata": {
    "hide_input": false
   },
   "source": [
    "$\n",
    "\\newcommand{i}{\\mathbf{i}}\n",
    "\\newcommand{j}{\\mathbf{j}}\n",
    "\\newcommand{k}{\\mathbf{k}}\n",
    "\\newcommand{lv}[1]{\\left<#1\\right>}\n",
    "\\newcommand{pd}[1]{\\dfrac{\\partial}{\\partial#1}}\n",
    "\\newcommand{pd}[2]{\\dfrac{\\partial #1}{\\partial #2}}\n",
    "\\renewcommand{iint}{\\int\\!\\!\\!\\int}\n",
    "\\renewcommand{iiint}{\\int\\!\\!\\!\\int\\!\\!\\!\\int}\n",
    "\\renewcommand{vec}[1]{\\mathbf #1}\n",
    "$"
   ]
  },
  {
   "cell_type": "code",
   "execution_count": 1,
   "metadata": {
    "collapsed": false
   },
   "outputs": [
    {
     "name": "stdout",
     "output_type": "stream",
     "text": [
      "IPython console for SymPy 1.0 (Python 3.5.1-64-bit) (ground types: python)\n",
      "\n",
      "These commands were executed:\n",
      ">>> from __future__ import division\n",
      ">>> from sympy import *\n",
      ">>> x, y, z, t = symbols('x y z t')\n",
      ">>> k, m, n = symbols('k m n', integer=True)\n",
      ">>> f, g, h = symbols('f g h', cls=Function)\n",
      ">>> init_printing()\n",
      "\n",
      "Documentation can be found at http://docs.sympy.org/1.0/\n"
     ]
    }
   ],
   "source": [
    "from sympy import init_session\n",
    "init_session()"
   ]
  },
  {
   "cell_type": "code",
   "execution_count": 2,
   "metadata": {
    "collapsed": true
   },
   "outputs": [],
   "source": [
    "from sympy.physics.vector import *\n",
    "N = ReferenceFrame('N')"
   ]
  },
  {
   "cell_type": "markdown",
   "metadata": {},
   "source": [
    "# Assignment 8\n",
    "\n",
    "To get full credit, you **MUST** show the work you did to get your answers. This includes resolving the integrals analytically, **without** the use of a CAS (Computer Algebra System).\n",
    "\n",
    "1) Find $\\iint_{S} \\vec{F}\\cdot d\\vec{S}$, where \n",
    "    $\\vec{F}(x,y,z) = x\\,\\i + xy\\,\\j + xz\\,\\k$ and $S$ is the part of the plane $3x + 2y + z = 6$ that lies in the first octant, with upward orientation; the $z$ component of the normal vector is positive. Hint: The answer is between 11 and 15.\n",
    "    \n",
    "2) The divergence theorem states that if $S$ is a closed, bounded surface enclosing a volume $E$, with positive orientation (the normal vector to $S$ points outward, away form the enclosed volume) and $\\vec{F}(x,y,z)$ is a vector field defined on and within $S$, then\n",
    "\n",
    "$$ \\iint_{S} \\vec{F}\\cdot d\\vec{S} = \\iiint_{E} \\text{div}(\\vec{F})\\,dV $$\n",
    "\n",
    "Use the divergence theorem to find net flux $\\iint_S \\vec{F}\\cdot d\\vec{S}$ of the field $\\vec{F} = ye^{z^2}\\,\\i + y^2\\,\\j + e^{xy}\\,\\k$ through the surface $S$, where $S$ is the surface of the solid bounded by the cylinder $x^2 + y^2 = 9$ and the planes $z = 0$ and $z = y - 3$. Hints: Is the plane $z = y - 3$ above or below the plane $z = 0$ within the cylinder? The answer is between $-150$ and $-120$."
   ]
  },
  {
   "cell_type": "code",
   "execution_count": 20,
   "metadata": {
    "collapsed": false
   },
   "outputs": [
    {
     "name": "stdout",
     "output_type": "stream",
     "text": [
      "3*N.x + 2*N.y + N.z\n",
      "2*x*y + x*z + 3*x\n",
      "-3*x*(x - 3)\n"
     ]
    },
    {
     "data": {
      "image/png": "[encoded data removed]",
      "text/latex": [
       "$$12$$"
      ],
      "text/plain": [
       "12"
      ]
     },
     "execution_count": 20,
     "metadata": {},
     "output_type": "execute_result"
    }
   ],
   "source": [
    "#1\n",
    "\n",
    "F = x*N.x + x*y*N.y + x*z*N.z\n",
    "S = 3*N[0] + 2*N[1] + 1*N[2]\n",
    "dS = gradient(S,N)/S.diff(N[2])\n",
    "print(dS)\n",
    "\n",
    "integrand = F.dot(dS)\n",
    "print(integrand)\n",
    "print(integrand.subs({z:6-3*x-2*y}).combsimp())\n",
    "\n",
    "integrate(integrand.subs({z:6-3*x-2*y}), (y,0,3-3*x/2), (x,0,2))"
   ]
  },
  {
   "cell_type": "code",
   "execution_count": 40,
   "metadata": {
    "collapsed": true
   },
   "outputs": [],
   "source": [
    "from sympy.vector import CoordSysCartesian, divergence\n",
    "R = CoordSysCartesian('R')"
   ]
  },
  {
   "cell_type": "code",
   "execution_count": 50,
   "metadata": {
    "collapsed": false
   },
   "outputs": [
    {
     "name": "stdout",
     "output_type": "stream",
     "text": [
      "2*R.y\n"
     ]
    },
    {
     "data": {
      "image/png": "[encoded data removed]",
      "text/latex": [
       "$$0$$"
      ],
      "text/plain": [
       "0"
      ]
     },
     "execution_count": 50,
     "metadata": {},
     "output_type": "execute_result"
    }
   ],
   "source": [
    "#2\n",
    "\n",
    "r = symbols('r')\n",
    "\n",
    "F = R.y*exp(R.z**2)*R.i + R.y**2*R.j + exp(R.x*R.y)*R.k\n",
    "divF = divergence(F,R)\n",
    "print(divF)\n",
    "\n",
    "integrate(divF.subs({y:r*sin(t)})*r, (z,r*sin(t),0), (r,0,3), (t,0,2*pi)) "
   ]
  },
  {
   "cell_type": "code",
   "execution_count": 31,
   "metadata": {
    "collapsed": false
   },
   "outputs": [
    {
     "data": {
      "image/png": "[encoded data removed]",
      "text/latex": [
       "$$0$$"
      ],
      "text/plain": [
       "0"
      ]
     },
     "execution_count": 31,
     "metadata": {},
     "output_type": "execute_result"
    }
   ],
   "source": [
    "divergence(x*N.x + y**2*N.y + z*N.z, N)"
   ]
  },
  {
   "cell_type": "code",
   "execution_count": null,
   "metadata": {
    "collapsed": true
   },
   "outputs": [],
   "source": []
  }
 ],
 "metadata": {
  "hide_input": false,
  "kernelspec": {
   "display_name": "Python 3",
   "language": "python",
   "name": "python3"
  },
  "language_info": {
   "codemirror_mode": {
    "name": "ipython",
    "version": 3
   },
   "file_extension": ".py",
   "mimetype": "text/x-python",
   "name": "python",
   "nbconvert_exporter": "python",
   "pygments_lexer": "ipython3",
   "version": "3.5.1"
  },
  "latex_envs": {
   "bibliofile": "biblio.bib",
   "cite_by": "apalike",
   "current_citInitial": 1,
   "eqLabelWithNumbers": true,
   "eqNumInitial": 0
  }
 },
 "nbformat": 4,
 "nbformat_minor": 0
}
