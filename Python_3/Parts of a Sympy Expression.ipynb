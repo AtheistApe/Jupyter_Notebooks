{
 "cells": [
  {
   "cell_type": "code",
   "execution_count": 1,
   "metadata": {
    "collapsed": false
   },
   "outputs": [
    {
     "name": "stdout",
     "output_type": "stream",
     "text": [
      "IPython console for SymPy 1.0 (Python 3.5.1-64-bit) (ground types: python)\n",
      "\n",
      "These commands were executed:\n",
      ">>> from __future__ import division\n",
      ">>> from sympy import *\n",
      ">>> x, y, z, t = symbols('x y z t')\n",
      ">>> k, m, n = symbols('k m n', integer=True)\n",
      ">>> f, g, h = symbols('f g h', cls=Function)\n",
      ">>> init_printing()\n",
      "\n",
      "Documentation can be found at http://docs.sympy.org/1.0/\n"
     ]
    }
   ],
   "source": [
    "from sympy import init_session\n",
    "init_session()"
   ]
  },
  {
   "cell_type": "code",
   "execution_count": 2,
   "metadata": {
    "collapsed": true
   },
   "outputs": [],
   "source": [
    "from graphviz import Source\n",
    "from sympy.printing.dot import dotprint"
   ]
  },
  {
   "cell_type": "code",
   "execution_count": 3,
   "metadata": {
    "collapsed": false
   },
   "outputs": [
    {
     "data": {
      "image/png": "[encoded data removed]",
      "text/latex": [
       "$$\\sqrt{4 t^{2} + 4 + \\frac{1}{t^{2}}}$$"
      ],
      "text/plain": [
       "     _______________\n",
       "    ╱    2       1  \n",
       "   ╱  4⋅t  + 4 + ── \n",
       "  ╱               2 \n",
       "╲╱               t  "
      ]
     },
     "execution_count": 3,
     "metadata": {},
     "output_type": "execute_result"
    }
   ],
   "source": [
    "expr = sqrt(4*t**2 + 4 + 1/t**2)\n",
    "expr"
   ]
  },
  {
   "cell_type": "code",
   "execution_count": 4,
   "metadata": {
    "collapsed": false
   },
   "outputs": [
    {
     "data": {
      "image/png": "[encoded data removed]",
      "text/latex": [
       "$$\\left ( 4 t^{2} + 4 + \\frac{1}{t^{2}}, \\quad \\frac{1}{2}\\right )$$"
      ],
      "text/plain": [
       "⎛   2       1      ⎞\n",
       "⎜4⋅t  + 4 + ──, 1/2⎟\n",
       "⎜            2     ⎟\n",
       "⎝           t      ⎠"
      ]
     },
     "execution_count": 4,
     "metadata": {},
     "output_type": "execute_result"
    }
   ],
   "source": [
    "expr.args"
   ]
  },
  {
   "cell_type": "code",
   "execution_count": 5,
   "metadata": {
    "collapsed": false
   },
   "outputs": [
    {
     "data": {
      "text/plain": [
       "\"Pow(Add(Mul(Integer(4), Pow(Symbol('t'), Integer(2))), Integer(4), Pow(Symbol('t'), Integer(-2))), Rational(1, 2))\""
      ]
     },
     "execution_count": 5,
     "metadata": {},
     "output_type": "execute_result"
    }
   ],
   "source": [
    "srepr(expr)"
   ]
  },
  {
   "cell_type": "code",
   "execution_count": 6,
   "metadata": {
    "collapsed": true
   },
   "outputs": [],
   "source": [
    "dot = dotprint(expr)"
   ]
  },
  {
   "cell_type": "code",
   "execution_count": 7,
   "metadata": {
    "collapsed": true
   },
   "outputs": [],
   "source": [
    "src = Source(dot)"
   ]
  },
  {
   "cell_type": "code",
   "execution_count": 8,
   "metadata": {
    "collapsed": false
   },
   "outputs": [
    {
     "data": {
      "image/svg+xml": [
       "<?xml version=\"1.0\" encoding=\"UTF-8\" standalone=\"no\"?>\n",
       "<!DOCTYPE svg PUBLIC \"-//W3C//DTD SVG 1.1//EN\"\n",
       " \"http://www.w3.org/Graphics/SVG/1.1/DTD/svg11.dtd\">\n",
       "<!-- Generated by graphviz version 2.38.0 (20140413.2041)\n",
       " -->\n",
       "<!-- Title: %3 Pages: 1 -->\n",
       "<svg width=\"316pt\" height=\"332pt\"\n",
       " viewBox=\"0.00 0.00 316.00 332.00\" xmlns=\"http://www.w3.org/2000/svg\" xmlns:xlink=\"http://www.w3.org/1999/xlink\">\n",
       "<g id=\"graph0\" class=\"graph\" transform=\"scale(1 1) rotate(0) translate(4 328)\">\n",
       "<title>%3</title>\n",
       "<polygon fill=\"white\" stroke=\"none\" points=\"-4,4 -4,-328 312,-328 312,4 -4,4\"/>\n",
       "<!-- Pow(Add(Integer(4), Pow(Symbol(t), Integer(&#45;2)), Mul(Integer(4), Pow(Symbol(t), Integer(2)))), Half())_() -->\n",
       "<g id=\"node1\" class=\"node\"><title>Pow(Add(Integer(4), Pow(Symbol(t), Integer(&#45;2)), Mul(Integer(4), Pow(Symbol(t), Integer(2)))), Half())_()</title>\n",
       "<ellipse fill=\"none\" stroke=\"black\" cx=\"136\" cy=\"-306\" rx=\"28.4107\" ry=\"18\"/>\n",
       "<text text-anchor=\"middle\" x=\"136\" y=\"-301.8\" font-family=\"Times,serif\" font-size=\"14.00\">Pow</text>\n",
       "</g>\n",
       "<!-- Add(Integer(4), Pow(Symbol(t), Integer(&#45;2)), Mul(Integer(4), Pow(Symbol(t), Integer(2))))_(0,) -->\n",
       "<g id=\"node2\" class=\"node\"><title>Add(Integer(4), Pow(Symbol(t), Integer(&#45;2)), Mul(Integer(4), Pow(Symbol(t), Integer(2))))_(0,)</title>\n",
       "<ellipse fill=\"none\" stroke=\"black\" cx=\"100\" cy=\"-234\" rx=\"27.8306\" ry=\"18\"/>\n",
       "<text text-anchor=\"middle\" x=\"100\" y=\"-229.8\" font-family=\"Times,serif\" font-size=\"14.00\">Add</text>\n",
       "</g>\n",
       "<!-- Pow(Add(Integer(4), Pow(Symbol(t), Integer(&#45;2)), Mul(Integer(4), Pow(Symbol(t), Integer(2)))), Half())_()&#45;&gt;Add(Integer(4), Pow(Symbol(t), Integer(&#45;2)), Mul(Integer(4), Pow(Symbol(t), Integer(2))))_(0,) -->\n",
       "<g id=\"edge1\" class=\"edge\"><title>Pow(Add(Integer(4), Pow(Symbol(t), Integer(&#45;2)), Mul(Integer(4), Pow(Symbol(t), Integer(2)))), Half())_()&#45;&gt;Add(Integer(4), Pow(Symbol(t), Integer(&#45;2)), Mul(Integer(4), Pow(Symbol(t), Integer(2))))_(0,)</title>\n",
       "<path fill=\"none\" stroke=\"black\" d=\"M127.65,-288.765C123.351,-280.404 118.008,-270.016 113.169,-260.606\"/>\n",
       "<polygon fill=\"black\" stroke=\"black\" points=\"116.24,-258.926 108.554,-251.633 110.015,-262.127 116.24,-258.926\"/>\n",
       "</g>\n",
       "<!-- Half()_(1,) -->\n",
       "<g id=\"node12\" class=\"node\"><title>Half()_(1,)</title>\n",
       "<ellipse fill=\"none\" stroke=\"black\" cx=\"173\" cy=\"-234\" rx=\"27\" ry=\"18\"/>\n",
       "<text text-anchor=\"middle\" x=\"173\" y=\"-229.8\" font-family=\"Times,serif\" font-size=\"14.00\">1/2</text>\n",
       "</g>\n",
       "<!-- Pow(Add(Integer(4), Pow(Symbol(t), Integer(&#45;2)), Mul(Integer(4), Pow(Symbol(t), Integer(2)))), Half())_()&#45;&gt;Half()_(1,) -->\n",
       "<g id=\"edge2\" class=\"edge\"><title>Pow(Add(Integer(4), Pow(Symbol(t), Integer(&#45;2)), Mul(Integer(4), Pow(Symbol(t), Integer(2)))), Half())_()&#45;&gt;Half()_(1,)</title>\n",
       "<path fill=\"none\" stroke=\"black\" d=\"M144.582,-288.765C149.065,-280.283 154.651,-269.714 159.681,-260.197\"/>\n",
       "<polygon fill=\"black\" stroke=\"black\" points=\"162.886,-261.624 164.465,-251.147 156.698,-258.353 162.886,-261.624\"/>\n",
       "</g>\n",
       "<!-- Integer(4)_(0, 0) -->\n",
       "<g id=\"node3\" class=\"node\"><title>Integer(4)_(0, 0)</title>\n",
       "<ellipse fill=\"none\" stroke=\"black\" cx=\"27\" cy=\"-162\" rx=\"27\" ry=\"18\"/>\n",
       "<text text-anchor=\"middle\" x=\"27\" y=\"-157.8\" font-family=\"Times,serif\" font-size=\"14.00\">4</text>\n",
       "</g>\n",
       "<!-- Add(Integer(4), Pow(Symbol(t), Integer(&#45;2)), Mul(Integer(4), Pow(Symbol(t), Integer(2))))_(0,)&#45;&gt;Integer(4)_(0, 0) -->\n",
       "<g id=\"edge3\" class=\"edge\"><title>Add(Integer(4), Pow(Symbol(t), Integer(&#45;2)), Mul(Integer(4), Pow(Symbol(t), Integer(2))))_(0,)&#45;&gt;Integer(4)_(0, 0)</title>\n",
       "<path fill=\"none\" stroke=\"black\" d=\"M84.8744,-218.496C74.627,-208.67 60.9092,-195.516 49.4009,-184.48\"/>\n",
       "<polygon fill=\"black\" stroke=\"black\" points=\"51.4968,-181.641 41.8565,-177.246 46.6519,-186.693 51.4968,-181.641\"/>\n",
       "</g>\n",
       "<!-- Pow(Symbol(t), Integer(&#45;2))_(0, 1) -->\n",
       "<g id=\"node4\" class=\"node\"><title>Pow(Symbol(t), Integer(&#45;2))_(0, 1)</title>\n",
       "<ellipse fill=\"none\" stroke=\"black\" cx=\"100\" cy=\"-162\" rx=\"28.4107\" ry=\"18\"/>\n",
       "<text text-anchor=\"middle\" x=\"100\" y=\"-157.8\" font-family=\"Times,serif\" font-size=\"14.00\">Pow</text>\n",
       "</g>\n",
       "<!-- Add(Integer(4), Pow(Symbol(t), Integer(&#45;2)), Mul(Integer(4), Pow(Symbol(t), Integer(2))))_(0,)&#45;&gt;Pow(Symbol(t), Integer(&#45;2))_(0, 1) -->\n",
       "<g id=\"edge4\" class=\"edge\"><title>Add(Integer(4), Pow(Symbol(t), Integer(&#45;2)), Mul(Integer(4), Pow(Symbol(t), Integer(2))))_(0,)&#45;&gt;Pow(Symbol(t), Integer(&#45;2))_(0, 1)</title>\n",
       "<path fill=\"none\" stroke=\"black\" d=\"M100,-215.697C100,-207.983 100,-198.712 100,-190.112\"/>\n",
       "<polygon fill=\"black\" stroke=\"black\" points=\"103.5,-190.104 100,-180.104 96.5001,-190.104 103.5,-190.104\"/>\n",
       "</g>\n",
       "<!-- Mul(Integer(4), Pow(Symbol(t), Integer(2)))_(0, 2) -->\n",
       "<g id=\"node7\" class=\"node\"><title>Mul(Integer(4), Pow(Symbol(t), Integer(2)))_(0, 2)</title>\n",
       "<ellipse fill=\"none\" stroke=\"black\" cx=\"173\" cy=\"-162\" rx=\"27.2661\" ry=\"18\"/>\n",
       "<text text-anchor=\"middle\" x=\"173\" y=\"-157.8\" font-family=\"Times,serif\" font-size=\"14.00\">Mul</text>\n",
       "</g>\n",
       "<!-- Add(Integer(4), Pow(Symbol(t), Integer(&#45;2)), Mul(Integer(4), Pow(Symbol(t), Integer(2))))_(0,)&#45;&gt;Mul(Integer(4), Pow(Symbol(t), Integer(2)))_(0, 2) -->\n",
       "<g id=\"edge5\" class=\"edge\"><title>Add(Integer(4), Pow(Symbol(t), Integer(&#45;2)), Mul(Integer(4), Pow(Symbol(t), Integer(2))))_(0,)&#45;&gt;Mul(Integer(4), Pow(Symbol(t), Integer(2)))_(0, 2)</title>\n",
       "<path fill=\"none\" stroke=\"black\" d=\"M115.126,-218.496C125.373,-208.67 139.091,-195.516 150.599,-184.48\"/>\n",
       "<polygon fill=\"black\" stroke=\"black\" points=\"153.348,-186.693 158.143,-177.246 148.503,-181.641 153.348,-186.693\"/>\n",
       "</g>\n",
       "<!-- Symbol(t)_(0, 1, 0) -->\n",
       "<g id=\"node5\" class=\"node\"><title>Symbol(t)_(0, 1, 0)</title>\n",
       "<ellipse fill=\"none\" stroke=\"black\" cx=\"28\" cy=\"-90\" rx=\"27\" ry=\"18\"/>\n",
       "<text text-anchor=\"middle\" x=\"28\" y=\"-85.8\" font-family=\"Times,serif\" font-size=\"14.00\">t</text>\n",
       "</g>\n",
       "<!-- Pow(Symbol(t), Integer(&#45;2))_(0, 1)&#45;&gt;Symbol(t)_(0, 1, 0) -->\n",
       "<g id=\"edge6\" class=\"edge\"><title>Pow(Symbol(t), Integer(&#45;2))_(0, 1)&#45;&gt;Symbol(t)_(0, 1, 0)</title>\n",
       "<path fill=\"none\" stroke=\"black\" d=\"M85.0816,-146.496C75.0415,-136.735 61.6237,-123.69 50.3199,-112.7\"/>\n",
       "<polygon fill=\"black\" stroke=\"black\" points=\"52.5091,-109.947 42.8993,-105.485 47.6295,-114.966 52.5091,-109.947\"/>\n",
       "</g>\n",
       "<!-- Integer(&#45;2)_(0, 1, 1) -->\n",
       "<g id=\"node6\" class=\"node\"><title>Integer(&#45;2)_(0, 1, 1)</title>\n",
       "<ellipse fill=\"none\" stroke=\"black\" cx=\"100\" cy=\"-90\" rx=\"27\" ry=\"18\"/>\n",
       "<text text-anchor=\"middle\" x=\"100\" y=\"-85.8\" font-family=\"Times,serif\" font-size=\"14.00\">&#45;2</text>\n",
       "</g>\n",
       "<!-- Pow(Symbol(t), Integer(&#45;2))_(0, 1)&#45;&gt;Integer(&#45;2)_(0, 1, 1) -->\n",
       "<g id=\"edge7\" class=\"edge\"><title>Pow(Symbol(t), Integer(&#45;2))_(0, 1)&#45;&gt;Integer(&#45;2)_(0, 1, 1)</title>\n",
       "<path fill=\"none\" stroke=\"black\" d=\"M100,-143.697C100,-135.983 100,-126.712 100,-118.112\"/>\n",
       "<polygon fill=\"black\" stroke=\"black\" points=\"103.5,-118.104 100,-108.104 96.5001,-118.104 103.5,-118.104\"/>\n",
       "</g>\n",
       "<!-- Integer(4)_(0, 2, 0) -->\n",
       "<g id=\"node8\" class=\"node\"><title>Integer(4)_(0, 2, 0)</title>\n",
       "<ellipse fill=\"none\" stroke=\"black\" cx=\"172\" cy=\"-90\" rx=\"27\" ry=\"18\"/>\n",
       "<text text-anchor=\"middle\" x=\"172\" y=\"-85.8\" font-family=\"Times,serif\" font-size=\"14.00\">4</text>\n",
       "</g>\n",
       "<!-- Mul(Integer(4), Pow(Symbol(t), Integer(2)))_(0, 2)&#45;&gt;Integer(4)_(0, 2, 0) -->\n",
       "<g id=\"edge8\" class=\"edge\"><title>Mul(Integer(4), Pow(Symbol(t), Integer(2)))_(0, 2)&#45;&gt;Integer(4)_(0, 2, 0)</title>\n",
       "<path fill=\"none\" stroke=\"black\" d=\"M172.753,-143.697C172.643,-135.983 172.51,-126.712 172.387,-118.112\"/>\n",
       "<polygon fill=\"black\" stroke=\"black\" points=\"175.887,-118.053 172.244,-108.104 168.888,-118.153 175.887,-118.053\"/>\n",
       "</g>\n",
       "<!-- Pow(Symbol(t), Integer(2))_(0, 2, 1) -->\n",
       "<g id=\"node9\" class=\"node\"><title>Pow(Symbol(t), Integer(2))_(0, 2, 1)</title>\n",
       "<ellipse fill=\"none\" stroke=\"black\" cx=\"245\" cy=\"-90\" rx=\"28.4107\" ry=\"18\"/>\n",
       "<text text-anchor=\"middle\" x=\"245\" y=\"-85.8\" font-family=\"Times,serif\" font-size=\"14.00\">Pow</text>\n",
       "</g>\n",
       "<!-- Mul(Integer(4), Pow(Symbol(t), Integer(2)))_(0, 2)&#45;&gt;Pow(Symbol(t), Integer(2))_(0, 2, 1) -->\n",
       "<g id=\"edge9\" class=\"edge\"><title>Mul(Integer(4), Pow(Symbol(t), Integer(2)))_(0, 2)&#45;&gt;Pow(Symbol(t), Integer(2))_(0, 2, 1)</title>\n",
       "<path fill=\"none\" stroke=\"black\" d=\"M187.918,-146.496C197.958,-136.735 211.376,-123.69 222.68,-112.7\"/>\n",
       "<polygon fill=\"black\" stroke=\"black\" points=\"225.37,-114.966 230.101,-105.485 220.491,-109.947 225.37,-114.966\"/>\n",
       "</g>\n",
       "<!-- Symbol(t)_(0, 2, 1, 0) -->\n",
       "<g id=\"node10\" class=\"node\"><title>Symbol(t)_(0, 2, 1, 0)</title>\n",
       "<ellipse fill=\"none\" stroke=\"black\" cx=\"209\" cy=\"-18\" rx=\"27\" ry=\"18\"/>\n",
       "<text text-anchor=\"middle\" x=\"209\" y=\"-13.8\" font-family=\"Times,serif\" font-size=\"14.00\">t</text>\n",
       "</g>\n",
       "<!-- Pow(Symbol(t), Integer(2))_(0, 2, 1)&#45;&gt;Symbol(t)_(0, 2, 1, 0) -->\n",
       "<g id=\"edge10\" class=\"edge\"><title>Pow(Symbol(t), Integer(2))_(0, 2, 1)&#45;&gt;Symbol(t)_(0, 2, 1, 0)</title>\n",
       "<path fill=\"none\" stroke=\"black\" d=\"M236.65,-72.7646C232.288,-64.2831 226.853,-53.7144 221.959,-44.1974\"/>\n",
       "<polygon fill=\"black\" stroke=\"black\" points=\"224.99,-42.4395 217.304,-35.1473 218.765,-45.6409 224.99,-42.4395\"/>\n",
       "</g>\n",
       "<!-- Integer(2)_(0, 2, 1, 1) -->\n",
       "<g id=\"node11\" class=\"node\"><title>Integer(2)_(0, 2, 1, 1)</title>\n",
       "<ellipse fill=\"none\" stroke=\"black\" cx=\"281\" cy=\"-18\" rx=\"27\" ry=\"18\"/>\n",
       "<text text-anchor=\"middle\" x=\"281\" y=\"-13.8\" font-family=\"Times,serif\" font-size=\"14.00\">2</text>\n",
       "</g>\n",
       "<!-- Pow(Symbol(t), Integer(2))_(0, 2, 1)&#45;&gt;Integer(2)_(0, 2, 1, 1) -->\n",
       "<g id=\"edge11\" class=\"edge\"><title>Pow(Symbol(t), Integer(2))_(0, 2, 1)&#45;&gt;Integer(2)_(0, 2, 1, 1)</title>\n",
       "<path fill=\"none\" stroke=\"black\" d=\"M253.35,-72.7646C257.712,-64.2831 263.147,-53.7144 268.041,-44.1974\"/>\n",
       "<polygon fill=\"black\" stroke=\"black\" points=\"271.235,-45.6409 272.696,-35.1473 265.01,-42.4395 271.235,-45.6409\"/>\n",
       "</g>\n",
       "</g>\n",
       "</svg>\n"
      ],
      "text/plain": [
       "<graphviz.files.Source at 0x10f209b38>"
      ]
     },
     "execution_count": 8,
     "metadata": {},
     "output_type": "execute_result"
    }
   ],
   "source": [
    "src"
   ]
  },
  {
   "cell_type": "code",
   "execution_count": null,
   "metadata": {
    "collapsed": true
   },
   "outputs": [],
   "source": []
  }
 ],
 "metadata": {
  "kernelspec": {
   "display_name": "Python 3",
   "language": "python",
   "name": "python3"
  },
  "language_info": {
   "codemirror_mode": {
    "name": "ipython",
    "version": 3
   },
   "file_extension": ".py",
   "mimetype": "text/x-python",
   "name": "python",
   "nbconvert_exporter": "python",
   "pygments_lexer": "ipython3",
   "version": "3.5.1"
  }
 },
 "nbformat": 4,
 "nbformat_minor": 0
}
