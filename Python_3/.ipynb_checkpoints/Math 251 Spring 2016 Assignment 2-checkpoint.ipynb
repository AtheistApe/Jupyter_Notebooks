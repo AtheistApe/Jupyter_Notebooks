{
 "cells": [
  {
   "cell_type": "code",
   "execution_count": 2,
   "metadata": {
    "collapsed": false
   },
   "outputs": [
    {
     "name": "stdout",
     "output_type": "stream",
     "text": [
      "IPython console for SymPy 1.0 (Python 3.5.1-64-bit) (ground types: python)\n",
      "\n",
      "These commands were executed:\n",
      ">>> from __future__ import division\n",
      ">>> from sympy import *\n",
      ">>> x, y, z, t = symbols('x y z t')\n",
      ">>> k, m, n = symbols('k m n', integer=True)\n",
      ">>> f, g, h = symbols('f g h', cls=Function)\n",
      ">>> init_printing()\n",
      "\n",
      "Documentation can be found at http://docs.sympy.org/1.0/\n"
     ]
    }
   ],
   "source": [
    "from sympy import init_session\n",
    "init_session()"
   ]
  },
  {
   "cell_type": "markdown",
   "metadata": {},
   "source": [
    "# Assignment 2\n",
    "\n",
    "1) Use L'Hospital's rule to evaluate the limit\n",
    "\n",
    "$$\\lim_{x\\rightarrow 0} \\frac{\\cos x - 1}{3x^2}$$\n",
    "\n",
    "2) Find the dimensions and area of the largest rectangle that can be inscribed in the upper semicircle $y = \\sqrt{1 - x^2}$. The base of the rectangle is on the $x$-axis, and the two upper corners are on the semicircle. You must use the methods of Calculus as discussed in section 4.7 of the text.\n",
    "\n",
    "Each problem is worth 5 points. To get full credit you must present a clear, neatly written solution to each problem."
   ]
  },
  {
   "cell_type": "code",
   "execution_count": 3,
   "metadata": {
    "collapsed": false
   },
   "outputs": [
    {
     "name": "stdout",
     "output_type": "stream",
     "text": [
      "the limit is -1/6 which is approximately equal to -0.166666666666667\n"
     ]
    }
   ],
   "source": [
    "# Problem 1\n",
    "\n",
    "ans1 = limit((cos(x) - 1) / (3*x**2), x, 0)\n",
    "print('the limit is {} which is approximately equal to {}'.format(ans1, ans1.n()))"
   ]
  },
  {
   "cell_type": "markdown",
   "metadata": {},
   "source": [
    "### Problem 2"
   ]
  },
  {
   "cell_type": "markdown",
   "metadata": {},
   "source": [
    "<img  src=\"Screenshot 2016-05-07 14.32.57.png\"/>"
   ]
  },
  {
   "cell_type": "code",
   "execution_count": 4,
   "metadata": {
    "collapsed": false
   },
   "outputs": [
    {
     "data": {
      "image/png": "[encoded data removed]",
      "text/latex": [
       "$$- \\frac{4 x^{2} - 2}{\\sqrt{- \\left(x - 1\\right) \\left(x + 1\\right)}}$$"
      ],
      "text/plain": [
       "      ⎛   2    ⎞    \n",
       "   -2⋅⎝2⋅x  - 1⎠    \n",
       "────────────────────\n",
       "  __________________\n",
       "╲╱ -(x - 1)⋅(x + 1) "
      ]
     },
     "execution_count": 4,
     "metadata": {},
     "output_type": "execute_result"
    }
   ],
   "source": [
    "# Problem 2\n",
    "\n",
    "y = sqrt(1 - x**2)\n",
    "\n",
    "A = 2*x*y\n",
    "\n",
    "dA = diff(A, x).combsimp()\n",
    "dA"
   ]
  },
  {
   "cell_type": "code",
   "execution_count": 5,
   "metadata": {
    "collapsed": false
   },
   "outputs": [
    {
     "data": {
      "image/png": "[encoded data removed]",
      "text/latex": [
       "$$\\left [ - \\frac{\\sqrt{2}}{2}, \\quad \\frac{\\sqrt{2}}{2}\\right ]$$"
      ],
      "text/plain": [
       "⎡-√2   √2⎤\n",
       "⎢────, ──⎥\n",
       "⎣ 2    2 ⎦"
      ]
     },
     "execution_count": 5,
     "metadata": {},
     "output_type": "execute_result"
    }
   ],
   "source": [
    "crit_pts = solve(dA, x)\n",
    "crit_pts"
   ]
  },
  {
   "cell_type": "code",
   "execution_count": 6,
   "metadata": {
    "collapsed": false
   },
   "outputs": [
    {
     "name": "stdout",
     "output_type": "stream",
     "text": [
      "The maximum area is 1 when x = sqrt(2)/2 and y = sqrt(2)/2\n"
     ]
    }
   ],
   "source": [
    "xmax = crit_pts[1]\n",
    "ymax = y.subs({x:xmax})\n",
    "Amax = A.subs({x:xmax, y:ymax})\n",
    "\n",
    "print('The maximum area is {} when x = {} and y = {}'.format(Amax, xmax, ymax))"
   ]
  },
  {
   "cell_type": "code",
   "execution_count": null,
   "metadata": {
    "collapsed": true
   },
   "outputs": [],
   "source": []
  }
 ],
 "metadata": {
  "hide_input": false,
  "kernelspec": {
   "display_name": "Python 3",
   "language": "python",
   "name": "python3"
  },
  "language_info": {
   "codemirror_mode": {
    "name": "ipython",
    "version": 3
   },
   "file_extension": ".py",
   "mimetype": "text/x-python",
   "name": "python",
   "nbconvert_exporter": "python",
   "pygments_lexer": "ipython3",
   "version": "3.5.1"
  },
  "latex_envs": {
   "bibliofile": "biblio.bib",
   "cite_by": "apalike",
   "current_citInitial": 1,
   "eqLabelWithNumbers": true,
   "eqNumInitial": 0
  }
 },
 "nbformat": 4,
 "nbformat_minor": 0
}
