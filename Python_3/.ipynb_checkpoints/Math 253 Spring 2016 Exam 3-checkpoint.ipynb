{
 "cells": [
  {
   "cell_type": "markdown",
   "metadata": {},
   "source": [
    "# Exam 3"
   ]
  },
  {
   "cell_type": "markdown",
   "metadata": {},
   "source": [
    "$\n",
    "\\newcommand{i}{\\mathbf{\\hat{i}}}\n",
    "\\newcommand{j}{\\mathbf{\\hat{j}}}\n",
    "\\newcommand{k}{\\mathbf{\\hat{k}}}\n",
    "\\newcommand{lv}[1]{\\left<#1\\right>}\n",
    "\\newcommand{pd}[1]{\\dfrac{\\partial}{\\partial#1}}\n",
    "\\renewcommand{vec}[1]{\\mathbf{#1}}\n",
    "$"
   ]
  },
  {
   "cell_type": "code",
   "execution_count": 1,
   "metadata": {},
   "outputs": [],
   "source": [
    "from sympy import *\n"
   ]
  },
  {
   "cell_type": "code",
   "execution_count": 2,
   "metadata": {
    "collapsed": true
   },
   "outputs": [],
   "source": [
    "from sympy.physics.vector import *\n",
    "N = ReferenceFrame('N')\n",
    "\n",
    "t = symbols('t', positive=True)"
   ]
  },
  {
   "cell_type": "markdown",
   "metadata": {},
   "source": [
    "### Problem 1\n",
    "\n",
    "An objects velocity is given by $\\vec{v}(t) = 2t\\i + t^2 \\j - 2t^3 \\k$\n",
    "\n",
    "a. Find the position $\\vec{r}(t)$ and the accelleration $\\vec{a}(t)$ functions given that $\\vec{r}(0) = \\i + \\k$.\n",
    "\n",
    "b. Find the speed of the object at time $t = 1$.\n",
    "\n",
    "c. Find the unit tangent vector $\\vec{T}$ and unit normal vector $\\vec{N}$ a time $t = 1$.\n",
    "\n",
    "d. Find the curvature of the path $\\vec{r}(t)$ of the object at time $t = 1$."
   ]
  },
  {
   "cell_type": "code",
   "execution_count": 8,
   "metadata": {
    "collapsed": true
   },
   "outputs": [],
   "source": [
    "# v(t)\n",
    "\n",
    "vt = 2*t*N.x + t**2*N.y - 2*t**3*N.z"
   ]
  },
  {
   "cell_type": "code",
   "execution_count": 9,
   "metadata": {},
   "outputs": [
    {
     "data": {
      "image/png": "[encoded data removed]",
      "text/latex": [
       "$$t^{2}\\mathbf{\\hat{n}_x} + \\frac{t^{3}}{3}\\mathbf{\\hat{n}_y} -  \\frac{t^{4}}{2}\\mathbf{\\hat{n}_z}$$"
      ],
      "text/plain": [
       " 2\n",
       "t  n_x +  3\n",
       "t \n",
       "──\n",
       "3  n_y +   4 \n",
       "-t  \n",
       "────\n",
       " 2   n_z"
      ]
     },
     "execution_count": 9,
     "metadata": {},
     "output_type": "execute_result"
    }
   ],
   "source": [
    "# The integral of v(t) without initial condition\n",
    "\n",
    "r = vt.applyfunc(lambda f: integrate(f,t))\n",
    "r"
   ]
  },
  {
   "cell_type": "code",
   "execution_count": 11,
   "metadata": {},
   "outputs": [
    {
     "data": {
      "image/png": "[encoded data removed]",
      "text/latex": [
       "$$(t^{2} + 1)\\mathbf{\\hat{n}_x} + \\frac{t^{3}}{3}\\mathbf{\\hat{n}_y} + (- \\frac{t^{4}}{2} + 1)\\mathbf{\\hat{n}_z}$$"
      ],
      "text/plain": [
       "⎛ 2    ⎞\n",
       "⎝t  + 1⎠ n_x +  3\n",
       "t \n",
       "──\n",
       "3  n_y + ⎛   4    ⎞\n",
       "⎜  t     ⎟\n",
       "⎜- ── + 1⎟\n",
       "⎝  2     ⎠ n_z"
      ]
     },
     "execution_count": 11,
     "metadata": {},
     "output_type": "execute_result"
    }
   ],
   "source": [
    "# r(t): Applying the initial condition.\n",
    "\n",
    "r0 = N.x + N.z\n",
    "rt = r + (r0 - r.subs(t,0))\n",
    "rt"
   ]
  },
  {
   "cell_type": "code",
   "execution_count": 12,
   "metadata": {},
   "outputs": [
    {
     "data": {
      "image/png": "[encoded data removed]",
      "text/latex": [
       "$$2\\mathbf{\\hat{n}_x} + 2 t\\mathbf{\\hat{n}_y} -  6 t^{2}\\mathbf{\\hat{n}_z}$$"
      ],
      "text/plain": [
       "2 n_x + 2⋅t n_y +     2\n",
       "-6⋅t  n_z"
      ]
     },
     "execution_count": 12,
     "metadata": {},
     "output_type": "execute_result"
    }
   ],
   "source": [
    "# a(t), the derivative of v(t)\n",
    "\n",
    "at = vt.diff(t,N)\n",
    "at"
   ]
  },
  {
   "cell_type": "code",
   "execution_count": 14,
   "metadata": {},
   "outputs": [
    {
     "data": {
      "image/png": "[encoded data removed]",
      "text/latex": [
       "$$2\\mathbf{\\hat{n}_x} + \\mathbf{\\hat{n}_y} - 2\\mathbf{\\hat{n}_z}$$"
      ],
      "text/plain": [
       "2 n_x + n_y - 2 n_z"
      ]
     },
     "execution_count": 14,
     "metadata": {},
     "output_type": "execute_result"
    }
   ],
   "source": [
    "v1 = v.subs(t,1)\n",
    "v1"
   ]
  },
  {
   "cell_type": "code",
   "execution_count": 17,
   "metadata": {},
   "outputs": [
    {
     "data": {
      "image/png": "[encoded data removed]",
      "text/latex": [
       "$$t \\sqrt{4 t^{4} + t^{2} + 4}$$"
      ],
      "text/plain": [
       "     _______________\n",
       "    ╱    4    2     \n",
       "t⋅╲╱  4⋅t  + t  + 4 "
      ]
     },
     "execution_count": 17,
     "metadata": {},
     "output_type": "execute_result"
    }
   ],
   "source": [
    "vNorm = v.magnitude().combsimp()\n",
    "vNorm"
   ]
  },
  {
   "cell_type": "code",
   "execution_count": 18,
   "metadata": {},
   "outputs": [
    {
     "data": {
      "image/png": "[encoded data removed]",
      "text/latex": [
       "$$3$$"
      ],
      "text/plain": [
       "3"
      ]
     },
     "execution_count": 18,
     "metadata": {},
     "output_type": "execute_result"
    }
   ],
   "source": [
    "# |v(1)|, the speed at time t = 1\n",
    "\n",
    "speed = v1.magnitude()\n",
    "speed"
   ]
  },
  {
   "cell_type": "code",
   "execution_count": 19,
   "metadata": {},
   "outputs": [
    {
     "data": {
      "image/png": "[encoded data removed]",
      "text/latex": [
       "$$\\frac{2}{3}\\mathbf{\\hat{n}_x} + \\frac{1}{3}\\mathbf{\\hat{n}_y} -  \\frac{2}{3}\\mathbf{\\hat{n}_z}$$"
      ],
      "text/plain": [
       "2/3 n_x + 1/3 n_y - 2/3 n_z"
      ]
     },
     "execution_count": 19,
     "metadata": {},
     "output_type": "execute_result"
    }
   ],
   "source": [
    "# T(1), the unit tangent vector at time t = 1\n",
    "\n",
    "T1 = v1/speed\n",
    "T1"
   ]
  },
  {
   "cell_type": "code",
   "execution_count": 25,
   "metadata": {},
   "outputs": [
    {
     "data": {
      "image/png": "[encoded data removed]",
      "text/latex": [
       "$$-  \\frac{2 t \\left(8 t^{2} + 1\\right)}{\\left(4 t^{4} + t^{2} + 4\\right)^{\\frac{3}{2}}}\\mathbf{\\hat{n}_x} -  \\frac{4 \\left(t - 1\\right) \\left(t + 1\\right) \\left(t^{2} + 1\\right)}{\\left(4 t^{4} + t^{2} + 4\\right)^{\\frac{3}{2}}}\\mathbf{\\hat{n}_y} -  \\frac{2 t \\left(t^{2} + 8\\right)}{\\left(4 t^{4} + t^{2} + 4\\right)^{\\frac{3}{2}}}\\mathbf{\\hat{n}_z}$$"
      ],
      "text/plain": [
       "      ⎛   2    ⎞  \n",
       " -2⋅t⋅⎝8⋅t  + 1⎠  \n",
       "──────────────────\n",
       "               3/2\n",
       "⎛   4    2    ⎞   \n",
       "⎝4⋅t  + t  + 4⎠    n_x +                    ⎛ 2    ⎞ \n",
       "-4⋅(t - 1)⋅(t + 1)⋅⎝t  + 1⎠ \n",
       "────────────────────────────\n",
       "                    3/2     \n",
       "     ⎛   4    2    ⎞        \n",
       "     ⎝4⋅t  + t  + 4⎠         n_y +        ⎛ 2    ⎞   \n",
       "  -2⋅t⋅⎝t  + 8⎠   \n",
       "──────────────────\n",
       "               3/2\n",
       "⎛   4    2    ⎞   \n",
       "⎝4⋅t  + t  + 4⎠    n_z"
      ]
     },
     "execution_count": 25,
     "metadata": {},
     "output_type": "execute_result"
    }
   ],
   "source": [
    "# N(1), the unit normal vector at time t = 1\n",
    "\n",
    "dT = (vt/vt.magnitude()).diff(t,N).applyfunc(lambda f: f.combsimp())\n",
    "dT"
   ]
  },
  {
   "cell_type": "code",
   "execution_count": 26,
   "metadata": {},
   "outputs": [
    {
     "data": {
      "image/png": "[encoded data removed]",
      "text/latex": [
       "$$-  \\frac{2}{3}\\mathbf{\\hat{n}_x} -  \\frac{2}{3}\\mathbf{\\hat{n}_z}$$"
      ],
      "text/plain": [
       "- 2/3 n_x - 2/3 n_z"
      ]
     },
     "execution_count": 26,
     "metadata": {},
     "output_type": "execute_result"
    }
   ],
   "source": [
    "dT1 = dT.subs(t,1)\n",
    "dT1"
   ]
  },
  {
   "cell_type": "code",
   "execution_count": 27,
   "metadata": {},
   "outputs": [
    {
     "data": {
      "image/png": "[encoded data removed]",
      "text/latex": [
       "$$-  \\frac{\\sqrt{2}}{2}\\mathbf{\\hat{n}_x} -  \\frac{\\sqrt{2}}{2}\\mathbf{\\hat{n}_z}$$"
      ],
      "text/plain": [
       "- √2 \n",
       "────\n",
       " 2   n_x - √2 \n",
       "────\n",
       " 2   n_z"
      ]
     },
     "execution_count": 27,
     "metadata": {},
     "output_type": "execute_result"
    }
   ],
   "source": [
    "N1 = dT1/dT1.magnitude()\n",
    "N1"
   ]
  },
  {
   "cell_type": "code",
   "execution_count": 28,
   "metadata": {},
   "outputs": [
    {
     "data": {
      "image/png": "[encoded data removed]",
      "text/latex": [
       "$$2\\mathbf{\\hat{n}_x} + 2\\mathbf{\\hat{n}_y} - 6\\mathbf{\\hat{n}_z}$$"
      ],
      "text/plain": [
       "2 n_x + 2 n_y - 6 n_z"
      ]
     },
     "execution_count": 28,
     "metadata": {},
     "output_type": "execute_result"
    }
   ],
   "source": [
    "# The curvature at time t = 1\n",
    "\n",
    "a1 = at.subs(t,1)\n",
    "a1"
   ]
  },
  {
   "cell_type": "code",
   "execution_count": 29,
   "metadata": {},
   "outputs": [
    {
     "data": {
      "image/png": "[encoded data removed]",
      "text/latex": [
       "$$- 2\\mathbf{\\hat{n}_x} + 8\\mathbf{\\hat{n}_y} + 2\\mathbf{\\hat{n}_z}$$"
      ],
      "text/plain": [
       "- 2 n_x + 8 n_y + 2 n_z"
      ]
     },
     "execution_count": 29,
     "metadata": {},
     "output_type": "execute_result"
    }
   ],
   "source": [
    "v_Cross_a = v1.cross(a1)\n",
    "v_Cross_a"
   ]
  },
  {
   "cell_type": "code",
   "execution_count": 30,
   "metadata": {},
   "outputs": [
    {
     "data": {
      "image/png": "[encoded data removed]",
      "text/latex": [
       "$$6 \\sqrt{2}$$"
      ],
      "text/plain": [
       "6⋅√2"
      ]
     },
     "execution_count": 30,
     "metadata": {},
     "output_type": "execute_result"
    }
   ],
   "source": [
    "v_Cross_a_Norm = v_Cross_a.magnitude()\n",
    "v_Cross_a_Norm"
   ]
  },
  {
   "cell_type": "code",
   "execution_count": 32,
   "metadata": {},
   "outputs": [
    {
     "data": {
      "image/png": "[encoded data removed]",
      "text/latex": [
       "$$\\frac{2 \\sqrt{2}}{9}$$"
      ],
      "text/plain": [
       "2⋅√2\n",
       "────\n",
       " 9  "
      ]
     },
     "execution_count": 32,
     "metadata": {},
     "output_type": "execute_result"
    }
   ],
   "source": [
    "kappa = v_Cross_a_Norm/speed**3\n",
    "kappa"
   ]
  },
  {
   "cell_type": "markdown",
   "metadata": {},
   "source": [
    "### Problem 1 Answers\n",
    "Note: The unit normal vector at $t = 1$ was too hard to calculate.\n",
    "\n",
    "a. $\\vec{r}(t) = (t^2 + 1)\\i + \\frac{t^3}{3}\\j + \\left(1 - \\frac{t^4}{2}\\right)\\k \\quad \\text{and} \\quad \\vec{a}(t) = 2\\i + 2t^2\\j - 6t^3\\j$\n",
    "\n",
    "b. The speed is 3.\n",
    "\n",
    "c. $\\vec{T}(1) = \\frac{2}{3}\\i + \\frac{1}{3}\\j - \\frac{2}{3}\\k\n",
    "\\quad \\text{and} \\quad \\vec{N}(1) = -\\frac{\\sqrt{2}}{2}\\i - \\frac{\\sqrt{2}}{2}\\j$\n",
    "\n",
    "d. $\\kappa(1) = \\frac{2\\sqrt{2}}{9}$"
   ]
  },
  {
   "cell_type": "markdown",
   "metadata": {},
   "source": [
    "### Problem 2\n",
    "\n",
    "Let $\\vec{r}(t) = \\frac{1}{2}t^2\\i + \\frac{4}{3}t^{3/2}\\j + 2t\\k$ be a curve in $\\mathbb{R}^3$. Find the length of the curve as $t$ varies over the interval $[0,4]$."
   ]
  },
  {
   "cell_type": "code",
   "execution_count": 33,
   "metadata": {},
   "outputs": [
    {
     "data": {
      "image/png": "[encoded data removed]",
      "text/latex": [
       "$$\\frac{t^{2}}{2}\\mathbf{\\hat{n}_x} + \\frac{4 t^{\\frac{3}{2}}}{3}\\mathbf{\\hat{n}_y} + 2 t\\mathbf{\\hat{n}_z}$$"
      ],
      "text/plain": [
       " 2\n",
       "t \n",
       "──\n",
       "2  n_x +    3/2\n",
       "4⋅t   \n",
       "──────\n",
       "  3    n_y + 2⋅t n_z"
      ]
     },
     "execution_count": 33,
     "metadata": {},
     "output_type": "execute_result"
    }
   ],
   "source": [
    "rt = t**2/2*N.x + 4*t*sqrt(t)/3*N.y + 2*t*N.z\n",
    "rt"
   ]
  },
  {
   "cell_type": "code",
   "execution_count": 39,
   "metadata": {},
   "outputs": [
    {
     "data": {
      "image/png": "[encoded data removed]",
      "text/latex": [
       "$$t\\mathbf{\\hat{n}_x} + 2 \\sqrt{t}\\mathbf{\\hat{n}_y} + 2\\mathbf{\\hat{n}_z}$$"
      ],
      "text/plain": [
       "t n_x + 2⋅√t n_y + 2 n_z"
      ]
     },
     "execution_count": 39,
     "metadata": {},
     "output_type": "execute_result"
    }
   ],
   "source": [
    "vt = rt.diff(t,N)\n",
    "vt"
   ]
  },
  {
   "cell_type": "code",
   "execution_count": 40,
   "metadata": {},
   "outputs": [
    {
     "data": {
      "image/png": "[encoded data removed]",
      "text/latex": [
       "$$t + 2$$"
      ],
      "text/plain": [
       "t + 2"
      ]
     },
     "execution_count": 40,
     "metadata": {},
     "output_type": "execute_result"
    }
   ],
   "source": [
    "vtNorm = simplify(vt.magnitude().combsimp())\n",
    "vtNorm"
   ]
  },
  {
   "cell_type": "code",
   "execution_count": 42,
   "metadata": {},
   "outputs": [
    {
     "data": {
      "image/png": "[encoded data removed]",
      "text/latex": [
       "$$16$$"
      ],
      "text/plain": [
       "16"
      ]
     },
     "execution_count": 42,
     "metadata": {},
     "output_type": "execute_result"
    }
   ],
   "source": [
    "length = integrate(vtNorm,(t,0,4))\n",
    "length"
   ]
  },
  {
   "cell_type": "markdown",
   "metadata": {},
   "source": [
    "### Problem 2 Answer\n",
    "\n",
    "The length of the curve is 16"
   ]
  },
  {
   "cell_type": "markdown",
   "metadata": {},
   "source": [
    "### Problem 3\n",
    "\n",
    "Let $\\vec{F}(x,y) = x^3 y^4\\i + x^4 y^3\\j$ be a vector field.\n",
    "\n",
    "a. Show $\\vec{F}$ is conservative by finding a potential function $f(x,y)$ such that $\\nabla f = \\vec{F}$.\n",
    "\n",
    "b. Use the previous result to evaluate $\\int_C \\vec{F}\\cdot d\\vec{r}$, where $C$ is the curve $\\vec{r}(t) = \\sqrt{t}\\i + (1 + t^2)\\j$, for $0 \\leq t \\leq 1$."
   ]
  },
  {
   "cell_type": "code",
   "execution_count": 44,
   "metadata": {
    "collapsed": true
   },
   "outputs": [],
   "source": [
    "Fxy = x**3 * y**4 * N.x + x**4 * y**3 * N.y\n",
    "\n",
    "rt = sqrt(t)*N.x + (1 + t**2)*N.y"
   ]
  },
  {
   "cell_type": "markdown",
   "metadata": {},
   "source": [
    "For $f(x,y)$ to be a gradient function for the field $\\vec{F}$, it must be the case that $f_x = x^3 y^4$. A function which does this is $f(x,y) = \\frac{1}{4} x^4 y^4$. The function $f$ must also satisfy $f_y(x,y) = x^4 y^3$ but this same function $f(x,y) = \\frac{1}{4} x^4 y^4$ does this as well. Consequently, $f(x,y)$ is a potential function for the field $F$.\n",
    "\n",
    "It follows that $\\int_C \\vec{F}\\cdot d\\vec{r} = f(\\vec{r}(1)) - f(\\vec{r}(0))$"
   ]
  },
  {
   "cell_type": "code",
   "execution_count": 45,
   "metadata": {
    "collapsed": true
   },
   "outputs": [],
   "source": [
    "fxy = x**4 * y**4 / 4"
   ]
  },
  {
   "cell_type": "code",
   "execution_count": 56,
   "metadata": {},
   "outputs": [
    {
     "name": "stdout",
     "output_type": "stream",
     "text": [
      "rt1 = N.x + 2*N.y, rt0 = N.y\n"
     ]
    }
   ],
   "source": [
    "rt1 = rt.subs(t,1)\n",
    "\n",
    "rt0 = rt.subs(t,0)\n",
    "\n",
    "print(\"rt1 = {0}, rt0 = {1}\".format(rt1, rt0))"
   ]
  },
  {
   "cell_type": "code",
   "execution_count": 57,
   "metadata": {},
   "outputs": [
    {
     "data": {
      "image/png": "[encoded data removed]",
      "text/latex": [
       "$$4$$"
      ],
      "text/plain": [
       "4"
      ]
     },
     "execution_count": 57,
     "metadata": {},
     "output_type": "execute_result"
    }
   ],
   "source": [
    "fxy.subs({x:1,y:2}) - fxy.subs({x:0,y:1})"
   ]
  },
  {
   "cell_type": "markdown",
   "metadata": {},
   "source": [
    "### Problem 3 Answers\n",
    "\n",
    "a. $f(x,y) = \\frac{1}{4} x^4 y^4$\n",
    "\n",
    "b. $\\int_C \\vec{F}\\cdot d\\vec{r} = 4$"
   ]
  },
  {
   "cell_type": "markdown",
   "metadata": {},
   "source": [
    "### Problem 4\n",
    "\n",
    "Evaluate $\\int_C y\\,dx + 2x\\,dy$, where $C$ is the part of the graph of the parabola $y = x^2$ from $P_1(1,1)$ to $P_2(3,9)$."
   ]
  },
  {
   "cell_type": "code",
   "execution_count": 58,
   "metadata": {},
   "outputs": [
    {
     "data": {
      "image/png": "[encoded data removed]",
      "text/latex": [
       "$$5 t^{2}$$"
      ],
      "text/plain": [
       "   2\n",
       "5⋅t "
      ]
     },
     "execution_count": 58,
     "metadata": {},
     "output_type": "execute_result"
    }
   ],
   "source": [
    "\"\"\" \n",
    "Parameterize y = x^2 by:\n",
    "    xt = t\n",
    "    yt = t^2,   for 1 <= t <= 3\n",
    "\"\"\"\n",
    "xt = t\n",
    "yt = t**2\n",
    "\n",
    "dxt = diff(xt,t)\n",
    "dyt = diff(yt,t)\n",
    "\n",
    "integrand = yt*dxt + 2*xt*dyt\n",
    "integrand"
   ]
  },
  {
   "cell_type": "code",
   "execution_count": 59,
   "metadata": {},
   "outputs": [
    {
     "data": {
      "image/png": "[encoded data removed]",
      "text/latex": [
       "$$\\frac{130}{3}$$"
      ],
      "text/plain": [
       "130/3"
      ]
     },
     "execution_count": 59,
     "metadata": {},
     "output_type": "execute_result"
    }
   ],
   "source": [
    "integrate(integrand, (t,1,3))"
   ]
  },
  {
   "cell_type": "code",
   "execution_count": 60,
   "metadata": {},
   "outputs": [
    {
     "data": {
      "image/png": "[encoded data removed]",
      "text/latex": [
       "$$43.3333333333333$$"
      ],
      "text/plain": [
       "43.3333333333333"
      ]
     },
     "execution_count": 60,
     "metadata": {},
     "output_type": "execute_result"
    }
   ],
   "source": [
    "Out[59].evalf()"
   ]
  },
  {
   "cell_type": "markdown",
   "metadata": {},
   "source": [
    "### Problem 4 Answer\n",
    "\n",
    "$\\int_C y\\,dx + 2x\\,dy = \\frac{130}{3} \\approx 43.33$"
   ]
  },
  {
   "cell_type": "code",
   "execution_count": null,
   "metadata": {
    "collapsed": true
   },
   "outputs": [],
   "source": []
  }
 ],
 "metadata": {
  "hide_input": false,
  "kernelspec": {
   "display_name": "Python [default]",
   "language": "python",
   "name": "python3"
  },
  "language_info": {
   "codemirror_mode": {
    "name": "ipython",
    "version": 3
   },
   "file_extension": ".py",
   "mimetype": "text/x-python",
   "name": "python",
   "nbconvert_exporter": "python",
   "pygments_lexer": "ipython3",
   "version": "3.5.4"
  },
  "latex_envs": {
   "bibliofile": "biblio.bib",
   "cite_by": "apalike",
   "current_citInitial": 1,
   "eqLabelWithNumbers": true,
   "eqNumInitial": 0
  }
 },
 "nbformat": 4,
 "nbformat_minor": 1
}
