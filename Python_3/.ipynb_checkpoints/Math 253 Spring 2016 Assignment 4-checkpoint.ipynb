{
 "cells": [
  {
   "cell_type": "markdown",
   "metadata": {},
   "source": [
    "$\n",
    "\\newcommand{i}{\\mathbf{\\hat{i}}}\n",
    "\\newcommand{j}{\\mathbf{\\hat{j}}}\n",
    "\\newcommand{k}{\\mathbf{\\hat{k}}}\n",
    "\\newcommand{lv}[1]{\\left<#1\\right>}\n",
    "\\newcommand{pd}[1]{\\dfrac{\\partial}{\\partial#1}}\n",
    "$"
   ]
  },
  {
   "cell_type": "code",
   "execution_count": 1,
   "metadata": {
    "collapsed": true
   },
   "outputs": [
    {
     "name": "stdout",
     "output_type": "stream",
     "text": [
      "IPython console for SymPy 1.0 (Python 3.5.1-64-bit) (ground types: python)\n",
      "\n",
      "These commands were executed:\n",
      ">>> from __future__ import division\n",
      ">>> from sympy import *\n",
      ">>> x, y, z, t = symbols('x y z t')\n",
      ">>> k, m, n = symbols('k m n', integer=True)\n",
      ">>> f, g, h = symbols('f g h', cls=Function)\n",
      ">>> init_printing()\n",
      "\n",
      "Documentation can be found at http://docs.sympy.org/1.0/\n"
     ]
    }
   ],
   "source": [
    "from sympy import init_session\n",
    "init_session()"
   ]
  },
  {
   "cell_type": "code",
   "execution_count": 2,
   "metadata": {
    "collapsed": true
   },
   "outputs": [],
   "source": [
    "from sympy.physics.vector import *\n",
    "N = ReferenceFrame('N')\n",
    "\n",
    "t = symbols('t', positive=True)"
   ]
  },
  {
   "cell_type": "markdown",
   "metadata": {},
   "source": [
    "A curve is described by $\\vec{r}(t) = \\lv{e^t\\sin(t), e^t\\cos(t), 0}$. Its graph over the interval $0 \\leq t \\leq \\frac{3\\pi}{2}$ is shown below with points spiraling out from $(0, 1)$ plotted for $t$ values of $0, \\pi/3, 2\\pi/3, \\pi$ and $4\\pi/3$.\n",
    "\n",
    "<img src=\"m253ass4.png\" width=75%>"
   ]
  },
  {
   "cell_type": "markdown",
   "metadata": {},
   "source": [
    "### Problem 1\n",
    "\n",
    "Find the arclength function $s(t)$ where we measure the curve starting from $(0,1)$ at $t = 0$. Use the arclength function to find the length of the curve graphed above $(0 \\leq t \\leq 3\\pi/2)$."
   ]
  },
  {
   "cell_type": "code",
   "execution_count": 3,
   "metadata": {
    "collapsed": true
   },
   "outputs": [],
   "source": [
    "rt = exp(t)*sin(t)*N.x + exp(t)*cos(t)*N.y"
   ]
  },
  {
   "cell_type": "code",
   "execution_count": 5,
   "metadata": {
    "collapsed": false
   },
   "outputs": [
    {
     "data": {
      "image/png": "[encoded data removed]",
      "text/latex": [
       "$$(e^{t} \\operatorname{sin}\\left(t\\right) + e^{t} \\operatorname{cos}\\left(t\\right))\\mathbf{\\hat{n}_x} + (- e^{t} \\operatorname{sin}\\left(t\\right) + e^{t} \\operatorname{cos}\\left(t\\right))\\mathbf{\\hat{n}_y}$$"
      ],
      "text/plain": [
       "⎛ t           t       ⎞\n",
       "⎝ℯ ⋅sin(t) + ℯ ⋅cos(t)⎠ n_x + ⎛   t           t       ⎞\n",
       "⎝- ℯ ⋅sin(t) + ℯ ⋅cos(t)⎠ n_y"
      ]
     },
     "execution_count": 5,
     "metadata": {},
     "output_type": "execute_result"
    }
   ],
   "source": [
    "drt = rt.diff(t,N)\n",
    "drt"
   ]
  },
  {
   "cell_type": "code",
   "execution_count": 6,
   "metadata": {
    "collapsed": false
   },
   "outputs": [
    {
     "data": {
      "image/png": "[encoded data removed]",
      "text/latex": [
       "$$\\sqrt{2} e^{t}$$"
      ],
      "text/plain": [
       "    t\n",
       "√2⋅ℯ "
      ]
     },
     "execution_count": 6,
     "metadata": {},
     "output_type": "execute_result"
    }
   ],
   "source": [
    "drtNorm = simplify(drt.magnitude().combsimp())\n",
    "drtNorm"
   ]
  },
  {
   "cell_type": "code",
   "execution_count": 7,
   "metadata": {
    "collapsed": false
   },
   "outputs": [
    {
     "data": {
      "image/png": "[encoded data removed]",
      "text/latex": [
       "$$\\sqrt{2} \\left(e^{t} - 1\\right)$$"
      ],
      "text/plain": [
       "   ⎛ t    ⎞\n",
       "√2⋅⎝ℯ  - 1⎠"
      ]
     },
     "execution_count": 7,
     "metadata": {},
     "output_type": "execute_result"
    }
   ],
   "source": [
    "st = integrate(drtNorm, (t,0,t)).factor()\n",
    "st"
   ]
  },
  {
   "cell_type": "code",
   "execution_count": 8,
   "metadata": {
    "collapsed": false
   },
   "outputs": [
    {
     "data": {
      "image/png": "[encoded data removed]",
      "text/latex": [
       "$$156.012898511226$$"
      ],
      "text/plain": [
       "156.012898511226"
      ]
     },
     "execution_count": 8,
     "metadata": {},
     "output_type": "execute_result"
    }
   ],
   "source": [
    "st.subs({t:3*pi/2}).n()"
   ]
  },
  {
   "cell_type": "markdown",
   "metadata": {},
   "source": [
    "### Problem 1 Solution\n",
    "\n",
    "$s(t) = \\sqrt{2}(e^t - 1)$\n",
    "\n",
    "$s(3\\pi/2) = \\sqrt{2}(e^{3\\pi/2} - 1) \\approx 156.013$"
   ]
  },
  {
   "cell_type": "markdown",
   "metadata": {},
   "source": [
    "### Problem 2\n",
    "\n",
    "Solve the arclength function for $t$ in terms of $s$ and use this formula to parameterize $\\vec{r}$ in terms of the arclength $s$; i.e. find $\\vec{r}(s)$."
   ]
  },
  {
   "cell_type": "code",
   "execution_count": 9,
   "metadata": {
    "collapsed": false
   },
   "outputs": [
    {
     "data": {
      "image/png": "[encoded data removed]",
      "text/latex": [
       "$$\\left [ \\log{\\left (\\frac{\\sqrt{2} s}{2} + 1 \\right )}\\right ]$$"
      ],
      "text/plain": [
       "⎡   ⎛√2⋅s    ⎞⎤\n",
       "⎢log⎜──── + 1⎟⎥\n",
       "⎣   ⎝ 2      ⎠⎦"
      ]
     },
     "execution_count": 9,
     "metadata": {},
     "output_type": "execute_result"
    }
   ],
   "source": [
    "s = symbols('s')\n",
    "ts = solve(Eq(s,st), t)\n",
    "ts"
   ]
  },
  {
   "cell_type": "code",
   "execution_count": 16,
   "metadata": {
    "collapsed": false
   },
   "outputs": [
    {
     "data": {
      "image/png": "[encoded data removed]",
      "text/latex": [
       "$$\\left(\\frac{\\sqrt{2} s}{2} + 1\\right) \\operatorname{sin}\\left(\\operatorname{log}\\left(\\frac{\\sqrt{2} s}{2} + 1\\right)\\right)\\mathbf{\\hat{n}_x} + \\left(\\frac{\\sqrt{2} s}{2} + 1\\right) \\operatorname{cos}\\left(\\operatorname{log}\\left(\\frac{\\sqrt{2} s}{2} + 1\\right)\\right)\\mathbf{\\hat{n}_y}$$"
      ],
      "text/plain": [
       "⎛√2⋅s    ⎞    ⎛   ⎛√2⋅s    ⎞⎞\n",
       "⎜──── + 1⎟⋅sin⎜log⎜──── + 1⎟⎟\n",
       "⎝ 2      ⎠    ⎝   ⎝ 2      ⎠⎠ n_x + ⎛√2⋅s    ⎞    ⎛   ⎛√2⋅s    ⎞⎞\n",
       "⎜──── + 1⎟⋅cos⎜log⎜──── + 1⎟⎟\n",
       "⎝ 2      ⎠    ⎝   ⎝ 2      ⎠⎠ n_y"
      ]
     },
     "execution_count": 16,
     "metadata": {},
     "output_type": "execute_result"
    }
   ],
   "source": [
    "rs = rt.subs(t,ts[0])\n",
    "rs"
   ]
  },
  {
   "cell_type": "markdown",
   "metadata": {},
   "source": [
    "### Problem 2 Solution\n",
    "$\\newcommand{srt}{\\left(\\frac{s\\sqrt{2}}{2} + 1\\right)}$\n",
    "$t = \\ln\\srt$\n",
    "\n",
    "$\\vec{r}(s) = \\srt\\sin\\left(\\ln\\srt\\right)\\i+\\srt\\cos\\left(\\ln\\srt\\right)\\j$"
   ]
  },
  {
   "cell_type": "markdown",
   "metadata": {},
   "source": [
    "### Problem 3\n",
    "\n",
    "Using the result from the previous problem, find the coordinates of the point, accurate to the nearest $0.1$, at a distance of 120 along the curve from $(0,1)$."
   ]
  },
  {
   "cell_type": "code",
   "execution_count": 20,
   "metadata": {
    "collapsed": false
   },
   "outputs": [
    {
     "data": {
      "image/png": "[encoded data removed]",
      "text/latex": [
       "$$- 82.9727121347722\\mathbf{\\hat{n}_x} - 22.0507294320391\\mathbf{\\hat{n}_y}$$"
      ],
      "text/plain": [
       "- 82.9727121347722 n_x - 22.0507294320391 n_y"
      ]
     },
     "execution_count": 20,
     "metadata": {},
     "output_type": "execute_result"
    }
   ],
   "source": [
    "rs.subs(s,120).applyfunc(lambda expr: expr.n())"
   ]
  },
  {
   "cell_type": "markdown",
   "metadata": {},
   "source": [
    "### Problem 3 Solution\n",
    "\n",
    "The points coordinates are approximately $(-83.0, -22.1)$."
   ]
  },
  {
   "cell_type": "markdown",
   "metadata": {},
   "source": [
    "### Problem 4\n",
    "\n",
    "Find the curvature $\\kappa(t)$."
   ]
  },
  {
   "cell_type": "code",
   "execution_count": 21,
   "metadata": {
    "collapsed": false
   },
   "outputs": [
    {
     "data": {
      "image/png": "[encoded data removed]",
      "text/latex": [
       "$$2 e^{t} \\operatorname{cos}\\left(t\\right)\\mathbf{\\hat{n}_x} -  2 e^{t} \\operatorname{sin}\\left(t\\right)\\mathbf{\\hat{n}_y}$$"
      ],
      "text/plain": [
       "   t       \n",
       "2⋅ℯ ⋅cos(t) n_x +     t       \n",
       "-2⋅ℯ ⋅sin(t) n_y"
      ]
     },
     "execution_count": 21,
     "metadata": {},
     "output_type": "execute_result"
    }
   ],
   "source": [
    "ddrt = drt.diff(t,N)\n",
    "ddrt"
   ]
  },
  {
   "cell_type": "code",
   "execution_count": 26,
   "metadata": {
    "collapsed": false
   },
   "outputs": [
    {
     "data": {
      "image/png": "[encoded data removed]",
      "text/latex": [
       "$$\\frac{\\sqrt{2}}{2 e^{t}}$$"
      ],
      "text/plain": [
       "    -t\n",
       "√2⋅ℯ  \n",
       "──────\n",
       "  2   "
      ]
     },
     "execution_count": 26,
     "metadata": {},
     "output_type": "execute_result"
    }
   ],
   "source": [
    "kappa = simplify(((drt.cross(ddrt)).magnitude() / drt.magnitude()**3).combsimp())\n",
    "kappa"
   ]
  },
  {
   "cell_type": "markdown",
   "metadata": {},
   "source": [
    "### Problem 4 Solution\n",
    "\n",
    "$\\kappa(t) = \\dfrac{\\sqrt{2}}{2e^t}$"
   ]
  },
  {
   "cell_type": "markdown",
   "metadata": {},
   "source": [
    "### Problem 5\n",
    "\n",
    "Use the relation between $t$ and $s$ from problem 2 to parameterize $\\kappa$ in terms of $s$; i.e. find $\\kappa(s)$. From this result find the values of $\\kappa(0)$ and $\\kappa(5)$, the curvature at $(0,1)$ and the point five units along the curve $(0,1)$, respectively."
   ]
  },
  {
   "cell_type": "code",
   "execution_count": 28,
   "metadata": {
    "collapsed": false
   },
   "outputs": [
    {
     "data": {
      "image/png": "[encoded data removed]",
      "text/latex": [
       "$$\\frac{\\sqrt{2}}{\\sqrt{2} s + 2}$$"
      ],
      "text/plain": [
       "     √2     \n",
       "────────────\n",
       "  ⎛√2⋅s    ⎞\n",
       "2⋅⎜──── + 1⎟\n",
       "  ⎝ 2      ⎠"
      ]
     },
     "execution_count": 28,
     "metadata": {},
     "output_type": "execute_result"
    }
   ],
   "source": [
    "kappas = kappa.subs({t:ts[0]})\n",
    "kappas"
   ]
  },
  {
   "cell_type": "code",
   "execution_count": 29,
   "metadata": {
    "collapsed": false
   },
   "outputs": [
    {
     "data": {
      "image/png": "[encoded data removed]",
      "text/latex": [
       "$$\\frac{\\sqrt{2}}{2}$$"
      ],
      "text/plain": [
       "√2\n",
       "──\n",
       "2 "
      ]
     },
     "execution_count": 29,
     "metadata": {},
     "output_type": "execute_result"
    }
   ],
   "source": [
    "kappas.subs({s:0})"
   ]
  },
  {
   "cell_type": "code",
   "execution_count": 31,
   "metadata": {
    "collapsed": false
   },
   "outputs": [
    {
     "data": {
      "image/png": "[encoded data removed]",
      "text/latex": [
       "$$0.707106781186548$$"
      ],
      "text/plain": [
       "0.707106781186548"
      ]
     },
     "execution_count": 31,
     "metadata": {},
     "output_type": "execute_result"
    }
   ],
   "source": [
    "kappas.subs({s:0}).n()"
   ]
  },
  {
   "cell_type": "code",
   "execution_count": 30,
   "metadata": {
    "collapsed": false
   },
   "outputs": [
    {
     "data": {
      "image/png": "[encoded data removed]",
      "text/latex": [
       "$$\\frac{\\sqrt{2}}{2 + 5 \\sqrt{2}}$$"
      ],
      "text/plain": [
       "     √2     \n",
       "────────────\n",
       "  ⎛    5⋅√2⎞\n",
       "2⋅⎜1 + ────⎟\n",
       "  ⎝     2  ⎠"
      ]
     },
     "execution_count": 30,
     "metadata": {},
     "output_type": "execute_result"
    }
   ],
   "source": [
    "kappas.subs({s:5})"
   ]
  },
  {
   "cell_type": "code",
   "execution_count": 32,
   "metadata": {
    "collapsed": false
   },
   "outputs": [
    {
     "data": {
      "image/png": "[encoded data removed]",
      "text/latex": [
       "$$0.155903758157692$$"
      ],
      "text/plain": [
       "0.155903758157692"
      ]
     },
     "execution_count": 32,
     "metadata": {},
     "output_type": "execute_result"
    }
   ],
   "source": [
    "kappas.subs({s:5}).n()"
   ]
  },
  {
   "cell_type": "markdown",
   "metadata": {},
   "source": [
    "### Problem 5 Solutions\n",
    "\n",
    "$\\kappa(x) = \\dfrac{\\sqrt{2}}{2 + s\\sqrt{2}}$\n",
    "\n",
    "$\\kappa(0) = \\dfrac{\\sqrt{2}}{2} \\approx 0.7071$\n",
    "\n",
    "$\\kappa(5) = \\dfrac{\\sqrt{2}}{2 + 5\\sqrt{2}} \\approx 0.1559$"
   ]
  },
  {
   "cell_type": "code",
   "execution_count": null,
   "metadata": {
    "collapsed": true
   },
   "outputs": [],
   "source": []
  }
 ],
 "metadata": {
  "hide_input": false,
  "kernelspec": {
   "display_name": "Python 3",
   "language": "python",
   "name": "python3"
  },
  "language_info": {
   "codemirror_mode": {
    "name": "ipython",
    "version": 3
   },
   "file_extension": ".py",
   "mimetype": "text/x-python",
   "name": "python",
   "nbconvert_exporter": "python",
   "pygments_lexer": "ipython3",
   "version": "3.5.1"
  },
  "latex_envs": {
   "bibliofile": "biblio.bib",
   "cite_by": "apalike",
   "current_citInitial": 1,
   "eqLabelWithNumbers": true,
   "eqNumInitial": 0
  }
 },
 "nbformat": 4,
 "nbformat_minor": 0
}
