{
 "cells": [
  {
   "cell_type": "code",
   "execution_count": 1,
   "metadata": {
    "collapsed": false,
    "hide_input": true
   },
   "outputs": [
    {
     "data": {
      "text/html": [
       "<script>\n",
       "code_show=true; \n",
       "function code_toggle() {\n",
       " if (code_show){\n",
       " $('div.input').hide();\n",
       " } else {\n",
       " $('div.input').show();\n",
       " }\n",
       " code_show = !code_show\n",
       "} \n",
       "$( document ).ready(code_toggle);\n",
       "</script>"
      ],
      "text/plain": [
       "<IPython.core.display.HTML object>"
      ]
     },
     "execution_count": 1,
     "metadata": {},
     "output_type": "execute_result"
    }
   ],
   "source": [
    "from IPython.display import HTML\n",
    "HTML('''<script>\n",
    "code_show=true; \n",
    "function code_toggle() {\n",
    " if (code_show){\n",
    " $('div.input').hide();\n",
    " } else {\n",
    " $('div.input').show();\n",
    " }\n",
    " code_show = !code_show\n",
    "} \n",
    "$( document ).ready(code_toggle);\n",
    "</script>''')"
   ]
  },
  {
   "cell_type": "markdown",
   "metadata": {},
   "source": [
    "$\n",
    "\\newcommand{i}{\\mathbf{\\hat{\\imath}}}\n",
    "\\newcommand{j}{\\mathbf{\\hat{\\jmath}}}\n",
    "\\newcommand{k}{\\mathbf{\\hat{k}}}\n",
    "\\newcommand{lv}[1]{\\left<#1\\right>}\n",
    "\\newcommand{pd}[1]{\\dfrac{\\partial}{\\partial#1}}\n",
    "\\newcommand{pd}[2]{\\dfrac{\\partial #1}{\\partial #2}}\n",
    "\\renewcommand{iint}{\\int\\!\\!\\!\\!\\int}\n",
    "\\renewcommand{vec}[1]{\\mathbf #1}\n",
    "$"
   ]
  },
  {
   "cell_type": "code",
   "execution_count": 2,
   "metadata": {
    "collapsed": false,
    "hide_input": true,
    "run_control": {
     "marked": true
    }
   },
   "outputs": [
    {
     "name": "stdout",
     "output_type": "stream",
     "text": [
      "IPython console for SymPy 1.0 (Python 3.5.1-64-bit) (ground types: python)\n",
      "\n",
      "These commands were executed:\n",
      ">>> from __future__ import division\n",
      ">>> from sympy import *\n",
      ">>> x, y, z, t = symbols('x y z t')\n",
      ">>> k, m, n = symbols('k m n', integer=True)\n",
      ">>> f, g, h = symbols('f g h', cls=Function)\n",
      ">>> init_printing()\n",
      "\n",
      "Documentation can be found at http://docs.sympy.org/1.0/\n"
     ]
    }
   ],
   "source": [
    "from sympy import init_session\n",
    "init_session()"
   ]
  },
  {
   "cell_type": "code",
   "execution_count": 3,
   "metadata": {
    "collapsed": true,
    "hide_input": false,
    "run_control": {
     "marked": false
    }
   },
   "outputs": [],
   "source": [
    "from sympy.physics.vector import *\n",
    "N = ReferenceFrame('N')\n",
    "\n",
    "t = symbols('t', positive=True)"
   ]
  },
  {
   "cell_type": "markdown",
   "metadata": {
    "hide_input": true
   },
   "source": [
    "# Assignment 7\n",
    "\n",
    "Take notes on [video lecture 23 (flux)](http://ocw.mit.edu/courses/mathematics/18-02-multivariable-calculus-fall-2007/video-lectures/lecture-23-flux/), then do the problems below.\n",
    "\n",
    "Let $C$ be the unit circle, oriented counterclockwise, and consider the vector field $\\vec{F}(x,y) = xy\\,\\i + y^2\\,\\j$\n",
    "\n",
    "1) Find the flux of $\\vec{F}$ through $C$ by direct calculation (evaluating a line integral).\n",
    "\n",
    "2) Find the flux of $\\vec{F}$ through $C$ using Green's theorem.\n",
    "\n",
    "This assignment is worth 20 points; 5 points for each problem and 10 points for the lecture notes. Grading of the lecture notes will based on my subjective evaluation of their quality and completness."
   ]
  },
  {
   "cell_type": "markdown",
   "metadata": {
    "hide_input": true
   },
   "source": [
    "### Net Flow Along a Curve and Net Flux Across a Curve\n",
    "\n",
    "Let $\\vec{F}(x,y) = M(x,y)\\i + N(x,y)\\j$ be a field and $C$ be a positively oriented curve. The net flow of $\\vec{F}$ along $C$ is given by\n",
    "\n",
    "$$\\int_C \\vec{F}\\cdot \\vec{T}\\,ds = \\int_C M\\,dx + N\\,dy$$\n",
    "\n",
    "where $\\vec{T}$ is the unit tangent vector to $C$\n",
    "\n",
    "The net flux of $\\vec{F}$ through $C$ is given by\n",
    "\n",
    "$$\\int_C \\vec{F}\\cdot \\vec{n}\\,ds = \\int_C M\\,dy - N\\,dx$$\n",
    "\n",
    "where $\\vec{n}$ is the unit normal vector to $C$, clockwise to $C$"
   ]
  },
  {
   "cell_type": "code",
   "execution_count": 4,
   "metadata": {
    "collapsed": false,
    "hide_input": true
   },
   "outputs": [
    {
     "name": "stdout",
     "output_type": "stream",
     "text": [
      "sin(t)**3 + sin(t)*cos(t)**2 ; sin(t)\n"
     ]
    },
    {
     "data": {
      "image/png": "[encoded data removed]",
      "text/latex": [
       "$$0$$"
      ],
      "text/plain": [
       "0"
      ]
     },
     "execution_count": 4,
     "metadata": {},
     "output_type": "execute_result"
    }
   ],
   "source": [
    "F = x*y*N.x + y**2*N.y\n",
    "\n",
    "xt = cos(t)\n",
    "yt = sin(t)\n",
    "\n",
    "dxt = diff(xt,t)\n",
    "dyt = diff(yt,t)\n",
    "\n",
    "Mxy = F.dot(N.x)\n",
    "Nxy = F.dot(N.y)\n",
    "\n",
    "integrand = Mxy.subs({x:xt, y:yt})*dyt - Nxy.subs({x:xt,y:yt})*dxt\n",
    "print(integrand, ';', simplify(integrand.combsimp()))\n",
    "\n",
    "integrate(Mxy.subs({x:xt, y:yt})*dyt - Nxy.subs({x:xt,y:yt})*dxt, (t,0,2*pi))"
   ]
  },
  {
   "cell_type": "markdown",
   "metadata": {},
   "source": [
    "### Green's Theorem; Tangential and Normal Forms\n",
    "\n",
    "The tangential form of Green's Theorem is\n",
    "\n",
    "$$\\oint_C M\\,dx + N\\,dy = \\iint_D \\left(\\pd{N}{x} - \\pd{M}{y}\\right)\\,dA$$\n",
    "\n",
    "The normal form of Green's Theorem is\n",
    "\n",
    "$$\\oint_C M\\,dy - N\\,dx = \\iint_D \\left(\\pd{M}{x} + \\pd{N}{y}\\right)\\,dA$$"
   ]
  },
  {
   "cell_type": "code",
   "execution_count": 5,
   "metadata": {
    "collapsed": false
   },
   "outputs": [
    {
     "data": {
      "image/png": "[encoded data removed]",
      "text/latex": [
       "$$3 y$$"
      ],
      "text/plain": [
       "3⋅y"
      ]
     },
     "execution_count": 5,
     "metadata": {},
     "output_type": "execute_result"
    }
   ],
   "source": [
    "integrand = diff(Mxy,x) + diff(Nxy,y)\n",
    "integrand"
   ]
  },
  {
   "cell_type": "code",
   "execution_count": 6,
   "metadata": {
    "collapsed": true
   },
   "outputs": [],
   "source": [
    "r, theta = symbols('r theta')"
   ]
  },
  {
   "cell_type": "code",
   "execution_count": 7,
   "metadata": {
    "collapsed": false
   },
   "outputs": [
    {
     "data": {
      "image/png": "[encoded data removed]",
      "text/latex": [
       "$$3 r^{2} \\sin{\\left (\\theta \\right )}$$"
      ],
      "text/plain": [
       "   2       \n",
       "3⋅r ⋅sin(θ)"
      ]
     },
     "execution_count": 7,
     "metadata": {},
     "output_type": "execute_result"
    }
   ],
   "source": [
    "integrand.subs([(y, r*sin(theta))])*r"
   ]
  },
  {
   "cell_type": "code",
   "execution_count": 8,
   "metadata": {
    "collapsed": false,
    "hide_input": true
   },
   "outputs": [
    {
     "data": {
      "image/png": "[encoded data removed]",
      "text/latex": [
       "$$0$$"
      ],
      "text/plain": [
       "0"
      ]
     },
     "execution_count": 8,
     "metadata": {},
     "output_type": "execute_result"
    }
   ],
   "source": [
    "integrate(integrand.subs([(y,r*sin(theta))])*r, (theta,0,2*pi), (r,0,1))"
   ]
  }
 ],
 "metadata": {
  "hide_input": false,
  "kernelspec": {
   "display_name": "Python 3",
   "language": "python",
   "name": "python3"
  },
  "language_info": {
   "codemirror_mode": {
    "name": "ipython",
    "version": 3
   },
   "file_extension": ".py",
   "mimetype": "text/x-python",
   "name": "python",
   "nbconvert_exporter": "python",
   "pygments_lexer": "ipython3",
   "version": "3.5.1"
  },
  "latex_envs": {
   "bibliofile": "biblio.bib",
   "cite_by": "apalike",
   "current_citInitial": 1,
   "eqLabelWithNumbers": true,
   "eqNumInitial": 0
  }
 },
 "nbformat": 4,
 "nbformat_minor": 0
}
