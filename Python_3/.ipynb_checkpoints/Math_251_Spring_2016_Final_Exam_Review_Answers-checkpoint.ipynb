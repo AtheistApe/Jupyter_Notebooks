{
 "cells": [
  {
   "cell_type": "code",
   "execution_count": 1,
   "metadata": {
    "collapsed": false
   },
   "outputs": [
    {
     "name": "stdout",
     "output_type": "stream",
     "text": [
      "IPython console for SymPy 1.0 (Python 3.5.1-64-bit) (ground types: python)\n",
      "\n",
      "These commands were executed:\n",
      ">>> from __future__ import division\n",
      ">>> from sympy import *\n",
      ">>> x, y, z, t = symbols('x y z t')\n",
      ">>> k, m, n = symbols('k m n', integer=True)\n",
      ">>> f, g, h = symbols('f g h', cls=Function)\n",
      ">>> init_printing()\n",
      "\n",
      "Documentation can be found at http://docs.sympy.org/1.0/\n"
     ]
    }
   ],
   "source": [
    "from sympy import init_session\n",
    "init_session()"
   ]
  },
  {
   "cell_type": "code",
   "execution_count": 119,
   "metadata": {
    "collapsed": true
   },
   "outputs": [],
   "source": [
    "%matplotlib inline"
   ]
  },
  {
   "cell_type": "markdown",
   "metadata": {},
   "source": [
    "# Limits"
   ]
  },
  {
   "cell_type": "code",
   "execution_count": 10,
   "metadata": {
    "collapsed": false
   },
   "outputs": [
    {
     "name": "stdout",
     "output_type": "stream",
     "text": [
      "lplus = -oo, lminus = oo\n"
     ]
    }
   ],
   "source": [
    "#1a\n",
    "\n",
    "lplus = limit((x**2 - 8)/(x - 2), x, 2, dir=\"+\")\n",
    "lminus = limit((x**2 - 8)/(x - 2), x, 2, dir=\"-\")\n",
    "\n",
    "print(\"lplus = {}, lminus = {}\".format(lplus,lminus))"
   ]
  },
  {
   "cell_type": "code",
   "execution_count": 13,
   "metadata": {
    "collapsed": false
   },
   "outputs": [
    {
     "data": {
      "image/png": "[encoded data removed]",
      "text/latex": [
       "$$\\frac{3}{5}$$"
      ],
      "text/plain": [
       "3/5"
      ]
     },
     "execution_count": 13,
     "metadata": {},
     "output_type": "execute_result"
    }
   ],
   "source": [
    "#1b\n",
    "\n",
    "limit(sin(3*x)/(5*x), x, 0)"
   ]
  },
  {
   "cell_type": "code",
   "execution_count": 11,
   "metadata": {
    "collapsed": false
   },
   "outputs": [
    {
     "data": {
      "image/png": "[encoded data removed]",
      "text/latex": [
       "$$-3$$"
      ],
      "text/plain": [
       "-3"
      ]
     },
     "execution_count": 11,
     "metadata": {},
     "output_type": "execute_result"
    }
   ],
   "source": [
    "#1c\n",
    "\n",
    "limit((x**2 - x - 2)/(x + 1), x, -1)"
   ]
  },
  {
   "cell_type": "code",
   "execution_count": 14,
   "metadata": {
    "collapsed": false
   },
   "outputs": [
    {
     "data": {
      "image/png": "[encoded data removed]",
      "text/latex": [
       "$$\\frac{1}{4}$$"
      ],
      "text/plain": [
       "1/4"
      ]
     },
     "execution_count": 14,
     "metadata": {},
     "output_type": "execute_result"
    }
   ],
   "source": [
    "#1d\n",
    "\n",
    "limit((sqrt(x) - 2)/(x - 4), x, 4)"
   ]
  },
  {
   "cell_type": "code",
   "execution_count": 12,
   "metadata": {
    "collapsed": false
   },
   "outputs": [
    {
     "data": {
      "image/png": "[encoded data removed]",
      "text/latex": [
       "$$\\frac{1}{2}$$"
      ],
      "text/plain": [
       "1/2"
      ]
     },
     "execution_count": 12,
     "metadata": {},
     "output_type": "execute_result"
    }
   ],
   "source": [
    "#1e\n",
    "\n",
    "limit(x * csc(2*x), x, 0, dir=\"-\")"
   ]
  },
  {
   "cell_type": "code",
   "execution_count": 15,
   "metadata": {
    "collapsed": false
   },
   "outputs": [
    {
     "data": {
      "image/png": "[encoded data removed]",
      "text/latex": [
       "$$0$$"
      ],
      "text/plain": [
       "0"
      ]
     },
     "execution_count": 15,
     "metadata": {},
     "output_type": "execute_result"
    }
   ],
   "source": [
    "#1f\n",
    "\n",
    "limit((2*sqrt(x) + 1/x)/(3*x - 7), x, oo)"
   ]
  },
  {
   "cell_type": "code",
   "execution_count": 18,
   "metadata": {
    "collapsed": false
   },
   "outputs": [
    {
     "data": {
      "image/png": "[encoded data removed]",
      "text/latex": [
       "$$1.5$$"
      ],
      "text/plain": [
       "1.50000000000000"
      ]
     },
     "execution_count": 18,
     "metadata": {},
     "output_type": "execute_result"
    }
   ],
   "source": [
    "#1g\n",
    "\n",
    "limit((3/2)*(x/(x - 1))**(2/3), x, oo)"
   ]
  },
  {
   "cell_type": "code",
   "execution_count": 19,
   "metadata": {
    "collapsed": false
   },
   "outputs": [
    {
     "data": {
      "image/png": "[encoded data removed]",
      "text/latex": [
       "$$- \\frac{1}{2}$$"
      ],
      "text/plain": [
       "-1/2"
      ]
     },
     "execution_count": 19,
     "metadata": {},
     "output_type": "execute_result"
    }
   ],
   "source": [
    "#1h\n",
    "\n",
    "limit(sin(1 - sqrt(x))/(x - 1), x, 1)"
   ]
  },
  {
   "cell_type": "markdown",
   "metadata": {},
   "source": [
    "# Tangent Lines"
   ]
  },
  {
   "cell_type": "code",
   "execution_count": 81,
   "metadata": {
    "collapsed": true
   },
   "outputs": [],
   "source": [
    "def tanline(f, a):\n",
    "    m = diff(f, x).subs({x:a})\n",
    "    fa = f.subs({x:a})\n",
    "    yexact = expand(m*(x - a) + fa)\n",
    "    yapprox = expand(float(m)*(x - float(a)) + float(fa))\n",
    "    return \"yexact = {},  yapprox = {}\".format(yexact, yapprox)"
   ]
  },
  {
   "cell_type": "code",
   "execution_count": 82,
   "metadata": {
    "collapsed": false
   },
   "outputs": [
    {
     "name": "stdout",
     "output_type": "stream",
     "text": [
      "yexact = 27*x/4 - 23/4,  yapprox = 6.75*x - 5.75\n"
     ]
    }
   ],
   "source": [
    "#2a\n",
    "\n",
    "print(tanline(x**3 + 1, S(3)/2))"
   ]
  },
  {
   "cell_type": "code",
   "execution_count": 83,
   "metadata": {
    "collapsed": false
   },
   "outputs": [
    {
     "name": "stdout",
     "output_type": "stream",
     "text": [
      "yexact = -sqrt(3)*x/2 + 1/4 + sqrt(3)*pi/6,  yapprox = -0.866025403784439*x + 1.15689968211711\n"
     ]
    }
   ],
   "source": [
    "#2b\n",
    "\n",
    "print(tanline(cos(x)**2, pi/3))"
   ]
  },
  {
   "cell_type": "code",
   "execution_count": 84,
   "metadata": {
    "collapsed": false
   },
   "outputs": [
    {
     "name": "stdout",
     "output_type": "stream",
     "text": [
      "yexact = x/4 + 5/4,  yapprox = 0.25*x + 1.25\n"
     ]
    }
   ],
   "source": [
    "#2c\n",
    "\n",
    "print(tanline(sqrt(x+1), 3))"
   ]
  },
  {
   "cell_type": "code",
   "execution_count": 85,
   "metadata": {
    "collapsed": false
   },
   "outputs": [
    {
     "name": "stdout",
     "output_type": "stream",
     "text": [
      "yexact = -x/2 + 1,  yapprox = -0.5*x + 1.0\n"
     ]
    }
   ],
   "source": [
    "#2d\n",
    "\n",
    "print(tanline(1/(x**2 + 1), 1))"
   ]
  },
  {
   "cell_type": "code",
   "execution_count": 86,
   "metadata": {
    "collapsed": false
   },
   "outputs": [
    {
     "name": "stdout",
     "output_type": "stream",
     "text": [
      "yexact = x,  yapprox = 1.0*x\n"
     ]
    }
   ],
   "source": [
    "#2e\n",
    "\n",
    "print(tanline(x*sin(x), pi/2))"
   ]
  },
  {
   "cell_type": "code",
   "execution_count": 87,
   "metadata": {
    "collapsed": false
   },
   "outputs": [
    {
     "name": "stdout",
     "output_type": "stream",
     "text": [
      "yexact = x/sqrt(pi) + sqrt(pi)*x - pi**(3/2)/4 + sqrt(pi)/4,  yapprox = 2.33664343445327*x - 0.948968536481548\n"
     ]
    }
   ],
   "source": [
    "#2f\n",
    "\n",
    "print(tanline(sqrt(x)*tan(x), pi/4))"
   ]
  },
  {
   "cell_type": "code",
   "execution_count": 88,
   "metadata": {
    "collapsed": false
   },
   "outputs": [
    {
     "name": "stdout",
     "output_type": "stream",
     "text": [
      "yexact = x,  yapprox = 1.0*x\n"
     ]
    }
   ],
   "source": [
    "#2g\n",
    "\n",
    "print(tanline(x/sin(x), pi/2))"
   ]
  },
  {
   "cell_type": "markdown",
   "metadata": {},
   "source": [
    "# Derivatives; Limit Definition"
   ]
  },
  {
   "cell_type": "code",
   "execution_count": 89,
   "metadata": {
    "collapsed": false
   },
   "outputs": [
    {
     "data": {
      "image/png": "[encoded data removed]",
      "text/latex": [
       "$$7$$"
      ],
      "text/plain": [
       "7"
      ]
     },
     "execution_count": 89,
     "metadata": {},
     "output_type": "execute_result"
    }
   ],
   "source": [
    "#3a\n",
    "\n",
    "diff(x**2 + x, x).subs({x:3})"
   ]
  },
  {
   "cell_type": "code",
   "execution_count": 90,
   "metadata": {
    "collapsed": false
   },
   "outputs": [
    {
     "data": {
      "image/png": "[encoded data removed]",
      "text/latex": [
       "$$-2$$"
      ],
      "text/plain": [
       "-2"
      ]
     },
     "execution_count": 90,
     "metadata": {},
     "output_type": "execute_result"
    }
   ],
   "source": [
    "#3b\n",
    "\n",
    "diff(1 - 2*x, x).subs({x:5})"
   ]
  },
  {
   "cell_type": "code",
   "execution_count": 91,
   "metadata": {
    "collapsed": false
   },
   "outputs": [
    {
     "data": {
      "image/png": "[encoded data removed]",
      "text/latex": [
       "$$12$$"
      ],
      "text/plain": [
       "12"
      ]
     },
     "execution_count": 91,
     "metadata": {},
     "output_type": "execute_result"
    }
   ],
   "source": [
    "#3c\n",
    "\n",
    "diff(x**3, x).subs({x:2})"
   ]
  },
  {
   "cell_type": "code",
   "execution_count": 93,
   "metadata": {
    "collapsed": false
   },
   "outputs": [
    {
     "data": {
      "image/png": "[encoded data removed]",
      "text/latex": [
       "$$- \\frac{1}{a^{2}}$$"
      ],
      "text/plain": [
       "-1 \n",
       "───\n",
       "  2\n",
       " a "
      ]
     },
     "execution_count": 93,
     "metadata": {},
     "output_type": "execute_result"
    }
   ],
   "source": [
    "#3d\n",
    "\n",
    "diff(1/x, x).subs({x:'a'})"
   ]
  },
  {
   "cell_type": "markdown",
   "metadata": {},
   "source": [
    "# Rules of Differentiation"
   ]
  },
  {
   "cell_type": "code",
   "execution_count": 97,
   "metadata": {
    "collapsed": true
   },
   "outputs": [],
   "source": [
    "def d(f):\n",
    "    return diff(f, x).combsimp()"
   ]
  },
  {
   "cell_type": "code",
   "execution_count": 95,
   "metadata": {
    "collapsed": false
   },
   "outputs": [
    {
     "data": {
      "image/png": "[encoded data removed]",
      "text/latex": [
       "$$14 x \\left(x^{2} - 1\\right)^{6}$$"
      ],
      "text/plain": [
       "             6\n",
       "     ⎛ 2    ⎞ \n",
       "14⋅x⋅⎝x  - 1⎠ "
      ]
     },
     "execution_count": 95,
     "metadata": {},
     "output_type": "execute_result"
    }
   ],
   "source": [
    "#4a\n",
    "\n",
    "d((x**2 - 1)**7)"
   ]
  },
  {
   "cell_type": "code",
   "execution_count": 98,
   "metadata": {
    "collapsed": false
   },
   "outputs": [
    {
     "data": {
      "image/png": "[encoded data removed]",
      "text/latex": [
       "$$- \\frac{1}{\\left(x^{2} + 1\\right)^{2}} \\left(x^{2} \\sin{\\left (x \\right )} + 2 x \\cos{\\left (x \\right )} + \\sin{\\left (x \\right )}\\right)$$"
      ],
      "text/plain": [
       " ⎛ 2                             ⎞ \n",
       "-⎝x ⋅sin(x) + 2⋅x⋅cos(x) + sin(x)⎠ \n",
       "───────────────────────────────────\n",
       "                     2             \n",
       "             ⎛ 2    ⎞              \n",
       "             ⎝x  + 1⎠              "
      ]
     },
     "execution_count": 98,
     "metadata": {},
     "output_type": "execute_result"
    }
   ],
   "source": [
    "#4b\n",
    "\n",
    "d(cos(x)/(x**2 + 1))"
   ]
  },
  {
   "cell_type": "code",
   "execution_count": 99,
   "metadata": {
    "collapsed": false
   },
   "outputs": [
    {
     "data": {
      "image/png": "[encoded data removed]",
      "text/latex": [
       "$$\\left(x^{2} \\tan{\\left (x \\right )} + 2 x + \\tan{\\left (x \\right )}\\right) \\sec{\\left (x \\right )}$$"
      ],
      "text/plain": [
       "⎛ 2                      ⎞       \n",
       "⎝x ⋅tan(x) + 2⋅x + tan(x)⎠⋅sec(x)"
      ]
     },
     "execution_count": 99,
     "metadata": {},
     "output_type": "execute_result"
    }
   ],
   "source": [
    "#4c\n",
    "\n",
    "d((x**2 + 1)*sec(x))"
   ]
  },
  {
   "cell_type": "code",
   "execution_count": 100,
   "metadata": {
    "collapsed": false
   },
   "outputs": [
    {
     "data": {
      "image/png": "[encoded data removed]",
      "text/latex": [
       "$$\\frac{\\cos{\\left (x \\right )}}{2 \\sqrt{\\sin{\\left (x \\right )} + 2}}$$"
      ],
      "text/plain": [
       "     cos(x)     \n",
       "────────────────\n",
       "    ____________\n",
       "2⋅╲╱ sin(x) + 2 "
      ]
     },
     "execution_count": 100,
     "metadata": {},
     "output_type": "execute_result"
    }
   ],
   "source": [
    "#4d\n",
    "\n",
    "d(sqrt(2 + sin(x)))"
   ]
  },
  {
   "cell_type": "code",
   "execution_count": 101,
   "metadata": {
    "collapsed": false
   },
   "outputs": [
    {
     "data": {
      "image/png": "[encoded data removed]",
      "text/latex": [
       "$$\\frac{\\tan^{2}{\\left (x \\right )} + 1}{\\tan{\\left (x \\right )} + 1}$$"
      ],
      "text/plain": [
       "   2       \n",
       "tan (x) + 1\n",
       "───────────\n",
       " tan(x) + 1"
      ]
     },
     "execution_count": 101,
     "metadata": {},
     "output_type": "execute_result"
    }
   ],
   "source": [
    "#4e\n",
    "\n",
    "d(ln(1 + tan(x)))"
   ]
  },
  {
   "cell_type": "code",
   "execution_count": 102,
   "metadata": {
    "collapsed": false
   },
   "outputs": [
    {
     "data": {
      "image/png": "[encoded data removed]",
      "text/latex": [
       "$$3 \\left(3 x^{3} + 1\\right) e^{x^{3}}$$"
      ],
      "text/plain": [
       "              ⎛ 3⎞\n",
       "  ⎛   3    ⎞  ⎝x ⎠\n",
       "3⋅⎝3⋅x  + 1⎠⋅ℯ    "
      ]
     },
     "execution_count": 102,
     "metadata": {},
     "output_type": "execute_result"
    }
   ],
   "source": [
    "#4f\n",
    "\n",
    "d(3*x*exp(x**3))"
   ]
  },
  {
   "cell_type": "code",
   "execution_count": 104,
   "metadata": {
    "collapsed": false
   },
   "outputs": [
    {
     "data": {
      "image/png": "[encoded data removed]",
      "text/latex": [
       "$$- \\frac{1}{3 x^{\\frac{11}{6}}} \\left(- 60 x^{\\frac{35}{6}} + 3 x^{\\frac{4}{3}} + 5 \\sqrt{x}\\right)$$"
      ],
      "text/plain": [
       " ⎛      35/6      4/3       ⎞ \n",
       "-⎝- 60⋅x     + 3⋅x    + 5⋅√x⎠ \n",
       "──────────────────────────────\n",
       "              11/6            \n",
       "           3⋅x                "
      ]
     },
     "execution_count": 104,
     "metadata": {},
     "output_type": "execute_result"
    }
   ],
   "source": [
    "#4g\n",
    "\n",
    "d(5/x**(S(1)/3) - 2*sqrt(x) + 4*x**5 - 9)"
   ]
  },
  {
   "cell_type": "code",
   "execution_count": 105,
   "metadata": {
    "collapsed": false
   },
   "outputs": [
    {
     "data": {
      "image/png": "[encoded data removed]",
      "text/latex": [
       "$$x \\sin{\\left (x \\right )}$$"
      ],
      "text/plain": [
       "x⋅sin(x)"
      ]
     },
     "execution_count": 105,
     "metadata": {},
     "output_type": "execute_result"
    }
   ],
   "source": [
    "#4h\n",
    "\n",
    "diff(integrate(t*sin(t), (t, 2, x)), x)"
   ]
  },
  {
   "cell_type": "markdown",
   "metadata": {},
   "source": [
    "# Implicit Differentiation"
   ]
  },
  {
   "cell_type": "code",
   "execution_count": 212,
   "metadata": {
    "collapsed": false
   },
   "outputs": [
    {
     "name": "stdout",
     "output_type": "stream",
     "text": [
      "(3*x**2 - y(x))/(x - 3*y(x)**2)\n"
     ]
    },
    {
     "data": {
      "image/png": "[encoded data removed]",
      "text/latex": [
       "$$- 11 x + 23$$"
      ],
      "text/plain": [
       "-11⋅x + 23"
      ]
     },
     "execution_count": 212,
     "metadata": {},
     "output_type": "execute_result"
    }
   ],
   "source": [
    "#5a\n",
    "\n",
    "expr = diff(x**3 - x*y(x) + y(x)**3, x)\n",
    "P = {x:2, y(x):1}\n",
    "yp = solve(expr, diff(y(x), x))[0]\n",
    "\n",
    "print(yp)\n",
    "\n",
    "yp.subs(P)*(x - P[x]) + P[y(x)]"
   ]
  },
  {
   "cell_type": "code",
   "execution_count": 213,
   "metadata": {
    "collapsed": false
   },
   "outputs": [
    {
     "name": "stdout",
     "output_type": "stream",
     "text": [
      "x*(2*x**2 - 9)/(2*(y(x)**2 - 2)*y(x))\n"
     ]
    },
    {
     "data": {
      "image/png": "[encoded data removed]",
      "text/latex": [
       "$$\\frac{27 x}{8} - \\frac{65}{8}$$"
      ],
      "text/plain": [
       "27⋅x   65\n",
       "──── - ──\n",
       " 8     8 "
      ]
     },
     "execution_count": 213,
     "metadata": {},
     "output_type": "execute_result"
    }
   ],
   "source": [
    "#5b\n",
    "\n",
    "expr = diff(y(x)**4 - 4*y(x)**2 - x**4 + 9*x**2, x)\n",
    "P = {x:3, y(x):2}\n",
    "yp = solve(expr, diff(y(x), x))[0]\n",
    "\n",
    "print(yp)\n",
    "\n",
    "yp.subs(P)*(x - P[x]) + P[y(x)]"
   ]
  },
  {
   "cell_type": "markdown",
   "metadata": {},
   "source": [
    "# Logarithmic Differentiation"
   ]
  },
  {
   "cell_type": "code",
   "execution_count": 109,
   "metadata": {
    "collapsed": false
   },
   "outputs": [
    {
     "data": {
      "image/png": "[encoded data removed]",
      "text/latex": [
       "$$\\left(\\frac{x \\cos{\\left (x \\right )}}{\\sin{\\left (x \\right )}} + \\log{\\left (\\sin{\\left (x \\right )} \\right )}\\right) \\sin^{x}{\\left (x \\right )}$$"
      ],
      "text/plain": [
       "⎛x⋅cos(x)              ⎞    x   \n",
       "⎜──────── + log(sin(x))⎟⋅sin (x)\n",
       "⎝ sin(x)               ⎠        "
      ]
     },
     "execution_count": 109,
     "metadata": {},
     "output_type": "execute_result"
    }
   ],
   "source": [
    "#6a\n",
    "\n",
    "diff(sin(x)**x, x)"
   ]
  },
  {
   "cell_type": "code",
   "execution_count": 112,
   "metadata": {
    "collapsed": false
   },
   "outputs": [
    {
     "data": {
      "image/png": "[encoded data removed]",
      "text/latex": [
       "$$- \\frac{4 x^{5} \\sqrt{3 x^{2} + 9}}{3 \\left(x^{3} + 1\\right)^{5}} + \\frac{x^{4}}{3 \\sqrt{3 x^{2} + 9} \\left(x^{3} + 1\\right)^{4}} + \\frac{x^{2} \\sqrt{3 x^{2} + 9}}{3 \\left(x^{3} + 1\\right)^{4}}$$"
      ],
      "text/plain": [
       "          __________                                     __________\n",
       "     5   ╱    2                     4               2   ╱    2     \n",
       "  4⋅x ⋅╲╱  3⋅x  + 9                x               x ⋅╲╱  3⋅x  + 9 \n",
       "- ────────────────── + ───────────────────────── + ────────────────\n",
       "               5            __________         4               4   \n",
       "       ⎛ 3    ⎞            ╱    2      ⎛ 3    ⎞        ⎛ 3    ⎞    \n",
       "     3⋅⎝x  + 1⎠        3⋅╲╱  3⋅x  + 9 ⋅⎝x  + 1⎠      3⋅⎝x  + 1⎠    "
      ]
     },
     "execution_count": 112,
     "metadata": {},
     "output_type": "execute_result"
    }
   ],
   "source": [
    "#6b\n",
    "\n",
    "diff(x**5 * sqrt(3*x**2 + 9) / (9*x**2 * (x**3 + 1)**4), x)"
   ]
  },
  {
   "cell_type": "markdown",
   "metadata": {},
   "source": [
    "# Discussion of Graphs"
   ]
  },
  {
   "cell_type": "code",
   "execution_count": 127,
   "metadata": {
    "collapsed": false
   },
   "outputs": [
    {
     "name": "stdout",
     "output_type": "stream",
     "text": [
      "[-4/3, 2]\n"
     ]
    },
    {
     "data": {
      "image/png": "[encoded data removed]",
      "text/plain": [
       "<matplotlib.figure.Figure at 0x1142a7f60>"
      ]
     },
     "metadata": {},
     "output_type": "display_data"
    },
    {
     "name": "stdout",
     "output_type": "stream",
     "text": [
      "[1/3]\n"
     ]
    },
    {
     "data": {
      "image/png": "[encoded data removed]",
      "text/plain": [
       "<matplotlib.figure.Figure at 0x114cd6b70>"
      ]
     },
     "metadata": {},
     "output_type": "display_data"
    },
    {
     "data": {
      "text/plain": [
       "<sympy.plotting.plot.Plot at 0x114ce4b70>"
      ]
     },
     "execution_count": 127,
     "metadata": {},
     "output_type": "execute_result"
    }
   ],
   "source": [
    "#9a\n",
    "\n",
    "fx = (x - 2)**2 * (x + 3)\n",
    "dfx = diff(fx, x)\n",
    "d2fx = diff(dfx, x)\n",
    "\n",
    "cpts = solve(dfx)\n",
    "print(cpts)\n",
    "plot(dfx, (x,-3,3))\n",
    "\n",
    "print(solve(d2fx))\n",
    "plot(d2fx, (x,-3,3))"
   ]
  },
  {
   "cell_type": "code",
   "execution_count": 125,
   "metadata": {
    "collapsed": false
   },
   "outputs": [
    {
     "name": "stdout",
     "output_type": "stream",
     "text": [
      "[-1, 1]\n"
     ]
    },
    {
     "data": {
      "image/png": "[encoded data removed]",
      "text/plain": [
       "<matplotlib.figure.Figure at 0x114275cf8>"
      ]
     },
     "metadata": {},
     "output_type": "display_data"
    },
    {
     "name": "stdout",
     "output_type": "stream",
     "text": [
      "[0, -sqrt(3), sqrt(3)]\n"
     ]
    },
    {
     "data": {
      "image/png": "[encoded data removed]",
      "text/plain": [
       "<matplotlib.figure.Figure at 0x114531748>"
      ]
     },
     "metadata": {},
     "output_type": "display_data"
    },
    {
     "data": {
      "text/plain": [
       "<sympy.plotting.plot.Plot at 0x114282dd8>"
      ]
     },
     "execution_count": 125,
     "metadata": {},
     "output_type": "execute_result"
    }
   ],
   "source": [
    "#9b\n",
    "\n",
    "fx = x/(x**2 + 1)\n",
    "dfx = diff(fx, x)\n",
    "d2fx = diff(dfx, x)\n",
    "\n",
    "cpts = solve(dfx)\n",
    "print(cpts)\n",
    "plot(dfx, (x,-3,3))\n",
    "\n",
    "print(solve(d2fx))\n",
    "plot(d2fx, (x,-3,3))"
   ]
  },
  {
   "cell_type": "code",
   "execution_count": 126,
   "metadata": {
    "collapsed": false
   },
   "outputs": [
    {
     "name": "stdout",
     "output_type": "stream",
     "text": [
      "[-1/3 + sqrt(13)/3, -sqrt(13)/3 - 1/3]\n"
     ]
    },
    {
     "data": {
      "image/png": "[encoded data removed]",
      "text/plain": [
       "<matplotlib.figure.Figure at 0x11492c8d0>"
      ]
     },
     "metadata": {},
     "output_type": "display_data"
    },
    {
     "name": "stdout",
     "output_type": "stream",
     "text": [
      "[-1/3]\n"
     ]
    },
    {
     "data": {
      "image/png": "[encoded data removed]",
      "text/plain": [
       "<matplotlib.figure.Figure at 0x114529ac8>"
      ]
     },
     "metadata": {},
     "output_type": "display_data"
    },
    {
     "data": {
      "text/plain": [
       "<sympy.plotting.plot.Plot at 0x114a55ef0>"
      ]
     },
     "execution_count": 126,
     "metadata": {},
     "output_type": "execute_result"
    }
   ],
   "source": [
    "#9c\n",
    "\n",
    "fx = (x**2 - 4)*(x + 1)\n",
    "dfx = diff(fx, x)\n",
    "d2fx = diff(dfx, x)\n",
    "\n",
    "cpts = solve(dfx)\n",
    "print(cpts)\n",
    "plot(dfx, (x,-3,3))\n",
    "\n",
    "print(solve(d2fx))\n",
    "plot(d2fx, (x,-3,3))"
   ]
  },
  {
   "cell_type": "code",
   "execution_count": 133,
   "metadata": {
    "collapsed": false
   },
   "outputs": [
    {
     "name": "stdout",
     "output_type": "stream",
     "text": [
      "[0]\n"
     ]
    },
    {
     "data": {
      "image/png": "[encoded data removed]",
      "text/plain": [
       "<matplotlib.figure.Figure at 0x1151f4588>"
      ]
     },
     "metadata": {},
     "output_type": "display_data"
    },
    {
     "name": "stdout",
     "output_type": "stream",
     "text": [
      "[-sqrt(3)*I/3, sqrt(3)*I/3]\n"
     ]
    },
    {
     "data": {
      "image/png": "[encoded data removed]",
      "text/plain": [
       "<matplotlib.figure.Figure at 0x11528d4a8>"
      ]
     },
     "metadata": {},
     "output_type": "display_data"
    },
    {
     "data": {
      "text/plain": [
       "<sympy.plotting.plot.Plot at 0x11529cc18>"
      ]
     },
     "execution_count": 133,
     "metadata": {},
     "output_type": "execute_result"
    }
   ],
   "source": [
    "#10\n",
    "\n",
    "fx = (1 + x**2) / (1 - x**2)\n",
    "dfx = diff(fx, x)\n",
    "d2fx = diff(dfx, x)\n",
    "\n",
    "cpts = solve(dfx)\n",
    "print(cpts)\n",
    "plot(dfx, (x,-3,3), ylim=(-10,10))\n",
    "\n",
    "print(solve(d2fx))\n",
    "plot(d2fx, (x,-3,3), ylim=(-10,10))"
   ]
  },
  {
   "cell_type": "markdown",
   "metadata": {},
   "source": [
    "# Antiderivatives"
   ]
  },
  {
   "cell_type": "code",
   "execution_count": 134,
   "metadata": {
    "collapsed": false
   },
   "outputs": [
    {
     "data": {
      "image/png": "[encoded data removed]",
      "text/latex": [
       "$$\\sin{\\left (x \\right )}$$"
      ],
      "text/plain": [
       "sin(x)"
      ]
     },
     "execution_count": 134,
     "metadata": {},
     "output_type": "execute_result"
    }
   ],
   "source": [
    "#11a\n",
    "\n",
    "integrate(cos(x), x)"
   ]
  },
  {
   "cell_type": "code",
   "execution_count": 135,
   "metadata": {
    "collapsed": false
   },
   "outputs": [
    {
     "data": {
      "image/png": "[encoded data removed]",
      "text/latex": [
       "$$\\frac{3 \\sin{\\left (x \\right )}}{\\cos{\\left (x \\right )}} + \\cos{\\left (x \\right )}$$"
      ],
      "text/plain": [
       "3⋅sin(x)         \n",
       "──────── + cos(x)\n",
       " cos(x)          "
      ]
     },
     "execution_count": 135,
     "metadata": {},
     "output_type": "execute_result"
    }
   ],
   "source": [
    "#11b\n",
    "\n",
    "integrate(3*sec(x)**2 - sin(x), x)"
   ]
  },
  {
   "cell_type": "code",
   "execution_count": 137,
   "metadata": {
    "collapsed": false
   },
   "outputs": [
    {
     "data": {
      "image/png": "[encoded data removed]",
      "text/latex": [
       "$$x^{4} - x^{3}$$"
      ],
      "text/plain": [
       " 4    3\n",
       "x  - x "
      ]
     },
     "execution_count": 137,
     "metadata": {},
     "output_type": "execute_result"
    }
   ],
   "source": [
    "#11c\n",
    "\n",
    "integrate(4*x**3 - 3*x**2, x)"
   ]
  },
  {
   "cell_type": "code",
   "execution_count": 138,
   "metadata": {
    "collapsed": false
   },
   "outputs": [
    {
     "data": {
      "image/png": "[encoded data removed]",
      "text/latex": [
       "$$\\frac{4 x^{\\frac{3}{2}}}{3} + 5 x$$"
      ],
      "text/plain": [
       "   3/2      \n",
       "4⋅x         \n",
       "────── + 5⋅x\n",
       "  3         "
      ]
     },
     "execution_count": 138,
     "metadata": {},
     "output_type": "execute_result"
    }
   ],
   "source": [
    "#11d\n",
    "\n",
    "integrate(2*sqrt(x) + 5, x)"
   ]
  },
  {
   "cell_type": "code",
   "execution_count": 139,
   "metadata": {
    "collapsed": false
   },
   "outputs": [
    {
     "data": {
      "image/png": "[encoded data removed]",
      "text/latex": [
       "$$2 \\operatorname{atan}{\\left (x \\right )}$$"
      ],
      "text/plain": [
       "2⋅atan(x)"
      ]
     },
     "execution_count": 139,
     "metadata": {},
     "output_type": "execute_result"
    }
   ],
   "source": [
    "#11e\n",
    "\n",
    "integrate(2 / (1 + x**2), x)"
   ]
  },
  {
   "cell_type": "code",
   "execution_count": 140,
   "metadata": {
    "collapsed": false
   },
   "outputs": [
    {
     "data": {
      "image/png": "[encoded data removed]",
      "text/latex": [
       "$$- \\frac{1}{\\sin{\\left (x \\right )}}$$"
      ],
      "text/plain": [
       " -1   \n",
       "──────\n",
       "sin(x)"
      ]
     },
     "execution_count": 140,
     "metadata": {},
     "output_type": "execute_result"
    }
   ],
   "source": [
    "#11f\n",
    "\n",
    "integrate(csc(x) * cot(x), x)"
   ]
  },
  {
   "cell_type": "code",
   "execution_count": 141,
   "metadata": {
    "collapsed": false
   },
   "outputs": [
    {
     "data": {
      "image/png": "[encoded data removed]",
      "text/latex": [
       "$$- \\frac{1}{10} \\cos{\\left (10 x \\right )}$$"
      ],
      "text/plain": [
       "-cos(10⋅x) \n",
       "───────────\n",
       "     10    "
      ]
     },
     "execution_count": 141,
     "metadata": {},
     "output_type": "execute_result"
    }
   ],
   "source": [
    "#11g\n",
    "\n",
    "integrate(sin(10*x), x)"
   ]
  },
  {
   "cell_type": "markdown",
   "metadata": {},
   "source": [
    "# Riemann Sums"
   ]
  },
  {
   "cell_type": "code",
   "execution_count": 154,
   "metadata": {
    "collapsed": false
   },
   "outputs": [
    {
     "name": "stdout",
     "output_type": "stream",
     "text": [
      "6.25000000000000\n"
     ]
    }
   ],
   "source": [
    "#12a\n",
    "\n",
    "fx = 4/x\n",
    "a = 1\n",
    "b = 4\n",
    "n = 4\n",
    "\n",
    "dx = (b-a)/n\n",
    "\n",
    "sum = 0\n",
    "for xi in numpy.linspace(a, b, n):\n",
    "    sum += fx.subs({x:xi})*dx\n",
    "\n",
    "print(sum)\n",
    "\n"
   ]
  },
  {
   "cell_type": "code",
   "execution_count": 156,
   "metadata": {
    "collapsed": false
   },
   "outputs": [
    {
     "name": "stdout",
     "output_type": "stream",
     "text": [
      "[ 0.   0.5  1.   1.5  2. ]\n",
      "3.00000000000000\n"
     ]
    }
   ],
   "source": [
    "#12b\n",
    "\n",
    "fx = x**2\n",
    "a = 0\n",
    "b = 2\n",
    "n = 5\n",
    "\n",
    "dx = (b-a)/n\n",
    "\n",
    "print(numpy.linspace(a, b, n))\n",
    "\n",
    "sum = 0.25\n",
    "for xi in numpy.linspace(a, b, n):\n",
    "    sum += fx.subs({x:xi})*dx\n",
    "    \n",
    "print(sum)"
   ]
  },
  {
   "cell_type": "code",
   "execution_count": 157,
   "metadata": {
    "collapsed": false
   },
   "outputs": [
    {
     "data": {
      "image/png": "[encoded data removed]",
      "text/latex": [
       "$$7.5$$"
      ],
      "text/plain": [
       "7.5"
      ]
     },
     "execution_count": 157,
     "metadata": {},
     "output_type": "execute_result"
    }
   ],
   "source": [
    "1/4 + 1 + (3/2)**2 + 4"
   ]
  },
  {
   "cell_type": "markdown",
   "metadata": {},
   "source": [
    "# The Fundamental Theorem of Calculus"
   ]
  },
  {
   "cell_type": "code",
   "execution_count": 158,
   "metadata": {
    "collapsed": false
   },
   "outputs": [
    {
     "data": {
      "image/png": "[encoded data removed]",
      "text/latex": [
       "$$4 \\log{\\left (4 \\right )}$$"
      ],
      "text/plain": [
       "4⋅log(4)"
      ]
     },
     "execution_count": 158,
     "metadata": {},
     "output_type": "execute_result"
    }
   ],
   "source": [
    "#13a\n",
    "\n",
    "integrate(4/x, (x,1,4))"
   ]
  },
  {
   "cell_type": "code",
   "execution_count": 159,
   "metadata": {
    "collapsed": false
   },
   "outputs": [
    {
     "data": {
      "image/png": "[encoded data removed]",
      "text/latex": [
       "$$\\frac{8}{3}$$"
      ],
      "text/plain": [
       "8/3"
      ]
     },
     "execution_count": 159,
     "metadata": {},
     "output_type": "execute_result"
    }
   ],
   "source": [
    "#13b\n",
    "\n",
    "integrate(x**2, (x,0,2))"
   ]
  },
  {
   "cell_type": "code",
   "execution_count": 160,
   "metadata": {
    "collapsed": false
   },
   "outputs": [
    {
     "data": {
      "image/png": "[encoded data removed]",
      "text/latex": [
       "$$2$$"
      ],
      "text/plain": [
       "2"
      ]
     },
     "execution_count": 160,
     "metadata": {},
     "output_type": "execute_result"
    }
   ],
   "source": [
    "#13c\n",
    "\n",
    "integrate(sin(x), (x,0,pi))"
   ]
  },
  {
   "cell_type": "code",
   "execution_count": 161,
   "metadata": {
    "collapsed": false
   },
   "outputs": [
    {
     "data": {
      "image/png": "[encoded data removed]",
      "text/latex": [
       "$$1$$"
      ],
      "text/plain": [
       "1"
      ]
     },
     "execution_count": 161,
     "metadata": {},
     "output_type": "execute_result"
    }
   ],
   "source": [
    "#13d\n",
    "\n",
    "integrate(3*x**2 - 4*x + 2, (x,0,1))"
   ]
  },
  {
   "cell_type": "code",
   "execution_count": 163,
   "metadata": {
    "collapsed": false
   },
   "outputs": [
    {
     "data": {
      "image/png": "[encoded data removed]",
      "text/latex": [
       "$$1$$"
      ],
      "text/plain": [
       "1"
      ]
     },
     "execution_count": 163,
     "metadata": {},
     "output_type": "execute_result"
    }
   ],
   "source": [
    "#13e\n",
    "\n",
    "integrate(1/x, (x,1,exp(1)))"
   ]
  },
  {
   "cell_type": "code",
   "execution_count": 164,
   "metadata": {
    "collapsed": false
   },
   "outputs": [
    {
     "data": {
      "image/png": "[encoded data removed]",
      "text/latex": [
       "$$6$$"
      ],
      "text/plain": [
       "6"
      ]
     },
     "execution_count": 164,
     "metadata": {},
     "output_type": "execute_result"
    }
   ],
   "source": [
    "integrate(3/sqrt(x), (x,4,9))"
   ]
  },
  {
   "cell_type": "code",
   "execution_count": 166,
   "metadata": {
    "collapsed": false
   },
   "outputs": [
    {
     "name": "stdout",
     "output_type": "stream",
     "text": [
      "A1 = 4, A2 = 65/4 and A1 + A2 = 81/4\n"
     ]
    }
   ],
   "source": [
    "#14\n",
    "\n",
    "A1 = -integrate(x**3, (x,-2,0))\n",
    "A2 = integrate(x**3, (x,2,3))\n",
    "\n",
    "print(\"A1 = {}, A2 = {} and A1 + A2 = {}\".format(A1,A2,A1+A2))"
   ]
  },
  {
   "cell_type": "code",
   "execution_count": 168,
   "metadata": {
    "collapsed": false
   },
   "outputs": [
    {
     "data": {
      "image/png": "[encoded data removed]",
      "text/latex": [
       "$$-0.0992277876713668$$"
      ],
      "text/plain": [
       "-0.0992277876713668"
      ]
     },
     "execution_count": 168,
     "metadata": {},
     "output_type": "execute_result"
    }
   ],
   "source": [
    "-4*0.2/sqrt(65.0)"
   ]
  },
  {
   "cell_type": "code",
   "execution_count": 170,
   "metadata": {
    "collapsed": false
   },
   "outputs": [
    {
     "data": {
      "image/png": "[encoded data removed]",
      "text/latex": [
       "$$-0.0248069469178417$$"
      ],
      "text/plain": [
       "-0.0248069469178417"
      ]
     },
     "execution_count": 170,
     "metadata": {},
     "output_type": "execute_result"
    }
   ],
   "source": [
    "-0.2/sqrt(65.0)"
   ]
  },
  {
   "cell_type": "code",
   "execution_count": 171,
   "metadata": {
    "collapsed": false
   },
   "outputs": [
    {
     "data": {
      "image/png": "[encoded data removed]",
      "text/latex": [
       "$$-0.48$$"
      ],
      "text/plain": [
       "-0.48"
      ]
     },
     "execution_count": 171,
     "metadata": {},
     "output_type": "execute_result"
    }
   ],
   "source": [
    "0.4*-1.2"
   ]
  },
  {
   "cell_type": "code",
   "execution_count": 173,
   "metadata": {
    "collapsed": false
   },
   "outputs": [
    {
     "data": {
      "image/png": "[encoded data removed]",
      "text/latex": [
       "$$\\left [ 0.0714285714285715\\right ]$$"
      ],
      "text/plain": [
       "[0.0714285714285715]"
      ]
     },
     "execution_count": 173,
     "metadata": {},
     "output_type": "execute_result"
    }
   ],
   "source": [
    "V = 0.2\n",
    "P = 80\n",
    "dPdt = -0.5\n",
    "\n",
    "solve(1.4*V**0.4 * x + dPdt*V**1.4, x)"
   ]
  },
  {
   "cell_type": "code",
   "execution_count": 189,
   "metadata": {
    "collapsed": false
   },
   "outputs": [
    {
     "name": "stdout",
     "output_type": "stream",
     "text": [
      "{0, -3, 2, sqrt(2), -sqrt(2)}\n",
      "{2, -2, 47}\n"
     ]
    }
   ],
   "source": [
    "f = x**4 - 4*x**2 + 2\n",
    "cvals = set(solve(diff(f,x)))\n",
    "cvals = cvals.union({-3,2})\n",
    "print(cvals)\n",
    "\n",
    "fvals = {f.subs(x,a) for a in cvals}\n",
    "print(fvals)\n",
    "\n"
   ]
  },
  {
   "cell_type": "code",
   "execution_count": 177,
   "metadata": {
    "collapsed": false
   },
   "outputs": [
    {
     "data": {
      "image/png": "[encoded data removed]",
      "text/plain": [
       "<matplotlib.figure.Figure at 0x115406160>"
      ]
     },
     "metadata": {},
     "output_type": "display_data"
    },
    {
     "data": {
      "text/plain": [
       "<sympy.plotting.plot.Plot at 0x115406898>"
      ]
     },
     "execution_count": 177,
     "metadata": {},
     "output_type": "execute_result"
    }
   ],
   "source": [
    "plot(f, (x,-3,2))"
   ]
  },
  {
   "cell_type": "code",
   "execution_count": 190,
   "metadata": {
    "collapsed": false
   },
   "outputs": [
    {
     "data": {
      "image/png": "[encoded data removed]",
      "text/latex": [
       "$$4000.0$$"
      ],
      "text/plain": [
       "4000.0"
      ]
     },
     "execution_count": 190,
     "metadata": {},
     "output_type": "execute_result"
    }
   ],
   "source": [
    "0.25*(1200*20 - 20**3)"
   ]
  },
  {
   "cell_type": "code",
   "execution_count": 193,
   "metadata": {
    "collapsed": false
   },
   "outputs": [
    {
     "data": {
      "image/png": "[encoded data removed]",
      "text/latex": [
       "$$- \\frac{3 x^{2}}{\\left(x - 3\\right)^{2}} + \\frac{6 x}{x - 3}$$"
      ],
      "text/plain": [
       "       2          \n",
       "    3⋅x       6⋅x \n",
       "- ──────── + ─────\n",
       "         2   x - 3\n",
       "  (x - 3)         "
      ]
     },
     "execution_count": 193,
     "metadata": {},
     "output_type": "execute_result"
    }
   ],
   "source": [
    "dfx = diff(3*x**2 / (x - 3), x)\n",
    "dfx"
   ]
  },
  {
   "cell_type": "code",
   "execution_count": 194,
   "metadata": {
    "collapsed": false
   },
   "outputs": [
    {
     "data": {
      "image/png": "[encoded data removed]",
      "text/latex": [
       "$$\\left [ 0, \\quad 6\\right ]$$"
      ],
      "text/plain": [
       "[0, 6]"
      ]
     },
     "execution_count": 194,
     "metadata": {},
     "output_type": "execute_result"
    }
   ],
   "source": [
    "solve(dfx)"
   ]
  },
  {
   "cell_type": "code",
   "execution_count": 195,
   "metadata": {
    "collapsed": false
   },
   "outputs": [
    {
     "data": {
      "image/png": "[encoded data removed]",
      "text/latex": [
       "$$2 x$$"
      ],
      "text/plain": [
       "2⋅x"
      ]
     },
     "execution_count": 195,
     "metadata": {},
     "output_type": "execute_result"
    }
   ],
   "source": [
    "d2fx = diff(fx,x, )\n",
    "d2fx"
   ]
  },
  {
   "cell_type": "code",
   "execution_count": 197,
   "metadata": {
    "collapsed": false
   },
   "outputs": [
    {
     "data": {
      "image/png": "[encoded data removed]",
      "text/plain": [
       "<matplotlib.figure.Figure at 0x114f19cc0>"
      ]
     },
     "metadata": {},
     "output_type": "display_data"
    },
    {
     "data": {
      "text/plain": [
       "<sympy.plotting.plot.Plot at 0x11459a908>"
      ]
     },
     "execution_count": 197,
     "metadata": {},
     "output_type": "execute_result"
    }
   ],
   "source": [
    "plot(dfx, (x,0,10), ylim=(-10,10))"
   ]
  },
  {
   "cell_type": "code",
   "execution_count": 198,
   "metadata": {
    "collapsed": false
   },
   "outputs": [
    {
     "data": {
      "image/png": "[encoded data removed]",
      "text/latex": [
       "$$3.0$$"
      ],
      "text/plain": [
       "3.0"
      ]
     },
     "execution_count": 198,
     "metadata": {},
     "output_type": "execute_result"
    }
   ],
   "source": [
    "4*(3/2) - (4/3)*(3/2)**2"
   ]
  },
  {
   "cell_type": "code",
   "execution_count": 199,
   "metadata": {
    "collapsed": false
   },
   "outputs": [
    {
     "data": {
      "image/png": "[encoded data removed]",
      "text/latex": [
       "$$- 6 x^{2} + 16$$"
      ],
      "text/plain": [
       "     2     \n",
       "- 6⋅x  + 16"
      ]
     },
     "execution_count": 199,
     "metadata": {},
     "output_type": "execute_result"
    }
   ],
   "source": [
    "A = 2*x*(8 - x**2)\n",
    "dA = diff(A,x)\n",
    "dA"
   ]
  },
  {
   "cell_type": "code",
   "execution_count": 200,
   "metadata": {
    "collapsed": false
   },
   "outputs": [
    {
     "data": {
      "image/png": "[encoded data removed]",
      "text/latex": [
       "$$\\left [ - \\frac{2 \\sqrt{6}}{3}, \\quad \\frac{2 \\sqrt{6}}{3}\\right ]$$"
      ],
      "text/plain": [
       "⎡-2⋅√6   2⋅√6⎤\n",
       "⎢──────, ────⎥\n",
       "⎣  3      3  ⎦"
      ]
     },
     "execution_count": 200,
     "metadata": {},
     "output_type": "execute_result"
    }
   ],
   "source": [
    "solve(dA)"
   ]
  },
  {
   "cell_type": "code",
   "execution_count": 201,
   "metadata": {
    "collapsed": false
   },
   "outputs": [
    {
     "data": {
      "image/png": "[encoded data removed]",
      "text/latex": [
       "$$\\frac{16}{3}$$"
      ],
      "text/plain": [
       "16/3"
      ]
     },
     "execution_count": 201,
     "metadata": {},
     "output_type": "execute_result"
    }
   ],
   "source": [
    "8 - Out[200][1]**2"
   ]
  },
  {
   "cell_type": "code",
   "execution_count": 205,
   "metadata": {
    "collapsed": false
   },
   "outputs": [
    {
     "data": {
      "image/png": "[encoded data removed]",
      "text/latex": [
       "$$\\frac{21}{8}$$"
      ],
      "text/plain": [
       "21/8"
      ]
     },
     "execution_count": 205,
     "metadata": {},
     "output_type": "execute_result"
    }
   ],
   "source": [
    "((S(1)/4)**2 + (S(3)/4)**2 + (S(5)/4)**2 + (S(7)/4)**2)*(S(1)/2)"
   ]
  },
  {
   "cell_type": "code",
   "execution_count": 206,
   "metadata": {
    "collapsed": false
   },
   "outputs": [
    {
     "data": {
      "image/png": "[encoded data removed]",
      "text/latex": [
       "$$2.625$$"
      ],
      "text/plain": [
       "2.625"
      ]
     },
     "execution_count": 206,
     "metadata": {},
     "output_type": "execute_result"
    }
   ],
   "source": [
    "21/8"
   ]
  },
  {
   "cell_type": "code",
   "execution_count": 207,
   "metadata": {
    "collapsed": false
   },
   "outputs": [
    {
     "data": {
      "image/png": "[encoded data removed]",
      "text/latex": [
       "$$2.6666666666666665$$"
      ],
      "text/plain": [
       "2.6666666666666665"
      ]
     },
     "execution_count": 207,
     "metadata": {},
     "output_type": "execute_result"
    }
   ],
   "source": [
    "8/3"
   ]
  },
  {
   "cell_type": "code",
   "execution_count": null,
   "metadata": {
    "collapsed": true
   },
   "outputs": [],
   "source": []
  }
 ],
 "metadata": {
  "hide_input": false,
  "kernelspec": {
   "display_name": "Python 3",
   "language": "python",
   "name": "python3"
  },
  "language_info": {
   "codemirror_mode": {
    "name": "ipython",
    "version": 3
   },
   "file_extension": ".py",
   "mimetype": "text/x-python",
   "name": "python",
   "nbconvert_exporter": "python",
   "pygments_lexer": "ipython3",
   "version": "3.5.1"
  },
  "latex_envs": {
   "bibliofile": "biblio.bib",
   "cite_by": "apalike",
   "current_citInitial": 1,
   "eqLabelWithNumbers": true,
   "eqNumInitial": 0
  }
 },
 "nbformat": 4,
 "nbformat_minor": 0
}
