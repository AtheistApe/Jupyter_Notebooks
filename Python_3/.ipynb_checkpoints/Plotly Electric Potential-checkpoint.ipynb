{
 "cells": [
  {
   "cell_type": "code",
   "execution_count": 1,
   "metadata": {},
   "outputs": [
    {
     "ename": "ModuleNotFoundError",
     "evalue": "No module named 'vpython'",
     "output_type": "error",
     "traceback": [
      "\u001b[1;31m---------------------------------------------------------------------------\u001b[0m",
      "\u001b[1;31mModuleNotFoundError\u001b[0m                       Traceback (most recent call last)",
      "\u001b[1;32m<ipython-input-1-112005486af3>\u001b[0m in \u001b[0;36m<module>\u001b[1;34m\u001b[0m\n\u001b[0;32m      2\u001b[0m \u001b[1;32mfrom\u001b[0m \u001b[0mplotly\u001b[0m\u001b[1;33m.\u001b[0m\u001b[0mgraph_objs\u001b[0m \u001b[1;32mimport\u001b[0m \u001b[1;33m*\u001b[0m\u001b[1;33m\u001b[0m\u001b[1;33m\u001b[0m\u001b[0m\n\u001b[0;32m      3\u001b[0m \u001b[1;32mfrom\u001b[0m \u001b[0mpylab\u001b[0m \u001b[1;32mimport\u001b[0m \u001b[1;33m*\u001b[0m\u001b[1;33m\u001b[0m\u001b[1;33m\u001b[0m\u001b[0m\n\u001b[1;32m----> 4\u001b[1;33m \u001b[1;32mfrom\u001b[0m \u001b[0mvpython\u001b[0m \u001b[1;32mimport\u001b[0m \u001b[0mvector\u001b[0m\u001b[1;33m,\u001b[0m \u001b[0mnorm\u001b[0m\u001b[1;33m,\u001b[0m \u001b[0mmag\u001b[0m\u001b[1;33m\u001b[0m\u001b[1;33m\u001b[0m\u001b[0m\n\u001b[0m\u001b[0;32m      5\u001b[0m \u001b[1;33m\u001b[0m\u001b[0m\n\u001b[0;32m      6\u001b[0m \u001b[0mplotly\u001b[0m\u001b[1;33m.\u001b[0m\u001b[0moffline\u001b[0m\u001b[1;33m.\u001b[0m\u001b[0minit_notebook_mode\u001b[0m\u001b[1;33m(\u001b[0m\u001b[1;33m)\u001b[0m\u001b[1;33m\u001b[0m\u001b[1;33m\u001b[0m\u001b[0m\n",
      "\u001b[1;31mModuleNotFoundError\u001b[0m: No module named 'vpython'"
     ]
    }
   ],
   "source": [
    "import plotly\n",
    "from plotly.graph_objs import *\n",
    "from pylab import *\n",
    "from vpython import vector, norm, mag\n",
    "\n",
    "plotly.offline.init_notebook_mode()\n",
    "\n",
    "#you need to add your own plot.ly credentials here\n",
    "#py.sign_in(###########)\n",
    "\n",
    "#electric constant\n",
    "k=9e9\n",
    "\n",
    "#x,y are the axis values.  X,Y are the mesh\n",
    "x=arange(0,.05,0.001)\n",
    "y=arange(0,.05,0.001)\n",
    "X,Y = meshgrid(x, y)\n",
    "\n",
    "#q1 and q2 are the vector locations of the two charges\n",
    "q1=vector(0.02, 0.02, 0)\n",
    "q2=vector(0.03, 0.03, 0)\n",
    "\n",
    "#these are the charge values\n",
    "q1q=1e-6\n",
    "q2q=-1e-6\n",
    "\n",
    "#V is the potential.  This next line puts in zero for every value.\n",
    "V=X*0\n",
    "\n",
    "#In order to have a well behaved plot, Vmax sets the upper and lower limit\n",
    "Vmax=4e6\n",
    "\n",
    "#This double loop goes through all the values in the mesh\n",
    "for i in range(len(X[:,0])):\n",
    "    for j in range(len(Y[0,:])):\n",
    "        #r_loc is the vector observation location based on x,y\n",
    "        r_loc=vector(X[i,j],Y[i,j],0)\n",
    "\n",
    "        #r1 is the vector from charge 1 to observation location\n",
    "        r1=r_loc-q1\n",
    "        #r2 is the vector from charge 2 to observation location\n",
    "        r2=r_loc-q2\n",
    "\n",
    "        #if the observation location is on either of the charge charges\n",
    "        #do not computer V (it would be a division by zero)\n",
    "        if mag(r1) !=0 and mag(r2)!=0:\n",
    "            #calculate V\n",
    "            V[i,j]=k*q1q/mag(r1) + k*q2q/mag(r2)\n",
    "            #if V is too high, limit it\n",
    "            if V[i,j]>=Vmax: V[i,j]=Vmax\n",
    "            if V[i,j]<=-Vmax: V[i,j]=-Vmax\n",
    "\n",
    "\n",
    "#the plotting part\n",
    "data=[{'x':x, 'y':y, 'z':V, 'type':'contour'}]\n",
    "#plot_url = plotly.plot(data, filename='electric potential_v2')\n",
    "plotly.offline.iplot(data)"
   ]
  },
  {
   "cell_type": "code",
   "execution_count": null,
   "metadata": {
    "collapsed": true
   },
   "outputs": [],
   "source": []
  }
 ],
 "metadata": {
  "@webio": {
   "lastCommId": "c20dd41c4ecc45159f4fa3a17cf2aca9",
   "lastKernelId": "5852f89e-63ec-485b-8fd3-6b3b3745d881"
  },
  "kernelspec": {
   "display_name": "Python 3",
   "language": "python",
   "name": "python3"
  },
  "language_info": {
   "codemirror_mode": {
    "name": "ipython",
    "version": 3
   },
   "file_extension": ".py",
   "mimetype": "text/x-python",
   "name": "python",
   "nbconvert_exporter": "python",
   "pygments_lexer": "ipython3",
   "version": "3.7.1"
  },
  "latex_envs": {
   "bibliofile": "biblio.bib",
   "cite_by": "apalike",
   "current_citInitial": 1,
   "eqLabelWithNumbers": true,
   "eqNumInitial": 0
  }
 },
 "nbformat": 4,
 "nbformat_minor": 1
}
