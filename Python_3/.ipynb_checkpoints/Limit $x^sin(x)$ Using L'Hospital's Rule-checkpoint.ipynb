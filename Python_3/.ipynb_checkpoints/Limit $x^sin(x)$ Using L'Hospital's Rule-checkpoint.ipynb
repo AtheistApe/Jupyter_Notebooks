{
 "cells": [
  {
   "cell_type": "markdown",
   "metadata": {},
   "source": [
    "$\n",
    "\\newcommand{lma}[1][0^+]{\\lim_{x\\rightarrow #1}}\n",
    "\\newcommand{ds}{\\displaystyle}\n",
    "\\newcommand{ra}{\\rightarrow}\n",
    "\\newcommand{eqlh}{\\overset{\\small L.H}{=}}\n",
    "$"
   ]
  },
  {
   "cell_type": "code",
   "execution_count": 22,
   "metadata": {
    "collapsed": false
   },
   "outputs": [
    {
     "name": "stdout",
     "output_type": "stream",
     "text": [
      "IPython console for SymPy 1.0 (Python 3.5.1-64-bit) (ground types: python)\n",
      "\n",
      "These commands were executed:\n",
      ">>> from __future__ import division\n",
      ">>> from sympy import *\n",
      ">>> x, y, z, t = symbols('x y z t')\n",
      ">>> k, m, n = symbols('k m n', integer=True)\n",
      ">>> f, g, h = symbols('f g h', cls=Function)\n",
      ">>> init_printing()\n",
      "\n",
      "Documentation can be found at http://docs.sympy.org/1.0/\n"
     ]
    }
   ],
   "source": [
    "from sympy import init_session\n",
    "init_session()"
   ]
  },
  {
   "cell_type": "code",
   "execution_count": 12,
   "metadata": {
    "collapsed": false
   },
   "outputs": [],
   "source": [
    "r, theta, rho, phi = symbols('r theta rho phi')"
   ]
  },
  {
   "cell_type": "markdown",
   "metadata": {},
   "source": [
    "Evaluate $\\lma x^{\\sin x}$\n",
    "\n",
    "As $x\\ra 0$ both the base $x\\ra 0$ and the exponent $\\sin x \\ra 0$. Therefore, $\\lma x^{\\sin x}$ is an indeterminate power of type $0^0$.\n",
    "\n",
    "To evaluate this limit let $y = x^{\\sin x}$ and consider \n",
    "\n",
    "$$\\lma \\ln(y) = \\lma \\ln(x^{\\sin x}) = \\lma \\sin(x) \\ln(x)$$\n",
    "\n",
    "Now as $x\\ra 0$, $\\sin(x)\\ra 0$ and $\\ln(x)\\ra -\\infty$. Hence, $\\lma \\sin(x) \\ln(x)$ is an indeterminate produce of type $0\\cdot\\infty$. To evaluate this indeterminate product using L'Hospital's rule, write the product as a quotient by dividing one of the factors by the reciprocal of the other factor. For example \n",
    "\n",
    "$$\\sin(x)\\ln(x) = \\frac{\\sin(x)}{(\\ln(x))^{-1}}, \\quad\\text{ where } (\\ln(x))^{-1} = \\frac{1}{\\ln(x)}$$\n",
    "\n",
    "Now as $x\\ra 0$, $\\sin(x)\\ra 0$ and $(\\ln(x))^{-1} \\ra 0$ since as\n",
    "$x\\ra 0$, $\\ln(x)\\ra -\\infty$ hence $(\\ln(x))^{-1} = \\frac{1}{\\ln(x)}\\ra 0$. Therefore $\\frac{\\sin(x)}{(\\ln(x))^{-1}}$ is an indeterminate quotient of type $\\frac{0}{0}$ and we can apply L'Hospital's rule to this indeterminate limit.\n",
    "\n",
    "$$\\lma\\frac{\\sin(x)}{(\\ln(x))^{-1}} \\eqlh \\lma\\frac{\\cos(x)}{-(\\ln(x))^{-2}\\cdot\\frac{1}{x}}$$\n",
    "\n",
    "Simplifying the last limit and applying the product property of limits gives\n",
    "\n",
    "$$\\lma -\\cos(x)\\cdot x(\\ln(x))^2 = \\lma -\\cos(x) \\cdot \\lma x(\\ln(x))^2$$\n",
    "\n",
    "If both limits exist.\n",
    "\n",
    "The first limit is $-1$ and the second is an indeterminate product of type $0\\cdot\\infty$."
   ]
  },
  {
   "cell_type": "code",
   "execution_count": 43,
   "metadata": {
    "collapsed": false
   },
   "outputs": [
    {
     "data": {
      "image/png": "[encoded data removed]",
      "text/latex": [
       "$$\\frac{243 \\pi}{2}$$"
      ],
      "text/plain": [
       "243⋅π\n",
       "─────\n",
       "  2  "
      ]
     },
     "execution_count": 43,
     "metadata": {},
     "output_type": "execute_result"
    }
   ],
   "source": [
    "81*integrate(cos(t)**4 + sin(t)**4, (t,0,2*pi))"
   ]
  },
  {
   "cell_type": "code",
   "execution_count": null,
   "metadata": {
    "collapsed": true
   },
   "outputs": [],
   "source": []
  }
 ],
 "metadata": {
  "hide_input": false,
  "kernelspec": {
   "display_name": "Python 3",
   "language": "python",
   "name": "python3"
  },
  "language_info": {
   "codemirror_mode": {
    "name": "ipython",
    "version": 3
   },
   "file_extension": ".py",
   "mimetype": "text/x-python",
   "name": "python",
   "nbconvert_exporter": "python",
   "pygments_lexer": "ipython3",
   "version": "3.5.1"
  },
  "latex_envs": {
   "bibliofile": "biblio.bib",
   "cite_by": "apalike",
   "current_citInitial": 1,
   "eqLabelWithNumbers": true,
   "eqNumInitial": 0
  }
 },
 "nbformat": 4,
 "nbformat_minor": 0
}
