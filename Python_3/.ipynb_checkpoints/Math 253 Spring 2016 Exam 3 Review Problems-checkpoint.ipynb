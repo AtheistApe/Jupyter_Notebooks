{
 "cells": [
  {
   "cell_type": "markdown",
   "metadata": {},
   "source": [
    "# Exam 3 Review Problems\n",
    "Solutions to a collection of problems for students to do in preparation for exam 3."
   ]
  },
  {
   "cell_type": "markdown",
   "metadata": {},
   "source": [
    "$\n",
    "\\newcommand{i}{\\mathbf{\\hat{i}}}\n",
    "\\newcommand{j}{\\mathbf{\\hat{j}}}\n",
    "\\newcommand{k}{\\mathbf{\\hat{k}}}\n",
    "\\newcommand{lv}[1]{\\left<#1\\right>}\n",
    "\\newcommand{pd}[1]{\\dfrac{\\partial}{\\partial#1}}\n",
    "$"
   ]
  },
  {
   "cell_type": "code",
   "execution_count": 2,
   "metadata": {},
   "outputs": [],
   "source": [
    "from sympy import *"
   ]
  },
  {
   "cell_type": "code",
   "execution_count": 3,
   "metadata": {},
   "outputs": [],
   "source": [
    "from sympy.physics.vector import *\n",
    "N = ReferenceFrame('N')\n",
    "\n",
    "t = symbols('t', positive=True)"
   ]
  },
  {
   "cell_type": "markdown",
   "metadata": {},
   "source": [
    "### Problem 1\n",
    "\n",
    "An object's velocity $\\vec{v}$ (in meters per second) at time $t$ seconds is given by\n",
    "\n",
    "$$\\vec{v}(t) = 2t\\vec{i} + 2\\vec{j} + \\frac{1}{t}\\vec{k}$$\n",
    "\n",
    "for $t > 0$ seconds. Using this function do the problems below:\n",
    "\n",
    "a.  Find the position function $\\vec{r}(t)$, given that $\\vec{r}(1) = \\vec{0}$.\n",
    "\n",
    "b.  Find the objects speed at $t = 1$ second.\n",
    "\n",
    "c.  Find the acceleration function $\\vec{a}(t)$, and the acceleration vector at $t = 1$ second.\n",
    "\n",
    "d.  How far along the curve does the object travel between 1 and 5 seconds; i.e. what is the arc-length of the curve over $1 \\leq t \\leq 5$?\n",
    "\n",
    "e.  Find the unit tangent vector function $\\vec{T}(t)$, then find the unit tangent vector at $t = 1$.\n",
    "\n",
    "f.  Find the curvature $\\kappa$ of the curve at $t = 1$ second."
   ]
  },
  {
   "cell_type": "code",
   "execution_count": 4,
   "metadata": {},
   "outputs": [],
   "source": [
    "v = 2*t*N.x + 2*N.y + (1/t)*N.z"
   ]
  },
  {
   "cell_type": "code",
   "execution_count": 5,
   "metadata": {},
   "outputs": [
    {
     "data": {
      "text/plain": [
       "t**2*N.x + 2*t*N.y + log(t)*N.z"
      ]
     },
     "execution_count": 5,
     "metadata": {},
     "output_type": "execute_result"
    }
   ],
   "source": [
    "r = v.applyfunc(lambda f: integrate(f,t))\n",
    "r"
   ]
  },
  {
   "cell_type": "code",
   "execution_count": 163,
   "metadata": {},
   "outputs": [
    {
     "data": {
      "image/png": "[encoded data removed]",
      "text/latex": [
       "$$- \\mathbf{\\hat{n}_x} - 2\\mathbf{\\hat{n}_y}$$"
      ],
      "text/plain": [
       "- n_x - 2 n_y"
      ]
     },
     "execution_count": 163,
     "metadata": {},
     "output_type": "execute_result"
    }
   ],
   "source": [
    "# C = r_init - r(1)\n",
    "\n",
    "C = -1*r.subs(t,1)\n",
    "C"
   ]
  },
  {
   "cell_type": "code",
   "execution_count": 164,
   "metadata": {},
   "outputs": [
    {
     "data": {
      "image/png": "[encoded data removed]",
      "text/latex": [
       "$$(t^{2} - 1)\\mathbf{\\hat{n}_x} + (2 t - 2)\\mathbf{\\hat{n}_y} + \\operatorname{log}\\left(t\\right)\\mathbf{\\hat{n}_z}$$"
      ],
      "text/plain": [
       "⎛ 2    ⎞\n",
       "⎝t  - 1⎠ n_x + (2⋅t - 2) n_y + log(t) n_z"
      ]
     },
     "execution_count": 164,
     "metadata": {},
     "output_type": "execute_result"
    }
   ],
   "source": [
    "r_C = r + C\n",
    "r_C"
   ]
  },
  {
   "cell_type": "code",
   "execution_count": 165,
   "metadata": {},
   "outputs": [
    {
     "data": {
      "image/png": "[encoded data removed]",
      "text/latex": [
       "$$\\sqrt{4 t^{2} + 4 + \\frac{1}{t^{2}}}$$"
      ],
      "text/plain": [
       "     _______________\n",
       "    ╱    2       1  \n",
       "   ╱  4⋅t  + 4 + ── \n",
       "  ╱               2 \n",
       "╲╱               t  "
      ]
     },
     "execution_count": 165,
     "metadata": {},
     "output_type": "execute_result"
    }
   ],
   "source": [
    "speed = v.magnitude()\n",
    "speed"
   ]
  },
  {
   "cell_type": "code",
   "execution_count": 166,
   "metadata": {},
   "outputs": [
    {
     "data": {
      "image/png": "[encoded data removed]",
      "text/latex": [
       "$$3$$"
      ],
      "text/plain": [
       "3"
      ]
     },
     "execution_count": 166,
     "metadata": {},
     "output_type": "execute_result"
    }
   ],
   "source": [
    "speed.subs(t,1)"
   ]
  },
  {
   "cell_type": "code",
   "execution_count": 167,
   "metadata": {},
   "outputs": [
    {
     "data": {
      "image/png": "[encoded data removed]",
      "text/latex": [
       "$$2\\mathbf{\\hat{n}_x} -  \\frac{1}{t^{2}}\\mathbf{\\hat{n}_z}$$"
      ],
      "text/plain": [
       "2 n_x - 1 \n",
       "───\n",
       "  2\n",
       " t  n_z"
      ]
     },
     "execution_count": 167,
     "metadata": {},
     "output_type": "execute_result"
    }
   ],
   "source": [
    "a = v.diff(t,N)\n",
    "a"
   ]
  },
  {
   "cell_type": "code",
   "execution_count": 168,
   "metadata": {},
   "outputs": [
    {
     "data": {
      "image/png": "[encoded data removed]",
      "text/latex": [
       "$$2\\mathbf{\\hat{n}_x} - \\mathbf{\\hat{n}_z}$$"
      ],
      "text/plain": [
       "2 n_x - n_z"
      ]
     },
     "execution_count": 168,
     "metadata": {},
     "output_type": "execute_result"
    }
   ],
   "source": [
    "a.subs(t,1)"
   ]
  },
  {
   "cell_type": "code",
   "execution_count": 169,
   "metadata": {},
   "outputs": [
    {
     "data": {
      "image/png": "[encoded data removed]",
      "text/latex": [
       "$$\\sqrt{4 t^{2} + 4 + \\frac{1}{t^{2}}}$$"
      ],
      "text/plain": [
       "     _______________\n",
       "    ╱    2       1  \n",
       "   ╱  4⋅t  + 4 + ── \n",
       "  ╱               2 \n",
       "╲╱               t  "
      ]
     },
     "execution_count": 169,
     "metadata": {},
     "output_type": "execute_result"
    }
   ],
   "source": [
    "speed"
   ]
  },
  {
   "cell_type": "code",
   "execution_count": 170,
   "metadata": {},
   "outputs": [
    {
     "data": {
      "image/png": "[encoded data removed]",
      "text/latex": [
       "$$\\frac{1}{t} \\left(2 t^{2} + 1\\right)$$"
      ],
      "text/plain": [
       "   2    \n",
       "2⋅t  + 1\n",
       "────────\n",
       "   t    "
      ]
     },
     "execution_count": 170,
     "metadata": {},
     "output_type": "execute_result"
    }
   ],
   "source": [
    "speed.combsimp()"
   ]
  },
  {
   "cell_type": "code",
   "execution_count": 171,
   "metadata": {},
   "outputs": [
    {
     "data": {
      "image/png": "[encoded data removed]",
      "text/latex": [
       "$$\\int_{1}^{5} \\frac{1}{t} \\left(2 t^{2} + 1\\right)\\, dt$$"
      ],
      "text/plain": [
       "5            \n",
       "⌠            \n",
       "⎮    2       \n",
       "⎮ 2⋅t  + 1   \n",
       "⎮ ──────── dt\n",
       "⎮    t       \n",
       "⌡            \n",
       "1            "
      ]
     },
     "execution_count": 171,
     "metadata": {},
     "output_type": "execute_result"
    }
   ],
   "source": [
    "integrate(speed, (t,1,5))"
   ]
  },
  {
   "cell_type": "code",
   "execution_count": 172,
   "metadata": {},
   "outputs": [
    {
     "data": {
      "image/png": "[encoded data removed]",
      "text/latex": [
       "$$\\frac{2 t}{\\sqrt{4 t^{2} + 4 + \\frac{1}{t^{2}}}}\\mathbf{\\hat{n}_x} + \\frac{2}{\\sqrt{4 t^{2} + 4 + \\frac{1}{t^{2}}}}\\mathbf{\\hat{n}_y} + \\frac{1}{t \\sqrt{4 t^{2} + 4 + \\frac{1}{t^{2}}}}\\mathbf{\\hat{n}_z}$$"
      ],
      "text/plain": [
       "        2⋅t         \n",
       "────────────────────\n",
       "     _______________\n",
       "    ╱    2       1  \n",
       "   ╱  4⋅t  + 4 + ── \n",
       "  ╱               2 \n",
       "╲╱               t   n_x +          2          \n",
       "────────────────────\n",
       "     _______________\n",
       "    ╱    2       1  \n",
       "   ╱  4⋅t  + 4 + ── \n",
       "  ╱               2 \n",
       "╲╱               t   n_y +           1           \n",
       "──────────────────────\n",
       "       _______________\n",
       "      ╱    2       1  \n",
       "t⋅   ╱  4⋅t  + 4 + ── \n",
       "    ╱               2 \n",
       "  ╲╱               t   n_z"
      ]
     },
     "execution_count": 172,
     "metadata": {},
     "output_type": "execute_result"
    }
   ],
   "source": [
    "T = v/speed\n",
    "T"
   ]
  },
  {
   "cell_type": "code",
   "execution_count": 173,
   "metadata": {},
   "outputs": [
    {
     "data": {
      "image/png": "[encoded data removed]",
      "text/latex": [
       "$$\\frac{2}{3}\\mathbf{\\hat{n}_x} + \\frac{2}{3}\\mathbf{\\hat{n}_y} + \\frac{1}{3}\\mathbf{\\hat{n}_z}$$"
      ],
      "text/plain": [
       "2/3 n_x + 2/3 n_y + 1/3 n_z"
      ]
     },
     "execution_count": 173,
     "metadata": {},
     "output_type": "execute_result"
    }
   ],
   "source": [
    "T.subs(t,1)"
   ]
  },
  {
   "cell_type": "code",
   "execution_count": 174,
   "metadata": {},
   "outputs": [
    {
     "data": {
      "image/png": "[encoded data removed]",
      "text/latex": [
       "$$\\frac{4 t}{\\left(2 t^{2} + 1\\right) \\sqrt{4 t^{4} + 4 t^{2} + 1}}\\mathbf{\\hat{n}_x} + \\frac{- 8 t^{4} + 2}{\\left(4 t^{2} \\left(t^{2} + 1\\right) + 1\\right)^{\\frac{3}{2}}}\\mathbf{\\hat{n}_y} -  \\frac{4 t}{\\left(2 t^{2} + 1\\right) \\sqrt{4 t^{4} + 4 t^{2} + 1}}\\mathbf{\\hat{n}_z}$$"
      ],
      "text/plain": [
       "              4⋅t              \n",
       "───────────────────────────────\n",
       "              _________________\n",
       "⎛   2    ⎞   ╱    4      2     \n",
       "⎝2⋅t  + 1⎠⋅╲╱  4⋅t  + 4⋅t  + 1  n_x +       ⎛     4    ⎞    \n",
       "    2⋅⎝- 4⋅t  + 1⎠    \n",
       "──────────────────────\n",
       "                   3/2\n",
       "⎛   2 ⎛ 2    ⎞    ⎞   \n",
       "⎝4⋅t ⋅⎝t  + 1⎠ + 1⎠    n_y +              -4⋅t              \n",
       "───────────────────────────────\n",
       "              _________________\n",
       "⎛   2    ⎞   ╱    4      2     \n",
       "⎝2⋅t  + 1⎠⋅╲╱  4⋅t  + 4⋅t  + 1  n_z"
      ]
     },
     "execution_count": 174,
     "metadata": {},
     "output_type": "execute_result"
    }
   ],
   "source": [
    "Tprime = T.diff(t,N).simplify()\n",
    "Tprime"
   ]
  },
  {
   "cell_type": "code",
   "execution_count": 175,
   "metadata": {},
   "outputs": [
    {
     "data": {
      "image/png": "[encoded data removed]",
      "text/latex": [
       "$$\\sqrt{\\frac{32 t^{2}}{\\left(2 t^{2} + 1\\right)^{2} \\left(4 t^{4} + 4 t^{2} + 1\\right)} + \\frac{4 \\left(- 4 t^{4} + 1\\right)^{2}}{\\left(4 t^{2} \\left(t^{2} + 1\\right) + 1\\right)^{3}}}$$"
      ],
      "text/plain": [
       "        ______________________________________________________\n",
       "       ╱                                                 2    \n",
       "      ╱                  2                   ⎛     4    ⎞     \n",
       "     ╱               32⋅t                  4⋅⎝- 4⋅t  + 1⎠     \n",
       "    ╱    ───────────────────────────── + ──────────────────── \n",
       "   ╱               2                                        3 \n",
       "  ╱      ⎛   2    ⎞  ⎛   4      2    ⎞   ⎛   2 ⎛ 2    ⎞    ⎞  \n",
       "╲╱       ⎝2⋅t  + 1⎠ ⋅⎝4⋅t  + 4⋅t  + 1⎠   ⎝4⋅t ⋅⎝t  + 1⎠ + 1⎠  "
      ]
     },
     "execution_count": 175,
     "metadata": {},
     "output_type": "execute_result"
    }
   ],
   "source": [
    "NormTprime = Tprime.magnitude()\n",
    "NormTprime"
   ]
  },
  {
   "cell_type": "code",
   "execution_count": 176,
   "metadata": {},
   "outputs": [
    {
     "data": {
      "image/png": "[encoded data removed]",
      "text/latex": [
       "$$\\frac{2}{2 t^{2} + 1}$$"
      ],
      "text/plain": [
       "   2    \n",
       "────────\n",
       "   2    \n",
       "2⋅t  + 1"
      ]
     },
     "execution_count": 176,
     "metadata": {},
     "output_type": "execute_result"
    }
   ],
   "source": [
    "NormTprime.combsimp()"
   ]
  },
  {
   "cell_type": "code",
   "execution_count": 178,
   "metadata": {
    "solution": "hidden",
    "solution_first": true
   },
   "outputs": [
    {
     "data": {
      "image/png": "[encoded data removed]",
      "text/latex": [
       "$$\\frac{2}{9}$$"
      ],
      "text/plain": [
       "2/9"
      ]
     },
     "execution_count": 178,
     "metadata": {},
     "output_type": "execute_result"
    }
   ],
   "source": [
    "# The curvature, kappa\n",
    "\n",
    "NormTprime.subs(t,1)/speed.subs(t,1)"
   ]
  },
  {
   "cell_type": "markdown",
   "metadata": {},
   "source": [
    "### Problem 1 Solutions\n",
    "\n",
    "a. $\\vec{r}(t) = (t^2 - 1)\\vec{i} + (2t - 2)\\vec{j} + \\log(t)\\vec{k}$\n",
    "\n",
    "b. The speed is $|\\vec{v}(1)| = 3$.\n",
    "\n",
    "c. The acceleration vector is $\\vec{a}(t) = 2\\vec{i} - \\frac{1}{t^2}\\vec{k}$. The acceleration at $t = 1$ is $\\vec{a}(1) = 2\\vec{i} - \\vec{k}$.\n",
    "\n",
    "d. The object travels a distance of $\\log(5) + 24$ units between 1 and 5 seconds.\n",
    "\n",
    "e. $$\\vec{T}(t) = \\frac{2 t^{2}}{2 t^{2} + 1}\\i + \\frac{2 t}{2 t^{2} + 1}\\j + \\frac{1}{2 t^{2} + 1}\\k$$\n",
    "\n",
    "$$\\vec{T}(1) = \\frac{2}{3}\\i + \\frac{2}{3}\\j + \\frac{1}{3}\\k$$\n",
    "\n",
    "f. The curvature is\n",
    "\n",
    "$$\\kappa(t) = \\frac{2}{2t^2 + 1}$$\n",
    "\n",
    "The curvature at $t = 1\\; \\text{  is  } \\;\\kappa(1) = \\frac{2}{9}$"
   ]
  },
  {
   "cell_type": "markdown",
   "metadata": {},
   "source": [
    "### Problem 2\n",
    "\n",
    "Evaluate the integral $\\int_0^{\\pi/4} \\cos(2t)\\i + \\sin(2t)\\j + t\\k\\;dt$"
   ]
  },
  {
   "cell_type": "code",
   "execution_count": 137,
   "metadata": {},
   "outputs": [
    {
     "data": {
      "image/png": "[encoded data removed]",
      "text/latex": [
       "$$\\frac{1}{2}\\mathbf{\\hat{n}_x} + \\frac{1}{2}\\mathbf{\\hat{n}_y} + \\frac{\\pi^{2}}{32}\\mathbf{\\hat{n}_z}$$"
      ],
      "text/plain": [
       "1/2 n_x + 1/2 n_y +  2\n",
       "π \n",
       "──\n",
       "32 n_z"
      ]
     },
     "execution_count": 137,
     "metadata": {},
     "output_type": "execute_result"
    }
   ],
   "source": [
    "r = cos(2*t)*N.x + sin(2*t)*N.y + t*N.z\n",
    "r.applyfunc(lambda f: integrate(f,(t,0,pi/4)))"
   ]
  },
  {
   "cell_type": "markdown",
   "metadata": {},
   "source": [
    "### Problem 2 Solution\n",
    "\n",
    "$\\int_0^{\\pi/4} \\cos(2t)\\i + \\sin(2t)\\j + t\\k\\;dt = \\frac{1}{2}\\i + \\frac{1}{2}\\j + \\frac{\\pi^2}{32}\\k$"
   ]
  },
  {
   "cell_type": "markdown",
   "metadata": {},
   "source": [
    "### Problem 3\n",
    "\n",
    "Find the length of the curve\n",
    "$\\vec{r}(t) = \\lv{t\\sqrt{2}, e^t, e^{-t}}$, for\n",
    "  $0\\leq t \\leq 1$."
   ]
  },
  {
   "cell_type": "code",
   "execution_count": 138,
   "metadata": {},
   "outputs": [
    {
     "data": {
      "image/png": "[encoded data removed]",
      "text/latex": [
       "$$\\sqrt{2}\\mathbf{\\hat{n}_x} + e^{t}\\mathbf{\\hat{n}_y} -  \\frac{1}{e^{t}}\\mathbf{\\hat{n}_z}$$"
      ],
      "text/plain": [
       "√2 n_x +  t\n",
       "ℯ  n_y +   -t\n",
       "-ℯ   n_z"
      ]
     },
     "execution_count": 138,
     "metadata": {},
     "output_type": "execute_result"
    }
   ],
   "source": [
    "r = t*sqrt(2)*N.x + exp(t)*N.y + exp(-t)*N.z  # The position\n",
    "rprime = r.diff(t,N)\n",
    "rprime  # The velocity"
   ]
  },
  {
   "cell_type": "code",
   "execution_count": 139,
   "metadata": {},
   "outputs": [
    {
     "data": {
      "image/png": "[encoded data removed]",
      "text/latex": [
       "$$\\sqrt{e^{2 t} + 2 + e^{- 2 t}}$$"
      ],
      "text/plain": [
       "   __________________\n",
       "  ╱  2⋅t        -2⋅t \n",
       "╲╱  ℯ    + 2 + ℯ     "
      ]
     },
     "execution_count": 139,
     "metadata": {},
     "output_type": "execute_result"
    }
   ],
   "source": [
    "rprimeNorm = rprime.magnitude()\n",
    "rprimeNorm  # The speed (magnitude of the velocity)"
   ]
  },
  {
   "cell_type": "code",
   "execution_count": 145,
   "metadata": {},
   "outputs": [
    {
     "data": {
      "image/png": "[encoded data removed]",
      "text/latex": [
       "$$\\frac{1}{e^{t}} \\left(e^{2 t} + 1\\right)$$"
      ],
      "text/plain": [
       "⎛ 2⋅t    ⎞  -t\n",
       "⎝ℯ    + 1⎠⋅ℯ  "
      ]
     },
     "execution_count": 145,
     "metadata": {},
     "output_type": "execute_result"
    }
   ],
   "source": [
    "rprimeNorm = rprimeNorm.combsimp()  # The speed expression simplified.\n",
    "\n",
    "rprimeNorm"
   ]
  },
  {
   "cell_type": "code",
   "execution_count": 146,
   "metadata": {},
   "outputs": [
    {
     "data": {
      "image/png": "[encoded data removed]",
      "text/latex": [
       "$$- \\frac{1}{e} + e$$"
      ],
      "text/plain": [
       "   -1    \n",
       "- ℯ   + ℯ"
      ]
     },
     "execution_count": 146,
     "metadata": {},
     "output_type": "execute_result"
    }
   ],
   "source": [
    "# length of the curve (integral of the speed).\n",
    "\n",
    "integrate(rprimeNorm, (t,0,1))"
   ]
  },
  {
   "cell_type": "markdown",
   "metadata": {},
   "source": [
    "### Problem 3 Solution\n",
    "\n",
    "The length of the curve is $\\;e - \\frac{1}{e}$"
   ]
  },
  {
   "cell_type": "markdown",
   "metadata": {},
   "source": [
    "### Problem 4\n",
    "\n",
    "Find the curvature $\\kappa(t)$ of the curve\n",
    "    $\\vec{r}(t) = \\lv{\\sin(t), \\cos(t), \\sin(t)}$"
   ]
  },
  {
   "cell_type": "code",
   "execution_count": 147,
   "metadata": {},
   "outputs": [
    {
     "data": {
      "image/png": "[encoded data removed]",
      "text/latex": [
       "$$\\operatorname{cos}\\left(t\\right)\\mathbf{\\hat{n}_x} -  \\operatorname{sin}\\left(t\\right)\\mathbf{\\hat{n}_y} + \\operatorname{cos}\\left(t\\right)\\mathbf{\\hat{n}_z}$$"
      ],
      "text/plain": [
       "cos(t) n_x - sin(t) n_y + cos(t) n_z"
      ]
     },
     "execution_count": 147,
     "metadata": {},
     "output_type": "execute_result"
    }
   ],
   "source": [
    "r = sin(t)*N.x + cos(t)*N.y + sin(t)*N.z\n",
    "rp = r.diff(t,N)\n",
    "rp"
   ]
  },
  {
   "cell_type": "code",
   "execution_count": 148,
   "metadata": {},
   "outputs": [
    {
     "data": {
      "image/png": "[encoded data removed]",
      "text/latex": [
       "$$-  \\operatorname{sin}\\left(t\\right)\\mathbf{\\hat{n}_x} -  \\operatorname{cos}\\left(t\\right)\\mathbf{\\hat{n}_y} -  \\operatorname{sin}\\left(t\\right)\\mathbf{\\hat{n}_z}$$"
      ],
      "text/plain": [
       "- sin(t) n_x - cos(t) n_y - sin(t) n_z"
      ]
     },
     "execution_count": 148,
     "metadata": {},
     "output_type": "execute_result"
    }
   ],
   "source": [
    "rpp = rp.diff(t,N)\n",
    "rpp"
   ]
  },
  {
   "cell_type": "code",
   "execution_count": 152,
   "metadata": {},
   "outputs": [],
   "source": [
    "rp_cross_rpp = (rp.cross(rpp)).simplify()"
   ]
  },
  {
   "cell_type": "code",
   "execution_count": 153,
   "metadata": {},
   "outputs": [
    {
     "data": {
      "image/png": "[encoded data removed]",
      "text/latex": [
       "$$\\sqrt{2}$$"
      ],
      "text/plain": [
       "√2"
      ]
     },
     "execution_count": 153,
     "metadata": {},
     "output_type": "execute_result"
    }
   ],
   "source": [
    "rp_cross_rpp.magnitude()"
   ]
  },
  {
   "cell_type": "code",
   "execution_count": 154,
   "metadata": {},
   "outputs": [
    {
     "data": {
      "image/png": "[encoded data removed]",
      "text/latex": [
       "$$\\sqrt{\\sin^{2}{\\left (t \\right )} + 2 \\cos^{2}{\\left (t \\right )}}$$"
      ],
      "text/plain": [
       "   _____________________\n",
       "  ╱    2           2    \n",
       "╲╱  sin (t) + 2⋅cos (t) "
      ]
     },
     "execution_count": 154,
     "metadata": {},
     "output_type": "execute_result"
    }
   ],
   "source": [
    "rp.magnitude()"
   ]
  },
  {
   "cell_type": "code",
   "execution_count": 157,
   "metadata": {},
   "outputs": [
    {
     "data": {
      "image/png": "[encoded data removed]",
      "text/latex": [
       "$$\\frac{\\sqrt{2}}{\\left(\\sin^{2}{\\left (t \\right )} + 2 \\cos^{2}{\\left (t \\right )}\\right)^{\\frac{3}{2}}}$$"
      ],
      "text/plain": [
       "           √2           \n",
       "────────────────────────\n",
       "                     3/2\n",
       "⎛   2           2   ⎞   \n",
       "⎝sin (t) + 2⋅cos (t)⎠   "
      ]
     },
     "execution_count": 157,
     "metadata": {},
     "output_type": "execute_result"
    }
   ],
   "source": [
    "kappa = rp_cross_rpp.magnitude() / rp.magnitude()**3\n",
    "kappa.combsimp()"
   ]
  },
  {
   "cell_type": "markdown",
   "metadata": {},
   "source": [
    "### Problem 4 Solution\n",
    "\n",
    "The curvature is \n",
    "\n",
    "$$\\kappa(t) = \\frac{\\sqrt{2}}{(\\sin^2(t) + 2\\cos^2(t))^{3/2}}$$"
   ]
  },
  {
   "cell_type": "markdown",
   "metadata": {},
   "source": [
    "### Problem 5\n",
    "\n",
    "Find the speed of the particle with position\n",
    "  function $\\vec{r}(t) = \\lv{t^2, t, t^3}$ at $t = 1$."
   ]
  },
  {
   "cell_type": "code",
   "execution_count": 158,
   "metadata": {},
   "outputs": [
    {
     "data": {
      "image/png": "[encoded data removed]",
      "text/latex": [
       "$$2 t\\mathbf{\\hat{n}_x} + \\mathbf{\\hat{n}_y} + 3 t^{2}\\mathbf{\\hat{n}_z}$$"
      ],
      "text/plain": [
       "2⋅t n_x + n_y +    2\n",
       "3⋅t  n_z"
      ]
     },
     "execution_count": 158,
     "metadata": {},
     "output_type": "execute_result"
    }
   ],
   "source": [
    "r = t**2*N.x + t*N.y + t**3*N.z\n",
    "rp = r.diff(t,N)\n",
    "rp"
   ]
  },
  {
   "cell_type": "code",
   "execution_count": 159,
   "metadata": {},
   "outputs": [
    {
     "data": {
      "image/png": "[encoded data removed]",
      "text/latex": [
       "$$\\sqrt{9 t^{4} + 4 t^{2} + 1}$$"
      ],
      "text/plain": [
       "   _________________\n",
       "  ╱    4      2     \n",
       "╲╱  9⋅t  + 4⋅t  + 1 "
      ]
     },
     "execution_count": 159,
     "metadata": {},
     "output_type": "execute_result"
    }
   ],
   "source": [
    "speed = rp.magnitude().combsimp()\n",
    "speed"
   ]
  },
  {
   "cell_type": "code",
   "execution_count": 160,
   "metadata": {},
   "outputs": [
    {
     "data": {
      "image/png": "[encoded data removed]",
      "text/latex": [
       "$$\\sqrt{14}$$"
      ],
      "text/plain": [
       "√14"
      ]
     },
     "execution_count": 160,
     "metadata": {},
     "output_type": "execute_result"
    }
   ],
   "source": [
    "speed.subs(t,1)"
   ]
  },
  {
   "cell_type": "markdown",
   "metadata": {},
   "source": [
    "### Problem 5 Solution\n",
    "\n",
    "The speed of the particle at $t = 1$ is $\\sqrt{14}$"
   ]
  },
  {
   "cell_type": "markdown",
   "metadata": {},
   "source": [
    "### Problem 6\n",
    "\n",
    "Find the tangential and normal components of the acceleration vector if\n",
    "  $\\vec{r}(t) = \\cos(t)\\i + \\sin(t)\\j + t\\k$.\n",
    "  \n",
    "Recall that $\\vec{a}_T = |\\vec{v}|'$ and $\\vec{a}_N = \\kappa|\\vec{v}|^2 = \\sqrt{|\\vec{a}|^2 - a_T^2}$."
   ]
  },
  {
   "cell_type": "code",
   "execution_count": 154,
   "metadata": {},
   "outputs": [
    {
     "data": {
      "image/png": "[encoded data removed]",
      "text/latex": [
       "$$-  \\operatorname{sin}\\left(t\\right)\\mathbf{\\hat{n}_x} + \\operatorname{cos}\\left(t\\right)\\mathbf{\\hat{n}_y} + \\mathbf{\\hat{n}_z}$$"
      ],
      "text/plain": [
       "- sin(t) n_x + cos(t) n_y + n_z"
      ]
     },
     "execution_count": 154,
     "metadata": {},
     "output_type": "execute_result"
    }
   ],
   "source": [
    "r = cos(t)*N.x + sin(t)*N.y + t*N.z\n",
    "v = r.diff(t,N)\n",
    "v"
   ]
  },
  {
   "cell_type": "code",
   "execution_count": 169,
   "metadata": {},
   "outputs": [
    {
     "name": "stdout",
     "output_type": "stream",
     "text": [
      "sqrt(2)\n",
      "0\n"
     ]
    }
   ],
   "source": [
    "vNorm = v.magnitude()\n",
    "print(simplify(vNorm))\n",
    "print(diff(vNorm,t))  # a_T"
   ]
  },
  {
   "cell_type": "code",
   "execution_count": 171,
   "metadata": {},
   "outputs": [
    {
     "data": {
      "image/png": "[encoded data removed]",
      "text/latex": [
       "$$-  \\operatorname{cos}\\left(t\\right)\\mathbf{\\hat{n}_x} -  \\operatorname{sin}\\left(t\\right)\\mathbf{\\hat{n}_y}$$"
      ],
      "text/plain": [
       "- cos(t) n_x - sin(t) n_y"
      ]
     },
     "execution_count": 171,
     "metadata": {},
     "output_type": "execute_result"
    }
   ],
   "source": [
    "a = v.diff(t,N)\n",
    "a"
   ]
  },
  {
   "cell_type": "code",
   "execution_count": 173,
   "metadata": {},
   "outputs": [
    {
     "data": {
      "image/png": "[encoded data removed]",
      "text/latex": [
       "$$1$$"
      ],
      "text/plain": [
       "1"
      ]
     },
     "execution_count": 173,
     "metadata": {},
     "output_type": "execute_result"
    }
   ],
   "source": [
    "aNorm = a.magnitude()\n",
    "simplify(aNorm)  # |a|"
   ]
  },
  {
   "cell_type": "markdown",
   "metadata": {},
   "source": [
    "### Problem 6 Solution\n",
    "\n",
    "$a_T = 0 \\text{ and } a_N = 1$"
   ]
  },
  {
   "cell_type": "markdown",
   "metadata": {},
   "source": [
    "### Problem 7\n",
    "\n",
    "Let $\\vec{r}(t) = \\lv{3\\sin(t), 4t, 3\\cos(t)}$ be a vector valued function which describes a curve.\n",
    "\n",
    "\n",
    "a.  Reparameterize $\\vec{r}$ in terms of arclength $s$.\n",
    "\n",
    "b.  Find $\\vec{T}$ and $\\vec{N}$ (the unit tangent and normal vectors, respectively) to the curve at the point $(0,0,3)$.\n",
    "\n",
    "c.  Find the equation of the normal plane at the point $(0,0,3)$.\n"
   ]
  },
  {
   "cell_type": "code",
   "execution_count": 3,
   "metadata": {},
   "outputs": [
    {
     "data": {
      "image/png": "[encoded data removed]",
      "text/latex": [
       "$$3 \\operatorname{cos}\\left(t\\right)\\mathbf{\\hat{n}_x} + 4\\mathbf{\\hat{n}_y} -  3 \\operatorname{sin}\\left(t\\right)\\mathbf{\\hat{n}_z}$$"
      ],
      "text/plain": [
       "3⋅cos(t) n_x + 4 n_y - 3⋅sin(t) n_z"
      ]
     },
     "execution_count": 3,
     "metadata": {},
     "output_type": "execute_result"
    }
   ],
   "source": [
    "r = 3*sin(t)*N.x + 4*t*N.y + 3*cos(t)*N.z  # Note: t = 0 corresponds to the point (0,0,3)\n",
    "\n",
    "v = r.diff(t,N)\n",
    "v"
   ]
  },
  {
   "cell_type": "code",
   "execution_count": 4,
   "metadata": {},
   "outputs": [
    {
     "data": {
      "image/png": "[encoded data removed]",
      "text/latex": [
       "$$5$$"
      ],
      "text/plain": [
       "5"
      ]
     },
     "execution_count": 4,
     "metadata": {},
     "output_type": "execute_result"
    }
   ],
   "source": [
    "vNorm = v.magnitude().simplify()\n",
    "vNorm"
   ]
  },
  {
   "cell_type": "code",
   "execution_count": 5,
   "metadata": {},
   "outputs": [
    {
     "data": {
      "image/png": "[encoded data removed]",
      "text/latex": [
       "$$5 t$$"
      ],
      "text/plain": [
       "5⋅t"
      ]
     },
     "execution_count": 5,
     "metadata": {},
     "output_type": "execute_result"
    }
   ],
   "source": [
    "tau = symbols('tau')\n",
    "\n",
    "s = integrate(vNorm, (tau,0,t))  # Note: t = 0 corresponds to the point (0,0,3)\n",
    "\n",
    "s"
   ]
  },
  {
   "cell_type": "code",
   "execution_count": 6,
   "metadata": {},
   "outputs": [
    {
     "data": {
      "image/png": "[encoded data removed]",
      "text/latex": [
       "$$3 \\operatorname{sin}\\left(\\frac{s}{5}\\right)\\mathbf{\\hat{n}_x} + \\frac{4 s}{5}\\mathbf{\\hat{n}_y} + 3 \\operatorname{cos}\\left(\\frac{s}{5}\\right)\\mathbf{\\hat{n}_z}$$"
      ],
      "text/plain": [
       "     ⎛s⎞\n",
       "3⋅sin⎜─⎟\n",
       "     ⎝5⎠ n_x + 4⋅s\n",
       "───\n",
       " 5  n_y +      ⎛s⎞\n",
       "3⋅cos⎜─⎟\n",
       "     ⎝5⎠ n_z"
      ]
     },
     "execution_count": 6,
     "metadata": {},
     "output_type": "execute_result"
    }
   ],
   "source": [
    "rs = r.subs(t,'s/5')\n",
    "rs"
   ]
  },
  {
   "cell_type": "code",
   "execution_count": 7,
   "metadata": {},
   "outputs": [
    {
     "data": {
      "image/png": "[encoded data removed]",
      "text/latex": [
       "$$\\frac{3 \\operatorname{cos}\\left(t\\right)}{5}\\mathbf{\\hat{n}_x} + \\frac{4}{5}\\mathbf{\\hat{n}_y} -  \\frac{3 \\operatorname{sin}\\left(t\\right)}{5}\\mathbf{\\hat{n}_z}$$"
      ],
      "text/plain": [
       "3⋅cos(t)\n",
       "────────\n",
       "   5     n_x + 4/5 n_y - 3⋅sin(t) \n",
       "──────────\n",
       "    5      n_z"
      ]
     },
     "execution_count": 7,
     "metadata": {},
     "output_type": "execute_result"
    }
   ],
   "source": [
    "T = v/vNorm\n",
    "T"
   ]
  },
  {
   "cell_type": "code",
   "execution_count": 8,
   "metadata": {},
   "outputs": [
    {
     "data": {
      "image/png": "[encoded data removed]",
      "text/latex": [
       "$$-  \\frac{3 \\operatorname{sin}\\left(t\\right)}{5}\\mathbf{\\hat{n}_x} -  \\frac{3 \\operatorname{cos}\\left(t\\right)}{5}\\mathbf{\\hat{n}_z}$$"
      ],
      "text/plain": [
       "- 3⋅sin(t) \n",
       "──────────\n",
       "    5      n_x - 3⋅cos(t) \n",
       "──────────\n",
       "    5      n_z"
      ]
     },
     "execution_count": 8,
     "metadata": {},
     "output_type": "execute_result"
    }
   ],
   "source": [
    "Tp = T.diff(t,N)\n",
    "Tp"
   ]
  },
  {
   "cell_type": "code",
   "execution_count": 9,
   "metadata": {},
   "outputs": [
    {
     "data": {
      "image/png": "[encoded data removed]",
      "text/latex": [
       "$$\\frac{3}{5}$$"
      ],
      "text/plain": [
       "3/5"
      ]
     },
     "execution_count": 9,
     "metadata": {},
     "output_type": "execute_result"
    }
   ],
   "source": [
    "TpNorm = Tp.magnitude().simplify()\n",
    "TpNorm"
   ]
  },
  {
   "cell_type": "code",
   "execution_count": 10,
   "metadata": {},
   "outputs": [
    {
     "data": {
      "image/png": "[encoded data removed]",
      "text/latex": [
       "$$-  \\operatorname{sin}\\left(t\\right)\\mathbf{\\hat{n}_x} -  \\operatorname{cos}\\left(t\\right)\\mathbf{\\hat{n}_z}$$"
      ],
      "text/plain": [
       "- sin(t) n_x - cos(t) n_z"
      ]
     },
     "execution_count": 10,
     "metadata": {},
     "output_type": "execute_result"
    }
   ],
   "source": [
    "Nvec = Tp/TpNorm\n",
    "Nvec"
   ]
  },
  {
   "cell_type": "code",
   "execution_count": 11,
   "metadata": {},
   "outputs": [
    {
     "data": {
      "image/png": "[encoded data removed]",
      "text/latex": [
       "$$\\frac{3}{5}\\mathbf{\\hat{n}_x} + \\frac{4}{5}\\mathbf{\\hat{n}_y}$$"
      ],
      "text/plain": [
       "3/5 n_x + 4/5 n_y"
      ]
     },
     "metadata": {},
     "output_type": "display_data"
    },
    {
     "data": {
      "image/png": "[encoded data removed]",
      "text/latex": [
       "$$- \\mathbf{\\hat{n}_z}$$"
      ],
      "text/plain": [
       "- n_z"
      ]
     },
     "metadata": {},
     "output_type": "display_data"
    }
   ],
   "source": [
    "# The point (0,0,3) corresponds to t = 0\n",
    "\n",
    "display(T.subs(t,0))\n",
    "display(Nvec.subs(t,0))"
   ]
  },
  {
   "cell_type": "code",
   "execution_count": 12,
   "metadata": {},
   "outputs": [
    {
     "data": {
      "image/png": "[encoded data removed]",
      "text/latex": [
       "$$3\\mathbf{\\hat{n}_x} + 4\\mathbf{\\hat{n}_y}$$"
      ],
      "text/plain": [
       "3 n_x + 4 n_y"
      ]
     },
     "metadata": {},
     "output_type": "display_data"
    },
    {
     "data": {
      "image/png": "[encoded data removed]",
      "text/latex": [
       "$$3 x + 4 y$$"
      ],
      "text/plain": [
       "3⋅x + 4⋅y"
      ]
     },
     "execution_count": 12,
     "metadata": {},
     "output_type": "execute_result"
    }
   ],
   "source": [
    "v0 = v.subs(t,0)\n",
    "display(v0)\n",
    "v0.dot((x*N.x + y*N.y + z*N.z) - (3*N.z))"
   ]
  },
  {
   "cell_type": "markdown",
   "metadata": {},
   "source": [
    "### Problem 7 Solution\n",
    "\n",
    "a.  $\\vec{r}(s) = 3\\sin\\left(\\dfrac{s}{5}\\right)\\i + \n",
    "    \\dfrac{4s}{5}\\j + 3\\cos\\left(\\dfrac{s}{5}\\right)\\k$\n",
    "    \n",
    "b. $\\vec{T}(t) = \\dfrac{3\\cos(t)}{5}\\i + \\dfrac{4}{5}\\j -\n",
    "     \\dfrac{3\\sin(t)}{5}\\k$\n",
    "     \n",
    "   $\\quad\\vec{N}(t) = -\\sin(t)\\i - \\cos(t)\\k$\n",
    "   \n",
    "c. The tangent plane equation to the curve at $(0,0,3)$ is\n",
    "    $3x + 4y = 0$"
   ]
  },
  {
   "cell_type": "markdown",
   "metadata": {},
   "source": [
    "### Problem 8\n",
    "\n",
    "Given the accelleration of a particle $\\vec{a}(t) = \\lv{t, t^2, \\cos(2t)}$, with initial velocity $\\vec{v}(0) = \\lv{1,0,1}$ and $\\vec{r}(0) = \\lv{0,1,0}$\n",
    "\n",
    "a.  Find the velocity $\\vec{v}(t)$.\n",
    "\n",
    "b.  Find the position $\\vec{r}(t)$."
   ]
  },
  {
   "cell_type": "code",
   "execution_count": 113,
   "metadata": {},
   "outputs": [],
   "source": [
    "a = t*N.x + t**2*N.y + cos(2*t)*N.z\n",
    "v0 = N.x + N.z\n",
    "r0 = N.y"
   ]
  },
  {
   "cell_type": "code",
   "execution_count": 112,
   "metadata": {},
   "outputs": [
    {
     "data": {
      "image/png": "[encoded data removed]",
      "text/latex": [
       "$$\\frac{t^{2}}{2}\\mathbf{\\hat{n}_x} + \\frac{t^{3}}{3}\\mathbf{\\hat{n}_y} + \\frac{\\operatorname{sin}\\left(2 t\\right)}{2}\\mathbf{\\hat{n}_z}$$"
      ],
      "text/plain": [
       " 2\n",
       "t \n",
       "──\n",
       "2  n_x +  3\n",
       "t \n",
       "──\n",
       "3  n_y + sin(2⋅t)\n",
       "────────\n",
       "   2     n_z"
      ]
     },
     "execution_count": 112,
     "metadata": {},
     "output_type": "execute_result"
    }
   ],
   "source": [
    "v = a.applyfunc(lambda f: integrate(f,t))\n",
    "v"
   ]
  },
  {
   "cell_type": "code",
   "execution_count": 114,
   "metadata": {},
   "outputs": [
    {
     "data": {
      "image/png": "[encoded data removed]",
      "text/latex": [
       "$$\\mathbf{\\hat{n}_x} + \\mathbf{\\hat{n}_z}$$"
      ],
      "text/plain": [
       "n_x + n_z"
      ]
     },
     "execution_count": 114,
     "metadata": {},
     "output_type": "execute_result"
    }
   ],
   "source": [
    "Cv = v0 - v.subs(t,0)\n",
    "Cv"
   ]
  },
  {
   "cell_type": "code",
   "execution_count": 115,
   "metadata": {},
   "outputs": [
    {
     "data": {
      "image/png": "[encoded data removed]",
      "text/latex": [
       "$$(\\frac{t^{2}}{2} + 1)\\mathbf{\\hat{n}_x} + \\frac{t^{3}}{3}\\mathbf{\\hat{n}_y} + (\\frac{\\operatorname{sin}\\left(2 t\\right)}{2} + 1)\\mathbf{\\hat{n}_z}$$"
      ],
      "text/plain": [
       "⎛ 2    ⎞\n",
       "⎜t     ⎟\n",
       "⎜── + 1⎟\n",
       "⎝2     ⎠ n_x +  3\n",
       "t \n",
       "──\n",
       "3  n_y + ⎛sin(2⋅t)    ⎞\n",
       "⎜──────── + 1⎟\n",
       "⎝   2        ⎠ n_z"
      ]
     },
     "execution_count": 115,
     "metadata": {},
     "output_type": "execute_result"
    }
   ],
   "source": [
    "vPlusCv = v + Cv\n",
    "vPlusCv"
   ]
  },
  {
   "cell_type": "code",
   "execution_count": 116,
   "metadata": {},
   "outputs": [
    {
     "data": {
      "image/png": "[encoded data removed]",
      "text/latex": [
       "$$(\\frac{t^{3}}{6} + t)\\mathbf{\\hat{n}_x} + \\frac{t^{4}}{12}\\mathbf{\\hat{n}_y} + (t - \\frac{\\operatorname{cos}\\left(2 t\\right)}{4})\\mathbf{\\hat{n}_z}$$"
      ],
      "text/plain": [
       "⎛ 3    ⎞\n",
       "⎜t     ⎟\n",
       "⎜── + t⎟\n",
       "⎝6     ⎠ n_x +  4\n",
       "t \n",
       "──\n",
       "12 n_y + ⎛    cos(2⋅t)⎞\n",
       "⎜t - ────────⎟\n",
       "⎝       4    ⎠ n_z"
      ]
     },
     "execution_count": 116,
     "metadata": {},
     "output_type": "execute_result"
    }
   ],
   "source": [
    "r = vPlusCv.applyfunc(lambda f: integrate(f,t))\n",
    "r"
   ]
  },
  {
   "cell_type": "code",
   "execution_count": 117,
   "metadata": {},
   "outputs": [
    {
     "data": {
      "image/png": "[encoded data removed]",
      "text/latex": [
       "$$\\mathbf{\\hat{n}_y} + \\frac{1}{4}\\mathbf{\\hat{n}_z}$$"
      ],
      "text/plain": [
       "n_y + 1/4 n_z"
      ]
     },
     "execution_count": 117,
     "metadata": {},
     "output_type": "execute_result"
    }
   ],
   "source": [
    "Cr = r0 - r.subs(t,0)\n",
    "Cr"
   ]
  },
  {
   "cell_type": "code",
   "execution_count": 118,
   "metadata": {},
   "outputs": [
    {
     "data": {
      "image/png": "[encoded data removed]",
      "text/latex": [
       "$$(\\frac{t^{3}}{6} + t)\\mathbf{\\hat{n}_x} + (\\frac{t^{4}}{12} + 1)\\mathbf{\\hat{n}_y} + (t - \\frac{\\operatorname{cos}\\left(2 t\\right)}{4} + \\frac{1}{4})\\mathbf{\\hat{n}_z}$$"
      ],
      "text/plain": [
       "⎛ 3    ⎞\n",
       "⎜t     ⎟\n",
       "⎜── + t⎟\n",
       "⎝6     ⎠ n_x + ⎛ 4    ⎞\n",
       "⎜t     ⎟\n",
       "⎜── + 1⎟\n",
       "⎝12    ⎠ n_y + ⎛    cos(2⋅t)   1⎞\n",
       "⎜t - ──────── + ─⎟\n",
       "⎝       4       4⎠ n_z"
      ]
     },
     "execution_count": 118,
     "metadata": {},
     "output_type": "execute_result"
    }
   ],
   "source": [
    "rPlusCr = r + Cr\n",
    "rPlusCr"
   ]
  },
  {
   "cell_type": "markdown",
   "metadata": {},
   "source": [
    "### Problem 8 Solutions\n",
    "\n",
    "a.  $\\vec{v}(t) = \\left(\\dfrac{t^2}{2} + 1\\right)\\i +\n",
    "    \\dfrac{t^3}{3}\\j + \\left(\\dfrac{\\sin(2t)}{2} + 1\\right)\\k$\n",
    "    \n",
    "b.  $\\vec{r}(t) = \\left(\\dfrac{t^3}{6} + t\\right)\\i +\n",
    "    \\left(\\dfrac{t^4}{12} + 1\\right)\\j + \\left(t - \\dfrac{\\cos(2t)}{4} + \\dfrac{1}{4}\\right)\\k$"
   ]
  },
  {
   "cell_type": "markdown",
   "metadata": {},
   "source": [
    "### Problem 9\n",
    "\n",
    "Find $\\int_C f\\;ds$, $\\int_C f\\;dx$ and $\\int_C f\\;dy$, where $f(x,y) = x^2 + y^2$ and $C$ is the curve parameterized by\n",
    "\n",
    "$\\quad\\begin{equation*}\n",
    "\\begin{aligned}\n",
    "    x &= 4t - 1\\\\\n",
    "    y &= 3t + 1\n",
    "\\end{aligned}\n",
    "\\qquad \\text{for } -1 \\leq t \\leq 1\n",
    "\\end{equation*}$"
   ]
  },
  {
   "cell_type": "code",
   "execution_count": 120,
   "metadata": {
    "collapsed": true
   },
   "outputs": [],
   "source": [
    "f = x**2 + y**2\n",
    "xt = 4*t - 1\n",
    "yt = 3*t + 1"
   ]
  },
  {
   "cell_type": "code",
   "execution_count": 121,
   "metadata": {},
   "outputs": [
    {
     "data": {
      "image/png": "[encoded data removed]",
      "text/latex": [
       "$$5$$"
      ],
      "text/plain": [
       "5"
      ]
     },
     "execution_count": 121,
     "metadata": {},
     "output_type": "execute_result"
    }
   ],
   "source": [
    "ds = sqrt(diff(xt,t)**2 + diff(yt,t)**2)\n",
    "ds"
   ]
  },
  {
   "cell_type": "code",
   "execution_count": 122,
   "metadata": {},
   "outputs": [
    {
     "data": {
      "image/png": "[encoded data removed]",
      "text/latex": [
       "$$\\frac{310}{3}$$"
      ],
      "text/plain": [
       "310/3"
      ]
     },
     "execution_count": 122,
     "metadata": {},
     "output_type": "execute_result"
    }
   ],
   "source": [
    "intfds = integrate(f.subs({x:xt, y:yt})*ds, (t,-1,1))\n",
    "intfds"
   ]
  },
  {
   "cell_type": "code",
   "execution_count": 123,
   "metadata": {},
   "outputs": [
    {
     "data": {
      "image/png": "[encoded data removed]",
      "text/latex": [
       "$$\\frac{248}{3}$$"
      ],
      "text/plain": [
       "248/3"
      ]
     },
     "execution_count": 123,
     "metadata": {},
     "output_type": "execute_result"
    }
   ],
   "source": [
    "intfdx = integrate(f.subs({x:xt, y:yt})*diff(xt,t), (t,-1,1))\n",
    "intfdx"
   ]
  },
  {
   "cell_type": "code",
   "execution_count": 124,
   "metadata": {},
   "outputs": [
    {
     "data": {
      "image/png": "[encoded data removed]",
      "text/latex": [
       "$$62$$"
      ],
      "text/plain": [
       "62"
      ]
     },
     "execution_count": 124,
     "metadata": {},
     "output_type": "execute_result"
    }
   ],
   "source": [
    "intfdy = integrate(f.subs({x:xt, y:yt})*diff(yt,t), (t,-1,1))\n",
    "intfdy"
   ]
  },
  {
   "cell_type": "markdown",
   "metadata": {},
   "source": [
    "### Problem 9 Solutions\n",
    "\n",
    "$\\int_C f\\;ds = \\dfrac{310}{3}$\n",
    "\n",
    "$\\int_C f\\;dx = \\dfrac{248}{3}$\n",
    "\n",
    "$\\int_C f\\;dy = 62$"
   ]
  },
  {
   "cell_type": "markdown",
   "metadata": {},
   "source": [
    "### Problem 10\n",
    "\n",
    "Evaluate $\\int_C y\\sqrt{x}\\;dx + x^{3/2}\\;dy$, where $C$ is the curve $y^2 = x^3$ from $(1,1)$ to $(4,8)$.\n",
    "\n",
    "Note: $y^2 = x^3 \\implies y = x^{3/2}$. Therefore, parameterize the curve $C$ by:\n",
    "\n",
    "$\\quad\\begin{equation*}\n",
    "\\begin{aligned}\n",
    "    x &= t\\\\\n",
    "    y &= t^{3/2}\n",
    "\\end{aligned}\n",
    "\\qquad \\text{for } 1 \\leq t \\leq 4\n",
    "\\end{equation*}$"
   ]
  },
  {
   "cell_type": "code",
   "execution_count": 179,
   "metadata": {},
   "outputs": [
    {
     "data": {
      "image/png": "[encoded data removed]",
      "text/latex": [
       "$$52.5$$"
      ],
      "text/plain": [
       "52.5000000000000"
      ]
     },
     "execution_count": 179,
     "metadata": {},
     "output_type": "execute_result"
    }
   ],
   "source": [
    "xt = t\n",
    "yt = t**(3/2)\n",
    "\n",
    "integrate(yt*sqrt(xt)*diff(xt,t) + xt**(3/2)*diff(yt,t), (t,1,4))"
   ]
  },
  {
   "cell_type": "markdown",
   "metadata": {},
   "source": [
    "### Problem 10 Solution\n",
    "\n",
    "$\\int_C y\\sqrt{x}\\;dx + x^{3/2}\\;dy = 52.5$"
   ]
  },
  {
   "cell_type": "markdown",
   "metadata": {},
   "source": [
    "### Problem 11\n",
    "\n",
    "Evaluate $\\int_C \\vec{F}\\cdot\\vec{T}\\;ds$, where $\\vec{F} = \\lv{y, -x, z}$ and $C$ is the curve parameterized by:\n",
    "\n",
    "$\\quad\\begin{equation*}\n",
    "\\begin{aligned}\n",
    "    x &= \\sin(t)\\\\\n",
    "    y &= \\cos(t)\\\\\n",
    "    z &= 2t\n",
    "\\end{aligned}\n",
    "\\qquad \\text{for } 0 \\leq t \\leq \\pi\n",
    "\\end{equation*}$\n",
    "\n",
    "Note: $\\int_C \\vec{F}\\cdot\\vec{T}\\;ds = \\int_C \\vec{F}\\cdot d\\vec{r}\n",
    "= \\int_0^\\pi \\vec{F}(\\vec{r}(t)) \\cdot \\vec{r}'(t)\\;dt$"
   ]
  },
  {
   "cell_type": "code",
   "execution_count": 126,
   "metadata": {
    "collapsed": true
   },
   "outputs": [],
   "source": [
    "xt = sin(t)\n",
    "yt = cos(t)\n",
    "zt = 2*t\n",
    "\n",
    "dxt = diff(xt,t)\n",
    "dyt = diff(yt,t)\n",
    "dzt = diff(zt,t)"
   ]
  },
  {
   "cell_type": "code",
   "execution_count": 127,
   "metadata": {},
   "outputs": [
    {
     "data": {
      "image/png": "[encoded data removed]",
      "text/latex": [
       "$$\\pi + 2 \\pi^{2}$$"
      ],
      "text/plain": [
       "       2\n",
       "π + 2⋅π "
      ]
     },
     "execution_count": 127,
     "metadata": {},
     "output_type": "execute_result"
    }
   ],
   "source": [
    "integrate(yt*dxt - xt*dyt + zt*dzt, (t,0,pi))"
   ]
  },
  {
   "cell_type": "markdown",
   "metadata": {},
   "source": [
    "### Problem 11 Solution\n",
    "\n",
    "$\\int_C \\vec{F}\\cdot\\vec{T}\\;ds = \\pi + 2\\pi^2$"
   ]
  },
  {
   "cell_type": "markdown",
   "metadata": {},
   "source": [
    "### Problem 12\n",
    "\n",
    "Evaluate $\\int_C xy\\;ds$, where $C$ is the curve parameterized by:\n",
    "\n",
    "$\\quad\\begin{equation*}\n",
    "\\begin{aligned}\n",
    "    x &= 4\\cos(t)\\\\\n",
    "    y &= 9\\sin(t)\\\\\n",
    "    z &= 7t\n",
    "\\end{aligned}\n",
    "\\qquad \\text{for } 0 \\leq t \\leq \\frac{5\\pi}{2}\n",
    "\\end{equation*}$"
   ]
  },
  {
   "cell_type": "code",
   "execution_count": 128,
   "metadata": {},
   "outputs": [
    {
     "data": {
      "image/png": "[encoded data removed]",
      "text/latex": [
       "$$\\sqrt{16 \\sin^{2}{\\left (t \\right )} + 81 \\cos^{2}{\\left (t \\right )} + 49}$$"
      ],
      "text/plain": [
       "   ______________________________\n",
       "  ╱       2            2         \n",
       "╲╱  16⋅sin (t) + 81⋅cos (t) + 49 "
      ]
     },
     "execution_count": 128,
     "metadata": {},
     "output_type": "execute_result"
    }
   ],
   "source": [
    "xt = 4*cos(t)\n",
    "yt = 9*sin(t)\n",
    "zt = 7*t\n",
    "\n",
    "ds = sqrt(diff(xt,t)**2 + diff(yt,t)**2 + diff(zt,t)**2)\n",
    "ds"
   ]
  },
  {
   "cell_type": "markdown",
   "metadata": {},
   "source": [
    "Note: $81\\cos^2(t) = 16\\cos^2(t) + 65\\cos^2(t)$, therefore:\n",
    "\n",
    "$\\quad\\begin{align*}\n",
    "  ds &= \\sqrt{16\\sin^2(t) + 16\\cos^2(t) + 65\\cos^2(t) + 49}\\\\\n",
    "      &= \\sqrt{16 + 65\\cos^2(t) + 49}\\\\\n",
    "      &= \\sqrt{65 + 65\\cos^2(t)}\\\\\n",
    "      &= \\sqrt{65}\\;\\sqrt{1 + \\cos^2(t)}\n",
    "\\end{align*}$"
   ]
  },
  {
   "cell_type": "code",
   "execution_count": 150,
   "metadata": {},
   "outputs": [
    {
     "data": {
      "image/png": "[encoded data removed]",
      "text/latex": [
       "$$\\sqrt{65} \\sqrt{\\cos^{2}{\\left (t \\right )} + 1}$$"
      ],
      "text/plain": [
       "       _____________\n",
       "      ╱    2        \n",
       "√65⋅╲╱  cos (t) + 1 "
      ]
     },
     "execution_count": 150,
     "metadata": {},
     "output_type": "execute_result"
    }
   ],
   "source": [
    "ds = sqrt(65) * sqrt(1 + cos(t)**2)\n",
    "ds"
   ]
  },
  {
   "cell_type": "code",
   "execution_count": 152,
   "metadata": {},
   "outputs": [
    {
     "data": {
      "image/png": "[encoded data removed]",
      "text/latex": [
       "$$36 \\sqrt{65} \\left(- \\frac{1}{3} \\sqrt{\\cos^{2}{\\left (t \\right )} + 1} \\cos^{2}{\\left (t \\right )} - \\frac{1}{3} \\sqrt{\\cos^{2}{\\left (t \\right )} + 1}\\right)$$"
      ],
      "text/plain": [
       "       ⎛     _____________              _____________⎞\n",
       "       ⎜    ╱    2            2        ╱    2        ⎟\n",
       "       ⎜  ╲╱  cos (t) + 1 ⋅cos (t)   ╲╱  cos (t) + 1 ⎟\n",
       "36⋅√65⋅⎜- ──────────────────────── - ────────────────⎟\n",
       "       ⎝             3                      3        ⎠"
      ]
     },
     "execution_count": 152,
     "metadata": {},
     "output_type": "execute_result"
    }
   ],
   "source": [
    "integrate(xt*yt*ds, t)"
   ]
  },
  {
   "cell_type": "code",
   "execution_count": 151,
   "metadata": {},
   "outputs": [
    {
     "data": {
      "image/png": "[encoded data removed]",
      "text/latex": [
       "$$- 12 \\sqrt{65} + 24 \\sqrt{130}$$"
      ],
      "text/plain": [
       "-12⋅√65 + 24⋅√130"
      ]
     },
     "execution_count": 151,
     "metadata": {},
     "output_type": "execute_result"
    }
   ],
   "source": [
    "integrate(xt*yt*ds, (t,0,5*pi/2))"
   ]
  },
  {
   "cell_type": "markdown",
   "metadata": {},
   "source": [
    "### Problem 12 Solution\n",
    "\n",
    "$\\int_C xy\\;ds = 24\\sqrt{130} - 12\\sqrt{65}$"
   ]
  },
  {
   "cell_type": "markdown",
   "metadata": {},
   "source": [
    "### Problem 13\n",
    "\n",
    "Determine whether or not the vector field $\\vec{F} = (\\cos(x) + \\ln(y))\\i + (\\frac{x}{y} + e^y)\\j$ is conservative. If it is conservative, find a potential function $f(x,y)$ of the field."
   ]
  },
  {
   "cell_type": "code",
   "execution_count": 153,
   "metadata": {},
   "outputs": [
    {
     "data": {
      "text/plain": [
       "True"
      ]
     },
     "execution_count": 153,
     "metadata": {},
     "output_type": "execute_result"
    }
   ],
   "source": [
    "Fx = cos(x) + log(y)\n",
    "Fy = x/y + exp(y)\n",
    "\n",
    "diff(Fx,y) == diff(Fy,x)"
   ]
  },
  {
   "cell_type": "markdown",
   "metadata": {},
   "source": [
    "### Problem 13 Solution\n",
    "\n",
    "Since $\\pd{y}(\\cos(x) + \\ln(y)) = \\dfrac{1}{y} \\;\\;\\text{and}\\;\\; \\pd{x}\\left(\\dfrac{x}{y} + e^y\\right) = \\dfrac{1}{y}$, the field $\\vec{F}$ is conservative.\n",
    "\n",
    "The potential $f(x,y,z)$ is a function such that $\\nabla f = \\vec{F}$. Using the \"guess and check\" method, we find that $f(x,y,z) = \\sin(x) + x\\ln(y) + e^y$."
   ]
  },
  {
   "cell_type": "markdown",
   "metadata": {},
   "source": [
    "### Problem 14\n",
    "\n",
    "Evaluate the work integral $\\int_C \\vec{F}\\cdot d\\vec{r}$, where $\\vec{F}(x,y,z) = yz\\i + xz\\j + xy\\k$ and $C$ is the curve $y = x\\sin(\\pi x)$ going from $(0,0,0)$ to $(\\frac{7}{2}, -\\frac{7}{2}, 0)$. Hint: Is the field conservative?"
   ]
  },
  {
   "cell_type": "markdown",
   "metadata": {},
   "source": [
    "### Problem 14 Solution\n",
    "\n",
    "The field $\\vec{F}$ is conservative since $f(x,y,z) = xyz$ is a potential function for $\\vec{F}$.\n",
    "\n",
    "Therefore: \n",
    "\n",
    "$\\int_C \\vec{F}\\cdot d\\vec{r} = f(\\frac{7}{2}, -\\frac{7}{2}, 0) - f(0,0,0) =\n",
    "0 - 0 = 0$"
   ]
  },
  {
   "cell_type": "code",
   "execution_count": null,
   "metadata": {
    "collapsed": true
   },
   "outputs": [],
   "source": []
  }
 ],
 "metadata": {
  "hide_input": false,
  "kernelspec": {
   "display_name": "Python [default]",
   "language": "python",
   "name": "python3"
  },
  "language_info": {
   "codemirror_mode": {
    "name": "ipython",
    "version": 3
   },
   "file_extension": ".py",
   "mimetype": "text/x-python",
   "name": "python",
   "nbconvert_exporter": "python",
   "pygments_lexer": "ipython3",
   "version": "3.5.4"
  },
  "latex_envs": {
   "bibliofile": "biblio.bib",
   "cite_by": "apalike",
   "current_citInitial": 1,
   "eqLabelWithNumbers": true,
   "eqNumInitial": 0
  }
 },
 "nbformat": 4,
 "nbformat_minor": 1
}
