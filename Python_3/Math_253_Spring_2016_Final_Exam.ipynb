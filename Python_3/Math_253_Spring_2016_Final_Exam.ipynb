{
 "cells": [
  {
   "cell_type": "markdown",
   "metadata": {},
   "source": [
    "$\n",
    "\\newcommand{i}{\\mathbf{\\hat{\\imath}}}\n",
    "\\newcommand{j}{\\mathbf{\\hat{\\jmath}}}\n",
    "\\newcommand{k}{\\mathbf{\\hat{k}}}\n",
    "\\newcommand{lv}[1]{\\left<#1\\right>}\n",
    "\\newcommand{pd}[1]{\\dfrac{\\partial}{\\partial#1}}\n",
    "\\newcommand{pd}[2]{\\dfrac{\\partial #1}{\\partial #2}}\n",
    "\\renewcommand{iint}{\\int\\!\\!\\!\\!\\int}\n",
    "\\renewcommand{vec}[1]{\\mathbf #1}\n",
    "$"
   ]
  },
  {
   "cell_type": "code",
   "execution_count": 1,
   "metadata": {
    "collapsed": false
   },
   "outputs": [
    {
     "name": "stdout",
     "output_type": "stream",
     "text": [
      "IPython console for SymPy 1.0 (Python 3.5.1-64-bit) (ground types: python)\n",
      "\n",
      "These commands were executed:\n",
      ">>> from __future__ import division\n",
      ">>> from sympy import *\n",
      ">>> x, y, z, t = symbols('x y z t')\n",
      ">>> k, m, n = symbols('k m n', integer=True)\n",
      ">>> f, g, h = symbols('f g h', cls=Function)\n",
      ">>> init_printing()\n",
      "\n",
      "Documentation can be found at http://docs.sympy.org/1.0/\n"
     ]
    }
   ],
   "source": [
    "from sympy import init_session\n",
    "init_session()"
   ]
  },
  {
   "cell_type": "code",
   "execution_count": 2,
   "metadata": {
    "collapsed": true
   },
   "outputs": [],
   "source": [
    "from sympy.physics.vector import *\n",
    "N = ReferenceFrame('N')\n",
    "\n",
    "t = symbols('t', positive=True)"
   ]
  },
  {
   "cell_type": "code",
   "execution_count": 3,
   "metadata": {
    "collapsed": false
   },
   "outputs": [
    {
     "name": "stdout",
     "output_type": "stream",
     "text": [
      "sqrt(t**2 + 4*t + 4)\n"
     ]
    },
    {
     "data": {
      "image/png": "[encoded data removed]",
      "text/latex": [
       "$$20$$"
      ],
      "text/plain": [
       "20"
      ]
     },
     "execution_count": 3,
     "metadata": {},
     "output_type": "execute_result"
    }
   ],
   "source": [
    "#2\n",
    "\n",
    "v = 2*sqrt(t)*N.x + t*N.y + 2*N.z\n",
    "vnorm = v.magnitude()\n",
    "print(vnorm)\n",
    "\n",
    "integrate(vnorm.combsimp(), (t,1,5))"
   ]
  },
  {
   "cell_type": "code",
   "execution_count": 4,
   "metadata": {
    "collapsed": false
   },
   "outputs": [
    {
     "name": "stdout",
     "output_type": "stream",
     "text": [
      "answer = 2*sqrt(3)*pi ≈ 10.8827961854053\n"
     ]
    }
   ],
   "source": [
    "#5\n",
    "\n",
    "r, theta = symbols('r theta')\n",
    "\n",
    "ans = integrate(sqrt(4 - r**2) * r, (r,1,2), (theta,0,2*pi))\n",
    "print(\"answer = {} \\u2248 {}\".format(ans, ans.n()))"
   ]
  },
  {
   "cell_type": "code",
   "execution_count": 5,
   "metadata": {
    "collapsed": false
   },
   "outputs": [
    {
     "name": "stdout",
     "output_type": "stream",
     "text": [
      "sqrt(4*t**2 + 1)\n",
      "answer = -1/12 + 17*sqrt(17)/12 ≈ 5.75773296962502\n"
     ]
    }
   ],
   "source": [
    "#6\n",
    "\n",
    "x = t\n",
    "y = t**2\n",
    "\n",
    "dx = diff(x,t)\n",
    "dy = diff(y,t)\n",
    "\n",
    "ds = sqrt(dx**2 + dy**2)\n",
    "print(ds)\n",
    "\n",
    "ans = integrate(sqrt(y)*ds, (t,0,2))\n",
    "print(\"answer = {} \\u2248 {}\".format(ans, ans.n()))"
   ]
  },
  {
   "cell_type": "code",
   "execution_count": 6,
   "metadata": {
    "collapsed": false
   },
   "outputs": [
    {
     "name": "stdout",
     "output_type": "stream",
     "text": [
      "The potential is N_x*N_y*N_z\n",
      "The line integral is 8 and potential theorem gives 8\n"
     ]
    }
   ],
   "source": [
    "#7\n",
    "# We want to find the potential f(x,y,z) such that grad(f) = F\n",
    "\n",
    "x, y, z= symbols('x y z')\n",
    "\n",
    "F = N[1]*N[2]*N.x + N[0]*N[2]*N.y + N[0]*N[1]*N.z\n",
    "\n",
    "f = scalar_potential(F,N)\n",
    "def potential(x,y,z):\n",
    "    return f.subs({N[0]:x, N[1]:y, N[2]:z})\n",
    "\n",
    "print(\"The potential is {}\".format(f))\n",
    "\n",
    "xt = t\n",
    "yt = t\n",
    "zt = t**2/2\n",
    "\n",
    "dxt = diff(xt,t)\n",
    "dyt = diff(yt,t)\n",
    "dzt = diff(zt,t)\n",
    "\n",
    "drt = dxt*N.x + dyt*N.y + dzt*N.z\n",
    "\n",
    "line_integral_ans = integrate(F.dot(drt).subs({N[0]:xt, N[1]:yt, N[2]:zt}), (t,0,2))\n",
    "\n",
    "xt0, yt0, zt0 = [v.subs(t,0) for v in [xt,yt,zt]]\n",
    "xt2, yt2, zt2 = [v.subs(t,2) for v in [xt,yt,zt]]\n",
    "\n",
    "potential_ans = potential(xt2,yt2,zt2) - potential(xt0,yt0,zt0)\n",
    "\n",
    "print(\"The line integral is {} and potential theorem gives {}\".format(line_integral_ans, potential_ans))"
   ]
  },
  {
   "cell_type": "code",
   "execution_count": 7,
   "metadata": {
    "collapsed": false
   },
   "outputs": [
    {
     "name": "stdout",
     "output_type": "stream",
     "text": [
      "The answer is 3\n"
     ]
    }
   ],
   "source": [
    "#8\n",
    "\n",
    "ans = integrate(2*y, (y,0,3*x), (x,0,1))\n",
    "\n",
    "print(\"The answer is {}\".format(ans))"
   ]
  },
  {
   "cell_type": "code",
   "execution_count": 16,
   "metadata": {
    "collapsed": false
   },
   "outputs": [
    {
     "data": {
      "image/png": "[encoded data removed]",
      "text/latex": [
       "$$\\frac{128}{15}$$"
      ],
      "text/plain": [
       "128\n",
       "───\n",
       " 15"
      ]
     },
     "execution_count": 16,
     "metadata": {},
     "output_type": "execute_result"
    }
   ],
   "source": [
    "#9\n",
    "\n",
    "F = N[0]*N[1]*N.x + 4*N[0]**2*N.y + N[1]*N[2]*N.z\n",
    "\n",
    "divF = divergence(F,N)\n",
    "\n",
    "r, theta = symbols('r theta')\n",
    "\n",
    "integrate(r*divF.subs({N[0]:r*cos(theta), N[1]:r*sin(theta), N[2]:z}), (z,0,4-r**2), (r,0,2), (theta,0,pi/2))\n",
    "\n",
    "#divF.subs({N[0]:r*cos(theta), N[1]:r*sin(theta), N[2]:z})"
   ]
  },
  {
   "cell_type": "code",
   "execution_count": 9,
   "metadata": {
    "collapsed": false
   },
   "outputs": [
    {
     "name": "stdout",
     "output_type": "stream",
     "text": [
      "The answer is 80*pi ≈ 251.327412287183\n"
     ]
    }
   ],
   "source": [
    "#10\n",
    "\n",
    "F = N[1]*N[2]*N.x + 2*N[0]*N[2]*N.y + exp(N[0]*N[1])*N.z\n",
    "\n",
    "xt = 4*cos(t)\n",
    "yt = 4*sin(t)\n",
    "zt = 5\n",
    "\n",
    "dxt = diff(xt,t)\n",
    "dyt = diff(yt,t)\n",
    "dzt = diff(zt,t)\n",
    "\n",
    "Fdot_dr = F.subs({N[0]:xt, N[1]:yt, N[2]:zt}).dot(dxt*N.x + dyt*N.y + dzt*N.z)\n",
    "\n",
    "ans = integrate(Fdot_dr, (t,0,2*pi))\n",
    "\n",
    "print(\"The answer is {} \\u2248 {}\".format(ans, ans.n()))\n"
   ]
  },
  {
   "cell_type": "code",
   "execution_count": 15,
   "metadata": {
    "collapsed": false
   },
   "outputs": [
    {
     "data": {
      "image/png": "[encoded data removed]",
      "text/latex": [
       "$$2 r \\sin{\\left (\\theta \\right )}$$"
      ],
      "text/plain": [
       "2⋅r⋅sin(θ)"
      ]
     },
     "execution_count": 15,
     "metadata": {},
     "output_type": "execute_result"
    }
   ],
   "source": [
    "divF.subs({N[0]:r*cos(theta), N[1]:r*sin(theta), N[2]:z})"
   ]
  },
  {
   "cell_type": "code",
   "execution_count": 18,
   "metadata": {
    "collapsed": false
   },
   "outputs": [
    {
     "data": {
      "image/png": "[encoded data removed]",
      "text/latex": [
       "$$251.327412287183$$"
      ],
      "text/plain": [
       "251.327412287183"
      ]
     },
     "execution_count": 18,
     "metadata": {},
     "output_type": "execute_result"
    }
   ],
   "source": [
    "80*pi.n()"
   ]
  },
  {
   "cell_type": "code",
   "execution_count": null,
   "metadata": {
    "collapsed": true
   },
   "outputs": [],
   "source": []
  }
 ],
 "metadata": {
  "hide_input": false,
  "kernelspec": {
   "display_name": "Python 3",
   "language": "python",
   "name": "python3"
  },
  "language_info": {
   "codemirror_mode": {
    "name": "ipython",
    "version": 3
   },
   "file_extension": ".py",
   "mimetype": "text/x-python",
   "name": "python",
   "nbconvert_exporter": "python",
   "pygments_lexer": "ipython3",
   "version": "3.5.1"
  },
  "latex_envs": {
   "bibliofile": "biblio.bib",
   "cite_by": "apalike",
   "current_citInitial": 1,
   "eqLabelWithNumbers": true,
   "eqNumInitial": 0
  }
 },
 "nbformat": 4,
 "nbformat_minor": 0
}
