{
 "cells": [
  {
   "cell_type": "code",
   "execution_count": 1,
   "metadata": {},
   "outputs": [],
   "source": [
    "data_path = '/home/gary/Documents/Jupyter_Notebooks/Python_3/Google_Stock_Data.csv'"
   ]
  },
  {
   "cell_type": "code",
   "execution_count": 10,
   "metadata": {},
   "outputs": [],
   "source": [
    "lines = [line for line in open(data_path)]"
   ]
  },
  {
   "cell_type": "code",
   "execution_count": 12,
   "metadata": {},
   "outputs": [
    {
     "data": {
      "text/plain": [
       "'Date,Open,High,Low,Close,Volume,Adj Close\\n'"
      ]
     },
     "execution_count": 12,
     "metadata": {},
     "output_type": "execute_result"
    }
   ],
   "source": [
    "lines[0]"
   ]
  },
  {
   "cell_type": "code",
   "execution_count": 13,
   "metadata": {},
   "outputs": [
    {
     "data": {
      "text/plain": [
       "'8/19/2014,585.002622,587.342658,584.002627,586.862643,978600,586.862643\\n'"
      ]
     },
     "execution_count": 13,
     "metadata": {},
     "output_type": "execute_result"
    }
   ],
   "source": [
    "lines[1]"
   ]
  },
  {
   "cell_type": "code",
   "execution_count": 14,
   "metadata": {},
   "outputs": [
    {
     "data": {
      "text/plain": [
       "'Date,Open,High,Low,Close,Volume,Adj Close'"
      ]
     },
     "execution_count": 14,
     "metadata": {},
     "output_type": "execute_result"
    }
   ],
   "source": [
    "lines[0].strip()"
   ]
  },
  {
   "cell_type": "code",
   "execution_count": 15,
   "metadata": {},
   "outputs": [
    {
     "data": {
      "text/plain": [
       "['Date', 'Open', 'High', 'Low', 'Close', 'Volume', 'Adj Close']"
      ]
     },
     "execution_count": 15,
     "metadata": {},
     "output_type": "execute_result"
    }
   ],
   "source": [
    "lines[0].strip().split(',')"
   ]
  },
  {
   "cell_type": "code",
   "execution_count": 16,
   "metadata": {},
   "outputs": [],
   "source": [
    "dataset = [line.strip().split(',') for line in open(data_path)]"
   ]
  },
  {
   "cell_type": "code",
   "execution_count": 18,
   "metadata": {},
   "outputs": [
    {
     "data": {
      "text/plain": [
       "['Date', 'Open', 'High', 'Low', 'Close', 'Volume', 'Adj Close']"
      ]
     },
     "execution_count": 18,
     "metadata": {},
     "output_type": "execute_result"
    }
   ],
   "source": [
    "dataset[0]"
   ]
  },
  {
   "cell_type": "code",
   "execution_count": 19,
   "metadata": {},
   "outputs": [
    {
     "data": {
      "text/plain": [
       "['8/19/2014',\n",
       " '585.002622',\n",
       " '587.342658',\n",
       " '584.002627',\n",
       " '586.862643',\n",
       " '978600',\n",
       " '586.862643']"
      ]
     },
     "execution_count": 19,
     "metadata": {},
     "output_type": "execute_result"
    }
   ],
   "source": [
    "dataset[1]"
   ]
  },
  {
   "cell_type": "code",
   "execution_count": 46,
   "metadata": {},
   "outputs": [],
   "source": [
    "import csv\n",
    "from datetime import datetime"
   ]
  },
  {
   "cell_type": "code",
   "execution_count": 22,
   "metadata": {
    "scrolled": true
   },
   "outputs": [
    {
     "name": "stdout",
     "output_type": "stream",
     "text": [
      "['Dialect', 'DictReader', 'DictWriter', 'Error', 'OrderedDict', 'QUOTE_ALL', 'QUOTE_MINIMAL', 'QUOTE_NONE', 'QUOTE_NONNUMERIC', 'Sniffer', 'StringIO', '_Dialect', '__all__', '__builtins__', '__cached__', '__doc__', '__file__', '__loader__', '__name__', '__package__', '__spec__', '__version__', 'excel', 'excel_tab', 'field_size_limit', 'get_dialect', 'list_dialects', 're', 'reader', 'register_dialect', 'unix_dialect', 'unregister_dialect', 'writer']\n"
     ]
    }
   ],
   "source": [
    "print(dir(csv))"
   ]
  },
  {
   "cell_type": "code",
   "execution_count": 54,
   "metadata": {},
   "outputs": [],
   "source": [
    "file = open(data_path, newline='')\n",
    "\n",
    "reader = csv.reader(file)\n",
    "\n",
    "header = next(reader) # The first line is the header"
   ]
  },
  {
   "cell_type": "code",
   "execution_count": 50,
   "metadata": {},
   "outputs": [],
   "source": [
    "data = [row for row in reader] # Read the remaining data"
   ]
  },
  {
   "cell_type": "code",
   "execution_count": 51,
   "metadata": {},
   "outputs": [
    {
     "name": "stdout",
     "output_type": "stream",
     "text": [
      "['Date', 'Open', 'High', 'Low', 'Close', 'Volume', 'Adj Close']\n",
      "['8/19/2014', '585.002622', '587.342658', '584.002627', '586.862643', '978600', '586.862643']\n"
     ]
    }
   ],
   "source": [
    "print(header)\n",
    "print(data[0])"
   ]
  },
  {
   "cell_type": "code",
   "execution_count": 57,
   "metadata": {},
   "outputs": [],
   "source": [
    "data = []\n",
    "for row in reader:\n",
    "    # row = [Date, Open, High, Low, Close, Volume, Adj Close]\n",
    "    date = datetime.strptime(row[0], '%m/%d/%Y')\n",
    "    open_price = float(row[1]) # 'open' is a builtin function\n",
    "    high = float(row[2])\n",
    "    low = float(row[3])\n",
    "    close = float(row[4])\n",
    "    volume = int(row[5])\n",
    "    adj_close = float(row[6])\n",
    "    \n",
    "    data.append([date, open_price, high, low, close, volume, adj_close])\n",
    "    "
   ]
  },
  {
   "cell_type": "code",
   "execution_count": 59,
   "metadata": {},
   "outputs": [
    {
     "name": "stdout",
     "output_type": "stream",
     "text": [
      "[datetime.datetime(2014, 8, 19, 0, 0), 585.002622, 587.342658, 584.002627, 586.862643, 978600, 586.862643]\n"
     ]
    }
   ],
   "source": [
    "print(data[0])"
   ]
  },
  {
   "cell_type": "code",
   "execution_count": 60,
   "metadata": {},
   "outputs": [],
   "source": [
    "# Compute and store daily stock returns\n",
    "returns_path = '/home/gary/Documents/Jupyter_Notebooks/Python_3/google_returns.csv'"
   ]
  },
  {
   "cell_type": "code",
   "execution_count": 61,
   "metadata": {},
   "outputs": [],
   "source": [
    "returns_file = open(returns_path, 'w')\n",
    "writer = csv.writer(returns_file)\n",
    "writer.writerow([\"Date\", \"Return\"])"
   ]
  },
  {
   "cell_type": "code",
   "execution_count": 69,
   "metadata": {},
   "outputs": [],
   "source": [
    "import csv\n",
    "from datetime import datetime\n",
    "\n",
    "data_path = '/home/gary/Documents/Jupyter_Notebooks/Python_3/Google_Stock_Data.csv'\n",
    "returns_path = '/home/gary/Documents/Jupyter_Notebooks/Python_3/google_returns.csv'\n",
    "\n",
    "file = open(data_path, newline='')\n",
    "reader = csv.reader(file)\n",
    "header = next(reader) # The first line is the header\n",
    "\n",
    "returns_file = open(returns_path, 'w')\n",
    "writer = csv.writer(returns_file)\n",
    "writer.writerow([\"Date\", \"Return\"])\n",
    "\n",
    "data = []\n",
    "for row in reader:\n",
    "    # row = [Date, Open, High, Low, Close, Volume, Adj Close]\n",
    "    date = datetime.strptime(row[0], '%m/%d/%Y')\n",
    "    open_price = float(row[1]) # 'open' is a builtin function\n",
    "    high = float(row[2])\n",
    "    low = float(row[3])\n",
    "    close = float(row[4])\n",
    "    volume = int(row[5])\n",
    "    adj_close = float(row[6])\n",
    "    \n",
    "    data.append([date, open_price, high, low, close, volume, adj_close])\n",
    "    \n",
    "for i in range(len(data)-1):\n",
    "    todays_row = data[i]\n",
    "    todays_date = todays_row[0]\n",
    "    todays_price = todays_row[-1]\n",
    "    \n",
    "    yesterdays_row = data[i+1]\n",
    "    yesterdays_price = yesterdays_row[-1]\n",
    "    \n",
    "    daily_return = (todays_price - yesterdays_price) / yesterdays_price\n",
    "    formatted_date = todays_date.strftime(\"%m/%d/%Y\")\n",
    "    writer.writerow([formatted_date, daily_return])"
   ]
  },
  {
   "cell_type": "code",
   "execution_count": null,
   "metadata": {},
   "outputs": [],
   "source": []
  }
 ],
 "metadata": {
  "kernelspec": {
   "display_name": "Python 3",
   "language": "python",
   "name": "python3"
  },
  "language_info": {
   "codemirror_mode": {
    "name": "ipython",
    "version": 3
   },
   "file_extension": ".py",
   "mimetype": "text/x-python",
   "name": "python",
   "nbconvert_exporter": "python",
   "pygments_lexer": "ipython3",
   "version": "3.7.0"
  }
 },
 "nbformat": 4,
 "nbformat_minor": 2
}
