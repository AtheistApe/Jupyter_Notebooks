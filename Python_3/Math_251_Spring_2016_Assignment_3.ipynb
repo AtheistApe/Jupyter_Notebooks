{
 "cells": [
  {
   "cell_type": "code",
   "execution_count": 1,
   "metadata": {},
   "outputs": [
    {
     "name": "stdout",
     "output_type": "stream",
     "text": [
      "IPython console for SymPy 1.0 (Python 3.5.1-64-bit) (ground types: python)\n",
      "\n",
      "These commands were executed:\n",
      ">>> from __future__ import division\n",
      ">>> from sympy import *\n",
      ">>> x, y, z, t = symbols('x y z t')\n",
      ">>> k, m, n = symbols('k m n', integer=True)\n",
      ">>> f, g, h = symbols('f g h', cls=Function)\n",
      ">>> init_printing()\n",
      "\n",
      "Documentation can be found at http://docs.sympy.org/1.0/\n"
     ]
    }
   ],
   "source": [
    "from sympy import init_session\n",
    "init_session()"
   ]
  },
  {
   "cell_type": "markdown",
   "metadata": {},
   "source": [
    "# Assignment 3\n",
    "\n",
    "You must clearly show the work you used, including calculations, to get your answers.\n",
    "\n",
    "Evaluate $\\int_{-2}^4 2 - x\\,dx$ in two ways:\n",
    "\n",
    "1) Geometrically, using areas. Draw a clear, large graph of $y = 2 - x$ over the interval $[-2, 4]$ and show the relevant areas in your picture. Remember that areas are counted positively where the graph is above the $x$-axis and negatively where the graph is below the $x$-axis.\n",
    "\n",
    "2) Using the limit definition of the definite integral\n",
    "\n",
    "$$\\int_a^b f(x)\\,dx = \\lim_{n\\rightarrow\\infty}\\sum_{i=1}^n f(x_i^*)\\Delta x,$$\n",
    "\n",
    "where $n$ is the number of subintervals of the interval $[a, b]$, $\\Delta x = \\frac{b - a}{n}$ is the width of each subinterval and $x_i^* = a + i\\Delta x$ is the **right** endpoint of each subinterval.\n",
    "\n",
    "You will need to use the following facts about sums:\n",
    "\n",
    "*  $\\displaystyle\\sum_{i=1}^n C = nC$, where $C$ is a constant.\n",
    "*  $\\displaystyle\\sum_{i=1}^n i = \\frac{n(n+1)}{2}$\n",
    "*  $\\displaystyle\\sum_{i=1}^n Ca_i = C\\sum_{i=1}^n a_i$, where $C$ is a constant.\n",
    "*  $\\displaystyle\\sum_{i=1}^n (a_i + b_i) = \\sum_{i=1}^n a_i + \\sum_{i=1}^n b_i$\n",
    "\n",
    "Use the method shown in these videos:\n",
    "[video 1](https://www.youtube.com/watch?v=gFpHHTxsDkI)\n",
    "[video 2](https://www.youtube.com/watch?v=GE4OLfmJ8P8)\n",
    "\n",
    "Hint: The answer is between 3 and 7."
   ]
  },
  {
   "cell_type": "code",
   "execution_count": 3,
   "metadata": {
    "collapsed": true
   },
   "outputs": [],
   "source": [
    "i = symbols('i', integer = True)"
   ]
  },
  {
   "cell_type": "code",
   "execution_count": 4,
   "metadata": {},
   "outputs": [],
   "source": [
    "fx = 2 - x\n",
    "\n",
    "a = -2\n",
    "b = 4\n",
    "deltax = (b - a)/n\n",
    "\n",
    "xi = a + i*deltax"
   ]
  },
  {
   "cell_type": "code",
   "execution_count": 10,
   "metadata": {},
   "outputs": [
    {
     "data": {
      "image/png": "[encoded data removed]",
      "text/latex": [
       "$$24 - \\frac{1}{n^{2}} \\left(18 n^{2} + 18 n\\right)$$"
      ],
      "text/plain": [
       "        ⎛ 2    ⎞\n",
       "        ⎜n    n⎟\n",
       "     36⋅⎜── + ─⎟\n",
       "        ⎝2    2⎠\n",
       "24 - ───────────\n",
       "           2    \n",
       "          n     "
      ]
     },
     "execution_count": 10,
     "metadata": {},
     "output_type": "execute_result"
    }
   ],
   "source": [
    "Rsum = summation(fx.subs({x:xi})*deltax, (i,1,n))\n",
    "Rsum"
   ]
  },
  {
   "cell_type": "code",
   "execution_count": 11,
   "metadata": {},
   "outputs": [
    {
     "data": {
      "image/png": "[encoded data removed]",
      "text/latex": [
       "$$6$$"
      ],
      "text/plain": [
       "6"
      ]
     },
     "execution_count": 11,
     "metadata": {},
     "output_type": "execute_result"
    }
   ],
   "source": [
    "limit(Rsum, n, oo)"
   ]
  },
  {
   "cell_type": "code",
   "execution_count": null,
   "metadata": {
    "collapsed": true
   },
   "outputs": [],
   "source": []
  }
 ],
 "metadata": {
  "hide_input": false,
  "kernelspec": {
   "display_name": "Python 3",
   "language": "python",
   "name": "python3"
  },
  "language_info": {
   "codemirror_mode": {
    "name": "ipython",
    "version": 3
   },
   "file_extension": ".py",
   "mimetype": "text/x-python",
   "name": "python",
   "nbconvert_exporter": "python",
   "pygments_lexer": "ipython3",
   "version": "3.7.1"
  },
  "latex_envs": {
   "bibliofile": "biblio.bib",
   "cite_by": "apalike",
   "current_citInitial": 1,
   "eqLabelWithNumbers": true,
   "eqNumInitial": 0
  }
 },
 "nbformat": 4,
 "nbformat_minor": 1
}
