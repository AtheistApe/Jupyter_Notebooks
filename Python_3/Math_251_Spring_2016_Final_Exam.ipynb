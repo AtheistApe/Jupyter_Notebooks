{
 "cells": [
  {
   "cell_type": "code",
   "execution_count": 1,
   "metadata": {
    "collapsed": false
   },
   "outputs": [
    {
     "name": "stdout",
     "output_type": "stream",
     "text": [
      "IPython console for SymPy 1.0 (Python 3.5.1-64-bit) (ground types: python)\n",
      "\n",
      "These commands were executed:\n",
      ">>> from __future__ import division\n",
      ">>> from sympy import *\n",
      ">>> x, y, z, t = symbols('x y z t')\n",
      ">>> k, m, n = symbols('k m n', integer=True)\n",
      ">>> f, g, h = symbols('f g h', cls=Function)\n",
      ">>> init_printing()\n",
      "\n",
      "Documentation can be found at http://docs.sympy.org/1.0/\n"
     ]
    }
   ],
   "source": [
    "from sympy import init_session\n",
    "init_session()"
   ]
  },
  {
   "cell_type": "code",
   "execution_count": 22,
   "metadata": {
    "collapsed": true
   },
   "outputs": [],
   "source": [
    "def riemannSum(f, a, b, n, p):\n",
    "    \"\"\"\n",
    "    Returns the Riemann sum of a function.\n",
    "    \n",
    "    f - The function\n",
    "    a - The left endpoint of the interval [a, b]\n",
    "    b - The right endpoint of the interval [a, b]\n",
    "    n - The number of subintervals\n",
    "    p - The percentage of the way from the left endpoint\n",
    "        of a subinterval at which to evaluate f\n",
    "    \"\"\"\n",
    "    \n",
    "    rsum = 0\n",
    "    deltax = (b - a)/n\n",
    "    \n",
    "    for i in range(n):\n",
    "        xi = a + (i + p)*deltax\n",
    "        rsum += f.subs({x:xi})\n",
    "        \n",
    "    return rsum*deltax"
   ]
  },
  {
   "cell_type": "code",
   "execution_count": 36,
   "metadata": {
    "collapsed": false
   },
   "outputs": [
    {
     "data": {
      "image/png": "[encoded data removed]",
      "text/latex": [
       "$$4.51923076923077$$"
      ],
      "text/plain": [
       "4.51923076923077"
      ]
     },
     "execution_count": 36,
     "metadata": {},
     "output_type": "execute_result"
    }
   ],
   "source": [
    "#8\n",
    "\n",
    "f = 5/(1+x**2)\n",
    "\n",
    "riemannSum(f, 0, 2, 4, 1)"
   ]
  },
  {
   "cell_type": "code",
   "execution_count": 7,
   "metadata": {
    "collapsed": false
   },
   "outputs": [
    {
     "data": {
      "image/png": "[encoded data removed]",
      "text/latex": [
       "$$4800$$"
      ],
      "text/plain": [
       "4800"
      ]
     },
     "execution_count": 7,
     "metadata": {},
     "output_type": "execute_result"
    }
   ],
   "source": [
    "#10\n",
    "\n",
    "V = x**2 * y   # The volume. x is length and width, y is height\n",
    "A = x**2 + 4*x*y # The surface area\n",
    "\n",
    "ysol = solve(V - 32000, y)[0]\n",
    "\n",
    "Ax = A.subs({y:ysol})\n",
    "\n",
    "solve(diff(Ax,x))\n",
    "\n",
    "A.subs({x:40, y:ysol.subs({x:40})})"
   ]
  },
  {
   "cell_type": "code",
   "execution_count": 10,
   "metadata": {
    "collapsed": false
   },
   "outputs": [
    {
     "data": {
      "image/png": "[encoded data removed]",
      "text/latex": [
       "$$20$$"
      ],
      "text/plain": [
       "20"
      ]
     },
     "execution_count": 10,
     "metadata": {},
     "output_type": "execute_result"
    }
   ],
   "source": [
    "riemannSum()"
   ]
  },
  {
   "cell_type": "code",
   "execution_count": 15,
   "metadata": {
    "collapsed": false
   },
   "outputs": [
    {
     "data": {
      "image/png": "[encoded data removed]",
      "text/latex": [
       "$$5.53574358897045$$"
      ],
      "text/plain": [
       "5.53574358897045"
      ]
     },
     "execution_count": 15,
     "metadata": {},
     "output_type": "execute_result"
    }
   ],
   "source": [
    "integrate(5/(1+x**2), (x,0,2)).n()"
   ]
  },
  {
   "cell_type": "code",
   "execution_count": 29,
   "metadata": {
    "collapsed": false
   },
   "outputs": [
    {
     "data": {
      "image/png": "[encoded data removed]",
      "text/latex": [
       "$$- x \\cos{\\left (y{\\left (x \\right )} \\right )} \\frac{d}{d x} y{\\left (x \\right )} - \\sin{\\left (y{\\left (x \\right )} \\right )} + \\frac{d}{d x} y{\\left (x \\right )}$$"
      ],
      "text/plain": [
       "              d                      d       \n",
       "- x⋅cos(y(x))⋅──(y(x)) - sin(y(x)) + ──(y(x))\n",
       "              dx                     dx      "
      ]
     },
     "execution_count": 29,
     "metadata": {},
     "output_type": "execute_result"
    }
   ],
   "source": [
    "expr = diff(y(x) - x*sin(y(x)), x)\n",
    "expr"
   ]
  },
  {
   "cell_type": "code",
   "execution_count": 33,
   "metadata": {
    "collapsed": false
   },
   "outputs": [
    {
     "data": {
      "image/png": "[encoded data removed]",
      "text/latex": [
       "$$\\left [ - \\frac{\\sin{\\left (y{\\left (x \\right )} \\right )}}{x \\cos{\\left (y{\\left (x \\right )} \\right )} - 1}\\right ]$$"
      ],
      "text/plain": [
       "⎡  -sin(y(x))   ⎤\n",
       "⎢───────────────⎥\n",
       "⎣x⋅cos(y(x)) - 1⎦"
      ]
     },
     "execution_count": 33,
     "metadata": {},
     "output_type": "execute_result"
    }
   ],
   "source": [
    "yp = solve(expr, diff(y(x),x))\n",
    "yp"
   ]
  },
  {
   "cell_type": "code",
   "execution_count": 34,
   "metadata": {
    "collapsed": false
   },
   "outputs": [
    {
     "data": {
      "image/png": "[encoded data removed]",
      "text/latex": [
       "$$1$$"
      ],
      "text/plain": [
       "1"
      ]
     },
     "execution_count": 34,
     "metadata": {},
     "output_type": "execute_result"
    }
   ],
   "source": [
    "yp[0].subs({x:pi/2, y(x):pi/2})"
   ]
  },
  {
   "cell_type": "code",
   "execution_count": 37,
   "metadata": {
    "collapsed": false
   },
   "outputs": [
    {
     "data": {
      "image/png": "[encoded data removed]",
      "text/latex": [
       "$$0.458$$"
      ],
      "text/plain": [
       "0.458"
      ]
     },
     "execution_count": 37,
     "metadata": {},
     "output_type": "execute_result"
    }
   ],
   "source": [
    "(0.8+0.7+0.79)/5"
   ]
  },
  {
   "cell_type": "code",
   "execution_count": null,
   "metadata": {
    "collapsed": true
   },
   "outputs": [],
   "source": []
  }
 ],
 "metadata": {
  "hide_input": false,
  "kernelspec": {
   "display_name": "Python 3",
   "language": "python",
   "name": "python3"
  },
  "language_info": {
   "codemirror_mode": {
    "name": "ipython",
    "version": 3
   },
   "file_extension": ".py",
   "mimetype": "text/x-python",
   "name": "python",
   "nbconvert_exporter": "python",
   "pygments_lexer": "ipython3",
   "version": "3.5.1"
  },
  "latex_envs": {
   "bibliofile": "biblio.bib",
   "cite_by": "apalike",
   "current_citInitial": 1,
   "eqLabelWithNumbers": true,
   "eqNumInitial": 0
  }
 },
 "nbformat": 4,
 "nbformat_minor": 0
}
