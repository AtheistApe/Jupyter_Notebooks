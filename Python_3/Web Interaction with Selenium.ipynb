{
 "cells": [
  {
   "cell_type": "code",
   "execution_count": 1,
   "metadata": {},
   "outputs": [],
   "source": [
    "import os\n",
    "import datetime\n",
    "from selenium import webdriver\n",
    "from shutil import copyfile"
   ]
  },
  {
   "cell_type": "code",
   "execution_count": 2,
   "metadata": {},
   "outputs": [],
   "source": [
    "math251 = ('Math251','https://webwork.smccd.edu/webwork2/CSM_M251Church/')\n",
    "math253 = ('Math253','https://webwork.smccd.edu/webwork2/CSM_M253Church/')\n",
    "\n",
    "my_class = math251\n",
    "\n",
    "chromedriver_location = '/opt/google/chrome/chromedriver'\n",
    "\n",
    "download_dir = '/home/gary/Downloads/'\n",
    "destination_dir = '/home/gary/Documents/CSM/Spring2019/' + my_class[0] + \"/\"\n",
    "\n",
    "today = datetime.datetime.now().strftime(\"%m_%d_%y\")"
   ]
  },
  {
   "cell_type": "code",
   "execution_count": 3,
   "metadata": {},
   "outputs": [],
   "source": [
    "driver = webdriver.Chrome(executable_path = chromedriver_location)\n",
    "driver.get(my_class[1])\n",
    "\n",
    "username_box = driver.find_element_by_name('user')\n",
    "username_box.send_keys('church')\n",
    "\n",
    "password_box = driver.find_element_by_name('passwd')\n",
    "password_box.send_keys('building15128')\n",
    "\n",
    "submit_button = driver.find_element_by_id('none')\n",
    "submit_button.click()\n",
    "\n",
    "hw_sets_editor = driver.find_element_by_partial_link_text('Hmwk Sets Editor')\n",
    "hw_sets_editor.click()\n",
    "\n",
    "select_visible_sets = driver.find_element_by_xpath(\"//select[@name='action.filter.scope']/option[text()='visible sets']\").click()\n",
    "\n",
    "take_action_button = driver.find_element_by_id('take_action')\n",
    "take_action_button.click()\n",
    "\n",
    "score = driver.find_element_by_link_text('Score')\n",
    "score.click()\n",
    "\n",
    "select_sets = driver.find_element_by_id('setlist-select-all').click()\n",
    "\n",
    "score_sets = driver.find_element_by_xpath(\"//select[@name='action.score.scope']/option[text()='selected sets']\").click()\n",
    "\n",
    "\n",
    "take_action_button = driver.find_element_by_id('take_action')\n",
    "take_action_button.click()\n",
    "\n",
    "# Save scores file to download directory\n",
    "scores_file = driver.find_element_by_partial_link_text(\"Church_totals\").click()\n",
    "\n",
    "# Save name of downloaded scores file\n",
    "file_name = driver.find_element_by_partial_link_text(\"Church_totals\").text\n",
    "\n",
    "\n",
    "source_file = os.path.join(download_dir,file_name)\n",
    "\n",
    "file = my_class[0]+\"_scores_\"+today+\".csv\"\n",
    "destination_file = destination_dir+file\n",
    "\n",
    "\n",
    "# os.rename(source_file, destination_file)\n",
    "os.rename(source_file,destination_file)"
   ]
  },
  {
   "cell_type": "code",
   "execution_count": 112,
   "metadata": {},
   "outputs": [
    {
     "ename": "FileNotFoundError",
     "evalue": "[Errno 2] No such file or directory: '/home/gary/Downloads/bzlkfacl.csv' -> '/home/gary/Documents/CSM/Fall2018/classlist_11-16-18.csv'",
     "output_type": "error",
     "traceback": [
      "\u001b[0;31m---------------------------------------------------------------------------\u001b[0m",
      "\u001b[0;31mFileNotFoundError\u001b[0m                         Traceback (most recent call last)",
      "\u001b[0;32m<ipython-input-112-0d32d59f64a2>\u001b[0m in \u001b[0;36m<module>\u001b[0;34m()\u001b[0m\n\u001b[1;32m     42\u001b[0m \u001b[0;34m\u001b[0m\u001b[0m\n\u001b[1;32m     43\u001b[0m \u001b[0;31m# os.rename(source_file, destination_file)\u001b[0m\u001b[0;34m\u001b[0m\u001b[0;34m\u001b[0m\u001b[0m\n\u001b[0;32m---> 44\u001b[0;31m \u001b[0mos\u001b[0m\u001b[0;34m.\u001b[0m\u001b[0mrename\u001b[0m\u001b[0;34m(\u001b[0m\u001b[0msource_file\u001b[0m\u001b[0;34m,\u001b[0m\u001b[0mdestination_file\u001b[0m\u001b[0;34m)\u001b[0m\u001b[0;34m\u001b[0m\u001b[0m\n\u001b[0m",
      "\u001b[0;31mFileNotFoundError\u001b[0m: [Errno 2] No such file or directory: '/home/gary/Downloads/bzlkfacl.csv' -> '/home/gary/Documents/CSM/Fall2018/classlist_11-16-18.csv'"
     ]
    }
   ],
   "source": [
    "driver = webdriver.Chrome(executable_path=chromedriver_location)\n",
    "driver.get('https://websmart.smccd.edu/')\n",
    "\n",
    "user_id = driver.find_element_by_id('sid')\n",
    "user_id.send_keys('g00003886')\n",
    "\n",
    "pin = driver.find_element_by_id('pin')\n",
    "pin.send_keys('031959')\n",
    "\n",
    "submit = driver.find_element_by_xpath(\"//button[text()='Login']\")\n",
    "\n",
    "submit.click()\n",
    "\n",
    "class_list_download = driver.find_element_by_partial_link_text(\"All Class List Download\")\n",
    "\n",
    "class_list_download.click()\n",
    "\n",
    "term = 'Fall 2018'\n",
    "\n",
    "select_term = driver.find_element_by_xpath(f\"//select[@name='term']/option[text()='{term}']\")\n",
    "\n",
    "select_term.click()\n",
    "\n",
    "submit = driver.find_element_by_xpath(\"//input\")\n",
    "\n",
    "submit.click()\n",
    "\n",
    "download = driver.find_element_by_name('downld')\n",
    "\n",
    "download.click()\n",
    "\n",
    "file_name = 'bzlkfacl.csv'\n",
    "\n",
    "source_file = os.path.join(download_dir,file_name)\n",
    "today = datetime.datetime.now().strftime(\"%m-%d-%y\")\n",
    "\n",
    "file = \"classlist_\"+today+\".csv\"\n",
    "\n",
    "destination_dir = \"/home/gary/Documents/CSM/\" + term.replace(\" \",\"\") + \"/\"\n",
    "destination_file = destination_dir+file\n",
    "\n",
    "\n",
    "copyfile(source_file, destination_file)"
   ]
  },
  {
   "cell_type": "code",
   "execution_count": 122,
   "metadata": {},
   "outputs": [
    {
     "data": {
      "text/plain": [
       "'/home/gary/Downloads/bzlkfacl.csv'"
      ]
     },
     "execution_count": 122,
     "metadata": {},
     "output_type": "execute_result"
    }
   ],
   "source": [
    "source_file"
   ]
  },
  {
   "cell_type": "code",
   "execution_count": 123,
   "metadata": {},
   "outputs": [
    {
     "data": {
      "text/plain": [
       "'/home/gary/Documents/CSM/Fall2018/classlist_11-16-18.csv'"
      ]
     },
     "execution_count": 123,
     "metadata": {},
     "output_type": "execute_result"
    }
   ],
   "source": [
    "destination_file"
   ]
  },
  {
   "cell_type": "code",
   "execution_count": 124,
   "metadata": {},
   "outputs": [
    {
     "data": {
      "text/plain": [
       "'/home/gary/Documents/CSM/Fall2018/classlist_11-16-18.csv'"
      ]
     },
     "execution_count": 124,
     "metadata": {},
     "output_type": "execute_result"
    }
   ],
   "source": [
    "copyfile(source_file, destination_file)"
   ]
  },
  {
   "cell_type": "code",
   "execution_count": 116,
   "metadata": {},
   "outputs": [],
   "source": [
    "os.rename(source_file,'/home/gary/Documents/CSM/Fall2018/classlist.csv')"
   ]
  },
  {
   "cell_type": "code",
   "execution_count": 120,
   "metadata": {},
   "outputs": [
    {
     "data": {
      "text/plain": [
       "'/home/gary/Downloads/bzlkfacl.csv'"
      ]
     },
     "execution_count": 120,
     "metadata": {},
     "output_type": "execute_result"
    }
   ],
   "source": [
    "copyfile('/home/gary/Documents/CSM/Fall2018/classlist.csv','/home/gary/Downloads/bzlkfacl.csv')"
   ]
  },
  {
   "cell_type": "code",
   "execution_count": 121,
   "metadata": {},
   "outputs": [
    {
     "data": {
      "text/plain": [
       "'/home/gary/Documents/CSM/Fall2018/class_list.csv'"
      ]
     },
     "execution_count": 121,
     "metadata": {},
     "output_type": "execute_result"
    }
   ],
   "source": [
    "copyfile('/home/gary/Downloads/bzlkfacl.csv', '/home/gary/Documents/CSM/Fall2018/class_list.csv')"
   ]
  },
  {
   "cell_type": "code",
   "execution_count": null,
   "metadata": {},
   "outputs": [],
   "source": []
  }
 ],
 "metadata": {
  "@webio": {
   "lastCommId": null,
   "lastKernelId": null
  },
  "kernelspec": {
   "display_name": "Python 3",
   "language": "python",
   "name": "python3"
  },
  "language_info": {
   "codemirror_mode": {
    "name": "ipython",
    "version": 3
   },
   "file_extension": ".py",
   "mimetype": "text/x-python",
   "name": "python",
   "nbconvert_exporter": "python",
   "pygments_lexer": "ipython3",
   "version": "3.7.1"
  }
 },
 "nbformat": 4,
 "nbformat_minor": 2
}
