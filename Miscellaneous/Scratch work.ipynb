{
 "cells": [
  {
   "cell_type": "code",
   "execution_count": 1,
   "metadata": {},
   "outputs": [
    {
     "name": "stdout",
     "output_type": "stream",
     "text": [
      "IPython console for SymPy 1.0 (Python 3.5.2-64-bit) (ground types: python)\n",
      "\n",
      "These commands were executed:\n",
      ">>> from __future__ import division\n",
      ">>> from sympy import *\n",
      ">>> x, y, z, t = symbols('x y z t')\n",
      ">>> k, m, n = symbols('k m n', integer=True)\n",
      ">>> f, g, h = symbols('f g h', cls=Function)\n",
      ">>> init_printing()\n",
      "\n",
      "Documentation can be found at http://docs.sympy.org/1.0/\n"
     ]
    }
   ],
   "source": [
    "from sympy import init_session\n",
    "init_session()\n",
    "%matplotlib inline"
   ]
  },
  {
   "cell_type": "code",
   "execution_count": 2,
   "metadata": {
    "collapsed": true
   },
   "outputs": [],
   "source": [
    "def h(t):\n",
    "    return 4.9*t**2 + 20*t"
   ]
  },
  {
   "cell_type": "code",
   "execution_count": 3,
   "metadata": {},
   "outputs": [
    {
     "data": {
      "image/png": "[encoded data removed]",
      "text/latex": [
       "$$39.6$$"
      ],
      "text/plain": [
       "39.6"
      ]
     },
     "execution_count": 3,
     "metadata": {},
     "output_type": "execute_result"
    }
   ],
   "source": [
    "(h(3) - h(1))/2"
   ]
  },
  {
   "cell_type": "code",
   "execution_count": 4,
   "metadata": {},
   "outputs": [
    {
     "data": {
      "image/png": "[encoded data removed]",
      "text/latex": [
       "$$\\frac{2 x + 1}{x + 3}$$"
      ],
      "text/plain": [
       "2⋅x + 1\n",
       "───────\n",
       " x + 3 "
      ]
     },
     "execution_count": 4,
     "metadata": {},
     "output_type": "execute_result"
    }
   ],
   "source": [
    "simplify((2*x**2 - 5*x - 3) / (x**2 - 9))"
   ]
  },
  {
   "cell_type": "code",
   "execution_count": 5,
   "metadata": {
    "collapsed": true
   },
   "outputs": [],
   "source": [
    "k, T, V = symbols('k T V')\n",
    "\n",
    "def P(T,V):\n",
    "    return k*T/V"
   ]
  },
  {
   "cell_type": "code",
   "execution_count": 7,
   "metadata": {},
   "outputs": [
    {
     "data": {
      "image/png": "[encoded data removed]",
      "text/latex": [
       "$$- 3.20197044334972 k$$"
      ],
      "text/plain": [
       "-3.20197044334972⋅k"
      ]
     },
     "execution_count": 7,
     "metadata": {},
     "output_type": "execute_result"
    }
   ],
   "source": [
    "P(298,2.03) - P(300,2)"
   ]
  },
  {
   "cell_type": "code",
   "execution_count": 13,
   "metadata": {},
   "outputs": [
    {
     "data": {
      "image/png": "[encoded data removed]",
      "text/latex": [
       "$$- 3.25 k$$"
      ],
      "text/plain": [
       "-3.25⋅k"
      ]
     },
     "execution_count": 13,
     "metadata": {},
     "output_type": "execute_result"
    }
   ],
   "source": [
    "diff(P(T,V),T).subs({V:2, T:300})*-2 + diff(P(T,V),V).subs({V:2, T:300})*0.03"
   ]
  },
  {
   "cell_type": "code",
   "execution_count": 25,
   "metadata": {},
   "outputs": [
    {
     "data": {
      "image/png": "[encoded data removed]",
      "text/latex": [
       "$$\\frac{\\pi x}{3} y \\cos{\\left (\\frac{\\pi}{3} z{\\left (x,y \\right )} \\right )} \\frac{\\partial}{\\partial y} z{\\left (x,y \\right )} + x \\sin{\\left (\\frac{\\pi}{3} z{\\left (x,y \\right )} \\right )}$$"
      ],
      "text/plain": [
       "         ⎛π⋅z(x, y)⎞ ∂                             \n",
       "π⋅x⋅y⋅cos⎜─────────⎟⋅──(z(x, y))                   \n",
       "         ⎝    3    ⎠ ∂y                 ⎛π⋅z(x, y)⎞\n",
       "──────────────────────────────── + x⋅sin⎜─────────⎟\n",
       "               3                        ⎝    3    ⎠"
      ]
     },
     "execution_count": 25,
     "metadata": {},
     "output_type": "execute_result"
    }
   ],
   "source": [
    "expr=diff(x*y*sin(pi*z(x,y)/3), y)\n",
    "expr"
   ]
  },
  {
   "cell_type": "code",
   "execution_count": 23,
   "metadata": {},
   "outputs": [
    {
     "data": {
      "image/png": "[encoded data removed]",
      "text/latex": [
       "$$\\left [ - \\frac{3}{\\pi x} \\tan{\\left (\\frac{\\pi}{3} z{\\left (x,y \\right )} \\right )}\\right ]$$"
      ],
      "text/plain": [
       "⎡      ⎛π⋅z(x, y)⎞ ⎤\n",
       "⎢-3⋅tan⎜─────────⎟ ⎥\n",
       "⎢      ⎝    3    ⎠ ⎥\n",
       "⎢──────────────────⎥\n",
       "⎣       π⋅x        ⎦"
      ]
     },
     "execution_count": 23,
     "metadata": {},
     "output_type": "execute_result"
    }
   ],
   "source": [
    "expr2=solve(expr, diff(z(x,y),x))\n",
    "expr2"
   ]
  },
  {
   "cell_type": "code",
   "execution_count": 29,
   "metadata": {},
   "outputs": [
    {
     "data": {
      "image/png": "[encoded data removed]",
      "text/latex": [
       "$$- \\frac{3}{\\pi}$$"
      ],
      "text/plain": [
       "-3 \n",
       "───\n",
       " π "
      ]
     },
     "execution_count": 29,
     "metadata": {},
     "output_type": "execute_result"
    }
   ],
   "source": [
    "coeffx=expr2[0].subs({x:sqrt(3), y:16, z(x,y):1})\n",
    "coeffx"
   ]
  },
  {
   "cell_type": "code",
   "execution_count": 26,
   "metadata": {},
   "outputs": [
    {
     "data": {
      "image/png": "[encoded data removed]",
      "text/latex": [
       "$$\\left [ - \\frac{3}{\\pi y} \\tan{\\left (\\frac{\\pi}{3} z{\\left (x,y \\right )} \\right )}\\right ]$$"
      ],
      "text/plain": [
       "⎡      ⎛π⋅z(x, y)⎞ ⎤\n",
       "⎢-3⋅tan⎜─────────⎟ ⎥\n",
       "⎢      ⎝    3    ⎠ ⎥\n",
       "⎢──────────────────⎥\n",
       "⎣       π⋅y        ⎦"
      ]
     },
     "execution_count": 26,
     "metadata": {},
     "output_type": "execute_result"
    }
   ],
   "source": [
    "expr3 = solve(expr, diff(z(x,y),y))\n",
    "expr3"
   ]
  },
  {
   "cell_type": "code",
   "execution_count": 30,
   "metadata": {},
   "outputs": [
    {
     "data": {
      "image/png": "[encoded data removed]",
      "text/latex": [
       "$$- \\frac{3 \\sqrt{3}}{16 \\pi}$$"
      ],
      "text/plain": [
       "     ___ \n",
       "-3⋅╲╱ 3  \n",
       "─────────\n",
       "   16⋅π  "
      ]
     },
     "execution_count": 30,
     "metadata": {},
     "output_type": "execute_result"
    }
   ],
   "source": [
    "coeffy=expr3[0].subs({x:sqrt(3), y:16, z(x,y):1})\n",
    "coeffy"
   ]
  },
  {
   "cell_type": "code",
   "execution_count": 40,
   "metadata": {},
   "outputs": [
    {
     "data": {
      "image/png": "[encoded data removed]",
      "text/latex": [
       "$$- z - \\frac{1}{\\pi} \\left(3 x - 3 \\sqrt{3}\\right) - \\frac{3 \\sqrt{3}}{16 \\pi} \\left(y - 16\\right) + 1$$"
      ],
      "text/plain": [
       "       ⎛      ___⎞       ___             \n",
       "     3⋅⎝x - ╲╱ 3 ⎠   3⋅╲╱ 3 ⋅(y - 16)    \n",
       "-z - ───────────── - ──────────────── + 1\n",
       "           π               16⋅π          "
      ]
     },
     "execution_count": 40,
     "metadata": {},
     "output_type": "execute_result"
    }
   ],
   "source": [
    "expr4 = coeffx*(x-sqrt(3)) + coeffy*(y - 16) + 1-z\n",
    "expr4"
   ]
  },
  {
   "cell_type": "code",
   "execution_count": 41,
   "metadata": {},
   "outputs": [
    {
     "data": {
      "image/png": "[encoded data removed]",
      "text/latex": [
       "$$8 \\sqrt{3} x + \\frac{3 y}{2} + \\frac{8 \\pi}{3} \\sqrt{3} z - 48 - \\frac{8 \\pi}{3} \\sqrt{3}$$"
      ],
      "text/plain": [
       "                      ___                ___  \n",
       "    ___     3⋅y   8⋅╲╱ 3 ⋅π⋅z        8⋅╲╱ 3 ⋅π\n",
       "8⋅╲╱ 3 ⋅x + ─── + ─────────── - 48 - ─────────\n",
       "             2         3                 3    "
      ]
     },
     "execution_count": 41,
     "metadata": {},
     "output_type": "execute_result"
    }
   ],
   "source": [
    "expand(expand(expr4)*(-pi * 8/3 *sqrt(3)))"
   ]
  },
  {
   "cell_type": "code",
   "execution_count": 45,
   "metadata": {},
   "outputs": [
    {
     "data": {
      "image/png": "[encoded data removed]",
      "text/latex": [
       "$$3$$"
      ],
      "text/plain": [
       "3"
      ]
     },
     "execution_count": 45,
     "metadata": {},
     "output_type": "execute_result"
    }
   ],
   "source": [
    "f = sqrt(154 - 9*x**2 - 16*y**2)\n",
    "z0 = fxy.subs({x:3, y:2})\n",
    "z0"
   ]
  },
  {
   "cell_type": "code",
   "execution_count": 47,
   "metadata": {},
   "outputs": [
    {
     "name": "stdout",
     "output_type": "stream",
     "text": [
      "-9 -32/3\n"
     ]
    }
   ],
   "source": [
    "fx = diff(f,x)\n",
    "fy = diff(f,y)\n",
    "mx = fx.subs({x:3, y:2})\n",
    "my = fy.subs({x:3, y:2})\n",
    "\n",
    "print mx, my"
   ]
  },
  {
   "cell_type": "code",
   "execution_count": 49,
   "metadata": {},
   "outputs": [
    {
     "data": {
      "image/png": "[encoded data removed]",
      "text/latex": [
       "$$- 9 x - \\frac{32 y}{3} + \\frac{154}{3}$$"
      ],
      "text/plain": [
       "       32⋅y   154\n",
       "-9⋅x - ──── + ───\n",
       "        3      3 "
      ]
     },
     "execution_count": 49,
     "metadata": {},
     "output_type": "execute_result"
    }
   ],
   "source": [
    "mx*(x - 3) + my*(y - 2) + z0"
   ]
  },
  {
   "cell_type": "code",
   "execution_count": 50,
   "metadata": {},
   "outputs": [
    {
     "name": "stdout",
     "output_type": "stream",
     "text": [
      "y*exp(6*y) 6*x*y*exp(6*y) + x*exp(6*y) 6*y*exp(6*y) + exp(6*y) 6*y*exp(6*y) + exp(6*y)\n"
     ]
    }
   ],
   "source": [
    "f = x*y*exp(6*y)\n",
    "fx = diff(f,x)\n",
    "fy = diff(f,y)\n",
    "fxy = diff(fx, y)\n",
    "fyx = diff(fy, x)\n",
    "\n",
    "print fx, fy, fxy, fyx"
   ]
  },
  {
   "cell_type": "code",
   "execution_count": 2,
   "metadata": {},
   "outputs": [],
   "source": [
    "def f(a,h):\n",
    "    return (a**(h) - 1) / h"
   ]
  },
  {
   "cell_type": "code",
   "execution_count": 3,
   "metadata": {},
   "outputs": [
    {
     "data": {
      "image/png": "[encoded data removed]",
      "text/latex": [
       "$$\\left [ 1.0, \\quad 0.7177346253629313, \\quad 0.6955550056718884, \\quad 0.6933874625807412, \\quad 0.6931712037649973, \\quad 0.6931495828199629\\right ]$$"
      ],
      "text/plain": [
       "[1.0, 0.7177346253629313, 0.6955550056718884, 0.6933874625807412, 0.6931712037\n",
       "649973, 0.6931495828199629]"
      ]
     },
     "execution_count": 3,
     "metadata": {},
     "output_type": "execute_result"
    }
   ],
   "source": [
    "[f(2,h) for h in map(lambda x: 10**(-x), range(6))]"
   ]
  },
  {
   "cell_type": "code",
   "execution_count": 4,
   "metadata": {},
   "outputs": [
    {
     "data": {
      "image/png": "[encoded data removed]",
      "text/latex": [
       "$$\\left [ 2.0, \\quad 1.1612317403390437, \\quad 1.104669193785357, \\quad 1.0992159842040383, \\quad 1.0986726383266365, \\quad 1.0986183234251712\\right ]$$"
      ],
      "text/plain": [
       "[2.0, 1.1612317403390437, 1.104669193785357, 1.0992159842040383, 1.09867263832\n",
       "66365, 1.0986183234251712]"
      ]
     },
     "execution_count": 4,
     "metadata": {},
     "output_type": "execute_result"
    }
   ],
   "source": [
    "[f(3,h) for h in map(lambda x: 10**(-x), range(6))]"
   ]
  },
  {
   "cell_type": "code",
   "execution_count": 5,
   "metadata": {
    "collapsed": true
   },
   "outputs": [],
   "source": [
    "def g(a):\n",
    "    return [f(a,h) for h in map(lambda x: 10**(-x), range(6))]"
   ]
  },
  {
   "cell_type": "code",
   "execution_count": 67,
   "metadata": {},
   "outputs": [
    {
     "data": {
      "image/png": "[encoded data removed]",
      "text/latex": [
       "$$\\left [ 1.0, \\quad 0.717734625363, \\quad 0.695555005672, \\quad 0.693387462581, \\quad 0.693171203765, \\quad 0.69314958282\\right ]$$"
      ],
      "text/plain": [
       "[1.0, 0.717734625363, 0.695555005672, 0.693387462581, 0.693171203765, 0.693149\n",
       "58282]"
      ]
     },
     "execution_count": 67,
     "metadata": {},
     "output_type": "execute_result"
    }
   ],
   "source": [
    "g(2)"
   ]
  },
  {
   "cell_type": "code",
   "execution_count": 6,
   "metadata": {},
   "outputs": [
    {
     "data": {
      "image/png": "[encoded data removed]",
      "text/latex": [
       "$$\\left [ 2.0, \\quad 1.1612317403390437, \\quad 1.104669193785357, \\quad 1.0992159842040383, \\quad 1.0986726383266365, \\quad 1.0986183234251712\\right ]$$"
      ],
      "text/plain": [
       "[2.0, 1.1612317403390437, 1.104669193785357, 1.0992159842040383, 1.09867263832\n",
       "66365, 1.0986183234251712]"
      ]
     },
     "execution_count": 6,
     "metadata": {},
     "output_type": "execute_result"
    }
   ],
   "source": [
    "g(3)"
   ]
  },
  {
   "cell_type": "code",
   "execution_count": 7,
   "metadata": {},
   "outputs": [
    {
     "data": {
      "image/png": "[encoded data removed]",
      "text/latex": [
       "$$\\left [ 3.0, \\quad 1.486983549970351, \\quad 1.3959479790029095, \\quad 1.3872557113345785, \\quad 1.386390456163955, \\quad 1.3863039702188826\\right ]$$"
      ],
      "text/plain": [
       "[3.0, 1.486983549970351, 1.3959479790029095, 1.3872557113345785, 1.38639045616\n",
       "3955, 1.3863039702188826]"
      ]
     },
     "execution_count": 7,
     "metadata": {},
     "output_type": "execute_result"
    }
   ],
   "source": [
    "g(4)"
   ]
  },
  {
   "cell_type": "code",
   "execution_count": 8,
   "metadata": {
    "collapsed": true
   },
   "outputs": [],
   "source": [
    "import pandas as pd"
   ]
  },
  {
   "cell_type": "code",
   "execution_count": 11,
   "metadata": {
    "collapsed": true
   },
   "outputs": [],
   "source": [
    "from itertools import product"
   ]
  },
  {
   "cell_type": "code",
   "execution_count": 12,
   "metadata": {},
   "outputs": [],
   "source": [
    "S = {-5, -4, -3, -2, 1, 0, 1, 2, 3, 4, 5}\n",
    "T = {x for x in S if x >= 0 and x%2 == 1}"
   ]
  },
  {
   "cell_type": "code",
   "execution_count": 13,
   "metadata": {},
   "outputs": [
    {
     "data": {
      "image/png": "[encoded data removed]",
      "text/latex": [
       "$$\\left\\{\\left ( 1, \\quad 1\\right ), \\left ( 1, \\quad 3\\right ), \\left ( 1, \\quad 5\\right ), \\left ( 3, \\quad 1\\right ), \\left ( 3, \\quad 3\\right ), \\left ( 3, \\quad 5\\right ), \\left ( 5, \\quad 1\\right ), \\left ( 5, \\quad 3\\right ), \\left ( 5, \\quad 5\\right )\\right\\}$$"
      ],
      "text/plain": [
       "set([(1, 1), (1, 3), (1, 5), (3, 1), (3, 3), (3, 5), (5, 1), (5, 3), (5, 5)])"
      ]
     },
     "execution_count": 13,
     "metadata": {},
     "output_type": "execute_result"
    }
   ],
   "source": [
    "set(product(T,T))"
   ]
  },
  {
   "cell_type": "code",
   "execution_count": 14,
   "metadata": {},
   "outputs": [],
   "source": [
    "alphabet = [chr(num) for num in range(97,122)]"
   ]
  },
  {
   "cell_type": "code",
   "execution_count": 16,
   "metadata": {},
   "outputs": [
    {
     "name": "stdout",
     "output_type": "stream",
     "text": [
      "['a', 'b', 'c', 'd', 'e', 'f', 'g', 'h', 'i', 'j', 'k', 'l', 'm', 'n', 'o', 'p', 'q', 'r', 's', 't', 'u', 'v', 'w', 'x', 'y']\n"
     ]
    }
   ],
   "source": [
    "print(alphabet)"
   ]
  },
  {
   "cell_type": "code",
   "execution_count": 17,
   "metadata": {},
   "outputs": [],
   "source": [
    "def code_message_1(message, n):\n",
    "    \n",
    "    coded_message = ''\n",
    "    \n",
    "    for char in message:\n",
    "        if char.isalpha():\n",
    "            value = ord(char) + n\n",
    "            if value > ord('z'):\n",
    "                value = (value - ord('z')) + ord('a') - 1\n",
    "            coded_message += chr(value)\n",
    "            \n",
    "        else:\n",
    "            coded_message += char\n",
    "    \n",
    "    return coded_message\n"
   ]
  },
  {
   "cell_type": "code",
   "execution_count": 18,
   "metadata": {},
   "outputs": [
    {
     "data": {
      "text/plain": [
       "'ymnx Nx rd qnyyqj Rjxxflj'"
      ]
     },
     "execution_count": 18,
     "metadata": {},
     "output_type": "execute_result"
    }
   ],
   "source": [
    "code_message_1('this Is my little Message',5)"
   ]
  },
  {
   "cell_type": "code",
   "execution_count": 268,
   "metadata": {
    "collapsed": true
   },
   "outputs": [],
   "source": [
    "def code_message_2(message, n):\n",
    "    \n",
    "    alphabet = [chr(num) for num in range(97,123)]\n",
    "    \n",
    "    coded_message = ''\n",
    "    \n",
    "    for char in message:\n",
    "        if char.isalpha():\n",
    "            if char in alphabet:\n",
    "                coded_message += alphabet[(alphabet.index(char) + n) % 26]\n",
    "            else:\n",
    "                coded_message += char\n",
    "                \n",
    "    return coded_message           "
   ]
  },
  {
   "cell_type": "code",
   "execution_count": 269,
   "metadata": {},
   "outputs": [
    {
     "data": {
      "text/plain": [
       "'ymnxnxrdqnyyqjMjxxflj'"
      ]
     },
     "execution_count": 269,
     "metadata": {},
     "output_type": "execute_result"
    }
   ],
   "source": [
    "code_message_2('this is my little Message', 5)"
   ]
  },
  {
   "cell_type": "code",
   "execution_count": 270,
   "metadata": {
    "collapsed": true
   },
   "outputs": [],
   "source": [
    "def code_message_3(message, n):\n",
    "    \n",
    "    coded_message = ''\n",
    "    \n",
    "    letters = [chr(num) for num in range(97,123)]\n",
    "    nums = range(26)\n",
    "    \n",
    "    l2n_dict = dict(zip(letters,nums))\n",
    "    n2l_dict = dict((nums,letters) for letters, nums in l2n_dict.iteritems())\n",
    "        \n",
    "    def letter_to_number(letter):\n",
    "        return l2n_dict[letter]\n",
    "    \n",
    "    def number_to_letter(number):\n",
    "        return n2l_dict[number]\n",
    "    \n",
    "    def code_number(number):\n",
    "        return (number + n) % 26\n",
    "        \n",
    "    for letter in message:\n",
    "        if letter not in letters:\n",
    "            coded_message += letter\n",
    "        else:\n",
    "            coded_message += number_to_letter(code_number(letter_to_number(letter)))   \n",
    "    \n",
    "    return coded_message"
   ]
  },
  {
   "cell_type": "code",
   "execution_count": 274,
   "metadata": {},
   "outputs": [
    {
     "data": {
      "text/plain": [
       "'iwxh xh bn hbpaa 456 bthhpvt!'"
      ]
     },
     "execution_count": 274,
     "metadata": {},
     "output_type": "execute_result"
    }
   ],
   "source": [
    "code_message_3('this is my small 456 message!', 15)"
   ]
  },
  {
   "cell_type": "code",
   "execution_count": 19,
   "metadata": {},
   "outputs": [],
   "source": [
    "def plot_z(z):\n",
    "    zx = z.real\n",
    "    zy = z.imag\n",
    "    \n",
    "    plt.scatter([zx],[zy])"
   ]
  },
  {
   "cell_type": "code",
   "execution_count": 289,
   "metadata": {},
   "outputs": [],
   "source": [
    "plot_z(-1-2j)"
   ]
  },
  {
   "cell_type": "code",
   "execution_count": 21,
   "metadata": {
    "collapsed": true
   },
   "outputs": [],
   "source": [
    "mylist = 'this is my list which is a list of is and is its is'.split()"
   ]
  },
  {
   "cell_type": "code",
   "execution_count": 22,
   "metadata": {},
   "outputs": [],
   "source": [
    "while 'is' in mylist:\n",
    "    mylist.remove('is')"
   ]
  },
  {
   "cell_type": "code",
   "execution_count": 23,
   "metadata": {},
   "outputs": [
    {
     "data": {
      "text/plain": [
       "['this', 'my', 'list', 'which', 'a', 'list', 'of', 'and', 'its']"
      ]
     },
     "execution_count": 23,
     "metadata": {},
     "output_type": "execute_result"
    }
   ],
   "source": [
    "mylist"
   ]
  },
  {
   "cell_type": "code",
   "execution_count": 24,
   "metadata": {},
   "outputs": [
    {
     "data": {
      "image/png": "[encoded data removed]",
      "text/latex": [
       "$$15.5884572681199$$"
      ],
      "text/plain": [
       "15.5884572681199"
      ]
     },
     "execution_count": 24,
     "metadata": {},
     "output_type": "execute_result"
    }
   ],
   "source": [
    "9*sqrt(3.0)"
   ]
  },
  {
   "cell_type": "code",
   "execution_count": 25,
   "metadata": {},
   "outputs": [
    {
     "data": {
      "image/png": "[encoded data removed]",
      "text/latex": [
       "$$6 \\sin{\\left (x \\right )} + 3 \\tan{\\left (x \\right )} \\sec{\\left (x \\right )}$$"
      ],
      "text/plain": [
       "6⋅sin(x) + 3⋅tan(x)⋅sec(x)"
      ]
     },
     "execution_count": 25,
     "metadata": {},
     "output_type": "execute_result"
    }
   ],
   "source": [
    "y = 3*sec(x) - 6*cos(x)\n",
    "yp = diff(y,x)\n",
    "yp"
   ]
  },
  {
   "cell_type": "code",
   "execution_count": 26,
   "metadata": {},
   "outputs": [
    {
     "data": {
      "image/png": "[encoded data removed]",
      "text/latex": [
       "$$9 \\sqrt{3}$$"
      ],
      "text/plain": [
       "9⋅√3"
      ]
     },
     "execution_count": 26,
     "metadata": {},
     "output_type": "execute_result"
    }
   ],
   "source": [
    "m = yp.subs({x:pi/3})\n",
    "m"
   ]
  },
  {
   "cell_type": "code",
   "execution_count": 27,
   "metadata": {},
   "outputs": [
    {
     "data": {
      "image/png": "[encoded data removed]",
      "text/latex": [
       "$$3 \\sqrt{3} \\left(3 x - \\pi\\right) + 3$$"
      ],
      "text/plain": [
       "3⋅√3⋅(3⋅x - π) + 3"
      ]
     },
     "execution_count": 27,
     "metadata": {},
     "output_type": "execute_result"
    }
   ],
   "source": [
    "yline = simplify(m*(x - pi/3) + y.subs({x:pi/3}))\n",
    "yline"
   ]
  },
  {
   "cell_type": "code",
   "execution_count": 28,
   "metadata": {},
   "outputs": [
    {
     "data": {
      "image/png": "[encoded data removed]",
      "text/latex": [
       "$$9 \\sqrt{3} x - 3 \\sqrt{3} \\pi + 3$$"
      ],
      "text/plain": [
       "9⋅√3⋅x - 3⋅√3⋅π + 3"
      ]
     },
     "execution_count": 28,
     "metadata": {},
     "output_type": "execute_result"
    }
   ],
   "source": [
    "expand(yline)"
   ]
  },
  {
   "cell_type": "code",
   "execution_count": 29,
   "metadata": {
    "collapsed": true
   },
   "outputs": [],
   "source": [
    "text = 'This is some text that I am writing so as to be able to \\\n",
    "count the total number of times a given letter occurs in this \\\n",
    "text using a dictionary to keep track of all the letters and \\\n",
    "the number of times each letter occurs'"
   ]
  },
  {
   "cell_type": "code",
   "execution_count": 30,
   "metadata": {},
   "outputs": [],
   "source": [
    "letterCount = {}\n",
    "\n",
    "for letter in text.upper():\n",
    "    letterCount.setdefault(letter,0)\n",
    "    letterCount[letter] += 1"
   ]
  },
  {
   "cell_type": "code",
   "execution_count": 31,
   "metadata": {},
   "outputs": [
    {
     "name": "stdout",
     "output_type": "stream",
     "text": [
      "{'R': 10, 'L': 7, 'C': 8, 'P': 1, 'D': 2, 'O': 13, 'E': 22, 'I': 13, 'X': 2, 'K': 2, 'W': 1, 'H': 7, 'G': 3, 'S': 12, 'V': 1, 'A': 12, 'N': 9, 'B': 4, 'F': 3, 'M': 6, 'U': 6, 'Y': 1, 'T': 28, ' ': 44}\n"
     ]
    }
   ],
   "source": [
    "print(letterCount)"
   ]
  },
  {
   "cell_type": "code",
   "execution_count": 32,
   "metadata": {
    "collapsed": true
   },
   "outputs": [],
   "source": [
    "import pprint"
   ]
  },
  {
   "cell_type": "code",
   "execution_count": 33,
   "metadata": {},
   "outputs": [
    {
     "name": "stdout",
     "output_type": "stream",
     "text": [
      "{' ': 44,\n",
      " 'A': 12,\n",
      " 'B': 4,\n",
      " 'C': 8,\n",
      " 'D': 2,\n",
      " 'E': 22,\n",
      " 'F': 3,\n",
      " 'G': 3,\n",
      " 'H': 7,\n",
      " 'I': 13,\n",
      " 'K': 2,\n",
      " 'L': 7,\n",
      " 'M': 6,\n",
      " 'N': 9,\n",
      " 'O': 13,\n",
      " 'P': 1,\n",
      " 'R': 10,\n",
      " 'S': 12,\n",
      " 'T': 28,\n",
      " 'U': 6,\n",
      " 'V': 1,\n",
      " 'W': 1,\n",
      " 'X': 2,\n",
      " 'Y': 1}\n"
     ]
    }
   ],
   "source": [
    "pprint.pprint(letterCount)"
   ]
  },
  {
   "cell_type": "code",
   "execution_count": 34,
   "metadata": {
    "collapsed": true
   },
   "outputs": [],
   "source": [
    "mylst1 = ['a', 'b', 'c']"
   ]
  },
  {
   "cell_type": "code",
   "execution_count": 35,
   "metadata": {},
   "outputs": [
    {
     "data": {
      "image/png": "[encoded data removed]",
      "text/latex": [
       "$$4585583368$$"
      ],
      "text/plain": [
       "4585583368"
      ]
     },
     "execution_count": 35,
     "metadata": {},
     "output_type": "execute_result"
    }
   ],
   "source": [
    "id(mylst1)"
   ]
  },
  {
   "cell_type": "code",
   "execution_count": 36,
   "metadata": {},
   "outputs": [
    {
     "data": {
      "image/png": "[encoded data removed]",
      "text/latex": [
       "$$4585583368$$"
      ],
      "text/plain": [
       "4585583368"
      ]
     },
     "execution_count": 36,
     "metadata": {},
     "output_type": "execute_result"
    }
   ],
   "source": [
    "mylst2 = mylst1\n",
    "id(mylst2)"
   ]
  },
  {
   "cell_type": "code",
   "execution_count": 37,
   "metadata": {},
   "outputs": [
    {
     "data": {
      "image/png": "[encoded data removed]",
      "text/latex": [
       "$$\\log{\\left (x + 1 \\right )} + \\frac{2}{3} \\operatorname{atan}{\\left (\\frac{x}{3} \\right )}$$"
      ],
      "text/plain": [
       "                   ⎛x⎞\n",
       "             2⋅atan⎜─⎟\n",
       "                   ⎝3⎠\n",
       "log(x + 1) + ─────────\n",
       "                 3    "
      ]
     },
     "execution_count": 37,
     "metadata": {},
     "output_type": "execute_result"
    }
   ],
   "source": [
    "integrate((x**2 + 2*x + 11) / ((x+1)*(x**2+9)), x)"
   ]
  },
  {
   "cell_type": "code",
   "execution_count": 39,
   "metadata": {},
   "outputs": [
    {
     "data": {
      "image/png": "[encoded data removed]",
      "text/latex": [
       "$$\\frac{x^{2} + 2.0 x + 11.0}{\\left(x + 1\\right) \\left(x^{2} + 9\\right)}$$"
      ],
      "text/plain": [
       " 2               \n",
       "x  + 2.0⋅x + 11.0\n",
       "─────────────────\n",
       "         ⎛ 2    ⎞\n",
       " (x + 1)⋅⎝x  + 9⎠"
      ]
     },
     "execution_count": 39,
     "metadata": {},
     "output_type": "execute_result"
    }
   ],
   "source": [
    "simplify(diff(log(x+1) - (2/3)*atan(3/x), x))"
   ]
  },
  {
   "cell_type": "code",
   "execution_count": 2,
   "metadata": {},
   "outputs": [
    {
     "data": {
      "image/png": "[encoded data removed]",
      "text/plain": [
       "<matplotlib.figure.Figure at 0x10f92e160>"
      ]
     },
     "metadata": {},
     "output_type": "display_data"
    },
    {
     "data": {
      "text/plain": [
       "<sympy.plotting.plot.Plot at 0x10f92a5f8>"
      ]
     },
     "execution_count": 2,
     "metadata": {},
     "output_type": "execute_result"
    }
   ],
   "source": [
    "plot(log(abs(x+1)) + (2/3)*atan(x/3), \n",
    "     log(abs(x+1)) - (2/3)*atan(3/x),\n",
    "     (x,-2,2))"
   ]
  },
  {
   "cell_type": "code",
   "execution_count": 3,
   "metadata": {},
   "outputs": [
    {
     "data": {
      "image/png": "[encoded data removed]",
      "text/plain": [
       "<matplotlib.figure.Figure at 0x111c63a20>"
      ]
     },
     "metadata": {},
     "output_type": "display_data"
    },
    {
     "data": {
      "text/plain": [
       "<sympy.plotting.plot.Plot at 0x111c51e48>"
      ]
     },
     "execution_count": 3,
     "metadata": {},
     "output_type": "execute_result"
    }
   ],
   "source": [
    "plot(x*sqrt(x-3), (x, 3, 12))"
   ]
  },
  {
   "cell_type": "code",
   "execution_count": 3,
   "metadata": {},
   "outputs": [
    {
     "data": {
      "image/png": "[encoded data removed]",
      "text/latex": [
       "$$\\frac{558 \\sqrt{3}}{5}$$"
      ],
      "text/plain": [
       "558⋅√3\n",
       "──────\n",
       "  5   "
      ]
     },
     "execution_count": 3,
     "metadata": {},
     "output_type": "execute_result"
    }
   ],
   "source": [
    "integrate(x*sqrt(x), (x, 3, 12))"
   ]
  },
  {
   "cell_type": "code",
   "execution_count": 6,
   "metadata": {},
   "outputs": [
    {
     "data": {
      "image/png": "[encoded data removed]",
      "text/latex": [
       "$$\\begin{cases} \\frac{2 x^{2}}{5} \\sqrt{2 x - 1} - \\frac{x}{15} \\sqrt{2 x - 1} - \\frac{1}{15} \\sqrt{2 x - 1} & \\text{for}\\: 2 \\left|{x}\\right| > 1 \\\\\\frac{2 i}{5} x^{2} \\sqrt{- 2 x + 1} - \\frac{i x}{15} \\sqrt{- 2 x + 1} - \\frac{i}{15} \\sqrt{- 2 x + 1} & \\text{otherwise} \\end{cases}$$"
      ],
      "text/plain": [
       "⎧       2   _________       _________     _________                    \n",
       "⎪    2⋅x ⋅╲╱ 2⋅x - 1    x⋅╲╱ 2⋅x - 1    ╲╱ 2⋅x - 1                     \n",
       "⎪    ──────────────── - ───────────── - ───────────       for 2⋅│x│ > 1\n",
       "⎪           5                 15             15                        \n",
       "⎨                                                                      \n",
       "⎪     2   __________         __________       __________               \n",
       "⎪2⋅ⅈ⋅x ⋅╲╱ -2⋅x + 1    ⅈ⋅x⋅╲╱ -2⋅x + 1    ⅈ⋅╲╱ -2⋅x + 1                \n",
       "⎪─────────────────── - ──────────────── - ──────────────    otherwise  \n",
       "⎩         5                   15                15                     "
      ]
     },
     "execution_count": 6,
     "metadata": {},
     "output_type": "execute_result"
    }
   ],
   "source": [
    "integrate(x * sqrt(2*x - 1), x)"
   ]
  },
  {
   "cell_type": "code",
   "execution_count": 12,
   "metadata": {},
   "outputs": [],
   "source": [
    "integral = integrate(x * sqrt(8 - x), x)"
   ]
  },
  {
   "cell_type": "code",
   "execution_count": 15,
   "metadata": {},
   "outputs": [
    {
     "data": {
      "image/png": "[encoded data removed]",
      "text/latex": [
       "$$\\begin{cases} \\frac{2 i}{5} x^{2} \\sqrt{x - 8} - \\frac{16 i}{15} x \\sqrt{x - 8} - \\frac{256 i}{15} \\sqrt{x - 8} & \\text{for}\\: \\frac{\\left|{x}\\right|}{8} > 1 \\\\\\frac{2 x^{2}}{5} \\sqrt{- x + 8} - \\frac{16 x}{15} \\sqrt{- x + 8} - \\frac{256}{15} \\sqrt{- x + 8} & \\text{otherwise} \\end{cases}$$"
      ],
      "text/plain": [
       "⎧     2   _______            _______           _______             \n",
       "⎪2⋅ⅈ⋅x ⋅╲╱ x - 8    16⋅ⅈ⋅x⋅╲╱ x - 8    256⋅ⅈ⋅╲╱ x - 8       │x│    \n",
       "⎪──────────────── - ──────────────── - ───────────────  for ─── > 1\n",
       "⎪       5                  15                 15             8     \n",
       "⎨                                                                  \n",
       "⎪    2   ________          ________         ________               \n",
       "⎪ 2⋅x ⋅╲╱ -x + 8    16⋅x⋅╲╱ -x + 8    256⋅╲╱ -x + 8                \n",
       "⎪ ─────────────── - ─────────────── - ──────────────     otherwise \n",
       "⎩        5                 15               15                     "
      ]
     },
     "execution_count": 15,
     "metadata": {},
     "output_type": "execute_result"
    }
   ],
   "source": [
    "integral.combsimp()"
   ]
  },
  {
   "cell_type": "code",
   "execution_count": 22,
   "metadata": {},
   "outputs": [
    {
     "data": {
      "image/png": "[encoded data removed]",
      "text/plain": [
       "<matplotlib.figure.Figure at 0x112aefb38>"
      ]
     },
     "metadata": {},
     "output_type": "display_data"
    },
    {
     "data": {
      "text/plain": [
       "<sympy.plotting.plot.Plot at 0x112aefc18>"
      ]
     },
     "execution_count": 22,
     "metadata": {},
     "output_type": "execute_result"
    }
   ],
   "source": [
    "plot(x*sqrt(8-x))"
   ]
  },
  {
   "cell_type": "code",
   "execution_count": 39,
   "metadata": {},
   "outputs": [
    {
     "data": {
      "image/png": "[encoded data removed]",
      "text/latex": [
       "$$\\begin{cases} \\frac{2 i}{5} x^{2} \\sqrt{x - 8} - \\frac{16 i}{15} x \\sqrt{x - 8} - \\frac{256 i}{15} \\sqrt{x - 8} & \\text{for}\\: \\frac{x}{8} > 1 \\\\\\frac{2 x^{2}}{5} \\sqrt{- x + 8} - \\frac{16 x}{15} \\sqrt{- x + 8} - \\frac{256}{15} \\sqrt{- x + 8} & \\text{otherwise} \\end{cases}$$"
      ],
      "text/plain": [
       "⎧     2   _______            _______           _______           \n",
       "⎪2⋅ⅈ⋅x ⋅╲╱ x - 8    16⋅ⅈ⋅x⋅╲╱ x - 8    256⋅ⅈ⋅╲╱ x - 8       x    \n",
       "⎪──────────────── - ──────────────── - ───────────────  for ─ > 1\n",
       "⎪       5                  15                 15            8    \n",
       "⎨                                                                \n",
       "⎪    2   ________          ________         ________             \n",
       "⎪ 2⋅x ⋅╲╱ -x + 8    16⋅x⋅╲╱ -x + 8    256⋅╲╱ -x + 8              \n",
       "⎪ ─────────────── - ─────────────── - ──────────────    otherwise\n",
       "⎩        5                 15               15                   "
      ]
     },
     "execution_count": 39,
     "metadata": {},
     "output_type": "execute_result"
    }
   ],
   "source": [
    "x = Symbol('x', positive=True)\n",
    "integrate(x*sqrt(8-x), x)"
   ]
  },
  {
   "cell_type": "code",
   "execution_count": 46,
   "metadata": {},
   "outputs": [],
   "source": [
    "integral = integral.args[1][0]"
   ]
  },
  {
   "cell_type": "code",
   "execution_count": 52,
   "metadata": {},
   "outputs": [
    {
     "data": {
      "image/png": "[encoded data removed]",
      "text/latex": [
       "$$18.405156262335$$"
      ],
      "text/plain": [
       "18.4051562623350"
      ]
     },
     "execution_count": 52,
     "metadata": {},
     "output_type": "execute_result"
    }
   ],
   "source": [
    "together(integral.subs('x', 4) - integral.subs('x', 0)).n()"
   ]
  },
  {
   "cell_type": "code",
   "execution_count": 18,
   "metadata": {},
   "outputs": [
    {
     "data": {
      "image/png": "[encoded data removed]",
      "text/latex": [
       "$$0.0462098120373297$$"
      ],
      "text/plain": [
       "0.0462098120373297"
      ]
     },
     "execution_count": 18,
     "metadata": {},
     "output_type": "execute_result"
    }
   ],
   "source": [
    "log(1/16.0) / -60.0"
   ]
  },
  {
   "cell_type": "code",
   "execution_count": 19,
   "metadata": {},
   "outputs": [
    {
     "data": {
      "image/png": "[encoded data removed]",
      "text/latex": [
       "$$-16.5$$"
      ],
      "text/plain": [
       "-16.5"
      ]
     },
     "execution_count": 19,
     "metadata": {},
     "output_type": "execute_result"
    }
   ],
   "source": [
    "330*-0.05"
   ]
  },
  {
   "cell_type": "code",
   "execution_count": 16,
   "metadata": {},
   "outputs": [
    {
     "data": {
      "image/png": "[encoded data removed]",
      "text/latex": [
       "$$\\frac{40 \\pi}{3}$$"
      ],
      "text/plain": [
       "40⋅π\n",
       "────\n",
       " 3  "
      ]
     },
     "execution_count": 16,
     "metadata": {},
     "output_type": "execute_result"
    }
   ],
   "source": [
    "pi*integrate(4 - (2 - sqrt(x))**2, (x,0,4))"
   ]
  },
  {
   "cell_type": "code",
   "execution_count": 18,
   "metadata": {},
   "outputs": [
    {
     "data": {
      "image/png": "[encoded data removed]",
      "text/latex": [
       "$$\\frac{40 \\pi}{3}$$"
      ],
      "text/plain": [
       "40⋅π\n",
       "────\n",
       " 3  "
      ]
     },
     "execution_count": 18,
     "metadata": {},
     "output_type": "execute_result"
    }
   ],
   "source": [
    "16*pi - pi*integrate((2-sqrt(x))**2, (x,0,4))"
   ]
  },
  {
   "cell_type": "code",
   "execution_count": 21,
   "metadata": {},
   "outputs": [
    {
     "data": {
      "image/png": "[encoded data removed]",
      "text/latex": [
       "$$\\frac{40 \\pi}{3}$$"
      ],
      "text/plain": [
       "40⋅π\n",
       "────\n",
       " 3  "
      ]
     },
     "execution_count": 21,
     "metadata": {},
     "output_type": "execute_result"
    }
   ],
   "source": [
    "16*pi - 2*pi*integrate((2-y)*y**2, (y,0,2))"
   ]
  },
  {
   "cell_type": "code",
   "execution_count": 57,
   "metadata": {},
   "outputs": [
    {
     "data": {
      "image/png": "[encoded data removed]",
      "text/latex": [
       "$$75.0172712111031$$"
      ],
      "text/plain": [
       "75.0172712111031"
      ]
     },
     "execution_count": 57,
     "metadata": {},
     "output_type": "execute_result"
    }
   ],
   "source": [
    "integrate(68 + 9*sin(pi/12 * (t-11)), (t,12,18)).n()/6"
   ]
  },
  {
   "cell_type": "code",
   "execution_count": 58,
   "metadata": {},
   "outputs": [
    {
     "data": {
      "image/png": "[encoded data removed]",
      "text/latex": [
       "$$5.428571428571429$$"
      ],
      "text/plain": [
       "5.428571428571429"
      ]
     },
     "execution_count": 58,
     "metadata": {},
     "output_type": "execute_result"
    }
   ],
   "source": [
    "38/7.0"
   ]
  },
  {
   "cell_type": "code",
   "execution_count": 59,
   "metadata": {},
   "outputs": [
    {
     "data": {
      "image/png": "[encoded data removed]",
      "text/latex": [
       "$$3245.35714285714$$"
      ],
      "text/plain": [
       "3245.35714285714"
      ]
     },
     "execution_count": 59,
     "metadata": {},
     "output_type": "execute_result"
    }
   ],
   "source": [
    "integrate(43 - 0.1*y/2.8, (y,0,78)).n()"
   ]
  },
  {
   "cell_type": "code",
   "execution_count": 60,
   "metadata": {},
   "outputs": [
    {
     "data": {
      "image/png": "[encoded data removed]",
      "text/latex": [
       "$$788823.75$$"
      ],
      "text/plain": [
       "788823.75"
      ]
     },
     "execution_count": 60,
     "metadata": {},
     "output_type": "execute_result"
    }
   ],
   "source": [
    "1.1*715**2/2 + 710*715"
   ]
  },
  {
   "cell_type": "code",
   "execution_count": 61,
   "metadata": {},
   "outputs": [
    {
     "data": {
      "image/png": "[encoded data removed]",
      "text/latex": [
       "$$13.5$$"
      ],
      "text/plain": [
       "13.5"
      ]
     },
     "execution_count": 61,
     "metadata": {},
     "output_type": "execute_result"
    }
   ],
   "source": [
    "38.5 - 25\n"
   ]
  },
  {
   "cell_type": "code",
   "execution_count": 62,
   "metadata": {},
   "outputs": [
    {
     "data": {
      "image/png": "[encoded data removed]",
      "text/latex": [
       "$$67.5$$"
      ],
      "text/plain": [
       "67.5"
      ]
     },
     "execution_count": 62,
     "metadata": {},
     "output_type": "execute_result"
    }
   ],
   "source": [
    "5*13.5"
   ]
  },
  {
   "cell_type": "code",
   "execution_count": 63,
   "metadata": {},
   "outputs": [
    {
     "data": {
      "image/png": "[encoded data removed]",
      "text/latex": [
       "$$37.5$$"
      ],
      "text/plain": [
       "37.5"
      ]
     },
     "execution_count": 63,
     "metadata": {},
     "output_type": "execute_result"
    }
   ],
   "source": [
    "75/2.0"
   ]
  },
  {
   "cell_type": "code",
   "execution_count": 64,
   "metadata": {},
   "outputs": [
    {
     "data": {
      "image/png": "[encoded data removed]",
      "text/latex": [
       "$$-18.666666666666668$$"
      ],
      "text/plain": [
       "-18.666666666666668"
      ]
     },
     "execution_count": 64,
     "metadata": {},
     "output_type": "execute_result"
    }
   ],
   "source": [
    "-16 - 24 + 64/3.0"
   ]
  },
  {
   "cell_type": "code",
   "execution_count": 65,
   "metadata": {},
   "outputs": [
    {
     "data": {
      "image/png": "[encoded data removed]",
      "text/latex": [
       "$$2.1666666666666665$$"
      ],
      "text/plain": [
       "2.1666666666666665"
      ]
     },
     "execution_count": 65,
     "metadata": {},
     "output_type": "execute_result"
    }
   ],
   "source": [
    "4 - 3/2.0 - 1/3.0"
   ]
  },
  {
   "cell_type": "code",
   "execution_count": 66,
   "metadata": {},
   "outputs": [
    {
     "data": {
      "image/png": "[encoded data removed]",
      "text/latex": [
       "$$2500.0$$"
      ],
      "text/plain": [
       "2500.00000000000"
      ]
     },
     "execution_count": 66,
     "metadata": {},
     "output_type": "execute_result"
    }
   ],
   "source": [
    "integrate(50 - 0.5*x, (x,0,100))"
   ]
  },
  {
   "cell_type": "code",
   "execution_count": 67,
   "metadata": {},
   "outputs": [
    {
     "data": {
      "image/png": "[encoded data removed]",
      "text/latex": [
       "$$5000.0$$"
      ],
      "text/plain": [
       "5000.00000000000"
      ]
     },
     "execution_count": 67,
     "metadata": {},
     "output_type": "execute_result"
    }
   ],
   "source": [
    "integrate(75-0.5*y, (y,0,100))"
   ]
  },
  {
   "cell_type": "code",
   "execution_count": 68,
   "metadata": {},
   "outputs": [
    {
     "data": {
      "image/png": "[encoded data removed]",
      "text/latex": [
       "$$0.8958333333333334$$"
      ],
      "text/plain": [
       "0.8958333333333334"
      ]
     },
     "execution_count": 68,
     "metadata": {},
     "output_type": "execute_result"
    }
   ],
   "source": [
    "21.5/24"
   ]
  },
  {
   "cell_type": "code",
   "execution_count": 69,
   "metadata": {},
   "outputs": [
    {
     "data": {
      "image/png": "[encoded data removed]",
      "text/latex": [
       "$$0.7916666666666666$$"
      ],
      "text/plain": [
       "0.7916666666666666"
      ]
     },
     "execution_count": 69,
     "metadata": {},
     "output_type": "execute_result"
    }
   ],
   "source": [
    "19/24.0"
   ]
  },
  {
   "cell_type": "code",
   "execution_count": 2,
   "metadata": {},
   "outputs": [
    {
     "data": {
      "image/png": "[encoded data removed]",
      "text/latex": [
       "$$- \\frac{\\log{\\left (x \\right )}}{3 x^{3}} - \\frac{1}{9 x^{3}}$$"
      ],
      "text/plain": [
       "  log(x)    1  \n",
       "- ────── - ────\n",
       "      3       3\n",
       "   3⋅x     9⋅x "
      ]
     },
     "execution_count": 2,
     "metadata": {},
     "output_type": "execute_result"
    }
   ],
   "source": [
    "integrate(log(x)/x**4, x)"
   ]
  },
  {
   "cell_type": "code",
   "execution_count": 3,
   "metadata": {},
   "outputs": [
    {
     "data": {
      "image/png": "[encoded data removed]",
      "text/latex": [
       "$$\\operatorname{asin}{\\left (x \\right )}$$"
      ],
      "text/plain": [
       "asin(x)"
      ]
     },
     "execution_count": 3,
     "metadata": {},
     "output_type": "execute_result"
    }
   ],
   "source": [
    "integrate(1 / sqrt(1-x**2), x)"
   ]
  },
  {
   "cell_type": "code",
   "execution_count": 4,
   "metadata": {},
   "outputs": [
    {
     "data": {
      "image/png": "[encoded data removed]",
      "text/latex": [
       "$$\\operatorname{acosh}{\\left (x \\right )}$$"
      ],
      "text/plain": [
       "acosh(x)"
      ]
     },
     "execution_count": 4,
     "metadata": {},
     "output_type": "execute_result"
    }
   ],
   "source": [
    "integrate(1 / sqrt(x**2 - 1), x)"
   ]
  },
  {
   "cell_type": "code",
   "execution_count": 5,
   "metadata": {},
   "outputs": [
    {
     "data": {
      "image/png": "[encoded data removed]",
      "text/latex": [
       "$$\\operatorname{asinh}{\\left (x \\right )}$$"
      ],
      "text/plain": [
       "asinh(x)"
      ]
     },
     "execution_count": 5,
     "metadata": {},
     "output_type": "execute_result"
    }
   ],
   "source": [
    "integrate(1 / sqrt(x**2 + 1), x)"
   ]
  },
  {
   "cell_type": "code",
   "execution_count": 7,
   "metadata": {},
   "outputs": [
    {
     "data": {
      "image/png": "[encoded data removed]",
      "text/plain": [
       "<matplotlib.figure.Figure at 0x10c171748>"
      ]
     },
     "metadata": {},
     "output_type": "display_data"
    },
    {
     "data": {
      "text/plain": [
       "<sympy.plotting.plot.Plot at 0x10f3a9208>"
      ]
     },
     "execution_count": 7,
     "metadata": {},
     "output_type": "execute_result"
    }
   ],
   "source": [
    "plot(acosh(x), (x,-2,2))"
   ]
  },
  {
   "cell_type": "code",
   "execution_count": 18,
   "metadata": {},
   "outputs": [
    {
     "data": {
      "image/png": "[encoded data removed]",
      "text/latex": [
       "$$4.28245881486164$$"
      ],
      "text/plain": [
       "4.28245881486164"
      ]
     },
     "execution_count": 18,
     "metadata": {},
     "output_type": "execute_result"
    }
   ],
   "source": [
    "x = symbols('x', positive=True)\n",
    "integrate(log(x)*sqrt(x), (x,1,4)).n()"
   ]
  },
  {
   "cell_type": "code",
   "execution_count": 15,
   "metadata": {},
   "outputs": [
    {
     "data": {
      "image/png": "[encoded data removed]",
      "text/latex": [
       "$$\\frac{x^{2}}{3} \\sin{\\left (3 x \\right )} + \\frac{2 x}{9} \\cos{\\left (3 x \\right )} - \\frac{2}{27} \\sin{\\left (3 x \\right )}$$"
      ],
      "text/plain": [
       " 2                                     \n",
       "x ⋅sin(3⋅x)   2⋅x⋅cos(3⋅x)   2⋅sin(3⋅x)\n",
       "─────────── + ──────────── - ──────────\n",
       "     3             9             27    "
      ]
     },
     "execution_count": 15,
     "metadata": {},
     "output_type": "execute_result"
    }
   ],
   "source": [
    "integrate(x**2 * cos(3*x), x)"
   ]
  },
  {
   "cell_type": "code",
   "execution_count": null,
   "metadata": {
    "collapsed": true
   },
   "outputs": [],
   "source": []
  }
 ],
 "metadata": {
  "anaconda-cloud": {},
  "hide_input": false,
  "kernelspec": {
   "display_name": "Python 3",
   "language": "python",
   "name": "python3"
  },
  "language_info": {
   "codemirror_mode": {
    "name": "ipython",
    "version": 3
   },
   "file_extension": ".py",
   "mimetype": "text/x-python",
   "name": "python",
   "nbconvert_exporter": "python",
   "pygments_lexer": "ipython3",
   "version": "3.7.1"
  },
  "latex_envs": {
   "bibliofile": "biblio.bib",
   "cite_by": "apalike",
   "current_citInitial": 1,
   "eqLabelWithNumbers": true,
   "eqNumInitial": 0
  }
 },
 "nbformat": 4,
 "nbformat_minor": 1
}
