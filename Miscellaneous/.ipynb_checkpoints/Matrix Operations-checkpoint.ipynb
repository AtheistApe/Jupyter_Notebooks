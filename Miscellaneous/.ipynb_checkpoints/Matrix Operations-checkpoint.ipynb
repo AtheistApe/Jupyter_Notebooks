{
 "cells": [
  {
   "cell_type": "code",
   "execution_count": 1,
   "metadata": {
    "collapsed": false
   },
   "outputs": [
    {
     "name": "stdout",
     "output_type": "stream",
     "text": [
      "IPython console for SymPy 0.7.6.1 (Python 2.7.8-64-bit) (ground types: python)\n",
      "\n",
      "These commands were executed:\n",
      ">>> from __future__ import division\n",
      ">>> from sympy import *\n",
      ">>> x, y, z, t = symbols('x y z t')\n",
      ">>> k, m, n = symbols('k m n', integer=True)\n",
      ">>> f, g, h = symbols('f g h', cls=Function)\n",
      ">>> init_printing()\n",
      "\n",
      "Documentation can be found at http://www.sympy.org\n"
     ]
    },
    {
     "name": "stderr",
     "output_type": "stream",
     "text": [
      "/Users/gary/anaconda/lib/python2.7/site-packages/matplotlib/font_manager.py:273: UserWarning: Matplotlib is building the font cache using fc-list. This may take a moment.\n",
      "  warnings.warn('Matplotlib is building the font cache using fc-list. This may take a moment.')\n"
     ]
    }
   ],
   "source": [
    "from sympy import init_session\n",
    "init_session()"
   ]
  },
  {
   "cell_type": "code",
   "execution_count": 8,
   "metadata": {
    "collapsed": false
   },
   "outputs": [],
   "source": [
    "M = Matrix(\n",
    "    [[1, 2, -1, 0, 3, 5],\n",
    "    [2, 1, -2, 3, 1, 4],\n",
    "    [-1, 3, 2, 2, 1, 0]])"
   ]
  },
  {
   "cell_type": "code",
   "execution_count": 9,
   "metadata": {
    "collapsed": false
   },
   "outputs": [
    {
     "data": {
      "image/png": "[encoded data removed]",
      "text/latex": [
       "$$\\left ( \\left[\\begin{matrix}1 & 0 & 0 & 9 & - \\frac{14}{3} & -4\\\\0 & 1 & 0 & -1 & \\frac{5}{3} & 2\\\\0 & 0 & 1 & 7 & - \\frac{13}{3} & -5\\end{matrix}\\right], \\quad \\left [ 0, \\quad 1, \\quad 2\\right ]\\right )$$"
      ],
      "text/plain": [
       "⎛⎡1  0  0  9   -14/3  -4⎤, [0, 1, 2]⎞\n",
       "⎜⎢                      ⎥           ⎟\n",
       "⎜⎢0  1  0  -1   5/3   2 ⎥           ⎟\n",
       "⎜⎢                      ⎥           ⎟\n",
       "⎝⎣0  0  1  7   -13/3  -5⎦           ⎠"
      ]
     },
     "execution_count": 9,
     "metadata": {},
     "output_type": "execute_result"
    }
   ],
   "source": [
    "M.rref()"
   ]
  },
  {
   "cell_type": "code",
   "execution_count": 10,
   "metadata": {
    "collapsed": false
   },
   "outputs": [
    {
     "data": {
      "image/png": "[encoded data removed]",
      "text/latex": [
       "$$\\left [ \\left[\\begin{matrix}-9\\\\1\\\\-7\\\\1\\\\0\\\\0\\end{matrix}\\right], \\quad \\left[\\begin{matrix}\\frac{14}{3}\\\\- \\frac{5}{3}\\\\\\frac{13}{3}\\\\0\\\\1\\\\0\\end{matrix}\\right], \\quad \\left[\\begin{matrix}4\\\\-2\\\\5\\\\0\\\\0\\\\1\\end{matrix}\\right]\\right ]$$"
      ],
      "text/plain": [
       "⎡⎡-9⎤, ⎡14/3⎤, ⎡4 ⎤⎤\n",
       "⎢⎢  ⎥  ⎢    ⎥  ⎢  ⎥⎥\n",
       "⎢⎢1 ⎥  ⎢-5/3⎥  ⎢-2⎥⎥\n",
       "⎢⎢  ⎥  ⎢    ⎥  ⎢  ⎥⎥\n",
       "⎢⎢-7⎥  ⎢13/3⎥  ⎢5 ⎥⎥\n",
       "⎢⎢  ⎥  ⎢    ⎥  ⎢  ⎥⎥\n",
       "⎢⎢1 ⎥  ⎢ 0  ⎥  ⎢0 ⎥⎥\n",
       "⎢⎢  ⎥  ⎢    ⎥  ⎢  ⎥⎥\n",
       "⎢⎢0 ⎥  ⎢ 1  ⎥  ⎢0 ⎥⎥\n",
       "⎢⎢  ⎥  ⎢    ⎥  ⎢  ⎥⎥\n",
       "⎣⎣0 ⎦  ⎣ 0  ⎦  ⎣1 ⎦⎦"
      ]
     },
     "execution_count": 10,
     "metadata": {},
     "output_type": "execute_result"
    }
   ],
   "source": [
    "M.nullspace()"
   ]
  },
  {
   "cell_type": "code",
   "execution_count": 12,
   "metadata": {
    "collapsed": false
   },
   "outputs": [],
   "source": [
    "M.nullspace?"
   ]
  },
  {
   "cell_type": "code",
   "execution_count": null,
   "metadata": {
    "collapsed": true
   },
   "outputs": [],
   "source": []
  }
 ],
 "metadata": {
  "kernelspec": {
   "display_name": "Python 2",
   "language": "python",
   "name": "python2"
  },
  "language_info": {
   "codemirror_mode": {
    "name": "ipython",
    "version": 2
   },
   "file_extension": ".py",
   "mimetype": "text/x-python",
   "name": "python",
   "nbconvert_exporter": "python",
   "pygments_lexer": "ipython2",
   "version": "2.7.8"
  }
 },
 "nbformat": 4,
 "nbformat_minor": 0
}
