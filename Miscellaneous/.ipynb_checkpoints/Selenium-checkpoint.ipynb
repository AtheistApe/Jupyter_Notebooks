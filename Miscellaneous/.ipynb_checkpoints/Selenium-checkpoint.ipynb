{
 "cells": [
  {
   "cell_type": "code",
   "execution_count": 57,
   "metadata": {
    "collapsed": false
   },
   "outputs": [],
   "source": [
    "from selenium import webdriver\n",
    "browser = webdriver.Firefox()\n",
    "\n",
    "browser.get('http://webwork.smccd.edu/webwork2/CSM_M252Church/')\n",
    "\n",
    "uname = browser.find_element_by_css_selector('#uname')\n",
    "uname.send_keys('church')\n",
    "\n",
    "passwd = browser.find_element_by_css_selector('#pswd')\n",
    "passwd.send_keys('building15128')\n",
    "\n",
    "submit = browser.find_element_by_css_selector('#none')\n",
    "submit.click()\n",
    "\n",
    "# score_tools = browser.find_element_by_css_selector('#site-links > ul:nth-child(1) > li:nth-child(7) > ul:nth-child(1) > li:nth-child(6) > a:nth-child(1)')\n",
    "# score_tools.click()\n",
    "\n",
    "# pad_fields = browser.find_element_by_css_selector('label.checkbox:nth-child(5)')\n",
    "# pad_fields.click()"
   ]
  },
  {
   "cell_type": "code",
   "execution_count": 58,
   "metadata": {
    "collapsed": true
   },
   "outputs": [],
   "source": [
    "score_tools = browser.find_element_by_css_selector('#site-links > ul:nth-child(1) > li:nth-child(7) > ul:nth-child(1) > li:nth-child(6) > a:nth-child(1)')"
   ]
  },
  {
   "cell_type": "code",
   "execution_count": 59,
   "metadata": {
    "collapsed": true
   },
   "outputs": [],
   "source": [
    "score_tools.click()"
   ]
  },
  {
   "cell_type": "code",
   "execution_count": 60,
   "metadata": {
    "collapsed": false
   },
   "outputs": [],
   "source": [
    "element = browser.find_element_by_xpath(\"//select[@name='selectedSet']\")"
   ]
  },
  {
   "cell_type": "code",
   "execution_count": 61,
   "metadata": {
    "collapsed": true
   },
   "outputs": [],
   "source": [
    "all_options = element.find_elements_by_tag_name('option')"
   ]
  },
  {
   "cell_type": "code",
   "execution_count": 62,
   "metadata": {
    "collapsed": false
   },
   "outputs": [
    {
     "name": "stdout",
     "output_type": "stream",
     "text": [
      "Value is: 0\n",
      "Value is: Ch11_sec_1_to_6_review\n",
      "Value is: Ch11_sec_6_to_10_review\n",
      "Value is: Ch11_sec_8_to_10_review\n",
      "Value is: Ch5_Review\n",
      "Value is: Ch_6_Review\n",
      "Value is: Ch_7_Review\n",
      "Value is: Ch_7_Review_v2\n",
      "Value is: Chapter_11_sec_1_to_5_review\n",
      "Value is: Chapter_9\n",
      "Value is: Demo\n",
      "Value is: FXmReview\n",
      "Value is: Final_Exam_Review\n",
      "Value is: MAAtutorial\n",
      "Value is: MyOwnProblemsSet\n",
      "Value is: Orientation\n",
      "Value is: SampleSet\n",
      "Value is: Section_10.1\n",
      "Value is: Section_10.2\n",
      "Value is: Section_10.3\n",
      "Value is: Section_10.4\n",
      "Value is: Section_10.5\n",
      "Value is: Section_11.1\n",
      "Value is: Section_11.10\n",
      "Value is: Section_11.2\n",
      "Value is: Section_11.3\n",
      "Value is: Section_11.4\n",
      "Value is: Section_11.5\n",
      "Value is: Section_11.6\n",
      "Value is: Section_11.7\n",
      "Value is: Section_11.8\n",
      "Value is: Section_11.9\n",
      "Value is: Section_11.9_extra\n",
      "Value is: Section_5.1\n",
      "Value is: Section_5.2\n",
      "Value is: Section_5.2_pt2\n",
      "Value is: Section_5.2_pt3\n",
      "Value is: Section_5.3\n",
      "Value is: Section_5.4\n",
      "Value is: Section_5.5\n",
      "Value is: Section_6.1\n",
      "Value is: Section_6.2\n",
      "Value is: Section_6.3\n",
      "Value is: Section_6.4\n",
      "Value is: Section_6.5\n",
      "Value is: Section_7.1\n",
      "Value is: Section_7.2\n",
      "Value is: Section_7.3\n",
      "Value is: Section_7.4\n",
      "Value is: Section_7.5\n",
      "Value is: Section_7.7\n",
      "Value is: Section_7.8\n"
     ]
    }
   ],
   "source": [
    "for option in all_options:\n",
    "    print(\"Value is: {}\".format(option.get_attribute(\"value\")))\n",
    "    option.click()"
   ]
  },
  {
   "cell_type": "code",
   "execution_count": 63,
   "metadata": {
    "collapsed": true
   },
   "outputs": [],
   "source": [
    "file_name = browser.find_element_by_name('scoringFileName')"
   ]
  },
  {
   "cell_type": "code",
   "execution_count": 64,
   "metadata": {
    "collapsed": true
   },
   "outputs": [],
   "source": [
    "file_name.clear()"
   ]
  },
  {
   "cell_type": "code",
   "execution_count": 65,
   "metadata": {
    "collapsed": true
   },
   "outputs": [],
   "source": [
    "file_name.send_keys('homework_grades')"
   ]
  },
  {
   "cell_type": "code",
   "execution_count": null,
   "metadata": {
    "collapsed": true
   },
   "outputs": [],
   "source": []
  }
 ],
 "metadata": {
  "anaconda-cloud": {},
  "hide_input": false,
  "kernelspec": {
   "display_name": "Python [default]",
   "language": "python",
   "name": "python3"
  },
  "language_info": {
   "codemirror_mode": {
    "name": "ipython",
    "version": 3
   },
   "file_extension": ".py",
   "mimetype": "text/x-python",
   "name": "python",
   "nbconvert_exporter": "python",
   "pygments_lexer": "ipython3",
   "version": "3.5.2"
  },
  "latex_envs": {
   "bibliofile": "biblio.bib",
   "cite_by": "apalike",
   "current_citInitial": 1,
   "eqLabelWithNumbers": true,
   "eqNumInitial": 0
  }
 },
 "nbformat": 4,
 "nbformat_minor": 1
}
