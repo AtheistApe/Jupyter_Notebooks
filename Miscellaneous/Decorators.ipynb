{
 "cells": [
  {
   "cell_type": "code",
   "execution_count": 5,
   "metadata": {
    "collapsed": true
   },
   "outputs": [],
   "source": [
    "# Example 1: This decorator works on functions which expect a file as input. If the\n",
    "# file exists, the function acts on the input file as expected. If the file does\n",
    "# not exist, a message to that effect is printed.\n",
    "\n",
    "import os\n",
    "\n",
    "def Exists(oldFunc):\n",
    "    def inside(filename):\n",
    "        if (os.path.exists(filename)):\n",
    "            oldFunc(filename)\n",
    "        else:\n",
    "            print('file {} does not exist'.format(filename))\n",
    "            \n",
    "    return inside"
   ]
  },
  {
   "cell_type": "code",
   "execution_count": 13,
   "metadata": {
    "collapsed": false
   },
   "outputs": [
    {
     "name": "stdout",
     "output_type": "stream",
     "text": [
      "['I--DOWN THE RABBIT-HOLE\\n', '\\n', 'Alice was beginning to get very tired of sitting by her sister on the\\n', 'bank, and of having nothing to do. Once or twice she had peeped into the\\n', 'book her sister was reading, but it had no pictures or conversations in\\n', 'it, \"and what is the use of a book,\" thought Alice, \"without pictures or\\n', 'conversations?\"\\n']\n"
     ]
    }
   ],
   "source": [
    "# Here's a function we will decorate with the 'Exists' decorator.\n",
    "\n",
    "def outputline(file):\n",
    "    with open(file) as f:\n",
    "        print(f.readlines())\n",
    "        \n",
    "outputline('./sometext.txt')"
   ]
  },
  {
   "cell_type": "code",
   "execution_count": 14,
   "metadata": {
    "collapsed": false
   },
   "outputs": [
    {
     "name": "stdout",
     "output_type": "stream",
     "text": [
      "['I--DOWN THE RABBIT-HOLE\\n', '\\n', 'Alice was beginning to get very tired of sitting by her sister on the\\n', 'bank, and of having nothing to do. Once or twice she had peeped into the\\n', 'book her sister was reading, but it had no pictures or conversations in\\n', 'it, \"and what is the use of a book,\" thought Alice, \"without pictures or\\n', 'conversations?\"\\n']\n"
     ]
    }
   ],
   "source": [
    "# We can call the decorator directly on 'outputline' by passing it into the\n",
    "# 'Exists' function. Since 'Exists' returns a function, we store its result in\n",
    "# a variable and pass a file as an argument into that 'function variable'. First\n",
    "# we pass into our decorated function an existant file; The decorated function\n",
    "# behaves exactly as the undecorated passed in function.\n",
    "\n",
    "func = Exists(outputline)\n",
    "func('./sometext.txt')"
   ]
  },
  {
   "cell_type": "code",
   "execution_count": 15,
   "metadata": {
    "collapsed": false
   },
   "outputs": [
    {
     "name": "stdout",
     "output_type": "stream",
     "text": [
      "file ./nonexistantfile.txt does not exist\n"
     ]
    }
   ],
   "source": [
    "# Next we pass in a nonexistant file into the decorated function. This time our\n",
    "# decorator acts to inform us that the file doesn't exist.\n",
    "\n",
    "func('./nonexistantfile.txt')"
   ]
  },
  {
   "cell_type": "code",
   "execution_count": 16,
   "metadata": {
    "collapsed": true
   },
   "outputs": [],
   "source": [
    "# A cleaner way of decorating a function, rather than passing the function to\n",
    "# be decorated into the decorator 'Exists' as an argument is to prepend '@Exists'\n",
    "# on the line immediately before the line defining the function.\n",
    "\n",
    "@Exists\n",
    "def outputline(file):\n",
    "    with open(file) as f:\n",
    "        print(f.readlines())"
   ]
  },
  {
   "cell_type": "code",
   "execution_count": 17,
   "metadata": {
    "collapsed": false
   },
   "outputs": [
    {
     "name": "stdout",
     "output_type": "stream",
     "text": [
      "['I--DOWN THE RABBIT-HOLE\\n', '\\n', 'Alice was beginning to get very tired of sitting by her sister on the\\n', 'bank, and of having nothing to do. Once or twice she had peeped into the\\n', 'book her sister was reading, but it had no pictures or conversations in\\n', 'it, \"and what is the use of a book,\" thought Alice, \"without pictures or\\n', 'conversations?\"\\n']\n"
     ]
    }
   ],
   "source": [
    "outputline('./sometext.txt')"
   ]
  },
  {
   "cell_type": "code",
   "execution_count": 18,
   "metadata": {
    "collapsed": false
   },
   "outputs": [
    {
     "name": "stdout",
     "output_type": "stream",
     "text": [
      "file ./nonexistantfile.txt does not exist\n"
     ]
    }
   ],
   "source": [
    "outputline('./nonexistantfile.txt')"
   ]
  },
  {
   "cell_type": "code",
   "execution_count": 1,
   "metadata": {
    "collapsed": true
   },
   "outputs": [],
   "source": [
    "# Example 2: This decorator prints the arguments and keyword arguments of a function\n",
    "# before running the function with those arguments.\n",
    "\n",
    "def printArgs(oldFunc):\n",
    "    def inside(*args, **kwargs):\n",
    "        print('args: {}, kwargs: {}'.format(args, kwargs))\n",
    "        return oldFunc(*args, **kwargs)\n",
    "    return inside"
   ]
  },
  {
   "cell_type": "code",
   "execution_count": 2,
   "metadata": {
    "collapsed": false
   },
   "outputs": [
    {
     "name": "stdout",
     "output_type": "stream",
     "text": [
      "args: (3, 4), kwargs: {}\n"
     ]
    },
    {
     "data": {
      "text/plain": [
       "12"
      ]
     },
     "execution_count": 2,
     "metadata": {},
     "output_type": "execute_result"
    }
   ],
   "source": [
    "@printArgs\n",
    "def mult(x, y):\n",
    "    return x*y\n",
    "\n",
    "mult(3,4)"
   ]
  },
  {
   "cell_type": "code",
   "execution_count": 4,
   "metadata": {
    "collapsed": false
   },
   "outputs": [
    {
     "name": "stdout",
     "output_type": "stream",
     "text": [
      "args: (2, 3), kwargs: {}\n",
      "6\n"
     ]
    }
   ],
   "source": [
    "print(mult(2, 3))"
   ]
  },
  {
   "cell_type": "code",
   "execution_count": 23,
   "metadata": {
    "collapsed": true
   },
   "outputs": [],
   "source": [
    "# Example 3: This decorator will wrap text in html tags\n",
    "\n",
    "def addtags(*tags):\n",
    "    def decorator(oldfunc):\n",
    "        def inside(*args, **kwargs):\n",
    "            code = oldfunc(*args, **kwargs)\n",
    "            for tag in reversed(tags):\n",
    "                code = '<{0}>{1}</{0}>'.format(tag, code)\n",
    "            return code\n",
    "        return inside\n",
    "    return decorator"
   ]
  },
  {
   "cell_type": "code",
   "execution_count": 24,
   "metadata": {
    "collapsed": false
   },
   "outputs": [
    {
     "data": {
      "text/plain": [
       "'<p><i><b>Welcome Gary to my webpage!</b></i></p>'"
      ]
     },
     "execution_count": 24,
     "metadata": {},
     "output_type": "execute_result"
    }
   ],
   "source": [
    "# The decorated function\n",
    "\n",
    "@addtags('p', 'i', 'b')\n",
    "def welcome(name):\n",
    "    return \"Welcome {} to my webpage!\".format(name)\n",
    "\n",
    "welcome('Gary')"
   ]
  },
  {
   "cell_type": "code",
   "execution_count": null,
   "metadata": {
    "collapsed": true
   },
   "outputs": [],
   "source": []
  }
 ],
 "metadata": {
  "anaconda-cloud": {},
  "hide_input": false,
  "kernelspec": {
   "display_name": "Python [conda root]",
   "language": "python",
   "name": "conda-root-py"
  },
  "language_info": {
   "codemirror_mode": {
    "name": "ipython",
    "version": 3
   },
   "file_extension": ".py",
   "mimetype": "text/x-python",
   "name": "python",
   "nbconvert_exporter": "python",
   "pygments_lexer": "ipython3",
   "version": "3.5.2"
  },
  "latex_envs": {
   "bibliofile": "biblio.bib",
   "cite_by": "apalike",
   "current_citInitial": 1,
   "eqLabelWithNumbers": true,
   "eqNumInitial": 0
  }
 },
 "nbformat": 4,
 "nbformat_minor": 1
}
