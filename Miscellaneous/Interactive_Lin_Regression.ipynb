{
 "cells": [
  {
   "cell_type": "code",
   "execution_count": 1,
   "metadata": {},
   "outputs": [
    {
     "name": "stdout",
     "output_type": "stream",
     "text": [
      "ipywidgets version 7.5.1\n",
      "bqplot version 0.12.2\n"
     ]
    }
   ],
   "source": [
    "from bqplot import *\n",
    "import bqplot.marks as bqm\n",
    "import bqplot.scales as bqs\n",
    "import bqplot.axes as bqa\n",
    "import numpy as np\n",
    "import bqplot as bq\n",
    "from IPython.display import display\n",
    "import ipywidgets as widgets\n",
    "\n",
    "print('ipywidgets version', widgets.__version__)\n",
    "print('bqplot version', bq.__version__)"
   ]
  },
  {
   "cell_type": "code",
   "execution_count": 5,
   "metadata": {},
   "outputs": [
    {
     "data": {
      "application/vnd.jupyter.widget-view+json": {
       "model_id": "3fd7f499c9f74897b65bad0577c73e17",
       "version_major": 2,
       "version_minor": 0
      },
      "text/plain": [
       "VBox(children=(Label(value='y = 0.08 + 0.11x'), Figure(axes=[Axis(scale=LinearScale()), Axis(orientation='vert…"
      ]
     },
     "metadata": {},
     "output_type": "display_data"
    }
   ],
   "source": [
    "def update_line(change):\n",
    "    # create line fit to data and display equation\n",
    "    lin.x = [np.min(scat.x), np.max(scat.x)]\n",
    "    poly = np.polyfit(scat.x, scat.y, 1)\n",
    "    lin.y = np.polyval(poly, lin.x)\n",
    "    label.value = 'y = {:.2f} + {:.2f}x'.format(poly[1], poly[0])   \n",
    "    \n",
    "# create initial data set\n",
    "size = 100\n",
    "np.random.seed(0)\n",
    "x_data = np.random.randn(size) \n",
    "y_data = np.random.randn(size) \n",
    "\n",
    "# set up plot elements\n",
    "sc_x = bqs.LinearScale()\n",
    "sc_y = bqs.LinearScale()\n",
    "ax_x = bqa.Axis(scale=sc_x)\n",
    "ax_y = bqa.Axis(scale=sc_y, tick_format='0.2f', orientation='vertical')\n",
    "\n",
    "# place data on scatter plot that allows point dragging\n",
    "scat = bqm.Scatter(x=x_data, \n",
    "                   y=y_data, \n",
    "                   scales={'x': sc_x, 'y': sc_y}, \n",
    "                   enable_move=True)\n",
    "# set up callback\n",
    "scat.observe(update_line, names=['x', 'y'])\n",
    "\n",
    "# linear fit line\n",
    "lin = bqm.Lines(scales={'x': sc_x, 'y': sc_y})\n",
    "# equation label\n",
    "label = widgets.Label()\n",
    "# containers\n",
    "fig = bq.Figure(marks=[scat, lin], axes=[ax_x, ax_y])\n",
    "box = widgets.VBox([label, fig])\n",
    "\n",
    "# initialize plot and equation and display\n",
    "update_line(None)\n",
    "display(box)"
   ]
  },
  {
   "cell_type": "code",
   "execution_count": 11,
   "metadata": {},
   "outputs": [
    {
     "data": {
      "application/vnd.jupyter.widget-view+json": {
       "model_id": "9fcf1865d19849e28149a63f77662b19",
       "version_major": 2,
       "version_minor": 0
      },
      "text/plain": [
       "Figure(axes=[Axis(scale=LinearScale()), Axis(orientation='vertical', scale=LinearScale(), tick_format='0.2f')]…"
      ]
     },
     "metadata": {},
     "output_type": "display_data"
    }
   ],
   "source": [
    "bq.Figure(marks=[scat, lin], axes=[ax_x, ax_y])"
   ]
  },
  {
   "cell_type": "code",
   "execution_count": 5,
   "metadata": {},
   "outputs": [
    {
     "data": {
      "text/plain": [
       "Scatter(colors=['steelblue'], enable_move=True, interactions={'hover': 'tooltip'}, scales={'x': LinearScale(), 'y': LinearScale()}, scales_metadata={'x': {'orientation': 'horizontal', 'dimension': 'x'}, 'y': {'orientation': 'vertical', 'dimension': 'y'}, 'color': {'dimension': 'color'}, 'size': {'dimension': 'size'}, 'opacity': {'dimension': 'opacity'}, 'rotation': {'dimension': 'rotation'}, 'skew': {'dimension': 'skew'}}, tooltip_style={'opacity': 0.9}, x=array([ 1.76405235,  0.40015721,  0.97873798,  2.2408932 ,  1.86755799,\n",
       "       -0.97727788,  0.95008842, -0.15135721, -0.10321885,  0.4105985 ]), y=array([ 0.14404357,  1.45427351,  0.76103773,  0.12167502,  0.44386323,\n",
       "        0.33367433,  1.49407907, -0.20515826,  0.3130677 , -0.85409574]))"
      ]
     },
     "execution_count": 5,
     "metadata": {},
     "output_type": "execute_result"
    }
   ],
   "source": [
    "scat"
   ]
  },
  {
   "cell_type": "code",
   "execution_count": 6,
   "metadata": {},
   "outputs": [
    {
     "data": {
      "text/plain": [
       "Scatter(colors=['steelblue'], enable_move=True, interactions={'hover': 'tooltip'}, scales={'x': LinearScale(), 'y': LinearScale()}, scales_metadata={'x': {'orientation': 'horizontal', 'dimension': 'x'}, 'y': {'orientation': 'vertical', 'dimension': 'y'}, 'color': {'dimension': 'color'}, 'size': {'dimension': 'size'}, 'opacity': {'dimension': 'opacity'}, 'rotation': {'dimension': 'rotation'}, 'skew': {'dimension': 'skew'}}, tooltip_style={'opacity': 0.9}, x=array([ 1.76405235,  0.40015721,  0.97873798,  2.2408932 ,  1.86755799,\n",
       "       -0.97727788,  0.95008842, -0.15135721, -0.10321885,  0.4105985 ]), y=array([ 0.14404357,  1.45427351,  0.76103773,  0.12167502,  0.44386323,\n",
       "        0.33367433,  1.49407907, -0.20515826,  0.3130677 , -0.85409574]))"
      ]
     },
     "metadata": {},
     "output_type": "display_data"
    }
   ],
   "source": [
    "display(scat)"
   ]
  },
  {
   "cell_type": "code",
   "execution_count": null,
   "metadata": {},
   "outputs": [],
   "source": []
  }
 ],
 "metadata": {
  "kernelspec": {
   "display_name": "Python 3",
   "language": "python",
   "name": "python3"
  },
  "language_info": {
   "codemirror_mode": {
    "name": "ipython",
    "version": 3
   },
   "file_extension": ".py",
   "mimetype": "text/x-python",
   "name": "python",
   "nbconvert_exporter": "python",
   "pygments_lexer": "ipython3",
   "version": "3.7.6"
  }
 },
 "nbformat": 4,
 "nbformat_minor": 4
}
